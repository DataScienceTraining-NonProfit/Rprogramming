{
 "cells": [
  {
   "cell_type": "markdown",
   "metadata": {
    "collapsed": true
   },
   "source": [
    "## Session on: 30-05-2018"
   ]
  },
  {
   "cell_type": "code",
   "execution_count": null,
   "metadata": {},
   "outputs": [],
   "source": [
    "library(party)\n",
    "library(partykit)\n",
    "df <- data.frame(x=rep(c(\"yes\",\"no\"),each=200),y=rep(c(20,30),each=200),z=sample(400))\n",
    "View(df)\n",
    "train <- sample(1:nrow(df), 0.7*nrow(df))\n",
    "test <- df[-train,]  # test data\n",
    "train <- df[train,]  # training data\n",
    "tree <- ctree(x ~.,data = train)\n",
    "plot(tree)\n",
    "plot(tree, type='simple')\n",
    "\n",
    "###\n",
    "df <- data.frame(x=rep(c(\"yes\",\"no\",\"zero\"),each=200),y=rep(c(20,30),each=150),z=sample(30))\n",
    "View(df)\n",
    "train <- sample(1:nrow(df), 0.7*nrow(df))\n",
    "test <- df[-train,]  # test data\n",
    "train <- df[train,]  # training data\n",
    "tree <- ctree(x ~.,data = train)\n",
    "plot(tree)\n",
    "plot(tree, type='simple')\n",
    "###\n",
    "df[df$x=='zero'&df$z<=5,]$y=5\n",
    "View(df)\n",
    "train <- sample(1:nrow(df), 0.7*nrow(df))\n",
    "test <- df[-train,]  # test data\n",
    "train <- df[train,]  # training data\n",
    "tree <- ctree(x ~.,data = train)\n",
    "plot(tree)\n",
    "plot(tree, type='simple')\n",
    "###\n",
    "df[df$x=='yes'&df$y==20,]$z=-1:-30\n",
    "View(df)\n",
    "train <- sample(1:nrow(df), 0.7*nrow(df))\n",
    "test <- df[-train,]  # test data\n",
    "train <- df[train,]  # training data\n",
    "tree <- ctree(x ~.,data = train)\n",
    "plot(tree)\n",
    "plot(tree, type='simple')\n",
    "\n",
    "############testing and evaluation################\n",
    "\n",
    "predict(tree, train, type = 'prob')\n",
    "\n",
    "# Misclassification error - train data\n",
    "p1 <- predict(tree, train)\n",
    "tab1 <- table(Predicted = p1, Actual = train$z)\n",
    "tab1\n",
    "1 - sum(diag(tab1))/sum(tab1)\n",
    "\n",
    "# Misclassification error - test data\n",
    "p2 <- predict(tree, test)\n",
    "tab2 <- table(Predicted = p2, Actual = test$z)\n",
    "tab2\n",
    "1 - sum(diag(tab2))/sum(tab2)"
   ]
  }
 ],
 "metadata": {
  "kernelspec": {
   "display_name": "R",
   "language": "R",
   "name": "r"
  },
  "language_info": {
   "codemirror_mode": "r",
   "file_extension": ".r",
   "mimetype": "text/x-r-source",
   "name": "R",
   "pygments_lexer": "r",
   "version": "3.4.1"
  }
 },
 "nbformat": 4,
 "nbformat_minor": 2
}
