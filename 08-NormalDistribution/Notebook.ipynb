{
  "cells": [
    {
      "metadata": {
        "slideshow": {
          "slide_type": "slide"
        },
        "toc": true
      },
      "cell_type": "markdown",
      "source": "<h1>Table of Contents<span class=\"tocSkip\"></span></h1>\n<div class=\"toc\"><ul class=\"toc-item\"><li><span><a href=\"#Normal-Distribution-(Gaussian-or-Bell-Curve)\" data-toc-modified-id=\"Normal-Distribution-(Gaussian-or-Bell-Curve)-1\"><span class=\"toc-item-num\">1&nbsp;&nbsp;</span>Normal Distribution (Gaussian or Bell Curve)</a></span></li><li><span><a href=\"#Emperical-Rule\" data-toc-modified-id=\"Emperical-Rule-2\"><span class=\"toc-item-num\">2&nbsp;&nbsp;</span>Emperical Rule</a></span></li><li><span><a href=\"#Working-with-normal-distribution-in-R\" data-toc-modified-id=\"Working-with-normal-distribution-in-R-3\"><span class=\"toc-item-num\">3&nbsp;&nbsp;</span>Working with normal distribution in R</a></span></li><li><span><a href=\"#Normal-Distributions-Calculations\" data-toc-modified-id=\"Normal-Distributions-Calculations-4\"><span class=\"toc-item-num\">4&nbsp;&nbsp;</span>Normal Distributions Calculations</a></span></li><li><span><a href=\"#Standard-Normal-Distribution\" data-toc-modified-id=\"Standard-Normal-Distribution-5\"><span class=\"toc-item-num\">5&nbsp;&nbsp;</span>Standard Normal Distribution</a></span></li><li><span><a href=\"#Normalization-(z-transformation)\" data-toc-modified-id=\"Normalization-(z-transformation)-6\"><span class=\"toc-item-num\">6&nbsp;&nbsp;</span>Normalization (z-transformation)</a></span></li></ul></div>"
    },
    {
      "metadata": {
        "run_control": {
          "frozen": false,
          "read_only": false
        },
        "slideshow": {
          "slide_type": "slide"
        }
      },
      "cell_type": "markdown",
      "source": "## Normal Distribution (Gaussian or Bell Curve)"
    },
    {
      "metadata": {
        "slideshow": {
          "slide_type": "subslide"
        }
      },
      "cell_type": "raw",
      "source": "The normal distribution is defined by the following probability density function, where μ is the population mean and σ2 is the variance.\n\nf(x) =-√1--e-(x-μ)2∕2σ2\n      σ  2π\nIf a random variable X follows the normal distribution, then we write:\n\n          2\nX ~ N (μ,σ )\n"
    },
    {
      "metadata": {
        "slideshow": {
          "slide_type": "subslide"
        }
      },
      "cell_type": "raw",
      "source": "Ex:  \n* heights of people  \n* errors in measurements  \n* blood pressure  \n* Body temperature\n* marks on a test\n* IQ scores\n* Weights and sizes of thing produced by a machine"
    },
    {
      "metadata": {
        "slideshow": {
          "slide_type": "subslide"
        }
      },
      "cell_type": "markdown",
      "source": "![Imgur](https://i.imgur.com/3tnc1Tl.png?1)"
    },
    {
      "metadata": {
        "slideshow": {
          "slide_type": "subslide"
        }
      },
      "cell_type": "markdown",
      "source": "![Imgur](https://i.imgur.com/3f9pBU2.png?2)"
    },
    {
      "metadata": {
        "slideshow": {
          "slide_type": "subslide"
        }
      },
      "cell_type": "markdown",
      "source": "![Imgur](https://i.imgur.com/VbPiUVp.png?2)"
    },
    {
      "metadata": {
        "slideshow": {
          "slide_type": "subslide"
        }
      },
      "cell_type": "markdown",
      "source": "![Imgur](https://i.imgur.com/4z6nyXU.jpg?1)"
    },
    {
      "metadata": {
        "slideshow": {
          "slide_type": "subslide"
        }
      },
      "cell_type": "markdown",
      "source": "![Imgur](https://i.imgur.com/kR69mbU.png?1)"
    },
    {
      "metadata": {
        "slideshow": {
          "slide_type": "slide"
        }
      },
      "cell_type": "markdown",
      "source": "## Emperical Rule"
    },
    {
      "metadata": {
        "slideshow": {
          "slide_type": "subslide"
        }
      },
      "cell_type": "markdown",
      "source": "![Imgur](https://i.imgur.com/ia21NMI.png?1)"
    },
    {
      "metadata": {
        "slideshow": {
          "slide_type": "slide"
        }
      },
      "cell_type": "markdown",
      "source": "## Working with normal distribution in R"
    },
    {
      "metadata": {
        "slideshow": {
          "slide_type": "subslide"
        }
      },
      "cell_type": "markdown",
      "source": "In a random collection of data from independent sources, it is generally observed that the distribution of data is normal. Which means, on plotting a graph with the value of the variable in the horizontal axis and the count of the values in the vertical axis we get a **bell shape curve.** The **center of the curve represents the mean** of the data set. In the graph, **fifty percent of values lie to the left of the mean and the other fifty percent lie to the right of the graph.** This is referred as normal distribution in statistics.  "
    },
    {
      "metadata": {
        "slideshow": {
          "slide_type": "subslide"
        }
      },
      "cell_type": "markdown",
      "source": "R has four in built functions to generate normal distribution. They are described below.  \n\n**dnorm(x, mean, sd)**  \n**pnorm(x, mean, sd)**  \n**qnorm(p, mean, sd)**  \n**rnorm(n, mean, sd)**  "
    },
    {
      "metadata": {
        "slideshow": {
          "slide_type": "subslide"
        }
      },
      "cell_type": "markdown",
      "source": "**Following is the description of the parameters used in above functions** −  \n\n**x** is a vector of numbers.  \n\n**p** is a vector of probabilities.  \n\n**n** is number of observations(sample size).  \n\n**mean** is the mean value of the sample data. It's default value is zero.  \n\n**sd** is the standard deviation. It's default value is 1.  "
    },
    {
      "metadata": {
        "slideshow": {
          "slide_type": "slide"
        }
      },
      "cell_type": "markdown",
      "source": "**dnorm()**  \nThis function gives height of the probability distribution at each point for a given mean and standard deviation.  "
    },
    {
      "metadata": {
        "run_control": {
          "frozen": false,
          "read_only": false
        },
        "slideshow": {
          "slide_type": "subslide"
        },
        "trusted": false
      },
      "cell_type": "code",
      "source": "# Create a sequence of numbers between -10 and 10 incrementing by 0.1.\nx <- seq(-10, 10, by = 0.1)\n\n# Choose the mean as 2.5 and standard deviation as 0.5.\ny <- dnorm(x, mean = 2.5, sd = 0.5)\n\n# Give the chart file a name.\npng(file = \"plot/dnorm.png\")\n\nplot(x, y)\n\n# Save the file.\ndev.off()",
      "execution_count": 4,
      "outputs": [
        {
          "data": {
            "text/html": "<strong>png:</strong> 2",
            "text/latex": "\\textbf{png:} 2",
            "text/markdown": "**png:** 2",
            "text/plain": "png \n  2 "
          },
          "metadata": {},
          "output_type": "display_data"
        }
      ]
    },
    {
      "metadata": {
        "slideshow": {
          "slide_type": "slide"
        }
      },
      "cell_type": "markdown",
      "source": "**pnorm()**    \nThis function gives the probability of a normally distributed random number to be less that the value of a given number. It is also called \"Cumulative Distribution Function\"."
    },
    {
      "metadata": {
        "run_control": {
          "frozen": false,
          "read_only": false
        },
        "slideshow": {
          "slide_type": "subslide"
        },
        "trusted": false
      },
      "cell_type": "code",
      "source": "# Create a sequence of numbers between -10 and 10 incrementing by 0.2.\nx <- seq(-10, 10, by = 0.2)\n\n# Choose the mean as 2.5 and standard deviation as 2.\ny <- pnorm(x, mean = 2.5, sd = 2)\n\n# Give the chart file a name.\npng(file = \"plot/pnorm.png\")\n\n# Plot the graph.\nplot(x, y)\n\n# Save the file.\ndev.off()",
      "execution_count": 5,
      "outputs": [
        {
          "data": {
            "text/html": "<strong>png:</strong> 2",
            "text/latex": "\\textbf{png:} 2",
            "text/markdown": "**png:** 2",
            "text/plain": "png \n  2 "
          },
          "metadata": {},
          "output_type": "display_data"
        }
      ]
    },
    {
      "metadata": {
        "slideshow": {
          "slide_type": "slide"
        }
      },
      "cell_type": "markdown",
      "source": "**qnorm()**  \nThis function takes the probability value and gives a number whose cumulative value matches the probability value."
    },
    {
      "metadata": {
        "run_control": {
          "frozen": false,
          "read_only": false
        },
        "slideshow": {
          "slide_type": "subslide"
        },
        "trusted": false
      },
      "cell_type": "code",
      "source": "# Create a sequence of probability values incrementing by 0.02.\nx <- seq(0, 1, by = 0.02)\n\n# Choose the mean as 2 and standard deviation as 3.\ny <- qnorm(x, mean = 2, sd = 1)\n\n# Give the chart file a name.\npng(file = \"plot/qnorm.png\")\n\n# Plot the graph.\nplot(x, y)\n\n# Save the file.\ndev.off()",
      "execution_count": 6,
      "outputs": [
        {
          "data": {
            "text/html": "<strong>png:</strong> 2",
            "text/latex": "\\textbf{png:} 2",
            "text/markdown": "**png:** 2",
            "text/plain": "png \n  2 "
          },
          "metadata": {},
          "output_type": "display_data"
        }
      ]
    },
    {
      "metadata": {
        "slideshow": {
          "slide_type": "slide"
        }
      },
      "cell_type": "markdown",
      "source": "**rnorm()**  \nThis function is used to generate random numbers whose distribution is normal. It takes the sample size as input and generates that many random numbers. We draw a histogram to show the distribution of the generated numbers."
    },
    {
      "metadata": {
        "run_control": {
          "frozen": false,
          "read_only": false
        },
        "slideshow": {
          "slide_type": "subslide"
        },
        "trusted": false
      },
      "cell_type": "code",
      "source": "# Create a sample of 50 numbers which are normally distributed.\ny <- rnorm(50)\n\n# Give the chart file a name.\npng(file = \"plot/rnorm.png\")\n\n# Plot the histogram for this sample.\nhist(y, main = \"Normal DIstribution\")\n\n# Save the file.\ndev.off()",
      "execution_count": 7,
      "outputs": [
        {
          "data": {
            "text/html": "<strong>png:</strong> 2",
            "text/latex": "\\textbf{png:} 2",
            "text/markdown": "**png:** 2",
            "text/plain": "png \n  2 "
          },
          "metadata": {},
          "output_type": "display_data"
        }
      ]
    },
    {
      "metadata": {
        "slideshow": {
          "slide_type": "slide"
        }
      },
      "cell_type": "markdown",
      "source": "**Problem**\nAssume that the test scores of a college entrance exam fits a normal distribution. Furthermore, the mean test score is 72, and the standard deviation is 15.2. What is the percentage of students scoring 84 or more in the exam?"
    },
    {
      "metadata": {
        "slideshow": {
          "slide_type": "subslide"
        }
      },
      "cell_type": "markdown",
      "source": "**Solution**\nWe apply the function pnorm of the normal distribution with mean 72 and standard deviation 15.2. Since we are looking for the percentage of students scoring higher than 84, we are interested in the upper tail of the normal distribution."
    },
    {
      "metadata": {
        "run_control": {
          "frozen": false,
          "read_only": false
        },
        "slideshow": {
          "slide_type": "fragment"
        },
        "trusted": false
      },
      "cell_type": "code",
      "source": "pnorm(84, mean=72, sd=15.2, lower.tail=FALSE) \n# [1] 0.21492",
      "execution_count": 8,
      "outputs": [
        {
          "data": {
            "text/html": "0.214917602311272",
            "text/latex": "0.214917602311272",
            "text/markdown": "0.214917602311272",
            "text/plain": "[1] 0.2149176"
          },
          "metadata": {},
          "output_type": "display_data"
        }
      ]
    },
    {
      "metadata": {
        "slideshow": {
          "slide_type": "fragment"
        }
      },
      "cell_type": "markdown",
      "source": "**Answer**\nThe percentage of students scoring 84 or more in the college entrance exam is 21.5%."
    },
    {
      "metadata": {
        "slideshow": {
          "slide_type": "slide"
        }
      },
      "cell_type": "markdown",
      "source": "## Normal Distributions Calculations"
    },
    {
      "metadata": {
        "slideshow": {
          "slide_type": "fragment"
        }
      },
      "cell_type": "markdown",
      "source": "http://stattrek.com/online-calculator/normal.aspx#cumprob    \nhttps://statistics.laerd.com/statistical-guides/normal-distribution-calculations.php#lessthantitle  \nhttps://gallery.shinyapps.io/dist_calc/ "
    },
    {
      "metadata": {
        "slideshow": {
          "slide_type": "slide"
        }
      },
      "cell_type": "markdown",
      "source": "## Standard Normal Distribution"
    },
    {
      "metadata": {
        "slideshow": {
          "slide_type": "subslide"
        }
      },
      "cell_type": "raw",
      "source": "The normal distribution with μ = 0 and σ = 1 is called the standard normal distribution, and is denoted as N(0,1). It can be graphed as follows."
    },
    {
      "metadata": {
        "slideshow": {
          "slide_type": "subslide"
        }
      },
      "cell_type": "markdown",
      "source": "![Imgur](https://i.imgur.com/2Tzmh8L.png)"
    },
    {
      "metadata": {
        "slideshow": {
          "slide_type": "slide"
        }
      },
      "cell_type": "markdown",
      "source": "## Normalization (z-transformation)"
    },
    {
      "metadata": {
        "slideshow": {
          "slide_type": "subslide"
        }
      },
      "cell_type": "raw",
      "source": "When a frequency distribution is normally distributed, we can find out the probability of a score occurring by standardising the scores, known as standard scores (or z scores). The standard normal distribution simply converts the group of data in our frequency distribution such that the mean is 0 and the standard deviation is 1"
    },
    {
      "metadata": {
        "slideshow": {
          "slide_type": "subslide"
        }
      },
      "cell_type": "markdown",
      "source": "![Imgur](https://i.imgur.com/r2Uivhl.jpg)  ![Imgur](https://i.imgur.com/Iara3hM.gif)"
    },
    {
      "metadata": {
        "trusted": false
      },
      "cell_type": "code",
      "source": "",
      "execution_count": null,
      "outputs": []
    }
  ],
  "metadata": {
    "celltoolbar": "Slideshow",
    "hide_input": false,
    "kernelspec": {
      "name": "r",
      "display_name": "R",
      "language": "R"
    },
    "language_info": {
      "codemirror_mode": "r",
      "file_extension": ".r",
      "mimetype": "text/x-r-source",
      "name": "R",
      "pygments_lexer": "r",
      "version": "3.4.1"
    },
    "nav_menu": {},
    "toc": {
      "nav_menu": {},
      "number_sections": true,
      "sideBar": true,
      "skip_h1_title": true,
      "base_numbering": 1,
      "title_cell": "Table of Contents",
      "title_sidebar": "Contents",
      "toc_cell": true,
      "toc_position": {},
      "toc_section_display": "block",
      "toc_window_display": false
    }
  },
  "nbformat": 4,
  "nbformat_minor": 2
}