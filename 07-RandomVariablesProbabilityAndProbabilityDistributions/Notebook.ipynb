{
  "cells": [
    {
      "metadata": {
        "slideshow": {
          "slide_type": "slide"
        },
        "toc": true
      },
      "cell_type": "markdown",
      "source": "<h1>Table of Contents<span class=\"tocSkip\"></span></h1>\n<div class=\"toc\"><ul class=\"toc-item\"><li><span><a href=\"#Terminology\" data-toc-modified-id=\"Terminology-1\">Terminology</a></span></li><li><span><a href=\"#Permutations-and-Combinations\" data-toc-modified-id=\"Permutations-and-Combinations-2\">Permutations and Combinations</a></span></li><li><span><a href=\"#Probability\" data-toc-modified-id=\"Probability-3\">Probability</a></span></li><li><span><a href=\"#Probability-vs.-Odds\" data-toc-modified-id=\"Probability-vs.-Odds-4\">Probability vs. Odds</a></span></li><li><span><a href=\"#Random-Variable-&amp;-Types-of-Random-Variables\" data-toc-modified-id=\"Random-Variable-&amp;-Types-of-Random-Variables-5\">Random Variable &amp; Types of Random Variables</a></span></li><li><span><a href=\"#Discrete-and-Continuous-Random-Variables\" data-toc-modified-id=\"Discrete-and-Continuous-Random-Variables-6\">Discrete and Continuous Random Variables</a></span></li><li><span><a href=\"#Define-Probability-Distribution-&amp;-Basics-of-Probability-Distribution\" data-toc-modified-id=\"Define-Probability-Distribution-&amp;-Basics-of-Probability-Distribution-7\">Define Probability Distribution &amp; Basics of Probability Distribution</a></span><ul class=\"toc-item\"><li><span><a href=\"#Discrete-Probability-Distribution\" data-toc-modified-id=\"Discrete-Probability-Distribution-7.1\">Discrete Probability Distribution</a></span></li><li><span><a href=\"#Continuous-Probability-Distribution\" data-toc-modified-id=\"Continuous-Probability-Distribution-7.2\">Continuous Probability Distribution</a></span></li></ul></li><li><span><a href=\"#Probability-mass-function-vs-Probability-density-function-Vs-Cumulative-distribution-function\" data-toc-modified-id=\"Probability-mass-function-vs-Probability-density-function-Vs-Cumulative-distribution-function-8\">Probability mass function vs Probability density function Vs Cumulative distribution function</a></span></li><li><span><a href=\"#Types-of-Probability-distributions\" data-toc-modified-id=\"Types-of-Probability-distributions-9\">Types of Probability distributions</a></span><ul class=\"toc-item\"><li><span><a href=\"#Binomial-distribution\" data-toc-modified-id=\"Binomial-distribution-9.1\">Binomial distribution</a></span><ul class=\"toc-item\"><li><span><a href=\"#Mean-Mean-and-Variance-of-Binomial-Distribution\" data-toc-modified-id=\"Mean-Mean-and-Variance-of-Binomial-Distribution-9.1.1\">Mean Mean and Variance of Binomial Distribution</a></span></li></ul></li><li><span><a href=\"#Poisson-distribution\" data-toc-modified-id=\"Poisson-distribution-9.2\">Poisson distribution</a></span></li><li><span><a href=\"#Uniform-distribution\" data-toc-modified-id=\"Uniform-distribution-9.3\">Uniform distribution</a></span></li><li><span><a href=\"#chi-square-distribution\" data-toc-modified-id=\"chi-square-distribution-9.4\">chi square distribution</a></span></li><li><span><a href=\"#F-distribution\" data-toc-modified-id=\"F-distribution-9.5\">F distribution</a></span></li><li><span><a href=\"#Normal-disribution-or-Gaussian-distribution\" data-toc-modified-id=\"Normal-disribution-or-Gaussian-distribution-9.6\">Normal disribution or Gaussian distribution</a></span></li><li><span><a href=\"#student's-t-distribution\" data-toc-modified-id=\"student's-t-distribution-9.7\">student's t distribution</a></span></li></ul></li><li><span><a href=\"#Working-with-Distributions-in-R\" data-toc-modified-id=\"Working-with-Distributions-in-R-10\">Working with Distributions in R</a></span><ul class=\"toc-item\"><li><span><a href=\"#The-Normal-Distribtion\" data-toc-modified-id=\"The-Normal-Distribtion-10.1\">The Normal Distribtion</a></span></li></ul></li><li><span><a href=\"#Frequency-Distribution\" data-toc-modified-id=\"Frequency-Distribution-11\">Frequency Distribution</a></span><ul class=\"toc-item\"><li><span><a href=\"#Ungrouped-Frequency-Distribution\" data-toc-modified-id=\"Ungrouped-Frequency-Distribution-11.1\">Ungrouped Frequency Distribution</a></span></li><li><span><a href=\"#Grouped-Frequency-Distribution\" data-toc-modified-id=\"Grouped-Frequency-Distribution-11.2\">Grouped Frequency Distribution</a></span></li></ul></li><li><span><a href=\"#Construct-frequency-table-and-Relative-frequency-tables\" data-toc-modified-id=\"Construct-frequency-table-and-Relative-frequency-tables-12\">Construct frequency table and Relative frequency tables</a></span></li><li><span><a href=\"#Frequency-Tables-Examples-in-pictures\" data-toc-modified-id=\"Frequency-Tables-Examples-in-pictures-13\">Frequency Tables Examples in pictures</a></span><ul class=\"toc-item\"><li><span><a href=\"#For-Categorical-data\" data-toc-modified-id=\"For-Categorical-data-13.1\">For Categorical data</a></span></li><li><span><a href=\"#For-Quantitative-data\" data-toc-modified-id=\"For-Quantitative-data-13.2\">For Quantitative data</a></span></li></ul></li><li><span><a href=\"#Construct-Frequency-and-Contingency-Tables/cross-tables\" data-toc-modified-id=\"Construct-Frequency-and-Contingency-Tables/cross-tables-14\">Construct Frequency and Contingency Tables/cross tables</a></span></li><li><span><a href=\"#Practice\" data-toc-modified-id=\"Practice-15\">Practice</a></span></li></ul></div>"
    },
    {
      "metadata": {
        "slideshow": {
          "slide_type": "slide"
        }
      },
      "cell_type": "markdown",
      "source": "## Terminology"
    },
    {
      "metadata": {},
      "cell_type": "markdown",
      "source": "## Permutations and Combinations "
    },
    {
      "metadata": {},
      "cell_type": "markdown",
      "source": "https://www.mathplanet.com/education/pre-algebra/probability-and-statistic/combinations-and-permutations"
    },
    {
      "metadata": {
        "slideshow": {
          "slide_type": "slide"
        }
      },
      "cell_type": "markdown",
      "source": "**Random Experiment:**  \nThere are lots of phenomena in nature, like tossing a coin or tossing a die, whose outcomes cannot be predicted with certainty in advance, but the set of all the possible outcomes is known.These are what we call random phenomena or random experiments.\nEx:  \n- tossing a coin.\n- rolling a die\n- Tossing a coin twice\n\n**Outcome:**  \nAn outcome is the result of an experiment or sequence of observations.  \nEx:     \n- Getting a head or tail is an outcome \n- Getting 1 or 2 or 3 ...or 6 on die is an outcome\n- Getting head on first coin or Getting tail on both coins ...etc are outcomes\n\n**Sample space:**  \nA sample space is a collection of possible outcomes, and is usually denoted by S.  \nEx:  \n-  sample space is S = {H, T}\n-  sample space is S = {1, 2, 3, 4, 5, 6}\n-  sample space is S = {HH, HT, TH, T T}\n\n**Event:**  \nAn event is a set of possible outcomes, denoted by E which is a subset of the sample space S  \nEx:     \n- E = {H} is an event.\n- E = {2, 4, 6} is an event\n- E = {HH, HT} is an event (the first toss results in a Heads) \n\n\n**Distribution:**  \nA distribution describes the frequency or probability of possible events. When a distribution of categorical data is organized, you see the number or percentage of individuals in each group. When a distribution of numerical data is organized, they’re often ordered from smallest to largest, broken into reasonably sized groups (if appropriate), and then put into graphs and charts to examine the shape, center, and amount of variability in the data  "
    },
    {
      "metadata": {
        "slideshow": {
          "slide_type": "slide"
        }
      },
      "cell_type": "markdown",
      "source": "## Probability"
    },
    {
      "metadata": {
        "slideshow": {
          "slide_type": "fragment"
        }
      },
      "cell_type": "markdown",
      "source": "Probability is the likelihood that a **random variable** will take on a certain value."
    },
    {
      "metadata": {
        "slideshow": {
          "slide_type": "fragment"
        }
      },
      "cell_type": "markdown",
      "source": "EX: There is an 85% chance of snow tomorrow. Variable: Weather, Possible values: Snow, No snow."
    },
    {
      "metadata": {},
      "cell_type": "markdown",
      "source": "## Probability vs. Odds"
    },
    {
      "metadata": {},
      "cell_type": "markdown",
      "source": "https://stats.seandolinar.com/statistics-probability-vs-odds"
    },
    {
      "metadata": {
        "slideshow": {
          "slide_type": "slide"
        }
      },
      "cell_type": "markdown",
      "source": "## Random Variable & Types of Random Variables"
    },
    {
      "metadata": {
        "slideshow": {
          "slide_type": "fragment"
        }
      },
      "cell_type": "markdown",
      "source": "A **random variable**  The random variable is a variable whose possible values are a result of a random event. Therefore, each possible value of a random variable has some probability attached to it to represent the likelihood of those values. A variable (a named quantity) whose value is uncertain, it is a rule that assigns a numerical value to each possible outcome of a probabilistic experiment\n\nWe denote a random variable by a capital letter (such as “X”)  \n\n**Examples of random variables:**  \nr.v. X: the age of a randomly selected student here today.  \n\nr.v. Y: the number of planes completed in the past week.  \n\n**Expected Value (Weighted Mean/Average):**  \n*Sum of each outcome multiplied by its probability*"
    },
    {
      "metadata": {
        "slideshow": {
          "slide_type": "slide"
        }
      },
      "cell_type": "markdown",
      "source": "## Discrete and Continuous Random Variables "
    },
    {
      "metadata": {
        "slideshow": {
          "slide_type": "subslide"
        }
      },
      "cell_type": "raw",
      "source": "A discrete variable is a variable whose value is obtained by counting. \n\nExamples:   number of students present\n\n            number of red marbles in a jar\n\n            number of heads when flipping three coins\n\n            students’ grade level "
    },
    {
      "metadata": {
        "slideshow": {
          "slide_type": "subslide"
        }
      },
      "cell_type": "raw",
      "source": "A continuous variable is a variable whose value is obtained by measuring. \n\nExamples:   height of students in class\n\n                weight of students in class\n\n                time it takes to get to school\n\n                distance traveled between classes"
    },
    {
      "metadata": {
        "slideshow": {
          "slide_type": "subslide"
        }
      },
      "cell_type": "markdown",
      "source": "A **continuous random variable** X takes all values in a given interval of numbers.  \n \n▪        The probability distribution of a continuous random variable is shown by a density curve.  \n▪        The probability that X is between an interval of numbers is the area under the density curve between the interval endpoints  \n▪        The probability that a continuous random variable X is exactly equal to a number is zero  \n\n\nA **discrete random variable**     \n* a random variable X can assume only a particular finite or countably infinite set of values \n"
    },
    {
      "metadata": {
        "cell_style": "split",
        "slideshow": {
          "slide_type": "subslide"
        }
      },
      "cell_type": "markdown",
      "source": "![Imgur](https://i.imgur.com/KIwYqqd.png?1)"
    },
    {
      "metadata": {
        "cell_style": "split",
        "slideshow": {
          "slide_type": "fragment"
        }
      },
      "cell_type": "markdown",
      "source": "![Imgur](https://i.imgur.com/dZkju0p.png?1)\n    "
    },
    {
      "metadata": {
        "cell_style": "center",
        "slideshow": {
          "slide_type": "slide"
        }
      },
      "cell_type": "markdown",
      "source": "## Define Probability Distribution & Basics of Probability Distribution\n**probability distribution**  \nA function which gives the probability different outcomes/values of a random variable, Written as \nP(A) for a random variable A.  \n\n* How the probabilities are distributed over the values of a random variable \n* The set of all possible values of a random variable with the associated probabilities of each.  \n* is a specification in the form of a graph, a table or a function.    "
    },
    {
      "metadata": {
        "slideshow": {
          "slide_type": "subslide"
        }
      },
      "cell_type": "markdown",
      "source": "### Discrete Probability Distribution\n* Random variable is discrete (usually frequency or counts)\n* Probability distribution is a table (each possible values is a probability of the occurence of a random variable)\n* A probability of discrete random variable have a perticular value between 0 and 1\n* Example: binomial, poisson"
    },
    {
      "metadata": {
        "slideshow": {
          "slide_type": "subslide"
        }
      },
      "cell_type": "markdown",
      "source": "![Imgur](https://i.imgur.com/w3Mo2PM.png?1)"
    },
    {
      "metadata": {
        "slideshow": {
          "slide_type": "subslide"
        }
      },
      "cell_type": "markdown",
      "source": "![Imgur](https://i.imgur.com/nWcXHUN.png?1)"
    },
    {
      "metadata": {
        "slideshow": {
          "slide_type": "subslide"
        }
      },
      "cell_type": "markdown",
      "source": "![Imgur](https://i.imgur.com/tHF3QEr.png?1)"
    },
    {
      "metadata": {
        "run_control": {
          "frozen": false,
          "read_only": false
        },
        "slideshow": {
          "slide_type": "slide"
        },
        "trusted": false
      },
      "cell_type": "code",
      "source": "#### Barplot representation of descrete variable ",
      "execution_count": 24,
      "outputs": []
    },
    {
      "metadata": {
        "run_control": {
          "frozen": false,
          "read_only": false
        },
        "scrolled": true,
        "slideshow": {
          "slide_type": "subslide"
        },
        "trusted": false
      },
      "cell_type": "code",
      "source": "# to get in a frequency distribution\nbp <- barplot(table(mtcars$cyl))\n# numbers above bars\ntext(x=bp, y=table(mtcars$cyl), labels=table(mtcars$cyl), pos=3, xpd=NA)\n# numbers within bars\ntext(x=bp, y=table(mtcars$cyl), labels=round(table(mtcars$cyl),0), pos=1)",
      "execution_count": 25,
      "outputs": [
        {
          "data": {
            "image/png": "[encoded data removed]",
            "text/plain": "plot without title"
          },
          "metadata": {},
          "output_type": "display_data"
        }
      ]
    },
    {
      "metadata": {
        "run_control": {
          "frozen": false,
          "read_only": false
        },
        "slideshow": {
          "slide_type": "slide"
        },
        "trusted": false
      },
      "cell_type": "code",
      "source": "### to get in the probability distribution\nbp <- barplot(prop.table(table(mtcars$cyl)))\n# numbers above bars\ntext(x=bp, y=prop.table(table(mtcars$cyl)), labels=table(mtcars$cyl), pos=3, xpd=NA)\n# numbers within bars\ntext(x=bp, y=prop.table(table(mtcars$cyl)), labels=round(table(mtcars$cyl),0), pos=1)",
      "execution_count": 26,
      "outputs": [
        {
          "data": {
            "image/png": "[encoded data removed]",
            "text/plain": "plot without title"
          },
          "metadata": {},
          "output_type": "display_data"
        }
      ]
    },
    {
      "metadata": {
        "slideshow": {
          "slide_type": "slide"
        }
      },
      "cell_type": "markdown",
      "source": "### Continuous Probability Distribution\n\n* Infinite number of values in between any two points\n* The probability that a continuous random variable will assume a particular value is zero.\n* As a result, a continuous probability distribution cannot be expressed in tabular form.\n* Instead, an equation or formula is used to describe a continuous probability distribution.\n* Area under curve is matter\n* Example: Uniform, Normal, Student's t, Chi-Square and F-distributions  "
    },
    {
      "metadata": {
        "slideshow": {
          "slide_type": "subslide"
        }
      },
      "cell_type": "markdown",
      "source": "![Imgur](https://i.imgur.com/s3rryVZ.png?1)"
    },
    {
      "metadata": {
        "slideshow": {
          "slide_type": "slide"
        }
      },
      "cell_type": "markdown",
      "source": "![Imgur](https://i.imgur.com/eUf8UHE.png?1)"
    },
    {
      "metadata": {
        "slideshow": {
          "slide_type": "slide"
        }
      },
      "cell_type": "markdown",
      "source": "## Probability mass function vs Probability density function Vs Cumulative distribution function"
    },
    {
      "metadata": {
        "slideshow": {
          "slide_type": "fragment"
        }
      },
      "cell_type": "markdown",
      "source": "![Imgur](https://i.imgur.com/yEKvA7X.png)"
    },
    {
      "metadata": {
        "cell_style": "split",
        "slideshow": {
          "slide_type": "slide"
        }
      },
      "cell_type": "markdown",
      "source": "![Imgura](https://i.imgur.com/6tESJ02.png?1)"
    },
    {
      "metadata": {
        "cell_style": "split",
        "slideshow": {
          "slide_type": "fragment"
        }
      },
      "cell_type": "markdown",
      "source": "![Imgurb](https://i.imgur.com/e87OmdI.png?1)"
    },
    {
      "metadata": {
        "slideshow": {
          "slide_type": "slide"
        }
      },
      "cell_type": "markdown",
      "source": "![Imgur](https://i.imgur.com/HmyLcjy.png?1)"
    },
    {
      "metadata": {
        "slideshow": {
          "slide_type": "slide"
        }
      },
      "cell_type": "markdown",
      "source": "![Imgur](https://i.imgur.com/plFlXc7.png?1)"
    },
    {
      "metadata": {
        "cell_style": "split",
        "slideshow": {
          "slide_type": "slide"
        }
      },
      "cell_type": "markdown",
      "source": "![Imgur](https://i.imgur.com/OJtvfAO.png?1)"
    },
    {
      "metadata": {
        "cell_style": "split",
        "slideshow": {
          "slide_type": "fragment"
        }
      },
      "cell_type": "markdown",
      "source": "![Imgur](https://i.imgur.com/MLebJZI.png?1)"
    },
    {
      "metadata": {
        "slideshow": {
          "slide_type": "slide"
        }
      },
      "cell_type": "markdown",
      "source": "![Imgur](https://i.imgur.com/c5Runrt.png?1)"
    },
    {
      "metadata": {
        "slideshow": {
          "slide_type": "slide"
        }
      },
      "cell_type": "markdown",
      "source": "![Imgur](https://i.imgur.com/1dOa9pZ.png?1)"
    },
    {
      "metadata": {
        "slideshow": {
          "slide_type": "slide"
        }
      },
      "cell_type": "markdown",
      "source": "![Imgur](https://i.imgur.com/v2Wh3Np.png?1)"
    },
    {
      "metadata": {},
      "cell_type": "markdown",
      "source": "## Types of Probability distributions"
    },
    {
      "metadata": {
        "run_control": {
          "frozen": false,
          "read_only": false
        },
        "trusted": false
      },
      "cell_type": "code",
      "source": "### Bernouli Trails and Bernouli disribution",
      "execution_count": null,
      "outputs": []
    },
    {
      "metadata": {
        "slideshow": {
          "slide_type": "slide"
        }
      },
      "cell_type": "markdown",
      "source": "* Bernoulli Distribution is an example of a discrete probability distribution\n* Bernoulli random variable has two possible outcomes: 0 or 1\n* When a coin is tossed, the probability it lands heads is p. So the probability that it lands tails is 1−p \n* There are no other possible outcomes for the coin toss, If the coin lands heads, you win otherwise loss."
    },
    {
      "metadata": {
        "slideshow": {
          "slide_type": "slide"
        }
      },
      "cell_type": "markdown",
      "source": "![Imgur](https://i.imgur.com/T5x5bY2.png?1)"
    },
    {
      "metadata": {
        "run_control": {
          "frozen": false,
          "read_only": false
        },
        "slideshow": {
          "slide_type": "slide"
        }
      },
      "cell_type": "markdown",
      "source": "### Binomial distribution"
    },
    {
      "metadata": {
        "slideshow": {
          "slide_type": "subslide"
        }
      },
      "cell_type": "markdown",
      "source": "![Imgur](https://i.imgur.com/17pUPuJ.png?1)"
    },
    {
      "metadata": {
        "slideshow": {
          "slide_type": "subslide"
        }
      },
      "cell_type": "markdown",
      "source": "![Imgur](https://i.imgur.com/6JDTGnC.png)"
    },
    {
      "metadata": {
        "slideshow": {
          "slide_type": "slide"
        }
      },
      "cell_type": "markdown",
      "source": "* Each trial results in an outcome that may be classified as a success or a failure (hence the name, binomial)\n* Note that a binomial random variable with parameter n=1 is equivalent to a Bernoulli random variable, i.e. there is only one trial\n\nwhere\n\nn = the number of trials\n\nx = 0, 1, 2, ... n\n\np = the probability of success in a single trial\n\nq = the probability of failure in a single trial\n\n(i.e. q = 1 − p)\n\nP(X) gives the probability of successes in n binomial trials."
    },
    {
      "metadata": {
        "slideshow": {
          "slide_type": "slide"
        }
      },
      "cell_type": "markdown",
      "source": "#### Mean Mean and Variance of Binomial Distribution"
    },
    {
      "metadata": {
        "slideshow": {
          "slide_type": "subslide"
        }
      },
      "cell_type": "markdown",
      "source": "If p is the probability of success and q is the probability of failure in a binomial trial, then the expected number of successes in n trials (i.e. the mean value of the binomial distribution) is\n\nE(X) = μ = np\n\nThe variance of the binomial distribution is\n\nV(X) = σ2 = npq\n\nNote: In a binomial distribution, only 2 parameters, namely n and p, are needed to determine the probability"
    },
    {
      "metadata": {
        "slideshow": {
          "slide_type": "slide"
        }
      },
      "cell_type": "markdown",
      "source": "![Imgur](https://i.imgur.com/zGWPXV9.png)"
    },
    {
      "metadata": {
        "run_control": {
          "frozen": false,
          "marked": false,
          "read_only": false
        },
        "slideshow": {
          "slide_type": "slide"
        }
      },
      "cell_type": "markdown",
      "source": "### Poisson distribution"
    },
    {
      "metadata": {
        "slideshow": {
          "slide_type": "slide"
        }
      },
      "cell_type": "markdown",
      "source": "Many experimental situations occur in which we observe the counts of events\nwithin a set unit of time, area, volume, length etc. For example,  \n• The number of cases of a disease in different towns  \n• The number of particles emitted by a radioactive source in a given time  \n• The number of births per hour during a given day  "
    },
    {
      "metadata": {
        "slideshow": {
          "slide_type": "subslide"
        }
      },
      "cell_type": "markdown",
      "source": "* Poisson distribution is the probability distribution which calculates the probability of a set of independent event occurrences with in a interval or fixed time or space.   \n**Ex:**  \nThe number of calls to a telephone switchboard in one minute."
    },
    {
      "metadata": {
        "slideshow": {
          "slide_type": "subslide"
        }
      },
      "cell_type": "markdown",
      "source": "![Imgur](https://i.imgur.com/KUR1OXB.png?1)"
    },
    {
      "metadata": {
        "run_control": {
          "frozen": false,
          "read_only": false
        }
      },
      "cell_type": "markdown",
      "source": "### Uniform distribution"
    },
    {
      "metadata": {
        "run_control": {
          "frozen": false,
          "read_only": false
        }
      },
      "cell_type": "markdown",
      "source": "### chi square distribution"
    },
    {
      "metadata": {
        "run_control": {
          "frozen": false,
          "read_only": false
        }
      },
      "cell_type": "markdown",
      "source": "### F distribution"
    },
    {
      "metadata": {
        "run_control": {
          "frozen": false,
          "read_only": false
        }
      },
      "cell_type": "markdown",
      "source": "### Normal disribution or Gaussian distribution"
    },
    {
      "metadata": {
        "run_control": {
          "frozen": false,
          "read_only": false
        }
      },
      "cell_type": "markdown",
      "source": "### student's t distribution"
    },
    {
      "metadata": {
        "slideshow": {
          "slide_type": "slide"
        }
      },
      "cell_type": "markdown",
      "source": "![Imgur](https://i.imgur.com/RPFTSYD.png?4)"
    },
    {
      "metadata": {
        "slideshow": {
          "slide_type": "slide"
        }
      },
      "cell_type": "markdown",
      "source": "## Working with Distributions in R"
    },
    {
      "metadata": {
        "run_control": {
          "frozen": false,
          "read_only": false
        },
        "slideshow": {
          "slide_type": "slide"
        },
        "trusted": false
      },
      "cell_type": "code",
      "source": "# help(\"distributions\")\n",
      "execution_count": 1,
      "outputs": []
    },
    {
      "metadata": {
        "slideshow": {
          "slide_type": "fragment"
        }
      },
      "cell_type": "markdown",
      "source": "Common Distribution-Type Arguments  \nAlmost all the R functions that generate values of probability distributions work the  \nsame way. They follow a similar naming convention:    \n\n• p cumulative **probability** distribution function (Direct Look-Up-c. d. f.)  \n• d probability **density** function ((p. f. or p. d. f.))  \n• q **quantile** function (inverse cumulative distribution-inverse c. d. f))  \n• r **random** sample (for simulation/random number generation)  "
    },
    {
      "metadata": {
        "slideshow": {
          "slide_type": "slide"
        }
      },
      "cell_type": "markdown",
      "source": "### The Normal Distribtion"
    },
    {
      "metadata": {
        "slideshow": {
          "slide_type": "subslide"
        }
      },
      "cell_type": "markdown",
      "source": "![Imgur](https://i.imgur.com/pzErpD0.png?1)"
    },
    {
      "metadata": {
        "slideshow": {
          "slide_type": "slide"
        }
      },
      "cell_type": "markdown",
      "source": "![Imgur](https://i.imgur.com/q4cT6ns.png)"
    },
    {
      "metadata": {
        "slideshow": {
          "slide_type": "subslide"
        }
      },
      "cell_type": "markdown",
      "source": "**Direct Look-Up**  \npnorm is the R function that calculates the c. d. f.  \n  \nF(x) = P(X <= x)  \nwhere X is normal. Optional arguments described on the on-line documentation specify the parameters of the particular normal distribution.\nBoth of the R commands in the box below do exactly the same thing.  "
    },
    {
      "metadata": {
        "run_control": {
          "frozen": false,
          "read_only": false
        },
        "slideshow": {
          "slide_type": "fragment"
        },
        "trusted": false
      },
      "cell_type": "code",
      "source": "pnorm(27.4, mean=50, sd=20)\npnorm(27.4, 50, 20)\n\n# zThey look up P(X < 27.4) when X is normal with mean 50 and standard deviation 20.\n# Example",
      "execution_count": 2,
      "outputs": [
        {
          "data": {
            "text/html": "0.129238112240018",
            "text/latex": "0.129238112240018",
            "text/markdown": "0.129238112240018",
            "text/plain": "[1] 0.1292381"
          },
          "metadata": {},
          "output_type": "display_data"
        },
        {
          "data": {
            "text/html": "0.129238112240018",
            "text/latex": "0.129238112240018",
            "text/markdown": "0.129238112240018",
            "text/plain": "[1] 0.1292381"
          },
          "metadata": {},
          "output_type": "display_data"
        }
      ]
    },
    {
      "metadata": {
        "slideshow": {
          "slide_type": "slide"
        }
      },
      "cell_type": "raw",
      "source": "Question: Suppose widgit weights produced at Acme Widgit Works have weights that are normally distributed with mean 17.46 grams and variance 375.67 grams. What is the probability that a randomly chosen widgit weighs more then 19 grams?\n\nQuestion Rephrased: What is P(X > 19) when X has the N(17.46, 375.67) distribution?"
    },
    {
      "metadata": {
        "run_control": {
          "frozen": false,
          "read_only": false
        },
        "slideshow": {
          "slide_type": "fragment"
        },
        "trusted": false
      },
      "cell_type": "code",
      "source": "1 - pnorm(19, mean = 17.46, sd = sqrt(375.67))",
      "execution_count": 3,
      "outputs": [
        {
          "data": {
            "text/html": "0.468335635789911",
            "text/latex": "0.468335635789911",
            "text/markdown": "0.468335635789911",
            "text/plain": "[1] 0.4683356"
          },
          "metadata": {},
          "output_type": "display_data"
        }
      ]
    },
    {
      "metadata": {
        "slideshow": {
          "slide_type": "slide"
        }
      },
      "cell_type": "markdown",
      "source": "**Inverse Look-Up**  \nqnorm is the R function that calculates the inverse c. d. f. F-1 of the normal distribution The c. d. f. and the inverse c. d. f. are related by  \n   \np = F(x)  \nx = F-1(p)  \nSo given a number p between zero and one, qnorm looks up the p-th quantile of the normal distribution. As with pnorm, optional arguments specify the mean and standard deviation of the distribution.  \n"
    },
    {
      "metadata": {
        "slideshow": {
          "slide_type": "subslide"
        }
      },
      "cell_type": "raw",
      "source": "Question: Suppose IQ scores are normally distributed with mean 100 and standard deviation 15. What is the 95th percentile of the distribution of IQ scores?\n\nQuestion Rephrased: What is F-1(0.95) when X has the N(100, 152) distribution?"
    },
    {
      "metadata": {
        "run_control": {
          "frozen": false,
          "read_only": false
        },
        "slideshow": {
          "slide_type": "fragment"
        },
        "trusted": false
      },
      "cell_type": "code",
      "source": "qnorm(0.95, mean = 100, sd = 15)",
      "execution_count": 4,
      "outputs": [
        {
          "data": {
            "text/html": "124.672804404272",
            "text/latex": "124.672804404272",
            "text/markdown": "124.672804404272",
            "text/plain": "[1] 124.6728"
          },
          "metadata": {},
          "output_type": "display_data"
        }
      ]
    },
    {
      "metadata": {
        "slideshow": {
          "slide_type": "slide"
        }
      },
      "cell_type": "markdown",
      "source": "**Density**  \ndnorm is the R function that calculates the p. d. f. f of the normal distribution. As with pnorm and qnorm, optional arguments specify the mean and standard deviation of the distribution.\n\nThere's not much need for this function in doing calculations, because you need to do integrals to use any p. d. f., and R doesn't do integrals. In fact, there's not much use for the \"d\" function for any continuous distribution (discrete distributions are entirely another matter, for them the \"d\" functions are very useful, see the section about dbinom).\n"
    },
    {
      "metadata": {
        "slideshow": {
          "slide_type": "slide"
        }
      },
      "cell_type": "markdown",
      "source": "**Random Variates**  \nrnorm is the R function that simulates random variates having a specified normal distribution. As with pnorm, qnorm, and dnorm, optional arguments specify the mean and standard deviation of the distribution."
    },
    {
      "metadata": {
        "run_control": {
          "frozen": false,
          "read_only": false
        },
        "slideshow": {
          "slide_type": "subslide"
        },
        "trusted": false
      },
      "cell_type": "code",
      "source": "x <- rnorm(1000, mean = 100, sd = 15)\nhist(x, probability = TRUE)\nxx <- seq(min(x), max(x), length = 100)\nlines(xx, dnorm(xx, mean = 100, sd = 15))\n\n# This generates 1000 i. i. d. normal random numbers (first line), plots their\n# histogram (second line), and graphs the p. d. f. of the same normal\n# distribution (third and forth lines).",
      "execution_count": 5,
      "outputs": [
        {
          "data": {
            "image/png": "[encoded data removed]",
            "text/plain": "Plot with title \"Histogram of x\""
          },
          "metadata": {},
          "output_type": "display_data"
        }
      ]
    },
    {
      "metadata": {
        "slideshow": {
          "slide_type": "slide"
        }
      },
      "cell_type": "markdown",
      "source": "**he Binomial Distribtion**  \n**Direct Look-Up, Points**  \ndbinom is the R function that calculates the p. f. of the binomial distribution. Optional arguments described on the on-line documentation specify the parameters of the particular binomial distribution.\n\nBoth of the R commands in the box below do exactly the same thing."
    },
    {
      "metadata": {
        "run_control": {
          "frozen": false,
          "read_only": false
        },
        "slideshow": {
          "slide_type": "subslide"
        },
        "trusted": false
      },
      "cell_type": "code",
      "source": "dbinom(27, size=100, prob=0.25)\ndbinom(27, 100, 0.25)\n\n# They look up P(X = 27) when X is has the Bin(100, 0.25) distribution.",
      "execution_count": 6,
      "outputs": [
        {
          "data": {
            "text/html": "0.0806407548759012",
            "text/latex": "0.0806407548759012",
            "text/markdown": "0.0806407548759012",
            "text/plain": "[1] 0.08064075"
          },
          "metadata": {},
          "output_type": "display_data"
        },
        {
          "data": {
            "text/html": "0.0806407548759012",
            "text/latex": "0.0806407548759012",
            "text/markdown": "0.0806407548759012",
            "text/plain": "[1] 0.08064075"
          },
          "metadata": {},
          "output_type": "display_data"
        }
      ]
    },
    {
      "metadata": {
        "slideshow": {
          "slide_type": "subslide"
        }
      },
      "cell_type": "raw",
      "source": "Example\nQuestion: Suppose widgits produced at Acme Widgit Works have probability 0.005 of being defective. Suppose widgits are shipped in cartons containing 25 widgits. What is the probability that a randomly chosen carton contains exactly one defective widgit?\n\nQuestion Rephrased: What is P(X = 1) when X has the Bin(25, 0.005) distribution?"
    },
    {
      "metadata": {
        "run_control": {
          "frozen": false,
          "read_only": false
        },
        "slideshow": {
          "slide_type": "fragment"
        },
        "trusted": false
      },
      "cell_type": "code",
      "source": "dbinom(1, 25, 0.005)",
      "execution_count": 7,
      "outputs": [
        {
          "data": {
            "text/html": "0.110831688812663",
            "text/latex": "0.110831688812663",
            "text/markdown": "0.110831688812663",
            "text/plain": "[1] 0.1108317"
          },
          "metadata": {},
          "output_type": "display_data"
        }
      ]
    },
    {
      "metadata": {
        "slideshow": {
          "slide_type": "slide"
        }
      },
      "cell_type": "markdown",
      "source": "**Direct Look-Up, Intervals**  \npbinom is the R function that calculates the c. d. f. of the binomial distribution. Optional arguments described on the on-line documentation specify the parameters of the particular binomial distribution.\n\nBoth of the R commands in the box below do exactly the same thing."
    },
    {
      "metadata": {
        "run_control": {
          "frozen": false,
          "read_only": false
        },
        "slideshow": {
          "slide_type": "subslide"
        },
        "trusted": false
      },
      "cell_type": "code",
      "source": "pbinom(27, size = 100, prob = 0.25)\npbinom(27, 100, 0.25)\n# They look up P(X <= 27) when X is has the Bin(100, 0.25) distribution. (Note\n# the less than or equal to sign. It's important when working with a discrete\n# distribution!)",
      "execution_count": 8,
      "outputs": [
        {
          "data": {
            "text/html": "0.722380513115339",
            "text/latex": "0.722380513115339",
            "text/markdown": "0.722380513115339",
            "text/plain": "[1] 0.7223805"
          },
          "metadata": {},
          "output_type": "display_data"
        },
        {
          "data": {
            "text/html": "0.722380513115339",
            "text/latex": "0.722380513115339",
            "text/markdown": "0.722380513115339",
            "text/plain": "[1] 0.7223805"
          },
          "metadata": {},
          "output_type": "display_data"
        }
      ]
    },
    {
      "metadata": {
        "slideshow": {
          "slide_type": "slide"
        }
      },
      "cell_type": "raw",
      "source": "Example\nQuestion: Suppose widgits produced at Acme Widgit Works have probability 0.005 of being defective. Suppose widgits are shipped in cartons containing 25 widgits. What is the probability that a randomly chosen carton contains no more than one defective widgit?\n\nQuestion Rephrased: What is P(X <= 1) when X has the Bin(25, 0.005) distribution?"
    },
    {
      "metadata": {
        "run_control": {
          "frozen": false,
          "read_only": false
        },
        "slideshow": {
          "slide_type": "fragment"
        },
        "trusted": false
      },
      "cell_type": "code",
      "source": "pbinom(1, 25, 0.005)",
      "execution_count": 9,
      "outputs": [
        {
          "data": {
            "text/html": "0.993051931761465",
            "text/latex": "0.993051931761465",
            "text/markdown": "0.993051931761465",
            "text/plain": "[1] 0.9930519"
          },
          "metadata": {},
          "output_type": "display_data"
        }
      ]
    },
    {
      "metadata": {
        "slideshow": {
          "slide_type": "slide"
        }
      },
      "cell_type": "markdown",
      "source": "**Inverse Look-Up**  \nqbinom is the R function that calculates the \"inverse c. d. f.\" of the binomial distribution. How does it do that when the c. d. f. is a step function and hence not invertible? The on-line documentation for the binomial probability functions explains.\n  \nThe quantile is defined as the smallest value x such that F(x) >= p, where F is the distribution function.\nWhen the p-th quantile is nonunique, there is a whole interval of values each of which is a p-th quantile. The documentation says that qbinom (and other \"q\" functions, for that matter) returns the smallest of these values. That is one sensible definition of an \"inverse c. d. f.\" In the terminology of Section  of the course notes, the function defined by qbinom is a right inverse of the function defined by pbinom, that is,\nq == pbinom(qbinom(q, n, p)),       0 < q < 1,   0 < p < 1,   n a positive integer\nis always true, but the analogous formula with pnorm and qnorm reversed does not necessarily hold."
    },
    {
      "metadata": {
        "slideshow": {
          "slide_type": "subslide"
        }
      },
      "cell_type": "raw",
      "source": "Example\nQuestion: What are the 10th, 20th, and so forth quantiles of the Bin(10, 1/3) distribution?"
    },
    {
      "metadata": {
        "run_control": {
          "frozen": false,
          "read_only": false
        },
        "scrolled": true,
        "slideshow": {
          "slide_type": "fragment"
        },
        "trusted": false
      },
      "cell_type": "code",
      "source": "qbinom(0.1, 10, 1/3)\nqbinom(0.2, 10, 1/3)\n# and so forth, or all at once with\nqbinom(seq(0.1, 0.9, 0.1), 10, 1/3)\n\n# They look up P(X <= 27) when X is has the Bin(100, 0.25) distribution. (Note\n# the less than or equal to sign. It's important when working with a discrete\n# distribution!)",
      "execution_count": 10,
      "outputs": [
        {
          "data": {
            "text/html": "1",
            "text/latex": "1",
            "text/markdown": "1",
            "text/plain": "[1] 1"
          },
          "metadata": {},
          "output_type": "display_data"
        },
        {
          "data": {
            "text/html": "2",
            "text/latex": "2",
            "text/markdown": "2",
            "text/plain": "[1] 2"
          },
          "metadata": {},
          "output_type": "display_data"
        },
        {
          "data": {
            "text/html": "<ol class=list-inline>\n\t<li>1</li>\n\t<li>2</li>\n\t<li>3</li>\n\t<li>3</li>\n\t<li>3</li>\n\t<li>4</li>\n\t<li>4</li>\n\t<li>5</li>\n\t<li>5</li>\n</ol>\n",
            "text/latex": "\\begin{enumerate*}\n\\item 1\n\\item 2\n\\item 3\n\\item 3\n\\item 3\n\\item 4\n\\item 4\n\\item 5\n\\item 5\n\\end{enumerate*}\n",
            "text/markdown": "1. 1\n2. 2\n3. 3\n4. 3\n5. 3\n6. 4\n7. 4\n8. 5\n9. 5\n\n\n",
            "text/plain": "[1] 1 2 3 3 3 4 4 5 5"
          },
          "metadata": {},
          "output_type": "display_data"
        }
      ]
    },
    {
      "metadata": {
        "slideshow": {
          "slide_type": "slide"
        }
      },
      "cell_type": "markdown",
      "source": "## Frequency Distribution"
    },
    {
      "metadata": {
        "collapsed": true,
        "run_control": {
          "frozen": false,
          "read_only": false
        },
        "slideshow": {
          "slide_type": "subslide"
        }
      },
      "cell_type": "raw",
      "source": "Frequency Distribution is nothing but the values and their frequency (how often each value occurs)."
    },
    {
      "metadata": {
        "slideshow": {
          "slide_type": "subslide"
        }
      },
      "cell_type": "raw",
      "source": "These are the numbers of newspapers sold at a local shop over the last 10 days:\n\n22, 20, 18, 23, 20, 25, 22, 20, 18, 20\n\nLet us count how many of each number there is:\n\nPapers Sold\tFrequency\n18\t2\n19\t0\n20\t4\n21\t0\n22\t2\n23\t1\n24\t0\n25\t1"
    },
    {
      "metadata": {
        "slideshow": {
          "slide_type": "slide"
        }
      },
      "cell_type": "markdown",
      "source": "### Ungrouped Frequency Distribution\n* Each value of x in the distribution stands alone"
    },
    {
      "metadata": {
        "slideshow": {
          "slide_type": "slide"
        }
      },
      "cell_type": "markdown",
      "source": "### Grouped Frequency Distribution\n* Group the values into a set of classes!"
    },
    {
      "metadata": {
        "slideshow": {
          "slide_type": "subslide"
        }
      },
      "cell_type": "raw",
      "source": "It is also possible to group the values. Here they are grouped in 5s:\n\nPapers Sold\tFrequency\n15-19\t2\n20-24\t7\n25-29\t1"
    },
    {
      "metadata": {
        "slideshow": {
          "slide_type": "slide"
        }
      },
      "cell_type": "markdown",
      "source": "## Construct frequency table and Relative frequency tables"
    },
    {
      "metadata": {
        "run_control": {
          "frozen": false,
          "read_only": false
        },
        "slideshow": {
          "slide_type": "subslide"
        }
      },
      "cell_type": "raw",
      "source": "#  How to calculate a frequency distribution from a given vector of values\n# list of the ages of the U.S. presidents when they became \n# president. (The ages are in years, rounded down.)  \n "
    },
    {
      "metadata": {
        "run_control": {
          "frozen": false,
          "marked": false,
          "read_only": false
        },
        "slideshow": {
          "slide_type": "fragment"
        },
        "trusted": false
      },
      "cell_type": "code",
      "source": "ages<-c(57,61,57,57,58,57,61,54,68,51,49,64,50,48,65,52,56,46,54,49,51,47,55,55,\n54,42,51,56,55,51,54,51,60,62,43,55,56,61,52,69,64,46,54)",
      "execution_count": 11,
      "outputs": []
    },
    {
      "metadata": {
        "slideshow": {
          "slide_type": "subslide"
        }
      },
      "cell_type": "raw",
      "source": "Copy and paste the 43 numbers in the PRESIDENTS’ AGES DATA SET above. \n• Notice that, unlike for the ‘c’ command, commas (,) are NOT used with \n‘scan’. \n• Copying can be done by using CTRL-C. \n• Pasting can be done by using CTRL-V. "
    },
    {
      "metadata": {
        "slideshow": {
          "slide_type": "subslide"
        }
      },
      "cell_type": "raw",
      "source": "> Press RETURN or ENTER on your computer. \n* You should see ‘44:’ in your console window. This means that, if you \nwere to enter another value, it would be the 44th data value.   \n \n> Press RETURN or ENTER again, since we are not entering in any more values. \n• You should see ‘Read 43 items’ in your console window. "
    },
    {
      "metadata": {
        "run_control": {
          "frozen": false,
          "marked": false,
          "read_only": false
        },
        "slideshow": {
          "slide_type": "slide"
        },
        "trusted": false
      },
      "cell_type": "code",
      "source": "table(ages) ",
      "execution_count": 12,
      "outputs": [
        {
          "data": {
            "text/plain": "ages\n42 43 46 47 48 49 50 51 52 54 55 56 57 58 60 61 62 64 65 68 69 \n 1  1  2  1  1  2  1  5  2  5  4  3  4  1  1  3  1  2  1  1  1 "
          },
          "metadata": {},
          "output_type": "display_data"
        }
      ]
    },
    {
      "metadata": {
        "run_control": {
          "frozen": false,
          "marked": false,
          "read_only": false
        },
        "slideshow": {
          "slide_type": "subslide"
        },
        "trusted": false
      },
      "cell_type": "code",
      "source": "boundaries  <-  seq(34.5, 69.5, by=5) \n# The sequence of numbers we will use to separate our classes will be the \n# numbers from 34.5 through 69.5, jumping by 5s. These numbers are called \n# “class boundaries.”",
      "execution_count": 13,
      "outputs": []
    },
    {
      "metadata": {
        "run_control": {
          "frozen": false,
          "marked": false,
          "read_only": false
        },
        "slideshow": {
          "slide_type": "fragment"
        },
        "trusted": false
      },
      "cell_type": "code",
      "source": "table(cut(ages, boundaries)) \n# You will see a frequency table for the ages. ",
      "execution_count": 14,
      "outputs": [
        {
          "data": {
            "text/plain": "\n(34.5,39.5] (39.5,44.5] (44.5,49.5] (49.5,54.5] (54.5,59.5] (59.5,64.5] \n          0           2           6          13          12           7 \n(64.5,69.5] \n          3 "
          },
          "metadata": {},
          "output_type": "display_data"
        }
      ]
    },
    {
      "metadata": {
        "run_control": {
          "frozen": false,
          "marked": false,
          "read_only": false
        },
        "slideshow": {
          "slide_type": "fragment"
        },
        "trusted": false
      },
      "cell_type": "code",
      "source": "table(cut(ages, c(boundaries, Inf))) \n# This includes the last class of “70+” years. The “Inf” indicates that the last \n# class goes off to infinity. ",
      "execution_count": 15,
      "outputs": [
        {
          "data": {
            "text/plain": "\n(34.5,39.5] (39.5,44.5] (44.5,49.5] (49.5,54.5] (54.5,59.5] (59.5,64.5] \n          0           2           6          13          12           7 \n(64.5,69.5]  (69.5,Inf] \n          3           0 "
          },
          "metadata": {},
          "output_type": "display_data"
        }
      ]
    },
    {
      "metadata": {
        "slideshow": {
          "slide_type": "slide"
        }
      },
      "cell_type": "markdown",
      "source": "**RELATIVE FREQUENCY TABLES** "
    },
    {
      "metadata": {
        "run_control": {
          "frozen": false,
          "marked": false,
          "read_only": false
        },
        "slideshow": {
          "slide_type": "subslide"
        },
        "trusted": false
      },
      "cell_type": "code",
      "source": "length(ages) \n# This tells you that there are 43 ages in our data set. \ntable(cut(ages, boundaries))/43 \n# You will see a relative frequency table for the ages",
      "execution_count": 16,
      "outputs": [
        {
          "data": {
            "text/html": "43",
            "text/latex": "43",
            "text/markdown": "43",
            "text/plain": "[1] 43"
          },
          "metadata": {},
          "output_type": "display_data"
        },
        {
          "data": {
            "text/plain": "\n(34.5,39.5] (39.5,44.5] (44.5,49.5] (49.5,54.5] (54.5,59.5] (59.5,64.5] \n 0.00000000  0.04651163  0.13953488  0.30232558  0.27906977  0.16279070 \n(64.5,69.5] \n 0.06976744 "
          },
          "metadata": {},
          "output_type": "display_data"
        }
      ]
    },
    {
      "metadata": {
        "slideshow": {
          "slide_type": "slide"
        }
      },
      "cell_type": "markdown",
      "source": "**MAKING BARPLOT AND HISTOGRAMS**"
    },
    {
      "metadata": {
        "run_control": {
          "frozen": false,
          "marked": false,
          "read_only": false
        },
        "slideshow": {
          "slide_type": "subslide"
        },
        "trusted": false
      },
      "cell_type": "code",
      "source": "# BARPLOTS \nbarplot(ages) \n# • You will see (in a separate window) bars corresponding to the ages in the \n# order we entered them in, but this is NOT a correct histogram. \n\n#HISTOGRAMS \n \nhist(ages) \n# • You will see a histogram of the ages.  \nhist(ages, breaks=boundaries) \n# • You will see a histogram similar to what we have in our notes.",
      "execution_count": 17,
      "outputs": [
        {
          "data": {
            "image/png": "[encoded data removed]",
            "text/plain": "plot without title"
          },
          "metadata": {},
          "output_type": "display_data"
        },
        {
          "data": {
            "image/png": "[encoded data removed]",
            "text/plain": "Plot with title \"Histogram of ages\""
          },
          "metadata": {},
          "output_type": "display_data"
        },
        {
          "data": {
            "image/png": "[encoded data removed]",
            "text/plain": "Plot with title \"Histogram of ages\""
          },
          "metadata": {},
          "output_type": "display_data"
        }
      ]
    },
    {
      "metadata": {
        "slideshow": {
          "slide_type": "slide"
        }
      },
      "cell_type": "markdown",
      "source": "**RELATIVE FREQUENCY HISTOGRAMS and LABELS **"
    },
    {
      "metadata": {
        "run_control": {
          "frozen": false,
          "marked": false,
          "read_only": false
        },
        "slideshow": {
          "slide_type": "subslide"
        },
        "trusted": false
      },
      "cell_type": "code",
      "source": "hist(ages, prob=TRUE) \n# • You will see a relative frequency histogram of the ages.  \n# • The histogram you see is different from the one we have in our notes, \n# because relative frequencies correspond to areas here, not heights. Different \n# sources do the histograms differently. \n# • Here, “prob” means “probability that a randomly selected data value lies in \n# the class.” Probabilities are often related to relative frequencies. \n# • ‘TRUE’ can be abbreviated as ‘T’.",
      "execution_count": 18,
      "outputs": [
        {
          "data": {
            "image/png": "[encoded data removed]",
            "text/plain": "Plot with title \"Histogram of ages\""
          },
          "metadata": {},
          "output_type": "display_data"
        }
      ]
    },
    {
      "metadata": {
        "run_control": {
          "frozen": false,
          "marked": false,
          "read_only": false
        },
        "scrolled": true,
        "slideshow": {
          "slide_type": "subslide"
        },
        "trusted": false
      },
      "cell_type": "code",
      "source": "hist(ages, breaks = boundaries, prob = T, main = \"Relative frequency \nhistogram\", \n    ylab = \"Relative frequencies\")\n# • You will see a relative frequency histogram of the ages similar to what we \n# have in our notes, except that relative frequencies correspond to areas, not \n# heights. \n# • ‘main’ means “main title” here. \n# • ‘ylab’ means “label for y-axis.” \n# • ‘xlab’ means “label for x-axis.” We didn’t use that here. ",
      "execution_count": 19,
      "outputs": [
        {
          "data": {
            "image/png": "[encoded data removed]",
            "text/plain": "Plot with title \"Relative frequency \nhistogram\""
          },
          "metadata": {},
          "output_type": "display_data"
        }
      ]
    },
    {
      "metadata": {
        "run_control": {
          "frozen": false,
          "read_only": false
        },
        "scrolled": true,
        "slideshow": {
          "slide_type": "slide"
        },
        "trusted": false
      },
      "cell_type": "code",
      "source": "n <- 1:20\nden <- dbinom(n, 20, 0.7)\nplot(den, ylab = \"Density\", xlab = \"Number of successes\")\nsum(den) ",
      "execution_count": 20,
      "outputs": [
        {
          "data": {
            "text/html": "0.999999999965132",
            "text/latex": "0.999999999965132",
            "text/markdown": "0.999999999965132",
            "text/plain": "[1] 1"
          },
          "metadata": {},
          "output_type": "display_data"
        },
        {
          "data": {
            "image/png": "[encoded data removed]",
            "text/plain": "plot without title"
          },
          "metadata": {},
          "output_type": "display_data"
        }
      ]
    },
    {
      "metadata": {
        "slideshow": {
          "slide_type": "slide"
        }
      },
      "cell_type": "markdown",
      "source": "## Frequency Tables Examples in pictures"
    },
    {
      "metadata": {},
      "cell_type": "markdown",
      "source": "### For Categorical data"
    },
    {
      "metadata": {},
      "cell_type": "markdown",
      "source": "![Imgur](https://i.imgur.com/eqCRnXX.png)"
    },
    {
      "metadata": {},
      "cell_type": "markdown",
      "source": "### For Quantitative data"
    },
    {
      "metadata": {
        "slideshow": {
          "slide_type": "slide"
        }
      },
      "cell_type": "markdown",
      "source": "![Imgur](https://i.imgur.com/4E6edLU.png?1)"
    },
    {
      "metadata": {
        "slideshow": {
          "slide_type": "slide"
        }
      },
      "cell_type": "markdown",
      "source": "![Imgur](https://i.imgur.com/9nwOIJY.png)"
    },
    {
      "metadata": {},
      "cell_type": "markdown",
      "source": "**Note:**  Its nothing but we are recoded the ***quantitative variable*** as ***ordinal categorical variables*** (however vice versa is not possible)\n![Imgur](https://i.imgur.com/RHeyIR6.png)"
    },
    {
      "metadata": {
        "slideshow": {
          "slide_type": "slide"
        }
      },
      "cell_type": "markdown",
      "source": "![Imgur](https://i.imgur.com/JPs29Kg.png?1)"
    },
    {
      "metadata": {
        "slideshow": {
          "slide_type": "slide"
        }
      },
      "cell_type": "markdown",
      "source": "## Construct Frequency and Contingency Tables/cross tables"
    },
    {
      "metadata": {
        "slideshow": {
          "slide_type": "subslide"
        }
      },
      "cell_type": "markdown",
      "source": "https://archive.cnx.org/contents/c471a3e5-a0ec-47fb-a559-1802c7d827ec@1/frequency-and-contingency-tables-in-r  \nhttp://rstudio-pubs-static.s3.amazonaws.com/2277_404d9b623e0b4dcf9fe0927c38067813.html  "
    },
    {
      "metadata": {
        "slideshow": {
          "slide_type": "slide"
        }
      },
      "cell_type": "markdown",
      "source": "<span style=\"color:red; font-family:Comic Sans MS\">References</span>"
    },
    {
      "metadata": {
        "slideshow": {
          "slide_type": "fragment"
        }
      },
      "cell_type": "markdown",
      "source": "https://bit.ly/2HpksJ8  \nhttps://bit.ly/2vLLMMn  \nhttps://bit.ly/2xGhTZp  "
    },
    {
      "metadata": {
        "slideshow": {
          "slide_type": "slide"
        }
      },
      "cell_type": "markdown",
      "source": "## Practice"
    },
    {
      "metadata": {
        "slideshow": {
          "slide_type": "fragment"
        }
      },
      "cell_type": "markdown",
      "source": "http://www.statstutor.ac.uk/types/tests-and-quizzes/probability-distributions/  \nhttp://www.statstutor.ac.uk/types/tests-and-quizzes/probabilitymassfunction/  "
    },
    {
      "metadata": {
        "trusted": false
      },
      "cell_type": "code",
      "source": "",
      "execution_count": null,
      "outputs": []
    }
  ],
  "metadata": {
    "celltoolbar": "Slideshow",
    "hide_input": false,
    "kernelspec": {
      "name": "r",
      "display_name": "R",
      "language": "R"
    },
    "language_info": {
      "mimetype": "text/x-r-source",
      "name": "R",
      "pygments_lexer": "r",
      "version": "3.4.1",
      "file_extension": ".r",
      "codemirror_mode": "r"
    },
    "nav_menu": {},
    "toc": {
      "nav_menu": {},
      "number_sections": false,
      "sideBar": true,
      "skip_h1_title": true,
      "base_numbering": 1,
      "title_cell": "Table of Contents",
      "title_sidebar": "Contents",
      "toc_cell": true,
      "toc_position": {},
      "toc_section_display": "block",
      "toc_window_display": false
    }
  },
  "nbformat": 4,
  "nbformat_minor": 2
}