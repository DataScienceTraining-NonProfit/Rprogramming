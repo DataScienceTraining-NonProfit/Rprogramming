{
  "cells": [
    {
      "metadata": {
        "toc": true
      },
      "cell_type": "markdown",
      "source": "<h1>Table of Contents<span class=\"tocSkip\"></span></h1>\n<div class=\"toc\"><ul class=\"toc-item\"><li><span><a href=\"#Regression-analysis\" data-toc-modified-id=\"Regression-analysis-1\"><span class=\"toc-item-num\">1&nbsp;&nbsp;</span>Regression analysis</a></span><ul class=\"toc-item\"><li><span><a href=\"#Simple-linear-Regression\" data-toc-modified-id=\"Simple-linear-Regression-1.1\"><span class=\"toc-item-num\">1.1&nbsp;&nbsp;</span>Simple linear Regression</a></span></li><li><span><a href=\"#Multiple-linear-Regression\" data-toc-modified-id=\"Multiple-linear-Regression-1.2\"><span class=\"toc-item-num\">1.2&nbsp;&nbsp;</span>Multiple linear Regression</a></span></li></ul></li></ul></div>"
    },
    {
      "metadata": {},
      "cell_type": "markdown",
      "source": "## Regression analysis"
    },
    {
      "metadata": {},
      "cell_type": "markdown",
      "source": "**Regression analysis** is a statistical tool that attempts to identify correlation between independent variables (one variable or more) and a single dependent variable.   \n\n**Correlation** is the degree to which two things change together.   \n* Any two things are correlated, somewhere between -1 and 1, \n* 0 meaning there is no correlation at all\n* positively correlated - a positive change in one (advertising) leads to a positive change in something else (sales).  "
    },
    {
      "metadata": {},
      "cell_type": "markdown",
      "source": "**Linear Functions and Models  **  \n**linear equation** is any pattern of numbers that is increasing or decreasing by the same amount every step of the way.  \n**slope-intercept form** of the linear equation, `y = mx + b`, where the m value is the slope, and the b value is the y-intercept.  \n\n<sub>https://www.zweigmedia.com/RealWorld/tutorialsf0/framesLA.html</sub>  \n<sub>https://study.com/academy/lesson/what-is-a-linear-equation.html</sub>  "
    },
    {
      "metadata": {},
      "cell_type": "markdown",
      "source": "### Simple linear Regression  \na single independent variable is used to predict the value of a dependent variable  "
    },
    {
      "metadata": {
        "scrolled": true,
        "trusted": false
      },
      "cell_type": "code",
      "source": "# Importing the dataset\ndataset = read.csv('data/income.csv')\n\n# Splitting the dataset into the Training set and Test set\ninstall.packages('caTools')\nlibrary(caTools)\nset.seed(123)\nsplit = sample.split(dataset$income, SplitRatio = 2/3)\ntraining_set = subset(dataset, split == TRUE)\ntest_set = subset(dataset, split == FALSE)\n\n# Feature Scaling\n# training_set = scale(training_set)\n# test_set = scale(test_set)\n\n# Fitting Simple Linear Regression to the Training set\nregressor = lm(formula = income ~ Exp,\n               data = training_set)\n\n# Predicting the Test set results\ny_pred = predict(regressor, newdata = test_set)\n\n# Visualising the Training set results\nlibrary(ggplot2)\nggplot() +\n  geom_point(aes(x = training_set$Exp, y = training_set$income),\n             colour = 'red') +\n  geom_line(aes(x = training_set$Exp, y = predict(regressor, newdata = training_set)),\n            colour = 'blue') +\n  ggtitle('income vs Experience (Training set)') +\n  xlab('Years of experience') +\n  ylab('income')\n\n# Visualising the Test set results\nlibrary(ggplot2)\nggplot() +\n  geom_point(aes(x = test_set$Exp, y = test_set$income),\n             colour = 'red') +\n  geom_line(aes(x = training_set$Exp, y = predict(regressor, newdata = training_set)),\n            colour = 'blue') +\n  ggtitle('income vs Experience (Test set)') +\n  xlab('Years of experience') +\n  ylab('income')",
      "execution_count": null,
      "outputs": []
    },
    {
      "metadata": {},
      "cell_type": "markdown",
      "source": "### Multiple linear Regression\ntwo or more independent variables are used to predict the value of a dependent variable  "
    },
    {
      "metadata": {
        "trusted": false
      },
      "cell_type": "code",
      "source": "# Importing the dataset\ndataset = read.csv('data/companies.csv')\n\n# Encoding categorical data\ndataset$State = factor(dataset$State,\n                       levels = c('New York', 'California', 'Florida'),\n                       labels = c(1, 2, 3))\n\n# Splitting the dataset into the Training set and Test set\n# install.packages('caTools')\nlibrary(caTools)\nset.seed(123)\nsplit = sample.split(dataset$Profit, SplitRatio = 0.8)\ntraining_set = subset(dataset, split == TRUE)\ntest_set = subset(dataset, split == FALSE)\n\n# Feature Scaling\n# training_set = scale(training_set)\n# test_set = scale(test_set)\n\n# Fitting Multiple Linear Regression to the Training set\nregressor = lm(formula = Profit ~ .,\n               data = training_set)\n\n# Predicting the Test set results\ny_pred = predict(regressor, newdata = test_set)",
      "execution_count": null,
      "outputs": []
    },
    {
      "metadata": {},
      "cell_type": "markdown",
      "source": "<span style=\"color:red; font-family:Comic Sans MS\">**Sources & References** </span>     \n<a href=\"https://gl4l.greatlearning.in/building-artificial-neural-networks-using-r/\" target=\"_blank\">https://gl4l.greatlearning.in/building-artificial-neural-networks-using-r/</a>  \n<span style=\"color:red; font-family:Comic Sans MS\">Further Resources: </span>     \n<a href=\"http://www.michaeljgrogan.com/neural-network-modelling-neuralnet-r/\" target=\"_blank\">http://www.michaeljgrogan.com/neural-network-modelling-neuralnet-r/</a>  \n<a href=\"https://towardsdatascience.com/how-to-build-your-own-neural-network-from-scratch-in-python-68998a08e4f6\" target=\"_blank\">https://towardsdatascience.com/how-to-build-your-own-neural-network-from-scratch-in-python-68998a08e4f6</a>  \n\n"
    }
  ],
  "metadata": {
    "kernelspec": {
      "name": "r",
      "display_name": "R",
      "language": "R"
    },
    "language_info": {
      "mimetype": "text/x-r-source",
      "name": "R",
      "pygments_lexer": "r",
      "version": "3.5.3",
      "file_extension": ".r",
      "codemirror_mode": "r"
    },
    "toc": {
      "nav_menu": {},
      "number_sections": true,
      "sideBar": true,
      "skip_h1_title": true,
      "base_numbering": 1,
      "title_cell": "Table of Contents",
      "title_sidebar": "Contents",
      "toc_cell": true,
      "toc_position": {},
      "toc_section_display": true,
      "toc_window_display": false
    }
  },
  "nbformat": 4,
  "nbformat_minor": 2
}