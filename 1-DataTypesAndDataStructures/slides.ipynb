{
 "cells": [
  {
   "cell_type": "markdown",
   "metadata": {
    "slideshow": {
     "slide_type": "slide"
    }
   },
   "source": [
    "## Vectors"
   ]
  },
  {
   "cell_type": "markdown",
   "metadata": {
    "slideshow": {
     "slide_type": "subslide"
    }
   },
   "source": [
    "Vectors can be of two types:\n",
    "\t* atomic vectors (basic data types in R and is pretty much the workhorse of R)\n",
    "\t* lists (List is a special vector. Each element can be a different class)"
   ]
  },
  {
   "cell_type": "markdown",
   "metadata": {
    "slideshow": {
     "slide_type": "slide"
    }
   },
   "source": [
    "### Atomic Vectors"
   ]
  },
  {
   "cell_type": "markdown",
   "metadata": {
    "slideshow": {
     "slide_type": "slide"
    }
   },
   "source": [
    "* A vector can be a vector of characters, logical, integers or numeric.  \n",
    "You can create vectors by concatenating them using the `c()` function.  \n",
    "Various examples:  \n",
    "`x <- c(1, 2, 3)`  \n",
    "x is a numeric vector. These are the most common kind. They are numeric objects and are treated as double precision real numbers. To explicitly create integers, add a L at the end.   \n",
    "`x1 <- c(1L, 2L, 3L)` \n",
    "You can also have logical vectors.  \n",
    "`y <- c(TRUE, TRUE, FALSE, FALSE)`  \n",
    "Finally you can have character vectors:  \n",
    "`z <- c(\"Alec\", \"Dan\", \"Rob\", \"Rich\")`  "
   ]
  },
  {
   "cell_type": "markdown",
   "metadata": {
    "run_control": {
     "marked": false
    },
    "slideshow": {
     "slide_type": "subslide"
    }
   },
   "source": [
    "```{r}\n",
    "#The general pattern is vector(class of object, length). \n",
    "Create an empty vector with vector()\n",
    "x <- vector()\n",
    "# with a pre-defined length\n",
    "x <- vector(length = 10)\n",
    "# with a length and type\n",
    "vector(\"character\", length = 10)\n",
    "vector(\"numeric\", length = 10)\n",
    "vector(\"integer\", length = 10)\n",
    "vector(\"logical\", length = 10)\n",
    "```"
   ]
  },
  {
   "cell_type": "markdown",
   "metadata": {
    "slideshow": {
     "slide_type": "slide"
    }
   },
   "source": [
    "## atomic classes"
   ]
  },
  {
   "cell_type": "markdown",
   "metadata": {
    "run_control": {
     "frozen": false,
     "read_only": false
    },
    "slideshow": {
     "slide_type": "subslide"
    }
   },
   "source": [
    "R has 5 basic atomic classes\n",
    "\t* logical (e.g., TRUE, FALSE)\n",
    "\t* integer (e.g,, 2L, as.integer(3))\n",
    "\t* numeric (real or decimal) (e.g, 2, 2.0, pi)\n",
    "\t* complex (e.g, 1 + 0i, 1 + 4i)\n",
    "\t* character (e.g, \"a\", \"swc\")"
   ]
  },
  {
   "cell_type": "markdown",
   "metadata": {
    "slideshow": {
     "slide_type": "subslide"
    }
   },
   "source": [
    "**Vectors may only have one type**   \n",
    "R will create a resulting vector that is the least common denominator. The coercion will move towards the one that's easiest to coerce to.\n",
    "Guess what the following do without running them first    \n",
    "```{r}\n",
    "xx <- c(1.7, \"a\")\n",
    "xx <- c(TRUE, 2)\n",
    "xx <- c(\"a\", TRUE)\n",
    "This is called implicit coercion.\n",
    "```\n",
    "The coersion rule goes   \n",
    "*logical -> integer -> numeric -> complex -> character.*  "
   ]
  },
  {
   "cell_type": "markdown",
   "metadata": {
    "slideshow": {
     "slide_type": "slide"
    }
   },
   "source": [
    "### Lists"
   ]
  },
  {
   "cell_type": "markdown",
   "metadata": {
    "slideshow": {
     "slide_type": "subslide"
    }
   },
   "source": [
    "* List is a special vector. Each element can be a different class.\n",
    "* lists act as containers\n",
    "* Unlike atomic vectors, its contents are not restricted to a single type"
   ]
  },
  {
   "cell_type": "markdown",
   "metadata": {
    "slideshow": {
     "slide_type": "subslide"
    }
   },
   "source": [
    "** Create a ists using list function**      \n",
    "'x <- list(1, \"a\", TRUE, 1+4i)'\n",
    "    "
   ]
  },
  {
   "cell_type": "markdown",
   "metadata": {
    "slideshow": {
     "slide_type": "slide"
    }
   },
   "source": [
    "## Data Structures"
   ]
  },
  {
   "cell_type": "markdown",
   "metadata": {
    "slideshow": {
     "slide_type": "subslide"
    }
   },
   "source": [
    "R also has many data structures. These include\n",
    "\t* matrix\n",
    "    * arrays\n",
    "\t* data frame\t"
   ]
  },
  {
   "cell_type": "markdown",
   "metadata": {
    "run_control": {
     "frozen": false,
     "read_only": false
    },
    "slideshow": {
     "slide_type": "slide"
    }
   },
   "source": [
    "![Imgur](https://i.imgur.com/VgHl6y2.png?1)"
   ]
  },
  {
   "cell_type": "markdown",
   "metadata": {
    "run_control": {
     "frozen": false,
     "read_only": false
    },
    "slideshow": {
     "slide_type": "slide"
    }
   },
   "source": [
    "![Imgur](https://i.imgur.com/c73sZAd.png?1)"
   ]
  }
 ],
 "metadata": {
  "celltoolbar": "Slideshow",
  "hide_input": false,
  "kernelspec": {
   "display_name": "R",
   "language": "R",
   "name": "ir"
  },
  "language_info": {
   "codemirror_mode": "r",
   "file_extension": ".r",
   "mimetype": "text/x-r-source",
   "name": "R",
   "pygments_lexer": "r",
   "version": "3.3.2"
  },
  "nav_menu": {},
  "toc": {
   "navigate_menu": true,
   "number_sections": true,
   "sideBar": true,
   "threshold": 6,
   "toc_cell": false,
   "toc_section_display": "block",
   "toc_window_display": false
  }
 },
 "nbformat": 4,
 "nbformat_minor": 2
}
