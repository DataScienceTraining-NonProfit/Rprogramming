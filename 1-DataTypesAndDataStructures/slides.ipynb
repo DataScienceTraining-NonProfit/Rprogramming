{
 "cells": [
  {
   "cell_type": "markdown",
   "metadata": {
    "slideshow": {
     "slide_type": "slide"
    },
    "toc": "true"
   },
   "source": [
    "# Table of Contents\n",
    " <p><div class=\"lev1 toc-item\"><a href=\"#Data-types-&amp;-Data-structures\" data-toc-modified-id=\"Data-types-&amp;-Data-structures-1\"><span class=\"toc-item-num\">1&nbsp;&nbsp;</span>Data types &amp; Data structures</a></div><div class=\"lev2 toc-item\"><a href=\"#Primary-data-structures\" data-toc-modified-id=\"Primary-data-structures-1.1\"><span class=\"toc-item-num\">1.1&nbsp;&nbsp;</span>Primary data structures</a></div><div class=\"lev3 toc-item\"><a href=\"#Vectors-(atomic-vectors)\" data-toc-modified-id=\"Vectors-(atomic-vectors)-1.1.1\"><span class=\"toc-item-num\">1.1.1&nbsp;&nbsp;</span>Vectors (atomic vectors)</a></div><div class=\"lev2 toc-item\"><a href=\"#Types-of-atomic-Vectors\" data-toc-modified-id=\"Types-of-atomic-Vectors-1.2\"><span class=\"toc-item-num\">1.2&nbsp;&nbsp;</span>Types of atomic Vectors</a></div><div class=\"lev3 toc-item\"><a href=\"#Lists-(recursive-vectors)\" data-toc-modified-id=\"Lists-(recursive-vectors)-1.2.1\"><span class=\"toc-item-num\">1.2.1&nbsp;&nbsp;</span>Lists (recursive vectors)</a></div><div class=\"lev2 toc-item\"><a href=\"#Other-data-structures\" data-toc-modified-id=\"Other-data-structures-1.3\"><span class=\"toc-item-num\">1.3&nbsp;&nbsp;</span>Other data structures</a></div><div class=\"lev3 toc-item\"><a href=\"#matrix-and-arrays\" data-toc-modified-id=\"matrix-and-arrays-1.3.1\"><span class=\"toc-item-num\">1.3.1&nbsp;&nbsp;</span>matrix and arrays</a></div><div class=\"lev3 toc-item\"><a href=\"#data-frame\" data-toc-modified-id=\"data-frame-1.3.2\"><span class=\"toc-item-num\">1.3.2&nbsp;&nbsp;</span>data frame</a></div><div class=\"lev4 toc-item\"><a href=\"#expand.grid()\" data-toc-modified-id=\"expand.grid()-1.3.2.1\"><span class=\"toc-item-num\">1.3.2.1&nbsp;&nbsp;</span>expand.grid()</a></div><div class=\"lev4 toc-item\"><a href=\"#cbind-and-rbind\" data-toc-modified-id=\"cbind-and-rbind-1.3.2.2\"><span class=\"toc-item-num\">1.3.2.2&nbsp;&nbsp;</span>cbind and rbind</a></div>"
   ]
  },
  {
   "cell_type": "markdown",
   "metadata": {
    "slideshow": {
     "slide_type": "slide"
    }
   },
   "source": [
    "# Data types & Data structures"
   ]
  },
  {
   "cell_type": "markdown",
   "metadata": {
    "slideshow": {
     "slide_type": "subslide"
    }
   },
   "source": [
    "**Data structures:**  A perticular way of organizing data in a computer.  "
   ]
  },
  {
   "cell_type": "markdown",
   "metadata": {
    "slideshow": {
     "slide_type": "slide"
    }
   },
   "source": [
    "![Imgur](https://i.imgur.com/SXhHlye.jpg)"
   ]
  },
  {
   "cell_type": "markdown",
   "metadata": {
    "slideshow": {
     "slide_type": "slide"
    }
   },
   "source": [
    "## Primary data structures"
   ]
  },
  {
   "cell_type": "markdown",
   "metadata": {
    "slideshow": {
     "slide_type": "subslide"
    }
   },
   "source": [
    "Vectors can be of two types:\n",
    "\t* Atomic vectors (basic data types in R and is pretty much the workhorse of R)\n",
    "\t* Recursive Vectors or lists (List is a special vector. Each element can be a different class)"
   ]
  },
  {
   "cell_type": "markdown",
   "metadata": {
    "slideshow": {
     "slide_type": "slide"
    }
   },
   "source": [
    "### Vectors (atomic vectors)"
   ]
  },
  {
   "cell_type": "markdown",
   "metadata": {
    "slideshow": {
     "slide_type": "slide"
    }
   },
   "source": [
    "* A vector can be a vector of characters, logical, integers or numeric.  \n",
    "You can create vectors by concatenating them using the `c()` function.  \n",
    "Various examples:  \n",
    "`x <- c(1, 2, 3)`  \n",
    "x is a numeric vector. These are the most common kind. They are numeric objects and are treated as double precision real numbers. To explicitly create integers, add a L at the end.   \n",
    "`x1 <- c(1L, 2L, 3L)` \n",
    "You can also have logical vectors.  \n",
    "`y <- c(TRUE, TRUE, FALSE, FALSE)`  \n",
    "Finally you can have character vectors:  \n",
    "`z <- c(\"Alec\", \"Dan\", \"Rob\", \"Rich\")`  "
   ]
  },
  {
   "cell_type": "markdown",
   "metadata": {
    "run_control": {
     "marked": false
    },
    "slideshow": {
     "slide_type": "subslide"
    }
   },
   "source": [
    "```{r}\n",
    "#The general pattern is vector(class of object, length). \n",
    "Create an empty vector with vector()\n",
    "x <- vector()\n",
    "# with a pre-defined length\n",
    "x <- vector(length = 10)\n",
    "# with a length and type\n",
    "vector(\"character\", length = 10)\n",
    "vector(\"numeric\", length = 10)\n",
    "vector(\"integer\", length = 10)\n",
    "vector(\"logical\", length = 10)\n",
    "```"
   ]
  },
  {
   "cell_type": "markdown",
   "metadata": {
    "slideshow": {
     "slide_type": "slide"
    }
   },
   "source": [
    "## Types of atomic Vectors"
   ]
  },
  {
   "cell_type": "markdown",
   "metadata": {
    "run_control": {
     "frozen": false,
     "read_only": false
    },
    "slideshow": {
     "slide_type": "subslide"
    }
   },
   "source": [
    "R has 5 common types of atomic vectors\n",
    "\t* logical (e.g., TRUE, FALSE)\n",
    "\t* integer (e.g,, 2L, as.integer(3))\n",
    "\t* numeric (real or decimal) (e.g, 2, 2.0, pi)\n",
    "\t* complex (e.g, 1 + 0i, 1 + 4i)\n",
    "\t* character (e.g, \"a\", \"swc\")"
   ]
  },
  {
   "cell_type": "markdown",
   "metadata": {
    "slideshow": {
     "slide_type": "subslide"
    }
   },
   "source": [
    "**Vectors may only have one type**   \n",
    "* atomic vectors are homogeneous. This means that every element within a single atomic vector has to be of the same type\n",
    "* R will create a resulting vector that is the least common denominator. The coercion will move towards the one that's easiest to coerce to.\n",
    "Guess what the following do without running them first    \n",
    "```{r}\n",
    "xx <- c(1.7, \"a\")\n",
    "xx <- c(TRUE, 2)\n",
    "xx <- c(\"a\", TRUE)\n",
    "This is called implicit coercion.\n",
    "```\n",
    "The coersion rule goes   \n",
    "*logical -> integer -> numeric -> complex -> character.*  "
   ]
  },
  {
   "cell_type": "markdown",
   "metadata": {
    "slideshow": {
     "slide_type": "slide"
    }
   },
   "source": [
    "![Imgur](https://i.imgur.com/k9Ubya2.png)\n",
    "   \n",
    "  \n",
    "```{r}\n",
    "(x <- c(sort(sample(1:20, 9)), NA))\n",
    "(y <- c(sort(sample(3:23, 7)), NA))\n",
    "rev(x)\n",
    "union(x, y)\n",
    "intersect(x, y)\n",
    "setdiff(x, y)\n",
    "setdiff(y, x)\n",
    "setequal(x, y)\n",
    "```"
   ]
  },
  {
   "cell_type": "markdown",
   "metadata": {
    "slideshow": {
     "slide_type": "slide"
    }
   },
   "source": [
    "### Lists (recursive vectors)"
   ]
  },
  {
   "cell_type": "markdown",
   "metadata": {
    "slideshow": {
     "slide_type": "subslide"
    }
   },
   "source": [
    "* List is a special vector. Each element can be a different class.\n",
    "* lists act as containers\n",
    "* Unlike atomic vectors, its contents are not restricted to a single type\n",
    "* a list can be anything, and two elements within a list can be of different types!\n",
    "* Lists are sometimes called recursive vectors, because a list can contain other lists"
   ]
  },
  {
   "cell_type": "markdown",
   "metadata": {
    "slideshow": {
     "slide_type": "subslide"
    }
   },
   "source": [
    "** Create a ists using list function**      \n",
    "'x <- list(1, \"a\", TRUE, 1+4i)'\n",
    "    "
   ]
  },
  {
   "cell_type": "markdown",
   "metadata": {
    "slideshow": {
     "slide_type": "slide"
    }
   },
   "source": [
    "## Other data structures"
   ]
  },
  {
   "cell_type": "markdown",
   "metadata": {
    "slideshow": {
     "slide_type": "subslide"
    }
   },
   "source": [
    "R also has many data structures. These include\n",
    "\t* matrix and arrays\n",
    "    * data frame\t"
   ]
  },
  {
   "cell_type": "markdown",
   "metadata": {
    "run_control": {
     "frozen": false,
     "read_only": false
    },
    "slideshow": {
     "slide_type": "slide"
    }
   },
   "source": [
    "![Imgur](https://i.imgur.com/VgHl6y2.png?1)"
   ]
  },
  {
   "cell_type": "markdown",
   "metadata": {
    "run_control": {
     "frozen": false,
     "read_only": false
    },
    "slideshow": {
     "slide_type": "slide"
    }
   },
   "source": [
    "![Imgur](https://i.imgur.com/c73sZAd.png?1)"
   ]
  },
  {
   "cell_type": "markdown",
   "metadata": {
    "slideshow": {
     "slide_type": "slide"
    }
   },
   "source": [
    "### matrix and arrays"
   ]
  },
  {
   "cell_type": "markdown",
   "metadata": {
    "slideshow": {
     "slide_type": "subslide"
    }
   },
   "source": [
    "* Stacking multiple matrices\n",
    "* Matrices in R can be thought of as vectors indexed using two indices instead of one"
   ]
  },
  {
   "cell_type": "code",
   "execution_count": 1,
   "metadata": {
    "run_control": {
     "frozen": false,
     "read_only": false
    },
    "slideshow": {
     "slide_type": "subslide"
    }
   },
   "outputs": [
    {
     "data": {
      "text/html": [
       "<table>\n",
       "<tbody>\n",
       "\t<tr><td>47 </td><td>36 </td><td>  1</td></tr>\n",
       "\t<tr><td>48 </td><td>89 </td><td>  2</td></tr>\n",
       "\t<tr><td>52 </td><td>45 </td><td>-25</td></tr>\n",
       "</tbody>\n",
       "</table>\n"
      ],
      "text/latex": [
       "\\begin{tabular}{lll}\n",
       "\t 47  & 36  &   1\\\\\n",
       "\t 48  & 89  &   2\\\\\n",
       "\t 52  & 45  & -25\\\\\n",
       "\\end{tabular}\n"
      ],
      "text/markdown": [
       "\n",
       "| 47  | 36  |   1 | \n",
       "| 48  | 89  |   2 | \n",
       "| 52  | 45  | -25 | \n",
       "\n",
       "\n"
      ],
      "text/plain": [
       "     [,1] [,2] [,3]\n",
       "[1,] 47   36     1 \n",
       "[2,] 48   89     2 \n",
       "[3,] 52   45   -25 "
      ]
     },
     "metadata": {},
     "output_type": "display_data"
    }
   ],
   "source": [
    "m <- matrix(c(47,48,52,36,89,45,1,2,-25), nrow = 3, ncol = 3)\n",
    "m\n",
    "# this code creates a 3 by 3 matrix"
   ]
  },
  {
   "cell_type": "markdown",
   "metadata": {
    "slideshow": {
     "slide_type": "slide"
    }
   },
   "source": [
    "* If a higher dimension vector is desired, then use the array() function to generate the n-dimensional object. A 3x3x3 array can be created as follows:"
   ]
  },
  {
   "cell_type": "code",
   "execution_count": 2,
   "metadata": {
    "run_control": {
     "frozen": false,
     "read_only": false
    },
    "slideshow": {
     "slide_type": "subslide"
    }
   },
   "outputs": [
    {
     "name": "stdout",
     "output_type": "stream",
     "text": [
      ", , 1\n",
      "\n",
      "     [,1] [,2] [,3]\n",
      "[1,]    1    4    7\n",
      "[2,]    2    5    8\n",
      "[3,]    3    6    9\n",
      "\n",
      ", , 2\n",
      "\n",
      "     [,1] [,2] [,3]\n",
      "[1,]   10   13   16\n",
      "[2,]   11   14   17\n",
      "[3,]   12   15   18\n",
      "\n",
      ", , 3\n",
      "\n",
      "     [,1] [,2] [,3]\n",
      "[1,]   19   22   25\n",
      "[2,]   20   23   26\n",
      "[3,]   21   24   27\n",
      "\n"
     ]
    }
   ],
   "source": [
    "m <- array(1:27, dim=c(3,3,3))\n",
    "print(m)"
   ]
  },
  {
   "cell_type": "markdown",
   "metadata": {
    "slideshow": {
     "slide_type": "slide"
    }
   },
   "source": [
    "### data frame    "
   ]
  },
  {
   "cell_type": "markdown",
   "metadata": {
    "slideshow": {
     "slide_type": "subslide"
    }
   },
   "source": [
    "* unlike a matrix, a data frame can mix data types across columns"
   ]
  },
  {
   "cell_type": "code",
   "execution_count": 3,
   "metadata": {
    "run_control": {
     "frozen": false,
     "read_only": false
    },
    "scrolled": true,
    "slideshow": {
     "slide_type": "subslide"
    }
   },
   "outputs": [
    {
     "data": {
      "text/html": [
       "<table>\n",
       "<thead><tr><th scope=col>Name</th><th scope=col>Value1</th><th scope=col>Value2</th></tr></thead>\n",
       "<tbody>\n",
       "\t<tr><td>a1</td><td>23</td><td> 1</td></tr>\n",
       "\t<tr><td>a2</td><td> 4</td><td>45</td></tr>\n",
       "\t<tr><td>b3</td><td>12</td><td> 5</td></tr>\n",
       "</tbody>\n",
       "</table>\n"
      ],
      "text/latex": [
       "\\begin{tabular}{r|lll}\n",
       " Name & Value1 & Value2\\\\\n",
       "\\hline\n",
       "\t a1 & 23 &  1\\\\\n",
       "\t a2 &  4 & 45\\\\\n",
       "\t b3 & 12 &  5\\\\\n",
       "\\end{tabular}\n"
      ],
      "text/markdown": [
       "\n",
       "Name | Value1 | Value2 | \n",
       "|---|---|---|\n",
       "| a1 | 23 |  1 | \n",
       "| a2 |  4 | 45 | \n",
       "| b3 | 12 |  5 | \n",
       "\n",
       "\n"
      ],
      "text/plain": [
       "  Name Value1 Value2\n",
       "1 a1   23      1    \n",
       "2 a2    4     45    \n",
       "3 b3   12      5    "
      ]
     },
     "metadata": {},
     "output_type": "display_data"
    }
   ],
   "source": [
    "Name <- c(\"a1\", \"a2\", \"b3\")\n",
    "Value1 <- c(23, 4, 12)\n",
    "Value2 <- c(1,45,5)\n",
    "dat <- data.frame(Name, Value1, Value2)\n",
    "dat"
   ]
  },
  {
   "cell_type": "markdown",
   "metadata": {
    "run_control": {
     "marked": false
    },
    "slideshow": {
     "slide_type": "slide"
    }
   },
   "source": [
    "#### expand.grid()  \n",
    "(to create a data frame)"
   ]
  },
  {
   "cell_type": "markdown",
   "metadata": {
    "slideshow": {
     "slide_type": "slide"
    }
   },
   "source": [
    "#### cbind and rbind\n",
    "(to create a data frame)"
   ]
  },
  {
   "cell_type": "code",
   "execution_count": null,
   "metadata": {
    "run_control": {
     "frozen": false,
     "read_only": false
    }
   },
   "outputs": [],
   "source": []
  }
 ],
 "metadata": {
  "celltoolbar": "Slideshow",
  "hide_input": false,
  "kernelspec": {
   "display_name": "R",
   "language": "R",
   "name": "ir"
  },
  "language_info": {
   "codemirror_mode": "r",
   "file_extension": ".r",
   "mimetype": "text/x-r-source",
   "name": "R",
   "pygments_lexer": "r",
   "version": "3.3.2"
  },
  "nav_menu": {},
  "toc": {
   "navigate_menu": true,
   "number_sections": false,
   "sideBar": true,
   "threshold": 6,
   "toc_cell": true,
   "toc_section_display": "block",
   "toc_window_display": false
  }
 },
 "nbformat": 4,
 "nbformat_minor": 2
}
