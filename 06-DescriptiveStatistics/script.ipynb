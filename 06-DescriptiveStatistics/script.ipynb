{
 "cells": [
  {
   "cell_type": "code",
   "execution_count": 1,
   "metadata": {},
   "outputs": [
    {
     "data": {
      "text/html": [
       "230.721875"
      ],
      "text/latex": [
       "230.721875"
      ],
      "text/markdown": [
       "230.721875"
      ],
      "text/plain": [
       "[1] 230.7219"
      ]
     },
     "metadata": {},
     "output_type": "display_data"
    },
    {
     "data": {
      "text/html": [
       "196.3"
      ],
      "text/latex": [
       "196.3"
      ],
      "text/markdown": [
       "196.3"
      ],
      "text/plain": [
       "[1] 196.3"
      ]
     },
     "metadata": {},
     "output_type": "display_data"
    },
    {
     "data": {
      "text/html": [
       "<ol class=list-inline>\n",
       "\t<li>71.1</li>\n",
       "\t<li>472</li>\n",
       "</ol>\n"
      ],
      "text/latex": [
       "\\begin{enumerate*}\n",
       "\\item 71.1\n",
       "\\item 472\n",
       "\\end{enumerate*}\n"
      ],
      "text/markdown": [
       "1. 71.1\n",
       "2. 472\n",
       "\n",
       "\n"
      ],
      "text/plain": [
       "[1]  71.1 472.0"
      ]
     },
     "metadata": {},
     "output_type": "display_data"
    },
    {
     "data": {
      "text/html": [
       "15360.799828629"
      ],
      "text/latex": [
       "15360.799828629"
      ],
      "text/markdown": [
       "15360.799828629"
      ],
      "text/plain": [
       "[1] 15360.8"
      ]
     },
     "metadata": {},
     "output_type": "display_data"
    },
    {
     "data": {
      "text/html": [
       "123.938693831382"
      ],
      "text/latex": [
       "123.938693831382"
      ],
      "text/markdown": [
       "123.938693831382"
      ],
      "text/plain": [
       "[1] 123.9387"
      ]
     },
     "metadata": {},
     "output_type": "display_data"
    },
    {
     "data": {
      "text/html": [
       "'numeric'"
      ],
      "text/latex": [
       "'numeric'"
      ],
      "text/markdown": [
       "'numeric'"
      ],
      "text/plain": [
       "[1] \"numeric\""
      ]
     },
     "metadata": {},
     "output_type": "display_data"
    },
    {
     "name": "stdout",
     "output_type": "stream",
     "text": [
      "[1] 275\n"
     ]
    },
    {
     "data": {
      "text/plain": [
       "\n",
       " 71.1  75.7  78.7    79  95.1   108 120.1 120.3   121 140.8   145 146.7   160 \n",
       "    1     1     1     1     1     1     1     1     1     1     1     1     2 \n",
       "167.6   225   258 275.8   301   304   318   350   351   360   400   440   460 \n",
       "    2     1     1     3     1     1     1     1     1     2     1     1     1 \n",
       "  472 \n",
       "    1 "
      ]
     },
     "metadata": {},
     "output_type": "display_data"
    },
    {
     "data": {
      "text/html": [
       "15360.799828629"
      ],
      "text/latex": [
       "15360.799828629"
      ],
      "text/markdown": [
       "15360.799828629"
      ],
      "text/plain": [
       "[1] 15360.8"
      ]
     },
     "metadata": {},
     "output_type": "display_data"
    },
    {
     "data": {
      "text/html": [
       "15360.799828629"
      ],
      "text/latex": [
       "15360.799828629"
      ],
      "text/markdown": [
       "15360.799828629"
      ],
      "text/plain": [
       "[1] 15360.8"
      ]
     },
     "metadata": {},
     "output_type": "display_data"
    },
    {
     "data": {
      "text/html": [
       "14880.7748339844"
      ],
      "text/latex": [
       "14880.7748339844"
      ],
      "text/markdown": [
       "14880.7748339844"
      ],
      "text/plain": [
       "[1] 14880.77"
      ]
     },
     "metadata": {},
     "output_type": "display_data"
    },
    {
     "data": {
      "text/html": [
       "<strong>25%:</strong> 120.825"
      ],
      "text/latex": [
       "\\textbf{25\\textbackslash{}\\%:} 120.825"
      ],
      "text/markdown": [
       "**25%:** 120.825"
      ],
      "text/plain": [
       "    25% \n",
       "120.825 "
      ]
     },
     "metadata": {},
     "output_type": "display_data"
    },
    {
     "data": {
      "text/html": [
       "<strong>50%:</strong> 196.3"
      ],
      "text/latex": [
       "\\textbf{50\\textbackslash{}\\%:} 196.3"
      ],
      "text/markdown": [
       "**50%:** 196.3"
      ],
      "text/plain": [
       "  50% \n",
       "196.3 "
      ]
     },
     "metadata": {},
     "output_type": "display_data"
    },
    {
     "data": {
      "text/html": [
       "196.3"
      ],
      "text/latex": [
       "196.3"
      ],
      "text/markdown": [
       "196.3"
      ],
      "text/plain": [
       "[1] 196.3"
      ]
     },
     "metadata": {},
     "output_type": "display_data"
    },
    {
     "data": {
      "text/html": [
       "<strong>75%:</strong> 326"
      ],
      "text/latex": [
       "\\textbf{75\\textbackslash{}\\%:} 326"
      ],
      "text/markdown": [
       "**75%:** 326"
      ],
      "text/plain": [
       "75% \n",
       "326 "
      ]
     },
     "metadata": {},
     "output_type": "display_data"
    },
    {
     "data": {
      "text/html": [
       "205.175"
      ],
      "text/latex": [
       "205.175"
      ],
      "text/markdown": [
       "205.175"
      ],
      "text/plain": [
       "[1] 205.175"
      ]
     },
     "metadata": {},
     "output_type": "display_data"
    },
    {
     "data": {
      "text/html": [
       "<strong>75%:</strong> 205.175"
      ],
      "text/latex": [
       "\\textbf{75\\textbackslash{}\\%:} 205.175"
      ],
      "text/markdown": [
       "**75%:** 205.175"
      ],
      "text/plain": [
       "    75% \n",
       "205.175 "
      ]
     },
     "metadata": {},
     "output_type": "display_data"
    },
    {
     "data": {
      "text/html": [
       "<ol class=list-inline>\n",
       "\t<li>71.1</li>\n",
       "\t<li>75.7</li>\n",
       "\t<li>78.7</li>\n",
       "\t<li>79</li>\n",
       "\t<li>95.1</li>\n",
       "\t<li>108</li>\n",
       "\t<li>120.1</li>\n",
       "\t<li>120.3</li>\n",
       "\t<li>121</li>\n",
       "\t<li>140.8</li>\n",
       "\t<li>145</li>\n",
       "\t<li>146.7</li>\n",
       "\t<li>160</li>\n",
       "\t<li>160</li>\n",
       "\t<li>167.6</li>\n",
       "\t<li>167.6</li>\n",
       "\t<li>225</li>\n",
       "\t<li>258</li>\n",
       "\t<li>275.8</li>\n",
       "\t<li>275.8</li>\n",
       "\t<li>275.8</li>\n",
       "\t<li>301</li>\n",
       "\t<li>304</li>\n",
       "\t<li>318</li>\n",
       "\t<li>350</li>\n",
       "\t<li>351</li>\n",
       "\t<li>360</li>\n",
       "\t<li>360</li>\n",
       "\t<li>400</li>\n",
       "\t<li>440</li>\n",
       "\t<li>460</li>\n",
       "\t<li>472</li>\n",
       "</ol>\n"
      ],
      "text/latex": [
       "\\begin{enumerate*}\n",
       "\\item 71.1\n",
       "\\item 75.7\n",
       "\\item 78.7\n",
       "\\item 79\n",
       "\\item 95.1\n",
       "\\item 108\n",
       "\\item 120.1\n",
       "\\item 120.3\n",
       "\\item 121\n",
       "\\item 140.8\n",
       "\\item 145\n",
       "\\item 146.7\n",
       "\\item 160\n",
       "\\item 160\n",
       "\\item 167.6\n",
       "\\item 167.6\n",
       "\\item 225\n",
       "\\item 258\n",
       "\\item 275.8\n",
       "\\item 275.8\n",
       "\\item 275.8\n",
       "\\item 301\n",
       "\\item 304\n",
       "\\item 318\n",
       "\\item 350\n",
       "\\item 351\n",
       "\\item 360\n",
       "\\item 360\n",
       "\\item 400\n",
       "\\item 440\n",
       "\\item 460\n",
       "\\item 472\n",
       "\\end{enumerate*}\n"
      ],
      "text/markdown": [
       "1. 71.1\n",
       "2. 75.7\n",
       "3. 78.7\n",
       "4. 79\n",
       "5. 95.1\n",
       "6. 108\n",
       "7. 120.1\n",
       "8. 120.3\n",
       "9. 121\n",
       "10. 140.8\n",
       "11. 145\n",
       "12. 146.7\n",
       "13. 160\n",
       "14. 160\n",
       "15. 167.6\n",
       "16. 167.6\n",
       "17. 225\n",
       "18. 258\n",
       "19. 275.8\n",
       "20. 275.8\n",
       "21. 275.8\n",
       "22. 301\n",
       "23. 304\n",
       "24. 318\n",
       "25. 350\n",
       "26. 351\n",
       "27. 360\n",
       "28. 360\n",
       "29. 400\n",
       "30. 440\n",
       "31. 460\n",
       "32. 472\n",
       "\n",
       "\n"
      ],
      "text/plain": [
       " [1]  71.1  75.7  78.7  79.0  95.1 108.0 120.1 120.3 121.0 140.8 145.0 146.7\n",
       "[13] 160.0 160.0 167.6 167.6 225.0 258.0 275.8 275.8 275.8 301.0 304.0 318.0\n",
       "[25] 350.0 351.0 360.0 360.0 400.0 440.0 460.0 472.0"
      ]
     },
     "metadata": {},
     "output_type": "display_data"
    },
    {
     "data": {
      "text/html": [
       "32"
      ],
      "text/latex": [
       "32"
      ],
      "text/markdown": [
       "32"
      ],
      "text/plain": [
       "[1] 32"
      ]
     },
     "metadata": {},
     "output_type": "display_data"
    }
   ],
   "source": [
    "mean(mtcars$disp) #average displacemtns\n",
    "median(mtcars$disp) # middle value\n",
    "range(mtcars$disp) # range indicates min and max\n",
    "var(mtcars$disp) # average squared distance from mean\n",
    "sd(mtcars$disp);# is nothing but sqrt(var(mtcars$disp))\n",
    "# create a function logic to findout the mode\n",
    "x<-c(13, 18, 13, 14, 13, 16, 14, 21, 13)\n",
    "Mode <- function(x) {          \n",
    "  n<-length(table(x))\n",
    "  mode <- as.integer(names(sort(table(x))))[n]\n",
    "  print(mode)\n",
    "}  \n",
    "mode(mtcars$mpg) # dispalys type of the data, but not statistical mode\n",
    "Mode(mtcars$disp) # to find the mode of displacement variable from mtcars\n",
    "table(mtcars$disp) # cross checking whether the mode is correct\n",
    "var(mtcars$disp)\n",
    "sum((mtcars$disp - mean(mtcars$disp))^2)/(nrow(mtcars)-1) # sample varience\n",
    "sum((mtcars$disp - mean(mtcars$disp))^2)/nrow(mtcars) # population varience\n",
    "quantile(mtcars$disp,0.25) # 25th percentile or 1st quartile\n",
    "quantile(mtcars$disp,0.50) # 50th percentile or 2nd quartile or median\n",
    "median(mtcars$disp) # cross checking the median\n",
    "quantile(mtcars$disp,0.75) # 75th percentile or 3rd quartile \n",
    "IQR(mtcars$disp) # inter quartile range ; middle 50% area; 3rd quartile - 1st quartile\n",
    "quantile(mtcars$disp,0.75) - quantile(mtcars$disp,0.25) # cross checking\n",
    "sort(mtcars$disp)\n",
    "length(mtcars$disp)"
   ]
  },
  {
   "cell_type": "code",
   "execution_count": null,
   "metadata": {},
   "outputs": [],
   "source": []
  }
 ],
 "metadata": {
  "kernelspec": {
   "display_name": "R",
   "language": "R",
   "name": "r"
  },
  "language_info": {
   "codemirror_mode": "r",
   "file_extension": ".r",
   "mimetype": "text/x-r-source",
   "name": "R",
   "pygments_lexer": "r",
   "version": "3.4.1"
  }
 },
 "nbformat": 4,
 "nbformat_minor": 2
}
