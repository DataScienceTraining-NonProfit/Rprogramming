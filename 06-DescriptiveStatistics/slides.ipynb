{
 "cells": [
  {
   "cell_type": "markdown",
   "metadata": {
    "slideshow": {
     "slide_type": "slide"
    },
    "toc": "true"
   },
   "source": [
    "<h1>Table of Contents<span class=\"tocSkip\"></span></h1>\n",
    "<div class=\"toc\"><ul class=\"toc-item\"><li><span><a href=\"#Descriptive-Statistics\" data-toc-modified-id=\"Descriptive-Statistics-1\">Descriptive Statistics</a></span><ul class=\"toc-item\"><li><span><a href=\"#Types-of-Variables-(Scales-of-Measurement)\" data-toc-modified-id=\"Types-of-Variables-(Scales-of-Measurement)-1.1\">Types of Variables (Scales of Measurement)</a></span><ul class=\"toc-item\"><li><span><a href=\"#Nominal-scale:\" data-toc-modified-id=\"Nominal-scale:-1.1.1\">Nominal scale:</a></span></li><li><span><a href=\"#Ordinal-scale:\" data-toc-modified-id=\"Ordinal-scale:-1.1.2\">Ordinal scale:</a></span></li><li><span><a href=\"#Interval-scale:\" data-toc-modified-id=\"Interval-scale:-1.1.3\">Interval scale:</a></span></li><li><span><a href=\"#Ratio-scale:\" data-toc-modified-id=\"Ratio-scale:-1.1.4\">Ratio scale:</a></span></li></ul></li><li><span><a href=\"#Measures-of-Central-Tendency\" data-toc-modified-id=\"Measures-of-Central-Tendency-1.2\">Measures of Central Tendency</a></span><ul class=\"toc-item\"><li><span><a href=\"#A-R-function-for-finding-the-mode\" data-toc-modified-id=\"A-R-function-for-finding-the-mode-1.2.1\">A R function for finding the mode</a></span></li></ul></li><li><span><a href=\"#Measures-of-Variability\" data-toc-modified-id=\"Measures-of-Variability-1.3\">Measures of Variability</a></span></li><li><span><a href=\"#Measures-of-Shape\" data-toc-modified-id=\"Measures-of-Shape-1.4\">Measures of Shape</a></span></li><li><span><a href=\"#Working-with-Titanic-dataset\" data-toc-modified-id=\"Working-with-Titanic-dataset-1.5\">Working with Titanic dataset</a></span></li><li><span><a href=\"#List-of-Packages-to-describe-data\" data-toc-modified-id=\"List-of-Packages-to-describe-data-1.6\">List of Packages to describe data</a></span></li><li><span><a href=\"#Anscombe’s-Quartet\" data-toc-modified-id=\"Anscombe’s-Quartet-1.7\">Anscombe’s Quartet</a></span></li></ul></li></ul></div>"
   ]
  },
  {
   "cell_type": "markdown",
   "metadata": {
    "slideshow": {
     "slide_type": "slide"
    }
   },
   "source": [
    "**Statistics:**   \n",
    "is a branch of mathematics dealing with the collection, analysis, interpretation, and presentation of masses of numerical data"
   ]
  },
  {
   "cell_type": "markdown",
   "metadata": {
    "run_control": {
     "frozen": false,
     "read_only": false
    },
    "slideshow": {
     "slide_type": "subslide"
    }
   },
   "source": [
    "Two uses of statistics, to describe or predict, and we call these:  \n",
    "\n",
    "* Descriptive Statistics (to describe)\n",
    "* Inferential Statistics (to infer)"
   ]
  },
  {
   "cell_type": "markdown",
   "metadata": {
    "slideshow": {
     "slide_type": "slide"
    }
   },
   "source": [
    "# Descriptive Statistics"
   ]
  },
  {
   "cell_type": "markdown",
   "metadata": {
    "slideshow": {
     "slide_type": "fragment"
    }
   },
   "source": [
    "![Imgur](https://i.imgur.com/54wy5jK.png)\n",
    "<sub>credit: https://www.cognity.pl/wykresy-w-excelu,blog,138.html</sub>  "
   ]
  },
  {
   "cell_type": "markdown",
   "metadata": {
    "slideshow": {
     "slide_type": "slide"
    }
   },
   "source": [
    "## Types of Variables (Scales of Measurement)   "
   ]
  },
  {
   "cell_type": "markdown",
   "metadata": {
    "slideshow": {
     "slide_type": "fragment"
    }
   },
   "source": [
    "Nominal  \n",
    "Ordinal  \n",
    "Interval  \n",
    "Ratio  "
   ]
  },
  {
   "cell_type": "markdown",
   "metadata": {
    "slideshow": {
     "slide_type": "slide"
    }
   },
   "source": [
    "![Imgur](https://i.imgur.com/xK8OLpY.png)"
   ]
  },
  {
   "cell_type": "markdown",
   "metadata": {
    "slideshow": {
     "slide_type": "slide"
    }
   },
   "source": [
    "### Nominal scale:"
   ]
  },
  {
   "cell_type": "markdown",
   "metadata": {
    "slideshow": {
     "slide_type": "fragment"
    }
   },
   "source": [
    "> In this scale, categories are nominated names (hence “nominal”). There is no inherent order between categories. Put simply, one cannot say that a particular category is superior/ better than another."
   ]
  },
  {
   "cell_type": "markdown",
   "metadata": {
    "slideshow": {
     "slide_type": "subslide"
    }
   },
   "source": [
    "**Examples:**  \n",
    "\n",
    "* **Gender (Male/ Female):-** One cannot say that Males are better than Females, or vice-versa.\n",
    "* **Blood Groups (A/B/O/AB):-** One cannot say that group A is superior to group O, for instance.\n",
    "* **Religion (Hindu/ Muslim/ Christian/ Buddhist, etc.):-** Here, too, the categories cannot be arranged in a logical order. Each category can only be considered as equal to the other."
   ]
  },
  {
   "cell_type": "markdown",
   "metadata": {
    "slideshow": {
     "slide_type": "slide"
    }
   },
   "source": [
    "### Ordinal scale:"
   ]
  },
  {
   "cell_type": "markdown",
   "metadata": {
    "slideshow": {
     "slide_type": "fragment"
    }
   },
   "source": [
    "> The various categories can be logically arranged in a meaningful order. However, the difference between the categories is not “meaningful”."
   ]
  },
  {
   "cell_type": "markdown",
   "metadata": {
    "slideshow": {
     "slide_type": "subslide"
    }
   },
   "source": [
    "**Examples:**\n",
    "\n",
    "* **Ranks (1st/ 2nd/ 3rd, etc.):** The ranks can be arranged in either ascending or descending order without difficulty. However, the difference between ranks is not the same-the difference between the 1st rank and 2nd rank may be 20 units, but that between the 2nd and 3rd ranks may be 3 units. In addition, it is not possible to say that the 1st rank is x times better than the 2nd or 3rd rank purely on the basis of the ranks.\n",
    "* **Ranks (Good/ Better/ Best), (No pain/ Mild pain/ Moderate pain/ Severe pain):** Here, too, a meaningful arrangement (ordering) is possible, but the difference between the categories is subjective and not uniform. “Best” is not necessarily thrice as good as “Good”; or twice as good as “Better”."
   ]
  },
  {
   "cell_type": "markdown",
   "metadata": {
    "slideshow": {
     "slide_type": "subslide"
    }
   },
   "source": [
    "* **Likert scale (Strongly Disagree/ Disagree/ Neutral/ Agree/ Strongly Agree) :** The ordering is flexible- the order can easily be reversed without affecting the interpretation- (Strongly Agree/ Agree/ Neutral/ Disagree/ Strongly Disagree). Again, the difference between categories is not uniform."
   ]
  },
  {
   "cell_type": "markdown",
   "metadata": {
    "slideshow": {
     "slide_type": "slide"
    }
   },
   "source": [
    "### Interval scale:"
   ]
  },
  {
   "cell_type": "markdown",
   "metadata": {
    "slideshow": {
     "slide_type": "fragment"
    }
   },
   "source": [
    "> The values (not categories) can be ordered and have a meaningful difference, but doubling is not meaningful. This is because of the absence of an “absolute zero”."
   ]
  },
  {
   "cell_type": "markdown",
   "metadata": {
    "slideshow": {
     "slide_type": "subslide"
    }
   },
   "source": [
    "**Example:** \n",
    "\n",
    "* **The Celsius scale:** The difference between 40 C and 50 C is the same as that between 20 C and 30 C (meaningful difference = equidistant). Besides, 50 C is hotter than 40 C (order). However, 20 C is not half as hot as 40 C and vice versa (doubling is not meaningful).\n",
    "\n",
    "* **Meaningful difference:** In the Celsius scale, the difference between each unit is the same anywhere on the scale- the difference between 49 C and 50 C is the same as the difference between any two consecutive values on the scale ( 1 unit).[Thus, (2-1)= (23-22)= (40-39)=(99-98)= 1]."
   ]
  },
  {
   "cell_type": "markdown",
   "metadata": {
    "slideshow": {
     "slide_type": "slide"
    }
   },
   "source": [
    "### Ratio scale:"
   ]
  },
  {
   "cell_type": "markdown",
   "metadata": {
    "slideshow": {
     "slide_type": "fragment"
    }
   },
   "source": [
    "> The values can be ordered, have a meaningful difference, and doubling is also meaningful. There is an “absolute zero”."
   ]
  },
  {
   "cell_type": "markdown",
   "metadata": {
    "slideshow": {
     "slide_type": "subslide"
    }
   },
   "source": [
    "**Examples:**\n",
    "\n",
    "* **The Kelvin scale:** 100 K is twice as hot as 50 K; the difference between values is meaningful and can be ordered.\n",
    "* **Weight:** 100 kg is twice as heavy as 50 kg; the difference between 45 kg and 55 kg is the same as that between 105 kg and 100 kg; values can be arranged in an order (ascending/ descending).\n",
    "* **Height: 100 cm is taller than 50 cm:** this difference is the same as that between 150 cm and 100 cm, or 200 cm and 150 cm; 100 cm is twice as tall as 50 cm; the values can be arranged in a particular manner (ascending/ descending)."
   ]
  },
  {
   "cell_type": "markdown",
   "metadata": {
    "slideshow": {
     "slide_type": "subslide"
    }
   },
   "source": [
    "![Imgur](https://i.imgur.com/a00qGOu.jpg)\n",
    "<sub>credit: https://www.geoib.com/types-of-variables.html</sub>"
   ]
  },
  {
   "cell_type": "markdown",
   "metadata": {
    "slideshow": {
     "slide_type": "slide"
    }
   },
   "source": [
    "## Measures of Central Tendency"
   ]
  },
  {
   "cell_type": "markdown",
   "metadata": {
    "slideshow": {
     "slide_type": "subslide"
    }
   },
   "source": [
    "**Mean**(Sum of all Observations / No. of Observations)    \n",
    "**median**(mid point which divides data into 2 equal parts)     \n",
    "**mode**(Most often or repeated the maximum number of times)   "
   ]
  },
  {
   "cell_type": "markdown",
   "metadata": {
    "slideshow": {
     "slide_type": "subslide"
    }
   },
   "source": [
    "![mean-median-mode](https://i.imgur.com/wDLwYI2.png)\n",
    "<sub>credit: https://www.wikitechy.com/tutorials/r-programming/mean-median-mode</sub>"
   ]
  },
  {
   "cell_type": "markdown",
   "metadata": {
    "slideshow": {
     "slide_type": "subslide"
    }
   },
   "source": [
    "### A R function for finding the mode"
   ]
  },
  {
   "cell_type": "code",
   "execution_count": 1,
   "metadata": {
    "slideshow": {
     "slide_type": "subslide"
    }
   },
   "outputs": [],
   "source": [
    "x<-c(13, 18, 13, 14, 13, 16, 14, 21, 13)"
   ]
  },
  {
   "cell_type": "code",
   "execution_count": 2,
   "metadata": {
    "slideshow": {
     "slide_type": "subslide"
    }
   },
   "outputs": [],
   "source": [
    "Mode <- function(x) {\n",
    "    n<-length(table(x))\n",
    "    mode <- as.integer(names(sort(table(x))))[n]\n",
    "    print(mode)\n",
    "}\n"
   ]
  },
  {
   "cell_type": "code",
   "execution_count": 3,
   "metadata": {},
   "outputs": [
    {
     "data": {
      "text/plain": [
       "x\n",
       "13 14 16 18 21 \n",
       " 4  2  1  1  1 "
      ]
     },
     "metadata": {},
     "output_type": "display_data"
    },
    {
     "data": {
      "text/plain": [
       "x\n",
       "16 18 21 14 13 \n",
       " 1  1  1  2  4 "
      ]
     },
     "metadata": {},
     "output_type": "display_data"
    },
    {
     "data": {
      "text/html": [
       "<ol class=list-inline>\n",
       "\t<li>'16'</li>\n",
       "\t<li>'18'</li>\n",
       "\t<li>'21'</li>\n",
       "\t<li>'14'</li>\n",
       "\t<li>'13'</li>\n",
       "</ol>\n"
      ],
      "text/latex": [
       "\\begin{enumerate*}\n",
       "\\item '16'\n",
       "\\item '18'\n",
       "\\item '21'\n",
       "\\item '14'\n",
       "\\item '13'\n",
       "\\end{enumerate*}\n"
      ],
      "text/markdown": [
       "1. '16'\n",
       "2. '18'\n",
       "3. '21'\n",
       "4. '14'\n",
       "5. '13'\n",
       "\n",
       "\n"
      ],
      "text/plain": [
       "[1] \"16\" \"18\" \"21\" \"14\" \"13\""
      ]
     },
     "metadata": {},
     "output_type": "display_data"
    },
    {
     "data": {
      "text/html": [
       "<ol class=list-inline>\n",
       "\t<li>16</li>\n",
       "\t<li>18</li>\n",
       "\t<li>21</li>\n",
       "\t<li>14</li>\n",
       "\t<li>13</li>\n",
       "</ol>\n"
      ],
      "text/latex": [
       "\\begin{enumerate*}\n",
       "\\item 16\n",
       "\\item 18\n",
       "\\item 21\n",
       "\\item 14\n",
       "\\item 13\n",
       "\\end{enumerate*}\n"
      ],
      "text/markdown": [
       "1. 16\n",
       "2. 18\n",
       "3. 21\n",
       "4. 14\n",
       "5. 13\n",
       "\n",
       "\n"
      ],
      "text/plain": [
       "[1] 16 18 21 14 13"
      ]
     },
     "metadata": {},
     "output_type": "display_data"
    },
    {
     "data": {
      "text/html": [
       "5"
      ],
      "text/latex": [
       "5"
      ],
      "text/markdown": [
       "5"
      ],
      "text/plain": [
       "[1] 5"
      ]
     },
     "metadata": {},
     "output_type": "display_data"
    },
    {
     "data": {
      "text/html": [
       "13"
      ],
      "text/latex": [
       "13"
      ],
      "text/markdown": [
       "13"
      ],
      "text/plain": [
       "[1] 13"
      ]
     },
     "metadata": {},
     "output_type": "display_data"
    }
   ],
   "source": [
    "table(x)\n",
    "sort(table(x))\n",
    "names(sort(table(x)))\n",
    "as.integer(names(sort(table(x))))\n",
    "n <- length(table(x))\n",
    "n\n",
    "as.integer(names(sort(table(x))))[n]"
   ]
  },
  {
   "cell_type": "code",
   "execution_count": 4,
   "metadata": {
    "scrolled": false
   },
   "outputs": [
    {
     "name": "stdout",
     "output_type": "stream",
     "text": [
      "[1] 13\n",
      "[1] 275\n"
     ]
    },
    {
     "data": {
      "text/plain": [
       "\n",
       " 71.1  75.7  78.7    79  95.1   108 120.1 120.3   121 140.8   145 146.7   160 \n",
       "    1     1     1     1     1     1     1     1     1     1     1     1     2 \n",
       "167.6   225   258 275.8   301   304   318   350   351   360   400   440   460 \n",
       "    2     1     1     3     1     1     1     1     1     2     1     1     1 \n",
       "  472 \n",
       "    1 "
      ]
     },
     "metadata": {},
     "output_type": "display_data"
    }
   ],
   "source": [
    "Mode(x)\n",
    "Mode(mtcars$disp)\n",
    "table(mtcars$disp)"
   ]
  },
  {
   "cell_type": "markdown",
   "metadata": {
    "slideshow": {
     "slide_type": "subslide"
    }
   },
   "source": [
    "https://rstudio-pubs-static.s3.amazonaws.com/242140_d3bc74d91e8e47febc2e019762a4d877.html"
   ]
  },
  {
   "cell_type": "markdown",
   "metadata": {
    "slideshow": {
     "slide_type": "slide"
    }
   },
   "source": [
    "## Measures of Variability "
   ]
  },
  {
   "cell_type": "markdown",
   "metadata": {
    "slideshow": {
     "slide_type": "slide"
    }
   },
   "source": [
    "variance  \n",
    "Standard deviation "
   ]
  },
  {
   "cell_type": "markdown",
   "metadata": {
    "slideshow": {
     "slide_type": "subslide"
    }
   },
   "source": [
    "![maxresdefault](https://i.imgur.com/SgAT7Nq.jpg)  "
   ]
  },
  {
   "cell_type": "markdown",
   "metadata": {
    "slideshow": {
     "slide_type": "subslide"
    }
   },
   "source": [
    "![samplevarstd](https://i.imgur.com/932ScZV.gif)"
   ]
  },
  {
   "cell_type": "markdown",
   "metadata": {
    "slideshow": {
     "slide_type": "slide"
    }
   },
   "source": [
    "Range  \n",
    "Quartiles  \n",
    "IQR  "
   ]
  },
  {
   "cell_type": "raw",
   "metadata": {
    "slideshow": {
     "slide_type": "slide"
    }
   },
   "source": [
    "Quartile: It divides the data set into 4 equal parts using Q1 (First Quartile), Q2 (Second Quartile) and Q3 (Third Quartile).  Let’s understand it using an example, assume we have a numerical variable having values from 1 to 100. Here, value for Q1 would be 25 (value at 25th percentile), value for Q2 would be 50 (value at 50th percentile i.e. median) and value for Q3 would be 75 (value at 75th percentile).\n",
    "\n",
    "Quartiles are well understood when used with box plots. Box Plots is a five number summary which represents Minimum, Maximum, Q1, Q2 and Q3. Let’s find out."
   ]
  },
  {
   "cell_type": "markdown",
   "metadata": {
    "slideshow": {
     "slide_type": "subslide"
    }
   },
   "source": [
    "![Imgur](https://i.imgur.com/DdSAvKa.png?1)"
   ]
  },
  {
   "cell_type": "markdown",
   "metadata": {
    "slideshow": {
     "slide_type": "subslide"
    }
   },
   "source": [
    "![Imgur](https://i.imgur.com/pytv7fm.png)\n",
    "<sup><sub><sup><sub>(Image courtesy: https://www.leansigmacorporation.com/box-plot-with-minitab/)</sub></sup></sub></sup>"
   ]
  },
  {
   "cell_type": "markdown",
   "metadata": {
    "slideshow": {
     "slide_type": "slide"
    }
   },
   "source": [
    "## Measures of Shape"
   ]
  },
  {
   "cell_type": "markdown",
   "metadata": {
    "slideshow": {
     "slide_type": "subslide"
    }
   },
   "source": [
    "**Skewness  **  \n",
    "Skewness is a measure of symmetry, or more precisely, the lack of symmetry. A \n",
    "distribution, or data set, is symmetric if it looks the same to the left and right of \n",
    "the center point.   \n",
    "**Kurtosis**    \n",
    "Kurtosis is a parameter that describes the shape of a random variable’s probability \n",
    "distribution."
   ]
  },
  {
   "cell_type": "markdown",
   "metadata": {
    "slideshow": {
     "slide_type": "subslide"
    }
   },
   "source": [
    "![skewness-and-kurtosis](https://i.imgur.com/sEAMT4o.gif)"
   ]
  },
  {
   "cell_type": "markdown",
   "metadata": {
    "slideshow": {
     "slide_type": "subslide"
    }
   },
   "source": [
    "![Imgur](https://i.imgur.com/qG90L8u.png?1)"
   ]
  },
  {
   "cell_type": "markdown",
   "metadata": {
    "slideshow": {
     "slide_type": "subslide"
    }
   },
   "source": [
    "http://personal.cityu.edu.hk/~meachan/Online%20Anthropometry/Chapter5/Ch5-3.htm"
   ]
  },
  {
   "cell_type": "markdown",
   "metadata": {
    "slideshow": {
     "slide_type": "subslide"
    }
   },
   "source": [
    "![Imgur](https://i.imgur.com/gWfEjIO.png)"
   ]
  },
  {
   "cell_type": "markdown",
   "metadata": {
    "slideshow": {
     "slide_type": "slide"
    }
   },
   "source": [
    "**List of packages where skewnes() and kurtosis() functions present** \n",
    "* moments  \n",
    "* DescTools\n",
    "* e1071\n",
    "* fBasics package"
   ]
  },
  {
   "cell_type": "code",
   "execution_count": 1,
   "metadata": {
    "run_control": {
     "frozen": false,
     "read_only": false
    },
    "scrolled": true,
    "slideshow": {
     "slide_type": "slide"
    }
   },
   "outputs": [
    {
     "data": {
      "text/html": [
       "-0.0156516191272306"
      ],
      "text/latex": [
       "-0.0156516191272306"
      ],
      "text/markdown": [
       "-0.0156516191272306"
      ],
      "text/plain": [
       "[1] -0.01565162"
      ]
     },
     "metadata": {},
     "output_type": "display_data"
    },
    {
     "data": {
      "text/html": [
       "2.30105132553941"
      ],
      "text/latex": [
       "2.30105132553941"
      ],
      "text/markdown": [
       "2.30105132553941"
      ],
      "text/plain": [
       "[1] 2.301051"
      ]
     },
     "metadata": {},
     "output_type": "display_data"
    }
   ],
   "source": [
    "time <- c(19.09, 19.55, 17.89, 17.73, 25.15, 27.27, 25.24, 21.05, 21.65, 20.92, 22.61, \n",
    "    15.71, 22.04, 22.6, 24.25)\n",
    "\n",
    "library(moments)\n",
    "# library(e1071)\n",
    "skewness(time)\n",
    "\n",
    "# [1] -0.01565162\n",
    "\n",
    "kurtosis(time)\n",
    "\n",
    "# [1] 2.301051"
   ]
  },
  {
   "cell_type": "markdown",
   "metadata": {
    "slideshow": {
     "slide_type": "slide"
    }
   },
   "source": [
    "## Working with Titanic dataset"
   ]
  },
  {
   "cell_type": "code",
   "execution_count": 6,
   "metadata": {
    "run_control": {
     "frozen": false,
     "read_only": false
    },
    "slideshow": {
     "slide_type": "subslide"
    }
   },
   "outputs": [
    {
     "data": {
      "text/html": [
       "<table>\n",
       "<thead><tr><th scope=col>PassengerId</th><th scope=col>Survived</th><th scope=col>Pclass</th><th scope=col>Name</th><th scope=col>Sex</th><th scope=col>Age</th><th scope=col>SibSp</th><th scope=col>Parch</th><th scope=col>Ticket</th><th scope=col>Fare</th><th scope=col>Cabin</th><th scope=col>Embarked</th></tr></thead>\n",
       "<tbody>\n",
       "\t<tr><td>1                                                  </td><td>0                                                  </td><td>3                                                  </td><td>Braund, Mr. Owen Harris                            </td><td>male                                               </td><td>22                                                 </td><td>1                                                  </td><td>0                                                  </td><td>A/5 21171                                          </td><td> 7.2500                                            </td><td>                                                   </td><td>S                                                  </td></tr>\n",
       "\t<tr><td>2                                                  </td><td>1                                                  </td><td>1                                                  </td><td>Cumings, Mrs. John Bradley (Florence Briggs Thayer)</td><td>female                                             </td><td>38                                                 </td><td>1                                                  </td><td>0                                                  </td><td>PC 17599                                           </td><td>71.2833                                            </td><td>C85                                                </td><td>C                                                  </td></tr>\n",
       "\t<tr><td>3                                                  </td><td>1                                                  </td><td>3                                                  </td><td>Heikkinen, Miss. Laina                             </td><td>female                                             </td><td>26                                                 </td><td>0                                                  </td><td>0                                                  </td><td>STON/O2. 3101282                                   </td><td> 7.9250                                            </td><td>                                                   </td><td>S                                                  </td></tr>\n",
       "\t<tr><td>4                                                  </td><td>1                                                  </td><td>1                                                  </td><td>Futrelle, Mrs. Jacques Heath (Lily May Peel)       </td><td>female                                             </td><td>35                                                 </td><td>1                                                  </td><td>0                                                  </td><td>113803                                             </td><td>53.1000                                            </td><td>C123                                               </td><td>S                                                  </td></tr>\n",
       "\t<tr><td>5                                                  </td><td>0                                                  </td><td>3                                                  </td><td>Allen, Mr. William Henry                           </td><td>male                                               </td><td>35                                                 </td><td>0                                                  </td><td>0                                                  </td><td>373450                                             </td><td> 8.0500                                            </td><td>                                                   </td><td>S                                                  </td></tr>\n",
       "\t<tr><td>6                                                  </td><td>0                                                  </td><td>3                                                  </td><td>Moran, Mr. James                                   </td><td>male                                               </td><td>NA                                                 </td><td>0                                                  </td><td>0                                                  </td><td>330877                                             </td><td> 8.4583                                            </td><td>                                                   </td><td>Q                                                  </td></tr>\n",
       "</tbody>\n",
       "</table>\n"
      ],
      "text/latex": [
       "\\begin{tabular}{r|llllllllllll}\n",
       " PassengerId & Survived & Pclass & Name & Sex & Age & SibSp & Parch & Ticket & Fare & Cabin & Embarked\\\\\n",
       "\\hline\n",
       "\t 1                                                   & 0                                                   & 3                                                   & Braund, Mr. Owen Harris                             & male                                                & 22                                                  & 1                                                   & 0                                                   & A/5 21171                                           &  7.2500                                             &                                                     & S                                                  \\\\\n",
       "\t 2                                                   & 1                                                   & 1                                                   & Cumings, Mrs. John Bradley (Florence Briggs Thayer) & female                                              & 38                                                  & 1                                                   & 0                                                   & PC 17599                                            & 71.2833                                             & C85                                                 & C                                                  \\\\\n",
       "\t 3                                                   & 1                                                   & 3                                                   & Heikkinen, Miss. Laina                              & female                                              & 26                                                  & 0                                                   & 0                                                   & STON/O2. 3101282                                    &  7.9250                                             &                                                     & S                                                  \\\\\n",
       "\t 4                                                   & 1                                                   & 1                                                   & Futrelle, Mrs. Jacques Heath (Lily May Peel)        & female                                              & 35                                                  & 1                                                   & 0                                                   & 113803                                              & 53.1000                                             & C123                                                & S                                                  \\\\\n",
       "\t 5                                                   & 0                                                   & 3                                                   & Allen, Mr. William Henry                            & male                                                & 35                                                  & 0                                                   & 0                                                   & 373450                                              &  8.0500                                             &                                                     & S                                                  \\\\\n",
       "\t 6                                                   & 0                                                   & 3                                                   & Moran, Mr. James                                    & male                                                & NA                                                  & 0                                                   & 0                                                   & 330877                                              &  8.4583                                             &                                                     & Q                                                  \\\\\n",
       "\\end{tabular}\n"
      ],
      "text/markdown": [
       "\n",
       "PassengerId | Survived | Pclass | Name | Sex | Age | SibSp | Parch | Ticket | Fare | Cabin | Embarked | \n",
       "|---|---|---|---|---|---|\n",
       "| 1                                                   | 0                                                   | 3                                                   | Braund, Mr. Owen Harris                             | male                                                | 22                                                  | 1                                                   | 0                                                   | A/5 21171                                           |  7.2500                                             |                                                     | S                                                   | \n",
       "| 2                                                   | 1                                                   | 1                                                   | Cumings, Mrs. John Bradley (Florence Briggs Thayer) | female                                              | 38                                                  | 1                                                   | 0                                                   | PC 17599                                            | 71.2833                                             | C85                                                 | C                                                   | \n",
       "| 3                                                   | 1                                                   | 3                                                   | Heikkinen, Miss. Laina                              | female                                              | 26                                                  | 0                                                   | 0                                                   | STON/O2. 3101282                                    |  7.9250                                             |                                                     | S                                                   | \n",
       "| 4                                                   | 1                                                   | 1                                                   | Futrelle, Mrs. Jacques Heath (Lily May Peel)        | female                                              | 35                                                  | 1                                                   | 0                                                   | 113803                                              | 53.1000                                             | C123                                                | S                                                   | \n",
       "| 5                                                   | 0                                                   | 3                                                   | Allen, Mr. William Henry                            | male                                                | 35                                                  | 0                                                   | 0                                                   | 373450                                              |  8.0500                                             |                                                     | S                                                   | \n",
       "| 6                                                   | 0                                                   | 3                                                   | Moran, Mr. James                                    | male                                                | NA                                                  | 0                                                   | 0                                                   | 330877                                              |  8.4583                                             |                                                     | Q                                                   | \n",
       "\n",
       "\n"
      ],
      "text/plain": [
       "  PassengerId Survived Pclass\n",
       "1 1           0        3     \n",
       "2 2           1        1     \n",
       "3 3           1        3     \n",
       "4 4           1        1     \n",
       "5 5           0        3     \n",
       "6 6           0        3     \n",
       "  Name                                                Sex    Age SibSp Parch\n",
       "1 Braund, Mr. Owen Harris                             male   22  1     0    \n",
       "2 Cumings, Mrs. John Bradley (Florence Briggs Thayer) female 38  1     0    \n",
       "3 Heikkinen, Miss. Laina                              female 26  0     0    \n",
       "4 Futrelle, Mrs. Jacques Heath (Lily May Peel)        female 35  1     0    \n",
       "5 Allen, Mr. William Henry                            male   35  0     0    \n",
       "6 Moran, Mr. James                                    male   NA  0     0    \n",
       "  Ticket           Fare    Cabin Embarked\n",
       "1 A/5 21171         7.2500       S       \n",
       "2 PC 17599         71.2833 C85   C       \n",
       "3 STON/O2. 3101282  7.9250       S       \n",
       "4 113803           53.1000 C123  S       \n",
       "5 373450            8.0500       S       \n",
       "6 330877            8.4583       Q       "
      ]
     },
     "metadata": {},
     "output_type": "display_data"
    }
   ],
   "source": [
    "train <- read.csv(\"data/train1.csv\", stringsAsFactors = FALSE, header = T)\n",
    "head(train)"
   ]
  },
  {
   "cell_type": "code",
   "execution_count": 3,
   "metadata": {
    "run_control": {
     "frozen": false,
     "read_only": false
    },
    "scrolled": true,
    "slideshow": {
     "slide_type": "subslide"
    }
   },
   "outputs": [
    {
     "data": {
      "text/html": [
       "32.2042079685746"
      ],
      "text/latex": [
       "32.2042079685746"
      ],
      "text/markdown": [
       "32.2042079685746"
      ],
      "text/plain": [
       "[1] 32.20421"
      ]
     },
     "metadata": {},
     "output_type": "display_data"
    },
    {
     "data": {
      "text/html": [
       "24"
      ],
      "text/latex": [
       "24"
      ],
      "text/markdown": [
       "24"
      ],
      "text/plain": [
       "[1] 24"
      ]
     },
     "metadata": {},
     "output_type": "display_data"
    },
    {
     "data": {
      "text/plain": [
       "\n",
       "0.42 0.67 0.75 0.83 0.92    1    2    3    4    5    6    7    8    9   10   11 \n",
       "   1    1    2    2    1    7   10    6   10    4    3    3    4    8    2    4 \n",
       "  12   13   14 14.5   15   16   17   18   19   20 20.5   21   22   23 23.5   24 \n",
       "   1    2    6    1    5   17   13   26   25   15    1   24   27   15    1   30 \n",
       "24.5   25   26   27   28 28.5   29   30 30.5   31   32 32.5   33   34 34.5   35 \n",
       "   1   23   18   18   25    2   20   25    2   17   18    2   15   15    1   18 \n",
       "  36 36.5   37   38   39   40 40.5   41   42   43   44   45 45.5   46   47   48 \n",
       "  22    1    6   11   14   13    2    6   13    5    9   12    2    3    9    9 \n",
       "  49   50   51   52   53   54   55 55.5   56   57   58   59   60   61   62   63 \n",
       "   6   10    7    6    1    8    2    1    4    2    5    2    4    3    4    2 \n",
       "  64   65   66   70 70.5   71   74   80 \n",
       "   2    3    1    2    1    2    1    1 "
      ]
     },
     "metadata": {},
     "output_type": "display_data"
    },
    {
     "data": {
      "text/html": [
       "14.4542"
      ],
      "text/latex": [
       "14.4542"
      ],
      "text/markdown": [
       "14.4542"
      ],
      "text/plain": [
       "[1] 14.4542"
      ]
     },
     "metadata": {},
     "output_type": "display_data"
    }
   ],
   "source": [
    "# find the average(mean) Fare\n",
    "mean(train$Fare)\n",
    "# On an average, passengers have paid $32 to board the titanic.\n",
    "library(DescTools)\n",
    "Mode(train$Age)\n",
    "table(train$Age)\n",
    "# Most common age among passengers on Titanic was 24 years. As you can see, there\n",
    "# were 30 passengers on board who are 24 years old (highest among all). find out\n",
    "# the median\n",
    "median(train$Fare)\n",
    "# The mid value of Fare variable is $14.45. This means $14.45 divides the data\n",
    "# into two halves."
   ]
  },
  {
   "cell_type": "code",
   "execution_count": 4,
   "metadata": {
    "run_control": {
     "frozen": false,
     "read_only": false
    },
    "slideshow": {
     "slide_type": "subslide"
    }
   },
   "outputs": [
    {
     "data": {
      "text/html": [
       "2469.43684574312"
      ],
      "text/latex": [
       "2469.43684574312"
      ],
      "text/markdown": [
       "2469.43684574312"
      ],
      "text/plain": [
       "[1] 2469.437"
      ]
     },
     "metadata": {},
     "output_type": "display_data"
    },
    {
     "data": {
      "text/html": [
       "49.6934285971809"
      ],
      "text/latex": [
       "49.6934285971809"
      ],
      "text/markdown": [
       "49.6934285971809"
      ],
      "text/plain": [
       "[1] 49.69343"
      ]
     },
     "metadata": {},
     "output_type": "display_data"
    },
    {
     "data": {
      "text/html": [
       "49.6934285971809"
      ],
      "text/latex": [
       "49.6934285971809"
      ],
      "text/markdown": [
       "49.6934285971809"
      ],
      "text/plain": [
       "[1] 49.69343"
      ]
     },
     "metadata": {},
     "output_type": "display_data"
    },
    {
     "data": {
      "text/html": [
       "<ol class=list-inline>\n",
       "\t<li>0</li>\n",
       "\t<li>512.3292</li>\n",
       "</ol>\n"
      ],
      "text/latex": [
       "\\begin{enumerate*}\n",
       "\\item 0\n",
       "\\item 512.3292\n",
       "\\end{enumerate*}\n"
      ],
      "text/markdown": [
       "1. 0\n",
       "2. 512.3292\n",
       "\n",
       "\n"
      ],
      "text/plain": [
       "[1]   0.0000 512.3292"
      ]
     },
     "metadata": {},
     "output_type": "display_data"
    }
   ],
   "source": [
    "# variance of fare\n",
    "var(train$Fare)\n",
    "# the average of squared difference from mean.  Standard Deviation of Fare\n",
    "sqrt(var(train$Fare))\n",
    "sd(train$Fare)\n",
    "# calculate range\n",
    "range(train$Fare)\n",
    "# It shows the lowest value and the highest value in a set of observation.\n"
   ]
  },
  {
   "cell_type": "code",
   "execution_count": 10,
   "metadata": {
    "run_control": {
     "frozen": false,
     "read_only": false
    },
    "slideshow": {
     "slide_type": "subslide"
    }
   },
   "outputs": [
    {
     "data": {
      "image/png": "[encoded data removed]",
      "text/plain": [
       "plot without title"
      ]
     },
     "metadata": {},
     "output_type": "display_data"
    }
   ],
   "source": [
    "# find boxplot\n",
    "boxplot(train$Age ~ train$Pclass, xlab = \"Class\", ylab = \"Age\", col = c(\"red\"))"
   ]
  },
  {
   "cell_type": "code",
   "execution_count": 6,
   "metadata": {
    "run_control": {
     "frozen": false,
     "read_only": false
    },
    "slideshow": {
     "slide_type": "subslide"
    }
   },
   "outputs": [
    {
     "data": {
      "text/html": [
       "<ol class=list-inline>\n",
       "\t<li>0.42</li>\n",
       "\t<li>20</li>\n",
       "\t<li>28</li>\n",
       "\t<li>38</li>\n",
       "\t<li>80</li>\n",
       "</ol>\n"
      ],
      "text/latex": [
       "\\begin{enumerate*}\n",
       "\\item 0.42\n",
       "\\item 20\n",
       "\\item 28\n",
       "\\item 38\n",
       "\\item 80\n",
       "\\end{enumerate*}\n"
      ],
      "text/markdown": [
       "1. 0.42\n",
       "2. 20\n",
       "3. 28\n",
       "4. 38\n",
       "5. 80\n",
       "\n",
       "\n"
      ],
      "text/plain": [
       "[1]  0.42 20.00 28.00 38.00 80.00"
      ]
     },
     "metadata": {},
     "output_type": "display_data"
    },
    {
     "data": {
      "text/plain": [
       "  PassengerId       Survived          Pclass          Name          \n",
       " Min.   :  1.0   Min.   :0.0000   Min.   :1.000   Length:891        \n",
       " 1st Qu.:223.5   1st Qu.:0.0000   1st Qu.:2.000   Class :character  \n",
       " Median :446.0   Median :0.0000   Median :3.000   Mode  :character  \n",
       " Mean   :446.0   Mean   :0.3838   Mean   :2.309                     \n",
       " 3rd Qu.:668.5   3rd Qu.:1.0000   3rd Qu.:3.000                     \n",
       " Max.   :891.0   Max.   :1.0000   Max.   :3.000                     \n",
       "                                                                    \n",
       "     Sex                 Age            SibSp           Parch       \n",
       " Length:891         Min.   : 0.42   Min.   :0.000   Min.   :0.0000  \n",
       " Class :character   1st Qu.:20.12   1st Qu.:0.000   1st Qu.:0.0000  \n",
       " Mode  :character   Median :28.00   Median :0.000   Median :0.0000  \n",
       "                    Mean   :29.70   Mean   :0.523   Mean   :0.3816  \n",
       "                    3rd Qu.:38.00   3rd Qu.:1.000   3rd Qu.:0.0000  \n",
       "                    Max.   :80.00   Max.   :8.000   Max.   :6.0000  \n",
       "                    NA's   :177                                     \n",
       "    Ticket               Fare           Cabin             Embarked        \n",
       " Length:891         Min.   :  0.00   Length:891         Length:891        \n",
       " Class :character   1st Qu.:  7.91   Class :character   Class :character  \n",
       " Mode  :character   Median : 14.45   Mode  :character   Mode  :character  \n",
       "                    Mean   : 32.20                                        \n",
       "                    3rd Qu.: 31.00                                        \n",
       "                    Max.   :512.33                                        \n",
       "                                                                          "
      ]
     },
     "metadata": {},
     "output_type": "display_data"
    }
   ],
   "source": [
    "#base package\n",
    "fivenum(train$Age)\n",
    "summary(train)"
   ]
  },
  {
   "cell_type": "markdown",
   "metadata": {
    "slideshow": {
     "slide_type": "slide"
    }
   },
   "source": [
    "## List of Packages to describe data"
   ]
  },
  {
   "cell_type": "markdown",
   "metadata": {
    "slideshow": {
     "slide_type": "subslide"
    }
   },
   "source": [
    "Psych  \n",
    "Hmisc  \n",
    "pastecs  \n",
    "summarytools  \n",
    "skimr  \n",
    "stargazer  "
   ]
  },
  {
   "cell_type": "code",
   "execution_count": 7,
   "metadata": {
    "run_control": {
     "frozen": false,
     "read_only": false
    },
    "slideshow": {
     "slide_type": "subslide"
    }
   },
   "outputs": [
    {
     "name": "stderr",
     "output_type": "stream",
     "text": [
      "\n",
      "Attaching package: 'psych'\n",
      "\n",
      "The following objects are masked from 'package:DescTools':\n",
      "\n",
      "    ICC, SD\n",
      "\n",
      "Warning message in describe(train):\n",
      "\"NAs introduced by coercion\"Warning message in describe(train):\n",
      "\"NAs introduced by coercion\"Warning message in describe(train):\n",
      "\"NAs introduced by coercion\"Warning message in describe(train):\n",
      "\"NAs introduced by coercion\"Warning message in describe(train):\n",
      "\"NAs introduced by coercion\"Warning message in FUN(newX[, i], ...):\n",
      "\"no non-missing arguments to min; returning Inf\"Warning message in FUN(newX[, i], ...):\n",
      "\"no non-missing arguments to min; returning Inf\"Warning message in FUN(newX[, i], ...):\n",
      "\"no non-missing arguments to min; returning Inf\"Warning message in FUN(newX[, i], ...):\n",
      "\"no non-missing arguments to min; returning Inf\"Warning message in FUN(newX[, i], ...):\n",
      "\"no non-missing arguments to max; returning -Inf\"Warning message in FUN(newX[, i], ...):\n",
      "\"no non-missing arguments to max; returning -Inf\"Warning message in FUN(newX[, i], ...):\n",
      "\"no non-missing arguments to max; returning -Inf\"Warning message in FUN(newX[, i], ...):\n",
      "\"no non-missing arguments to max; returning -Inf\""
     ]
    },
    {
     "data": {
      "text/html": [
       "<table>\n",
       "<thead><tr><th></th><th scope=col>vars</th><th scope=col>n</th><th scope=col>mean</th><th scope=col>sd</th><th scope=col>median</th><th scope=col>trimmed</th><th scope=col>mad</th><th scope=col>min</th><th scope=col>max</th><th scope=col>range</th><th scope=col>skew</th><th scope=col>kurtosis</th><th scope=col>se</th></tr></thead>\n",
       "<tbody>\n",
       "\t<tr><th scope=row>PassengerId</th><td> 1          </td><td>891         </td><td>4.460000e+02</td><td>2.573538e+02</td><td>   446.0000 </td><td>4.460000e+02</td><td>   330.61980</td><td>  1.00      </td><td>    891.0000</td><td>    890.0000</td><td> 0.0000000  </td><td>-1.2040412  </td><td>8.621678e+00</td></tr>\n",
       "\t<tr><th scope=row>Survived</th><td> 2          </td><td>891         </td><td>3.838384e-01</td><td>4.865925e-01</td><td>     0.0000 </td><td>3.548387e-01</td><td>     0.00000</td><td>  0.00      </td><td>      1.0000</td><td>      1.0000</td><td> 0.4769135  </td><td>-1.7745414  </td><td>1.630146e-02</td></tr>\n",
       "\t<tr><th scope=row>Pclass</th><td> 3          </td><td>891         </td><td>2.308642e+00</td><td>8.360712e-01</td><td>     3.0000 </td><td>2.385694e+00</td><td>     0.00000</td><td>  1.00      </td><td>      3.0000</td><td>      2.0000</td><td>-0.6284264  </td><td>-1.2834293  </td><td>2.800944e-02</td></tr>\n",
       "\t<tr><th scope=row>Name*</th><td> 4          </td><td>891         </td><td>         NaN</td><td>          NA</td><td>         NA </td><td>         NaN</td><td>          NA</td><td>   Inf      </td><td>        -Inf</td><td>        -Inf</td><td>        NA  </td><td>        NA  </td><td>          NA</td></tr>\n",
       "\t<tr><th scope=row>Sex*</th><td> 5          </td><td>891         </td><td>         NaN</td><td>          NA</td><td>         NA </td><td>         NaN</td><td>          NA</td><td>   Inf      </td><td>        -Inf</td><td>        -Inf</td><td>        NA  </td><td>        NA  </td><td>          NA</td></tr>\n",
       "\t<tr><th scope=row>Age</th><td> 6          </td><td>714         </td><td>2.969912e+01</td><td>1.452650e+01</td><td>    28.0000 </td><td>2.926923e+01</td><td>    13.34340</td><td>  0.42      </td><td>     80.0000</td><td>     79.5800</td><td> 0.3874744  </td><td> 0.1597671  </td><td>5.436405e-01</td></tr>\n",
       "\t<tr><th scope=row>SibSp</th><td> 7          </td><td>891         </td><td>5.230079e-01</td><td>1.102743e+00</td><td>     0.0000 </td><td>2.720898e-01</td><td>     0.00000</td><td>  0.00      </td><td>      8.0000</td><td>      8.0000</td><td> 3.6829188  </td><td>17.7269083  </td><td>3.694329e-02</td></tr>\n",
       "\t<tr><th scope=row>Parch</th><td> 8          </td><td>891         </td><td>3.815937e-01</td><td>8.060572e-01</td><td>     0.0000 </td><td>1.823282e-01</td><td>     0.00000</td><td>  0.00      </td><td>      6.0000</td><td>      6.0000</td><td> 2.7398677  </td><td> 9.6880847  </td><td>2.700393e-02</td></tr>\n",
       "\t<tr><th scope=row>Ticket*</th><td> 9          </td><td>891         </td><td>2.603185e+05</td><td>4.716093e+05</td><td>236171.0000 </td><td>1.956829e+05</td><td>185104.09260</td><td>693.00      </td><td>3101298.0000</td><td>3100605.0000</td><td> 5.2418837  </td><td>28.9026995  </td><td>1.579950e+04</td></tr>\n",
       "\t<tr><th scope=row>Fare</th><td>10          </td><td>891         </td><td>3.220421e+01</td><td>4.969343e+01</td><td>    14.4542 </td><td>2.137872e+01</td><td>    10.23617</td><td>  0.00      </td><td>    512.3292</td><td>    512.3292</td><td> 4.7712097  </td><td>33.1230682  </td><td>1.664792e+00</td></tr>\n",
       "\t<tr><th scope=row>Cabin*</th><td>11          </td><td>891         </td><td>         NaN</td><td>          NA</td><td>         NA </td><td>         NaN</td><td>          NA</td><td>   Inf      </td><td>        -Inf</td><td>        -Inf</td><td>        NA  </td><td>        NA  </td><td>          NA</td></tr>\n",
       "\t<tr><th scope=row>Embarked*</th><td>12          </td><td>891         </td><td>         NaN</td><td>          NA</td><td>         NA </td><td>         NaN</td><td>          NA</td><td>   Inf      </td><td>        -Inf</td><td>        -Inf</td><td>        NA  </td><td>        NA  </td><td>          NA</td></tr>\n",
       "</tbody>\n",
       "</table>\n"
      ],
      "text/latex": [
       "\\begin{tabular}{r|lllllllllllll}\n",
       "  & vars & n & mean & sd & median & trimmed & mad & min & max & range & skew & kurtosis & se\\\\\n",
       "\\hline\n",
       "\tPassengerId &  1           & 891          & 4.460000e+02 & 2.573538e+02 &    446.0000  & 4.460000e+02 &    330.61980 &   1.00       &     891.0000 &     890.0000 &  0.0000000   & -1.2040412   & 8.621678e+00\\\\\n",
       "\tSurvived &  2           & 891          & 3.838384e-01 & 4.865925e-01 &      0.0000  & 3.548387e-01 &      0.00000 &   0.00       &       1.0000 &       1.0000 &  0.4769135   & -1.7745414   & 1.630146e-02\\\\\n",
       "\tPclass &  3           & 891          & 2.308642e+00 & 8.360712e-01 &      3.0000  & 2.385694e+00 &      0.00000 &   1.00       &       3.0000 &       2.0000 & -0.6284264   & -1.2834293   & 2.800944e-02\\\\\n",
       "\tName* &  4           & 891          &          NaN &           NA &          NA  &          NaN &           NA &    Inf       &         -Inf &         -Inf &         NA   &         NA   &           NA\\\\\n",
       "\tSex* &  5           & 891          &          NaN &           NA &          NA  &          NaN &           NA &    Inf       &         -Inf &         -Inf &         NA   &         NA   &           NA\\\\\n",
       "\tAge &  6           & 714          & 2.969912e+01 & 1.452650e+01 &     28.0000  & 2.926923e+01 &     13.34340 &   0.42       &      80.0000 &      79.5800 &  0.3874744   &  0.1597671   & 5.436405e-01\\\\\n",
       "\tSibSp &  7           & 891          & 5.230079e-01 & 1.102743e+00 &      0.0000  & 2.720898e-01 &      0.00000 &   0.00       &       8.0000 &       8.0000 &  3.6829188   & 17.7269083   & 3.694329e-02\\\\\n",
       "\tParch &  8           & 891          & 3.815937e-01 & 8.060572e-01 &      0.0000  & 1.823282e-01 &      0.00000 &   0.00       &       6.0000 &       6.0000 &  2.7398677   &  9.6880847   & 2.700393e-02\\\\\n",
       "\tTicket* &  9           & 891          & 2.603185e+05 & 4.716093e+05 & 236171.0000  & 1.956829e+05 & 185104.09260 & 693.00       & 3101298.0000 & 3100605.0000 &  5.2418837   & 28.9026995   & 1.579950e+04\\\\\n",
       "\tFare & 10           & 891          & 3.220421e+01 & 4.969343e+01 &     14.4542  & 2.137872e+01 &     10.23617 &   0.00       &     512.3292 &     512.3292 &  4.7712097   & 33.1230682   & 1.664792e+00\\\\\n",
       "\tCabin* & 11           & 891          &          NaN &           NA &          NA  &          NaN &           NA &    Inf       &         -Inf &         -Inf &         NA   &         NA   &           NA\\\\\n",
       "\tEmbarked* & 12           & 891          &          NaN &           NA &          NA  &          NaN &           NA &    Inf       &         -Inf &         -Inf &         NA   &         NA   &           NA\\\\\n",
       "\\end{tabular}\n"
      ],
      "text/markdown": [
       "\n",
       "| <!--/--> | vars | n | mean | sd | median | trimmed | mad | min | max | range | skew | kurtosis | se | \n",
       "|---|---|---|---|---|---|---|---|---|---|---|---|\n",
       "| PassengerId |  1           | 891          | 4.460000e+02 | 2.573538e+02 |    446.0000  | 4.460000e+02 |    330.61980 |   1.00       |     891.0000 |     890.0000 |  0.0000000   | -1.2040412   | 8.621678e+00 | \n",
       "| Survived |  2           | 891          | 3.838384e-01 | 4.865925e-01 |      0.0000  | 3.548387e-01 |      0.00000 |   0.00       |       1.0000 |       1.0000 |  0.4769135   | -1.7745414   | 1.630146e-02 | \n",
       "| Pclass |  3           | 891          | 2.308642e+00 | 8.360712e-01 |      3.0000  | 2.385694e+00 |      0.00000 |   1.00       |       3.0000 |       2.0000 | -0.6284264   | -1.2834293   | 2.800944e-02 | \n",
       "| Name* |  4           | 891          |          NaN |           NA |          NA  |          NaN |           NA |    Inf       |         -Inf |         -Inf |         NA   |         NA   |           NA | \n",
       "| Sex* |  5           | 891          |          NaN |           NA |          NA  |          NaN |           NA |    Inf       |         -Inf |         -Inf |         NA   |         NA   |           NA | \n",
       "| Age |  6           | 714          | 2.969912e+01 | 1.452650e+01 |     28.0000  | 2.926923e+01 |     13.34340 |   0.42       |      80.0000 |      79.5800 |  0.3874744   |  0.1597671   | 5.436405e-01 | \n",
       "| SibSp |  7           | 891          | 5.230079e-01 | 1.102743e+00 |      0.0000  | 2.720898e-01 |      0.00000 |   0.00       |       8.0000 |       8.0000 |  3.6829188   | 17.7269083   | 3.694329e-02 | \n",
       "| Parch |  8           | 891          | 3.815937e-01 | 8.060572e-01 |      0.0000  | 1.823282e-01 |      0.00000 |   0.00       |       6.0000 |       6.0000 |  2.7398677   |  9.6880847   | 2.700393e-02 | \n",
       "| Ticket* |  9           | 891          | 2.603185e+05 | 4.716093e+05 | 236171.0000  | 1.956829e+05 | 185104.09260 | 693.00       | 3101298.0000 | 3100605.0000 |  5.2418837   | 28.9026995   | 1.579950e+04 | \n",
       "| Fare | 10           | 891          | 3.220421e+01 | 4.969343e+01 |     14.4542  | 2.137872e+01 |     10.23617 |   0.00       |     512.3292 |     512.3292 |  4.7712097   | 33.1230682   | 1.664792e+00 | \n",
       "| Cabin* | 11           | 891          |          NaN |           NA |          NA  |          NaN |           NA |    Inf       |         -Inf |         -Inf |         NA   |         NA   |           NA | \n",
       "| Embarked* | 12           | 891          |          NaN |           NA |          NA  |          NaN |           NA |    Inf       |         -Inf |         -Inf |         NA   |         NA   |           NA | \n",
       "\n",
       "\n"
      ],
      "text/plain": [
       "            vars n   mean         sd           median      trimmed     \n",
       "PassengerId  1   891 4.460000e+02 2.573538e+02    446.0000 4.460000e+02\n",
       "Survived     2   891 3.838384e-01 4.865925e-01      0.0000 3.548387e-01\n",
       "Pclass       3   891 2.308642e+00 8.360712e-01      3.0000 2.385694e+00\n",
       "Name*        4   891          NaN           NA          NA          NaN\n",
       "Sex*         5   891          NaN           NA          NA          NaN\n",
       "Age          6   714 2.969912e+01 1.452650e+01     28.0000 2.926923e+01\n",
       "SibSp        7   891 5.230079e-01 1.102743e+00      0.0000 2.720898e-01\n",
       "Parch        8   891 3.815937e-01 8.060572e-01      0.0000 1.823282e-01\n",
       "Ticket*      9   891 2.603185e+05 4.716093e+05 236171.0000 1.956829e+05\n",
       "Fare        10   891 3.220421e+01 4.969343e+01     14.4542 2.137872e+01\n",
       "Cabin*      11   891          NaN           NA          NA          NaN\n",
       "Embarked*   12   891          NaN           NA          NA          NaN\n",
       "            mad          min    max          range        skew       kurtosis  \n",
       "PassengerId    330.61980   1.00     891.0000     890.0000  0.0000000 -1.2040412\n",
       "Survived         0.00000   0.00       1.0000       1.0000  0.4769135 -1.7745414\n",
       "Pclass           0.00000   1.00       3.0000       2.0000 -0.6284264 -1.2834293\n",
       "Name*                 NA    Inf         -Inf         -Inf         NA         NA\n",
       "Sex*                  NA    Inf         -Inf         -Inf         NA         NA\n",
       "Age             13.34340   0.42      80.0000      79.5800  0.3874744  0.1597671\n",
       "SibSp            0.00000   0.00       8.0000       8.0000  3.6829188 17.7269083\n",
       "Parch            0.00000   0.00       6.0000       6.0000  2.7398677  9.6880847\n",
       "Ticket*     185104.09260 693.00 3101298.0000 3100605.0000  5.2418837 28.9026995\n",
       "Fare            10.23617   0.00     512.3292     512.3292  4.7712097 33.1230682\n",
       "Cabin*                NA    Inf         -Inf         -Inf         NA         NA\n",
       "Embarked*             NA    Inf         -Inf         -Inf         NA         NA\n",
       "            se          \n",
       "PassengerId 8.621678e+00\n",
       "Survived    1.630146e-02\n",
       "Pclass      2.800944e-02\n",
       "Name*                 NA\n",
       "Sex*                  NA\n",
       "Age         5.436405e-01\n",
       "SibSp       3.694329e-02\n",
       "Parch       2.700393e-02\n",
       "Ticket*     1.579950e+04\n",
       "Fare        1.664792e+00\n",
       "Cabin*                NA\n",
       "Embarked*             NA"
      ]
     },
     "metadata": {},
     "output_type": "display_data"
    },
    {
     "name": "stderr",
     "output_type": "stream",
     "text": [
      "Warning message in describe(x, type = type):\n",
      "\"NAs introduced by coercion\"Warning message in describe(x, type = type):\n",
      "\"NAs introduced by coercion\"Warning message in describe(x, type = type):\n",
      "\"NAs introduced by coercion\"Warning message in describe(x, type = type):\n",
      "\"NAs introduced by coercion\"Warning message in describe(x, type = type):\n",
      "\"NAs introduced by coercion\"Warning message in FUN(newX[, i], ...):\n",
      "\"no non-missing arguments to min; returning Inf\"Warning message in FUN(newX[, i], ...):\n",
      "\"no non-missing arguments to min; returning Inf\"Warning message in FUN(newX[, i], ...):\n",
      "\"no non-missing arguments to min; returning Inf\"Warning message in FUN(newX[, i], ...):\n",
      "\"no non-missing arguments to min; returning Inf\"Warning message in FUN(newX[, i], ...):\n",
      "\"no non-missing arguments to max; returning -Inf\"Warning message in FUN(newX[, i], ...):\n",
      "\"no non-missing arguments to max; returning -Inf\"Warning message in FUN(newX[, i], ...):\n",
      "\"no non-missing arguments to max; returning -Inf\"Warning message in FUN(newX[, i], ...):\n",
      "\"no non-missing arguments to max; returning -Inf\"Warning message in describeBy(train):\n",
      "\"no grouping variable requested\""
     ]
    },
    {
     "data": {
      "text/html": [
       "<table>\n",
       "<thead><tr><th></th><th scope=col>vars</th><th scope=col>n</th><th scope=col>mean</th><th scope=col>sd</th><th scope=col>median</th><th scope=col>trimmed</th><th scope=col>mad</th><th scope=col>min</th><th scope=col>max</th><th scope=col>range</th><th scope=col>skew</th><th scope=col>kurtosis</th><th scope=col>se</th></tr></thead>\n",
       "<tbody>\n",
       "\t<tr><th scope=row>PassengerId</th><td> 1          </td><td>891         </td><td>4.460000e+02</td><td>2.573538e+02</td><td>   446.0000 </td><td>4.460000e+02</td><td>   330.61980</td><td>  1.00      </td><td>    891.0000</td><td>    890.0000</td><td> 0.0000000  </td><td>-1.2040412  </td><td>8.621678e+00</td></tr>\n",
       "\t<tr><th scope=row>Survived</th><td> 2          </td><td>891         </td><td>3.838384e-01</td><td>4.865925e-01</td><td>     0.0000 </td><td>3.548387e-01</td><td>     0.00000</td><td>  0.00      </td><td>      1.0000</td><td>      1.0000</td><td> 0.4769135  </td><td>-1.7745414  </td><td>1.630146e-02</td></tr>\n",
       "\t<tr><th scope=row>Pclass</th><td> 3          </td><td>891         </td><td>2.308642e+00</td><td>8.360712e-01</td><td>     3.0000 </td><td>2.385694e+00</td><td>     0.00000</td><td>  1.00      </td><td>      3.0000</td><td>      2.0000</td><td>-0.6284264  </td><td>-1.2834293  </td><td>2.800944e-02</td></tr>\n",
       "\t<tr><th scope=row>Name*</th><td> 4          </td><td>891         </td><td>         NaN</td><td>          NA</td><td>         NA </td><td>         NaN</td><td>          NA</td><td>   Inf      </td><td>        -Inf</td><td>        -Inf</td><td>        NA  </td><td>        NA  </td><td>          NA</td></tr>\n",
       "\t<tr><th scope=row>Sex*</th><td> 5          </td><td>891         </td><td>         NaN</td><td>          NA</td><td>         NA </td><td>         NaN</td><td>          NA</td><td>   Inf      </td><td>        -Inf</td><td>        -Inf</td><td>        NA  </td><td>        NA  </td><td>          NA</td></tr>\n",
       "\t<tr><th scope=row>Age</th><td> 6          </td><td>714         </td><td>2.969912e+01</td><td>1.452650e+01</td><td>    28.0000 </td><td>2.926923e+01</td><td>    13.34340</td><td>  0.42      </td><td>     80.0000</td><td>     79.5800</td><td> 0.3874744  </td><td> 0.1597671  </td><td>5.436405e-01</td></tr>\n",
       "\t<tr><th scope=row>SibSp</th><td> 7          </td><td>891         </td><td>5.230079e-01</td><td>1.102743e+00</td><td>     0.0000 </td><td>2.720898e-01</td><td>     0.00000</td><td>  0.00      </td><td>      8.0000</td><td>      8.0000</td><td> 3.6829188  </td><td>17.7269083  </td><td>3.694329e-02</td></tr>\n",
       "\t<tr><th scope=row>Parch</th><td> 8          </td><td>891         </td><td>3.815937e-01</td><td>8.060572e-01</td><td>     0.0000 </td><td>1.823282e-01</td><td>     0.00000</td><td>  0.00      </td><td>      6.0000</td><td>      6.0000</td><td> 2.7398677  </td><td> 9.6880847  </td><td>2.700393e-02</td></tr>\n",
       "\t<tr><th scope=row>Ticket*</th><td> 9          </td><td>891         </td><td>2.603185e+05</td><td>4.716093e+05</td><td>236171.0000 </td><td>1.956829e+05</td><td>185104.09260</td><td>693.00      </td><td>3101298.0000</td><td>3100605.0000</td><td> 5.2418837  </td><td>28.9026995  </td><td>1.579950e+04</td></tr>\n",
       "\t<tr><th scope=row>Fare</th><td>10          </td><td>891         </td><td>3.220421e+01</td><td>4.969343e+01</td><td>    14.4542 </td><td>2.137872e+01</td><td>    10.23617</td><td>  0.00      </td><td>    512.3292</td><td>    512.3292</td><td> 4.7712097  </td><td>33.1230682  </td><td>1.664792e+00</td></tr>\n",
       "\t<tr><th scope=row>Cabin*</th><td>11          </td><td>891         </td><td>         NaN</td><td>          NA</td><td>         NA </td><td>         NaN</td><td>          NA</td><td>   Inf      </td><td>        -Inf</td><td>        -Inf</td><td>        NA  </td><td>        NA  </td><td>          NA</td></tr>\n",
       "\t<tr><th scope=row>Embarked*</th><td>12          </td><td>891         </td><td>         NaN</td><td>          NA</td><td>         NA </td><td>         NaN</td><td>          NA</td><td>   Inf      </td><td>        -Inf</td><td>        -Inf</td><td>        NA  </td><td>        NA  </td><td>          NA</td></tr>\n",
       "</tbody>\n",
       "</table>\n"
      ],
      "text/latex": [
       "\\begin{tabular}{r|lllllllllllll}\n",
       "  & vars & n & mean & sd & median & trimmed & mad & min & max & range & skew & kurtosis & se\\\\\n",
       "\\hline\n",
       "\tPassengerId &  1           & 891          & 4.460000e+02 & 2.573538e+02 &    446.0000  & 4.460000e+02 &    330.61980 &   1.00       &     891.0000 &     890.0000 &  0.0000000   & -1.2040412   & 8.621678e+00\\\\\n",
       "\tSurvived &  2           & 891          & 3.838384e-01 & 4.865925e-01 &      0.0000  & 3.548387e-01 &      0.00000 &   0.00       &       1.0000 &       1.0000 &  0.4769135   & -1.7745414   & 1.630146e-02\\\\\n",
       "\tPclass &  3           & 891          & 2.308642e+00 & 8.360712e-01 &      3.0000  & 2.385694e+00 &      0.00000 &   1.00       &       3.0000 &       2.0000 & -0.6284264   & -1.2834293   & 2.800944e-02\\\\\n",
       "\tName* &  4           & 891          &          NaN &           NA &          NA  &          NaN &           NA &    Inf       &         -Inf &         -Inf &         NA   &         NA   &           NA\\\\\n",
       "\tSex* &  5           & 891          &          NaN &           NA &          NA  &          NaN &           NA &    Inf       &         -Inf &         -Inf &         NA   &         NA   &           NA\\\\\n",
       "\tAge &  6           & 714          & 2.969912e+01 & 1.452650e+01 &     28.0000  & 2.926923e+01 &     13.34340 &   0.42       &      80.0000 &      79.5800 &  0.3874744   &  0.1597671   & 5.436405e-01\\\\\n",
       "\tSibSp &  7           & 891          & 5.230079e-01 & 1.102743e+00 &      0.0000  & 2.720898e-01 &      0.00000 &   0.00       &       8.0000 &       8.0000 &  3.6829188   & 17.7269083   & 3.694329e-02\\\\\n",
       "\tParch &  8           & 891          & 3.815937e-01 & 8.060572e-01 &      0.0000  & 1.823282e-01 &      0.00000 &   0.00       &       6.0000 &       6.0000 &  2.7398677   &  9.6880847   & 2.700393e-02\\\\\n",
       "\tTicket* &  9           & 891          & 2.603185e+05 & 4.716093e+05 & 236171.0000  & 1.956829e+05 & 185104.09260 & 693.00       & 3101298.0000 & 3100605.0000 &  5.2418837   & 28.9026995   & 1.579950e+04\\\\\n",
       "\tFare & 10           & 891          & 3.220421e+01 & 4.969343e+01 &     14.4542  & 2.137872e+01 &     10.23617 &   0.00       &     512.3292 &     512.3292 &  4.7712097   & 33.1230682   & 1.664792e+00\\\\\n",
       "\tCabin* & 11           & 891          &          NaN &           NA &          NA  &          NaN &           NA &    Inf       &         -Inf &         -Inf &         NA   &         NA   &           NA\\\\\n",
       "\tEmbarked* & 12           & 891          &          NaN &           NA &          NA  &          NaN &           NA &    Inf       &         -Inf &         -Inf &         NA   &         NA   &           NA\\\\\n",
       "\\end{tabular}\n"
      ],
      "text/markdown": [
       "\n",
       "| <!--/--> | vars | n | mean | sd | median | trimmed | mad | min | max | range | skew | kurtosis | se | \n",
       "|---|---|---|---|---|---|---|---|---|---|---|---|\n",
       "| PassengerId |  1           | 891          | 4.460000e+02 | 2.573538e+02 |    446.0000  | 4.460000e+02 |    330.61980 |   1.00       |     891.0000 |     890.0000 |  0.0000000   | -1.2040412   | 8.621678e+00 | \n",
       "| Survived |  2           | 891          | 3.838384e-01 | 4.865925e-01 |      0.0000  | 3.548387e-01 |      0.00000 |   0.00       |       1.0000 |       1.0000 |  0.4769135   | -1.7745414   | 1.630146e-02 | \n",
       "| Pclass |  3           | 891          | 2.308642e+00 | 8.360712e-01 |      3.0000  | 2.385694e+00 |      0.00000 |   1.00       |       3.0000 |       2.0000 | -0.6284264   | -1.2834293   | 2.800944e-02 | \n",
       "| Name* |  4           | 891          |          NaN |           NA |          NA  |          NaN |           NA |    Inf       |         -Inf |         -Inf |         NA   |         NA   |           NA | \n",
       "| Sex* |  5           | 891          |          NaN |           NA |          NA  |          NaN |           NA |    Inf       |         -Inf |         -Inf |         NA   |         NA   |           NA | \n",
       "| Age |  6           | 714          | 2.969912e+01 | 1.452650e+01 |     28.0000  | 2.926923e+01 |     13.34340 |   0.42       |      80.0000 |      79.5800 |  0.3874744   |  0.1597671   | 5.436405e-01 | \n",
       "| SibSp |  7           | 891          | 5.230079e-01 | 1.102743e+00 |      0.0000  | 2.720898e-01 |      0.00000 |   0.00       |       8.0000 |       8.0000 |  3.6829188   | 17.7269083   | 3.694329e-02 | \n",
       "| Parch |  8           | 891          | 3.815937e-01 | 8.060572e-01 |      0.0000  | 1.823282e-01 |      0.00000 |   0.00       |       6.0000 |       6.0000 |  2.7398677   |  9.6880847   | 2.700393e-02 | \n",
       "| Ticket* |  9           | 891          | 2.603185e+05 | 4.716093e+05 | 236171.0000  | 1.956829e+05 | 185104.09260 | 693.00       | 3101298.0000 | 3100605.0000 |  5.2418837   | 28.9026995   | 1.579950e+04 | \n",
       "| Fare | 10           | 891          | 3.220421e+01 | 4.969343e+01 |     14.4542  | 2.137872e+01 |     10.23617 |   0.00       |     512.3292 |     512.3292 |  4.7712097   | 33.1230682   | 1.664792e+00 | \n",
       "| Cabin* | 11           | 891          |          NaN |           NA |          NA  |          NaN |           NA |    Inf       |         -Inf |         -Inf |         NA   |         NA   |           NA | \n",
       "| Embarked* | 12           | 891          |          NaN |           NA |          NA  |          NaN |           NA |    Inf       |         -Inf |         -Inf |         NA   |         NA   |           NA | \n",
       "\n",
       "\n"
      ],
      "text/plain": [
       "            vars n   mean         sd           median      trimmed     \n",
       "PassengerId  1   891 4.460000e+02 2.573538e+02    446.0000 4.460000e+02\n",
       "Survived     2   891 3.838384e-01 4.865925e-01      0.0000 3.548387e-01\n",
       "Pclass       3   891 2.308642e+00 8.360712e-01      3.0000 2.385694e+00\n",
       "Name*        4   891          NaN           NA          NA          NaN\n",
       "Sex*         5   891          NaN           NA          NA          NaN\n",
       "Age          6   714 2.969912e+01 1.452650e+01     28.0000 2.926923e+01\n",
       "SibSp        7   891 5.230079e-01 1.102743e+00      0.0000 2.720898e-01\n",
       "Parch        8   891 3.815937e-01 8.060572e-01      0.0000 1.823282e-01\n",
       "Ticket*      9   891 2.603185e+05 4.716093e+05 236171.0000 1.956829e+05\n",
       "Fare        10   891 3.220421e+01 4.969343e+01     14.4542 2.137872e+01\n",
       "Cabin*      11   891          NaN           NA          NA          NaN\n",
       "Embarked*   12   891          NaN           NA          NA          NaN\n",
       "            mad          min    max          range        skew       kurtosis  \n",
       "PassengerId    330.61980   1.00     891.0000     890.0000  0.0000000 -1.2040412\n",
       "Survived         0.00000   0.00       1.0000       1.0000  0.4769135 -1.7745414\n",
       "Pclass           0.00000   1.00       3.0000       2.0000 -0.6284264 -1.2834293\n",
       "Name*                 NA    Inf         -Inf         -Inf         NA         NA\n",
       "Sex*                  NA    Inf         -Inf         -Inf         NA         NA\n",
       "Age             13.34340   0.42      80.0000      79.5800  0.3874744  0.1597671\n",
       "SibSp            0.00000   0.00       8.0000       8.0000  3.6829188 17.7269083\n",
       "Parch            0.00000   0.00       6.0000       6.0000  2.7398677  9.6880847\n",
       "Ticket*     185104.09260 693.00 3101298.0000 3100605.0000  5.2418837 28.9026995\n",
       "Fare            10.23617   0.00     512.3292     512.3292  4.7712097 33.1230682\n",
       "Cabin*                NA    Inf         -Inf         -Inf         NA         NA\n",
       "Embarked*             NA    Inf         -Inf         -Inf         NA         NA\n",
       "            se          \n",
       "PassengerId 8.621678e+00\n",
       "Survived    1.630146e-02\n",
       "Pclass      2.800944e-02\n",
       "Name*                 NA\n",
       "Sex*                  NA\n",
       "Age         5.436405e-01\n",
       "SibSp       3.694329e-02\n",
       "Parch       2.700393e-02\n",
       "Ticket*     1.579950e+04\n",
       "Fare        1.664792e+00\n",
       "Cabin*                NA\n",
       "Embarked*             NA"
      ]
     },
     "metadata": {},
     "output_type": "display_data"
    }
   ],
   "source": [
    "library(psych)\n",
    "describe(train)\n",
    "describeBy(train)"
   ]
  },
  {
   "cell_type": "code",
   "execution_count": 8,
   "metadata": {
    "run_control": {
     "frozen": false,
     "read_only": false
    },
    "slideshow": {
     "slide_type": "subslide"
    }
   },
   "outputs": [
    {
     "name": "stderr",
     "output_type": "stream",
     "text": [
      "Loading required package: lattice\n",
      "Loading required package: survival\n",
      "Loading required package: Formula\n",
      "Loading required package: ggplot2\n",
      "\n",
      "Attaching package: 'ggplot2'\n",
      "\n",
      "The following objects are masked from 'package:psych':\n",
      "\n",
      "    %+%, alpha\n",
      "\n",
      "\n",
      "Attaching package: 'Hmisc'\n",
      "\n",
      "The following object is masked from 'package:psych':\n",
      "\n",
      "    describe\n",
      "\n",
      "The following objects are masked from 'package:DescTools':\n",
      "\n",
      "    %nin%, Label, Mean, Quantile\n",
      "\n",
      "The following objects are masked from 'package:base':\n",
      "\n",
      "    format.pval, round.POSIXt, trunc.POSIXt, units\n",
      "\n"
     ]
    },
    {
     "data": {
      "text/plain": [
       "train \n",
       "\n",
       " 12  Variables      891  Observations\n",
       "--------------------------------------------------------------------------------\n",
       "PassengerId \n",
       "       n  missing distinct     Info     Mean      Gmd      .05      .10 \n",
       "     891        0      891        1      446    297.3     45.5     90.0 \n",
       "     .25      .50      .75      .90      .95 \n",
       "   223.5    446.0    668.5    802.0    846.5 \n",
       "\n",
       "lowest :   1   2   3   4   5, highest: 887 888 889 890 891\n",
       "--------------------------------------------------------------------------------\n",
       "Survived \n",
       "       n  missing distinct     Info      Sum     Mean      Gmd \n",
       "     891        0        2     0.71      342   0.3838   0.4735 \n",
       "\n",
       "--------------------------------------------------------------------------------\n",
       "Pclass \n",
       "       n  missing distinct     Info     Mean      Gmd \n",
       "     891        0        3     0.81    2.309   0.8631 \n",
       "                            \n",
       "Value          1     2     3\n",
       "Frequency    216   184   491\n",
       "Proportion 0.242 0.207 0.551\n",
       "--------------------------------------------------------------------------------\n",
       "Name \n",
       "       n  missing distinct \n",
       "     891        0      891 \n",
       "\n",
       "lowest : Abbing, Mr. Anthony                    Abbott, Mr. Rossmore Edward            Abbott, Mrs. Stanton (Rosa Hunt)       Abelson, Mr. Samuel                    Abelson, Mrs. Samuel (Hannah Wizosky) \n",
       "highest: Yousseff, Mr. Gerious                  Yrois, Miss. Henriette (\"Mrs Harbeck\") Zabour, Miss. Hileni                   Zabour, Miss. Thamine                  Zimmerman, Mr. Leo                    \n",
       "--------------------------------------------------------------------------------\n",
       "Sex \n",
       "       n  missing distinct \n",
       "     891        0        2 \n",
       "                        \n",
       "Value      female   male\n",
       "Frequency     314    577\n",
       "Proportion  0.352  0.648\n",
       "--------------------------------------------------------------------------------\n",
       "Age \n",
       "       n  missing distinct     Info     Mean      Gmd      .05      .10 \n",
       "     714      177       88    0.999     29.7    16.21     4.00    14.00 \n",
       "     .25      .50      .75      .90      .95 \n",
       "   20.12    28.00    38.00    50.00    56.00 \n",
       "\n",
       "lowest :  0.42  0.67  0.75  0.83  0.92, highest: 70.00 70.50 71.00 74.00 80.00\n",
       "--------------------------------------------------------------------------------\n",
       "SibSp \n",
       "       n  missing distinct     Info     Mean      Gmd \n",
       "     891        0        7    0.669    0.523    0.823 \n",
       "                                                    \n",
       "Value          0     1     2     3     4     5     8\n",
       "Frequency    608   209    28    16    18     5     7\n",
       "Proportion 0.682 0.235 0.031 0.018 0.020 0.006 0.008\n",
       "--------------------------------------------------------------------------------\n",
       "Parch \n",
       "       n  missing distinct     Info     Mean      Gmd \n",
       "     891        0        7    0.556   0.3816   0.6259 \n",
       "                                                    \n",
       "Value          0     1     2     3     4     5     6\n",
       "Frequency    678   118    80     5     4     5     1\n",
       "Proportion 0.761 0.132 0.090 0.006 0.004 0.006 0.001\n",
       "--------------------------------------------------------------------------------\n",
       "Ticket \n",
       "       n  missing distinct \n",
       "     891        0      681 \n",
       "\n",
       "lowest : 110152      110413      110465      110564      110813     \n",
       "highest: W./C. 6608  W./C. 6609  W.E.P. 5734 W/C 14208   WE/P 5735  \n",
       "--------------------------------------------------------------------------------\n",
       "Fare \n",
       "       n  missing distinct     Info     Mean      Gmd      .05      .10 \n",
       "     891        0      248        1     32.2    36.78    7.225    7.550 \n",
       "     .25      .50      .75      .90      .95 \n",
       "   7.910   14.454   31.000   77.958  112.079 \n",
       "\n",
       "lowest :   0.0000   4.0125   5.0000   6.2375   6.4375\n",
       "highest: 227.5250 247.5208 262.3750 263.0000 512.3292\n",
       "--------------------------------------------------------------------------------\n",
       "Cabin \n",
       "       n  missing distinct \n",
       "     204      687      147 \n",
       "\n",
       "lowest : A10 A14 A16 A19 A20, highest: F33 F38 F4  G6  T  \n",
       "--------------------------------------------------------------------------------\n",
       "Embarked \n",
       "       n  missing distinct \n",
       "     889        2        3 \n",
       "                            \n",
       "Value          C     Q     S\n",
       "Frequency    168    77   644\n",
       "Proportion 0.189 0.087 0.724\n",
       "--------------------------------------------------------------------------------"
      ]
     },
     "metadata": {},
     "output_type": "display_data"
    }
   ],
   "source": [
    "library(Hmisc)\n",
    "Hmisc::describe(train)"
   ]
  },
  {
   "cell_type": "code",
   "execution_count": 9,
   "metadata": {
    "run_control": {
     "frozen": false,
     "read_only": false
    },
    "slideshow": {
     "slide_type": "subslide"
    }
   },
   "outputs": [
    {
     "name": "stderr",
     "output_type": "stream",
     "text": [
      "Loading required package: boot\n",
      "\n",
      "Attaching package: 'boot'\n",
      "\n",
      "The following object is masked from 'package:survival':\n",
      "\n",
      "    aml\n",
      "\n",
      "The following object is masked from 'package:lattice':\n",
      "\n",
      "    melanoma\n",
      "\n",
      "The following object is masked from 'package:psych':\n",
      "\n",
      "    logit\n",
      "\n"
     ]
    },
    {
     "data": {
      "text/html": [
       "<table>\n",
       "<thead><tr><th></th><th scope=col>PassengerId</th><th scope=col>Survived</th><th scope=col>Pclass</th><th scope=col>Name</th><th scope=col>Sex</th><th scope=col>Age</th><th scope=col>SibSp</th><th scope=col>Parch</th><th scope=col>Ticket</th><th scope=col>Fare</th><th scope=col>Cabin</th><th scope=col>Embarked</th></tr></thead>\n",
       "<tbody>\n",
       "\t<tr><th scope=row>nbr.val</th><td>8.910000e+02</td><td>891.00000000</td><td>8.910000e+02</td><td>NA          </td><td>NA          </td><td>7.140000e+02</td><td>891.00000000</td><td>891.00000000</td><td>NA          </td><td>  891.000000</td><td>NA          </td><td>NA          </td></tr>\n",
       "\t<tr><th scope=row>nbr.null</th><td>0.000000e+00</td><td>549.00000000</td><td>0.000000e+00</td><td>NA          </td><td>NA          </td><td>0.000000e+00</td><td>608.00000000</td><td>678.00000000</td><td>NA          </td><td>   15.000000</td><td>NA          </td><td>NA          </td></tr>\n",
       "\t<tr><th scope=row>nbr.na</th><td>0.000000e+00</td><td>  0.00000000</td><td>0.000000e+00</td><td>NA          </td><td>NA          </td><td>1.770000e+02</td><td>  0.00000000</td><td>  0.00000000</td><td>NA          </td><td>    0.000000</td><td>NA          </td><td>NA          </td></tr>\n",
       "\t<tr><th scope=row>min</th><td>1.000000e+00</td><td>  0.00000000</td><td>1.000000e+00</td><td>NA          </td><td>NA          </td><td>4.200000e-01</td><td>  0.00000000</td><td>  0.00000000</td><td>NA          </td><td>    0.000000</td><td>NA          </td><td>NA          </td></tr>\n",
       "\t<tr><th scope=row>max</th><td>8.910000e+02</td><td>  1.00000000</td><td>3.000000e+00</td><td>NA          </td><td>NA          </td><td>8.000000e+01</td><td>  8.00000000</td><td>  6.00000000</td><td>NA          </td><td>  512.329200</td><td>NA          </td><td>NA          </td></tr>\n",
       "\t<tr><th scope=row>range</th><td>8.900000e+02</td><td>  1.00000000</td><td>2.000000e+00</td><td>NA          </td><td>NA          </td><td>7.958000e+01</td><td>  8.00000000</td><td>  6.00000000</td><td>NA          </td><td>  512.329200</td><td>NA          </td><td>NA          </td></tr>\n",
       "\t<tr><th scope=row>sum</th><td>3.973860e+05</td><td>342.00000000</td><td>2.057000e+03</td><td>NA          </td><td>NA          </td><td>2.120517e+04</td><td>466.00000000</td><td>340.00000000</td><td>NA          </td><td>28693.949300</td><td>NA          </td><td>NA          </td></tr>\n",
       "\t<tr><th scope=row>median</th><td>4.460000e+02</td><td>  0.00000000</td><td>3.000000e+00</td><td>NA          </td><td>NA          </td><td>2.800000e+01</td><td>  0.00000000</td><td>  0.00000000</td><td>NA          </td><td>   14.454200</td><td>NA          </td><td>NA          </td></tr>\n",
       "\t<tr><th scope=row>mean</th><td>4.460000e+02</td><td>  0.38383838</td><td>2.308642e+00</td><td>NA          </td><td>NA          </td><td>2.969912e+01</td><td>  0.52300786</td><td>  0.38159371</td><td>NA          </td><td>   32.204208</td><td>NA          </td><td>NA          </td></tr>\n",
       "\t<tr><th scope=row>SE.mean</th><td>8.621678e+00</td><td>  0.01630146</td><td>2.800944e-02</td><td>NA          </td><td>NA          </td><td>5.436405e-01</td><td>  0.03694329</td><td>  0.02700393</td><td>NA          </td><td>    1.664792</td><td>NA          </td><td>NA          </td></tr>\n",
       "\t<tr><th scope=row>CI.mean.0.95</th><td>1.692119e+01</td><td>  0.03199378</td><td>5.497225e-02</td><td>NA          </td><td>NA          </td><td>1.067328e+00</td><td>  0.07250613</td><td>  0.05299881</td><td>NA          </td><td>    3.267377</td><td>NA          </td><td>NA          </td></tr>\n",
       "\t<tr><th scope=row>var</th><td>6.623100e+04</td><td>  0.23677222</td><td>6.990151e-01</td><td>NA          </td><td>NA          </td><td>2.110191e+02</td><td>  1.21604308</td><td>  0.64972824</td><td>NA          </td><td> 2469.436846</td><td>NA          </td><td>NA          </td></tr>\n",
       "\t<tr><th scope=row>std.dev</th><td>2.573538e+02</td><td>  0.48659245</td><td>8.360712e-01</td><td>NA          </td><td>NA          </td><td>1.452650e+01</td><td>  1.10274343</td><td>  0.80605722</td><td>NA          </td><td>   49.693429</td><td>NA          </td><td>NA          </td></tr>\n",
       "\t<tr><th scope=row>coef.var</th><td>5.770266e-01</td><td>  1.26770139</td><td>3.621485e-01</td><td>NA          </td><td>NA          </td><td>4.891222e-01</td><td>  2.10846437</td><td>  2.11234407</td><td>NA          </td><td>    1.543073</td><td>NA          </td><td>NA          </td></tr>\n",
       "</tbody>\n",
       "</table>\n"
      ],
      "text/latex": [
       "\\begin{tabular}{r|llllllllllll}\n",
       "  & PassengerId & Survived & Pclass & Name & Sex & Age & SibSp & Parch & Ticket & Fare & Cabin & Embarked\\\\\n",
       "\\hline\n",
       "\tnbr.val & 8.910000e+02 & 891.00000000 & 8.910000e+02 & NA           & NA           & 7.140000e+02 & 891.00000000 & 891.00000000 & NA           &   891.000000 & NA           & NA          \\\\\n",
       "\tnbr.null & 0.000000e+00 & 549.00000000 & 0.000000e+00 & NA           & NA           & 0.000000e+00 & 608.00000000 & 678.00000000 & NA           &    15.000000 & NA           & NA          \\\\\n",
       "\tnbr.na & 0.000000e+00 &   0.00000000 & 0.000000e+00 & NA           & NA           & 1.770000e+02 &   0.00000000 &   0.00000000 & NA           &     0.000000 & NA           & NA          \\\\\n",
       "\tmin & 1.000000e+00 &   0.00000000 & 1.000000e+00 & NA           & NA           & 4.200000e-01 &   0.00000000 &   0.00000000 & NA           &     0.000000 & NA           & NA          \\\\\n",
       "\tmax & 8.910000e+02 &   1.00000000 & 3.000000e+00 & NA           & NA           & 8.000000e+01 &   8.00000000 &   6.00000000 & NA           &   512.329200 & NA           & NA          \\\\\n",
       "\trange & 8.900000e+02 &   1.00000000 & 2.000000e+00 & NA           & NA           & 7.958000e+01 &   8.00000000 &   6.00000000 & NA           &   512.329200 & NA           & NA          \\\\\n",
       "\tsum & 3.973860e+05 & 342.00000000 & 2.057000e+03 & NA           & NA           & 2.120517e+04 & 466.00000000 & 340.00000000 & NA           & 28693.949300 & NA           & NA          \\\\\n",
       "\tmedian & 4.460000e+02 &   0.00000000 & 3.000000e+00 & NA           & NA           & 2.800000e+01 &   0.00000000 &   0.00000000 & NA           &    14.454200 & NA           & NA          \\\\\n",
       "\tmean & 4.460000e+02 &   0.38383838 & 2.308642e+00 & NA           & NA           & 2.969912e+01 &   0.52300786 &   0.38159371 & NA           &    32.204208 & NA           & NA          \\\\\n",
       "\tSE.mean & 8.621678e+00 &   0.01630146 & 2.800944e-02 & NA           & NA           & 5.436405e-01 &   0.03694329 &   0.02700393 & NA           &     1.664792 & NA           & NA          \\\\\n",
       "\tCI.mean.0.95 & 1.692119e+01 &   0.03199378 & 5.497225e-02 & NA           & NA           & 1.067328e+00 &   0.07250613 &   0.05299881 & NA           &     3.267377 & NA           & NA          \\\\\n",
       "\tvar & 6.623100e+04 &   0.23677222 & 6.990151e-01 & NA           & NA           & 2.110191e+02 &   1.21604308 &   0.64972824 & NA           &  2469.436846 & NA           & NA          \\\\\n",
       "\tstd.dev & 2.573538e+02 &   0.48659245 & 8.360712e-01 & NA           & NA           & 1.452650e+01 &   1.10274343 &   0.80605722 & NA           &    49.693429 & NA           & NA          \\\\\n",
       "\tcoef.var & 5.770266e-01 &   1.26770139 & 3.621485e-01 & NA           & NA           & 4.891222e-01 &   2.10846437 &   2.11234407 & NA           &     1.543073 & NA           & NA          \\\\\n",
       "\\end{tabular}\n"
      ],
      "text/markdown": [
       "\n",
       "| <!--/--> | PassengerId | Survived | Pclass | Name | Sex | Age | SibSp | Parch | Ticket | Fare | Cabin | Embarked | \n",
       "|---|---|---|---|---|---|---|---|---|---|---|---|---|---|\n",
       "| nbr.val | 8.910000e+02 | 891.00000000 | 8.910000e+02 | NA           | NA           | 7.140000e+02 | 891.00000000 | 891.00000000 | NA           |   891.000000 | NA           | NA           | \n",
       "| nbr.null | 0.000000e+00 | 549.00000000 | 0.000000e+00 | NA           | NA           | 0.000000e+00 | 608.00000000 | 678.00000000 | NA           |    15.000000 | NA           | NA           | \n",
       "| nbr.na | 0.000000e+00 |   0.00000000 | 0.000000e+00 | NA           | NA           | 1.770000e+02 |   0.00000000 |   0.00000000 | NA           |     0.000000 | NA           | NA           | \n",
       "| min | 1.000000e+00 |   0.00000000 | 1.000000e+00 | NA           | NA           | 4.200000e-01 |   0.00000000 |   0.00000000 | NA           |     0.000000 | NA           | NA           | \n",
       "| max | 8.910000e+02 |   1.00000000 | 3.000000e+00 | NA           | NA           | 8.000000e+01 |   8.00000000 |   6.00000000 | NA           |   512.329200 | NA           | NA           | \n",
       "| range | 8.900000e+02 |   1.00000000 | 2.000000e+00 | NA           | NA           | 7.958000e+01 |   8.00000000 |   6.00000000 | NA           |   512.329200 | NA           | NA           | \n",
       "| sum | 3.973860e+05 | 342.00000000 | 2.057000e+03 | NA           | NA           | 2.120517e+04 | 466.00000000 | 340.00000000 | NA           | 28693.949300 | NA           | NA           | \n",
       "| median | 4.460000e+02 |   0.00000000 | 3.000000e+00 | NA           | NA           | 2.800000e+01 |   0.00000000 |   0.00000000 | NA           |    14.454200 | NA           | NA           | \n",
       "| mean | 4.460000e+02 |   0.38383838 | 2.308642e+00 | NA           | NA           | 2.969912e+01 |   0.52300786 |   0.38159371 | NA           |    32.204208 | NA           | NA           | \n",
       "| SE.mean | 8.621678e+00 |   0.01630146 | 2.800944e-02 | NA           | NA           | 5.436405e-01 |   0.03694329 |   0.02700393 | NA           |     1.664792 | NA           | NA           | \n",
       "| CI.mean.0.95 | 1.692119e+01 |   0.03199378 | 5.497225e-02 | NA           | NA           | 1.067328e+00 |   0.07250613 |   0.05299881 | NA           |     3.267377 | NA           | NA           | \n",
       "| var | 6.623100e+04 |   0.23677222 | 6.990151e-01 | NA           | NA           | 2.110191e+02 |   1.21604308 |   0.64972824 | NA           |  2469.436846 | NA           | NA           | \n",
       "| std.dev | 2.573538e+02 |   0.48659245 | 8.360712e-01 | NA           | NA           | 1.452650e+01 |   1.10274343 |   0.80605722 | NA           |    49.693429 | NA           | NA           | \n",
       "| coef.var | 5.770266e-01 |   1.26770139 | 3.621485e-01 | NA           | NA           | 4.891222e-01 |   2.10846437 |   2.11234407 | NA           |     1.543073 | NA           | NA           | \n",
       "\n",
       "\n"
      ],
      "text/plain": [
       "             PassengerId  Survived     Pclass       Name Sex Age         \n",
       "nbr.val      8.910000e+02 891.00000000 8.910000e+02 NA   NA  7.140000e+02\n",
       "nbr.null     0.000000e+00 549.00000000 0.000000e+00 NA   NA  0.000000e+00\n",
       "nbr.na       0.000000e+00   0.00000000 0.000000e+00 NA   NA  1.770000e+02\n",
       "min          1.000000e+00   0.00000000 1.000000e+00 NA   NA  4.200000e-01\n",
       "max          8.910000e+02   1.00000000 3.000000e+00 NA   NA  8.000000e+01\n",
       "range        8.900000e+02   1.00000000 2.000000e+00 NA   NA  7.958000e+01\n",
       "sum          3.973860e+05 342.00000000 2.057000e+03 NA   NA  2.120517e+04\n",
       "median       4.460000e+02   0.00000000 3.000000e+00 NA   NA  2.800000e+01\n",
       "mean         4.460000e+02   0.38383838 2.308642e+00 NA   NA  2.969912e+01\n",
       "SE.mean      8.621678e+00   0.01630146 2.800944e-02 NA   NA  5.436405e-01\n",
       "CI.mean.0.95 1.692119e+01   0.03199378 5.497225e-02 NA   NA  1.067328e+00\n",
       "var          6.623100e+04   0.23677222 6.990151e-01 NA   NA  2.110191e+02\n",
       "std.dev      2.573538e+02   0.48659245 8.360712e-01 NA   NA  1.452650e+01\n",
       "coef.var     5.770266e-01   1.26770139 3.621485e-01 NA   NA  4.891222e-01\n",
       "             SibSp        Parch        Ticket Fare         Cabin Embarked\n",
       "nbr.val      891.00000000 891.00000000 NA       891.000000 NA    NA      \n",
       "nbr.null     608.00000000 678.00000000 NA        15.000000 NA    NA      \n",
       "nbr.na         0.00000000   0.00000000 NA         0.000000 NA    NA      \n",
       "min            0.00000000   0.00000000 NA         0.000000 NA    NA      \n",
       "max            8.00000000   6.00000000 NA       512.329200 NA    NA      \n",
       "range          8.00000000   6.00000000 NA       512.329200 NA    NA      \n",
       "sum          466.00000000 340.00000000 NA     28693.949300 NA    NA      \n",
       "median         0.00000000   0.00000000 NA        14.454200 NA    NA      \n",
       "mean           0.52300786   0.38159371 NA        32.204208 NA    NA      \n",
       "SE.mean        0.03694329   0.02700393 NA         1.664792 NA    NA      \n",
       "CI.mean.0.95   0.07250613   0.05299881 NA         3.267377 NA    NA      \n",
       "var            1.21604308   0.64972824 NA      2469.436846 NA    NA      \n",
       "std.dev        1.10274343   0.80605722 NA        49.693429 NA    NA      \n",
       "coef.var       2.10846437   2.11234407 NA         1.543073 NA    NA      "
      ]
     },
     "metadata": {},
     "output_type": "display_data"
    }
   ],
   "source": [
    "library(pastecs)\n",
    "stat.desc(train)"
   ]
  },
  {
   "cell_type": "code",
   "execution_count": 10,
   "metadata": {
    "run_control": {
     "frozen": false,
     "read_only": false
    },
    "slideshow": {
     "slide_type": "subslide"
    }
   },
   "outputs": [
    {
     "name": "stderr",
     "output_type": "stream",
     "text": [
      "Warning message:\n",
      "\"package 'skimr' was built under R version 3.4.3\""
     ]
    },
    {
     "data": {
      "text/html": [
       "<table>\n",
       "<thead><tr><th scope=col>variable</th><th scope=col>type</th><th scope=col>stat</th><th scope=col>level</th><th scope=col>value</th><th scope=col>formatted</th></tr></thead>\n",
       "<tbody>\n",
       "\t<tr><td>PassengerId                                                     </td><td>integer                                                         </td><td>missing                                                         </td><td>.all                                                            </td><td>  0.0000000                                                     </td><td>0                                                               </td></tr>\n",
       "\t<tr><td>PassengerId                                                     </td><td>integer                                                         </td><td>complete                                                        </td><td>.all                                                            </td><td>891.0000000                                                     </td><td>891                                                             </td></tr>\n",
       "\t<tr><td>PassengerId                                                     </td><td>integer                                                         </td><td>n                                                               </td><td>.all                                                            </td><td>891.0000000                                                     </td><td>891                                                             </td></tr>\n",
       "\t<tr><td>PassengerId                                                     </td><td>integer                                                         </td><td>mean                                                            </td><td>.all                                                            </td><td>446.0000000                                                     </td><td>446                                                             </td></tr>\n",
       "\t<tr><td>PassengerId                                                     </td><td>integer                                                         </td><td>sd                                                              </td><td>.all                                                            </td><td>257.3538420                                                     </td><td>257.35                                                          </td></tr>\n",
       "\t<tr><td>PassengerId                                                     </td><td>integer                                                         </td><td>p0                                                              </td><td>.all                                                            </td><td>  1.0000000                                                     </td><td>1                                                               </td></tr>\n",
       "\t<tr><td>PassengerId                                                     </td><td>integer                                                         </td><td>p25                                                             </td><td>.all                                                            </td><td>223.5000000                                                     </td><td>223.5                                                           </td></tr>\n",
       "\t<tr><td>PassengerId                                                     </td><td>integer                                                         </td><td>median                                                          </td><td>.all                                                            </td><td>446.0000000                                                     </td><td>446                                                             </td></tr>\n",
       "\t<tr><td>PassengerId                                                     </td><td>integer                                                         </td><td>p75                                                             </td><td>.all                                                            </td><td>668.5000000                                                     </td><td>668.5                                                           </td></tr>\n",
       "\t<tr><td>PassengerId                                                     </td><td>integer                                                         </td><td>p100                                                            </td><td>.all                                                            </td><td>891.0000000                                                     </td><td>891                                                             </td></tr>\n",
       "\t<tr><td>PassengerId                                                                                                     </td><td>integer                                                                                                         </td><td><span style=white-space:pre-wrap>hist    </span>                                                                </td><td>.all                                                                                                            </td><td><span style=white-space:pre-wrap>         NA</span>                                                             </td><td>&lt;U+2587&gt;&lt;U+2587&gt;&lt;U+2587&gt;&lt;U+2587&gt;&lt;U+2587&gt;&lt;U+2587&gt;&lt;U+2587&gt;&lt;U+2587&gt;</td></tr>\n",
       "\t<tr><td>Survived                                                        </td><td>integer                                                         </td><td>missing                                                         </td><td>.all                                                            </td><td>  0.0000000                                                     </td><td>0                                                               </td></tr>\n",
       "\t<tr><td>Survived                                                        </td><td>integer                                                         </td><td>complete                                                        </td><td>.all                                                            </td><td>891.0000000                                                     </td><td>891                                                             </td></tr>\n",
       "\t<tr><td>Survived                                                        </td><td>integer                                                         </td><td>n                                                               </td><td>.all                                                            </td><td>891.0000000                                                     </td><td>891                                                             </td></tr>\n",
       "\t<tr><td>Survived                                                        </td><td>integer                                                         </td><td>mean                                                            </td><td>.all                                                            </td><td>  0.3838384                                                     </td><td>0.38                                                            </td></tr>\n",
       "\t<tr><td>Survived                                                        </td><td>integer                                                         </td><td>sd                                                              </td><td>.all                                                            </td><td>  0.4865925                                                     </td><td>0.49                                                            </td></tr>\n",
       "\t<tr><td>Survived                                                        </td><td>integer                                                         </td><td>p0                                                              </td><td>.all                                                            </td><td>  0.0000000                                                     </td><td>0                                                               </td></tr>\n",
       "\t<tr><td>Survived                                                        </td><td>integer                                                         </td><td>p25                                                             </td><td>.all                                                            </td><td>  0.0000000                                                     </td><td>0                                                               </td></tr>\n",
       "\t<tr><td>Survived                                                        </td><td>integer                                                         </td><td>median                                                          </td><td>.all                                                            </td><td>  0.0000000                                                     </td><td>0                                                               </td></tr>\n",
       "\t<tr><td>Survived                                                        </td><td>integer                                                         </td><td>p75                                                             </td><td>.all                                                            </td><td>  1.0000000                                                     </td><td>1                                                               </td></tr>\n",
       "\t<tr><td>Survived                                                        </td><td>integer                                                         </td><td>p100                                                            </td><td>.all                                                            </td><td>  1.0000000                                                     </td><td>1                                                               </td></tr>\n",
       "\t<tr><td><span style=white-space:pre-wrap>Survived   </span>                                                             </td><td>integer                                                                                                         </td><td><span style=white-space:pre-wrap>hist    </span>                                                                </td><td>.all                                                                                                            </td><td><span style=white-space:pre-wrap>         NA</span>                                                             </td><td>&lt;U+2587&gt;&lt;U+2581&gt;&lt;U+2581&gt;&lt;U+2581&gt;&lt;U+2581&gt;&lt;U+2581&gt;&lt;U+2581&gt;&lt;U+2585&gt;</td></tr>\n",
       "\t<tr><td>Pclass                                                          </td><td>integer                                                         </td><td>missing                                                         </td><td>.all                                                            </td><td>  0.0000000                                                     </td><td>0                                                               </td></tr>\n",
       "\t<tr><td>Pclass                                                          </td><td>integer                                                         </td><td>complete                                                        </td><td>.all                                                            </td><td>891.0000000                                                     </td><td>891                                                             </td></tr>\n",
       "\t<tr><td>Pclass                                                          </td><td>integer                                                         </td><td>n                                                               </td><td>.all                                                            </td><td>891.0000000                                                     </td><td>891                                                             </td></tr>\n",
       "\t<tr><td>Pclass                                                          </td><td>integer                                                         </td><td>mean                                                            </td><td>.all                                                            </td><td>  2.3086420                                                     </td><td>2.31                                                            </td></tr>\n",
       "\t<tr><td>Pclass                                                          </td><td>integer                                                         </td><td>sd                                                              </td><td>.all                                                            </td><td>  0.8360712                                                     </td><td>0.84                                                            </td></tr>\n",
       "\t<tr><td>Pclass                                                          </td><td>integer                                                         </td><td>p0                                                              </td><td>.all                                                            </td><td>  1.0000000                                                     </td><td>1                                                               </td></tr>\n",
       "\t<tr><td>Pclass                                                          </td><td>integer                                                         </td><td>p25                                                             </td><td>.all                                                            </td><td>  2.0000000                                                     </td><td>2                                                               </td></tr>\n",
       "\t<tr><td>Pclass                                                          </td><td>integer                                                         </td><td>median                                                          </td><td>.all                                                            </td><td>  3.0000000                                                     </td><td>3                                                               </td></tr>\n",
       "\t<tr><td>...</td><td>...</td><td>...</td><td>...</td><td>...</td><td>...</td></tr>\n",
       "\t<tr><td>Ticket                                                          </td><td>character                                                       </td><td>n                                                               </td><td>.all                                                            </td><td>891.00000                                                       </td><td>891                                                             </td></tr>\n",
       "\t<tr><td>Ticket                                                          </td><td>character                                                       </td><td>min                                                             </td><td>.all                                                            </td><td>  3.00000                                                       </td><td>3                                                               </td></tr>\n",
       "\t<tr><td>Ticket                                                          </td><td>character                                                       </td><td>max                                                             </td><td>.all                                                            </td><td> 18.00000                                                       </td><td>18                                                              </td></tr>\n",
       "\t<tr><td>Ticket                                                          </td><td>character                                                       </td><td>empty                                                           </td><td>.all                                                            </td><td>  0.00000                                                       </td><td>0                                                               </td></tr>\n",
       "\t<tr><td>Ticket                                                          </td><td>character                                                       </td><td>n_unique                                                        </td><td>.all                                                            </td><td>681.00000                                                       </td><td>681                                                             </td></tr>\n",
       "\t<tr><td>Fare                                                            </td><td>numeric                                                         </td><td>missing                                                         </td><td>.all                                                            </td><td>  0.00000                                                       </td><td>0                                                               </td></tr>\n",
       "\t<tr><td>Fare                                                            </td><td>numeric                                                         </td><td>complete                                                        </td><td>.all                                                            </td><td>891.00000                                                       </td><td>891                                                             </td></tr>\n",
       "\t<tr><td>Fare                                                            </td><td>numeric                                                         </td><td>n                                                               </td><td>.all                                                            </td><td>891.00000                                                       </td><td>891                                                             </td></tr>\n",
       "\t<tr><td>Fare                                                            </td><td>numeric                                                         </td><td>mean                                                            </td><td>.all                                                            </td><td> 32.20421                                                       </td><td>32.2                                                            </td></tr>\n",
       "\t<tr><td>Fare                                                            </td><td>numeric                                                         </td><td>sd                                                              </td><td>.all                                                            </td><td> 49.69343                                                       </td><td>49.69                                                           </td></tr>\n",
       "\t<tr><td>Fare                                                            </td><td>numeric                                                         </td><td>p0                                                              </td><td>.all                                                            </td><td>  0.00000                                                       </td><td>0                                                               </td></tr>\n",
       "\t<tr><td>Fare                                                            </td><td>numeric                                                         </td><td>p25                                                             </td><td>.all                                                            </td><td>  7.91040                                                       </td><td>7.91                                                            </td></tr>\n",
       "\t<tr><td>Fare                                                            </td><td>numeric                                                         </td><td>median                                                          </td><td>.all                                                            </td><td> 14.45420                                                       </td><td>14.45                                                           </td></tr>\n",
       "\t<tr><td>Fare                                                            </td><td>numeric                                                         </td><td>p75                                                             </td><td>.all                                                            </td><td> 31.00000                                                       </td><td>31                                                              </td></tr>\n",
       "\t<tr><td>Fare                                                            </td><td>numeric                                                         </td><td>p100                                                            </td><td>.all                                                            </td><td>512.32920                                                       </td><td>512.33                                                          </td></tr>\n",
       "\t<tr><td><span style=white-space:pre-wrap>Fare    </span>                                                                </td><td><span style=white-space:pre-wrap>numeric  </span>                                                               </td><td><span style=white-space:pre-wrap>hist    </span>                                                                </td><td>.all                                                                                                            </td><td><span style=white-space:pre-wrap>       NA</span>                                                               </td><td>&lt;U+2587&gt;&lt;U+2581&gt;&lt;U+2581&gt;&lt;U+2581&gt;&lt;U+2581&gt;&lt;U+2581&gt;&lt;U+2581&gt;&lt;U+2581&gt;</td></tr>\n",
       "\t<tr><td>Cabin                                                           </td><td>character                                                       </td><td>missing                                                         </td><td>.all                                                            </td><td>  0.00000                                                       </td><td>0                                                               </td></tr>\n",
       "\t<tr><td>Cabin                                                           </td><td>character                                                       </td><td>complete                                                        </td><td>.all                                                            </td><td>891.00000                                                       </td><td>891                                                             </td></tr>\n",
       "\t<tr><td>Cabin                                                           </td><td>character                                                       </td><td>n                                                               </td><td>.all                                                            </td><td>891.00000                                                       </td><td>891                                                             </td></tr>\n",
       "\t<tr><td>Cabin                                                           </td><td>character                                                       </td><td>min                                                             </td><td>.all                                                            </td><td>  0.00000                                                       </td><td>0                                                               </td></tr>\n",
       "\t<tr><td>Cabin                                                           </td><td>character                                                       </td><td>max                                                             </td><td>.all                                                            </td><td> 15.00000                                                       </td><td>15                                                              </td></tr>\n",
       "\t<tr><td>Cabin                                                           </td><td>character                                                       </td><td>empty                                                           </td><td>.all                                                            </td><td>687.00000                                                       </td><td>687                                                             </td></tr>\n",
       "\t<tr><td>Cabin                                                           </td><td>character                                                       </td><td>n_unique                                                        </td><td>.all                                                            </td><td>148.00000                                                       </td><td>148                                                             </td></tr>\n",
       "\t<tr><td>Embarked                                                        </td><td>character                                                       </td><td>missing                                                         </td><td>.all                                                            </td><td>  0.00000                                                       </td><td>0                                                               </td></tr>\n",
       "\t<tr><td>Embarked                                                        </td><td>character                                                       </td><td>complete                                                        </td><td>.all                                                            </td><td>891.00000                                                       </td><td>891                                                             </td></tr>\n",
       "\t<tr><td>Embarked                                                        </td><td>character                                                       </td><td>n                                                               </td><td>.all                                                            </td><td>891.00000                                                       </td><td>891                                                             </td></tr>\n",
       "\t<tr><td>Embarked                                                        </td><td>character                                                       </td><td>min                                                             </td><td>.all                                                            </td><td>  0.00000                                                       </td><td>0                                                               </td></tr>\n",
       "\t<tr><td>Embarked                                                        </td><td>character                                                       </td><td>max                                                             </td><td>.all                                                            </td><td>  1.00000                                                       </td><td>1                                                               </td></tr>\n",
       "\t<tr><td>Embarked                                                        </td><td>character                                                       </td><td>empty                                                           </td><td>.all                                                            </td><td>  2.00000                                                       </td><td>2                                                               </td></tr>\n",
       "\t<tr><td>Embarked                                                        </td><td>character                                                       </td><td>n_unique                                                        </td><td>.all                                                            </td><td>  4.00000                                                       </td><td>4                                                               </td></tr>\n",
       "</tbody>\n",
       "</table>\n"
      ],
      "text/latex": [
       "\\begin{tabular}{r|llllll}\n",
       " variable & type & stat & level & value & formatted\\\\\n",
       "\\hline\n",
       "\t PassengerId                                                      & integer                                                          & missing                                                          & .all                                                             &   0.0000000                                                      & 0                                                               \\\\\n",
       "\t PassengerId                                                      & integer                                                          & complete                                                         & .all                                                             & 891.0000000                                                      & 891                                                             \\\\\n",
       "\t PassengerId                                                      & integer                                                          & n                                                                & .all                                                             & 891.0000000                                                      & 891                                                             \\\\\n",
       "\t PassengerId                                                      & integer                                                          & mean                                                             & .all                                                             & 446.0000000                                                      & 446                                                             \\\\\n",
       "\t PassengerId                                                      & integer                                                          & sd                                                               & .all                                                             & 257.3538420                                                      & 257.35                                                          \\\\\n",
       "\t PassengerId                                                      & integer                                                          & p0                                                               & .all                                                             &   1.0000000                                                      & 1                                                               \\\\\n",
       "\t PassengerId                                                      & integer                                                          & p25                                                              & .all                                                             & 223.5000000                                                      & 223.5                                                           \\\\\n",
       "\t PassengerId                                                      & integer                                                          & median                                                           & .all                                                             & 446.0000000                                                      & 446                                                             \\\\\n",
       "\t PassengerId                                                      & integer                                                          & p75                                                              & .all                                                             & 668.5000000                                                      & 668.5                                                           \\\\\n",
       "\t PassengerId                                                      & integer                                                          & p100                                                             & .all                                                             & 891.0000000                                                      & 891                                                             \\\\\n",
       "\t PassengerId                                                      & integer                                                          & hist                                                             & .all                                                             &          NA                                                      & <U+2587><U+2587><U+2587><U+2587><U+2587><U+2587><U+2587><U+2587>\\\\\n",
       "\t Survived                                                         & integer                                                          & missing                                                          & .all                                                             &   0.0000000                                                      & 0                                                               \\\\\n",
       "\t Survived                                                         & integer                                                          & complete                                                         & .all                                                             & 891.0000000                                                      & 891                                                             \\\\\n",
       "\t Survived                                                         & integer                                                          & n                                                                & .all                                                             & 891.0000000                                                      & 891                                                             \\\\\n",
       "\t Survived                                                         & integer                                                          & mean                                                             & .all                                                             &   0.3838384                                                      & 0.38                                                            \\\\\n",
       "\t Survived                                                         & integer                                                          & sd                                                               & .all                                                             &   0.4865925                                                      & 0.49                                                            \\\\\n",
       "\t Survived                                                         & integer                                                          & p0                                                               & .all                                                             &   0.0000000                                                      & 0                                                               \\\\\n",
       "\t Survived                                                         & integer                                                          & p25                                                              & .all                                                             &   0.0000000                                                      & 0                                                               \\\\\n",
       "\t Survived                                                         & integer                                                          & median                                                           & .all                                                             &   0.0000000                                                      & 0                                                               \\\\\n",
       "\t Survived                                                         & integer                                                          & p75                                                              & .all                                                             &   1.0000000                                                      & 1                                                               \\\\\n",
       "\t Survived                                                         & integer                                                          & p100                                                             & .all                                                             &   1.0000000                                                      & 1                                                               \\\\\n",
       "\t Survived                                                         & integer                                                          & hist                                                             & .all                                                             &          NA                                                      & <U+2587><U+2581><U+2581><U+2581><U+2581><U+2581><U+2581><U+2585>\\\\\n",
       "\t Pclass                                                           & integer                                                          & missing                                                          & .all                                                             &   0.0000000                                                      & 0                                                               \\\\\n",
       "\t Pclass                                                           & integer                                                          & complete                                                         & .all                                                             & 891.0000000                                                      & 891                                                             \\\\\n",
       "\t Pclass                                                           & integer                                                          & n                                                                & .all                                                             & 891.0000000                                                      & 891                                                             \\\\\n",
       "\t Pclass                                                           & integer                                                          & mean                                                             & .all                                                             &   2.3086420                                                      & 2.31                                                            \\\\\n",
       "\t Pclass                                                           & integer                                                          & sd                                                               & .all                                                             &   0.8360712                                                      & 0.84                                                            \\\\\n",
       "\t Pclass                                                           & integer                                                          & p0                                                               & .all                                                             &   1.0000000                                                      & 1                                                               \\\\\n",
       "\t Pclass                                                           & integer                                                          & p25                                                              & .all                                                             &   2.0000000                                                      & 2                                                               \\\\\n",
       "\t Pclass                                                           & integer                                                          & median                                                           & .all                                                             &   3.0000000                                                      & 3                                                               \\\\\n",
       "\t ... & ... & ... & ... & ... & ...\\\\\n",
       "\t Ticket                                                           & character                                                        & n                                                                & .all                                                             & 891.00000                                                        & 891                                                             \\\\\n",
       "\t Ticket                                                           & character                                                        & min                                                              & .all                                                             &   3.00000                                                        & 3                                                               \\\\\n",
       "\t Ticket                                                           & character                                                        & max                                                              & .all                                                             &  18.00000                                                        & 18                                                              \\\\\n",
       "\t Ticket                                                           & character                                                        & empty                                                            & .all                                                             &   0.00000                                                        & 0                                                               \\\\\n",
       "\t Ticket                                                           & character                                                        & n\\_unique                                                       & .all                                                             & 681.00000                                                        & 681                                                             \\\\\n",
       "\t Fare                                                             & numeric                                                          & missing                                                          & .all                                                             &   0.00000                                                        & 0                                                               \\\\\n",
       "\t Fare                                                             & numeric                                                          & complete                                                         & .all                                                             & 891.00000                                                        & 891                                                             \\\\\n",
       "\t Fare                                                             & numeric                                                          & n                                                                & .all                                                             & 891.00000                                                        & 891                                                             \\\\\n",
       "\t Fare                                                             & numeric                                                          & mean                                                             & .all                                                             &  32.20421                                                        & 32.2                                                            \\\\\n",
       "\t Fare                                                             & numeric                                                          & sd                                                               & .all                                                             &  49.69343                                                        & 49.69                                                           \\\\\n",
       "\t Fare                                                             & numeric                                                          & p0                                                               & .all                                                             &   0.00000                                                        & 0                                                               \\\\\n",
       "\t Fare                                                             & numeric                                                          & p25                                                              & .all                                                             &   7.91040                                                        & 7.91                                                            \\\\\n",
       "\t Fare                                                             & numeric                                                          & median                                                           & .all                                                             &  14.45420                                                        & 14.45                                                           \\\\\n",
       "\t Fare                                                             & numeric                                                          & p75                                                              & .all                                                             &  31.00000                                                        & 31                                                              \\\\\n",
       "\t Fare                                                             & numeric                                                          & p100                                                             & .all                                                             & 512.32920                                                        & 512.33                                                          \\\\\n",
       "\t Fare                                                             & numeric                                                          & hist                                                             & .all                                                             &        NA                                                        & <U+2587><U+2581><U+2581><U+2581><U+2581><U+2581><U+2581><U+2581>\\\\\n",
       "\t Cabin                                                            & character                                                        & missing                                                          & .all                                                             &   0.00000                                                        & 0                                                               \\\\\n",
       "\t Cabin                                                            & character                                                        & complete                                                         & .all                                                             & 891.00000                                                        & 891                                                             \\\\\n",
       "\t Cabin                                                            & character                                                        & n                                                                & .all                                                             & 891.00000                                                        & 891                                                             \\\\\n",
       "\t Cabin                                                            & character                                                        & min                                                              & .all                                                             &   0.00000                                                        & 0                                                               \\\\\n",
       "\t Cabin                                                            & character                                                        & max                                                              & .all                                                             &  15.00000                                                        & 15                                                              \\\\\n",
       "\t Cabin                                                            & character                                                        & empty                                                            & .all                                                             & 687.00000                                                        & 687                                                             \\\\\n",
       "\t Cabin                                                            & character                                                        & n\\_unique                                                       & .all                                                             & 148.00000                                                        & 148                                                             \\\\\n",
       "\t Embarked                                                         & character                                                        & missing                                                          & .all                                                             &   0.00000                                                        & 0                                                               \\\\\n",
       "\t Embarked                                                         & character                                                        & complete                                                         & .all                                                             & 891.00000                                                        & 891                                                             \\\\\n",
       "\t Embarked                                                         & character                                                        & n                                                                & .all                                                             & 891.00000                                                        & 891                                                             \\\\\n",
       "\t Embarked                                                         & character                                                        & min                                                              & .all                                                             &   0.00000                                                        & 0                                                               \\\\\n",
       "\t Embarked                                                         & character                                                        & max                                                              & .all                                                             &   1.00000                                                        & 1                                                               \\\\\n",
       "\t Embarked                                                         & character                                                        & empty                                                            & .all                                                             &   2.00000                                                        & 2                                                               \\\\\n",
       "\t Embarked                                                         & character                                                        & n\\_unique                                                       & .all                                                             &   4.00000                                                        & 4                                                               \\\\\n",
       "\\end{tabular}\n"
      ],
      "text/markdown": [
       "\n",
       "variable | type | stat | level | value | formatted | \n",
       "|---|---|---|---|---|---|---|---|---|---|---|---|---|---|---|---|---|---|---|---|---|---|---|---|---|---|---|---|---|---|---|---|---|---|---|---|---|---|---|---|---|---|---|---|---|---|---|---|---|---|---|---|---|---|---|---|---|---|---|---|---|\n",
       "| PassengerId                                                      | integer                                                          | missing                                                          | .all                                                             |   0.0000000                                                      | 0                                                                | \n",
       "| PassengerId                                                      | integer                                                          | complete                                                         | .all                                                             | 891.0000000                                                      | 891                                                              | \n",
       "| PassengerId                                                      | integer                                                          | n                                                                | .all                                                             | 891.0000000                                                      | 891                                                              | \n",
       "| PassengerId                                                      | integer                                                          | mean                                                             | .all                                                             | 446.0000000                                                      | 446                                                              | \n",
       "| PassengerId                                                      | integer                                                          | sd                                                               | .all                                                             | 257.3538420                                                      | 257.35                                                           | \n",
       "| PassengerId                                                      | integer                                                          | p0                                                               | .all                                                             |   1.0000000                                                      | 1                                                                | \n",
       "| PassengerId                                                      | integer                                                          | p25                                                              | .all                                                             | 223.5000000                                                      | 223.5                                                            | \n",
       "| PassengerId                                                      | integer                                                          | median                                                           | .all                                                             | 446.0000000                                                      | 446                                                              | \n",
       "| PassengerId                                                      | integer                                                          | p75                                                              | .all                                                             | 668.5000000                                                      | 668.5                                                            | \n",
       "| PassengerId                                                      | integer                                                          | p100                                                             | .all                                                             | 891.0000000                                                      | 891                                                              | \n",
       "| PassengerId                                                      | integer                                                          | hist                                                             | .all                                                             |          NA                                                      | <U+2587><U+2587><U+2587><U+2587><U+2587><U+2587><U+2587><U+2587> | \n",
       "| Survived                                                         | integer                                                          | missing                                                          | .all                                                             |   0.0000000                                                      | 0                                                                | \n",
       "| Survived                                                         | integer                                                          | complete                                                         | .all                                                             | 891.0000000                                                      | 891                                                              | \n",
       "| Survived                                                         | integer                                                          | n                                                                | .all                                                             | 891.0000000                                                      | 891                                                              | \n",
       "| Survived                                                         | integer                                                          | mean                                                             | .all                                                             |   0.3838384                                                      | 0.38                                                             | \n",
       "| Survived                                                         | integer                                                          | sd                                                               | .all                                                             |   0.4865925                                                      | 0.49                                                             | \n",
       "| Survived                                                         | integer                                                          | p0                                                               | .all                                                             |   0.0000000                                                      | 0                                                                | \n",
       "| Survived                                                         | integer                                                          | p25                                                              | .all                                                             |   0.0000000                                                      | 0                                                                | \n",
       "| Survived                                                         | integer                                                          | median                                                           | .all                                                             |   0.0000000                                                      | 0                                                                | \n",
       "| Survived                                                         | integer                                                          | p75                                                              | .all                                                             |   1.0000000                                                      | 1                                                                | \n",
       "| Survived                                                         | integer                                                          | p100                                                             | .all                                                             |   1.0000000                                                      | 1                                                                | \n",
       "| Survived                                                         | integer                                                          | hist                                                             | .all                                                             |          NA                                                      | <U+2587><U+2581><U+2581><U+2581><U+2581><U+2581><U+2581><U+2585> | \n",
       "| Pclass                                                           | integer                                                          | missing                                                          | .all                                                             |   0.0000000                                                      | 0                                                                | \n",
       "| Pclass                                                           | integer                                                          | complete                                                         | .all                                                             | 891.0000000                                                      | 891                                                              | \n",
       "| Pclass                                                           | integer                                                          | n                                                                | .all                                                             | 891.0000000                                                      | 891                                                              | \n",
       "| Pclass                                                           | integer                                                          | mean                                                             | .all                                                             |   2.3086420                                                      | 2.31                                                             | \n",
       "| Pclass                                                           | integer                                                          | sd                                                               | .all                                                             |   0.8360712                                                      | 0.84                                                             | \n",
       "| Pclass                                                           | integer                                                          | p0                                                               | .all                                                             |   1.0000000                                                      | 1                                                                | \n",
       "| Pclass                                                           | integer                                                          | p25                                                              | .all                                                             |   2.0000000                                                      | 2                                                                | \n",
       "| Pclass                                                           | integer                                                          | median                                                           | .all                                                             |   3.0000000                                                      | 3                                                                | \n",
       "| ... | ... | ... | ... | ... | ... | \n",
       "| Ticket                                                           | character                                                        | n                                                                | .all                                                             | 891.00000                                                        | 891                                                              | \n",
       "| Ticket                                                           | character                                                        | min                                                              | .all                                                             |   3.00000                                                        | 3                                                                | \n",
       "| Ticket                                                           | character                                                        | max                                                              | .all                                                             |  18.00000                                                        | 18                                                               | \n",
       "| Ticket                                                           | character                                                        | empty                                                            | .all                                                             |   0.00000                                                        | 0                                                                | \n",
       "| Ticket                                                           | character                                                        | n_unique                                                         | .all                                                             | 681.00000                                                        | 681                                                              | \n",
       "| Fare                                                             | numeric                                                          | missing                                                          | .all                                                             |   0.00000                                                        | 0                                                                | \n",
       "| Fare                                                             | numeric                                                          | complete                                                         | .all                                                             | 891.00000                                                        | 891                                                              | \n",
       "| Fare                                                             | numeric                                                          | n                                                                | .all                                                             | 891.00000                                                        | 891                                                              | \n",
       "| Fare                                                             | numeric                                                          | mean                                                             | .all                                                             |  32.20421                                                        | 32.2                                                             | \n",
       "| Fare                                                             | numeric                                                          | sd                                                               | .all                                                             |  49.69343                                                        | 49.69                                                            | \n",
       "| Fare                                                             | numeric                                                          | p0                                                               | .all                                                             |   0.00000                                                        | 0                                                                | \n",
       "| Fare                                                             | numeric                                                          | p25                                                              | .all                                                             |   7.91040                                                        | 7.91                                                             | \n",
       "| Fare                                                             | numeric                                                          | median                                                           | .all                                                             |  14.45420                                                        | 14.45                                                            | \n",
       "| Fare                                                             | numeric                                                          | p75                                                              | .all                                                             |  31.00000                                                        | 31                                                               | \n",
       "| Fare                                                             | numeric                                                          | p100                                                             | .all                                                             | 512.32920                                                        | 512.33                                                           | \n",
       "| Fare                                                             | numeric                                                          | hist                                                             | .all                                                             |        NA                                                        | <U+2587><U+2581><U+2581><U+2581><U+2581><U+2581><U+2581><U+2581> | \n",
       "| Cabin                                                            | character                                                        | missing                                                          | .all                                                             |   0.00000                                                        | 0                                                                | \n",
       "| Cabin                                                            | character                                                        | complete                                                         | .all                                                             | 891.00000                                                        | 891                                                              | \n",
       "| Cabin                                                            | character                                                        | n                                                                | .all                                                             | 891.00000                                                        | 891                                                              | \n",
       "| Cabin                                                            | character                                                        | min                                                              | .all                                                             |   0.00000                                                        | 0                                                                | \n",
       "| Cabin                                                            | character                                                        | max                                                              | .all                                                             |  15.00000                                                        | 15                                                               | \n",
       "| Cabin                                                            | character                                                        | empty                                                            | .all                                                             | 687.00000                                                        | 687                                                              | \n",
       "| Cabin                                                            | character                                                        | n_unique                                                         | .all                                                             | 148.00000                                                        | 148                                                              | \n",
       "| Embarked                                                         | character                                                        | missing                                                          | .all                                                             |   0.00000                                                        | 0                                                                | \n",
       "| Embarked                                                         | character                                                        | complete                                                         | .all                                                             | 891.00000                                                        | 891                                                              | \n",
       "| Embarked                                                         | character                                                        | n                                                                | .all                                                             | 891.00000                                                        | 891                                                              | \n",
       "| Embarked                                                         | character                                                        | min                                                              | .all                                                             |   0.00000                                                        | 0                                                                | \n",
       "| Embarked                                                         | character                                                        | max                                                              | .all                                                             |   1.00000                                                        | 1                                                                | \n",
       "| Embarked                                                         | character                                                        | empty                                                            | .all                                                             |   2.00000                                                        | 2                                                                | \n",
       "| Embarked                                                         | character                                                        | n_unique                                                         | .all                                                             |   4.00000                                                        | 4                                                                | \n",
       "\n",
       "\n"
      ],
      "text/plain": [
       "    variable    type      stat     level value      \n",
       "1   PassengerId integer   missing  .all    0.0000000\n",
       "2   PassengerId integer   complete .all  891.0000000\n",
       "3   PassengerId integer   n        .all  891.0000000\n",
       "4   PassengerId integer   mean     .all  446.0000000\n",
       "5   PassengerId integer   sd       .all  257.3538420\n",
       "6   PassengerId integer   p0       .all    1.0000000\n",
       "7   PassengerId integer   p25      .all  223.5000000\n",
       "8   PassengerId integer   median   .all  446.0000000\n",
       "9   PassengerId integer   p75      .all  668.5000000\n",
       "10  PassengerId integer   p100     .all  891.0000000\n",
       "11  PassengerId integer   hist     .all           NA\n",
       "12  Survived    integer   missing  .all    0.0000000\n",
       "13  Survived    integer   complete .all  891.0000000\n",
       "14  Survived    integer   n        .all  891.0000000\n",
       "15  Survived    integer   mean     .all    0.3838384\n",
       "16  Survived    integer   sd       .all    0.4865925\n",
       "17  Survived    integer   p0       .all    0.0000000\n",
       "18  Survived    integer   p25      .all    0.0000000\n",
       "19  Survived    integer   median   .all    0.0000000\n",
       "20  Survived    integer   p75      .all    1.0000000\n",
       "21  Survived    integer   p100     .all    1.0000000\n",
       "22  Survived    integer   hist     .all           NA\n",
       "23  Pclass      integer   missing  .all    0.0000000\n",
       "24  Pclass      integer   complete .all  891.0000000\n",
       "25  Pclass      integer   n        .all  891.0000000\n",
       "26  Pclass      integer   mean     .all    2.3086420\n",
       "27  Pclass      integer   sd       .all    0.8360712\n",
       "28  Pclass      integer   p0       .all    1.0000000\n",
       "29  Pclass      integer   p25      .all    2.0000000\n",
       "30  Pclass      integer   median   .all    3.0000000\n",
       "... ...         ...       ...      ...   ...        \n",
       "83  Ticket      character n        .all  891.00000  \n",
       "84  Ticket      character min      .all    3.00000  \n",
       "85  Ticket      character max      .all   18.00000  \n",
       "86  Ticket      character empty    .all    0.00000  \n",
       "87  Ticket      character n_unique .all  681.00000  \n",
       "88  Fare        numeric   missing  .all    0.00000  \n",
       "89  Fare        numeric   complete .all  891.00000  \n",
       "90  Fare        numeric   n        .all  891.00000  \n",
       "91  Fare        numeric   mean     .all   32.20421  \n",
       "92  Fare        numeric   sd       .all   49.69343  \n",
       "93  Fare        numeric   p0       .all    0.00000  \n",
       "94  Fare        numeric   p25      .all    7.91040  \n",
       "95  Fare        numeric   median   .all   14.45420  \n",
       "96  Fare        numeric   p75      .all   31.00000  \n",
       "97  Fare        numeric   p100     .all  512.32920  \n",
       "98  Fare        numeric   hist     .all         NA  \n",
       "99  Cabin       character missing  .all    0.00000  \n",
       "100 Cabin       character complete .all  891.00000  \n",
       "101 Cabin       character n        .all  891.00000  \n",
       "102 Cabin       character min      .all    0.00000  \n",
       "103 Cabin       character max      .all   15.00000  \n",
       "104 Cabin       character empty    .all  687.00000  \n",
       "105 Cabin       character n_unique .all  148.00000  \n",
       "106 Embarked    character missing  .all    0.00000  \n",
       "107 Embarked    character complete .all  891.00000  \n",
       "108 Embarked    character n        .all  891.00000  \n",
       "109 Embarked    character min      .all    0.00000  \n",
       "110 Embarked    character max      .all    1.00000  \n",
       "111 Embarked    character empty    .all    2.00000  \n",
       "112 Embarked    character n_unique .all    4.00000  \n",
       "    formatted                                                       \n",
       "1   0                                                               \n",
       "2   891                                                             \n",
       "3   891                                                             \n",
       "4   446                                                             \n",
       "5   257.35                                                          \n",
       "6   1                                                               \n",
       "7   223.5                                                           \n",
       "8   446                                                             \n",
       "9   668.5                                                           \n",
       "10  891                                                             \n",
       "11  <U+2587><U+2587><U+2587><U+2587><U+2587><U+2587><U+2587><U+2587>\n",
       "12  0                                                               \n",
       "13  891                                                             \n",
       "14  891                                                             \n",
       "15  0.38                                                            \n",
       "16  0.49                                                            \n",
       "17  0                                                               \n",
       "18  0                                                               \n",
       "19  0                                                               \n",
       "20  1                                                               \n",
       "21  1                                                               \n",
       "22  <U+2587><U+2581><U+2581><U+2581><U+2581><U+2581><U+2581><U+2585>\n",
       "23  0                                                               \n",
       "24  891                                                             \n",
       "25  891                                                             \n",
       "26  2.31                                                            \n",
       "27  0.84                                                            \n",
       "28  1                                                               \n",
       "29  2                                                               \n",
       "30  3                                                               \n",
       "... ...                                                             \n",
       "83  891                                                             \n",
       "84  3                                                               \n",
       "85  18                                                              \n",
       "86  0                                                               \n",
       "87  681                                                             \n",
       "88  0                                                               \n",
       "89  891                                                             \n",
       "90  891                                                             \n",
       "91  32.2                                                            \n",
       "92  49.69                                                           \n",
       "93  0                                                               \n",
       "94  7.91                                                            \n",
       "95  14.45                                                           \n",
       "96  31                                                              \n",
       "97  512.33                                                          \n",
       "98  <U+2587><U+2581><U+2581><U+2581><U+2581><U+2581><U+2581><U+2581>\n",
       "99  0                                                               \n",
       "100 891                                                             \n",
       "101 891                                                             \n",
       "102 0                                                               \n",
       "103 15                                                              \n",
       "104 687                                                             \n",
       "105 148                                                             \n",
       "106 0                                                               \n",
       "107 891                                                             \n",
       "108 891                                                             \n",
       "109 0                                                               \n",
       "110 1                                                               \n",
       "111 2                                                               \n",
       "112 4                                                               "
      ]
     },
     "metadata": {},
     "output_type": "display_data"
    }
   ],
   "source": [
    "# install.packages('skimr', repos = 'http://cran.us.r-project.org')\n",
    "library(skimr)\n",
    "skim(train)"
   ]
  },
  {
   "cell_type": "code",
   "execution_count": 11,
   "metadata": {
    "run_control": {
     "frozen": false,
     "read_only": false
    },
    "scrolled": true,
    "slideshow": {
     "slide_type": "subslide"
    }
   },
   "outputs": [
    {
     "name": "stderr",
     "output_type": "stream",
     "text": [
      "Warning message:\n",
      "\"package 'summarytools' was built under R version 3.4.3\"\n",
      "Attaching package: 'summarytools'\n",
      "\n",
      "The following objects are masked from 'package:Hmisc':\n",
      "\n",
      "    label, label<-\n",
      "\n"
     ]
    },
    {
     "data": {
      "text/html": [
       "<table>\n",
       "<thead><tr><th></th><th scope=col>PassengerId</th><th scope=col>Survived</th><th scope=col>Pclass</th><th scope=col>Age</th><th scope=col>SibSp</th><th scope=col>Parch</th><th scope=col>Fare</th></tr></thead>\n",
       "<tbody>\n",
       "\t<tr><th scope=row>Mean</th><td>446.0000000 </td><td>  0.3838384 </td><td>  2.3086420 </td><td> 29.69911765</td><td>  0.5230079 </td><td>  0.3815937 </td><td> 32.2042080 </td></tr>\n",
       "\t<tr><th scope=row>Std.Dev</th><td>257.3538420 </td><td>  0.4865925 </td><td>  0.8360712 </td><td> 14.52649733</td><td>  1.1027434 </td><td>  0.8060572 </td><td> 49.6934286 </td></tr>\n",
       "\t<tr><th scope=row>Min</th><td>  1.0000000 </td><td>  0.0000000 </td><td>  1.0000000 </td><td>  0.42000000</td><td>  0.0000000 </td><td>  0.0000000 </td><td>  0.0000000 </td></tr>\n",
       "\t<tr><th scope=row>Median</th><td>446.0000000 </td><td>  0.0000000 </td><td>  3.0000000 </td><td> 28.00000000</td><td>  0.0000000 </td><td>  0.0000000 </td><td> 14.4542000 </td></tr>\n",
       "\t<tr><th scope=row>Max</th><td>891.0000000 </td><td>  1.0000000 </td><td>  3.0000000 </td><td> 80.00000000</td><td>  8.0000000 </td><td>  6.0000000 </td><td>512.3292000 </td></tr>\n",
       "\t<tr><th scope=row>MAD</th><td>330.6198000 </td><td>  0.0000000 </td><td>  0.0000000 </td><td> 13.34340000</td><td>  0.0000000 </td><td>  0.0000000 </td><td> 10.2361669 </td></tr>\n",
       "\t<tr><th scope=row>IQR</th><td>445.0000000 </td><td>  1.0000000 </td><td>  1.0000000 </td><td> 17.87500000</td><td>  1.0000000 </td><td>  0.0000000 </td><td> 23.0896000 </td></tr>\n",
       "\t<tr><th scope=row>CV</th><td>  1.7330225 </td><td>  0.7888293 </td><td>  2.7612982 </td><td>  2.04447892</td><td>  0.4742788 </td><td>  0.4734077 </td><td>  0.6480577 </td></tr>\n",
       "\t<tr><th scope=row>Skewness</th><td>  0.0000000 </td><td>  0.4769135 </td><td> -0.6284264 </td><td>  0.38747440</td><td>  3.6829188 </td><td>  2.7398677 </td><td>  4.7712097 </td></tr>\n",
       "\t<tr><th scope=row>SE.Skewness</th><td>  0.0819233 </td><td>  0.0819233 </td><td>  0.0819233 </td><td>  0.09147805</td><td>  0.0819233 </td><td>  0.0819233 </td><td>  0.0819233 </td></tr>\n",
       "\t<tr><th scope=row>Kurtosis</th><td> -1.2040412 </td><td> -1.7745414 </td><td> -1.2834293 </td><td>  0.15976706</td><td> 17.7269083 </td><td>  9.6880847 </td><td> 33.1230682 </td></tr>\n",
       "\t<tr><th scope=row>N.Valid</th><td>891.0000000 </td><td>891.0000000 </td><td>891.0000000 </td><td>714.00000000</td><td>891.0000000 </td><td>891.0000000 </td><td>891.0000000 </td></tr>\n",
       "\t<tr><th scope=row>Pct.Valid</th><td>100.0000000 </td><td>100.0000000 </td><td>100.0000000 </td><td> 80.13468013</td><td>100.0000000 </td><td>100.0000000 </td><td>100.0000000 </td></tr>\n",
       "</tbody>\n",
       "</table>\n"
      ],
      "text/latex": [
       "\\begin{tabular}{r|lllllll}\n",
       "  & PassengerId & Survived & Pclass & Age & SibSp & Parch & Fare\\\\\n",
       "\\hline\n",
       "\tMean & 446.0000000  &   0.3838384  &   2.3086420  &  29.69911765 &   0.5230079  &   0.3815937  &  32.2042080 \\\\\n",
       "\tStd.Dev & 257.3538420  &   0.4865925  &   0.8360712  &  14.52649733 &   1.1027434  &   0.8060572  &  49.6934286 \\\\\n",
       "\tMin &   1.0000000  &   0.0000000  &   1.0000000  &   0.42000000 &   0.0000000  &   0.0000000  &   0.0000000 \\\\\n",
       "\tMedian & 446.0000000  &   0.0000000  &   3.0000000  &  28.00000000 &   0.0000000  &   0.0000000  &  14.4542000 \\\\\n",
       "\tMax & 891.0000000  &   1.0000000  &   3.0000000  &  80.00000000 &   8.0000000  &   6.0000000  & 512.3292000 \\\\\n",
       "\tMAD & 330.6198000  &   0.0000000  &   0.0000000  &  13.34340000 &   0.0000000  &   0.0000000  &  10.2361669 \\\\\n",
       "\tIQR & 445.0000000  &   1.0000000  &   1.0000000  &  17.87500000 &   1.0000000  &   0.0000000  &  23.0896000 \\\\\n",
       "\tCV &   1.7330225  &   0.7888293  &   2.7612982  &   2.04447892 &   0.4742788  &   0.4734077  &   0.6480577 \\\\\n",
       "\tSkewness &   0.0000000  &   0.4769135  &  -0.6284264  &   0.38747440 &   3.6829188  &   2.7398677  &   4.7712097 \\\\\n",
       "\tSE.Skewness &   0.0819233  &   0.0819233  &   0.0819233  &   0.09147805 &   0.0819233  &   0.0819233  &   0.0819233 \\\\\n",
       "\tKurtosis &  -1.2040412  &  -1.7745414  &  -1.2834293  &   0.15976706 &  17.7269083  &   9.6880847  &  33.1230682 \\\\\n",
       "\tN.Valid & 891.0000000  & 891.0000000  & 891.0000000  & 714.00000000 & 891.0000000  & 891.0000000  & 891.0000000 \\\\\n",
       "\tPct.Valid & 100.0000000  & 100.0000000  & 100.0000000  &  80.13468013 & 100.0000000  & 100.0000000  & 100.0000000 \\\\\n",
       "\\end{tabular}\n"
      ],
      "text/markdown": [
       "\n",
       "| <!--/--> | PassengerId | Survived | Pclass | Age | SibSp | Parch | Fare | \n",
       "|---|---|---|---|---|---|---|---|---|---|---|---|---|\n",
       "| Mean | 446.0000000  |   0.3838384  |   2.3086420  |  29.69911765 |   0.5230079  |   0.3815937  |  32.2042080  | \n",
       "| Std.Dev | 257.3538420  |   0.4865925  |   0.8360712  |  14.52649733 |   1.1027434  |   0.8060572  |  49.6934286  | \n",
       "| Min |   1.0000000  |   0.0000000  |   1.0000000  |   0.42000000 |   0.0000000  |   0.0000000  |   0.0000000  | \n",
       "| Median | 446.0000000  |   0.0000000  |   3.0000000  |  28.00000000 |   0.0000000  |   0.0000000  |  14.4542000  | \n",
       "| Max | 891.0000000  |   1.0000000  |   3.0000000  |  80.00000000 |   8.0000000  |   6.0000000  | 512.3292000  | \n",
       "| MAD | 330.6198000  |   0.0000000  |   0.0000000  |  13.34340000 |   0.0000000  |   0.0000000  |  10.2361669  | \n",
       "| IQR | 445.0000000  |   1.0000000  |   1.0000000  |  17.87500000 |   1.0000000  |   0.0000000  |  23.0896000  | \n",
       "| CV |   1.7330225  |   0.7888293  |   2.7612982  |   2.04447892 |   0.4742788  |   0.4734077  |   0.6480577  | \n",
       "| Skewness |   0.0000000  |   0.4769135  |  -0.6284264  |   0.38747440 |   3.6829188  |   2.7398677  |   4.7712097  | \n",
       "| SE.Skewness |   0.0819233  |   0.0819233  |   0.0819233  |   0.09147805 |   0.0819233  |   0.0819233  |   0.0819233  | \n",
       "| Kurtosis |  -1.2040412  |  -1.7745414  |  -1.2834293  |   0.15976706 |  17.7269083  |   9.6880847  |  33.1230682  | \n",
       "| N.Valid | 891.0000000  | 891.0000000  | 891.0000000  | 714.00000000 | 891.0000000  | 891.0000000  | 891.0000000  | \n",
       "| Pct.Valid | 100.0000000  | 100.0000000  | 100.0000000  |  80.13468013 | 100.0000000  | 100.0000000  | 100.0000000  | \n",
       "\n",
       "\n"
      ],
      "text/plain": [
       "            PassengerId Survived    Pclass      Age          SibSp      \n",
       "Mean        446.0000000   0.3838384   2.3086420  29.69911765   0.5230079\n",
       "Std.Dev     257.3538420   0.4865925   0.8360712  14.52649733   1.1027434\n",
       "Min           1.0000000   0.0000000   1.0000000   0.42000000   0.0000000\n",
       "Median      446.0000000   0.0000000   3.0000000  28.00000000   0.0000000\n",
       "Max         891.0000000   1.0000000   3.0000000  80.00000000   8.0000000\n",
       "MAD         330.6198000   0.0000000   0.0000000  13.34340000   0.0000000\n",
       "IQR         445.0000000   1.0000000   1.0000000  17.87500000   1.0000000\n",
       "CV            1.7330225   0.7888293   2.7612982   2.04447892   0.4742788\n",
       "Skewness      0.0000000   0.4769135  -0.6284264   0.38747440   3.6829188\n",
       "SE.Skewness   0.0819233   0.0819233   0.0819233   0.09147805   0.0819233\n",
       "Kurtosis     -1.2040412  -1.7745414  -1.2834293   0.15976706  17.7269083\n",
       "N.Valid     891.0000000 891.0000000 891.0000000 714.00000000 891.0000000\n",
       "Pct.Valid   100.0000000 100.0000000 100.0000000  80.13468013 100.0000000\n",
       "            Parch       Fare       \n",
       "Mean          0.3815937  32.2042080\n",
       "Std.Dev       0.8060572  49.6934286\n",
       "Min           0.0000000   0.0000000\n",
       "Median        0.0000000  14.4542000\n",
       "Max           6.0000000 512.3292000\n",
       "MAD           0.0000000  10.2361669\n",
       "IQR           0.0000000  23.0896000\n",
       "CV            0.4734077   0.6480577\n",
       "Skewness      2.7398677   4.7712097\n",
       "SE.Skewness   0.0819233   0.0819233\n",
       "Kurtosis      9.6880847  33.1230682\n",
       "N.Valid     891.0000000 891.0000000\n",
       "Pct.Valid   100.0000000 100.0000000"
      ]
     },
     "metadata": {},
     "output_type": "display_data"
    },
    {
     "data": {
      "text/html": [
       "<table>\n",
       "<thead><tr><th scope=col>No</th><th scope=col>Variable</th><th scope=col>Stats / Values</th><th scope=col>Freqs (% of Valid)</th><th scope=col>Graph</th><th scope=col>Text Graph</th><th scope=col>Valid</th><th scope=col>Missing</th></tr></thead>\n",
       "<tbody>\n",
       "\t<tr><td> 1                                                                                                                                                                                                                                                                                                                                                                                                                                                                                                                                                                                                                                                                                                              </td><td><span style=white-space:pre-wrap>PassengerId  \n",
       "[integer]</span>                                                                                                                                                                                                                                                                                                                                                                                                                                                                                                                                                                                                                                                </td><td><span style=white-space:pre-wrap>mean (sd) : 446 (257.35)  \n",
       "min &lt; med &lt; max :  \n",
       "1 &lt; 446 &lt; 891  \n",
       "IQR (CV) : 445 (0.58)                                                                                                                                                                                                                                  </span>                                                                                                                                                                                                                                                                                                                                   </td><td><span style=white-space:pre-wrap>891 distinct val.                                                                                                                                                </span>                                                                                                                                                                                                                                                                                                                                                                                                                                                                                                       </td><td><span style=white-space:pre-wrap>&lt;img src=\"data:image/png;base64,iVBORw0KGgoAAAANSUhEUgAAAJYAAABkCAMAAABThTnCAAAADFBMVEX9/v2mpqby8vL9/v28xacEAAAABHRSTlP///8AQCqp9AAAAHtJREFUaIHt1CEOwDAIQNF2vf+dK2a2pW1CJkC87wiIp2ijZC0bsA4r0s3qiZ1Y17seGf+tsbCwsPbj8o/ls77XWFhYWFhYWFhYWFhYWFhYWFhYWFhYWFhYWFhYWFhYWFhYWFhYWFhYWFhYWFhYWFgprEI9WOXCilSUNQFvlnll0PQz/gAAAABJRU5ErkJggg==\"&gt;                                                                                                                                                                                                                                                                                                                        </span></td><td><span style=white-space:pre-wrap>: : : : : : : : .\n",
       ": : : : : : : : :\n",
       ": : : : : : : : :\n",
       ": : : : : : : : :\n",
       ": : : : : : : : :\n",
       ": : : : : : : : :            </span>                                                                                                                                                                                                                                                                                                                                                                                                                                                                                                                                            </td><td><span style=white-space:pre-wrap>891  \n",
       "(100%)  </span>                                                                                                                                                                                                                                                                                                                                                                                                                                                                                                                                                                                                                                                         </td><td><span style=white-space:pre-wrap>0  \n",
       "(0%)      </span>                                                                                                                                                                                                                                                                                                                                                                                                                                                                                                                                                                                                                                                         </td></tr>\n",
       "\t<tr><td> 2                                                                                                                                                                                                                                                                                                                                                                                                                                                                                                                                                                                                                                                                                                              </td><td><span style=white-space:pre-wrap>Survived  \n",
       "[integer]   </span>                                                                                                                                                                                                                                                                                                                                                                                                                                                                                                                                                                                                                                                </td><td><span style=white-space:pre-wrap>mean (sd) : 0.38 (0.49)  \n",
       "min &lt; med &lt; max :  \n",
       "0 &lt; 0 &lt; 1  \n",
       "IQR (CV) : 1 (1.27)                                                                                                                                                                                                                                         </span>                                                                                                                                                                                                                                                                                                                                   </td><td><span style=white-space:pre-wrap>2 distinct val.                                                                                                                                                  </span>                                                                                                                                                                                                                                                                                                                                                                                                                                                                                                       </td><td><span style=white-space:pre-wrap>&lt;img src=\"data:image/png;base64,iVBORw0KGgoAAAANSUhEUgAAAJYAAAA0CAMAAABfCzE1AAAADFBMVEX9/v2mpqb39/f9/v0TNkn1AAAABHRSTlP///8AQCqp9AAAAGJJREFUWIXt17ENwDAMA0E73n/nZIA0RCCExf0EV0gF16ls/Q14b53d2MO6+sJKwkrCSsJKwkrCSsJKwkrCSsJK2rXLpzKspOHb+sCa/CgsLCwsLCwsLCwsrDlW58SorJR1AwMSQ9L8FZTOAAAAAElFTkSuQmCC\"&gt;                                                                                                                                                                                                                                                                                                                                                            </span></td><td><span style=white-space:pre-wrap>  \n",
       "  IIIIIIIIIIIIIIII  \n",
       "  IIIIIIIII                                                                                       </span>                                                                                                                                                                                                                                                                                                                                                                                                                                                                                                                                            </td><td><span style=white-space:pre-wrap>891  \n",
       "(100%)  </span>                                                                                                                                                                                                                                                                                                                                                                                                                                                                                                                                                                                                                                                         </td><td><span style=white-space:pre-wrap>0  \n",
       "(0%)      </span>                                                                                                                                                                                                                                                                                                                                                                                                                                                                                                                                                                                                                                                         </td></tr>\n",
       "\t<tr><td> 3                                                                                                                                                                                                                                                                                                                                                                                                                                                                                                                                                                                                                                                                                                              </td><td><span style=white-space:pre-wrap>Pclass  \n",
       "[integer]     </span>                                                                                                                                                                                                                                                                                                                                                                                                                                                                                                                                                                                                                                                </td><td><span style=white-space:pre-wrap>mean (sd) : 2.31 (0.84)  \n",
       "min &lt; med &lt; max :  \n",
       "1 &lt; 3 &lt; 3  \n",
       "IQR (CV) : 1 (0.36)                                                                                                                                                                                                                                         </span>                                                                                                                                                                                                                                                                                                                                   </td><td><span style=white-space:pre-wrap>1 : 216 (24.2%)  \n",
       "2 : 184 (20.6%)  \n",
       "3 : 491 (55.1%)                                                                                                            </span>                                                                                                                                                                                                                                                                                                                                                                                                                                                                                                       </td><td><span style=white-space:pre-wrap>&lt;img src=\"data:image/png;base64,iVBORw0KGgoAAAANSUhEUgAAAJYAAABOCAMAAAD1sh+SAAAADFBMVEX9/v2mpqb39/f9/v0TNkn1AAAABHRSTlP///8AQCqp9AAAAH5JREFUaIHt2LsRwCAQQ0F/+u/ZDTjRwA0K9lWwAQS6663sOg34r5Z1LzfDehbDwsLCwsLCwsLCwjrD6pwYlWElLbytYVbRB8TCwsLCwsLCwsLCClidE6MyrKQdp5GBNhySBsJKwkrCSsJKwkrCSsJKwkrCSipmNVY7yCorZX08iG8lQ+HmmwAAAABJRU5ErkJggg==\"&gt;                                                                                                                                                                                                                                                                                                                    </span></td><td><span style=white-space:pre-wrap>  \n",
       "  IIIIIII  \n",
       "  IIIII  \n",
       "  IIIIIIIIIIIIIIII                                                                              </span>                                                                                                                                                                                                                                                                                                                                                                                                                                                                                                                                            </td><td><span style=white-space:pre-wrap>891  \n",
       "(100%)  </span>                                                                                                                                                                                                                                                                                                                                                                                                                                                                                                                                                                                                                                                         </td><td><span style=white-space:pre-wrap>0  \n",
       "(0%)      </span>                                                                                                                                                                                                                                                                                                                                                                                                                                                                                                                                                                                                                                                         </td></tr>\n",
       "\t<tr><td> 4                                                                                                                                                                                                                                                                                                                                                                                                                                                                                                                                                                                                                                                                                                              </td><td><span style=white-space:pre-wrap>Name  \n",
       "[character]     </span>                                                                                                                                                                                                                                                                                                                                                                                                                                                                                                                                                                                                                                                </td><td><span style=white-space:pre-wrap>1. Abbing, Mr. Anthony  \n",
       "2. Abbott, Mr. Rossmore Edwa  \n",
       "3. Abbott, Mrs. Stanton (Ros  \n",
       "4. Abelson, Mr. Samuel  \n",
       "5. Abelson, Mrs. Samuel (Han  \n",
       "6. Adahl, Mr. Mauritz Nils M  \n",
       "7. Adams, Mr. John  \n",
       "8. Ahlin, Mrs. Johan (Johann  \n",
       "9. Aks, Mrs. Sam (Leah Rosen  \n",
       "10. Albimona, Mr. Nassef Cass  \n",
       "[ 881 others ]</span>                                                                                                                                                                                                                                                                                                                                               </td><td><span style=white-space:pre-wrap>  1 ( 0.1%)  \n",
       "  1 ( 0.1%)  \n",
       "  1 ( 0.1%)  \n",
       "  1 ( 0.1%)  \n",
       "  1 ( 0.1%)  \n",
       "  1 ( 0.1%)  \n",
       "  1 ( 0.1%)  \n",
       "  1 ( 0.1%)  \n",
       "  1 ( 0.1%)  \n",
       "  1 ( 0.1%)  \n",
       "881 (96.9%)</span>                                                                                                                                                                                                                                                                                                                                                                                                                                                                                                       </td><td><span style=white-space:pre-wrap>&lt;img src=\"data:image/png;base64,iVBORw0KGgoAAAANSUhEUgAAAJYAAAEeCAMAAABfSxzRAAAADFBMVEX9/v2mpqb39/f9/v0TNkn1AAAABHRSTlP///8AQCqp9AAAAWNJREFUeJzt16kBAgAQA0Ge/nuGAhC3ioiZClbE5PGe9Ph3wG+yClmFrEJWMZv1/HfCL7IKWYWsQlYhq5BVyCpkFbIKWcXs85k0mzW6LVl3sgpZhaxCViGrkFXIKmQVsorZ5zNpNmt0W7LuZBWyClmFrEJWIauQVcgqZBWzWZNkFbPbknUnq5BVyCpkFbIKWYWsQlYhq5h9PpNms0a3JetOViGrkFXIKmQVsgpZhaxCVjH7fCbNZo1uS9adrEJWIauQVcgqZBWyClmFrGI2a5KsYnZbsu5kFbIKWYWsQlYhq5BVyCpkFbPPZ9Js1ui2ZN3JKmQVsgpZhaxCViGrkFXIKmafzyRZxezkZd3JKmQVsgpZhaxCViGrkFXIKmafz6TZrNFtybqTVcgqZBWyClmFrEJWIauQVcw+n0mzWc9F36zXHlmFrEJWIauQVcgqZBWyClnFcNai2UM2SVYhq5BVyCo+me/nBI30pk8AAAAASUVORK5CYII=\"&gt;    </span></td><td><span style=white-space:pre-wrap>  \n",
       "    \n",
       "    \n",
       "    \n",
       "    \n",
       "    \n",
       "    \n",
       "    \n",
       "    \n",
       "    \n",
       "    \n",
       "  IIIIIIIIIIIIIIII                                          </span>                                                                                                                                                                                                                                                                                                                                                                                                                                                                                                                                            </td><td><span style=white-space:pre-wrap>891  \n",
       "(100%)  </span>                                                                                                                                                                                                                                                                                                                                                                                                                                                                                                                                                                                                                                                         </td><td><span style=white-space:pre-wrap>0  \n",
       "(0%)      </span>                                                                                                                                                                                                                                                                                                                                                                                                                                                                                                                                                                                                                                                         </td></tr>\n",
       "\t<tr><td> 5                                                                                                                                                                                                                                                                                                                                                                                                                                                                                                                                                                                                                                                                                                              </td><td><span style=white-space:pre-wrap>Sex  \n",
       "[character]      </span>                                                                                                                                                                                                                                                                                                                                                                                                                                                                                                                                                                                                                                                </td><td><span style=white-space:pre-wrap>1. female  \n",
       "2. male                                                                                                                                                                                                                                                                                                     </span>                                                                                                                                                                                                                                                                                                                                               </td><td><span style=white-space:pre-wrap>314 (35.2%)  \n",
       "577 (64.8%)                                                                                                                                       </span>                                                                                                                                                                                                                                                                                                                                                                                                                                                                                                       </td><td><span style=white-space:pre-wrap>&lt;img src=\"data:image/png;base64,iVBORw0KGgoAAAANSUhEUgAAAJYAAAA0CAMAAABfCzE1AAAADFBMVEX9/v2mpqb39/f9/v0TNkn1AAAABHRSTlP///8AQCqp9AAAAGJJREFUWIXt17ENwDAMA0En3n/nLJCGgIwQyP0EV0gF165sfQ14b+1rvBnWPRwWFhYWFhYWFhYW1q9ZncunMqykE7c10IFPHAgrCSsJKwkrCSsJKwkrCSsJK6mY1VjtIKvsAUNLRR0yr4doAAAAAElFTkSuQmCC\"&gt;                                                                                                                                                                                                                                                                                                                                                            </span></td><td><span style=white-space:pre-wrap>  \n",
       "  IIIIIIII  \n",
       "  IIIIIIIIIIIIIIII                                                                                        </span>                                                                                                                                                                                                                                                                                                                                                                                                                                                                                                                                            </td><td><span style=white-space:pre-wrap>891  \n",
       "(100%)  </span>                                                                                                                                                                                                                                                                                                                                                                                                                                                                                                                                                                                                                                                         </td><td><span style=white-space:pre-wrap>0  \n",
       "(0%)      </span>                                                                                                                                                                                                                                                                                                                                                                                                                                                                                                                                                                                                                                                         </td></tr>\n",
       "\t<tr><td> 6                                                                                                                                                                                                                                                                                                                                                                                                                                                                                                                                                                                                                                                                                                              </td><td><span style=white-space:pre-wrap>Age  \n",
       "[numeric]        </span>                                                                                                                                                                                                                                                                                                                                                                                                                                                                                                                                                                                                                                                </td><td><span style=white-space:pre-wrap>mean (sd) : 29.7 (14.53)  \n",
       "min &lt; med &lt; max :  \n",
       "0.42 &lt; 28 &lt; 80  \n",
       "IQR (CV) : 17.88 (0.49)                                                                                                                                                                                                                               </span>                                                                                                                                                                                                                                                                                                                                   </td><td><span style=white-space:pre-wrap>88 distinct val.                                                                                                                                                 </span>                                                                                                                                                                                                                                                                                                                                                                                                                                                                                                       </td><td><span style=white-space:pre-wrap>&lt;img src=\"data:image/png;base64,iVBORw0KGgoAAAANSUhEUgAAAJYAAABkCAMAAABThTnCAAAADFBMVEX9/v2mpqby8vL9/v28xacEAAAABHRSTlP///8AQCqp9AAAAOFJREFUaIHt1sEOhCAMRVFH/v+fZ6N1IhJpoVDH+1amIXpSVLqkkFlmA64DS5Nq1kfiydlTz1q3wKoIrARLF1iawNLEwBpxCBlYI7oGCxYsWGbWMcLHYp01sGC9luU54TSwpAALFixYsGDBgqVnOQw4PVgOXYMFCxYsWLBgvYbVccLpyZLCn7PK/Z/LKt4Rljur/ZN0YbW3DRYsWLBgPYBlPoR8WeauPYR17nsQVuYLxrp/lmKp+t0fw5ICLM3S2t0czJILWLBgBWKV/hizWNmRG4OVFS5ZgfLDChdYmgRlfQG7jJlmBXPwUwAAAABJRU5ErkJggg==\"&gt;                                                                                                                                                                                </span></td><td>\\ \\ \\ \\ \\ \\ : :\n",
       "\\ \\ \\ \\ . : :\n",
       "\\ \\ \\ \\ : : : :\n",
       "\\ \\ \\ \\ : : : :\n",
       ": \\ \\ : : : : : :\n",
       ": : : : : : : : : .                                                                                                                                                                                                                                                                                                                                                                                                                                                                                                                                                                                    </td><td><span style=white-space:pre-wrap>714  \n",
       "(80.13%)</span>                                                                                                                                                                                                                                                                                                                                                                                                                                                                                                                                                                                                                                                         </td><td><span style=white-space:pre-wrap>177  \n",
       "(19.87%)</span>                                                                                                                                                                                                                                                                                                                                                                                                                                                                                                                                                                                                                                                         </td></tr>\n",
       "\t<tr><td> 7                                                                                                                                                                                                                                                                                                                                                                                                                                                                                                                                                                                                                                                                                                              </td><td><span style=white-space:pre-wrap>SibSp  \n",
       "[integer]      </span>                                                                                                                                                                                                                                                                                                                                                                                                                                                                                                                                                                                                                                                </td><td><span style=white-space:pre-wrap>mean (sd) : 0.52 (1.1)  \n",
       "min &lt; med &lt; max :  \n",
       "0 &lt; 0 &lt; 8  \n",
       "IQR (CV) : 1 (2.11)                                                                                                                                                                                                                                          </span>                                                                                                                                                                                                                                                                                                                                   </td><td><span style=white-space:pre-wrap>7 distinct val.                                                                                                                                                  </span>                                                                                                                                                                                                                                                                                                                                                                                                                                                                                                       </td><td><span style=white-space:pre-wrap>&lt;img src=\"data:image/png;base64,iVBORw0KGgoAAAANSUhEUgAAAJYAAAC2CAMAAAAMc4TmAAAADFBMVEX9/v2mpqb39/f9/v0TNkn1AAAABHRSTlP///8AQCqp9AAAARRJREFUeJzt2EFSQkEQBUHQ+99ZUdQQWVAs/G+RdYJc9ET09Ol1stPRgPthlbBKs6zzYu+sl72wSlglrBJWCauEVcIqYZWwSufZXX4yrNJzs/UfrCceChYWFhYWFhYWFhbWAGvzizEZVulnto6W/Or7JWI9EFYJq4RVwiphlbBKWCWs0i5rc5efDKt0na2jGbd9vkSsx8IqYZWwSlglrBJWCauEVcIqzX4xJsMqfZ1GjnbcdD0kYT0UVgmrhFXCKmGVsEpYJazSLmtzl58Mq3SZraMNd8IqYZWwSlglrBJWCauEVcIqYZVmWZNhlT5OI0cj/nY5JGE9GlYJq4RVwiphlbBKWCWs0i5rc5efDKuEVcIqvQELOip6uBStJAAAAABJRU5ErkJggg==\"&gt;                                                                                                            </span></td><td><span style=white-space:pre-wrap>  \n",
       "  IIIIIIIIIIIIIIII  \n",
       "  IIIII  \n",
       "    \n",
       "    \n",
       "    \n",
       "    \n",
       "                                                               </span>                                                                                                                                                                                                                                                                                                                                                                                                                                                                                                                                            </td><td><span style=white-space:pre-wrap>891  \n",
       "(100%)  </span>                                                                                                                                                                                                                                                                                                                                                                                                                                                                                                                                                                                                                                                         </td><td><span style=white-space:pre-wrap>0  \n",
       "(0%)      </span>                                                                                                                                                                                                                                                                                                                                                                                                                                                                                                                                                                                                                                                         </td></tr>\n",
       "\t<tr><td> 8                                                                                                                                                                                                                                                                                                                                                                                                                                                                                                                                                                                                                                                                                                              </td><td><span style=white-space:pre-wrap>Parch  \n",
       "[integer]      </span>                                                                                                                                                                                                                                                                                                                                                                                                                                                                                                                                                                                                                                                </td><td><span style=white-space:pre-wrap>mean (sd) : 0.38 (0.81)  \n",
       "min &lt; med &lt; max :  \n",
       "0 &lt; 0 &lt; 6  \n",
       "IQR (CV) : 0 (2.11)                                                                                                                                                                                                                                         </span>                                                                                                                                                                                                                                                                                                                                   </td><td><span style=white-space:pre-wrap>7 distinct val.                                                                                                                                                  </span>                                                                                                                                                                                                                                                                                                                                                                                                                                                                                                       </td><td><span style=white-space:pre-wrap>&lt;img src=\"data:image/png;base64,iVBORw0KGgoAAAANSUhEUgAAAJYAAAC2CAMAAAAMc4TmAAAADFBMVEX9/v2mpqb39/f9/v0TNkn1AAAABHRSTlP///8AQCqp9AAAAPZJREFUeJzt17FtAzAQBEHJ7r9ny6EA2tBGvGC2ggmOAP/xPdnjNuAcVgmrNMt6LvZife2FVcIqYZWwSlglrBJWCauEVXrO/uUnwyr9u62rrL/fAxYWFhYWFhYWFhbWMmvzxJgMq3Tc1m3U+SViYWFhYWFhYWFhYb2zNv/yk2GVfrd123AIq4RVwiphlbBKWCWsElYJq4RVmmVNhlWa3RbW52GVsEpYJawSVgmrhFXCKmGVZi+fyWZZo9vC+jysElYJq4RVwiphlbBKWCWs0ixrMqzSa1u3CaewSlglrBJWCauEVcIqYZWwSlil2ctnMqwSVmmU9QNuIyy6rj2/dAAAAABJRU5ErkJggg==\"&gt;                                                                                                                                                    </span></td><td><span style=white-space:pre-wrap>  \n",
       "  IIIIIIIIIIIIIIII  \n",
       "  II  \n",
       "  I  \n",
       "    \n",
       "    \n",
       "    \n",
       "                                                                 </span>                                                                                                                                                                                                                                                                                                                                                                                                                                                                                                                                            </td><td><span style=white-space:pre-wrap>891  \n",
       "(100%)  </span>                                                                                                                                                                                                                                                                                                                                                                                                                                                                                                                                                                                                                                                         </td><td><span style=white-space:pre-wrap>0  \n",
       "(0%)      </span>                                                                                                                                                                                                                                                                                                                                                                                                                                                                                                                                                                                                                                                         </td></tr>\n",
       "\t<tr><td> 9                                                                                                                                                                                                                                                                                                                                                                                                                                                                                                                                                                                                                                                                      </td><td><span style=white-space:pre-wrap>Ticket  \n",
       "[character]   </span>                                                                                                                                                                                                                                                                                                                                                                                                                                                                                                                                                                                                        </td><td><span style=white-space:pre-wrap>1. 1601  \n",
       "2. 347082  \n",
       "3. CA. 2343  \n",
       "4. 3101295  \n",
       "5. 347088  \n",
       "6. CA 2144  \n",
       "7. 382652  \n",
       "8. S.O.C. 14879  \n",
       "9. 113760  \n",
       "10. 113781  \n",
       "[ 671 others ]                                                                                                                                                                </span>                                                                                                                                                                                                                                                                                                       </td><td><span style=white-space:pre-wrap>  7 ( 0.8%)  \n",
       "  7 ( 0.8%)  \n",
       "  7 ( 0.8%)  \n",
       "  6 ( 0.7%)  \n",
       "  6 ( 0.7%)  \n",
       "  6 ( 0.7%)  \n",
       "  5 ( 0.6%)  \n",
       "  5 ( 0.6%)  \n",
       "  4 ( 0.4%)  \n",
       "  4 ( 0.4%)  \n",
       "834 (92.0%)</span>                                                                                                                                                                                                                                                                                                                                                                                                                                                               </td><td>&lt;img src=\"data:image/png;base64,iVBORw0KGgoAAAANSUhEUgAAAJYAAAEeCAMAAABfSxzRAAAADFBMVEX9/v2mpqb39/f9/v0TNkn1AAAABHRSTlP///8AQCqp9AAAAWVJREFUeJzt16GBQgEUA0E+13/PRwGIt4qImQpWxOT1N+n164DvZBWyClmFrGI263l+3fCFrEJWIauQVcgqZBWyClmFrEJWMft8Js1mjW5L1p2sQlYhq5BVyCpkFbIKWYWsYvb5TJrNGt2WrDtZhaxCViGrkFXIKmQVsgpZxWzWJFnF7LZk3ckqZBWyClmFrEJWIauQVcgqZp/PpNms0W3JupNVyCpkFbIKWYWsQlYhq5BVzD6fSbNZo9uSdSerkFXIKmQVsgpZhaxCViGrmM2aJKuY3ZasO1mFrEJWIauQVcgqZBWyClnF7POZNJs1ui1Zd7IKWYWsQlYhq5BVyCpkFbKK2eczSVYxO3lZd7IKWYWsQlYhq5BVyCpkFbKK2eczaTZrdFuy7mQVsgpZhaxCViGrkFXIKmQVs89n0mzWs+iT9d4jq5BVyCpkFbIKWYWsQlYhqxjOWjR7yCbJKmQVsgpZxT9Z1+Vc0A0a9AAAAABJRU5ErkJggg==\"&gt;</td><td><span style=white-space:pre-wrap>  \n",
       "    \n",
       "    \n",
       "    \n",
       "    \n",
       "    \n",
       "    \n",
       "    \n",
       "    \n",
       "    \n",
       "    \n",
       "  IIIIIIIIIIIIIIII                                          </span>                                                                                                                                                                                                                                                                                                                                                                                                                                                                                                    </td><td><span style=white-space:pre-wrap>891  \n",
       "(100%)  </span>                                                                                                                                                                                                                                                                                                                                                                                                                                                                                                                                                                                                                 </td><td><span style=white-space:pre-wrap>0  \n",
       "(0%)      </span>                                                                                                                                                                                                                                                                                                                                                                                                                                                                                                                                                                                                                 </td></tr>\n",
       "\t<tr><td>10                                                                                                                                                                                                                                                                                                                                                                                                                                                                                                                                                                                                                                                                                                              </td><td><span style=white-space:pre-wrap>Fare  \n",
       "[numeric]       </span>                                                                                                                                                                                                                                                                                                                                                                                                                                                                                                                                                                                                                                                </td><td><span style=white-space:pre-wrap>mean (sd) : 32.2 (49.69)  \n",
       "min &lt; med &lt; max :  \n",
       "0 &lt; 14.45 &lt; 512.33  \n",
       "IQR (CV) : 23.09 (1.54)                                                                                                                                                                                                                           </span>                                                                                                                                                                                                                                                                                                                                   </td><td><span style=white-space:pre-wrap>248 distinct val.                                                                                                                                                </span>                                                                                                                                                                                                                                                                                                                                                                                                                                                                                                       </td><td><span style=white-space:pre-wrap>&lt;img src=\"data:image/png;base64,iVBORw0KGgoAAAANSUhEUgAAAJYAAABkCAMAAABThTnCAAAADFBMVEX9/v2mpqby8vL9/v28xacEAAAABHRSTlP///8AQCqp9AAAANVJREFUaIHt1sEOgyAUBVHA//9nF0VEYm0maeSRzGzcnugVTVvI0mzAfbJIByvnqYwxWSRZJFkkWSRZJFkkWSRZJFkkWSRZJFkkWSRZJFkkWSRZJFkkWSRZJFkkWSRZJFkkWSRZJFkkWaSTFcoliySLtAIrDk0WSRZJFkkWSRYpPisH+lx3rCLrV7JIa7CiwAZWkfXUKqz2DZq6swfWzDuXDtSFlYOwysn6HBOTd3bDKo1V19WN7K29fWHldt3qIVuf7MC6/KX98SXpthWkjhUuWaSgrB1ecaubqpkCMAAAAABJRU5ErkJggg==\"&gt;                                                                                                                                                                                                </span></td><td><span style=white-space:pre-wrap>:\n",
       ":\n",
       ":\n",
       ":\n",
       ":\n",
       ": :                                                                                                          </span>                                                                                                                                                                                                                                                                                                                                                                                                                                                                                                                                            </td><td><span style=white-space:pre-wrap>891  \n",
       "(100%)  </span>                                                                                                                                                                                                                                                                                                                                                                                                                                                                                                                                                                                                                                                         </td><td><span style=white-space:pre-wrap>0  \n",
       "(0%)      </span>                                                                                                                                                                                                                                                                                                                                                                                                                                                                                                                                                                                                                                                         </td></tr>\n",
       "\t<tr><td>11                                                                                                                                                                                                                                                                                                                                                                                                                                                                                                                                                                                                                                                                      </td><td><span style=white-space:pre-wrap>Cabin  \n",
       "[character]    </span>                                                                                                                                                                                                                                                                                                                                                                                                                                                                                                                                                                                                        </td><td><span style=white-space:pre-wrap>1.   \n",
       "2. B96 B98  \n",
       "3. C23 C25 C27  \n",
       "4. G6  \n",
       "5. C22 C26  \n",
       "6. D  \n",
       "7. E101  \n",
       "8. F2  \n",
       "9. F33  \n",
       "10. B18  \n",
       "[ 138 others ]                                                                                                                                                                                            </span>                                                                                                                                                                                                                                                                                                       </td><td><span style=white-space:pre-wrap>687 (77.1%)  \n",
       "  4 ( 0.4%)  \n",
       "  4 ( 0.4%)  \n",
       "  4 ( 0.4%)  \n",
       "  3 ( 0.3%)  \n",
       "  3 ( 0.3%)  \n",
       "  3 ( 0.3%)  \n",
       "  3 ( 0.3%)  \n",
       "  3 ( 0.3%)  \n",
       "  2 ( 0.2%)  \n",
       "175 (19.2%)</span>                                                                                                                                                                                                                                                                                                                                                                                                                                                               </td><td>&lt;img src=\"data:image/png;base64,iVBORw0KGgoAAAANSUhEUgAAAJYAAAEeCAMAAABfSxzRAAAADFBMVEX9/v2mpqb39/f9/v0TNkn1AAAABHRSTlP///8AQCqp9AAAAWVJREFUeJzt16lhAwAMBEE//fechBtoSXxgtoIBB6THe7LHtwGfwyphlbBKWKVZ1nOxX9ZrL6wSVgmrhFXCKmGVsEpYJazSc/aWnwyr9Letbxs+hFXCKmGVsEpYJawSVgmrhFXCKs1+PpPNska3hXUPq4RVwiphlbBKWCWsElYJqzTLmgyrNLstrHtYJawSVgmrhFXCKmGVsEpYpdnPZ7JZ1ui2sO5hlbBKWCWsElYJq4RVwiphlWY/n8lmWaPbwrqHVcIqYZWwSlglrBJWCauEVZplTYZVmt0W1j2sElYJq4RVwiphlbBKWCWs0uznM9ksa3RbWPewSlglrBJWCauEVcIqYZWwSrOfz2RYpdnJY93DKmGVsEpYJawSVgmrhFXCKs1+PpPNska3hXUPq4RVwiphlbBKWCWsElYJqzT7+Uw2y3re+nfW6xIWFhYWFhYWFhYW1hxr88WYDKuEVcIqYZVGWT9zHOJ36QjNYwAAAABJRU5ErkJggg==\"&gt;</td><td><span style=white-space:pre-wrap>  \n",
       "  IIIIIIIIIIIIIIII  \n",
       "    \n",
       "    \n",
       "    \n",
       "    \n",
       "    \n",
       "    \n",
       "    \n",
       "    \n",
       "    \n",
       "  IIII                                      </span>                                                                                                                                                                                                                                                                                                                                                                                                                                                                                                    </td><td><span style=white-space:pre-wrap>891  \n",
       "(100%)  </span>                                                                                                                                                                                                                                                                                                                                                                                                                                                                                                                                                                                                                 </td><td><span style=white-space:pre-wrap>0  \n",
       "(0%)      </span>                                                                                                                                                                                                                                                                                                                                                                                                                                                                                                                                                                                                                 </td></tr>\n",
       "\t<tr><td>12                                                                                                                                                                                                                                                                                                                                                                                                                                                                                                                                                                                                                                                                                                              </td><td><span style=white-space:pre-wrap>Embarked  \n",
       "[character] </span>                                                                                                                                                                                                                                                                                                                                                                                                                                                                                                                                                                                                                                                </td><td><span style=white-space:pre-wrap>1.   \n",
       "2. C  \n",
       "3. Q  \n",
       "4. S                                                                                                                                                                                                                                                                                              </span>                                                                                                                                                                                                                                                                                                                                               </td><td><span style=white-space:pre-wrap>  2 ( 0.2%)  \n",
       "168 (18.9%)  \n",
       " 77 ( 8.6%)  \n",
       "644 (72.3%)                                                                                                         </span>                                                                                                                                                                                                                                                                                                                                                                                                                                                                                                       </td><td><span style=white-space:pre-wrap>&lt;img src=\"data:image/png;base64,iVBORw0KGgoAAAANSUhEUgAAAJYAAABoCAMAAAAkR/m5AAAADFBMVEX9/v2mpqb39/f9/v0TNkn1AAAABHRSTlP///8AQCqp9AAAAKJJREFUaIHt2LENwzAMAEE73n/nIGUAFfpGZnE/wRUUQPF6Rna9DViHVbqe+37bsAirhFXCKmGVsEpYJawSVgmrhFUayxoZVuk3W3udZn22wsLCwsLCwsLCwsKaxpr5xRgZVmk5W2+j1i8RCwsLCwsLCwsLC+ufNXOXHxlWaSxr9zRytO1D0tGwSlglrBJWCauEVcIqYZWwSvfYXX5kWKWhrC/J0qMtPQMSwgAAAABJRU5ErkJggg==\"&gt;                                                                                                                                                                                                                                                                    </span></td><td><span style=white-space:pre-wrap>  \n",
       "    \n",
       "  IIII  \n",
       "  I  \n",
       "  IIIIIIIIIIIIIIII                                                                               </span>                                                                                                                                                                                                                                                                                                                                                                                                                                                                                                                                            </td><td><span style=white-space:pre-wrap>891  \n",
       "(100%)  </span>                                                                                                                                                                                                                                                                                                                                                                                                                                                                                                                                                                                                                                                         </td><td><span style=white-space:pre-wrap>0  \n",
       "(0%)      </span>                                                                                                                                                                                                                                                                                                                                                                                                                                                                                                                                                                                                                                                         </td></tr>\n",
       "</tbody>\n",
       "</table>\n"
      ],
      "text/latex": [
       "\\begin{tabular}{r|llllllll}\n",
       " No & Variable & Stats / Values & Freqs (\\% of Valid) & Graph & Text Graph & Valid & Missing\\\\\n",
       "\\hline\n",
       "\t  1                                                                                                                                                                                                                                                                                                                                                                                                                                                                                                                                                                                                                                                                 & PassengerId  \n",
       "{[}integer{]}                                                                                                                                                                                                                                                                                                                                                                                                                                                                                                                                                                                                                                       & mean (sd) : 446 (257.35)  \n",
       "min < med < max :  \n",
       "1 < 446 < 891  \n",
       "IQR (CV) : 445 (0.58)                                                                                                                                                                                                                                                                                                                                                                                                                                                                                                                                                                            & 891 distinct val.                                                                                                                                                                                                                                                                                                                                                                                                                                                                                                                                                                                                                                                  & <img src=\"data:image/png;base64,iVBORw0KGgoAAAANSUhEUgAAAJYAAABkCAMAAABThTnCAAAADFBMVEX9/v2mpqby8vL9/v28xacEAAAABHRSTlP///8AQCqp9AAAAHtJREFUaIHt1CEOwDAIQNF2vf+dK2a2pW1CJkC87wiIp2ijZC0bsA4r0s3qiZ1Y17seGf+tsbCwsPbj8o/ls77XWFhYWFhYWFhYWFhYWFhYWFhYWFhYWFhYWFhYWFhYWFhYWFhYWFhYWFhYWFhYWFgprEI9WOXCilSUNQFvlnll0PQz/gAAAABJRU5ErkJggg==\">                                                                                                                                                                                                                                                                                                                         & : : : : : : : : .\n",
       ": : : : : : : : :\n",
       ": : : : : : : : :\n",
       ": : : : : : : : :\n",
       ": : : : : : : : :\n",
       ": : : : : : : : :                                                                                                                                                                                                                                                                                                                                                                                                                                                                                                                                                   & 891  \n",
       "(100\\%)                                                                                                                                                                                                                                                                                                                                                                                                                                                                                                                                                                                                                                                    & 0  \n",
       "(0\\%)                                                                                                                                                                                                                                                                                                                                                                                                                                                                                                                                                                                                                                                       \\\\\n",
       "\t  2                                                                                                                                                                                                                                                                                                                                                                                                                                                                                                                                                                                                                                                                 & Survived  \n",
       "{[}integer{]}                                                                                                                                                                                                                                                                                                                                                                                                                                                                                                                                                                                                                                          & mean (sd) : 0.38 (0.49)  \n",
       "min < med < max :  \n",
       "0 < 0 < 1  \n",
       "IQR (CV) : 1 (1.27)                                                                                                                                                                                                                                                                                                                                                                                                                                                                                                                                                                                   & 2 distinct val.                                                                                                                                                                                                                                                                                                                                                                                                                                                                                                                                                                                                                                                    & <img src=\"data:image/png;base64,iVBORw0KGgoAAAANSUhEUgAAAJYAAAA0CAMAAABfCzE1AAAADFBMVEX9/v2mpqb39/f9/v0TNkn1AAAABHRSTlP///8AQCqp9AAAAGJJREFUWIXt17ENwDAMA0E73n/nZIA0RCCExf0EV0gF16ls/Q14b53d2MO6+sJKwkrCSsJKwkrCSsJKwkrCSsJK2rXLpzKspOHb+sCa/CgsLCwsLCwsLCwsrDlW58SorJR1AwMSQ9L8FZTOAAAAAElFTkSuQmCC\">                                                                                                                                                                                                                                                                                                                                                             &   \n",
       "  IIIIIIIIIIIIIIII  \n",
       "  IIIIIIIII                                                                                                                                                                                                                                                                                                                                                                                                                                                                                                                                                                                                                              & 891  \n",
       "(100\\%)                                                                                                                                                                                                                                                                                                                                                                                                                                                                                                                                                                                                                                                    & 0  \n",
       "(0\\%)                                                                                                                                                                                                                                                                                                                                                                                                                                                                                                                                                                                                                                                       \\\\\n",
       "\t  3                                                                                                                                                                                                                                                                                                                                                                                                                                                                                                                                                                                                                                                                 & Pclass  \n",
       "{[}integer{]}                                                                                                                                                                                                                                                                                                                                                                                                                                                                                                                                                                                                                                            & mean (sd) : 2.31 (0.84)  \n",
       "min < med < max :  \n",
       "1 < 3 < 3  \n",
       "IQR (CV) : 1 (0.36)                                                                                                                                                                                                                                                                                                                                                                                                                                                                                                                                                                                   & 1 : 216 (24.2\\%)  \n",
       "2 : 184 (20.6\\%)  \n",
       "3 : 491 (55.1\\%)                                                                                                                                                                                                                                                                                                                                                                                                                                                                                                                                                                                                        & <img src=\"data:image/png;base64,iVBORw0KGgoAAAANSUhEUgAAAJYAAABOCAMAAAD1sh+SAAAADFBMVEX9/v2mpqb39/f9/v0TNkn1AAAABHRSTlP///8AQCqp9AAAAH5JREFUaIHt2LsRwCAQQ0F/+u/ZDTjRwA0K9lWwAQS6663sOg34r5Z1LzfDehbDwsLCwsLCwsLCwjrD6pwYlWElLbytYVbRB8TCwsLCwsLCwsLCClidE6MyrKQdp5GBNhySBsJKwkrCSsJKwkrCSsJKwkrCSipmNVY7yCorZX08iG8lQ+HmmwAAAABJRU5ErkJggg==\">                                                                                                                                                                                                                                                                                                                     &   \n",
       "  IIIIIII  \n",
       "  IIIII  \n",
       "  IIIIIIIIIIIIIIII                                                                                                                                                                                                                                                                                                                                                                                                                                                                                                                                                                                                                     & 891  \n",
       "(100\\%)                                                                                                                                                                                                                                                                                                                                                                                                                                                                                                                                                                                                                                                    & 0  \n",
       "(0\\%)                                                                                                                                                                                                                                                                                                                                                                                                                                                                                                                                                                                                                                                       \\\\\n",
       "\t  4                                                                                                                                                                                                                                                                                                                                                                                                                                                                                                                                                                                                                                                                 & Name  \n",
       "{[}character{]}                                                                                                                                                                                                                                                                                                                                                                                                                                                                                                                                                                                                                                            & 1. Abbing, Mr. Anthony  \n",
       "2. Abbott, Mr. Rossmore Edwa  \n",
       "3. Abbott, Mrs. Stanton (Ros  \n",
       "4. Abelson, Mr. Samuel  \n",
       "5. Abelson, Mrs. Samuel (Han  \n",
       "6. Adahl, Mr. Mauritz Nils M  \n",
       "7. Adams, Mr. John  \n",
       "8. Ahlin, Mrs. Johan (Johann  \n",
       "9. Aks, Mrs. Sam (Leah Rosen  \n",
       "10. Albimona, Mr. Nassef Cass  \n",
       "{[} 881 others {]}                                                                                                                                                                                                                                                                                                                                      &   1 ( 0.1\\%)  \n",
       "  1 ( 0.1\\%)  \n",
       "  1 ( 0.1\\%)  \n",
       "  1 ( 0.1\\%)  \n",
       "  1 ( 0.1\\%)  \n",
       "  1 ( 0.1\\%)  \n",
       "  1 ( 0.1\\%)  \n",
       "  1 ( 0.1\\%)  \n",
       "  1 ( 0.1\\%)  \n",
       "  1 ( 0.1\\%)  \n",
       "881 (96.9\\%)                                                                                                                                                                                                                                                                                                                                                                                                                                                                            & <img src=\"data:image/png;base64,iVBORw0KGgoAAAANSUhEUgAAAJYAAAEeCAMAAABfSxzRAAAADFBMVEX9/v2mpqb39/f9/v0TNkn1AAAABHRSTlP///8AQCqp9AAAAWNJREFUeJzt16kBAgAQA0Ge/nuGAhC3ioiZClbE5PGe9Ph3wG+yClmFrEJWMZv1/HfCL7IKWYWsQlYhq5BVyCpkFbIKWcXs85k0mzW6LVl3sgpZhaxCViGrkFXIKmQVsorZ5zNpNmt0W7LuZBWyClmFrEJWIauQVcgqZBWzWZNkFbPbknUnq5BVyCpkFbIKWYWsQlYhq5h9PpNms0a3JetOViGrkFXIKmQVsgpZhaxCVjH7fCbNZo1uS9adrEJWIauQVcgqZBWyClmFrGI2a5KsYnZbsu5kFbIKWYWsQlYhq5BVyCpkFbPPZ9Js1ui2ZN3JKmQVsgpZhaxCViGrkFXIKmafzyRZxezkZd3JKmQVsgpZhaxCViGrkFXIKmafz6TZrNFtybqTVcgqZBWyClmFrEJWIauQVcw+n0mzWc9F36zXHlmFrEJWIauQVcgqZBWyClnFcNai2UM2SVYhq5BVyCo+me/nBI30pk8AAAAASUVORK5CYII=\">     &   \n",
       "    \n",
       "    \n",
       "    \n",
       "    \n",
       "    \n",
       "    \n",
       "    \n",
       "    \n",
       "    \n",
       "    \n",
       "  IIIIIIIIIIIIIIII                                                                                                                                                                                                                                                                                                                                                                                                                                                                                                                                                                                 & 891  \n",
       "(100\\%)                                                                                                                                                                                                                                                                                                                                                                                                                                                                                                                                                                                                                                                    & 0  \n",
       "(0\\%)                                                                                                                                                                                                                                                                                                                                                                                                                                                                                                                                                                                                                                                       \\\\\n",
       "\t  5                                                                                                                                                                                                                                                                                                                                                                                                                                                                                                                                                                                                                                                                 & Sex  \n",
       "{[}character{]}                                                                                                                                                                                                                                                                                                                                                                                                                                                                                                                                                                                                                                             & 1. female  \n",
       "2. male                                                                                                                                                                                                                                                                                                                                                                                                                                                                                                                                                                                                                                               & 314 (35.2\\%)  \n",
       "577 (64.8\\%)                                                                                                                                                                                                                                                                                                                                                                                                                                                                                                                                                                                                                                     & <img src=\"data:image/png;base64,iVBORw0KGgoAAAANSUhEUgAAAJYAAAA0CAMAAABfCzE1AAAADFBMVEX9/v2mpqb39/f9/v0TNkn1AAAABHRSTlP///8AQCqp9AAAAGJJREFUWIXt17ENwDAMA0En3n/nLJCGgIwQyP0EV0gF165sfQ14b+1rvBnWPRwWFhYWFhYWFhYW1q9ZncunMqykE7c10IFPHAgrCSsJKwkrCSsJKwkrCSsJK6mY1VjtIKvsAUNLRR0yr4doAAAAAElFTkSuQmCC\">                                                                                                                                                                                                                                                                                                                                                             &   \n",
       "  IIIIIIII  \n",
       "  IIIIIIIIIIIIIIII                                                                                                                                                                                                                                                                                                                                                                                                                                                                                                                                                                                                                               & 891  \n",
       "(100\\%)                                                                                                                                                                                                                                                                                                                                                                                                                                                                                                                                                                                                                                                    & 0  \n",
       "(0\\%)                                                                                                                                                                                                                                                                                                                                                                                                                                                                                                                                                                                                                                                       \\\\\n",
       "\t  6                                                                                                                                                                                                                                                                                                                                                                                                                                                                                                                                                                                                                                                                 & Age  \n",
       "{[}numeric{]}                                                                                                                                                                                                                                                                                                                                                                                                                                                                                                                                                                                                                                               & mean (sd) : 29.7 (14.53)  \n",
       "min < med < max :  \n",
       "0.42 < 28 < 80  \n",
       "IQR (CV) : 17.88 (0.49)                                                                                                                                                                                                                                                                                                                                                                                                                                                                                                                                                                         & 88 distinct val.                                                                                                                                                                                                                                                                                                                                                                                                                                                                                                                                                                                                                                                   & <img src=\"data:image/png;base64,iVBORw0KGgoAAAANSUhEUgAAAJYAAABkCAMAAABThTnCAAAADFBMVEX9/v2mpqby8vL9/v28xacEAAAABHRSTlP///8AQCqp9AAAAOFJREFUaIHt1sEOhCAMRVFH/v+fZ6N1IhJpoVDH+1amIXpSVLqkkFlmA64DS5Nq1kfiydlTz1q3wKoIrARLF1iawNLEwBpxCBlYI7oGCxYsWGbWMcLHYp01sGC9luU54TSwpAALFixYsGDBgqVnOQw4PVgOXYMFCxYsWLBgvYbVccLpyZLCn7PK/Z/LKt4Rljur/ZN0YbW3DRYsWLBgPYBlPoR8WeauPYR17nsQVuYLxrp/lmKp+t0fw5ICLM3S2t0czJILWLBgBWKV/hizWNmRG4OVFS5ZgfLDChdYmgRlfQG7jJlmBXPwUwAAAABJRU5ErkJggg==\">                                                                                                                                                                                 & \\textbackslash{} \\textbackslash{} \\textbackslash{} \\textbackslash{} \\textbackslash{} \\textbackslash{} : :\n",
       "\\textbackslash{} \\textbackslash{} \\textbackslash{} \\textbackslash{} . : :\n",
       "\\textbackslash{} \\textbackslash{} \\textbackslash{} \\textbackslash{} : : : :\n",
       "\\textbackslash{} \\textbackslash{} \\textbackslash{} \\textbackslash{} : : : :\n",
       ": \\textbackslash{} \\textbackslash{} : : : : : :\n",
       ": : : : : : : : : .                                                                                                                                                                                                                           & 714  \n",
       "(80.13\\%)                                                                                                                                                                                                                                                                                                                                                                                                                                                                                                                                                                                                                                                  & 177  \n",
       "(19.87\\%)                                                                                                                                                                                                                                                                                                                                                                                                                                                                                                                                                                                                                                                 \\\\\n",
       "\t  7                                                                                                                                                                                                                                                                                                                                                                                                                                                                                                                                                                                                                                                                 & SibSp  \n",
       "{[}integer{]}                                                                                                                                                                                                                                                                                                                                                                                                                                                                                                                                                                                                                                             & mean (sd) : 0.52 (1.1)  \n",
       "min < med < max :  \n",
       "0 < 0 < 8  \n",
       "IQR (CV) : 1 (2.11)                                                                                                                                                                                                                                                                                                                                                                                                                                                                                                                                                                                    & 7 distinct val.                                                                                                                                                                                                                                                                                                                                                                                                                                                                                                                                                                                                                                                    & <img src=\"data:image/png;base64,iVBORw0KGgoAAAANSUhEUgAAAJYAAAC2CAMAAAAMc4TmAAAADFBMVEX9/v2mpqb39/f9/v0TNkn1AAAABHRSTlP///8AQCqp9AAAARRJREFUeJzt2EFSQkEQBUHQ+99ZUdQQWVAs/G+RdYJc9ET09Ol1stPRgPthlbBKs6zzYu+sl72wSlglrBJWCauEVcIqYZWwSufZXX4yrNJzs/UfrCceChYWFhYWFhYWFhbWAGvzizEZVulnto6W/Or7JWI9EFYJq4RVwiphlbBKWCWs0i5rc5efDKt0na2jGbd9vkSsx8IqYZWwSlglrBJWCauEVcIqzX4xJsMqfZ1GjnbcdD0kYT0UVgmrhFXCKmGVsEpYJazSLmtzl58Mq3SZraMNd8IqYZWwSlglrBJWCauEVcIqYZVmWZNhlT5OI0cj/nY5JGE9GlYJq4RVwiphlbBKWCWs0i5rc5efDKuEVcIqvQELOip6uBStJAAAAABJRU5ErkJggg==\">                                                                                                             &   \n",
       "  IIIIIIIIIIIIIIII  \n",
       "  IIIII  \n",
       "    \n",
       "    \n",
       "    \n",
       "    \n",
       "                                                                                                                                                                                                                                                                                                                                                                                                                                                                                                                                                                                                      & 891  \n",
       "(100\\%)                                                                                                                                                                                                                                                                                                                                                                                                                                                                                                                                                                                                                                                    & 0  \n",
       "(0\\%)                                                                                                                                                                                                                                                                                                                                                                                                                                                                                                                                                                                                                                                       \\\\\n",
       "\t  8                                                                                                                                                                                                                                                                                                                                                                                                                                                                                                                                                                                                                                                                 & Parch  \n",
       "{[}integer{]}                                                                                                                                                                                                                                                                                                                                                                                                                                                                                                                                                                                                                                             & mean (sd) : 0.38 (0.81)  \n",
       "min < med < max :  \n",
       "0 < 0 < 6  \n",
       "IQR (CV) : 0 (2.11)                                                                                                                                                                                                                                                                                                                                                                                                                                                                                                                                                                                   & 7 distinct val.                                                                                                                                                                                                                                                                                                                                                                                                                                                                                                                                                                                                                                                    & <img src=\"data:image/png;base64,iVBORw0KGgoAAAANSUhEUgAAAJYAAAC2CAMAAAAMc4TmAAAADFBMVEX9/v2mpqb39/f9/v0TNkn1AAAABHRSTlP///8AQCqp9AAAAPZJREFUeJzt17FtAzAQBEHJ7r9ny6EA2tBGvGC2ggmOAP/xPdnjNuAcVgmrNMt6LvZife2FVcIqYZWwSlglrBJWCauEVXrO/uUnwyr9u62rrL/fAxYWFhYWFhYWFhbWMmvzxJgMq3Tc1m3U+SViYWFhYWFhYWFhYb2zNv/yk2GVfrd123AIq4RVwiphlbBKWCWsElYJq4RVmmVNhlWa3RbW52GVsEpYJawSVgmrhFXCKmGVZi+fyWZZo9vC+jysElYJq4RVwiphlbBKWCWs0ixrMqzSa1u3CaewSlglrBJWCauEVcIqYZWwSlil2ctnMqwSVmmU9QNuIyy6rj2/dAAAAABJRU5ErkJggg==\">                                                                                                                                                     &   \n",
       "  IIIIIIIIIIIIIIII  \n",
       "  II  \n",
       "  I  \n",
       "    \n",
       "    \n",
       "    \n",
       "                                                                                                                                                                                                                                                                                                                                                                                                                                                                                                                                                                                                        & 891  \n",
       "(100\\%)                                                                                                                                                                                                                                                                                                                                                                                                                                                                                                                                                                                                                                                    & 0  \n",
       "(0\\%)                                                                                                                                                                                                                                                                                                                                                                                                                                                                                                                                                                                                                                                       \\\\\n",
       "\t  9                                                                                                                                                                                                                                                                                                                                                                                                                                                                                                                                                                                                                                                                 & Ticket  \n",
       "{[}character{]}                                                                                                                                                                                                                                                                                                                                                                                                                                                                                                                                                                                                                                          & 1. 1601  \n",
       "2. 347082  \n",
       "3. CA. 2343  \n",
       "4. 3101295  \n",
       "5. 347088  \n",
       "6. CA 2144  \n",
       "7. 382652  \n",
       "8. S.O.C. 14879  \n",
       "9. 113760  \n",
       "10. 113781  \n",
       "{[} 671 others {]}                                                                                                                                                                                                                                                                                                                                                                                                                                                                                                      &   7 ( 0.8\\%)  \n",
       "  7 ( 0.8\\%)  \n",
       "  7 ( 0.8\\%)  \n",
       "  6 ( 0.7\\%)  \n",
       "  6 ( 0.7\\%)  \n",
       "  6 ( 0.7\\%)  \n",
       "  5 ( 0.6\\%)  \n",
       "  5 ( 0.6\\%)  \n",
       "  4 ( 0.4\\%)  \n",
       "  4 ( 0.4\\%)  \n",
       "834 (92.0\\%)                                                                                                                                                                                                                                                                                                                                                                                                                                                                            & <img src=\"data:image/png;base64,iVBORw0KGgoAAAANSUhEUgAAAJYAAAEeCAMAAABfSxzRAAAADFBMVEX9/v2mpqb39/f9/v0TNkn1AAAABHRSTlP///8AQCqp9AAAAWVJREFUeJzt16GBQgEUA0E+13/PRwGIt4qImQpWxOT1N+n164DvZBWyClmFrGI263l+3fCFrEJWIauQVcgqZBWyClmFrEJWMft8Js1mjW5L1p2sQlYhq5BVyCpkFbIKWYWsYvb5TJrNGt2WrDtZhaxCViGrkFXIKmQVsgpZxWzWJFnF7LZk3ckqZBWyClmFrEJWIauQVcgqZp/PpNms0W3JupNVyCpkFbIKWYWsQlYhq5BVzD6fSbNZo9uSdSerkFXIKmQVsgpZhaxCViGrmM2aJKuY3ZasO1mFrEJWIauQVcgqZBWyClnF7POZNJs1ui1Zd7IKWYWsQlYhq5BVyCpkFbKK2eczSVYxO3lZd7IKWYWsQlYhq5BVyCpkFbKK2eczaTZrdFuy7mQVsgpZhaxCViGrkFXIKmQVs89n0mzWs+iT9d4jq5BVyCpkFbIKWYWsQlYhqxjOWjR7yCbJKmQVsgpZxT9Z1+Vc0A0a9AAAAABJRU5ErkJggg==\"> &   \n",
       "    \n",
       "    \n",
       "    \n",
       "    \n",
       "    \n",
       "    \n",
       "    \n",
       "    \n",
       "    \n",
       "    \n",
       "  IIIIIIIIIIIIIIII                                                                                                                                                                                                                                                                                                                                                                                                                                                                                                                                                                                 & 891  \n",
       "(100\\%)                                                                                                                                                                                                                                                                                                                                                                                                                                                                                                                                                                                                                                                    & 0  \n",
       "(0\\%)                                                                                                                                                                                                                                                                                                                                                                                                                                                                                                                                                                                                                                                       \\\\\n",
       "\t 10                                                                                                                                                                                                                                                                                                                                                                                                                                                                                                                                                                                                                                                                 & Fare  \n",
       "{[}numeric{]}                                                                                                                                                                                                                                                                                                                                                                                                                                                                                                                                                                                                                                              & mean (sd) : 32.2 (49.69)  \n",
       "min < med < max :  \n",
       "0 < 14.45 < 512.33  \n",
       "IQR (CV) : 23.09 (1.54)                                                                                                                                                                                                                                                                                                                                                                                                                                                                                                                                                                     & 248 distinct val.                                                                                                                                                                                                                                                                                                                                                                                                                                                                                                                                                                                                                                                  & <img src=\"data:image/png;base64,iVBORw0KGgoAAAANSUhEUgAAAJYAAABkCAMAAABThTnCAAAADFBMVEX9/v2mpqby8vL9/v28xacEAAAABHRSTlP///8AQCqp9AAAANVJREFUaIHt1sEOgyAUBVHA//9nF0VEYm0maeSRzGzcnugVTVvI0mzAfbJIByvnqYwxWSRZJFkkWSRZJFkkWSRZJFkkWSRZJFkkWSRZJFkkWSRZJFkkWSRZJFkkWSRZJFkkWSRZJFkkWaSTFcoliySLtAIrDk0WSRZJFkkWSRYpPisH+lx3rCLrV7JIa7CiwAZWkfXUKqz2DZq6swfWzDuXDtSFlYOwysn6HBOTd3bDKo1V19WN7K29fWHldt3qIVuf7MC6/KX98SXpthWkjhUuWaSgrB1ecaubqpkCMAAAAABJRU5ErkJggg==\">                                                                                                                                                                                                 & :\n",
       ":\n",
       ":\n",
       ":\n",
       ":\n",
       ": :                                                                                                                                                                                                                                                                                                                                                                                                                                                                                                                                                                                                                                                 & 891  \n",
       "(100\\%)                                                                                                                                                                                                                                                                                                                                                                                                                                                                                                                                                                                                                                                    & 0  \n",
       "(0\\%)                                                                                                                                                                                                                                                                                                                                                                                                                                                                                                                                                                                                                                                       \\\\\n",
       "\t 11                                                                                                                                                                                                                                                                                                                                                                                                                                                                                                                                                                                                                                                                 & Cabin  \n",
       "{[}character{]}                                                                                                                                                                                                                                                                                                                                                                                                                                                                                                                                                                                                                                           & 1.   \n",
       "2. B96 B98  \n",
       "3. C23 C25 C27  \n",
       "4. G6  \n",
       "5. C22 C26  \n",
       "6. D  \n",
       "7. E101  \n",
       "8. F2  \n",
       "9. F33  \n",
       "10. B18  \n",
       "{[} 138 others {]}                                                                                                                                                                                                                                                                                                                                                                                                                                                                                                                                  & 687 (77.1\\%)  \n",
       "  4 ( 0.4\\%)  \n",
       "  4 ( 0.4\\%)  \n",
       "  4 ( 0.4\\%)  \n",
       "  3 ( 0.3\\%)  \n",
       "  3 ( 0.3\\%)  \n",
       "  3 ( 0.3\\%)  \n",
       "  3 ( 0.3\\%)  \n",
       "  3 ( 0.3\\%)  \n",
       "  2 ( 0.2\\%)  \n",
       "175 (19.2\\%)                                                                                                                                                                                                                                                                                                                                                                                                                                                                            & <img src=\"data:image/png;base64,iVBORw0KGgoAAAANSUhEUgAAAJYAAAEeCAMAAABfSxzRAAAADFBMVEX9/v2mpqb39/f9/v0TNkn1AAAABHRSTlP///8AQCqp9AAAAWVJREFUeJzt16lhAwAMBEE//fechBtoSXxgtoIBB6THe7LHtwGfwyphlbBKWKVZ1nOxX9ZrL6wSVgmrhFXCKmGVsEpYJazSc/aWnwyr9Letbxs+hFXCKmGVsEpYJawSVgmrhFXCKs1+PpPNska3hXUPq4RVwiphlbBKWCWsElYJqzTLmgyrNLstrHtYJawSVgmrhFXCKmGVsEpYpdnPZ7JZ1ui2sO5hlbBKWCWsElYJq4RVwiphlWY/n8lmWaPbwrqHVcIqYZWwSlglrBJWCauEVZplTYZVmt0W1j2sElYJq4RVwiphlbBKWCWs0uznM9ksa3RbWPewSlglrBJWCauEVcIqYZWwSrOfz2RYpdnJY93DKmGVsEpYJawSVgmrhFXCKs1+PpPNska3hXUPq4RVwiphlbBKWCWsElYJqzT7+Uw2y3re+nfW6xIWFhYWFhYWFhYW1hxr88WYDKuEVcIqYZVGWT9zHOJ36QjNYwAAAABJRU5ErkJggg==\"> &   \n",
       "  IIIIIIIIIIIIIIII  \n",
       "    \n",
       "    \n",
       "    \n",
       "    \n",
       "    \n",
       "    \n",
       "    \n",
       "    \n",
       "    \n",
       "  IIII                                                                                                                                                                                                                                                                                                                                                                                                                                                                                                                                                                             & 891  \n",
       "(100\\%)                                                                                                                                                                                                                                                                                                                                                                                                                                                                                                                                                                                                                                                    & 0  \n",
       "(0\\%)                                                                                                                                                                                                                                                                                                                                                                                                                                                                                                                                                                                                                                                       \\\\\n",
       "\t 12                                                                                                                                                                                                                                                                                                                                                                                                                                                                                                                                                                                                                                                                 & Embarked  \n",
       "{[}character{]}                                                                                                                                                                                                                                                                                                                                                                                                                                                                                                                                                                                                                                        & 1.   \n",
       "2. C  \n",
       "3. Q  \n",
       "4. S                                                                                                                                                                                                                                                                                                                                                                                                                                                                                                                                                                                                                                        &   2 ( 0.2\\%)  \n",
       "168 (18.9\\%)  \n",
       " 77 ( 8.6\\%)  \n",
       "644 (72.3\\%)                                                                                                                                                                                                                                                                                                                                                                                                                                                                                                                                                                                                   & <img src=\"data:image/png;base64,iVBORw0KGgoAAAANSUhEUgAAAJYAAABoCAMAAAAkR/m5AAAADFBMVEX9/v2mpqb39/f9/v0TNkn1AAAABHRSTlP///8AQCqp9AAAAKJJREFUaIHt2LENwzAMAEE73n/nIGUAFfpGZnE/wRUUQPF6Rna9DViHVbqe+37bsAirhFXCKmGVsEpYJawSVgmrhFUayxoZVuk3W3udZn22wsLCwsLCwsLCwsKaxpr5xRgZVmk5W2+j1i8RCwsLCwsLCwsLC+ufNXOXHxlWaSxr9zRytO1D0tGwSlglrBJWCauEVcIqYZWwSvfYXX5kWKWhrC/J0qMtPQMSwgAAAABJRU5ErkJggg==\">                                                                                                                                                                                                                                                                     &   \n",
       "    \n",
       "  IIII  \n",
       "  I  \n",
       "  IIIIIIIIIIIIIIII                                                                                                                                                                                                                                                                                                                                                                                                                                                                                                                                                                                                                      & 891  \n",
       "(100\\%)                                                                                                                                                                                                                                                                                                                                                                                                                                                                                                                                                                                                                                                    & 0  \n",
       "(0\\%)                                                                                                                                                                                                                                                                                                                                                                                                                                                                                                                                                                                                                                                       \\\\\n",
       "\\end{tabular}\n"
      ],
      "text/markdown": [
       "\n",
       "No | Variable | Stats / Values | Freqs (% of Valid) | Graph | Text Graph | Valid | Missing | \n",
       "|---|---|---|---|---|---|---|---|---|---|---|---|\n",
       "|  1                                                                                                                                                                                                                                                                                                                                                                                                                                                                                                                                                                                                                                                                 | PassengerId  \n",
       "[integer]                                                                                                                                                                                                                                                                                                                                                                                                                                                                                                                                                                                                                                           | mean (sd) : 446 (257.35)  \n",
       "min < med < max :  \n",
       "1 < 446 < 891  \n",
       "IQR (CV) : 445 (0.58)                                                                                                                                                                                                                                                                                                                                                                                                                                                                                                                                                                            | 891 distinct val.                                                                                                                                                                                                                                                                                                                                                                                                                                                                                                                                                                                                                                                  | <img src=\"data:image/png;base64,iVBORw0KGgoAAAANSUhEUgAAAJYAAABkCAMAAABThTnCAAAADFBMVEX9/v2mpqby8vL9/v28xacEAAAABHRSTlP///8AQCqp9AAAAHtJREFUaIHt1CEOwDAIQNF2vf+dK2a2pW1CJkC87wiIp2ijZC0bsA4r0s3qiZ1Y17seGf+tsbCwsPbj8o/ls77XWFhYWFhYWFhYWFhYWFhYWFhYWFhYWFhYWFhYWFhYWFhYWFhYWFhYWFhYWFhYWFgprEI9WOXCilSUNQFvlnll0PQz/gAAAABJRU5ErkJggg==\">                                                                                                                                                                                                                                                                                                                         | : : : : : : : : .\n",
       ": : : : : : : : :\n",
       ": : : : : : : : :\n",
       ": : : : : : : : :\n",
       ": : : : : : : : :\n",
       ": : : : : : : : :                                                                                                                                                                                                                                                                                                                                                                                                                                                                                                                                                   | 891  \n",
       "(100%)                                                                                                                                                                                                                                                                                                                                                                                                                                                                                                                                                                                                                                                      | 0  \n",
       "(0%)                                                                                                                                                                                                                                                                                                                                                                                                                                                                                                                                                                                                                                                          | \n",
       "|  2                                                                                                                                                                                                                                                                                                                                                                                                                                                                                                                                                                                                                                                                 | Survived  \n",
       "[integer]                                                                                                                                                                                                                                                                                                                                                                                                                                                                                                                                                                                                                                              | mean (sd) : 0.38 (0.49)  \n",
       "min < med < max :  \n",
       "0 < 0 < 1  \n",
       "IQR (CV) : 1 (1.27)                                                                                                                                                                                                                                                                                                                                                                                                                                                                                                                                                                                   | 2 distinct val.                                                                                                                                                                                                                                                                                                                                                                                                                                                                                                                                                                                                                                                    | <img src=\"data:image/png;base64,iVBORw0KGgoAAAANSUhEUgAAAJYAAAA0CAMAAABfCzE1AAAADFBMVEX9/v2mpqb39/f9/v0TNkn1AAAABHRSTlP///8AQCqp9AAAAGJJREFUWIXt17ENwDAMA0E73n/nZIA0RCCExf0EV0gF16ls/Q14b53d2MO6+sJKwkrCSsJKwkrCSsJKwkrCSsJK2rXLpzKspOHb+sCa/CgsLCwsLCwsLCwsrDlW58SorJR1AwMSQ9L8FZTOAAAAAElFTkSuQmCC\">                                                                                                                                                                                                                                                                                                                                                             |   \n",
       "  IIIIIIIIIIIIIIII  \n",
       "  IIIIIIIII                                                                                                                                                                                                                                                                                                                                                                                                                                                                                                                                                                                                                              | 891  \n",
       "(100%)                                                                                                                                                                                                                                                                                                                                                                                                                                                                                                                                                                                                                                                      | 0  \n",
       "(0%)                                                                                                                                                                                                                                                                                                                                                                                                                                                                                                                                                                                                                                                          | \n",
       "|  3                                                                                                                                                                                                                                                                                                                                                                                                                                                                                                                                                                                                                                                                 | Pclass  \n",
       "[integer]                                                                                                                                                                                                                                                                                                                                                                                                                                                                                                                                                                                                                                                | mean (sd) : 2.31 (0.84)  \n",
       "min < med < max :  \n",
       "1 < 3 < 3  \n",
       "IQR (CV) : 1 (0.36)                                                                                                                                                                                                                                                                                                                                                                                                                                                                                                                                                                                   | 1 : 216 (24.2%)  \n",
       "2 : 184 (20.6%)  \n",
       "3 : 491 (55.1%)                                                                                                                                                                                                                                                                                                                                                                                                                                                                                                                                                                                                              | <img src=\"data:image/png;base64,iVBORw0KGgoAAAANSUhEUgAAAJYAAABOCAMAAAD1sh+SAAAADFBMVEX9/v2mpqb39/f9/v0TNkn1AAAABHRSTlP///8AQCqp9AAAAH5JREFUaIHt2LsRwCAQQ0F/+u/ZDTjRwA0K9lWwAQS6663sOg34r5Z1LzfDehbDwsLCwsLCwsLCwjrD6pwYlWElLbytYVbRB8TCwsLCwsLCwsLCClidE6MyrKQdp5GBNhySBsJKwkrCSsJKwkrCSsJKwkrCSipmNVY7yCorZX08iG8lQ+HmmwAAAABJRU5ErkJggg==\">                                                                                                                                                                                                                                                                                                                     |   \n",
       "  IIIIIII  \n",
       "  IIIII  \n",
       "  IIIIIIIIIIIIIIII                                                                                                                                                                                                                                                                                                                                                                                                                                                                                                                                                                                                                     | 891  \n",
       "(100%)                                                                                                                                                                                                                                                                                                                                                                                                                                                                                                                                                                                                                                                      | 0  \n",
       "(0%)                                                                                                                                                                                                                                                                                                                                                                                                                                                                                                                                                                                                                                                          | \n",
       "|  4                                                                                                                                                                                                                                                                                                                                                                                                                                                                                                                                                                                                                                                                 | Name  \n",
       "[character]                                                                                                                                                                                                                                                                                                                                                                                                                                                                                                                                                                                                                                                | 1. Abbing, Mr. Anthony  \n",
       "2. Abbott, Mr. Rossmore Edwa  \n",
       "3. Abbott, Mrs. Stanton (Ros  \n",
       "4. Abelson, Mr. Samuel  \n",
       "5. Abelson, Mrs. Samuel (Han  \n",
       "6. Adahl, Mr. Mauritz Nils M  \n",
       "7. Adams, Mr. John  \n",
       "8. Ahlin, Mrs. Johan (Johann  \n",
       "9. Aks, Mrs. Sam (Leah Rosen  \n",
       "10. Albimona, Mr. Nassef Cass  \n",
       "[ 881 others ]                                                                                                                                                                                                                                                                                                                                          |   1 ( 0.1%)  \n",
       "  1 ( 0.1%)  \n",
       "  1 ( 0.1%)  \n",
       "  1 ( 0.1%)  \n",
       "  1 ( 0.1%)  \n",
       "  1 ( 0.1%)  \n",
       "  1 ( 0.1%)  \n",
       "  1 ( 0.1%)  \n",
       "  1 ( 0.1%)  \n",
       "  1 ( 0.1%)  \n",
       "881 (96.9%)                                                                                                                                                                                                                                                                                                                                                                                                                                                                                                  | <img src=\"data:image/png;base64,iVBORw0KGgoAAAANSUhEUgAAAJYAAAEeCAMAAABfSxzRAAAADFBMVEX9/v2mpqb39/f9/v0TNkn1AAAABHRSTlP///8AQCqp9AAAAWNJREFUeJzt16kBAgAQA0Ge/nuGAhC3ioiZClbE5PGe9Ph3wG+yClmFrEJWMZv1/HfCL7IKWYWsQlYhq5BVyCpkFbIKWcXs85k0mzW6LVl3sgpZhaxCViGrkFXIKmQVsorZ5zNpNmt0W7LuZBWyClmFrEJWIauQVcgqZBWzWZNkFbPbknUnq5BVyCpkFbIKWYWsQlYhq5h9PpNms0a3JetOViGrkFXIKmQVsgpZhaxCVjH7fCbNZo1uS9adrEJWIauQVcgqZBWyClmFrGI2a5KsYnZbsu5kFbIKWYWsQlYhq5BVyCpkFbPPZ9Js1ui2ZN3JKmQVsgpZhaxCViGrkFXIKmafzyRZxezkZd3JKmQVsgpZhaxCViGrkFXIKmafz6TZrNFtybqTVcgqZBWyClmFrEJWIauQVcw+n0mzWc9F36zXHlmFrEJWIauQVcgqZBWyClnFcNai2UM2SVYhq5BVyCo+me/nBI30pk8AAAAASUVORK5CYII=\">     |   \n",
       "    \n",
       "    \n",
       "    \n",
       "    \n",
       "    \n",
       "    \n",
       "    \n",
       "    \n",
       "    \n",
       "    \n",
       "  IIIIIIIIIIIIIIII                                                                                                                                                                                                                                                                                                                                                                                                                                                                                                                                                                                 | 891  \n",
       "(100%)                                                                                                                                                                                                                                                                                                                                                                                                                                                                                                                                                                                                                                                      | 0  \n",
       "(0%)                                                                                                                                                                                                                                                                                                                                                                                                                                                                                                                                                                                                                                                          | \n",
       "|  5                                                                                                                                                                                                                                                                                                                                                                                                                                                                                                                                                                                                                                                                 | Sex  \n",
       "[character]                                                                                                                                                                                                                                                                                                                                                                                                                                                                                                                                                                                                                                                 | 1. female  \n",
       "2. male                                                                                                                                                                                                                                                                                                                                                                                                                                                                                                                                                                                                                                               | 314 (35.2%)  \n",
       "577 (64.8%)                                                                                                                                                                                                                                                                                                                                                                                                                                                                                                                                                                                                                                         | <img src=\"data:image/png;base64,iVBORw0KGgoAAAANSUhEUgAAAJYAAAA0CAMAAABfCzE1AAAADFBMVEX9/v2mpqb39/f9/v0TNkn1AAAABHRSTlP///8AQCqp9AAAAGJJREFUWIXt17ENwDAMA0En3n/nLJCGgIwQyP0EV0gF165sfQ14b+1rvBnWPRwWFhYWFhYWFhYW1q9ZncunMqykE7c10IFPHAgrCSsJKwkrCSsJKwkrCSsJK6mY1VjtIKvsAUNLRR0yr4doAAAAAElFTkSuQmCC\">                                                                                                                                                                                                                                                                                                                                                             |   \n",
       "  IIIIIIII  \n",
       "  IIIIIIIIIIIIIIII                                                                                                                                                                                                                                                                                                                                                                                                                                                                                                                                                                                                                               | 891  \n",
       "(100%)                                                                                                                                                                                                                                                                                                                                                                                                                                                                                                                                                                                                                                                      | 0  \n",
       "(0%)                                                                                                                                                                                                                                                                                                                                                                                                                                                                                                                                                                                                                                                          | \n",
       "|  6                                                                                                                                                                                                                                                                                                                                                                                                                                                                                                                                                                                                                                                                 | Age  \n",
       "[numeric]                                                                                                                                                                                                                                                                                                                                                                                                                                                                                                                                                                                                                                                   | mean (sd) : 29.7 (14.53)  \n",
       "min < med < max :  \n",
       "0.42 < 28 < 80  \n",
       "IQR (CV) : 17.88 (0.49)                                                                                                                                                                                                                                                                                                                                                                                                                                                                                                                                                                         | 88 distinct val.                                                                                                                                                                                                                                                                                                                                                                                                                                                                                                                                                                                                                                                   | <img src=\"data:image/png;base64,iVBORw0KGgoAAAANSUhEUgAAAJYAAABkCAMAAABThTnCAAAADFBMVEX9/v2mpqby8vL9/v28xacEAAAABHRSTlP///8AQCqp9AAAAOFJREFUaIHt1sEOhCAMRVFH/v+fZ6N1IhJpoVDH+1amIXpSVLqkkFlmA64DS5Nq1kfiydlTz1q3wKoIrARLF1iawNLEwBpxCBlYI7oGCxYsWGbWMcLHYp01sGC9luU54TSwpAALFixYsGDBgqVnOQw4PVgOXYMFCxYsWLBgvYbVccLpyZLCn7PK/Z/LKt4Rljur/ZN0YbW3DRYsWLBgPYBlPoR8WeauPYR17nsQVuYLxrp/lmKp+t0fw5ICLM3S2t0czJILWLBgBWKV/hizWNmRG4OVFS5ZgfLDChdYmgRlfQG7jJlmBXPwUwAAAABJRU5ErkJggg==\">                                                                                                                                                                                 | \\ \\ \\ \\ \\ \\ : :\n",
       "\\ \\ \\ \\ . : :\n",
       "\\ \\ \\ \\ : : : :\n",
       "\\ \\ \\ \\ : : : :\n",
       ": \\ \\ : : : : : :\n",
       ": : : : : : : : : .                                                                                                                                                                                                                                                                                                                                                                                                                                                                                                                                       | 714  \n",
       "(80.13%)                                                                                                                                                                                                                                                                                                                                                                                                                                                                                                                                                                                                                                                    | 177  \n",
       "(19.87%)                                                                                                                                                                                                                                                                                                                                                                                                                                                                                                                                                                                                                                                    | \n",
       "|  7                                                                                                                                                                                                                                                                                                                                                                                                                                                                                                                                                                                                                                                                 | SibSp  \n",
       "[integer]                                                                                                                                                                                                                                                                                                                                                                                                                                                                                                                                                                                                                                                 | mean (sd) : 0.52 (1.1)  \n",
       "min < med < max :  \n",
       "0 < 0 < 8  \n",
       "IQR (CV) : 1 (2.11)                                                                                                                                                                                                                                                                                                                                                                                                                                                                                                                                                                                    | 7 distinct val.                                                                                                                                                                                                                                                                                                                                                                                                                                                                                                                                                                                                                                                    | <img src=\"data:image/png;base64,iVBORw0KGgoAAAANSUhEUgAAAJYAAAC2CAMAAAAMc4TmAAAADFBMVEX9/v2mpqb39/f9/v0TNkn1AAAABHRSTlP///8AQCqp9AAAARRJREFUeJzt2EFSQkEQBUHQ+99ZUdQQWVAs/G+RdYJc9ET09Ol1stPRgPthlbBKs6zzYu+sl72wSlglrBJWCauEVcIqYZWwSufZXX4yrNJzs/UfrCceChYWFhYWFhYWFhbWAGvzizEZVulnto6W/Or7JWI9EFYJq4RVwiphlbBKWCWs0i5rc5efDKt0na2jGbd9vkSsx8IqYZWwSlglrBJWCauEVcIqzX4xJsMqfZ1GjnbcdD0kYT0UVgmrhFXCKmGVsEpYJazSLmtzl58Mq3SZraMNd8IqYZWwSlglrBJWCauEVcIqYZVmWZNhlT5OI0cj/nY5JGE9GlYJq4RVwiphlbBKWCWs0i5rc5efDKuEVcIqvQELOip6uBStJAAAAABJRU5ErkJggg==\">                                                                                                             |   \n",
       "  IIIIIIIIIIIIIIII  \n",
       "  IIIII  \n",
       "    \n",
       "    \n",
       "    \n",
       "    \n",
       "                                                                                                                                                                                                                                                                                                                                                                                                                                                                                                                                                                                                      | 891  \n",
       "(100%)                                                                                                                                                                                                                                                                                                                                                                                                                                                                                                                                                                                                                                                      | 0  \n",
       "(0%)                                                                                                                                                                                                                                                                                                                                                                                                                                                                                                                                                                                                                                                          | \n",
       "|  8                                                                                                                                                                                                                                                                                                                                                                                                                                                                                                                                                                                                                                                                 | Parch  \n",
       "[integer]                                                                                                                                                                                                                                                                                                                                                                                                                                                                                                                                                                                                                                                 | mean (sd) : 0.38 (0.81)  \n",
       "min < med < max :  \n",
       "0 < 0 < 6  \n",
       "IQR (CV) : 0 (2.11)                                                                                                                                                                                                                                                                                                                                                                                                                                                                                                                                                                                   | 7 distinct val.                                                                                                                                                                                                                                                                                                                                                                                                                                                                                                                                                                                                                                                    | <img src=\"data:image/png;base64,iVBORw0KGgoAAAANSUhEUgAAAJYAAAC2CAMAAAAMc4TmAAAADFBMVEX9/v2mpqb39/f9/v0TNkn1AAAABHRSTlP///8AQCqp9AAAAPZJREFUeJzt17FtAzAQBEHJ7r9ny6EA2tBGvGC2ggmOAP/xPdnjNuAcVgmrNMt6LvZife2FVcIqYZWwSlglrBJWCauEVXrO/uUnwyr9u62rrL/fAxYWFhYWFhYWFhbWMmvzxJgMq3Tc1m3U+SViYWFhYWFhYWFhYb2zNv/yk2GVfrd123AIq4RVwiphlbBKWCWsElYJq4RVmmVNhlWa3RbW52GVsEpYJawSVgmrhFXCKmGVZi+fyWZZo9vC+jysElYJq4RVwiphlbBKWCWs0ixrMqzSa1u3CaewSlglrBJWCauEVcIqYZWwSlil2ctnMqwSVmmU9QNuIyy6rj2/dAAAAABJRU5ErkJggg==\">                                                                                                                                                     |   \n",
       "  IIIIIIIIIIIIIIII  \n",
       "  II  \n",
       "  I  \n",
       "    \n",
       "    \n",
       "    \n",
       "                                                                                                                                                                                                                                                                                                                                                                                                                                                                                                                                                                                                        | 891  \n",
       "(100%)                                                                                                                                                                                                                                                                                                                                                                                                                                                                                                                                                                                                                                                      | 0  \n",
       "(0%)                                                                                                                                                                                                                                                                                                                                                                                                                                                                                                                                                                                                                                                          | \n",
       "|  9                                                                                                                                                                                                                                                                                                                                                                                                                                                                                                                                                                                                                                                                 | Ticket  \n",
       "[character]                                                                                                                                                                                                                                                                                                                                                                                                                                                                                                                                                                                                                                              | 1. 1601  \n",
       "2. 347082  \n",
       "3. CA. 2343  \n",
       "4. 3101295  \n",
       "5. 347088  \n",
       "6. CA 2144  \n",
       "7. 382652  \n",
       "8. S.O.C. 14879  \n",
       "9. 113760  \n",
       "10. 113781  \n",
       "[ 671 others ]                                                                                                                                                                                                                                                                                                                                                                                                                                                                                                          |   7 ( 0.8%)  \n",
       "  7 ( 0.8%)  \n",
       "  7 ( 0.8%)  \n",
       "  6 ( 0.7%)  \n",
       "  6 ( 0.7%)  \n",
       "  6 ( 0.7%)  \n",
       "  5 ( 0.6%)  \n",
       "  5 ( 0.6%)  \n",
       "  4 ( 0.4%)  \n",
       "  4 ( 0.4%)  \n",
       "834 (92.0%)                                                                                                                                                                                                                                                                                                                                                                                                                                                                                                  | <img src=\"data:image/png;base64,iVBORw0KGgoAAAANSUhEUgAAAJYAAAEeCAMAAABfSxzRAAAADFBMVEX9/v2mpqb39/f9/v0TNkn1AAAABHRSTlP///8AQCqp9AAAAWVJREFUeJzt16GBQgEUA0E+13/PRwGIt4qImQpWxOT1N+n164DvZBWyClmFrGI263l+3fCFrEJWIauQVcgqZBWyClmFrEJWMft8Js1mjW5L1p2sQlYhq5BVyCpkFbIKWYWsYvb5TJrNGt2WrDtZhaxCViGrkFXIKmQVsgpZxWzWJFnF7LZk3ckqZBWyClmFrEJWIauQVcgqZp/PpNms0W3JupNVyCpkFbIKWYWsQlYhq5BVzD6fSbNZo9uSdSerkFXIKmQVsgpZhaxCViGrmM2aJKuY3ZasO1mFrEJWIauQVcgqZBWyClnF7POZNJs1ui1Zd7IKWYWsQlYhq5BVyCpkFbKK2eczSVYxO3lZd7IKWYWsQlYhq5BVyCpkFbKK2eczaTZrdFuy7mQVsgpZhaxCViGrkFXIKmQVs89n0mzWs+iT9d4jq5BVyCpkFbIKWYWsQlYhqxjOWjR7yCbJKmQVsgpZxT9Z1+Vc0A0a9AAAAABJRU5ErkJggg==\"> |   \n",
       "    \n",
       "    \n",
       "    \n",
       "    \n",
       "    \n",
       "    \n",
       "    \n",
       "    \n",
       "    \n",
       "    \n",
       "  IIIIIIIIIIIIIIII                                                                                                                                                                                                                                                                                                                                                                                                                                                                                                                                                                                 | 891  \n",
       "(100%)                                                                                                                                                                                                                                                                                                                                                                                                                                                                                                                                                                                                                                                      | 0  \n",
       "(0%)                                                                                                                                                                                                                                                                                                                                                                                                                                                                                                                                                                                                                                                          | \n",
       "| 10                                                                                                                                                                                                                                                                                                                                                                                                                                                                                                                                                                                                                                                                 | Fare  \n",
       "[numeric]                                                                                                                                                                                                                                                                                                                                                                                                                                                                                                                                                                                                                                                  | mean (sd) : 32.2 (49.69)  \n",
       "min < med < max :  \n",
       "0 < 14.45 < 512.33  \n",
       "IQR (CV) : 23.09 (1.54)                                                                                                                                                                                                                                                                                                                                                                                                                                                                                                                                                                     | 248 distinct val.                                                                                                                                                                                                                                                                                                                                                                                                                                                                                                                                                                                                                                                  | <img src=\"data:image/png;base64,iVBORw0KGgoAAAANSUhEUgAAAJYAAABkCAMAAABThTnCAAAADFBMVEX9/v2mpqby8vL9/v28xacEAAAABHRSTlP///8AQCqp9AAAANVJREFUaIHt1sEOgyAUBVHA//9nF0VEYm0maeSRzGzcnugVTVvI0mzAfbJIByvnqYwxWSRZJFkkWSRZJFkkWSRZJFkkWSRZJFkkWSRZJFkkWSRZJFkkWSRZJFkkWSRZJFkkWSRZJFkkWaSTFcoliySLtAIrDk0WSRZJFkkWSRYpPisH+lx3rCLrV7JIa7CiwAZWkfXUKqz2DZq6swfWzDuXDtSFlYOwysn6HBOTd3bDKo1V19WN7K29fWHldt3qIVuf7MC6/KX98SXpthWkjhUuWaSgrB1ecaubqpkCMAAAAABJRU5ErkJggg==\">                                                                                                                                                                                                 | :\n",
       ":\n",
       ":\n",
       ":\n",
       ":\n",
       ": :                                                                                                                                                                                                                                                                                                                                                                                                                                                                                                                                                                                                                                                 | 891  \n",
       "(100%)                                                                                                                                                                                                                                                                                                                                                                                                                                                                                                                                                                                                                                                      | 0  \n",
       "(0%)                                                                                                                                                                                                                                                                                                                                                                                                                                                                                                                                                                                                                                                          | \n",
       "| 11                                                                                                                                                                                                                                                                                                                                                                                                                                                                                                                                                                                                                                                                 | Cabin  \n",
       "[character]                                                                                                                                                                                                                                                                                                                                                                                                                                                                                                                                                                                                                                               | 1.   \n",
       "2. B96 B98  \n",
       "3. C23 C25 C27  \n",
       "4. G6  \n",
       "5. C22 C26  \n",
       "6. D  \n",
       "7. E101  \n",
       "8. F2  \n",
       "9. F33  \n",
       "10. B18  \n",
       "[ 138 others ]                                                                                                                                                                                                                                                                                                                                                                                                                                                                                                                                      | 687 (77.1%)  \n",
       "  4 ( 0.4%)  \n",
       "  4 ( 0.4%)  \n",
       "  4 ( 0.4%)  \n",
       "  3 ( 0.3%)  \n",
       "  3 ( 0.3%)  \n",
       "  3 ( 0.3%)  \n",
       "  3 ( 0.3%)  \n",
       "  3 ( 0.3%)  \n",
       "  2 ( 0.2%)  \n",
       "175 (19.2%)                                                                                                                                                                                                                                                                                                                                                                                                                                                                                                  | <img src=\"data:image/png;base64,iVBORw0KGgoAAAANSUhEUgAAAJYAAAEeCAMAAABfSxzRAAAADFBMVEX9/v2mpqb39/f9/v0TNkn1AAAABHRSTlP///8AQCqp9AAAAWVJREFUeJzt16lhAwAMBEE//fechBtoSXxgtoIBB6THe7LHtwGfwyphlbBKWKVZ1nOxX9ZrL6wSVgmrhFXCKmGVsEpYJazSc/aWnwyr9Letbxs+hFXCKmGVsEpYJawSVgmrhFXCKs1+PpPNska3hXUPq4RVwiphlbBKWCWsElYJqzTLmgyrNLstrHtYJawSVgmrhFXCKmGVsEpYpdnPZ7JZ1ui2sO5hlbBKWCWsElYJq4RVwiphlWY/n8lmWaPbwrqHVcIqYZWwSlglrBJWCauEVZplTYZVmt0W1j2sElYJq4RVwiphlbBKWCWs0uznM9ksa3RbWPewSlglrBJWCauEVcIqYZWwSrOfz2RYpdnJY93DKmGVsEpYJawSVgmrhFXCKs1+PpPNska3hXUPq4RVwiphlbBKWCWsElYJqzT7+Uw2y3re+nfW6xIWFhYWFhYWFhYW1hxr88WYDKuEVcIqYZVGWT9zHOJ36QjNYwAAAABJRU5ErkJggg==\"> |   \n",
       "  IIIIIIIIIIIIIIII  \n",
       "    \n",
       "    \n",
       "    \n",
       "    \n",
       "    \n",
       "    \n",
       "    \n",
       "    \n",
       "    \n",
       "  IIII                                                                                                                                                                                                                                                                                                                                                                                                                                                                                                                                                                             | 891  \n",
       "(100%)                                                                                                                                                                                                                                                                                                                                                                                                                                                                                                                                                                                                                                                      | 0  \n",
       "(0%)                                                                                                                                                                                                                                                                                                                                                                                                                                                                                                                                                                                                                                                          | \n",
       "| 12                                                                                                                                                                                                                                                                                                                                                                                                                                                                                                                                                                                                                                                                 | Embarked  \n",
       "[character]                                                                                                                                                                                                                                                                                                                                                                                                                                                                                                                                                                                                                                            | 1.   \n",
       "2. C  \n",
       "3. Q  \n",
       "4. S                                                                                                                                                                                                                                                                                                                                                                                                                                                                                                                                                                                                                                        |   2 ( 0.2%)  \n",
       "168 (18.9%)  \n",
       " 77 ( 8.6%)  \n",
       "644 (72.3%)                                                                                                                                                                                                                                                                                                                                                                                                                                                                                                                                                                                                           | <img src=\"data:image/png;base64,iVBORw0KGgoAAAANSUhEUgAAAJYAAABoCAMAAAAkR/m5AAAADFBMVEX9/v2mpqb39/f9/v0TNkn1AAAABHRSTlP///8AQCqp9AAAAKJJREFUaIHt2LENwzAMAEE73n/nIGUAFfpGZnE/wRUUQPF6Rna9DViHVbqe+37bsAirhFXCKmGVsEpYJawSVgmrhFUayxoZVuk3W3udZn22wsLCwsLCwsLCwsKaxpr5xRgZVmk5W2+j1i8RCwsLCwsLCwsLC+ufNXOXHxlWaSxr9zRytO1D0tGwSlglrBJWCauEVcIqYZWwSvfYXX5kWKWhrC/J0qMtPQMSwgAAAABJRU5ErkJggg==\">                                                                                                                                                                                                                                                                     |   \n",
       "    \n",
       "  IIII  \n",
       "  I  \n",
       "  IIIIIIIIIIIIIIII                                                                                                                                                                                                                                                                                                                                                                                                                                                                                                                                                                                                                      | 891  \n",
       "(100%)                                                                                                                                                                                                                                                                                                                                                                                                                                                                                                                                                                                                                                                      | 0  \n",
       "(0%)                                                                                                                                                                                                                                                                                                                                                                                                                                                                                                                                                                                                                                                          | \n",
       "\n",
       "\n"
      ],
      "text/plain": [
       "   No Variable                \n",
       "1   1 PassengerId  \\n[integer]\n",
       "2   2 Survived  \\n[integer]   \n",
       "3   3 Pclass  \\n[integer]     \n",
       "4   4 Name  \\n[character]     \n",
       "5   5 Sex  \\n[character]      \n",
       "6   6 Age  \\n[numeric]        \n",
       "7   7 SibSp  \\n[integer]      \n",
       "8   8 Parch  \\n[integer]      \n",
       "9   9 Ticket  \\n[character]   \n",
       "10 10 Fare  \\n[numeric]       \n",
       "11 11 Cabin  \\n[character]    \n",
       "12 12 Embarked  \\n[character] \n",
       "   Stats / Values                                                                                                                                                                                                                                                                                                           \n",
       "1  mean (sd) : 446 (257.35)  \\nmin < med < max :  \\n1 < 446 < 891  \\nIQR (CV) : 445 (0.58)                                                                                                                                                                                                                                  \n",
       "2  mean (sd) : 0.38 (0.49)  \\nmin < med < max :  \\n0 < 0 < 1  \\nIQR (CV) : 1 (1.27)                                                                                                                                                                                                                                         \n",
       "3  mean (sd) : 2.31 (0.84)  \\nmin < med < max :  \\n1 < 3 < 3  \\nIQR (CV) : 1 (0.36)                                                                                                                                                                                                                                         \n",
       "4  1. Abbing, Mr. Anthony  \\n2. Abbott, Mr. Rossmore Edwa  \\n3. Abbott, Mrs. Stanton (Ros  \\n4. Abelson, Mr. Samuel  \\n5. Abelson, Mrs. Samuel (Han  \\n6. Adahl, Mr. Mauritz Nils M  \\n7. Adams, Mr. John  \\n8. Ahlin, Mrs. Johan (Johann  \\n9. Aks, Mrs. Sam (Leah Rosen  \\n10. Albimona, Mr. Nassef Cass  \\n[ 881 others ]\n",
       "5  1. female  \\n2. male                                                                                                                                                                                                                                                                                                     \n",
       "6  mean (sd) : 29.7 (14.53)  \\nmin < med < max :  \\n0.42 < 28 < 80  \\nIQR (CV) : 17.88 (0.49)                                                                                                                                                                                                                               \n",
       "7  mean (sd) : 0.52 (1.1)  \\nmin < med < max :  \\n0 < 0 < 8  \\nIQR (CV) : 1 (2.11)                                                                                                                                                                                                                                          \n",
       "8  mean (sd) : 0.38 (0.81)  \\nmin < med < max :  \\n0 < 0 < 6  \\nIQR (CV) : 0 (2.11)                                                                                                                                                                                                                                         \n",
       "9  1. 1601  \\n2. 347082  \\n3. CA. 2343  \\n4. 3101295  \\n5. 347088  \\n6. CA 2144  \\n7. 382652  \\n8. S.O.C. 14879  \\n9. 113760  \\n10. 113781  \\n[ 671 others ]                                                                                                                                                                \n",
       "10 mean (sd) : 32.2 (49.69)  \\nmin < med < max :  \\n0 < 14.45 < 512.33  \\nIQR (CV) : 23.09 (1.54)                                                                                                                                                                                                                           \n",
       "11 1.   \\n2. B96 B98  \\n3. C23 C25 C27  \\n4. G6  \\n5. C22 C26  \\n6. D  \\n7. E101  \\n8. F2  \\n9. F33  \\n10. B18  \\n[ 138 others ]                                                                                                                                                                                            \n",
       "12 1.   \\n2. C  \\n3. Q  \\n4. S                                                                                                                                                                                                                                                                                              \n",
       "   Freqs (% of Valid)                                                                                                                                               \n",
       "1  891 distinct val.                                                                                                                                                \n",
       "2  2 distinct val.                                                                                                                                                  \n",
       "3  1 : 216 (24.2%)  \\n2 : 184 (20.6%)  \\n3 : 491 (55.1%)                                                                                                            \n",
       "4    1 ( 0.1%)  \\n  1 ( 0.1%)  \\n  1 ( 0.1%)  \\n  1 ( 0.1%)  \\n  1 ( 0.1%)  \\n  1 ( 0.1%)  \\n  1 ( 0.1%)  \\n  1 ( 0.1%)  \\n  1 ( 0.1%)  \\n  1 ( 0.1%)  \\n881 (96.9%)\n",
       "5  314 (35.2%)  \\n577 (64.8%)                                                                                                                                       \n",
       "6  88 distinct val.                                                                                                                                                 \n",
       "7  7 distinct val.                                                                                                                                                  \n",
       "8  7 distinct val.                                                                                                                                                  \n",
       "9    7 ( 0.8%)  \\n  7 ( 0.8%)  \\n  7 ( 0.8%)  \\n  6 ( 0.7%)  \\n  6 ( 0.7%)  \\n  6 ( 0.7%)  \\n  5 ( 0.6%)  \\n  5 ( 0.6%)  \\n  4 ( 0.4%)  \\n  4 ( 0.4%)  \\n834 (92.0%)\n",
       "10 248 distinct val.                                                                                                                                                \n",
       "11 687 (77.1%)  \\n  4 ( 0.4%)  \\n  4 ( 0.4%)  \\n  4 ( 0.4%)  \\n  3 ( 0.3%)  \\n  3 ( 0.3%)  \\n  3 ( 0.3%)  \\n  3 ( 0.3%)  \\n  3 ( 0.3%)  \\n  2 ( 0.2%)  \\n175 (19.2%)\n",
       "12   2 ( 0.2%)  \\n168 (18.9%)  \\n 77 ( 8.6%)  \\n644 (72.3%)                                                                                                         \n",
       "   Graph                                                                                                                                                                                                                                                                                                                                                                                                                                                                                                                                                                                                                                                             \n",
       "1  <img src=\"data:image/png;base64,iVBORw0KGgoAAAANSUhEUgAAAJYAAABkCAMAAABThTnCAAAADFBMVEX9/v2mpqby8vL9/v28xacEAAAABHRSTlP///8AQCqp9AAAAHtJREFUaIHt1CEOwDAIQNF2vf+dK2a2pW1CJkC87wiIp2ijZC0bsA4r0s3qiZ1Y17seGf+tsbCwsPbj8o/ls77XWFhYWFhYWFhYWFhYWFhYWFhYWFhYWFhYWFhYWFhYWFhYWFhYWFhYWFhYWFhYWFgprEI9WOXCilSUNQFvlnll0PQz/gAAAABJRU5ErkJggg==\">                                                                                                                                                                                                                                                                                                                        \n",
       "2  <img src=\"data:image/png;base64,iVBORw0KGgoAAAANSUhEUgAAAJYAAAA0CAMAAABfCzE1AAAADFBMVEX9/v2mpqb39/f9/v0TNkn1AAAABHRSTlP///8AQCqp9AAAAGJJREFUWIXt17ENwDAMA0E73n/nZIA0RCCExf0EV0gF16ls/Q14b53d2MO6+sJKwkrCSsJKwkrCSsJKwkrCSsJK2rXLpzKspOHb+sCa/CgsLCwsLCwsLCwsrDlW58SorJR1AwMSQ9L8FZTOAAAAAElFTkSuQmCC\">                                                                                                                                                                                                                                                                                                                                                            \n",
       "3  <img src=\"data:image/png;base64,iVBORw0KGgoAAAANSUhEUgAAAJYAAABOCAMAAAD1sh+SAAAADFBMVEX9/v2mpqb39/f9/v0TNkn1AAAABHRSTlP///8AQCqp9AAAAH5JREFUaIHt2LsRwCAQQ0F/+u/ZDTjRwA0K9lWwAQS6663sOg34r5Z1LzfDehbDwsLCwsLCwsLCwjrD6pwYlWElLbytYVbRB8TCwsLCwsLCwsLCClidE6MyrKQdp5GBNhySBsJKwkrCSsJKwkrCSsJKwkrCSipmNVY7yCorZX08iG8lQ+HmmwAAAABJRU5ErkJggg==\">                                                                                                                                                                                                                                                                                                                    \n",
       "4  <img src=\"data:image/png;base64,iVBORw0KGgoAAAANSUhEUgAAAJYAAAEeCAMAAABfSxzRAAAADFBMVEX9/v2mpqb39/f9/v0TNkn1AAAABHRSTlP///8AQCqp9AAAAWNJREFUeJzt16kBAgAQA0Ge/nuGAhC3ioiZClbE5PGe9Ph3wG+yClmFrEJWMZv1/HfCL7IKWYWsQlYhq5BVyCpkFbIKWcXs85k0mzW6LVl3sgpZhaxCViGrkFXIKmQVsorZ5zNpNmt0W7LuZBWyClmFrEJWIauQVcgqZBWzWZNkFbPbknUnq5BVyCpkFbIKWYWsQlYhq5h9PpNms0a3JetOViGrkFXIKmQVsgpZhaxCVjH7fCbNZo1uS9adrEJWIauQVcgqZBWyClmFrGI2a5KsYnZbsu5kFbIKWYWsQlYhq5BVyCpkFbPPZ9Js1ui2ZN3JKmQVsgpZhaxCViGrkFXIKmafzyRZxezkZd3JKmQVsgpZhaxCViGrkFXIKmafz6TZrNFtybqTVcgqZBWyClmFrEJWIauQVcw+n0mzWc9F36zXHlmFrEJWIauQVcgqZBWyClnFcNai2UM2SVYhq5BVyCo+me/nBI30pk8AAAAASUVORK5CYII=\">    \n",
       "5  <img src=\"data:image/png;base64,iVBORw0KGgoAAAANSUhEUgAAAJYAAAA0CAMAAABfCzE1AAAADFBMVEX9/v2mpqb39/f9/v0TNkn1AAAABHRSTlP///8AQCqp9AAAAGJJREFUWIXt17ENwDAMA0En3n/nLJCGgIwQyP0EV0gF165sfQ14b+1rvBnWPRwWFhYWFhYWFhYW1q9ZncunMqykE7c10IFPHAgrCSsJKwkrCSsJKwkrCSsJK6mY1VjtIKvsAUNLRR0yr4doAAAAAElFTkSuQmCC\">                                                                                                                                                                                                                                                                                                                                                            \n",
       "6  <img src=\"data:image/png;base64,iVBORw0KGgoAAAANSUhEUgAAAJYAAABkCAMAAABThTnCAAAADFBMVEX9/v2mpqby8vL9/v28xacEAAAABHRSTlP///8AQCqp9AAAAOFJREFUaIHt1sEOhCAMRVFH/v+fZ6N1IhJpoVDH+1amIXpSVLqkkFlmA64DS5Nq1kfiydlTz1q3wKoIrARLF1iawNLEwBpxCBlYI7oGCxYsWGbWMcLHYp01sGC9luU54TSwpAALFixYsGDBgqVnOQw4PVgOXYMFCxYsWLBgvYbVccLpyZLCn7PK/Z/LKt4Rljur/ZN0YbW3DRYsWLBgPYBlPoR8WeauPYR17nsQVuYLxrp/lmKp+t0fw5ICLM3S2t0czJILWLBgBWKV/hizWNmRG4OVFS5ZgfLDChdYmgRlfQG7jJlmBXPwUwAAAABJRU5ErkJggg==\">                                                                                                                                                                                \n",
       "7  <img src=\"data:image/png;base64,iVBORw0KGgoAAAANSUhEUgAAAJYAAAC2CAMAAAAMc4TmAAAADFBMVEX9/v2mpqb39/f9/v0TNkn1AAAABHRSTlP///8AQCqp9AAAARRJREFUeJzt2EFSQkEQBUHQ+99ZUdQQWVAs/G+RdYJc9ET09Ol1stPRgPthlbBKs6zzYu+sl72wSlglrBJWCauEVcIqYZWwSufZXX4yrNJzs/UfrCceChYWFhYWFhYWFhbWAGvzizEZVulnto6W/Or7JWI9EFYJq4RVwiphlbBKWCWs0i5rc5efDKt0na2jGbd9vkSsx8IqYZWwSlglrBJWCauEVcIqzX4xJsMqfZ1GjnbcdD0kYT0UVgmrhFXCKmGVsEpYJazSLmtzl58Mq3SZraMNd8IqYZWwSlglrBJWCauEVcIqYZVmWZNhlT5OI0cj/nY5JGE9GlYJq4RVwiphlbBKWCWs0i5rc5efDKuEVcIqvQELOip6uBStJAAAAABJRU5ErkJggg==\">                                                                                                            \n",
       "8  <img src=\"data:image/png;base64,iVBORw0KGgoAAAANSUhEUgAAAJYAAAC2CAMAAAAMc4TmAAAADFBMVEX9/v2mpqb39/f9/v0TNkn1AAAABHRSTlP///8AQCqp9AAAAPZJREFUeJzt17FtAzAQBEHJ7r9ny6EA2tBGvGC2ggmOAP/xPdnjNuAcVgmrNMt6LvZife2FVcIqYZWwSlglrBJWCauEVXrO/uUnwyr9u62rrL/fAxYWFhYWFhYWFhbWMmvzxJgMq3Tc1m3U+SViYWFhYWFhYWFhYb2zNv/yk2GVfrd123AIq4RVwiphlbBKWCWsElYJq4RVmmVNhlWa3RbW52GVsEpYJawSVgmrhFXCKmGVZi+fyWZZo9vC+jysElYJq4RVwiphlbBKWCWs0ixrMqzSa1u3CaewSlglrBJWCauEVcIqYZWwSlil2ctnMqwSVmmU9QNuIyy6rj2/dAAAAABJRU5ErkJggg==\">                                                                                                                                                    \n",
       "9  <img src=\"data:image/png;base64,iVBORw0KGgoAAAANSUhEUgAAAJYAAAEeCAMAAABfSxzRAAAADFBMVEX9/v2mpqb39/f9/v0TNkn1AAAABHRSTlP///8AQCqp9AAAAWVJREFUeJzt16GBQgEUA0E+13/PRwGIt4qImQpWxOT1N+n164DvZBWyClmFrGI263l+3fCFrEJWIauQVcgqZBWyClmFrEJWMft8Js1mjW5L1p2sQlYhq5BVyCpkFbIKWYWsYvb5TJrNGt2WrDtZhaxCViGrkFXIKmQVsgpZxWzWJFnF7LZk3ckqZBWyClmFrEJWIauQVcgqZp/PpNms0W3JupNVyCpkFbIKWYWsQlYhq5BVzD6fSbNZo9uSdSerkFXIKmQVsgpZhaxCViGrmM2aJKuY3ZasO1mFrEJWIauQVcgqZBWyClnF7POZNJs1ui1Zd7IKWYWsQlYhq5BVyCpkFbKK2eczSVYxO3lZd7IKWYWsQlYhq5BVyCpkFbKK2eczaTZrdFuy7mQVsgpZhaxCViGrkFXIKmQVs89n0mzWs+iT9d4jq5BVyCpkFbIKWYWsQlYhqxjOWjR7yCbJKmQVsgpZxT9Z1+Vc0A0a9AAAAABJRU5ErkJggg==\">\n",
       "10 <img src=\"data:image/png;base64,iVBORw0KGgoAAAANSUhEUgAAAJYAAABkCAMAAABThTnCAAAADFBMVEX9/v2mpqby8vL9/v28xacEAAAABHRSTlP///8AQCqp9AAAANVJREFUaIHt1sEOgyAUBVHA//9nF0VEYm0maeSRzGzcnugVTVvI0mzAfbJIByvnqYwxWSRZJFkkWSRZJFkkWSRZJFkkWSRZJFkkWSRZJFkkWSRZJFkkWSRZJFkkWSRZJFkkWSRZJFkkWaSTFcoliySLtAIrDk0WSRZJFkkWSRYpPisH+lx3rCLrV7JIa7CiwAZWkfXUKqz2DZq6swfWzDuXDtSFlYOwysn6HBOTd3bDKo1V19WN7K29fWHldt3qIVuf7MC6/KX98SXpthWkjhUuWaSgrB1ecaubqpkCMAAAAABJRU5ErkJggg==\">                                                                                                                                                                                                \n",
       "11 <img src=\"data:image/png;base64,iVBORw0KGgoAAAANSUhEUgAAAJYAAAEeCAMAAABfSxzRAAAADFBMVEX9/v2mpqb39/f9/v0TNkn1AAAABHRSTlP///8AQCqp9AAAAWVJREFUeJzt16lhAwAMBEE//fechBtoSXxgtoIBB6THe7LHtwGfwyphlbBKWKVZ1nOxX9ZrL6wSVgmrhFXCKmGVsEpYJazSc/aWnwyr9Letbxs+hFXCKmGVsEpYJawSVgmrhFXCKs1+PpPNska3hXUPq4RVwiphlbBKWCWsElYJqzTLmgyrNLstrHtYJawSVgmrhFXCKmGVsEpYpdnPZ7JZ1ui2sO5hlbBKWCWsElYJq4RVwiphlWY/n8lmWaPbwrqHVcIqYZWwSlglrBJWCauEVZplTYZVmt0W1j2sElYJq4RVwiphlbBKWCWs0uznM9ksa3RbWPewSlglrBJWCauEVcIqYZWwSrOfz2RYpdnJY93DKmGVsEpYJawSVgmrhFXCKs1+PpPNska3hXUPq4RVwiphlbBKWCWsElYJqzT7+Uw2y3re+nfW6xIWFhYWFhYWFhYW1hxr88WYDKuEVcIqYZVGWT9zHOJ36QjNYwAAAABJRU5ErkJggg==\">\n",
       "12 <img src=\"data:image/png;base64,iVBORw0KGgoAAAANSUhEUgAAAJYAAABoCAMAAAAkR/m5AAAADFBMVEX9/v2mpqb39/f9/v0TNkn1AAAABHRSTlP///8AQCqp9AAAAKJJREFUaIHt2LENwzAMAEE73n/nIGUAFfpGZnE/wRUUQPF6Rna9DViHVbqe+37bsAirhFXCKmGVsEpYJawSVgmrhFUayxoZVuk3W3udZn22wsLCwsLCwsLCwsKaxpr5xRgZVmk5W2+j1i8RCwsLCwsLCwsLC+ufNXOXHxlWaSxr9zRytO1D0tGwSlglrBJWCauEVcIqYZWwSvfYXX5kWKWhrC/J0qMtPQMSwgAAAABJRU5ErkJggg==\">                                                                                                                                                                                                                                                                    \n",
       "   Text Graph                                                                                                                  \n",
       "1  : : : : : : : : .\\n: : : : : : : : :\\n: : : : : : : : :\\n: : : : : : : : :\\n: : : : : : : : :\\n: : : : : : : : :            \n",
       "2    \\n  IIIIIIIIIIIIIIII  \\n  IIIIIIIII                                                                                       \n",
       "3    \\n  IIIIIII  \\n  IIIII  \\n  IIIIIIIIIIIIIIII                                                                              \n",
       "4    \\n    \\n    \\n    \\n    \\n    \\n    \\n    \\n    \\n    \\n    \\n  IIIIIIIIIIIIIIII                                          \n",
       "5    \\n  IIIIIIII  \\n  IIIIIIIIIIIIIIII                                                                                        \n",
       "6  \\\\ \\\\ \\\\ \\\\ \\\\ \\\\ : :\\n\\\\ \\\\ \\\\ \\\\ . : :\\n\\\\ \\\\ \\\\ \\\\ : : : :\\n\\\\ \\\\ \\\\ \\\\ : : : :\\n: \\\\ \\\\ : : : : : :\\n: : : : : : : : : .\n",
       "7    \\n  IIIIIIIIIIIIIIII  \\n  IIIII  \\n    \\n    \\n    \\n    \\n                                                               \n",
       "8    \\n  IIIIIIIIIIIIIIII  \\n  II  \\n  I  \\n    \\n    \\n    \\n                                                                 \n",
       "9    \\n    \\n    \\n    \\n    \\n    \\n    \\n    \\n    \\n    \\n    \\n  IIIIIIIIIIIIIIII                                          \n",
       "10 :\\n:\\n:\\n:\\n:\\n: :                                                                                                          \n",
       "11   \\n  IIIIIIIIIIIIIIII  \\n    \\n    \\n    \\n    \\n    \\n    \\n    \\n    \\n    \\n  IIII                                      \n",
       "12   \\n    \\n  IIII  \\n  I  \\n  IIIIIIIIIIIIIIII                                                                               \n",
       "   Valid           Missing        \n",
       "1  891  \\n(100%)   0  \\n(0%)      \n",
       "2  891  \\n(100%)   0  \\n(0%)      \n",
       "3  891  \\n(100%)   0  \\n(0%)      \n",
       "4  891  \\n(100%)   0  \\n(0%)      \n",
       "5  891  \\n(100%)   0  \\n(0%)      \n",
       "6  714  \\n(80.13%) 177  \\n(19.87%)\n",
       "7  891  \\n(100%)   0  \\n(0%)      \n",
       "8  891  \\n(100%)   0  \\n(0%)      \n",
       "9  891  \\n(100%)   0  \\n(0%)      \n",
       "10 891  \\n(100%)   0  \\n(0%)      \n",
       "11 891  \\n(100%)   0  \\n(0%)      \n",
       "12 891  \\n(100%)   0  \\n(0%)      "
      ]
     },
     "metadata": {},
     "output_type": "display_data"
    }
   ],
   "source": [
    "# install.packages('summarytools', repos = pos = 'http://cran.us.r-project.org')\n",
    "library(summarytools)\n",
    "summarytools::descr(train)\n",
    "dfSummary(train)"
   ]
  },
  {
   "cell_type": "code",
   "execution_count": 12,
   "metadata": {
    "run_control": {
     "frozen": false,
     "marked": false,
     "read_only": false
    },
    "scrolled": true,
    "slideshow": {
     "slide_type": "subslide"
    }
   },
   "outputs": [
    {
     "name": "stderr",
     "output_type": "stream",
     "text": [
      "Warning message:\n",
      "\"package 'stargazer' was built under R version 3.4.3\"\n",
      "Please cite as: \n",
      "\n",
      " Hlavac, Marek (2018). stargazer: Well-Formatted Regression and Summary Statistics Tables.\n",
      " R package version 5.2.1. https://CRAN.R-project.org/package=stargazer \n",
      "\n"
     ]
    },
    {
     "name": "stdout",
     "output_type": "stream",
     "text": [
      "\n",
      "Descriptive statistics\n",
      "======================================\n",
      "Statistic N  Mean  St. Dev. Min   Max \n",
      "--------------------------------------\n",
      "mpg       32 20.1    6.0    10.4 33.9 \n",
      "cyl       32  6.2    1.8     4     8  \n",
      "disp      32 230.7  123.9   71.1 472.0\n",
      "hp        32 146.7   68.6    52   335 \n",
      "drat      32  3.6    0.5    2.8   4.9 \n",
      "wt        32  3.2    1.0    1.5   5.4 \n",
      "qsec      32 17.8    1.8    14.5 22.9 \n",
      "vs        32  0.4    0.5     0     1  \n",
      "am        32  0.4    0.5     0     1  \n",
      "gear      32  3.7    0.7     3     5  \n",
      "carb      32  2.8    1.6     1     8  \n",
      "--------------------------------------\n"
     ]
    }
   ],
   "source": [
    "# stargazer package install.packages('stargazer', repos =\n",
    "# 'http://cran.us.r-project.org')\n",
    "mydata <- mtcars\n",
    "library(stargazer)\n",
    "stargazer(mydata, type = \"text\", title = \"Descriptive statistics\", digits = 1, out = \"data/table1.txt\")\n",
    "\n",
    "# document for stargazer package:\n",
    "# https://cran.r-project.org/web/packages/stargazer/vignettes/stargazer.pdf"
   ]
  },
  {
   "cell_type": "markdown",
   "metadata": {
    "slideshow": {
     "slide_type": "slide"
    }
   },
   "source": [
    "Interactive web app:  \n",
    "https://vasileiostsakalos.shinyapps.io/descriptive_analysis_pt1/ "
   ]
  },
  {
   "cell_type": "markdown",
   "metadata": {
    "slideshow": {
     "slide_type": "slide"
    }
   },
   "source": [
    "https://towardsdatascience.com/understanding-descriptive-statistics-c9c2b0641291  "
   ]
  },
  {
   "cell_type": "markdown",
   "metadata": {
    "slideshow": {
     "slide_type": "slide"
    }
   },
   "source": [
    "## Anscombe’s Quartet"
   ]
  },
  {
   "cell_type": "markdown",
   "metadata": {
    "slideshow": {
     "slide_type": "fragment"
    }
   },
   "source": [
    "https://eagereyes.org/criticism/anscombes-quartet"
   ]
  }
 ],
 "metadata": {
  "celltoolbar": "Slideshow",
  "hide_input": false,
  "kernelspec": {
   "display_name": "R",
   "language": "R",
   "name": "r"
  },
  "language_info": {
   "codemirror_mode": "r",
   "file_extension": ".r",
   "mimetype": "text/x-r-source",
   "name": "R",
   "pygments_lexer": "r",
   "version": "3.4.1"
  },
  "nav_menu": {},
  "toc": {
   "base_numbering": 1,
   "nav_menu": {},
   "number_sections": false,
   "sideBar": true,
   "skip_h1_title": false,
   "title_cell": "Table of Contents",
   "title_sidebar": "Contents",
   "toc_cell": true,
   "toc_position": {
    "height": "calc(100% - 180px)",
    "left": "10px",
    "top": "150px",
    "width": "256px"
   },
   "toc_section_display": "block",
   "toc_window_display": false
  }
 },
 "nbformat": 4,
 "nbformat_minor": 2
}
