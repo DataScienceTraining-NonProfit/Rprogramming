{
 "cells": [
  {
   "cell_type": "markdown",
   "metadata": {
    "slideshow": {
     "slide_type": "slide"
    },
    "toc": "true"
   },
   "source": [
    "<h1>Table of Contents<span class=\"tocSkip\"></span></h1>\n",
    "<div class=\"toc\" style=\"margin-top: 1em;\"><ul class=\"toc-item\"><li><span><a href=\"#Descriptive-Statistics\" data-toc-modified-id=\"Descriptive-Statistics-1\">Descriptive Statistics</a></span><ul class=\"toc-item\"><li><span><a href=\"#Types-of-Variables-(Scales-of-Measurement)\" data-toc-modified-id=\"Types-of-Variables-(Scales-of-Measurement)-1.1\">Types of Variables (Scales of Measurement)</a></span><ul class=\"toc-item\"><li><span><a href=\"#Nominal-scale:\" data-toc-modified-id=\"Nominal-scale:-1.1.1\">Nominal scale:</a></span></li><li><span><a href=\"#Ordinal-scale:\" data-toc-modified-id=\"Ordinal-scale:-1.1.2\">Ordinal scale:</a></span></li><li><span><a href=\"#Interval-scale:\" data-toc-modified-id=\"Interval-scale:-1.1.3\">Interval scale:</a></span></li><li><span><a href=\"#Ratio-scale:\" data-toc-modified-id=\"Ratio-scale:-1.1.4\">Ratio scale:</a></span></li></ul></li><li><span><a href=\"#Measures-of-Central-Tendency\" data-toc-modified-id=\"Measures-of-Central-Tendency-1.2\">Measures of Central Tendency</a></span><ul class=\"toc-item\"><li><span><a href=\"#A-R-function-for-finding-the-mode\" data-toc-modified-id=\"A-R-function-for-finding-the-mode-1.2.1\">A R function for finding the mode</a></span></li></ul></li><li><span><a href=\"#Measures-of-Variability\" data-toc-modified-id=\"Measures-of-Variability-1.3\">Measures of Variability</a></span></li><li><span><a href=\"#Measures-of-Shape\" data-toc-modified-id=\"Measures-of-Shape-1.4\">Measures of Shape</a></span></li><li><span><a href=\"#Working-with-Titanic-dataset\" data-toc-modified-id=\"Working-with-Titanic-dataset-1.5\">Working with Titanic dataset</a></span></li><li><span><a href=\"#List-of-Packages-to-describe-data\" data-toc-modified-id=\"List-of-Packages-to-describe-data-1.6\">List of Packages to describe data</a></span></li><li><span><a href=\"#Anscombe’s-Quartet\" data-toc-modified-id=\"Anscombe’s-Quartet-1.7\">Anscombe’s Quartet</a></span></li></ul></li></ul></div>"
   ]
  },
  {
   "cell_type": "markdown",
   "metadata": {
    "slideshow": {
     "slide_type": "slide"
    }
   },
   "source": [
    "**Statistics:**   \n",
    "is a branch of mathematics dealing with the collection, analysis, interpretation, and presentation of masses of numerical data"
   ]
  },
  {
   "cell_type": "markdown",
   "metadata": {
    "run_control": {
     "frozen": false,
     "read_only": false
    },
    "slideshow": {
     "slide_type": "subslide"
    }
   },
   "source": [
    "Two uses of statistics, to describe or predict, and we call these:  \n",
    "\n",
    "* Descriptive Statistics (to describe about the data)\n",
    "* Inferential Statistics (to discover patterns in data) \n"
   ]
  },
  {
   "cell_type": "markdown",
   "metadata": {
    "slideshow": {
     "slide_type": "slide"
    }
   },
   "source": [
    "# Descriptive Statistics"
   ]
  },
  {
   "cell_type": "markdown",
   "metadata": {
    "slideshow": {
     "slide_type": "fragment"
    }
   },
   "source": [
    "![Imgur](https://i.imgur.com/54wy5jK.png)\n",
    "<sub><sub>Image Credit: <a href=\"https://www.cognity.pl/wykresy-w-excelu,blog,138.html\" target=\"_blank\">https://www.cognity.pl/wykresy-w-excelu,blog,138.html</a></sub></sub>  "
   ]
  },
  {
   "cell_type": "markdown",
   "metadata": {
    "slideshow": {
     "slide_type": "slide"
    }
   },
   "source": [
    "## Types of Variables (Scales of Measurement)   "
   ]
  },
  {
   "cell_type": "markdown",
   "metadata": {
    "slideshow": {
     "slide_type": "fragment"
    }
   },
   "source": [
    "Nominal  \n",
    "Ordinal  \n",
    "Interval  \n",
    "Ratio  "
   ]
  },
  {
   "cell_type": "markdown",
   "metadata": {
    "slideshow": {
     "slide_type": "slide"
    }
   },
   "source": [
    "![Imgur](https://i.imgur.com/xK8OLpY.png)"
   ]
  },
  {
   "cell_type": "markdown",
   "metadata": {
    "slideshow": {
     "slide_type": "slide"
    }
   },
   "source": [
    "### Nominal scale:"
   ]
  },
  {
   "cell_type": "markdown",
   "metadata": {
    "slideshow": {
     "slide_type": "fragment"
    }
   },
   "source": [
    "> In this scale, categories are nominated names (hence “nominal”). There is no inherent order between categories. Put simply, one cannot say that a particular category is superior/ better than another."
   ]
  },
  {
   "cell_type": "markdown",
   "metadata": {
    "slideshow": {
     "slide_type": "subslide"
    }
   },
   "source": [
    "**Examples:**  \n",
    "\n",
    "* **Gender (Male/ Female):-** One cannot say that Males are better than Females, or vice-versa.\n",
    "* **Blood Groups (A/B/O/AB):-** One cannot say that group A is superior to group O, for instance.\n",
    "* **Religion (Hindu/ Muslim/ Christian/ Buddhist, etc.):-** Here, too, the categories cannot be arranged in a logical order. Each category can only be considered as equal to the other."
   ]
  },
  {
   "cell_type": "markdown",
   "metadata": {
    "slideshow": {
     "slide_type": "slide"
    }
   },
   "source": [
    "### Ordinal scale:"
   ]
  },
  {
   "cell_type": "markdown",
   "metadata": {
    "slideshow": {
     "slide_type": "fragment"
    }
   },
   "source": [
    "> The various categories can be logically arranged in a meaningful order. However, the difference between the categories is not “meaningful”."
   ]
  },
  {
   "cell_type": "markdown",
   "metadata": {
    "slideshow": {
     "slide_type": "subslide"
    }
   },
   "source": [
    "**Examples:**\n",
    "\n",
    "* **Ranks (1st/ 2nd/ 3rd, etc.):** The ranks can be arranged in either ascending or descending order without difficulty. However, the difference between ranks is not the same-the difference between the 1st rank and 2nd rank may be 20 units, but that between the 2nd and 3rd ranks may be 3 units. In addition, it is not possible to say that the 1st rank is x times better than the 2nd or 3rd rank purely on the basis of the ranks.\n",
    "* **Ranks (Good/ Better/ Best), (No pain/ Mild pain/ Moderate pain/ Severe pain):** Here, too, a meaningful arrangement (ordering) is possible, but the difference between the categories is subjective and not uniform. “Best” is not necessarily thrice as good as “Good”; or twice as good as “Better”."
   ]
  },
  {
   "cell_type": "markdown",
   "metadata": {
    "slideshow": {
     "slide_type": "subslide"
    }
   },
   "source": [
    "* **Likert scale (Strongly Disagree/ Disagree/ Neutral/ Agree/ Strongly Agree) :** The ordering is flexible- the order can easily be reversed without affecting the interpretation- (Strongly Agree/ Agree/ Neutral/ Disagree/ Strongly Disagree). Again, the difference between categories is not uniform."
   ]
  },
  {
   "cell_type": "markdown",
   "metadata": {
    "slideshow": {
     "slide_type": "slide"
    }
   },
   "source": [
    "### Interval scale:"
   ]
  },
  {
   "cell_type": "markdown",
   "metadata": {
    "slideshow": {
     "slide_type": "fragment"
    }
   },
   "source": [
    "> The values (not categories) can be ordered and have a meaningful difference, but doubling is not meaningful. This is because of the absence of an “absolute zero”."
   ]
  },
  {
   "cell_type": "markdown",
   "metadata": {
    "slideshow": {
     "slide_type": "subslide"
    }
   },
   "source": [
    "**Example:** \n",
    "\n",
    "* **The Celsius scale:** The difference between 40 C and 50 C is the same as that between 20 C and 30 C (meaningful difference = equidistant). Besides, 50 C is hotter than 40 C (order). However, 20 C is not half as hot as 40 C and vice versa (doubling is not meaningful).\n",
    "\n",
    "* **Meaningful difference:** In the Celsius scale, the difference between each unit is the same anywhere on the scale- the difference between 49 C and 50 C is the same as the difference between any two consecutive values on the scale ( 1 unit).[Thus, (2-1)= (23-22)= (40-39)=(99-98)= 1]."
   ]
  },
  {
   "cell_type": "markdown",
   "metadata": {
    "slideshow": {
     "slide_type": "slide"
    }
   },
   "source": [
    "### Ratio scale:"
   ]
  },
  {
   "cell_type": "markdown",
   "metadata": {
    "slideshow": {
     "slide_type": "fragment"
    }
   },
   "source": [
    "> The values can be ordered, have a meaningful difference, and doubling is also meaningful. There is an “absolute zero”."
   ]
  },
  {
   "cell_type": "markdown",
   "metadata": {
    "slideshow": {
     "slide_type": "subslide"
    }
   },
   "source": [
    "**Examples:**\n",
    "\n",
    "* **The Kelvin scale:** 100 K is twice as hot as 50 K; the difference between values is meaningful and can be ordered.\n",
    "* **Weight:** 100 kg is twice as heavy as 50 kg; the difference between 45 kg and 55 kg is the same as that between 105 kg and 100 kg; values can be arranged in an order (ascending/ descending).\n",
    "* **Height: 100 cm is taller than 50 cm:** this difference is the same as that between 150 cm and 100 cm, or 200 cm and 150 cm; 100 cm is twice as tall as 50 cm; the values can be arranged in a particular manner (ascending/ descending)."
   ]
  },
  {
   "cell_type": "markdown",
   "metadata": {
    "slideshow": {
     "slide_type": "slide"
    }
   },
   "source": [
    "![Imgur](https://i.imgur.com/a00qGOu.jpg)\n",
    "<sub>Image Credit: <a href=\"https://www.geoib.com/types-of-variables.html\" target=\"_blank\">https://www.geoib.com/types-of-variables.html</a></sub>"
   ]
  },
  {
   "cell_type": "markdown",
   "metadata": {
    "slideshow": {
     "slide_type": "slide"
    }
   },
   "source": [
    "## Measures of Central Tendency"
   ]
  },
  {
   "cell_type": "markdown",
   "metadata": {
    "slideshow": {
     "slide_type": "subslide"
    }
   },
   "source": [
    "**Mean**(Sum of all Observations / No. of Observations)    \n",
    "**median**(mid point which divides data into 2 equal parts)     \n",
    "**mode**(Most often or repeated the maximum number of times)   "
   ]
  },
  {
   "cell_type": "markdown",
   "metadata": {
    "slideshow": {
     "slide_type": "slide"
    }
   },
   "source": [
    "![Imgur](https://i.imgur.com/wDLwYI2.png)\n",
    "<sub>Image Credit: <a href=\"https://www.wikitechy.com/tutorials/r-programming/mean-median-mode\" target=\"_blank\">https://www.wikitechy.com/tutorials/r-programming/mean-median-mode</a></sub>"
   ]
  },
  {
   "cell_type": "markdown",
   "metadata": {
    "slideshow": {
     "slide_type": "subslide"
    }
   },
   "source": [
    "### A R function for finding the mode"
   ]
  },
  {
   "cell_type": "code",
   "execution_count": 2,
   "metadata": {
    "slideshow": {
     "slide_type": "subslide"
    }
   },
   "outputs": [],
   "source": [
    "x<-c(13, 18, 13, 14, 13, 16, 14, 21, 13)"
   ]
  },
  {
   "cell_type": "code",
   "execution_count": 3,
   "metadata": {
    "slideshow": {
     "slide_type": "subslide"
    }
   },
   "outputs": [],
   "source": [
    "Mode <- function(x) {\n",
    "    n<-length(table(x))\n",
    "    mode <- as.integer(names(sort(table(x))))[n]\n",
    "    print(mode)\n",
    "}\n"
   ]
  },
  {
   "cell_type": "code",
   "execution_count": 4,
   "metadata": {},
   "outputs": [
    {
     "data": {
      "text/plain": [
       "x\n",
       "13 14 16 18 21 \n",
       " 4  2  1  1  1 "
      ]
     },
     "metadata": {},
     "output_type": "display_data"
    },
    {
     "data": {
      "text/plain": [
       "x\n",
       "16 18 21 14 13 \n",
       " 1  1  1  2  4 "
      ]
     },
     "metadata": {},
     "output_type": "display_data"
    },
    {
     "data": {
      "text/html": [
       "<ol class=list-inline>\n",
       "\t<li>'16'</li>\n",
       "\t<li>'18'</li>\n",
       "\t<li>'21'</li>\n",
       "\t<li>'14'</li>\n",
       "\t<li>'13'</li>\n",
       "</ol>\n"
      ],
      "text/latex": [
       "\\begin{enumerate*}\n",
       "\\item '16'\n",
       "\\item '18'\n",
       "\\item '21'\n",
       "\\item '14'\n",
       "\\item '13'\n",
       "\\end{enumerate*}\n"
      ],
      "text/markdown": [
       "1. '16'\n",
       "2. '18'\n",
       "3. '21'\n",
       "4. '14'\n",
       "5. '13'\n",
       "\n",
       "\n"
      ],
      "text/plain": [
       "[1] \"16\" \"18\" \"21\" \"14\" \"13\""
      ]
     },
     "metadata": {},
     "output_type": "display_data"
    },
    {
     "data": {
      "text/html": [
       "<ol class=list-inline>\n",
       "\t<li>16</li>\n",
       "\t<li>18</li>\n",
       "\t<li>21</li>\n",
       "\t<li>14</li>\n",
       "\t<li>13</li>\n",
       "</ol>\n"
      ],
      "text/latex": [
       "\\begin{enumerate*}\n",
       "\\item 16\n",
       "\\item 18\n",
       "\\item 21\n",
       "\\item 14\n",
       "\\item 13\n",
       "\\end{enumerate*}\n"
      ],
      "text/markdown": [
       "1. 16\n",
       "2. 18\n",
       "3. 21\n",
       "4. 14\n",
       "5. 13\n",
       "\n",
       "\n"
      ],
      "text/plain": [
       "[1] 16 18 21 14 13"
      ]
     },
     "metadata": {},
     "output_type": "display_data"
    },
    {
     "data": {
      "text/html": [
       "5"
      ],
      "text/latex": [
       "5"
      ],
      "text/markdown": [
       "5"
      ],
      "text/plain": [
       "[1] 5"
      ]
     },
     "metadata": {},
     "output_type": "display_data"
    },
    {
     "data": {
      "text/html": [
       "13"
      ],
      "text/latex": [
       "13"
      ],
      "text/markdown": [
       "13"
      ],
      "text/plain": [
       "[1] 13"
      ]
     },
     "metadata": {},
     "output_type": "display_data"
    }
   ],
   "source": [
    "table(x)\n",
    "sort(table(x))\n",
    "names(sort(table(x)))\n",
    "as.integer(names(sort(table(x))))\n",
    "n <- length(table(x))\n",
    "n\n",
    "as.integer(names(sort(table(x))))[n]"
   ]
  },
  {
   "cell_type": "code",
   "execution_count": 5,
   "metadata": {
    "scrolled": false
   },
   "outputs": [
    {
     "name": "stdout",
     "output_type": "stream",
     "text": [
      "[1] 13\n",
      "[1] 275\n"
     ]
    },
    {
     "data": {
      "text/plain": [
       "\n",
       " 71.1  75.7  78.7    79  95.1   108 120.1 120.3   121 140.8   145 146.7   160 \n",
       "    1     1     1     1     1     1     1     1     1     1     1     1     2 \n",
       "167.6   225   258 275.8   301   304   318   350   351   360   400   440   460 \n",
       "    2     1     1     3     1     1     1     1     1     2     1     1     1 \n",
       "  472 \n",
       "    1 "
      ]
     },
     "metadata": {},
     "output_type": "display_data"
    }
   ],
   "source": [
    "Mode(x)\n",
    "Mode(mtcars$disp)\n",
    "table(mtcars$disp)"
   ]
  },
  {
   "cell_type": "markdown",
   "metadata": {
    "slideshow": {
     "slide_type": "subslide"
    }
   },
   "source": [
    "https://rstudio-pubs-static.s3.amazonaws.com/242140_d3bc74d91e8e47febc2e019762a4d877.html"
   ]
  },
  {
   "cell_type": "markdown",
   "metadata": {
    "slideshow": {
     "slide_type": "slide"
    }
   },
   "source": [
    "## Measures of Variability "
   ]
  },
  {
   "cell_type": "markdown",
   "metadata": {
    "slideshow": {
     "slide_type": "slide"
    }
   },
   "source": [
    "variance  \n",
    "Standard deviation "
   ]
  },
  {
   "cell_type": "markdown",
   "metadata": {
    "slideshow": {
     "slide_type": "subslide"
    }
   },
   "source": [
    "![maxresdefault](https://i.imgur.com/SgAT7Nq.jpg)  "
   ]
  },
  {
   "cell_type": "markdown",
   "metadata": {
    "slideshow": {
     "slide_type": "subslide"
    }
   },
   "source": [
    "![samplevarstd](https://i.imgur.com/932ScZV.gif)"
   ]
  },
  {
   "cell_type": "markdown",
   "metadata": {
    "slideshow": {
     "slide_type": "slide"
    }
   },
   "source": [
    "Range  \n",
    "Quartiles  \n",
    "IQR  "
   ]
  },
  {
   "cell_type": "raw",
   "metadata": {
    "slideshow": {
     "slide_type": "slide"
    }
   },
   "source": [
    "Quartile: It divides the data set into 4 equal parts using Q1 (First Quartile), Q2 (Second Quartile) and Q3 (Third Quartile).  Let’s understand it using an example, assume we have a numerical variable having values from 1 to 100. Here, value for Q1 would be 25 (value at 25th percentile), value for Q2 would be 50 (value at 50th percentile i.e. median) and value for Q3 would be 75 (value at 75th percentile).\n",
    "\n",
    "Quartiles are well understood when used with box plots. Box Plots is a five number summary which represents Minimum, Maximum, Q1, Q2 and Q3. Let’s find out."
   ]
  },
  {
   "cell_type": "markdown",
   "metadata": {
    "slideshow": {
     "slide_type": "subslide"
    }
   },
   "source": [
    "![Imgur](https://i.imgur.com/DdSAvKa.png?1)"
   ]
  },
  {
   "cell_type": "markdown",
   "metadata": {
    "slideshow": {
     "slide_type": "subslide"
    }
   },
   "source": [
    "![Imgur](https://i.imgur.com/pytv7fm.png)\n",
    "<sup><sub><sup><sub>(Image courtesy: https://www.leansigmacorporation.com/box-plot-with-minitab/)</sub></sup></sub></sup>"
   ]
  },
  {
   "cell_type": "markdown",
   "metadata": {
    "slideshow": {
     "slide_type": "slide"
    }
   },
   "source": [
    "## Measures of Shape"
   ]
  },
  {
   "cell_type": "markdown",
   "metadata": {
    "slideshow": {
     "slide_type": "subslide"
    }
   },
   "source": [
    "**Skewness  **  \n",
    "Skewness is a measure of symmetry, or more precisely, the lack of symmetry. A \n",
    "distribution, or data set, is symmetric if it looks the same to the left and right of \n",
    "the center point.   \n",
    "**Kurtosis**    \n",
    "Kurtosis is a parameter that describes the shape of a random variable’s probability \n",
    "distribution."
   ]
  },
  {
   "cell_type": "markdown",
   "metadata": {
    "slideshow": {
     "slide_type": "subslide"
    }
   },
   "source": [
    "![skewness-and-kurtosis](https://i.imgur.com/sEAMT4o.gif)"
   ]
  },
  {
   "cell_type": "markdown",
   "metadata": {
    "slideshow": {
     "slide_type": "subslide"
    }
   },
   "source": [
    "![Imgur](https://i.imgur.com/qG90L8u.png?1)"
   ]
  },
  {
   "cell_type": "markdown",
   "metadata": {
    "slideshow": {
     "slide_type": "subslide"
    }
   },
   "source": [
    "http://personal.cityu.edu.hk/~meachan/Online%20Anthropometry/Chapter5/Ch5-3.htm"
   ]
  },
  {
   "cell_type": "markdown",
   "metadata": {
    "slideshow": {
     "slide_type": "subslide"
    }
   },
   "source": [
    "![Imgur](https://i.imgur.com/gWfEjIO.png)"
   ]
  },
  {
   "cell_type": "markdown",
   "metadata": {
    "slideshow": {
     "slide_type": "slide"
    }
   },
   "source": [
    "**List of packages where skewnes() and kurtosis() functions present** \n",
    "* moments  \n",
    "* DescTools\n",
    "* e1071\n",
    "* fBasics package"
   ]
  },
  {
   "cell_type": "code",
   "execution_count": 14,
   "metadata": {
    "slideshow": {
     "slide_type": "skip"
    }
   },
   "outputs": [
    {
     "name": "stderr",
     "output_type": "stream",
     "text": [
      "Installing package into ‘/home/nbuser/R’\n",
      "(as ‘lib’ is unspecified)\n",
      "Warning message in install.packages(\"DescTools\"):\n",
      "“installation of package ‘DescTools’ had non-zero exit status”Installing package into ‘/home/nbuser/R’\n",
      "(as ‘lib’ is unspecified)\n",
      "Installing package into ‘/home/nbuser/R’\n",
      "(as ‘lib’ is unspecified)\n"
     ]
    }
   ],
   "source": [
    "# install.packages(\"moments\")\n",
    "# install.packages(\"DescTools\")\n",
    "# install.packages(\"e1071\")\n",
    "# install.packages(\"fBasics\")"
   ]
  },
  {
   "cell_type": "code",
   "execution_count": 15,
   "metadata": {
    "run_control": {
     "frozen": false,
     "read_only": false
    },
    "scrolled": true,
    "slideshow": {
     "slide_type": "slide"
    }
   },
   "outputs": [
    {
     "data": {
      "text/html": [
       "-0.0156516191272306"
      ],
      "text/latex": [
       "-0.0156516191272306"
      ],
      "text/markdown": [
       "-0.0156516191272306"
      ],
      "text/plain": [
       "[1] -0.01565162"
      ]
     },
     "metadata": {},
     "output_type": "display_data"
    },
    {
     "data": {
      "text/html": [
       "2.30105132553941"
      ],
      "text/latex": [
       "2.30105132553941"
      ],
      "text/markdown": [
       "2.30105132553941"
      ],
      "text/plain": [
       "[1] 2.301051"
      ]
     },
     "metadata": {},
     "output_type": "display_data"
    }
   ],
   "source": [
    "time <- c(19.09, 19.55, 17.89, 17.73, 25.15, 27.27, 25.24, 21.05, 21.65, 20.92, 22.61, \n",
    "    15.71, 22.04, 22.6, 24.25)\n",
    "\n",
    "library(moments)\n",
    "# library(e1071)\n",
    "skewness(time)\n",
    "\n",
    "# [1] -0.01565162\n",
    "\n",
    "kurtosis(time)\n",
    "\n",
    "# [1] 2.301051"
   ]
  },
  {
   "cell_type": "markdown",
   "metadata": {
    "slideshow": {
     "slide_type": "slide"
    }
   },
   "source": [
    "## Working with Titanic dataset"
   ]
  },
  {
   "cell_type": "code",
   "execution_count": 16,
   "metadata": {
    "run_control": {
     "frozen": false,
     "read_only": false
    },
    "slideshow": {
     "slide_type": "subslide"
    }
   },
   "outputs": [
    {
     "data": {
      "text/html": [
       "<table>\n",
       "<thead><tr><th scope=col>PassengerId</th><th scope=col>Survived</th><th scope=col>Pclass</th><th scope=col>Name</th><th scope=col>Sex</th><th scope=col>Age</th><th scope=col>SibSp</th><th scope=col>Parch</th><th scope=col>Ticket</th><th scope=col>Fare</th><th scope=col>Cabin</th><th scope=col>Embarked</th></tr></thead>\n",
       "<tbody>\n",
       "\t<tr><td>1                                                  </td><td>0                                                  </td><td>3                                                  </td><td>Braund, Mr. Owen Harris                            </td><td>male                                               </td><td>22                                                 </td><td>1                                                  </td><td>0                                                  </td><td>A/5 21171                                          </td><td> 7.2500                                            </td><td>                                                   </td><td>S                                                  </td></tr>\n",
       "\t<tr><td>2                                                  </td><td>1                                                  </td><td>1                                                  </td><td>Cumings, Mrs. John Bradley (Florence Briggs Thayer)</td><td>female                                             </td><td>38                                                 </td><td>1                                                  </td><td>0                                                  </td><td>PC 17599                                           </td><td>71.2833                                            </td><td>C85                                                </td><td>C                                                  </td></tr>\n",
       "\t<tr><td>3                                                  </td><td>1                                                  </td><td>3                                                  </td><td>Heikkinen, Miss. Laina                             </td><td>female                                             </td><td>26                                                 </td><td>0                                                  </td><td>0                                                  </td><td>STON/O2. 3101282                                   </td><td> 7.9250                                            </td><td>                                                   </td><td>S                                                  </td></tr>\n",
       "\t<tr><td>4                                                  </td><td>1                                                  </td><td>1                                                  </td><td>Futrelle, Mrs. Jacques Heath (Lily May Peel)       </td><td>female                                             </td><td>35                                                 </td><td>1                                                  </td><td>0                                                  </td><td>113803                                             </td><td>53.1000                                            </td><td>C123                                               </td><td>S                                                  </td></tr>\n",
       "\t<tr><td>5                                                  </td><td>0                                                  </td><td>3                                                  </td><td>Allen, Mr. William Henry                           </td><td>male                                               </td><td>35                                                 </td><td>0                                                  </td><td>0                                                  </td><td>373450                                             </td><td> 8.0500                                            </td><td>                                                   </td><td>S                                                  </td></tr>\n",
       "\t<tr><td>6                                                  </td><td>0                                                  </td><td>3                                                  </td><td>Moran, Mr. James                                   </td><td>male                                               </td><td>NA                                                 </td><td>0                                                  </td><td>0                                                  </td><td>330877                                             </td><td> 8.4583                                            </td><td>                                                   </td><td>Q                                                  </td></tr>\n",
       "</tbody>\n",
       "</table>\n"
      ],
      "text/latex": [
       "\\begin{tabular}{r|llllllllllll}\n",
       " PassengerId & Survived & Pclass & Name & Sex & Age & SibSp & Parch & Ticket & Fare & Cabin & Embarked\\\\\n",
       "\\hline\n",
       "\t 1                                                   & 0                                                   & 3                                                   & Braund, Mr. Owen Harris                             & male                                                & 22                                                  & 1                                                   & 0                                                   & A/5 21171                                           &  7.2500                                             &                                                     & S                                                  \\\\\n",
       "\t 2                                                   & 1                                                   & 1                                                   & Cumings, Mrs. John Bradley (Florence Briggs Thayer) & female                                              & 38                                                  & 1                                                   & 0                                                   & PC 17599                                            & 71.2833                                             & C85                                                 & C                                                  \\\\\n",
       "\t 3                                                   & 1                                                   & 3                                                   & Heikkinen, Miss. Laina                              & female                                              & 26                                                  & 0                                                   & 0                                                   & STON/O2. 3101282                                    &  7.9250                                             &                                                     & S                                                  \\\\\n",
       "\t 4                                                   & 1                                                   & 1                                                   & Futrelle, Mrs. Jacques Heath (Lily May Peel)        & female                                              & 35                                                  & 1                                                   & 0                                                   & 113803                                              & 53.1000                                             & C123                                                & S                                                  \\\\\n",
       "\t 5                                                   & 0                                                   & 3                                                   & Allen, Mr. William Henry                            & male                                                & 35                                                  & 0                                                   & 0                                                   & 373450                                              &  8.0500                                             &                                                     & S                                                  \\\\\n",
       "\t 6                                                   & 0                                                   & 3                                                   & Moran, Mr. James                                    & male                                                & NA                                                  & 0                                                   & 0                                                   & 330877                                              &  8.4583                                             &                                                     & Q                                                  \\\\\n",
       "\\end{tabular}\n"
      ],
      "text/markdown": [
       "\n",
       "PassengerId | Survived | Pclass | Name | Sex | Age | SibSp | Parch | Ticket | Fare | Cabin | Embarked | \n",
       "|---|---|---|---|---|---|\n",
       "| 1                                                   | 0                                                   | 3                                                   | Braund, Mr. Owen Harris                             | male                                                | 22                                                  | 1                                                   | 0                                                   | A/5 21171                                           |  7.2500                                             |                                                     | S                                                   | \n",
       "| 2                                                   | 1                                                   | 1                                                   | Cumings, Mrs. John Bradley (Florence Briggs Thayer) | female                                              | 38                                                  | 1                                                   | 0                                                   | PC 17599                                            | 71.2833                                             | C85                                                 | C                                                   | \n",
       "| 3                                                   | 1                                                   | 3                                                   | Heikkinen, Miss. Laina                              | female                                              | 26                                                  | 0                                                   | 0                                                   | STON/O2. 3101282                                    |  7.9250                                             |                                                     | S                                                   | \n",
       "| 4                                                   | 1                                                   | 1                                                   | Futrelle, Mrs. Jacques Heath (Lily May Peel)        | female                                              | 35                                                  | 1                                                   | 0                                                   | 113803                                              | 53.1000                                             | C123                                                | S                                                   | \n",
       "| 5                                                   | 0                                                   | 3                                                   | Allen, Mr. William Henry                            | male                                                | 35                                                  | 0                                                   | 0                                                   | 373450                                              |  8.0500                                             |                                                     | S                                                   | \n",
       "| 6                                                   | 0                                                   | 3                                                   | Moran, Mr. James                                    | male                                                | NA                                                  | 0                                                   | 0                                                   | 330877                                              |  8.4583                                             |                                                     | Q                                                   | \n",
       "\n",
       "\n"
      ],
      "text/plain": [
       "  PassengerId Survived Pclass\n",
       "1 1           0        3     \n",
       "2 2           1        1     \n",
       "3 3           1        3     \n",
       "4 4           1        1     \n",
       "5 5           0        3     \n",
       "6 6           0        3     \n",
       "  Name                                                Sex    Age SibSp Parch\n",
       "1 Braund, Mr. Owen Harris                             male   22  1     0    \n",
       "2 Cumings, Mrs. John Bradley (Florence Briggs Thayer) female 38  1     0    \n",
       "3 Heikkinen, Miss. Laina                              female 26  0     0    \n",
       "4 Futrelle, Mrs. Jacques Heath (Lily May Peel)        female 35  1     0    \n",
       "5 Allen, Mr. William Henry                            male   35  0     0    \n",
       "6 Moran, Mr. James                                    male   NA  0     0    \n",
       "  Ticket           Fare    Cabin Embarked\n",
       "1 A/5 21171         7.2500       S       \n",
       "2 PC 17599         71.2833 C85   C       \n",
       "3 STON/O2. 3101282  7.9250       S       \n",
       "4 113803           53.1000 C123  S       \n",
       "5 373450            8.0500       S       \n",
       "6 330877            8.4583       Q       "
      ]
     },
     "metadata": {},
     "output_type": "display_data"
    }
   ],
   "source": [
    "train <- read.csv(\"data/train1.csv\", stringsAsFactors = FALSE, header = T)\n",
    "head(train)"
   ]
  },
  {
   "cell_type": "code",
   "execution_count": 17,
   "metadata": {
    "run_control": {
     "frozen": false,
     "read_only": false
    },
    "scrolled": true,
    "slideshow": {
     "slide_type": "subslide"
    }
   },
   "outputs": [
    {
     "data": {
      "text/html": [
       "32.2042079685746"
      ],
      "text/latex": [
       "32.2042079685746"
      ],
      "text/markdown": [
       "32.2042079685746"
      ],
      "text/plain": [
       "[1] 32.20421"
      ]
     },
     "metadata": {},
     "output_type": "display_data"
    },
    {
     "ename": "ERROR",
     "evalue": "Error in library(DescTools): there is no package called ‘DescTools’\n",
     "output_type": "error",
     "traceback": [
      "Error in library(DescTools): there is no package called ‘DescTools’\nTraceback:\n",
      "1. library(DescTools)",
      "2. stop(txt, domain = NA)"
     ]
    }
   ],
   "source": [
    "# find the average(mean) Fare\n",
    "mean(train$Fare)\n",
    "# On an average, passengers have paid $32 to board the titanic.\n",
    "library(DescTools)\n",
    "Mode(train$Age)\n",
    "table(train$Age)\n",
    "# Most common age among passengers on Titanic was 24 years. As you can see, there\n",
    "# were 30 passengers on board who are 24 years old (highest among all). find out\n",
    "# the median\n",
    "median(train$Fare)\n",
    "# The mid value of Fare variable is $14.45. This means $14.45 divides the data\n",
    "# into two halves."
   ]
  },
  {
   "cell_type": "code",
   "execution_count": 18,
   "metadata": {
    "run_control": {
     "frozen": false,
     "read_only": false
    },
    "slideshow": {
     "slide_type": "subslide"
    }
   },
   "outputs": [
    {
     "data": {
      "text/html": [
       "2469.43684574312"
      ],
      "text/latex": [
       "2469.43684574312"
      ],
      "text/markdown": [
       "2469.43684574312"
      ],
      "text/plain": [
       "[1] 2469.437"
      ]
     },
     "metadata": {},
     "output_type": "display_data"
    },
    {
     "data": {
      "text/html": [
       "49.6934285971809"
      ],
      "text/latex": [
       "49.6934285971809"
      ],
      "text/markdown": [
       "49.6934285971809"
      ],
      "text/plain": [
       "[1] 49.69343"
      ]
     },
     "metadata": {},
     "output_type": "display_data"
    },
    {
     "data": {
      "text/html": [
       "49.6934285971809"
      ],
      "text/latex": [
       "49.6934285971809"
      ],
      "text/markdown": [
       "49.6934285971809"
      ],
      "text/plain": [
       "[1] 49.69343"
      ]
     },
     "metadata": {},
     "output_type": "display_data"
    },
    {
     "data": {
      "text/html": [
       "<ol class=list-inline>\n",
       "\t<li>0</li>\n",
       "\t<li>512.3292</li>\n",
       "</ol>\n"
      ],
      "text/latex": [
       "\\begin{enumerate*}\n",
       "\\item 0\n",
       "\\item 512.3292\n",
       "\\end{enumerate*}\n"
      ],
      "text/markdown": [
       "1. 0\n",
       "2. 512.3292\n",
       "\n",
       "\n"
      ],
      "text/plain": [
       "[1]   0.0000 512.3292"
      ]
     },
     "metadata": {},
     "output_type": "display_data"
    }
   ],
   "source": [
    "# variance of fare\n",
    "var(train$Fare)\n",
    "# the average of squared difference from mean.  Standard Deviation of Fare\n",
    "sqrt(var(train$Fare))\n",
    "sd(train$Fare)\n",
    "# calculate range\n",
    "range(train$Fare)\n",
    "# It shows the lowest value and the highest value in a set of observation.\n"
   ]
  },
  {
   "cell_type": "code",
   "execution_count": 19,
   "metadata": {
    "run_control": {
     "frozen": false,
     "read_only": false
    },
    "slideshow": {
     "slide_type": "subslide"
    }
   },
   "outputs": [
    {
     "data": {
      "image/jpeg": "[encoded data removed]",
      "image/png": "",
      "image/svg+xml": [
       "<?xml version=\"1.0\" encoding=\"UTF-8\"?>\n",
       "<svg xmlns=\"http://www.w3.org/2000/svg\" xmlns:xlink=\"http://www.w3.org/1999/xlink\" width=\"288pt\" height=\"216pt\" viewBox=\"0 0 288 216\" version=\"1.1\">\n",
       "<defs>\n",
       "<g>\n",
       "<symbol overflow=\"visible\" id=\"glyph0-0\">\n",
       "<path style=\"stroke:none;\" d=\"\"/>\n",
       "</symbol>\n",
       "<symbol overflow=\"visible\" id=\"glyph0-1\">\n",
       "<path style=\"stroke:none;\" d=\"M 4.46875 -0.125 L 4.46875 -9.125 L 3.515625 -9.125 C 3.09375 -7.625 2.96875 -7.578125 1.140625 -7.34375 L 1.140625 -6.3125 L 3.09375 -6.3125 L 3.09375 0 L 4.46875 0 Z M 4.46875 -0.125 \"/>\n",
       "</symbol>\n",
       "<symbol overflow=\"visible\" id=\"glyph0-2\">\n",
       "<path style=\"stroke:none;\" d=\"M 6.515625 -6.390625 C 6.515625 -7.890625 5.21875 -9.125 3.546875 -9.125 C 1.734375 -9.125 0.546875 -8.0625 0.484375 -5.78125 L 1.84375 -5.78125 C 1.9375 -7.40625 2.421875 -7.90625 3.515625 -7.90625 C 4.515625 -7.90625 5.125 -7.3125 5.125 -6.359375 C 5.125 -5.65625 4.75 -5.15625 3.96875 -4.703125 L 2.8125 -4.046875 C 0.96875 -3 0.390625 -2.078125 0.28125 0 L 6.453125 0 L 6.453125 -1.34375 L 1.8125 -1.34375 C 1.90625 -1.9375 2.265625 -2.3125 3.34375 -2.953125 L 4.59375 -3.625 C 5.84375 -4.28125 6.515625 -5.296875 6.515625 -6.390625 Z M 6.515625 -6.390625 \"/>\n",
       "</symbol>\n",
       "<symbol overflow=\"visible\" id=\"glyph0-3\">\n",
       "<path style=\"stroke:none;\" d=\"M 6.453125 -2.703125 C 6.453125 -3.78125 5.890625 -4.53125 4.828125 -4.90625 L 4.828125 -4.640625 C 5.65625 -4.96875 6.1875 -5.65625 6.1875 -6.546875 C 6.1875 -8.078125 5.046875 -9.125 3.359375 -9.125 C 1.578125 -9.125 0.484375 -8.015625 0.453125 -6 L 1.8125 -6 C 1.84375 -7.4375 2.25 -7.90625 3.375 -7.90625 C 4.34375 -7.90625 4.796875 -7.453125 4.796875 -6.515625 C 4.796875 -5.5625 4.53125 -5.3125 2.625 -5.3125 L 2.625 -4.125 L 3.359375 -4.125 C 4.578125 -4.125 5.0625 -3.671875 5.0625 -2.6875 C 5.0625 -1.578125 4.515625 -1.046875 3.359375 -1.046875 C 2.15625 -1.046875 1.703125 -1.515625 1.609375 -2.9375 L 0.25 -2.9375 C 0.40625 -0.828125 1.515625 0.1875 3.328125 0.1875 C 5.15625 0.1875 6.453125 -1.03125 6.453125 -2.703125 Z M 6.453125 -2.703125 \"/>\n",
       "</symbol>\n",
       "<symbol overflow=\"visible\" id=\"glyph0-4\">\n",
       "<path style=\"stroke:none;\" d=\"M 8.46875 -3.59375 L 7.15625 -3.59375 C 6.84375 -1.71875 6.265625 -1.0625 4.71875 -1.0625 C 2.90625 -1.0625 1.890625 -2.3125 1.890625 -4.59375 C 1.890625 -6.921875 2.859375 -8.3125 4.625 -8.3125 C 6.046875 -8.3125 6.65625 -7.796875 6.96875 -6.28125 L 8.421875 -6.28125 C 8.03125 -8.40625 6.765625 -9.59375 4.765625 -9.59375 C 2 -9.59375 0.46875 -7.234375 0.46875 -4.578125 C 0.46875 -1.90625 2.03125 0.21875 4.71875 0.21875 C 6.9375 0.21875 8.3125 -1.078125 8.59375 -3.59375 Z M 8.46875 -3.59375 \"/>\n",
       "</symbol>\n",
       "<symbol overflow=\"visible\" id=\"glyph0-5\">\n",
       "<path style=\"stroke:none;\" d=\"M 2.015625 -0.125 L 2.015625 -9.375 L 0.71875 -9.375 L 0.71875 0 L 2.015625 0 Z M 2.015625 -0.125 \"/>\n",
       "</symbol>\n",
       "<symbol overflow=\"visible\" id=\"glyph0-6\">\n",
       "<path style=\"stroke:none;\" d=\"M 6.8125 -0.15625 L 6.8125 -1.09375 C 6.578125 -1.046875 6.53125 -1.046875 6.46875 -1.046875 C 6.09375 -1.046875 6.03125 -1.09375 6.03125 -1.421875 L 6.03125 -5.078125 C 6.03125 -6.234375 5.046875 -7 3.4375 -7 C 1.84375 -7 0.734375 -6.25 0.65625 -4.609375 L 1.96875 -4.609375 C 2.078125 -5.53125 2.421875 -5.78125 3.40625 -5.78125 C 4.34375 -5.78125 4.71875 -5.546875 4.71875 -4.921875 L 4.71875 -4.65625 C 4.71875 -4.21875 4.59375 -4.15625 3.78125 -4.0625 C 2.296875 -3.875 2.078125 -3.828125 1.671875 -3.65625 C 0.90625 -3.34375 0.390625 -2.625 0.390625 -1.828125 C 0.390625 -0.640625 1.34375 0.1875 2.671875 0.1875 C 3.515625 0.1875 4.40625 -0.203125 4.828125 -0.640625 C 4.875 -0.40625 5.46875 0.09375 5.96875 0.09375 C 6.1875 0.09375 6.34375 0.0625 6.8125 -0.046875 Z M 4.71875 -2.390625 C 4.71875 -1.453125 3.90625 -0.984375 2.90625 -0.984375 C 2.09375 -0.984375 1.734375 -1.140625 1.734375 -1.84375 C 1.734375 -2.53125 2.078125 -2.71875 3.1875 -2.875 C 4.28125 -3.03125 4.515625 -3.078125 4.71875 -3.171875 Z M 4.71875 -2.390625 \"/>\n",
       "</symbol>\n",
       "<symbol overflow=\"visible\" id=\"glyph0-7\">\n",
       "<path style=\"stroke:none;\" d=\"M 5.859375 -1.96875 C 5.859375 -2.9375 5.1875 -3.5625 3.890625 -3.875 L 2.890625 -4.109375 C 2.03125 -4.3125 1.796875 -4.453125 1.796875 -4.90625 C 1.796875 -5.515625 2.21875 -5.78125 3.0625 -5.78125 C 3.90625 -5.78125 4.21875 -5.53125 4.234375 -4.71875 L 5.59375 -4.71875 C 5.59375 -6.140625 4.609375 -7 3.09375 -7 C 1.578125 -7 0.453125 -6.078125 0.453125 -4.859375 C 0.453125 -3.84375 1.109375 -3.21875 2.65625 -2.84375 L 3.640625 -2.609375 C 4.359375 -2.4375 4.515625 -2.34375 4.515625 -1.875 C 4.515625 -1.265625 4.03125 -1.03125 3.125 -1.03125 C 2.1875 -1.03125 1.78125 -1.125 1.640625 -2.265625 L 0.28125 -2.265625 C 0.34375 -0.609375 1.328125 0.1875 3.03125 0.1875 C 4.6875 0.1875 5.859375 -0.703125 5.859375 -1.96875 Z M 5.859375 -1.96875 \"/>\n",
       "</symbol>\n",
       "<symbol overflow=\"visible\" id=\"glyph1-0\">\n",
       "<path style=\"stroke:none;\" d=\"\"/>\n",
       "</symbol>\n",
       "<symbol overflow=\"visible\" id=\"glyph1-1\">\n",
       "<path style=\"stroke:none;\" d=\"M -4.390625 -6.46875 C -7.46875 -6.46875 -9.125 -5.359375 -9.125 -3.4375 C -9.125 -1.53125 -7.4375 -0.40625 -4.46875 -0.40625 C -1.46875 -0.40625 0.1875 -1.53125 0.1875 -3.4375 C 0.1875 -5.3125 -1.46875 -6.46875 -4.390625 -6.46875 Z M -4.484375 -5.078125 C -1.96875 -5.078125 -0.984375 -4.640625 -0.984375 -3.40625 C -0.984375 -2.25 -2.03125 -1.78125 -4.453125 -1.78125 C -6.875 -1.78125 -7.890625 -2.25 -7.890625 -3.4375 C -7.890625 -4.625 -6.859375 -5.078125 -4.484375 -5.078125 Z M -4.484375 -5.078125 \"/>\n",
       "</symbol>\n",
       "<symbol overflow=\"visible\" id=\"glyph1-2\">\n",
       "<path style=\"stroke:none;\" d=\"M -2.25 -6.625 L -3.375 -6.625 L -3.375 -5.3125 L -9.125 -5.3125 L -9.125 -4.296875 L -3.453125 -0.21875 L -2.125 -0.21875 L -2.125 -3.953125 L 0 -3.953125 L 0 -5.3125 L -2.125 -5.3125 L -2.125 -6.625 Z M -3.375 -4.09375 L -3.375 -1.5625 L -7.03125 -4.171875 L -7.109375 -3.953125 L -3.375 -3.953125 Z M -3.375 -4.09375 \"/>\n",
       "</symbol>\n",
       "<symbol overflow=\"visible\" id=\"glyph1-3\">\n",
       "<path style=\"stroke:none;\" d=\"M -2.625 -6.53125 C -3.609375 -6.53125 -4.4375 -5.90625 -4.796875 -5.140625 C -5.25 -5.890625 -5.78125 -6.21875 -6.625 -6.21875 C -8.015625 -6.21875 -9.125 -5.015625 -9.125 -3.4375 C -9.125 -1.875 -8.015625 -0.640625 -6.625 -0.640625 C -5.796875 -0.640625 -5.265625 -0.96875 -4.796875 -1.71875 C -4.4375 -0.96875 -3.609375 -0.328125 -2.640625 -0.328125 C -1.015625 -0.328125 0.1875 -1.6875 0.1875 -3.4375 C 0.1875 -5.1875 -1.015625 -6.53125 -2.625 -6.53125 Z M -6.59375 -4.84375 C -5.78125 -4.84375 -5.359375 -4.359375 -5.359375 -3.4375 C -5.359375 -2.515625 -5.78125 -2.03125 -6.609375 -2.03125 C -7.46875 -2.03125 -7.890625 -2.515625 -7.890625 -3.4375 C -7.890625 -4.375 -7.46875 -4.84375 -6.59375 -4.84375 Z M -2.609375 -5.15625 C -1.5625 -5.15625 -1.046875 -4.53125 -1.046875 -3.40625 C -1.046875 -2.34375 -1.578125 -1.71875 -2.609375 -1.71875 C -3.65625 -1.71875 -4.171875 -2.34375 -4.171875 -3.4375 C -4.171875 -4.53125 -3.65625 -5.15625 -2.609375 -5.15625 Z M -2.609375 -5.15625 \"/>\n",
       "</symbol>\n",
       "<symbol overflow=\"visible\" id=\"glyph1-4\">\n",
       "<path style=\"stroke:none;\" d=\"M -0.125 -8.28125 L -9.375 -5.03125 L -9.375 -3.375 L 0 -0.03125 L 0 -1.53125 L -2.734375 -2.484375 L -2.734375 -5.84375 L 0 -6.78125 L 0 -8.34375 Z M -3.96875 -5.59375 L -3.96875 -2.875 L -7.984375 -4.328125 L -7.984375 -4.0625 L -3.96875 -5.40625 Z M -3.96875 -5.59375 \"/>\n",
       "</symbol>\n",
       "<symbol overflow=\"visible\" id=\"glyph1-5\">\n",
       "<path style=\"stroke:none;\" d=\"M -1.203125 -6.234375 L -6.8125 -6.234375 L -6.8125 -5.015625 L -5.71875 -5.015625 L -5.8125 -5.234375 C -6.59375 -4.71875 -7 -3.984375 -7 -3.15625 C -7 -1.484375 -5.46875 -0.21875 -3.34375 -0.21875 C -1.28125 -0.21875 0.1875 -1.53125 0.1875 -3.0625 C 0.1875 -3.890625 -0.203125 -4.546875 -1.03125 -5.234375 L -1.109375 -5.015625 L -0.671875 -5.015625 C 1.0625 -5.015625 1.59375 -4.4375 1.59375 -3.21875 C 1.59375 -2.40625 1.421875 -1.890625 0.484375 -1.734375 L 0.484375 -0.421875 C 1.859375 -0.546875 2.71875 -1.65625 2.71875 -3.1875 C 2.71875 -5.234375 1.6875 -6.234375 -1.203125 -6.234375 Z M -3.359375 -4.90625 C -1.796875 -4.90625 -1.03125 -4.375 -1.03125 -3.28125 C -1.03125 -2.140625 -1.8125 -1.578125 -3.40625 -1.578125 C -4.96875 -1.578125 -5.78125 -2.15625 -5.78125 -3.265625 C -5.78125 -4.390625 -4.953125 -4.90625 -3.359375 -4.90625 Z M -3.359375 -4.90625 \"/>\n",
       "</symbol>\n",
       "<symbol overflow=\"visible\" id=\"glyph1-6\">\n",
       "<path style=\"stroke:none;\" d=\"M -3.09375 -6.53125 C -4.046875 -6.53125 -4.65625 -6.46875 -5.140625 -6.28125 C -6.21875 -5.84375 -7 -4.71875 -7 -3.5 C -7 -1.671875 -5.515625 -0.359375 -3.359375 -0.359375 C -1.21875 -0.359375 0.1875 -1.640625 0.1875 -3.46875 C 0.1875 -4.96875 -0.78125 -6.140625 -2.25 -6.421875 L -2.25 -5.125 C -1.25 -4.796875 -1.03125 -4.34375 -1.03125 -3.515625 C -1.03125 -2.421875 -1.59375 -1.734375 -2.96875 -1.71875 L -2.96875 -6.53125 Z M -3.9375 -5.390625 C -3.9375 -5.390625 -4.0625 -5.203125 -4.09375 -5.21875 L -4.09375 -1.75 C -5.109375 -1.828125 -5.78125 -2.4375 -5.78125 -3.484375 C -5.78125 -4.515625 -5.046875 -5.15625 -4.03125 -5.15625 Z M -3.9375 -5.390625 \"/>\n",
       "</symbol>\n",
       "</g>\n",
       "</defs>\n",
       "<g id=\"surface94\">\n",
       "<rect x=\"0\" y=\"0\" width=\"288\" height=\"216\" style=\"fill:rgb(100%,100%,100%);fill-opacity:1;stroke:none;\"/>\n",
       "<path style=\" stroke:none;fill-rule:nonzero;fill:rgb(100%,0%,0%);fill-opacity:1;\" d=\"M 72.535156 113.636719 L 121.601562 113.636719 L 121.601562 92.257812 L 72.535156 92.257812 Z M 72.535156 113.636719 \"/>\n",
       "<path style=\"fill:none;stroke-width:3;stroke-linecap:butt;stroke-linejoin:round;stroke:rgb(0%,0%,0%);stroke-opacity:1;stroke-miterlimit:10;\" d=\"M 72.535156 103.917969 L 121.601562 103.917969 \"/>\n",
       "<path style=\"fill:none;stroke-width:1;stroke-linecap:round;stroke-linejoin:round;stroke:rgb(0%,0%,0%);stroke-opacity:1;stroke-dasharray:4,4;stroke-miterlimit:10;\" d=\"M 97.066406 138.980469 L 97.066406 113.636719 \"/>\n",
       "<path style=\"fill:none;stroke-width:1;stroke-linecap:round;stroke-linejoin:round;stroke:rgb(0%,0%,0%);stroke-opacity:1;stroke-dasharray:4,4;stroke-miterlimit:10;\" d=\"M 97.066406 62.132812 L 97.066406 92.257812 \"/>\n",
       "<path style=\"fill:none;stroke-width:1;stroke-linecap:round;stroke-linejoin:round;stroke:rgb(0%,0%,0%);stroke-opacity:1;stroke-miterlimit:10;\" d=\"M 84.800781 138.980469 L 109.332031 138.980469 \"/>\n",
       "<path style=\"fill:none;stroke-width:1;stroke-linecap:round;stroke-linejoin:round;stroke:rgb(0%,0%,0%);stroke-opacity:1;stroke-miterlimit:10;\" d=\"M 84.800781 62.132812 L 109.332031 62.132812 \"/>\n",
       "<path style=\"fill:none;stroke-width:1;stroke-linecap:round;stroke-linejoin:round;stroke:rgb(0%,0%,0%);stroke-opacity:1;stroke-miterlimit:10;\" d=\"M 72.535156 113.636719 L 121.601562 113.636719 L 121.601562 92.257812 L 72.535156 92.257812 L 72.535156 113.636719 \"/>\n",
       "<path style=\" stroke:none;fill-rule:nonzero;fill:rgb(100%,0%,0%);fill-opacity:1;\" d=\"M 133.867188 117.523438 L 182.933594 117.523438 L 182.933594 104.890625 L 133.867188 104.890625 Z M 133.867188 117.523438 \"/>\n",
       "<path style=\"fill:none;stroke-width:3;stroke-linecap:butt;stroke-linejoin:round;stroke:rgb(0%,0%,0%);stroke-opacity:1;stroke-miterlimit:10;\" d=\"M 133.867188 111.695312 L 182.933594 111.695312 \"/>\n",
       "<path style=\"fill:none;stroke-width:1;stroke-linecap:round;stroke-linejoin:round;stroke:rgb(0%,0%,0%);stroke-opacity:1;stroke-dasharray:4,4;stroke-miterlimit:10;\" d=\"M 158.398438 135.988281 L 158.398438 117.523438 \"/>\n",
       "<path style=\"fill:none;stroke-width:1;stroke-linecap:round;stroke-linejoin:round;stroke:rgb(0%,0%,0%);stroke-opacity:1;stroke-dasharray:4,4;stroke-miterlimit:10;\" d=\"M 158.398438 86.425781 L 158.398438 104.890625 \"/>\n",
       "<path style=\"fill:none;stroke-width:1;stroke-linecap:round;stroke-linejoin:round;stroke:rgb(0%,0%,0%);stroke-opacity:1;stroke-miterlimit:10;\" d=\"M 146.132812 135.988281 L 170.667969 135.988281 \"/>\n",
       "<path style=\"fill:none;stroke-width:1;stroke-linecap:round;stroke-linejoin:round;stroke:rgb(0%,0%,0%);stroke-opacity:1;stroke-miterlimit:10;\" d=\"M 146.132812 86.425781 L 170.667969 86.425781 \"/>\n",
       "<path style=\"fill:none;stroke-width:1;stroke-linecap:round;stroke-linejoin:round;stroke:rgb(0%,0%,0%);stroke-opacity:1;stroke-miterlimit:10;\" d=\"M 133.867188 117.523438 L 182.933594 117.523438 L 182.933594 104.890625 L 133.867188 104.890625 L 133.867188 117.523438 \"/>\n",
       "<path style=\"fill:none;stroke-width:1;stroke-linecap:round;stroke-linejoin:round;stroke:rgb(0%,0%,0%);stroke-opacity:1;stroke-miterlimit:10;\" d=\"M 161.601562 75.738281 C 161.601562 80.003906 155.199219 80.003906 155.199219 75.738281 C 155.199219 71.472656 161.601562 71.472656 161.601562 75.738281 \"/>\n",
       "<path style=\"fill:none;stroke-width:1;stroke-linecap:round;stroke-linejoin:round;stroke:rgb(0%,0%,0%);stroke-opacity:1;stroke-miterlimit:10;\" d=\"M 161.601562 136.960938 C 161.601562 141.226562 155.199219 141.226562 155.199219 136.960938 C 155.199219 132.691406 161.601562 132.691406 161.601562 136.960938 \"/>\n",
       "<path style=\"fill:none;stroke-width:1;stroke-linecap:round;stroke-linejoin:round;stroke:rgb(0%,0%,0%);stroke-opacity:1;stroke-miterlimit:10;\" d=\"M 161.601562 139.066406 C 161.601562 143.335938 155.199219 143.335938 155.199219 139.066406 C 155.199219 134.800781 161.601562 134.800781 161.601562 139.066406 \"/>\n",
       "<path style=\"fill:none;stroke-width:1;stroke-linecap:round;stroke-linejoin:round;stroke:rgb(0%,0%,0%);stroke-opacity:1;stroke-miterlimit:10;\" d=\"M 161.601562 138.902344 C 161.601562 143.167969 155.199219 143.167969 155.199219 138.902344 C 155.199219 134.636719 161.601562 134.636719 161.601562 138.902344 \"/>\n",
       "<path style=\"fill:none;stroke-width:1;stroke-linecap:round;stroke-linejoin:round;stroke:rgb(0%,0%,0%);stroke-opacity:1;stroke-miterlimit:10;\" d=\"M 161.601562 136.960938 C 161.601562 141.226562 155.199219 141.226562 155.199219 136.960938 C 155.199219 132.691406 161.601562 132.691406 161.601562 136.960938 \"/>\n",
       "<path style=\"fill:none;stroke-width:1;stroke-linecap:round;stroke-linejoin:round;stroke:rgb(0%,0%,0%);stroke-opacity:1;stroke-miterlimit:10;\" d=\"M 161.601562 82.539062 C 161.601562 86.808594 155.199219 86.808594 155.199219 82.539062 C 155.199219 78.273438 161.601562 78.273438 161.601562 82.539062 \"/>\n",
       "<path style=\"fill:none;stroke-width:1;stroke-linecap:round;stroke-linejoin:round;stroke:rgb(0%,0%,0%);stroke-opacity:1;stroke-miterlimit:10;\" d=\"M 161.601562 137.929688 C 161.601562 142.199219 155.199219 142.199219 155.199219 137.929688 C 155.199219 133.664062 161.601562 133.664062 161.601562 137.929688 \"/>\n",
       "<path style=\"fill:none;stroke-width:1;stroke-linecap:round;stroke-linejoin:round;stroke:rgb(0%,0%,0%);stroke-opacity:1;stroke-miterlimit:10;\" d=\"M 161.601562 136.960938 C 161.601562 141.226562 155.199219 141.226562 155.199219 136.960938 C 155.199219 132.691406 161.601562 132.691406 161.601562 136.960938 \"/>\n",
       "<path style=\"fill:none;stroke-width:1;stroke-linecap:round;stroke-linejoin:round;stroke:rgb(0%,0%,0%);stroke-opacity:1;stroke-miterlimit:10;\" d=\"M 161.601562 137.929688 C 161.601562 142.199219 155.199219 142.199219 155.199219 137.929688 C 155.199219 133.664062 161.601562 133.664062 161.601562 137.929688 \"/>\n",
       "<path style=\"fill:none;stroke-width:1;stroke-linecap:round;stroke-linejoin:round;stroke:rgb(0%,0%,0%);stroke-opacity:1;stroke-miterlimit:10;\" d=\"M 161.601562 79.625 C 161.601562 83.890625 155.199219 83.890625 155.199219 79.625 C 155.199219 75.359375 161.601562 75.359375 161.601562 79.625 \"/>\n",
       "<path style=\"fill:none;stroke-width:1;stroke-linecap:round;stroke-linejoin:round;stroke:rgb(0%,0%,0%);stroke-opacity:1;stroke-miterlimit:10;\" d=\"M 161.601562 84.484375 C 161.601562 88.75 155.199219 88.75 155.199219 84.484375 C 155.199219 80.21875 161.601562 80.21875 161.601562 84.484375 \"/>\n",
       "<path style=\"fill:none;stroke-width:1;stroke-linecap:round;stroke-linejoin:round;stroke:rgb(0%,0%,0%);stroke-opacity:1;stroke-miterlimit:10;\" d=\"M 161.601562 71.851562 C 161.601562 76.117188 155.199219 76.117188 155.199219 71.851562 C 155.199219 67.585938 161.601562 67.585938 161.601562 71.851562 \"/>\n",
       "<path style=\"fill:none;stroke-width:1;stroke-linecap:round;stroke-linejoin:round;stroke:rgb(0%,0%,0%);stroke-opacity:1;stroke-miterlimit:10;\" d=\"M 161.601562 81.570312 C 161.601562 85.835938 155.199219 85.835938 155.199219 81.570312 C 155.199219 77.300781 161.601562 77.300781 161.601562 81.570312 \"/>\n",
       "<path style=\"fill:none;stroke-width:1;stroke-linecap:round;stroke-linejoin:round;stroke:rgb(0%,0%,0%);stroke-opacity:1;stroke-miterlimit:10;\" d=\"M 161.601562 139.222656 C 161.601562 143.492188 155.199219 143.492188 155.199219 139.222656 C 155.199219 134.957031 161.601562 134.957031 161.601562 139.222656 \"/>\n",
       "<path style=\"fill:none;stroke-width:1;stroke-linecap:round;stroke-linejoin:round;stroke:rgb(0%,0%,0%);stroke-opacity:1;stroke-miterlimit:10;\" d=\"M 161.601562 84.484375 C 161.601562 88.75 155.199219 88.75 155.199219 84.484375 C 155.199219 80.21875 161.601562 80.21875 161.601562 84.484375 \"/>\n",
       "<path style=\"fill:none;stroke-width:1;stroke-linecap:round;stroke-linejoin:round;stroke:rgb(0%,0%,0%);stroke-opacity:1;stroke-miterlimit:10;\" d=\"M 161.601562 138.902344 C 161.601562 143.167969 155.199219 143.167969 155.199219 138.902344 C 155.199219 134.636719 161.601562 134.636719 161.601562 138.902344 \"/>\n",
       "<path style=\"fill:none;stroke-width:1;stroke-linecap:round;stroke-linejoin:round;stroke:rgb(0%,0%,0%);stroke-opacity:1;stroke-miterlimit:10;\" d=\"M 161.601562 139.066406 C 161.601562 143.335938 155.199219 143.335938 155.199219 139.066406 C 155.199219 134.800781 161.601562 134.800781 161.601562 139.066406 \"/>\n",
       "<path style=\" stroke:none;fill-rule:nonzero;fill:rgb(100%,0%,0%);fill-opacity:1;\" d=\"M 195.199219 122.382812 L 244.265625 122.382812 L 244.265625 108.777344 L 195.199219 108.777344 Z M 195.199219 122.382812 \"/>\n",
       "<path style=\"fill:none;stroke-width:3;stroke-linecap:butt;stroke-linejoin:round;stroke:rgb(0%,0%,0%);stroke-opacity:1;stroke-miterlimit:10;\" d=\"M 195.199219 116.550781 L 244.265625 116.550781 \"/>\n",
       "<path style=\"fill:none;stroke-width:1;stroke-linecap:round;stroke-linejoin:round;stroke:rgb(0%,0%,0%);stroke-opacity:1;stroke-dasharray:4,4;stroke-miterlimit:10;\" d=\"M 219.734375 139.464844 L 219.734375 122.382812 \"/>\n",
       "<path style=\"fill:none;stroke-width:1;stroke-linecap:round;stroke-linejoin:round;stroke:rgb(0%,0%,0%);stroke-opacity:1;stroke-dasharray:4,4;stroke-miterlimit:10;\" d=\"M 219.734375 90.316406 L 219.734375 108.777344 \"/>\n",
       "<path style=\"fill:none;stroke-width:1;stroke-linecap:round;stroke-linejoin:round;stroke:rgb(0%,0%,0%);stroke-opacity:1;stroke-miterlimit:10;\" d=\"M 207.464844 139.464844 L 232 139.464844 \"/>\n",
       "<path style=\"fill:none;stroke-width:1;stroke-linecap:round;stroke-linejoin:round;stroke:rgb(0%,0%,0%);stroke-opacity:1;stroke-miterlimit:10;\" d=\"M 207.464844 90.316406 L 232 90.316406 \"/>\n",
       "<path style=\"fill:none;stroke-width:1;stroke-linecap:round;stroke-linejoin:round;stroke:rgb(0%,0%,0%);stroke-opacity:1;stroke-miterlimit:10;\" d=\"M 195.199219 122.382812 L 244.265625 122.382812 L 244.265625 108.777344 L 195.199219 108.777344 L 195.199219 122.382812 \"/>\n",
       "<path style=\"fill:none;stroke-width:1;stroke-linecap:round;stroke-linejoin:round;stroke:rgb(0%,0%,0%);stroke-opacity:1;stroke-miterlimit:10;\" d=\"M 222.933594 82.539062 C 222.933594 86.808594 216.535156 86.808594 216.535156 82.539062 C 216.535156 78.273438 222.933594 78.273438 222.933594 82.539062 \"/>\n",
       "<path style=\"fill:none;stroke-width:1;stroke-linecap:round;stroke-linejoin:round;stroke:rgb(0%,0%,0%);stroke-opacity:1;stroke-miterlimit:10;\" d=\"M 222.933594 71.363281 C 222.933594 75.632812 216.535156 75.632812 216.535156 71.363281 C 216.535156 67.097656 222.933594 67.097656 222.933594 71.363281 \"/>\n",
       "<path style=\"fill:none;stroke-width:1;stroke-linecap:round;stroke-linejoin:round;stroke:rgb(0%,0%,0%);stroke-opacity:1;stroke-miterlimit:10;\" d=\"M 222.933594 85.941406 C 222.933594 90.207031 216.535156 90.207031 216.535156 85.941406 C 216.535156 81.675781 222.933594 81.675781 222.933594 85.941406 \"/>\n",
       "<path style=\"fill:none;stroke-width:1;stroke-linecap:round;stroke-linejoin:round;stroke:rgb(0%,0%,0%);stroke-opacity:1;stroke-miterlimit:10;\" d=\"M 222.933594 76.710938 C 222.933594 80.976562 216.535156 80.976562 216.535156 76.710938 C 216.535156 72.441406 222.933594 72.441406 222.933594 76.710938 \"/>\n",
       "<path style=\"fill:none;stroke-width:1;stroke-linecap:round;stroke-linejoin:round;stroke:rgb(0%,0%,0%);stroke-opacity:1;stroke-miterlimit:10;\" d=\"M 222.933594 80.597656 C 222.933594 84.863281 216.535156 84.863281 216.535156 80.597656 C 216.535156 76.332031 222.933594 76.332031 222.933594 80.597656 \"/>\n",
       "<path style=\"fill:none;stroke-width:1;stroke-linecap:round;stroke-linejoin:round;stroke:rgb(0%,0%,0%);stroke-opacity:1;stroke-miterlimit:10;\" d=\"M 222.933594 78.652344 C 222.933594 82.921875 216.535156 82.921875 216.535156 78.652344 C 216.535156 74.386719 222.933594 74.386719 222.933594 78.652344 \"/>\n",
       "<path style=\"fill:none;stroke-width:1;stroke-linecap:round;stroke-linejoin:round;stroke:rgb(0%,0%,0%);stroke-opacity:1;stroke-miterlimit:10;\" d=\"M 222.933594 67.964844 C 222.933594 72.230469 216.535156 72.230469 216.535156 67.964844 C 216.535156 63.699219 222.933594 63.699219 222.933594 67.964844 \"/>\n",
       "<path style=\"fill:none;stroke-width:1;stroke-linecap:round;stroke-linejoin:round;stroke:rgb(0%,0%,0%);stroke-opacity:1;stroke-miterlimit:10;\" d=\"M 97.066406 142.558594 L 219.734375 142.558594 \"/>\n",
       "<path style=\"fill:none;stroke-width:1;stroke-linecap:round;stroke-linejoin:round;stroke:rgb(0%,0%,0%);stroke-opacity:1;stroke-miterlimit:10;\" d=\"M 97.066406 142.558594 L 97.066406 149.761719 \"/>\n",
       "<path style=\"fill:none;stroke-width:1;stroke-linecap:round;stroke-linejoin:round;stroke:rgb(0%,0%,0%);stroke-opacity:1;stroke-miterlimit:10;\" d=\"M 158.398438 142.558594 L 158.398438 149.761719 \"/>\n",
       "<path style=\"fill:none;stroke-width:1;stroke-linecap:round;stroke-linejoin:round;stroke:rgb(0%,0%,0%);stroke-opacity:1;stroke-miterlimit:10;\" d=\"M 219.734375 142.558594 L 219.734375 149.761719 \"/>\n",
       "<g style=\"fill:rgb(0%,0%,0%);fill-opacity:1;\">\n",
       "  <use xlink:href=\"#glyph0-1\" x=\"93.589844\" y=\"169.921875\"/>\n",
       "</g>\n",
       "<g style=\"fill:rgb(0%,0%,0%);fill-opacity:1;\">\n",
       "  <use xlink:href=\"#glyph0-2\" x=\"154.921875\" y=\"169.921875\"/>\n",
       "</g>\n",
       "<g style=\"fill:rgb(0%,0%,0%);fill-opacity:1;\">\n",
       "  <use xlink:href=\"#glyph0-3\" x=\"216.257812\" y=\"169.921875\"/>\n",
       "</g>\n",
       "<path style=\"fill:none;stroke-width:1;stroke-linecap:round;stroke-linejoin:round;stroke:rgb(0%,0%,0%);stroke-opacity:1;stroke-miterlimit:10;\" d=\"M 59.039062 139.875 L 59.039062 62.132812 \"/>\n",
       "<path style=\"fill:none;stroke-width:1;stroke-linecap:round;stroke-linejoin:round;stroke:rgb(0%,0%,0%);stroke-opacity:1;stroke-miterlimit:10;\" d=\"M 59.039062 139.875 L 51.839844 139.875 \"/>\n",
       "<path style=\"fill:none;stroke-width:1;stroke-linecap:round;stroke-linejoin:round;stroke:rgb(0%,0%,0%);stroke-opacity:1;stroke-miterlimit:10;\" d=\"M 59.039062 120.4375 L 51.839844 120.4375 \"/>\n",
       "<path style=\"fill:none;stroke-width:1;stroke-linecap:round;stroke-linejoin:round;stroke:rgb(0%,0%,0%);stroke-opacity:1;stroke-miterlimit:10;\" d=\"M 59.039062 101.003906 L 51.839844 101.003906 \"/>\n",
       "<path style=\"fill:none;stroke-width:1;stroke-linecap:round;stroke-linejoin:round;stroke:rgb(0%,0%,0%);stroke-opacity:1;stroke-miterlimit:10;\" d=\"M 59.039062 81.570312 L 51.839844 81.570312 \"/>\n",
       "<path style=\"fill:none;stroke-width:1;stroke-linecap:round;stroke-linejoin:round;stroke:rgb(0%,0%,0%);stroke-opacity:1;stroke-miterlimit:10;\" d=\"M 59.039062 62.132812 L 51.839844 62.132812 \"/>\n",
       "<g style=\"fill:rgb(0%,0%,0%);fill-opacity:1;\">\n",
       "  <use xlink:href=\"#glyph1-1\" x=\"43.199219\" y=\"143.351562\"/>\n",
       "</g>\n",
       "<g style=\"fill:rgb(0%,0%,0%);fill-opacity:1;\">\n",
       "  <use xlink:href=\"#glyph1-2\" x=\"43.199219\" y=\"107.953125\"/>\n",
       "  <use xlink:href=\"#glyph1-1\" x=\"43.199219\" y=\"101.003098\"/>\n",
       "</g>\n",
       "<g style=\"fill:rgb(0%,0%,0%);fill-opacity:1;\">\n",
       "  <use xlink:href=\"#glyph1-3\" x=\"43.199219\" y=\"69.082031\"/>\n",
       "  <use xlink:href=\"#glyph1-1\" x=\"43.199219\" y=\"62.132004\"/>\n",
       "</g>\n",
       "<g style=\"fill:rgb(0%,0%,0%);fill-opacity:1;\">\n",
       "  <use xlink:href=\"#glyph0-4\" x=\"142.773438\" y=\"198.71875\"/>\n",
       "  <use xlink:href=\"#glyph0-5\" x=\"151.798477\" y=\"198.71875\"/>\n",
       "  <use xlink:href=\"#glyph0-6\" x=\"154.573486\" y=\"198.71875\"/>\n",
       "  <use xlink:href=\"#glyph0-7\" x=\"161.523514\" y=\"198.71875\"/>\n",
       "  <use xlink:href=\"#glyph0-7\" x=\"167.773544\" y=\"198.71875\"/>\n",
       "</g>\n",
       "<g style=\"fill:rgb(0%,0%,0%);fill-opacity:1;\">\n",
       "  <use xlink:href=\"#glyph1-4\" x=\"14.398438\" y=\"111.917969\"/>\n",
       "  <use xlink:href=\"#glyph1-5\" x=\"14.398438\" y=\"103.580444\"/>\n",
       "  <use xlink:href=\"#glyph1-6\" x=\"14.398438\" y=\"96.630417\"/>\n",
       "</g>\n",
       "<path style=\"fill:none;stroke-width:1;stroke-linecap:round;stroke-linejoin:round;stroke:rgb(0%,0%,0%);stroke-opacity:1;stroke-miterlimit:10;\" d=\"M 59.039062 142.558594 L 257.761719 142.558594 L 257.761719 59.039062 L 59.039062 59.039062 L 59.039062 142.558594 \"/>\n",
       "</g>\n",
       "</svg>\n"
      ]
     },
     "metadata": {
      "image/svg+xml": {
       "isolated": true
      }
     },
     "output_type": "display_data"
    }
   ],
   "source": [
    "# find boxplot\n",
    "boxplot(train$Age ~ train$Pclass, xlab = \"Class\", ylab = \"Age\", col = c(\"red\"))"
   ]
  },
  {
   "cell_type": "code",
   "execution_count": 20,
   "metadata": {
    "run_control": {
     "frozen": false,
     "read_only": false
    },
    "slideshow": {
     "slide_type": "subslide"
    }
   },
   "outputs": [
    {
     "data": {
      "text/html": [
       "<ol class=list-inline>\n",
       "\t<li>0.42</li>\n",
       "\t<li>20</li>\n",
       "\t<li>28</li>\n",
       "\t<li>38</li>\n",
       "\t<li>80</li>\n",
       "</ol>\n"
      ],
      "text/latex": [
       "\\begin{enumerate*}\n",
       "\\item 0.42\n",
       "\\item 20\n",
       "\\item 28\n",
       "\\item 38\n",
       "\\item 80\n",
       "\\end{enumerate*}\n"
      ],
      "text/markdown": [
       "1. 0.42\n",
       "2. 20\n",
       "3. 28\n",
       "4. 38\n",
       "5. 80\n",
       "\n",
       "\n"
      ],
      "text/plain": [
       "[1]  0.42 20.00 28.00 38.00 80.00"
      ]
     },
     "metadata": {},
     "output_type": "display_data"
    },
    {
     "data": {
      "text/plain": [
       "  PassengerId       Survived          Pclass          Name          \n",
       " Min.   :  1.0   Min.   :0.0000   Min.   :1.000   Length:891        \n",
       " 1st Qu.:223.5   1st Qu.:0.0000   1st Qu.:2.000   Class :character  \n",
       " Median :446.0   Median :0.0000   Median :3.000   Mode  :character  \n",
       " Mean   :446.0   Mean   :0.3838   Mean   :2.309                     \n",
       " 3rd Qu.:668.5   3rd Qu.:1.0000   3rd Qu.:3.000                     \n",
       " Max.   :891.0   Max.   :1.0000   Max.   :3.000                     \n",
       "                                                                    \n",
       "     Sex                 Age            SibSp           Parch       \n",
       " Length:891         Min.   : 0.42   Min.   :0.000   Min.   :0.0000  \n",
       " Class :character   1st Qu.:20.12   1st Qu.:0.000   1st Qu.:0.0000  \n",
       " Mode  :character   Median :28.00   Median :0.000   Median :0.0000  \n",
       "                    Mean   :29.70   Mean   :0.523   Mean   :0.3816  \n",
       "                    3rd Qu.:38.00   3rd Qu.:1.000   3rd Qu.:0.0000  \n",
       "                    Max.   :80.00   Max.   :8.000   Max.   :6.0000  \n",
       "                    NA's   :177                                     \n",
       "    Ticket               Fare           Cabin             Embarked        \n",
       " Length:891         Min.   :  0.00   Length:891         Length:891        \n",
       " Class :character   1st Qu.:  7.91   Class :character   Class :character  \n",
       " Mode  :character   Median : 14.45   Mode  :character   Mode  :character  \n",
       "                    Mean   : 32.20                                        \n",
       "                    3rd Qu.: 31.00                                        \n",
       "                    Max.   :512.33                                        \n",
       "                                                                          "
      ]
     },
     "metadata": {},
     "output_type": "display_data"
    }
   ],
   "source": [
    "#base package\n",
    "fivenum(train$Age)\n",
    "summary(train)"
   ]
  },
  {
   "cell_type": "markdown",
   "metadata": {
    "slideshow": {
     "slide_type": "slide"
    }
   },
   "source": [
    "## List of Packages to describe data"
   ]
  },
  {
   "cell_type": "code",
   "execution_count": null,
   "metadata": {
    "slideshow": {
     "slide_type": "slide"
    }
   },
   "outputs": [],
   "source": [
    "# install.packages(\"Psych\")\n",
    "# install.packages(\"Hmisc\")\n",
    "# install.packages(\"pastecs\")\n",
    "install.packages(\"summarytools\")\n",
    "# install.packages(\"skimr\")\n",
    "# install.packages(\"stargazer\")"
   ]
  },
  {
   "cell_type": "markdown",
   "metadata": {
    "slideshow": {
     "slide_type": "subslide"
    }
   },
   "source": [
    "Psych  \n",
    "Hmisc  \n",
    "pastecs  \n",
    "summarytools  \n",
    "skimr  \n",
    "stargazer  "
   ]
  },
  {
   "cell_type": "code",
   "execution_count": 22,
   "metadata": {
    "run_control": {
     "frozen": false,
     "read_only": false
    },
    "slideshow": {
     "slide_type": "subslide"
    }
   },
   "outputs": [
    {
     "name": "stderr",
     "output_type": "stream",
     "text": [
      "Warning message in describe(train):\n",
      "“NAs introduced by coercion”Warning message in describe(train):\n",
      "“NAs introduced by coercion”Warning message in describe(train):\n",
      "“NAs introduced by coercion”Warning message in describe(train):\n",
      "“NAs introduced by coercion”Warning message in describe(train):\n",
      "“NAs introduced by coercion”Warning message in FUN(newX[, i], ...):\n",
      "“no non-missing arguments to min; returning Inf”Warning message in FUN(newX[, i], ...):\n",
      "“no non-missing arguments to min; returning Inf”Warning message in FUN(newX[, i], ...):\n",
      "“no non-missing arguments to min; returning Inf”Warning message in FUN(newX[, i], ...):\n",
      "“no non-missing arguments to min; returning Inf”Warning message in FUN(newX[, i], ...):\n",
      "“no non-missing arguments to max; returning -Inf”Warning message in FUN(newX[, i], ...):\n",
      "“no non-missing arguments to max; returning -Inf”Warning message in FUN(newX[, i], ...):\n",
      "“no non-missing arguments to max; returning -Inf”Warning message in FUN(newX[, i], ...):\n",
      "“no non-missing arguments to max; returning -Inf”"
     ]
    },
    {
     "data": {
      "text/html": [
       "<table>\n",
       "<thead><tr><th></th><th scope=col>vars</th><th scope=col>n</th><th scope=col>mean</th><th scope=col>sd</th><th scope=col>median</th><th scope=col>trimmed</th><th scope=col>mad</th><th scope=col>min</th><th scope=col>max</th><th scope=col>range</th><th scope=col>skew</th><th scope=col>kurtosis</th><th scope=col>se</th></tr></thead>\n",
       "<tbody>\n",
       "\t<tr><th scope=row>PassengerId</th><td> 1          </td><td>891         </td><td>4.460000e+02</td><td>2.573538e+02</td><td>   446.0000 </td><td>4.460000e+02</td><td>   330.61980</td><td>  1.00      </td><td>    891.0000</td><td>    890.0000</td><td> 0.0000000  </td><td>-1.2040412  </td><td>8.621678e+00</td></tr>\n",
       "\t<tr><th scope=row>Survived</th><td> 2          </td><td>891         </td><td>3.838384e-01</td><td>4.865925e-01</td><td>     0.0000 </td><td>3.548387e-01</td><td>     0.00000</td><td>  0.00      </td><td>      1.0000</td><td>      1.0000</td><td> 0.4769135  </td><td>-1.7745414  </td><td>1.630146e-02</td></tr>\n",
       "\t<tr><th scope=row>Pclass</th><td> 3          </td><td>891         </td><td>2.308642e+00</td><td>8.360712e-01</td><td>     3.0000 </td><td>2.385694e+00</td><td>     0.00000</td><td>  1.00      </td><td>      3.0000</td><td>      2.0000</td><td>-0.6284264  </td><td>-1.2834293  </td><td>2.800944e-02</td></tr>\n",
       "\t<tr><th scope=row>Name*</th><td> 4          </td><td>891         </td><td>         NaN</td><td>          NA</td><td>         NA </td><td>         NaN</td><td>          NA</td><td>   Inf      </td><td>        -Inf</td><td>        -Inf</td><td>        NA  </td><td>        NA  </td><td>          NA</td></tr>\n",
       "\t<tr><th scope=row>Sex*</th><td> 5          </td><td>891         </td><td>         NaN</td><td>          NA</td><td>         NA </td><td>         NaN</td><td>          NA</td><td>   Inf      </td><td>        -Inf</td><td>        -Inf</td><td>        NA  </td><td>        NA  </td><td>          NA</td></tr>\n",
       "\t<tr><th scope=row>Age</th><td> 6          </td><td>714         </td><td>2.969912e+01</td><td>1.452650e+01</td><td>    28.0000 </td><td>2.926923e+01</td><td>    13.34340</td><td>  0.42      </td><td>     80.0000</td><td>     79.5800</td><td> 0.3874744  </td><td> 0.1597671  </td><td>5.436405e-01</td></tr>\n",
       "\t<tr><th scope=row>SibSp</th><td> 7          </td><td>891         </td><td>5.230079e-01</td><td>1.102743e+00</td><td>     0.0000 </td><td>2.720898e-01</td><td>     0.00000</td><td>  0.00      </td><td>      8.0000</td><td>      8.0000</td><td> 3.6829188  </td><td>17.7269083  </td><td>3.694329e-02</td></tr>\n",
       "\t<tr><th scope=row>Parch</th><td> 8          </td><td>891         </td><td>3.815937e-01</td><td>8.060572e-01</td><td>     0.0000 </td><td>1.823282e-01</td><td>     0.00000</td><td>  0.00      </td><td>      6.0000</td><td>      6.0000</td><td> 2.7398677  </td><td> 9.6880847  </td><td>2.700393e-02</td></tr>\n",
       "\t<tr><th scope=row>Ticket*</th><td> 9          </td><td>891         </td><td>2.603185e+05</td><td>4.716093e+05</td><td>236171.0000 </td><td>1.956829e+05</td><td>185104.09260</td><td>693.00      </td><td>3101298.0000</td><td>3100605.0000</td><td> 5.2418837  </td><td>28.9026995  </td><td>1.579950e+04</td></tr>\n",
       "\t<tr><th scope=row>Fare</th><td>10          </td><td>891         </td><td>3.220421e+01</td><td>4.969343e+01</td><td>    14.4542 </td><td>2.137872e+01</td><td>    10.23617</td><td>  0.00      </td><td>    512.3292</td><td>    512.3292</td><td> 4.7712097  </td><td>33.1230682  </td><td>1.664792e+00</td></tr>\n",
       "\t<tr><th scope=row>Cabin*</th><td>11          </td><td>891         </td><td>         NaN</td><td>          NA</td><td>         NA </td><td>         NaN</td><td>          NA</td><td>   Inf      </td><td>        -Inf</td><td>        -Inf</td><td>        NA  </td><td>        NA  </td><td>          NA</td></tr>\n",
       "\t<tr><th scope=row>Embarked*</th><td>12          </td><td>891         </td><td>         NaN</td><td>          NA</td><td>         NA </td><td>         NaN</td><td>          NA</td><td>   Inf      </td><td>        -Inf</td><td>        -Inf</td><td>        NA  </td><td>        NA  </td><td>          NA</td></tr>\n",
       "</tbody>\n",
       "</table>\n"
      ],
      "text/latex": [
       "\\begin{tabular}{r|lllllllllllll}\n",
       "  & vars & n & mean & sd & median & trimmed & mad & min & max & range & skew & kurtosis & se\\\\\n",
       "\\hline\n",
       "\tPassengerId &  1           & 891          & 4.460000e+02 & 2.573538e+02 &    446.0000  & 4.460000e+02 &    330.61980 &   1.00       &     891.0000 &     890.0000 &  0.0000000   & -1.2040412   & 8.621678e+00\\\\\n",
       "\tSurvived &  2           & 891          & 3.838384e-01 & 4.865925e-01 &      0.0000  & 3.548387e-01 &      0.00000 &   0.00       &       1.0000 &       1.0000 &  0.4769135   & -1.7745414   & 1.630146e-02\\\\\n",
       "\tPclass &  3           & 891          & 2.308642e+00 & 8.360712e-01 &      3.0000  & 2.385694e+00 &      0.00000 &   1.00       &       3.0000 &       2.0000 & -0.6284264   & -1.2834293   & 2.800944e-02\\\\\n",
       "\tName* &  4           & 891          &          NaN &           NA &          NA  &          NaN &           NA &    Inf       &         -Inf &         -Inf &         NA   &         NA   &           NA\\\\\n",
       "\tSex* &  5           & 891          &          NaN &           NA &          NA  &          NaN &           NA &    Inf       &         -Inf &         -Inf &         NA   &         NA   &           NA\\\\\n",
       "\tAge &  6           & 714          & 2.969912e+01 & 1.452650e+01 &     28.0000  & 2.926923e+01 &     13.34340 &   0.42       &      80.0000 &      79.5800 &  0.3874744   &  0.1597671   & 5.436405e-01\\\\\n",
       "\tSibSp &  7           & 891          & 5.230079e-01 & 1.102743e+00 &      0.0000  & 2.720898e-01 &      0.00000 &   0.00       &       8.0000 &       8.0000 &  3.6829188   & 17.7269083   & 3.694329e-02\\\\\n",
       "\tParch &  8           & 891          & 3.815937e-01 & 8.060572e-01 &      0.0000  & 1.823282e-01 &      0.00000 &   0.00       &       6.0000 &       6.0000 &  2.7398677   &  9.6880847   & 2.700393e-02\\\\\n",
       "\tTicket* &  9           & 891          & 2.603185e+05 & 4.716093e+05 & 236171.0000  & 1.956829e+05 & 185104.09260 & 693.00       & 3101298.0000 & 3100605.0000 &  5.2418837   & 28.9026995   & 1.579950e+04\\\\\n",
       "\tFare & 10           & 891          & 3.220421e+01 & 4.969343e+01 &     14.4542  & 2.137872e+01 &     10.23617 &   0.00       &     512.3292 &     512.3292 &  4.7712097   & 33.1230682   & 1.664792e+00\\\\\n",
       "\tCabin* & 11           & 891          &          NaN &           NA &          NA  &          NaN &           NA &    Inf       &         -Inf &         -Inf &         NA   &         NA   &           NA\\\\\n",
       "\tEmbarked* & 12           & 891          &          NaN &           NA &          NA  &          NaN &           NA &    Inf       &         -Inf &         -Inf &         NA   &         NA   &           NA\\\\\n",
       "\\end{tabular}\n"
      ],
      "text/markdown": [
       "\n",
       "| <!--/--> | vars | n | mean | sd | median | trimmed | mad | min | max | range | skew | kurtosis | se | \n",
       "|---|---|---|---|---|---|---|---|---|---|---|---|\n",
       "| PassengerId |  1           | 891          | 4.460000e+02 | 2.573538e+02 |    446.0000  | 4.460000e+02 |    330.61980 |   1.00       |     891.0000 |     890.0000 |  0.0000000   | -1.2040412   | 8.621678e+00 | \n",
       "| Survived |  2           | 891          | 3.838384e-01 | 4.865925e-01 |      0.0000  | 3.548387e-01 |      0.00000 |   0.00       |       1.0000 |       1.0000 |  0.4769135   | -1.7745414   | 1.630146e-02 | \n",
       "| Pclass |  3           | 891          | 2.308642e+00 | 8.360712e-01 |      3.0000  | 2.385694e+00 |      0.00000 |   1.00       |       3.0000 |       2.0000 | -0.6284264   | -1.2834293   | 2.800944e-02 | \n",
       "| Name* |  4           | 891          |          NaN |           NA |          NA  |          NaN |           NA |    Inf       |         -Inf |         -Inf |         NA   |         NA   |           NA | \n",
       "| Sex* |  5           | 891          |          NaN |           NA |          NA  |          NaN |           NA |    Inf       |         -Inf |         -Inf |         NA   |         NA   |           NA | \n",
       "| Age |  6           | 714          | 2.969912e+01 | 1.452650e+01 |     28.0000  | 2.926923e+01 |     13.34340 |   0.42       |      80.0000 |      79.5800 |  0.3874744   |  0.1597671   | 5.436405e-01 | \n",
       "| SibSp |  7           | 891          | 5.230079e-01 | 1.102743e+00 |      0.0000  | 2.720898e-01 |      0.00000 |   0.00       |       8.0000 |       8.0000 |  3.6829188   | 17.7269083   | 3.694329e-02 | \n",
       "| Parch |  8           | 891          | 3.815937e-01 | 8.060572e-01 |      0.0000  | 1.823282e-01 |      0.00000 |   0.00       |       6.0000 |       6.0000 |  2.7398677   |  9.6880847   | 2.700393e-02 | \n",
       "| Ticket* |  9           | 891          | 2.603185e+05 | 4.716093e+05 | 236171.0000  | 1.956829e+05 | 185104.09260 | 693.00       | 3101298.0000 | 3100605.0000 |  5.2418837   | 28.9026995   | 1.579950e+04 | \n",
       "| Fare | 10           | 891          | 3.220421e+01 | 4.969343e+01 |     14.4542  | 2.137872e+01 |     10.23617 |   0.00       |     512.3292 |     512.3292 |  4.7712097   | 33.1230682   | 1.664792e+00 | \n",
       "| Cabin* | 11           | 891          |          NaN |           NA |          NA  |          NaN |           NA |    Inf       |         -Inf |         -Inf |         NA   |         NA   |           NA | \n",
       "| Embarked* | 12           | 891          |          NaN |           NA |          NA  |          NaN |           NA |    Inf       |         -Inf |         -Inf |         NA   |         NA   |           NA | \n",
       "\n",
       "\n"
      ],
      "text/plain": [
       "            vars n   mean         sd           median      trimmed     \n",
       "PassengerId  1   891 4.460000e+02 2.573538e+02    446.0000 4.460000e+02\n",
       "Survived     2   891 3.838384e-01 4.865925e-01      0.0000 3.548387e-01\n",
       "Pclass       3   891 2.308642e+00 8.360712e-01      3.0000 2.385694e+00\n",
       "Name*        4   891          NaN           NA          NA          NaN\n",
       "Sex*         5   891          NaN           NA          NA          NaN\n",
       "Age          6   714 2.969912e+01 1.452650e+01     28.0000 2.926923e+01\n",
       "SibSp        7   891 5.230079e-01 1.102743e+00      0.0000 2.720898e-01\n",
       "Parch        8   891 3.815937e-01 8.060572e-01      0.0000 1.823282e-01\n",
       "Ticket*      9   891 2.603185e+05 4.716093e+05 236171.0000 1.956829e+05\n",
       "Fare        10   891 3.220421e+01 4.969343e+01     14.4542 2.137872e+01\n",
       "Cabin*      11   891          NaN           NA          NA          NaN\n",
       "Embarked*   12   891          NaN           NA          NA          NaN\n",
       "            mad          min    max          range        skew       kurtosis  \n",
       "PassengerId    330.61980   1.00     891.0000     890.0000  0.0000000 -1.2040412\n",
       "Survived         0.00000   0.00       1.0000       1.0000  0.4769135 -1.7745414\n",
       "Pclass           0.00000   1.00       3.0000       2.0000 -0.6284264 -1.2834293\n",
       "Name*                 NA    Inf         -Inf         -Inf         NA         NA\n",
       "Sex*                  NA    Inf         -Inf         -Inf         NA         NA\n",
       "Age             13.34340   0.42      80.0000      79.5800  0.3874744  0.1597671\n",
       "SibSp            0.00000   0.00       8.0000       8.0000  3.6829188 17.7269083\n",
       "Parch            0.00000   0.00       6.0000       6.0000  2.7398677  9.6880847\n",
       "Ticket*     185104.09260 693.00 3101298.0000 3100605.0000  5.2418837 28.9026995\n",
       "Fare            10.23617   0.00     512.3292     512.3292  4.7712097 33.1230682\n",
       "Cabin*                NA    Inf         -Inf         -Inf         NA         NA\n",
       "Embarked*             NA    Inf         -Inf         -Inf         NA         NA\n",
       "            se          \n",
       "PassengerId 8.621678e+00\n",
       "Survived    1.630146e-02\n",
       "Pclass      2.800944e-02\n",
       "Name*                 NA\n",
       "Sex*                  NA\n",
       "Age         5.436405e-01\n",
       "SibSp       3.694329e-02\n",
       "Parch       2.700393e-02\n",
       "Ticket*     1.579950e+04\n",
       "Fare        1.664792e+00\n",
       "Cabin*                NA\n",
       "Embarked*             NA"
      ]
     },
     "metadata": {},
     "output_type": "display_data"
    },
    {
     "name": "stderr",
     "output_type": "stream",
     "text": [
      "Warning message in describe(x, type = type):\n",
      "“NAs introduced by coercion”Warning message in describe(x, type = type):\n",
      "“NAs introduced by coercion”Warning message in describe(x, type = type):\n",
      "“NAs introduced by coercion”Warning message in describe(x, type = type):\n",
      "“NAs introduced by coercion”Warning message in describe(x, type = type):\n",
      "“NAs introduced by coercion”Warning message in FUN(newX[, i], ...):\n",
      "“no non-missing arguments to min; returning Inf”Warning message in FUN(newX[, i], ...):\n",
      "“no non-missing arguments to min; returning Inf”Warning message in FUN(newX[, i], ...):\n",
      "“no non-missing arguments to min; returning Inf”Warning message in FUN(newX[, i], ...):\n",
      "“no non-missing arguments to min; returning Inf”Warning message in FUN(newX[, i], ...):\n",
      "“no non-missing arguments to max; returning -Inf”Warning message in FUN(newX[, i], ...):\n",
      "“no non-missing arguments to max; returning -Inf”Warning message in FUN(newX[, i], ...):\n",
      "“no non-missing arguments to max; returning -Inf”Warning message in FUN(newX[, i], ...):\n",
      "“no non-missing arguments to max; returning -Inf”Warning message in describeBy(train):\n",
      "“no grouping variable requested”"
     ]
    },
    {
     "data": {
      "text/html": [
       "<table>\n",
       "<thead><tr><th></th><th scope=col>vars</th><th scope=col>n</th><th scope=col>mean</th><th scope=col>sd</th><th scope=col>median</th><th scope=col>trimmed</th><th scope=col>mad</th><th scope=col>min</th><th scope=col>max</th><th scope=col>range</th><th scope=col>skew</th><th scope=col>kurtosis</th><th scope=col>se</th></tr></thead>\n",
       "<tbody>\n",
       "\t<tr><th scope=row>PassengerId</th><td> 1          </td><td>891         </td><td>4.460000e+02</td><td>2.573538e+02</td><td>   446.0000 </td><td>4.460000e+02</td><td>   330.61980</td><td>  1.00      </td><td>    891.0000</td><td>    890.0000</td><td> 0.0000000  </td><td>-1.2040412  </td><td>8.621678e+00</td></tr>\n",
       "\t<tr><th scope=row>Survived</th><td> 2          </td><td>891         </td><td>3.838384e-01</td><td>4.865925e-01</td><td>     0.0000 </td><td>3.548387e-01</td><td>     0.00000</td><td>  0.00      </td><td>      1.0000</td><td>      1.0000</td><td> 0.4769135  </td><td>-1.7745414  </td><td>1.630146e-02</td></tr>\n",
       "\t<tr><th scope=row>Pclass</th><td> 3          </td><td>891         </td><td>2.308642e+00</td><td>8.360712e-01</td><td>     3.0000 </td><td>2.385694e+00</td><td>     0.00000</td><td>  1.00      </td><td>      3.0000</td><td>      2.0000</td><td>-0.6284264  </td><td>-1.2834293  </td><td>2.800944e-02</td></tr>\n",
       "\t<tr><th scope=row>Name*</th><td> 4          </td><td>891         </td><td>         NaN</td><td>          NA</td><td>         NA </td><td>         NaN</td><td>          NA</td><td>   Inf      </td><td>        -Inf</td><td>        -Inf</td><td>        NA  </td><td>        NA  </td><td>          NA</td></tr>\n",
       "\t<tr><th scope=row>Sex*</th><td> 5          </td><td>891         </td><td>         NaN</td><td>          NA</td><td>         NA </td><td>         NaN</td><td>          NA</td><td>   Inf      </td><td>        -Inf</td><td>        -Inf</td><td>        NA  </td><td>        NA  </td><td>          NA</td></tr>\n",
       "\t<tr><th scope=row>Age</th><td> 6          </td><td>714         </td><td>2.969912e+01</td><td>1.452650e+01</td><td>    28.0000 </td><td>2.926923e+01</td><td>    13.34340</td><td>  0.42      </td><td>     80.0000</td><td>     79.5800</td><td> 0.3874744  </td><td> 0.1597671  </td><td>5.436405e-01</td></tr>\n",
       "\t<tr><th scope=row>SibSp</th><td> 7          </td><td>891         </td><td>5.230079e-01</td><td>1.102743e+00</td><td>     0.0000 </td><td>2.720898e-01</td><td>     0.00000</td><td>  0.00      </td><td>      8.0000</td><td>      8.0000</td><td> 3.6829188  </td><td>17.7269083  </td><td>3.694329e-02</td></tr>\n",
       "\t<tr><th scope=row>Parch</th><td> 8          </td><td>891         </td><td>3.815937e-01</td><td>8.060572e-01</td><td>     0.0000 </td><td>1.823282e-01</td><td>     0.00000</td><td>  0.00      </td><td>      6.0000</td><td>      6.0000</td><td> 2.7398677  </td><td> 9.6880847  </td><td>2.700393e-02</td></tr>\n",
       "\t<tr><th scope=row>Ticket*</th><td> 9          </td><td>891         </td><td>2.603185e+05</td><td>4.716093e+05</td><td>236171.0000 </td><td>1.956829e+05</td><td>185104.09260</td><td>693.00      </td><td>3101298.0000</td><td>3100605.0000</td><td> 5.2418837  </td><td>28.9026995  </td><td>1.579950e+04</td></tr>\n",
       "\t<tr><th scope=row>Fare</th><td>10          </td><td>891         </td><td>3.220421e+01</td><td>4.969343e+01</td><td>    14.4542 </td><td>2.137872e+01</td><td>    10.23617</td><td>  0.00      </td><td>    512.3292</td><td>    512.3292</td><td> 4.7712097  </td><td>33.1230682  </td><td>1.664792e+00</td></tr>\n",
       "\t<tr><th scope=row>Cabin*</th><td>11          </td><td>891         </td><td>         NaN</td><td>          NA</td><td>         NA </td><td>         NaN</td><td>          NA</td><td>   Inf      </td><td>        -Inf</td><td>        -Inf</td><td>        NA  </td><td>        NA  </td><td>          NA</td></tr>\n",
       "\t<tr><th scope=row>Embarked*</th><td>12          </td><td>891         </td><td>         NaN</td><td>          NA</td><td>         NA </td><td>         NaN</td><td>          NA</td><td>   Inf      </td><td>        -Inf</td><td>        -Inf</td><td>        NA  </td><td>        NA  </td><td>          NA</td></tr>\n",
       "</tbody>\n",
       "</table>\n"
      ],
      "text/latex": [
       "\\begin{tabular}{r|lllllllllllll}\n",
       "  & vars & n & mean & sd & median & trimmed & mad & min & max & range & skew & kurtosis & se\\\\\n",
       "\\hline\n",
       "\tPassengerId &  1           & 891          & 4.460000e+02 & 2.573538e+02 &    446.0000  & 4.460000e+02 &    330.61980 &   1.00       &     891.0000 &     890.0000 &  0.0000000   & -1.2040412   & 8.621678e+00\\\\\n",
       "\tSurvived &  2           & 891          & 3.838384e-01 & 4.865925e-01 &      0.0000  & 3.548387e-01 &      0.00000 &   0.00       &       1.0000 &       1.0000 &  0.4769135   & -1.7745414   & 1.630146e-02\\\\\n",
       "\tPclass &  3           & 891          & 2.308642e+00 & 8.360712e-01 &      3.0000  & 2.385694e+00 &      0.00000 &   1.00       &       3.0000 &       2.0000 & -0.6284264   & -1.2834293   & 2.800944e-02\\\\\n",
       "\tName* &  4           & 891          &          NaN &           NA &          NA  &          NaN &           NA &    Inf       &         -Inf &         -Inf &         NA   &         NA   &           NA\\\\\n",
       "\tSex* &  5           & 891          &          NaN &           NA &          NA  &          NaN &           NA &    Inf       &         -Inf &         -Inf &         NA   &         NA   &           NA\\\\\n",
       "\tAge &  6           & 714          & 2.969912e+01 & 1.452650e+01 &     28.0000  & 2.926923e+01 &     13.34340 &   0.42       &      80.0000 &      79.5800 &  0.3874744   &  0.1597671   & 5.436405e-01\\\\\n",
       "\tSibSp &  7           & 891          & 5.230079e-01 & 1.102743e+00 &      0.0000  & 2.720898e-01 &      0.00000 &   0.00       &       8.0000 &       8.0000 &  3.6829188   & 17.7269083   & 3.694329e-02\\\\\n",
       "\tParch &  8           & 891          & 3.815937e-01 & 8.060572e-01 &      0.0000  & 1.823282e-01 &      0.00000 &   0.00       &       6.0000 &       6.0000 &  2.7398677   &  9.6880847   & 2.700393e-02\\\\\n",
       "\tTicket* &  9           & 891          & 2.603185e+05 & 4.716093e+05 & 236171.0000  & 1.956829e+05 & 185104.09260 & 693.00       & 3101298.0000 & 3100605.0000 &  5.2418837   & 28.9026995   & 1.579950e+04\\\\\n",
       "\tFare & 10           & 891          & 3.220421e+01 & 4.969343e+01 &     14.4542  & 2.137872e+01 &     10.23617 &   0.00       &     512.3292 &     512.3292 &  4.7712097   & 33.1230682   & 1.664792e+00\\\\\n",
       "\tCabin* & 11           & 891          &          NaN &           NA &          NA  &          NaN &           NA &    Inf       &         -Inf &         -Inf &         NA   &         NA   &           NA\\\\\n",
       "\tEmbarked* & 12           & 891          &          NaN &           NA &          NA  &          NaN &           NA &    Inf       &         -Inf &         -Inf &         NA   &         NA   &           NA\\\\\n",
       "\\end{tabular}\n"
      ],
      "text/markdown": [
       "\n",
       "| <!--/--> | vars | n | mean | sd | median | trimmed | mad | min | max | range | skew | kurtosis | se | \n",
       "|---|---|---|---|---|---|---|---|---|---|---|---|\n",
       "| PassengerId |  1           | 891          | 4.460000e+02 | 2.573538e+02 |    446.0000  | 4.460000e+02 |    330.61980 |   1.00       |     891.0000 |     890.0000 |  0.0000000   | -1.2040412   | 8.621678e+00 | \n",
       "| Survived |  2           | 891          | 3.838384e-01 | 4.865925e-01 |      0.0000  | 3.548387e-01 |      0.00000 |   0.00       |       1.0000 |       1.0000 |  0.4769135   | -1.7745414   | 1.630146e-02 | \n",
       "| Pclass |  3           | 891          | 2.308642e+00 | 8.360712e-01 |      3.0000  | 2.385694e+00 |      0.00000 |   1.00       |       3.0000 |       2.0000 | -0.6284264   | -1.2834293   | 2.800944e-02 | \n",
       "| Name* |  4           | 891          |          NaN |           NA |          NA  |          NaN |           NA |    Inf       |         -Inf |         -Inf |         NA   |         NA   |           NA | \n",
       "| Sex* |  5           | 891          |          NaN |           NA |          NA  |          NaN |           NA |    Inf       |         -Inf |         -Inf |         NA   |         NA   |           NA | \n",
       "| Age |  6           | 714          | 2.969912e+01 | 1.452650e+01 |     28.0000  | 2.926923e+01 |     13.34340 |   0.42       |      80.0000 |      79.5800 |  0.3874744   |  0.1597671   | 5.436405e-01 | \n",
       "| SibSp |  7           | 891          | 5.230079e-01 | 1.102743e+00 |      0.0000  | 2.720898e-01 |      0.00000 |   0.00       |       8.0000 |       8.0000 |  3.6829188   | 17.7269083   | 3.694329e-02 | \n",
       "| Parch |  8           | 891          | 3.815937e-01 | 8.060572e-01 |      0.0000  | 1.823282e-01 |      0.00000 |   0.00       |       6.0000 |       6.0000 |  2.7398677   |  9.6880847   | 2.700393e-02 | \n",
       "| Ticket* |  9           | 891          | 2.603185e+05 | 4.716093e+05 | 236171.0000  | 1.956829e+05 | 185104.09260 | 693.00       | 3101298.0000 | 3100605.0000 |  5.2418837   | 28.9026995   | 1.579950e+04 | \n",
       "| Fare | 10           | 891          | 3.220421e+01 | 4.969343e+01 |     14.4542  | 2.137872e+01 |     10.23617 |   0.00       |     512.3292 |     512.3292 |  4.7712097   | 33.1230682   | 1.664792e+00 | \n",
       "| Cabin* | 11           | 891          |          NaN |           NA |          NA  |          NaN |           NA |    Inf       |         -Inf |         -Inf |         NA   |         NA   |           NA | \n",
       "| Embarked* | 12           | 891          |          NaN |           NA |          NA  |          NaN |           NA |    Inf       |         -Inf |         -Inf |         NA   |         NA   |           NA | \n",
       "\n",
       "\n"
      ],
      "text/plain": [
       "            vars n   mean         sd           median      trimmed     \n",
       "PassengerId  1   891 4.460000e+02 2.573538e+02    446.0000 4.460000e+02\n",
       "Survived     2   891 3.838384e-01 4.865925e-01      0.0000 3.548387e-01\n",
       "Pclass       3   891 2.308642e+00 8.360712e-01      3.0000 2.385694e+00\n",
       "Name*        4   891          NaN           NA          NA          NaN\n",
       "Sex*         5   891          NaN           NA          NA          NaN\n",
       "Age          6   714 2.969912e+01 1.452650e+01     28.0000 2.926923e+01\n",
       "SibSp        7   891 5.230079e-01 1.102743e+00      0.0000 2.720898e-01\n",
       "Parch        8   891 3.815937e-01 8.060572e-01      0.0000 1.823282e-01\n",
       "Ticket*      9   891 2.603185e+05 4.716093e+05 236171.0000 1.956829e+05\n",
       "Fare        10   891 3.220421e+01 4.969343e+01     14.4542 2.137872e+01\n",
       "Cabin*      11   891          NaN           NA          NA          NaN\n",
       "Embarked*   12   891          NaN           NA          NA          NaN\n",
       "            mad          min    max          range        skew       kurtosis  \n",
       "PassengerId    330.61980   1.00     891.0000     890.0000  0.0000000 -1.2040412\n",
       "Survived         0.00000   0.00       1.0000       1.0000  0.4769135 -1.7745414\n",
       "Pclass           0.00000   1.00       3.0000       2.0000 -0.6284264 -1.2834293\n",
       "Name*                 NA    Inf         -Inf         -Inf         NA         NA\n",
       "Sex*                  NA    Inf         -Inf         -Inf         NA         NA\n",
       "Age             13.34340   0.42      80.0000      79.5800  0.3874744  0.1597671\n",
       "SibSp            0.00000   0.00       8.0000       8.0000  3.6829188 17.7269083\n",
       "Parch            0.00000   0.00       6.0000       6.0000  2.7398677  9.6880847\n",
       "Ticket*     185104.09260 693.00 3101298.0000 3100605.0000  5.2418837 28.9026995\n",
       "Fare            10.23617   0.00     512.3292     512.3292  4.7712097 33.1230682\n",
       "Cabin*                NA    Inf         -Inf         -Inf         NA         NA\n",
       "Embarked*             NA    Inf         -Inf         -Inf         NA         NA\n",
       "            se          \n",
       "PassengerId 8.621678e+00\n",
       "Survived    1.630146e-02\n",
       "Pclass      2.800944e-02\n",
       "Name*                 NA\n",
       "Sex*                  NA\n",
       "Age         5.436405e-01\n",
       "SibSp       3.694329e-02\n",
       "Parch       2.700393e-02\n",
       "Ticket*     1.579950e+04\n",
       "Fare        1.664792e+00\n",
       "Cabin*                NA\n",
       "Embarked*             NA"
      ]
     },
     "metadata": {},
     "output_type": "display_data"
    }
   ],
   "source": [
    "library(psych)\n",
    "describe(train)\n",
    "describeBy(train)"
   ]
  },
  {
   "cell_type": "code",
   "execution_count": 23,
   "metadata": {
    "run_control": {
     "frozen": false,
     "read_only": false
    },
    "slideshow": {
     "slide_type": "subslide"
    }
   },
   "outputs": [
    {
     "name": "stderr",
     "output_type": "stream",
     "text": [
      "Loading required package: lattice\n",
      "Loading required package: survival\n",
      "Loading required package: Formula\n",
      "Loading required package: ggplot2\n",
      "\n",
      "Attaching package: ‘ggplot2’\n",
      "\n",
      "The following objects are masked from ‘package:psych’:\n",
      "\n",
      "    %+%, alpha\n",
      "\n",
      "\n",
      "Attaching package: ‘Hmisc’\n",
      "\n",
      "The following object is masked from ‘package:psych’:\n",
      "\n",
      "    describe\n",
      "\n",
      "The following objects are masked from ‘package:base’:\n",
      "\n",
      "    format.pval, units\n",
      "\n"
     ]
    },
    {
     "data": {
      "text/plain": [
       "train \n",
       "\n",
       " 12  Variables      891  Observations\n",
       "--------------------------------------------------------------------------------\n",
       "PassengerId \n",
       "       n  missing distinct     Info     Mean      Gmd      .05      .10 \n",
       "     891        0      891        1      446    297.3     45.5     90.0 \n",
       "     .25      .50      .75      .90      .95 \n",
       "   223.5    446.0    668.5    802.0    846.5 \n",
       "\n",
       "lowest :   1   2   3   4   5, highest: 887 888 889 890 891\n",
       "--------------------------------------------------------------------------------\n",
       "Survived \n",
       "       n  missing distinct     Info      Sum     Mean      Gmd \n",
       "     891        0        2     0.71      342   0.3838   0.4735 \n",
       "\n",
       "--------------------------------------------------------------------------------\n",
       "Pclass \n",
       "       n  missing distinct     Info     Mean      Gmd \n",
       "     891        0        3     0.81    2.309   0.8631 \n",
       "                            \n",
       "Value          1     2     3\n",
       "Frequency    216   184   491\n",
       "Proportion 0.242 0.207 0.551\n",
       "--------------------------------------------------------------------------------\n",
       "Name \n",
       "       n  missing distinct \n",
       "     891        0      891 \n",
       "\n",
       "lowest : Abbing, Mr. Anthony                    Abbott, Mr. Rossmore Edward            Abbott, Mrs. Stanton (Rosa Hunt)       Abelson, Mr. Samuel                    Abelson, Mrs. Samuel (Hannah Wizosky) \n",
       "highest: Yousseff, Mr. Gerious                  Yrois, Miss. Henriette (\"Mrs Harbeck\") Zabour, Miss. Hileni                   Zabour, Miss. Thamine                  Zimmerman, Mr. Leo                    \n",
       "--------------------------------------------------------------------------------\n",
       "Sex \n",
       "       n  missing distinct \n",
       "     891        0        2 \n",
       "                        \n",
       "Value      female   male\n",
       "Frequency     314    577\n",
       "Proportion  0.352  0.648\n",
       "--------------------------------------------------------------------------------\n",
       "Age \n",
       "       n  missing distinct     Info     Mean      Gmd      .05      .10 \n",
       "     714      177       88    0.999     29.7    16.21     4.00    14.00 \n",
       "     .25      .50      .75      .90      .95 \n",
       "   20.12    28.00    38.00    50.00    56.00 \n",
       "\n",
       "lowest :  0.42  0.67  0.75  0.83  0.92, highest: 70.00 70.50 71.00 74.00 80.00\n",
       "--------------------------------------------------------------------------------\n",
       "SibSp \n",
       "       n  missing distinct     Info     Mean      Gmd \n",
       "     891        0        7    0.669    0.523    0.823 \n",
       "                                                    \n",
       "Value          0     1     2     3     4     5     8\n",
       "Frequency    608   209    28    16    18     5     7\n",
       "Proportion 0.682 0.235 0.031 0.018 0.020 0.006 0.008\n",
       "--------------------------------------------------------------------------------\n",
       "Parch \n",
       "       n  missing distinct     Info     Mean      Gmd \n",
       "     891        0        7    0.556   0.3816   0.6259 \n",
       "                                                    \n",
       "Value          0     1     2     3     4     5     6\n",
       "Frequency    678   118    80     5     4     5     1\n",
       "Proportion 0.761 0.132 0.090 0.006 0.004 0.006 0.001\n",
       "--------------------------------------------------------------------------------\n",
       "Ticket \n",
       "       n  missing distinct \n",
       "     891        0      681 \n",
       "\n",
       "lowest : 110152      110413      110465      110564      110813     \n",
       "highest: W./C. 6608  W./C. 6609  W.E.P. 5734 W/C 14208   WE/P 5735  \n",
       "--------------------------------------------------------------------------------\n",
       "Fare \n",
       "       n  missing distinct     Info     Mean      Gmd      .05      .10 \n",
       "     891        0      248        1     32.2    36.78    7.225    7.550 \n",
       "     .25      .50      .75      .90      .95 \n",
       "   7.910   14.454   31.000   77.958  112.079 \n",
       "\n",
       "lowest :   0.0000   4.0125   5.0000   6.2375   6.4375\n",
       "highest: 227.5250 247.5208 262.3750 263.0000 512.3292\n",
       "--------------------------------------------------------------------------------\n",
       "Cabin \n",
       "       n  missing distinct \n",
       "     204      687      147 \n",
       "\n",
       "lowest : A10 A14 A16 A19 A20, highest: F33 F38 F4  G6  T  \n",
       "--------------------------------------------------------------------------------\n",
       "Embarked \n",
       "       n  missing distinct \n",
       "     889        2        3 \n",
       "                            \n",
       "Value          C     Q     S\n",
       "Frequency    168    77   644\n",
       "Proportion 0.189 0.087 0.724\n",
       "--------------------------------------------------------------------------------"
      ]
     },
     "metadata": {},
     "output_type": "display_data"
    }
   ],
   "source": [
    "library(Hmisc)\n",
    "Hmisc::describe(train)"
   ]
  },
  {
   "cell_type": "code",
   "execution_count": 24,
   "metadata": {
    "run_control": {
     "frozen": false,
     "read_only": false
    },
    "slideshow": {
     "slide_type": "subslide"
    }
   },
   "outputs": [
    {
     "data": {
      "text/html": [
       "<table>\n",
       "<thead><tr><th></th><th scope=col>PassengerId</th><th scope=col>Survived</th><th scope=col>Pclass</th><th scope=col>Name</th><th scope=col>Sex</th><th scope=col>Age</th><th scope=col>SibSp</th><th scope=col>Parch</th><th scope=col>Ticket</th><th scope=col>Fare</th><th scope=col>Cabin</th><th scope=col>Embarked</th></tr></thead>\n",
       "<tbody>\n",
       "\t<tr><th scope=row>nbr.val</th><td>8.910000e+02</td><td>891.00000000</td><td>8.910000e+02</td><td>NA          </td><td>NA          </td><td>7.140000e+02</td><td>891.00000000</td><td>891.00000000</td><td>NA          </td><td>  891.000000</td><td>NA          </td><td>NA          </td></tr>\n",
       "\t<tr><th scope=row>nbr.null</th><td>0.000000e+00</td><td>549.00000000</td><td>0.000000e+00</td><td>NA          </td><td>NA          </td><td>0.000000e+00</td><td>608.00000000</td><td>678.00000000</td><td>NA          </td><td>   15.000000</td><td>NA          </td><td>NA          </td></tr>\n",
       "\t<tr><th scope=row>nbr.na</th><td>0.000000e+00</td><td>  0.00000000</td><td>0.000000e+00</td><td>NA          </td><td>NA          </td><td>1.770000e+02</td><td>  0.00000000</td><td>  0.00000000</td><td>NA          </td><td>    0.000000</td><td>NA          </td><td>NA          </td></tr>\n",
       "\t<tr><th scope=row>min</th><td>1.000000e+00</td><td>  0.00000000</td><td>1.000000e+00</td><td>NA          </td><td>NA          </td><td>4.200000e-01</td><td>  0.00000000</td><td>  0.00000000</td><td>NA          </td><td>    0.000000</td><td>NA          </td><td>NA          </td></tr>\n",
       "\t<tr><th scope=row>max</th><td>8.910000e+02</td><td>  1.00000000</td><td>3.000000e+00</td><td>NA          </td><td>NA          </td><td>8.000000e+01</td><td>  8.00000000</td><td>  6.00000000</td><td>NA          </td><td>  512.329200</td><td>NA          </td><td>NA          </td></tr>\n",
       "\t<tr><th scope=row>range</th><td>8.900000e+02</td><td>  1.00000000</td><td>2.000000e+00</td><td>NA          </td><td>NA          </td><td>7.958000e+01</td><td>  8.00000000</td><td>  6.00000000</td><td>NA          </td><td>  512.329200</td><td>NA          </td><td>NA          </td></tr>\n",
       "\t<tr><th scope=row>sum</th><td>3.973860e+05</td><td>342.00000000</td><td>2.057000e+03</td><td>NA          </td><td>NA          </td><td>2.120517e+04</td><td>466.00000000</td><td>340.00000000</td><td>NA          </td><td>28693.949300</td><td>NA          </td><td>NA          </td></tr>\n",
       "\t<tr><th scope=row>median</th><td>4.460000e+02</td><td>  0.00000000</td><td>3.000000e+00</td><td>NA          </td><td>NA          </td><td>2.800000e+01</td><td>  0.00000000</td><td>  0.00000000</td><td>NA          </td><td>   14.454200</td><td>NA          </td><td>NA          </td></tr>\n",
       "\t<tr><th scope=row>mean</th><td>4.460000e+02</td><td>  0.38383838</td><td>2.308642e+00</td><td>NA          </td><td>NA          </td><td>2.969912e+01</td><td>  0.52300786</td><td>  0.38159371</td><td>NA          </td><td>   32.204208</td><td>NA          </td><td>NA          </td></tr>\n",
       "\t<tr><th scope=row>SE.mean</th><td>8.621678e+00</td><td>  0.01630146</td><td>2.800944e-02</td><td>NA          </td><td>NA          </td><td>5.436405e-01</td><td>  0.03694329</td><td>  0.02700393</td><td>NA          </td><td>    1.664792</td><td>NA          </td><td>NA          </td></tr>\n",
       "\t<tr><th scope=row>CI.mean.0.95</th><td>1.692119e+01</td><td>  0.03199378</td><td>5.497225e-02</td><td>NA          </td><td>NA          </td><td>1.067328e+00</td><td>  0.07250613</td><td>  0.05299881</td><td>NA          </td><td>    3.267377</td><td>NA          </td><td>NA          </td></tr>\n",
       "\t<tr><th scope=row>var</th><td>6.623100e+04</td><td>  0.23677222</td><td>6.990151e-01</td><td>NA          </td><td>NA          </td><td>2.110191e+02</td><td>  1.21604308</td><td>  0.64972824</td><td>NA          </td><td> 2469.436846</td><td>NA          </td><td>NA          </td></tr>\n",
       "\t<tr><th scope=row>std.dev</th><td>2.573538e+02</td><td>  0.48659245</td><td>8.360712e-01</td><td>NA          </td><td>NA          </td><td>1.452650e+01</td><td>  1.10274343</td><td>  0.80605722</td><td>NA          </td><td>   49.693429</td><td>NA          </td><td>NA          </td></tr>\n",
       "\t<tr><th scope=row>coef.var</th><td>5.770266e-01</td><td>  1.26770139</td><td>3.621485e-01</td><td>NA          </td><td>NA          </td><td>4.891222e-01</td><td>  2.10846437</td><td>  2.11234407</td><td>NA          </td><td>    1.543073</td><td>NA          </td><td>NA          </td></tr>\n",
       "</tbody>\n",
       "</table>\n"
      ],
      "text/latex": [
       "\\begin{tabular}{r|llllllllllll}\n",
       "  & PassengerId & Survived & Pclass & Name & Sex & Age & SibSp & Parch & Ticket & Fare & Cabin & Embarked\\\\\n",
       "\\hline\n",
       "\tnbr.val & 8.910000e+02 & 891.00000000 & 8.910000e+02 & NA           & NA           & 7.140000e+02 & 891.00000000 & 891.00000000 & NA           &   891.000000 & NA           & NA          \\\\\n",
       "\tnbr.null & 0.000000e+00 & 549.00000000 & 0.000000e+00 & NA           & NA           & 0.000000e+00 & 608.00000000 & 678.00000000 & NA           &    15.000000 & NA           & NA          \\\\\n",
       "\tnbr.na & 0.000000e+00 &   0.00000000 & 0.000000e+00 & NA           & NA           & 1.770000e+02 &   0.00000000 &   0.00000000 & NA           &     0.000000 & NA           & NA          \\\\\n",
       "\tmin & 1.000000e+00 &   0.00000000 & 1.000000e+00 & NA           & NA           & 4.200000e-01 &   0.00000000 &   0.00000000 & NA           &     0.000000 & NA           & NA          \\\\\n",
       "\tmax & 8.910000e+02 &   1.00000000 & 3.000000e+00 & NA           & NA           & 8.000000e+01 &   8.00000000 &   6.00000000 & NA           &   512.329200 & NA           & NA          \\\\\n",
       "\trange & 8.900000e+02 &   1.00000000 & 2.000000e+00 & NA           & NA           & 7.958000e+01 &   8.00000000 &   6.00000000 & NA           &   512.329200 & NA           & NA          \\\\\n",
       "\tsum & 3.973860e+05 & 342.00000000 & 2.057000e+03 & NA           & NA           & 2.120517e+04 & 466.00000000 & 340.00000000 & NA           & 28693.949300 & NA           & NA          \\\\\n",
       "\tmedian & 4.460000e+02 &   0.00000000 & 3.000000e+00 & NA           & NA           & 2.800000e+01 &   0.00000000 &   0.00000000 & NA           &    14.454200 & NA           & NA          \\\\\n",
       "\tmean & 4.460000e+02 &   0.38383838 & 2.308642e+00 & NA           & NA           & 2.969912e+01 &   0.52300786 &   0.38159371 & NA           &    32.204208 & NA           & NA          \\\\\n",
       "\tSE.mean & 8.621678e+00 &   0.01630146 & 2.800944e-02 & NA           & NA           & 5.436405e-01 &   0.03694329 &   0.02700393 & NA           &     1.664792 & NA           & NA          \\\\\n",
       "\tCI.mean.0.95 & 1.692119e+01 &   0.03199378 & 5.497225e-02 & NA           & NA           & 1.067328e+00 &   0.07250613 &   0.05299881 & NA           &     3.267377 & NA           & NA          \\\\\n",
       "\tvar & 6.623100e+04 &   0.23677222 & 6.990151e-01 & NA           & NA           & 2.110191e+02 &   1.21604308 &   0.64972824 & NA           &  2469.436846 & NA           & NA          \\\\\n",
       "\tstd.dev & 2.573538e+02 &   0.48659245 & 8.360712e-01 & NA           & NA           & 1.452650e+01 &   1.10274343 &   0.80605722 & NA           &    49.693429 & NA           & NA          \\\\\n",
       "\tcoef.var & 5.770266e-01 &   1.26770139 & 3.621485e-01 & NA           & NA           & 4.891222e-01 &   2.10846437 &   2.11234407 & NA           &     1.543073 & NA           & NA          \\\\\n",
       "\\end{tabular}\n"
      ],
      "text/markdown": [
       "\n",
       "| <!--/--> | PassengerId | Survived | Pclass | Name | Sex | Age | SibSp | Parch | Ticket | Fare | Cabin | Embarked | \n",
       "|---|---|---|---|---|---|---|---|---|---|---|---|---|---|\n",
       "| nbr.val | 8.910000e+02 | 891.00000000 | 8.910000e+02 | NA           | NA           | 7.140000e+02 | 891.00000000 | 891.00000000 | NA           |   891.000000 | NA           | NA           | \n",
       "| nbr.null | 0.000000e+00 | 549.00000000 | 0.000000e+00 | NA           | NA           | 0.000000e+00 | 608.00000000 | 678.00000000 | NA           |    15.000000 | NA           | NA           | \n",
       "| nbr.na | 0.000000e+00 |   0.00000000 | 0.000000e+00 | NA           | NA           | 1.770000e+02 |   0.00000000 |   0.00000000 | NA           |     0.000000 | NA           | NA           | \n",
       "| min | 1.000000e+00 |   0.00000000 | 1.000000e+00 | NA           | NA           | 4.200000e-01 |   0.00000000 |   0.00000000 | NA           |     0.000000 | NA           | NA           | \n",
       "| max | 8.910000e+02 |   1.00000000 | 3.000000e+00 | NA           | NA           | 8.000000e+01 |   8.00000000 |   6.00000000 | NA           |   512.329200 | NA           | NA           | \n",
       "| range | 8.900000e+02 |   1.00000000 | 2.000000e+00 | NA           | NA           | 7.958000e+01 |   8.00000000 |   6.00000000 | NA           |   512.329200 | NA           | NA           | \n",
       "| sum | 3.973860e+05 | 342.00000000 | 2.057000e+03 | NA           | NA           | 2.120517e+04 | 466.00000000 | 340.00000000 | NA           | 28693.949300 | NA           | NA           | \n",
       "| median | 4.460000e+02 |   0.00000000 | 3.000000e+00 | NA           | NA           | 2.800000e+01 |   0.00000000 |   0.00000000 | NA           |    14.454200 | NA           | NA           | \n",
       "| mean | 4.460000e+02 |   0.38383838 | 2.308642e+00 | NA           | NA           | 2.969912e+01 |   0.52300786 |   0.38159371 | NA           |    32.204208 | NA           | NA           | \n",
       "| SE.mean | 8.621678e+00 |   0.01630146 | 2.800944e-02 | NA           | NA           | 5.436405e-01 |   0.03694329 |   0.02700393 | NA           |     1.664792 | NA           | NA           | \n",
       "| CI.mean.0.95 | 1.692119e+01 |   0.03199378 | 5.497225e-02 | NA           | NA           | 1.067328e+00 |   0.07250613 |   0.05299881 | NA           |     3.267377 | NA           | NA           | \n",
       "| var | 6.623100e+04 |   0.23677222 | 6.990151e-01 | NA           | NA           | 2.110191e+02 |   1.21604308 |   0.64972824 | NA           |  2469.436846 | NA           | NA           | \n",
       "| std.dev | 2.573538e+02 |   0.48659245 | 8.360712e-01 | NA           | NA           | 1.452650e+01 |   1.10274343 |   0.80605722 | NA           |    49.693429 | NA           | NA           | \n",
       "| coef.var | 5.770266e-01 |   1.26770139 | 3.621485e-01 | NA           | NA           | 4.891222e-01 |   2.10846437 |   2.11234407 | NA           |     1.543073 | NA           | NA           | \n",
       "\n",
       "\n"
      ],
      "text/plain": [
       "             PassengerId  Survived     Pclass       Name Sex Age         \n",
       "nbr.val      8.910000e+02 891.00000000 8.910000e+02 NA   NA  7.140000e+02\n",
       "nbr.null     0.000000e+00 549.00000000 0.000000e+00 NA   NA  0.000000e+00\n",
       "nbr.na       0.000000e+00   0.00000000 0.000000e+00 NA   NA  1.770000e+02\n",
       "min          1.000000e+00   0.00000000 1.000000e+00 NA   NA  4.200000e-01\n",
       "max          8.910000e+02   1.00000000 3.000000e+00 NA   NA  8.000000e+01\n",
       "range        8.900000e+02   1.00000000 2.000000e+00 NA   NA  7.958000e+01\n",
       "sum          3.973860e+05 342.00000000 2.057000e+03 NA   NA  2.120517e+04\n",
       "median       4.460000e+02   0.00000000 3.000000e+00 NA   NA  2.800000e+01\n",
       "mean         4.460000e+02   0.38383838 2.308642e+00 NA   NA  2.969912e+01\n",
       "SE.mean      8.621678e+00   0.01630146 2.800944e-02 NA   NA  5.436405e-01\n",
       "CI.mean.0.95 1.692119e+01   0.03199378 5.497225e-02 NA   NA  1.067328e+00\n",
       "var          6.623100e+04   0.23677222 6.990151e-01 NA   NA  2.110191e+02\n",
       "std.dev      2.573538e+02   0.48659245 8.360712e-01 NA   NA  1.452650e+01\n",
       "coef.var     5.770266e-01   1.26770139 3.621485e-01 NA   NA  4.891222e-01\n",
       "             SibSp        Parch        Ticket Fare         Cabin Embarked\n",
       "nbr.val      891.00000000 891.00000000 NA       891.000000 NA    NA      \n",
       "nbr.null     608.00000000 678.00000000 NA        15.000000 NA    NA      \n",
       "nbr.na         0.00000000   0.00000000 NA         0.000000 NA    NA      \n",
       "min            0.00000000   0.00000000 NA         0.000000 NA    NA      \n",
       "max            8.00000000   6.00000000 NA       512.329200 NA    NA      \n",
       "range          8.00000000   6.00000000 NA       512.329200 NA    NA      \n",
       "sum          466.00000000 340.00000000 NA     28693.949300 NA    NA      \n",
       "median         0.00000000   0.00000000 NA        14.454200 NA    NA      \n",
       "mean           0.52300786   0.38159371 NA        32.204208 NA    NA      \n",
       "SE.mean        0.03694329   0.02700393 NA         1.664792 NA    NA      \n",
       "CI.mean.0.95   0.07250613   0.05299881 NA         3.267377 NA    NA      \n",
       "var            1.21604308   0.64972824 NA      2469.436846 NA    NA      \n",
       "std.dev        1.10274343   0.80605722 NA        49.693429 NA    NA      \n",
       "coef.var       2.10846437   2.11234407 NA         1.543073 NA    NA      "
      ]
     },
     "metadata": {},
     "output_type": "display_data"
    }
   ],
   "source": [
    "library(pastecs)\n",
    "stat.desc(train)"
   ]
  },
  {
   "cell_type": "code",
   "execution_count": 25,
   "metadata": {
    "run_control": {
     "frozen": false,
     "read_only": false
    },
    "slideshow": {
     "slide_type": "subslide"
    }
   },
   "outputs": [
    {
     "data": {
      "text/html": [
       "<table>\n",
       "<thead><tr><th scope=col>variable</th><th scope=col>type</th><th scope=col>stat</th><th scope=col>level</th><th scope=col>value</th><th scope=col>formatted</th></tr></thead>\n",
       "<tbody>\n",
       "\t<tr><td>PassengerId</td><td>integer    </td><td>missing    </td><td>.all       </td><td>  0.0000000</td><td>0          </td></tr>\n",
       "\t<tr><td>PassengerId</td><td>integer    </td><td>complete   </td><td>.all       </td><td>891.0000000</td><td>891        </td></tr>\n",
       "\t<tr><td>PassengerId</td><td>integer    </td><td>n          </td><td>.all       </td><td>891.0000000</td><td>891        </td></tr>\n",
       "\t<tr><td>PassengerId</td><td>integer    </td><td>mean       </td><td>.all       </td><td>446.0000000</td><td>446        </td></tr>\n",
       "\t<tr><td>PassengerId</td><td>integer    </td><td>sd         </td><td>.all       </td><td>257.3538420</td><td>257.35     </td></tr>\n",
       "\t<tr><td>PassengerId</td><td>integer    </td><td>p0         </td><td>.all       </td><td>  1.0000000</td><td>1          </td></tr>\n",
       "\t<tr><td>PassengerId</td><td>integer    </td><td>p25        </td><td>.all       </td><td>223.5000000</td><td>223.5      </td></tr>\n",
       "\t<tr><td>PassengerId</td><td>integer    </td><td>p50        </td><td>.all       </td><td>446.0000000</td><td>446        </td></tr>\n",
       "\t<tr><td>PassengerId</td><td>integer    </td><td>p75        </td><td>.all       </td><td>668.5000000</td><td>668.5      </td></tr>\n",
       "\t<tr><td>PassengerId</td><td>integer    </td><td>p100       </td><td>.all       </td><td>891.0000000</td><td>891        </td></tr>\n",
       "\t<tr><td>PassengerId</td><td>integer    </td><td>hist       </td><td>.all       </td><td>         NA</td><td>▇▇▇▇▇▇▇▇   </td></tr>\n",
       "\t<tr><td>Survived   </td><td>integer    </td><td>missing    </td><td>.all       </td><td>  0.0000000</td><td>0          </td></tr>\n",
       "\t<tr><td>Survived   </td><td>integer    </td><td>complete   </td><td>.all       </td><td>891.0000000</td><td>891        </td></tr>\n",
       "\t<tr><td>Survived   </td><td>integer    </td><td>n          </td><td>.all       </td><td>891.0000000</td><td>891        </td></tr>\n",
       "\t<tr><td>Survived   </td><td>integer    </td><td>mean       </td><td>.all       </td><td>  0.3838384</td><td>0.38       </td></tr>\n",
       "\t<tr><td>Survived   </td><td>integer    </td><td>sd         </td><td>.all       </td><td>  0.4865925</td><td>0.49       </td></tr>\n",
       "\t<tr><td>Survived   </td><td>integer    </td><td>p0         </td><td>.all       </td><td>  0.0000000</td><td>0          </td></tr>\n",
       "\t<tr><td>Survived   </td><td>integer    </td><td>p25        </td><td>.all       </td><td>  0.0000000</td><td>0          </td></tr>\n",
       "\t<tr><td>Survived   </td><td>integer    </td><td>p50        </td><td>.all       </td><td>  0.0000000</td><td>0          </td></tr>\n",
       "\t<tr><td>Survived   </td><td>integer    </td><td>p75        </td><td>.all       </td><td>  1.0000000</td><td>1          </td></tr>\n",
       "\t<tr><td>Survived   </td><td>integer    </td><td>p100       </td><td>.all       </td><td>  1.0000000</td><td>1          </td></tr>\n",
       "\t<tr><td>Survived   </td><td>integer    </td><td>hist       </td><td>.all       </td><td>         NA</td><td>▇▁▁▁▁▁▁▅   </td></tr>\n",
       "\t<tr><td>Pclass     </td><td>integer    </td><td>missing    </td><td>.all       </td><td>  0.0000000</td><td>0          </td></tr>\n",
       "\t<tr><td>Pclass     </td><td>integer    </td><td>complete   </td><td>.all       </td><td>891.0000000</td><td>891        </td></tr>\n",
       "\t<tr><td>Pclass     </td><td>integer    </td><td>n          </td><td>.all       </td><td>891.0000000</td><td>891        </td></tr>\n",
       "\t<tr><td>Pclass     </td><td>integer    </td><td>mean       </td><td>.all       </td><td>  2.3086420</td><td>2.31       </td></tr>\n",
       "\t<tr><td>Pclass     </td><td>integer    </td><td>sd         </td><td>.all       </td><td>  0.8360712</td><td>0.84       </td></tr>\n",
       "\t<tr><td>Pclass     </td><td>integer    </td><td>p0         </td><td>.all       </td><td>  1.0000000</td><td>1          </td></tr>\n",
       "\t<tr><td>Pclass     </td><td>integer    </td><td>p25        </td><td>.all       </td><td>  2.0000000</td><td>2          </td></tr>\n",
       "\t<tr><td>Pclass     </td><td>integer    </td><td>p50        </td><td>.all       </td><td>  3.0000000</td><td>3          </td></tr>\n",
       "\t<tr><td>...</td><td>...</td><td>...</td><td>...</td><td>...</td><td>...</td></tr>\n",
       "\t<tr><td>Ticket   </td><td>character</td><td>n        </td><td>.all     </td><td>891.00000</td><td>891      </td></tr>\n",
       "\t<tr><td>Ticket   </td><td>character</td><td>min      </td><td>.all     </td><td>  3.00000</td><td>3        </td></tr>\n",
       "\t<tr><td>Ticket   </td><td>character</td><td>max      </td><td>.all     </td><td> 18.00000</td><td>18       </td></tr>\n",
       "\t<tr><td>Ticket   </td><td>character</td><td>empty    </td><td>.all     </td><td>  0.00000</td><td>0        </td></tr>\n",
       "\t<tr><td>Ticket   </td><td>character</td><td>n_unique </td><td>.all     </td><td>681.00000</td><td>681      </td></tr>\n",
       "\t<tr><td>Fare     </td><td>numeric  </td><td>missing  </td><td>.all     </td><td>  0.00000</td><td>0        </td></tr>\n",
       "\t<tr><td>Fare     </td><td>numeric  </td><td>complete </td><td>.all     </td><td>891.00000</td><td>891      </td></tr>\n",
       "\t<tr><td>Fare     </td><td>numeric  </td><td>n        </td><td>.all     </td><td>891.00000</td><td>891      </td></tr>\n",
       "\t<tr><td>Fare     </td><td>numeric  </td><td>mean     </td><td>.all     </td><td> 32.20421</td><td>32.2     </td></tr>\n",
       "\t<tr><td>Fare     </td><td>numeric  </td><td>sd       </td><td>.all     </td><td> 49.69343</td><td>49.69    </td></tr>\n",
       "\t<tr><td>Fare     </td><td>numeric  </td><td>p0       </td><td>.all     </td><td>  0.00000</td><td>0        </td></tr>\n",
       "\t<tr><td>Fare     </td><td>numeric  </td><td>p25      </td><td>.all     </td><td>  7.91040</td><td>7.91     </td></tr>\n",
       "\t<tr><td>Fare     </td><td>numeric  </td><td>p50      </td><td>.all     </td><td> 14.45420</td><td>14.45    </td></tr>\n",
       "\t<tr><td>Fare     </td><td>numeric  </td><td>p75      </td><td>.all     </td><td> 31.00000</td><td>31       </td></tr>\n",
       "\t<tr><td>Fare     </td><td>numeric  </td><td>p100     </td><td>.all     </td><td>512.32920</td><td>512.33   </td></tr>\n",
       "\t<tr><td>Fare     </td><td>numeric  </td><td>hist     </td><td>.all     </td><td>       NA</td><td>▇▁▁▁▁▁▁▁ </td></tr>\n",
       "\t<tr><td>Cabin    </td><td>character</td><td>missing  </td><td>.all     </td><td>  0.00000</td><td>0        </td></tr>\n",
       "\t<tr><td>Cabin    </td><td>character</td><td>complete </td><td>.all     </td><td>891.00000</td><td>891      </td></tr>\n",
       "\t<tr><td>Cabin    </td><td>character</td><td>n        </td><td>.all     </td><td>891.00000</td><td>891      </td></tr>\n",
       "\t<tr><td>Cabin    </td><td>character</td><td>min      </td><td>.all     </td><td>  0.00000</td><td>0        </td></tr>\n",
       "\t<tr><td>Cabin    </td><td>character</td><td>max      </td><td>.all     </td><td> 15.00000</td><td>15       </td></tr>\n",
       "\t<tr><td>Cabin    </td><td>character</td><td>empty    </td><td>.all     </td><td>687.00000</td><td>687      </td></tr>\n",
       "\t<tr><td>Cabin    </td><td>character</td><td>n_unique </td><td>.all     </td><td>148.00000</td><td>148      </td></tr>\n",
       "\t<tr><td>Embarked </td><td>character</td><td>missing  </td><td>.all     </td><td>  0.00000</td><td>0        </td></tr>\n",
       "\t<tr><td>Embarked </td><td>character</td><td>complete </td><td>.all     </td><td>891.00000</td><td>891      </td></tr>\n",
       "\t<tr><td>Embarked </td><td>character</td><td>n        </td><td>.all     </td><td>891.00000</td><td>891      </td></tr>\n",
       "\t<tr><td>Embarked </td><td>character</td><td>min      </td><td>.all     </td><td>  0.00000</td><td>0        </td></tr>\n",
       "\t<tr><td>Embarked </td><td>character</td><td>max      </td><td>.all     </td><td>  1.00000</td><td>1        </td></tr>\n",
       "\t<tr><td>Embarked </td><td>character</td><td>empty    </td><td>.all     </td><td>  2.00000</td><td>2        </td></tr>\n",
       "\t<tr><td>Embarked </td><td>character</td><td>n_unique </td><td>.all     </td><td>  4.00000</td><td>4        </td></tr>\n",
       "</tbody>\n",
       "</table>\n"
      ],
      "text/latex": [
       "\\begin{tabular}{r|llllll}\n",
       " variable & type & stat & level & value & formatted\\\\\n",
       "\\hline\n",
       "\t PassengerId & integer     & missing     & .all        &   0.0000000 & 0          \\\\\n",
       "\t PassengerId & integer     & complete    & .all        & 891.0000000 & 891        \\\\\n",
       "\t PassengerId & integer     & n           & .all        & 891.0000000 & 891        \\\\\n",
       "\t PassengerId & integer     & mean        & .all        & 446.0000000 & 446        \\\\\n",
       "\t PassengerId & integer     & sd          & .all        & 257.3538420 & 257.35     \\\\\n",
       "\t PassengerId & integer     & p0          & .all        &   1.0000000 & 1          \\\\\n",
       "\t PassengerId & integer     & p25         & .all        & 223.5000000 & 223.5      \\\\\n",
       "\t PassengerId & integer     & p50         & .all        & 446.0000000 & 446        \\\\\n",
       "\t PassengerId & integer     & p75         & .all        & 668.5000000 & 668.5      \\\\\n",
       "\t PassengerId & integer     & p100        & .all        & 891.0000000 & 891        \\\\\n",
       "\t PassengerId & integer     & hist        & .all        &          NA & ▇▇▇▇▇▇▇▇   \\\\\n",
       "\t Survived    & integer     & missing     & .all        &   0.0000000 & 0          \\\\\n",
       "\t Survived    & integer     & complete    & .all        & 891.0000000 & 891        \\\\\n",
       "\t Survived    & integer     & n           & .all        & 891.0000000 & 891        \\\\\n",
       "\t Survived    & integer     & mean        & .all        &   0.3838384 & 0.38       \\\\\n",
       "\t Survived    & integer     & sd          & .all        &   0.4865925 & 0.49       \\\\\n",
       "\t Survived    & integer     & p0          & .all        &   0.0000000 & 0          \\\\\n",
       "\t Survived    & integer     & p25         & .all        &   0.0000000 & 0          \\\\\n",
       "\t Survived    & integer     & p50         & .all        &   0.0000000 & 0          \\\\\n",
       "\t Survived    & integer     & p75         & .all        &   1.0000000 & 1          \\\\\n",
       "\t Survived    & integer     & p100        & .all        &   1.0000000 & 1          \\\\\n",
       "\t Survived    & integer     & hist        & .all        &          NA & ▇▁▁▁▁▁▁▅   \\\\\n",
       "\t Pclass      & integer     & missing     & .all        &   0.0000000 & 0          \\\\\n",
       "\t Pclass      & integer     & complete    & .all        & 891.0000000 & 891        \\\\\n",
       "\t Pclass      & integer     & n           & .all        & 891.0000000 & 891        \\\\\n",
       "\t Pclass      & integer     & mean        & .all        &   2.3086420 & 2.31       \\\\\n",
       "\t Pclass      & integer     & sd          & .all        &   0.8360712 & 0.84       \\\\\n",
       "\t Pclass      & integer     & p0          & .all        &   1.0000000 & 1          \\\\\n",
       "\t Pclass      & integer     & p25         & .all        &   2.0000000 & 2          \\\\\n",
       "\t Pclass      & integer     & p50         & .all        &   3.0000000 & 3          \\\\\n",
       "\t ... & ... & ... & ... & ... & ...\\\\\n",
       "\t Ticket    & character & n         & .all      & 891.00000 & 891      \\\\\n",
       "\t Ticket    & character & min       & .all      &   3.00000 & 3        \\\\\n",
       "\t Ticket    & character & max       & .all      &  18.00000 & 18       \\\\\n",
       "\t Ticket    & character & empty     & .all      &   0.00000 & 0        \\\\\n",
       "\t Ticket     & character  & n\\_unique & .all       & 681.00000  & 681       \\\\\n",
       "\t Fare      & numeric   & missing   & .all      &   0.00000 & 0        \\\\\n",
       "\t Fare      & numeric   & complete  & .all      & 891.00000 & 891      \\\\\n",
       "\t Fare      & numeric   & n         & .all      & 891.00000 & 891      \\\\\n",
       "\t Fare      & numeric   & mean      & .all      &  32.20421 & 32.2     \\\\\n",
       "\t Fare      & numeric   & sd        & .all      &  49.69343 & 49.69    \\\\\n",
       "\t Fare      & numeric   & p0        & .all      &   0.00000 & 0        \\\\\n",
       "\t Fare      & numeric   & p25       & .all      &   7.91040 & 7.91     \\\\\n",
       "\t Fare      & numeric   & p50       & .all      &  14.45420 & 14.45    \\\\\n",
       "\t Fare      & numeric   & p75       & .all      &  31.00000 & 31       \\\\\n",
       "\t Fare      & numeric   & p100      & .all      & 512.32920 & 512.33   \\\\\n",
       "\t Fare      & numeric   & hist      & .all      &        NA & ▇▁▁▁▁▁▁▁ \\\\\n",
       "\t Cabin     & character & missing   & .all      &   0.00000 & 0        \\\\\n",
       "\t Cabin     & character & complete  & .all      & 891.00000 & 891      \\\\\n",
       "\t Cabin     & character & n         & .all      & 891.00000 & 891      \\\\\n",
       "\t Cabin     & character & min       & .all      &   0.00000 & 0        \\\\\n",
       "\t Cabin     & character & max       & .all      &  15.00000 & 15       \\\\\n",
       "\t Cabin     & character & empty     & .all      & 687.00000 & 687      \\\\\n",
       "\t Cabin      & character  & n\\_unique & .all       & 148.00000  & 148       \\\\\n",
       "\t Embarked  & character & missing   & .all      &   0.00000 & 0        \\\\\n",
       "\t Embarked  & character & complete  & .all      & 891.00000 & 891      \\\\\n",
       "\t Embarked  & character & n         & .all      & 891.00000 & 891      \\\\\n",
       "\t Embarked  & character & min       & .all      &   0.00000 & 0        \\\\\n",
       "\t Embarked  & character & max       & .all      &   1.00000 & 1        \\\\\n",
       "\t Embarked  & character & empty     & .all      &   2.00000 & 2        \\\\\n",
       "\t Embarked   & character  & n\\_unique & .all       &   4.00000  & 4         \\\\\n",
       "\\end{tabular}\n"
      ],
      "text/markdown": [
       "\n",
       "variable | type | stat | level | value | formatted | \n",
       "|---|---|---|---|---|---|---|---|---|---|---|---|---|---|---|---|---|---|---|---|---|---|---|---|---|---|---|---|---|---|---|---|---|---|---|---|---|---|---|---|---|---|---|---|---|---|---|---|---|---|---|---|---|---|---|---|---|---|---|---|---|\n",
       "| PassengerId | integer     | missing     | .all        |   0.0000000 | 0           | \n",
       "| PassengerId | integer     | complete    | .all        | 891.0000000 | 891         | \n",
       "| PassengerId | integer     | n           | .all        | 891.0000000 | 891         | \n",
       "| PassengerId | integer     | mean        | .all        | 446.0000000 | 446         | \n",
       "| PassengerId | integer     | sd          | .all        | 257.3538420 | 257.35      | \n",
       "| PassengerId | integer     | p0          | .all        |   1.0000000 | 1           | \n",
       "| PassengerId | integer     | p25         | .all        | 223.5000000 | 223.5       | \n",
       "| PassengerId | integer     | p50         | .all        | 446.0000000 | 446         | \n",
       "| PassengerId | integer     | p75         | .all        | 668.5000000 | 668.5       | \n",
       "| PassengerId | integer     | p100        | .all        | 891.0000000 | 891         | \n",
       "| PassengerId | integer     | hist        | .all        |          NA | ▇▇▇▇▇▇▇▇    | \n",
       "| Survived    | integer     | missing     | .all        |   0.0000000 | 0           | \n",
       "| Survived    | integer     | complete    | .all        | 891.0000000 | 891         | \n",
       "| Survived    | integer     | n           | .all        | 891.0000000 | 891         | \n",
       "| Survived    | integer     | mean        | .all        |   0.3838384 | 0.38        | \n",
       "| Survived    | integer     | sd          | .all        |   0.4865925 | 0.49        | \n",
       "| Survived    | integer     | p0          | .all        |   0.0000000 | 0           | \n",
       "| Survived    | integer     | p25         | .all        |   0.0000000 | 0           | \n",
       "| Survived    | integer     | p50         | .all        |   0.0000000 | 0           | \n",
       "| Survived    | integer     | p75         | .all        |   1.0000000 | 1           | \n",
       "| Survived    | integer     | p100        | .all        |   1.0000000 | 1           | \n",
       "| Survived    | integer     | hist        | .all        |          NA | ▇▁▁▁▁▁▁▅    | \n",
       "| Pclass      | integer     | missing     | .all        |   0.0000000 | 0           | \n",
       "| Pclass      | integer     | complete    | .all        | 891.0000000 | 891         | \n",
       "| Pclass      | integer     | n           | .all        | 891.0000000 | 891         | \n",
       "| Pclass      | integer     | mean        | .all        |   2.3086420 | 2.31        | \n",
       "| Pclass      | integer     | sd          | .all        |   0.8360712 | 0.84        | \n",
       "| Pclass      | integer     | p0          | .all        |   1.0000000 | 1           | \n",
       "| Pclass      | integer     | p25         | .all        |   2.0000000 | 2           | \n",
       "| Pclass      | integer     | p50         | .all        |   3.0000000 | 3           | \n",
       "| ... | ... | ... | ... | ... | ... | \n",
       "| Ticket    | character | n         | .all      | 891.00000 | 891       | \n",
       "| Ticket    | character | min       | .all      |   3.00000 | 3         | \n",
       "| Ticket    | character | max       | .all      |  18.00000 | 18        | \n",
       "| Ticket    | character | empty     | .all      |   0.00000 | 0         | \n",
       "| Ticket    | character | n_unique  | .all      | 681.00000 | 681       | \n",
       "| Fare      | numeric   | missing   | .all      |   0.00000 | 0         | \n",
       "| Fare      | numeric   | complete  | .all      | 891.00000 | 891       | \n",
       "| Fare      | numeric   | n         | .all      | 891.00000 | 891       | \n",
       "| Fare      | numeric   | mean      | .all      |  32.20421 | 32.2      | \n",
       "| Fare      | numeric   | sd        | .all      |  49.69343 | 49.69     | \n",
       "| Fare      | numeric   | p0        | .all      |   0.00000 | 0         | \n",
       "| Fare      | numeric   | p25       | .all      |   7.91040 | 7.91      | \n",
       "| Fare      | numeric   | p50       | .all      |  14.45420 | 14.45     | \n",
       "| Fare      | numeric   | p75       | .all      |  31.00000 | 31        | \n",
       "| Fare      | numeric   | p100      | .all      | 512.32920 | 512.33    | \n",
       "| Fare      | numeric   | hist      | .all      |        NA | ▇▁▁▁▁▁▁▁  | \n",
       "| Cabin     | character | missing   | .all      |   0.00000 | 0         | \n",
       "| Cabin     | character | complete  | .all      | 891.00000 | 891       | \n",
       "| Cabin     | character | n         | .all      | 891.00000 | 891       | \n",
       "| Cabin     | character | min       | .all      |   0.00000 | 0         | \n",
       "| Cabin     | character | max       | .all      |  15.00000 | 15        | \n",
       "| Cabin     | character | empty     | .all      | 687.00000 | 687       | \n",
       "| Cabin     | character | n_unique  | .all      | 148.00000 | 148       | \n",
       "| Embarked  | character | missing   | .all      |   0.00000 | 0         | \n",
       "| Embarked  | character | complete  | .all      | 891.00000 | 891       | \n",
       "| Embarked  | character | n         | .all      | 891.00000 | 891       | \n",
       "| Embarked  | character | min       | .all      |   0.00000 | 0         | \n",
       "| Embarked  | character | max       | .all      |   1.00000 | 1         | \n",
       "| Embarked  | character | empty     | .all      |   2.00000 | 2         | \n",
       "| Embarked  | character | n_unique  | .all      |   4.00000 | 4         | \n",
       "\n",
       "\n"
      ],
      "text/plain": [
       "    variable    type      stat     level value       formatted\n",
       "1   PassengerId integer   missing  .all    0.0000000 0        \n",
       "2   PassengerId integer   complete .all  891.0000000 891      \n",
       "3   PassengerId integer   n        .all  891.0000000 891      \n",
       "4   PassengerId integer   mean     .all  446.0000000 446      \n",
       "5   PassengerId integer   sd       .all  257.3538420 257.35   \n",
       "6   PassengerId integer   p0       .all    1.0000000 1        \n",
       "7   PassengerId integer   p25      .all  223.5000000 223.5    \n",
       "8   PassengerId integer   p50      .all  446.0000000 446      \n",
       "9   PassengerId integer   p75      .all  668.5000000 668.5    \n",
       "10  PassengerId integer   p100     .all  891.0000000 891      \n",
       "11  PassengerId integer   hist     .all           NA ▇▇▇▇▇▇▇▇ \n",
       "12  Survived    integer   missing  .all    0.0000000 0        \n",
       "13  Survived    integer   complete .all  891.0000000 891      \n",
       "14  Survived    integer   n        .all  891.0000000 891      \n",
       "15  Survived    integer   mean     .all    0.3838384 0.38     \n",
       "16  Survived    integer   sd       .all    0.4865925 0.49     \n",
       "17  Survived    integer   p0       .all    0.0000000 0        \n",
       "18  Survived    integer   p25      .all    0.0000000 0        \n",
       "19  Survived    integer   p50      .all    0.0000000 0        \n",
       "20  Survived    integer   p75      .all    1.0000000 1        \n",
       "21  Survived    integer   p100     .all    1.0000000 1        \n",
       "22  Survived    integer   hist     .all           NA ▇▁▁▁▁▁▁▅ \n",
       "23  Pclass      integer   missing  .all    0.0000000 0        \n",
       "24  Pclass      integer   complete .all  891.0000000 891      \n",
       "25  Pclass      integer   n        .all  891.0000000 891      \n",
       "26  Pclass      integer   mean     .all    2.3086420 2.31     \n",
       "27  Pclass      integer   sd       .all    0.8360712 0.84     \n",
       "28  Pclass      integer   p0       .all    1.0000000 1        \n",
       "29  Pclass      integer   p25      .all    2.0000000 2        \n",
       "30  Pclass      integer   p50      .all    3.0000000 3        \n",
       "... ...         ...       ...      ...   ...         ...      \n",
       "83  Ticket      character n        .all  891.00000   891      \n",
       "84  Ticket      character min      .all    3.00000   3        \n",
       "85  Ticket      character max      .all   18.00000   18       \n",
       "86  Ticket      character empty    .all    0.00000   0        \n",
       "87  Ticket      character n_unique .all  681.00000   681      \n",
       "88  Fare        numeric   missing  .all    0.00000   0        \n",
       "89  Fare        numeric   complete .all  891.00000   891      \n",
       "90  Fare        numeric   n        .all  891.00000   891      \n",
       "91  Fare        numeric   mean     .all   32.20421   32.2     \n",
       "92  Fare        numeric   sd       .all   49.69343   49.69    \n",
       "93  Fare        numeric   p0       .all    0.00000   0        \n",
       "94  Fare        numeric   p25      .all    7.91040   7.91     \n",
       "95  Fare        numeric   p50      .all   14.45420   14.45    \n",
       "96  Fare        numeric   p75      .all   31.00000   31       \n",
       "97  Fare        numeric   p100     .all  512.32920   512.33   \n",
       "98  Fare        numeric   hist     .all         NA   ▇▁▁▁▁▁▁▁ \n",
       "99  Cabin       character missing  .all    0.00000   0        \n",
       "100 Cabin       character complete .all  891.00000   891      \n",
       "101 Cabin       character n        .all  891.00000   891      \n",
       "102 Cabin       character min      .all    0.00000   0        \n",
       "103 Cabin       character max      .all   15.00000   15       \n",
       "104 Cabin       character empty    .all  687.00000   687      \n",
       "105 Cabin       character n_unique .all  148.00000   148      \n",
       "106 Embarked    character missing  .all    0.00000   0        \n",
       "107 Embarked    character complete .all  891.00000   891      \n",
       "108 Embarked    character n        .all  891.00000   891      \n",
       "109 Embarked    character min      .all    0.00000   0        \n",
       "110 Embarked    character max      .all    1.00000   1        \n",
       "111 Embarked    character empty    .all    2.00000   2        \n",
       "112 Embarked    character n_unique .all    4.00000   4        "
      ]
     },
     "metadata": {},
     "output_type": "display_data"
    }
   ],
   "source": [
    "# install.packages('skimr', repos = 'http://cran.us.r-project.org')\n",
    "library(skimr)\n",
    "skim(train)"
   ]
  },
  {
   "cell_type": "code",
   "execution_count": 27,
   "metadata": {
    "run_control": {
     "frozen": false,
     "read_only": false
    },
    "scrolled": true,
    "slideshow": {
     "slide_type": "subslide"
    }
   },
   "outputs": [
    {
     "ename": "ERROR",
     "evalue": "Error in loadNamespace(name): there is no package called ‘summarytools’\n",
     "output_type": "error",
     "traceback": [
      "Error in loadNamespace(name): there is no package called ‘summarytools’\nTraceback:\n",
      "1. summarytools::descr",
      "2. getExportedValue(pkg, name)",
      "3. asNamespace(ns)",
      "4. getNamespace(ns)",
      "5. tryCatch(loadNamespace(name), error = function(e) stop(e))",
      "6. tryCatchList(expr, classes, parentenv, handlers)",
      "7. tryCatchOne(expr, names, parentenv, handlers[[1L]])",
      "8. value[[3L]](cond)"
     ]
    }
   ],
   "source": [
    "# install.packages('summarytools', repos = pos = 'http://cran.us.r-project.org')\n",
    "# library(summarytools)\n",
    "summarytools::descr(train)\n",
    "dfSummary(train)"
   ]
  },
  {
   "cell_type": "code",
   "execution_count": null,
   "metadata": {
    "run_control": {
     "frozen": false,
     "marked": false,
     "read_only": false
    },
    "scrolled": true,
    "slideshow": {
     "slide_type": "subslide"
    }
   },
   "outputs": [],
   "source": [
    "# stargazer package install.packages('stargazer', repos =\n",
    "# 'http://cran.us.r-project.org')\n",
    "mydata <- mtcars\n",
    "library(stargazer)\n",
    "stargazer(mydata, type = \"text\", title = \"Descriptive statistics\", digits = 1, out = \"data/table1.txt\")\n",
    "\n",
    "# document for stargazer package:\n",
    "# https://cran.r-project.org/web/packages/stargazer/vignettes/stargazer.pdf"
   ]
  },
  {
   "cell_type": "markdown",
   "metadata": {
    "slideshow": {
     "slide_type": "slide"
    }
   },
   "source": [
    "Interactive web app:  \n",
    "https://vasileiostsakalos.shinyapps.io/descriptive_analysis_pt1/ "
   ]
  },
  {
   "cell_type": "markdown",
   "metadata": {
    "slideshow": {
     "slide_type": "slide"
    }
   },
   "source": [
    "https://towardsdatascience.com/understanding-descriptive-statistics-c9c2b0641291  "
   ]
  },
  {
   "cell_type": "markdown",
   "metadata": {
    "slideshow": {
     "slide_type": "slide"
    }
   },
   "source": [
    "## Anscombe’s Quartet"
   ]
  },
  {
   "cell_type": "markdown",
   "metadata": {
    "slideshow": {
     "slide_type": "fragment"
    }
   },
   "source": [
    "https://eagereyes.org/criticism/anscombes-quartet"
   ]
  }
 ],
 "metadata": {
  "celltoolbar": "Slideshow",
  "hide_input": false,
  "kernelspec": {
   "display_name": "R",
   "language": "R",
   "name": "r"
  },
  "language_info": {
   "codemirror_mode": "r",
   "file_extension": ".r",
   "mimetype": "text/x-r-source",
   "name": "R",
   "pygments_lexer": "r",
   "version": "3.4.1"
  },
  "nav_menu": {},
  "toc": {
   "nav_menu": {},
   "number_sections": false,
   "sideBar": true,
   "skip_h1_title": false,
   "toc_cell": true,
   "toc_position": {
    "height": "calc(100% - 180px)",
    "left": "10px",
    "top": "150px",
    "width": "256px"
   },
   "toc_section_display": "block",
   "toc_window_display": false
  }
 },
 "nbformat": 4,
 "nbformat_minor": 2
}
