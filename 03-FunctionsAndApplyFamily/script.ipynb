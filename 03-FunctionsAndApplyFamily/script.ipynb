{
 "cells": [
  {
   "cell_type": "code",
   "execution_count": 3,
   "metadata": {},
   "outputs": [
    {
     "data": {
      "text/html": [
       "<ol>\n",
       "\t<li>'bile'</li>\n",
       "\t<li>'neau'</li>\n",
       "\t<li>'oeni'</li>\n",
       "\t<li>'ttle'</li>\n",
       "\t<li>'s An'</li>\n",
       "\t<li>'cram'</li>\n",
       "\t<li>'n Fr'</li>\n",
       "\t<li>'nver'</li>\n",
       "\t<li>'rtfo'</li>\n",
       "\t<li>'lmin'</li>\n",
       "\t<li>'shin'</li>\n",
       "\t<li>'ckso'</li>\n",
       "\t<li>'ami'</li>\n",
       "\t<li>'lant'</li>\n",
       "\t<li>'nolu'</li>\n",
       "\t<li>'ise'</li>\n",
       "\t<li>'icag'</li>\n",
       "\t<li>'oria'</li>\n",
       "\t<li>'dian'</li>\n",
       "\t<li>'s Mo'</li>\n",
       "\t<li>'chit'</li>\n",
       "\t<li>'uisv'</li>\n",
       "\t<li>'w Or'</li>\n",
       "\t<li>'rtla'</li>\n",
       "\t<li>'ltim'</li>\n",
       "\t<li>'ston'</li>\n",
       "\t<li>'troi'</li>\n",
       "\t<li>'ult '</li>\n",
       "\t<li>'luth'</li>\n",
       "\t<li>'nnea'</li>\n",
       "\t<li>'ckso'</li>\n",
       "\t<li>'nsas'</li>\n",
       "\t<li>' Lou'</li>\n",
       "\t<li>'eat '</li>\n",
       "\t<li>'aha'</li>\n",
       "\t<li>'no'</li>\n",
       "\t<li>'ncor'</li>\n",
       "\t<li>'lant'</li>\n",
       "\t<li>'buqu'</li>\n",
       "\t<li>'bany'</li>\n",
       "\t<li>'ffal'</li>\n",
       "\t<li>'w Yo'</li>\n",
       "\t<li>'arlo'</li>\n",
       "\t<li>'leig'</li>\n",
       "\t<li>'smar'</li>\n",
       "\t<li>'ncin'</li>\n",
       "\t<li>'evel'</li>\n",
       "\t<li>'lumb'</li>\n",
       "\t<li>'laho'</li>\n",
       "\t<li>'rtla'</li>\n",
       "\t<li>'ilad'</li>\n",
       "\t<li>'ttsb'</li>\n",
       "\t<li>'ovid'</li>\n",
       "\t<li>'lumb'</li>\n",
       "\t<li>'oux '</li>\n",
       "\t<li>'mphi'</li>\n",
       "\t<li>'shvi'</li>\n",
       "\t<li>'llas'</li>\n",
       "\t<li>' Pas'</li>\n",
       "\t<li>'usto'</li>\n",
       "\t<li>'lt L'</li>\n",
       "\t<li>'rlin'</li>\n",
       "\t<li>'rfol'</li>\n",
       "\t<li>'chmo'</li>\n",
       "\t<li>'attl'</li>\n",
       "\t<li>'okan'</li>\n",
       "\t<li>'arle'</li>\n",
       "\t<li>'lwau'</li>\n",
       "\t<li>'eyen'</li>\n",
       "\t<li>'n Ju'</li>\n",
       "</ol>\n"
      ],
      "text/latex": [
       "\\begin{enumerate}\n",
       "\\item 'bile'\n",
       "\\item 'neau'\n",
       "\\item 'oeni'\n",
       "\\item 'ttle'\n",
       "\\item 's An'\n",
       "\\item 'cram'\n",
       "\\item 'n Fr'\n",
       "\\item 'nver'\n",
       "\\item 'rtfo'\n",
       "\\item 'lmin'\n",
       "\\item 'shin'\n",
       "\\item 'ckso'\n",
       "\\item 'ami'\n",
       "\\item 'lant'\n",
       "\\item 'nolu'\n",
       "\\item 'ise'\n",
       "\\item 'icag'\n",
       "\\item 'oria'\n",
       "\\item 'dian'\n",
       "\\item 's Mo'\n",
       "\\item 'chit'\n",
       "\\item 'uisv'\n",
       "\\item 'w Or'\n",
       "\\item 'rtla'\n",
       "\\item 'ltim'\n",
       "\\item 'ston'\n",
       "\\item 'troi'\n",
       "\\item 'ult '\n",
       "\\item 'luth'\n",
       "\\item 'nnea'\n",
       "\\item 'ckso'\n",
       "\\item 'nsas'\n",
       "\\item ' Lou'\n",
       "\\item 'eat '\n",
       "\\item 'aha'\n",
       "\\item 'no'\n",
       "\\item 'ncor'\n",
       "\\item 'lant'\n",
       "\\item 'buqu'\n",
       "\\item 'bany'\n",
       "\\item 'ffal'\n",
       "\\item 'w Yo'\n",
       "\\item 'arlo'\n",
       "\\item 'leig'\n",
       "\\item 'smar'\n",
       "\\item 'ncin'\n",
       "\\item 'evel'\n",
       "\\item 'lumb'\n",
       "\\item 'laho'\n",
       "\\item 'rtla'\n",
       "\\item 'ilad'\n",
       "\\item 'ttsb'\n",
       "\\item 'ovid'\n",
       "\\item 'lumb'\n",
       "\\item 'oux '\n",
       "\\item 'mphi'\n",
       "\\item 'shvi'\n",
       "\\item 'llas'\n",
       "\\item ' Pas'\n",
       "\\item 'usto'\n",
       "\\item 'lt L'\n",
       "\\item 'rlin'\n",
       "\\item 'rfol'\n",
       "\\item 'chmo'\n",
       "\\item 'attl'\n",
       "\\item 'okan'\n",
       "\\item 'arle'\n",
       "\\item 'lwau'\n",
       "\\item 'eyen'\n",
       "\\item 'n Ju'\n",
       "\\end{enumerate}\n"
      ],
      "text/markdown": [
       "1. 'bile'\n",
       "2. 'neau'\n",
       "3. 'oeni'\n",
       "4. 'ttle'\n",
       "5. 's An'\n",
       "6. 'cram'\n",
       "7. 'n Fr'\n",
       "8. 'nver'\n",
       "9. 'rtfo'\n",
       "10. 'lmin'\n",
       "11. 'shin'\n",
       "12. 'ckso'\n",
       "13. 'ami'\n",
       "14. 'lant'\n",
       "15. 'nolu'\n",
       "16. 'ise'\n",
       "17. 'icag'\n",
       "18. 'oria'\n",
       "19. 'dian'\n",
       "20. 's Mo'\n",
       "21. 'chit'\n",
       "22. 'uisv'\n",
       "23. 'w Or'\n",
       "24. 'rtla'\n",
       "25. 'ltim'\n",
       "26. 'ston'\n",
       "27. 'troi'\n",
       "28. 'ult '\n",
       "29. 'luth'\n",
       "30. 'nnea'\n",
       "31. 'ckso'\n",
       "32. 'nsas'\n",
       "33. ' Lou'\n",
       "34. 'eat '\n",
       "35. 'aha'\n",
       "36. 'no'\n",
       "37. 'ncor'\n",
       "38. 'lant'\n",
       "39. 'buqu'\n",
       "40. 'bany'\n",
       "41. 'ffal'\n",
       "42. 'w Yo'\n",
       "43. 'arlo'\n",
       "44. 'leig'\n",
       "45. 'smar'\n",
       "46. 'ncin'\n",
       "47. 'evel'\n",
       "48. 'lumb'\n",
       "49. 'laho'\n",
       "50. 'rtla'\n",
       "51. 'ilad'\n",
       "52. 'ttsb'\n",
       "53. 'ovid'\n",
       "54. 'lumb'\n",
       "55. 'oux '\n",
       "56. 'mphi'\n",
       "57. 'shvi'\n",
       "58. 'llas'\n",
       "59. ' Pas'\n",
       "60. 'usto'\n",
       "61. 'lt L'\n",
       "62. 'rlin'\n",
       "63. 'rfol'\n",
       "64. 'chmo'\n",
       "65. 'attl'\n",
       "66. 'okan'\n",
       "67. 'arle'\n",
       "68. 'lwau'\n",
       "69. 'eyen'\n",
       "70. 'n Ju'\n",
       "\n",
       "\n"
      ],
      "text/plain": [
       "[[1]]\n",
       "[1] \"bile\"\n",
       "\n",
       "[[2]]\n",
       "[1] \"neau\"\n",
       "\n",
       "[[3]]\n",
       "[1] \"oeni\"\n",
       "\n",
       "[[4]]\n",
       "[1] \"ttle\"\n",
       "\n",
       "[[5]]\n",
       "[1] \"s An\"\n",
       "\n",
       "[[6]]\n",
       "[1] \"cram\"\n",
       "\n",
       "[[7]]\n",
       "[1] \"n Fr\"\n",
       "\n",
       "[[8]]\n",
       "[1] \"nver\"\n",
       "\n",
       "[[9]]\n",
       "[1] \"rtfo\"\n",
       "\n",
       "[[10]]\n",
       "[1] \"lmin\"\n",
       "\n",
       "[[11]]\n",
       "[1] \"shin\"\n",
       "\n",
       "[[12]]\n",
       "[1] \"ckso\"\n",
       "\n",
       "[[13]]\n",
       "[1] \"ami\"\n",
       "\n",
       "[[14]]\n",
       "[1] \"lant\"\n",
       "\n",
       "[[15]]\n",
       "[1] \"nolu\"\n",
       "\n",
       "[[16]]\n",
       "[1] \"ise\"\n",
       "\n",
       "[[17]]\n",
       "[1] \"icag\"\n",
       "\n",
       "[[18]]\n",
       "[1] \"oria\"\n",
       "\n",
       "[[19]]\n",
       "[1] \"dian\"\n",
       "\n",
       "[[20]]\n",
       "[1] \"s Mo\"\n",
       "\n",
       "[[21]]\n",
       "[1] \"chit\"\n",
       "\n",
       "[[22]]\n",
       "[1] \"uisv\"\n",
       "\n",
       "[[23]]\n",
       "[1] \"w Or\"\n",
       "\n",
       "[[24]]\n",
       "[1] \"rtla\"\n",
       "\n",
       "[[25]]\n",
       "[1] \"ltim\"\n",
       "\n",
       "[[26]]\n",
       "[1] \"ston\"\n",
       "\n",
       "[[27]]\n",
       "[1] \"troi\"\n",
       "\n",
       "[[28]]\n",
       "[1] \"ult \"\n",
       "\n",
       "[[29]]\n",
       "[1] \"luth\"\n",
       "\n",
       "[[30]]\n",
       "[1] \"nnea\"\n",
       "\n",
       "[[31]]\n",
       "[1] \"ckso\"\n",
       "\n",
       "[[32]]\n",
       "[1] \"nsas\"\n",
       "\n",
       "[[33]]\n",
       "[1] \" Lou\"\n",
       "\n",
       "[[34]]\n",
       "[1] \"eat \"\n",
       "\n",
       "[[35]]\n",
       "[1] \"aha\"\n",
       "\n",
       "[[36]]\n",
       "[1] \"no\"\n",
       "\n",
       "[[37]]\n",
       "[1] \"ncor\"\n",
       "\n",
       "[[38]]\n",
       "[1] \"lant\"\n",
       "\n",
       "[[39]]\n",
       "[1] \"buqu\"\n",
       "\n",
       "[[40]]\n",
       "[1] \"bany\"\n",
       "\n",
       "[[41]]\n",
       "[1] \"ffal\"\n",
       "\n",
       "[[42]]\n",
       "[1] \"w Yo\"\n",
       "\n",
       "[[43]]\n",
       "[1] \"arlo\"\n",
       "\n",
       "[[44]]\n",
       "[1] \"leig\"\n",
       "\n",
       "[[45]]\n",
       "[1] \"smar\"\n",
       "\n",
       "[[46]]\n",
       "[1] \"ncin\"\n",
       "\n",
       "[[47]]\n",
       "[1] \"evel\"\n",
       "\n",
       "[[48]]\n",
       "[1] \"lumb\"\n",
       "\n",
       "[[49]]\n",
       "[1] \"laho\"\n",
       "\n",
       "[[50]]\n",
       "[1] \"rtla\"\n",
       "\n",
       "[[51]]\n",
       "[1] \"ilad\"\n",
       "\n",
       "[[52]]\n",
       "[1] \"ttsb\"\n",
       "\n",
       "[[53]]\n",
       "[1] \"ovid\"\n",
       "\n",
       "[[54]]\n",
       "[1] \"lumb\"\n",
       "\n",
       "[[55]]\n",
       "[1] \"oux \"\n",
       "\n",
       "[[56]]\n",
       "[1] \"mphi\"\n",
       "\n",
       "[[57]]\n",
       "[1] \"shvi\"\n",
       "\n",
       "[[58]]\n",
       "[1] \"llas\"\n",
       "\n",
       "[[59]]\n",
       "[1] \" Pas\"\n",
       "\n",
       "[[60]]\n",
       "[1] \"usto\"\n",
       "\n",
       "[[61]]\n",
       "[1] \"lt L\"\n",
       "\n",
       "[[62]]\n",
       "[1] \"rlin\"\n",
       "\n",
       "[[63]]\n",
       "[1] \"rfol\"\n",
       "\n",
       "[[64]]\n",
       "[1] \"chmo\"\n",
       "\n",
       "[[65]]\n",
       "[1] \"attl\"\n",
       "\n",
       "[[66]]\n",
       "[1] \"okan\"\n",
       "\n",
       "[[67]]\n",
       "[1] \"arle\"\n",
       "\n",
       "[[68]]\n",
       "[1] \"lwau\"\n",
       "\n",
       "[[69]]\n",
       "[1] \"eyen\"\n",
       "\n",
       "[[70]]\n",
       "[1] \"n Ju\"\n"
      ]
     },
     "metadata": {},
     "output_type": "display_data"
    },
    {
     "data": {
      "text/html": [
       "<ol class=list-inline>\n",
       "\t<li>1</li>\n",
       "\t<li>2</li>\n",
       "\t<li>3</li>\n",
       "\t<li>4</li>\n",
       "\t<li>5</li>\n",
       "\t<li>6</li>\n",
       "\t<li>7</li>\n",
       "\t<li>8</li>\n",
       "\t<li>9</li>\n",
       "\t<li>10</li>\n",
       "\t<li>11</li>\n",
       "\t<li>12</li>\n",
       "\t<li>13</li>\n",
       "\t<li>14</li>\n",
       "\t<li>15</li>\n",
       "\t<li>16</li>\n",
       "\t<li>17</li>\n",
       "\t<li>18</li>\n",
       "</ol>\n"
      ],
      "text/latex": [
       "\\begin{enumerate*}\n",
       "\\item 1\n",
       "\\item 2\n",
       "\\item 3\n",
       "\\item 4\n",
       "\\item 5\n",
       "\\item 6\n",
       "\\item 7\n",
       "\\item 8\n",
       "\\item 9\n",
       "\\item 10\n",
       "\\item 11\n",
       "\\item 12\n",
       "\\item 13\n",
       "\\item 14\n",
       "\\item 15\n",
       "\\item 16\n",
       "\\item 17\n",
       "\\item 18\n",
       "\\end{enumerate*}\n"
      ],
      "text/markdown": [
       "1. 1\n",
       "2. 2\n",
       "3. 3\n",
       "4. 4\n",
       "5. 5\n",
       "6. 6\n",
       "7. 7\n",
       "8. 8\n",
       "9. 9\n",
       "10. 10\n",
       "11. 11\n",
       "12. 12\n",
       "13. 13\n",
       "14. 14\n",
       "15. 15\n",
       "16. 16\n",
       "17. 17\n",
       "18. 18\n",
       "\n",
       "\n"
      ],
      "text/plain": [
       ", , 1\n",
       "\n",
       "     [,1] [,2] [,3]\n",
       "[1,]    1    3    5\n",
       "[2,]    2    4    6\n",
       "\n",
       ", , 2\n",
       "\n",
       "     [,1] [,2] [,3]\n",
       "[1,]    7    9   11\n",
       "[2,]    8   10   12\n",
       "\n",
       ", , 3\n",
       "\n",
       "     [,1] [,2] [,3]\n",
       "[1,]   13   15   17\n",
       "[2,]   14   16   18\n"
      ]
     },
     "metadata": {},
     "output_type": "display_data"
    },
    {
     "data": {
      "text/html": [
       "<ol>\n",
       "\t<li>6</li>\n",
       "\t<li>68</li>\n",
       "\t<li>78</li>\n",
       "\t<li>171</li>\n",
       "</ol>\n"
      ],
      "text/latex": [
       "\\begin{enumerate}\n",
       "\\item 6\n",
       "\\item 68\n",
       "\\item 78\n",
       "\\item 171\n",
       "\\end{enumerate}\n"
      ],
      "text/markdown": [
       "1. 6\n",
       "2. 68\n",
       "3. 78\n",
       "4. 171\n",
       "\n",
       "\n"
      ],
      "text/plain": [
       "[[1]]\n",
       "[1] 6\n",
       "\n",
       "[[2]]\n",
       "[1] 68\n",
       "\n",
       "[[3]]\n",
       "[1] 78\n",
       "\n",
       "[[4]]\n",
       "[1] 171\n"
      ]
     },
     "metadata": {},
     "output_type": "display_data"
    },
    {
     "data": {
      "text/html": [
       "<table>\n",
       "<thead><tr><th scope=col>Sepal.Length</th><th scope=col>Sepal.Width</th><th scope=col>Petal.Length</th><th scope=col>Petal.Width</th><th scope=col>Species</th></tr></thead>\n",
       "<tbody>\n",
       "\t<tr><td>5.1   </td><td>3.5   </td><td>1.4   </td><td>0.2   </td><td>setosa</td></tr>\n",
       "\t<tr><td>4.9   </td><td>3.0   </td><td>1.4   </td><td>0.2   </td><td>setosa</td></tr>\n",
       "\t<tr><td>4.7   </td><td>3.2   </td><td>1.3   </td><td>0.2   </td><td>setosa</td></tr>\n",
       "\t<tr><td>4.6   </td><td>3.1   </td><td>1.5   </td><td>0.2   </td><td>setosa</td></tr>\n",
       "\t<tr><td>5.0   </td><td>3.6   </td><td>1.4   </td><td>0.2   </td><td>setosa</td></tr>\n",
       "\t<tr><td>5.4   </td><td>3.9   </td><td>1.7   </td><td>0.4   </td><td>setosa</td></tr>\n",
       "</tbody>\n",
       "</table>\n"
      ],
      "text/latex": [
       "\\begin{tabular}{r|lllll}\n",
       " Sepal.Length & Sepal.Width & Petal.Length & Petal.Width & Species\\\\\n",
       "\\hline\n",
       "\t 5.1    & 3.5    & 1.4    & 0.2    & setosa\\\\\n",
       "\t 4.9    & 3.0    & 1.4    & 0.2    & setosa\\\\\n",
       "\t 4.7    & 3.2    & 1.3    & 0.2    & setosa\\\\\n",
       "\t 4.6    & 3.1    & 1.5    & 0.2    & setosa\\\\\n",
       "\t 5.0    & 3.6    & 1.4    & 0.2    & setosa\\\\\n",
       "\t 5.4    & 3.9    & 1.7    & 0.4    & setosa\\\\\n",
       "\\end{tabular}\n"
      ],
      "text/markdown": [
       "\n",
       "Sepal.Length | Sepal.Width | Petal.Length | Petal.Width | Species | \n",
       "|---|---|---|---|---|---|\n",
       "| 5.1    | 3.5    | 1.4    | 0.2    | setosa | \n",
       "| 4.9    | 3.0    | 1.4    | 0.2    | setosa | \n",
       "| 4.7    | 3.2    | 1.3    | 0.2    | setosa | \n",
       "| 4.6    | 3.1    | 1.5    | 0.2    | setosa | \n",
       "| 5.0    | 3.6    | 1.4    | 0.2    | setosa | \n",
       "| 5.4    | 3.9    | 1.7    | 0.4    | setosa | \n",
       "\n",
       "\n"
      ],
      "text/plain": [
       "  Sepal.Length Sepal.Width Petal.Length Petal.Width Species\n",
       "1 5.1          3.5         1.4          0.2         setosa \n",
       "2 4.9          3.0         1.4          0.2         setosa \n",
       "3 4.7          3.2         1.3          0.2         setosa \n",
       "4 4.6          3.1         1.5          0.2         setosa \n",
       "5 5.0          3.6         1.4          0.2         setosa \n",
       "6 5.4          3.9         1.7          0.4         setosa "
      ]
     },
     "metadata": {},
     "output_type": "display_data"
    },
    {
     "name": "stdout",
     "output_type": "stream",
     "text": [
      "    setosa versicolor  virginica \n",
      "     1.462      4.260      5.552 \n",
      "       5        6        7        8        9 \n",
      "23.61538 29.44444 59.11538 59.96154 31.44828 \n",
      "  L   M   H \n",
      "655 475 390 \n"
     ]
    },
    {
     "data": {
      "text/html": [
       "<table>\n",
       "<thead><tr><th scope=col>Group.1</th><th scope=col>Sepal.Length</th><th scope=col>Sepal.Width</th><th scope=col>Petal.Length</th><th scope=col>Petal.Width</th></tr></thead>\n",
       "<tbody>\n",
       "\t<tr><td>setosa    </td><td>5.006     </td><td>3.428     </td><td>1.462     </td><td>0.246     </td></tr>\n",
       "\t<tr><td>versicolor</td><td>5.936     </td><td>2.770     </td><td>4.260     </td><td>1.326     </td></tr>\n",
       "\t<tr><td>virginica </td><td>6.588     </td><td>2.974     </td><td>5.552     </td><td>2.026     </td></tr>\n",
       "</tbody>\n",
       "</table>\n"
      ],
      "text/latex": [
       "\\begin{tabular}{r|lllll}\n",
       " Group.1 & Sepal.Length & Sepal.Width & Petal.Length & Petal.Width\\\\\n",
       "\\hline\n",
       "\t setosa     & 5.006      & 3.428      & 1.462      & 0.246     \\\\\n",
       "\t versicolor & 5.936      & 2.770      & 4.260      & 1.326     \\\\\n",
       "\t virginica  & 6.588      & 2.974      & 5.552      & 2.026     \\\\\n",
       "\\end{tabular}\n"
      ],
      "text/markdown": [
       "\n",
       "Group.1 | Sepal.Length | Sepal.Width | Petal.Length | Petal.Width | \n",
       "|---|---|---|\n",
       "| setosa     | 5.006      | 3.428      | 1.462      | 0.246      | \n",
       "| versicolor | 5.936      | 2.770      | 4.260      | 1.326      | \n",
       "| virginica  | 6.588      | 2.974      | 5.552      | 2.026      | \n",
       "\n",
       "\n"
      ],
      "text/plain": [
       "  Group.1    Sepal.Length Sepal.Width Petal.Length Petal.Width\n",
       "1 setosa     5.006        3.428       1.462        0.246      \n",
       "2 versicolor 5.936        2.770       4.260        1.326      \n",
       "3 virginica  6.588        2.974       5.552        2.026      "
      ]
     },
     "metadata": {},
     "output_type": "display_data"
    },
    {
     "data": {
      "text/html": [
       "<table>\n",
       "<thead><tr><th scope=col>Group.1</th><th scope=col>mpg</th><th scope=col>cyl</th><th scope=col>disp</th><th scope=col>hp</th><th scope=col>drat</th><th scope=col>wt</th><th scope=col>qsec</th><th scope=col>vs</th><th scope=col>am</th><th scope=col>gear</th><th scope=col>carb</th></tr></thead>\n",
       "<tbody>\n",
       "\t<tr><td>4        </td><td>26.66364 </td><td>4        </td><td>105.1364 </td><td> 82.63636</td><td>4.070909 </td><td>2.285727 </td><td>19.13727 </td><td>0.9090909</td><td>0.7272727</td><td>4.090909 </td><td>1.545455 </td></tr>\n",
       "\t<tr><td>6        </td><td>19.74286 </td><td>6        </td><td>183.3143 </td><td>122.28571</td><td>3.585714 </td><td>3.117143 </td><td>17.97714 </td><td>0.5714286</td><td>0.4285714</td><td>3.857143 </td><td>3.428571 </td></tr>\n",
       "\t<tr><td>8        </td><td>15.10000 </td><td>8        </td><td>353.1000 </td><td>209.21429</td><td>3.229286 </td><td>3.999214 </td><td>16.77214 </td><td>0.0000000</td><td>0.1428571</td><td>3.285714 </td><td>3.500000 </td></tr>\n",
       "</tbody>\n",
       "</table>\n"
      ],
      "text/latex": [
       "\\begin{tabular}{r|llllllllllll}\n",
       " Group.1 & mpg & cyl & disp & hp & drat & wt & qsec & vs & am & gear & carb\\\\\n",
       "\\hline\n",
       "\t 4         & 26.66364  & 4         & 105.1364  &  82.63636 & 4.070909  & 2.285727  & 19.13727  & 0.9090909 & 0.7272727 & 4.090909  & 1.545455 \\\\\n",
       "\t 6         & 19.74286  & 6         & 183.3143  & 122.28571 & 3.585714  & 3.117143  & 17.97714  & 0.5714286 & 0.4285714 & 3.857143  & 3.428571 \\\\\n",
       "\t 8         & 15.10000  & 8         & 353.1000  & 209.21429 & 3.229286  & 3.999214  & 16.77214  & 0.0000000 & 0.1428571 & 3.285714  & 3.500000 \\\\\n",
       "\\end{tabular}\n"
      ],
      "text/markdown": [
       "\n",
       "Group.1 | mpg | cyl | disp | hp | drat | wt | qsec | vs | am | gear | carb | \n",
       "|---|---|---|\n",
       "| 4         | 26.66364  | 4         | 105.1364  |  82.63636 | 4.070909  | 2.285727  | 19.13727  | 0.9090909 | 0.7272727 | 4.090909  | 1.545455  | \n",
       "| 6         | 19.74286  | 6         | 183.3143  | 122.28571 | 3.585714  | 3.117143  | 17.97714  | 0.5714286 | 0.4285714 | 3.857143  | 3.428571  | \n",
       "| 8         | 15.10000  | 8         | 353.1000  | 209.21429 | 3.229286  | 3.999214  | 16.77214  | 0.0000000 | 0.1428571 | 3.285714  | 3.500000  | \n",
       "\n",
       "\n"
      ],
      "text/plain": [
       "  Group.1 mpg      cyl disp     hp        drat     wt       qsec     vs       \n",
       "1 4       26.66364 4   105.1364  82.63636 4.070909 2.285727 19.13727 0.9090909\n",
       "2 6       19.74286 6   183.3143 122.28571 3.585714 3.117143 17.97714 0.5714286\n",
       "3 8       15.10000 8   353.1000 209.21429 3.229286 3.999214 16.77214 0.0000000\n",
       "  am        gear     carb    \n",
       "1 0.7272727 4.090909 1.545455\n",
       "2 0.4285714 3.857143 3.428571\n",
       "3 0.1428571 3.285714 3.500000"
      ]
     },
     "metadata": {},
     "output_type": "display_data"
    },
    {
     "data": {
      "text/html": [
       "<table>\n",
       "<thead><tr><th scope=col>feed</th><th scope=col>weight</th></tr></thead>\n",
       "<tbody>\n",
       "\t<tr><td>casein   </td><td>323.5833 </td></tr>\n",
       "\t<tr><td>horsebean</td><td>160.2000 </td></tr>\n",
       "\t<tr><td>linseed  </td><td>218.7500 </td></tr>\n",
       "\t<tr><td>meatmeal </td><td>276.9091 </td></tr>\n",
       "\t<tr><td>soybean  </td><td>246.4286 </td></tr>\n",
       "\t<tr><td>sunflower</td><td>328.9167 </td></tr>\n",
       "</tbody>\n",
       "</table>\n"
      ],
      "text/latex": [
       "\\begin{tabular}{r|ll}\n",
       " feed & weight\\\\\n",
       "\\hline\n",
       "\t casein    & 323.5833 \\\\\n",
       "\t horsebean & 160.2000 \\\\\n",
       "\t linseed   & 218.7500 \\\\\n",
       "\t meatmeal  & 276.9091 \\\\\n",
       "\t soybean   & 246.4286 \\\\\n",
       "\t sunflower & 328.9167 \\\\\n",
       "\\end{tabular}\n"
      ],
      "text/markdown": [
       "\n",
       "feed | weight | \n",
       "|---|---|---|---|---|---|\n",
       "| casein    | 323.5833  | \n",
       "| horsebean | 160.2000  | \n",
       "| linseed   | 218.7500  | \n",
       "| meatmeal  | 276.9091  | \n",
       "| soybean   | 246.4286  | \n",
       "| sunflower | 328.9167  | \n",
       "\n",
       "\n"
      ],
      "text/plain": [
       "  feed      weight  \n",
       "1 casein    323.5833\n",
       "2 horsebean 160.2000\n",
       "3 linseed   218.7500\n",
       "4 meatmeal  276.9091\n",
       "5 soybean   246.4286\n",
       "6 sunflower 328.9167"
      ]
     },
     "metadata": {},
     "output_type": "display_data"
    },
    {
     "data": {
      "text/html": [
       "<table>\n",
       "<thead><tr><th scope=col>wool</th><th scope=col>tension</th><th scope=col>breaks</th></tr></thead>\n",
       "<tbody>\n",
       "\t<tr><td>A       </td><td>L       </td><td>44.55556</td></tr>\n",
       "\t<tr><td>B       </td><td>L       </td><td>28.22222</td></tr>\n",
       "\t<tr><td>A       </td><td>M       </td><td>24.00000</td></tr>\n",
       "\t<tr><td>B       </td><td>M       </td><td>28.77778</td></tr>\n",
       "\t<tr><td>A       </td><td>H       </td><td>24.55556</td></tr>\n",
       "\t<tr><td>B       </td><td>H       </td><td>18.77778</td></tr>\n",
       "</tbody>\n",
       "</table>\n"
      ],
      "text/latex": [
       "\\begin{tabular}{r|lll}\n",
       " wool & tension & breaks\\\\\n",
       "\\hline\n",
       "\t A        & L        & 44.55556\\\\\n",
       "\t B        & L        & 28.22222\\\\\n",
       "\t A        & M        & 24.00000\\\\\n",
       "\t B        & M        & 28.77778\\\\\n",
       "\t A        & H        & 24.55556\\\\\n",
       "\t B        & H        & 18.77778\\\\\n",
       "\\end{tabular}\n"
      ],
      "text/markdown": [
       "\n",
       "wool | tension | breaks | \n",
       "|---|---|---|---|---|---|\n",
       "| A        | L        | 44.55556 | \n",
       "| B        | L        | 28.22222 | \n",
       "| A        | M        | 24.00000 | \n",
       "| B        | M        | 28.77778 | \n",
       "| A        | H        | 24.55556 | \n",
       "| B        | H        | 18.77778 | \n",
       "\n",
       "\n"
      ],
      "text/plain": [
       "  wool tension breaks  \n",
       "1 A    L       44.55556\n",
       "2 B    L       28.22222\n",
       "3 A    M       24.00000\n",
       "4 B    M       28.77778\n",
       "5 A    H       24.55556\n",
       "6 B    H       18.77778"
      ]
     },
     "metadata": {},
     "output_type": "display_data"
    },
    {
     "data": {
      "text/html": [
       "<table>\n",
       "<thead><tr><th scope=col>Month</th><th scope=col>Ozone</th><th scope=col>Temp</th></tr></thead>\n",
       "<tbody>\n",
       "\t<tr><td>5       </td><td>23.61538</td><td>66.73077</td></tr>\n",
       "\t<tr><td>6       </td><td>29.44444</td><td>78.22222</td></tr>\n",
       "\t<tr><td>7       </td><td>59.11538</td><td>83.88462</td></tr>\n",
       "\t<tr><td>8       </td><td>59.96154</td><td>83.96154</td></tr>\n",
       "\t<tr><td>9       </td><td>31.44828</td><td>76.89655</td></tr>\n",
       "</tbody>\n",
       "</table>\n"
      ],
      "text/latex": [
       "\\begin{tabular}{r|lll}\n",
       " Month & Ozone & Temp\\\\\n",
       "\\hline\n",
       "\t 5        & 23.61538 & 66.73077\\\\\n",
       "\t 6        & 29.44444 & 78.22222\\\\\n",
       "\t 7        & 59.11538 & 83.88462\\\\\n",
       "\t 8        & 59.96154 & 83.96154\\\\\n",
       "\t 9        & 31.44828 & 76.89655\\\\\n",
       "\\end{tabular}\n"
      ],
      "text/markdown": [
       "\n",
       "Month | Ozone | Temp | \n",
       "|---|---|---|---|---|\n",
       "| 5        | 23.61538 | 66.73077 | \n",
       "| 6        | 29.44444 | 78.22222 | \n",
       "| 7        | 59.11538 | 83.88462 | \n",
       "| 8        | 59.96154 | 83.96154 | \n",
       "| 9        | 31.44828 | 76.89655 | \n",
       "\n",
       "\n"
      ],
      "text/plain": [
       "  Month Ozone    Temp    \n",
       "1 5     23.61538 66.73077\n",
       "2 6     29.44444 78.22222\n",
       "3 7     59.11538 83.88462\n",
       "4 8     59.96154 83.96154\n",
       "5 9     31.44828 76.89655"
      ]
     },
     "metadata": {},
     "output_type": "display_data"
    },
    {
     "data": {
      "text/html": [
       "<table>\n",
       "<thead><tr><th scope=col>alcgp</th><th scope=col>tobgp</th><th scope=col>ncases</th><th scope=col>ncontrols</th></tr></thead>\n",
       "<tbody>\n",
       "\t<tr><td>0-39g/day</td><td>0-9g/day </td><td> 9       </td><td>261      </td></tr>\n",
       "\t<tr><td>40-79    </td><td>0-9g/day </td><td>34       </td><td>179      </td></tr>\n",
       "\t<tr><td>80-119   </td><td>0-9g/day </td><td>19       </td><td> 61      </td></tr>\n",
       "\t<tr><td>120+     </td><td>0-9g/day </td><td>16       </td><td> 24      </td></tr>\n",
       "\t<tr><td>0-39g/day</td><td>10-19    </td><td>10       </td><td> 84      </td></tr>\n",
       "\t<tr><td>40-79    </td><td>10-19    </td><td>17       </td><td> 85      </td></tr>\n",
       "\t<tr><td>80-119   </td><td>10-19    </td><td>19       </td><td> 49      </td></tr>\n",
       "\t<tr><td>120+     </td><td>10-19    </td><td>12       </td><td> 18      </td></tr>\n",
       "\t<tr><td>0-39g/day</td><td>20-29    </td><td> 5       </td><td> 42      </td></tr>\n",
       "\t<tr><td>40-79    </td><td>20-29    </td><td>15       </td><td> 62      </td></tr>\n",
       "\t<tr><td>80-119   </td><td>20-29    </td><td> 6       </td><td> 16      </td></tr>\n",
       "\t<tr><td>120+     </td><td>20-29    </td><td> 7       </td><td> 12      </td></tr>\n",
       "\t<tr><td>0-39g/day</td><td>30+      </td><td> 5       </td><td> 28      </td></tr>\n",
       "\t<tr><td>40-79    </td><td>30+      </td><td> 9       </td><td> 29      </td></tr>\n",
       "\t<tr><td>80-119   </td><td>30+      </td><td> 7       </td><td> 12      </td></tr>\n",
       "\t<tr><td>120+     </td><td>30+      </td><td>10       </td><td> 13      </td></tr>\n",
       "</tbody>\n",
       "</table>\n"
      ],
      "text/latex": [
       "\\begin{tabular}{r|llll}\n",
       " alcgp & tobgp & ncases & ncontrols\\\\\n",
       "\\hline\n",
       "\t 0-39g/day & 0-9g/day  &  9        & 261      \\\\\n",
       "\t 40-79     & 0-9g/day  & 34        & 179      \\\\\n",
       "\t 80-119    & 0-9g/day  & 19        &  61      \\\\\n",
       "\t 120+      & 0-9g/day  & 16        &  24      \\\\\n",
       "\t 0-39g/day & 10-19     & 10        &  84      \\\\\n",
       "\t 40-79     & 10-19     & 17        &  85      \\\\\n",
       "\t 80-119    & 10-19     & 19        &  49      \\\\\n",
       "\t 120+      & 10-19     & 12        &  18      \\\\\n",
       "\t 0-39g/day & 20-29     &  5        &  42      \\\\\n",
       "\t 40-79     & 20-29     & 15        &  62      \\\\\n",
       "\t 80-119    & 20-29     &  6        &  16      \\\\\n",
       "\t 120+      & 20-29     &  7        &  12      \\\\\n",
       "\t 0-39g/day & 30+       &  5        &  28      \\\\\n",
       "\t 40-79     & 30+       &  9        &  29      \\\\\n",
       "\t 80-119    & 30+       &  7        &  12      \\\\\n",
       "\t 120+      & 30+       & 10        &  13      \\\\\n",
       "\\end{tabular}\n"
      ],
      "text/markdown": [
       "\n",
       "alcgp | tobgp | ncases | ncontrols | \n",
       "|---|---|---|---|---|---|---|---|---|---|---|---|---|---|---|---|\n",
       "| 0-39g/day | 0-9g/day  |  9        | 261       | \n",
       "| 40-79     | 0-9g/day  | 34        | 179       | \n",
       "| 80-119    | 0-9g/day  | 19        |  61       | \n",
       "| 120+      | 0-9g/day  | 16        |  24       | \n",
       "| 0-39g/day | 10-19     | 10        |  84       | \n",
       "| 40-79     | 10-19     | 17        |  85       | \n",
       "| 80-119    | 10-19     | 19        |  49       | \n",
       "| 120+      | 10-19     | 12        |  18       | \n",
       "| 0-39g/day | 20-29     |  5        |  42       | \n",
       "| 40-79     | 20-29     | 15        |  62       | \n",
       "| 80-119    | 20-29     |  6        |  16       | \n",
       "| 120+      | 20-29     |  7        |  12       | \n",
       "| 0-39g/day | 30+       |  5        |  28       | \n",
       "| 40-79     | 30+       |  9        |  29       | \n",
       "| 80-119    | 30+       |  7        |  12       | \n",
       "| 120+      | 30+       | 10        |  13       | \n",
       "\n",
       "\n"
      ],
      "text/plain": [
       "   alcgp     tobgp    ncases ncontrols\n",
       "1  0-39g/day 0-9g/day  9     261      \n",
       "2  40-79     0-9g/day 34     179      \n",
       "3  80-119    0-9g/day 19      61      \n",
       "4  120+      0-9g/day 16      24      \n",
       "5  0-39g/day 10-19    10      84      \n",
       "6  40-79     10-19    17      85      \n",
       "7  80-119    10-19    19      49      \n",
       "8  120+      10-19    12      18      \n",
       "9  0-39g/day 20-29     5      42      \n",
       "10 40-79     20-29    15      62      \n",
       "11 80-119    20-29     6      16      \n",
       "12 120+      20-29     7      12      \n",
       "13 0-39g/day 30+       5      28      \n",
       "14 40-79     30+       9      29      \n",
       "15 80-119    30+       7      12      \n",
       "16 120+      30+      10      13      "
      ]
     },
     "metadata": {},
     "output_type": "display_data"
    },
    {
     "data": {
      "text/html": [
       "<table>\n",
       "<thead><tr><th scope=col>Species</th><th scope=col>Sepal.Length</th><th scope=col>Sepal.Width</th><th scope=col>Petal.Length</th><th scope=col>Petal.Width</th></tr></thead>\n",
       "<tbody>\n",
       "\t<tr><td>setosa    </td><td>5.006     </td><td>3.428     </td><td>1.462     </td><td>0.246     </td></tr>\n",
       "\t<tr><td>versicolor</td><td>5.936     </td><td>2.770     </td><td>4.260     </td><td>1.326     </td></tr>\n",
       "\t<tr><td>virginica </td><td>6.588     </td><td>2.974     </td><td>5.552     </td><td>2.026     </td></tr>\n",
       "</tbody>\n",
       "</table>\n"
      ],
      "text/latex": [
       "\\begin{tabular}{r|lllll}\n",
       " Species & Sepal.Length & Sepal.Width & Petal.Length & Petal.Width\\\\\n",
       "\\hline\n",
       "\t setosa     & 5.006      & 3.428      & 1.462      & 0.246     \\\\\n",
       "\t versicolor & 5.936      & 2.770      & 4.260      & 1.326     \\\\\n",
       "\t virginica  & 6.588      & 2.974      & 5.552      & 2.026     \\\\\n",
       "\\end{tabular}\n"
      ],
      "text/markdown": [
       "\n",
       "Species | Sepal.Length | Sepal.Width | Petal.Length | Petal.Width | \n",
       "|---|---|---|\n",
       "| setosa     | 5.006      | 3.428      | 1.462      | 0.246      | \n",
       "| versicolor | 5.936      | 2.770      | 4.260      | 1.326      | \n",
       "| virginica  | 6.588      | 2.974      | 5.552      | 2.026      | \n",
       "\n",
       "\n"
      ],
      "text/plain": [
       "  Species    Sepal.Length Sepal.Width Petal.Length Petal.Width\n",
       "1 setosa     5.006        3.428       1.462        0.246      \n",
       "2 versicolor 5.936        2.770       4.260        1.326      \n",
       "3 virginica  6.588        2.974       5.552        2.026      "
      ]
     },
     "metadata": {},
     "output_type": "display_data"
    },
    {
     "data": {
      "text/html": [
       "<table>\n",
       "<thead><tr><th scope=col>supp</th><th scope=col>dose</th><th scope=col>len</th></tr></thead>\n",
       "<tbody>\n",
       "\t<tr><td>OJ   </td><td>0.5  </td><td>13.23</td></tr>\n",
       "\t<tr><td>VC   </td><td>0.5  </td><td> 7.98</td></tr>\n",
       "\t<tr><td>OJ   </td><td>1.0  </td><td>22.70</td></tr>\n",
       "\t<tr><td>VC   </td><td>1.0  </td><td>16.77</td></tr>\n",
       "\t<tr><td>OJ   </td><td>2.0  </td><td>26.06</td></tr>\n",
       "\t<tr><td>VC   </td><td>2.0  </td><td>26.14</td></tr>\n",
       "</tbody>\n",
       "</table>\n"
      ],
      "text/latex": [
       "\\begin{tabular}{r|lll}\n",
       " supp & dose & len\\\\\n",
       "\\hline\n",
       "\t OJ    & 0.5   & 13.23\\\\\n",
       "\t VC    & 0.5   &  7.98\\\\\n",
       "\t OJ    & 1.0   & 22.70\\\\\n",
       "\t VC    & 1.0   & 16.77\\\\\n",
       "\t OJ    & 2.0   & 26.06\\\\\n",
       "\t VC    & 2.0   & 26.14\\\\\n",
       "\\end{tabular}\n"
      ],
      "text/markdown": [
       "\n",
       "supp | dose | len | \n",
       "|---|---|---|---|---|---|\n",
       "| OJ    | 0.5   | 13.23 | \n",
       "| VC    | 0.5   |  7.98 | \n",
       "| OJ    | 1.0   | 22.70 | \n",
       "| VC    | 1.0   | 16.77 | \n",
       "| OJ    | 2.0   | 26.06 | \n",
       "| VC    | 2.0   | 26.14 | \n",
       "\n",
       "\n"
      ],
      "text/plain": [
       "  supp dose len  \n",
       "1 OJ   0.5  13.23\n",
       "2 VC   0.5   7.98\n",
       "3 OJ   1.0  22.70\n",
       "4 VC   1.0  16.77\n",
       "5 OJ   2.0  26.06\n",
       "6 VC   2.0  26.14"
      ]
     },
     "metadata": {},
     "output_type": "display_data"
    }
   ],
   "source": [
    "library(stringr)\n",
    "sub <- function(x) {\n",
    "  substr(x,3,6)  \n",
    "}\n",
    "lapply(names(precip), sub)# lapply using user def function\n",
    "a <- array(1:18,dim=c(2,3,3))\n",
    "a\n",
    "lapply(list(c(1,2,3),c(23,45),matrix(1:12,2,6),a), sum) # lapply using the list which contains vector, matrix and array\n",
    "\n",
    "############### tapply ####################\n",
    "head(iris)\n",
    "print(tapply(iris$Petal.Length,iris$Species,mean))\n",
    "print(tapply(airquality$Ozone,airquality$Month,mean,na.rm=TRUE))\n",
    "print(tapply(warpbreaks$breaks,warpbreaks$tension,sum))\n",
    "############# aggregate\n",
    "aggregate(iris[-5], list(iris$Species), mean)\n",
    "aggregate(mtcars, list(mtcars$cyl), mean)\n",
    "## Formulas, one ~ one, one ~ many, many ~ one, and many ~ many:\n",
    "aggregate(weight ~ feed, data = chickwts, mean)\n",
    "aggregate(breaks ~ wool + tension, data = warpbreaks, mean)\n",
    "aggregate(cbind(Ozone, Temp) ~ Month, data = airquality, mean)\n",
    "aggregate(cbind(ncases, ncontrols) ~ alcgp + tobgp, data = esoph, sum)\n",
    "\n",
    "## Dot notation:\n",
    "aggregate(. ~ Species, data = iris, mean)\n",
    "aggregate(len ~ ., data = ToothGrowth, mean)"
   ]
  },
  {
   "cell_type": "code",
   "execution_count": 2,
   "metadata": {},
   "outputs": [
    {
     "name": "stdout",
     "output_type": "stream",
     "text": [
      "[1] 18\n",
      "[1] 6\n",
      "[1] 12\n",
      "[1] 6\n",
      "[1] 6\n"
     ]
    },
    {
     "data": {
      "text/html": [
       "7"
      ],
      "text/latex": [
       "7"
      ],
      "text/markdown": [
       "7"
      ],
      "text/plain": [
       "[1] 7"
      ]
     },
     "metadata": {},
     "output_type": "display_data"
    },
    {
     "name": "stdout",
     "output_type": "stream",
     "text": [
      "[1] 6\n"
     ]
    },
    {
     "data": {
      "text/html": [
       "7"
      ],
      "text/latex": [
       "7"
      ],
      "text/markdown": [
       "7"
      ],
      "text/plain": [
       "[1] 7"
      ]
     },
     "metadata": {},
     "output_type": "display_data"
    },
    {
     "data": {
      "text/html": [
       "6"
      ],
      "text/latex": [
       "6"
      ],
      "text/markdown": [
       "6"
      ],
      "text/plain": [
       "[1] 6"
      ]
     },
     "metadata": {},
     "output_type": "display_data"
    },
    {
     "data": {
      "text/html": [
       "6"
      ],
      "text/latex": [
       "6"
      ],
      "text/markdown": [
       "6"
      ],
      "text/plain": [
       "[1] 6"
      ]
     },
     "metadata": {},
     "output_type": "display_data"
    },
    {
     "name": "stdout",
     "output_type": "stream",
     "text": [
      "[1] 7\n"
     ]
    },
    {
     "data": {
      "text/html": [
       "6"
      ],
      "text/latex": [
       "6"
      ],
      "text/markdown": [
       "6"
      ],
      "text/plain": [
       "[1] 6"
      ]
     },
     "metadata": {},
     "output_type": "display_data"
    },
    {
     "data": {
      "text/html": [
       "269.261111111111"
      ],
      "text/latex": [
       "269.261111111111"
      ],
      "text/markdown": [
       "269.261111111111"
      ],
      "text/plain": [
       "[1] 269.2611"
      ]
     },
     "metadata": {},
     "output_type": "display_data"
    },
    {
     "data": {
      "text/html": [
       "26"
      ],
      "text/latex": [
       "26"
      ],
      "text/markdown": [
       "26"
      ],
      "text/plain": [
       "[1] 26"
      ]
     },
     "metadata": {},
     "output_type": "display_data"
    },
    {
     "data": {
      "text/html": [
       "4"
      ],
      "text/latex": [
       "4"
      ],
      "text/markdown": [
       "4"
      ],
      "text/plain": [
       "[1] 4"
      ]
     },
     "metadata": {},
     "output_type": "display_data"
    },
    {
     "data": {
      "text/html": [
       "10"
      ],
      "text/latex": [
       "10"
      ],
      "text/markdown": [
       "10"
      ],
      "text/plain": [
       "[1] 10"
      ]
     },
     "metadata": {},
     "output_type": "display_data"
    },
    {
     "data": {
      "text/html": [
       "18"
      ],
      "text/latex": [
       "18"
      ],
      "text/markdown": [
       "18"
      ],
      "text/plain": [
       "[1] 18"
      ]
     },
     "metadata": {},
     "output_type": "display_data"
    },
    {
     "data": {
      "text/html": [
       "50"
      ],
      "text/latex": [
       "50"
      ],
      "text/markdown": [
       "50"
      ],
      "text/plain": [
       "[1] 50"
      ]
     },
     "metadata": {},
     "output_type": "display_data"
    },
    {
     "data": {
      "text/html": [
       "30"
      ],
      "text/latex": [
       "30"
      ],
      "text/markdown": [
       "30"
      ],
      "text/plain": [
       "[1] 30"
      ]
     },
     "metadata": {},
     "output_type": "display_data"
    },
    {
     "data": {
      "text/html": [
       "<pre class=language-r><code>function (x, y = 1, z = 2) \n",
       "NULL</code></pre>"
      ],
      "text/latex": [
       "\\begin{minted}{r}\n",
       "function (x, y = 1, z = 2) \n",
       "NULL\n",
       "\\end{minted}"
      ],
      "text/markdown": [
       "```r\n",
       "function (x, y = 1, z = 2) \n",
       "NULL\n",
       "```"
      ],
      "text/plain": [
       "function (x, y = 1, z = 2) \n",
       "NULL"
      ]
     },
     "metadata": {},
     "output_type": "display_data"
    },
    {
     "data": {
      "text/html": [
       "<pre class=language-r><code>function (x, size, replace = FALSE, prob = NULL) \n",
       "NULL</code></pre>"
      ],
      "text/latex": [
       "\\begin{minted}{r}\n",
       "function (x, size, replace = FALSE, prob = NULL) \n",
       "NULL\n",
       "\\end{minted}"
      ],
      "text/markdown": [
       "```r\n",
       "function (x, size, replace = FALSE, prob = NULL) \n",
       "NULL\n",
       "```"
      ],
      "text/plain": [
       "function (x, size, replace = FALSE, prob = NULL) \n",
       "NULL"
      ]
     },
     "metadata": {},
     "output_type": "display_data"
    },
    {
     "data": {
      "text/html": [
       "<ol class=list-inline>\n",
       "\t<li>13</li>\n",
       "\t<li>21</li>\n",
       "\t<li>10</li>\n",
       "\t<li>1</li>\n",
       "\t<li>24</li>\n",
       "\t<li>18</li>\n",
       "\t<li>5</li>\n",
       "\t<li>20</li>\n",
       "\t<li>28</li>\n",
       "\t<li>2</li>\n",
       "\t<li>16</li>\n",
       "\t<li>25</li>\n",
       "\t<li>23</li>\n",
       "\t<li>15</li>\n",
       "\t<li>9</li>\n",
       "\t<li>14</li>\n",
       "</ol>\n"
      ],
      "text/latex": [
       "\\begin{enumerate*}\n",
       "\\item 13\n",
       "\\item 21\n",
       "\\item 10\n",
       "\\item 1\n",
       "\\item 24\n",
       "\\item 18\n",
       "\\item 5\n",
       "\\item 20\n",
       "\\item 28\n",
       "\\item 2\n",
       "\\item 16\n",
       "\\item 25\n",
       "\\item 23\n",
       "\\item 15\n",
       "\\item 9\n",
       "\\item 14\n",
       "\\end{enumerate*}\n"
      ],
      "text/markdown": [
       "1. 13\n",
       "2. 21\n",
       "3. 10\n",
       "4. 1\n",
       "5. 24\n",
       "6. 18\n",
       "7. 5\n",
       "8. 20\n",
       "9. 28\n",
       "10. 2\n",
       "11. 16\n",
       "12. 25\n",
       "13. 23\n",
       "14. 15\n",
       "15. 9\n",
       "16. 14\n",
       "\n",
       "\n"
      ],
      "text/plain": [
       " [1] 13 21 10  1 24 18  5 20 28  2 16 25 23 15  9 14"
      ]
     },
     "metadata": {},
     "output_type": "display_data"
    },
    {
     "data": {
      "text/html": [
       "16"
      ],
      "text/latex": [
       "16"
      ],
      "text/markdown": [
       "16"
      ],
      "text/plain": [
       "[1] 16"
      ]
     },
     "metadata": {},
     "output_type": "display_data"
    },
    {
     "data": {
      "text/html": [
       "<ol class=list-inline>\n",
       "\t<li>11</li>\n",
       "\t<li>27</li>\n",
       "\t<li>9</li>\n",
       "\t<li>20</li>\n",
       "\t<li>28</li>\n",
       "\t<li>12</li>\n",
       "\t<li>29</li>\n",
       "\t<li>19</li>\n",
       "\t<li>8</li>\n",
       "\t<li>30</li>\n",
       "\t<li>5</li>\n",
       "\t<li>16</li>\n",
       "\t<li>15</li>\n",
       "\t<li>2</li>\n",
       "\t<li>18</li>\n",
       "\t<li>4</li>\n",
       "</ol>\n"
      ],
      "text/latex": [
       "\\begin{enumerate*}\n",
       "\\item 11\n",
       "\\item 27\n",
       "\\item 9\n",
       "\\item 20\n",
       "\\item 28\n",
       "\\item 12\n",
       "\\item 29\n",
       "\\item 19\n",
       "\\item 8\n",
       "\\item 30\n",
       "\\item 5\n",
       "\\item 16\n",
       "\\item 15\n",
       "\\item 2\n",
       "\\item 18\n",
       "\\item 4\n",
       "\\end{enumerate*}\n"
      ],
      "text/markdown": [
       "1. 11\n",
       "2. 27\n",
       "3. 9\n",
       "4. 20\n",
       "5. 28\n",
       "6. 12\n",
       "7. 29\n",
       "8. 19\n",
       "9. 8\n",
       "10. 30\n",
       "11. 5\n",
       "12. 16\n",
       "13. 15\n",
       "14. 2\n",
       "15. 18\n",
       "16. 4\n",
       "\n",
       "\n"
      ],
      "text/plain": [
       " [1] 11 27  9 20 28 12 29 19  8 30  5 16 15  2 18  4"
      ]
     },
     "metadata": {},
     "output_type": "display_data"
    },
    {
     "data": {
      "text/html": [
       "<ol class=list-inline>\n",
       "\t<li>3</li>\n",
       "\t<li>5</li>\n",
       "\t<li>21</li>\n",
       "\t<li>12</li>\n",
       "\t<li>18</li>\n",
       "\t<li>15</li>\n",
       "\t<li>2</li>\n",
       "\t<li>9</li>\n",
       "\t<li>8</li>\n",
       "\t<li>25</li>\n",
       "\t<li>28</li>\n",
       "\t<li>26</li>\n",
       "\t<li>22</li>\n",
       "\t<li>11</li>\n",
       "\t<li>14</li>\n",
       "\t<li>30</li>\n",
       "</ol>\n"
      ],
      "text/latex": [
       "\\begin{enumerate*}\n",
       "\\item 3\n",
       "\\item 5\n",
       "\\item 21\n",
       "\\item 12\n",
       "\\item 18\n",
       "\\item 15\n",
       "\\item 2\n",
       "\\item 9\n",
       "\\item 8\n",
       "\\item 25\n",
       "\\item 28\n",
       "\\item 26\n",
       "\\item 22\n",
       "\\item 11\n",
       "\\item 14\n",
       "\\item 30\n",
       "\\end{enumerate*}\n"
      ],
      "text/markdown": [
       "1. 3\n",
       "2. 5\n",
       "3. 21\n",
       "4. 12\n",
       "5. 18\n",
       "6. 15\n",
       "7. 2\n",
       "8. 9\n",
       "9. 8\n",
       "10. 25\n",
       "11. 28\n",
       "12. 26\n",
       "13. 22\n",
       "14. 11\n",
       "15. 14\n",
       "16. 30\n",
       "\n",
       "\n"
      ],
      "text/plain": [
       " [1]  3  5 21 12 18 15  2  9  8 25 28 26 22 11 14 30"
      ]
     },
     "metadata": {},
     "output_type": "display_data"
    },
    {
     "data": {
      "text/html": [
       "<ol class=list-inline>\n",
       "\t<li>26</li>\n",
       "\t<li>23</li>\n",
       "\t<li>23</li>\n",
       "\t<li>24</li>\n",
       "\t<li>15</li>\n",
       "\t<li>30</li>\n",
       "\t<li>8</li>\n",
       "\t<li>6</li>\n",
       "\t<li>22</li>\n",
       "\t<li>24</li>\n",
       "\t<li>10</li>\n",
       "\t<li>8</li>\n",
       "\t<li>12</li>\n",
       "\t<li>17</li>\n",
       "\t<li>10</li>\n",
       "\t<li>9</li>\n",
       "</ol>\n"
      ],
      "text/latex": [
       "\\begin{enumerate*}\n",
       "\\item 26\n",
       "\\item 23\n",
       "\\item 23\n",
       "\\item 24\n",
       "\\item 15\n",
       "\\item 30\n",
       "\\item 8\n",
       "\\item 6\n",
       "\\item 22\n",
       "\\item 24\n",
       "\\item 10\n",
       "\\item 8\n",
       "\\item 12\n",
       "\\item 17\n",
       "\\item 10\n",
       "\\item 9\n",
       "\\end{enumerate*}\n"
      ],
      "text/markdown": [
       "1. 26\n",
       "2. 23\n",
       "3. 23\n",
       "4. 24\n",
       "5. 15\n",
       "6. 30\n",
       "7. 8\n",
       "8. 6\n",
       "9. 22\n",
       "10. 24\n",
       "11. 10\n",
       "12. 8\n",
       "13. 12\n",
       "14. 17\n",
       "15. 10\n",
       "16. 9\n",
       "\n",
       "\n"
      ],
      "text/plain": [
       " [1] 26 23 23 24 15 30  8  6 22 24 10  8 12 17 10  9"
      ]
     },
     "metadata": {},
     "output_type": "display_data"
    },
    {
     "data": {
      "text/html": [
       "<ol class=list-inline>\n",
       "\t<li>16</li>\n",
       "\t<li>27</li>\n",
       "\t<li>8</li>\n",
       "\t<li>7</li>\n",
       "\t<li>27</li>\n",
       "\t<li>17</li>\n",
       "\t<li>5</li>\n",
       "\t<li>8</li>\n",
       "\t<li>25</li>\n",
       "\t<li>26</li>\n",
       "\t<li>5</li>\n",
       "\t<li>13</li>\n",
       "\t<li>15</li>\n",
       "\t<li>23</li>\n",
       "\t<li>27</li>\n",
       "\t<li>25</li>\n",
       "</ol>\n"
      ],
      "text/latex": [
       "\\begin{enumerate*}\n",
       "\\item 16\n",
       "\\item 27\n",
       "\\item 8\n",
       "\\item 7\n",
       "\\item 27\n",
       "\\item 17\n",
       "\\item 5\n",
       "\\item 8\n",
       "\\item 25\n",
       "\\item 26\n",
       "\\item 5\n",
       "\\item 13\n",
       "\\item 15\n",
       "\\item 23\n",
       "\\item 27\n",
       "\\item 25\n",
       "\\end{enumerate*}\n"
      ],
      "text/markdown": [
       "1. 16\n",
       "2. 27\n",
       "3. 8\n",
       "4. 7\n",
       "5. 27\n",
       "6. 17\n",
       "7. 5\n",
       "8. 8\n",
       "9. 25\n",
       "10. 26\n",
       "11. 5\n",
       "12. 13\n",
       "13. 15\n",
       "14. 23\n",
       "15. 27\n",
       "16. 25\n",
       "\n",
       "\n"
      ],
      "text/plain": [
       " [1] 16 27  8  7 27 17  5  8 25 26  5 13 15 23 27 25"
      ]
     },
     "metadata": {},
     "output_type": "display_data"
    },
    {
     "data": {
      "text/html": [
       "<ol class=list-inline>\n",
       "\t<li>24</li>\n",
       "\t<li>16</li>\n",
       "\t<li>29</li>\n",
       "\t<li>25</li>\n",
       "\t<li>24</li>\n",
       "\t<li>6</li>\n",
       "\t<li>1</li>\n",
       "\t<li>4</li>\n",
       "\t<li>7</li>\n",
       "\t<li>23</li>\n",
       "\t<li>1</li>\n",
       "\t<li>12</li>\n",
       "\t<li>5</li>\n",
       "\t<li>12</li>\n",
       "\t<li>23</li>\n",
       "\t<li>28</li>\n",
       "</ol>\n"
      ],
      "text/latex": [
       "\\begin{enumerate*}\n",
       "\\item 24\n",
       "\\item 16\n",
       "\\item 29\n",
       "\\item 25\n",
       "\\item 24\n",
       "\\item 6\n",
       "\\item 1\n",
       "\\item 4\n",
       "\\item 7\n",
       "\\item 23\n",
       "\\item 1\n",
       "\\item 12\n",
       "\\item 5\n",
       "\\item 12\n",
       "\\item 23\n",
       "\\item 28\n",
       "\\end{enumerate*}\n"
      ],
      "text/markdown": [
       "1. 24\n",
       "2. 16\n",
       "3. 29\n",
       "4. 25\n",
       "5. 24\n",
       "6. 6\n",
       "7. 1\n",
       "8. 4\n",
       "9. 7\n",
       "10. 23\n",
       "11. 1\n",
       "12. 12\n",
       "13. 5\n",
       "14. 12\n",
       "15. 23\n",
       "16. 28\n",
       "\n",
       "\n"
      ],
      "text/plain": [
       " [1] 24 16 29 25 24  6  1  4  7 23  1 12  5 12 23 28"
      ]
     },
     "metadata": {},
     "output_type": "display_data"
    },
    {
     "data": {
      "text/html": [
       "<dl class=dl-horizontal>\n",
       "\t<dt>mpg</dt>\n",
       "\t\t<dd>20.090625</dd>\n",
       "\t<dt>cyl</dt>\n",
       "\t\t<dd>6.1875</dd>\n",
       "\t<dt>disp</dt>\n",
       "\t\t<dd>230.721875</dd>\n",
       "\t<dt>hp</dt>\n",
       "\t\t<dd>146.6875</dd>\n",
       "\t<dt>drat</dt>\n",
       "\t\t<dd>3.5965625</dd>\n",
       "\t<dt>wt</dt>\n",
       "\t\t<dd>3.21725</dd>\n",
       "\t<dt>qsec</dt>\n",
       "\t\t<dd>17.84875</dd>\n",
       "\t<dt>vs</dt>\n",
       "\t\t<dd>0.4375</dd>\n",
       "\t<dt>am</dt>\n",
       "\t\t<dd>0.40625</dd>\n",
       "\t<dt>gear</dt>\n",
       "\t\t<dd>3.6875</dd>\n",
       "\t<dt>carb</dt>\n",
       "\t\t<dd>2.8125</dd>\n",
       "</dl>\n"
      ],
      "text/latex": [
       "\\begin{description*}\n",
       "\\item[mpg] 20.090625\n",
       "\\item[cyl] 6.1875\n",
       "\\item[disp] 230.721875\n",
       "\\item[hp] 146.6875\n",
       "\\item[drat] 3.5965625\n",
       "\\item[wt] 3.21725\n",
       "\\item[qsec] 17.84875\n",
       "\\item[vs] 0.4375\n",
       "\\item[am] 0.40625\n",
       "\\item[gear] 3.6875\n",
       "\\item[carb] 2.8125\n",
       "\\end{description*}\n"
      ],
      "text/markdown": [
       "mpg\n",
       ":   20.090625cyl\n",
       ":   6.1875disp\n",
       ":   230.721875hp\n",
       ":   146.6875drat\n",
       ":   3.5965625wt\n",
       ":   3.21725qsec\n",
       ":   17.84875vs\n",
       ":   0.4375am\n",
       ":   0.40625gear\n",
       ":   3.6875carb\n",
       ":   2.8125\n",
       "\n"
      ],
      "text/plain": [
       "       mpg        cyl       disp         hp       drat         wt       qsec \n",
       " 20.090625   6.187500 230.721875 146.687500   3.596563   3.217250  17.848750 \n",
       "        vs         am       gear       carb \n",
       "  0.437500   0.406250   3.687500   2.812500 "
      ]
     },
     "metadata": {},
     "output_type": "display_data"
    },
    {
     "data": {
      "text/html": [
       "<dl class=dl-horizontal>\n",
       "\t<dt>mpg</dt>\n",
       "\t\t<dd>19.2</dd>\n",
       "\t<dt>cyl</dt>\n",
       "\t\t<dd>6</dd>\n",
       "\t<dt>disp</dt>\n",
       "\t\t<dd>196.3</dd>\n",
       "\t<dt>hp</dt>\n",
       "\t\t<dd>123</dd>\n",
       "\t<dt>drat</dt>\n",
       "\t\t<dd>3.695</dd>\n",
       "\t<dt>wt</dt>\n",
       "\t\t<dd>3.325</dd>\n",
       "\t<dt>qsec</dt>\n",
       "\t\t<dd>17.71</dd>\n",
       "\t<dt>vs</dt>\n",
       "\t\t<dd>0</dd>\n",
       "\t<dt>am</dt>\n",
       "\t\t<dd>0</dd>\n",
       "\t<dt>gear</dt>\n",
       "\t\t<dd>4</dd>\n",
       "\t<dt>carb</dt>\n",
       "\t\t<dd>2</dd>\n",
       "</dl>\n"
      ],
      "text/latex": [
       "\\begin{description*}\n",
       "\\item[mpg] 19.2\n",
       "\\item[cyl] 6\n",
       "\\item[disp] 196.3\n",
       "\\item[hp] 123\n",
       "\\item[drat] 3.695\n",
       "\\item[wt] 3.325\n",
       "\\item[qsec] 17.71\n",
       "\\item[vs] 0\n",
       "\\item[am] 0\n",
       "\\item[gear] 4\n",
       "\\item[carb] 2\n",
       "\\end{description*}\n"
      ],
      "text/markdown": [
       "mpg\n",
       ":   19.2cyl\n",
       ":   6disp\n",
       ":   196.3hp\n",
       ":   123drat\n",
       ":   3.695wt\n",
       ":   3.325qsec\n",
       ":   17.71vs\n",
       ":   0am\n",
       ":   0gear\n",
       ":   4carb\n",
       ":   2\n",
       "\n"
      ],
      "text/plain": [
       "    mpg     cyl    disp      hp    drat      wt    qsec      vs      am    gear \n",
       " 19.200   6.000 196.300 123.000   3.695   3.325  17.710   0.000   0.000   4.000 \n",
       "   carb \n",
       "  2.000 "
      ]
     },
     "metadata": {},
     "output_type": "display_data"
    },
    {
     "data": {
      "text/html": [
       "<dl class=dl-horizontal>\n",
       "\t<dt>mpg</dt>\n",
       "\t\t<dd>33.9</dd>\n",
       "\t<dt>cyl</dt>\n",
       "\t\t<dd>8</dd>\n",
       "\t<dt>disp</dt>\n",
       "\t\t<dd>472</dd>\n",
       "\t<dt>hp</dt>\n",
       "\t\t<dd>335</dd>\n",
       "\t<dt>drat</dt>\n",
       "\t\t<dd>4.93</dd>\n",
       "\t<dt>wt</dt>\n",
       "\t\t<dd>5.424</dd>\n",
       "\t<dt>qsec</dt>\n",
       "\t\t<dd>22.9</dd>\n",
       "\t<dt>vs</dt>\n",
       "\t\t<dd>1</dd>\n",
       "\t<dt>am</dt>\n",
       "\t\t<dd>1</dd>\n",
       "\t<dt>gear</dt>\n",
       "\t\t<dd>5</dd>\n",
       "\t<dt>carb</dt>\n",
       "\t\t<dd>8</dd>\n",
       "</dl>\n"
      ],
      "text/latex": [
       "\\begin{description*}\n",
       "\\item[mpg] 33.9\n",
       "\\item[cyl] 8\n",
       "\\item[disp] 472\n",
       "\\item[hp] 335\n",
       "\\item[drat] 4.93\n",
       "\\item[wt] 5.424\n",
       "\\item[qsec] 22.9\n",
       "\\item[vs] 1\n",
       "\\item[am] 1\n",
       "\\item[gear] 5\n",
       "\\item[carb] 8\n",
       "\\end{description*}\n"
      ],
      "text/markdown": [
       "mpg\n",
       ":   33.9cyl\n",
       ":   8disp\n",
       ":   472hp\n",
       ":   335drat\n",
       ":   4.93wt\n",
       ":   5.424qsec\n",
       ":   22.9vs\n",
       ":   1am\n",
       ":   1gear\n",
       ":   5carb\n",
       ":   8\n",
       "\n"
      ],
      "text/plain": [
       "    mpg     cyl    disp      hp    drat      wt    qsec      vs      am    gear \n",
       " 33.900   8.000 472.000 335.000   4.930   5.424  22.900   1.000   1.000   5.000 \n",
       "   carb \n",
       "  8.000 "
      ]
     },
     "metadata": {},
     "output_type": "display_data"
    },
    {
     "data": {
      "text/html": [
       "<dl class=dl-horizontal>\n",
       "\t<dt>Mazda RX4</dt>\n",
       "\t\t<dd>160</dd>\n",
       "\t<dt>Mazda RX4 Wag</dt>\n",
       "\t\t<dd>160</dd>\n",
       "\t<dt>Datsun 710</dt>\n",
       "\t\t<dd>108</dd>\n",
       "\t<dt>Hornet 4 Drive</dt>\n",
       "\t\t<dd>258</dd>\n",
       "\t<dt>Hornet Sportabout</dt>\n",
       "\t\t<dd>360</dd>\n",
       "\t<dt>Valiant</dt>\n",
       "\t\t<dd>225</dd>\n",
       "\t<dt>Duster 360</dt>\n",
       "\t\t<dd>360</dd>\n",
       "\t<dt>Merc 240D</dt>\n",
       "\t\t<dd>146.7</dd>\n",
       "\t<dt>Merc 230</dt>\n",
       "\t\t<dd>140.8</dd>\n",
       "\t<dt>Merc 280</dt>\n",
       "\t\t<dd>167.6</dd>\n",
       "\t<dt>Merc 280C</dt>\n",
       "\t\t<dd>167.6</dd>\n",
       "\t<dt>Merc 450SE</dt>\n",
       "\t\t<dd>275.8</dd>\n",
       "\t<dt>Merc 450SL</dt>\n",
       "\t\t<dd>275.8</dd>\n",
       "\t<dt>Merc 450SLC</dt>\n",
       "\t\t<dd>275.8</dd>\n",
       "\t<dt>Cadillac Fleetwood</dt>\n",
       "\t\t<dd>472</dd>\n",
       "\t<dt>Lincoln Continental</dt>\n",
       "\t\t<dd>460</dd>\n",
       "\t<dt>Chrysler Imperial</dt>\n",
       "\t\t<dd>440</dd>\n",
       "\t<dt>Fiat 128</dt>\n",
       "\t\t<dd>78.7</dd>\n",
       "\t<dt>Honda Civic</dt>\n",
       "\t\t<dd>75.7</dd>\n",
       "\t<dt>Toyota Corolla</dt>\n",
       "\t\t<dd>71.1</dd>\n",
       "\t<dt>Toyota Corona</dt>\n",
       "\t\t<dd>120.1</dd>\n",
       "\t<dt>Dodge Challenger</dt>\n",
       "\t\t<dd>318</dd>\n",
       "\t<dt>AMC Javelin</dt>\n",
       "\t\t<dd>304</dd>\n",
       "\t<dt>Camaro Z28</dt>\n",
       "\t\t<dd>350</dd>\n",
       "\t<dt>Pontiac Firebird</dt>\n",
       "\t\t<dd>400</dd>\n",
       "\t<dt>Fiat X1-9</dt>\n",
       "\t\t<dd>79</dd>\n",
       "\t<dt>Porsche 914-2</dt>\n",
       "\t\t<dd>120.3</dd>\n",
       "\t<dt>Lotus Europa</dt>\n",
       "\t\t<dd>113</dd>\n",
       "\t<dt>Ford Pantera L</dt>\n",
       "\t\t<dd>351</dd>\n",
       "\t<dt>Ferrari Dino</dt>\n",
       "\t\t<dd>175</dd>\n",
       "\t<dt>Maserati Bora</dt>\n",
       "\t\t<dd>335</dd>\n",
       "\t<dt>Volvo 142E</dt>\n",
       "\t\t<dd>121</dd>\n",
       "</dl>\n"
      ],
      "text/latex": [
       "\\begin{description*}\n",
       "\\item[Mazda RX4] 160\n",
       "\\item[Mazda RX4 Wag] 160\n",
       "\\item[Datsun 710] 108\n",
       "\\item[Hornet 4 Drive] 258\n",
       "\\item[Hornet Sportabout] 360\n",
       "\\item[Valiant] 225\n",
       "\\item[Duster 360] 360\n",
       "\\item[Merc 240D] 146.7\n",
       "\\item[Merc 230] 140.8\n",
       "\\item[Merc 280] 167.6\n",
       "\\item[Merc 280C] 167.6\n",
       "\\item[Merc 450SE] 275.8\n",
       "\\item[Merc 450SL] 275.8\n",
       "\\item[Merc 450SLC] 275.8\n",
       "\\item[Cadillac Fleetwood] 472\n",
       "\\item[Lincoln Continental] 460\n",
       "\\item[Chrysler Imperial] 440\n",
       "\\item[Fiat 128] 78.7\n",
       "\\item[Honda Civic] 75.7\n",
       "\\item[Toyota Corolla] 71.1\n",
       "\\item[Toyota Corona] 120.1\n",
       "\\item[Dodge Challenger] 318\n",
       "\\item[AMC Javelin] 304\n",
       "\\item[Camaro Z28] 350\n",
       "\\item[Pontiac Firebird] 400\n",
       "\\item[Fiat X1-9] 79\n",
       "\\item[Porsche 914-2] 120.3\n",
       "\\item[Lotus Europa] 113\n",
       "\\item[Ford Pantera L] 351\n",
       "\\item[Ferrari Dino] 175\n",
       "\\item[Maserati Bora] 335\n",
       "\\item[Volvo 142E] 121\n",
       "\\end{description*}\n"
      ],
      "text/markdown": [
       "Mazda RX4\n",
       ":   160Mazda RX4 Wag\n",
       ":   160Datsun 710\n",
       ":   108Hornet 4 Drive\n",
       ":   258Hornet Sportabout\n",
       ":   360Valiant\n",
       ":   225Duster 360\n",
       ":   360Merc 240D\n",
       ":   146.7Merc 230\n",
       ":   140.8Merc 280\n",
       ":   167.6Merc 280C\n",
       ":   167.6Merc 450SE\n",
       ":   275.8Merc 450SL\n",
       ":   275.8Merc 450SLC\n",
       ":   275.8Cadillac Fleetwood\n",
       ":   472Lincoln Continental\n",
       ":   460Chrysler Imperial\n",
       ":   440Fiat 128\n",
       ":   78.7Honda Civic\n",
       ":   75.7Toyota Corolla\n",
       ":   71.1Toyota Corona\n",
       ":   120.1Dodge Challenger\n",
       ":   318AMC Javelin\n",
       ":   304Camaro Z28\n",
       ":   350Pontiac Firebird\n",
       ":   400Fiat X1-9\n",
       ":   79Porsche 914-2\n",
       ":   120.3Lotus Europa\n",
       ":   113Ford Pantera L\n",
       ":   351Ferrari Dino\n",
       ":   175Maserati Bora\n",
       ":   335Volvo 142E\n",
       ":   121\n",
       "\n"
      ],
      "text/plain": [
       "          Mazda RX4       Mazda RX4 Wag          Datsun 710      Hornet 4 Drive \n",
       "              160.0               160.0               108.0               258.0 \n",
       "  Hornet Sportabout             Valiant          Duster 360           Merc 240D \n",
       "              360.0               225.0               360.0               146.7 \n",
       "           Merc 230            Merc 280           Merc 280C          Merc 450SE \n",
       "              140.8               167.6               167.6               275.8 \n",
       "         Merc 450SL         Merc 450SLC  Cadillac Fleetwood Lincoln Continental \n",
       "              275.8               275.8               472.0               460.0 \n",
       "  Chrysler Imperial            Fiat 128         Honda Civic      Toyota Corolla \n",
       "              440.0                78.7                75.7                71.1 \n",
       "      Toyota Corona    Dodge Challenger         AMC Javelin          Camaro Z28 \n",
       "              120.1               318.0               304.0               350.0 \n",
       "   Pontiac Firebird           Fiat X1-9       Porsche 914-2        Lotus Europa \n",
       "              400.0                79.0               120.3               113.0 \n",
       "     Ford Pantera L        Ferrari Dino       Maserati Bora          Volvo 142E \n",
       "              351.0               175.0               335.0               121.0 "
      ]
     },
     "metadata": {},
     "output_type": "display_data"
    },
    {
     "data": {
      "text/html": [
       "<dl class=dl-horizontal>\n",
       "\t<dt>Mazda RX4</dt>\n",
       "\t\t<dd>0</dd>\n",
       "\t<dt>Mazda RX4 Wag</dt>\n",
       "\t\t<dd>0</dd>\n",
       "\t<dt>Datsun 710</dt>\n",
       "\t\t<dd>1</dd>\n",
       "\t<dt>Hornet 4 Drive</dt>\n",
       "\t\t<dd>0</dd>\n",
       "\t<dt>Hornet Sportabout</dt>\n",
       "\t\t<dd>0</dd>\n",
       "\t<dt>Valiant</dt>\n",
       "\t\t<dd>0</dd>\n",
       "\t<dt>Duster 360</dt>\n",
       "\t\t<dd>0</dd>\n",
       "\t<dt>Merc 240D</dt>\n",
       "\t\t<dd>0</dd>\n",
       "\t<dt>Merc 230</dt>\n",
       "\t\t<dd>0</dd>\n",
       "\t<dt>Merc 280</dt>\n",
       "\t\t<dd>0</dd>\n",
       "\t<dt>Merc 280C</dt>\n",
       "\t\t<dd>0</dd>\n",
       "\t<dt>Merc 450SE</dt>\n",
       "\t\t<dd>0</dd>\n",
       "\t<dt>Merc 450SL</dt>\n",
       "\t\t<dd>0</dd>\n",
       "\t<dt>Merc 450SLC</dt>\n",
       "\t\t<dd>0</dd>\n",
       "\t<dt>Cadillac Fleetwood</dt>\n",
       "\t\t<dd>0</dd>\n",
       "\t<dt>Lincoln Continental</dt>\n",
       "\t\t<dd>0</dd>\n",
       "\t<dt>Chrysler Imperial</dt>\n",
       "\t\t<dd>0</dd>\n",
       "\t<dt>Fiat 128</dt>\n",
       "\t\t<dd>1</dd>\n",
       "\t<dt>Honda Civic</dt>\n",
       "\t\t<dd>1</dd>\n",
       "\t<dt>Toyota Corolla</dt>\n",
       "\t\t<dd>1</dd>\n",
       "\t<dt>Toyota Corona</dt>\n",
       "\t\t<dd>0</dd>\n",
       "\t<dt>Dodge Challenger</dt>\n",
       "\t\t<dd>0</dd>\n",
       "\t<dt>AMC Javelin</dt>\n",
       "\t\t<dd>0</dd>\n",
       "\t<dt>Camaro Z28</dt>\n",
       "\t\t<dd>0</dd>\n",
       "\t<dt>Pontiac Firebird</dt>\n",
       "\t\t<dd>0</dd>\n",
       "\t<dt>Fiat X1-9</dt>\n",
       "\t\t<dd>1</dd>\n",
       "\t<dt>Porsche 914-2</dt>\n",
       "\t\t<dd>0</dd>\n",
       "\t<dt>Lotus Europa</dt>\n",
       "\t\t<dd>1</dd>\n",
       "\t<dt>Ford Pantera L</dt>\n",
       "\t\t<dd>0</dd>\n",
       "\t<dt>Ferrari Dino</dt>\n",
       "\t\t<dd>0</dd>\n",
       "\t<dt>Maserati Bora</dt>\n",
       "\t\t<dd>0</dd>\n",
       "\t<dt>Volvo 142E</dt>\n",
       "\t\t<dd>1</dd>\n",
       "</dl>\n"
      ],
      "text/latex": [
       "\\begin{description*}\n",
       "\\item[Mazda RX4] 0\n",
       "\\item[Mazda RX4 Wag] 0\n",
       "\\item[Datsun 710] 1\n",
       "\\item[Hornet 4 Drive] 0\n",
       "\\item[Hornet Sportabout] 0\n",
       "\\item[Valiant] 0\n",
       "\\item[Duster 360] 0\n",
       "\\item[Merc 240D] 0\n",
       "\\item[Merc 230] 0\n",
       "\\item[Merc 280] 0\n",
       "\\item[Merc 280C] 0\n",
       "\\item[Merc 450SE] 0\n",
       "\\item[Merc 450SL] 0\n",
       "\\item[Merc 450SLC] 0\n",
       "\\item[Cadillac Fleetwood] 0\n",
       "\\item[Lincoln Continental] 0\n",
       "\\item[Chrysler Imperial] 0\n",
       "\\item[Fiat 128] 1\n",
       "\\item[Honda Civic] 1\n",
       "\\item[Toyota Corolla] 1\n",
       "\\item[Toyota Corona] 0\n",
       "\\item[Dodge Challenger] 0\n",
       "\\item[AMC Javelin] 0\n",
       "\\item[Camaro Z28] 0\n",
       "\\item[Pontiac Firebird] 0\n",
       "\\item[Fiat X1-9] 1\n",
       "\\item[Porsche 914-2] 0\n",
       "\\item[Lotus Europa] 1\n",
       "\\item[Ford Pantera L] 0\n",
       "\\item[Ferrari Dino] 0\n",
       "\\item[Maserati Bora] 0\n",
       "\\item[Volvo 142E] 1\n",
       "\\end{description*}\n"
      ],
      "text/markdown": [
       "Mazda RX4\n",
       ":   0Mazda RX4 Wag\n",
       ":   0Datsun 710\n",
       ":   1Hornet 4 Drive\n",
       ":   0Hornet Sportabout\n",
       ":   0Valiant\n",
       ":   0Duster 360\n",
       ":   0Merc 240D\n",
       ":   0Merc 230\n",
       ":   0Merc 280\n",
       ":   0Merc 280C\n",
       ":   0Merc 450SE\n",
       ":   0Merc 450SL\n",
       ":   0Merc 450SLC\n",
       ":   0Cadillac Fleetwood\n",
       ":   0Lincoln Continental\n",
       ":   0Chrysler Imperial\n",
       ":   0Fiat 128\n",
       ":   1Honda Civic\n",
       ":   1Toyota Corolla\n",
       ":   1Toyota Corona\n",
       ":   0Dodge Challenger\n",
       ":   0AMC Javelin\n",
       ":   0Camaro Z28\n",
       ":   0Pontiac Firebird\n",
       ":   0Fiat X1-9\n",
       ":   1Porsche 914-2\n",
       ":   0Lotus Europa\n",
       ":   1Ford Pantera L\n",
       ":   0Ferrari Dino\n",
       ":   0Maserati Bora\n",
       ":   0Volvo 142E\n",
       ":   1\n",
       "\n"
      ],
      "text/plain": [
       "          Mazda RX4       Mazda RX4 Wag          Datsun 710      Hornet 4 Drive \n",
       "                  0                   0                   1                   0 \n",
       "  Hornet Sportabout             Valiant          Duster 360           Merc 240D \n",
       "                  0                   0                   0                   0 \n",
       "           Merc 230            Merc 280           Merc 280C          Merc 450SE \n",
       "                  0                   0                   0                   0 \n",
       "         Merc 450SL         Merc 450SLC  Cadillac Fleetwood Lincoln Continental \n",
       "                  0                   0                   0                   0 \n",
       "  Chrysler Imperial            Fiat 128         Honda Civic      Toyota Corolla \n",
       "                  0                   1                   1                   1 \n",
       "      Toyota Corona    Dodge Challenger         AMC Javelin          Camaro Z28 \n",
       "                  0                   0                   0                   0 \n",
       "   Pontiac Firebird           Fiat X1-9       Porsche 914-2        Lotus Europa \n",
       "                  0                   1                   0                   1 \n",
       "     Ford Pantera L        Ferrari Dino       Maserati Bora          Volvo 142E \n",
       "                  0                   0                   0                   1 "
      ]
     },
     "metadata": {},
     "output_type": "display_data"
    },
    {
     "data": {
      "text/html": [
       "<dl class=dl-horizontal>\n",
       "\t<dt>Mazda RX4</dt>\n",
       "\t\t<dd>29.9072727272727</dd>\n",
       "\t<dt>Mazda RX4 Wag</dt>\n",
       "\t\t<dd>29.9813636363636</dd>\n",
       "\t<dt>Datsun 710</dt>\n",
       "\t\t<dd>23.5981818181818</dd>\n",
       "\t<dt>Hornet 4 Drive</dt>\n",
       "\t\t<dd>38.7395454545455</dd>\n",
       "\t<dt>Hornet Sportabout</dt>\n",
       "\t\t<dd>53.6645454545455</dd>\n",
       "\t<dt>Valiant</dt>\n",
       "\t\t<dd>35.0490909090909</dd>\n",
       "\t<dt>Duster 360</dt>\n",
       "\t\t<dd>59.72</dd>\n",
       "\t<dt>Merc 240D</dt>\n",
       "\t\t<dd>24.6345454545455</dd>\n",
       "\t<dt>Merc 230</dt>\n",
       "\t\t<dd>27.2336363636364</dd>\n",
       "\t<dt>Merc 280</dt>\n",
       "\t\t<dd>31.86</dd>\n",
       "\t<dt>Merc 280C</dt>\n",
       "\t\t<dd>31.7872727272727</dd>\n",
       "\t<dt>Merc 450SE</dt>\n",
       "\t\t<dd>46.4309090909091</dd>\n",
       "\t<dt>Merc 450SL</dt>\n",
       "\t\t<dd>46.5</dd>\n",
       "\t<dt>Merc 450SLC</dt>\n",
       "\t\t<dd>46.35</dd>\n",
       "\t<dt>Cadillac Fleetwood</dt>\n",
       "\t\t<dd>66.2327272727273</dd>\n",
       "\t<dt>Lincoln Continental</dt>\n",
       "\t\t<dd>66.0585454545455</dd>\n",
       "\t<dt>Chrysler Imperial</dt>\n",
       "\t\t<dd>65.9722727272727</dd>\n",
       "\t<dt>Fiat 128</dt>\n",
       "\t\t<dd>19.4409090909091</dd>\n",
       "\t<dt>Honda Civic</dt>\n",
       "\t\t<dd>17.7422727272727</dd>\n",
       "\t<dt>Toyota Corolla</dt>\n",
       "\t\t<dd>18.8140909090909</dd>\n",
       "\t<dt>Toyota Corona</dt>\n",
       "\t\t<dd>24.8886363636364</dd>\n",
       "\t<dt>Dodge Challenger</dt>\n",
       "\t\t<dd>47.2409090909091</dd>\n",
       "\t<dt>AMC Javelin</dt>\n",
       "\t\t<dd>46.0077272727273</dd>\n",
       "\t<dt>Camaro Z28</dt>\n",
       "\t\t<dd>58.7527272727273</dd>\n",
       "\t<dt>Pontiac Firebird</dt>\n",
       "\t\t<dd>57.3795454545455</dd>\n",
       "\t<dt>Fiat X1-9</dt>\n",
       "\t\t<dd>18.9286363636364</dd>\n",
       "\t<dt>Porsche 914-2</dt>\n",
       "\t\t<dd>24.7790909090909</dd>\n",
       "\t<dt>Lotus Europa</dt>\n",
       "\t\t<dd>24.8802727272727</dd>\n",
       "\t<dt>Ford Pantera L</dt>\n",
       "\t\t<dd>60.9718181818182</dd>\n",
       "\t<dt>Ferrari Dino</dt>\n",
       "\t\t<dd>34.5081818181818</dd>\n",
       "\t<dt>Maserati Bora</dt>\n",
       "\t\t<dd>63.1554545454545</dd>\n",
       "\t<dt>Volvo 142E</dt>\n",
       "\t\t<dd>26.2627272727273</dd>\n",
       "</dl>\n"
      ],
      "text/latex": [
       "\\begin{description*}\n",
       "\\item[Mazda RX4] 29.9072727272727\n",
       "\\item[Mazda RX4 Wag] 29.9813636363636\n",
       "\\item[Datsun 710] 23.5981818181818\n",
       "\\item[Hornet 4 Drive] 38.7395454545455\n",
       "\\item[Hornet Sportabout] 53.6645454545455\n",
       "\\item[Valiant] 35.0490909090909\n",
       "\\item[Duster 360] 59.72\n",
       "\\item[Merc 240D] 24.6345454545455\n",
       "\\item[Merc 230] 27.2336363636364\n",
       "\\item[Merc 280] 31.86\n",
       "\\item[Merc 280C] 31.7872727272727\n",
       "\\item[Merc 450SE] 46.4309090909091\n",
       "\\item[Merc 450SL] 46.5\n",
       "\\item[Merc 450SLC] 46.35\n",
       "\\item[Cadillac Fleetwood] 66.2327272727273\n",
       "\\item[Lincoln Continental] 66.0585454545455\n",
       "\\item[Chrysler Imperial] 65.9722727272727\n",
       "\\item[Fiat 128] 19.4409090909091\n",
       "\\item[Honda Civic] 17.7422727272727\n",
       "\\item[Toyota Corolla] 18.8140909090909\n",
       "\\item[Toyota Corona] 24.8886363636364\n",
       "\\item[Dodge Challenger] 47.2409090909091\n",
       "\\item[AMC Javelin] 46.0077272727273\n",
       "\\item[Camaro Z28] 58.7527272727273\n",
       "\\item[Pontiac Firebird] 57.3795454545455\n",
       "\\item[Fiat X1-9] 18.9286363636364\n",
       "\\item[Porsche 914-2] 24.7790909090909\n",
       "\\item[Lotus Europa] 24.8802727272727\n",
       "\\item[Ford Pantera L] 60.9718181818182\n",
       "\\item[Ferrari Dino] 34.5081818181818\n",
       "\\item[Maserati Bora] 63.1554545454545\n",
       "\\item[Volvo 142E] 26.2627272727273\n",
       "\\end{description*}\n"
      ],
      "text/markdown": [
       "Mazda RX4\n",
       ":   29.9072727272727Mazda RX4 Wag\n",
       ":   29.9813636363636Datsun 710\n",
       ":   23.5981818181818Hornet 4 Drive\n",
       ":   38.7395454545455Hornet Sportabout\n",
       ":   53.6645454545455Valiant\n",
       ":   35.0490909090909Duster 360\n",
       ":   59.72Merc 240D\n",
       ":   24.6345454545455Merc 230\n",
       ":   27.2336363636364Merc 280\n",
       ":   31.86Merc 280C\n",
       ":   31.7872727272727Merc 450SE\n",
       ":   46.4309090909091Merc 450SL\n",
       ":   46.5Merc 450SLC\n",
       ":   46.35Cadillac Fleetwood\n",
       ":   66.2327272727273Lincoln Continental\n",
       ":   66.0585454545455Chrysler Imperial\n",
       ":   65.9722727272727Fiat 128\n",
       ":   19.4409090909091Honda Civic\n",
       ":   17.7422727272727Toyota Corolla\n",
       ":   18.8140909090909Toyota Corona\n",
       ":   24.8886363636364Dodge Challenger\n",
       ":   47.2409090909091AMC Javelin\n",
       ":   46.0077272727273Camaro Z28\n",
       ":   58.7527272727273Pontiac Firebird\n",
       ":   57.3795454545455Fiat X1-9\n",
       ":   18.9286363636364Porsche 914-2\n",
       ":   24.7790909090909Lotus Europa\n",
       ":   24.8802727272727Ford Pantera L\n",
       ":   60.9718181818182Ferrari Dino\n",
       ":   34.5081818181818Maserati Bora\n",
       ":   63.1554545454545Volvo 142E\n",
       ":   26.2627272727273\n",
       "\n"
      ],
      "text/plain": [
       "          Mazda RX4       Mazda RX4 Wag          Datsun 710      Hornet 4 Drive \n",
       "           29.90727            29.98136            23.59818            38.73955 \n",
       "  Hornet Sportabout             Valiant          Duster 360           Merc 240D \n",
       "           53.66455            35.04909            59.72000            24.63455 \n",
       "           Merc 230            Merc 280           Merc 280C          Merc 450SE \n",
       "           27.23364            31.86000            31.78727            46.43091 \n",
       "         Merc 450SL         Merc 450SLC  Cadillac Fleetwood Lincoln Continental \n",
       "           46.50000            46.35000            66.23273            66.05855 \n",
       "  Chrysler Imperial            Fiat 128         Honda Civic      Toyota Corolla \n",
       "           65.97227            19.44091            17.74227            18.81409 \n",
       "      Toyota Corona    Dodge Challenger         AMC Javelin          Camaro Z28 \n",
       "           24.88864            47.24091            46.00773            58.75273 \n",
       "   Pontiac Firebird           Fiat X1-9       Porsche 914-2        Lotus Europa \n",
       "           57.37955            18.92864            24.77909            24.88027 \n",
       "     Ford Pantera L        Ferrari Dino       Maserati Bora          Volvo 142E \n",
       "           60.97182            34.50818            63.15545            26.26273 "
      ]
     },
     "metadata": {},
     "output_type": "display_data"
    },
    {
     "data": {
      "text/html": [
       "<ol>\n",
       "\t<li>54</li>\n",
       "</ol>\n"
      ],
      "text/latex": [
       "\\begin{enumerate}\n",
       "\\item 54\n",
       "\\end{enumerate}\n"
      ],
      "text/markdown": [
       "1. 54\n",
       "\n",
       "\n"
      ],
      "text/plain": [
       "[[1]]\n",
       "[1] 54\n"
      ]
     },
     "metadata": {},
     "output_type": "display_data"
    },
    {
     "data": {
      "text/html": [
       "<ol>\n",
       "\t<li>54</li>\n",
       "\t<li>18</li>\n",
       "</ol>\n"
      ],
      "text/latex": [
       "\\begin{enumerate}\n",
       "\\item 54\n",
       "\\item 18\n",
       "\\end{enumerate}\n"
      ],
      "text/markdown": [
       "1. 54\n",
       "2. 18\n",
       "\n",
       "\n"
      ],
      "text/plain": [
       "[[1]]\n",
       "[1] 54\n",
       "\n",
       "[[2]]\n",
       "[1] 18\n"
      ]
     },
     "metadata": {},
     "output_type": "display_data"
    },
    {
     "data": {
      "text/html": [
       "<ol>\n",
       "\t<li>7</li>\n",
       "\t<li>8</li>\n",
       "\t<li>5</li>\n",
       "\t<li>5</li>\n",
       "\t<li>3</li>\n",
       "\t<li>4</li>\n",
       "\t<li>4</li>\n",
       "\t<li>6</li>\n",
       "\t<li>9</li>\n",
       "\t<li>7</li>\n",
       "\t<li>8</li>\n",
       "\t<li>8</li>\n",
       "</ol>\n"
      ],
      "text/latex": [
       "\\begin{enumerate}\n",
       "\\item 7\n",
       "\\item 8\n",
       "\\item 5\n",
       "\\item 5\n",
       "\\item 3\n",
       "\\item 4\n",
       "\\item 4\n",
       "\\item 6\n",
       "\\item 9\n",
       "\\item 7\n",
       "\\item 8\n",
       "\\item 8\n",
       "\\end{enumerate}\n"
      ],
      "text/markdown": [
       "1. 7\n",
       "2. 8\n",
       "3. 5\n",
       "4. 5\n",
       "5. 3\n",
       "6. 4\n",
       "7. 4\n",
       "8. 6\n",
       "9. 9\n",
       "10. 7\n",
       "11. 8\n",
       "12. 8\n",
       "\n",
       "\n"
      ],
      "text/plain": [
       "[[1]]\n",
       "[1] 7\n",
       "\n",
       "[[2]]\n",
       "[1] 8\n",
       "\n",
       "[[3]]\n",
       "[1] 5\n",
       "\n",
       "[[4]]\n",
       "[1] 5\n",
       "\n",
       "[[5]]\n",
       "[1] 3\n",
       "\n",
       "[[6]]\n",
       "[1] 4\n",
       "\n",
       "[[7]]\n",
       "[1] 4\n",
       "\n",
       "[[8]]\n",
       "[1] 6\n",
       "\n",
       "[[9]]\n",
       "[1] 9\n",
       "\n",
       "[[10]]\n",
       "[1] 7\n",
       "\n",
       "[[11]]\n",
       "[1] 8\n",
       "\n",
       "[[12]]\n",
       "[1] 8\n"
      ]
     },
     "metadata": {},
     "output_type": "display_data"
    },
    {
     "data": {
      "text/html": [
       "<ol>\n",
       "\t<li>'MOBILE'</li>\n",
       "\t<li>'JUNEAU'</li>\n",
       "\t<li>'PHOENIX'</li>\n",
       "\t<li>'LITTLE ROCK'</li>\n",
       "\t<li>'LOS ANGELES'</li>\n",
       "\t<li>'SACRAMENTO'</li>\n",
       "\t<li>'SAN FRANCISCO'</li>\n",
       "\t<li>'DENVER'</li>\n",
       "\t<li>'HARTFORD'</li>\n",
       "\t<li>'WILMINGTON'</li>\n",
       "\t<li>'WASHINGTON'</li>\n",
       "\t<li>'JACKSONVILLE'</li>\n",
       "\t<li>'MIAMI'</li>\n",
       "\t<li>'ATLANTA'</li>\n",
       "\t<li>'HONOLULU'</li>\n",
       "\t<li>'BOISE'</li>\n",
       "\t<li>'CHICAGO'</li>\n",
       "\t<li>'PEORIA'</li>\n",
       "\t<li>'INDIANAPOLIS'</li>\n",
       "\t<li>'DES MOINES'</li>\n",
       "\t<li>'WICHITA'</li>\n",
       "\t<li>'LOUISVILLE'</li>\n",
       "\t<li>'NEW ORLEANS'</li>\n",
       "\t<li>'PORTLAND'</li>\n",
       "\t<li>'BALTIMORE'</li>\n",
       "\t<li>'BOSTON'</li>\n",
       "\t<li>'DETROIT'</li>\n",
       "\t<li>'SAULT STE. MARIE'</li>\n",
       "\t<li>'DULUTH'</li>\n",
       "\t<li>'MINNEAPOLIS/ST PAUL'</li>\n",
       "\t<li>'JACKSON'</li>\n",
       "\t<li>'KANSAS CITY'</li>\n",
       "\t<li>'ST LOUIS'</li>\n",
       "\t<li>'GREAT FALLS'</li>\n",
       "\t<li>'OMAHA'</li>\n",
       "\t<li>'RENO'</li>\n",
       "\t<li>'CONCORD'</li>\n",
       "\t<li>'ATLANTIC CITY'</li>\n",
       "\t<li>'ALBUQUERQUE'</li>\n",
       "\t<li>'ALBANY'</li>\n",
       "\t<li>'BUFFALO'</li>\n",
       "\t<li>'NEW YORK'</li>\n",
       "\t<li>'CHARLOTTE'</li>\n",
       "\t<li>'RALEIGH'</li>\n",
       "\t<li>'BISMARK'</li>\n",
       "\t<li>'CINCINNATI'</li>\n",
       "\t<li>'CLEVELAND'</li>\n",
       "\t<li>'COLUMBUS'</li>\n",
       "\t<li>'OKLAHOMA CITY'</li>\n",
       "\t<li>'PORTLAND'</li>\n",
       "\t<li>'PHILADELPHIA'</li>\n",
       "\t<li>'PITTSBURG'</li>\n",
       "\t<li>'PROVIDENCE'</li>\n",
       "\t<li>'COLUMBIA'</li>\n",
       "\t<li>'SIOUX FALLS'</li>\n",
       "\t<li>'MEMPHIS'</li>\n",
       "\t<li>'NASHVILLE'</li>\n",
       "\t<li>'DALLAS'</li>\n",
       "\t<li>'EL PASO'</li>\n",
       "\t<li>'HOUSTON'</li>\n",
       "\t<li>'SALT LAKE CITY'</li>\n",
       "\t<li>'BURLINGTON'</li>\n",
       "\t<li>'NORFOLK'</li>\n",
       "\t<li>'RICHMOND'</li>\n",
       "\t<li>'SEATTLE TACOMA'</li>\n",
       "\t<li>'SPOKANE'</li>\n",
       "\t<li>'CHARLESTON'</li>\n",
       "\t<li>'MILWAUKEE'</li>\n",
       "\t<li>'CHEYENNE'</li>\n",
       "\t<li>'SAN JUAN'</li>\n",
       "</ol>\n"
      ],
      "text/latex": [
       "\\begin{enumerate}\n",
       "\\item 'MOBILE'\n",
       "\\item 'JUNEAU'\n",
       "\\item 'PHOENIX'\n",
       "\\item 'LITTLE ROCK'\n",
       "\\item 'LOS ANGELES'\n",
       "\\item 'SACRAMENTO'\n",
       "\\item 'SAN FRANCISCO'\n",
       "\\item 'DENVER'\n",
       "\\item 'HARTFORD'\n",
       "\\item 'WILMINGTON'\n",
       "\\item 'WASHINGTON'\n",
       "\\item 'JACKSONVILLE'\n",
       "\\item 'MIAMI'\n",
       "\\item 'ATLANTA'\n",
       "\\item 'HONOLULU'\n",
       "\\item 'BOISE'\n",
       "\\item 'CHICAGO'\n",
       "\\item 'PEORIA'\n",
       "\\item 'INDIANAPOLIS'\n",
       "\\item 'DES MOINES'\n",
       "\\item 'WICHITA'\n",
       "\\item 'LOUISVILLE'\n",
       "\\item 'NEW ORLEANS'\n",
       "\\item 'PORTLAND'\n",
       "\\item 'BALTIMORE'\n",
       "\\item 'BOSTON'\n",
       "\\item 'DETROIT'\n",
       "\\item 'SAULT STE. MARIE'\n",
       "\\item 'DULUTH'\n",
       "\\item 'MINNEAPOLIS/ST PAUL'\n",
       "\\item 'JACKSON'\n",
       "\\item 'KANSAS CITY'\n",
       "\\item 'ST LOUIS'\n",
       "\\item 'GREAT FALLS'\n",
       "\\item 'OMAHA'\n",
       "\\item 'RENO'\n",
       "\\item 'CONCORD'\n",
       "\\item 'ATLANTIC CITY'\n",
       "\\item 'ALBUQUERQUE'\n",
       "\\item 'ALBANY'\n",
       "\\item 'BUFFALO'\n",
       "\\item 'NEW YORK'\n",
       "\\item 'CHARLOTTE'\n",
       "\\item 'RALEIGH'\n",
       "\\item 'BISMARK'\n",
       "\\item 'CINCINNATI'\n",
       "\\item 'CLEVELAND'\n",
       "\\item 'COLUMBUS'\n",
       "\\item 'OKLAHOMA CITY'\n",
       "\\item 'PORTLAND'\n",
       "\\item 'PHILADELPHIA'\n",
       "\\item 'PITTSBURG'\n",
       "\\item 'PROVIDENCE'\n",
       "\\item 'COLUMBIA'\n",
       "\\item 'SIOUX FALLS'\n",
       "\\item 'MEMPHIS'\n",
       "\\item 'NASHVILLE'\n",
       "\\item 'DALLAS'\n",
       "\\item 'EL PASO'\n",
       "\\item 'HOUSTON'\n",
       "\\item 'SALT LAKE CITY'\n",
       "\\item 'BURLINGTON'\n",
       "\\item 'NORFOLK'\n",
       "\\item 'RICHMOND'\n",
       "\\item 'SEATTLE TACOMA'\n",
       "\\item 'SPOKANE'\n",
       "\\item 'CHARLESTON'\n",
       "\\item 'MILWAUKEE'\n",
       "\\item 'CHEYENNE'\n",
       "\\item 'SAN JUAN'\n",
       "\\end{enumerate}\n"
      ],
      "text/markdown": [
       "1. 'MOBILE'\n",
       "2. 'JUNEAU'\n",
       "3. 'PHOENIX'\n",
       "4. 'LITTLE ROCK'\n",
       "5. 'LOS ANGELES'\n",
       "6. 'SACRAMENTO'\n",
       "7. 'SAN FRANCISCO'\n",
       "8. 'DENVER'\n",
       "9. 'HARTFORD'\n",
       "10. 'WILMINGTON'\n",
       "11. 'WASHINGTON'\n",
       "12. 'JACKSONVILLE'\n",
       "13. 'MIAMI'\n",
       "14. 'ATLANTA'\n",
       "15. 'HONOLULU'\n",
       "16. 'BOISE'\n",
       "17. 'CHICAGO'\n",
       "18. 'PEORIA'\n",
       "19. 'INDIANAPOLIS'\n",
       "20. 'DES MOINES'\n",
       "21. 'WICHITA'\n",
       "22. 'LOUISVILLE'\n",
       "23. 'NEW ORLEANS'\n",
       "24. 'PORTLAND'\n",
       "25. 'BALTIMORE'\n",
       "26. 'BOSTON'\n",
       "27. 'DETROIT'\n",
       "28. 'SAULT STE. MARIE'\n",
       "29. 'DULUTH'\n",
       "30. 'MINNEAPOLIS/ST PAUL'\n",
       "31. 'JACKSON'\n",
       "32. 'KANSAS CITY'\n",
       "33. 'ST LOUIS'\n",
       "34. 'GREAT FALLS'\n",
       "35. 'OMAHA'\n",
       "36. 'RENO'\n",
       "37. 'CONCORD'\n",
       "38. 'ATLANTIC CITY'\n",
       "39. 'ALBUQUERQUE'\n",
       "40. 'ALBANY'\n",
       "41. 'BUFFALO'\n",
       "42. 'NEW YORK'\n",
       "43. 'CHARLOTTE'\n",
       "44. 'RALEIGH'\n",
       "45. 'BISMARK'\n",
       "46. 'CINCINNATI'\n",
       "47. 'CLEVELAND'\n",
       "48. 'COLUMBUS'\n",
       "49. 'OKLAHOMA CITY'\n",
       "50. 'PORTLAND'\n",
       "51. 'PHILADELPHIA'\n",
       "52. 'PITTSBURG'\n",
       "53. 'PROVIDENCE'\n",
       "54. 'COLUMBIA'\n",
       "55. 'SIOUX FALLS'\n",
       "56. 'MEMPHIS'\n",
       "57. 'NASHVILLE'\n",
       "58. 'DALLAS'\n",
       "59. 'EL PASO'\n",
       "60. 'HOUSTON'\n",
       "61. 'SALT LAKE CITY'\n",
       "62. 'BURLINGTON'\n",
       "63. 'NORFOLK'\n",
       "64. 'RICHMOND'\n",
       "65. 'SEATTLE TACOMA'\n",
       "66. 'SPOKANE'\n",
       "67. 'CHARLESTON'\n",
       "68. 'MILWAUKEE'\n",
       "69. 'CHEYENNE'\n",
       "70. 'SAN JUAN'\n",
       "\n",
       "\n"
      ],
      "text/plain": [
       "[[1]]\n",
       "[1] \"MOBILE\"\n",
       "\n",
       "[[2]]\n",
       "[1] \"JUNEAU\"\n",
       "\n",
       "[[3]]\n",
       "[1] \"PHOENIX\"\n",
       "\n",
       "[[4]]\n",
       "[1] \"LITTLE ROCK\"\n",
       "\n",
       "[[5]]\n",
       "[1] \"LOS ANGELES\"\n",
       "\n",
       "[[6]]\n",
       "[1] \"SACRAMENTO\"\n",
       "\n",
       "[[7]]\n",
       "[1] \"SAN FRANCISCO\"\n",
       "\n",
       "[[8]]\n",
       "[1] \"DENVER\"\n",
       "\n",
       "[[9]]\n",
       "[1] \"HARTFORD\"\n",
       "\n",
       "[[10]]\n",
       "[1] \"WILMINGTON\"\n",
       "\n",
       "[[11]]\n",
       "[1] \"WASHINGTON\"\n",
       "\n",
       "[[12]]\n",
       "[1] \"JACKSONVILLE\"\n",
       "\n",
       "[[13]]\n",
       "[1] \"MIAMI\"\n",
       "\n",
       "[[14]]\n",
       "[1] \"ATLANTA\"\n",
       "\n",
       "[[15]]\n",
       "[1] \"HONOLULU\"\n",
       "\n",
       "[[16]]\n",
       "[1] \"BOISE\"\n",
       "\n",
       "[[17]]\n",
       "[1] \"CHICAGO\"\n",
       "\n",
       "[[18]]\n",
       "[1] \"PEORIA\"\n",
       "\n",
       "[[19]]\n",
       "[1] \"INDIANAPOLIS\"\n",
       "\n",
       "[[20]]\n",
       "[1] \"DES MOINES\"\n",
       "\n",
       "[[21]]\n",
       "[1] \"WICHITA\"\n",
       "\n",
       "[[22]]\n",
       "[1] \"LOUISVILLE\"\n",
       "\n",
       "[[23]]\n",
       "[1] \"NEW ORLEANS\"\n",
       "\n",
       "[[24]]\n",
       "[1] \"PORTLAND\"\n",
       "\n",
       "[[25]]\n",
       "[1] \"BALTIMORE\"\n",
       "\n",
       "[[26]]\n",
       "[1] \"BOSTON\"\n",
       "\n",
       "[[27]]\n",
       "[1] \"DETROIT\"\n",
       "\n",
       "[[28]]\n",
       "[1] \"SAULT STE. MARIE\"\n",
       "\n",
       "[[29]]\n",
       "[1] \"DULUTH\"\n",
       "\n",
       "[[30]]\n",
       "[1] \"MINNEAPOLIS/ST PAUL\"\n",
       "\n",
       "[[31]]\n",
       "[1] \"JACKSON\"\n",
       "\n",
       "[[32]]\n",
       "[1] \"KANSAS CITY\"\n",
       "\n",
       "[[33]]\n",
       "[1] \"ST LOUIS\"\n",
       "\n",
       "[[34]]\n",
       "[1] \"GREAT FALLS\"\n",
       "\n",
       "[[35]]\n",
       "[1] \"OMAHA\"\n",
       "\n",
       "[[36]]\n",
       "[1] \"RENO\"\n",
       "\n",
       "[[37]]\n",
       "[1] \"CONCORD\"\n",
       "\n",
       "[[38]]\n",
       "[1] \"ATLANTIC CITY\"\n",
       "\n",
       "[[39]]\n",
       "[1] \"ALBUQUERQUE\"\n",
       "\n",
       "[[40]]\n",
       "[1] \"ALBANY\"\n",
       "\n",
       "[[41]]\n",
       "[1] \"BUFFALO\"\n",
       "\n",
       "[[42]]\n",
       "[1] \"NEW YORK\"\n",
       "\n",
       "[[43]]\n",
       "[1] \"CHARLOTTE\"\n",
       "\n",
       "[[44]]\n",
       "[1] \"RALEIGH\"\n",
       "\n",
       "[[45]]\n",
       "[1] \"BISMARK\"\n",
       "\n",
       "[[46]]\n",
       "[1] \"CINCINNATI\"\n",
       "\n",
       "[[47]]\n",
       "[1] \"CLEVELAND\"\n",
       "\n",
       "[[48]]\n",
       "[1] \"COLUMBUS\"\n",
       "\n",
       "[[49]]\n",
       "[1] \"OKLAHOMA CITY\"\n",
       "\n",
       "[[50]]\n",
       "[1] \"PORTLAND\"\n",
       "\n",
       "[[51]]\n",
       "[1] \"PHILADELPHIA\"\n",
       "\n",
       "[[52]]\n",
       "[1] \"PITTSBURG\"\n",
       "\n",
       "[[53]]\n",
       "[1] \"PROVIDENCE\"\n",
       "\n",
       "[[54]]\n",
       "[1] \"COLUMBIA\"\n",
       "\n",
       "[[55]]\n",
       "[1] \"SIOUX FALLS\"\n",
       "\n",
       "[[56]]\n",
       "[1] \"MEMPHIS\"\n",
       "\n",
       "[[57]]\n",
       "[1] \"NASHVILLE\"\n",
       "\n",
       "[[58]]\n",
       "[1] \"DALLAS\"\n",
       "\n",
       "[[59]]\n",
       "[1] \"EL PASO\"\n",
       "\n",
       "[[60]]\n",
       "[1] \"HOUSTON\"\n",
       "\n",
       "[[61]]\n",
       "[1] \"SALT LAKE CITY\"\n",
       "\n",
       "[[62]]\n",
       "[1] \"BURLINGTON\"\n",
       "\n",
       "[[63]]\n",
       "[1] \"NORFOLK\"\n",
       "\n",
       "[[64]]\n",
       "[1] \"RICHMOND\"\n",
       "\n",
       "[[65]]\n",
       "[1] \"SEATTLE TACOMA\"\n",
       "\n",
       "[[66]]\n",
       "[1] \"SPOKANE\"\n",
       "\n",
       "[[67]]\n",
       "[1] \"CHARLESTON\"\n",
       "\n",
       "[[68]]\n",
       "[1] \"MILWAUKEE\"\n",
       "\n",
       "[[69]]\n",
       "[1] \"CHEYENNE\"\n",
       "\n",
       "[[70]]\n",
       "[1] \"SAN JUAN\"\n"
      ]
     },
     "metadata": {},
     "output_type": "display_data"
    }
   ],
   "source": [
    "############### user defined functions ##################\n",
    "myFun <- function(x,y) {\n",
    "      x+y\n",
    "      letters[1:5] # last statement will be printed to the console\n",
    "}\n",
    "\n",
    "sum_of_squares <- function(x,y) {\n",
    "  x^2 + y^2\n",
    "}\n",
    "###########\n",
    "pow <- function(x, y) {\n",
    "  # function to print x raised to the power y\n",
    "  result <- x^y\n",
    "  print(paste(x,\"raised to the power\", y, \"is\", result))\n",
    "}\n",
    "######## default argument\n",
    "new.function <- function(a = 3, b = 6) { #while creating fun only assigning values\n",
    "  result <- a * b\n",
    "  print(result)\n",
    "}\n",
    "\n",
    " new.function() #default values will be operate\n",
    "#[1] 18\n",
    " new.function(2,3) # replaced default values with this new values\n",
    "#[1] 6\n",
    " new.function(2) # replaced only first argument\n",
    "#[1] 12\n",
    " new.function(b=2) # replaced only b \n",
    "#[1] 6\n",
    " new.function(b=2,a=3) # even order is not care when we assign values\n",
    "# [1] 6\n",
    " ###################################\n",
    "#  MyThirdFun <- function(n, y = 2) \n",
    "#  {\n",
    "#    # Compute the power of n to the y\n",
    "#    n^y  \n",
    "#  }\n",
    "#  MyThirdFun(2,3) \n",
    "#  MyThirdFun(2)\n",
    "#  MyThirdFun() # Error: when the arguments are not default we must pass some values-\n",
    " \n",
    " ###########\n",
    " add <- function(x,y=1,z=2){\n",
    "   x+y\n",
    "   x+z \n",
    " }\n",
    " \n",
    " add(5)\n",
    " ####################\n",
    " add <- function(x,y=1,z=2){\n",
    "   print(x+y)\n",
    "   x+z \n",
    " }\n",
    " \n",
    " add(5)\n",
    " ##########################\n",
    " add <- function(x,y=1,z=2){\n",
    "   return(x+y)\n",
    "   x+z \n",
    " }\n",
    " \n",
    " add(5)\n",
    "############## \n",
    " add <- function(x,y=1,z=2){\n",
    "   return(x+y)\n",
    "   print(x+z) # print ignored because of return before that\n",
    " }\n",
    " \n",
    " add(5)\n",
    " ###################\n",
    " \n",
    " add <- function(x,y=1,z=2){\n",
    "   print(x+z)\n",
    "   return(x+y) # return should be your last statment when you want to use prints \n",
    " }\n",
    " \n",
    " add(5)\n",
    "#####################\n",
    " fahr_to_kelvin <- function(temp) {\n",
    "   kelvin <- ((temp - 32) * (5 / 9)) + 273.15\n",
    "   return(kelvin)\n",
    " }\n",
    "fahr_to_kelvin(25)\n",
    "### functions in r called as first class objects\n",
    "# treat every function is just like other objects\n",
    "# we can pass them into other functions like other objects(vectors, lists,...etc)\n",
    "sum(2,prod(3,which(letters==\"h\")))\n",
    "\n",
    "############# lazy evaluation\n",
    "fun <- function(a,b){\n",
    "  a^2\n",
    "}\n",
    "fun(2,x/0) # value of b is not using here in the function\n",
    "\n",
    "#####\n",
    "fun <- function(x){\n",
    "  10  # not using the x value with in the logic\n",
    "}\n",
    "fun(\"sumendar\")\n",
    "\n",
    "#############\n",
    "fun <- function(x){\n",
    "  nchar(x)+10  #using the x value with in the logic\n",
    "} \n",
    "fun(\"sumendar\")\n",
    "########################\n",
    "##nameless or ananymous functions\n",
    "(function(x) x*10)(5)\n",
    "(function(x,y) x*y)(5,6)\n",
    "#########\n",
    "args(add) # args function will print the arguments list\n",
    "args(sample)\n",
    "dates <- 1:30\n",
    "sample(dates, 16) # sample \"size = 16\"\n",
    "sample(16, dates) # undesired results; wanted \"size = 16\"\n",
    "sample(size = 16, x = dates) # gives desired result\n",
    "\n",
    "sample(s = 16, x = dates) # sampling w/ replacement\n",
    "sample(s = 16, x = dates, r = TRUE) # sampling w/ replacement\n",
    "sample(s = 16, x = dates, rep = TRUE) # sampling w/ replacement\n",
    "sample(s = 16, x = dates, replace = TRUE) # sampling w/ replacement\n",
    "\n",
    "################ apply family of functions ####################\n",
    "\n",
    "#############apply\n",
    "apply(mtcars, 2, mean) # columnwise\n",
    "apply(mtcars, 2, median)\n",
    "apply(mtcars, 2, max)\n",
    "apply(mtcars, 1, max) #rowwise\n",
    "apply(mtcars, 1, min)\n",
    "apply(mtcars, 1, mean)\n",
    "\n",
    "############# lapply\n",
    "lapply(list(2:10), sum)\n",
    "lapply(list(2:10,5:7), sum)\n",
    "lapply(month.name, nchar)\n",
    "lapply(names(precip), toupper)"
   ]
  },
  {
   "cell_type": "code",
   "execution_count": 3,
   "metadata": {},
   "outputs": [
    {
     "data": {
      "text/html": [
       "<table>\n",
       "<tbody>\n",
       "\t<tr><td>January  </td><td>April    </td><td>July     </td><td>October  </td></tr>\n",
       "\t<tr><td>February </td><td>May      </td><td>August   </td><td>November </td></tr>\n",
       "\t<tr><td>March    </td><td>June     </td><td>September</td><td>December </td></tr>\n",
       "</tbody>\n",
       "</table>\n"
      ],
      "text/latex": [
       "\\begin{tabular}{llll}\n",
       "\t January   & April     & July      & October  \\\\\n",
       "\t February  & May       & August    & November \\\\\n",
       "\t March     & June      & September & December \\\\\n",
       "\\end{tabular}\n"
      ],
      "text/markdown": [
       "\n",
       "| January   | April     | July      | October   | \n",
       "| February  | May       | August    | November  | \n",
       "| March     | June      | September | December  | \n",
       "\n",
       "\n"
      ],
      "text/plain": [
       "     [,1]     [,2]  [,3]      [,4]    \n",
       "[1,] January  April July      October \n",
       "[2,] February May   August    November\n",
       "[3,] March    June  September December"
      ]
     },
     "metadata": {},
     "output_type": "display_data"
    },
    {
     "data": {
      "text/html": [
       "<table>\n",
       "<tbody>\n",
       "\t<tr><td>7</td><td>5</td><td>4</td><td>7</td></tr>\n",
       "\t<tr><td>8</td><td>3</td><td>6</td><td>8</td></tr>\n",
       "\t<tr><td>5</td><td>4</td><td>9</td><td>8</td></tr>\n",
       "</tbody>\n",
       "</table>\n"
      ],
      "text/latex": [
       "\\begin{tabular}{llll}\n",
       "\t 7 & 5 & 4 & 7\\\\\n",
       "\t 8 & 3 & 6 & 8\\\\\n",
       "\t 5 & 4 & 9 & 8\\\\\n",
       "\\end{tabular}\n"
      ],
      "text/markdown": [
       "\n",
       "| 7 | 5 | 4 | 7 | \n",
       "| 8 | 3 | 6 | 8 | \n",
       "| 5 | 4 | 9 | 8 | \n",
       "\n",
       "\n"
      ],
      "text/plain": [
       "     [,1] [,2] [,3] [,4]\n",
       "[1,] 7    5    4    7   \n",
       "[2,] 8    3    6    8   \n",
       "[3,] 5    4    9    8   "
      ]
     },
     "metadata": {},
     "output_type": "display_data"
    },
    {
     "data": {
      "text/html": [
       "<table>\n",
       "<tbody>\n",
       "\t<tr><td>7</td><td>8</td><td>5</td></tr>\n",
       "\t<tr><td>5</td><td>3</td><td>4</td></tr>\n",
       "\t<tr><td>4</td><td>6</td><td>9</td></tr>\n",
       "\t<tr><td>7</td><td>8</td><td>8</td></tr>\n",
       "</tbody>\n",
       "</table>\n"
      ],
      "text/latex": [
       "\\begin{tabular}{lll}\n",
       "\t 7 & 8 & 5\\\\\n",
       "\t 5 & 3 & 4\\\\\n",
       "\t 4 & 6 & 9\\\\\n",
       "\t 7 & 8 & 8\\\\\n",
       "\\end{tabular}\n"
      ],
      "text/markdown": [
       "\n",
       "| 7 | 8 | 5 | \n",
       "| 5 | 3 | 4 | \n",
       "| 4 | 6 | 9 | \n",
       "| 7 | 8 | 8 | \n",
       "\n",
       "\n"
      ],
      "text/plain": [
       "     [,1] [,2] [,3]\n",
       "[1,] 7    8    5   \n",
       "[2,] 5    3    4   \n",
       "[3,] 4    6    9   \n",
       "[4,] 7    8    8   "
      ]
     },
     "metadata": {},
     "output_type": "display_data"
    },
    {
     "data": {
      "text/html": [
       "<ol class=list-inline>\n",
       "\t<li>1</li>\n",
       "\t<li>2</li>\n",
       "\t<li>3</li>\n",
       "\t<li>4</li>\n",
       "\t<li>5</li>\n",
       "\t<li>6</li>\n",
       "\t<li>7</li>\n",
       "\t<li>8</li>\n",
       "\t<li>9</li>\n",
       "\t<li>10</li>\n",
       "\t<li>11</li>\n",
       "\t<li>12</li>\n",
       "\t<li>13</li>\n",
       "\t<li>14</li>\n",
       "\t<li>15</li>\n",
       "\t<li>16</li>\n",
       "\t<li>17</li>\n",
       "\t<li>18</li>\n",
       "</ol>\n"
      ],
      "text/latex": [
       "\\begin{enumerate*}\n",
       "\\item 1\n",
       "\\item 2\n",
       "\\item 3\n",
       "\\item 4\n",
       "\\item 5\n",
       "\\item 6\n",
       "\\item 7\n",
       "\\item 8\n",
       "\\item 9\n",
       "\\item 10\n",
       "\\item 11\n",
       "\\item 12\n",
       "\\item 13\n",
       "\\item 14\n",
       "\\item 15\n",
       "\\item 16\n",
       "\\item 17\n",
       "\\item 18\n",
       "\\end{enumerate*}\n"
      ],
      "text/markdown": [
       "1. 1\n",
       "2. 2\n",
       "3. 3\n",
       "4. 4\n",
       "5. 5\n",
       "6. 6\n",
       "7. 7\n",
       "8. 8\n",
       "9. 9\n",
       "10. 10\n",
       "11. 11\n",
       "12. 12\n",
       "13. 13\n",
       "14. 14\n",
       "15. 15\n",
       "16. 16\n",
       "17. 17\n",
       "18. 18\n",
       "\n",
       "\n"
      ],
      "text/plain": [
       ", , 1\n",
       "\n",
       "     [,1] [,2] [,3]\n",
       "[1,]    1    3    5\n",
       "[2,]    2    4    6\n",
       "\n",
       ", , 2\n",
       "\n",
       "     [,1] [,2] [,3]\n",
       "[1,]    7    9   11\n",
       "[2,]    8   10   12\n",
       "\n",
       ", , 3\n",
       "\n",
       "     [,1] [,2] [,3]\n",
       "[1,]   13   15   17\n",
       "[2,]   14   16   18\n"
      ]
     },
     "metadata": {},
     "output_type": "display_data"
    },
    {
     "data": {
      "text/html": [
       "<ol class=list-inline>\n",
       "\t<li>9</li>\n",
       "\t<li>10</li>\n",
       "</ol>\n"
      ],
      "text/latex": [
       "\\begin{enumerate*}\n",
       "\\item 9\n",
       "\\item 10\n",
       "\\end{enumerate*}\n"
      ],
      "text/markdown": [
       "1. 9\n",
       "2. 10\n",
       "\n",
       "\n"
      ],
      "text/plain": [
       "[1]  9 10"
      ]
     },
     "metadata": {},
     "output_type": "display_data"
    },
    {
     "data": {
      "text/html": [
       "9"
      ],
      "text/latex": [
       "9"
      ],
      "text/markdown": [
       "9"
      ],
      "text/plain": [
       "[1] 9"
      ]
     },
     "metadata": {},
     "output_type": "display_data"
    },
    {
     "data": {
      "text/html": [
       "9"
      ],
      "text/latex": [
       "9"
      ],
      "text/markdown": [
       "9"
      ],
      "text/plain": [
       "[1] 9"
      ]
     },
     "metadata": {},
     "output_type": "display_data"
    },
    {
     "data": {
      "text/html": [
       "<ol class=list-inline>\n",
       "\t<li>7.5</li>\n",
       "\t<li>9.5</li>\n",
       "\t<li>11.5</li>\n",
       "</ol>\n"
      ],
      "text/latex": [
       "\\begin{enumerate*}\n",
       "\\item 7.5\n",
       "\\item 9.5\n",
       "\\item 11.5\n",
       "\\end{enumerate*}\n"
      ],
      "text/markdown": [
       "1. 7.5\n",
       "2. 9.5\n",
       "3. 11.5\n",
       "\n",
       "\n"
      ],
      "text/plain": [
       "[1]  7.5  9.5 11.5"
      ]
     },
     "metadata": {},
     "output_type": "display_data"
    },
    {
     "data": {
      "text/html": [
       "7.5"
      ],
      "text/latex": [
       "7.5"
      ],
      "text/markdown": [
       "7.5"
      ],
      "text/plain": [
       "[1] 7.5"
      ]
     },
     "metadata": {},
     "output_type": "display_data"
    },
    {
     "data": {
      "text/html": [
       "7.5"
      ],
      "text/latex": [
       "7.5"
      ],
      "text/markdown": [
       "7.5"
      ],
      "text/plain": [
       "[1] 7.5"
      ]
     },
     "metadata": {},
     "output_type": "display_data"
    },
    {
     "data": {
      "text/html": [
       "<ol class=list-inline>\n",
       "\t<li>3.5</li>\n",
       "\t<li>9.5</li>\n",
       "\t<li>15.5</li>\n",
       "</ol>\n"
      ],
      "text/latex": [
       "\\begin{enumerate*}\n",
       "\\item 3.5\n",
       "\\item 9.5\n",
       "\\item 15.5\n",
       "\\end{enumerate*}\n"
      ],
      "text/markdown": [
       "1. 3.5\n",
       "2. 9.5\n",
       "3. 15.5\n",
       "\n",
       "\n"
      ],
      "text/plain": [
       "[1]  3.5  9.5 15.5"
      ]
     },
     "metadata": {},
     "output_type": "display_data"
    },
    {
     "data": {
      "text/html": [
       "3.5"
      ],
      "text/latex": [
       "3.5"
      ],
      "text/markdown": [
       "3.5"
      ],
      "text/plain": [
       "[1] 3.5"
      ]
     },
     "metadata": {},
     "output_type": "display_data"
    },
    {
     "data": {
      "text/html": [
       "3.5"
      ],
      "text/latex": [
       "3.5"
      ],
      "text/markdown": [
       "3.5"
      ],
      "text/plain": [
       "[1] 3.5"
      ]
     },
     "metadata": {},
     "output_type": "display_data"
    },
    {
     "data": {
      "text/html": [
       "<ol>\n",
       "\t<li>7</li>\n",
       "\t<li>8</li>\n",
       "\t<li>5</li>\n",
       "\t<li>5</li>\n",
       "\t<li>3</li>\n",
       "\t<li>4</li>\n",
       "\t<li>4</li>\n",
       "\t<li>6</li>\n",
       "\t<li>9</li>\n",
       "\t<li>7</li>\n",
       "\t<li>8</li>\n",
       "\t<li>8</li>\n",
       "</ol>\n"
      ],
      "text/latex": [
       "\\begin{enumerate}\n",
       "\\item 7\n",
       "\\item 8\n",
       "\\item 5\n",
       "\\item 5\n",
       "\\item 3\n",
       "\\item 4\n",
       "\\item 4\n",
       "\\item 6\n",
       "\\item 9\n",
       "\\item 7\n",
       "\\item 8\n",
       "\\item 8\n",
       "\\end{enumerate}\n"
      ],
      "text/markdown": [
       "1. 7\n",
       "2. 8\n",
       "3. 5\n",
       "4. 5\n",
       "5. 3\n",
       "6. 4\n",
       "7. 4\n",
       "8. 6\n",
       "9. 9\n",
       "10. 7\n",
       "11. 8\n",
       "12. 8\n",
       "\n",
       "\n"
      ],
      "text/plain": [
       "[[1]]\n",
       "[1] 7\n",
       "\n",
       "[[2]]\n",
       "[1] 8\n",
       "\n",
       "[[3]]\n",
       "[1] 5\n",
       "\n",
       "[[4]]\n",
       "[1] 5\n",
       "\n",
       "[[5]]\n",
       "[1] 3\n",
       "\n",
       "[[6]]\n",
       "[1] 4\n",
       "\n",
       "[[7]]\n",
       "[1] 4\n",
       "\n",
       "[[8]]\n",
       "[1] 6\n",
       "\n",
       "[[9]]\n",
       "[1] 9\n",
       "\n",
       "[[10]]\n",
       "[1] 7\n",
       "\n",
       "[[11]]\n",
       "[1] 8\n",
       "\n",
       "[[12]]\n",
       "[1] 8\n"
      ]
     },
     "metadata": {},
     "output_type": "display_data"
    },
    {
     "data": {
      "text/html": [
       "<dl class=dl-horizontal>\n",
       "\t<dt>January</dt>\n",
       "\t\t<dd>7</dd>\n",
       "\t<dt>February</dt>\n",
       "\t\t<dd>8</dd>\n",
       "\t<dt>March</dt>\n",
       "\t\t<dd>5</dd>\n",
       "\t<dt>April</dt>\n",
       "\t\t<dd>5</dd>\n",
       "\t<dt>May</dt>\n",
       "\t\t<dd>3</dd>\n",
       "\t<dt>June</dt>\n",
       "\t\t<dd>4</dd>\n",
       "\t<dt>July</dt>\n",
       "\t\t<dd>4</dd>\n",
       "\t<dt>August</dt>\n",
       "\t\t<dd>6</dd>\n",
       "\t<dt>September</dt>\n",
       "\t\t<dd>9</dd>\n",
       "\t<dt>October</dt>\n",
       "\t\t<dd>7</dd>\n",
       "\t<dt>November</dt>\n",
       "\t\t<dd>8</dd>\n",
       "\t<dt>December</dt>\n",
       "\t\t<dd>8</dd>\n",
       "</dl>\n"
      ],
      "text/latex": [
       "\\begin{description*}\n",
       "\\item[January] 7\n",
       "\\item[February] 8\n",
       "\\item[March] 5\n",
       "\\item[April] 5\n",
       "\\item[May] 3\n",
       "\\item[June] 4\n",
       "\\item[July] 4\n",
       "\\item[August] 6\n",
       "\\item[September] 9\n",
       "\\item[October] 7\n",
       "\\item[November] 8\n",
       "\\item[December] 8\n",
       "\\end{description*}\n"
      ],
      "text/markdown": [
       "January\n",
       ":   7February\n",
       ":   8March\n",
       ":   5April\n",
       ":   5May\n",
       ":   3June\n",
       ":   4July\n",
       ":   4August\n",
       ":   6September\n",
       ":   9October\n",
       ":   7November\n",
       ":   8December\n",
       ":   8\n",
       "\n"
      ],
      "text/plain": [
       "  January  February     March     April       May      June      July    August \n",
       "        7         8         5         5         3         4         4         6 \n",
       "September   October  November  December \n",
       "        9         7         8         8 "
      ]
     },
     "metadata": {},
     "output_type": "display_data"
    },
    {
     "name": "stdout",
     "output_type": "stream",
     "text": [
      "'data.frame':\t150 obs. of  5 variables:\n",
      " $ Sepal.Length: num  5.1 4.9 4.7 4.6 5 5.4 4.6 5 4.4 4.9 ...\n",
      " $ Sepal.Width : num  3.5 3 3.2 3.1 3.6 3.9 3.4 3.4 2.9 3.1 ...\n",
      " $ Petal.Length: num  1.4 1.4 1.3 1.5 1.4 1.7 1.4 1.5 1.4 1.5 ...\n",
      " $ Petal.Width : num  0.2 0.2 0.2 0.2 0.2 0.4 0.3 0.2 0.2 0.1 ...\n",
      " $ Species     : Factor w/ 3 levels \"setosa\",\"versicolor\",..: 1 1 1 1 1 1 1 1 1 1 ...\n",
      "    setosa versicolor  virginica \n",
      "     5.006      5.936      6.588 \n",
      "       4        6        8 \n",
      "26.66364 19.74286 15.10000 \n",
      "       1        2        3        4        6        8 \n",
      "25.34286 22.40000 16.30000 15.79000 19.70000 15.00000 \n",
      "       3        4        5 \n",
      "16.10667 24.53333 21.38000 \n"
     ]
    },
    {
     "data": {
      "text/html": [
       "<table>\n",
       "<thead><tr><th scope=col>Group.1</th><th scope=col>Sepal.Length</th><th scope=col>Sepal.Width</th><th scope=col>Petal.Length</th><th scope=col>Petal.Width</th></tr></thead>\n",
       "<tbody>\n",
       "\t<tr><td>setosa    </td><td>5.006     </td><td>3.428     </td><td>1.462     </td><td>0.246     </td></tr>\n",
       "\t<tr><td>versicolor</td><td>5.936     </td><td>2.770     </td><td>4.260     </td><td>1.326     </td></tr>\n",
       "\t<tr><td>virginica </td><td>6.588     </td><td>2.974     </td><td>5.552     </td><td>2.026     </td></tr>\n",
       "</tbody>\n",
       "</table>\n"
      ],
      "text/latex": [
       "\\begin{tabular}{r|lllll}\n",
       " Group.1 & Sepal.Length & Sepal.Width & Petal.Length & Petal.Width\\\\\n",
       "\\hline\n",
       "\t setosa     & 5.006      & 3.428      & 1.462      & 0.246     \\\\\n",
       "\t versicolor & 5.936      & 2.770      & 4.260      & 1.326     \\\\\n",
       "\t virginica  & 6.588      & 2.974      & 5.552      & 2.026     \\\\\n",
       "\\end{tabular}\n"
      ],
      "text/markdown": [
       "\n",
       "Group.1 | Sepal.Length | Sepal.Width | Petal.Length | Petal.Width | \n",
       "|---|---|---|\n",
       "| setosa     | 5.006      | 3.428      | 1.462      | 0.246      | \n",
       "| versicolor | 5.936      | 2.770      | 4.260      | 1.326      | \n",
       "| virginica  | 6.588      | 2.974      | 5.552      | 2.026      | \n",
       "\n",
       "\n"
      ],
      "text/plain": [
       "  Group.1    Sepal.Length Sepal.Width Petal.Length Petal.Width\n",
       "1 setosa     5.006        3.428       1.462        0.246      \n",
       "2 versicolor 5.936        2.770       4.260        1.326      \n",
       "3 virginica  6.588        2.974       5.552        2.026      "
      ]
     },
     "metadata": {},
     "output_type": "display_data"
    },
    {
     "data": {
      "text/html": [
       "<table>\n",
       "<thead><tr><th scope=col>Group.1</th><th scope=col>Sepal.Length</th><th scope=col>Sepal.Width</th><th scope=col>Petal.Length</th><th scope=col>Petal.Width</th></tr></thead>\n",
       "<tbody>\n",
       "\t<tr><td>setosa    </td><td>5.006     </td><td>3.428     </td><td>1.462     </td><td>0.246     </td></tr>\n",
       "\t<tr><td>versicolor</td><td>5.936     </td><td>2.770     </td><td>4.260     </td><td>1.326     </td></tr>\n",
       "\t<tr><td>virginica </td><td>6.588     </td><td>2.974     </td><td>5.552     </td><td>2.026     </td></tr>\n",
       "</tbody>\n",
       "</table>\n"
      ],
      "text/latex": [
       "\\begin{tabular}{r|lllll}\n",
       " Group.1 & Sepal.Length & Sepal.Width & Petal.Length & Petal.Width\\\\\n",
       "\\hline\n",
       "\t setosa     & 5.006      & 3.428      & 1.462      & 0.246     \\\\\n",
       "\t versicolor & 5.936      & 2.770      & 4.260      & 1.326     \\\\\n",
       "\t virginica  & 6.588      & 2.974      & 5.552      & 2.026     \\\\\n",
       "\\end{tabular}\n"
      ],
      "text/markdown": [
       "\n",
       "Group.1 | Sepal.Length | Sepal.Width | Petal.Length | Petal.Width | \n",
       "|---|---|---|\n",
       "| setosa     | 5.006      | 3.428      | 1.462      | 0.246      | \n",
       "| versicolor | 5.936      | 2.770      | 4.260      | 1.326      | \n",
       "| virginica  | 6.588      | 2.974      | 5.552      | 2.026      | \n",
       "\n",
       "\n"
      ],
      "text/plain": [
       "  Group.1    Sepal.Length Sepal.Width Petal.Length Petal.Width\n",
       "1 setosa     5.006        3.428       1.462        0.246      \n",
       "2 versicolor 5.936        2.770       4.260        1.326      \n",
       "3 virginica  6.588        2.974       5.552        2.026      "
      ]
     },
     "metadata": {},
     "output_type": "display_data"
    },
    {
     "data": {
      "text/html": [
       "<table>\n",
       "<thead><tr><th scope=col>Group.1</th><th scope=col>Sepal.Length</th><th scope=col>Sepal.Width</th><th scope=col>Petal.Length</th><th scope=col>Petal.Width</th></tr></thead>\n",
       "<tbody>\n",
       "\t<tr><td>setosa    </td><td>5.006     </td><td>3.428     </td><td>1.462     </td><td>0.246     </td></tr>\n",
       "\t<tr><td>versicolor</td><td>5.936     </td><td>2.770     </td><td>4.260     </td><td>1.326     </td></tr>\n",
       "\t<tr><td>virginica </td><td>6.588     </td><td>2.974     </td><td>5.552     </td><td>2.026     </td></tr>\n",
       "</tbody>\n",
       "</table>\n"
      ],
      "text/latex": [
       "\\begin{tabular}{r|lllll}\n",
       " Group.1 & Sepal.Length & Sepal.Width & Petal.Length & Petal.Width\\\\\n",
       "\\hline\n",
       "\t setosa     & 5.006      & 3.428      & 1.462      & 0.246     \\\\\n",
       "\t versicolor & 5.936      & 2.770      & 4.260      & 1.326     \\\\\n",
       "\t virginica  & 6.588      & 2.974      & 5.552      & 2.026     \\\\\n",
       "\\end{tabular}\n"
      ],
      "text/markdown": [
       "\n",
       "Group.1 | Sepal.Length | Sepal.Width | Petal.Length | Petal.Width | \n",
       "|---|---|---|\n",
       "| setosa     | 5.006      | 3.428      | 1.462      | 0.246      | \n",
       "| versicolor | 5.936      | 2.770      | 4.260      | 1.326      | \n",
       "| virginica  | 6.588      | 2.974      | 5.552      | 2.026      | \n",
       "\n",
       "\n"
      ],
      "text/plain": [
       "  Group.1    Sepal.Length Sepal.Width Petal.Length Petal.Width\n",
       "1 setosa     5.006        3.428       1.462        0.246      \n",
       "2 versicolor 5.936        2.770       4.260        1.326      \n",
       "3 virginica  6.588        2.974       5.552        2.026      "
      ]
     },
     "metadata": {},
     "output_type": "display_data"
    },
    {
     "data": {
      "text/html": [
       "<table>\n",
       "<thead><tr><th scope=col>feed</th><th scope=col>weight</th></tr></thead>\n",
       "<tbody>\n",
       "\t<tr><td>casein   </td><td>323.5833 </td></tr>\n",
       "\t<tr><td>horsebean</td><td>160.2000 </td></tr>\n",
       "\t<tr><td>linseed  </td><td>218.7500 </td></tr>\n",
       "\t<tr><td>meatmeal </td><td>276.9091 </td></tr>\n",
       "\t<tr><td>soybean  </td><td>246.4286 </td></tr>\n",
       "\t<tr><td>sunflower</td><td>328.9167 </td></tr>\n",
       "</tbody>\n",
       "</table>\n"
      ],
      "text/latex": [
       "\\begin{tabular}{r|ll}\n",
       " feed & weight\\\\\n",
       "\\hline\n",
       "\t casein    & 323.5833 \\\\\n",
       "\t horsebean & 160.2000 \\\\\n",
       "\t linseed   & 218.7500 \\\\\n",
       "\t meatmeal  & 276.9091 \\\\\n",
       "\t soybean   & 246.4286 \\\\\n",
       "\t sunflower & 328.9167 \\\\\n",
       "\\end{tabular}\n"
      ],
      "text/markdown": [
       "\n",
       "feed | weight | \n",
       "|---|---|---|---|---|---|\n",
       "| casein    | 323.5833  | \n",
       "| horsebean | 160.2000  | \n",
       "| linseed   | 218.7500  | \n",
       "| meatmeal  | 276.9091  | \n",
       "| soybean   | 246.4286  | \n",
       "| sunflower | 328.9167  | \n",
       "\n",
       "\n"
      ],
      "text/plain": [
       "  feed      weight  \n",
       "1 casein    323.5833\n",
       "2 horsebean 160.2000\n",
       "3 linseed   218.7500\n",
       "4 meatmeal  276.9091\n",
       "5 soybean   246.4286\n",
       "6 sunflower 328.9167"
      ]
     },
     "metadata": {},
     "output_type": "display_data"
    },
    {
     "name": "stdout",
     "output_type": "stream",
     "text": [
      "        5         6         7         8         9 \n",
      "11.622581 10.266667  8.941935  8.793548 10.180000 \n",
      "        5         6         7         8         9 \n",
      "11.622581 10.266667  8.941935  8.793548 10.180000 \n"
     ]
    },
    {
     "data": {
      "text/html": [
       "<table>\n",
       "<thead><tr><th scope=col>wool</th><th scope=col>tension</th><th scope=col>breaks</th></tr></thead>\n",
       "<tbody>\n",
       "\t<tr><td>A       </td><td>L       </td><td>44.55556</td></tr>\n",
       "\t<tr><td>B       </td><td>L       </td><td>28.22222</td></tr>\n",
       "\t<tr><td>A       </td><td>M       </td><td>24.00000</td></tr>\n",
       "\t<tr><td>B       </td><td>M       </td><td>28.77778</td></tr>\n",
       "\t<tr><td>A       </td><td>H       </td><td>24.55556</td></tr>\n",
       "\t<tr><td>B       </td><td>H       </td><td>18.77778</td></tr>\n",
       "</tbody>\n",
       "</table>\n"
      ],
      "text/latex": [
       "\\begin{tabular}{r|lll}\n",
       " wool & tension & breaks\\\\\n",
       "\\hline\n",
       "\t A        & L        & 44.55556\\\\\n",
       "\t B        & L        & 28.22222\\\\\n",
       "\t A        & M        & 24.00000\\\\\n",
       "\t B        & M        & 28.77778\\\\\n",
       "\t A        & H        & 24.55556\\\\\n",
       "\t B        & H        & 18.77778\\\\\n",
       "\\end{tabular}\n"
      ],
      "text/markdown": [
       "\n",
       "wool | tension | breaks | \n",
       "|---|---|---|---|---|---|\n",
       "| A        | L        | 44.55556 | \n",
       "| B        | L        | 28.22222 | \n",
       "| A        | M        | 24.00000 | \n",
       "| B        | M        | 28.77778 | \n",
       "| A        | H        | 24.55556 | \n",
       "| B        | H        | 18.77778 | \n",
       "\n",
       "\n"
      ],
      "text/plain": [
       "  wool tension breaks  \n",
       "1 A    L       44.55556\n",
       "2 B    L       28.22222\n",
       "3 A    M       24.00000\n",
       "4 B    M       28.77778\n",
       "5 A    H       24.55556\n",
       "6 B    H       18.77778"
      ]
     },
     "metadata": {},
     "output_type": "display_data"
    },
    {
     "data": {
      "text/html": [
       "<table>\n",
       "<thead><tr><th scope=col>Month</th><th scope=col>Ozone</th><th scope=col>Temp</th></tr></thead>\n",
       "<tbody>\n",
       "\t<tr><td>5       </td><td>23.61538</td><td>66.73077</td></tr>\n",
       "\t<tr><td>6       </td><td>29.44444</td><td>78.22222</td></tr>\n",
       "\t<tr><td>7       </td><td>59.11538</td><td>83.88462</td></tr>\n",
       "\t<tr><td>8       </td><td>59.96154</td><td>83.96154</td></tr>\n",
       "\t<tr><td>9       </td><td>31.44828</td><td>76.89655</td></tr>\n",
       "</tbody>\n",
       "</table>\n"
      ],
      "text/latex": [
       "\\begin{tabular}{r|lll}\n",
       " Month & Ozone & Temp\\\\\n",
       "\\hline\n",
       "\t 5        & 23.61538 & 66.73077\\\\\n",
       "\t 6        & 29.44444 & 78.22222\\\\\n",
       "\t 7        & 59.11538 & 83.88462\\\\\n",
       "\t 8        & 59.96154 & 83.96154\\\\\n",
       "\t 9        & 31.44828 & 76.89655\\\\\n",
       "\\end{tabular}\n"
      ],
      "text/markdown": [
       "\n",
       "Month | Ozone | Temp | \n",
       "|---|---|---|---|---|\n",
       "| 5        | 23.61538 | 66.73077 | \n",
       "| 6        | 29.44444 | 78.22222 | \n",
       "| 7        | 59.11538 | 83.88462 | \n",
       "| 8        | 59.96154 | 83.96154 | \n",
       "| 9        | 31.44828 | 76.89655 | \n",
       "\n",
       "\n"
      ],
      "text/plain": [
       "  Month Ozone    Temp    \n",
       "1 5     23.61538 66.73077\n",
       "2 6     29.44444 78.22222\n",
       "3 7     59.11538 83.88462\n",
       "4 8     59.96154 83.96154\n",
       "5 9     31.44828 76.89655"
      ]
     },
     "metadata": {},
     "output_type": "display_data"
    },
    {
     "data": {
      "text/html": [
       "<table>\n",
       "<thead><tr><th scope=col>alcgp</th><th scope=col>tobgp</th><th scope=col>ncases</th><th scope=col>ncontrols</th></tr></thead>\n",
       "<tbody>\n",
       "\t<tr><td>0-39g/day</td><td>0-9g/day </td><td> 9       </td><td>261      </td></tr>\n",
       "\t<tr><td>40-79    </td><td>0-9g/day </td><td>34       </td><td>179      </td></tr>\n",
       "\t<tr><td>80-119   </td><td>0-9g/day </td><td>19       </td><td> 61      </td></tr>\n",
       "\t<tr><td>120+     </td><td>0-9g/day </td><td>16       </td><td> 24      </td></tr>\n",
       "\t<tr><td>0-39g/day</td><td>10-19    </td><td>10       </td><td> 84      </td></tr>\n",
       "\t<tr><td>40-79    </td><td>10-19    </td><td>17       </td><td> 85      </td></tr>\n",
       "\t<tr><td>80-119   </td><td>10-19    </td><td>19       </td><td> 49      </td></tr>\n",
       "\t<tr><td>120+     </td><td>10-19    </td><td>12       </td><td> 18      </td></tr>\n",
       "\t<tr><td>0-39g/day</td><td>20-29    </td><td> 5       </td><td> 42      </td></tr>\n",
       "\t<tr><td>40-79    </td><td>20-29    </td><td>15       </td><td> 62      </td></tr>\n",
       "\t<tr><td>80-119   </td><td>20-29    </td><td> 6       </td><td> 16      </td></tr>\n",
       "\t<tr><td>120+     </td><td>20-29    </td><td> 7       </td><td> 12      </td></tr>\n",
       "\t<tr><td>0-39g/day</td><td>30+      </td><td> 5       </td><td> 28      </td></tr>\n",
       "\t<tr><td>40-79    </td><td>30+      </td><td> 9       </td><td> 29      </td></tr>\n",
       "\t<tr><td>80-119   </td><td>30+      </td><td> 7       </td><td> 12      </td></tr>\n",
       "\t<tr><td>120+     </td><td>30+      </td><td>10       </td><td> 13      </td></tr>\n",
       "</tbody>\n",
       "</table>\n"
      ],
      "text/latex": [
       "\\begin{tabular}{r|llll}\n",
       " alcgp & tobgp & ncases & ncontrols\\\\\n",
       "\\hline\n",
       "\t 0-39g/day & 0-9g/day  &  9        & 261      \\\\\n",
       "\t 40-79     & 0-9g/day  & 34        & 179      \\\\\n",
       "\t 80-119    & 0-9g/day  & 19        &  61      \\\\\n",
       "\t 120+      & 0-9g/day  & 16        &  24      \\\\\n",
       "\t 0-39g/day & 10-19     & 10        &  84      \\\\\n",
       "\t 40-79     & 10-19     & 17        &  85      \\\\\n",
       "\t 80-119    & 10-19     & 19        &  49      \\\\\n",
       "\t 120+      & 10-19     & 12        &  18      \\\\\n",
       "\t 0-39g/day & 20-29     &  5        &  42      \\\\\n",
       "\t 40-79     & 20-29     & 15        &  62      \\\\\n",
       "\t 80-119    & 20-29     &  6        &  16      \\\\\n",
       "\t 120+      & 20-29     &  7        &  12      \\\\\n",
       "\t 0-39g/day & 30+       &  5        &  28      \\\\\n",
       "\t 40-79     & 30+       &  9        &  29      \\\\\n",
       "\t 80-119    & 30+       &  7        &  12      \\\\\n",
       "\t 120+      & 30+       & 10        &  13      \\\\\n",
       "\\end{tabular}\n"
      ],
      "text/markdown": [
       "\n",
       "alcgp | tobgp | ncases | ncontrols | \n",
       "|---|---|---|---|---|---|---|---|---|---|---|---|---|---|---|---|\n",
       "| 0-39g/day | 0-9g/day  |  9        | 261       | \n",
       "| 40-79     | 0-9g/day  | 34        | 179       | \n",
       "| 80-119    | 0-9g/day  | 19        |  61       | \n",
       "| 120+      | 0-9g/day  | 16        |  24       | \n",
       "| 0-39g/day | 10-19     | 10        |  84       | \n",
       "| 40-79     | 10-19     | 17        |  85       | \n",
       "| 80-119    | 10-19     | 19        |  49       | \n",
       "| 120+      | 10-19     | 12        |  18       | \n",
       "| 0-39g/day | 20-29     |  5        |  42       | \n",
       "| 40-79     | 20-29     | 15        |  62       | \n",
       "| 80-119    | 20-29     |  6        |  16       | \n",
       "| 120+      | 20-29     |  7        |  12       | \n",
       "| 0-39g/day | 30+       |  5        |  28       | \n",
       "| 40-79     | 30+       |  9        |  29       | \n",
       "| 80-119    | 30+       |  7        |  12       | \n",
       "| 120+      | 30+       | 10        |  13       | \n",
       "\n",
       "\n"
      ],
      "text/plain": [
       "   alcgp     tobgp    ncases ncontrols\n",
       "1  0-39g/day 0-9g/day  9     261      \n",
       "2  40-79     0-9g/day 34     179      \n",
       "3  80-119    0-9g/day 19      61      \n",
       "4  120+      0-9g/day 16      24      \n",
       "5  0-39g/day 10-19    10      84      \n",
       "6  40-79     10-19    17      85      \n",
       "7  80-119    10-19    19      49      \n",
       "8  120+      10-19    12      18      \n",
       "9  0-39g/day 20-29     5      42      \n",
       "10 40-79     20-29    15      62      \n",
       "11 80-119    20-29     6      16      \n",
       "12 120+      20-29     7      12      \n",
       "13 0-39g/day 30+       5      28      \n",
       "14 40-79     30+       9      29      \n",
       "15 80-119    30+       7      12      \n",
       "16 120+      30+      10      13      "
      ]
     },
     "metadata": {},
     "output_type": "display_data"
    },
    {
     "data": {
      "text/html": [
       "<table>\n",
       "<thead><tr><th scope=col>Species</th><th scope=col>Sepal.Length</th><th scope=col>Sepal.Width</th><th scope=col>Petal.Length</th><th scope=col>Petal.Width</th></tr></thead>\n",
       "<tbody>\n",
       "\t<tr><td>setosa    </td><td>5.006     </td><td>3.428     </td><td>1.462     </td><td>0.246     </td></tr>\n",
       "\t<tr><td>versicolor</td><td>5.936     </td><td>2.770     </td><td>4.260     </td><td>1.326     </td></tr>\n",
       "\t<tr><td>virginica </td><td>6.588     </td><td>2.974     </td><td>5.552     </td><td>2.026     </td></tr>\n",
       "</tbody>\n",
       "</table>\n"
      ],
      "text/latex": [
       "\\begin{tabular}{r|lllll}\n",
       " Species & Sepal.Length & Sepal.Width & Petal.Length & Petal.Width\\\\\n",
       "\\hline\n",
       "\t setosa     & 5.006      & 3.428      & 1.462      & 0.246     \\\\\n",
       "\t versicolor & 5.936      & 2.770      & 4.260      & 1.326     \\\\\n",
       "\t virginica  & 6.588      & 2.974      & 5.552      & 2.026     \\\\\n",
       "\\end{tabular}\n"
      ],
      "text/markdown": [
       "\n",
       "Species | Sepal.Length | Sepal.Width | Petal.Length | Petal.Width | \n",
       "|---|---|---|\n",
       "| setosa     | 5.006      | 3.428      | 1.462      | 0.246      | \n",
       "| versicolor | 5.936      | 2.770      | 4.260      | 1.326      | \n",
       "| virginica  | 6.588      | 2.974      | 5.552      | 2.026      | \n",
       "\n",
       "\n"
      ],
      "text/plain": [
       "  Species    Sepal.Length Sepal.Width Petal.Length Petal.Width\n",
       "1 setosa     5.006        3.428       1.462        0.246      \n",
       "2 versicolor 5.936        2.770       4.260        1.326      \n",
       "3 virginica  6.588        2.974       5.552        2.026      "
      ]
     },
     "metadata": {},
     "output_type": "display_data"
    },
    {
     "data": {
      "text/html": [
       "<table>\n",
       "<thead><tr><th scope=col>supp</th><th scope=col>dose</th><th scope=col>len</th></tr></thead>\n",
       "<tbody>\n",
       "\t<tr><td>OJ   </td><td>0.5  </td><td>13.23</td></tr>\n",
       "\t<tr><td>VC   </td><td>0.5  </td><td> 7.98</td></tr>\n",
       "\t<tr><td>OJ   </td><td>1.0  </td><td>22.70</td></tr>\n",
       "\t<tr><td>VC   </td><td>1.0  </td><td>16.77</td></tr>\n",
       "\t<tr><td>OJ   </td><td>2.0  </td><td>26.06</td></tr>\n",
       "\t<tr><td>VC   </td><td>2.0  </td><td>26.14</td></tr>\n",
       "</tbody>\n",
       "</table>\n"
      ],
      "text/latex": [
       "\\begin{tabular}{r|lll}\n",
       " supp & dose & len\\\\\n",
       "\\hline\n",
       "\t OJ    & 0.5   & 13.23\\\\\n",
       "\t VC    & 0.5   &  7.98\\\\\n",
       "\t OJ    & 1.0   & 22.70\\\\\n",
       "\t VC    & 1.0   & 16.77\\\\\n",
       "\t OJ    & 2.0   & 26.06\\\\\n",
       "\t VC    & 2.0   & 26.14\\\\\n",
       "\\end{tabular}\n"
      ],
      "text/markdown": [
       "\n",
       "supp | dose | len | \n",
       "|---|---|---|---|---|---|\n",
       "| OJ    | 0.5   | 13.23 | \n",
       "| VC    | 0.5   |  7.98 | \n",
       "| OJ    | 1.0   | 22.70 | \n",
       "| VC    | 1.0   | 16.77 | \n",
       "| OJ    | 2.0   | 26.06 | \n",
       "| VC    | 2.0   | 26.14 | \n",
       "\n",
       "\n"
      ],
      "text/plain": [
       "  supp dose len  \n",
       "1 OJ   0.5  13.23\n",
       "2 VC   0.5   7.98\n",
       "3 OJ   1.0  22.70\n",
       "4 VC   1.0  16.77\n",
       "5 OJ   2.0  26.06\n",
       "6 VC   2.0  26.14"
      ]
     },
     "metadata": {},
     "output_type": "display_data"
    },
    {
     "data": {
      "text/html": [
       "<dl>\n",
       "\t<dt>$a</dt>\n",
       "\t\t<dd><ol class=list-inline>\n",
       "\t<li>1</li>\n",
       "\t<li>2</li>\n",
       "\t<li>3</li>\n",
       "\t<li>4</li>\n",
       "\t<li>5</li>\n",
       "\t<li>6</li>\n",
       "\t<li>7</li>\n",
       "\t<li>8</li>\n",
       "\t<li>9</li>\n",
       "\t<li>10</li>\n",
       "</ol>\n",
       "</dd>\n",
       "\t<dt>$b</dt>\n",
       "\t\t<dd><ol class=list-inline>\n",
       "\t<li>11</li>\n",
       "\t<li>12</li>\n",
       "\t<li>13</li>\n",
       "\t<li>14</li>\n",
       "\t<li>15</li>\n",
       "\t<li>16</li>\n",
       "\t<li>17</li>\n",
       "\t<li>18</li>\n",
       "\t<li>19</li>\n",
       "\t<li>20</li>\n",
       "</ol>\n",
       "</dd>\n",
       "</dl>\n"
      ],
      "text/latex": [
       "\\begin{description}\n",
       "\\item[\\$a] \\begin{enumerate*}\n",
       "\\item 1\n",
       "\\item 2\n",
       "\\item 3\n",
       "\\item 4\n",
       "\\item 5\n",
       "\\item 6\n",
       "\\item 7\n",
       "\\item 8\n",
       "\\item 9\n",
       "\\item 10\n",
       "\\end{enumerate*}\n",
       "\n",
       "\\item[\\$b] \\begin{enumerate*}\n",
       "\\item 11\n",
       "\\item 12\n",
       "\\item 13\n",
       "\\item 14\n",
       "\\item 15\n",
       "\\item 16\n",
       "\\item 17\n",
       "\\item 18\n",
       "\\item 19\n",
       "\\item 20\n",
       "\\end{enumerate*}\n",
       "\n",
       "\\end{description}\n"
      ],
      "text/markdown": [
       "$a\n",
       ":   1. 1\n",
       "2. 2\n",
       "3. 3\n",
       "4. 4\n",
       "5. 5\n",
       "6. 6\n",
       "7. 7\n",
       "8. 8\n",
       "9. 9\n",
       "10. 10\n",
       "\n",
       "\n",
       "\n",
       "$b\n",
       ":   1. 11\n",
       "2. 12\n",
       "3. 13\n",
       "4. 14\n",
       "5. 15\n",
       "6. 16\n",
       "7. 17\n",
       "8. 18\n",
       "9. 19\n",
       "10. 20\n",
       "\n",
       "\n",
       "\n",
       "\n",
       "\n"
      ],
      "text/plain": [
       "$a\n",
       " [1]  1  2  3  4  5  6  7  8  9 10\n",
       "\n",
       "$b\n",
       " [1] 11 12 13 14 15 16 17 18 19 20\n"
      ]
     },
     "metadata": {},
     "output_type": "display_data"
    },
    {
     "data": {
      "text/html": [
       "<dl>\n",
       "\t<dt>$c</dt>\n",
       "\t\t<dd><ol class=list-inline>\n",
       "\t<li>21</li>\n",
       "\t<li>22</li>\n",
       "\t<li>23</li>\n",
       "\t<li>24</li>\n",
       "\t<li>25</li>\n",
       "\t<li>26</li>\n",
       "\t<li>27</li>\n",
       "\t<li>28</li>\n",
       "\t<li>29</li>\n",
       "\t<li>30</li>\n",
       "</ol>\n",
       "</dd>\n",
       "\t<dt>$d</dt>\n",
       "\t\t<dd><ol class=list-inline>\n",
       "\t<li>31</li>\n",
       "\t<li>32</li>\n",
       "\t<li>33</li>\n",
       "\t<li>34</li>\n",
       "\t<li>35</li>\n",
       "\t<li>36</li>\n",
       "\t<li>37</li>\n",
       "\t<li>38</li>\n",
       "\t<li>39</li>\n",
       "\t<li>40</li>\n",
       "</ol>\n",
       "</dd>\n",
       "</dl>\n"
      ],
      "text/latex": [
       "\\begin{description}\n",
       "\\item[\\$c] \\begin{enumerate*}\n",
       "\\item 21\n",
       "\\item 22\n",
       "\\item 23\n",
       "\\item 24\n",
       "\\item 25\n",
       "\\item 26\n",
       "\\item 27\n",
       "\\item 28\n",
       "\\item 29\n",
       "\\item 30\n",
       "\\end{enumerate*}\n",
       "\n",
       "\\item[\\$d] \\begin{enumerate*}\n",
       "\\item 31\n",
       "\\item 32\n",
       "\\item 33\n",
       "\\item 34\n",
       "\\item 35\n",
       "\\item 36\n",
       "\\item 37\n",
       "\\item 38\n",
       "\\item 39\n",
       "\\item 40\n",
       "\\end{enumerate*}\n",
       "\n",
       "\\end{description}\n"
      ],
      "text/markdown": [
       "$c\n",
       ":   1. 21\n",
       "2. 22\n",
       "3. 23\n",
       "4. 24\n",
       "5. 25\n",
       "6. 26\n",
       "7. 27\n",
       "8. 28\n",
       "9. 29\n",
       "10. 30\n",
       "\n",
       "\n",
       "\n",
       "$d\n",
       ":   1. 31\n",
       "2. 32\n",
       "3. 33\n",
       "4. 34\n",
       "5. 35\n",
       "6. 36\n",
       "7. 37\n",
       "8. 38\n",
       "9. 39\n",
       "10. 40\n",
       "\n",
       "\n",
       "\n",
       "\n",
       "\n"
      ],
      "text/plain": [
       "$c\n",
       " [1] 21 22 23 24 25 26 27 28 29 30\n",
       "\n",
       "$d\n",
       " [1] 31 32 33 34 35 36 37 38 39 40\n"
      ]
     },
     "metadata": {},
     "output_type": "display_data"
    },
    {
     "name": "stdout",
     "output_type": "stream",
     "text": [
      " [1]  64  68  72  76  80  84  88  92  96 100\n"
     ]
    },
    {
     "data": {
      "text/html": [
       "64"
      ],
      "text/latex": [
       "64"
      ],
      "text/markdown": [
       "64"
      ],
      "text/plain": [
       "[1] 64"
      ]
     },
     "metadata": {},
     "output_type": "display_data"
    },
    {
     "name": "stdout",
     "output_type": "stream",
     "text": [
      "  a   b \n",
      " 55 155 \n"
     ]
    },
    {
     "data": {
      "text/html": [
       "55"
      ],
      "text/latex": [
       "55"
      ],
      "text/markdown": [
       "55"
      ],
      "text/plain": [
       "[1] 55"
      ]
     },
     "metadata": {},
     "output_type": "display_data"
    },
    {
     "data": {
      "text/html": [
       "155"
      ],
      "text/latex": [
       "155"
      ],
      "text/markdown": [
       "155"
      ],
      "text/plain": [
       "[1] 155"
      ]
     },
     "metadata": {},
     "output_type": "display_data"
    },
    {
     "name": "stdout",
     "output_type": "stream",
     "text": [
      "  a   b \n",
      "310 510 \n"
     ]
    },
    {
     "data": {
      "text/plain": [
       "iris$Species: setosa\n",
       "Sepal.Length  Sepal.Width Petal.Length  Petal.Width \n",
       "       5.006        3.428        1.462        0.246 \n",
       "------------------------------------------------------------ \n",
       "iris$Species: versicolor\n",
       "Sepal.Length  Sepal.Width Petal.Length  Petal.Width \n",
       "       5.936        2.770        4.260        1.326 \n",
       "------------------------------------------------------------ \n",
       "iris$Species: virginica\n",
       "Sepal.Length  Sepal.Width Petal.Length  Petal.Width \n",
       "       6.588        2.974        5.552        2.026 "
      ]
     },
     "metadata": {},
     "output_type": "display_data"
    },
    {
     "data": {
      "text/html": [
       "<ol class=list-inline>\n",
       "\t<li>18.7</li>\n",
       "\t<li>14.3</li>\n",
       "\t<li>10.4</li>\n",
       "\t<li>10.4</li>\n",
       "\t<li>14.7</li>\n",
       "\t<li>19.2</li>\n",
       "\t<li>15.8</li>\n",
       "</ol>\n"
      ],
      "text/latex": [
       "\\begin{enumerate*}\n",
       "\\item 18.7\n",
       "\\item 14.3\n",
       "\\item 10.4\n",
       "\\item 10.4\n",
       "\\item 14.7\n",
       "\\item 19.2\n",
       "\\item 15.8\n",
       "\\end{enumerate*}\n"
      ],
      "text/markdown": [
       "1. 18.7\n",
       "2. 14.3\n",
       "3. 10.4\n",
       "4. 10.4\n",
       "5. 14.7\n",
       "6. 19.2\n",
       "7. 15.8\n",
       "\n",
       "\n"
      ],
      "text/plain": [
       "[1] 18.7 14.3 10.4 10.4 14.7 19.2 15.8"
      ]
     },
     "metadata": {},
     "output_type": "display_data"
    },
    {
     "data": {
      "text/html": [
       "<ol class=list-inline>\n",
       "\t<li>18.7</li>\n",
       "\t<li>14.3</li>\n",
       "\t<li>10.4</li>\n",
       "\t<li>10.4</li>\n",
       "\t<li>14.7</li>\n",
       "\t<li>19.2</li>\n",
       "\t<li>15.8</li>\n",
       "</ol>\n"
      ],
      "text/latex": [
       "\\begin{enumerate*}\n",
       "\\item 18.7\n",
       "\\item 14.3\n",
       "\\item 10.4\n",
       "\\item 10.4\n",
       "\\item 14.7\n",
       "\\item 19.2\n",
       "\\item 15.8\n",
       "\\end{enumerate*}\n"
      ],
      "text/markdown": [
       "1. 18.7\n",
       "2. 14.3\n",
       "3. 10.4\n",
       "4. 10.4\n",
       "5. 14.7\n",
       "6. 19.2\n",
       "7. 15.8\n",
       "\n",
       "\n"
      ],
      "text/plain": [
       "[1] 18.7 14.3 10.4 10.4 14.7 19.2 15.8"
      ]
     },
     "metadata": {},
     "output_type": "display_data"
    },
    {
     "data": {
      "text/html": [
       "<table>\n",
       "<thead><tr><th scope=col>Subtype</th><th scope=col>Gender</th><th scope=col>Expression</th></tr></thead>\n",
       "<tbody>\n",
       "\t<tr><td>A    </td><td>m    </td><td>-0.54</td></tr>\n",
       "\t<tr><td>A    </td><td>m    </td><td>-0.80</td></tr>\n",
       "\t<tr><td>B    </td><td>m    </td><td>-1.03</td></tr>\n",
       "\t<tr><td>A    </td><td>m    </td><td>-0.41</td></tr>\n",
       "\t<tr><td>B    </td><td>m    </td><td>-1.31</td></tr>\n",
       "\t<tr><td>B    </td><td>f    </td><td>-0.66</td></tr>\n",
       "\t<tr><td>A    </td><td>f    </td><td>-0.43</td></tr>\n",
       "\t<tr><td>B    </td><td>f    </td><td> 1.01</td></tr>\n",
       "\t<tr><td>A    </td><td>f    </td><td>-1.15</td></tr>\n",
       "\t<tr><td>B    </td><td>f    </td><td> 0.14</td></tr>\n",
       "</tbody>\n",
       "</table>\n"
      ],
      "text/latex": [
       "\\begin{tabular}{r|lll}\n",
       " Subtype & Gender & Expression\\\\\n",
       "\\hline\n",
       "\t A     & m     & -0.54\\\\\n",
       "\t A     & m     & -0.80\\\\\n",
       "\t B     & m     & -1.03\\\\\n",
       "\t A     & m     & -0.41\\\\\n",
       "\t B     & m     & -1.31\\\\\n",
       "\t B     & f     & -0.66\\\\\n",
       "\t A     & f     & -0.43\\\\\n",
       "\t B     & f     &  1.01\\\\\n",
       "\t A     & f     & -1.15\\\\\n",
       "\t B     & f     &  0.14\\\\\n",
       "\\end{tabular}\n"
      ],
      "text/markdown": [
       "\n",
       "Subtype | Gender | Expression | \n",
       "|---|---|---|---|---|---|---|---|---|---|\n",
       "| A     | m     | -0.54 | \n",
       "| A     | m     | -0.80 | \n",
       "| B     | m     | -1.03 | \n",
       "| A     | m     | -0.41 | \n",
       "| B     | m     | -1.31 | \n",
       "| B     | f     | -0.66 | \n",
       "| A     | f     | -0.43 | \n",
       "| B     | f     |  1.01 | \n",
       "| A     | f     | -1.15 | \n",
       "| B     | f     |  0.14 | \n",
       "\n",
       "\n"
      ],
      "text/plain": [
       "   Subtype Gender Expression\n",
       "1  A       m      -0.54     \n",
       "2  A       m      -0.80     \n",
       "3  B       m      -1.03     \n",
       "4  A       m      -0.41     \n",
       "5  B       m      -1.31     \n",
       "6  B       f      -0.66     \n",
       "7  A       f      -0.43     \n",
       "8  B       f       1.01     \n",
       "9  A       f      -1.15     \n",
       "10 B       f       0.14     "
      ]
     },
     "metadata": {},
     "output_type": "display_data"
    },
    {
     "data": {
      "text/html": [
       "<ol class=list-inline>\n",
       "\t<li>-0.54</li>\n",
       "\t<li>-0.8</li>\n",
       "\t<li>-1.03</li>\n",
       "\t<li>-0.41</li>\n",
       "\t<li>-1.31</li>\n",
       "\t<li>-0.66</li>\n",
       "\t<li>-0.43</li>\n",
       "\t<li>1.01</li>\n",
       "\t<li>-1.15</li>\n",
       "\t<li>0.14</li>\n",
       "</ol>\n"
      ],
      "text/latex": [
       "\\begin{enumerate*}\n",
       "\\item -0.54\n",
       "\\item -0.8\n",
       "\\item -1.03\n",
       "\\item -0.41\n",
       "\\item -1.31\n",
       "\\item -0.66\n",
       "\\item -0.43\n",
       "\\item 1.01\n",
       "\\item -1.15\n",
       "\\item 0.14\n",
       "\\end{enumerate*}\n"
      ],
      "text/markdown": [
       "1. -0.54\n",
       "2. -0.8\n",
       "3. -1.03\n",
       "4. -0.41\n",
       "5. -1.31\n",
       "6. -0.66\n",
       "7. -0.43\n",
       "8. 1.01\n",
       "9. -1.15\n",
       "10. 0.14\n",
       "\n",
       "\n"
      ],
      "text/plain": [
       " [1] -0.54 -0.80 -1.03 -0.41 -1.31 -0.66 -0.43  1.01 -1.15  0.14"
      ]
     },
     "metadata": {},
     "output_type": "display_data"
    },
    {
     "data": {
      "text/html": [
       "<ol class=list-inline>\n",
       "\t<li>-0.54</li>\n",
       "\t<li>-0.8</li>\n",
       "\t<li>-1.03</li>\n",
       "\t<li>-0.41</li>\n",
       "\t<li>-1.31</li>\n",
       "\t<li>-0.66</li>\n",
       "\t<li>-0.43</li>\n",
       "\t<li>1.01</li>\n",
       "\t<li>-1.15</li>\n",
       "\t<li>0.14</li>\n",
       "</ol>\n"
      ],
      "text/latex": [
       "\\begin{enumerate*}\n",
       "\\item -0.54\n",
       "\\item -0.8\n",
       "\\item -1.03\n",
       "\\item -0.41\n",
       "\\item -1.31\n",
       "\\item -0.66\n",
       "\\item -0.43\n",
       "\\item 1.01\n",
       "\\item -1.15\n",
       "\\item 0.14\n",
       "\\end{enumerate*}\n"
      ],
      "text/markdown": [
       "1. -0.54\n",
       "2. -0.8\n",
       "3. -1.03\n",
       "4. -0.41\n",
       "5. -1.31\n",
       "6. -0.66\n",
       "7. -0.43\n",
       "8. 1.01\n",
       "9. -1.15\n",
       "10. 0.14\n",
       "\n",
       "\n"
      ],
      "text/plain": [
       " [1] -0.54 -0.80 -1.03 -0.41 -1.31 -0.66 -0.43  1.01 -1.15  0.14"
      ]
     },
     "metadata": {},
     "output_type": "display_data"
    },
    {
     "data": {
      "text/html": [
       "<ol class=list-inline>\n",
       "\t<li>-0.54</li>\n",
       "\t<li>-0.8</li>\n",
       "\t<li>-1.03</li>\n",
       "\t<li>-0.41</li>\n",
       "\t<li>-1.31</li>\n",
       "\t<li>-0.66</li>\n",
       "\t<li>-0.43</li>\n",
       "\t<li>1.01</li>\n",
       "\t<li>-1.15</li>\n",
       "\t<li>0.14</li>\n",
       "</ol>\n"
      ],
      "text/latex": [
       "\\begin{enumerate*}\n",
       "\\item -0.54\n",
       "\\item -0.8\n",
       "\\item -1.03\n",
       "\\item -0.41\n",
       "\\item -1.31\n",
       "\\item -0.66\n",
       "\\item -0.43\n",
       "\\item 1.01\n",
       "\\item -1.15\n",
       "\\item 0.14\n",
       "\\end{enumerate*}\n"
      ],
      "text/markdown": [
       "1. -0.54\n",
       "2. -0.8\n",
       "3. -1.03\n",
       "4. -0.41\n",
       "5. -1.31\n",
       "6. -0.66\n",
       "7. -0.43\n",
       "8. 1.01\n",
       "9. -1.15\n",
       "10. 0.14\n",
       "\n",
       "\n"
      ],
      "text/plain": [
       " [1] -0.54 -0.80 -1.03 -0.41 -1.31 -0.66 -0.43  1.01 -1.15  0.14"
      ]
     },
     "metadata": {},
     "output_type": "display_data"
    }
   ],
   "source": [
    "################ apply function on matrices\n",
    "\n",
    "mnthMat <- matrix(month.name,3,4)\n",
    "mnthMat\n",
    "apply(mnthMat, 2, nchar) # column wise \n",
    "apply(mnthMat, 1, nchar) # row wise \n",
    "\n",
    "####################################### apply function on arrays\n",
    "mnthArr <- array(seq(1,18),dim = c(2,3,3))\n",
    "mnthArr\n",
    "\n",
    "#rowwise operation\n",
    "apply(mnthArr, 1, mean) \n",
    "# is nothing but\n",
    "mean(c(1,3,5,7,9,11,13,15,17))\n",
    "# or \n",
    "mean(c(mnthArr[,,1][1,],mnthArr[,,2][1,],mnthArr[,,3][1,]))\n",
    "\n",
    "#column wise operation\n",
    "apply(mnthArr, 2, mean) \n",
    "# is nothing but\n",
    "mean(c(1,2,7,8,13,14))\n",
    "# or \n",
    "mean(c(mnthArr[,,1][,1],mnthArr[,,2][,1],mnthArr[,,3][,1]))\n",
    "\n",
    "#table wise operation\n",
    "apply(mnthArr, 3, mean)\n",
    "# is nothing but\n",
    "mean(1:6)\n",
    "# or \n",
    "mean(mnthArr[,,1])\n",
    "\n",
    "############################################\n",
    "############### \n",
    "lapply(month.name, nchar)\n",
    "sapply(month.name, nchar)\n",
    "#############\n",
    "str(iris)\n",
    "print(tapply(iris$Sepal.Length, iris$Species, mean))\n",
    "print(tapply(mtcars$mpg, mtcars$cyl, mean))\n",
    "print(tapply(mtcars$mpg, mtcars$carb, mean))\n",
    "print(tapply(mtcars$mpg, mtcars$gear, mean))\n",
    "\n",
    "aggregate(iris[-5], list(iris$Species), mean)\n",
    "aggregate(iris[1:4], list(iris$Species), mean)\n",
    "aggregate(iris[,1:4], list(iris$Species), mean)\n",
    "\n",
    "## Formulas, one ~ one, one ~ many, many ~ one, and many ~ many:\n",
    "aggregate(weight ~ feed, data = chickwts, mean)\n",
    "# is same as \n",
    "print(tapply(airquality$Wind , airquality$Month, mean))\n",
    "# is same as \n",
    "print(with(airquality, tapply(Wind , Month, mean)))\n",
    "\n",
    "aggregate(breaks ~ wool + tension, data = warpbreaks, mean)\n",
    "# is same as\n",
    "aggregate(warpbreaks$breaks,list(warpbreaks$wool,warpbreaks$tension), mean)\n",
    "\n",
    "aggregate(cbind(Ozone, Temp) ~ Month, data = airquality, mean)\n",
    "aggregate(cbind(ncases, ncontrols) ~ alcgp + tobgp, data = esoph, sum)\n",
    "\n",
    "## Dot notation:\n",
    "aggregate(. ~ Species, data = iris, mean)\n",
    "aggregate(len ~ ., data = ToothGrowth, mean)\n",
    "\n",
    "###### mapply\n",
    "l1 <- list(a = c(1:10), b = c(11:20))\n",
    "l2 <- list(c = c(21:30), d = c(31:40))\n",
    "l1\n",
    "l2\n",
    "print(mapply(sum, l1$a, l1$b, l2$c, l2$d))\n",
    "sum(c(1,11,21,31))\n",
    "print(mapply(sum, l1))\n",
    "sum(1:10)\n",
    "sum(11:20)\n",
    "print(mapply(sum, l1,l2))\n",
    "\n",
    "########## by function\n",
    "\n",
    "b <- by(iris[, 1:4], iris$Species, colMeans)\n",
    "b\n",
    "\n",
    "####################### with()\n",
    "\n",
    "mtcars$mpg[mtcars$cyl == 8  &  mtcars$disp > 350]\n",
    "with(mtcars, mpg[cyl == 8  &  disp > 350]) # we can avoid using $ notation by with() function\n",
    "\n",
    "############## attach()\n",
    "\n",
    "x <- data.frame(Subtype= c(\"A\",\"A\",\"B\",\"A\",\"B\",\"B\",\"A\",\"B\",\"A\",\"B\"), \n",
    "                Gender= rep(c(\"m\",\"f\"),each=5), \n",
    "                Expression = c(-0.54,-0.8,-1.03,-0.41,-1.31,-0.66,-0.43,1.01,-1.15,0.14))\n",
    "\n",
    "x\n",
    "x$Expression\n",
    "# Expression  # you will get an error\n",
    "attach(x) #using attach\n",
    "Expression  # you will get answer\n",
    "detach(x)\n",
    "# Expression  # error\n",
    "x$Expression"
   ]
  },
  {
   "cell_type": "code",
   "execution_count": null,
   "metadata": {},
   "outputs": [],
   "source": []
  },
  {
   "cell_type": "code",
   "execution_count": 2,
   "metadata": {
    "run_control": {
     "frozen": false,
     "read_only": false
    }
   },
   "outputs": [
    {
     "data": {
      "text/html": [
       "3"
      ],
      "text/latex": [
       "3"
      ],
      "text/markdown": [
       "3"
      ],
      "text/plain": [
       "[1] 3"
      ]
     },
     "metadata": {},
     "output_type": "display_data"
    },
    {
     "data": {
      "text/html": [
       "'numeric'"
      ],
      "text/latex": [
       "'numeric'"
      ],
      "text/markdown": [
       "'numeric'"
      ],
      "text/plain": [
       "[1] \"numeric\""
      ]
     },
     "metadata": {},
     "output_type": "display_data"
    },
    {
     "data": {
      "text/html": [
       "<ol class=list-inline>\n",
       "\t<li>1</li>\n",
       "\t<li>2</li>\n",
       "</ol>\n"
      ],
      "text/latex": [
       "\\begin{enumerate*}\n",
       "\\item 1\n",
       "\\item 2\n",
       "\\end{enumerate*}\n"
      ],
      "text/markdown": [
       "1. 1\n",
       "2. 2\n",
       "\n",
       "\n"
      ],
      "text/plain": [
       "[1] 1 2"
      ]
     },
     "metadata": {},
     "output_type": "display_data"
    },
    {
     "data": {
      "text/html": [
       "<ol class=list-inline>\n",
       "\t<li>'a'</li>\n",
       "\t<li>'b'</li>\n",
       "\t<li>'c'</li>\n",
       "\t<li>'d'</li>\n",
       "\t<li>'e'</li>\n",
       "\t<li>'f'</li>\n",
       "\t<li>'g'</li>\n",
       "\t<li>'h'</li>\n",
       "\t<li>'i'</li>\n",
       "\t<li>'j'</li>\n",
       "\t<li>'k'</li>\n",
       "\t<li>'l'</li>\n",
       "\t<li>'m'</li>\n",
       "\t<li>'n'</li>\n",
       "\t<li>'o'</li>\n",
       "\t<li>'p'</li>\n",
       "\t<li>'q'</li>\n",
       "\t<li>'r'</li>\n",
       "\t<li>'s'</li>\n",
       "\t<li>'t'</li>\n",
       "\t<li>'u'</li>\n",
       "\t<li>'v'</li>\n",
       "\t<li>'w'</li>\n",
       "\t<li>'x'</li>\n",
       "\t<li>'y'</li>\n",
       "\t<li>'z'</li>\n",
       "</ol>\n"
      ],
      "text/latex": [
       "\\begin{enumerate*}\n",
       "\\item 'a'\n",
       "\\item 'b'\n",
       "\\item 'c'\n",
       "\\item 'd'\n",
       "\\item 'e'\n",
       "\\item 'f'\n",
       "\\item 'g'\n",
       "\\item 'h'\n",
       "\\item 'i'\n",
       "\\item 'j'\n",
       "\\item 'k'\n",
       "\\item 'l'\n",
       "\\item 'm'\n",
       "\\item 'n'\n",
       "\\item 'o'\n",
       "\\item 'p'\n",
       "\\item 'q'\n",
       "\\item 'r'\n",
       "\\item 's'\n",
       "\\item 't'\n",
       "\\item 'u'\n",
       "\\item 'v'\n",
       "\\item 'w'\n",
       "\\item 'x'\n",
       "\\item 'y'\n",
       "\\item 'z'\n",
       "\\end{enumerate*}\n"
      ],
      "text/markdown": [
       "1. 'a'\n",
       "2. 'b'\n",
       "3. 'c'\n",
       "4. 'd'\n",
       "5. 'e'\n",
       "6. 'f'\n",
       "7. 'g'\n",
       "8. 'h'\n",
       "9. 'i'\n",
       "10. 'j'\n",
       "11. 'k'\n",
       "12. 'l'\n",
       "13. 'm'\n",
       "14. 'n'\n",
       "15. 'o'\n",
       "16. 'p'\n",
       "17. 'q'\n",
       "18. 'r'\n",
       "19. 's'\n",
       "20. 't'\n",
       "21. 'u'\n",
       "22. 'v'\n",
       "23. 'w'\n",
       "24. 'x'\n",
       "25. 'y'\n",
       "26. 'z'\n",
       "\n",
       "\n"
      ],
      "text/plain": [
       " [1] \"a\" \"b\" \"c\" \"d\" \"e\" \"f\" \"g\" \"h\" \"i\" \"j\" \"k\" \"l\" \"m\" \"n\" \"o\" \"p\" \"q\" \"r\" \"s\"\n",
       "[20] \"t\" \"u\" \"v\" \"w\" \"x\" \"y\" \"z\""
      ]
     },
     "metadata": {},
     "output_type": "display_data"
    },
    {
     "data": {
      "text/html": [
       "<ol class=list-inline>\n",
       "\t<li>'a'</li>\n",
       "\t<li>'b'</li>\n",
       "\t<li>'c'</li>\n",
       "\t<li>'d'</li>\n",
       "\t<li>'e'</li>\n",
       "\t<li>'f'</li>\n",
       "\t<li>'g'</li>\n",
       "\t<li>'h'</li>\n",
       "\t<li>'i'</li>\n",
       "\t<li>'j'</li>\n",
       "\t<li>'k'</li>\n",
       "\t<li>'l'</li>\n",
       "\t<li>'m'</li>\n",
       "\t<li>'n'</li>\n",
       "\t<li>'o'</li>\n",
       "\t<li>'p'</li>\n",
       "\t<li>'q'</li>\n",
       "\t<li>'r'</li>\n",
       "\t<li>'s'</li>\n",
       "\t<li>'t'</li>\n",
       "\t<li>'u'</li>\n",
       "\t<li>'v'</li>\n",
       "\t<li>'w'</li>\n",
       "\t<li>'x'</li>\n",
       "\t<li>'y'</li>\n",
       "\t<li>'z'</li>\n",
       "</ol>\n"
      ],
      "text/latex": [
       "\\begin{enumerate*}\n",
       "\\item 'a'\n",
       "\\item 'b'\n",
       "\\item 'c'\n",
       "\\item 'd'\n",
       "\\item 'e'\n",
       "\\item 'f'\n",
       "\\item 'g'\n",
       "\\item 'h'\n",
       "\\item 'i'\n",
       "\\item 'j'\n",
       "\\item 'k'\n",
       "\\item 'l'\n",
       "\\item 'm'\n",
       "\\item 'n'\n",
       "\\item 'o'\n",
       "\\item 'p'\n",
       "\\item 'q'\n",
       "\\item 'r'\n",
       "\\item 's'\n",
       "\\item 't'\n",
       "\\item 'u'\n",
       "\\item 'v'\n",
       "\\item 'w'\n",
       "\\item 'x'\n",
       "\\item 'y'\n",
       "\\item 'z'\n",
       "\\end{enumerate*}\n"
      ],
      "text/markdown": [
       "1. 'a'\n",
       "2. 'b'\n",
       "3. 'c'\n",
       "4. 'd'\n",
       "5. 'e'\n",
       "6. 'f'\n",
       "7. 'g'\n",
       "8. 'h'\n",
       "9. 'i'\n",
       "10. 'j'\n",
       "11. 'k'\n",
       "12. 'l'\n",
       "13. 'm'\n",
       "14. 'n'\n",
       "15. 'o'\n",
       "16. 'p'\n",
       "17. 'q'\n",
       "18. 'r'\n",
       "19. 's'\n",
       "20. 't'\n",
       "21. 'u'\n",
       "22. 'v'\n",
       "23. 'w'\n",
       "24. 'x'\n",
       "25. 'y'\n",
       "26. 'z'\n",
       "\n",
       "\n"
      ],
      "text/plain": [
       " [1] \"a\" \"b\" \"c\" \"d\" \"e\" \"f\" \"g\" \"h\" \"i\" \"j\" \"k\" \"l\" \"m\" \"n\" \"o\" \"p\" \"q\" \"r\" \"s\"\n",
       "[20] \"t\" \"u\" \"v\" \"w\" \"x\" \"y\" \"z\""
      ]
     },
     "metadata": {},
     "output_type": "display_data"
    },
    {
     "data": {
      "text/html": [
       "3"
      ],
      "text/latex": [
       "3"
      ],
      "text/markdown": [
       "3"
      ],
      "text/plain": [
       "[1] 3"
      ]
     },
     "metadata": {},
     "output_type": "display_data"
    },
    {
     "data": {
      "text/html": [
       "3"
      ],
      "text/latex": [
       "3"
      ],
      "text/markdown": [
       "3"
      ],
      "text/plain": [
       "[1] 3"
      ]
     },
     "metadata": {},
     "output_type": "display_data"
    },
    {
     "data": {
      "text/html": [
       "3"
      ],
      "text/latex": [
       "3"
      ],
      "text/markdown": [
       "3"
      ],
      "text/plain": [
       "[1] 3"
      ]
     },
     "metadata": {},
     "output_type": "display_data"
    },
    {
     "data": {
      "text/html": [
       "1.3"
      ],
      "text/latex": [
       "1.3"
      ],
      "text/markdown": [
       "1.3"
      ],
      "text/plain": [
       "[1] 1.3"
      ]
     },
     "metadata": {},
     "output_type": "display_data"
    },
    {
     "data": {
      "text/html": [
       "8"
      ],
      "text/latex": [
       "8"
      ],
      "text/markdown": [
       "8"
      ],
      "text/plain": [
       "[1] 8"
      ]
     },
     "metadata": {},
     "output_type": "display_data"
    },
    {
     "data": {
      "text/html": [
       "64"
      ],
      "text/latex": [
       "64"
      ],
      "text/markdown": [
       "64"
      ],
      "text/plain": [
       "[1] 64"
      ]
     },
     "metadata": {},
     "output_type": "display_data"
    },
    {
     "data": {
      "text/html": [
       "3"
      ],
      "text/latex": [
       "3"
      ],
      "text/markdown": [
       "3"
      ],
      "text/plain": [
       "[1] 3"
      ]
     },
     "metadata": {},
     "output_type": "display_data"
    },
    {
     "data": {
      "text/html": [
       "4"
      ],
      "text/latex": [
       "4"
      ],
      "text/markdown": [
       "4"
      ],
      "text/plain": [
       "[1] 4"
      ]
     },
     "metadata": {},
     "output_type": "display_data"
    },
    {
     "data": {
      "text/html": [
       "4"
      ],
      "text/latex": [
       "4"
      ],
      "text/markdown": [
       "4"
      ],
      "text/plain": [
       "[1] 4"
      ]
     },
     "metadata": {},
     "output_type": "display_data"
    },
    {
     "data": {
      "text/html": [
       "3"
      ],
      "text/latex": [
       "3"
      ],
      "text/markdown": [
       "3"
      ],
      "text/plain": [
       "[1] 3"
      ]
     },
     "metadata": {},
     "output_type": "display_data"
    },
    {
     "data": {
      "text/html": [
       "4"
      ],
      "text/latex": [
       "4"
      ],
      "text/markdown": [
       "4"
      ],
      "text/plain": [
       "[1] 4"
      ]
     },
     "metadata": {},
     "output_type": "display_data"
    },
    {
     "data": {
      "text/html": [
       "3"
      ],
      "text/latex": [
       "3"
      ],
      "text/markdown": [
       "3"
      ],
      "text/plain": [
       "[1] 3"
      ]
     },
     "metadata": {},
     "output_type": "display_data"
    },
    {
     "data": {
      "text/html": [
       "3"
      ],
      "text/latex": [
       "3"
      ],
      "text/markdown": [
       "3"
      ],
      "text/plain": [
       "[1] 3"
      ]
     },
     "metadata": {},
     "output_type": "display_data"
    },
    {
     "data": {
      "text/html": [
       "3"
      ],
      "text/latex": [
       "3"
      ],
      "text/markdown": [
       "3"
      ],
      "text/plain": [
       "[1] 3"
      ]
     },
     "metadata": {},
     "output_type": "display_data"
    },
    {
     "data": {
      "text/html": [
       "4"
      ],
      "text/latex": [
       "4"
      ],
      "text/markdown": [
       "4"
      ],
      "text/plain": [
       "[1] 4"
      ]
     },
     "metadata": {},
     "output_type": "display_data"
    },
    {
     "data": {
      "text/html": [
       "5"
      ],
      "text/latex": [
       "5"
      ],
      "text/markdown": [
       "5"
      ],
      "text/plain": [
       "[1] 5"
      ]
     },
     "metadata": {},
     "output_type": "display_data"
    },
    {
     "data": {
      "text/html": [
       "0"
      ],
      "text/latex": [
       "0"
      ],
      "text/markdown": [
       "0"
      ],
      "text/plain": [
       "[1] 0"
      ]
     },
     "metadata": {},
     "output_type": "display_data"
    },
    {
     "data": {
      "text/html": [
       "4"
      ],
      "text/latex": [
       "4"
      ],
      "text/markdown": [
       "4"
      ],
      "text/plain": [
       "[1] 4"
      ]
     },
     "metadata": {},
     "output_type": "display_data"
    },
    {
     "data": {
      "text/html": [
       "0.999999327347282"
      ],
      "text/latex": [
       "0.999999327347282"
      ],
      "text/markdown": [
       "0.999999327347282"
      ],
      "text/plain": [
       "[1] 0.9999993"
      ]
     },
     "metadata": {},
     "output_type": "display_data"
    },
    {
     "data": {
      "text/html": [
       "'SUMENDAR'"
      ],
      "text/latex": [
       "'SUMENDAR'"
      ],
      "text/markdown": [
       "'SUMENDAR'"
      ],
      "text/plain": [
       "[1] \"SUMENDAR\""
      ]
     },
     "metadata": {},
     "output_type": "display_data"
    },
    {
     "data": {
      "text/html": [
       "'sumendar'"
      ],
      "text/latex": [
       "'sumendar'"
      ],
      "text/markdown": [
       "'sumendar'"
      ],
      "text/plain": [
       "[1] \"sumendar\""
      ]
     },
     "metadata": {},
     "output_type": "display_data"
    }
   ],
   "source": [
    "# setwd(\"C:/Users/user/Downloads/DSwRandP-apr18-master/DSwRandP-apr18-master/FunctionsAndApplyFamily\")\n",
    "sum(1,2) # inbuilt function to add elements\n",
    "# sum1(1,2) # \n",
    "# to create a function\n",
    "sum1 <- function(x,y) {\n",
    "  x+y\n",
    "}\n",
    "sum <- c(1,2)\n",
    "class(sum)\n",
    "letters <- c(1,2)\n",
    "letters\n",
    "\n",
    "rm(letters)\n",
    "obj <- letters\n",
    "obj\n",
    "letters\n",
    "sum(1,2)\n",
    "sum1(1,2)\n",
    "\n",
    "abs(-3)\n",
    "abs(-1.3)\n",
    "sqrt(64)\t# square root function\n",
    "8^2 # exponential\n",
    "round(3.455) # nearest integer value\n",
    "round(3.955)\n",
    "ceiling(3.475)\t\n",
    "floor(3.475)\t\n",
    "\n",
    "ceiling(3.175)#lookin at top\t\n",
    "round(3.175)\t\n",
    "floor(3.475)\t#looking at bottom\n",
    "floor(3.9999999)\t#looking at bottom\n",
    "round(3.9999999)\n",
    "trunc(5.99)\n",
    "log(1)\n",
    "log2(16)\n",
    "log(2.71828)\n",
    "# e =2.71828\n",
    "toupper(\"sumendar\")\n",
    "tolower(\"SUMENDAR\")"
   ]
  },
  {
   "cell_type": "code",
   "execution_count": 9,
   "metadata": {
    "run_control": {
     "frozen": false,
     "read_only": false
    }
   },
   "outputs": [
    {
     "data": {
      "text/html": [
       "5"
      ],
      "text/latex": [
       "5"
      ],
      "text/markdown": [
       "5"
      ],
      "text/plain": [
       "[1] 5"
      ]
     },
     "metadata": {},
     "output_type": "display_data"
    },
    {
     "data": {
      "text/html": [
       "134"
      ],
      "text/latex": [
       "134"
      ],
      "text/markdown": [
       "134"
      ],
      "text/plain": [
       "[1] 134"
      ]
     },
     "metadata": {},
     "output_type": "display_data"
    },
    {
     "name": "stdout",
     "output_type": "stream",
     "text": [
      "[1] \"lucid it solutions\"\n"
     ]
    },
    {
     "data": {
      "text/html": [
       "25"
      ],
      "text/latex": [
       "25"
      ],
      "text/markdown": [
       "25"
      ],
      "text/plain": [
       "[1] 25"
      ]
     },
     "metadata": {},
     "output_type": "display_data"
    },
    {
     "name": "stdout",
     "output_type": "stream",
     "text": [
      "[1] \"2 raised to the power 3 is 8\"\n"
     ]
    },
    {
     "data": {
      "text/html": [
       "6"
      ],
      "text/latex": [
       "6"
      ],
      "text/markdown": [
       "6"
      ],
      "text/plain": [
       "[1] 6"
      ]
     },
     "metadata": {},
     "output_type": "display_data"
    },
    {
     "data": {
      "text/html": [
       "7"
      ],
      "text/latex": [
       "7"
      ],
      "text/markdown": [
       "7"
      ],
      "text/plain": [
       "[1] 7"
      ]
     },
     "metadata": {},
     "output_type": "display_data"
    },
    {
     "data": {
      "text/html": [
       "<ol class=list-inline>\n",
       "\t<li>6</li>\n",
       "\t<li>7</li>\n",
       "</ol>\n"
      ],
      "text/latex": [
       "\\begin{enumerate*}\n",
       "\\item 6\n",
       "\\item 7\n",
       "\\end{enumerate*}\n"
      ],
      "text/markdown": [
       "1. 6\n",
       "2. 7\n",
       "\n",
       "\n"
      ],
      "text/plain": [
       "[1] 6 7"
      ]
     },
     "metadata": {},
     "output_type": "display_data"
    },
    {
     "data": {
      "text/html": [
       "'6 7'"
      ],
      "text/latex": [
       "'6 7'"
      ],
      "text/markdown": [
       "'6 7'"
      ],
      "text/plain": [
       "[1] \"6 7\""
      ]
     },
     "metadata": {},
     "output_type": "display_data"
    },
    {
     "name": "stdout",
     "output_type": "stream",
     "text": [
      "[1] \"6 7\"\n"
     ]
    },
    {
     "data": {
      "text/html": [
       "274.816666666667"
      ],
      "text/latex": [
       "274.816666666667"
      ],
      "text/markdown": [
       "274.816666666667"
      ],
      "text/plain": [
       "[1] 274.8167"
      ]
     },
     "metadata": {},
     "output_type": "display_data"
    },
    {
     "name": "stdout",
     "output_type": "stream",
     "text": [
      "[1] \"8 raised to the power 2 is 64\"\n",
      "[1] \"8 raised to the power 2 is 64\"\n",
      "[1] \"8 raised to the power 2 is 64\"\n",
      "[1] \"8 raised to the power 2 is 64\"\n",
      "[1] \"2 raised to the power 8 is 256\"\n",
      "[1] \"3 raised to the power 5 is 243\"\n"
     ]
    },
    {
     "data": {
      "text/html": [
       "'character'"
      ],
      "text/latex": [
       "'character'"
      ],
      "text/markdown": [
       "'character'"
      ],
      "text/plain": [
       "[1] \"character\""
      ]
     },
     "metadata": {},
     "output_type": "display_data"
    },
    {
     "data": {
      "text/html": [
       "4"
      ],
      "text/latex": [
       "4"
      ],
      "text/markdown": [
       "4"
      ],
      "text/plain": [
       "[1] 4"
      ]
     },
     "metadata": {},
     "output_type": "display_data"
    },
    {
     "data": {
      "text/html": [
       "Inf"
      ],
      "text/latex": [
       "Inf"
      ],
      "text/markdown": [
       "Inf"
      ],
      "text/plain": [
       "[1] Inf"
      ]
     },
     "metadata": {},
     "output_type": "display_data"
    },
    {
     "data": {
      "text/html": [
       "Inf"
      ],
      "text/latex": [
       "Inf"
      ],
      "text/markdown": [
       "Inf"
      ],
      "text/plain": [
       "[1] Inf"
      ]
     },
     "metadata": {},
     "output_type": "display_data"
    },
    {
     "data": {
      "text/html": [
       "25"
      ],
      "text/latex": [
       "25"
      ],
      "text/markdown": [
       "25"
      ],
      "text/plain": [
       "[1] 25"
      ]
     },
     "metadata": {},
     "output_type": "display_data"
    },
    {
     "data": {
      "text/html": [
       "10"
      ],
      "text/latex": [
       "10"
      ],
      "text/markdown": [
       "10"
      ],
      "text/plain": [
       "[1] 10"
      ]
     },
     "metadata": {},
     "output_type": "display_data"
    },
    {
     "data": {
      "text/html": [
       "50"
      ],
      "text/latex": [
       "50"
      ],
      "text/markdown": [
       "50"
      ],
      "text/plain": [
       "[1] 50"
      ]
     },
     "metadata": {},
     "output_type": "display_data"
    },
    {
     "name": "stdout",
     "output_type": "stream",
     "text": [
      "[1] 2\n"
     ]
    },
    {
     "data": {
      "text/html": [
       "4"
      ],
      "text/latex": [
       "4"
      ],
      "text/markdown": [
       "4"
      ],
      "text/plain": [
       "[1] 4"
      ]
     },
     "metadata": {},
     "output_type": "display_data"
    },
    {
     "data": {
      "text/html": [
       "4"
      ],
      "text/latex": [
       "4"
      ],
      "text/markdown": [
       "4"
      ],
      "text/plain": [
       "[1] 4"
      ]
     },
     "metadata": {},
     "output_type": "display_data"
    },
    {
     "data": {
      "text/html": [
       "30"
      ],
      "text/latex": [
       "30"
      ],
      "text/markdown": [
       "30"
      ],
      "text/plain": [
       "[1] 30"
      ]
     },
     "metadata": {},
     "output_type": "display_data"
    }
   ],
   "source": [
    "#functions\n",
    "\n",
    "sum1(2,3)\n",
    "\n",
    "\n",
    "sum1(56,78)\n",
    "# without arguments\n",
    "display <- function()\n",
    "{\n",
    "  print(\"lucid it solutions\")\n",
    "}\n",
    "display()\n",
    "\n",
    "# function define\n",
    "sum_of_squares <- function(x,y) {  \n",
    "  x^2 + y^2\n",
    "}\n",
    "sum_of_squares(3,4) # function call\n",
    "#example\n",
    "# function to print x raised to the power y\n",
    "\n",
    "pow <- function(x, y) {\n",
    "  result <- x^y\n",
    "  print(paste(x,\"raised to the power\", y, \"is\", result))\n",
    "}\n",
    "pow(2,3)\n",
    "#Default Arguments\n",
    "# Create a function with arguments.\n",
    "new.function <- function(a = 3, b = 6) {\n",
    "  result <- a * b\n",
    "  #print(result)\n",
    "  return(result) # to print to the console\n",
    "}\n",
    "\n",
    "\n",
    "new.function <- function(a=5, b) {\n",
    "  result <- a * b\n",
    "  #print(result)\n",
    "  return(result) # to print to the console\n",
    "}\n",
    "#new.function(,3)  #this will take the value 3 for b  \n",
    "\n",
    "\n",
    "#new.function() # this will print default values result\n",
    "new.function(2,3) # \n",
    "#new.function(2)\n",
    "#new.function(,2)\n",
    "\n",
    "\n",
    "add <- function(x,y=1,z=2){\n",
    "  x+y\n",
    "  x+z\n",
    "\n",
    "}\n",
    "add(5)\n",
    "\n",
    "add <- function(x,y=1,z=2){\n",
    "  x+y\n",
    "  x+z\n",
    "  return(c(x+y,x+z))  \n",
    "}\n",
    "add(5)\n",
    "\n",
    "\n",
    "\n",
    "add <- function(x,y=1,z=2){\n",
    "  x+y\n",
    "  x+z\n",
    "  return(paste(x+y,x+z))  \n",
    "}\n",
    "add(5)\n",
    "\n",
    "\n",
    "add <- function(x,y=1,z=2){\n",
    "  x+y\n",
    "  x+z\n",
    "  print(paste(x+y,x+z))  \n",
    "}\n",
    "add(5)\n",
    "\n",
    "fahr_to_kelvin <- function(temp) {\n",
    "  kelvin <- ((temp - 32) * (5 / 9)) + 273.15\n",
    "  return(kelvin)\n",
    "}\n",
    "\n",
    "fahr_to_kelvin(35)\n",
    "# Named Arguments¶\n",
    "\n",
    "pow(8, 2)\n",
    "pow(x = 8, y = 2)\n",
    "pow(y = 2, x = 8)\n",
    "pow(2, x = 8)\n",
    "pow(2, y = 8)\n",
    "class(substring(pow(sum(1,2),5), 3,8)) # functions with in another function\n",
    "# Lazy evaluation\n",
    "\n",
    "fun <- function(a,b){\n",
    "  a^2\n",
    "}\n",
    "\n",
    "fun(2,x/0)\n",
    "\n",
    "fun <- function(a,b){\n",
    "  b^2\n",
    "}\n",
    "\n",
    "fun(2,x/0)\n",
    "\n",
    "fun <- function(a,b){\n",
    "  b^2\n",
    "}\n",
    "\n",
    "fun(2,3/0)\n",
    "x <- 5\n",
    "fun(2,x/1)\n",
    "# Lazy evaluation of args\n",
    "\n",
    "fun <- function(x){\n",
    "  10\n",
    "}\n",
    "fun(\"hello\")\n",
    "#functions without name\n",
    "(function(x) x*10)(5)\n",
    "\n",
    "\n",
    "x <- 5 # global assignment of x is not used by the fun\n",
    "fun <- function(x){\n",
    "  #parameter x is passed by value (copy)\n",
    "  x <- x+1 # local variable is modified\n",
    "  print(x)\n",
    "}\n",
    "fun(1) # prints \n",
    "#fun() # prints \n",
    "\n",
    "\n",
    "input_1 = 20\n",
    "mySum <- function(input_1, input_2 = 10) {\n",
    "  output <- input_1 + input_2\n",
    "  return(output)\n",
    "}\n",
    "mySum(input_1 = 1, 3)\n",
    "mySum(input_1 = 1, 3)\n",
    "\n",
    "\n",
    "\n",
    "input_1 = 20\n",
    "mySum <- function(input_1a=input_1, input_2 = 10) {\n",
    "  output <- input_1a + input_2\n",
    "  return(output)\n",
    "}\n",
    "\n",
    "mySum()"
   ]
  },
  {
   "cell_type": "code",
   "execution_count": 1,
   "metadata": {
    "run_control": {
     "frozen": false,
     "read_only": false
    }
   },
   "outputs": [
    {
     "data": {
      "text/html": [
       "7"
      ],
      "text/latex": [
       "7"
      ],
      "text/markdown": [
       "7"
      ],
      "text/plain": [
       "[1] 7"
      ]
     },
     "metadata": {},
     "output_type": "display_data"
    },
    {
     "data": {
      "text/html": [
       "12"
      ],
      "text/latex": [
       "12"
      ],
      "text/markdown": [
       "12"
      ],
      "text/plain": [
       "[1] 12"
      ]
     },
     "metadata": {},
     "output_type": "display_data"
    },
    {
     "data": {
      "text/html": [
       "19"
      ],
      "text/latex": [
       "19"
      ],
      "text/markdown": [
       "19"
      ],
      "text/plain": [
       "[1] 19"
      ]
     },
     "metadata": {},
     "output_type": "display_data"
    },
    {
     "data": {
      "text/html": [
       "44"
      ],
      "text/latex": [
       "44"
      ],
      "text/markdown": [
       "44"
      ],
      "text/plain": [
       "[1] 44"
      ]
     },
     "metadata": {},
     "output_type": "display_data"
    },
    {
     "data": {
      "text/html": [
       "49"
      ],
      "text/latex": [
       "49"
      ],
      "text/markdown": [
       "49"
      ],
      "text/plain": [
       "[1] 49"
      ]
     },
     "metadata": {},
     "output_type": "display_data"
    },
    {
     "data": {
      "text/html": [
       "23"
      ],
      "text/latex": [
       "23"
      ],
      "text/markdown": [
       "23"
      ],
      "text/plain": [
       "[1] 23"
      ]
     },
     "metadata": {},
     "output_type": "display_data"
    },
    {
     "data": {
      "text/html": [
       "44"
      ],
      "text/latex": [
       "44"
      ],
      "text/markdown": [
       "44"
      ],
      "text/plain": [
       "[1] 44"
      ]
     },
     "metadata": {},
     "output_type": "display_data"
    },
    {
     "data": {
      "text/html": [
       "5.700040842414e+22"
      ],
      "text/latex": [
       "5.700040842414e+22"
      ],
      "text/markdown": [
       "5.700040842414e+22"
      ],
      "text/plain": [
       "[1] 5.700041e+22"
      ]
     },
     "metadata": {},
     "output_type": "display_data"
    },
    {
     "data": {
      "text/html": [
       "57000408424139982897152"
      ],
      "text/latex": [
       "57000408424139982897152"
      ],
      "text/markdown": [
       "57000408424139982897152"
      ],
      "text/plain": [
       "[1] 57000408424139982897152"
      ]
     },
     "metadata": {},
     "output_type": "display_data"
    },
    {
     "data": {
      "text/html": [
       "'lucid it solutions'"
      ],
      "text/latex": [
       "'lucid it solutions'"
      ],
      "text/markdown": [
       "'lucid it solutions'"
      ],
      "text/plain": [
       "[1] \"lucid it solutions\""
      ]
     },
     "metadata": {},
     "output_type": "display_data"
    },
    {
     "data": {
      "text/html": [
       "'cid'"
      ],
      "text/latex": [
       "'cid'"
      ],
      "text/markdown": [
       "'cid'"
      ],
      "text/plain": [
       "[1] \"cid\""
      ]
     },
     "metadata": {},
     "output_type": "display_data"
    },
    {
     "data": {
      "text/html": [
       "'d it'"
      ],
      "text/latex": [
       "'d it'"
      ],
      "text/markdown": [
       "'d it'"
      ],
      "text/plain": [
       "[1] \"d it\""
      ]
     },
     "metadata": {},
     "output_type": "display_data"
    },
    {
     "data": {
      "text/html": [
       "44"
      ],
      "text/latex": [
       "44"
      ],
      "text/markdown": [
       "44"
      ],
      "text/plain": [
       "[1] 44"
      ]
     },
     "metadata": {},
     "output_type": "display_data"
    },
    {
     "data": {
      "text/html": [
       "12"
      ],
      "text/latex": [
       "12"
      ],
      "text/markdown": [
       "12"
      ],
      "text/plain": [
       "[1] 12"
      ]
     },
     "metadata": {},
     "output_type": "display_data"
    },
    {
     "data": {
      "text/html": [
       "12"
      ],
      "text/latex": [
       "12"
      ],
      "text/markdown": [
       "12"
      ],
      "text/plain": [
       "[1] 12"
      ]
     },
     "metadata": {},
     "output_type": "display_data"
    },
    {
     "data": {
      "text/html": [
       "12"
      ],
      "text/latex": [
       "12"
      ],
      "text/markdown": [
       "12"
      ],
      "text/plain": [
       "[1] 12"
      ]
     },
     "metadata": {},
     "output_type": "display_data"
    },
    {
     "data": {
      "text/html": [
       "<ol class=list-inline>\n",
       "\t<li>'12'</li>\n",
       "\t<li>'44'</li>\n",
       "\t<li>'hello'</li>\n",
       "</ol>\n"
      ],
      "text/latex": [
       "\\begin{enumerate*}\n",
       "\\item '12'\n",
       "\\item '44'\n",
       "\\item 'hello'\n",
       "\\end{enumerate*}\n"
      ],
      "text/markdown": [
       "1. '12'\n",
       "2. '44'\n",
       "3. 'hello'\n",
       "\n",
       "\n"
      ],
      "text/plain": [
       "[1] \"12\"    \"44\"    \"hello\""
      ]
     },
     "metadata": {},
     "output_type": "display_data"
    },
    {
     "name": "stdout",
     "output_type": "stream",
     "text": [
      "[1] 18\n",
      "[1] 30\n",
      "[1] 15\n",
      "[1] 15\n",
      "[1] 8\n"
     ]
    },
    {
     "data": {
      "text/html": [
       "7"
      ],
      "text/latex": [
       "7"
      ],
      "text/markdown": [
       "7"
      ],
      "text/plain": [
       "[1] 7"
      ]
     },
     "metadata": {},
     "output_type": "display_data"
    },
    {
     "data": {
      "text/html": [
       "'meri'"
      ],
      "text/latex": [
       "'meri'"
      ],
      "text/markdown": [
       "'meri'"
      ],
      "text/plain": [
       "[1] \"meri\""
      ]
     },
     "metadata": {},
     "output_type": "display_data"
    },
    {
     "data": {
      "text/html": [
       "4"
      ],
      "text/latex": [
       "4"
      ],
      "text/markdown": [
       "4"
      ],
      "text/plain": [
       "[1] 4"
      ]
     },
     "metadata": {},
     "output_type": "display_data"
    },
    {
     "data": {
      "text/html": [
       "4"
      ],
      "text/latex": [
       "4"
      ],
      "text/markdown": [
       "4"
      ],
      "text/plain": [
       "[1] 4"
      ]
     },
     "metadata": {},
     "output_type": "display_data"
    },
    {
     "data": {
      "text/html": [
       "10"
      ],
      "text/latex": [
       "10"
      ],
      "text/markdown": [
       "10"
      ],
      "text/plain": [
       "[1] 10"
      ]
     },
     "metadata": {},
     "output_type": "display_data"
    },
    {
     "data": {
      "text/html": [
       "'hello 10'"
      ],
      "text/latex": [
       "'hello 10'"
      ],
      "text/markdown": [
       "'hello 10'"
      ],
      "text/plain": [
       "[1] \"hello 10\""
      ]
     },
     "metadata": {},
     "output_type": "display_data"
    },
    {
     "data": {
      "text/html": [
       "50"
      ],
      "text/latex": [
       "50"
      ],
      "text/markdown": [
       "50"
      ],
      "text/plain": [
       "[1] 50"
      ]
     },
     "metadata": {},
     "output_type": "display_data"
    },
    {
     "name": "stdout",
     "output_type": "stream",
     "text": [
      "[1] 2\n",
      "[1] 6\n"
     ]
    }
   ],
   "source": [
    "sum(3,4)\n",
    "prod(3,4)\n",
    "sum(3,4) + prod(3,4)\n",
    "sum(8,4) + prod(8,4)\n",
    "sum(9,4) + prod(9,4)\n",
    "sum(5,3) + prod(5,3)\n",
    "\n",
    "sumprod <- function(x,y){ # \n",
    "  sum(x,y) + prod(x,y)\n",
    "}\n",
    "\n",
    "sumprod(8,4) #invoking\n",
    "\n",
    "x <- seq(2,14)\n",
    "y <- x+1\n",
    "sumprod(x,y) #invoking the function using x and y vectors\n",
    "options(scipen = 999) # to print exponential values as normal values\n",
    "sumprod(x,y)\n",
    "\n",
    "tu<- toupper(\"lucid it solutions\") # to become uppercase\n",
    "tolower(tu)  # to print as lower case\n",
    "substring(\"lucid it solutions\", 3,5)\n",
    "substring(\"lucid it solutions\", 5,8)\n",
    "\n",
    "\n",
    "sumprod <- function(x,y){ # \n",
    "  sum(x,y)\n",
    "  sum(x,y) + prod(x,y) #last statement result only invoked\n",
    "}\n",
    "\n",
    "sumprod(8,4) #invoking\n",
    "sum(8,4)\n",
    "\n",
    "\n",
    "\n",
    "sumprod <- function(x,y){ # \n",
    "  return(sum(x,y)) # this statement will execute last\n",
    "  sum(x,y) + prod(x,y) \n",
    "}\n",
    "sumprod(8,4) #invoking\n",
    "\n",
    "sumprod <- function(x,y){ # \n",
    "  return(sum(x,y)) # this statement will execute last\n",
    "  return(sum(x,y) + prod(x,y)) \n",
    "}\n",
    "sumprod(8,4) #invoking\n",
    "\n",
    "\n",
    "sumprod <- function(x,y){ # \n",
    "  return(c(sum(x,y), (sum(x,y) + prod(x,y)), \"hello\")) # return argument should only one\n",
    "}\n",
    "sumprod(8,4) #invoking\n",
    "\n",
    "########## default arguments\n",
    "\n",
    "new.function <- function(a = 3, b = 6) {  # givilng arguement values as default\n",
    "  result <- a * b\n",
    "  print(result)\n",
    "}\n",
    "new.function() # invoking without arguements\n",
    "new.function(5) # invoking with single arguement\n",
    "new.function(b=5) # invoking using name\n",
    "new.function(5,3) # normal \n",
    "new.function(b=4,a=2) #naming \n",
    "\n",
    "\n",
    "add <- function(x,y=1,z=2){\n",
    "  x+y\n",
    "  x+z\n",
    "}\n",
    "add(5) # last statement wiill evaluated\n",
    "\n",
    "fahr_to_kelvin <- function(temp) {\n",
    "  kelvin <- ((temp - 32) * (5 / 9)) + 273.15\n",
    "  return(kelvin)\n",
    "}\n",
    "\n",
    "# functions Can be passed as arguments to other functions\n",
    "substring(class(prod(sum(2,3),4)), 3,6)\n",
    "\n",
    "\n",
    "\n",
    "### lazy evaluation\n",
    "fun <- function(a,b){\n",
    "  a^2\n",
    "}\n",
    "\n",
    "fun(2,x/0)\n",
    "fun(2,\";\")\n",
    "\n",
    "fun <- function(x){\n",
    "  10\n",
    "}\n",
    "\n",
    "fun(\"hello\")\n",
    "\n",
    "fun <- function(x){\n",
    "  paste(x,10)\n",
    "}\n",
    "\n",
    "fun(\"hello\")\n",
    "\n",
    "(function(x) x*10)(5)  #nameless function\n",
    "  \n",
    "\n",
    "x <- 5 # global assignment of x is not used by the fun\n",
    "fun <- function(x){\n",
    "  #parameter x is passed by value (copy)\n",
    "  x <- x+1 # local variable is modified\n",
    "  print(x)\n",
    "}\n",
    "fun(1) # prints \n",
    "# fun() # error\n",
    "\n",
    "\n",
    "x1 <- 5 # global assignment of x is not used by the fun\n",
    "fun <- function(x=x1){\n",
    "  #parameter x is passed by value (copy)\n",
    "  x <- x+1 # local variable is modified\n",
    "  print(x)\n",
    "}\n",
    "fun() # result 6"
   ]
  },
  {
   "cell_type": "code",
   "execution_count": null,
   "metadata": {},
   "outputs": [],
   "source": []
  }
 ],
 "metadata": {
  "hide_input": false,
  "kernelspec": {
   "display_name": "R",
   "language": "R",
   "name": "r"
  },
  "language_info": {
   "codemirror_mode": "r",
   "file_extension": ".r",
   "mimetype": "text/x-r-source",
   "name": "R",
   "pygments_lexer": "r",
   "version": "3.4.1"
  },
  "nav_menu": {},
  "toc": {
   "navigate_menu": true,
   "number_sections": true,
   "sideBar": true,
   "threshold": 6,
   "toc_cell": false,
   "toc_section_display": "block",
   "toc_window_display": false
  }
 },
 "nbformat": 4,
 "nbformat_minor": 2
}
