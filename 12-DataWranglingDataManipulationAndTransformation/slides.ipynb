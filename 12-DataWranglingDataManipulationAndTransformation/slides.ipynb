{
 "cells": [
  {
   "cell_type": "markdown",
   "metadata": {
    "collapsed": true
   },
   "source": [
    "## lubridate"
   ]
  },
  {
   "cell_type": "markdown",
   "metadata": {},
   "source": [
    "**understanding base Date and Time Objects**\n",
    "![Imgur](https://i.imgur.com/2RMPVpT.png)\n",
    "<sub><sub>credit: <a href=\"https://tbrieder.org/epidata/course_reading/e_aragon.pdf\" target=\"_blank\">https://tbrieder.org/epidata/course_reading/e_aragon.pdf</a></sub></sub>  \n",
    "<sub><sub>credit: <a href=\"http://www.columbia.edu/~cjd11/charles_dimaggio/DIRE/resources/R/vars.pdf\" target=\"_blank\">http://www.columbia.edu/~cjd11/charles_dimaggio/DIRE/resources/R/vars.pdf</a></sub></sub>  "
   ]
  },
  {
   "cell_type": "code",
   "execution_count": null,
   "metadata": {},
   "outputs": [],
   "source": [
    "# yyyy-mm-dd\n",
    "#Julian dates - number of days since January 1, 1970\n",
    "#specify the format of the input calendar date\n",
    "myDays <- c(\"10/11/1945\", \"8/19/2003\", \"5/15/1964\")\n",
    "myDates<- as.Date(myDays, format = \"%m/%d/%Y\")\n",
    "myDates\n",
    "#looks like a character, but is class ”date”, mode ”numeric”\n",
    "#displayed in a standard format (yyyy-mm-dd)\n",
    "help(strptime) #- to get conversion formats see ."
   ]
  },
  {
   "cell_type": "markdown",
   "metadata": {},
   "source": [
    "<span style=\"color:red; font-family:centurygothic \">Continue...</span><a href=\"http://www.columbia.edu/~cjd11/charles_dimaggio/DIRE/resources/R/vars.pdf\" target=\"_blank\">http://www.columbia.edu/~cjd11/charles_dimaggio/DIRE/resources/R/vars.pdf</a>"
   ]
  },
  {
   "cell_type": "markdown",
   "metadata": {},
   "source": [
    "**lubridate package**"
   ]
  },
  {
   "cell_type": "markdown",
   "metadata": {
    "collapsed": true
   },
   "source": [
    "## stringr"
   ]
  },
  {
   "cell_type": "markdown",
   "metadata": {
    "collapsed": true
   },
   "source": [
    "## sqldf"
   ]
  },
  {
   "cell_type": "markdown",
   "metadata": {},
   "source": [
    "http://dept.stat.lsa.umich.edu/~jerrick/courses/stat701/notes/sql.html"
   ]
  },
  {
   "cell_type": "markdown",
   "metadata": {
    "collapsed": true
   },
   "source": [
    "## gmodels"
   ]
  },
  {
   "cell_type": "code",
   "execution_count": 1,
   "metadata": {},
   "outputs": [],
   "source": [
    "data <- data.frame(Smoker=c(72L,34L),Non_Smoker=c(44L,53L),row.names = c(\"Male\",\"Female\"))\n",
    "dataM <- as.matrix(data)"
   ]
  },
  {
   "cell_type": "code",
   "execution_count": 7,
   "metadata": {},
   "outputs": [
    {
     "name": "stdout",
     "output_type": "stream",
     "text": [
      "       Smoker Non_Smoker\n",
      "Male       72         44\n",
      "Female     34         53\n"
     ]
    }
   ],
   "source": [
    "print(dataM)"
   ]
  },
  {
   "cell_type": "code",
   "execution_count": null,
   "metadata": {},
   "outputs": [],
   "source": [
    "### calculate sum of table entries Using base functions"
   ]
  },
  {
   "cell_type": "code",
   "execution_count": 3,
   "metadata": {},
   "outputs": [
    {
     "data": {
      "text/html": [
       "203"
      ],
      "text/latex": [
       "203"
      ],
      "text/markdown": [
       "203"
      ],
      "text/plain": [
       "[1] 203"
      ]
     },
     "metadata": {},
     "output_type": "display_data"
    }
   ],
   "source": [
    "margin.table(dataM) # total members (marginal distribution)"
   ]
  },
  {
   "cell_type": "code",
   "execution_count": 8,
   "metadata": {
    "scrolled": true
   },
   "outputs": [
    {
     "name": "stdout",
     "output_type": "stream",
     "text": [
      "  Male Female \n",
      "   116     87 \n",
      "    Smoker Non_Smoker \n",
      "       106         97 \n"
     ]
    }
   ],
   "source": [
    "print(margin.table(dataM, 1)) # row-wise summary total male and total females\n",
    "print(margin.table(dataM, 2)) # column-wise summary total Smokers and total Non-Smokers"
   ]
  },
  {
   "cell_type": "code",
   "execution_count": 16,
   "metadata": {},
   "outputs": [
    {
     "data": {
      "text/html": [
       "<table>\n",
       "<thead><tr><th></th><th scope=col>Smoker</th><th scope=col>Non_Smoker</th><th scope=col>Sum</th></tr></thead>\n",
       "<tbody>\n",
       "\t<tr><th scope=row>Male</th><td> 72</td><td>44 </td><td>116</td></tr>\n",
       "\t<tr><th scope=row>Female</th><td> 34</td><td>53 </td><td> 87</td></tr>\n",
       "\t<tr><th scope=row>Sum</th><td>106</td><td>97 </td><td>203</td></tr>\n",
       "</tbody>\n",
       "</table>\n"
      ],
      "text/latex": [
       "\\begin{tabular}{r|lll}\n",
       "  & Smoker & Non\\_Smoker & Sum\\\\\n",
       "\\hline\n",
       "\tMale &  72 & 44  & 116\\\\\n",
       "\tFemale &  34 & 53  &  87\\\\\n",
       "\tSum & 106 & 97  & 203\\\\\n",
       "\\end{tabular}\n"
      ],
      "text/markdown": [
       "\n",
       "| <!--/--> | Smoker | Non_Smoker | Sum | \n",
       "|---|---|---|\n",
       "| Male |  72 | 44  | 116 | \n",
       "| Female |  34 | 53  |  87 | \n",
       "| Sum | 106 | 97  | 203 | \n",
       "\n",
       "\n"
      ],
      "text/plain": [
       "       Smoker Non_Smoker Sum\n",
       "Male    72    44         116\n",
       "Female  34    53          87\n",
       "Sum    106    97         203"
      ]
     },
     "metadata": {},
     "output_type": "display_data"
    }
   ],
   "source": [
    "addmargins(dataM) #adding marginal distribution summaries "
   ]
  },
  {
   "cell_type": "code",
   "execution_count": 20,
   "metadata": {
    "scrolled": false
   },
   "outputs": [
    {
     "data": {
      "text/plain": [
       "        Smoker Non_Smoker\n",
       "                         \n",
       "Male        72         44\n",
       "Female      34         53"
      ]
     },
     "metadata": {},
     "output_type": "display_data"
    }
   ],
   "source": [
    "ftable(dataM)"
   ]
  },
  {
   "cell_type": "code",
   "execution_count": 19,
   "metadata": {
    "scrolled": true
   },
   "outputs": [
    {
     "data": {
      "text/plain": [
       "        Smoker Non_Smoker Sum\n",
       "                             \n",
       "Male        72         44 116\n",
       "Female      34         53  87\n",
       "Sum        106         97 203"
      ]
     },
     "metadata": {},
     "output_type": "display_data"
    }
   ],
   "source": [
    "ftable(addmargins(dataM))"
   ]
  },
  {
   "cell_type": "code",
   "execution_count": 25,
   "metadata": {},
   "outputs": [
    {
     "data": {
      "text/plain": [
       "dataM\n",
       "  34   44   53   72 \n",
       "0.25 0.25 0.25 0.25 "
      ]
     },
     "metadata": {},
     "output_type": "display_data"
    }
   ],
   "source": [
    "prop.table(table(dataM)) # this is better for single variable rather than two-way tables"
   ]
  },
  {
   "cell_type": "code",
   "execution_count": 21,
   "metadata": {
    "scrolled": false
   },
   "outputs": [
    {
     "data": {
      "text/html": [
       "<table>\n",
       "<thead><tr><th></th><th scope=col>Smoker</th><th scope=col>Non_Smoker</th></tr></thead>\n",
       "<tbody>\n",
       "\t<tr><th scope=row>Male</th><td>0.6206897</td><td>0.3793103</td></tr>\n",
       "\t<tr><th scope=row>Female</th><td>0.3908046</td><td>0.6091954</td></tr>\n",
       "</tbody>\n",
       "</table>\n"
      ],
      "text/latex": [
       "\\begin{tabular}{r|ll}\n",
       "  & Smoker & Non\\_Smoker\\\\\n",
       "\\hline\n",
       "\tMale & 0.6206897 & 0.3793103\\\\\n",
       "\tFemale & 0.3908046 & 0.6091954\\\\\n",
       "\\end{tabular}\n"
      ],
      "text/markdown": [
       "\n",
       "| <!--/--> | Smoker | Non_Smoker | \n",
       "|---|---|\n",
       "| Male | 0.6206897 | 0.3793103 | \n",
       "| Female | 0.3908046 | 0.6091954 | \n",
       "\n",
       "\n"
      ],
      "text/plain": [
       "       Smoker    Non_Smoker\n",
       "Male   0.6206897 0.3793103 \n",
       "Female 0.3908046 0.6091954 "
      ]
     },
     "metadata": {},
     "output_type": "display_data"
    }
   ],
   "source": [
    "prop.table(dataM, 1)"
   ]
  },
  {
   "cell_type": "code",
   "execution_count": 23,
   "metadata": {},
   "outputs": [
    {
     "data": {
      "text/html": [
       "<table>\n",
       "<thead><tr><th></th><th scope=col>Smoker</th><th scope=col>Non_Smoker</th></tr></thead>\n",
       "<tbody>\n",
       "\t<tr><th scope=row>Male</th><td>0.6792453</td><td>0.4536082</td></tr>\n",
       "\t<tr><th scope=row>Female</th><td>0.3207547</td><td>0.5463918</td></tr>\n",
       "</tbody>\n",
       "</table>\n"
      ],
      "text/latex": [
       "\\begin{tabular}{r|ll}\n",
       "  & Smoker & Non\\_Smoker\\\\\n",
       "\\hline\n",
       "\tMale & 0.6792453 & 0.4536082\\\\\n",
       "\tFemale & 0.3207547 & 0.5463918\\\\\n",
       "\\end{tabular}\n"
      ],
      "text/markdown": [
       "\n",
       "| <!--/--> | Smoker | Non_Smoker | \n",
       "|---|---|\n",
       "| Male | 0.6792453 | 0.4536082 | \n",
       "| Female | 0.3207547 | 0.5463918 | \n",
       "\n",
       "\n"
      ],
      "text/plain": [
       "       Smoker    Non_Smoker\n",
       "Male   0.6792453 0.4536082 \n",
       "Female 0.3207547 0.5463918 "
      ]
     },
     "metadata": {},
     "output_type": "display_data"
    }
   ],
   "source": [
    "prop.table(dataM, 2)"
   ]
  },
  {
   "cell_type": "code",
   "execution_count": 22,
   "metadata": {},
   "outputs": [
    {
     "data": {
      "text/html": [
       "<table>\n",
       "<thead><tr><th></th><th scope=col>Smoker</th><th scope=col>Non_Smoker</th></tr></thead>\n",
       "<tbody>\n",
       "\t<tr><th scope=row>Male</th><td>0.3546798</td><td>0.2167488</td></tr>\n",
       "\t<tr><th scope=row>Female</th><td>0.1674877</td><td>0.2610837</td></tr>\n",
       "</tbody>\n",
       "</table>\n"
      ],
      "text/latex": [
       "\\begin{tabular}{r|ll}\n",
       "  & Smoker & Non\\_Smoker\\\\\n",
       "\\hline\n",
       "\tMale & 0.3546798 & 0.2167488\\\\\n",
       "\tFemale & 0.1674877 & 0.2610837\\\\\n",
       "\\end{tabular}\n"
      ],
      "text/markdown": [
       "\n",
       "| <!--/--> | Smoker | Non_Smoker | \n",
       "|---|---|\n",
       "| Male | 0.3546798 | 0.2167488 | \n",
       "| Female | 0.1674877 | 0.2610837 | \n",
       "\n",
       "\n"
      ],
      "text/plain": [
       "       Smoker    Non_Smoker\n",
       "Male   0.3546798 0.2167488 \n",
       "Female 0.1674877 0.2610837 "
      ]
     },
     "metadata": {},
     "output_type": "display_data"
    }
   ],
   "source": [
    "prop.table(dataM)"
   ]
  },
  {
   "cell_type": "code",
   "execution_count": 14,
   "metadata": {},
   "outputs": [],
   "source": [
    "#install.packages(\"gmodels\")\n",
    "library(gmodels)"
   ]
  },
  {
   "cell_type": "code",
   "execution_count": 15,
   "metadata": {},
   "outputs": [
    {
     "name": "stdout",
     "output_type": "stream",
     "text": [
      "\n",
      " \n",
      "   Cell Contents\n",
      "|-------------------------|\n",
      "|                       N |\n",
      "| Chi-square contribution |\n",
      "|           N / Row Total |\n",
      "|           N / Col Total |\n",
      "|         N / Table Total |\n",
      "|-------------------------|\n",
      "\n",
      " \n",
      "Total Observations in Table:  203 \n",
      "\n",
      " \n",
      "             |  \n",
      "             |     Smoker | Non_Smoker |  Row Total | \n",
      "-------------|------------|------------|------------|\n",
      "        Male |         72 |         44 |        116 | \n",
      "             |      2.156 |      2.356 |            | \n",
      "             |      0.621 |      0.379 |      0.571 | \n",
      "             |      0.679 |      0.454 |            | \n",
      "             |      0.355 |      0.217 |            | \n",
      "-------------|------------|------------|------------|\n",
      "      Female |         34 |         53 |         87 | \n",
      "             |      2.875 |      3.142 |            | \n",
      "             |      0.391 |      0.609 |      0.429 | \n",
      "             |      0.321 |      0.546 |            | \n",
      "             |      0.167 |      0.261 |            | \n",
      "-------------|------------|------------|------------|\n",
      "Column Total |        106 |         97 |        203 | \n",
      "             |      0.522 |      0.478 |            | \n",
      "-------------|------------|------------|------------|\n",
      "\n",
      " \n"
     ]
    }
   ],
   "source": [
    "CrossTable(dataM) # total contingency table using CrossTable function from gmodels package"
   ]
  },
  {
   "cell_type": "markdown",
   "metadata": {
    "collapsed": true
   },
   "source": [
    "## data.table"
   ]
  },
  {
   "cell_type": "markdown",
   "metadata": {},
   "source": [
    "## Tidy Data"
   ]
  },
  {
   "cell_type": "markdown",
   "metadata": {},
   "source": [
    "* Each variable in the data set is placed in its own column  \n",
    "* Each observation is placed in its own row  \n",
    "* Each value is placed in its own cell  \n",
    "  \n",
    "Hadley Wickham's journal of statistical software paper:  \n",
    "https://vita.had.co.nz/papers/tidy-data.pdf  "
   ]
  },
  {
   "cell_type": "markdown",
   "metadata": {},
   "source": [
    "![Imgur](https://i.imgur.com/gqMIs85.jpg?2)"
   ]
  },
  {
   "cell_type": "markdown",
   "metadata": {
    "run_control": {
     "marked": false
    }
   },
   "source": [
    "## Tidyverse\n",
    "**Tools that work together to transform, analyze and visualize tidy data**   \n",
    "https://www.tidyverse.org  "
   ]
  },
  {
   "cell_type": "markdown",
   "metadata": {
    "collapsed": true
   },
   "source": [
    "## tidyr"
   ]
  },
  {
   "cell_type": "markdown",
   "metadata": {},
   "source": [
    "**Reshaping data using tidyr package**  \n",
    "The tidyr package, provides 4 functions to help you change the layout of your data set:  \n",
    "  \n",
    "`separate()`: separate one column into multiple  \n",
    "`unite()`: unite multiple columns into one    \n",
    "`gather()`: gather (collapse) columns into rows  \n",
    "`spread()`: spread rows into columns  \n",
    " "
   ]
  },
  {
   "cell_type": "code",
   "execution_count": 3,
   "metadata": {},
   "outputs": [],
   "source": [
    "data <- read.csv(\"data//players.csv\")"
   ]
  },
  {
   "cell_type": "code",
   "execution_count": 7,
   "metadata": {},
   "outputs": [
    {
     "name": "stderr",
     "output_type": "stream",
     "text": [
      "\n",
      "Attaching package: 'tidyr'\n",
      "\n",
      "The following object is masked from 'package:reshape2':\n",
      "\n",
      "    smiths\n",
      "\n"
     ]
    }
   ],
   "source": [
    "library(tidyr)"
   ]
  },
  {
   "cell_type": "code",
   "execution_count": 8,
   "metadata": {},
   "outputs": [
    {
     "data": {
      "text/html": [
       "<table>\n",
       "<thead><tr><th scope=col>First_Name</th><th scope=col>Last_Name</th><th scope=col>Age</th><th scope=col>Home_Town</th></tr></thead>\n",
       "<tbody>\n",
       "\t<tr><td>Ramesh                </td><td>padala                </td><td>28                    </td><td>Vidhyanagar,Hyderabad </td></tr>\n",
       "\t<tr><td>Suresh                </td><td>meruka                </td><td>25                    </td><td>Kazipet, Warangal     </td></tr>\n",
       "\t<tr><td>Shankar               </td><td>kedari                </td><td>32                    </td><td>LIC Colony, Vijayawada</td></tr>\n",
       "</tbody>\n",
       "</table>\n"
      ],
      "text/latex": [
       "\\begin{tabular}{r|llll}\n",
       " First\\_Name & Last\\_Name & Age & Home\\_Town\\\\\n",
       "\\hline\n",
       "\t Ramesh                 & padala                 & 28                     & Vidhyanagar,Hyderabad \\\\\n",
       "\t Suresh                 & meruka                 & 25                     & Kazipet, Warangal     \\\\\n",
       "\t Shankar                & kedari                 & 32                     & LIC Colony, Vijayawada\\\\\n",
       "\\end{tabular}\n"
      ],
      "text/markdown": [
       "\n",
       "First_Name | Last_Name | Age | Home_Town | \n",
       "|---|---|---|\n",
       "| Ramesh                 | padala                 | 28                     | Vidhyanagar,Hyderabad  | \n",
       "| Suresh                 | meruka                 | 25                     | Kazipet, Warangal      | \n",
       "| Shankar                | kedari                 | 32                     | LIC Colony, Vijayawada | \n",
       "\n",
       "\n"
      ],
      "text/plain": [
       "  First_Name Last_Name Age Home_Town             \n",
       "1 Ramesh     padala    28  Vidhyanagar,Hyderabad \n",
       "2 Suresh     meruka    25  Kazipet, Warangal     \n",
       "3 Shankar    kedari    32  LIC Colony, Vijayawada"
      ]
     },
     "metadata": {},
     "output_type": "display_data"
    }
   ],
   "source": [
    "head(data)"
   ]
  },
  {
   "cell_type": "code",
   "execution_count": 9,
   "metadata": {
    "scrolled": false
   },
   "outputs": [
    {
     "data": {
      "text/html": [
       "<table>\n",
       "<thead><tr><th scope=col>First_Name</th><th scope=col>Last_Name</th><th scope=col>Age</th><th scope=col>city</th><th scope=col>state</th></tr></thead>\n",
       "<tbody>\n",
       "\t<tr><td>Ramesh     </td><td>padala     </td><td>28         </td><td>Vidhyanagar</td><td>Hyderabad  </td></tr>\n",
       "\t<tr><td>Suresh     </td><td>meruka     </td><td>25         </td><td>Kazipet    </td><td> Warangal  </td></tr>\n",
       "\t<tr><td>Shankar    </td><td>kedari     </td><td>32         </td><td>LIC Colony </td><td> Vijayawada</td></tr>\n",
       "</tbody>\n",
       "</table>\n"
      ],
      "text/latex": [
       "\\begin{tabular}{r|lllll}\n",
       " First\\_Name & Last\\_Name & Age & city & state\\\\\n",
       "\\hline\n",
       "\t Ramesh      & padala      & 28          & Vidhyanagar & Hyderabad  \\\\\n",
       "\t Suresh      & meruka      & 25          & Kazipet     &  Warangal  \\\\\n",
       "\t Shankar     & kedari      & 32          & LIC Colony  &  Vijayawada\\\\\n",
       "\\end{tabular}\n"
      ],
      "text/markdown": [
       "\n",
       "First_Name | Last_Name | Age | city | state | \n",
       "|---|---|---|\n",
       "| Ramesh      | padala      | 28          | Vidhyanagar | Hyderabad   | \n",
       "| Suresh      | meruka      | 25          | Kazipet     |  Warangal   | \n",
       "| Shankar     | kedari      | 32          | LIC Colony  |  Vijayawada | \n",
       "\n",
       "\n"
      ],
      "text/plain": [
       "  First_Name Last_Name Age city        state      \n",
       "1 Ramesh     padala    28  Vidhyanagar Hyderabad  \n",
       "2 Suresh     meruka    25  Kazipet      Warangal  \n",
       "3 Shankar    kedari    32  LIC Colony   Vijayawada"
      ]
     },
     "metadata": {},
     "output_type": "display_data"
    }
   ],
   "source": [
    "separate(data, Home_Town, c(\"city\", \"state\"), sep=\",\")"
   ]
  },
  {
   "cell_type": "code",
   "execution_count": 10,
   "metadata": {
    "scrolled": true
   },
   "outputs": [
    {
     "data": {
      "text/html": [
       "<table>\n",
       "<thead><tr><th scope=col>Name</th><th scope=col>Age</th><th scope=col>Home_Town</th></tr></thead>\n",
       "<tbody>\n",
       "\t<tr><td>Ramesh padala         </td><td>28                    </td><td>Vidhyanagar,Hyderabad </td></tr>\n",
       "\t<tr><td>Suresh meruka         </td><td>25                    </td><td>Kazipet, Warangal     </td></tr>\n",
       "\t<tr><td>Shankar kedari        </td><td>32                    </td><td>LIC Colony, Vijayawada</td></tr>\n",
       "</tbody>\n",
       "</table>\n"
      ],
      "text/latex": [
       "\\begin{tabular}{r|lll}\n",
       " Name & Age & Home\\_Town\\\\\n",
       "\\hline\n",
       "\t Ramesh padala          & 28                     & Vidhyanagar,Hyderabad \\\\\n",
       "\t Suresh meruka          & 25                     & Kazipet, Warangal     \\\\\n",
       "\t Shankar kedari         & 32                     & LIC Colony, Vijayawada\\\\\n",
       "\\end{tabular}\n"
      ],
      "text/markdown": [
       "\n",
       "Name | Age | Home_Town | \n",
       "|---|---|---|\n",
       "| Ramesh padala          | 28                     | Vidhyanagar,Hyderabad  | \n",
       "| Suresh meruka          | 25                     | Kazipet, Warangal      | \n",
       "| Shankar kedari         | 32                     | LIC Colony, Vijayawada | \n",
       "\n",
       "\n"
      ],
      "text/plain": [
       "  Name           Age Home_Town             \n",
       "1 Ramesh padala  28  Vidhyanagar,Hyderabad \n",
       "2 Suresh meruka  25  Kazipet, Warangal     \n",
       "3 Shankar kedari 32  LIC Colony, Vijayawada"
      ]
     },
     "metadata": {},
     "output_type": "display_data"
    }
   ],
   "source": [
    "unite(data, \"Name\", c(First_Name, Last_Name), sep=\" \")"
   ]
  },
  {
   "cell_type": "code",
   "execution_count": 11,
   "metadata": {},
   "outputs": [],
   "source": [
    "data1 <- read.csv(\"data//homeruns.csv\")"
   ]
  },
  {
   "cell_type": "code",
   "execution_count": 12,
   "metadata": {},
   "outputs": [
    {
     "data": {
      "text/html": [
       "<table>\n",
       "<thead><tr><th scope=col>Player</th><th scope=col>x2015</th><th scope=col>x2014</th><th scope=col>x2013</th></tr></thead>\n",
       "<tbody>\n",
       "\t<tr><td>Mike Trout   </td><td>41           </td><td>36           </td><td>27           </td></tr>\n",
       "\t<tr><td>Bryce Harper </td><td>42           </td><td>13           </td><td>20           </td></tr>\n",
       "\t<tr><td>Jose Bautista</td><td>40           </td><td>35           </td><td>28           </td></tr>\n",
       "</tbody>\n",
       "</table>\n"
      ],
      "text/latex": [
       "\\begin{tabular}{r|llll}\n",
       " Player & x2015 & x2014 & x2013\\\\\n",
       "\\hline\n",
       "\t Mike Trout    & 41            & 36            & 27           \\\\\n",
       "\t Bryce Harper  & 42            & 13            & 20           \\\\\n",
       "\t Jose Bautista & 40            & 35            & 28           \\\\\n",
       "\\end{tabular}\n"
      ],
      "text/markdown": [
       "\n",
       "Player | x2015 | x2014 | x2013 | \n",
       "|---|---|---|\n",
       "| Mike Trout    | 41            | 36            | 27            | \n",
       "| Bryce Harper  | 42            | 13            | 20            | \n",
       "| Jose Bautista | 40            | 35            | 28            | \n",
       "\n",
       "\n"
      ],
      "text/plain": [
       "  Player        x2015 x2014 x2013\n",
       "1 Mike Trout    41    36    27   \n",
       "2 Bryce Harper  42    13    20   \n",
       "3 Jose Bautista 40    35    28   "
      ]
     },
     "metadata": {},
     "output_type": "display_data"
    }
   ],
   "source": [
    "head(data1)"
   ]
  },
  {
   "cell_type": "code",
   "execution_count": 14,
   "metadata": {},
   "outputs": [],
   "source": [
    "data3 <- gather(data1, year, home_runs,  x2015:x2013)"
   ]
  },
  {
   "cell_type": "code",
   "execution_count": 15,
   "metadata": {},
   "outputs": [
    {
     "data": {
      "text/html": [
       "<table>\n",
       "<thead><tr><th scope=col>Player</th><th scope=col>year</th><th scope=col>home_runs</th></tr></thead>\n",
       "<tbody>\n",
       "\t<tr><td>Mike Trout   </td><td>x2015        </td><td>41           </td></tr>\n",
       "\t<tr><td>Bryce Harper </td><td>x2015        </td><td>42           </td></tr>\n",
       "\t<tr><td>Jose Bautista</td><td>x2015        </td><td>40           </td></tr>\n",
       "\t<tr><td>Mike Trout   </td><td>x2014        </td><td>36           </td></tr>\n",
       "\t<tr><td>Bryce Harper </td><td>x2014        </td><td>13           </td></tr>\n",
       "\t<tr><td>Jose Bautista</td><td>x2014        </td><td>35           </td></tr>\n",
       "\t<tr><td>Mike Trout   </td><td>x2013        </td><td>27           </td></tr>\n",
       "\t<tr><td>Bryce Harper </td><td>x2013        </td><td>20           </td></tr>\n",
       "\t<tr><td>Jose Bautista</td><td>x2013        </td><td>28           </td></tr>\n",
       "</tbody>\n",
       "</table>\n"
      ],
      "text/latex": [
       "\\begin{tabular}{r|lll}\n",
       " Player & year & home\\_runs\\\\\n",
       "\\hline\n",
       "\t Mike Trout    & x2015         & 41           \\\\\n",
       "\t Bryce Harper  & x2015         & 42           \\\\\n",
       "\t Jose Bautista & x2015         & 40           \\\\\n",
       "\t Mike Trout    & x2014         & 36           \\\\\n",
       "\t Bryce Harper  & x2014         & 13           \\\\\n",
       "\t Jose Bautista & x2014         & 35           \\\\\n",
       "\t Mike Trout    & x2013         & 27           \\\\\n",
       "\t Bryce Harper  & x2013         & 20           \\\\\n",
       "\t Jose Bautista & x2013         & 28           \\\\\n",
       "\\end{tabular}\n"
      ],
      "text/markdown": [
       "\n",
       "Player | year | home_runs | \n",
       "|---|---|---|---|---|---|---|---|---|\n",
       "| Mike Trout    | x2015         | 41            | \n",
       "| Bryce Harper  | x2015         | 42            | \n",
       "| Jose Bautista | x2015         | 40            | \n",
       "| Mike Trout    | x2014         | 36            | \n",
       "| Bryce Harper  | x2014         | 13            | \n",
       "| Jose Bautista | x2014         | 35            | \n",
       "| Mike Trout    | x2013         | 27            | \n",
       "| Bryce Harper  | x2013         | 20            | \n",
       "| Jose Bautista | x2013         | 28            | \n",
       "\n",
       "\n"
      ],
      "text/plain": [
       "  Player        year  home_runs\n",
       "1 Mike Trout    x2015 41       \n",
       "2 Bryce Harper  x2015 42       \n",
       "3 Jose Bautista x2015 40       \n",
       "4 Mike Trout    x2014 36       \n",
       "5 Bryce Harper  x2014 13       \n",
       "6 Jose Bautista x2014 35       \n",
       "7 Mike Trout    x2013 27       \n",
       "8 Bryce Harper  x2013 20       \n",
       "9 Jose Bautista x2013 28       "
      ]
     },
     "metadata": {},
     "output_type": "display_data"
    }
   ],
   "source": [
    "data3"
   ]
  },
  {
   "cell_type": "code",
   "execution_count": 16,
   "metadata": {
    "scrolled": true
   },
   "outputs": [
    {
     "data": {
      "text/html": [
       "<table>\n",
       "<thead><tr><th scope=col>Player</th><th scope=col>x2013</th><th scope=col>x2014</th><th scope=col>x2015</th></tr></thead>\n",
       "<tbody>\n",
       "\t<tr><td>Bryce Harper </td><td>20           </td><td>13           </td><td>42           </td></tr>\n",
       "\t<tr><td>Jose Bautista</td><td>28           </td><td>35           </td><td>40           </td></tr>\n",
       "\t<tr><td>Mike Trout   </td><td>27           </td><td>36           </td><td>41           </td></tr>\n",
       "</tbody>\n",
       "</table>\n"
      ],
      "text/latex": [
       "\\begin{tabular}{r|llll}\n",
       " Player & x2013 & x2014 & x2015\\\\\n",
       "\\hline\n",
       "\t Bryce Harper  & 20            & 13            & 42           \\\\\n",
       "\t Jose Bautista & 28            & 35            & 40           \\\\\n",
       "\t Mike Trout    & 27            & 36            & 41           \\\\\n",
       "\\end{tabular}\n"
      ],
      "text/markdown": [
       "\n",
       "Player | x2013 | x2014 | x2015 | \n",
       "|---|---|---|\n",
       "| Bryce Harper  | 20            | 13            | 42            | \n",
       "| Jose Bautista | 28            | 35            | 40            | \n",
       "| Mike Trout    | 27            | 36            | 41            | \n",
       "\n",
       "\n"
      ],
      "text/plain": [
       "  Player        x2013 x2014 x2015\n",
       "1 Bryce Harper  20    13    42   \n",
       "2 Jose Bautista 28    35    40   \n",
       "3 Mike Trout    27    36    41   "
      ]
     },
     "metadata": {},
     "output_type": "display_data"
    }
   ],
   "source": [
    "spread(data3, year, home_runs)"
   ]
  },
  {
   "cell_type": "markdown",
   "metadata": {
    "collapsed": true
   },
   "source": [
    "## reshape2"
   ]
  },
  {
   "cell_type": "markdown",
   "metadata": {},
   "source": [
    "![Imgur](https://i.imgur.com/AjpEZ8z.png?1)"
   ]
  },
  {
   "cell_type": "markdown",
   "metadata": {},
   "source": [
    "https://rpubs.com/aaronsaunders/14391  \n",
    "https://www.listendata.com/2016/01/transpose-data-in-r.html  "
   ]
  },
  {
   "cell_type": "markdown",
   "metadata": {},
   "source": [
    "## Piping with `%>%` from `magrittr` package"
   ]
  },
  {
   "cell_type": "markdown",
   "metadata": {
    "collapsed": true
   },
   "source": [
    "## dplyr"
   ]
  },
  {
   "cell_type": "markdown",
   "metadata": {},
   "source": [
    "![Imgur](https://i.imgur.com/DNMxDWh.png?1)"
   ]
  },
  {
   "cell_type": "markdown",
   "metadata": {},
   "source": [
    "## working with fivethirtyeight data"
   ]
  },
  {
   "cell_type": "markdown",
   "metadata": {},
   "source": [
    "http://www.storybench.org/getting-started-with-tidyverse-in-r/  \n",
    "http://www.storybench.org/how-to-explore-a-dataset-from-the-fivethirtyeight-package-in-r/  "
   ]
  },
  {
   "cell_type": "markdown",
   "metadata": {},
   "source": [
    "<span style=\"color:red; font-family:Comic Sans MS\">References</span>  \n",
    "<a href=\"https://tbrieder.org/epidata/course_reading/e_aragon.pdf\" target=\"_blank\">https://tbrieder.org/epidata/course_reading/e_aragon.pdf</a>"
   ]
  },
  {
   "cell_type": "markdown",
   "metadata": {},
   "source": [
    "<span style=\"color:red; font-family:brandon\">Further  Resources</span>  \n",
    "<a href=\"https://www.rstudio.com/wp-content/uploads/2015/02/data-wrangling-cheatsheet.pdf\"   target=\"_blank\">https://www.rstudio.com/wp-content/uploads/2015/02/data-wrangling-cheatsheet.pdf</a>    \n",
    "<a href=\"https://ugoproto.github.io/ugo_r_doc/dplyr.pdf\" target=\"_blank\">https://ugoproto.github.io/ugo_r_doc/dplyr.pdf</a>  \n",
    "<a href=\"https://rpubs.com/bradleyboehmke/data_wrangling\" target=\"_blank\">https://rpubs.com/bradleyboehmke/data_wrangling</a>  "
   ]
  },
  {
   "cell_type": "code",
   "execution_count": null,
   "metadata": {},
   "outputs": [],
   "source": []
  }
 ],
 "metadata": {
  "hide_input": false,
  "kernelspec": {
   "display_name": "R",
   "language": "R",
   "name": "ir"
  },
  "language_info": {
   "codemirror_mode": "r",
   "file_extension": ".r",
   "mimetype": "text/x-r-source",
   "name": "R",
   "pygments_lexer": "r",
   "version": "3.4.3"
  },
  "toc": {
   "base_numbering": 1,
   "nav_menu": {},
   "number_sections": true,
   "sideBar": true,
   "skip_h1_title": false,
   "title_cell": "Table of Contents",
   "title_sidebar": "Contents",
   "toc_cell": false,
   "toc_position": {},
   "toc_section_display": true,
   "toc_window_display": false
  }
 },
 "nbformat": 4,
 "nbformat_minor": 2
}
