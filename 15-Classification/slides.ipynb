{
 "cells": [
  {
   "cell_type": "markdown",
   "metadata": {
    "slideshow": {
     "slide_type": "slide"
    },
    "toc": true
   },
   "source": [
    "<h1>Table of Contents<span class=\"tocSkip\"></span></h1>\n",
    "<div class=\"toc\"><ul class=\"toc-item\"><li><ul class=\"toc-item\"><li><span><a href=\"#Step-by-Step-approach\" data-toc-modified-id=\"Step-by-Step-approach-0.1\">Step by Step approach</a></span></li></ul></li><li><span><a href=\"#Logistic-Regression\" data-toc-modified-id=\"Logistic-Regression-1\">Logistic Regression</a></span><ul class=\"toc-item\"><li><span><a href=\"#dataset\" data-toc-modified-id=\"dataset-1.1\">dataset</a></span></li><li><span><a href=\"#missing-value-imputation\" data-toc-modified-id=\"missing-value-imputation-1.2\">missing value imputation</a></span></li></ul></li><li><span><a href=\"#Decision-Trees\" data-toc-modified-id=\"Decision-Trees-2\">Decision Trees</a></span><ul class=\"toc-item\"><li><span><a href=\"#Example-I\" data-toc-modified-id=\"Example-I-2.1\">Example I</a></span><ul class=\"toc-item\"><li><span><a href=\"#First-ten-observations-of-the-dataset\" data-toc-modified-id=\"First-ten-observations-of-the-dataset-2.1.1\">First ten observations of the dataset</a></span></li><li><span><a href=\"#Grow-the-decision-tree¶\" data-toc-modified-id=\"Grow-the-decision-tree¶-2.1.2\">Grow the decision tree¶</a></span><ul class=\"toc-item\"><li><span><a href=\"#Plot-the-results\" data-toc-modified-id=\"Plot-the-results-2.1.2.1\">Plot the results</a></span></li></ul></li></ul></li><li><span><a href=\"#Example-II\" data-toc-modified-id=\"Example-II-2.2\">Example II</a></span></li></ul></li><li><span><a href=\"#Support-Vector-Machines\" data-toc-modified-id=\"Support-Vector-Machines-3\">Support Vector Machines</a></span><ul class=\"toc-item\"><li><span><a href=\"#feature-importance\" data-toc-modified-id=\"feature-importance-3.1\">feature importance</a></span></li><li><span><a href=\"#Split-Data\" data-toc-modified-id=\"Split-Data-3.2\">Split Data</a></span></li><li><span><a href=\"#Build-Model\" data-toc-modified-id=\"Build-Model-3.3\">Build Model</a></span></li><li><span><a href=\"#Parameter-Tuning\" data-toc-modified-id=\"Parameter-Tuning-3.4\">Parameter Tuning</a></span></li><li><span><a href=\"#Evaluation\" data-toc-modified-id=\"Evaluation-3.5\">Evaluation</a></span></li></ul></li><li><span><a href=\"#K-Nearest-Neighbour\" data-toc-modified-id=\"K-Nearest-Neighbour-4\">K-Nearest Neighbour</a></span><ul class=\"toc-item\"><li><span><a href=\"#dataset\" data-toc-modified-id=\"dataset-4.1\">dataset</a></span></li><li><span><a href=\"#check-the-structure-of-data-frame\" data-toc-modified-id=\"check-the-structure-of-data-frame-4.2\">check the structure of data frame</a></span></li><li><span><a href=\"#split-the-datasets-into-training-and-test-dataset\" data-toc-modified-id=\"split-the-datasets-into-training-and-test-dataset-4.3\">split the datasets into training and test dataset</a></span></li><li><span><a href=\"#missing-values\" data-toc-modified-id=\"missing-values-4.4\">missing values</a></span></li><li><span><a href=\"#Training-&amp;-Preprocessing\" data-toc-modified-id=\"Training-&amp;-Preprocessing-4.5\">Training &amp; Preprocessing</a></span></li><li><span><a href=\"#plot-accuracy-vs-K-Value-graph\" data-toc-modified-id=\"plot-accuracy-vs-K-Value-graph-4.6\">plot accuracy vs K Value graph</a></span></li><li><span><a href=\"#predict-classes-for-test-set-using-knn-classifier\" data-toc-modified-id=\"predict-classes-for-test-set-using-knn-classifier-4.7\">predict classes for test set using knn classifier</a></span></li><li><span><a href=\"#Test-set-Statistics-using-confusion-matrix\" data-toc-modified-id=\"Test-set-Statistics-using-confusion-matrix-4.8\">Test set Statistics using confusion matrix</a></span></li></ul></li><li><span><a href=\"#Random-Forest\" data-toc-modified-id=\"Random-Forest-5\">Random Forest</a></span><ul class=\"toc-item\"><li><span><a href=\"#Predict-using-ctree()-function\" data-toc-modified-id=\"Predict-using-ctree()-function-5.1\">Predict using <code>ctree()</code> function</a></span></li><li><span><a href=\"#Predict-using-cForest()-function\" data-toc-modified-id=\"Predict-using-cForest()-function-5.2\">Predict using <code>cForest()</code> function</a></span></li></ul></li></ul></div>"
   ]
  },
  {
   "cell_type": "markdown",
   "metadata": {
    "slideshow": {
     "slide_type": "slide"
    }
   },
   "source": [
    "# Classification"
   ]
  },
  {
   "cell_type": "markdown",
   "metadata": {
    "slideshow": {
     "slide_type": "slide"
    }
   },
   "source": [
    "* Comes under the category of supervised machine learning\n",
    "* First we should identify the boundary conditions & then the next task is to predict the target class\n",
    "* To classify gender (target class) using hair length as feature parameter\n",
    "* the idea is to predict the target class by analysis the training dataset.\n",
    "* train your model using any abvailable classification algorithms"
   ]
  },
  {
   "cell_type": "markdown",
   "metadata": {
    "slideshow": {
     "slide_type": "slide"
    }
   },
   "source": [
    "### Step by Step approach"
   ]
  },
  {
   "cell_type": "markdown",
   "metadata": {
    "slideshow": {
     "slide_type": "slide"
    }
   },
   "source": [
    "<font color=\"red\">**Step 1:**</font> load data and run numerical and graphical summaries\n",
    "\n",
    "<font color=\"red\">**Step 2:**</font> Split the data into training data and test data\n",
    "\n",
    "<font color=\"red\">**Step 3:**</font> Fit a model using training data\n",
    "\n",
    "<font color=\"red\">**Step 3:**</font> Use a fitted model to do predictions for the test data\n",
    "\n",
    "<font color=\"red\">**Step 4:**</font> Create a confusion matrix, and compute the misclassification rate"
   ]
  },
  {
   "cell_type": "code",
   "execution_count": null,
   "metadata": {},
   "outputs": [],
   "source": [
    "**Install and load required packages**"
   ]
  },
  {
   "cell_type": "code",
   "execution_count": 116,
   "metadata": {
    "scrolled": true,
    "slideshow": {
     "slide_type": "fragment"
    }
   },
   "outputs": [
    {
     "data": {
      "text/html": [
       "<dl class=dl-horizontal>\n",
       "\t<dt>DMwR</dt>\n",
       "\t\t<dd>TRUE</dd>\n",
       "\t<dt>caret</dt>\n",
       "\t\t<dd>TRUE</dd>\n",
       "\t<dt>party</dt>\n",
       "\t\t<dd>TRUE</dd>\n",
       "\t<dt>partykit</dt>\n",
       "\t\t<dd>TRUE</dd>\n",
       "\t<dt>e1071</dt>\n",
       "\t\t<dd>TRUE</dd>\n",
       "\t<dt>caret</dt>\n",
       "\t\t<dd>TRUE</dd>\n",
       "</dl>\n"
      ],
      "text/latex": [
       "\\begin{description*}\n",
       "\\item[DMwR] TRUE\n",
       "\\item[caret] TRUE\n",
       "\\item[party] TRUE\n",
       "\\item[partykit] TRUE\n",
       "\\item[e1071] TRUE\n",
       "\\item[caret] TRUE\n",
       "\\end{description*}\n"
      ],
      "text/markdown": [
       "DMwR\n",
       ":   TRUEcaret\n",
       ":   TRUEparty\n",
       ":   TRUEpartykit\n",
       ":   TRUEe1071\n",
       ":   TRUEcaret\n",
       ":   TRUE\n",
       "\n"
      ],
      "text/plain": [
       "    DMwR    caret    party partykit    e1071    caret \n",
       "    TRUE     TRUE     TRUE     TRUE     TRUE     TRUE "
      ]
     },
     "metadata": {},
     "output_type": "display_data"
    }
   ],
   "source": [
    "ipak <- function(pkg){\n",
    "    new.pkg <- pkg[!(pkg %in% installed.packages()[, \"Package\"])]\n",
    "    if (length(new.pkg)) \n",
    "        install.packages(new.pkg, repos = \"http://cran.us.r-project.org\", dependencies = TRUE)\n",
    "    sapply(pkg, require, character.only = TRUE)\n",
    "}\n",
    "\n",
    "# usage\n",
    "packages <- c(\"DMwR\",\"caret\",\"party\", \"partykit\",\"e1071\", \"caret\")\n",
    "ipak(packages)"
   ]
  },
  {
   "cell_type": "markdown",
   "metadata": {
    "slideshow": {
     "slide_type": "slide"
    }
   },
   "source": [
    "## Logistic Regression"
   ]
  },
  {
   "cell_type": "markdown",
   "metadata": {
    "slideshow": {
     "slide_type": "fragment"
    }
   },
   "source": [
    "* response variable is quantitative or categorical\n",
    "* Example Countries, skin color, eye color,...etc\n",
    "* It comes under classfication technique and superviese machine learning\n",
    "* predicting qualitative response \n",
    "* probability of each of the categories of a qualitative variable"
   ]
  },
  {
   "cell_type": "markdown",
   "metadata": {
    "slideshow": {
     "slide_type": "subslide"
    }
   },
   "source": [
    "**Sigmoid Function**  \n",
    "![Imgur](https://i.imgur.com/fgSBPI5.png)"
   ]
  },
  {
   "cell_type": "markdown",
   "metadata": {
    "slideshow": {
     "slide_type": "subslide"
    }
   },
   "source": [
    "### dataset"
   ]
  },
  {
   "cell_type": "markdown",
   "metadata": {
    "slideshow": {
     "slide_type": "fragment"
    }
   },
   "source": [
    "Using kaggle dataset (https://www.kaggle.com/c/titanic/data)"
   ]
  },
  {
   "cell_type": "code",
   "execution_count": 117,
   "metadata": {
    "slideshow": {
     "slide_type": "fragment"
    }
   },
   "outputs": [
    {
     "data": {
      "text/html": [
       "<table>\n",
       "<thead><tr><th scope=col>PassengerId</th><th scope=col>Survived</th><th scope=col>Pclass</th><th scope=col>Name</th><th scope=col>Sex</th><th scope=col>Age</th><th scope=col>SibSp</th><th scope=col>Parch</th><th scope=col>Ticket</th><th scope=col>Fare</th><th scope=col>Cabin</th><th scope=col>Embarked</th></tr></thead>\n",
       "<tbody>\n",
       "\t<tr><td>1                                                  </td><td>0                                                  </td><td>3                                                  </td><td>Braund, Mr. Owen Harris                            </td><td>male                                               </td><td>22                                                 </td><td>1                                                  </td><td>0                                                  </td><td>A/5 21171                                          </td><td> 7.2500                                            </td><td>                                                   </td><td>S                                                  </td></tr>\n",
       "\t<tr><td>2                                                  </td><td>1                                                  </td><td>1                                                  </td><td>Cumings, Mrs. John Bradley (Florence Briggs Thayer)</td><td>female                                             </td><td>38                                                 </td><td>1                                                  </td><td>0                                                  </td><td>PC 17599                                           </td><td>71.2833                                            </td><td>C85                                                </td><td>C                                                  </td></tr>\n",
       "\t<tr><td>3                                                  </td><td>1                                                  </td><td>3                                                  </td><td>Heikkinen, Miss. Laina                             </td><td>female                                             </td><td>26                                                 </td><td>0                                                  </td><td>0                                                  </td><td>STON/O2. 3101282                                   </td><td> 7.9250                                            </td><td>                                                   </td><td>S                                                  </td></tr>\n",
       "\t<tr><td>4                                                  </td><td>1                                                  </td><td>1                                                  </td><td>Futrelle, Mrs. Jacques Heath (Lily May Peel)       </td><td>female                                             </td><td>35                                                 </td><td>1                                                  </td><td>0                                                  </td><td>113803                                             </td><td>53.1000                                            </td><td>C123                                               </td><td>S                                                  </td></tr>\n",
       "\t<tr><td>5                                                  </td><td>0                                                  </td><td>3                                                  </td><td>Allen, Mr. William Henry                           </td><td>male                                               </td><td>35                                                 </td><td>0                                                  </td><td>0                                                  </td><td>373450                                             </td><td> 8.0500                                            </td><td>                                                   </td><td>S                                                  </td></tr>\n",
       "\t<tr><td>6                                                  </td><td>0                                                  </td><td>3                                                  </td><td>Moran, Mr. James                                   </td><td>male                                               </td><td>NA                                                 </td><td>0                                                  </td><td>0                                                  </td><td>330877                                             </td><td> 8.4583                                            </td><td>                                                   </td><td>Q                                                  </td></tr>\n",
       "</tbody>\n",
       "</table>\n"
      ],
      "text/latex": [
       "\\begin{tabular}{r|llllllllllll}\n",
       " PassengerId & Survived & Pclass & Name & Sex & Age & SibSp & Parch & Ticket & Fare & Cabin & Embarked\\\\\n",
       "\\hline\n",
       "\t 1                                                   & 0                                                   & 3                                                   & Braund, Mr. Owen Harris                             & male                                                & 22                                                  & 1                                                   & 0                                                   & A/5 21171                                           &  7.2500                                             &                                                     & S                                                  \\\\\n",
       "\t 2                                                   & 1                                                   & 1                                                   & Cumings, Mrs. John Bradley (Florence Briggs Thayer) & female                                              & 38                                                  & 1                                                   & 0                                                   & PC 17599                                            & 71.2833                                             & C85                                                 & C                                                  \\\\\n",
       "\t 3                                                   & 1                                                   & 3                                                   & Heikkinen, Miss. Laina                              & female                                              & 26                                                  & 0                                                   & 0                                                   & STON/O2. 3101282                                    &  7.9250                                             &                                                     & S                                                  \\\\\n",
       "\t 4                                                   & 1                                                   & 1                                                   & Futrelle, Mrs. Jacques Heath (Lily May Peel)        & female                                              & 35                                                  & 1                                                   & 0                                                   & 113803                                              & 53.1000                                             & C123                                                & S                                                  \\\\\n",
       "\t 5                                                   & 0                                                   & 3                                                   & Allen, Mr. William Henry                            & male                                                & 35                                                  & 0                                                   & 0                                                   & 373450                                              &  8.0500                                             &                                                     & S                                                  \\\\\n",
       "\t 6                                                   & 0                                                   & 3                                                   & Moran, Mr. James                                    & male                                                & NA                                                  & 0                                                   & 0                                                   & 330877                                              &  8.4583                                             &                                                     & Q                                                  \\\\\n",
       "\\end{tabular}\n"
      ],
      "text/markdown": [
       "\n",
       "PassengerId | Survived | Pclass | Name | Sex | Age | SibSp | Parch | Ticket | Fare | Cabin | Embarked | \n",
       "|---|---|---|---|---|---|\n",
       "| 1                                                   | 0                                                   | 3                                                   | Braund, Mr. Owen Harris                             | male                                                | 22                                                  | 1                                                   | 0                                                   | A/5 21171                                           |  7.2500                                             |                                                     | S                                                   | \n",
       "| 2                                                   | 1                                                   | 1                                                   | Cumings, Mrs. John Bradley (Florence Briggs Thayer) | female                                              | 38                                                  | 1                                                   | 0                                                   | PC 17599                                            | 71.2833                                             | C85                                                 | C                                                   | \n",
       "| 3                                                   | 1                                                   | 3                                                   | Heikkinen, Miss. Laina                              | female                                              | 26                                                  | 0                                                   | 0                                                   | STON/O2. 3101282                                    |  7.9250                                             |                                                     | S                                                   | \n",
       "| 4                                                   | 1                                                   | 1                                                   | Futrelle, Mrs. Jacques Heath (Lily May Peel)        | female                                              | 35                                                  | 1                                                   | 0                                                   | 113803                                              | 53.1000                                             | C123                                                | S                                                   | \n",
       "| 5                                                   | 0                                                   | 3                                                   | Allen, Mr. William Henry                            | male                                                | 35                                                  | 0                                                   | 0                                                   | 373450                                              |  8.0500                                             |                                                     | S                                                   | \n",
       "| 6                                                   | 0                                                   | 3                                                   | Moran, Mr. James                                    | male                                                | NA                                                  | 0                                                   | 0                                                   | 330877                                              |  8.4583                                             |                                                     | Q                                                   | \n",
       "\n",
       "\n"
      ],
      "text/plain": [
       "  PassengerId Survived Pclass\n",
       "1 1           0        3     \n",
       "2 2           1        1     \n",
       "3 3           1        3     \n",
       "4 4           1        1     \n",
       "5 5           0        3     \n",
       "6 6           0        3     \n",
       "  Name                                                Sex    Age SibSp Parch\n",
       "1 Braund, Mr. Owen Harris                             male   22  1     0    \n",
       "2 Cumings, Mrs. John Bradley (Florence Briggs Thayer) female 38  1     0    \n",
       "3 Heikkinen, Miss. Laina                              female 26  0     0    \n",
       "4 Futrelle, Mrs. Jacques Heath (Lily May Peel)        female 35  1     0    \n",
       "5 Allen, Mr. William Henry                            male   35  0     0    \n",
       "6 Moran, Mr. James                                    male   NA  0     0    \n",
       "  Ticket           Fare    Cabin Embarked\n",
       "1 A/5 21171         7.2500       S       \n",
       "2 PC 17599         71.2833 C85   C       \n",
       "3 STON/O2. 3101282  7.9250       S       \n",
       "4 113803           53.1000 C123  S       \n",
       "5 373450            8.0500       S       \n",
       "6 330877            8.4583       Q       "
      ]
     },
     "metadata": {},
     "output_type": "display_data"
    },
    {
     "name": "stdout",
     "output_type": "stream",
     "text": [
      "'data.frame':\t891 obs. of  12 variables:\n",
      " $ PassengerId: int  1 2 3 4 5 6 7 8 9 10 ...\n",
      " $ Survived   : int  0 1 1 1 0 0 0 0 1 1 ...\n",
      " $ Pclass     : int  3 1 3 1 3 3 1 3 3 2 ...\n",
      " $ Name       : Factor w/ 891 levels \"Abbing, Mr. Anthony\",..: 109 191 358 277 16 559 520 629 417 581 ...\n",
      " $ Sex        : Factor w/ 2 levels \"female\",\"male\": 2 1 1 1 2 2 2 2 1 1 ...\n",
      " $ Age        : num  22 38 26 35 35 NA 54 2 27 14 ...\n",
      " $ SibSp      : int  1 1 0 1 0 0 0 3 0 1 ...\n",
      " $ Parch      : int  0 0 0 0 0 0 0 1 2 0 ...\n",
      " $ Ticket     : Factor w/ 681 levels \"110152\",\"110413\",..: 524 597 670 50 473 276 86 396 345 133 ...\n",
      " $ Fare       : num  7.25 71.28 7.92 53.1 8.05 ...\n",
      " $ Cabin      : Factor w/ 148 levels \"\",\"A10\",\"A14\",..: 1 83 1 57 1 1 131 1 1 1 ...\n",
      " $ Embarked   : Factor w/ 4 levels \"\",\"C\",\"Q\",\"S\": 4 2 4 4 4 3 4 4 4 2 ...\n"
     ]
    }
   ],
   "source": [
    "# reading data\n",
    "titanic <- read.csv(\"data/titanic.csv\")\n",
    "# viewing data\n",
    "head(titanic)\n",
    "# structure of the data whether the variables are categorical, numeric etc.\n",
    "str(titanic)"
   ]
  },
  {
   "cell_type": "code",
   "execution_count": 118,
   "metadata": {
    "slideshow": {
     "slide_type": "slide"
    }
   },
   "outputs": [],
   "source": [
    "#removing insignificant variables or drawing a subset from the data in which we have variables which can contribute to the response variable. \n",
    "titanic <- subset(titanic, select = c(2,3,5,6,7,8,10,12))"
   ]
  },
  {
   "cell_type": "code",
   "execution_count": 119,
   "metadata": {
    "scrolled": true,
    "slideshow": {
     "slide_type": "fragment"
    }
   },
   "outputs": [
    {
     "data": {
      "text/html": [
       "TRUE"
      ],
      "text/latex": [
       "TRUE"
      ],
      "text/markdown": [
       "TRUE"
      ],
      "text/plain": [
       "[1] TRUE"
      ]
     },
     "metadata": {},
     "output_type": "display_data"
    },
    {
     "data": {
      "text/html": [
       "TRUE"
      ],
      "text/latex": [
       "TRUE"
      ],
      "text/markdown": [
       "TRUE"
      ],
      "text/plain": [
       "[1] TRUE"
      ]
     },
     "metadata": {},
     "output_type": "display_data"
    }
   ],
   "source": [
    "# checking if the variable are categorical or not\n",
    "is.factor(titanic$Sex)\n",
    "is.factor(titanic$Embarked)"
   ]
  },
  {
   "cell_type": "markdown",
   "metadata": {
    "slideshow": {
     "slide_type": "slide"
    }
   },
   "source": [
    "### missing value imputation"
   ]
  },
  {
   "cell_type": "markdown",
   "metadata": {
    "slideshow": {
     "slide_type": "fragment"
    }
   },
   "source": [
    "* DMwR::knnImputation uses k-Nearest Neighbours approach to impute missing values. \n",
    "* The advantage is that you could impute all the missing values in all variables with one call to the function.\n",
    "* do not include the response variable"
   ]
  },
  {
   "cell_type": "code",
   "execution_count": 120,
   "metadata": {
    "slideshow": {
     "slide_type": "fragment"
    }
   },
   "outputs": [],
   "source": [
    "# library(DMwR)\n",
    "titanic <- knnImputation(titanic)\n",
    "#spliting data into train and test"
   ]
  },
  {
   "cell_type": "code",
   "execution_count": 121,
   "metadata": {
    "slideshow": {
     "slide_type": "fragment"
    }
   },
   "outputs": [
    {
     "data": {
      "text/html": [
       "<ol class=list-inline>\n",
       "\t<li>891</li>\n",
       "\t<li>8</li>\n",
       "</ol>\n"
      ],
      "text/latex": [
       "\\begin{enumerate*}\n",
       "\\item 891\n",
       "\\item 8\n",
       "\\end{enumerate*}\n"
      ],
      "text/markdown": [
       "1. 891\n",
       "2. 8\n",
       "\n",
       "\n"
      ],
      "text/plain": [
       "[1] 891   8"
      ]
     },
     "metadata": {},
     "output_type": "display_data"
    }
   ],
   "source": [
    "dim(titanic)"
   ]
  },
  {
   "cell_type": "code",
   "execution_count": 122,
   "metadata": {
    "scrolled": true,
    "slideshow": {
     "slide_type": "slide"
    }
   },
   "outputs": [
    {
     "data": {
      "text/plain": [
       "\n",
       "Call:\n",
       "glm(formula = Survived ~ ., family = binomial(link = \"logit\"), \n",
       "    data = train)\n",
       "\n",
       "Deviance Residuals: \n",
       "    Min       1Q   Median       3Q      Max  \n",
       "-2.7536  -0.5968  -0.4042   0.6255   2.5013  \n",
       "\n",
       "Coefficients:\n",
       "              Estimate Std. Error z value Pr(>|z|)    \n",
       "(Intercept)  1.664e+01  5.354e+02   0.031  0.97521    \n",
       "Pclass      -1.266e+00  1.614e-01  -7.845 4.32e-15 ***\n",
       "Sexmale     -2.688e+00  2.147e-01 -12.523  < 2e-16 ***\n",
       "Age         -4.917e-02  8.499e-03  -5.786 7.22e-09 ***\n",
       "SibSp       -3.728e-01  1.170e-01  -3.186  0.00144 ** \n",
       "Parch       -1.096e-01  1.321e-01  -0.830  0.40664    \n",
       "Fare         7.557e-04  2.333e-03   0.324  0.74604    \n",
       "EmbarkedC   -1.076e+01  5.354e+02  -0.020  0.98396    \n",
       "EmbarkedQ   -1.076e+01  5.354e+02  -0.020  0.98397    \n",
       "EmbarkedS   -1.103e+01  5.354e+02  -0.021  0.98356    \n",
       "---\n",
       "Signif. codes:  0 '***' 0.001 '**' 0.01 '*' 0.05 '.' 0.1 ' ' 1\n",
       "\n",
       "(Dispersion parameter for binomial family taken to be 1)\n",
       "\n",
       "    Null deviance: 1066.33  on 799  degrees of freedom\n",
       "Residual deviance:  694.26  on 790  degrees of freedom\n",
       "AIC: 714.26\n",
       "\n",
       "Number of Fisher Scoring iterations: 12\n"
      ]
     },
     "metadata": {},
     "output_type": "display_data"
    }
   ],
   "source": [
    "train <- titanic[1:800,]\n",
    "test <- titanic[801:891,]\n",
    "# fitting the logistic regression when considering all the predictors\n",
    "basemodel <- glm(Survived~., family = binomial(link = \"logit\"), data = train)\n",
    "# summary of the fitted model\n",
    "summary(basemodel)"
   ]
  },
  {
   "cell_type": "raw",
   "metadata": {
    "slideshow": {
     "slide_type": "subslide"
    }
   },
   "source": [
    "Interpretation:\n",
    "Clearly we can see that predictors like Parch, fare and Embarked are statistically insignificant. Sinse the p-value is greater than 0.05. So, dropping these predictors from the model gives better result."
   ]
  },
  {
   "cell_type": "code",
   "execution_count": 123,
   "metadata": {
    "scrolled": true,
    "slideshow": {
     "slide_type": "subslide"
    }
   },
   "outputs": [
    {
     "data": {
      "text/html": [
       "<table>\n",
       "<thead><tr><th></th><th scope=col>Df</th><th scope=col>Deviance</th><th scope=col>Resid. Df</th><th scope=col>Resid. Dev</th><th scope=col>Pr(&gt;Chi)</th></tr></thead>\n",
       "<tbody>\n",
       "\t<tr><th scope=row>NULL</th><td>NA          </td><td>         NA </td><td>799         </td><td>1066.3342   </td><td>          NA</td></tr>\n",
       "\t<tr><th scope=row>Pclass</th><td> 1          </td><td> 84.7785466 </td><td>798         </td><td> 981.5557   </td><td>3.337258e-20</td></tr>\n",
       "\t<tr><th scope=row>Sex</th><td> 1          </td><td>240.0842621 </td><td>797         </td><td> 741.4714   </td><td>3.769924e-54</td></tr>\n",
       "\t<tr><th scope=row>Age</th><td> 1          </td><td> 27.5631328 </td><td>796         </td><td> 713.9083   </td><td>1.520495e-07</td></tr>\n",
       "\t<tr><th scope=row>SibSp</th><td> 1          </td><td> 16.8676478 </td><td>795         </td><td> 697.0407   </td><td>4.007893e-05</td></tr>\n",
       "\t<tr><th scope=row>Parch</th><td> 1          </td><td>  0.7983955 </td><td>794         </td><td> 696.2423   </td><td>3.715735e-01</td></tr>\n",
       "\t<tr><th scope=row>Fare</th><td> 1          </td><td>  0.3501133 </td><td>793         </td><td> 695.8921   </td><td>5.540490e-01</td></tr>\n",
       "\t<tr><th scope=row>Embarked</th><td> 3          </td><td>  1.6292692 </td><td>790         </td><td> 694.2629   </td><td>6.527716e-01</td></tr>\n",
       "</tbody>\n",
       "</table>\n"
      ],
      "text/latex": [
       "\\begin{tabular}{r|lllll}\n",
       "  & Df & Deviance & Resid. Df & Resid. Dev & Pr(>Chi)\\\\\n",
       "\\hline\n",
       "\tNULL & NA           &          NA  & 799          & 1066.3342    &           NA\\\\\n",
       "\tPclass &  1           &  84.7785466  & 798          &  981.5557    & 3.337258e-20\\\\\n",
       "\tSex &  1           & 240.0842621  & 797          &  741.4714    & 3.769924e-54\\\\\n",
       "\tAge &  1           &  27.5631328  & 796          &  713.9083    & 1.520495e-07\\\\\n",
       "\tSibSp &  1           &  16.8676478  & 795          &  697.0407    & 4.007893e-05\\\\\n",
       "\tParch &  1           &   0.7983955  & 794          &  696.2423    & 3.715735e-01\\\\\n",
       "\tFare &  1           &   0.3501133  & 793          &  695.8921    & 5.540490e-01\\\\\n",
       "\tEmbarked &  3           &   1.6292692  & 790          &  694.2629    & 6.527716e-01\\\\\n",
       "\\end{tabular}\n"
      ],
      "text/markdown": [
       "\n",
       "| <!--/--> | Df | Deviance | Resid. Df | Resid. Dev | Pr(>Chi) | \n",
       "|---|---|---|---|---|---|---|---|\n",
       "| NULL | NA           |          NA  | 799          | 1066.3342    |           NA | \n",
       "| Pclass |  1           |  84.7785466  | 798          |  981.5557    | 3.337258e-20 | \n",
       "| Sex |  1           | 240.0842621  | 797          |  741.4714    | 3.769924e-54 | \n",
       "| Age |  1           |  27.5631328  | 796          |  713.9083    | 1.520495e-07 | \n",
       "| SibSp |  1           |  16.8676478  | 795          |  697.0407    | 4.007893e-05 | \n",
       "| Parch |  1           |   0.7983955  | 794          |  696.2423    | 3.715735e-01 | \n",
       "| Fare |  1           |   0.3501133  | 793          |  695.8921    | 5.540490e-01 | \n",
       "| Embarked |  3           |   1.6292692  | 790          |  694.2629    | 6.527716e-01 | \n",
       "\n",
       "\n"
      ],
      "text/plain": [
       "         Df Deviance    Resid. Df Resid. Dev Pr(>Chi)    \n",
       "NULL     NA          NA 799       1066.3342            NA\n",
       "Pclass    1  84.7785466 798        981.5557  3.337258e-20\n",
       "Sex       1 240.0842621 797        741.4714  3.769924e-54\n",
       "Age       1  27.5631328 796        713.9083  1.520495e-07\n",
       "SibSp     1  16.8676478 795        697.0407  4.007893e-05\n",
       "Parch     1   0.7983955 794        696.2423  3.715735e-01\n",
       "Fare      1   0.3501133 793        695.8921  5.540490e-01\n",
       "Embarked  3   1.6292692 790        694.2629  6.527716e-01"
      ]
     },
     "metadata": {},
     "output_type": "display_data"
    }
   ],
   "source": [
    "#analysis of variance table of the fitted model\n",
    "anova(basemodel, test = \"Chisq\")"
   ]
  },
  {
   "cell_type": "code",
   "execution_count": 124,
   "metadata": {
    "scrolled": true,
    "slideshow": {
     "slide_type": "slide"
    }
   },
   "outputs": [
    {
     "data": {
      "text/plain": [
       "\n",
       "Call:\n",
       "glm(formula = Survived ~ . - Parch - Fare - Embarked, family = binomial(link = \"logit\"), \n",
       "    data = train)\n",
       "\n",
       "Deviance Residuals: \n",
       "    Min       1Q   Median       3Q      Max  \n",
       "-2.8272  -0.6029  -0.3846   0.6072   2.4906  \n",
       "\n",
       "Coefficients:\n",
       "             Estimate Std. Error z value Pr(>|z|)    \n",
       "(Intercept)  5.801178   0.545447  10.636  < 2e-16 ***\n",
       "Pclass      -1.308035   0.136657  -9.572  < 2e-16 ***\n",
       "Sexmale     -2.688206   0.206902 -12.993  < 2e-16 ***\n",
       "Age         -0.049877   0.008442  -5.908 3.46e-09 ***\n",
       "SibSp       -0.415307   0.111385  -3.729 0.000193 ***\n",
       "---\n",
       "Signif. codes:  0 '***' 0.001 '**' 0.01 '*' 0.05 '.' 0.1 ' ' 1\n",
       "\n",
       "(Dispersion parameter for binomial family taken to be 1)\n",
       "\n",
       "    Null deviance: 1066.33  on 799  degrees of freedom\n",
       "Residual deviance:  697.04  on 795  degrees of freedom\n",
       "AIC: 707.04\n",
       "\n",
       "Number of Fisher Scoring iterations: 5\n"
      ]
     },
     "metadata": {},
     "output_type": "display_data"
    }
   ],
   "source": [
    "# fitting of logistic regression when considering only the statistically significant predictors\n",
    "model <- glm(Survived~.-Parch-Fare-Embarked, family = binomial(link = \"logit\"),data = train)\n",
    "# summary of the fitted model\n",
    "summary(model)"
   ]
  },
  {
   "cell_type": "code",
   "execution_count": 125,
   "metadata": {
    "scrolled": true,
    "slideshow": {
     "slide_type": "subslide"
    }
   },
   "outputs": [
    {
     "data": {
      "text/html": [
       "<table>\n",
       "<thead><tr><th></th><th scope=col>Df</th><th scope=col>Deviance</th><th scope=col>Resid. Df</th><th scope=col>Resid. Dev</th><th scope=col>Pr(&gt;Chi)</th></tr></thead>\n",
       "<tbody>\n",
       "\t<tr><th scope=row>NULL</th><td>NA          </td><td>       NA   </td><td>799         </td><td>1066.3342   </td><td>          NA</td></tr>\n",
       "\t<tr><th scope=row>Pclass</th><td> 1          </td><td> 84.77855   </td><td>798         </td><td> 981.5557   </td><td>3.337258e-20</td></tr>\n",
       "\t<tr><th scope=row>Sex</th><td> 1          </td><td>240.08426   </td><td>797         </td><td> 741.4714   </td><td>3.769924e-54</td></tr>\n",
       "\t<tr><th scope=row>Age</th><td> 1          </td><td> 27.56313   </td><td>796         </td><td> 713.9083   </td><td>1.520495e-07</td></tr>\n",
       "\t<tr><th scope=row>SibSp</th><td> 1          </td><td> 16.86765   </td><td>795         </td><td> 697.0407   </td><td>4.007893e-05</td></tr>\n",
       "</tbody>\n",
       "</table>\n"
      ],
      "text/latex": [
       "\\begin{tabular}{r|lllll}\n",
       "  & Df & Deviance & Resid. Df & Resid. Dev & Pr(>Chi)\\\\\n",
       "\\hline\n",
       "\tNULL & NA           &        NA    & 799          & 1066.3342    &           NA\\\\\n",
       "\tPclass &  1           &  84.77855    & 798          &  981.5557    & 3.337258e-20\\\\\n",
       "\tSex &  1           & 240.08426    & 797          &  741.4714    & 3.769924e-54\\\\\n",
       "\tAge &  1           &  27.56313    & 796          &  713.9083    & 1.520495e-07\\\\\n",
       "\tSibSp &  1           &  16.86765    & 795          &  697.0407    & 4.007893e-05\\\\\n",
       "\\end{tabular}\n"
      ],
      "text/markdown": [
       "\n",
       "| <!--/--> | Df | Deviance | Resid. Df | Resid. Dev | Pr(>Chi) | \n",
       "|---|---|---|---|---|\n",
       "| NULL | NA           |        NA    | 799          | 1066.3342    |           NA | \n",
       "| Pclass |  1           |  84.77855    | 798          |  981.5557    | 3.337258e-20 | \n",
       "| Sex |  1           | 240.08426    | 797          |  741.4714    | 3.769924e-54 | \n",
       "| Age |  1           |  27.56313    | 796          |  713.9083    | 1.520495e-07 | \n",
       "| SibSp |  1           |  16.86765    | 795          |  697.0407    | 4.007893e-05 | \n",
       "\n",
       "\n"
      ],
      "text/plain": [
       "       Df Deviance  Resid. Df Resid. Dev Pr(>Chi)    \n",
       "NULL   NA        NA 799       1066.3342            NA\n",
       "Pclass  1  84.77855 798        981.5557  3.337258e-20\n",
       "Sex     1 240.08426 797        741.4714  3.769924e-54\n",
       "Age     1  27.56313 796        713.9083  1.520495e-07\n",
       "SibSp   1  16.86765 795        697.0407  4.007893e-05"
      ]
     },
     "metadata": {},
     "output_type": "display_data"
    }
   ],
   "source": [
    "# analysis of variance table of the fitted model\n",
    "anova(model, test = \"Chisq\")"
   ]
  },
  {
   "cell_type": "code",
   "execution_count": 126,
   "metadata": {
    "slideshow": {
     "slide_type": "subslide"
    }
   },
   "outputs": [
    {
     "name": "stdout",
     "output_type": "stream",
     "text": [
      "[1] \"Accuracy 0.824175824175824\"\n"
     ]
    }
   ],
   "source": [
    "# prediction of the response on the basis of fitted model\n",
    "predict <- predict(model,newdata = test,type = \"response\")\n",
    "# checking the accuracy\n",
    "# library(caret)\n",
    "predict <- ifelse(predict > 0.5,1,0)\n",
    "error <- mean(predict != test$Survived)\n",
    "print(paste('Accuracy',1-error))"
   ]
  },
  {
   "cell_type": "markdown",
   "metadata": {
    "slideshow": {
     "slide_type": "slide"
    }
   },
   "source": [
    "## Decision Trees"
   ]
  },
  {
   "cell_type": "markdown",
   "metadata": {
    "slideshow": {
     "slide_type": "subslide"
    }
   },
   "source": [
    "### Example I"
   ]
  },
  {
   "cell_type": "code",
   "execution_count": 127,
   "metadata": {
    "slideshow": {
     "slide_type": "fragment"
    }
   },
   "outputs": [],
   "source": [
    "# install.packages(\"party\")\n",
    "# install.packages(\"partykit\")"
   ]
  },
  {
   "cell_type": "code",
   "execution_count": 128,
   "metadata": {
    "slideshow": {
     "slide_type": "fragment"
    }
   },
   "outputs": [],
   "source": [
    "# library(party)\n",
    "# library(partykit)"
   ]
  },
  {
   "cell_type": "markdown",
   "metadata": {
    "slideshow": {
     "slide_type": "subslide"
    }
   },
   "source": [
    "#### First ten observations of the dataset"
   ]
  },
  {
   "cell_type": "code",
   "execution_count": 129,
   "metadata": {
    "slideshow": {
     "slide_type": "subslide"
    }
   },
   "outputs": [
    {
     "name": "stdout",
     "output_type": "stream",
     "text": [
      "  nativeSpeaker age shoeSize    score\n",
      "1           yes   5 24.83189 32.29385\n",
      "2           yes   6 25.95238 36.63105\n",
      "3            no  11 30.42170 49.60593\n",
      "4           yes   7 28.66450 40.28456\n",
      "5           yes  11 31.88207 55.46085\n",
      "6           yes  10 30.07843 52.83124\n"
     ]
    }
   ],
   "source": [
    "print(head(readingSkills))\n",
    "input.dat <- readingSkills[c(1:105),]"
   ]
  },
  {
   "cell_type": "markdown",
   "metadata": {
    "slideshow": {
     "slide_type": "subslide"
    }
   },
   "source": [
    "#### Grow the decision tree¶"
   ]
  },
  {
   "cell_type": "code",
   "execution_count": 130,
   "metadata": {
    "slideshow": {
     "slide_type": "subslide"
    }
   },
   "outputs": [],
   "source": [
    "output.tree <- ctree(\n",
    " nativeSpeaker ~ age + shoeSize + score,\n",
    " data = input.dat)"
   ]
  },
  {
   "cell_type": "markdown",
   "metadata": {
    "slideshow": {
     "slide_type": "subslide"
    }
   },
   "source": [
    "##### Plot the results"
   ]
  },
  {
   "cell_type": "code",
   "execution_count": 131,
   "metadata": {
    "slideshow": {
     "slide_type": "subslide"
    }
   },
   "outputs": [
    {
     "data": {
      "image/png": "[encoded data removed]",
      "text/plain": [
       "plot without title"
      ]
     },
     "metadata": {},
     "output_type": "display_data"
    }
   ],
   "source": [
    "plot(as.simpleparty(output.tree))"
   ]
  },
  {
   "cell_type": "markdown",
   "metadata": {
    "slideshow": {
     "slide_type": "subslide"
    }
   },
   "source": [
    "### Example II "
   ]
  },
  {
   "cell_type": "code",
   "execution_count": 132,
   "metadata": {
    "scrolled": false,
    "slideshow": {
     "slide_type": "subslide"
    }
   },
   "outputs": [
    {
     "name": "stdout",
     "output_type": "stream",
     "text": [
      "'data.frame':\t150 obs. of  5 variables:\n",
      " $ Sepal.Length: num  5.1 4.9 4.7 4.6 5 5.4 4.6 5 4.4 4.9 ...\n",
      " $ Sepal.Width : num  3.5 3 3.2 3.1 3.6 3.9 3.4 3.4 2.9 3.1 ...\n",
      " $ Petal.Length: num  1.4 1.4 1.3 1.5 1.4 1.7 1.4 1.5 1.4 1.5 ...\n",
      " $ Petal.Width : num  0.2 0.2 0.2 0.2 0.2 0.4 0.3 0.2 0.2 0.1 ...\n",
      " $ Species     : Factor w/ 3 levels \"setosa\",\"versicolor\",..: 1 1 1 1 1 1 1 1 1 1 ...\n"
     ]
    },
    {
     "data": {
      "text/plain": [
       "  Sepal.Length    Sepal.Width     Petal.Length    Petal.Width   \n",
       " Min.   :4.300   Min.   :2.000   Min.   :1.000   Min.   :0.100  \n",
       " 1st Qu.:5.100   1st Qu.:2.800   1st Qu.:1.600   1st Qu.:0.300  \n",
       " Median :5.800   Median :3.000   Median :4.350   Median :1.300  \n",
       " Mean   :5.843   Mean   :3.057   Mean   :3.758   Mean   :1.199  \n",
       " 3rd Qu.:6.400   3rd Qu.:3.300   3rd Qu.:5.100   3rd Qu.:1.800  \n",
       " Max.   :7.900   Max.   :4.400   Max.   :6.900   Max.   :2.500  \n",
       "       Species  \n",
       " setosa    :50  \n",
       " versicolor:50  \n",
       " virginica :50  \n",
       "                \n",
       "                \n",
       "                "
      ]
     },
     "metadata": {},
     "output_type": "display_data"
    },
    {
     "name": "stdout",
     "output_type": "stream",
     "text": [
      "\n",
      "Model formula:\n",
      "Species ~ Sepal.Length + Sepal.Width + Petal.Length + Petal.Width\n",
      "\n",
      "Fitted party:\n",
      "[1] root\n",
      "|   [2] Petal.Length <= 1.9: setosa (n = 42, err = 0.0%)\n",
      "|   [3] Petal.Length > 1.9\n",
      "|   |   [4] Petal.Width <= 1.7: versicolor (n = 42, err = 11.9%)\n",
      "|   |   [5] Petal.Width > 1.7: virginica (n = 34, err = 2.9%)\n",
      "\n",
      "Number of inner nodes:    2\n",
      "Number of terminal nodes: 3\n"
     ]
    },
    {
     "data": {
      "image/png": "[encoded data removed]",
      "text/plain": [
       "plot without title"
      ]
     },
     "metadata": {},
     "output_type": "display_data"
    },
    {
     "data": {
      "text/html": [
       "<table>\n",
       "<thead><tr><th></th><th scope=col>setosa</th><th scope=col>versicolor</th><th scope=col>virginica</th></tr></thead>\n",
       "<tbody>\n",
       "\t<tr><th scope=row>1</th><td>1</td><td>0</td><td>0</td></tr>\n",
       "\t<tr><th scope=row>3</th><td>1</td><td>0</td><td>0</td></tr>\n",
       "\t<tr><th scope=row>4</th><td>1</td><td>0</td><td>0</td></tr>\n",
       "\t<tr><th scope=row>5</th><td>1</td><td>0</td><td>0</td></tr>\n",
       "\t<tr><th scope=row>6</th><td>1</td><td>0</td><td>0</td></tr>\n",
       "\t<tr><th scope=row>8</th><td>1</td><td>0</td><td>0</td></tr>\n",
       "\t<tr><th scope=row>9</th><td>1</td><td>0</td><td>0</td></tr>\n",
       "\t<tr><th scope=row>12</th><td>1</td><td>0</td><td>0</td></tr>\n",
       "\t<tr><th scope=row>13</th><td>1</td><td>0</td><td>0</td></tr>\n",
       "\t<tr><th scope=row>14</th><td>1</td><td>0</td><td>0</td></tr>\n",
       "\t<tr><th scope=row>16</th><td>1</td><td>0</td><td>0</td></tr>\n",
       "\t<tr><th scope=row>17</th><td>1</td><td>0</td><td>0</td></tr>\n",
       "\t<tr><th scope=row>18</th><td>1</td><td>0</td><td>0</td></tr>\n",
       "\t<tr><th scope=row>19</th><td>1</td><td>0</td><td>0</td></tr>\n",
       "\t<tr><th scope=row>21</th><td>1</td><td>0</td><td>0</td></tr>\n",
       "\t<tr><th scope=row>22</th><td>1</td><td>0</td><td>0</td></tr>\n",
       "\t<tr><th scope=row>23</th><td>1</td><td>0</td><td>0</td></tr>\n",
       "\t<tr><th scope=row>24</th><td>1</td><td>0</td><td>0</td></tr>\n",
       "\t<tr><th scope=row>25</th><td>1</td><td>0</td><td>0</td></tr>\n",
       "\t<tr><th scope=row>26</th><td>1</td><td>0</td><td>0</td></tr>\n",
       "\t<tr><th scope=row>27</th><td>1</td><td>0</td><td>0</td></tr>\n",
       "\t<tr><th scope=row>29</th><td>1</td><td>0</td><td>0</td></tr>\n",
       "\t<tr><th scope=row>30</th><td>1</td><td>0</td><td>0</td></tr>\n",
       "\t<tr><th scope=row>31</th><td>1</td><td>0</td><td>0</td></tr>\n",
       "\t<tr><th scope=row>32</th><td>1</td><td>0</td><td>0</td></tr>\n",
       "\t<tr><th scope=row>33</th><td>1</td><td>0</td><td>0</td></tr>\n",
       "\t<tr><th scope=row>34</th><td>1</td><td>0</td><td>0</td></tr>\n",
       "\t<tr><th scope=row>35</th><td>1</td><td>0</td><td>0</td></tr>\n",
       "\t<tr><th scope=row>36</th><td>1</td><td>0</td><td>0</td></tr>\n",
       "\t<tr><th scope=row>37</th><td>1</td><td>0</td><td>0</td></tr>\n",
       "\t<tr><th scope=row>...</th><td>...</td><td>...</td><td>...</td></tr>\n",
       "\t<tr><th scope=row>114</th><td>0         </td><td>0.02941176</td><td>0.9705882 </td></tr>\n",
       "\t<tr><th scope=row>115</th><td>0         </td><td>0.02941176</td><td>0.9705882 </td></tr>\n",
       "\t<tr><th scope=row>117</th><td>0         </td><td>0.02941176</td><td>0.9705882 </td></tr>\n",
       "\t<tr><th scope=row>118</th><td>0         </td><td>0.02941176</td><td>0.9705882 </td></tr>\n",
       "\t<tr><th scope=row>119</th><td>0         </td><td>0.02941176</td><td>0.9705882 </td></tr>\n",
       "\t<tr><th scope=row>120</th><td>0         </td><td>0.88095238</td><td>0.1190476 </td></tr>\n",
       "\t<tr><th scope=row>121</th><td>0         </td><td>0.02941176</td><td>0.9705882 </td></tr>\n",
       "\t<tr><th scope=row>122</th><td>0         </td><td>0.02941176</td><td>0.9705882 </td></tr>\n",
       "\t<tr><th scope=row>123</th><td>0         </td><td>0.02941176</td><td>0.9705882 </td></tr>\n",
       "\t<tr><th scope=row>124</th><td>0         </td><td>0.02941176</td><td>0.9705882 </td></tr>\n",
       "\t<tr><th scope=row>125</th><td>0         </td><td>0.02941176</td><td>0.9705882 </td></tr>\n",
       "\t<tr><th scope=row>126</th><td>0         </td><td>0.02941176</td><td>0.9705882 </td></tr>\n",
       "\t<tr><th scope=row>128</th><td>0         </td><td>0.02941176</td><td>0.9705882 </td></tr>\n",
       "\t<tr><th scope=row>130</th><td>0         </td><td>0.88095238</td><td>0.1190476 </td></tr>\n",
       "\t<tr><th scope=row>131</th><td>0         </td><td>0.02941176</td><td>0.9705882 </td></tr>\n",
       "\t<tr><th scope=row>132</th><td>0         </td><td>0.02941176</td><td>0.9705882 </td></tr>\n",
       "\t<tr><th scope=row>133</th><td>0         </td><td>0.02941176</td><td>0.9705882 </td></tr>\n",
       "\t<tr><th scope=row>134</th><td>0         </td><td>0.88095238</td><td>0.1190476 </td></tr>\n",
       "\t<tr><th scope=row>135</th><td>0         </td><td>0.88095238</td><td>0.1190476 </td></tr>\n",
       "\t<tr><th scope=row>138</th><td>0         </td><td>0.02941176</td><td>0.9705882 </td></tr>\n",
       "\t<tr><th scope=row>139</th><td>0         </td><td>0.02941176</td><td>0.9705882 </td></tr>\n",
       "\t<tr><th scope=row>140</th><td>0         </td><td>0.02941176</td><td>0.9705882 </td></tr>\n",
       "\t<tr><th scope=row>141</th><td>0         </td><td>0.02941176</td><td>0.9705882 </td></tr>\n",
       "\t<tr><th scope=row>142</th><td>0         </td><td>0.02941176</td><td>0.9705882 </td></tr>\n",
       "\t<tr><th scope=row>143</th><td>0         </td><td>0.02941176</td><td>0.9705882 </td></tr>\n",
       "\t<tr><th scope=row>144</th><td>0         </td><td>0.02941176</td><td>0.9705882 </td></tr>\n",
       "\t<tr><th scope=row>145</th><td>0         </td><td>0.02941176</td><td>0.9705882 </td></tr>\n",
       "\t<tr><th scope=row>146</th><td>0         </td><td>0.02941176</td><td>0.9705882 </td></tr>\n",
       "\t<tr><th scope=row>147</th><td>0         </td><td>0.02941176</td><td>0.9705882 </td></tr>\n",
       "\t<tr><th scope=row>149</th><td>0         </td><td>0.02941176</td><td>0.9705882 </td></tr>\n",
       "</tbody>\n",
       "</table>\n"
      ],
      "text/latex": [
       "\\begin{tabular}{r|lll}\n",
       "  & setosa & versicolor & virginica\\\\\n",
       "\\hline\n",
       "\t1 & 1 & 0 & 0\\\\\n",
       "\t3 & 1 & 0 & 0\\\\\n",
       "\t4 & 1 & 0 & 0\\\\\n",
       "\t5 & 1 & 0 & 0\\\\\n",
       "\t6 & 1 & 0 & 0\\\\\n",
       "\t8 & 1 & 0 & 0\\\\\n",
       "\t9 & 1 & 0 & 0\\\\\n",
       "\t12 & 1 & 0 & 0\\\\\n",
       "\t13 & 1 & 0 & 0\\\\\n",
       "\t14 & 1 & 0 & 0\\\\\n",
       "\t16 & 1 & 0 & 0\\\\\n",
       "\t17 & 1 & 0 & 0\\\\\n",
       "\t18 & 1 & 0 & 0\\\\\n",
       "\t19 & 1 & 0 & 0\\\\\n",
       "\t21 & 1 & 0 & 0\\\\\n",
       "\t22 & 1 & 0 & 0\\\\\n",
       "\t23 & 1 & 0 & 0\\\\\n",
       "\t24 & 1 & 0 & 0\\\\\n",
       "\t25 & 1 & 0 & 0\\\\\n",
       "\t26 & 1 & 0 & 0\\\\\n",
       "\t27 & 1 & 0 & 0\\\\\n",
       "\t29 & 1 & 0 & 0\\\\\n",
       "\t30 & 1 & 0 & 0\\\\\n",
       "\t31 & 1 & 0 & 0\\\\\n",
       "\t32 & 1 & 0 & 0\\\\\n",
       "\t33 & 1 & 0 & 0\\\\\n",
       "\t34 & 1 & 0 & 0\\\\\n",
       "\t35 & 1 & 0 & 0\\\\\n",
       "\t36 & 1 & 0 & 0\\\\\n",
       "\t37 & 1 & 0 & 0\\\\\n",
       "\t... & ... & ... & ...\\\\\n",
       "\t114 & 0          & 0.02941176 & 0.9705882 \\\\\n",
       "\t115 & 0          & 0.02941176 & 0.9705882 \\\\\n",
       "\t117 & 0          & 0.02941176 & 0.9705882 \\\\\n",
       "\t118 & 0          & 0.02941176 & 0.9705882 \\\\\n",
       "\t119 & 0          & 0.02941176 & 0.9705882 \\\\\n",
       "\t120 & 0          & 0.88095238 & 0.1190476 \\\\\n",
       "\t121 & 0          & 0.02941176 & 0.9705882 \\\\\n",
       "\t122 & 0          & 0.02941176 & 0.9705882 \\\\\n",
       "\t123 & 0          & 0.02941176 & 0.9705882 \\\\\n",
       "\t124 & 0          & 0.02941176 & 0.9705882 \\\\\n",
       "\t125 & 0          & 0.02941176 & 0.9705882 \\\\\n",
       "\t126 & 0          & 0.02941176 & 0.9705882 \\\\\n",
       "\t128 & 0          & 0.02941176 & 0.9705882 \\\\\n",
       "\t130 & 0          & 0.88095238 & 0.1190476 \\\\\n",
       "\t131 & 0          & 0.02941176 & 0.9705882 \\\\\n",
       "\t132 & 0          & 0.02941176 & 0.9705882 \\\\\n",
       "\t133 & 0          & 0.02941176 & 0.9705882 \\\\\n",
       "\t134 & 0          & 0.88095238 & 0.1190476 \\\\\n",
       "\t135 & 0          & 0.88095238 & 0.1190476 \\\\\n",
       "\t138 & 0          & 0.02941176 & 0.9705882 \\\\\n",
       "\t139 & 0          & 0.02941176 & 0.9705882 \\\\\n",
       "\t140 & 0          & 0.02941176 & 0.9705882 \\\\\n",
       "\t141 & 0          & 0.02941176 & 0.9705882 \\\\\n",
       "\t142 & 0          & 0.02941176 & 0.9705882 \\\\\n",
       "\t143 & 0          & 0.02941176 & 0.9705882 \\\\\n",
       "\t144 & 0          & 0.02941176 & 0.9705882 \\\\\n",
       "\t145 & 0          & 0.02941176 & 0.9705882 \\\\\n",
       "\t146 & 0          & 0.02941176 & 0.9705882 \\\\\n",
       "\t147 & 0          & 0.02941176 & 0.9705882 \\\\\n",
       "\t149 & 0          & 0.02941176 & 0.9705882 \\\\\n",
       "\\end{tabular}\n"
      ],
      "text/markdown": [
       "\n",
       "| <!--/--> | setosa | versicolor | virginica | \n",
       "|---|---|---|---|---|---|---|---|---|---|---|---|---|---|---|---|---|---|---|---|---|---|---|---|---|---|---|---|---|---|---|---|---|---|---|---|---|---|---|---|---|---|---|---|---|---|---|---|---|---|---|---|---|---|---|---|---|---|---|---|---|\n",
       "| 1 | 1 | 0 | 0 | \n",
       "| 3 | 1 | 0 | 0 | \n",
       "| 4 | 1 | 0 | 0 | \n",
       "| 5 | 1 | 0 | 0 | \n",
       "| 6 | 1 | 0 | 0 | \n",
       "| 8 | 1 | 0 | 0 | \n",
       "| 9 | 1 | 0 | 0 | \n",
       "| 12 | 1 | 0 | 0 | \n",
       "| 13 | 1 | 0 | 0 | \n",
       "| 14 | 1 | 0 | 0 | \n",
       "| 16 | 1 | 0 | 0 | \n",
       "| 17 | 1 | 0 | 0 | \n",
       "| 18 | 1 | 0 | 0 | \n",
       "| 19 | 1 | 0 | 0 | \n",
       "| 21 | 1 | 0 | 0 | \n",
       "| 22 | 1 | 0 | 0 | \n",
       "| 23 | 1 | 0 | 0 | \n",
       "| 24 | 1 | 0 | 0 | \n",
       "| 25 | 1 | 0 | 0 | \n",
       "| 26 | 1 | 0 | 0 | \n",
       "| 27 | 1 | 0 | 0 | \n",
       "| 29 | 1 | 0 | 0 | \n",
       "| 30 | 1 | 0 | 0 | \n",
       "| 31 | 1 | 0 | 0 | \n",
       "| 32 | 1 | 0 | 0 | \n",
       "| 33 | 1 | 0 | 0 | \n",
       "| 34 | 1 | 0 | 0 | \n",
       "| 35 | 1 | 0 | 0 | \n",
       "| 36 | 1 | 0 | 0 | \n",
       "| 37 | 1 | 0 | 0 | \n",
       "| ... | ... | ... | ... | \n",
       "| 114 | 0          | 0.02941176 | 0.9705882  | \n",
       "| 115 | 0          | 0.02941176 | 0.9705882  | \n",
       "| 117 | 0          | 0.02941176 | 0.9705882  | \n",
       "| 118 | 0          | 0.02941176 | 0.9705882  | \n",
       "| 119 | 0          | 0.02941176 | 0.9705882  | \n",
       "| 120 | 0          | 0.88095238 | 0.1190476  | \n",
       "| 121 | 0          | 0.02941176 | 0.9705882  | \n",
       "| 122 | 0          | 0.02941176 | 0.9705882  | \n",
       "| 123 | 0          | 0.02941176 | 0.9705882  | \n",
       "| 124 | 0          | 0.02941176 | 0.9705882  | \n",
       "| 125 | 0          | 0.02941176 | 0.9705882  | \n",
       "| 126 | 0          | 0.02941176 | 0.9705882  | \n",
       "| 128 | 0          | 0.02941176 | 0.9705882  | \n",
       "| 130 | 0          | 0.88095238 | 0.1190476  | \n",
       "| 131 | 0          | 0.02941176 | 0.9705882  | \n",
       "| 132 | 0          | 0.02941176 | 0.9705882  | \n",
       "| 133 | 0          | 0.02941176 | 0.9705882  | \n",
       "| 134 | 0          | 0.88095238 | 0.1190476  | \n",
       "| 135 | 0          | 0.88095238 | 0.1190476  | \n",
       "| 138 | 0          | 0.02941176 | 0.9705882  | \n",
       "| 139 | 0          | 0.02941176 | 0.9705882  | \n",
       "| 140 | 0          | 0.02941176 | 0.9705882  | \n",
       "| 141 | 0          | 0.02941176 | 0.9705882  | \n",
       "| 142 | 0          | 0.02941176 | 0.9705882  | \n",
       "| 143 | 0          | 0.02941176 | 0.9705882  | \n",
       "| 144 | 0          | 0.02941176 | 0.9705882  | \n",
       "| 145 | 0          | 0.02941176 | 0.9705882  | \n",
       "| 146 | 0          | 0.02941176 | 0.9705882  | \n",
       "| 147 | 0          | 0.02941176 | 0.9705882  | \n",
       "| 149 | 0          | 0.02941176 | 0.9705882  | \n",
       "\n",
       "\n"
      ],
      "text/plain": [
       "    setosa versicolor virginica\n",
       "1   1      0          0        \n",
       "3   1      0          0        \n",
       "4   1      0          0        \n",
       "5   1      0          0        \n",
       "6   1      0          0        \n",
       "8   1      0          0        \n",
       "9   1      0          0        \n",
       "12  1      0          0        \n",
       "13  1      0          0        \n",
       "14  1      0          0        \n",
       "16  1      0          0        \n",
       "17  1      0          0        \n",
       "18  1      0          0        \n",
       "19  1      0          0        \n",
       "21  1      0          0        \n",
       "22  1      0          0        \n",
       "23  1      0          0        \n",
       "24  1      0          0        \n",
       "25  1      0          0        \n",
       "26  1      0          0        \n",
       "27  1      0          0        \n",
       "29  1      0          0        \n",
       "30  1      0          0        \n",
       "31  1      0          0        \n",
       "32  1      0          0        \n",
       "33  1      0          0        \n",
       "34  1      0          0        \n",
       "35  1      0          0        \n",
       "36  1      0          0        \n",
       "37  1      0          0        \n",
       "... ...    ...        ...      \n",
       "114 0      0.02941176 0.9705882\n",
       "115 0      0.02941176 0.9705882\n",
       "117 0      0.02941176 0.9705882\n",
       "118 0      0.02941176 0.9705882\n",
       "119 0      0.02941176 0.9705882\n",
       "120 0      0.88095238 0.1190476\n",
       "121 0      0.02941176 0.9705882\n",
       "122 0      0.02941176 0.9705882\n",
       "123 0      0.02941176 0.9705882\n",
       "124 0      0.02941176 0.9705882\n",
       "125 0      0.02941176 0.9705882\n",
       "126 0      0.02941176 0.9705882\n",
       "128 0      0.02941176 0.9705882\n",
       "130 0      0.88095238 0.1190476\n",
       "131 0      0.02941176 0.9705882\n",
       "132 0      0.02941176 0.9705882\n",
       "133 0      0.02941176 0.9705882\n",
       "134 0      0.88095238 0.1190476\n",
       "135 0      0.88095238 0.1190476\n",
       "138 0      0.02941176 0.9705882\n",
       "139 0      0.02941176 0.9705882\n",
       "140 0      0.02941176 0.9705882\n",
       "141 0      0.02941176 0.9705882\n",
       "142 0      0.02941176 0.9705882\n",
       "143 0      0.02941176 0.9705882\n",
       "144 0      0.02941176 0.9705882\n",
       "145 0      0.02941176 0.9705882\n",
       "146 0      0.02941176 0.9705882\n",
       "147 0      0.02941176 0.9705882\n",
       "149 0      0.02941176 0.9705882"
      ]
     },
     "metadata": {},
     "output_type": "display_data"
    },
    {
     "data": {
      "text/plain": [
       "            Actual\n",
       "Predicted    setosa versicolor virginica\n",
       "  setosa         42          0         0\n",
       "  versicolor      0         37         5\n",
       "  virginica       0          1        33"
      ]
     },
     "metadata": {},
     "output_type": "display_data"
    },
    {
     "data": {
      "text/html": [
       "0.0508474576271186"
      ],
      "text/latex": [
       "0.0508474576271186"
      ],
      "text/markdown": [
       "0.0508474576271186"
      ],
      "text/plain": [
       "[1] 0.05084746"
      ]
     },
     "metadata": {},
     "output_type": "display_data"
    },
    {
     "data": {
      "text/plain": [
       "            Actual\n",
       "Predicted    setosa versicolor virginica\n",
       "  setosa          8          0         0\n",
       "  versicolor      0         12         0\n",
       "  virginica       0          0        12"
      ]
     },
     "metadata": {},
     "output_type": "display_data"
    },
    {
     "data": {
      "text/html": [
       "0"
      ],
      "text/latex": [
       "0"
      ],
      "text/markdown": [
       "0"
      ],
      "text/plain": [
       "[1] 0"
      ]
     },
     "metadata": {},
     "output_type": "display_data"
    },
    {
     "data": {
      "image/png": "[encoded data removed]",
      "text/plain": [
       "plot without title"
      ]
     },
     "metadata": {},
     "output_type": "display_data"
    }
   ],
   "source": [
    "# library(party)\n",
    "# library(partykit)\n",
    "\n",
    "# Iris data\n",
    "data(\"iris\")\n",
    "str(iris)\n",
    "summary(iris)\n",
    "\n",
    "# Data partition\n",
    "set.seed(555)\n",
    "ind <- sample(2, \n",
    "              nrow(iris),\n",
    "              replace = TRUE,\n",
    "              prob = c(0.8, 0.2))\n",
    "train <- iris[ind==1, ]\n",
    "test <- iris[ind==2, ]\n",
    "\n",
    "# Decision tree model\n",
    "tree <- partykit::ctree(Species~., \n",
    "              train,\n",
    "              control = ctree_control(mincriterion = .9999, minsplit =20 ))\n",
    "\n",
    "print(tree)\n",
    "\n",
    "# Visualization of decision trees\n",
    "plot(tree)\n",
    "plot(tree, type = 'simple')\n",
    "\n",
    "# Prediction\n",
    "predict(tree, train, type = 'prob')\n",
    "\n",
    "# Misclassification error - train data\n",
    "p1 <- predict(tree, train)\n",
    "tab1 <- table(Predicted = p1, Actual = train$Species)\n",
    "tab1\n",
    "1 - sum(diag(tab1))/sum(tab1)\n",
    "\n",
    "# Misclassification error - test data\n",
    "p2 <- predict(tree, test)\n",
    "tab2 <- table(Predicted = p2, Actual = test$Species)\n",
    "tab2\n",
    "1 - sum(diag(tab2))/sum(tab2)"
   ]
  },
  {
   "cell_type": "markdown",
   "metadata": {
    "slideshow": {
     "slide_type": "slide"
    }
   },
   "source": [
    "## Support Vector Machines"
   ]
  },
  {
   "cell_type": "markdown",
   "metadata": {
    "slideshow": {
     "slide_type": "subslide"
    }
   },
   "source": [
    "* finding the optimal hyperplane in various dimentions\n",
    "* Goal is to maximizes the margin between two classes\n",
    "* Support Vectors are observations that supports hyperplane on either sides"
   ]
  },
  {
   "cell_type": "markdown",
   "metadata": {
    "slideshow": {
     "slide_type": "subslide"
    }
   },
   "source": [
    "![Imgur](https://i.imgur.com/hG4obI0.jpg)"
   ]
  },
  {
   "cell_type": "code",
   "execution_count": 133,
   "metadata": {
    "slideshow": {
     "slide_type": "subslide"
    }
   },
   "outputs": [
    {
     "data": {
      "image/png": "[encoded data removed]",
      "text/plain": [
       "plot without title"
      ]
     },
     "metadata": {},
     "output_type": "display_data"
    }
   ],
   "source": [
    "plot(iris)"
   ]
  },
  {
   "cell_type": "markdown",
   "metadata": {
    "slideshow": {
     "slide_type": "slide"
    }
   },
   "source": [
    "### feature importance"
   ]
  },
  {
   "cell_type": "code",
   "execution_count": 134,
   "metadata": {
    "slideshow": {
     "slide_type": "subslide"
    }
   },
   "outputs": [
    {
     "data": {
      "image/png": "[encoded data removed]",
      "text/plain": [
       "plot without title"
      ]
     },
     "metadata": {},
     "output_type": "display_data"
    },
    {
     "data": {
      "image/png": "[encoded data removed]",
      "text/plain": [
       "plot without title"
      ]
     },
     "metadata": {},
     "output_type": "display_data"
    }
   ],
   "source": [
    "plot(iris$Sepal.Length, iris$Sepal.Width, col=iris$Species)\n",
    "plot(iris$Petal.Length, iris$Petal.Width, col=iris$Species)"
   ]
  },
  {
   "cell_type": "markdown",
   "metadata": {
    "slideshow": {
     "slide_type": "slide"
    }
   },
   "source": [
    "### Split Data"
   ]
  },
  {
   "cell_type": "code",
   "execution_count": 135,
   "metadata": {
    "slideshow": {
     "slide_type": "fragment"
    }
   },
   "outputs": [],
   "source": [
    "s <- sample(150, 100)\n",
    "col <- c('Petal.Length','Petal.Width','Species')\n",
    "iris_train <- iris[s,col]\n",
    "iris_test <- iris[-s,col]"
   ]
  },
  {
   "cell_type": "markdown",
   "metadata": {
    "slideshow": {
     "slide_type": "fragment"
    }
   },
   "source": [
    "### Build Model"
   ]
  },
  {
   "cell_type": "code",
   "execution_count": 136,
   "metadata": {
    "slideshow": {
     "slide_type": "subslide"
    }
   },
   "outputs": [
    {
     "name": "stdout",
     "output_type": "stream",
     "text": [
      "\n",
      "Call:\n",
      "svm(formula = Species ~ ., data = iris_train, kernel = \"linear\", \n",
      "    cost = 0.1, scale = FALSE)\n",
      "\n",
      "\n",
      "Parameters:\n",
      "   SVM-Type:  C-classification \n",
      " SVM-Kernel:  linear \n",
      "       cost:  0.1 \n",
      "      gamma:  0.5 \n",
      "\n",
      "Number of Support Vectors:  46\n",
      "\n"
     ]
    },
    {
     "data": {
      "image/png": "[encoded data removed]",
      "text/plain": [
       "Plot with title \"SVM classification plot\""
      ]
     },
     "metadata": {},
     "output_type": "display_data"
    }
   ],
   "source": [
    "svmfit <- svm(Species ~ ., data = iris_train, kernel=\"linear\", cost=.1, scale = FALSE)\n",
    "print(svmfit)\n",
    "plot(svmfit, iris_train[, col])"
   ]
  },
  {
   "cell_type": "markdown",
   "metadata": {
    "slideshow": {
     "slide_type": "slide"
    }
   },
   "source": [
    "### Parameter Tuning "
   ]
  },
  {
   "cell_type": "code",
   "execution_count": 137,
   "metadata": {
    "slideshow": {
     "slide_type": "subslide"
    }
   },
   "outputs": [
    {
     "data": {
      "text/plain": [
       "\n",
       "Parameter tuning of 'svm':\n",
       "\n",
       "- sampling method: 10-fold cross validation \n",
       "\n",
       "- best parameters:\n",
       " cost\n",
       "  0.1\n",
       "\n",
       "- best performance: 0.04 \n",
       "\n",
       "- Detailed performance results:\n",
       "     cost error dispersion\n",
       "1   0.001  0.74 0.06992059\n",
       "2   0.010  0.42 0.11352924\n",
       "3   0.100  0.04 0.05163978\n",
       "4   1.100  0.04 0.05163978\n",
       "5 100.000  0.04 0.05163978\n"
      ]
     },
     "metadata": {},
     "output_type": "display_data"
    }
   ],
   "source": [
    "tuned <- tune(svm, Species ~ ., data = iris_train, kernel = \"linear\", ranges = list(cost = c(0.001, \n",
    "    0.01, 0.1, 1.1, 100)))  # best cast parameter cross validation\n",
    "summary(tuned)"
   ]
  },
  {
   "cell_type": "markdown",
   "metadata": {
    "slideshow": {
     "slide_type": "subslide"
    }
   },
   "source": [
    "### Evaluation"
   ]
  },
  {
   "cell_type": "code",
   "execution_count": 138,
   "metadata": {
    "scrolled": true,
    "slideshow": {
     "slide_type": "subslide"
    }
   },
   "outputs": [
    {
     "data": {
      "text/plain": [
       "            \n",
       "p            setosa versicolor virginica\n",
       "  setosa         18          0         0\n",
       "  versicolor      0         15         1\n",
       "  virginica       0          2        14"
      ]
     },
     "metadata": {},
     "output_type": "display_data"
    },
    {
     "data": {
      "text/html": [
       "0.94"
      ],
      "text/latex": [
       "0.94"
      ],
      "text/markdown": [
       "0.94"
      ],
      "text/plain": [
       "[1] 0.94"
      ]
     },
     "metadata": {},
     "output_type": "display_data"
    },
    {
     "data": {
      "image/png": "[encoded data removed]",
      "text/plain": [
       "plot without title"
      ]
     },
     "metadata": {},
     "output_type": "display_data"
    }
   ],
   "source": [
    "p <- predict(svmfit, iris_test[,col], type='class')\n",
    "plot(p)\n",
    "table(p, iris_test[,3])\n",
    "mean(p==iris_test[,3])"
   ]
  },
  {
   "cell_type": "markdown",
   "metadata": {
    "slideshow": {
     "slide_type": "slide"
    }
   },
   "source": [
    "## K-Nearest Neighbour"
   ]
  },
  {
   "cell_type": "markdown",
   "metadata": {
    "slideshow": {
     "slide_type": "subslide"
    }
   },
   "source": [
    "* k-Nearest Neighbors identifies the k number of observations that are most proximate to the test sample\n",
    "* its defined by Euclidean distance metric \n",
    "* KNN classifier is also a non parametric and instance-based learning algorithm"
   ]
  },
  {
   "cell_type": "markdown",
   "metadata": {
    "slideshow": {
     "slide_type": "subslide"
    }
   },
   "source": [
    "![Imgur](https://i.imgur.com/zbffHKV.png)"
   ]
  },
  {
   "cell_type": "markdown",
   "metadata": {
    "slideshow": {
     "slide_type": "fragment"
    }
   },
   "source": [
    "### dataset\n",
    "http://archive.ics.uci.edu/ml/datasets/Wine  "
   ]
  },
  {
   "cell_type": "code",
   "execution_count": 139,
   "metadata": {
    "slideshow": {
     "slide_type": "subslide"
    }
   },
   "outputs": [],
   "source": [
    "\n",
    "#library(caret)\n",
    "\n",
    "# import data from UCI Machine Learning website\n",
    "url <- \"https://archive.ics.uci.edu/ml/machine-learning-databases/wine/wine.data\"\n",
    "download.file(url = url, destfile = \"wine.data\")\n",
    "df <- read.csv(\"wine.data\", header = FALSE)    "
   ]
  },
  {
   "cell_type": "markdown",
   "metadata": {
    "slideshow": {
     "slide_type": "subslide"
    }
   },
   "source": [
    "### check the structure of data frame"
   ]
  },
  {
   "cell_type": "code",
   "execution_count": 140,
   "metadata": {
    "slideshow": {
     "slide_type": "subslide"
    }
   },
   "outputs": [
    {
     "name": "stdout",
     "output_type": "stream",
     "text": [
      "'data.frame':\t178 obs. of  14 variables:\n",
      " $ V1 : int  1 1 1 1 1 1 1 1 1 1 ...\n",
      " $ V2 : num  14.2 13.2 13.2 14.4 13.2 ...\n",
      " $ V3 : num  1.71 1.78 2.36 1.95 2.59 1.76 1.87 2.15 1.64 1.35 ...\n",
      " $ V4 : num  2.43 2.14 2.67 2.5 2.87 2.45 2.45 2.61 2.17 2.27 ...\n",
      " $ V5 : num  15.6 11.2 18.6 16.8 21 15.2 14.6 17.6 14 16 ...\n",
      " $ V6 : int  127 100 101 113 118 112 96 121 97 98 ...\n",
      " $ V7 : num  2.8 2.65 2.8 3.85 2.8 3.27 2.5 2.6 2.8 2.98 ...\n",
      " $ V8 : num  3.06 2.76 3.24 3.49 2.69 3.39 2.52 2.51 2.98 3.15 ...\n",
      " $ V9 : num  0.28 0.26 0.3 0.24 0.39 0.34 0.3 0.31 0.29 0.22 ...\n",
      " $ V10: num  2.29 1.28 2.81 2.18 1.82 1.97 1.98 1.25 1.98 1.85 ...\n",
      " $ V11: num  5.64 4.38 5.68 7.8 4.32 6.75 5.25 5.05 5.2 7.22 ...\n",
      " $ V12: num  1.04 1.05 1.03 0.86 1.04 1.05 1.02 1.06 1.08 1.01 ...\n",
      " $ V13: num  3.92 3.4 3.17 3.45 2.93 2.85 3.58 3.58 2.85 3.55 ...\n",
      " $ V14: int  1065 1050 1185 1480 735 1450 1290 1295 1045 1045 ...\n"
     ]
    }
   ],
   "source": [
    "str(df) "
   ]
  },
  {
   "cell_type": "markdown",
   "metadata": {
    "slideshow": {
     "slide_type": "slide"
    }
   },
   "source": [
    "### split the datasets into training and test dataset"
   ]
  },
  {
   "cell_type": "code",
   "execution_count": 141,
   "metadata": {
    "slideshow": {
     "slide_type": "subslide"
    }
   },
   "outputs": [],
   "source": [
    "set.seed(3033)\n",
    "intrain <- createDataPartition(y = df$V1, p= 0.7, list = FALSE)\n",
    "training <- df[intrain,]\n",
    "testing <- df[-intrain,]"
   ]
  },
  {
   "cell_type": "markdown",
   "metadata": {
    "slideshow": {
     "slide_type": "fragment"
    }
   },
   "source": [
    "### missing values "
   ]
  },
  {
   "cell_type": "code",
   "execution_count": 142,
   "metadata": {
    "slideshow": {
     "slide_type": "subslide"
    }
   },
   "outputs": [
    {
     "data": {
      "text/html": [
       "FALSE"
      ],
      "text/latex": [
       "FALSE"
      ],
      "text/markdown": [
       "FALSE"
      ],
      "text/plain": [
       "[1] FALSE"
      ]
     },
     "metadata": {},
     "output_type": "display_data"
    },
    {
     "data": {
      "text/plain": [
       "       V1              V2              V3              V4       \n",
       " Min.   :1.000   Min.   :11.03   Min.   :0.740   Min.   :1.360  \n",
       " 1st Qu.:1.000   1st Qu.:12.36   1st Qu.:1.603   1st Qu.:2.210  \n",
       " Median :2.000   Median :13.05   Median :1.865   Median :2.360  \n",
       " Mean   :1.938   Mean   :13.00   Mean   :2.336   Mean   :2.367  \n",
       " 3rd Qu.:3.000   3rd Qu.:13.68   3rd Qu.:3.083   3rd Qu.:2.558  \n",
       " Max.   :3.000   Max.   :14.83   Max.   :5.800   Max.   :3.230  \n",
       "       V5              V6               V7              V8       \n",
       " Min.   :10.60   Min.   : 70.00   Min.   :0.980   Min.   :0.340  \n",
       " 1st Qu.:17.20   1st Qu.: 88.00   1st Qu.:1.742   1st Qu.:1.205  \n",
       " Median :19.50   Median : 98.00   Median :2.355   Median :2.135  \n",
       " Mean   :19.49   Mean   : 99.74   Mean   :2.295   Mean   :2.029  \n",
       " 3rd Qu.:21.50   3rd Qu.:107.00   3rd Qu.:2.800   3rd Qu.:2.875  \n",
       " Max.   :30.00   Max.   :162.00   Max.   :3.880   Max.   :5.080  \n",
       "       V9              V10             V11              V12        \n",
       " Min.   :0.1300   Min.   :0.410   Min.   : 1.280   Min.   :0.4800  \n",
       " 1st Qu.:0.2700   1st Qu.:1.250   1st Qu.: 3.220   1st Qu.:0.7825  \n",
       " Median :0.3400   Median :1.555   Median : 4.690   Median :0.9650  \n",
       " Mean   :0.3619   Mean   :1.591   Mean   : 5.058   Mean   :0.9574  \n",
       " 3rd Qu.:0.4375   3rd Qu.:1.950   3rd Qu.: 6.200   3rd Qu.:1.1200  \n",
       " Max.   :0.6600   Max.   :3.580   Max.   :13.000   Max.   :1.7100  \n",
       "      V13             V14        \n",
       " Min.   :1.270   Min.   : 278.0  \n",
       " 1st Qu.:1.938   1st Qu.: 500.5  \n",
       " Median :2.780   Median : 673.5  \n",
       " Mean   :2.612   Mean   : 746.9  \n",
       " 3rd Qu.:3.170   3rd Qu.: 985.0  \n",
       " Max.   :4.000   Max.   :1680.0  "
      ]
     },
     "metadata": {},
     "output_type": "display_data"
    }
   ],
   "source": [
    "anyNA(df);summary(df) \n",
    "training[[\"V1\"]] = factor(training[[\"V1\"]]) # V1 integer variable to factor variable"
   ]
  },
  {
   "cell_type": "markdown",
   "metadata": {
    "slideshow": {
     "slide_type": "slide"
    }
   },
   "source": [
    "### Training & Preprocessing "
   ]
  },
  {
   "cell_type": "code",
   "execution_count": 143,
   "metadata": {
    "slideshow": {
     "slide_type": "subslide"
    }
   },
   "outputs": [
    {
     "data": {
      "text/plain": [
       "k-Nearest Neighbors \n",
       "\n",
       "125 samples\n",
       " 13 predictor\n",
       "  3 classes: '1', '2', '3' \n",
       "\n",
       "Pre-processing: centered (13), scaled (13) \n",
       "Resampling: Cross-Validated (10 fold, repeated 3 times) \n",
       "Summary of sample sizes: 113, 114, 111, 113, 112, 112, ... \n",
       "Resampling results across tuning parameters:\n",
       "\n",
       "  k   Accuracy   Kappa    \n",
       "   5  0.9627511  0.9436722\n",
       "   7  0.9435204  0.9148116\n",
       "   9  0.9490759  0.9230590\n",
       "  11  0.9495421  0.9237385\n",
       "  13  0.9465507  0.9194040\n",
       "  15  0.9521062  0.9276424\n",
       "  17  0.9548840  0.9318090\n",
       "  19  0.9493284  0.9233699\n",
       "  21  0.9574481  0.9356161\n",
       "  23  0.9490759  0.9231172\n",
       "\n",
       "Accuracy was used to select the optimal model using the largest value.\n",
       "The final value used for the model was k = 5."
      ]
     },
     "metadata": {},
     "output_type": "display_data"
    }
   ],
   "source": [
    "trctrl <- trainControl(method = \"repeatedcv\", number = 10, repeats = 3)\n",
    "set.seed(3333)\n",
    "knn_fit <- train(V1 ~., data = training, method = \"knn\",\n",
    " trControl=trctrl,\n",
    " preProcess = c(\"center\", \"scale\"),\n",
    " tuneLength = 10)\n",
    " \n",
    "knn_fit "
   ]
  },
  {
   "cell_type": "markdown",
   "metadata": {
    "slideshow": {
     "slide_type": "subslide"
    }
   },
   "source": [
    "### plot accuracy vs K Value graph "
   ]
  },
  {
   "cell_type": "code",
   "execution_count": 144,
   "metadata": {
    "slideshow": {
     "slide_type": "subslide"
    }
   },
   "outputs": [
    {
     "data": {},
     "metadata": {},
     "output_type": "display_data"
    },
    {
     "data": {
      "image/png": "[encoded data removed]",
      "text/plain": [
       "plot without title"
      ]
     },
     "metadata": {},
     "output_type": "display_data"
    }
   ],
   "source": [
    "plot(knn_fit)"
   ]
  },
  {
   "cell_type": "markdown",
   "metadata": {
    "slideshow": {
     "slide_type": "slide"
    }
   },
   "source": [
    "### predict classes for test set using knn classifier"
   ]
  },
  {
   "cell_type": "code",
   "execution_count": 145,
   "metadata": {
    "slideshow": {
     "slide_type": "subslide"
    }
   },
   "outputs": [
    {
     "data": {
      "text/html": [
       "<ol class=list-inline>\n",
       "\t<li>1</li>\n",
       "\t<li>1</li>\n",
       "\t<li>1</li>\n",
       "\t<li>1</li>\n",
       "\t<li>1</li>\n",
       "\t<li>1</li>\n",
       "\t<li>1</li>\n",
       "\t<li>1</li>\n",
       "\t<li>1</li>\n",
       "\t<li>1</li>\n",
       "\t<li>1</li>\n",
       "\t<li>1</li>\n",
       "\t<li>1</li>\n",
       "\t<li>1</li>\n",
       "\t<li>1</li>\n",
       "\t<li>2</li>\n",
       "\t<li>2</li>\n",
       "\t<li>2</li>\n",
       "\t<li>2</li>\n",
       "\t<li>2</li>\n",
       "\t<li>2</li>\n",
       "\t<li>2</li>\n",
       "\t<li>2</li>\n",
       "\t<li>2</li>\n",
       "\t<li>2</li>\n",
       "\t<li>2</li>\n",
       "\t<li>2</li>\n",
       "\t<li>2</li>\n",
       "\t<li>2</li>\n",
       "\t<li>2</li>\n",
       "\t<li>2</li>\n",
       "\t<li>2</li>\n",
       "\t<li>2</li>\n",
       "\t<li>2</li>\n",
       "\t<li>2</li>\n",
       "\t<li>2</li>\n",
       "\t<li>2</li>\n",
       "\t<li>2</li>\n",
       "\t<li>2</li>\n",
       "\t<li>3</li>\n",
       "\t<li>3</li>\n",
       "\t<li>3</li>\n",
       "\t<li>3</li>\n",
       "\t<li>3</li>\n",
       "\t<li>3</li>\n",
       "\t<li>3</li>\n",
       "\t<li>3</li>\n",
       "\t<li>3</li>\n",
       "\t<li>3</li>\n",
       "\t<li>3</li>\n",
       "\t<li>3</li>\n",
       "\t<li>3</li>\n",
       "\t<li>3</li>\n",
       "</ol>\n"
      ],
      "text/latex": [
       "\\begin{enumerate*}\n",
       "\\item 1\n",
       "\\item 1\n",
       "\\item 1\n",
       "\\item 1\n",
       "\\item 1\n",
       "\\item 1\n",
       "\\item 1\n",
       "\\item 1\n",
       "\\item 1\n",
       "\\item 1\n",
       "\\item 1\n",
       "\\item 1\n",
       "\\item 1\n",
       "\\item 1\n",
       "\\item 1\n",
       "\\item 2\n",
       "\\item 2\n",
       "\\item 2\n",
       "\\item 2\n",
       "\\item 2\n",
       "\\item 2\n",
       "\\item 2\n",
       "\\item 2\n",
       "\\item 2\n",
       "\\item 2\n",
       "\\item 2\n",
       "\\item 2\n",
       "\\item 2\n",
       "\\item 2\n",
       "\\item 2\n",
       "\\item 2\n",
       "\\item 2\n",
       "\\item 2\n",
       "\\item 2\n",
       "\\item 2\n",
       "\\item 2\n",
       "\\item 2\n",
       "\\item 2\n",
       "\\item 2\n",
       "\\item 3\n",
       "\\item 3\n",
       "\\item 3\n",
       "\\item 3\n",
       "\\item 3\n",
       "\\item 3\n",
       "\\item 3\n",
       "\\item 3\n",
       "\\item 3\n",
       "\\item 3\n",
       "\\item 3\n",
       "\\item 3\n",
       "\\item 3\n",
       "\\item 3\n",
       "\\end{enumerate*}\n"
      ],
      "text/markdown": [
       "1. 1\n",
       "2. 1\n",
       "3. 1\n",
       "4. 1\n",
       "5. 1\n",
       "6. 1\n",
       "7. 1\n",
       "8. 1\n",
       "9. 1\n",
       "10. 1\n",
       "11. 1\n",
       "12. 1\n",
       "13. 1\n",
       "14. 1\n",
       "15. 1\n",
       "16. 2\n",
       "17. 2\n",
       "18. 2\n",
       "19. 2\n",
       "20. 2\n",
       "21. 2\n",
       "22. 2\n",
       "23. 2\n",
       "24. 2\n",
       "25. 2\n",
       "26. 2\n",
       "27. 2\n",
       "28. 2\n",
       "29. 2\n",
       "30. 2\n",
       "31. 2\n",
       "32. 2\n",
       "33. 2\n",
       "34. 2\n",
       "35. 2\n",
       "36. 2\n",
       "37. 2\n",
       "38. 2\n",
       "39. 2\n",
       "40. 3\n",
       "41. 3\n",
       "42. 3\n",
       "43. 3\n",
       "44. 3\n",
       "45. 3\n",
       "46. 3\n",
       "47. 3\n",
       "48. 3\n",
       "49. 3\n",
       "50. 3\n",
       "51. 3\n",
       "52. 3\n",
       "53. 3\n",
       "\n",
       "\n"
      ],
      "text/plain": [
       " [1] 1 1 1 1 1 1 1 1 1 1 1 1 1 1 1 2 2 2 2 2 2 2 2 2 2 2 2 2 2 2 2 2 2 2 2 2 2 2\n",
       "[39] 2 3 3 3 3 3 3 3 3 3 3 3 3 3 3\n",
       "Levels: 1 2 3"
      ]
     },
     "metadata": {},
     "output_type": "display_data"
    }
   ],
   "source": [
    "test_pred <- predict(knn_fit, newdata = testing)\n",
    "test_pred"
   ]
  },
  {
   "cell_type": "markdown",
   "metadata": {
    "slideshow": {
     "slide_type": "fragment"
    }
   },
   "source": [
    "### Test set Statistics using confusion matrix "
   ]
  },
  {
   "cell_type": "code",
   "execution_count": 146,
   "metadata": {
    "slideshow": {
     "slide_type": "fragment"
    }
   },
   "outputs": [
    {
     "data": {
      "text/plain": [
       "Confusion Matrix and Statistics\n",
       "\n",
       "          Reference\n",
       "Prediction  1  2  3\n",
       "         1 15  0  0\n",
       "         2  0 24  0\n",
       "         3  0  0 14\n",
       "\n",
       "Overall Statistics\n",
       "                                     \n",
       "               Accuracy : 1          \n",
       "                 95% CI : (0.9328, 1)\n",
       "    No Information Rate : 0.4528     \n",
       "    P-Value [Acc > NIR] : < 2.2e-16  \n",
       "                                     \n",
       "                  Kappa : 1          \n",
       " Mcnemar's Test P-Value : NA         \n",
       "\n",
       "Statistics by Class:\n",
       "\n",
       "                     Class: 1 Class: 2 Class: 3\n",
       "Sensitivity             1.000   1.0000   1.0000\n",
       "Specificity             1.000   1.0000   1.0000\n",
       "Pos Pred Value          1.000   1.0000   1.0000\n",
       "Neg Pred Value          1.000   1.0000   1.0000\n",
       "Prevalence              0.283   0.4528   0.2642\n",
       "Detection Rate          0.283   0.4528   0.2642\n",
       "Detection Prevalence    0.283   0.4528   0.2642\n",
       "Balanced Accuracy       1.000   1.0000   1.0000"
      ]
     },
     "metadata": {},
     "output_type": "display_data"
    }
   ],
   "source": [
    "confusionMatrix(test_pred, testing$V1 )  "
   ]
  },
  {
   "cell_type": "markdown",
   "metadata": {
    "slideshow": {
     "slide_type": "subslide"
    }
   },
   "source": [
    "<font color='red'>*Further Reference:*</font>    \n",
    "https://www.datacamp.com/community/tutorials/machine-learning-in-r"
   ]
  },
  {
   "cell_type": "markdown",
   "metadata": {
    "slideshow": {
     "slide_type": "slide"
    }
   },
   "source": [
    "## Random Forest"
   ]
  },
  {
   "cell_type": "markdown",
   "metadata": {
    "slideshow": {
     "slide_type": "slide"
    }
   },
   "source": [
    "* large number of decision trees from randomized subsets of variables and observations from the input data.\n",
    "* to achieve better accuracy compare to decision trees\n",
    "* `cforest()` function can be used from `party` package\n",
    "* `cForest()` improves the prediction accuracy compared to cTree(), however, it does not have the visualization capabilities that `cTree()`.\n"
   ]
  },
  {
   "cell_type": "code",
   "execution_count": 23,
   "metadata": {
    "slideshow": {
     "slide_type": "slide"
    }
   },
   "outputs": [],
   "source": [
    "#install.packages(\"ipred\", repos='http://cran.us.r-project.org', lib=\"/home/nbuser/R\")"
   ]
  },
  {
   "cell_type": "code",
   "execution_count": 24,
   "metadata": {},
   "outputs": [],
   "source": [
    "library (ipred)\n",
    "library (party)\n",
    "data (\"GlaucomaMVF\", package = \"ipred\")"
   ]
  },
  {
   "cell_type": "code",
   "execution_count": 25,
   "metadata": {
    "slideshow": {
     "slide_type": "slide"
    }
   },
   "outputs": [],
   "source": [
    "inputData <- GlaucomaMVF \n",
    "\n",
    "set.seed (100)\n",
    "\n",
    "train <- sample(1:nrow(inputData), 0.7*nrow(inputData))  # random sample\n",
    "\n",
    "trainData <- inputData[train,]  # training data\n",
    "\n",
    "testData <- inputData[-train,]  # test data"
   ]
  },
  {
   "cell_type": "markdown",
   "metadata": {
    "slideshow": {
     "slide_type": "subslide"
    }
   },
   "source": [
    "### Predict using `ctree()` function"
   ]
  },
  {
   "cell_type": "code",
   "execution_count": 30,
   "metadata": {
    "slideshow": {
     "slide_type": "subslide"
    }
   },
   "outputs": [
    {
     "data": {
      "text/plain": [
       "          pred\n",
       "true       glaucoma normal\n",
       "  glaucoma       21      4\n",
       "  normal          8     19"
      ]
     },
     "metadata": {},
     "output_type": "display_data"
    },
    {
     "data": {
      "text/html": [
       "0.230769230769231"
      ],
      "text/latex": [
       "0.230769230769231"
      ],
      "text/markdown": [
       "0.230769230769231"
      ],
      "text/plain": [
       "[1] 0.2307692"
      ]
     },
     "metadata": {},
     "output_type": "display_data"
    }
   ],
   "source": [
    "cTreeMod <- ctree (Class ~ ., data = trainData)  # fit cTree with 'Class' as dependent\n",
    "\n",
    "actuals <- testData$Class # actuals\n",
    "\n",
    "predicted <- predict(cTreeMod, newdata = testData) # predicted\n",
    "\n",
    "table(true = actuals, pred = predicted) # confusion matrix\n",
    "\n",
    "mean (testData$Class != predicted) # Misclassification Error %"
   ]
  },
  {
   "cell_type": "markdown",
   "metadata": {
    "slideshow": {
     "slide_type": "subslide"
    }
   },
   "source": [
    "### Predict using `cForest()` function"
   ]
  },
  {
   "cell_type": "code",
   "execution_count": 31,
   "metadata": {},
   "outputs": [
    {
     "data": {
      "text/plain": [
       "          pred\n",
       "true       glaucoma normal\n",
       "  glaucoma       22      3\n",
       "  normal          2     25"
      ]
     },
     "metadata": {},
     "output_type": "display_data"
    },
    {
     "data": {
      "text/html": [
       "0.0961538461538462"
      ],
      "text/latex": [
       "0.0961538461538462"
      ],
      "text/markdown": [
       "0.0961538461538462"
      ],
      "text/plain": [
       "[1] 0.09615385"
      ]
     },
     "metadata": {},
     "output_type": "display_data"
    }
   ],
   "source": [
    "cForestMod <- cforest(Class ~ ., data = trainData)  # random Forest model\n",
    "\n",
    "actuals <- testData$Class # actuals\n",
    "\n",
    "predicted <- predict(cForestMod, newdata = testData) # predicted\n",
    "\n",
    "table (true = actuals, pred = predict(cForestMod, newdata = testData))\n",
    "\n",
    "mean (testData$Class != predicted) # Misclassification Error %"
   ]
  },
  {
   "cell_type": "code",
   "execution_count": null,
   "metadata": {},
   "outputs": [],
   "source": []
  }
 ],
 "metadata": {
  "celltoolbar": "Slideshow",
  "kernelspec": {
   "display_name": "R",
   "language": "R",
   "name": "ir"
  },
  "language_info": {
   "codemirror_mode": "r",
   "file_extension": ".r",
   "mimetype": "text/x-r-source",
   "name": "R",
   "pygments_lexer": "r",
   "version": "3.4.3"
  },
  "toc": {
   "base_numbering": 1,
   "nav_menu": {},
   "number_sections": false,
   "sideBar": true,
   "skip_h1_title": true,
   "title_cell": "Table of Contents",
   "title_sidebar": "Contents",
   "toc_cell": true,
   "toc_position": {},
   "toc_section_display": true,
   "toc_window_display": true
  }
 },
 "nbformat": 4,
 "nbformat_minor": 2
}
