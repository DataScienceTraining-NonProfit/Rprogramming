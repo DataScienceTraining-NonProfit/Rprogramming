{
 "cells": [
  {
   "cell_type": "code",
   "execution_count": null,
   "metadata": {},
   "outputs": [],
   "source": [
    "what(specific/objective)? is machine learning\n",
    "Why(reason/explanation)? we need machine learning\n",
    "Where(position/place)? should we use machine learning\n",
    "When(time/moment)? should we require machine learning\n",
    "How(doing/functioning)? to do machine learning"
   ]
  },
  {
   "cell_type": "markdown",
   "metadata": {},
   "source": [
    "> “Machine Learning is the field of study that gives computers the ability to learn without being explicitly programmed. It focuses on the development of computer programs that can teach themselves to grow and change when exposed to new data.”"
   ]
  },
  {
   "cell_type": "markdown",
   "metadata": {},
   "source": [
    "These statistical models are mainly used to do 2 things:  \n",
    "**Prediction:** make predictions about the future based on data about the past  \n",
    "**Inference:** discover patterns in data  "
   ]
  },
  {
   "cell_type": "markdown",
   "metadata": {},
   "source": [
    "![Imgur](https://i.imgur.com/B771ARb.jpg)"
   ]
  },
  {
   "cell_type": "markdown",
   "metadata": {},
   "source": [
    "**Regression:** \n",
    "> How much or How many?\n",
    "\n",
    "**Classification:**\n",
    "> is this A or B?\n",
    "\n",
    "**Clustering:**\n",
    "\n",
    "> How is this organized \n",
    "\n",
    "**Dimensionality Reduction:**\n",
    "\n",
    ">  Is all these features are relevent to my problem\n",
    "\n",
    "**Association:**\n",
    "\n",
    "> How these items are associated to each other. "
   ]
  },
  {
   "cell_type": "code",
   "execution_count": null,
   "metadata": {},
   "outputs": [],
   "source": []
  },
  {
   "cell_type": "markdown",
   "metadata": {},
   "source": [
    "**Resources:**  "
   ]
  },
  {
   "cell_type": "markdown",
   "metadata": {},
   "source": [
    "https://medium.com/@deepusnath/9-baby-steps-to-start-with-machine-learning-fe3f31b83fe  \n",
    "https://machinelearningmastery.com/machine-learning-in-r-step-by-step/  \n"
   ]
  },
  {
   "cell_type": "markdown",
   "metadata": {},
   "source": [
    "https://github.com/dataspelunking/MLwR  \n",
    "https://lgatto.github.io/IntroMachineLearningWithR/index.html  "
   ]
  }
 ],
 "metadata": {
  "kernelspec": {
   "display_name": "R",
   "language": "R",
   "name": "ir"
  },
  "language_info": {
   "codemirror_mode": "r",
   "file_extension": ".r",
   "mimetype": "text/x-r-source",
   "name": "R",
   "pygments_lexer": "r",
   "version": "3.4.3"
  },
  "toc": {
   "base_numbering": 1,
   "nav_menu": {},
   "number_sections": true,
   "sideBar": true,
   "skip_h1_title": false,
   "title_cell": "Table of Contents",
   "title_sidebar": "Contents",
   "toc_cell": false,
   "toc_position": {},
   "toc_section_display": true,
   "toc_window_display": false
  }
 },
 "nbformat": 4,
 "nbformat_minor": 2
}
