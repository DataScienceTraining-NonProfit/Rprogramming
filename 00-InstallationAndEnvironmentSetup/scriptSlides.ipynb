{
 "cells": [
  {
   "cell_type": "markdown",
   "metadata": {
    "toc": true
   },
   "source": [
    "<h1>Table of Contents<span class=\"tocSkip\"></span></h1>\n",
    "<div class=\"toc\"><ul class=\"toc-item\"><li><span><a href=\"#Anaconda-Installation-for-Windows\" data-toc-modified-id=\"Anaconda-Installation-for-Windows-1\"><span class=\"toc-item-num\">1&nbsp;&nbsp;</span>Anaconda Installation for Windows</a></span></li><li><span><a href=\"#Launch-RStudio-from-Navigator.\" data-toc-modified-id=\"Launch-RStudio-from-Navigator.-2\"><span class=\"toc-item-num\">2&nbsp;&nbsp;</span>Launch RStudio from Navigator.</a></span></li><li><span><a href=\"#R-kernel-for-Jupyter-Notebook\" data-toc-modified-id=\"R-kernel-for-Jupyter-Notebook-3\"><span class=\"toc-item-num\">3&nbsp;&nbsp;</span>R kernel for Jupyter Notebook</a></span></li><li><span><a href=\"#Anaconda-Installation-for-all-operating-systems\" data-toc-modified-id=\"Anaconda-Installation-for-all-operating-systems-4\"><span class=\"toc-item-num\">4&nbsp;&nbsp;</span>Anaconda Installation for all operating systems</a></span></li></ul></div>"
   ]
  },
  {
   "cell_type": "markdown",
   "metadata": {},
   "source": [
    "## Anaconda Installation for Windows"
   ]
  },
  {
   "cell_type": "markdown",
   "metadata": {},
   "source": [
    "* Visit the Anaconda downloads page  \n",
    "Go to the following link: [Anaconda.com/downloads](https://www.anaconda.com/download/)  \n",
    "The Anaconda Downloads Page will look something like this:    \n",
    "![Imgur](https://i.imgur.com/mWbsPTA.png)  \n",
    "\n",
    "* Select the Windows  \n",
    "Select Windows where the three opperating systems are listed.  \n",
    "![Imgur](https://i.imgur.com/MYrJYwb.png)\n",
    "\n",
    "* Download  \n",
    "Download the Python 3.6 distribution. Python 2.7 is legacy Python. For undergraduate engineers, select the Python 3.6 version.     \n",
    "\n",
    "![Imgur](https://i.imgur.com/N1GngpX.png)\n",
    "\n",
    "You may be prompted to enter your email. You can still download Anaconda if you click **No Thanks** and don't enter your Work Email address.  \n",
    "\n",
    "![Imgur](https://i.imgur.com/VfgJNUa.png)\n",
    "\n",
    "The download is quite large (over 500 MB) so it may take a while for the download to complete.  \n",
    "\n",
    "* Double-click the installation file.  \n",
    "![Imgur](https://i.imgur.com/6ZG0Bwq.png)\n",
    "\n",
    "* Click Next.             \n",
    "![Imgur](https://i.imgur.com/bV8fNtz.jpg)\n",
    "* Click I Agree if you agree to the licensing agreement.         \n",
    "\n",
    "\n",
    "* Choose one of the installation types and then click Next.     \n",
    "![Imgur](https://i.imgur.com/FeTLdQf.jpg)\n",
    "\n",
    "* Choose an installation location (if necessary) and then click Next.    \n",
    "![Imgur](https://i.imgur.com/tkMG1yj.jpg)\n",
    "\n",
    "* Change the advanced installation options (if necessary) and then click Install.  \n",
    "\n",
    "![Imgur](https://i.imgur.com/VM1v9MG.jpg)\n",
    "\n",
    "* Click Next.  \n",
    "The wizard tells you that the installation is complete.\n",
    "\n",
    "* Click Finish.  \n",
    "You’re ready to begin using Anaconda."
   ]
  },
  {
   "cell_type": "markdown",
   "metadata": {},
   "source": [
    "## Launch RStudio from Navigator."
   ]
  },
  {
   "cell_type": "markdown",
   "metadata": {},
   "source": [
    "![Imgur](https://i.imgur.com/dmnz5Md.png)"
   ]
  },
  {
   "cell_type": "markdown",
   "metadata": {},
   "source": [
    "* Important panes/sections from R-Studio"
   ]
  },
  {
   "cell_type": "markdown",
   "metadata": {},
   "source": [
    "![Imgur](https://i.imgur.com/jHEgT57.png)"
   ]
  },
  {
   "cell_type": "markdown",
   "metadata": {},
   "source": [
    "* **Script or Coding** \n",
    "![Imgur](https://i.imgur.com/ADIIi8Q.png)"
   ]
  },
  {
   "cell_type": "markdown",
   "metadata": {},
   "source": [
    "* **Console**\n",
    "![Imgur](https://i.imgur.com/sOZ0XTt.png)"
   ]
  },
  {
   "cell_type": "markdown",
   "metadata": {},
   "source": [
    "* **Environment & Variables**\n",
    "![Imgur](https://i.imgur.com/tHWtjY4.png)"
   ]
  },
  {
   "cell_type": "markdown",
   "metadata": {},
   "source": [
    "* **Help & Documentation**\n",
    "![Imgur](https://i.imgur.com/Ms6yRvR.png)"
   ]
  },
  {
   "cell_type": "markdown",
   "metadata": {},
   "source": [
    "* **Plots**\n",
    "![Imgur](https://i.imgur.com/b6EElUf.png)"
   ]
  },
  {
   "cell_type": "markdown",
   "metadata": {},
   "source": [
    "## R kernel for Jupyter Notebook"
   ]
  },
  {
   "cell_type": "markdown",
   "metadata": {},
   "source": [
    "**Requirements:** https://irkernel.github.io/requirements/  \n",
    "**\"R Essentials\" setup:** https://anaconda.org/chdoig/jupyter-and-conda-for-r/notebook  \n",
    "**Running the notebook:** https://irkernel.github.io/running/  "
   ]
  },
  {
   "cell_type": "markdown",
   "metadata": {},
   "source": [
    "## Anaconda Installation for all operating systems"
   ]
  },
  {
   "cell_type": "markdown",
   "metadata": {},
   "source": [
    "Operating System | Blog Post | Youtube Video\n",
    "--- | --- | ---\n",
    "Mac | [Install Anaconda on Mac](https://medium.com/@GalarnykMichael/install-python-on-mac-anaconda-ccd9f2014072#.lvhw2gt3k \"Install Anaconda on Mac\") | [Youtube Video](https://www.youtube.com/watch?v=B6d5LrA8bNE \"Youtube Video\")\n",
    "Windows | [Install Anaconda on Windows](https://medium.com/@GalarnykMichael/install-python-on-windows-anaconda-c63c7c3d1444#.66f7y3whf) | [Youtube Video](https://www.youtube.com/watch?v=dgjEUcccRwM)\n",
    "Ubuntu | [Install Anaconda on Ubuntu](https://medium.com/@GalarnykMichael/install-python-on-ubuntu-anaconda-65623042cb5a#.4kwsp0wjl) | [Youtube Video](https://www.youtube.com/watch?v=jo4RMiM-ihs)\n",
    "All | [Environment Management with Conda (Python 2 + 3, Configuring Jupyter Notebooks)](https://medium.com/towards-data-science/environment-management-with-conda-python-2-3-b9961a8a5097) | [Youtube Video](https://www.youtube.com/watch?v=rFCBiP9Gkoo)"
   ]
  }
 ],
 "metadata": {
  "kernelspec": {
   "display_name": "Python 3",
   "language": "python",
   "name": "python3"
  },
  "language_info": {
   "codemirror_mode": {
    "name": "ipython",
    "version": 3
   },
   "file_extension": ".py",
   "mimetype": "text/x-python",
   "name": "python",
   "nbconvert_exporter": "python",
   "pygments_lexer": "ipython3",
   "version": "3.6.4"
  },
  "toc": {
   "base_numbering": 1,
   "nav_menu": {},
   "number_sections": true,
   "sideBar": true,
   "skip_h1_title": false,
   "title_cell": "Table of Contents",
   "title_sidebar": "Contents",
   "toc_cell": true,
   "toc_position": {},
   "toc_section_display": "block",
   "toc_window_display": true
  }
 },
 "nbformat": 4,
 "nbformat_minor": 2
}
