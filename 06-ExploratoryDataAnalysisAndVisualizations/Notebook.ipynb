{
  "cells": [
    {
      "metadata": {
        "toc": true
      },
      "cell_type": "markdown",
      "source": "<h1>Table of Contents<span class=\"tocSkip\"></span></h1>\n<div class=\"toc\"><ul class=\"toc-item\"><li><span><a href=\"#Exploratory-Data-Analysis\" data-toc-modified-id=\"Exploratory-Data-Analysis-1\"><span class=\"toc-item-num\">1&nbsp;&nbsp;</span>Exploratory Data Analysis</a></span></li><li><span><a href=\"#Basic-Graphs-and-visualizations-(ggplot2)\" data-toc-modified-id=\"Basic-Graphs-and-visualizations-(ggplot2)-2\"><span class=\"toc-item-num\">2&nbsp;&nbsp;</span>Basic Graphs and visualizations (ggplot2)</a></span><ul class=\"toc-item\"><li><ul class=\"toc-item\"><li><span><a href=\"#Introduction-(ggplot)\" data-toc-modified-id=\"Introduction-(ggplot)-2.0.1\"><span class=\"toc-item-num\">2.0.1&nbsp;&nbsp;</span>Introduction (ggplot)</a></span></li><li><span><a href=\"#frequently-used-functions-for-ggplot2\" data-toc-modified-id=\"frequently-used-functions-for-ggplot2-2.0.2\"><span class=\"toc-item-num\">2.0.2&nbsp;&nbsp;</span>frequently used functions for ggplot2</a></span></li></ul></li></ul></li></ul></div>"
    },
    {
      "metadata": {},
      "cell_type": "markdown",
      "source": "## Exploratory Data Analysis"
    },
    {
      "metadata": {},
      "cell_type": "markdown",
      "source": "EDA is an approach/philosophy for data analysis that employs a variety of techniques (mostly graphical) \n* Examination of Frequency Distribution\n* Graphical Representation\n* Calculation of Centre and Spread\n* to uncover underlying structure\n* extract important variables\n* find out any outliers and anomalies"
    },
    {
      "metadata": {},
      "cell_type": "markdown",
      "source": "> EDA is not identical to statistical graphics although the two terms are used almost interchangeably. Statistical graphics is a collection of techniques--all graphically based to focusing on data characterization.  \n  \n  \n>It is true that EDA heavily uses the collection of techniques that we call \"statistical graphics\", but it is not identical to statistical graphics per se."
    },
    {
      "metadata": {},
      "cell_type": "markdown",
      "source": "* Most EDA techniques are graphical in nature with a few quantitative techniques. \n* The main role of EDA is to open-mindedly explore, and graphics gives a way to anaylse data to reveal its structural secrets, and being always ready to gain some new, often unsuspected, insight into the data.   \n\n**Ex:**   \nmean plots  \nstandard deviation plots \nbox plots  \nhistograms...etc  "
    },
    {
      "metadata": {},
      "cell_type": "markdown",
      "source": "## Basic Graphs and visualizations (ggplot2) "
    },
    {
      "metadata": {},
      "cell_type": "markdown",
      "source": "Graphical representation for any data analysis is to solve and uncover the underlying structure also find out any outliers and anomalies\n"
    },
    {
      "metadata": {
        "slideshow": {
          "slide_type": "slide"
        }
      },
      "cell_type": "markdown",
      "source": "#### Introduction (ggplot)"
    },
    {
      "metadata": {
        "slideshow": {
          "slide_type": "slide"
        }
      },
      "cell_type": "markdown",
      "source": "#### frequently used functions for ggplot2"
    },
    {
      "metadata": {
        "slideshow": {
          "slide_type": "subslide"
        }
      },
      "cell_type": "markdown",
      "source": "| Important Plots | Important Functions                                                                   |\n|-----------------|---------------------------------------------------------------------------------------|\n| Scatter Plot    | geom_point(), geom_smooth(), stat_smooth()                                            |\n| Bar Plot        | geom_bar(), geom_errorbar()                                                           |\n| Histogram       | geom_histogram(), stat_bin(), position_identity(), position_stack(), position_dodge() |\n| Box Plot        | geom_boxplot(), stat_boxplot(), stat_summary()                                        |\n| Line Plot       | geom_line(), geom_step(), geom_path(), geom_errorbar()                                |\n| Pie Chart       | coord_polar()                                                                         |"
    },
    {
      "metadata": {
        "slideshow": {
          "slide_type": "fragment"
        }
      },
      "cell_type": "markdown",
      "source": "**Quick references for ggplot2 package and docs**   \nhttp://www.cookbook-r.com/Graphs/    \nhttps://rkabacoff.github.io/datavis/  \nhttp://r-statistics.co/ggplot2-cheatsheet.html      \nhttp://www.rstudio.com/wp-content/uploads/2016/11/ggplot2-cheatsheet-2.1.pdf    \nhttp://www.datavis.ca/courses/RGraphics/index.html  "
    }
  ],
  "metadata": {
    "celltoolbar": "Slideshow",
    "hide_input": false,
    "kernelspec": {
      "name": "r",
      "display_name": "R",
      "language": "R"
    },
    "language_info": {
      "mimetype": "text/x-r-source",
      "name": "R",
      "pygments_lexer": "r",
      "version": "3.5.3",
      "file_extension": ".r",
      "codemirror_mode": "r"
    },
    "nav_menu": {},
    "toc": {
      "nav_menu": {},
      "number_sections": true,
      "sideBar": true,
      "skip_h1_title": false,
      "base_numbering": 1,
      "title_cell": "Table of Contents",
      "title_sidebar": "Contents",
      "toc_cell": true,
      "toc_position": {},
      "toc_section_display": "block",
      "toc_window_display": true
    }
  },
  "nbformat": 4,
  "nbformat_minor": 2
}