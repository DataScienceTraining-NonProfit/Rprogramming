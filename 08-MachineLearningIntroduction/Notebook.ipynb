{
  "cells": [
    {
      "metadata": {},
      "cell_type": "markdown",
      "source": "# Machine Learning"
    },
    {
      "metadata": {},
      "cell_type": "markdown",
      "source": " > Field of study that gives computers the ability to learn without being explicitly programmed"
    },
    {
      "metadata": {
        "trusted": false
      },
      "cell_type": "code",
      "source": "what(specific/objective)? is machine learning\nWhy(reason/explanation)? we need machine learning\nWhen(time/moment)? should we require machine learning\nWhere(position/place)? should we use machine learning\nWho (necessity/requirement)? need this machine learning\nHow(doing/functioning)? to do machine learning",
      "execution_count": null,
      "outputs": []
    },
    {
      "metadata": {},
      "cell_type": "markdown",
      "source": "> “Machine Learning is the field of study that gives computers the ability to learn without being explicitly programmed. It focuses on the development of computer programs that can teach themselves to grow and change when exposed to new data.”"
    },
    {
      "metadata": {},
      "cell_type": "markdown",
      "source": "These statistical models are mainly used to do 2 things:  \n**Prediction:** make predictions about the future based on data about the past  \n**Inference:** discover patterns in data  "
    },
    {
      "metadata": {},
      "cell_type": "markdown",
      "source": "![Imgur](https://i.imgur.com/GcjdpPA.jpg)"
    },
    {
      "metadata": {},
      "cell_type": "markdown",
      "source": "## Supervised Machine Learning"
    },
    {
      "metadata": {},
      "cell_type": "markdown",
      "source": "**Supervised Learning:**  The major use case is Prediction.  We provide a set of \ntraining data including the input and output, then train a model that can \npredict output from an unseen input.  \n**Regression:**  \n**Classification:**  "
    },
    {
      "metadata": {},
      "cell_type": "markdown",
      "source": "**Regression:** \n> How much or How many?\n\n**Classification:**\n> is this A or B?"
    },
    {
      "metadata": {},
      "cell_type": "markdown",
      "source": "## Un Supervised Machine Learning"
    },
    {
      "metadata": {},
      "cell_type": "markdown",
      "source": "**Unsupervised Learning:**  The major use case is Pattern extraction(inference).  We provide \na set of data that has no output, the algorithm will try to extract the \nunderlying non-trivial structure within the data.  \n**Clustering:**  \n**Dimentionality Reduction:**  "
    },
    {
      "metadata": {},
      "cell_type": "markdown",
      "source": "**Clustering:**\n\n> How is this organized \n\n**Dimensionality Reduction:**\n\n>  Is all these features are relevent to my problem"
    },
    {
      "metadata": {},
      "cell_type": "markdown",
      "source": "## Processing Steps"
    },
    {
      "metadata": {},
      "cell_type": "markdown",
      "source": "**Step 1:** Define Problem  \n**Step 2:** Gathering Data  \n**Step 3:** Hypothesis Testing  \n**Step 4:** Pre-processing, Cleaning, Exploring and Transforming Data  \n**Step 5:** Model Building  \n**Step 6:** Model Evaluation    \n**Step 7:** Model Deployment  \n    "
    },
    {
      "metadata": {},
      "cell_type": "markdown",
      "source": "**Resources:**  "
    },
    {
      "metadata": {},
      "cell_type": "markdown",
      "source": "https://medium.com/@deepusnath/9-baby-steps-to-start-with-machine-learning-fe3f31b83fe  \nhttps://machinelearningmastery.com/machine-learning-in-r-step-by-step/  \n"
    },
    {
      "metadata": {},
      "cell_type": "markdown",
      "source": "https://github.com/dataspelunking/MLwR  \nhttps://lgatto.github.io/IntroMachineLearningWithR/index.html  "
    }
  ],
  "metadata": {
    "kernelspec": {
      "name": "r",
      "display_name": "R",
      "language": "R"
    },
    "language_info": {
      "mimetype": "text/x-r-source",
      "name": "R",
      "pygments_lexer": "r",
      "version": "3.5.3",
      "file_extension": ".r",
      "codemirror_mode": "r"
    },
    "toc": {
      "nav_menu": {},
      "number_sections": true,
      "sideBar": true,
      "skip_h1_title": false,
      "base_numbering": 1,
      "title_cell": "Table of Contents",
      "title_sidebar": "Contents",
      "toc_cell": false,
      "toc_position": {},
      "toc_section_display": true,
      "toc_window_display": false
    }
  },
  "nbformat": 4,
  "nbformat_minor": 2
}