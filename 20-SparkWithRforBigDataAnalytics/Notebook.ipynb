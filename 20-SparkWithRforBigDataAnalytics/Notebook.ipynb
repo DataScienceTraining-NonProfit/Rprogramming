{
  "cells": [
    {
      "metadata": {
        "scrolled": true,
        "trusted": false
      },
      "cell_type": "code",
      "source": "library(tidyverse)",
      "execution_count": 1,
      "outputs": [
        {
          "name": "stderr",
          "output_type": "stream",
          "text": "Loading tidyverse: ggplot2\nLoading tidyverse: tibble\nLoading tidyverse: tidyr\nLoading tidyverse: readr\nLoading tidyverse: purrr\nLoading tidyverse: dplyr\nConflicts with tidy packages ---------------------------------------------------\nfilter(): dplyr, stats\nlag():    dplyr, stats\n"
        }
      ]
    },
    {
      "metadata": {
        "trusted": false
      },
      "cell_type": "code",
      "source": ".libPaths(c(file.path(Sys.getenv(\"SPARK_HOME\"), \"R\", \"lib\"), .libPaths()))\nlibrary(SparkR)",
      "execution_count": 57,
      "outputs": []
    },
    {
      "metadata": {
        "trusted": false
      },
      "cell_type": "code",
      "source": "library(SparkR, lib.loc = c(file.path(Sys.getenv(\"SPARK_HOME\"), \"R\", \"lib\")))\n",
      "execution_count": 58,
      "outputs": []
    },
    {
      "metadata": {
        "trusted": false
      },
      "cell_type": "code",
      "source": "sparkR.session(\n               enableHiveSupport = TRUE ,\n               master = \"local[*]\", \n               sparkHome = Sys.getenv(\"SPARK_HOME\") , # this was the missing link!!\n               sparkConfig = \n                 list(spark.driver.memory = \"2g\", \n                      spark.sql.warehouse.dir=\"C:\\\\Apps\\\\winutils\\\\winutils-master\\\\hadoop-2.7.1\") # winutils path directory\n    \n)\n# works only when we open jupyter notebook is opened from default C drive",
      "execution_count": 59,
      "outputs": [
        {
          "data": {
            "text/plain": "Java ref type org.apache.spark.sql.SparkSession id 1 "
          },
          "metadata": {},
          "output_type": "display_data"
        }
      ]
    },
    {
      "metadata": {
        "trusted": false
      },
      "cell_type": "code",
      "source": "sparkR.uiWebUrl()",
      "execution_count": 60,
      "outputs": [
        {
          "data": {
            "text/html": "'http://User-PC:4040'",
            "text/latex": "'http://User-PC:4040'",
            "text/markdown": "'http://User-PC:4040'",
            "text/plain": "[1] \"http://User-PC:4040\""
          },
          "metadata": {},
          "output_type": "display_data"
        }
      ]
    },
    {
      "metadata": {
        "trusted": false
      },
      "cell_type": "code",
      "source": "df <- as.DataFrame(faithful)\nstr(df)",
      "execution_count": 61,
      "outputs": [
        {
          "name": "stdout",
          "output_type": "stream",
          "text": "'SparkDataFrame': 2 variables:\n $ eruptions: num 3.6 1.8 3.333 2.283 4.533 2.883\n $ waiting  : num 79 54 74 62 85 55\n"
        }
      ]
    },
    {
      "metadata": {
        "trusted": false
      },
      "cell_type": "code",
      "source": "colnames(df)",
      "execution_count": 62,
      "outputs": [
        {
          "data": {
            "text/html": "<ol class=list-inline>\n\t<li>'eruptions'</li>\n\t<li>'waiting'</li>\n</ol>\n",
            "text/latex": "\\begin{enumerate*}\n\\item 'eruptions'\n\\item 'waiting'\n\\end{enumerate*}\n",
            "text/markdown": "1. 'eruptions'\n2. 'waiting'\n\n\n",
            "text/plain": "[1] \"eruptions\" \"waiting\"  "
          },
          "metadata": {},
          "output_type": "display_data"
        }
      ]
    },
    {
      "metadata": {
        "trusted": false
      },
      "cell_type": "code",
      "source": "createOrReplaceTempView(df, \"df\")",
      "execution_count": 63,
      "outputs": []
    },
    {
      "metadata": {
        "trusted": false
      },
      "cell_type": "code",
      "source": "waiting_70 <- SparkR::sql(\"select * from df where waiting > 70\")\nstr(waiting_70)",
      "execution_count": 64,
      "outputs": [
        {
          "name": "stdout",
          "output_type": "stream",
          "text": "'SparkDataFrame': 2 variables:\n $ eruptions: num 3.6 3.333 4.533 4.7 3.6 4.35\n $ waiting  : num 79 74 85 88 85 85\n"
        }
      ]
    },
    {
      "metadata": {
        "trusted": false
      },
      "cell_type": "code",
      "source": "head(SparkR::collect(waiting_70), 10)",
      "execution_count": 65,
      "outputs": [
        {
          "data": {
            "text/html": "<table>\n<thead><tr><th scope=col>eruptions</th><th scope=col>waiting</th></tr></thead>\n<tbody>\n\t<tr><td>3.600</td><td>79   </td></tr>\n\t<tr><td>3.333</td><td>74   </td></tr>\n\t<tr><td>4.533</td><td>85   </td></tr>\n\t<tr><td>4.700</td><td>88   </td></tr>\n\t<tr><td>3.600</td><td>85   </td></tr>\n\t<tr><td>4.350</td><td>85   </td></tr>\n\t<tr><td>3.917</td><td>84   </td></tr>\n\t<tr><td>4.200</td><td>78   </td></tr>\n\t<tr><td>4.700</td><td>83   </td></tr>\n\t<tr><td>4.800</td><td>84   </td></tr>\n</tbody>\n</table>\n",
            "text/latex": "\\begin{tabular}{r|ll}\n eruptions & waiting\\\\\n\\hline\n\t 3.600 & 79   \\\\\n\t 3.333 & 74   \\\\\n\t 4.533 & 85   \\\\\n\t 4.700 & 88   \\\\\n\t 3.600 & 85   \\\\\n\t 4.350 & 85   \\\\\n\t 3.917 & 84   \\\\\n\t 4.200 & 78   \\\\\n\t 4.700 & 83   \\\\\n\t 4.800 & 84   \\\\\n\\end{tabular}\n",
            "text/markdown": "\neruptions | waiting | \n|---|---|---|---|---|---|---|---|---|---|\n| 3.600 | 79    | \n| 3.333 | 74    | \n| 4.533 | 85    | \n| 4.700 | 88    | \n| 3.600 | 85    | \n| 4.350 | 85    | \n| 3.917 | 84    | \n| 4.200 | 78    | \n| 4.700 | 83    | \n| 4.800 | 84    | \n\n\n",
            "text/plain": "   eruptions waiting\n1  3.600     79     \n2  3.333     74     \n3  4.533     85     \n4  4.700     88     \n5  3.600     85     \n6  4.350     85     \n7  3.917     84     \n8  4.200     78     \n9  4.700     83     \n10 4.800     84     "
          },
          "metadata": {},
          "output_type": "display_data"
        }
      ]
    },
    {
      "metadata": {
        "trusted": false
      },
      "cell_type": "code",
      "source": "SparkR::collect(SparkR::summary(df))\n",
      "execution_count": 66,
      "outputs": [
        {
          "data": {
            "text/html": "<table>\n<thead><tr><th scope=col>summary</th><th scope=col>eruptions</th><th scope=col>waiting</th></tr></thead>\n<tbody>\n\t<tr><td>count             </td><td>272               </td><td>272               </td></tr>\n\t<tr><td>mean              </td><td>3.4877830882352936</td><td>70.8970588235294  </td></tr>\n\t<tr><td>stddev            </td><td>1.1413712511052083</td><td>13.594973789999392</td></tr>\n\t<tr><td>min               </td><td>1.6               </td><td>43.0              </td></tr>\n\t<tr><td>25%               </td><td>2.15              </td><td>58.0              </td></tr>\n\t<tr><td>50%               </td><td>4.0               </td><td>76.0              </td></tr>\n\t<tr><td>75%               </td><td>4.45              </td><td>82.0              </td></tr>\n\t<tr><td>max               </td><td>5.1               </td><td>96.0              </td></tr>\n</tbody>\n</table>\n",
            "text/latex": "\\begin{tabular}{r|lll}\n summary & eruptions & waiting\\\\\n\\hline\n\t count              & 272                & 272               \\\\\n\t mean               & 3.4877830882352936 & 70.8970588235294  \\\\\n\t stddev             & 1.1413712511052083 & 13.594973789999392\\\\\n\t min                & 1.6                & 43.0              \\\\\n\t 25\\%              & 2.15               & 58.0              \\\\\n\t 50\\%              & 4.0                & 76.0              \\\\\n\t 75\\%              & 4.45               & 82.0              \\\\\n\t max                & 5.1                & 96.0              \\\\\n\\end{tabular}\n",
            "text/markdown": "\nsummary | eruptions | waiting | \n|---|---|---|---|---|---|---|---|\n| count              | 272                | 272                | \n| mean               | 3.4877830882352936 | 70.8970588235294   | \n| stddev             | 1.1413712511052083 | 13.594973789999392 | \n| min                | 1.6                | 43.0               | \n| 25%                | 2.15               | 58.0               | \n| 50%                | 4.0                | 76.0               | \n| 75%                | 4.45               | 82.0               | \n| max                | 5.1                | 96.0               | \n\n\n",
            "text/plain": "  summary eruptions          waiting           \n1 count   272                272               \n2 mean    3.4877830882352936 70.8970588235294  \n3 stddev  1.1413712511052083 13.594973789999392\n4 min     1.6                43.0              \n5 25%     2.15               58.0              \n6 50%     4.0                76.0              \n7 75%     4.45               82.0              \n8 max     5.1                96.0              "
          },
          "metadata": {},
          "output_type": "display_data"
        }
      ]
    },
    {
      "metadata": {
        "trusted": false
      },
      "cell_type": "code",
      "source": "SparkR::corr(df, \"waiting\", \"eruptions\")\n",
      "execution_count": 67,
      "outputs": [
        {
          "data": {
            "text/html": "0.900811168321813",
            "text/latex": "0.900811168321813",
            "text/markdown": "0.900811168321813",
            "text/plain": "[1] 0.9008112"
          },
          "metadata": {},
          "output_type": "display_data"
        }
      ]
    },
    {
      "metadata": {
        "trusted": false
      },
      "cell_type": "code",
      "source": "waiting_avg <- SparkR::select(df, SparkR::mean(df$waiting)) %>% SparkR::collect()\neruptions_avg <- SparkR::select(df, SparkR::mean(df$eruptions)) %>% SparkR::collect()\ndf %>% SparkR::collect() %>%\n  ggplot(aes(x = waiting, y = eruptions)) +\n  geom_point() +\n  geom_smooth() +\n  geom_vline(xintercept = waiting_avg$`avg(waiting)`) +\n  geom_hline(yintercept = eruptions_avg$`avg(eruptions)`)",
      "execution_count": 68,
      "outputs": [
        {
          "name": "stderr",
          "output_type": "stream",
          "text": "`geom_smooth()` using method = 'loess'\n"
        },
        {
          "data": {},
          "metadata": {},
          "output_type": "display_data"
        },
        {
          "data": {
            "image/png": "[encoded data removed]",
            "text/plain": "plot without title"
          },
          "metadata": {},
          "output_type": "display_data"
        }
      ]
    },
    {
      "metadata": {
        "scrolled": true,
        "trusted": false
      },
      "cell_type": "code",
      "source": "people <- read.df(\"C:/Apps/Apache/Spark/spark-2.3.0/examples/src/main/resources/people.json\", \"json\")\nhead(people)",
      "execution_count": 71,
      "outputs": [
        {
          "data": {
            "text/html": "<table>\n<thead><tr><th scope=col>age</th><th scope=col>name</th></tr></thead>\n<tbody>\n\t<tr><td>NA     </td><td>Michael</td></tr>\n\t<tr><td>30     </td><td>Andy   </td></tr>\n\t<tr><td>19     </td><td>Justin </td></tr>\n</tbody>\n</table>\n",
            "text/latex": "\\begin{tabular}{r|ll}\n age & name\\\\\n\\hline\n\t NA      & Michael\\\\\n\t 30      & Andy   \\\\\n\t 19      & Justin \\\\\n\\end{tabular}\n",
            "text/markdown": "\nage | name | \n|---|---|---|\n| NA      | Michael | \n| 30      | Andy    | \n| 19      | Justin  | \n\n\n",
            "text/plain": "  age name   \n1 NA  Michael\n2 30  Andy   \n3 19  Justin "
          },
          "metadata": {},
          "output_type": "display_data"
        }
      ]
    }
  ],
  "metadata": {
    "kernelspec": {
      "name": "r",
      "display_name": "R",
      "language": "R"
    },
    "language_info": {
      "mimetype": "text/x-r-source",
      "name": "R",
      "pygments_lexer": "r",
      "version": "3.4.1",
      "file_extension": ".r",
      "codemirror_mode": "r"
    },
    "toc": {
      "nav_menu": {},
      "number_sections": true,
      "sideBar": true,
      "skip_h1_title": false,
      "base_numbering": 1,
      "title_cell": "Table of Contents",
      "title_sidebar": "Contents",
      "toc_cell": false,
      "toc_position": {},
      "toc_section_display": true,
      "toc_window_display": false
    }
  },
  "nbformat": 4,
  "nbformat_minor": 2
}