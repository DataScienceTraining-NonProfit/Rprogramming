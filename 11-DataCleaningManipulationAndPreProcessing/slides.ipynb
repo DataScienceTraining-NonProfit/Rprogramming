{
  "cells": [
    {
      "metadata": {
        "collapsed": true,
        "slideshow": {
          "slide_type": "slide"
        }
      },
      "cell_type": "markdown",
      "source": "## lubridate"
    },
    {
      "metadata": {},
      "cell_type": "markdown",
      "source": "https://rpubs.com/davoodastaraky/lubridate"
    },
    {
      "metadata": {
        "collapsed": true
      },
      "cell_type": "markdown",
      "source": "## stringr"
    },
    {
      "metadata": {},
      "cell_type": "markdown",
      "source": "http://edrub.in/CheatSheets/cheatSheetStringr.pdf"
    },
    {
      "metadata": {
        "collapsed": true
      },
      "cell_type": "markdown",
      "source": "## sqldf"
    },
    {
      "metadata": {},
      "cell_type": "markdown",
      "source": "http://dept.stat.lsa.umich.edu/~jerrick/courses/stat701/notes/sql.html"
    },
    {
      "metadata": {
        "collapsed": true
      },
      "cell_type": "markdown",
      "source": "## Working with categorical data: gmodels"
    },
    {
      "metadata": {
        "trusted": false
      },
      "cell_type": "code",
      "source": "data <- data.frame(Smoker=c(72L,34L),Non_Smoker=c(44L,53L),row.names = c(\"Male\",\"Female\"))\ndataM <- as.matrix(data)",
      "execution_count": 1,
      "outputs": []
    },
    {
      "metadata": {
        "scrolled": true,
        "trusted": false
      },
      "cell_type": "code",
      "source": "print(dataM)",
      "execution_count": 2,
      "outputs": [
        {
          "name": "stdout",
          "output_type": "stream",
          "text": "       Smoker Non_Smoker\nMale       72         44\nFemale     34         53\n"
        }
      ]
    },
    {
      "metadata": {
        "trusted": false
      },
      "cell_type": "code",
      "source": "### calculate sum of table entries Using base functions",
      "execution_count": 3,
      "outputs": []
    },
    {
      "metadata": {
        "trusted": false
      },
      "cell_type": "code",
      "source": "margin.table(dataM) # total members (marginal distribution)",
      "execution_count": 3,
      "outputs": [
        {
          "data": {
            "text/html": "203",
            "text/latex": "203",
            "text/markdown": "203",
            "text/plain": "[1] 203"
          },
          "metadata": {},
          "output_type": "display_data"
        }
      ]
    },
    {
      "metadata": {
        "scrolled": true,
        "trusted": false
      },
      "cell_type": "code",
      "source": "print(margin.table(dataM, 1)) # row-wise summary total male and total females\nprint(margin.table(dataM, 2)) # column-wise summary total Smokers and total Non-Smokers",
      "execution_count": 8,
      "outputs": [
        {
          "name": "stdout",
          "output_type": "stream",
          "text": "  Male Female \n   116     87 \n    Smoker Non_Smoker \n       106         97 \n"
        }
      ]
    },
    {
      "metadata": {
        "trusted": false
      },
      "cell_type": "code",
      "source": "addmargins(dataM) #adding marginal distribution summaries ",
      "execution_count": 16,
      "outputs": [
        {
          "data": {
            "text/html": "<table>\n<thead><tr><th></th><th scope=col>Smoker</th><th scope=col>Non_Smoker</th><th scope=col>Sum</th></tr></thead>\n<tbody>\n\t<tr><th scope=row>Male</th><td> 72</td><td>44 </td><td>116</td></tr>\n\t<tr><th scope=row>Female</th><td> 34</td><td>53 </td><td> 87</td></tr>\n\t<tr><th scope=row>Sum</th><td>106</td><td>97 </td><td>203</td></tr>\n</tbody>\n</table>\n",
            "text/latex": "\\begin{tabular}{r|lll}\n  & Smoker & Non\\_Smoker & Sum\\\\\n\\hline\n\tMale &  72 & 44  & 116\\\\\n\tFemale &  34 & 53  &  87\\\\\n\tSum & 106 & 97  & 203\\\\\n\\end{tabular}\n",
            "text/markdown": "\n| <!--/--> | Smoker | Non_Smoker | Sum | \n|---|---|---|\n| Male |  72 | 44  | 116 | \n| Female |  34 | 53  |  87 | \n| Sum | 106 | 97  | 203 | \n\n\n",
            "text/plain": "       Smoker Non_Smoker Sum\nMale    72    44         116\nFemale  34    53          87\nSum    106    97         203"
          },
          "metadata": {},
          "output_type": "display_data"
        }
      ]
    },
    {
      "metadata": {
        "scrolled": false,
        "trusted": false
      },
      "cell_type": "code",
      "source": "ftable(dataM)",
      "execution_count": 20,
      "outputs": [
        {
          "data": {
            "text/plain": "        Smoker Non_Smoker\n                         \nMale        72         44\nFemale      34         53"
          },
          "metadata": {},
          "output_type": "display_data"
        }
      ]
    },
    {
      "metadata": {
        "scrolled": false,
        "trusted": false
      },
      "cell_type": "code",
      "source": "ftable(addmargins(dataM))",
      "execution_count": 19,
      "outputs": [
        {
          "data": {
            "text/plain": "        Smoker Non_Smoker Sum\n                             \nMale        72         44 116\nFemale      34         53  87\nSum        106         97 203"
          },
          "metadata": {},
          "output_type": "display_data"
        }
      ]
    },
    {
      "metadata": {
        "trusted": false
      },
      "cell_type": "code",
      "source": "prop.table(table(dataM)) # this is better for single variable rather than two-way tables",
      "execution_count": 25,
      "outputs": [
        {
          "data": {
            "text/plain": "dataM\n  34   44   53   72 \n0.25 0.25 0.25 0.25 "
          },
          "metadata": {},
          "output_type": "display_data"
        }
      ]
    },
    {
      "metadata": {
        "scrolled": false,
        "trusted": false
      },
      "cell_type": "code",
      "source": "prop.table(dataM, 1)",
      "execution_count": 21,
      "outputs": [
        {
          "data": {
            "text/html": "<table>\n<thead><tr><th></th><th scope=col>Smoker</th><th scope=col>Non_Smoker</th></tr></thead>\n<tbody>\n\t<tr><th scope=row>Male</th><td>0.6206897</td><td>0.3793103</td></tr>\n\t<tr><th scope=row>Female</th><td>0.3908046</td><td>0.6091954</td></tr>\n</tbody>\n</table>\n",
            "text/latex": "\\begin{tabular}{r|ll}\n  & Smoker & Non\\_Smoker\\\\\n\\hline\n\tMale & 0.6206897 & 0.3793103\\\\\n\tFemale & 0.3908046 & 0.6091954\\\\\n\\end{tabular}\n",
            "text/markdown": "\n| <!--/--> | Smoker | Non_Smoker | \n|---|---|\n| Male | 0.6206897 | 0.3793103 | \n| Female | 0.3908046 | 0.6091954 | \n\n\n",
            "text/plain": "       Smoker    Non_Smoker\nMale   0.6206897 0.3793103 \nFemale 0.3908046 0.6091954 "
          },
          "metadata": {},
          "output_type": "display_data"
        }
      ]
    },
    {
      "metadata": {
        "trusted": false
      },
      "cell_type": "code",
      "source": "prop.table(dataM, 2)",
      "execution_count": 23,
      "outputs": [
        {
          "data": {
            "text/html": "<table>\n<thead><tr><th></th><th scope=col>Smoker</th><th scope=col>Non_Smoker</th></tr></thead>\n<tbody>\n\t<tr><th scope=row>Male</th><td>0.6792453</td><td>0.4536082</td></tr>\n\t<tr><th scope=row>Female</th><td>0.3207547</td><td>0.5463918</td></tr>\n</tbody>\n</table>\n",
            "text/latex": "\\begin{tabular}{r|ll}\n  & Smoker & Non\\_Smoker\\\\\n\\hline\n\tMale & 0.6792453 & 0.4536082\\\\\n\tFemale & 0.3207547 & 0.5463918\\\\\n\\end{tabular}\n",
            "text/markdown": "\n| <!--/--> | Smoker | Non_Smoker | \n|---|---|\n| Male | 0.6792453 | 0.4536082 | \n| Female | 0.3207547 | 0.5463918 | \n\n\n",
            "text/plain": "       Smoker    Non_Smoker\nMale   0.6792453 0.4536082 \nFemale 0.3207547 0.5463918 "
          },
          "metadata": {},
          "output_type": "display_data"
        }
      ]
    },
    {
      "metadata": {
        "trusted": false
      },
      "cell_type": "code",
      "source": "prop.table(dataM)",
      "execution_count": 22,
      "outputs": [
        {
          "data": {
            "text/html": "<table>\n<thead><tr><th></th><th scope=col>Smoker</th><th scope=col>Non_Smoker</th></tr></thead>\n<tbody>\n\t<tr><th scope=row>Male</th><td>0.3546798</td><td>0.2167488</td></tr>\n\t<tr><th scope=row>Female</th><td>0.1674877</td><td>0.2610837</td></tr>\n</tbody>\n</table>\n",
            "text/latex": "\\begin{tabular}{r|ll}\n  & Smoker & Non\\_Smoker\\\\\n\\hline\n\tMale & 0.3546798 & 0.2167488\\\\\n\tFemale & 0.1674877 & 0.2610837\\\\\n\\end{tabular}\n",
            "text/markdown": "\n| <!--/--> | Smoker | Non_Smoker | \n|---|---|\n| Male | 0.3546798 | 0.2167488 | \n| Female | 0.1674877 | 0.2610837 | \n\n\n",
            "text/plain": "       Smoker    Non_Smoker\nMale   0.3546798 0.2167488 \nFemale 0.1674877 0.2610837 "
          },
          "metadata": {},
          "output_type": "display_data"
        }
      ]
    },
    {
      "metadata": {
        "trusted": false
      },
      "cell_type": "code",
      "source": "#install.packages(\"gmodels\")\nlibrary(gmodels)",
      "execution_count": 14,
      "outputs": []
    },
    {
      "metadata": {
        "trusted": false
      },
      "cell_type": "code",
      "source": "CrossTable(dataM) # total contingency table using CrossTable function from gmodels package",
      "execution_count": 15,
      "outputs": [
        {
          "name": "stdout",
          "output_type": "stream",
          "text": "\n \n   Cell Contents\n|-------------------------|\n|                       N |\n| Chi-square contribution |\n|           N / Row Total |\n|           N / Col Total |\n|         N / Table Total |\n|-------------------------|\n\n \nTotal Observations in Table:  203 \n\n \n             |  \n             |     Smoker | Non_Smoker |  Row Total | \n-------------|------------|------------|------------|\n        Male |         72 |         44 |        116 | \n             |      2.156 |      2.356 |            | \n             |      0.621 |      0.379 |      0.571 | \n             |      0.679 |      0.454 |            | \n             |      0.355 |      0.217 |            | \n-------------|------------|------------|------------|\n      Female |         34 |         53 |         87 | \n             |      2.875 |      3.142 |            | \n             |      0.391 |      0.609 |      0.429 | \n             |      0.321 |      0.546 |            | \n             |      0.167 |      0.261 |            | \n-------------|------------|------------|------------|\nColumn Total |        106 |         97 |        203 | \n             |      0.522 |      0.478 |            | \n-------------|------------|------------|------------|\n\n \n"
        }
      ]
    },
    {
      "metadata": {
        "collapsed": true
      },
      "cell_type": "markdown",
      "source": "## data.table"
    },
    {
      "metadata": {},
      "cell_type": "markdown",
      "source": "https://s3.amazonaws.com/assets.datacamp.com/img/blog/data+table+cheat+sheet.pdf"
    },
    {
      "metadata": {},
      "cell_type": "markdown",
      "source": "## Tidy Data"
    },
    {
      "metadata": {},
      "cell_type": "markdown",
      "source": "* Each variable in the data set is placed in its own column  \n* Each observation is placed in its own row  \n* Each value is placed in its own cell  \n  \nHadley Wickham's journal of statistical software paper:  \nhttps://vita.had.co.nz/papers/tidy-data.pdf  "
    },
    {
      "metadata": {},
      "cell_type": "markdown",
      "source": "![Imgur](https://i.imgur.com/gqMIs85.jpg?2)"
    },
    {
      "metadata": {
        "run_control": {
          "marked": false
        }
      },
      "cell_type": "markdown",
      "source": "## Tidyverse\n**Tools that work together to transform, analyze and visualize tidy data**   \nhttps://www.tidyverse.org  "
    },
    {
      "metadata": {
        "collapsed": true
      },
      "cell_type": "markdown",
      "source": "## tidyr"
    },
    {
      "metadata": {},
      "cell_type": "markdown",
      "source": "**Reshaping data using tidyr package**  \nThe tidyr package, provides 4 functions to help you change the layout of your data set:  \n  \n`separate()`: separate one column into multiple  \n`unite()`: unite multiple columns into one    \n`gather()`: gather (collapse) columns into rows  \n`spread()`: spread rows into columns  \n "
    },
    {
      "metadata": {
        "trusted": false
      },
      "cell_type": "code",
      "source": "data <- read.csv(\"data//players.csv\")",
      "execution_count": 3,
      "outputs": []
    },
    {
      "metadata": {
        "trusted": false
      },
      "cell_type": "code",
      "source": "library(tidyr)",
      "execution_count": 7,
      "outputs": [
        {
          "name": "stderr",
          "output_type": "stream",
          "text": "\nAttaching package: 'tidyr'\n\nThe following object is masked from 'package:reshape2':\n\n    smiths\n\n"
        }
      ]
    },
    {
      "metadata": {
        "trusted": false
      },
      "cell_type": "code",
      "source": "head(data)",
      "execution_count": 8,
      "outputs": [
        {
          "data": {
            "text/html": "<table>\n<thead><tr><th scope=col>First_Name</th><th scope=col>Last_Name</th><th scope=col>Age</th><th scope=col>Home_Town</th></tr></thead>\n<tbody>\n\t<tr><td>Ramesh                </td><td>padala                </td><td>28                    </td><td>Vidhyanagar,Hyderabad </td></tr>\n\t<tr><td>Suresh                </td><td>meruka                </td><td>25                    </td><td>Kazipet, Warangal     </td></tr>\n\t<tr><td>Shankar               </td><td>kedari                </td><td>32                    </td><td>LIC Colony, Vijayawada</td></tr>\n</tbody>\n</table>\n",
            "text/latex": "\\begin{tabular}{r|llll}\n First\\_Name & Last\\_Name & Age & Home\\_Town\\\\\n\\hline\n\t Ramesh                 & padala                 & 28                     & Vidhyanagar,Hyderabad \\\\\n\t Suresh                 & meruka                 & 25                     & Kazipet, Warangal     \\\\\n\t Shankar                & kedari                 & 32                     & LIC Colony, Vijayawada\\\\\n\\end{tabular}\n",
            "text/markdown": "\nFirst_Name | Last_Name | Age | Home_Town | \n|---|---|---|\n| Ramesh                 | padala                 | 28                     | Vidhyanagar,Hyderabad  | \n| Suresh                 | meruka                 | 25                     | Kazipet, Warangal      | \n| Shankar                | kedari                 | 32                     | LIC Colony, Vijayawada | \n\n\n",
            "text/plain": "  First_Name Last_Name Age Home_Town             \n1 Ramesh     padala    28  Vidhyanagar,Hyderabad \n2 Suresh     meruka    25  Kazipet, Warangal     \n3 Shankar    kedari    32  LIC Colony, Vijayawada"
          },
          "metadata": {},
          "output_type": "display_data"
        }
      ]
    },
    {
      "metadata": {
        "scrolled": false,
        "trusted": false
      },
      "cell_type": "code",
      "source": "separate(data, Home_Town, c(\"city\", \"state\"), sep=\",\")",
      "execution_count": 9,
      "outputs": [
        {
          "data": {
            "text/html": "<table>\n<thead><tr><th scope=col>First_Name</th><th scope=col>Last_Name</th><th scope=col>Age</th><th scope=col>city</th><th scope=col>state</th></tr></thead>\n<tbody>\n\t<tr><td>Ramesh     </td><td>padala     </td><td>28         </td><td>Vidhyanagar</td><td>Hyderabad  </td></tr>\n\t<tr><td>Suresh     </td><td>meruka     </td><td>25         </td><td>Kazipet    </td><td> Warangal  </td></tr>\n\t<tr><td>Shankar    </td><td>kedari     </td><td>32         </td><td>LIC Colony </td><td> Vijayawada</td></tr>\n</tbody>\n</table>\n",
            "text/latex": "\\begin{tabular}{r|lllll}\n First\\_Name & Last\\_Name & Age & city & state\\\\\n\\hline\n\t Ramesh      & padala      & 28          & Vidhyanagar & Hyderabad  \\\\\n\t Suresh      & meruka      & 25          & Kazipet     &  Warangal  \\\\\n\t Shankar     & kedari      & 32          & LIC Colony  &  Vijayawada\\\\\n\\end{tabular}\n",
            "text/markdown": "\nFirst_Name | Last_Name | Age | city | state | \n|---|---|---|\n| Ramesh      | padala      | 28          | Vidhyanagar | Hyderabad   | \n| Suresh      | meruka      | 25          | Kazipet     |  Warangal   | \n| Shankar     | kedari      | 32          | LIC Colony  |  Vijayawada | \n\n\n",
            "text/plain": "  First_Name Last_Name Age city        state      \n1 Ramesh     padala    28  Vidhyanagar Hyderabad  \n2 Suresh     meruka    25  Kazipet      Warangal  \n3 Shankar    kedari    32  LIC Colony   Vijayawada"
          },
          "metadata": {},
          "output_type": "display_data"
        }
      ]
    },
    {
      "metadata": {
        "scrolled": true,
        "trusted": false
      },
      "cell_type": "code",
      "source": "unite(data, \"Name\", c(First_Name, Last_Name), sep=\" \")",
      "execution_count": 10,
      "outputs": [
        {
          "data": {
            "text/html": "<table>\n<thead><tr><th scope=col>Name</th><th scope=col>Age</th><th scope=col>Home_Town</th></tr></thead>\n<tbody>\n\t<tr><td>Ramesh padala         </td><td>28                    </td><td>Vidhyanagar,Hyderabad </td></tr>\n\t<tr><td>Suresh meruka         </td><td>25                    </td><td>Kazipet, Warangal     </td></tr>\n\t<tr><td>Shankar kedari        </td><td>32                    </td><td>LIC Colony, Vijayawada</td></tr>\n</tbody>\n</table>\n",
            "text/latex": "\\begin{tabular}{r|lll}\n Name & Age & Home\\_Town\\\\\n\\hline\n\t Ramesh padala          & 28                     & Vidhyanagar,Hyderabad \\\\\n\t Suresh meruka          & 25                     & Kazipet, Warangal     \\\\\n\t Shankar kedari         & 32                     & LIC Colony, Vijayawada\\\\\n\\end{tabular}\n",
            "text/markdown": "\nName | Age | Home_Town | \n|---|---|---|\n| Ramesh padala          | 28                     | Vidhyanagar,Hyderabad  | \n| Suresh meruka          | 25                     | Kazipet, Warangal      | \n| Shankar kedari         | 32                     | LIC Colony, Vijayawada | \n\n\n",
            "text/plain": "  Name           Age Home_Town             \n1 Ramesh padala  28  Vidhyanagar,Hyderabad \n2 Suresh meruka  25  Kazipet, Warangal     \n3 Shankar kedari 32  LIC Colony, Vijayawada"
          },
          "metadata": {},
          "output_type": "display_data"
        }
      ]
    },
    {
      "metadata": {
        "trusted": false
      },
      "cell_type": "code",
      "source": "data1 <- read.csv(\"data//homeruns.csv\")",
      "execution_count": 11,
      "outputs": []
    },
    {
      "metadata": {
        "trusted": false
      },
      "cell_type": "code",
      "source": "head(data1)",
      "execution_count": 12,
      "outputs": [
        {
          "data": {
            "text/html": "<table>\n<thead><tr><th scope=col>Player</th><th scope=col>x2015</th><th scope=col>x2014</th><th scope=col>x2013</th></tr></thead>\n<tbody>\n\t<tr><td>Mike Trout   </td><td>41           </td><td>36           </td><td>27           </td></tr>\n\t<tr><td>Bryce Harper </td><td>42           </td><td>13           </td><td>20           </td></tr>\n\t<tr><td>Jose Bautista</td><td>40           </td><td>35           </td><td>28           </td></tr>\n</tbody>\n</table>\n",
            "text/latex": "\\begin{tabular}{r|llll}\n Player & x2015 & x2014 & x2013\\\\\n\\hline\n\t Mike Trout    & 41            & 36            & 27           \\\\\n\t Bryce Harper  & 42            & 13            & 20           \\\\\n\t Jose Bautista & 40            & 35            & 28           \\\\\n\\end{tabular}\n",
            "text/markdown": "\nPlayer | x2015 | x2014 | x2013 | \n|---|---|---|\n| Mike Trout    | 41            | 36            | 27            | \n| Bryce Harper  | 42            | 13            | 20            | \n| Jose Bautista | 40            | 35            | 28            | \n\n\n",
            "text/plain": "  Player        x2015 x2014 x2013\n1 Mike Trout    41    36    27   \n2 Bryce Harper  42    13    20   \n3 Jose Bautista 40    35    28   "
          },
          "metadata": {},
          "output_type": "display_data"
        }
      ]
    },
    {
      "metadata": {
        "trusted": false
      },
      "cell_type": "code",
      "source": "data3 <- gather(data1, year, home_runs,  x2015:x2013)",
      "execution_count": 14,
      "outputs": []
    },
    {
      "metadata": {
        "trusted": false
      },
      "cell_type": "code",
      "source": "data3",
      "execution_count": 15,
      "outputs": [
        {
          "data": {
            "text/html": "<table>\n<thead><tr><th scope=col>Player</th><th scope=col>year</th><th scope=col>home_runs</th></tr></thead>\n<tbody>\n\t<tr><td>Mike Trout   </td><td>x2015        </td><td>41           </td></tr>\n\t<tr><td>Bryce Harper </td><td>x2015        </td><td>42           </td></tr>\n\t<tr><td>Jose Bautista</td><td>x2015        </td><td>40           </td></tr>\n\t<tr><td>Mike Trout   </td><td>x2014        </td><td>36           </td></tr>\n\t<tr><td>Bryce Harper </td><td>x2014        </td><td>13           </td></tr>\n\t<tr><td>Jose Bautista</td><td>x2014        </td><td>35           </td></tr>\n\t<tr><td>Mike Trout   </td><td>x2013        </td><td>27           </td></tr>\n\t<tr><td>Bryce Harper </td><td>x2013        </td><td>20           </td></tr>\n\t<tr><td>Jose Bautista</td><td>x2013        </td><td>28           </td></tr>\n</tbody>\n</table>\n",
            "text/latex": "\\begin{tabular}{r|lll}\n Player & year & home\\_runs\\\\\n\\hline\n\t Mike Trout    & x2015         & 41           \\\\\n\t Bryce Harper  & x2015         & 42           \\\\\n\t Jose Bautista & x2015         & 40           \\\\\n\t Mike Trout    & x2014         & 36           \\\\\n\t Bryce Harper  & x2014         & 13           \\\\\n\t Jose Bautista & x2014         & 35           \\\\\n\t Mike Trout    & x2013         & 27           \\\\\n\t Bryce Harper  & x2013         & 20           \\\\\n\t Jose Bautista & x2013         & 28           \\\\\n\\end{tabular}\n",
            "text/markdown": "\nPlayer | year | home_runs | \n|---|---|---|---|---|---|---|---|---|\n| Mike Trout    | x2015         | 41            | \n| Bryce Harper  | x2015         | 42            | \n| Jose Bautista | x2015         | 40            | \n| Mike Trout    | x2014         | 36            | \n| Bryce Harper  | x2014         | 13            | \n| Jose Bautista | x2014         | 35            | \n| Mike Trout    | x2013         | 27            | \n| Bryce Harper  | x2013         | 20            | \n| Jose Bautista | x2013         | 28            | \n\n\n",
            "text/plain": "  Player        year  home_runs\n1 Mike Trout    x2015 41       \n2 Bryce Harper  x2015 42       \n3 Jose Bautista x2015 40       \n4 Mike Trout    x2014 36       \n5 Bryce Harper  x2014 13       \n6 Jose Bautista x2014 35       \n7 Mike Trout    x2013 27       \n8 Bryce Harper  x2013 20       \n9 Jose Bautista x2013 28       "
          },
          "metadata": {},
          "output_type": "display_data"
        }
      ]
    },
    {
      "metadata": {
        "scrolled": true,
        "trusted": false
      },
      "cell_type": "code",
      "source": "spread(data3, year, home_runs)",
      "execution_count": 16,
      "outputs": [
        {
          "data": {
            "text/html": "<table>\n<thead><tr><th scope=col>Player</th><th scope=col>x2013</th><th scope=col>x2014</th><th scope=col>x2015</th></tr></thead>\n<tbody>\n\t<tr><td>Bryce Harper </td><td>20           </td><td>13           </td><td>42           </td></tr>\n\t<tr><td>Jose Bautista</td><td>28           </td><td>35           </td><td>40           </td></tr>\n\t<tr><td>Mike Trout   </td><td>27           </td><td>36           </td><td>41           </td></tr>\n</tbody>\n</table>\n",
            "text/latex": "\\begin{tabular}{r|llll}\n Player & x2013 & x2014 & x2015\\\\\n\\hline\n\t Bryce Harper  & 20            & 13            & 42           \\\\\n\t Jose Bautista & 28            & 35            & 40           \\\\\n\t Mike Trout    & 27            & 36            & 41           \\\\\n\\end{tabular}\n",
            "text/markdown": "\nPlayer | x2013 | x2014 | x2015 | \n|---|---|---|\n| Bryce Harper  | 20            | 13            | 42            | \n| Jose Bautista | 28            | 35            | 40            | \n| Mike Trout    | 27            | 36            | 41            | \n\n\n",
            "text/plain": "  Player        x2013 x2014 x2015\n1 Bryce Harper  20    13    42   \n2 Jose Bautista 28    35    40   \n3 Mike Trout    27    36    41   "
          },
          "metadata": {},
          "output_type": "display_data"
        }
      ]
    },
    {
      "metadata": {
        "collapsed": true
      },
      "cell_type": "markdown",
      "source": "## reshape2"
    },
    {
      "metadata": {},
      "cell_type": "markdown",
      "source": "![Imgur](https://i.imgur.com/AjpEZ8z.png?1)"
    },
    {
      "metadata": {},
      "cell_type": "markdown",
      "source": "https://rpubs.com/aaronsaunders/14391  \nhttps://www.listendata.com/2016/01/transpose-data-in-r.html  "
    },
    {
      "metadata": {},
      "cell_type": "markdown",
      "source": "## Piping with `%>%` from `magrittr` package"
    },
    {
      "metadata": {
        "collapsed": true
      },
      "cell_type": "markdown",
      "source": "## dplyr"
    },
    {
      "metadata": {},
      "cell_type": "markdown",
      "source": "![Imgur](https://i.imgur.com/DNMxDWh.png?1)"
    },
    {
      "metadata": {},
      "cell_type": "markdown",
      "source": "## working with fivethirtyeight data"
    },
    {
      "metadata": {},
      "cell_type": "markdown",
      "source": "http://www.storybench.org/getting-started-with-tidyverse-in-r/  \nhttp://www.storybench.org/how-to-explore-a-dataset-from-the-fivethirtyeight-package-in-r/  "
    },
    {
      "metadata": {},
      "cell_type": "markdown",
      "source": "<span style=\"color:red; font-family:Comic Sans MS\">References</span>  \n<a href=\"https://tbrieder.org/epidata/course_reading/e_aragon.pdf\" target=\"_blank\">https://tbrieder.org/epidata/course_reading/e_aragon.pdf</a>"
    },
    {
      "metadata": {},
      "cell_type": "markdown",
      "source": "<span style=\"color:red; font-family:brandon\">Further  Resources</span>  \n<a href=\"https://www.rstudio.com/wp-content/uploads/2015/02/data-wrangling-cheatsheet.pdf\"   target=\"_blank\">https://www.rstudio.com/wp-content/uploads/2015/02/data-wrangling-cheatsheet.pdf</a>    \n<a href=\"https://ugoproto.github.io/ugo_r_doc/dplyr.pdf\" target=\"_blank\">https://ugoproto.github.io/ugo_r_doc/dplyr.pdf</a>  \n<a href=\"https://rpubs.com/bradleyboehmke/data_wrangling\" target=\"_blank\">https://rpubs.com/bradleyboehmke/data_wrangling</a>  "
    },
    {
      "metadata": {
        "trusted": false
      },
      "cell_type": "code",
      "source": "",
      "execution_count": null,
      "outputs": []
    }
  ],
  "metadata": {
    "celltoolbar": "Slideshow",
    "hide_input": false,
    "kernelspec": {
      "name": "r",
      "display_name": "R",
      "language": "R"
    },
    "language_info": {
      "mimetype": "text/x-r-source",
      "name": "R",
      "pygments_lexer": "r",
      "version": "3.4.1",
      "file_extension": ".r",
      "codemirror_mode": "r"
    },
    "toc": {
      "nav_menu": {},
      "number_sections": true,
      "sideBar": true,
      "skip_h1_title": false,
      "base_numbering": 1,
      "title_cell": "Table of Contents",
      "title_sidebar": "Contents",
      "toc_cell": false,
      "toc_position": {},
      "toc_section_display": true,
      "toc_window_display": false
    }
  },
  "nbformat": 4,
  "nbformat_minor": 2
}