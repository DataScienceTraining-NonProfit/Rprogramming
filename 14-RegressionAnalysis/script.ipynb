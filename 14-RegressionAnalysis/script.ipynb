{
 "cells": [
  {
   "cell_type": "code",
   "execution_count": null,
   "metadata": {},
   "outputs": [],
   "source": [
    "head(mtcars)"
   ]
  },
  {
   "cell_type": "code",
   "execution_count": null,
   "metadata": {},
   "outputs": [],
   "source": [
    "# Simple Linear Regression\n",
    "\n",
    "# Importing the dataset\n",
    "dataset = read.csv('data/income.csv')\n",
    "\n",
    "# Splitting the dataset into the Training set and Test set\n",
    "install.packages('caTools')"
   ]
  },
  {
   "cell_type": "code",
   "execution_count": 2,
   "metadata": {},
   "outputs": [
    {
     "ename": "ERROR",
     "evalue": "Error in library(caTools): there is no package called 'caTools'\n",
     "output_type": "error",
     "traceback": [
      "Error in library(caTools): there is no package called 'caTools'\nTraceback:\n",
      "1. library(caTools)",
      "2. stop(txt, domain = NA)"
     ]
    }
   ],
   "source": [
    "library(caTools)\n",
    "set.seed(123)\n",
    "split = sample.split(dataset$income, SplitRatio = 2/3)\n",
    "training_set = subset(dataset, split == TRUE)\n",
    "test_set = subset(dataset, split == FALSE)\n",
    "\n",
    "# Feature Scaling\n",
    "# training_set = scale(training_set)\n",
    "# test_set = scale(test_set)\n",
    "\n",
    "# Fitting Simple Linear Regression to the Training set\n",
    "regressor = lm(formula = income ~ Exp,\n",
    "               data = training_set)\n",
    "\n",
    "# Predicting the Test set results\n",
    "y_pred = predict(regressor, newdata = test_set)\n",
    "\n",
    "# Visualising the Training set results\n",
    "library(ggplot2)\n",
    "ggplot() +\n",
    "  geom_point(aes(x = training_set$Exp, y = training_set$income),\n",
    "             colour = 'red') +\n",
    "  geom_line(aes(x = training_set$Exp, y = predict(regressor, newdata = training_set)),\n",
    "            colour = 'blue') +\n",
    "  ggtitle('income vs Experience (Training set)') +\n",
    "  xlab('Years of experience') +\n",
    "  ylab('income')\n",
    "\n",
    "# Visualising the Test set results\n",
    "library(ggplot2)\n",
    "ggplot() +\n",
    "  geom_point(aes(x = test_set$Exp, y = test_set$income),\n",
    "             colour = 'red') +\n",
    "  geom_line(aes(x = training_set$Exp, y = predict(regressor, newdata = training_set)),\n",
    "            colour = 'blue') +\n",
    "  ggtitle('income vs Experience (Test set)') +\n",
    "  xlab('Years of experience') +\n",
    "  ylab('income')"
   ]
  },
  {
   "cell_type": "code",
   "execution_count": null,
   "metadata": {},
   "outputs": [],
   "source": [
    "# Multiple Linear Regression\n",
    "\n",
    "# Importing the dataset\n",
    "dataset = read.csv('data/companies.csv')\n",
    "\n",
    "# Encoding categorical data\n",
    "dataset$State = factor(dataset$State,\n",
    "                       levels = c('New York', 'California', 'Florida'),\n",
    "                       labels = c(1, 2, 3))\n",
    "\n",
    "# Splitting the dataset into the Training set and Test set\n",
    "# install.packages('caTools')\n",
    "library(caTools)\n",
    "set.seed(123)\n",
    "split = sample.split(dataset$Profit, SplitRatio = 0.8)\n",
    "training_set = subset(dataset, split == TRUE)\n",
    "test_set = subset(dataset, split == FALSE)\n",
    "\n",
    "# Feature Scaling\n",
    "# training_set = scale(training_set)\n",
    "# test_set = scale(test_set)\n",
    "\n",
    "# Fitting Multiple Linear Regression to the Training set\n",
    "regressor = lm(formula = Profit ~ .,\n",
    "               data = training_set)\n",
    "\n",
    "# Predicting the Test set results\n",
    "y_pred = predict(regressor, newdata = test_set)"
   ]
  }
 ],
 "metadata": {
  "hide_input": false,
  "kernelspec": {
   "display_name": "R",
   "language": "R",
   "name": "ir"
  },
  "language_info": {
   "codemirror_mode": "r",
   "file_extension": ".r",
   "mimetype": "text/x-r-source",
   "name": "R",
   "pygments_lexer": "r",
   "version": "3.4.3"
  },
  "toc": {
   "base_numbering": 1,
   "nav_menu": {},
   "number_sections": true,
   "sideBar": true,
   "skip_h1_title": false,
   "title_cell": "Table of Contents",
   "title_sidebar": "Contents",
   "toc_cell": false,
   "toc_position": {},
   "toc_section_display": true,
   "toc_window_display": false
  }
 },
 "nbformat": 4,
 "nbformat_minor": 2
}
