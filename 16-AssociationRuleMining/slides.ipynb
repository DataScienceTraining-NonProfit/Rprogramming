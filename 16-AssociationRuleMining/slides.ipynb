{
 "cells": [
  {
   "cell_type": "code",
   "execution_count": null,
   "metadata": {},
   "outputs": [],
   "source": []
  },
  {
   "cell_type": "code",
   "execution_count": 2,
   "metadata": {},
   "outputs": [
    {
     "name": "stdout",
     "output_type": "stream",
     "text": [
      "package 'arules' successfully unpacked and MD5 sums checked\n",
      "\n",
      "The downloaded binary packages are in\n",
      "\tC:\\Users\\User\\AppData\\Local\\Temp\\RtmpEXWcKI\\downloaded_packages\n"
     ]
    },
    {
     "name": "stderr",
     "output_type": "stream",
     "text": [
      "also installing the dependencies 'mclust', 'flexmix', 'prabclus', 'diptest', 'trimcluster', 'gridExtra', 'fpc', 'viridis', 'TSP', 'qap', 'gclus', 'dendextend', 'registry', 'irlba', 'crosstalk', 'scatterplot3d', 'seriation', 'igraph', 'DT', 'plotly'\n",
      "\n"
     ]
    },
    {
     "name": "stdout",
     "output_type": "stream",
     "text": [
      "package 'mclust' successfully unpacked and MD5 sums checked\n",
      "package 'flexmix' successfully unpacked and MD5 sums checked\n",
      "package 'prabclus' successfully unpacked and MD5 sums checked\n",
      "package 'diptest' successfully unpacked and MD5 sums checked\n",
      "package 'trimcluster' successfully unpacked and MD5 sums checked\n",
      "package 'gridExtra' successfully unpacked and MD5 sums checked\n",
      "package 'fpc' successfully unpacked and MD5 sums checked\n",
      "package 'viridis' successfully unpacked and MD5 sums checked\n",
      "package 'TSP' successfully unpacked and MD5 sums checked\n",
      "package 'qap' successfully unpacked and MD5 sums checked\n",
      "package 'gclus' successfully unpacked and MD5 sums checked\n",
      "package 'dendextend' successfully unpacked and MD5 sums checked\n",
      "package 'registry' successfully unpacked and MD5 sums checked\n",
      "package 'irlba' successfully unpacked and MD5 sums checked\n",
      "package 'crosstalk' successfully unpacked and MD5 sums checked\n",
      "package 'scatterplot3d' successfully unpacked and MD5 sums checked\n",
      "package 'seriation' successfully unpacked and MD5 sums checked\n",
      "package 'igraph' successfully unpacked and MD5 sums checked\n",
      "package 'DT' successfully unpacked and MD5 sums checked\n",
      "package 'plotly' successfully unpacked and MD5 sums checked\n",
      "package 'arulesViz' successfully unpacked and MD5 sums checked\n",
      "\n",
      "The downloaded binary packages are in\n",
      "\tC:\\Users\\User\\AppData\\Local\\Temp\\RtmpEXWcKI\\downloaded_packages\n"
     ]
    }
   ],
   "source": [
    "# install.packages(\"arules\")\n",
    "# install.packages(\"arulesViz\")"
   ]
  },
  {
   "cell_type": "code",
   "execution_count": 2,
   "metadata": {},
   "outputs": [
    {
     "name": "stderr",
     "output_type": "stream",
     "text": [
      "Loading required package: Matrix\n",
      "\n",
      "Attaching package: 'arules'\n",
      "\n",
      "The following objects are masked from 'package:base':\n",
      "\n",
      "    abbreviate, write\n",
      "\n",
      "Loading required package: grid\n"
     ]
    }
   ],
   "source": [
    "library(arules)\n",
    "library(arulesViz)\n",
    "# library(datasets)"
   ]
  },
  {
   "cell_type": "code",
   "execution_count": 3,
   "metadata": {},
   "outputs": [
    {
     "name": "stdout",
     "output_type": "stream",
     "text": [
      "     lhs                      rhs      support confidence lift     \n",
      "[1]  {laptop}              => {mobile} 0.125   1.0000000  1.6000000\n",
      "[2]  {headset,laptop}      => {mobile} 0.125   1.0000000  1.6000000\n",
      "[3]  {charger,pad}         => {mobile} 0.125   1.0000000  1.6000000\n",
      "[4]  {charger,headset,pad} => {mobile} 0.125   1.0000000  1.6000000\n",
      "[5]  {charger}             => {mobile} 0.250   0.6666667  1.0666667\n",
      "[6]  {pad}                 => {mobile} 0.250   0.6666667  1.0666667\n",
      "[7]  {headset,pad}         => {mobile} 0.250   0.6666667  1.0666667\n",
      "[8]  {}                    => {mobile} 0.625   0.6250000  1.0000000\n",
      "[9]  {headset}             => {mobile} 0.500   0.5714286  0.9142857\n",
      "[10] {charger,headset}     => {mobile} 0.125   0.5000000  0.8000000\n"
     ]
    },
    {
     "data": {
      "image/png": "[encoded data removed]",
      "text/plain": [
       "plot without title"
      ]
     },
     "metadata": {},
     "output_type": "display_data"
    }
   ],
   "source": [
    "# w1 = read.table(\"C:/Users/sbgowtham/Desktop/comm.csv\")\n",
    "w1 = read.table(\"data//retail.csv\")\n",
    "\n",
    "# trans = read.transactions(\"C:/Users/sbgowtham/Desktop/comm.csv\", format = \"basket\", sep=\",\");\n",
    "trans = read.transactions(\"data//retail.csv\", format = \"basket\", sep=\",\");\n",
    "\n",
    "itemFrequencyPlot(trans,topN=20,type=\"absolute\")\n",
    "\n",
    "\n",
    "rules<-apriori(data=trans, parameter=list(supp=0.001,conf = 0.08), \n",
    "appearance = list(default=\"lhs\",rhs=\"mobile\"),control = list(verbose=F))\n",
    "\n",
    "rules<-sort(rules, decreasing=TRUE,by=\"confidence\")\n",
    "\n",
    "\n",
    "inspect(rules[1:10])\n",
    "\n",
    "\n",
    "plot(rules,method=\"graph\",interactive=TRUE,shading=NA)"
   ]
  },
  {
   "cell_type": "markdown",
   "metadata": {},
   "source": [
    "* Market Basket Analysis is for the retailers to identify relationships between the items that people buy.\n",
    "\n",
    "* Association Rules is widely used to analyze retail basket or transaction data\n",
    "\n",
    "An Example of Association Rules Assume there are 100 customers 10 out of them bought milk, 8 bought butter and 6 bought both of them.\n",
    ">bought milk => bought butter  \n",
    "Support = P(Milk & Butter) = 6/100 = 0.06  \n",
    "confidence = support/P(Butter) = 0.06/0.08 = 0.75  \n",
    "lift = confidence/P(Milk) = 0.75/0.10 = 7.5  "
   ]
  },
  {
   "cell_type": "markdown",
   "metadata": {},
   "source": [
    "Online Retail dataset from UCI Machine Learning repository's   \n",
    "http://archive.ics.uci.edu/ml/datasets/online+retail  "
   ]
  },
  {
   "cell_type": "markdown",
   "metadata": {},
   "source": [
    "https://bit.ly/2xFRaS3  \n",
    "http://www.salemmarafi.com/code/market-basket-analysis-with-r/  \n",
    "https://rpubs.com/emzak208/281776  "
   ]
  }
 ],
 "metadata": {
  "kernelspec": {
   "display_name": "R",
   "language": "R",
   "name": "r"
  },
  "language_info": {
   "codemirror_mode": "r",
   "file_extension": ".r",
   "mimetype": "text/x-r-source",
   "name": "R",
   "pygments_lexer": "r",
   "version": "3.4.1"
  },
  "toc": {
   "base_numbering": 1,
   "nav_menu": {},
   "number_sections": true,
   "sideBar": true,
   "skip_h1_title": false,
   "title_cell": "Table of Contents",
   "title_sidebar": "Contents",
   "toc_cell": false,
   "toc_position": {},
   "toc_section_display": true,
   "toc_window_display": false
  }
 },
 "nbformat": 4,
 "nbformat_minor": 2
}
