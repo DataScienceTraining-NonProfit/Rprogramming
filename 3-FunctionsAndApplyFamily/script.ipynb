{
 "cells": [
  {
   "cell_type": "code",
   "execution_count": 3,
   "metadata": {},
   "outputs": [
    {
     "data": {
      "text/html": [
       "<table>\n",
       "<tbody>\n",
       "\t<tr><td>January  </td><td>April    </td><td>July     </td><td>October  </td></tr>\n",
       "\t<tr><td>February </td><td>May      </td><td>August   </td><td>November </td></tr>\n",
       "\t<tr><td>March    </td><td>June     </td><td>September</td><td>December </td></tr>\n",
       "</tbody>\n",
       "</table>\n"
      ],
      "text/latex": [
       "\\begin{tabular}{llll}\n",
       "\t January   & April     & July      & October  \\\\\n",
       "\t February  & May       & August    & November \\\\\n",
       "\t March     & June      & September & December \\\\\n",
       "\\end{tabular}\n"
      ],
      "text/markdown": [
       "\n",
       "| January   | April     | July      | October   | \n",
       "| February  | May       | August    | November  | \n",
       "| March     | June      | September | December  | \n",
       "\n",
       "\n"
      ],
      "text/plain": [
       "     [,1]     [,2]  [,3]      [,4]    \n",
       "[1,] January  April July      October \n",
       "[2,] February May   August    November\n",
       "[3,] March    June  September December"
      ]
     },
     "metadata": {},
     "output_type": "display_data"
    },
    {
     "data": {
      "text/html": [
       "<table>\n",
       "<tbody>\n",
       "\t<tr><td>7</td><td>5</td><td>4</td><td>7</td></tr>\n",
       "\t<tr><td>8</td><td>3</td><td>6</td><td>8</td></tr>\n",
       "\t<tr><td>5</td><td>4</td><td>9</td><td>8</td></tr>\n",
       "</tbody>\n",
       "</table>\n"
      ],
      "text/latex": [
       "\\begin{tabular}{llll}\n",
       "\t 7 & 5 & 4 & 7\\\\\n",
       "\t 8 & 3 & 6 & 8\\\\\n",
       "\t 5 & 4 & 9 & 8\\\\\n",
       "\\end{tabular}\n"
      ],
      "text/markdown": [
       "\n",
       "| 7 | 5 | 4 | 7 | \n",
       "| 8 | 3 | 6 | 8 | \n",
       "| 5 | 4 | 9 | 8 | \n",
       "\n",
       "\n"
      ],
      "text/plain": [
       "     [,1] [,2] [,3] [,4]\n",
       "[1,] 7    5    4    7   \n",
       "[2,] 8    3    6    8   \n",
       "[3,] 5    4    9    8   "
      ]
     },
     "metadata": {},
     "output_type": "display_data"
    },
    {
     "data": {
      "text/html": [
       "<table>\n",
       "<tbody>\n",
       "\t<tr><td>7</td><td>8</td><td>5</td></tr>\n",
       "\t<tr><td>5</td><td>3</td><td>4</td></tr>\n",
       "\t<tr><td>4</td><td>6</td><td>9</td></tr>\n",
       "\t<tr><td>7</td><td>8</td><td>8</td></tr>\n",
       "</tbody>\n",
       "</table>\n"
      ],
      "text/latex": [
       "\\begin{tabular}{lll}\n",
       "\t 7 & 8 & 5\\\\\n",
       "\t 5 & 3 & 4\\\\\n",
       "\t 4 & 6 & 9\\\\\n",
       "\t 7 & 8 & 8\\\\\n",
       "\\end{tabular}\n"
      ],
      "text/markdown": [
       "\n",
       "| 7 | 8 | 5 | \n",
       "| 5 | 3 | 4 | \n",
       "| 4 | 6 | 9 | \n",
       "| 7 | 8 | 8 | \n",
       "\n",
       "\n"
      ],
      "text/plain": [
       "     [,1] [,2] [,3]\n",
       "[1,] 7    8    5   \n",
       "[2,] 5    3    4   \n",
       "[3,] 4    6    9   \n",
       "[4,] 7    8    8   "
      ]
     },
     "metadata": {},
     "output_type": "display_data"
    },
    {
     "data": {
      "text/html": [
       "<ol class=list-inline>\n",
       "\t<li>1</li>\n",
       "\t<li>2</li>\n",
       "\t<li>3</li>\n",
       "\t<li>4</li>\n",
       "\t<li>5</li>\n",
       "\t<li>6</li>\n",
       "\t<li>7</li>\n",
       "\t<li>8</li>\n",
       "\t<li>9</li>\n",
       "\t<li>10</li>\n",
       "\t<li>11</li>\n",
       "\t<li>12</li>\n",
       "\t<li>13</li>\n",
       "\t<li>14</li>\n",
       "\t<li>15</li>\n",
       "\t<li>16</li>\n",
       "\t<li>17</li>\n",
       "\t<li>18</li>\n",
       "</ol>\n"
      ],
      "text/latex": [
       "\\begin{enumerate*}\n",
       "\\item 1\n",
       "\\item 2\n",
       "\\item 3\n",
       "\\item 4\n",
       "\\item 5\n",
       "\\item 6\n",
       "\\item 7\n",
       "\\item 8\n",
       "\\item 9\n",
       "\\item 10\n",
       "\\item 11\n",
       "\\item 12\n",
       "\\item 13\n",
       "\\item 14\n",
       "\\item 15\n",
       "\\item 16\n",
       "\\item 17\n",
       "\\item 18\n",
       "\\end{enumerate*}\n"
      ],
      "text/markdown": [
       "1. 1\n",
       "2. 2\n",
       "3. 3\n",
       "4. 4\n",
       "5. 5\n",
       "6. 6\n",
       "7. 7\n",
       "8. 8\n",
       "9. 9\n",
       "10. 10\n",
       "11. 11\n",
       "12. 12\n",
       "13. 13\n",
       "14. 14\n",
       "15. 15\n",
       "16. 16\n",
       "17. 17\n",
       "18. 18\n",
       "\n",
       "\n"
      ],
      "text/plain": [
       ", , 1\n",
       "\n",
       "     [,1] [,2] [,3]\n",
       "[1,]    1    3    5\n",
       "[2,]    2    4    6\n",
       "\n",
       ", , 2\n",
       "\n",
       "     [,1] [,2] [,3]\n",
       "[1,]    7    9   11\n",
       "[2,]    8   10   12\n",
       "\n",
       ", , 3\n",
       "\n",
       "     [,1] [,2] [,3]\n",
       "[1,]   13   15   17\n",
       "[2,]   14   16   18\n"
      ]
     },
     "metadata": {},
     "output_type": "display_data"
    },
    {
     "data": {
      "text/html": [
       "<ol class=list-inline>\n",
       "\t<li>9</li>\n",
       "\t<li>10</li>\n",
       "</ol>\n"
      ],
      "text/latex": [
       "\\begin{enumerate*}\n",
       "\\item 9\n",
       "\\item 10\n",
       "\\end{enumerate*}\n"
      ],
      "text/markdown": [
       "1. 9\n",
       "2. 10\n",
       "\n",
       "\n"
      ],
      "text/plain": [
       "[1]  9 10"
      ]
     },
     "metadata": {},
     "output_type": "display_data"
    },
    {
     "data": {
      "text/html": [
       "9"
      ],
      "text/latex": [
       "9"
      ],
      "text/markdown": [
       "9"
      ],
      "text/plain": [
       "[1] 9"
      ]
     },
     "metadata": {},
     "output_type": "display_data"
    },
    {
     "data": {
      "text/html": [
       "9"
      ],
      "text/latex": [
       "9"
      ],
      "text/markdown": [
       "9"
      ],
      "text/plain": [
       "[1] 9"
      ]
     },
     "metadata": {},
     "output_type": "display_data"
    },
    {
     "data": {
      "text/html": [
       "<ol class=list-inline>\n",
       "\t<li>7.5</li>\n",
       "\t<li>9.5</li>\n",
       "\t<li>11.5</li>\n",
       "</ol>\n"
      ],
      "text/latex": [
       "\\begin{enumerate*}\n",
       "\\item 7.5\n",
       "\\item 9.5\n",
       "\\item 11.5\n",
       "\\end{enumerate*}\n"
      ],
      "text/markdown": [
       "1. 7.5\n",
       "2. 9.5\n",
       "3. 11.5\n",
       "\n",
       "\n"
      ],
      "text/plain": [
       "[1]  7.5  9.5 11.5"
      ]
     },
     "metadata": {},
     "output_type": "display_data"
    },
    {
     "data": {
      "text/html": [
       "7.5"
      ],
      "text/latex": [
       "7.5"
      ],
      "text/markdown": [
       "7.5"
      ],
      "text/plain": [
       "[1] 7.5"
      ]
     },
     "metadata": {},
     "output_type": "display_data"
    },
    {
     "data": {
      "text/html": [
       "7.5"
      ],
      "text/latex": [
       "7.5"
      ],
      "text/markdown": [
       "7.5"
      ],
      "text/plain": [
       "[1] 7.5"
      ]
     },
     "metadata": {},
     "output_type": "display_data"
    },
    {
     "data": {
      "text/html": [
       "<ol class=list-inline>\n",
       "\t<li>3.5</li>\n",
       "\t<li>9.5</li>\n",
       "\t<li>15.5</li>\n",
       "</ol>\n"
      ],
      "text/latex": [
       "\\begin{enumerate*}\n",
       "\\item 3.5\n",
       "\\item 9.5\n",
       "\\item 15.5\n",
       "\\end{enumerate*}\n"
      ],
      "text/markdown": [
       "1. 3.5\n",
       "2. 9.5\n",
       "3. 15.5\n",
       "\n",
       "\n"
      ],
      "text/plain": [
       "[1]  3.5  9.5 15.5"
      ]
     },
     "metadata": {},
     "output_type": "display_data"
    },
    {
     "data": {
      "text/html": [
       "3.5"
      ],
      "text/latex": [
       "3.5"
      ],
      "text/markdown": [
       "3.5"
      ],
      "text/plain": [
       "[1] 3.5"
      ]
     },
     "metadata": {},
     "output_type": "display_data"
    },
    {
     "data": {
      "text/html": [
       "3.5"
      ],
      "text/latex": [
       "3.5"
      ],
      "text/markdown": [
       "3.5"
      ],
      "text/plain": [
       "[1] 3.5"
      ]
     },
     "metadata": {},
     "output_type": "display_data"
    },
    {
     "data": {
      "text/html": [
       "<ol>\n",
       "\t<li>7</li>\n",
       "\t<li>8</li>\n",
       "\t<li>5</li>\n",
       "\t<li>5</li>\n",
       "\t<li>3</li>\n",
       "\t<li>4</li>\n",
       "\t<li>4</li>\n",
       "\t<li>6</li>\n",
       "\t<li>9</li>\n",
       "\t<li>7</li>\n",
       "\t<li>8</li>\n",
       "\t<li>8</li>\n",
       "</ol>\n"
      ],
      "text/latex": [
       "\\begin{enumerate}\n",
       "\\item 7\n",
       "\\item 8\n",
       "\\item 5\n",
       "\\item 5\n",
       "\\item 3\n",
       "\\item 4\n",
       "\\item 4\n",
       "\\item 6\n",
       "\\item 9\n",
       "\\item 7\n",
       "\\item 8\n",
       "\\item 8\n",
       "\\end{enumerate}\n"
      ],
      "text/markdown": [
       "1. 7\n",
       "2. 8\n",
       "3. 5\n",
       "4. 5\n",
       "5. 3\n",
       "6. 4\n",
       "7. 4\n",
       "8. 6\n",
       "9. 9\n",
       "10. 7\n",
       "11. 8\n",
       "12. 8\n",
       "\n",
       "\n"
      ],
      "text/plain": [
       "[[1]]\n",
       "[1] 7\n",
       "\n",
       "[[2]]\n",
       "[1] 8\n",
       "\n",
       "[[3]]\n",
       "[1] 5\n",
       "\n",
       "[[4]]\n",
       "[1] 5\n",
       "\n",
       "[[5]]\n",
       "[1] 3\n",
       "\n",
       "[[6]]\n",
       "[1] 4\n",
       "\n",
       "[[7]]\n",
       "[1] 4\n",
       "\n",
       "[[8]]\n",
       "[1] 6\n",
       "\n",
       "[[9]]\n",
       "[1] 9\n",
       "\n",
       "[[10]]\n",
       "[1] 7\n",
       "\n",
       "[[11]]\n",
       "[1] 8\n",
       "\n",
       "[[12]]\n",
       "[1] 8\n"
      ]
     },
     "metadata": {},
     "output_type": "display_data"
    },
    {
     "data": {
      "text/html": [
       "<dl class=dl-horizontal>\n",
       "\t<dt>January</dt>\n",
       "\t\t<dd>7</dd>\n",
       "\t<dt>February</dt>\n",
       "\t\t<dd>8</dd>\n",
       "\t<dt>March</dt>\n",
       "\t\t<dd>5</dd>\n",
       "\t<dt>April</dt>\n",
       "\t\t<dd>5</dd>\n",
       "\t<dt>May</dt>\n",
       "\t\t<dd>3</dd>\n",
       "\t<dt>June</dt>\n",
       "\t\t<dd>4</dd>\n",
       "\t<dt>July</dt>\n",
       "\t\t<dd>4</dd>\n",
       "\t<dt>August</dt>\n",
       "\t\t<dd>6</dd>\n",
       "\t<dt>September</dt>\n",
       "\t\t<dd>9</dd>\n",
       "\t<dt>October</dt>\n",
       "\t\t<dd>7</dd>\n",
       "\t<dt>November</dt>\n",
       "\t\t<dd>8</dd>\n",
       "\t<dt>December</dt>\n",
       "\t\t<dd>8</dd>\n",
       "</dl>\n"
      ],
      "text/latex": [
       "\\begin{description*}\n",
       "\\item[January] 7\n",
       "\\item[February] 8\n",
       "\\item[March] 5\n",
       "\\item[April] 5\n",
       "\\item[May] 3\n",
       "\\item[June] 4\n",
       "\\item[July] 4\n",
       "\\item[August] 6\n",
       "\\item[September] 9\n",
       "\\item[October] 7\n",
       "\\item[November] 8\n",
       "\\item[December] 8\n",
       "\\end{description*}\n"
      ],
      "text/markdown": [
       "January\n",
       ":   7February\n",
       ":   8March\n",
       ":   5April\n",
       ":   5May\n",
       ":   3June\n",
       ":   4July\n",
       ":   4August\n",
       ":   6September\n",
       ":   9October\n",
       ":   7November\n",
       ":   8December\n",
       ":   8\n",
       "\n"
      ],
      "text/plain": [
       "  January  February     March     April       May      June      July    August \n",
       "        7         8         5         5         3         4         4         6 \n",
       "September   October  November  December \n",
       "        9         7         8         8 "
      ]
     },
     "metadata": {},
     "output_type": "display_data"
    },
    {
     "name": "stdout",
     "output_type": "stream",
     "text": [
      "'data.frame':\t150 obs. of  5 variables:\n",
      " $ Sepal.Length: num  5.1 4.9 4.7 4.6 5 5.4 4.6 5 4.4 4.9 ...\n",
      " $ Sepal.Width : num  3.5 3 3.2 3.1 3.6 3.9 3.4 3.4 2.9 3.1 ...\n",
      " $ Petal.Length: num  1.4 1.4 1.3 1.5 1.4 1.7 1.4 1.5 1.4 1.5 ...\n",
      " $ Petal.Width : num  0.2 0.2 0.2 0.2 0.2 0.4 0.3 0.2 0.2 0.1 ...\n",
      " $ Species     : Factor w/ 3 levels \"setosa\",\"versicolor\",..: 1 1 1 1 1 1 1 1 1 1 ...\n",
      "    setosa versicolor  virginica \n",
      "     5.006      5.936      6.588 \n",
      "       4        6        8 \n",
      "26.66364 19.74286 15.10000 \n",
      "       1        2        3        4        6        8 \n",
      "25.34286 22.40000 16.30000 15.79000 19.70000 15.00000 \n",
      "       3        4        5 \n",
      "16.10667 24.53333 21.38000 \n"
     ]
    },
    {
     "data": {
      "text/html": [
       "<table>\n",
       "<thead><tr><th scope=col>Group.1</th><th scope=col>Sepal.Length</th><th scope=col>Sepal.Width</th><th scope=col>Petal.Length</th><th scope=col>Petal.Width</th></tr></thead>\n",
       "<tbody>\n",
       "\t<tr><td>setosa    </td><td>5.006     </td><td>3.428     </td><td>1.462     </td><td>0.246     </td></tr>\n",
       "\t<tr><td>versicolor</td><td>5.936     </td><td>2.770     </td><td>4.260     </td><td>1.326     </td></tr>\n",
       "\t<tr><td>virginica </td><td>6.588     </td><td>2.974     </td><td>5.552     </td><td>2.026     </td></tr>\n",
       "</tbody>\n",
       "</table>\n"
      ],
      "text/latex": [
       "\\begin{tabular}{r|lllll}\n",
       " Group.1 & Sepal.Length & Sepal.Width & Petal.Length & Petal.Width\\\\\n",
       "\\hline\n",
       "\t setosa     & 5.006      & 3.428      & 1.462      & 0.246     \\\\\n",
       "\t versicolor & 5.936      & 2.770      & 4.260      & 1.326     \\\\\n",
       "\t virginica  & 6.588      & 2.974      & 5.552      & 2.026     \\\\\n",
       "\\end{tabular}\n"
      ],
      "text/markdown": [
       "\n",
       "Group.1 | Sepal.Length | Sepal.Width | Petal.Length | Petal.Width | \n",
       "|---|---|---|\n",
       "| setosa     | 5.006      | 3.428      | 1.462      | 0.246      | \n",
       "| versicolor | 5.936      | 2.770      | 4.260      | 1.326      | \n",
       "| virginica  | 6.588      | 2.974      | 5.552      | 2.026      | \n",
       "\n",
       "\n"
      ],
      "text/plain": [
       "  Group.1    Sepal.Length Sepal.Width Petal.Length Petal.Width\n",
       "1 setosa     5.006        3.428       1.462        0.246      \n",
       "2 versicolor 5.936        2.770       4.260        1.326      \n",
       "3 virginica  6.588        2.974       5.552        2.026      "
      ]
     },
     "metadata": {},
     "output_type": "display_data"
    },
    {
     "data": {
      "text/html": [
       "<table>\n",
       "<thead><tr><th scope=col>Group.1</th><th scope=col>Sepal.Length</th><th scope=col>Sepal.Width</th><th scope=col>Petal.Length</th><th scope=col>Petal.Width</th></tr></thead>\n",
       "<tbody>\n",
       "\t<tr><td>setosa    </td><td>5.006     </td><td>3.428     </td><td>1.462     </td><td>0.246     </td></tr>\n",
       "\t<tr><td>versicolor</td><td>5.936     </td><td>2.770     </td><td>4.260     </td><td>1.326     </td></tr>\n",
       "\t<tr><td>virginica </td><td>6.588     </td><td>2.974     </td><td>5.552     </td><td>2.026     </td></tr>\n",
       "</tbody>\n",
       "</table>\n"
      ],
      "text/latex": [
       "\\begin{tabular}{r|lllll}\n",
       " Group.1 & Sepal.Length & Sepal.Width & Petal.Length & Petal.Width\\\\\n",
       "\\hline\n",
       "\t setosa     & 5.006      & 3.428      & 1.462      & 0.246     \\\\\n",
       "\t versicolor & 5.936      & 2.770      & 4.260      & 1.326     \\\\\n",
       "\t virginica  & 6.588      & 2.974      & 5.552      & 2.026     \\\\\n",
       "\\end{tabular}\n"
      ],
      "text/markdown": [
       "\n",
       "Group.1 | Sepal.Length | Sepal.Width | Petal.Length | Petal.Width | \n",
       "|---|---|---|\n",
       "| setosa     | 5.006      | 3.428      | 1.462      | 0.246      | \n",
       "| versicolor | 5.936      | 2.770      | 4.260      | 1.326      | \n",
       "| virginica  | 6.588      | 2.974      | 5.552      | 2.026      | \n",
       "\n",
       "\n"
      ],
      "text/plain": [
       "  Group.1    Sepal.Length Sepal.Width Petal.Length Petal.Width\n",
       "1 setosa     5.006        3.428       1.462        0.246      \n",
       "2 versicolor 5.936        2.770       4.260        1.326      \n",
       "3 virginica  6.588        2.974       5.552        2.026      "
      ]
     },
     "metadata": {},
     "output_type": "display_data"
    },
    {
     "data": {
      "text/html": [
       "<table>\n",
       "<thead><tr><th scope=col>Group.1</th><th scope=col>Sepal.Length</th><th scope=col>Sepal.Width</th><th scope=col>Petal.Length</th><th scope=col>Petal.Width</th></tr></thead>\n",
       "<tbody>\n",
       "\t<tr><td>setosa    </td><td>5.006     </td><td>3.428     </td><td>1.462     </td><td>0.246     </td></tr>\n",
       "\t<tr><td>versicolor</td><td>5.936     </td><td>2.770     </td><td>4.260     </td><td>1.326     </td></tr>\n",
       "\t<tr><td>virginica </td><td>6.588     </td><td>2.974     </td><td>5.552     </td><td>2.026     </td></tr>\n",
       "</tbody>\n",
       "</table>\n"
      ],
      "text/latex": [
       "\\begin{tabular}{r|lllll}\n",
       " Group.1 & Sepal.Length & Sepal.Width & Petal.Length & Petal.Width\\\\\n",
       "\\hline\n",
       "\t setosa     & 5.006      & 3.428      & 1.462      & 0.246     \\\\\n",
       "\t versicolor & 5.936      & 2.770      & 4.260      & 1.326     \\\\\n",
       "\t virginica  & 6.588      & 2.974      & 5.552      & 2.026     \\\\\n",
       "\\end{tabular}\n"
      ],
      "text/markdown": [
       "\n",
       "Group.1 | Sepal.Length | Sepal.Width | Petal.Length | Petal.Width | \n",
       "|---|---|---|\n",
       "| setosa     | 5.006      | 3.428      | 1.462      | 0.246      | \n",
       "| versicolor | 5.936      | 2.770      | 4.260      | 1.326      | \n",
       "| virginica  | 6.588      | 2.974      | 5.552      | 2.026      | \n",
       "\n",
       "\n"
      ],
      "text/plain": [
       "  Group.1    Sepal.Length Sepal.Width Petal.Length Petal.Width\n",
       "1 setosa     5.006        3.428       1.462        0.246      \n",
       "2 versicolor 5.936        2.770       4.260        1.326      \n",
       "3 virginica  6.588        2.974       5.552        2.026      "
      ]
     },
     "metadata": {},
     "output_type": "display_data"
    },
    {
     "data": {
      "text/html": [
       "<table>\n",
       "<thead><tr><th scope=col>feed</th><th scope=col>weight</th></tr></thead>\n",
       "<tbody>\n",
       "\t<tr><td>casein   </td><td>323.5833 </td></tr>\n",
       "\t<tr><td>horsebean</td><td>160.2000 </td></tr>\n",
       "\t<tr><td>linseed  </td><td>218.7500 </td></tr>\n",
       "\t<tr><td>meatmeal </td><td>276.9091 </td></tr>\n",
       "\t<tr><td>soybean  </td><td>246.4286 </td></tr>\n",
       "\t<tr><td>sunflower</td><td>328.9167 </td></tr>\n",
       "</tbody>\n",
       "</table>\n"
      ],
      "text/latex": [
       "\\begin{tabular}{r|ll}\n",
       " feed & weight\\\\\n",
       "\\hline\n",
       "\t casein    & 323.5833 \\\\\n",
       "\t horsebean & 160.2000 \\\\\n",
       "\t linseed   & 218.7500 \\\\\n",
       "\t meatmeal  & 276.9091 \\\\\n",
       "\t soybean   & 246.4286 \\\\\n",
       "\t sunflower & 328.9167 \\\\\n",
       "\\end{tabular}\n"
      ],
      "text/markdown": [
       "\n",
       "feed | weight | \n",
       "|---|---|---|---|---|---|\n",
       "| casein    | 323.5833  | \n",
       "| horsebean | 160.2000  | \n",
       "| linseed   | 218.7500  | \n",
       "| meatmeal  | 276.9091  | \n",
       "| soybean   | 246.4286  | \n",
       "| sunflower | 328.9167  | \n",
       "\n",
       "\n"
      ],
      "text/plain": [
       "  feed      weight  \n",
       "1 casein    323.5833\n",
       "2 horsebean 160.2000\n",
       "3 linseed   218.7500\n",
       "4 meatmeal  276.9091\n",
       "5 soybean   246.4286\n",
       "6 sunflower 328.9167"
      ]
     },
     "metadata": {},
     "output_type": "display_data"
    },
    {
     "data": {
      "text/html": [
       "<table>\n",
       "<thead><tr><th scope=col>wool</th><th scope=col>tension</th><th scope=col>breaks</th></tr></thead>\n",
       "<tbody>\n",
       "\t<tr><td>A       </td><td>L       </td><td>44.55556</td></tr>\n",
       "\t<tr><td>B       </td><td>L       </td><td>28.22222</td></tr>\n",
       "\t<tr><td>A       </td><td>M       </td><td>24.00000</td></tr>\n",
       "\t<tr><td>B       </td><td>M       </td><td>28.77778</td></tr>\n",
       "\t<tr><td>A       </td><td>H       </td><td>24.55556</td></tr>\n",
       "\t<tr><td>B       </td><td>H       </td><td>18.77778</td></tr>\n",
       "</tbody>\n",
       "</table>\n"
      ],
      "text/latex": [
       "\\begin{tabular}{r|lll}\n",
       " wool & tension & breaks\\\\\n",
       "\\hline\n",
       "\t A        & L        & 44.55556\\\\\n",
       "\t B        & L        & 28.22222\\\\\n",
       "\t A        & M        & 24.00000\\\\\n",
       "\t B        & M        & 28.77778\\\\\n",
       "\t A        & H        & 24.55556\\\\\n",
       "\t B        & H        & 18.77778\\\\\n",
       "\\end{tabular}\n"
      ],
      "text/markdown": [
       "\n",
       "wool | tension | breaks | \n",
       "|---|---|---|---|---|---|\n",
       "| A        | L        | 44.55556 | \n",
       "| B        | L        | 28.22222 | \n",
       "| A        | M        | 24.00000 | \n",
       "| B        | M        | 28.77778 | \n",
       "| A        | H        | 24.55556 | \n",
       "| B        | H        | 18.77778 | \n",
       "\n",
       "\n"
      ],
      "text/plain": [
       "  wool tension breaks  \n",
       "1 A    L       44.55556\n",
       "2 B    L       28.22222\n",
       "3 A    M       24.00000\n",
       "4 B    M       28.77778\n",
       "5 A    H       24.55556\n",
       "6 B    H       18.77778"
      ]
     },
     "metadata": {},
     "output_type": "display_data"
    },
    {
     "data": {
      "text/html": [
       "<table>\n",
       "<thead><tr><th scope=col>Month</th><th scope=col>Ozone</th><th scope=col>Temp</th></tr></thead>\n",
       "<tbody>\n",
       "\t<tr><td>5       </td><td>23.61538</td><td>66.73077</td></tr>\n",
       "\t<tr><td>6       </td><td>29.44444</td><td>78.22222</td></tr>\n",
       "\t<tr><td>7       </td><td>59.11538</td><td>83.88462</td></tr>\n",
       "\t<tr><td>8       </td><td>59.96154</td><td>83.96154</td></tr>\n",
       "\t<tr><td>9       </td><td>31.44828</td><td>76.89655</td></tr>\n",
       "</tbody>\n",
       "</table>\n"
      ],
      "text/latex": [
       "\\begin{tabular}{r|lll}\n",
       " Month & Ozone & Temp\\\\\n",
       "\\hline\n",
       "\t 5        & 23.61538 & 66.73077\\\\\n",
       "\t 6        & 29.44444 & 78.22222\\\\\n",
       "\t 7        & 59.11538 & 83.88462\\\\\n",
       "\t 8        & 59.96154 & 83.96154\\\\\n",
       "\t 9        & 31.44828 & 76.89655\\\\\n",
       "\\end{tabular}\n"
      ],
      "text/markdown": [
       "\n",
       "Month | Ozone | Temp | \n",
       "|---|---|---|---|---|\n",
       "| 5        | 23.61538 | 66.73077 | \n",
       "| 6        | 29.44444 | 78.22222 | \n",
       "| 7        | 59.11538 | 83.88462 | \n",
       "| 8        | 59.96154 | 83.96154 | \n",
       "| 9        | 31.44828 | 76.89655 | \n",
       "\n",
       "\n"
      ],
      "text/plain": [
       "  Month Ozone    Temp    \n",
       "1 5     23.61538 66.73077\n",
       "2 6     29.44444 78.22222\n",
       "3 7     59.11538 83.88462\n",
       "4 8     59.96154 83.96154\n",
       "5 9     31.44828 76.89655"
      ]
     },
     "metadata": {},
     "output_type": "display_data"
    },
    {
     "data": {
      "text/html": [
       "<table>\n",
       "<thead><tr><th scope=col>alcgp</th><th scope=col>tobgp</th><th scope=col>ncases</th><th scope=col>ncontrols</th></tr></thead>\n",
       "<tbody>\n",
       "\t<tr><td>0-39g/day</td><td>0-9g/day </td><td> 9       </td><td>261      </td></tr>\n",
       "\t<tr><td>40-79    </td><td>0-9g/day </td><td>34       </td><td>179      </td></tr>\n",
       "\t<tr><td>80-119   </td><td>0-9g/day </td><td>19       </td><td> 61      </td></tr>\n",
       "\t<tr><td>120+     </td><td>0-9g/day </td><td>16       </td><td> 24      </td></tr>\n",
       "\t<tr><td>0-39g/day</td><td>10-19    </td><td>10       </td><td> 84      </td></tr>\n",
       "\t<tr><td>40-79    </td><td>10-19    </td><td>17       </td><td> 85      </td></tr>\n",
       "\t<tr><td>80-119   </td><td>10-19    </td><td>19       </td><td> 49      </td></tr>\n",
       "\t<tr><td>120+     </td><td>10-19    </td><td>12       </td><td> 18      </td></tr>\n",
       "\t<tr><td>0-39g/day</td><td>20-29    </td><td> 5       </td><td> 42      </td></tr>\n",
       "\t<tr><td>40-79    </td><td>20-29    </td><td>15       </td><td> 62      </td></tr>\n",
       "\t<tr><td>80-119   </td><td>20-29    </td><td> 6       </td><td> 16      </td></tr>\n",
       "\t<tr><td>120+     </td><td>20-29    </td><td> 7       </td><td> 12      </td></tr>\n",
       "\t<tr><td>0-39g/day</td><td>30+      </td><td> 5       </td><td> 28      </td></tr>\n",
       "\t<tr><td>40-79    </td><td>30+      </td><td> 9       </td><td> 29      </td></tr>\n",
       "\t<tr><td>80-119   </td><td>30+      </td><td> 7       </td><td> 12      </td></tr>\n",
       "\t<tr><td>120+     </td><td>30+      </td><td>10       </td><td> 13      </td></tr>\n",
       "</tbody>\n",
       "</table>\n"
      ],
      "text/latex": [
       "\\begin{tabular}{r|llll}\n",
       " alcgp & tobgp & ncases & ncontrols\\\\\n",
       "\\hline\n",
       "\t 0-39g/day & 0-9g/day  &  9        & 261      \\\\\n",
       "\t 40-79     & 0-9g/day  & 34        & 179      \\\\\n",
       "\t 80-119    & 0-9g/day  & 19        &  61      \\\\\n",
       "\t 120+      & 0-9g/day  & 16        &  24      \\\\\n",
       "\t 0-39g/day & 10-19     & 10        &  84      \\\\\n",
       "\t 40-79     & 10-19     & 17        &  85      \\\\\n",
       "\t 80-119    & 10-19     & 19        &  49      \\\\\n",
       "\t 120+      & 10-19     & 12        &  18      \\\\\n",
       "\t 0-39g/day & 20-29     &  5        &  42      \\\\\n",
       "\t 40-79     & 20-29     & 15        &  62      \\\\\n",
       "\t 80-119    & 20-29     &  6        &  16      \\\\\n",
       "\t 120+      & 20-29     &  7        &  12      \\\\\n",
       "\t 0-39g/day & 30+       &  5        &  28      \\\\\n",
       "\t 40-79     & 30+       &  9        &  29      \\\\\n",
       "\t 80-119    & 30+       &  7        &  12      \\\\\n",
       "\t 120+      & 30+       & 10        &  13      \\\\\n",
       "\\end{tabular}\n"
      ],
      "text/markdown": [
       "\n",
       "alcgp | tobgp | ncases | ncontrols | \n",
       "|---|---|---|---|---|---|---|---|---|---|---|---|---|---|---|---|\n",
       "| 0-39g/day | 0-9g/day  |  9        | 261       | \n",
       "| 40-79     | 0-9g/day  | 34        | 179       | \n",
       "| 80-119    | 0-9g/day  | 19        |  61       | \n",
       "| 120+      | 0-9g/day  | 16        |  24       | \n",
       "| 0-39g/day | 10-19     | 10        |  84       | \n",
       "| 40-79     | 10-19     | 17        |  85       | \n",
       "| 80-119    | 10-19     | 19        |  49       | \n",
       "| 120+      | 10-19     | 12        |  18       | \n",
       "| 0-39g/day | 20-29     |  5        |  42       | \n",
       "| 40-79     | 20-29     | 15        |  62       | \n",
       "| 80-119    | 20-29     |  6        |  16       | \n",
       "| 120+      | 20-29     |  7        |  12       | \n",
       "| 0-39g/day | 30+       |  5        |  28       | \n",
       "| 40-79     | 30+       |  9        |  29       | \n",
       "| 80-119    | 30+       |  7        |  12       | \n",
       "| 120+      | 30+       | 10        |  13       | \n",
       "\n",
       "\n"
      ],
      "text/plain": [
       "   alcgp     tobgp    ncases ncontrols\n",
       "1  0-39g/day 0-9g/day  9     261      \n",
       "2  40-79     0-9g/day 34     179      \n",
       "3  80-119    0-9g/day 19      61      \n",
       "4  120+      0-9g/day 16      24      \n",
       "5  0-39g/day 10-19    10      84      \n",
       "6  40-79     10-19    17      85      \n",
       "7  80-119    10-19    19      49      \n",
       "8  120+      10-19    12      18      \n",
       "9  0-39g/day 20-29     5      42      \n",
       "10 40-79     20-29    15      62      \n",
       "11 80-119    20-29     6      16      \n",
       "12 120+      20-29     7      12      \n",
       "13 0-39g/day 30+       5      28      \n",
       "14 40-79     30+       9      29      \n",
       "15 80-119    30+       7      12      \n",
       "16 120+      30+      10      13      "
      ]
     },
     "metadata": {},
     "output_type": "display_data"
    },
    {
     "data": {
      "text/html": [
       "<table>\n",
       "<thead><tr><th scope=col>Species</th><th scope=col>Sepal.Length</th><th scope=col>Sepal.Width</th><th scope=col>Petal.Length</th><th scope=col>Petal.Width</th></tr></thead>\n",
       "<tbody>\n",
       "\t<tr><td>setosa    </td><td>5.006     </td><td>3.428     </td><td>1.462     </td><td>0.246     </td></tr>\n",
       "\t<tr><td>versicolor</td><td>5.936     </td><td>2.770     </td><td>4.260     </td><td>1.326     </td></tr>\n",
       "\t<tr><td>virginica </td><td>6.588     </td><td>2.974     </td><td>5.552     </td><td>2.026     </td></tr>\n",
       "</tbody>\n",
       "</table>\n"
      ],
      "text/latex": [
       "\\begin{tabular}{r|lllll}\n",
       " Species & Sepal.Length & Sepal.Width & Petal.Length & Petal.Width\\\\\n",
       "\\hline\n",
       "\t setosa     & 5.006      & 3.428      & 1.462      & 0.246     \\\\\n",
       "\t versicolor & 5.936      & 2.770      & 4.260      & 1.326     \\\\\n",
       "\t virginica  & 6.588      & 2.974      & 5.552      & 2.026     \\\\\n",
       "\\end{tabular}\n"
      ],
      "text/markdown": [
       "\n",
       "Species | Sepal.Length | Sepal.Width | Petal.Length | Petal.Width | \n",
       "|---|---|---|\n",
       "| setosa     | 5.006      | 3.428      | 1.462      | 0.246      | \n",
       "| versicolor | 5.936      | 2.770      | 4.260      | 1.326      | \n",
       "| virginica  | 6.588      | 2.974      | 5.552      | 2.026      | \n",
       "\n",
       "\n"
      ],
      "text/plain": [
       "  Species    Sepal.Length Sepal.Width Petal.Length Petal.Width\n",
       "1 setosa     5.006        3.428       1.462        0.246      \n",
       "2 versicolor 5.936        2.770       4.260        1.326      \n",
       "3 virginica  6.588        2.974       5.552        2.026      "
      ]
     },
     "metadata": {},
     "output_type": "display_data"
    },
    {
     "data": {
      "text/html": [
       "<table>\n",
       "<thead><tr><th scope=col>supp</th><th scope=col>dose</th><th scope=col>len</th></tr></thead>\n",
       "<tbody>\n",
       "\t<tr><td>OJ   </td><td>0.5  </td><td>13.23</td></tr>\n",
       "\t<tr><td>VC   </td><td>0.5  </td><td> 7.98</td></tr>\n",
       "\t<tr><td>OJ   </td><td>1.0  </td><td>22.70</td></tr>\n",
       "\t<tr><td>VC   </td><td>1.0  </td><td>16.77</td></tr>\n",
       "\t<tr><td>OJ   </td><td>2.0  </td><td>26.06</td></tr>\n",
       "\t<tr><td>VC   </td><td>2.0  </td><td>26.14</td></tr>\n",
       "</tbody>\n",
       "</table>\n"
      ],
      "text/latex": [
       "\\begin{tabular}{r|lll}\n",
       " supp & dose & len\\\\\n",
       "\\hline\n",
       "\t OJ    & 0.5   & 13.23\\\\\n",
       "\t VC    & 0.5   &  7.98\\\\\n",
       "\t OJ    & 1.0   & 22.70\\\\\n",
       "\t VC    & 1.0   & 16.77\\\\\n",
       "\t OJ    & 2.0   & 26.06\\\\\n",
       "\t VC    & 2.0   & 26.14\\\\\n",
       "\\end{tabular}\n"
      ],
      "text/markdown": [
       "\n",
       "supp | dose | len | \n",
       "|---|---|---|---|---|---|\n",
       "| OJ    | 0.5   | 13.23 | \n",
       "| VC    | 0.5   |  7.98 | \n",
       "| OJ    | 1.0   | 22.70 | \n",
       "| VC    | 1.0   | 16.77 | \n",
       "| OJ    | 2.0   | 26.06 | \n",
       "| VC    | 2.0   | 26.14 | \n",
       "\n",
       "\n"
      ],
      "text/plain": [
       "  supp dose len  \n",
       "1 OJ   0.5  13.23\n",
       "2 VC   0.5   7.98\n",
       "3 OJ   1.0  22.70\n",
       "4 VC   1.0  16.77\n",
       "5 OJ   2.0  26.06\n",
       "6 VC   2.0  26.14"
      ]
     },
     "metadata": {},
     "output_type": "display_data"
    },
    {
     "data": {
      "text/html": [
       "<dl>\n",
       "\t<dt>$a</dt>\n",
       "\t\t<dd><ol class=list-inline>\n",
       "\t<li>1</li>\n",
       "\t<li>2</li>\n",
       "\t<li>3</li>\n",
       "\t<li>4</li>\n",
       "\t<li>5</li>\n",
       "\t<li>6</li>\n",
       "\t<li>7</li>\n",
       "\t<li>8</li>\n",
       "\t<li>9</li>\n",
       "\t<li>10</li>\n",
       "</ol>\n",
       "</dd>\n",
       "\t<dt>$b</dt>\n",
       "\t\t<dd><ol class=list-inline>\n",
       "\t<li>11</li>\n",
       "\t<li>12</li>\n",
       "\t<li>13</li>\n",
       "\t<li>14</li>\n",
       "\t<li>15</li>\n",
       "\t<li>16</li>\n",
       "\t<li>17</li>\n",
       "\t<li>18</li>\n",
       "\t<li>19</li>\n",
       "\t<li>20</li>\n",
       "</ol>\n",
       "</dd>\n",
       "</dl>\n"
      ],
      "text/latex": [
       "\\begin{description}\n",
       "\\item[\\$a] \\begin{enumerate*}\n",
       "\\item 1\n",
       "\\item 2\n",
       "\\item 3\n",
       "\\item 4\n",
       "\\item 5\n",
       "\\item 6\n",
       "\\item 7\n",
       "\\item 8\n",
       "\\item 9\n",
       "\\item 10\n",
       "\\end{enumerate*}\n",
       "\n",
       "\\item[\\$b] \\begin{enumerate*}\n",
       "\\item 11\n",
       "\\item 12\n",
       "\\item 13\n",
       "\\item 14\n",
       "\\item 15\n",
       "\\item 16\n",
       "\\item 17\n",
       "\\item 18\n",
       "\\item 19\n",
       "\\item 20\n",
       "\\end{enumerate*}\n",
       "\n",
       "\\end{description}\n"
      ],
      "text/markdown": [
       "$a\n",
       ":   1. 1\n",
       "2. 2\n",
       "3. 3\n",
       "4. 4\n",
       "5. 5\n",
       "6. 6\n",
       "7. 7\n",
       "8. 8\n",
       "9. 9\n",
       "10. 10\n",
       "\n",
       "\n",
       "\n",
       "$b\n",
       ":   1. 11\n",
       "2. 12\n",
       "3. 13\n",
       "4. 14\n",
       "5. 15\n",
       "6. 16\n",
       "7. 17\n",
       "8. 18\n",
       "9. 19\n",
       "10. 20\n",
       "\n",
       "\n",
       "\n",
       "\n",
       "\n"
      ],
      "text/plain": [
       "$a\n",
       " [1]  1  2  3  4  5  6  7  8  9 10\n",
       "\n",
       "$b\n",
       " [1] 11 12 13 14 15 16 17 18 19 20\n"
      ]
     },
     "metadata": {},
     "output_type": "display_data"
    },
    {
     "data": {
      "text/html": [
       "<dl>\n",
       "\t<dt>$c</dt>\n",
       "\t\t<dd><ol class=list-inline>\n",
       "\t<li>21</li>\n",
       "\t<li>22</li>\n",
       "\t<li>23</li>\n",
       "\t<li>24</li>\n",
       "\t<li>25</li>\n",
       "\t<li>26</li>\n",
       "\t<li>27</li>\n",
       "\t<li>28</li>\n",
       "\t<li>29</li>\n",
       "\t<li>30</li>\n",
       "</ol>\n",
       "</dd>\n",
       "\t<dt>$d</dt>\n",
       "\t\t<dd><ol class=list-inline>\n",
       "\t<li>31</li>\n",
       "\t<li>32</li>\n",
       "\t<li>33</li>\n",
       "\t<li>34</li>\n",
       "\t<li>35</li>\n",
       "\t<li>36</li>\n",
       "\t<li>37</li>\n",
       "\t<li>38</li>\n",
       "\t<li>39</li>\n",
       "\t<li>40</li>\n",
       "</ol>\n",
       "</dd>\n",
       "</dl>\n"
      ],
      "text/latex": [
       "\\begin{description}\n",
       "\\item[\\$c] \\begin{enumerate*}\n",
       "\\item 21\n",
       "\\item 22\n",
       "\\item 23\n",
       "\\item 24\n",
       "\\item 25\n",
       "\\item 26\n",
       "\\item 27\n",
       "\\item 28\n",
       "\\item 29\n",
       "\\item 30\n",
       "\\end{enumerate*}\n",
       "\n",
       "\\item[\\$d] \\begin{enumerate*}\n",
       "\\item 31\n",
       "\\item 32\n",
       "\\item 33\n",
       "\\item 34\n",
       "\\item 35\n",
       "\\item 36\n",
       "\\item 37\n",
       "\\item 38\n",
       "\\item 39\n",
       "\\item 40\n",
       "\\end{enumerate*}\n",
       "\n",
       "\\end{description}\n"
      ],
      "text/markdown": [
       "$c\n",
       ":   1. 21\n",
       "2. 22\n",
       "3. 23\n",
       "4. 24\n",
       "5. 25\n",
       "6. 26\n",
       "7. 27\n",
       "8. 28\n",
       "9. 29\n",
       "10. 30\n",
       "\n",
       "\n",
       "\n",
       "$d\n",
       ":   1. 31\n",
       "2. 32\n",
       "3. 33\n",
       "4. 34\n",
       "5. 35\n",
       "6. 36\n",
       "7. 37\n",
       "8. 38\n",
       "9. 39\n",
       "10. 40\n",
       "\n",
       "\n",
       "\n",
       "\n",
       "\n"
      ],
      "text/plain": [
       "$c\n",
       " [1] 21 22 23 24 25 26 27 28 29 30\n",
       "\n",
       "$d\n",
       " [1] 31 32 33 34 35 36 37 38 39 40\n"
      ]
     },
     "metadata": {},
     "output_type": "display_data"
    },
    {
     "name": "stdout",
     "output_type": "stream",
     "text": [
      " [1]  64  68  72  76  80  84  88  92  96 100\n"
     ]
    },
    {
     "data": {
      "text/html": [
       "64"
      ],
      "text/latex": [
       "64"
      ],
      "text/markdown": [
       "64"
      ],
      "text/plain": [
       "[1] 64"
      ]
     },
     "metadata": {},
     "output_type": "display_data"
    },
    {
     "name": "stdout",
     "output_type": "stream",
     "text": [
      "  a   b \n",
      " 55 155 \n"
     ]
    },
    {
     "data": {
      "text/html": [
       "55"
      ],
      "text/latex": [
       "55"
      ],
      "text/markdown": [
       "55"
      ],
      "text/plain": [
       "[1] 55"
      ]
     },
     "metadata": {},
     "output_type": "display_data"
    },
    {
     "data": {
      "text/html": [
       "155"
      ],
      "text/latex": [
       "155"
      ],
      "text/markdown": [
       "155"
      ],
      "text/plain": [
       "[1] 155"
      ]
     },
     "metadata": {},
     "output_type": "display_data"
    },
    {
     "name": "stdout",
     "output_type": "stream",
     "text": [
      "  a   b \n",
      "310 510 \n"
     ]
    },
    {
     "data": {
      "text/plain": [
       "iris$Species: setosa\n",
       "Sepal.Length  Sepal.Width Petal.Length  Petal.Width \n",
       "       5.006        3.428        1.462        0.246 \n",
       "------------------------------------------------------------ \n",
       "iris$Species: versicolor\n",
       "Sepal.Length  Sepal.Width Petal.Length  Petal.Width \n",
       "       5.936        2.770        4.260        1.326 \n",
       "------------------------------------------------------------ \n",
       "iris$Species: virginica\n",
       "Sepal.Length  Sepal.Width Petal.Length  Petal.Width \n",
       "       6.588        2.974        5.552        2.026 "
      ]
     },
     "metadata": {},
     "output_type": "display_data"
    },
    {
     "data": {
      "text/html": [
       "<ol class=list-inline>\n",
       "\t<li>18.7</li>\n",
       "\t<li>14.3</li>\n",
       "\t<li>10.4</li>\n",
       "\t<li>10.4</li>\n",
       "\t<li>14.7</li>\n",
       "\t<li>19.2</li>\n",
       "\t<li>15.8</li>\n",
       "</ol>\n"
      ],
      "text/latex": [
       "\\begin{enumerate*}\n",
       "\\item 18.7\n",
       "\\item 14.3\n",
       "\\item 10.4\n",
       "\\item 10.4\n",
       "\\item 14.7\n",
       "\\item 19.2\n",
       "\\item 15.8\n",
       "\\end{enumerate*}\n"
      ],
      "text/markdown": [
       "1. 18.7\n",
       "2. 14.3\n",
       "3. 10.4\n",
       "4. 10.4\n",
       "5. 14.7\n",
       "6. 19.2\n",
       "7. 15.8\n",
       "\n",
       "\n"
      ],
      "text/plain": [
       "[1] 18.7 14.3 10.4 10.4 14.7 19.2 15.8"
      ]
     },
     "metadata": {},
     "output_type": "display_data"
    },
    {
     "data": {
      "text/html": [
       "<ol class=list-inline>\n",
       "\t<li>18.7</li>\n",
       "\t<li>14.3</li>\n",
       "\t<li>10.4</li>\n",
       "\t<li>10.4</li>\n",
       "\t<li>14.7</li>\n",
       "\t<li>19.2</li>\n",
       "\t<li>15.8</li>\n",
       "</ol>\n"
      ],
      "text/latex": [
       "\\begin{enumerate*}\n",
       "\\item 18.7\n",
       "\\item 14.3\n",
       "\\item 10.4\n",
       "\\item 10.4\n",
       "\\item 14.7\n",
       "\\item 19.2\n",
       "\\item 15.8\n",
       "\\end{enumerate*}\n"
      ],
      "text/markdown": [
       "1. 18.7\n",
       "2. 14.3\n",
       "3. 10.4\n",
       "4. 10.4\n",
       "5. 14.7\n",
       "6. 19.2\n",
       "7. 15.8\n",
       "\n",
       "\n"
      ],
      "text/plain": [
       "[1] 18.7 14.3 10.4 10.4 14.7 19.2 15.8"
      ]
     },
     "metadata": {},
     "output_type": "display_data"
    },
    {
     "data": {
      "text/html": [
       "<table>\n",
       "<thead><tr><th scope=col>Subtype</th><th scope=col>Gender</th><th scope=col>Expression</th></tr></thead>\n",
       "<tbody>\n",
       "\t<tr><td>A    </td><td>m    </td><td>-0.54</td></tr>\n",
       "\t<tr><td>A    </td><td>m    </td><td>-0.80</td></tr>\n",
       "\t<tr><td>B    </td><td>m    </td><td>-1.03</td></tr>\n",
       "\t<tr><td>A    </td><td>m    </td><td>-0.41</td></tr>\n",
       "\t<tr><td>B    </td><td>m    </td><td>-1.31</td></tr>\n",
       "\t<tr><td>B    </td><td>f    </td><td>-0.66</td></tr>\n",
       "\t<tr><td>A    </td><td>f    </td><td>-0.43</td></tr>\n",
       "\t<tr><td>B    </td><td>f    </td><td> 1.01</td></tr>\n",
       "\t<tr><td>A    </td><td>f    </td><td>-1.15</td></tr>\n",
       "\t<tr><td>B    </td><td>f    </td><td> 0.14</td></tr>\n",
       "</tbody>\n",
       "</table>\n"
      ],
      "text/latex": [
       "\\begin{tabular}{r|lll}\n",
       " Subtype & Gender & Expression\\\\\n",
       "\\hline\n",
       "\t A     & m     & -0.54\\\\\n",
       "\t A     & m     & -0.80\\\\\n",
       "\t B     & m     & -1.03\\\\\n",
       "\t A     & m     & -0.41\\\\\n",
       "\t B     & m     & -1.31\\\\\n",
       "\t B     & f     & -0.66\\\\\n",
       "\t A     & f     & -0.43\\\\\n",
       "\t B     & f     &  1.01\\\\\n",
       "\t A     & f     & -1.15\\\\\n",
       "\t B     & f     &  0.14\\\\\n",
       "\\end{tabular}\n"
      ],
      "text/markdown": [
       "\n",
       "Subtype | Gender | Expression | \n",
       "|---|---|---|---|---|---|---|---|---|---|\n",
       "| A     | m     | -0.54 | \n",
       "| A     | m     | -0.80 | \n",
       "| B     | m     | -1.03 | \n",
       "| A     | m     | -0.41 | \n",
       "| B     | m     | -1.31 | \n",
       "| B     | f     | -0.66 | \n",
       "| A     | f     | -0.43 | \n",
       "| B     | f     |  1.01 | \n",
       "| A     | f     | -1.15 | \n",
       "| B     | f     |  0.14 | \n",
       "\n",
       "\n"
      ],
      "text/plain": [
       "   Subtype Gender Expression\n",
       "1  A       m      -0.54     \n",
       "2  A       m      -0.80     \n",
       "3  B       m      -1.03     \n",
       "4  A       m      -0.41     \n",
       "5  B       m      -1.31     \n",
       "6  B       f      -0.66     \n",
       "7  A       f      -0.43     \n",
       "8  B       f       1.01     \n",
       "9  A       f      -1.15     \n",
       "10 B       f       0.14     "
      ]
     },
     "metadata": {},
     "output_type": "display_data"
    },
    {
     "data": {
      "text/html": [
       "<ol class=list-inline>\n",
       "\t<li>-0.54</li>\n",
       "\t<li>-0.8</li>\n",
       "\t<li>-1.03</li>\n",
       "\t<li>-0.41</li>\n",
       "\t<li>-1.31</li>\n",
       "\t<li>-0.66</li>\n",
       "\t<li>-0.43</li>\n",
       "\t<li>1.01</li>\n",
       "\t<li>-1.15</li>\n",
       "\t<li>0.14</li>\n",
       "</ol>\n"
      ],
      "text/latex": [
       "\\begin{enumerate*}\n",
       "\\item -0.54\n",
       "\\item -0.8\n",
       "\\item -1.03\n",
       "\\item -0.41\n",
       "\\item -1.31\n",
       "\\item -0.66\n",
       "\\item -0.43\n",
       "\\item 1.01\n",
       "\\item -1.15\n",
       "\\item 0.14\n",
       "\\end{enumerate*}\n"
      ],
      "text/markdown": [
       "1. -0.54\n",
       "2. -0.8\n",
       "3. -1.03\n",
       "4. -0.41\n",
       "5. -1.31\n",
       "6. -0.66\n",
       "7. -0.43\n",
       "8. 1.01\n",
       "9. -1.15\n",
       "10. 0.14\n",
       "\n",
       "\n"
      ],
      "text/plain": [
       " [1] -0.54 -0.80 -1.03 -0.41 -1.31 -0.66 -0.43  1.01 -1.15  0.14"
      ]
     },
     "metadata": {},
     "output_type": "display_data"
    },
    {
     "data": {
      "text/html": [
       "<ol class=list-inline>\n",
       "\t<li>-0.54</li>\n",
       "\t<li>-0.8</li>\n",
       "\t<li>-1.03</li>\n",
       "\t<li>-0.41</li>\n",
       "\t<li>-1.31</li>\n",
       "\t<li>-0.66</li>\n",
       "\t<li>-0.43</li>\n",
       "\t<li>1.01</li>\n",
       "\t<li>-1.15</li>\n",
       "\t<li>0.14</li>\n",
       "</ol>\n"
      ],
      "text/latex": [
       "\\begin{enumerate*}\n",
       "\\item -0.54\n",
       "\\item -0.8\n",
       "\\item -1.03\n",
       "\\item -0.41\n",
       "\\item -1.31\n",
       "\\item -0.66\n",
       "\\item -0.43\n",
       "\\item 1.01\n",
       "\\item -1.15\n",
       "\\item 0.14\n",
       "\\end{enumerate*}\n"
      ],
      "text/markdown": [
       "1. -0.54\n",
       "2. -0.8\n",
       "3. -1.03\n",
       "4. -0.41\n",
       "5. -1.31\n",
       "6. -0.66\n",
       "7. -0.43\n",
       "8. 1.01\n",
       "9. -1.15\n",
       "10. 0.14\n",
       "\n",
       "\n"
      ],
      "text/plain": [
       " [1] -0.54 -0.80 -1.03 -0.41 -1.31 -0.66 -0.43  1.01 -1.15  0.14"
      ]
     },
     "metadata": {},
     "output_type": "display_data"
    },
    {
     "data": {
      "text/html": [
       "<ol class=list-inline>\n",
       "\t<li>-0.54</li>\n",
       "\t<li>-0.8</li>\n",
       "\t<li>-1.03</li>\n",
       "\t<li>-0.41</li>\n",
       "\t<li>-1.31</li>\n",
       "\t<li>-0.66</li>\n",
       "\t<li>-0.43</li>\n",
       "\t<li>1.01</li>\n",
       "\t<li>-1.15</li>\n",
       "\t<li>0.14</li>\n",
       "</ol>\n"
      ],
      "text/latex": [
       "\\begin{enumerate*}\n",
       "\\item -0.54\n",
       "\\item -0.8\n",
       "\\item -1.03\n",
       "\\item -0.41\n",
       "\\item -1.31\n",
       "\\item -0.66\n",
       "\\item -0.43\n",
       "\\item 1.01\n",
       "\\item -1.15\n",
       "\\item 0.14\n",
       "\\end{enumerate*}\n"
      ],
      "text/markdown": [
       "1. -0.54\n",
       "2. -0.8\n",
       "3. -1.03\n",
       "4. -0.41\n",
       "5. -1.31\n",
       "6. -0.66\n",
       "7. -0.43\n",
       "8. 1.01\n",
       "9. -1.15\n",
       "10. 0.14\n",
       "\n",
       "\n"
      ],
      "text/plain": [
       " [1] -0.54 -0.80 -1.03 -0.41 -1.31 -0.66 -0.43  1.01 -1.15  0.14"
      ]
     },
     "metadata": {},
     "output_type": "display_data"
    }
   ],
   "source": [
    "################ apply function on matrices\n",
    "\n",
    "mnthMat <- matrix(month.name,3,4)\n",
    "mnthMat\n",
    "apply(mnthMat, 2, nchar) # column wise \n",
    "apply(mnthMat, 1, nchar) # row wise \n",
    "\n",
    "####################################### apply function on arrays\n",
    "mnthArr <- array(seq(1,18),dim = c(2,3,3))\n",
    "mnthArr\n",
    "\n",
    "#rowwise operation\n",
    "apply(mnthArr, 1, mean) \n",
    "# is nothing but\n",
    "mean(c(1,3,5,7,9,11,13,15,17))\n",
    "# or \n",
    "mean(c(mnthArr[,,1][1,],mnthArr[,,2][1,],mnthArr[,,3][1,]))\n",
    "\n",
    "#column wise operation\n",
    "apply(mnthArr, 2, mean) \n",
    "# is nothing but\n",
    "mean(c(1,2,7,8,13,14))\n",
    "# or \n",
    "mean(c(mnthArr[,,1][,1],mnthArr[,,2][,1],mnthArr[,,3][,1]))\n",
    "\n",
    "#table wise operation\n",
    "apply(mnthArr, 3, mean)\n",
    "# is nothing but\n",
    "mean(1:6)\n",
    "# or \n",
    "mean(mnthArr[,,1])\n",
    "\n",
    "############################################\n",
    "############### \n",
    "lapply(month.name, nchar)\n",
    "sapply(month.name, nchar)\n",
    "#############\n",
    "str(iris)\n",
    "print(tapply(iris$Sepal.Length, iris$Species, mean))\n",
    "print(tapply(mtcars$mpg, mtcars$cyl, mean))\n",
    "print(tapply(mtcars$mpg, mtcars$carb, mean))\n",
    "print(tapply(mtcars$mpg, mtcars$gear, mean))\n",
    "\n",
    "aggregate(iris[-5], list(iris$Species), mean)\n",
    "aggregate(iris[1:4], list(iris$Species), mean)\n",
    "aggregate(iris[,1:4], list(iris$Species), mean)\n",
    "\n",
    "## Formulas, one ~ one, one ~ many, many ~ one, and many ~ many:\n",
    "aggregate(weight ~ feed, data = chickwts, mean)\n",
    "aggregate(breaks ~ wool + tension, data = warpbreaks, mean)\n",
    "aggregate(cbind(Ozone, Temp) ~ Month, data = airquality, mean)\n",
    "aggregate(cbind(ncases, ncontrols) ~ alcgp + tobgp, data = esoph, sum)\n",
    "\n",
    "## Dot notation:\n",
    "aggregate(. ~ Species, data = iris, mean)\n",
    "aggregate(len ~ ., data = ToothGrowth, mean)\n",
    "\n",
    "###### mapply\n",
    "l1 <- list(a = c(1:10), b = c(11:20))\n",
    "l2 <- list(c = c(21:30), d = c(31:40))\n",
    "l1\n",
    "l2\n",
    "print(mapply(sum, l1$a, l1$b, l2$c, l2$d))\n",
    "sum(c(1,11,21,31))\n",
    "print(mapply(sum, l1))\n",
    "sum(1:10)\n",
    "sum(11:20)\n",
    "print(mapply(sum, l1,l2))\n",
    "\n",
    "########## by function\n",
    "\n",
    "b <- by(iris[, 1:4], iris$Species, colMeans)\n",
    "b\n",
    "\n",
    "####################### with()\n",
    "\n",
    "mtcars$mpg[mtcars$cyl == 8  &  mtcars$disp > 350]\n",
    "with(mtcars, mpg[cyl == 8  &  disp > 350]) # we can avoid using $ notation by with() function\n",
    "\n",
    "############## attach()\n",
    "\n",
    "x <- data.frame(Subtype= c(\"A\",\"A\",\"B\",\"A\",\"B\",\"B\",\"A\",\"B\",\"A\",\"B\"), \n",
    "                Gender= rep(c(\"m\",\"f\"),each=5), \n",
    "                Expression = c(-0.54,-0.8,-1.03,-0.41,-1.31,-0.66,-0.43,1.01,-1.15,0.14))\n",
    "\n",
    "x\n",
    "x$Expression\n",
    "# Expression  # you will get an error\n",
    "attach(x) #using attach\n",
    "Expression  # you will get answer\n",
    "detach(x)\n",
    "# Expression  # error\n",
    "x$Expression"
   ]
  },
  {
   "cell_type": "code",
   "execution_count": 2,
   "metadata": {
    "run_control": {
     "frozen": false,
     "read_only": false
    }
   },
   "outputs": [
    {
     "data": {
      "text/html": [
       "3"
      ],
      "text/latex": [
       "3"
      ],
      "text/markdown": [
       "3"
      ],
      "text/plain": [
       "[1] 3"
      ]
     },
     "metadata": {},
     "output_type": "display_data"
    },
    {
     "data": {
      "text/html": [
       "'numeric'"
      ],
      "text/latex": [
       "'numeric'"
      ],
      "text/markdown": [
       "'numeric'"
      ],
      "text/plain": [
       "[1] \"numeric\""
      ]
     },
     "metadata": {},
     "output_type": "display_data"
    },
    {
     "data": {
      "text/html": [
       "<ol class=list-inline>\n",
       "\t<li>1</li>\n",
       "\t<li>2</li>\n",
       "</ol>\n"
      ],
      "text/latex": [
       "\\begin{enumerate*}\n",
       "\\item 1\n",
       "\\item 2\n",
       "\\end{enumerate*}\n"
      ],
      "text/markdown": [
       "1. 1\n",
       "2. 2\n",
       "\n",
       "\n"
      ],
      "text/plain": [
       "[1] 1 2"
      ]
     },
     "metadata": {},
     "output_type": "display_data"
    },
    {
     "data": {
      "text/html": [
       "<ol class=list-inline>\n",
       "\t<li>'a'</li>\n",
       "\t<li>'b'</li>\n",
       "\t<li>'c'</li>\n",
       "\t<li>'d'</li>\n",
       "\t<li>'e'</li>\n",
       "\t<li>'f'</li>\n",
       "\t<li>'g'</li>\n",
       "\t<li>'h'</li>\n",
       "\t<li>'i'</li>\n",
       "\t<li>'j'</li>\n",
       "\t<li>'k'</li>\n",
       "\t<li>'l'</li>\n",
       "\t<li>'m'</li>\n",
       "\t<li>'n'</li>\n",
       "\t<li>'o'</li>\n",
       "\t<li>'p'</li>\n",
       "\t<li>'q'</li>\n",
       "\t<li>'r'</li>\n",
       "\t<li>'s'</li>\n",
       "\t<li>'t'</li>\n",
       "\t<li>'u'</li>\n",
       "\t<li>'v'</li>\n",
       "\t<li>'w'</li>\n",
       "\t<li>'x'</li>\n",
       "\t<li>'y'</li>\n",
       "\t<li>'z'</li>\n",
       "</ol>\n"
      ],
      "text/latex": [
       "\\begin{enumerate*}\n",
       "\\item 'a'\n",
       "\\item 'b'\n",
       "\\item 'c'\n",
       "\\item 'd'\n",
       "\\item 'e'\n",
       "\\item 'f'\n",
       "\\item 'g'\n",
       "\\item 'h'\n",
       "\\item 'i'\n",
       "\\item 'j'\n",
       "\\item 'k'\n",
       "\\item 'l'\n",
       "\\item 'm'\n",
       "\\item 'n'\n",
       "\\item 'o'\n",
       "\\item 'p'\n",
       "\\item 'q'\n",
       "\\item 'r'\n",
       "\\item 's'\n",
       "\\item 't'\n",
       "\\item 'u'\n",
       "\\item 'v'\n",
       "\\item 'w'\n",
       "\\item 'x'\n",
       "\\item 'y'\n",
       "\\item 'z'\n",
       "\\end{enumerate*}\n"
      ],
      "text/markdown": [
       "1. 'a'\n",
       "2. 'b'\n",
       "3. 'c'\n",
       "4. 'd'\n",
       "5. 'e'\n",
       "6. 'f'\n",
       "7. 'g'\n",
       "8. 'h'\n",
       "9. 'i'\n",
       "10. 'j'\n",
       "11. 'k'\n",
       "12. 'l'\n",
       "13. 'm'\n",
       "14. 'n'\n",
       "15. 'o'\n",
       "16. 'p'\n",
       "17. 'q'\n",
       "18. 'r'\n",
       "19. 's'\n",
       "20. 't'\n",
       "21. 'u'\n",
       "22. 'v'\n",
       "23. 'w'\n",
       "24. 'x'\n",
       "25. 'y'\n",
       "26. 'z'\n",
       "\n",
       "\n"
      ],
      "text/plain": [
       " [1] \"a\" \"b\" \"c\" \"d\" \"e\" \"f\" \"g\" \"h\" \"i\" \"j\" \"k\" \"l\" \"m\" \"n\" \"o\" \"p\" \"q\" \"r\" \"s\"\n",
       "[20] \"t\" \"u\" \"v\" \"w\" \"x\" \"y\" \"z\""
      ]
     },
     "metadata": {},
     "output_type": "display_data"
    },
    {
     "data": {
      "text/html": [
       "<ol class=list-inline>\n",
       "\t<li>'a'</li>\n",
       "\t<li>'b'</li>\n",
       "\t<li>'c'</li>\n",
       "\t<li>'d'</li>\n",
       "\t<li>'e'</li>\n",
       "\t<li>'f'</li>\n",
       "\t<li>'g'</li>\n",
       "\t<li>'h'</li>\n",
       "\t<li>'i'</li>\n",
       "\t<li>'j'</li>\n",
       "\t<li>'k'</li>\n",
       "\t<li>'l'</li>\n",
       "\t<li>'m'</li>\n",
       "\t<li>'n'</li>\n",
       "\t<li>'o'</li>\n",
       "\t<li>'p'</li>\n",
       "\t<li>'q'</li>\n",
       "\t<li>'r'</li>\n",
       "\t<li>'s'</li>\n",
       "\t<li>'t'</li>\n",
       "\t<li>'u'</li>\n",
       "\t<li>'v'</li>\n",
       "\t<li>'w'</li>\n",
       "\t<li>'x'</li>\n",
       "\t<li>'y'</li>\n",
       "\t<li>'z'</li>\n",
       "</ol>\n"
      ],
      "text/latex": [
       "\\begin{enumerate*}\n",
       "\\item 'a'\n",
       "\\item 'b'\n",
       "\\item 'c'\n",
       "\\item 'd'\n",
       "\\item 'e'\n",
       "\\item 'f'\n",
       "\\item 'g'\n",
       "\\item 'h'\n",
       "\\item 'i'\n",
       "\\item 'j'\n",
       "\\item 'k'\n",
       "\\item 'l'\n",
       "\\item 'm'\n",
       "\\item 'n'\n",
       "\\item 'o'\n",
       "\\item 'p'\n",
       "\\item 'q'\n",
       "\\item 'r'\n",
       "\\item 's'\n",
       "\\item 't'\n",
       "\\item 'u'\n",
       "\\item 'v'\n",
       "\\item 'w'\n",
       "\\item 'x'\n",
       "\\item 'y'\n",
       "\\item 'z'\n",
       "\\end{enumerate*}\n"
      ],
      "text/markdown": [
       "1. 'a'\n",
       "2. 'b'\n",
       "3. 'c'\n",
       "4. 'd'\n",
       "5. 'e'\n",
       "6. 'f'\n",
       "7. 'g'\n",
       "8. 'h'\n",
       "9. 'i'\n",
       "10. 'j'\n",
       "11. 'k'\n",
       "12. 'l'\n",
       "13. 'm'\n",
       "14. 'n'\n",
       "15. 'o'\n",
       "16. 'p'\n",
       "17. 'q'\n",
       "18. 'r'\n",
       "19. 's'\n",
       "20. 't'\n",
       "21. 'u'\n",
       "22. 'v'\n",
       "23. 'w'\n",
       "24. 'x'\n",
       "25. 'y'\n",
       "26. 'z'\n",
       "\n",
       "\n"
      ],
      "text/plain": [
       " [1] \"a\" \"b\" \"c\" \"d\" \"e\" \"f\" \"g\" \"h\" \"i\" \"j\" \"k\" \"l\" \"m\" \"n\" \"o\" \"p\" \"q\" \"r\" \"s\"\n",
       "[20] \"t\" \"u\" \"v\" \"w\" \"x\" \"y\" \"z\""
      ]
     },
     "metadata": {},
     "output_type": "display_data"
    },
    {
     "data": {
      "text/html": [
       "3"
      ],
      "text/latex": [
       "3"
      ],
      "text/markdown": [
       "3"
      ],
      "text/plain": [
       "[1] 3"
      ]
     },
     "metadata": {},
     "output_type": "display_data"
    },
    {
     "data": {
      "text/html": [
       "3"
      ],
      "text/latex": [
       "3"
      ],
      "text/markdown": [
       "3"
      ],
      "text/plain": [
       "[1] 3"
      ]
     },
     "metadata": {},
     "output_type": "display_data"
    },
    {
     "data": {
      "text/html": [
       "3"
      ],
      "text/latex": [
       "3"
      ],
      "text/markdown": [
       "3"
      ],
      "text/plain": [
       "[1] 3"
      ]
     },
     "metadata": {},
     "output_type": "display_data"
    },
    {
     "data": {
      "text/html": [
       "1.3"
      ],
      "text/latex": [
       "1.3"
      ],
      "text/markdown": [
       "1.3"
      ],
      "text/plain": [
       "[1] 1.3"
      ]
     },
     "metadata": {},
     "output_type": "display_data"
    },
    {
     "data": {
      "text/html": [
       "8"
      ],
      "text/latex": [
       "8"
      ],
      "text/markdown": [
       "8"
      ],
      "text/plain": [
       "[1] 8"
      ]
     },
     "metadata": {},
     "output_type": "display_data"
    },
    {
     "data": {
      "text/html": [
       "64"
      ],
      "text/latex": [
       "64"
      ],
      "text/markdown": [
       "64"
      ],
      "text/plain": [
       "[1] 64"
      ]
     },
     "metadata": {},
     "output_type": "display_data"
    },
    {
     "data": {
      "text/html": [
       "3"
      ],
      "text/latex": [
       "3"
      ],
      "text/markdown": [
       "3"
      ],
      "text/plain": [
       "[1] 3"
      ]
     },
     "metadata": {},
     "output_type": "display_data"
    },
    {
     "data": {
      "text/html": [
       "4"
      ],
      "text/latex": [
       "4"
      ],
      "text/markdown": [
       "4"
      ],
      "text/plain": [
       "[1] 4"
      ]
     },
     "metadata": {},
     "output_type": "display_data"
    },
    {
     "data": {
      "text/html": [
       "4"
      ],
      "text/latex": [
       "4"
      ],
      "text/markdown": [
       "4"
      ],
      "text/plain": [
       "[1] 4"
      ]
     },
     "metadata": {},
     "output_type": "display_data"
    },
    {
     "data": {
      "text/html": [
       "3"
      ],
      "text/latex": [
       "3"
      ],
      "text/markdown": [
       "3"
      ],
      "text/plain": [
       "[1] 3"
      ]
     },
     "metadata": {},
     "output_type": "display_data"
    },
    {
     "data": {
      "text/html": [
       "4"
      ],
      "text/latex": [
       "4"
      ],
      "text/markdown": [
       "4"
      ],
      "text/plain": [
       "[1] 4"
      ]
     },
     "metadata": {},
     "output_type": "display_data"
    },
    {
     "data": {
      "text/html": [
       "3"
      ],
      "text/latex": [
       "3"
      ],
      "text/markdown": [
       "3"
      ],
      "text/plain": [
       "[1] 3"
      ]
     },
     "metadata": {},
     "output_type": "display_data"
    },
    {
     "data": {
      "text/html": [
       "3"
      ],
      "text/latex": [
       "3"
      ],
      "text/markdown": [
       "3"
      ],
      "text/plain": [
       "[1] 3"
      ]
     },
     "metadata": {},
     "output_type": "display_data"
    },
    {
     "data": {
      "text/html": [
       "3"
      ],
      "text/latex": [
       "3"
      ],
      "text/markdown": [
       "3"
      ],
      "text/plain": [
       "[1] 3"
      ]
     },
     "metadata": {},
     "output_type": "display_data"
    },
    {
     "data": {
      "text/html": [
       "4"
      ],
      "text/latex": [
       "4"
      ],
      "text/markdown": [
       "4"
      ],
      "text/plain": [
       "[1] 4"
      ]
     },
     "metadata": {},
     "output_type": "display_data"
    },
    {
     "data": {
      "text/html": [
       "5"
      ],
      "text/latex": [
       "5"
      ],
      "text/markdown": [
       "5"
      ],
      "text/plain": [
       "[1] 5"
      ]
     },
     "metadata": {},
     "output_type": "display_data"
    },
    {
     "data": {
      "text/html": [
       "0"
      ],
      "text/latex": [
       "0"
      ],
      "text/markdown": [
       "0"
      ],
      "text/plain": [
       "[1] 0"
      ]
     },
     "metadata": {},
     "output_type": "display_data"
    },
    {
     "data": {
      "text/html": [
       "4"
      ],
      "text/latex": [
       "4"
      ],
      "text/markdown": [
       "4"
      ],
      "text/plain": [
       "[1] 4"
      ]
     },
     "metadata": {},
     "output_type": "display_data"
    },
    {
     "data": {
      "text/html": [
       "0.999999327347282"
      ],
      "text/latex": [
       "0.999999327347282"
      ],
      "text/markdown": [
       "0.999999327347282"
      ],
      "text/plain": [
       "[1] 0.9999993"
      ]
     },
     "metadata": {},
     "output_type": "display_data"
    },
    {
     "data": {
      "text/html": [
       "'SUMENDAR'"
      ],
      "text/latex": [
       "'SUMENDAR'"
      ],
      "text/markdown": [
       "'SUMENDAR'"
      ],
      "text/plain": [
       "[1] \"SUMENDAR\""
      ]
     },
     "metadata": {},
     "output_type": "display_data"
    },
    {
     "data": {
      "text/html": [
       "'sumendar'"
      ],
      "text/latex": [
       "'sumendar'"
      ],
      "text/markdown": [
       "'sumendar'"
      ],
      "text/plain": [
       "[1] \"sumendar\""
      ]
     },
     "metadata": {},
     "output_type": "display_data"
    }
   ],
   "source": [
    "# setwd(\"C:/Users/user/Downloads/DSwRandP-apr18-master/DSwRandP-apr18-master/FunctionsAndApplyFamily\")\n",
    "sum(1,2) # inbuilt function to add elements\n",
    "# sum1(1,2) # \n",
    "# to create a function\n",
    "sum1 <- function(x,y) {\n",
    "  x+y\n",
    "}\n",
    "sum <- c(1,2)\n",
    "class(sum)\n",
    "letters <- c(1,2)\n",
    "letters\n",
    "\n",
    "rm(letters)\n",
    "obj <- letters\n",
    "obj\n",
    "letters\n",
    "sum(1,2)\n",
    "sum1(1,2)\n",
    "\n",
    "abs(-3)\n",
    "abs(-1.3)\n",
    "sqrt(64)\t# square root function\n",
    "8^2 # exponential\n",
    "round(3.455) # nearest integer value\n",
    "round(3.955)\n",
    "ceiling(3.475)\t\n",
    "floor(3.475)\t\n",
    "\n",
    "ceiling(3.175)#lookin at top\t\n",
    "round(3.175)\t\n",
    "floor(3.475)\t#looking at bottom\n",
    "floor(3.9999999)\t#looking at bottom\n",
    "round(3.9999999)\n",
    "trunc(5.99)\n",
    "log(1)\n",
    "log2(16)\n",
    "log(2.71828)\n",
    "# e =2.71828\n",
    "toupper(\"sumendar\")\n",
    "tolower(\"SUMENDAR\")"
   ]
  },
  {
   "cell_type": "code",
   "execution_count": 9,
   "metadata": {
    "run_control": {
     "frozen": false,
     "read_only": false
    }
   },
   "outputs": [
    {
     "data": {
      "text/html": [
       "5"
      ],
      "text/latex": [
       "5"
      ],
      "text/markdown": [
       "5"
      ],
      "text/plain": [
       "[1] 5"
      ]
     },
     "metadata": {},
     "output_type": "display_data"
    },
    {
     "data": {
      "text/html": [
       "134"
      ],
      "text/latex": [
       "134"
      ],
      "text/markdown": [
       "134"
      ],
      "text/plain": [
       "[1] 134"
      ]
     },
     "metadata": {},
     "output_type": "display_data"
    },
    {
     "name": "stdout",
     "output_type": "stream",
     "text": [
      "[1] \"lucid it solutions\"\n"
     ]
    },
    {
     "data": {
      "text/html": [
       "25"
      ],
      "text/latex": [
       "25"
      ],
      "text/markdown": [
       "25"
      ],
      "text/plain": [
       "[1] 25"
      ]
     },
     "metadata": {},
     "output_type": "display_data"
    },
    {
     "name": "stdout",
     "output_type": "stream",
     "text": [
      "[1] \"2 raised to the power 3 is 8\"\n"
     ]
    },
    {
     "data": {
      "text/html": [
       "6"
      ],
      "text/latex": [
       "6"
      ],
      "text/markdown": [
       "6"
      ],
      "text/plain": [
       "[1] 6"
      ]
     },
     "metadata": {},
     "output_type": "display_data"
    },
    {
     "data": {
      "text/html": [
       "7"
      ],
      "text/latex": [
       "7"
      ],
      "text/markdown": [
       "7"
      ],
      "text/plain": [
       "[1] 7"
      ]
     },
     "metadata": {},
     "output_type": "display_data"
    },
    {
     "data": {
      "text/html": [
       "<ol class=list-inline>\n",
       "\t<li>6</li>\n",
       "\t<li>7</li>\n",
       "</ol>\n"
      ],
      "text/latex": [
       "\\begin{enumerate*}\n",
       "\\item 6\n",
       "\\item 7\n",
       "\\end{enumerate*}\n"
      ],
      "text/markdown": [
       "1. 6\n",
       "2. 7\n",
       "\n",
       "\n"
      ],
      "text/plain": [
       "[1] 6 7"
      ]
     },
     "metadata": {},
     "output_type": "display_data"
    },
    {
     "data": {
      "text/html": [
       "'6 7'"
      ],
      "text/latex": [
       "'6 7'"
      ],
      "text/markdown": [
       "'6 7'"
      ],
      "text/plain": [
       "[1] \"6 7\""
      ]
     },
     "metadata": {},
     "output_type": "display_data"
    },
    {
     "name": "stdout",
     "output_type": "stream",
     "text": [
      "[1] \"6 7\"\n"
     ]
    },
    {
     "data": {
      "text/html": [
       "274.816666666667"
      ],
      "text/latex": [
       "274.816666666667"
      ],
      "text/markdown": [
       "274.816666666667"
      ],
      "text/plain": [
       "[1] 274.8167"
      ]
     },
     "metadata": {},
     "output_type": "display_data"
    },
    {
     "name": "stdout",
     "output_type": "stream",
     "text": [
      "[1] \"8 raised to the power 2 is 64\"\n",
      "[1] \"8 raised to the power 2 is 64\"\n",
      "[1] \"8 raised to the power 2 is 64\"\n",
      "[1] \"8 raised to the power 2 is 64\"\n",
      "[1] \"2 raised to the power 8 is 256\"\n",
      "[1] \"3 raised to the power 5 is 243\"\n"
     ]
    },
    {
     "data": {
      "text/html": [
       "'character'"
      ],
      "text/latex": [
       "'character'"
      ],
      "text/markdown": [
       "'character'"
      ],
      "text/plain": [
       "[1] \"character\""
      ]
     },
     "metadata": {},
     "output_type": "display_data"
    },
    {
     "data": {
      "text/html": [
       "4"
      ],
      "text/latex": [
       "4"
      ],
      "text/markdown": [
       "4"
      ],
      "text/plain": [
       "[1] 4"
      ]
     },
     "metadata": {},
     "output_type": "display_data"
    },
    {
     "data": {
      "text/html": [
       "Inf"
      ],
      "text/latex": [
       "Inf"
      ],
      "text/markdown": [
       "Inf"
      ],
      "text/plain": [
       "[1] Inf"
      ]
     },
     "metadata": {},
     "output_type": "display_data"
    },
    {
     "data": {
      "text/html": [
       "Inf"
      ],
      "text/latex": [
       "Inf"
      ],
      "text/markdown": [
       "Inf"
      ],
      "text/plain": [
       "[1] Inf"
      ]
     },
     "metadata": {},
     "output_type": "display_data"
    },
    {
     "data": {
      "text/html": [
       "25"
      ],
      "text/latex": [
       "25"
      ],
      "text/markdown": [
       "25"
      ],
      "text/plain": [
       "[1] 25"
      ]
     },
     "metadata": {},
     "output_type": "display_data"
    },
    {
     "data": {
      "text/html": [
       "10"
      ],
      "text/latex": [
       "10"
      ],
      "text/markdown": [
       "10"
      ],
      "text/plain": [
       "[1] 10"
      ]
     },
     "metadata": {},
     "output_type": "display_data"
    },
    {
     "data": {
      "text/html": [
       "50"
      ],
      "text/latex": [
       "50"
      ],
      "text/markdown": [
       "50"
      ],
      "text/plain": [
       "[1] 50"
      ]
     },
     "metadata": {},
     "output_type": "display_data"
    },
    {
     "name": "stdout",
     "output_type": "stream",
     "text": [
      "[1] 2\n"
     ]
    },
    {
     "data": {
      "text/html": [
       "4"
      ],
      "text/latex": [
       "4"
      ],
      "text/markdown": [
       "4"
      ],
      "text/plain": [
       "[1] 4"
      ]
     },
     "metadata": {},
     "output_type": "display_data"
    },
    {
     "data": {
      "text/html": [
       "4"
      ],
      "text/latex": [
       "4"
      ],
      "text/markdown": [
       "4"
      ],
      "text/plain": [
       "[1] 4"
      ]
     },
     "metadata": {},
     "output_type": "display_data"
    },
    {
     "data": {
      "text/html": [
       "30"
      ],
      "text/latex": [
       "30"
      ],
      "text/markdown": [
       "30"
      ],
      "text/plain": [
       "[1] 30"
      ]
     },
     "metadata": {},
     "output_type": "display_data"
    }
   ],
   "source": [
    "#functions\n",
    "\n",
    "sum1(2,3)\n",
    "\n",
    "\n",
    "sum1(56,78)\n",
    "# without arguments\n",
    "display <- function()\n",
    "{\n",
    "  print(\"lucid it solutions\")\n",
    "}\n",
    "display()\n",
    "\n",
    "# function define\n",
    "sum_of_squares <- function(x,y) {  \n",
    "  x^2 + y^2\n",
    "}\n",
    "sum_of_squares(3,4) # function call\n",
    "#example\n",
    "# function to print x raised to the power y\n",
    "\n",
    "pow <- function(x, y) {\n",
    "  result <- x^y\n",
    "  print(paste(x,\"raised to the power\", y, \"is\", result))\n",
    "}\n",
    "pow(2,3)\n",
    "#Default Arguments\n",
    "# Create a function with arguments.\n",
    "new.function <- function(a = 3, b = 6) {\n",
    "  result <- a * b\n",
    "  #print(result)\n",
    "  return(result) # to print to the console\n",
    "}\n",
    "\n",
    "\n",
    "new.function <- function(a=5, b) {\n",
    "  result <- a * b\n",
    "  #print(result)\n",
    "  return(result) # to print to the console\n",
    "}\n",
    "#new.function(,3)  #this will take the value 3 for b  \n",
    "\n",
    "\n",
    "#new.function() # this will print default values result\n",
    "new.function(2,3) # \n",
    "#new.function(2)\n",
    "#new.function(,2)\n",
    "\n",
    "\n",
    "add <- function(x,y=1,z=2){\n",
    "  x+y\n",
    "  x+z\n",
    "\n",
    "}\n",
    "add(5)\n",
    "\n",
    "add <- function(x,y=1,z=2){\n",
    "  x+y\n",
    "  x+z\n",
    "  return(c(x+y,x+z))  \n",
    "}\n",
    "add(5)\n",
    "\n",
    "\n",
    "\n",
    "add <- function(x,y=1,z=2){\n",
    "  x+y\n",
    "  x+z\n",
    "  return(paste(x+y,x+z))  \n",
    "}\n",
    "add(5)\n",
    "\n",
    "\n",
    "add <- function(x,y=1,z=2){\n",
    "  x+y\n",
    "  x+z\n",
    "  print(paste(x+y,x+z))  \n",
    "}\n",
    "add(5)\n",
    "\n",
    "fahr_to_kelvin <- function(temp) {\n",
    "  kelvin <- ((temp - 32) * (5 / 9)) + 273.15\n",
    "  return(kelvin)\n",
    "}\n",
    "\n",
    "fahr_to_kelvin(35)\n",
    "# Named Arguments¶\n",
    "\n",
    "pow(8, 2)\n",
    "pow(x = 8, y = 2)\n",
    "pow(y = 2, x = 8)\n",
    "pow(2, x = 8)\n",
    "pow(2, y = 8)\n",
    "class(substring(pow(sum(1,2),5), 3,8)) # functions with in another function\n",
    "# Lazy evaluation\n",
    "\n",
    "fun <- function(a,b){\n",
    "  a^2\n",
    "}\n",
    "\n",
    "fun(2,x/0)\n",
    "\n",
    "fun <- function(a,b){\n",
    "  b^2\n",
    "}\n",
    "\n",
    "fun(2,x/0)\n",
    "\n",
    "fun <- function(a,b){\n",
    "  b^2\n",
    "}\n",
    "\n",
    "fun(2,3/0)\n",
    "x <- 5\n",
    "fun(2,x/1)\n",
    "# Lazy evaluation of args\n",
    "\n",
    "fun <- function(x){\n",
    "  10\n",
    "}\n",
    "fun(\"hello\")\n",
    "#functions without name\n",
    "(function(x) x*10)(5)\n",
    "\n",
    "\n",
    "x <- 5 # global assignment of x is not used by the fun\n",
    "fun <- function(x){\n",
    "  #parameter x is passed by value (copy)\n",
    "  x <- x+1 # local variable is modified\n",
    "  print(x)\n",
    "}\n",
    "fun(1) # prints \n",
    "#fun() # prints \n",
    "\n",
    "\n",
    "input_1 = 20\n",
    "mySum <- function(input_1, input_2 = 10) {\n",
    "  output <- input_1 + input_2\n",
    "  return(output)\n",
    "}\n",
    "mySum(input_1 = 1, 3)\n",
    "mySum(input_1 = 1, 3)\n",
    "\n",
    "\n",
    "\n",
    "input_1 = 20\n",
    "mySum <- function(input_1a=input_1, input_2 = 10) {\n",
    "  output <- input_1a + input_2\n",
    "  return(output)\n",
    "}\n",
    "\n",
    "mySum()"
   ]
  },
  {
   "cell_type": "code",
   "execution_count": 1,
   "metadata": {
    "run_control": {
     "frozen": false,
     "read_only": false
    }
   },
   "outputs": [
    {
     "data": {
      "text/html": [
       "7"
      ],
      "text/latex": [
       "7"
      ],
      "text/markdown": [
       "7"
      ],
      "text/plain": [
       "[1] 7"
      ]
     },
     "metadata": {},
     "output_type": "display_data"
    },
    {
     "data": {
      "text/html": [
       "12"
      ],
      "text/latex": [
       "12"
      ],
      "text/markdown": [
       "12"
      ],
      "text/plain": [
       "[1] 12"
      ]
     },
     "metadata": {},
     "output_type": "display_data"
    },
    {
     "data": {
      "text/html": [
       "19"
      ],
      "text/latex": [
       "19"
      ],
      "text/markdown": [
       "19"
      ],
      "text/plain": [
       "[1] 19"
      ]
     },
     "metadata": {},
     "output_type": "display_data"
    },
    {
     "data": {
      "text/html": [
       "44"
      ],
      "text/latex": [
       "44"
      ],
      "text/markdown": [
       "44"
      ],
      "text/plain": [
       "[1] 44"
      ]
     },
     "metadata": {},
     "output_type": "display_data"
    },
    {
     "data": {
      "text/html": [
       "49"
      ],
      "text/latex": [
       "49"
      ],
      "text/markdown": [
       "49"
      ],
      "text/plain": [
       "[1] 49"
      ]
     },
     "metadata": {},
     "output_type": "display_data"
    },
    {
     "data": {
      "text/html": [
       "23"
      ],
      "text/latex": [
       "23"
      ],
      "text/markdown": [
       "23"
      ],
      "text/plain": [
       "[1] 23"
      ]
     },
     "metadata": {},
     "output_type": "display_data"
    },
    {
     "data": {
      "text/html": [
       "44"
      ],
      "text/latex": [
       "44"
      ],
      "text/markdown": [
       "44"
      ],
      "text/plain": [
       "[1] 44"
      ]
     },
     "metadata": {},
     "output_type": "display_data"
    },
    {
     "data": {
      "text/html": [
       "5.700040842414e+22"
      ],
      "text/latex": [
       "5.700040842414e+22"
      ],
      "text/markdown": [
       "5.700040842414e+22"
      ],
      "text/plain": [
       "[1] 5.700041e+22"
      ]
     },
     "metadata": {},
     "output_type": "display_data"
    },
    {
     "data": {
      "text/html": [
       "57000408424139982897152"
      ],
      "text/latex": [
       "57000408424139982897152"
      ],
      "text/markdown": [
       "57000408424139982897152"
      ],
      "text/plain": [
       "[1] 57000408424139982897152"
      ]
     },
     "metadata": {},
     "output_type": "display_data"
    },
    {
     "data": {
      "text/html": [
       "'lucid it solutions'"
      ],
      "text/latex": [
       "'lucid it solutions'"
      ],
      "text/markdown": [
       "'lucid it solutions'"
      ],
      "text/plain": [
       "[1] \"lucid it solutions\""
      ]
     },
     "metadata": {},
     "output_type": "display_data"
    },
    {
     "data": {
      "text/html": [
       "'cid'"
      ],
      "text/latex": [
       "'cid'"
      ],
      "text/markdown": [
       "'cid'"
      ],
      "text/plain": [
       "[1] \"cid\""
      ]
     },
     "metadata": {},
     "output_type": "display_data"
    },
    {
     "data": {
      "text/html": [
       "'d it'"
      ],
      "text/latex": [
       "'d it'"
      ],
      "text/markdown": [
       "'d it'"
      ],
      "text/plain": [
       "[1] \"d it\""
      ]
     },
     "metadata": {},
     "output_type": "display_data"
    },
    {
     "data": {
      "text/html": [
       "44"
      ],
      "text/latex": [
       "44"
      ],
      "text/markdown": [
       "44"
      ],
      "text/plain": [
       "[1] 44"
      ]
     },
     "metadata": {},
     "output_type": "display_data"
    },
    {
     "data": {
      "text/html": [
       "12"
      ],
      "text/latex": [
       "12"
      ],
      "text/markdown": [
       "12"
      ],
      "text/plain": [
       "[1] 12"
      ]
     },
     "metadata": {},
     "output_type": "display_data"
    },
    {
     "data": {
      "text/html": [
       "12"
      ],
      "text/latex": [
       "12"
      ],
      "text/markdown": [
       "12"
      ],
      "text/plain": [
       "[1] 12"
      ]
     },
     "metadata": {},
     "output_type": "display_data"
    },
    {
     "data": {
      "text/html": [
       "12"
      ],
      "text/latex": [
       "12"
      ],
      "text/markdown": [
       "12"
      ],
      "text/plain": [
       "[1] 12"
      ]
     },
     "metadata": {},
     "output_type": "display_data"
    },
    {
     "data": {
      "text/html": [
       "<ol class=list-inline>\n",
       "\t<li>'12'</li>\n",
       "\t<li>'44'</li>\n",
       "\t<li>'hello'</li>\n",
       "</ol>\n"
      ],
      "text/latex": [
       "\\begin{enumerate*}\n",
       "\\item '12'\n",
       "\\item '44'\n",
       "\\item 'hello'\n",
       "\\end{enumerate*}\n"
      ],
      "text/markdown": [
       "1. '12'\n",
       "2. '44'\n",
       "3. 'hello'\n",
       "\n",
       "\n"
      ],
      "text/plain": [
       "[1] \"12\"    \"44\"    \"hello\""
      ]
     },
     "metadata": {},
     "output_type": "display_data"
    },
    {
     "name": "stdout",
     "output_type": "stream",
     "text": [
      "[1] 18\n",
      "[1] 30\n",
      "[1] 15\n",
      "[1] 15\n",
      "[1] 8\n"
     ]
    },
    {
     "data": {
      "text/html": [
       "7"
      ],
      "text/latex": [
       "7"
      ],
      "text/markdown": [
       "7"
      ],
      "text/plain": [
       "[1] 7"
      ]
     },
     "metadata": {},
     "output_type": "display_data"
    },
    {
     "data": {
      "text/html": [
       "'meri'"
      ],
      "text/latex": [
       "'meri'"
      ],
      "text/markdown": [
       "'meri'"
      ],
      "text/plain": [
       "[1] \"meri\""
      ]
     },
     "metadata": {},
     "output_type": "display_data"
    },
    {
     "data": {
      "text/html": [
       "4"
      ],
      "text/latex": [
       "4"
      ],
      "text/markdown": [
       "4"
      ],
      "text/plain": [
       "[1] 4"
      ]
     },
     "metadata": {},
     "output_type": "display_data"
    },
    {
     "data": {
      "text/html": [
       "4"
      ],
      "text/latex": [
       "4"
      ],
      "text/markdown": [
       "4"
      ],
      "text/plain": [
       "[1] 4"
      ]
     },
     "metadata": {},
     "output_type": "display_data"
    },
    {
     "data": {
      "text/html": [
       "10"
      ],
      "text/latex": [
       "10"
      ],
      "text/markdown": [
       "10"
      ],
      "text/plain": [
       "[1] 10"
      ]
     },
     "metadata": {},
     "output_type": "display_data"
    },
    {
     "data": {
      "text/html": [
       "'hello 10'"
      ],
      "text/latex": [
       "'hello 10'"
      ],
      "text/markdown": [
       "'hello 10'"
      ],
      "text/plain": [
       "[1] \"hello 10\""
      ]
     },
     "metadata": {},
     "output_type": "display_data"
    },
    {
     "data": {
      "text/html": [
       "50"
      ],
      "text/latex": [
       "50"
      ],
      "text/markdown": [
       "50"
      ],
      "text/plain": [
       "[1] 50"
      ]
     },
     "metadata": {},
     "output_type": "display_data"
    },
    {
     "name": "stdout",
     "output_type": "stream",
     "text": [
      "[1] 2\n",
      "[1] 6\n"
     ]
    }
   ],
   "source": [
    "sum(3,4)\n",
    "prod(3,4)\n",
    "sum(3,4) + prod(3,4)\n",
    "sum(8,4) + prod(8,4)\n",
    "sum(9,4) + prod(9,4)\n",
    "sum(5,3) + prod(5,3)\n",
    "\n",
    "sumprod <- function(x,y){ # \n",
    "  sum(x,y) + prod(x,y)\n",
    "}\n",
    "\n",
    "sumprod(8,4) #invoking\n",
    "\n",
    "x <- seq(2,14)\n",
    "y <- x+1\n",
    "sumprod(x,y) #invoking the function using x and y vectors\n",
    "options(scipen = 999) # to print exponential values as normal values\n",
    "sumprod(x,y)\n",
    "\n",
    "tu<- toupper(\"lucid it solutions\") # to become uppercase\n",
    "tolower(tu)  # to print as lower case\n",
    "substring(\"lucid it solutions\", 3,5)\n",
    "substring(\"lucid it solutions\", 5,8)\n",
    "\n",
    "\n",
    "sumprod <- function(x,y){ # \n",
    "  sum(x,y)\n",
    "  sum(x,y) + prod(x,y) #last statement result only invoked\n",
    "}\n",
    "\n",
    "sumprod(8,4) #invoking\n",
    "sum(8,4)\n",
    "\n",
    "\n",
    "\n",
    "sumprod <- function(x,y){ # \n",
    "  return(sum(x,y)) # this statement will execute last\n",
    "  sum(x,y) + prod(x,y) \n",
    "}\n",
    "sumprod(8,4) #invoking\n",
    "\n",
    "sumprod <- function(x,y){ # \n",
    "  return(sum(x,y)) # this statement will execute last\n",
    "  return(sum(x,y) + prod(x,y)) \n",
    "}\n",
    "sumprod(8,4) #invoking\n",
    "\n",
    "\n",
    "sumprod <- function(x,y){ # \n",
    "  return(c(sum(x,y), (sum(x,y) + prod(x,y)), \"hello\")) # return argument should only one\n",
    "}\n",
    "sumprod(8,4) #invoking\n",
    "\n",
    "########## default arguments\n",
    "\n",
    "new.function <- function(a = 3, b = 6) {  # givilng arguement values as default\n",
    "  result <- a * b\n",
    "  print(result)\n",
    "}\n",
    "new.function() # invoking without arguements\n",
    "new.function(5) # invoking with single arguement\n",
    "new.function(b=5) # invoking using name\n",
    "new.function(5,3) # normal \n",
    "new.function(b=4,a=2) #naming \n",
    "\n",
    "\n",
    "add <- function(x,y=1,z=2){\n",
    "  x+y\n",
    "  x+z\n",
    "}\n",
    "add(5) # last statement wiill evaluated\n",
    "\n",
    "fahr_to_kelvin <- function(temp) {\n",
    "  kelvin <- ((temp - 32) * (5 / 9)) + 273.15\n",
    "  return(kelvin)\n",
    "}\n",
    "\n",
    "# functions Can be passed as arguments to other functions\n",
    "substring(class(prod(sum(2,3),4)), 3,6)\n",
    "\n",
    "\n",
    "\n",
    "### lazy evaluation\n",
    "fun <- function(a,b){\n",
    "  a^2\n",
    "}\n",
    "\n",
    "fun(2,x/0)\n",
    "fun(2,\";\")\n",
    "\n",
    "fun <- function(x){\n",
    "  10\n",
    "}\n",
    "\n",
    "fun(\"hello\")\n",
    "\n",
    "fun <- function(x){\n",
    "  paste(x,10)\n",
    "}\n",
    "\n",
    "fun(\"hello\")\n",
    "\n",
    "(function(x) x*10)(5)  #nameless function\n",
    "  \n",
    "\n",
    "x <- 5 # global assignment of x is not used by the fun\n",
    "fun <- function(x){\n",
    "  #parameter x is passed by value (copy)\n",
    "  x <- x+1 # local variable is modified\n",
    "  print(x)\n",
    "}\n",
    "fun(1) # prints \n",
    "# fun() # error\n",
    "\n",
    "\n",
    "x1 <- 5 # global assignment of x is not used by the fun\n",
    "fun <- function(x=x1){\n",
    "  #parameter x is passed by value (copy)\n",
    "  x <- x+1 # local variable is modified\n",
    "  print(x)\n",
    "}\n",
    "fun() # result 6"
   ]
  },
  {
   "cell_type": "code",
   "execution_count": null,
   "metadata": {},
   "outputs": [],
   "source": []
  }
 ],
 "metadata": {
  "hide_input": false,
  "kernelspec": {
   "display_name": "R",
   "language": "R",
   "name": "r"
  },
  "language_info": {
   "codemirror_mode": "r",
   "file_extension": ".r",
   "mimetype": "text/x-r-source",
   "name": "R",
   "pygments_lexer": "r",
   "version": "3.4.1"
  },
  "nav_menu": {},
  "toc": {
   "navigate_menu": true,
   "number_sections": true,
   "sideBar": true,
   "threshold": 6,
   "toc_cell": false,
   "toc_section_display": "block",
   "toc_window_display": false
  }
 },
 "nbformat": 4,
 "nbformat_minor": 2
}
