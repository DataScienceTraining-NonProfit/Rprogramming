{
 "cells": [
  {
   "cell_type": "code",
   "execution_count": 2,
   "metadata": {
    "run_control": {
     "frozen": false,
     "read_only": false
    }
   },
   "outputs": [
    {
     "data": {
      "text/html": [
       "3"
      ],
      "text/latex": [
       "3"
      ],
      "text/markdown": [
       "3"
      ],
      "text/plain": [
       "[1] 3"
      ]
     },
     "metadata": {},
     "output_type": "display_data"
    },
    {
     "data": {
      "text/html": [
       "'numeric'"
      ],
      "text/latex": [
       "'numeric'"
      ],
      "text/markdown": [
       "'numeric'"
      ],
      "text/plain": [
       "[1] \"numeric\""
      ]
     },
     "metadata": {},
     "output_type": "display_data"
    },
    {
     "data": {
      "text/html": [
       "<ol class=list-inline>\n",
       "\t<li>1</li>\n",
       "\t<li>2</li>\n",
       "</ol>\n"
      ],
      "text/latex": [
       "\\begin{enumerate*}\n",
       "\\item 1\n",
       "\\item 2\n",
       "\\end{enumerate*}\n"
      ],
      "text/markdown": [
       "1. 1\n",
       "2. 2\n",
       "\n",
       "\n"
      ],
      "text/plain": [
       "[1] 1 2"
      ]
     },
     "metadata": {},
     "output_type": "display_data"
    },
    {
     "data": {
      "text/html": [
       "<ol class=list-inline>\n",
       "\t<li>'a'</li>\n",
       "\t<li>'b'</li>\n",
       "\t<li>'c'</li>\n",
       "\t<li>'d'</li>\n",
       "\t<li>'e'</li>\n",
       "\t<li>'f'</li>\n",
       "\t<li>'g'</li>\n",
       "\t<li>'h'</li>\n",
       "\t<li>'i'</li>\n",
       "\t<li>'j'</li>\n",
       "\t<li>'k'</li>\n",
       "\t<li>'l'</li>\n",
       "\t<li>'m'</li>\n",
       "\t<li>'n'</li>\n",
       "\t<li>'o'</li>\n",
       "\t<li>'p'</li>\n",
       "\t<li>'q'</li>\n",
       "\t<li>'r'</li>\n",
       "\t<li>'s'</li>\n",
       "\t<li>'t'</li>\n",
       "\t<li>'u'</li>\n",
       "\t<li>'v'</li>\n",
       "\t<li>'w'</li>\n",
       "\t<li>'x'</li>\n",
       "\t<li>'y'</li>\n",
       "\t<li>'z'</li>\n",
       "</ol>\n"
      ],
      "text/latex": [
       "\\begin{enumerate*}\n",
       "\\item 'a'\n",
       "\\item 'b'\n",
       "\\item 'c'\n",
       "\\item 'd'\n",
       "\\item 'e'\n",
       "\\item 'f'\n",
       "\\item 'g'\n",
       "\\item 'h'\n",
       "\\item 'i'\n",
       "\\item 'j'\n",
       "\\item 'k'\n",
       "\\item 'l'\n",
       "\\item 'm'\n",
       "\\item 'n'\n",
       "\\item 'o'\n",
       "\\item 'p'\n",
       "\\item 'q'\n",
       "\\item 'r'\n",
       "\\item 's'\n",
       "\\item 't'\n",
       "\\item 'u'\n",
       "\\item 'v'\n",
       "\\item 'w'\n",
       "\\item 'x'\n",
       "\\item 'y'\n",
       "\\item 'z'\n",
       "\\end{enumerate*}\n"
      ],
      "text/markdown": [
       "1. 'a'\n",
       "2. 'b'\n",
       "3. 'c'\n",
       "4. 'd'\n",
       "5. 'e'\n",
       "6. 'f'\n",
       "7. 'g'\n",
       "8. 'h'\n",
       "9. 'i'\n",
       "10. 'j'\n",
       "11. 'k'\n",
       "12. 'l'\n",
       "13. 'm'\n",
       "14. 'n'\n",
       "15. 'o'\n",
       "16. 'p'\n",
       "17. 'q'\n",
       "18. 'r'\n",
       "19. 's'\n",
       "20. 't'\n",
       "21. 'u'\n",
       "22. 'v'\n",
       "23. 'w'\n",
       "24. 'x'\n",
       "25. 'y'\n",
       "26. 'z'\n",
       "\n",
       "\n"
      ],
      "text/plain": [
       " [1] \"a\" \"b\" \"c\" \"d\" \"e\" \"f\" \"g\" \"h\" \"i\" \"j\" \"k\" \"l\" \"m\" \"n\" \"o\" \"p\" \"q\" \"r\" \"s\"\n",
       "[20] \"t\" \"u\" \"v\" \"w\" \"x\" \"y\" \"z\""
      ]
     },
     "metadata": {},
     "output_type": "display_data"
    },
    {
     "data": {
      "text/html": [
       "<ol class=list-inline>\n",
       "\t<li>'a'</li>\n",
       "\t<li>'b'</li>\n",
       "\t<li>'c'</li>\n",
       "\t<li>'d'</li>\n",
       "\t<li>'e'</li>\n",
       "\t<li>'f'</li>\n",
       "\t<li>'g'</li>\n",
       "\t<li>'h'</li>\n",
       "\t<li>'i'</li>\n",
       "\t<li>'j'</li>\n",
       "\t<li>'k'</li>\n",
       "\t<li>'l'</li>\n",
       "\t<li>'m'</li>\n",
       "\t<li>'n'</li>\n",
       "\t<li>'o'</li>\n",
       "\t<li>'p'</li>\n",
       "\t<li>'q'</li>\n",
       "\t<li>'r'</li>\n",
       "\t<li>'s'</li>\n",
       "\t<li>'t'</li>\n",
       "\t<li>'u'</li>\n",
       "\t<li>'v'</li>\n",
       "\t<li>'w'</li>\n",
       "\t<li>'x'</li>\n",
       "\t<li>'y'</li>\n",
       "\t<li>'z'</li>\n",
       "</ol>\n"
      ],
      "text/latex": [
       "\\begin{enumerate*}\n",
       "\\item 'a'\n",
       "\\item 'b'\n",
       "\\item 'c'\n",
       "\\item 'd'\n",
       "\\item 'e'\n",
       "\\item 'f'\n",
       "\\item 'g'\n",
       "\\item 'h'\n",
       "\\item 'i'\n",
       "\\item 'j'\n",
       "\\item 'k'\n",
       "\\item 'l'\n",
       "\\item 'm'\n",
       "\\item 'n'\n",
       "\\item 'o'\n",
       "\\item 'p'\n",
       "\\item 'q'\n",
       "\\item 'r'\n",
       "\\item 's'\n",
       "\\item 't'\n",
       "\\item 'u'\n",
       "\\item 'v'\n",
       "\\item 'w'\n",
       "\\item 'x'\n",
       "\\item 'y'\n",
       "\\item 'z'\n",
       "\\end{enumerate*}\n"
      ],
      "text/markdown": [
       "1. 'a'\n",
       "2. 'b'\n",
       "3. 'c'\n",
       "4. 'd'\n",
       "5. 'e'\n",
       "6. 'f'\n",
       "7. 'g'\n",
       "8. 'h'\n",
       "9. 'i'\n",
       "10. 'j'\n",
       "11. 'k'\n",
       "12. 'l'\n",
       "13. 'm'\n",
       "14. 'n'\n",
       "15. 'o'\n",
       "16. 'p'\n",
       "17. 'q'\n",
       "18. 'r'\n",
       "19. 's'\n",
       "20. 't'\n",
       "21. 'u'\n",
       "22. 'v'\n",
       "23. 'w'\n",
       "24. 'x'\n",
       "25. 'y'\n",
       "26. 'z'\n",
       "\n",
       "\n"
      ],
      "text/plain": [
       " [1] \"a\" \"b\" \"c\" \"d\" \"e\" \"f\" \"g\" \"h\" \"i\" \"j\" \"k\" \"l\" \"m\" \"n\" \"o\" \"p\" \"q\" \"r\" \"s\"\n",
       "[20] \"t\" \"u\" \"v\" \"w\" \"x\" \"y\" \"z\""
      ]
     },
     "metadata": {},
     "output_type": "display_data"
    },
    {
     "data": {
      "text/html": [
       "3"
      ],
      "text/latex": [
       "3"
      ],
      "text/markdown": [
       "3"
      ],
      "text/plain": [
       "[1] 3"
      ]
     },
     "metadata": {},
     "output_type": "display_data"
    },
    {
     "data": {
      "text/html": [
       "3"
      ],
      "text/latex": [
       "3"
      ],
      "text/markdown": [
       "3"
      ],
      "text/plain": [
       "[1] 3"
      ]
     },
     "metadata": {},
     "output_type": "display_data"
    },
    {
     "data": {
      "text/html": [
       "3"
      ],
      "text/latex": [
       "3"
      ],
      "text/markdown": [
       "3"
      ],
      "text/plain": [
       "[1] 3"
      ]
     },
     "metadata": {},
     "output_type": "display_data"
    },
    {
     "data": {
      "text/html": [
       "1.3"
      ],
      "text/latex": [
       "1.3"
      ],
      "text/markdown": [
       "1.3"
      ],
      "text/plain": [
       "[1] 1.3"
      ]
     },
     "metadata": {},
     "output_type": "display_data"
    },
    {
     "data": {
      "text/html": [
       "8"
      ],
      "text/latex": [
       "8"
      ],
      "text/markdown": [
       "8"
      ],
      "text/plain": [
       "[1] 8"
      ]
     },
     "metadata": {},
     "output_type": "display_data"
    },
    {
     "data": {
      "text/html": [
       "64"
      ],
      "text/latex": [
       "64"
      ],
      "text/markdown": [
       "64"
      ],
      "text/plain": [
       "[1] 64"
      ]
     },
     "metadata": {},
     "output_type": "display_data"
    },
    {
     "data": {
      "text/html": [
       "3"
      ],
      "text/latex": [
       "3"
      ],
      "text/markdown": [
       "3"
      ],
      "text/plain": [
       "[1] 3"
      ]
     },
     "metadata": {},
     "output_type": "display_data"
    },
    {
     "data": {
      "text/html": [
       "4"
      ],
      "text/latex": [
       "4"
      ],
      "text/markdown": [
       "4"
      ],
      "text/plain": [
       "[1] 4"
      ]
     },
     "metadata": {},
     "output_type": "display_data"
    },
    {
     "data": {
      "text/html": [
       "4"
      ],
      "text/latex": [
       "4"
      ],
      "text/markdown": [
       "4"
      ],
      "text/plain": [
       "[1] 4"
      ]
     },
     "metadata": {},
     "output_type": "display_data"
    },
    {
     "data": {
      "text/html": [
       "3"
      ],
      "text/latex": [
       "3"
      ],
      "text/markdown": [
       "3"
      ],
      "text/plain": [
       "[1] 3"
      ]
     },
     "metadata": {},
     "output_type": "display_data"
    },
    {
     "data": {
      "text/html": [
       "4"
      ],
      "text/latex": [
       "4"
      ],
      "text/markdown": [
       "4"
      ],
      "text/plain": [
       "[1] 4"
      ]
     },
     "metadata": {},
     "output_type": "display_data"
    },
    {
     "data": {
      "text/html": [
       "3"
      ],
      "text/latex": [
       "3"
      ],
      "text/markdown": [
       "3"
      ],
      "text/plain": [
       "[1] 3"
      ]
     },
     "metadata": {},
     "output_type": "display_data"
    },
    {
     "data": {
      "text/html": [
       "3"
      ],
      "text/latex": [
       "3"
      ],
      "text/markdown": [
       "3"
      ],
      "text/plain": [
       "[1] 3"
      ]
     },
     "metadata": {},
     "output_type": "display_data"
    },
    {
     "data": {
      "text/html": [
       "3"
      ],
      "text/latex": [
       "3"
      ],
      "text/markdown": [
       "3"
      ],
      "text/plain": [
       "[1] 3"
      ]
     },
     "metadata": {},
     "output_type": "display_data"
    },
    {
     "data": {
      "text/html": [
       "4"
      ],
      "text/latex": [
       "4"
      ],
      "text/markdown": [
       "4"
      ],
      "text/plain": [
       "[1] 4"
      ]
     },
     "metadata": {},
     "output_type": "display_data"
    },
    {
     "data": {
      "text/html": [
       "5"
      ],
      "text/latex": [
       "5"
      ],
      "text/markdown": [
       "5"
      ],
      "text/plain": [
       "[1] 5"
      ]
     },
     "metadata": {},
     "output_type": "display_data"
    },
    {
     "data": {
      "text/html": [
       "0"
      ],
      "text/latex": [
       "0"
      ],
      "text/markdown": [
       "0"
      ],
      "text/plain": [
       "[1] 0"
      ]
     },
     "metadata": {},
     "output_type": "display_data"
    },
    {
     "data": {
      "text/html": [
       "4"
      ],
      "text/latex": [
       "4"
      ],
      "text/markdown": [
       "4"
      ],
      "text/plain": [
       "[1] 4"
      ]
     },
     "metadata": {},
     "output_type": "display_data"
    },
    {
     "data": {
      "text/html": [
       "0.999999327347282"
      ],
      "text/latex": [
       "0.999999327347282"
      ],
      "text/markdown": [
       "0.999999327347282"
      ],
      "text/plain": [
       "[1] 0.9999993"
      ]
     },
     "metadata": {},
     "output_type": "display_data"
    },
    {
     "data": {
      "text/html": [
       "'SUMENDAR'"
      ],
      "text/latex": [
       "'SUMENDAR'"
      ],
      "text/markdown": [
       "'SUMENDAR'"
      ],
      "text/plain": [
       "[1] \"SUMENDAR\""
      ]
     },
     "metadata": {},
     "output_type": "display_data"
    },
    {
     "data": {
      "text/html": [
       "'sumendar'"
      ],
      "text/latex": [
       "'sumendar'"
      ],
      "text/markdown": [
       "'sumendar'"
      ],
      "text/plain": [
       "[1] \"sumendar\""
      ]
     },
     "metadata": {},
     "output_type": "display_data"
    }
   ],
   "source": [
    "# setwd(\"C:/Users/user/Downloads/DSwRandP-apr18-master/DSwRandP-apr18-master/FunctionsAndApplyFamily\")\n",
    "sum(1,2) # inbuilt function to add elements\n",
    "# sum1(1,2) # \n",
    "# to create a function\n",
    "sum1 <- function(x,y) {\n",
    "  x+y\n",
    "}\n",
    "sum <- c(1,2)\n",
    "class(sum)\n",
    "letters <- c(1,2)\n",
    "letters\n",
    "\n",
    "rm(letters)\n",
    "obj <- letters\n",
    "obj\n",
    "letters\n",
    "sum(1,2)\n",
    "sum1(1,2)\n",
    "\n",
    "abs(-3)\n",
    "abs(-1.3)\n",
    "sqrt(64)\t# square root function\n",
    "8^2 # exponential\n",
    "round(3.455) # nearest integer value\n",
    "round(3.955)\n",
    "ceiling(3.475)\t\n",
    "floor(3.475)\t\n",
    "\n",
    "ceiling(3.175)#lookin at top\t\n",
    "round(3.175)\t\n",
    "floor(3.475)\t#looking at bottom\n",
    "floor(3.9999999)\t#looking at bottom\n",
    "round(3.9999999)\n",
    "trunc(5.99)\n",
    "log(1)\n",
    "log2(16)\n",
    "log(2.71828)\n",
    "# e =2.71828\n",
    "toupper(\"sumendar\")\n",
    "tolower(\"SUMENDAR\")"
   ]
  },
  {
   "cell_type": "code",
   "execution_count": 9,
   "metadata": {
    "run_control": {
     "frozen": false,
     "read_only": false
    }
   },
   "outputs": [
    {
     "data": {
      "text/html": [
       "5"
      ],
      "text/latex": [
       "5"
      ],
      "text/markdown": [
       "5"
      ],
      "text/plain": [
       "[1] 5"
      ]
     },
     "metadata": {},
     "output_type": "display_data"
    },
    {
     "data": {
      "text/html": [
       "134"
      ],
      "text/latex": [
       "134"
      ],
      "text/markdown": [
       "134"
      ],
      "text/plain": [
       "[1] 134"
      ]
     },
     "metadata": {},
     "output_type": "display_data"
    },
    {
     "name": "stdout",
     "output_type": "stream",
     "text": [
      "[1] \"lucid it solutions\"\n"
     ]
    },
    {
     "data": {
      "text/html": [
       "25"
      ],
      "text/latex": [
       "25"
      ],
      "text/markdown": [
       "25"
      ],
      "text/plain": [
       "[1] 25"
      ]
     },
     "metadata": {},
     "output_type": "display_data"
    },
    {
     "name": "stdout",
     "output_type": "stream",
     "text": [
      "[1] \"2 raised to the power 3 is 8\"\n"
     ]
    },
    {
     "data": {
      "text/html": [
       "6"
      ],
      "text/latex": [
       "6"
      ],
      "text/markdown": [
       "6"
      ],
      "text/plain": [
       "[1] 6"
      ]
     },
     "metadata": {},
     "output_type": "display_data"
    },
    {
     "data": {
      "text/html": [
       "7"
      ],
      "text/latex": [
       "7"
      ],
      "text/markdown": [
       "7"
      ],
      "text/plain": [
       "[1] 7"
      ]
     },
     "metadata": {},
     "output_type": "display_data"
    },
    {
     "data": {
      "text/html": [
       "<ol class=list-inline>\n",
       "\t<li>6</li>\n",
       "\t<li>7</li>\n",
       "</ol>\n"
      ],
      "text/latex": [
       "\\begin{enumerate*}\n",
       "\\item 6\n",
       "\\item 7\n",
       "\\end{enumerate*}\n"
      ],
      "text/markdown": [
       "1. 6\n",
       "2. 7\n",
       "\n",
       "\n"
      ],
      "text/plain": [
       "[1] 6 7"
      ]
     },
     "metadata": {},
     "output_type": "display_data"
    },
    {
     "data": {
      "text/html": [
       "'6 7'"
      ],
      "text/latex": [
       "'6 7'"
      ],
      "text/markdown": [
       "'6 7'"
      ],
      "text/plain": [
       "[1] \"6 7\""
      ]
     },
     "metadata": {},
     "output_type": "display_data"
    },
    {
     "name": "stdout",
     "output_type": "stream",
     "text": [
      "[1] \"6 7\"\n"
     ]
    },
    {
     "data": {
      "text/html": [
       "274.816666666667"
      ],
      "text/latex": [
       "274.816666666667"
      ],
      "text/markdown": [
       "274.816666666667"
      ],
      "text/plain": [
       "[1] 274.8167"
      ]
     },
     "metadata": {},
     "output_type": "display_data"
    },
    {
     "name": "stdout",
     "output_type": "stream",
     "text": [
      "[1] \"8 raised to the power 2 is 64\"\n",
      "[1] \"8 raised to the power 2 is 64\"\n",
      "[1] \"8 raised to the power 2 is 64\"\n",
      "[1] \"8 raised to the power 2 is 64\"\n",
      "[1] \"2 raised to the power 8 is 256\"\n",
      "[1] \"3 raised to the power 5 is 243\"\n"
     ]
    },
    {
     "data": {
      "text/html": [
       "'character'"
      ],
      "text/latex": [
       "'character'"
      ],
      "text/markdown": [
       "'character'"
      ],
      "text/plain": [
       "[1] \"character\""
      ]
     },
     "metadata": {},
     "output_type": "display_data"
    },
    {
     "data": {
      "text/html": [
       "4"
      ],
      "text/latex": [
       "4"
      ],
      "text/markdown": [
       "4"
      ],
      "text/plain": [
       "[1] 4"
      ]
     },
     "metadata": {},
     "output_type": "display_data"
    },
    {
     "data": {
      "text/html": [
       "Inf"
      ],
      "text/latex": [
       "Inf"
      ],
      "text/markdown": [
       "Inf"
      ],
      "text/plain": [
       "[1] Inf"
      ]
     },
     "metadata": {},
     "output_type": "display_data"
    },
    {
     "data": {
      "text/html": [
       "Inf"
      ],
      "text/latex": [
       "Inf"
      ],
      "text/markdown": [
       "Inf"
      ],
      "text/plain": [
       "[1] Inf"
      ]
     },
     "metadata": {},
     "output_type": "display_data"
    },
    {
     "data": {
      "text/html": [
       "25"
      ],
      "text/latex": [
       "25"
      ],
      "text/markdown": [
       "25"
      ],
      "text/plain": [
       "[1] 25"
      ]
     },
     "metadata": {},
     "output_type": "display_data"
    },
    {
     "data": {
      "text/html": [
       "10"
      ],
      "text/latex": [
       "10"
      ],
      "text/markdown": [
       "10"
      ],
      "text/plain": [
       "[1] 10"
      ]
     },
     "metadata": {},
     "output_type": "display_data"
    },
    {
     "data": {
      "text/html": [
       "50"
      ],
      "text/latex": [
       "50"
      ],
      "text/markdown": [
       "50"
      ],
      "text/plain": [
       "[1] 50"
      ]
     },
     "metadata": {},
     "output_type": "display_data"
    },
    {
     "name": "stdout",
     "output_type": "stream",
     "text": [
      "[1] 2\n"
     ]
    },
    {
     "data": {
      "text/html": [
       "4"
      ],
      "text/latex": [
       "4"
      ],
      "text/markdown": [
       "4"
      ],
      "text/plain": [
       "[1] 4"
      ]
     },
     "metadata": {},
     "output_type": "display_data"
    },
    {
     "data": {
      "text/html": [
       "4"
      ],
      "text/latex": [
       "4"
      ],
      "text/markdown": [
       "4"
      ],
      "text/plain": [
       "[1] 4"
      ]
     },
     "metadata": {},
     "output_type": "display_data"
    },
    {
     "data": {
      "text/html": [
       "30"
      ],
      "text/latex": [
       "30"
      ],
      "text/markdown": [
       "30"
      ],
      "text/plain": [
       "[1] 30"
      ]
     },
     "metadata": {},
     "output_type": "display_data"
    }
   ],
   "source": [
    "#functions\n",
    "\n",
    "sum1(2,3)\n",
    "\n",
    "\n",
    "sum1(56,78)\n",
    "# without arguments\n",
    "display <- function()\n",
    "{\n",
    "  print(\"lucid it solutions\")\n",
    "}\n",
    "display()\n",
    "\n",
    "# function define\n",
    "sum_of_squares <- function(x,y) {  \n",
    "  x^2 + y^2\n",
    "}\n",
    "sum_of_squares(3,4) # function call\n",
    "#example\n",
    "# function to print x raised to the power y\n",
    "\n",
    "pow <- function(x, y) {\n",
    "  result <- x^y\n",
    "  print(paste(x,\"raised to the power\", y, \"is\", result))\n",
    "}\n",
    "pow(2,3)\n",
    "#Default Arguments\n",
    "# Create a function with arguments.\n",
    "new.function <- function(a = 3, b = 6) {\n",
    "  result <- a * b\n",
    "  #print(result)\n",
    "  return(result) # to print to the console\n",
    "}\n",
    "\n",
    "\n",
    "new.function <- function(a=5, b) {\n",
    "  result <- a * b\n",
    "  #print(result)\n",
    "  return(result) # to print to the console\n",
    "}\n",
    "#new.function(,3)  #this will take the value 3 for b  \n",
    "\n",
    "\n",
    "#new.function() # this will print default values result\n",
    "new.function(2,3) # \n",
    "#new.function(2)\n",
    "#new.function(,2)\n",
    "\n",
    "\n",
    "add <- function(x,y=1,z=2){\n",
    "  x+y\n",
    "  x+z\n",
    "\n",
    "}\n",
    "add(5)\n",
    "\n",
    "add <- function(x,y=1,z=2){\n",
    "  x+y\n",
    "  x+z\n",
    "  return(c(x+y,x+z))  \n",
    "}\n",
    "add(5)\n",
    "\n",
    "\n",
    "\n",
    "add <- function(x,y=1,z=2){\n",
    "  x+y\n",
    "  x+z\n",
    "  return(paste(x+y,x+z))  \n",
    "}\n",
    "add(5)\n",
    "\n",
    "\n",
    "add <- function(x,y=1,z=2){\n",
    "  x+y\n",
    "  x+z\n",
    "  print(paste(x+y,x+z))  \n",
    "}\n",
    "add(5)\n",
    "\n",
    "fahr_to_kelvin <- function(temp) {\n",
    "  kelvin <- ((temp - 32) * (5 / 9)) + 273.15\n",
    "  return(kelvin)\n",
    "}\n",
    "\n",
    "fahr_to_kelvin(35)\n",
    "# Named Arguments¶\n",
    "\n",
    "pow(8, 2)\n",
    "pow(x = 8, y = 2)\n",
    "pow(y = 2, x = 8)\n",
    "pow(2, x = 8)\n",
    "pow(2, y = 8)\n",
    "class(substring(pow(sum(1,2),5), 3,8)) # functions with in another function\n",
    "# Lazy evaluation\n",
    "\n",
    "fun <- function(a,b){\n",
    "  a^2\n",
    "}\n",
    "\n",
    "fun(2,x/0)\n",
    "\n",
    "fun <- function(a,b){\n",
    "  b^2\n",
    "}\n",
    "\n",
    "fun(2,x/0)\n",
    "\n",
    "fun <- function(a,b){\n",
    "  b^2\n",
    "}\n",
    "\n",
    "fun(2,3/0)\n",
    "x <- 5\n",
    "fun(2,x/1)\n",
    "# Lazy evaluation of args\n",
    "\n",
    "fun <- function(x){\n",
    "  10\n",
    "}\n",
    "fun(\"hello\")\n",
    "#functions without name\n",
    "(function(x) x*10)(5)\n",
    "\n",
    "\n",
    "x <- 5 # global assignment of x is not used by the fun\n",
    "fun <- function(x){\n",
    "  #parameter x is passed by value (copy)\n",
    "  x <- x+1 # local variable is modified\n",
    "  print(x)\n",
    "}\n",
    "fun(1) # prints \n",
    "#fun() # prints \n",
    "\n",
    "\n",
    "input_1 = 20\n",
    "mySum <- function(input_1, input_2 = 10) {\n",
    "  output <- input_1 + input_2\n",
    "  return(output)\n",
    "}\n",
    "mySum(input_1 = 1, 3)\n",
    "mySum(input_1 = 1, 3)\n",
    "\n",
    "\n",
    "\n",
    "input_1 = 20\n",
    "mySum <- function(input_1a=input_1, input_2 = 10) {\n",
    "  output <- input_1a + input_2\n",
    "  return(output)\n",
    "}\n",
    "\n",
    "mySum()"
   ]
  },
  {
   "cell_type": "code",
   "execution_count": 1,
   "metadata": {
    "run_control": {
     "frozen": false,
     "read_only": false
    }
   },
   "outputs": [
    {
     "data": {
      "text/html": [
       "7"
      ],
      "text/latex": [
       "7"
      ],
      "text/markdown": [
       "7"
      ],
      "text/plain": [
       "[1] 7"
      ]
     },
     "metadata": {},
     "output_type": "display_data"
    },
    {
     "data": {
      "text/html": [
       "12"
      ],
      "text/latex": [
       "12"
      ],
      "text/markdown": [
       "12"
      ],
      "text/plain": [
       "[1] 12"
      ]
     },
     "metadata": {},
     "output_type": "display_data"
    },
    {
     "data": {
      "text/html": [
       "19"
      ],
      "text/latex": [
       "19"
      ],
      "text/markdown": [
       "19"
      ],
      "text/plain": [
       "[1] 19"
      ]
     },
     "metadata": {},
     "output_type": "display_data"
    },
    {
     "data": {
      "text/html": [
       "44"
      ],
      "text/latex": [
       "44"
      ],
      "text/markdown": [
       "44"
      ],
      "text/plain": [
       "[1] 44"
      ]
     },
     "metadata": {},
     "output_type": "display_data"
    },
    {
     "data": {
      "text/html": [
       "49"
      ],
      "text/latex": [
       "49"
      ],
      "text/markdown": [
       "49"
      ],
      "text/plain": [
       "[1] 49"
      ]
     },
     "metadata": {},
     "output_type": "display_data"
    },
    {
     "data": {
      "text/html": [
       "23"
      ],
      "text/latex": [
       "23"
      ],
      "text/markdown": [
       "23"
      ],
      "text/plain": [
       "[1] 23"
      ]
     },
     "metadata": {},
     "output_type": "display_data"
    },
    {
     "data": {
      "text/html": [
       "44"
      ],
      "text/latex": [
       "44"
      ],
      "text/markdown": [
       "44"
      ],
      "text/plain": [
       "[1] 44"
      ]
     },
     "metadata": {},
     "output_type": "display_data"
    },
    {
     "data": {
      "text/html": [
       "5.700040842414e+22"
      ],
      "text/latex": [
       "5.700040842414e+22"
      ],
      "text/markdown": [
       "5.700040842414e+22"
      ],
      "text/plain": [
       "[1] 5.700041e+22"
      ]
     },
     "metadata": {},
     "output_type": "display_data"
    },
    {
     "data": {
      "text/html": [
       "57000408424139982897152"
      ],
      "text/latex": [
       "57000408424139982897152"
      ],
      "text/markdown": [
       "57000408424139982897152"
      ],
      "text/plain": [
       "[1] 57000408424139982897152"
      ]
     },
     "metadata": {},
     "output_type": "display_data"
    },
    {
     "data": {
      "text/html": [
       "'lucid it solutions'"
      ],
      "text/latex": [
       "'lucid it solutions'"
      ],
      "text/markdown": [
       "'lucid it solutions'"
      ],
      "text/plain": [
       "[1] \"lucid it solutions\""
      ]
     },
     "metadata": {},
     "output_type": "display_data"
    },
    {
     "data": {
      "text/html": [
       "'cid'"
      ],
      "text/latex": [
       "'cid'"
      ],
      "text/markdown": [
       "'cid'"
      ],
      "text/plain": [
       "[1] \"cid\""
      ]
     },
     "metadata": {},
     "output_type": "display_data"
    },
    {
     "data": {
      "text/html": [
       "'d it'"
      ],
      "text/latex": [
       "'d it'"
      ],
      "text/markdown": [
       "'d it'"
      ],
      "text/plain": [
       "[1] \"d it\""
      ]
     },
     "metadata": {},
     "output_type": "display_data"
    },
    {
     "data": {
      "text/html": [
       "44"
      ],
      "text/latex": [
       "44"
      ],
      "text/markdown": [
       "44"
      ],
      "text/plain": [
       "[1] 44"
      ]
     },
     "metadata": {},
     "output_type": "display_data"
    },
    {
     "data": {
      "text/html": [
       "12"
      ],
      "text/latex": [
       "12"
      ],
      "text/markdown": [
       "12"
      ],
      "text/plain": [
       "[1] 12"
      ]
     },
     "metadata": {},
     "output_type": "display_data"
    },
    {
     "data": {
      "text/html": [
       "12"
      ],
      "text/latex": [
       "12"
      ],
      "text/markdown": [
       "12"
      ],
      "text/plain": [
       "[1] 12"
      ]
     },
     "metadata": {},
     "output_type": "display_data"
    },
    {
     "data": {
      "text/html": [
       "12"
      ],
      "text/latex": [
       "12"
      ],
      "text/markdown": [
       "12"
      ],
      "text/plain": [
       "[1] 12"
      ]
     },
     "metadata": {},
     "output_type": "display_data"
    },
    {
     "data": {
      "text/html": [
       "<ol class=list-inline>\n",
       "\t<li>'12'</li>\n",
       "\t<li>'44'</li>\n",
       "\t<li>'hello'</li>\n",
       "</ol>\n"
      ],
      "text/latex": [
       "\\begin{enumerate*}\n",
       "\\item '12'\n",
       "\\item '44'\n",
       "\\item 'hello'\n",
       "\\end{enumerate*}\n"
      ],
      "text/markdown": [
       "1. '12'\n",
       "2. '44'\n",
       "3. 'hello'\n",
       "\n",
       "\n"
      ],
      "text/plain": [
       "[1] \"12\"    \"44\"    \"hello\""
      ]
     },
     "metadata": {},
     "output_type": "display_data"
    },
    {
     "name": "stdout",
     "output_type": "stream",
     "text": [
      "[1] 18\n",
      "[1] 30\n",
      "[1] 15\n",
      "[1] 15\n",
      "[1] 8\n"
     ]
    },
    {
     "data": {
      "text/html": [
       "7"
      ],
      "text/latex": [
       "7"
      ],
      "text/markdown": [
       "7"
      ],
      "text/plain": [
       "[1] 7"
      ]
     },
     "metadata": {},
     "output_type": "display_data"
    },
    {
     "data": {
      "text/html": [
       "'meri'"
      ],
      "text/latex": [
       "'meri'"
      ],
      "text/markdown": [
       "'meri'"
      ],
      "text/plain": [
       "[1] \"meri\""
      ]
     },
     "metadata": {},
     "output_type": "display_data"
    },
    {
     "data": {
      "text/html": [
       "4"
      ],
      "text/latex": [
       "4"
      ],
      "text/markdown": [
       "4"
      ],
      "text/plain": [
       "[1] 4"
      ]
     },
     "metadata": {},
     "output_type": "display_data"
    },
    {
     "data": {
      "text/html": [
       "4"
      ],
      "text/latex": [
       "4"
      ],
      "text/markdown": [
       "4"
      ],
      "text/plain": [
       "[1] 4"
      ]
     },
     "metadata": {},
     "output_type": "display_data"
    },
    {
     "data": {
      "text/html": [
       "10"
      ],
      "text/latex": [
       "10"
      ],
      "text/markdown": [
       "10"
      ],
      "text/plain": [
       "[1] 10"
      ]
     },
     "metadata": {},
     "output_type": "display_data"
    },
    {
     "data": {
      "text/html": [
       "'hello 10'"
      ],
      "text/latex": [
       "'hello 10'"
      ],
      "text/markdown": [
       "'hello 10'"
      ],
      "text/plain": [
       "[1] \"hello 10\""
      ]
     },
     "metadata": {},
     "output_type": "display_data"
    },
    {
     "data": {
      "text/html": [
       "50"
      ],
      "text/latex": [
       "50"
      ],
      "text/markdown": [
       "50"
      ],
      "text/plain": [
       "[1] 50"
      ]
     },
     "metadata": {},
     "output_type": "display_data"
    },
    {
     "name": "stdout",
     "output_type": "stream",
     "text": [
      "[1] 2\n",
      "[1] 6\n"
     ]
    }
   ],
   "source": [
    "sum(3,4)\n",
    "prod(3,4)\n",
    "sum(3,4) + prod(3,4)\n",
    "sum(8,4) + prod(8,4)\n",
    "sum(9,4) + prod(9,4)\n",
    "sum(5,3) + prod(5,3)\n",
    "\n",
    "sumprod <- function(x,y){ # \n",
    "  sum(x,y) + prod(x,y)\n",
    "}\n",
    "\n",
    "sumprod(8,4) #invoking\n",
    "\n",
    "x <- seq(2,14)\n",
    "y <- x+1\n",
    "sumprod(x,y) #invoking the function using x and y vectors\n",
    "options(scipen = 999) # to print exponential values as normal values\n",
    "sumprod(x,y)\n",
    "\n",
    "tu<- toupper(\"lucid it solutions\") # to become uppercase\n",
    "tolower(tu)  # to print as lower case\n",
    "substring(\"lucid it solutions\", 3,5)\n",
    "substring(\"lucid it solutions\", 5,8)\n",
    "\n",
    "\n",
    "sumprod <- function(x,y){ # \n",
    "  sum(x,y)\n",
    "  sum(x,y) + prod(x,y) #last statement result only invoked\n",
    "}\n",
    "\n",
    "sumprod(8,4) #invoking\n",
    "sum(8,4)\n",
    "\n",
    "\n",
    "\n",
    "sumprod <- function(x,y){ # \n",
    "  return(sum(x,y)) # this statement will execute last\n",
    "  sum(x,y) + prod(x,y) \n",
    "}\n",
    "sumprod(8,4) #invoking\n",
    "\n",
    "sumprod <- function(x,y){ # \n",
    "  return(sum(x,y)) # this statement will execute last\n",
    "  return(sum(x,y) + prod(x,y)) \n",
    "}\n",
    "sumprod(8,4) #invoking\n",
    "\n",
    "\n",
    "sumprod <- function(x,y){ # \n",
    "  return(c(sum(x,y), (sum(x,y) + prod(x,y)), \"hello\")) # return argument should only one\n",
    "}\n",
    "sumprod(8,4) #invoking\n",
    "\n",
    "########## default arguments\n",
    "\n",
    "new.function <- function(a = 3, b = 6) {  # givilng arguement values as default\n",
    "  result <- a * b\n",
    "  print(result)\n",
    "}\n",
    "new.function() # invoking without arguements\n",
    "new.function(5) # invoking with single arguement\n",
    "new.function(b=5) # invoking using name\n",
    "new.function(5,3) # normal \n",
    "new.function(b=4,a=2) #naming \n",
    "\n",
    "\n",
    "add <- function(x,y=1,z=2){\n",
    "  x+y\n",
    "  x+z\n",
    "}\n",
    "add(5) # last statement wiill evaluated\n",
    "\n",
    "fahr_to_kelvin <- function(temp) {\n",
    "  kelvin <- ((temp - 32) * (5 / 9)) + 273.15\n",
    "  return(kelvin)\n",
    "}\n",
    "\n",
    "# functions Can be passed as arguments to other functions\n",
    "substring(class(prod(sum(2,3),4)), 3,6)\n",
    "\n",
    "\n",
    "\n",
    "### lazy evaluation\n",
    "fun <- function(a,b){\n",
    "  a^2\n",
    "}\n",
    "\n",
    "fun(2,x/0)\n",
    "fun(2,\";\")\n",
    "\n",
    "fun <- function(x){\n",
    "  10\n",
    "}\n",
    "\n",
    "fun(\"hello\")\n",
    "\n",
    "fun <- function(x){\n",
    "  paste(x,10)\n",
    "}\n",
    "\n",
    "fun(\"hello\")\n",
    "\n",
    "(function(x) x*10)(5)  #nameless function\n",
    "  \n",
    "\n",
    "x <- 5 # global assignment of x is not used by the fun\n",
    "fun <- function(x){\n",
    "  #parameter x is passed by value (copy)\n",
    "  x <- x+1 # local variable is modified\n",
    "  print(x)\n",
    "}\n",
    "fun(1) # prints \n",
    "# fun() # error\n",
    "\n",
    "\n",
    "x1 <- 5 # global assignment of x is not used by the fun\n",
    "fun <- function(x=x1){\n",
    "  #parameter x is passed by value (copy)\n",
    "  x <- x+1 # local variable is modified\n",
    "  print(x)\n",
    "}\n",
    "fun() # result 6"
   ]
  },
  {
   "cell_type": "code",
   "execution_count": null,
   "metadata": {},
   "outputs": [],
   "source": []
  }
 ],
 "metadata": {
  "hide_input": false,
  "kernelspec": {
   "display_name": "R",
   "language": "R",
   "name": "r"
  },
  "language_info": {
   "codemirror_mode": "r",
   "file_extension": ".r",
   "mimetype": "text/x-r-source",
   "name": "R",
   "pygments_lexer": "r",
   "version": "3.4.1"
  },
  "nav_menu": {},
  "toc": {
   "navigate_menu": true,
   "number_sections": true,
   "sideBar": true,
   "threshold": 6,
   "toc_cell": false,
   "toc_section_display": "block",
   "toc_window_display": false
  }
 },
 "nbformat": 4,
 "nbformat_minor": 2
}
