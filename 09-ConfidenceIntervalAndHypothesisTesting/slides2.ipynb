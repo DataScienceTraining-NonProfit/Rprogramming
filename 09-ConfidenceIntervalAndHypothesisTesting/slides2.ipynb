{
 "cells": [
  {
   "cell_type": "markdown",
   "metadata": {
    "toc": true
   },
   "source": [
    "<h1>Table of Contents<span class=\"tocSkip\"></span></h1>\n",
    "<div class=\"toc\" style=\"margin-top: 1em;\"><ul class=\"toc-item\"><li><ul class=\"toc-item\"><li><span><a href=\"#One-Sample\" data-toc-modified-id=\"One-Sample-0.1\"><span class=\"toc-item-num\">0.1&nbsp;&nbsp;</span>One Sample</a></span><ul class=\"toc-item\"><li><span><a href=\"#Mean-(Z--and-t-tests,-Type-I-and-II-Error,-Power-&amp;-Sample-Size)\" data-toc-modified-id=\"Mean-(Z--and-t-tests,-Type-I-and-II-Error,-Power-&amp;-Sample-Size)-0.1.1\"><span class=\"toc-item-num\">0.1.1&nbsp;&nbsp;</span>Mean (Z- and t-tests, Type I and II Error, Power &amp; Sample Size)</a></span></li><li><span><a href=\"#Variance-(Chi-squared-Test)\" data-toc-modified-id=\"Variance-(Chi-squared-Test)-0.1.2\"><span class=\"toc-item-num\">0.1.2&nbsp;&nbsp;</span>Variance (Chi-squared Test)</a></span></li><li><span><a href=\"#Proportion-(Z-test)\" data-toc-modified-id=\"Proportion-(Z-test)-0.1.3\"><span class=\"toc-item-num\">0.1.3&nbsp;&nbsp;</span>Proportion (Z-test)</a></span></li></ul></li><li><span><a href=\"#Two-Samples\" data-toc-modified-id=\"Two-Samples-0.2\"><span class=\"toc-item-num\">0.2&nbsp;&nbsp;</span>Two Samples</a></span><ul class=\"toc-item\"><li><span><a href=\"#Means-(Independent-vs.-Paired-Samples,-Nonparametric-tests)\" data-toc-modified-id=\"Means-(Independent-vs.-Paired-Samples,-Nonparametric-tests)-0.2.1\"><span class=\"toc-item-num\">0.2.1&nbsp;&nbsp;</span>Means (Independent vs. Paired Samples, Nonparametric tests)</a></span></li><li><span><a href=\"#Variances-(F-test,-Levene-Test)\" data-toc-modified-id=\"Variances-(F-test,-Levene-Test)-0.2.2\"><span class=\"toc-item-num\">0.2.2&nbsp;&nbsp;</span>Variances (F-test, Levene Test)</a></span></li><li><span><a href=\"#Proportions-(Z-test,-Chi-squared-Test,-McNemar-Test)\" data-toc-modified-id=\"Proportions-(Z-test,-Chi-squared-Test,-McNemar-Test)-0.2.3\"><span class=\"toc-item-num\">0.2.3&nbsp;&nbsp;</span>Proportions (Z-test, Chi-squared Test, McNemar Test)</a></span></li></ul></li><li><span><a href=\"#Several-Samples\" data-toc-modified-id=\"Several-Samples-0.3\"><span class=\"toc-item-num\">0.3&nbsp;&nbsp;</span>Several Samples</a></span><ul class=\"toc-item\"><li><span><a href=\"#Proportions-(Chi-squared-Test)\" data-toc-modified-id=\"Proportions-(Chi-squared-Test)-0.3.1\"><span class=\"toc-item-num\">0.3.1&nbsp;&nbsp;</span>Proportions (Chi-squared Test)</a></span></li><li><span><a href=\"#Variances-(Bartlett’s-Test,-etc.)\" data-toc-modified-id=\"Variances-(Bartlett’s-Test,-etc.)-0.3.2\"><span class=\"toc-item-num\">0.3.2&nbsp;&nbsp;</span>Variances (Bartlett’s Test, etc.)</a></span></li><li><span><a href=\"#Means-(ANOVA,-F-test,-Multiple-Comparisons)\" data-toc-modified-id=\"Means-(ANOVA,-F-test,-Multiple-Comparisons)-0.3.3\"><span class=\"toc-item-num\">0.3.3&nbsp;&nbsp;</span>Means (ANOVA, F-test, Multiple Comparisons)</a></span></li></ul></li></ul></li><li><span><a href=\"#Which-Statistics-Test-Should-I-Use?\" data-toc-modified-id=\"Which-Statistics-Test-Should-I-Use?-1\"><span class=\"toc-item-num\">1&nbsp;&nbsp;</span>Which Statistics Test Should I Use?</a></span></li></ul></div>"
   ]
  },
  {
   "cell_type": "markdown",
   "metadata": {
    "run_control": {
     "frozen": false,
     "read_only": false
    }
   },
   "source": [
    "## One Sample\n",
    "### Mean (Z- and t-tests, Type I and II Error, Power & Sample Size)"
   ]
  },
  {
   "cell_type": "markdown",
   "metadata": {},
   "source": [
    "* z test is used when there is any statistical significance difference between a sample mean and a population mean with a known population standard deviation\n",
    "* It uses z-scores and a normal distribution to determine the probability the sample mean is drawn randomly from a known population."
   ]
  },
  {
   "cell_type": "markdown",
   "metadata": {},
   "source": [
    "http://stats.seandolinar.com/one-mean-z-test-with-r-code/  \n",
    "http://stats.seandolinar.com/one-sample-t-test-with-r-code/  \n",
    "http://www.artofstat.com/webapps.html#Distributions  "
   ]
  },
  {
   "cell_type": "markdown",
   "metadata": {
    "run_control": {
     "frozen": false,
     "read_only": false
    }
   },
   "source": [
    "### Variance (Chi-squared Test)\n",
    "### Proportion (Z-test)"
   ]
  },
  {
   "cell_type": "markdown",
   "metadata": {
    "run_control": {
     "frozen": false,
     "read_only": false
    }
   },
   "source": [
    "## Two Samples"
   ]
  },
  {
   "cell_type": "markdown",
   "metadata": {
    "run_control": {
     "frozen": false,
     "read_only": false
    }
   },
   "source": [
    "### Means (Independent vs. Paired Samples, Nonparametric tests)\n",
    "### Variances (F-test, Levene Test)\n",
    "### Proportions (Z-test, Chi-squared Test, McNemar Test)\n",
    "* Applications: Case-Control Studies, Test of Association and Test of Homogeneity of Odds Ratios, Mantel-Haenszel Estimate of Summary Odds Ratio"
   ]
  },
  {
   "cell_type": "markdown",
   "metadata": {
    "run_control": {
     "frozen": false,
     "read_only": false
    }
   },
   "source": [
    "## Several Samples"
   ]
  },
  {
   "cell_type": "markdown",
   "metadata": {
    "run_control": {
     "frozen": false,
     "read_only": false
    }
   },
   "source": [
    "### Proportions (Chi-squared Test)"
   ]
  },
  {
   "cell_type": "markdown",
   "metadata": {},
   "source": [
    "https://help.plot.ly/chi-square/  "
   ]
  },
  {
   "cell_type": "markdown",
   "metadata": {
    "run_control": {
     "frozen": false,
     "read_only": false
    }
   },
   "source": [
    "### Variances (Bartlett’s Test, etc.)"
   ]
  },
  {
   "cell_type": "markdown",
   "metadata": {
    "run_control": {
     "frozen": false,
     "read_only": false
    }
   },
   "source": [
    "### Means (ANOVA, F-test, Multiple Comparisons)"
   ]
  },
  {
   "cell_type": "markdown",
   "metadata": {
    "run_control": {
     "frozen": false,
     "read_only": false
    }
   },
   "source": [
    "https://help.plot.ly/anova-test/      "
   ]
  },
  {
   "cell_type": "markdown",
   "metadata": {},
   "source": [
    "# Which Statistics Test Should I Use?      \n",
    "http://www.socscistatistics.com/tests/what_stats_test_wizard.aspx    \n"
   ]
  },
  {
   "cell_type": "code",
   "execution_count": null,
   "metadata": {},
   "outputs": [],
   "source": []
  }
 ],
 "metadata": {
  "hide_input": false,
  "kernelspec": {
   "display_name": "R",
   "language": "R",
   "name": "r"
  },
  "language_info": {
   "codemirror_mode": "r",
   "file_extension": ".r",
   "mimetype": "text/x-r-source",
   "name": "R",
   "pygments_lexer": "r",
   "version": "3.4.1"
  },
  "nav_menu": {},
  "toc": {
   "nav_menu": {},
   "number_sections": true,
   "sideBar": true,
   "skip_h1_title": false,
   "toc_cell": true,
   "toc_position": {
    "height": "552px",
    "left": "0px",
    "right": "1154px",
    "top": "110px",
    "width": "212px"
   },
   "toc_section_display": "block",
   "toc_window_display": false
  }
 },
 "nbformat": 4,
 "nbformat_minor": 2
}
