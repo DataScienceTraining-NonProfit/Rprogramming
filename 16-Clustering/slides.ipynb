{
 "cells": [
  {
   "cell_type": "markdown",
   "metadata": {},
   "source": [
    "## K-means clustering"
   ]
  },
  {
   "cell_type": "code",
   "execution_count": 22,
   "metadata": {
    "scrolled": true
   },
   "outputs": [
    {
     "name": "stdout",
     "output_type": "stream",
     "text": [
      "package 'rattle' successfully unpacked and MD5 sums checked\n",
      "\n",
      "The downloaded binary packages are in\n",
      "\tC:\\Users\\User\\AppData\\Local\\Temp\\RtmpaWA1A6\\downloaded_packages\n",
      "package 'cluster' successfully unpacked and MD5 sums checked\n",
      "\n",
      "The downloaded binary packages are in\n",
      "\tC:\\Users\\User\\AppData\\Local\\Temp\\RtmpaWA1A6\\downloaded_packages\n"
     ]
    }
   ],
   "source": [
    "install.packages('rattle')\n",
    "install.packages('cluster')"
   ]
  },
  {
   "cell_type": "code",
   "execution_count": null,
   "metadata": {},
   "outputs": [
    {
     "name": "stderr",
     "output_type": "stream",
     "text": [
      "Warning message:\n",
      "\"Failed to load RGtk2 dynamic library, attempting to install it.\"Please install GTK+ from http://ftp.gnome.org/pub/gnome/binaries/win64/gtk+/2.22/gtk+-bundle_2.22.1-20101229_win64.zip\n",
      "If the package still does not load, please ensure that GTK+ is installed and that it is on your PATH environment variable\n",
      "IN ANY CASE, RESTART R BEFORE TRYING TO LOAD THE PACKAGE AGAIN\n"
     ]
    }
   ],
   "source": [
    "library('rattle')\n",
    "library('cluster')"
   ]
  },
  {
   "cell_type": "code",
   "execution_count": 23,
   "metadata": {},
   "outputs": [
    {
     "data": {
      "text/html": [
       "<table>\n",
       "<thead><tr><th scope=col>Type</th><th scope=col>Alcohol</th><th scope=col>Malic</th><th scope=col>Ash</th><th scope=col>Alcalinity</th><th scope=col>Magnesium</th><th scope=col>Phenols</th><th scope=col>Flavanoids</th><th scope=col>Nonflavanoids</th><th scope=col>Proanthocyanins</th><th scope=col>Color</th><th scope=col>Hue</th><th scope=col>Dilution</th><th scope=col>Proline</th></tr></thead>\n",
       "<tbody>\n",
       "\t<tr><td>1    </td><td>14.23</td><td>1.71 </td><td>2.43 </td><td>15.6 </td><td>127  </td><td>2.80 </td><td>3.06 </td><td>0.28 </td><td>2.29 </td><td>5.64 </td><td>1.04 </td><td>3.92 </td><td>1065 </td></tr>\n",
       "\t<tr><td>1    </td><td>13.20</td><td>1.78 </td><td>2.14 </td><td>11.2 </td><td>100  </td><td>2.65 </td><td>2.76 </td><td>0.26 </td><td>1.28 </td><td>4.38 </td><td>1.05 </td><td>3.40 </td><td>1050 </td></tr>\n",
       "\t<tr><td>1    </td><td>13.16</td><td>2.36 </td><td>2.67 </td><td>18.6 </td><td>101  </td><td>2.80 </td><td>3.24 </td><td>0.30 </td><td>2.81 </td><td>5.68 </td><td>1.03 </td><td>3.17 </td><td>1185 </td></tr>\n",
       "\t<tr><td>1    </td><td>14.37</td><td>1.95 </td><td>2.50 </td><td>16.8 </td><td>113  </td><td>3.85 </td><td>3.49 </td><td>0.24 </td><td>2.18 </td><td>7.80 </td><td>0.86 </td><td>3.45 </td><td>1480 </td></tr>\n",
       "\t<tr><td>1    </td><td>13.24</td><td>2.59 </td><td>2.87 </td><td>21.0 </td><td>118  </td><td>2.80 </td><td>2.69 </td><td>0.39 </td><td>1.82 </td><td>4.32 </td><td>1.04 </td><td>2.93 </td><td> 735 </td></tr>\n",
       "\t<tr><td>1    </td><td>14.20</td><td>1.76 </td><td>2.45 </td><td>15.2 </td><td>112  </td><td>3.27 </td><td>3.39 </td><td>0.34 </td><td>1.97 </td><td>6.75 </td><td>1.05 </td><td>2.85 </td><td>1450 </td></tr>\n",
       "</tbody>\n",
       "</table>\n"
      ],
      "text/latex": [
       "\\begin{tabular}{r|llllllllllllll}\n",
       " Type & Alcohol & Malic & Ash & Alcalinity & Magnesium & Phenols & Flavanoids & Nonflavanoids & Proanthocyanins & Color & Hue & Dilution & Proline\\\\\n",
       "\\hline\n",
       "\t 1     & 14.23 & 1.71  & 2.43  & 15.6  & 127   & 2.80  & 3.06  & 0.28  & 2.29  & 5.64  & 1.04  & 3.92  & 1065 \\\\\n",
       "\t 1     & 13.20 & 1.78  & 2.14  & 11.2  & 100   & 2.65  & 2.76  & 0.26  & 1.28  & 4.38  & 1.05  & 3.40  & 1050 \\\\\n",
       "\t 1     & 13.16 & 2.36  & 2.67  & 18.6  & 101   & 2.80  & 3.24  & 0.30  & 2.81  & 5.68  & 1.03  & 3.17  & 1185 \\\\\n",
       "\t 1     & 14.37 & 1.95  & 2.50  & 16.8  & 113   & 3.85  & 3.49  & 0.24  & 2.18  & 7.80  & 0.86  & 3.45  & 1480 \\\\\n",
       "\t 1     & 13.24 & 2.59  & 2.87  & 21.0  & 118   & 2.80  & 2.69  & 0.39  & 1.82  & 4.32  & 1.04  & 2.93  &  735 \\\\\n",
       "\t 1     & 14.20 & 1.76  & 2.45  & 15.2  & 112   & 3.27  & 3.39  & 0.34  & 1.97  & 6.75  & 1.05  & 2.85  & 1450 \\\\\n",
       "\\end{tabular}\n"
      ],
      "text/markdown": [
       "\n",
       "Type | Alcohol | Malic | Ash | Alcalinity | Magnesium | Phenols | Flavanoids | Nonflavanoids | Proanthocyanins | Color | Hue | Dilution | Proline | \n",
       "|---|---|---|---|---|---|\n",
       "| 1     | 14.23 | 1.71  | 2.43  | 15.6  | 127   | 2.80  | 3.06  | 0.28  | 2.29  | 5.64  | 1.04  | 3.92  | 1065  | \n",
       "| 1     | 13.20 | 1.78  | 2.14  | 11.2  | 100   | 2.65  | 2.76  | 0.26  | 1.28  | 4.38  | 1.05  | 3.40  | 1050  | \n",
       "| 1     | 13.16 | 2.36  | 2.67  | 18.6  | 101   | 2.80  | 3.24  | 0.30  | 2.81  | 5.68  | 1.03  | 3.17  | 1185  | \n",
       "| 1     | 14.37 | 1.95  | 2.50  | 16.8  | 113   | 3.85  | 3.49  | 0.24  | 2.18  | 7.80  | 0.86  | 3.45  | 1480  | \n",
       "| 1     | 13.24 | 2.59  | 2.87  | 21.0  | 118   | 2.80  | 2.69  | 0.39  | 1.82  | 4.32  | 1.04  | 2.93  |  735  | \n",
       "| 1     | 14.20 | 1.76  | 2.45  | 15.2  | 112   | 3.27  | 3.39  | 0.34  | 1.97  | 6.75  | 1.05  | 2.85  | 1450  | \n",
       "\n",
       "\n"
      ],
      "text/plain": [
       "  Type Alcohol Malic Ash  Alcalinity Magnesium Phenols Flavanoids Nonflavanoids\n",
       "1 1    14.23   1.71  2.43 15.6       127       2.80    3.06       0.28         \n",
       "2 1    13.20   1.78  2.14 11.2       100       2.65    2.76       0.26         \n",
       "3 1    13.16   2.36  2.67 18.6       101       2.80    3.24       0.30         \n",
       "4 1    14.37   1.95  2.50 16.8       113       3.85    3.49       0.24         \n",
       "5 1    13.24   2.59  2.87 21.0       118       2.80    2.69       0.39         \n",
       "6 1    14.20   1.76  2.45 15.2       112       3.27    3.39       0.34         \n",
       "  Proanthocyanins Color Hue  Dilution Proline\n",
       "1 2.29            5.64  1.04 3.92     1065   \n",
       "2 1.28            4.38  1.05 3.40     1050   \n",
       "3 2.81            5.68  1.03 3.17     1185   \n",
       "4 2.18            7.80  0.86 3.45     1480   \n",
       "5 1.82            4.32  1.04 2.93      735   \n",
       "6 1.97            6.75  1.05 2.85     1450   "
      ]
     },
     "metadata": {},
     "output_type": "display_data"
    }
   ],
   "source": [
    "data(wine, package='rattle')\n",
    "head(wine)"
   ]
  },
  {
   "cell_type": "code",
   "execution_count": 33,
   "metadata": {},
   "outputs": [],
   "source": [
    "wine.f  <- wine"
   ]
  },
  {
   "cell_type": "code",
   "execution_count": 34,
   "metadata": {},
   "outputs": [],
   "source": [
    "wine.f$Type <- NULL"
   ]
  },
  {
   "cell_type": "code",
   "execution_count": 35,
   "metadata": {},
   "outputs": [
    {
     "data": {
      "text/html": [
       "<table>\n",
       "<thead><tr><th scope=col>Alcohol</th><th scope=col>Malic</th><th scope=col>Ash</th><th scope=col>Alcalinity</th><th scope=col>Magnesium</th><th scope=col>Phenols</th><th scope=col>Flavanoids</th><th scope=col>Nonflavanoids</th><th scope=col>Proanthocyanins</th><th scope=col>Color</th><th scope=col>Hue</th><th scope=col>Dilution</th><th scope=col>Proline</th></tr></thead>\n",
       "<tbody>\n",
       "\t<tr><td>14.23</td><td>1.71 </td><td>2.43 </td><td>15.6 </td><td>127  </td><td>2.80 </td><td>3.06 </td><td>0.28 </td><td>2.29 </td><td>5.64 </td><td>1.04 </td><td>3.92 </td><td>1065 </td></tr>\n",
       "\t<tr><td>13.20</td><td>1.78 </td><td>2.14 </td><td>11.2 </td><td>100  </td><td>2.65 </td><td>2.76 </td><td>0.26 </td><td>1.28 </td><td>4.38 </td><td>1.05 </td><td>3.40 </td><td>1050 </td></tr>\n",
       "\t<tr><td>13.16</td><td>2.36 </td><td>2.67 </td><td>18.6 </td><td>101  </td><td>2.80 </td><td>3.24 </td><td>0.30 </td><td>2.81 </td><td>5.68 </td><td>1.03 </td><td>3.17 </td><td>1185 </td></tr>\n",
       "\t<tr><td>14.37</td><td>1.95 </td><td>2.50 </td><td>16.8 </td><td>113  </td><td>3.85 </td><td>3.49 </td><td>0.24 </td><td>2.18 </td><td>7.80 </td><td>0.86 </td><td>3.45 </td><td>1480 </td></tr>\n",
       "\t<tr><td>13.24</td><td>2.59 </td><td>2.87 </td><td>21.0 </td><td>118  </td><td>2.80 </td><td>2.69 </td><td>0.39 </td><td>1.82 </td><td>4.32 </td><td>1.04 </td><td>2.93 </td><td> 735 </td></tr>\n",
       "\t<tr><td>14.20</td><td>1.76 </td><td>2.45 </td><td>15.2 </td><td>112  </td><td>3.27 </td><td>3.39 </td><td>0.34 </td><td>1.97 </td><td>6.75 </td><td>1.05 </td><td>2.85 </td><td>1450 </td></tr>\n",
       "</tbody>\n",
       "</table>\n"
      ],
      "text/latex": [
       "\\begin{tabular}{r|lllllllllllll}\n",
       " Alcohol & Malic & Ash & Alcalinity & Magnesium & Phenols & Flavanoids & Nonflavanoids & Proanthocyanins & Color & Hue & Dilution & Proline\\\\\n",
       "\\hline\n",
       "\t 14.23 & 1.71  & 2.43  & 15.6  & 127   & 2.80  & 3.06  & 0.28  & 2.29  & 5.64  & 1.04  & 3.92  & 1065 \\\\\n",
       "\t 13.20 & 1.78  & 2.14  & 11.2  & 100   & 2.65  & 2.76  & 0.26  & 1.28  & 4.38  & 1.05  & 3.40  & 1050 \\\\\n",
       "\t 13.16 & 2.36  & 2.67  & 18.6  & 101   & 2.80  & 3.24  & 0.30  & 2.81  & 5.68  & 1.03  & 3.17  & 1185 \\\\\n",
       "\t 14.37 & 1.95  & 2.50  & 16.8  & 113   & 3.85  & 3.49  & 0.24  & 2.18  & 7.80  & 0.86  & 3.45  & 1480 \\\\\n",
       "\t 13.24 & 2.59  & 2.87  & 21.0  & 118   & 2.80  & 2.69  & 0.39  & 1.82  & 4.32  & 1.04  & 2.93  &  735 \\\\\n",
       "\t 14.20 & 1.76  & 2.45  & 15.2  & 112   & 3.27  & 3.39  & 0.34  & 1.97  & 6.75  & 1.05  & 2.85  & 1450 \\\\\n",
       "\\end{tabular}\n"
      ],
      "text/markdown": [
       "\n",
       "Alcohol | Malic | Ash | Alcalinity | Magnesium | Phenols | Flavanoids | Nonflavanoids | Proanthocyanins | Color | Hue | Dilution | Proline | \n",
       "|---|---|---|---|---|---|\n",
       "| 14.23 | 1.71  | 2.43  | 15.6  | 127   | 2.80  | 3.06  | 0.28  | 2.29  | 5.64  | 1.04  | 3.92  | 1065  | \n",
       "| 13.20 | 1.78  | 2.14  | 11.2  | 100   | 2.65  | 2.76  | 0.26  | 1.28  | 4.38  | 1.05  | 3.40  | 1050  | \n",
       "| 13.16 | 2.36  | 2.67  | 18.6  | 101   | 2.80  | 3.24  | 0.30  | 2.81  | 5.68  | 1.03  | 3.17  | 1185  | \n",
       "| 14.37 | 1.95  | 2.50  | 16.8  | 113   | 3.85  | 3.49  | 0.24  | 2.18  | 7.80  | 0.86  | 3.45  | 1480  | \n",
       "| 13.24 | 2.59  | 2.87  | 21.0  | 118   | 2.80  | 2.69  | 0.39  | 1.82  | 4.32  | 1.04  | 2.93  |  735  | \n",
       "| 14.20 | 1.76  | 2.45  | 15.2  | 112   | 3.27  | 3.39  | 0.34  | 1.97  | 6.75  | 1.05  | 2.85  | 1450  | \n",
       "\n",
       "\n"
      ],
      "text/plain": [
       "  Alcohol Malic Ash  Alcalinity Magnesium Phenols Flavanoids Nonflavanoids\n",
       "1 14.23   1.71  2.43 15.6       127       2.80    3.06       0.28         \n",
       "2 13.20   1.78  2.14 11.2       100       2.65    2.76       0.26         \n",
       "3 13.16   2.36  2.67 18.6       101       2.80    3.24       0.30         \n",
       "4 14.37   1.95  2.50 16.8       113       3.85    3.49       0.24         \n",
       "5 13.24   2.59  2.87 21.0       118       2.80    2.69       0.39         \n",
       "6 14.20   1.76  2.45 15.2       112       3.27    3.39       0.34         \n",
       "  Proanthocyanins Color Hue  Dilution Proline\n",
       "1 2.29            5.64  1.04 3.92     1065   \n",
       "2 1.28            4.38  1.05 3.40     1050   \n",
       "3 2.81            5.68  1.03 3.17     1185   \n",
       "4 2.18            7.80  0.86 3.45     1480   \n",
       "5 1.82            4.32  1.04 2.93      735   \n",
       "6 1.97            6.75  1.05 2.85     1450   "
      ]
     },
     "metadata": {},
     "output_type": "display_data"
    }
   ],
   "source": [
    "head(wine.f)"
   ]
  },
  {
   "cell_type": "markdown",
   "metadata": {},
   "source": [
    "### Observations:"
   ]
  },
  {
   "cell_type": "markdown",
   "metadata": {},
   "source": [
    "* observe the composition of different wines\n",
    "* set of observations (x1,x2,.,xn), where each observation is a d-dimensional real vector, "
   ]
  },
  {
   "cell_type": "markdown",
   "metadata": {},
   "source": [
    "### Aim: "
   ]
  },
  {
   "cell_type": "markdown",
   "metadata": {},
   "source": [
    "To partition the n observations into (k≤n) S={S1,S2,.,Sk} so as to minimize the within-cluster sum of squares (WCSS). In other words, its objective is to find:: argminS∑i=1k∑xj∈Si∥xj−μi∥2 where μi is the mean of points in Si. "
   ]
  },
  {
   "cell_type": "markdown",
   "metadata": {},
   "source": [
    "The clustering optimization problem is solved with the function kmeans in R."
   ]
  },
  {
   "cell_type": "code",
   "execution_count": 36,
   "metadata": {},
   "outputs": [],
   "source": [
    "wine.stand <- scale(wine.f[-1])  # To standarize the variables"
   ]
  },
  {
   "cell_type": "code",
   "execution_count": 37,
   "metadata": {},
   "outputs": [
    {
     "data": {
      "text/html": [
       "<table>\n",
       "<thead><tr><th scope=col>Malic</th><th scope=col>Ash</th><th scope=col>Alcalinity</th><th scope=col>Magnesium</th><th scope=col>Phenols</th><th scope=col>Flavanoids</th><th scope=col>Nonflavanoids</th><th scope=col>Proanthocyanins</th><th scope=col>Color</th><th scope=col>Hue</th><th scope=col>Dilution</th><th scope=col>Proline</th></tr></thead>\n",
       "<tbody>\n",
       "\t<tr><td>-0.56066822</td><td> 0.2313998 </td><td>-1.1663032 </td><td>1.90852151 </td><td>0.8067217  </td><td>1.0319081  </td><td>-0.6577078 </td><td> 1.2214385 </td><td> 0.2510088 </td><td> 0.3611585 </td><td>1.8427215  </td><td> 1.01015939</td></tr>\n",
       "\t<tr><td>-0.49800856</td><td>-0.8256672 </td><td>-2.4838405 </td><td>0.01809398 </td><td>0.5670481  </td><td>0.7315653  </td><td>-0.8184106 </td><td>-0.5431887 </td><td>-0.2924962 </td><td> 0.4049085 </td><td>1.1103172  </td><td> 0.96252635</td></tr>\n",
       "\t<tr><td> 0.02117152</td><td> 1.1062139 </td><td>-0.2679823 </td><td>0.08810981 </td><td>0.8067217  </td><td>1.2121137  </td><td>-0.4970050 </td><td> 2.1299594 </td><td> 0.2682629 </td><td> 0.3174085 </td><td>0.7863692  </td><td> 1.39122370</td></tr>\n",
       "\t<tr><td>-0.34583508</td><td> 0.4865539 </td><td>-0.8069748 </td><td>0.92829983 </td><td>2.4844372  </td><td>1.4623994  </td><td>-0.9791134 </td><td> 1.0292513 </td><td> 1.1827317 </td><td>-0.4263410 </td><td>1.1807407  </td><td> 2.32800680</td></tr>\n",
       "\t<tr><td> 0.22705328</td><td> 1.8352256 </td><td> 0.4506745 </td><td>1.27837900 </td><td>0.8067217  </td><td>0.6614853  </td><td> 0.2261576 </td><td> 0.4002753 </td><td>-0.3183774 </td><td> 0.3611585 </td><td>0.4483365  </td><td>-0.03776747</td></tr>\n",
       "\t<tr><td>-0.51591132</td><td> 0.3043010 </td><td>-1.2860793 </td><td>0.85828399 </td><td>1.5576991  </td><td>1.3622851  </td><td>-0.1755994 </td><td> 0.6623487 </td><td> 0.7298108 </td><td> 0.4049085 </td><td>0.3356589  </td><td> 2.23274072</td></tr>\n",
       "</tbody>\n",
       "</table>\n"
      ],
      "text/latex": [
       "\\begin{tabular}{llllllllllll}\n",
       " Malic & Ash & Alcalinity & Magnesium & Phenols & Flavanoids & Nonflavanoids & Proanthocyanins & Color & Hue & Dilution & Proline\\\\\n",
       "\\hline\n",
       "\t -0.56066822 &  0.2313998  & -1.1663032  & 1.90852151  & 0.8067217   & 1.0319081   & -0.6577078  &  1.2214385  &  0.2510088  &  0.3611585  & 1.8427215   &  1.01015939\\\\\n",
       "\t -0.49800856 & -0.8256672  & -2.4838405  & 0.01809398  & 0.5670481   & 0.7315653   & -0.8184106  & -0.5431887  & -0.2924962  &  0.4049085  & 1.1103172   &  0.96252635\\\\\n",
       "\t  0.02117152 &  1.1062139  & -0.2679823  & 0.08810981  & 0.8067217   & 1.2121137   & -0.4970050  &  2.1299594  &  0.2682629  &  0.3174085  & 0.7863692   &  1.39122370\\\\\n",
       "\t -0.34583508 &  0.4865539  & -0.8069748  & 0.92829983  & 2.4844372   & 1.4623994   & -0.9791134  &  1.0292513  &  1.1827317  & -0.4263410  & 1.1807407   &  2.32800680\\\\\n",
       "\t  0.22705328 &  1.8352256  &  0.4506745  & 1.27837900  & 0.8067217   & 0.6614853   &  0.2261576  &  0.4002753  & -0.3183774  &  0.3611585  & 0.4483365   & -0.03776747\\\\\n",
       "\t -0.51591132 &  0.3043010  & -1.2860793  & 0.85828399  & 1.5576991   & 1.3622851   & -0.1755994  &  0.6623487  &  0.7298108  &  0.4049085  & 0.3356589   &  2.23274072\\\\\n",
       "\\end{tabular}\n"
      ],
      "text/markdown": [
       "\n",
       "Malic | Ash | Alcalinity | Magnesium | Phenols | Flavanoids | Nonflavanoids | Proanthocyanins | Color | Hue | Dilution | Proline | \n",
       "|---|---|---|---|---|---|\n",
       "| -0.56066822 |  0.2313998  | -1.1663032  | 1.90852151  | 0.8067217   | 1.0319081   | -0.6577078  |  1.2214385  |  0.2510088  |  0.3611585  | 1.8427215   |  1.01015939 | \n",
       "| -0.49800856 | -0.8256672  | -2.4838405  | 0.01809398  | 0.5670481   | 0.7315653   | -0.8184106  | -0.5431887  | -0.2924962  |  0.4049085  | 1.1103172   |  0.96252635 | \n",
       "|  0.02117152 |  1.1062139  | -0.2679823  | 0.08810981  | 0.8067217   | 1.2121137   | -0.4970050  |  2.1299594  |  0.2682629  |  0.3174085  | 0.7863692   |  1.39122370 | \n",
       "| -0.34583508 |  0.4865539  | -0.8069748  | 0.92829983  | 2.4844372   | 1.4623994   | -0.9791134  |  1.0292513  |  1.1827317  | -0.4263410  | 1.1807407   |  2.32800680 | \n",
       "|  0.22705328 |  1.8352256  |  0.4506745  | 1.27837900  | 0.8067217   | 0.6614853   |  0.2261576  |  0.4002753  | -0.3183774  |  0.3611585  | 0.4483365   | -0.03776747 | \n",
       "| -0.51591132 |  0.3043010  | -1.2860793  | 0.85828399  | 1.5576991   | 1.3622851   | -0.1755994  |  0.6623487  |  0.7298108  |  0.4049085  | 0.3356589   |  2.23274072 | \n",
       "\n",
       "\n"
      ],
      "text/plain": [
       "     Malic       Ash        Alcalinity Magnesium  Phenols   Flavanoids\n",
       "[1,] -0.56066822  0.2313998 -1.1663032 1.90852151 0.8067217 1.0319081 \n",
       "[2,] -0.49800856 -0.8256672 -2.4838405 0.01809398 0.5670481 0.7315653 \n",
       "[3,]  0.02117152  1.1062139 -0.2679823 0.08810981 0.8067217 1.2121137 \n",
       "[4,] -0.34583508  0.4865539 -0.8069748 0.92829983 2.4844372 1.4623994 \n",
       "[5,]  0.22705328  1.8352256  0.4506745 1.27837900 0.8067217 0.6614853 \n",
       "[6,] -0.51591132  0.3043010 -1.2860793 0.85828399 1.5576991 1.3622851 \n",
       "     Nonflavanoids Proanthocyanins Color      Hue        Dilution  Proline    \n",
       "[1,] -0.6577078     1.2214385       0.2510088  0.3611585 1.8427215  1.01015939\n",
       "[2,] -0.8184106    -0.5431887      -0.2924962  0.4049085 1.1103172  0.96252635\n",
       "[3,] -0.4970050     2.1299594       0.2682629  0.3174085 0.7863692  1.39122370\n",
       "[4,] -0.9791134     1.0292513       1.1827317 -0.4263410 1.1807407  2.32800680\n",
       "[5,]  0.2261576     0.4002753      -0.3183774  0.3611585 0.4483365 -0.03776747\n",
       "[6,] -0.1755994     0.6623487       0.7298108  0.4049085 0.3356589  2.23274072"
      ]
     },
     "metadata": {},
     "output_type": "display_data"
    }
   ],
   "source": [
    "head(wine.stand)"
   ]
  },
  {
   "cell_type": "markdown",
   "metadata": {},
   "source": [
    "### Applying K-Means function"
   ]
  },
  {
   "cell_type": "code",
   "execution_count": 38,
   "metadata": {
    "scrolled": true
   },
   "outputs": [
    {
     "name": "stdout",
     "output_type": "stream",
     "text": [
      "$names\n",
      "[1] \"cluster\"      \"centers\"      \"totss\"        \"withinss\"     \"tot.withinss\"\n",
      "[6] \"betweenss\"    \"size\"         \"iter\"         \"ifault\"      \n",
      "\n",
      "$class\n",
      "[1] \"kmeans\"\n",
      "\n"
     ]
    }
   ],
   "source": [
    "k.means.fit <- kmeans(wine.stand, 3) # k = 3\n",
    "# In k.means.fit are contained all the elements of the cluster output:\n",
    "\n",
    "print(attributes(k.means.fit))"
   ]
  },
  {
   "cell_type": "code",
   "execution_count": null,
   "metadata": {
    "run_control": {
     "marked": false
    }
   },
   "outputs": [],
   "source": [
    "k.means.fit$centers"
   ]
  },
  {
   "cell_type": "code",
   "execution_count": null,
   "metadata": {
    "run_control": {
     "marked": false
    }
   },
   "outputs": [],
   "source": [
    "k.means.fit$cluster"
   ]
  },
  {
   "cell_type": "code",
   "execution_count": 43,
   "metadata": {
    "run_control": {
     "marked": false
    },
    "scrolled": true
   },
   "outputs": [
    {
     "data": {
      "text/html": [
       "<ol class=list-inline>\n",
       "\t<li>58</li>\n",
       "\t<li>51</li>\n",
       "\t<li>69</li>\n",
       "</ol>\n"
      ],
      "text/latex": [
       "\\begin{enumerate*}\n",
       "\\item 58\n",
       "\\item 51\n",
       "\\item 69\n",
       "\\end{enumerate*}\n"
      ],
      "text/markdown": [
       "1. 58\n",
       "2. 51\n",
       "3. 69\n",
       "\n",
       "\n"
      ],
      "text/plain": [
       "[1] 58 51 69"
      ]
     },
     "metadata": {},
     "output_type": "display_data"
    }
   ],
   "source": [
    "k.means.fit$size"
   ]
  },
  {
   "cell_type": "code",
   "execution_count": 42,
   "metadata": {
    "scrolled": true
   },
   "outputs": [
    {
     "data": {
      "text/plain": [
       "   \n",
       "     1  2  3\n",
       "  1  0  0 59\n",
       "  2 58  3 10\n",
       "  3  0 48  0"
      ]
     },
     "metadata": {},
     "output_type": "display_data"
    }
   ],
   "source": [
    "table(wine$Type,k.means.fit$cluster)"
   ]
  },
  {
   "cell_type": "code",
   "execution_count": 45,
   "metadata": {},
   "outputs": [
    {
     "data": {
      "image/png": "[encoded data removed]",
      "text/plain": [
       "plot without title"
      ]
     },
     "metadata": {},
     "output_type": "display_data"
    }
   ],
   "source": [
    "wssplot <- function(data, nc=15, seed=1234){\n",
    "  wss <- (nrow(data)-1)*sum(apply(data,2,var))\n",
    "  for (i in 2:nc){\n",
    "    set.seed(seed)\n",
    "    wss[i] <- sum(kmeans(data, centers=i)$withinss)}\n",
    "  plot(1:nc, wss, type=\"b\", xlab=\"Number of Clusters\",ylab=\"Within groups sum of squares\")}\n",
    "       \n",
    "\n",
    "wssplot(wine.stand, nc=6) \n",
    "# plot of chunk unnamed-chunk-4"
   ]
  },
  {
   "cell_type": "markdown",
   "metadata": {},
   "source": [
    "   Which is the optimal value for k in this case? Why?\n",
    "   \n",
    "Library clusters allow us to represent (with the aid of PCA) the cluster solution into 2 dimensions:"
   ]
  },
  {
   "cell_type": "code",
   "execution_count": 46,
   "metadata": {},
   "outputs": [
    {
     "data": {
      "image/png": "[encoded data removed]",
      "text/plain": [
       "Plot with title \"2D representation of the Cluster solution\""
      ]
     },
     "metadata": {},
     "output_type": "display_data"
    }
   ],
   "source": [
    "library(cluster)\n",
    "clusplot(wine.stand, k.means.fit$cluster, main='2D representation of the Cluster solution',\n",
    "         color=TRUE, shade=TRUE,\n",
    "         labels=2, lines=0)"
   ]
  },
  {
   "cell_type": "markdown",
   "metadata": {},
   "source": [
    "plot of chunk unnamed-chunk-5\n",
    "In order to evaluate the clustering performance we build a confusion matrix:"
   ]
  },
  {
   "cell_type": "code",
   "execution_count": 47,
   "metadata": {},
   "outputs": [
    {
     "data": {
      "text/plain": [
       "   \n",
       "     1  2  3\n",
       "  1  0  0 59\n",
       "  2 58  3 10\n",
       "  3  0 48  0"
      ]
     },
     "metadata": {},
     "output_type": "display_data"
    }
   ],
   "source": [
    "table(wine[,1],k.means.fit$cluster)"
   ]
  },
  {
   "cell_type": "markdown",
   "metadata": {},
   "source": [
    "## Hierarchical clustering"
   ]
  },
  {
   "cell_type": "markdown",
   "metadata": {},
   "source": [
    "Hierarchical methods use a distance matrix as an input for the clustering algorithm. The choice of an appropriate metric will influence the shape of the clusters, as some elements may be close to one another according to one distance and farther away according to another."
   ]
  },
  {
   "cell_type": "code",
   "execution_count": 48,
   "metadata": {},
   "outputs": [],
   "source": [
    "d <- dist(wine.stand, method = \"euclidean\") # Euclidean distance matrix."
   ]
  },
  {
   "cell_type": "code",
   "execution_count": null,
   "metadata": {},
   "outputs": [],
   "source": [
    "We use the Euclidean distance as an input for the clustering algorithm (Ward’s minimum variance criterion minimizes the total within-cluster variance):"
   ]
  },
  {
   "cell_type": "code",
   "execution_count": 52,
   "metadata": {},
   "outputs": [],
   "source": [
    "H.fit <- hclust(d, method=\"ward.D2\")"
   ]
  },
  {
   "cell_type": "markdown",
   "metadata": {},
   "source": [
    "## The \"ward\" method has been renamed to \"ward.D\"; note new \"ward.D2\"\n",
    "The clustering output can be displayed in a dendrogram"
   ]
  },
  {
   "cell_type": "code",
   "execution_count": 53,
   "metadata": {},
   "outputs": [
    {
     "data": {
      "image/png": "[encoded data removed]",
      "text/plain": [
       "Plot with title \"Cluster Dendrogram\""
      ]
     },
     "metadata": {},
     "output_type": "display_data"
    }
   ],
   "source": [
    "plot(H.fit) # display dendogram\n",
    "groups <- cutree(H.fit, k=3) # cut tree into 5 clusters\n",
    "# draw dendogram with red borders around the 5 clusters\n",
    "rect.hclust(H.fit, k=3, border=\"red\") "
   ]
  },
  {
   "cell_type": "code",
   "execution_count": 54,
   "metadata": {},
   "outputs": [
    {
     "data": {
      "text/plain": [
       "   groups\n",
       "     1  2  3\n",
       "  1 56  3  0\n",
       "  2  6 55 10\n",
       "  3  0  0 48"
      ]
     },
     "metadata": {},
     "output_type": "display_data"
    }
   ],
   "source": [
    "table(wine[,1],groups)"
   ]
  }
 ],
 "metadata": {
  "kernelspec": {
   "display_name": "R",
   "language": "R",
   "name": "ir"
  },
  "language_info": {
   "codemirror_mode": "r",
   "file_extension": ".r",
   "mimetype": "text/x-r-source",
   "name": "R",
   "pygments_lexer": "r",
   "version": "3.4.3"
  },
  "toc": {
   "base_numbering": 1,
   "nav_menu": {},
   "number_sections": false,
   "sideBar": true,
   "skip_h1_title": false,
   "title_cell": "Table of Contents",
   "title_sidebar": "Contents",
   "toc_cell": false,
   "toc_position": {
    "height": "calc(100% - 180px)",
    "left": "10px",
    "top": "150px",
    "width": "256px"
   },
   "toc_section_display": true,
   "toc_window_display": false
  }
 },
 "nbformat": 4,
 "nbformat_minor": 2
}
