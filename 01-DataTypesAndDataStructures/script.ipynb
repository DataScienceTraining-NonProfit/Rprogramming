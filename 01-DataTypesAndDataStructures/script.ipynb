{
 "cells": [
  {
   "cell_type": "code",
   "execution_count": 1,
   "metadata": {},
   "outputs": [
    {
     "data": {
      "text/html": [
       "'numeric'"
      ],
      "text/latex": [
       "'numeric'"
      ],
      "text/markdown": [
       "'numeric'"
      ],
      "text/plain": [
       "[1] \"numeric\""
      ]
     },
     "metadata": {},
     "output_type": "display_data"
    },
    {
     "data": {
      "text/html": [
       "'character'"
      ],
      "text/latex": [
       "'character'"
      ],
      "text/markdown": [
       "'character'"
      ],
      "text/plain": [
       "[1] \"character\""
      ]
     },
     "metadata": {},
     "output_type": "display_data"
    },
    {
     "data": {
      "text/html": [
       "'complex'"
      ],
      "text/latex": [
       "'complex'"
      ],
      "text/markdown": [
       "'complex'"
      ],
      "text/plain": [
       "[1] \"complex\""
      ]
     },
     "metadata": {},
     "output_type": "display_data"
    },
    {
     "data": {
      "text/html": [
       "15"
      ],
      "text/latex": [
       "15"
      ],
      "text/markdown": [
       "15"
      ],
      "text/plain": [
       "[1] 15"
      ]
     },
     "metadata": {},
     "output_type": "display_data"
    },
    {
     "data": {
      "text/html": [
       "84"
      ],
      "text/latex": [
       "84"
      ],
      "text/markdown": [
       "84"
      ],
      "text/plain": [
       "[1] 84"
      ]
     },
     "metadata": {},
     "output_type": "display_data"
    },
    {
     "data": {
      "text/html": [
       "'numeric'"
      ],
      "text/latex": [
       "'numeric'"
      ],
      "text/markdown": [
       "'numeric'"
      ],
      "text/plain": [
       "[1] \"numeric\""
      ]
     },
     "metadata": {},
     "output_type": "display_data"
    },
    {
     "data": {
      "text/html": [
       "'integer'"
      ],
      "text/latex": [
       "'integer'"
      ],
      "text/markdown": [
       "'integer'"
      ],
      "text/plain": [
       "[1] \"integer\""
      ]
     },
     "metadata": {},
     "output_type": "display_data"
    },
    {
     "data": {
      "text/html": [
       "TRUE"
      ],
      "text/latex": [
       "TRUE"
      ],
      "text/markdown": [
       "TRUE"
      ],
      "text/plain": [
       "[1] TRUE"
      ]
     },
     "metadata": {},
     "output_type": "display_data"
    },
    {
     "data": {
      "text/html": [
       "TRUE"
      ],
      "text/latex": [
       "TRUE"
      ],
      "text/markdown": [
       "TRUE"
      ],
      "text/plain": [
       "[1] TRUE"
      ]
     },
     "metadata": {},
     "output_type": "display_data"
    },
    {
     "data": {
      "text/html": [
       "'IT'"
      ],
      "text/latex": [
       "'IT'"
      ],
      "text/markdown": [
       "'IT'"
      ],
      "text/plain": [
       "[1] \"IT\""
      ]
     },
     "metadata": {},
     "output_type": "display_data"
    },
    {
     "data": {
      "text/html": [
       "<ol class=list-inline>\n",
       "\t<li>'IT'</li>\n",
       "\t<li>'solutions'</li>\n",
       "</ol>\n"
      ],
      "text/latex": [
       "\\begin{enumerate*}\n",
       "\\item 'IT'\n",
       "\\item 'solutions'\n",
       "\\end{enumerate*}\n"
      ],
      "text/markdown": [
       "1. 'IT'\n",
       "2. 'solutions'\n",
       "\n",
       "\n"
      ],
      "text/plain": [
       "[1] \"IT\"        \"solutions\""
      ]
     },
     "metadata": {},
     "output_type": "display_data"
    },
    {
     "data": {
      "text/html": [
       "'lucid'"
      ],
      "text/latex": [
       "'lucid'"
      ],
      "text/markdown": [
       "'lucid'"
      ],
      "text/plain": [
       "[1] \"lucid\""
      ]
     },
     "metadata": {},
     "output_type": "display_data"
    },
    {
     "data": {
      "text/html": [
       "<ol class=list-inline>\n",
       "\t<li>5</li>\n",
       "\t<li>6</li>\n",
       "\t<li>7</li>\n",
       "\t<li>8</li>\n",
       "\t<li>9</li>\n",
       "\t<li>10</li>\n",
       "\t<li>11</li>\n",
       "\t<li>12</li>\n",
       "\t<li>13</li>\n",
       "\t<li>14</li>\n",
       "\t<li>15</li>\n",
       "\t<li>16</li>\n",
       "\t<li>17</li>\n",
       "\t<li>18</li>\n",
       "\t<li>19</li>\n",
       "\t<li>20</li>\n",
       "\t<li>21</li>\n",
       "\t<li>22</li>\n",
       "\t<li>23</li>\n",
       "\t<li>24</li>\n",
       "\t<li>25</li>\n",
       "\t<li>26</li>\n",
       "\t<li>27</li>\n",
       "\t<li>28</li>\n",
       "\t<li>29</li>\n",
       "\t<li>30</li>\n",
       "</ol>\n"
      ],
      "text/latex": [
       "\\begin{enumerate*}\n",
       "\\item 5\n",
       "\\item 6\n",
       "\\item 7\n",
       "\\item 8\n",
       "\\item 9\n",
       "\\item 10\n",
       "\\item 11\n",
       "\\item 12\n",
       "\\item 13\n",
       "\\item 14\n",
       "\\item 15\n",
       "\\item 16\n",
       "\\item 17\n",
       "\\item 18\n",
       "\\item 19\n",
       "\\item 20\n",
       "\\item 21\n",
       "\\item 22\n",
       "\\item 23\n",
       "\\item 24\n",
       "\\item 25\n",
       "\\item 26\n",
       "\\item 27\n",
       "\\item 28\n",
       "\\item 29\n",
       "\\item 30\n",
       "\\end{enumerate*}\n"
      ],
      "text/markdown": [
       "1. 5\n",
       "2. 6\n",
       "3. 7\n",
       "4. 8\n",
       "5. 9\n",
       "6. 10\n",
       "7. 11\n",
       "8. 12\n",
       "9. 13\n",
       "10. 14\n",
       "11. 15\n",
       "12. 16\n",
       "13. 17\n",
       "14. 18\n",
       "15. 19\n",
       "16. 20\n",
       "17. 21\n",
       "18. 22\n",
       "19. 23\n",
       "20. 24\n",
       "21. 25\n",
       "22. 26\n",
       "23. 27\n",
       "24. 28\n",
       "25. 29\n",
       "26. 30\n",
       "\n",
       "\n"
      ],
      "text/plain": [
       " [1]  5  6  7  8  9 10 11 12 13 14 15 16 17 18 19 20 21 22 23 24 25 26 27 28 29\n",
       "[26] 30"
      ]
     },
     "metadata": {},
     "output_type": "display_data"
    },
    {
     "data": {
      "text/html": [
       "<ol class=list-inline>\n",
       "\t<li>8</li>\n",
       "\t<li>9</li>\n",
       "\t<li>10</li>\n",
       "\t<li>11</li>\n",
       "\t<li>12</li>\n",
       "</ol>\n"
      ],
      "text/latex": [
       "\\begin{enumerate*}\n",
       "\\item 8\n",
       "\\item 9\n",
       "\\item 10\n",
       "\\item 11\n",
       "\\item 12\n",
       "\\end{enumerate*}\n"
      ],
      "text/markdown": [
       "1. 8\n",
       "2. 9\n",
       "3. 10\n",
       "4. 11\n",
       "5. 12\n",
       "\n",
       "\n"
      ],
      "text/plain": [
       "[1]  8  9 10 11 12"
      ]
     },
     "metadata": {},
     "output_type": "display_data"
    },
    {
     "name": "stdout",
     "output_type": "stream",
     "text": [
      "     [,1] [,2] [,3] [,4]\n",
      "[1,]    1    4    7   10\n",
      "[2,]    2    5    8   11\n",
      "[3,]    3    6    9   12\n"
     ]
    },
    {
     "data": {
      "text/html": [
       "<table>\n",
       "<tbody>\n",
       "\t<tr><td>1 </td><td>4 </td><td>7 </td><td>10</td></tr>\n",
       "\t<tr><td>2 </td><td>5 </td><td>8 </td><td>11</td></tr>\n",
       "\t<tr><td>3 </td><td>6 </td><td>9 </td><td>12</td></tr>\n",
       "</tbody>\n",
       "</table>\n"
      ],
      "text/latex": [
       "\\begin{tabular}{llll}\n",
       "\t 1  & 4  & 7  & 10\\\\\n",
       "\t 2  & 5  & 8  & 11\\\\\n",
       "\t 3  & 6  & 9  & 12\\\\\n",
       "\\end{tabular}\n"
      ],
      "text/markdown": [
       "\n",
       "| 1  | 4  | 7  | 10 | \n",
       "| 2  | 5  | 8  | 11 | \n",
       "| 3  | 6  | 9  | 12 | \n",
       "\n",
       "\n"
      ],
      "text/plain": [
       "     [,1] [,2] [,3] [,4]\n",
       "[1,] 1    4    7    10  \n",
       "[2,] 2    5    8    11  \n",
       "[3,] 3    6    9    12  "
      ]
     },
     "metadata": {},
     "output_type": "display_data"
    },
    {
     "data": {
      "text/html": [
       "<ol class=list-inline>\n",
       "\t<li>3</li>\n",
       "\t<li>4</li>\n",
       "</ol>\n"
      ],
      "text/latex": [
       "\\begin{enumerate*}\n",
       "\\item 3\n",
       "\\item 4\n",
       "\\end{enumerate*}\n"
      ],
      "text/markdown": [
       "1. 3\n",
       "2. 4\n",
       "\n",
       "\n"
      ],
      "text/plain": [
       "[1] 3 4"
      ]
     },
     "metadata": {},
     "output_type": "display_data"
    },
    {
     "data": {
      "text/html": [
       "<table>\n",
       "<tbody>\n",
       "\t<tr><td>1 </td><td>4 </td><td>7 </td><td>10</td></tr>\n",
       "\t<tr><td>2 </td><td>5 </td><td>8 </td><td>11</td></tr>\n",
       "\t<tr><td>3 </td><td>6 </td><td>9 </td><td>12</td></tr>\n",
       "</tbody>\n",
       "</table>\n"
      ],
      "text/latex": [
       "\\begin{tabular}{llll}\n",
       "\t 1  & 4  & 7  & 10\\\\\n",
       "\t 2  & 5  & 8  & 11\\\\\n",
       "\t 3  & 6  & 9  & 12\\\\\n",
       "\\end{tabular}\n"
      ],
      "text/markdown": [
       "\n",
       "| 1  | 4  | 7  | 10 | \n",
       "| 2  | 5  | 8  | 11 | \n",
       "| 3  | 6  | 9  | 12 | \n",
       "\n",
       "\n"
      ],
      "text/plain": [
       "     [,1] [,2] [,3] [,4]\n",
       "[1,] 1    4    7    10  \n",
       "[2,] 2    5    8    11  \n",
       "[3,] 3    6    9    12  "
      ]
     },
     "metadata": {},
     "output_type": "display_data"
    },
    {
     "data": {
      "text/html": [
       "<table>\n",
       "<tbody>\n",
       "\t<tr><td>1 </td><td>4 </td><td>7 </td><td>10</td></tr>\n",
       "\t<tr><td>2 </td><td>5 </td><td>8 </td><td>11</td></tr>\n",
       "\t<tr><td>3 </td><td>6 </td><td>9 </td><td>12</td></tr>\n",
       "</tbody>\n",
       "</table>\n"
      ],
      "text/latex": [
       "\\begin{tabular}{llll}\n",
       "\t 1  & 4  & 7  & 10\\\\\n",
       "\t 2  & 5  & 8  & 11\\\\\n",
       "\t 3  & 6  & 9  & 12\\\\\n",
       "\\end{tabular}\n"
      ],
      "text/markdown": [
       "\n",
       "| 1  | 4  | 7  | 10 | \n",
       "| 2  | 5  | 8  | 11 | \n",
       "| 3  | 6  | 9  | 12 | \n",
       "\n",
       "\n"
      ],
      "text/plain": [
       "     [,1] [,2] [,3] [,4]\n",
       "[1,] 1    4    7    10  \n",
       "[2,] 2    5    8    11  \n",
       "[3,] 3    6    9    12  "
      ]
     },
     "metadata": {},
     "output_type": "display_data"
    },
    {
     "data": {
      "text/html": [
       "<ol class=list-inline>\n",
       "\t<li>2</li>\n",
       "\t<li>5</li>\n",
       "\t<li>8</li>\n",
       "\t<li>11</li>\n",
       "</ol>\n"
      ],
      "text/latex": [
       "\\begin{enumerate*}\n",
       "\\item 2\n",
       "\\item 5\n",
       "\\item 8\n",
       "\\item 11\n",
       "\\end{enumerate*}\n"
      ],
      "text/markdown": [
       "1. 2\n",
       "2. 5\n",
       "3. 8\n",
       "4. 11\n",
       "\n",
       "\n"
      ],
      "text/plain": [
       "[1]  2  5  8 11"
      ]
     },
     "metadata": {},
     "output_type": "display_data"
    },
    {
     "data": {
      "text/html": [
       "<ol class=list-inline>\n",
       "\t<li>4</li>\n",
       "\t<li>5</li>\n",
       "\t<li>6</li>\n",
       "</ol>\n"
      ],
      "text/latex": [
       "\\begin{enumerate*}\n",
       "\\item 4\n",
       "\\item 5\n",
       "\\item 6\n",
       "\\end{enumerate*}\n"
      ],
      "text/markdown": [
       "1. 4\n",
       "2. 5\n",
       "3. 6\n",
       "\n",
       "\n"
      ],
      "text/plain": [
       "[1] 4 5 6"
      ]
     },
     "metadata": {},
     "output_type": "display_data"
    },
    {
     "data": {
      "text/html": [
       "<table>\n",
       "<tbody>\n",
       "\t<tr><td>4</td></tr>\n",
       "\t<tr><td>5</td></tr>\n",
       "\t<tr><td>6</td></tr>\n",
       "</tbody>\n",
       "</table>\n"
      ],
      "text/latex": [
       "\\begin{tabular}{l}\n",
       "\t 4\\\\\n",
       "\t 5\\\\\n",
       "\t 6\\\\\n",
       "\\end{tabular}\n"
      ],
      "text/markdown": [
       "\n",
       "| 4 | \n",
       "| 5 | \n",
       "| 6 | \n",
       "\n",
       "\n"
      ],
      "text/plain": [
       "     [,1]\n",
       "[1,] 4   \n",
       "[2,] 5   \n",
       "[3,] 6   "
      ]
     },
     "metadata": {},
     "output_type": "display_data"
    },
    {
     "data": {
      "text/html": [
       "4"
      ],
      "text/latex": [
       "4"
      ],
      "text/markdown": [
       "4"
      ],
      "text/plain": [
       "[1] 4"
      ]
     },
     "metadata": {},
     "output_type": "display_data"
    },
    {
     "data": {
      "text/html": [
       "<table>\n",
       "<tbody>\n",
       "\t<tr><td>4</td><td>7</td></tr>\n",
       "\t<tr><td>5</td><td>8</td></tr>\n",
       "\t<tr><td>6</td><td>9</td></tr>\n",
       "</tbody>\n",
       "</table>\n"
      ],
      "text/latex": [
       "\\begin{tabular}{ll}\n",
       "\t 4 & 7\\\\\n",
       "\t 5 & 8\\\\\n",
       "\t 6 & 9\\\\\n",
       "\\end{tabular}\n"
      ],
      "text/markdown": [
       "\n",
       "| 4 | 7 | \n",
       "| 5 | 8 | \n",
       "| 6 | 9 | \n",
       "\n",
       "\n"
      ],
      "text/plain": [
       "     [,1] [,2]\n",
       "[1,] 4    7   \n",
       "[2,] 5    8   \n",
       "[3,] 6    9   "
      ]
     },
     "metadata": {},
     "output_type": "display_data"
    },
    {
     "data": {
      "text/html": [
       "<table>\n",
       "<tbody>\n",
       "\t<tr><td>1 </td><td>10</td></tr>\n",
       "\t<tr><td>2 </td><td>11</td></tr>\n",
       "\t<tr><td>3 </td><td>12</td></tr>\n",
       "</tbody>\n",
       "</table>\n"
      ],
      "text/latex": [
       "\\begin{tabular}{ll}\n",
       "\t 1  & 10\\\\\n",
       "\t 2  & 11\\\\\n",
       "\t 3  & 12\\\\\n",
       "\\end{tabular}\n"
      ],
      "text/markdown": [
       "\n",
       "| 1  | 10 | \n",
       "| 2  | 11 | \n",
       "| 3  | 12 | \n",
       "\n",
       "\n"
      ],
      "text/plain": [
       "     [,1] [,2]\n",
       "[1,] 1    10  \n",
       "[2,] 2    11  \n",
       "[3,] 3    12  "
      ]
     },
     "metadata": {},
     "output_type": "display_data"
    },
    {
     "data": {
      "text/html": [
       "<ol class=list-inline>\n",
       "\t<li>1</li>\n",
       "\t<li>5</li>\n",
       "\t<li>9</li>\n",
       "</ol>\n"
      ],
      "text/latex": [
       "\\begin{enumerate*}\n",
       "\\item 1\n",
       "\\item 5\n",
       "\\item 9\n",
       "\\end{enumerate*}\n"
      ],
      "text/markdown": [
       "1. 1\n",
       "2. 5\n",
       "3. 9\n",
       "\n",
       "\n"
      ],
      "text/plain": [
       "[1] 1 5 9"
      ]
     },
     "metadata": {},
     "output_type": "display_data"
    },
    {
     "data": {
      "text/html": [],
      "text/latex": [],
      "text/markdown": [],
      "text/plain": [
       "logical(0)"
      ]
     },
     "metadata": {},
     "output_type": "display_data"
    },
    {
     "data": {
      "text/html": [
       "<ol class=list-inline>\n",
       "\t<li>FALSE</li>\n",
       "\t<li>FALSE</li>\n",
       "\t<li>FALSE</li>\n",
       "\t<li>FALSE</li>\n",
       "\t<li>FALSE</li>\n",
       "\t<li>FALSE</li>\n",
       "\t<li>FALSE</li>\n",
       "\t<li>FALSE</li>\n",
       "\t<li>FALSE</li>\n",
       "\t<li>FALSE</li>\n",
       "</ol>\n"
      ],
      "text/latex": [
       "\\begin{enumerate*}\n",
       "\\item FALSE\n",
       "\\item FALSE\n",
       "\\item FALSE\n",
       "\\item FALSE\n",
       "\\item FALSE\n",
       "\\item FALSE\n",
       "\\item FALSE\n",
       "\\item FALSE\n",
       "\\item FALSE\n",
       "\\item FALSE\n",
       "\\end{enumerate*}\n"
      ],
      "text/markdown": [
       "1. FALSE\n",
       "2. FALSE\n",
       "3. FALSE\n",
       "4. FALSE\n",
       "5. FALSE\n",
       "6. FALSE\n",
       "7. FALSE\n",
       "8. FALSE\n",
       "9. FALSE\n",
       "10. FALSE\n",
       "\n",
       "\n"
      ],
      "text/plain": [
       " [1] FALSE FALSE FALSE FALSE FALSE FALSE FALSE FALSE FALSE FALSE"
      ]
     },
     "metadata": {},
     "output_type": "display_data"
    },
    {
     "data": {
      "text/html": [
       "<ol class=list-inline>\n",
       "\t<li>''</li>\n",
       "\t<li>''</li>\n",
       "\t<li>''</li>\n",
       "\t<li>''</li>\n",
       "\t<li>''</li>\n",
       "\t<li>''</li>\n",
       "\t<li>''</li>\n",
       "\t<li>''</li>\n",
       "\t<li>''</li>\n",
       "\t<li>''</li>\n",
       "</ol>\n"
      ],
      "text/latex": [
       "\\begin{enumerate*}\n",
       "\\item ''\n",
       "\\item ''\n",
       "\\item ''\n",
       "\\item ''\n",
       "\\item ''\n",
       "\\item ''\n",
       "\\item ''\n",
       "\\item ''\n",
       "\\item ''\n",
       "\\item ''\n",
       "\\end{enumerate*}\n"
      ],
      "text/markdown": [
       "1. ''\n",
       "2. ''\n",
       "3. ''\n",
       "4. ''\n",
       "5. ''\n",
       "6. ''\n",
       "7. ''\n",
       "8. ''\n",
       "9. ''\n",
       "10. ''\n",
       "\n",
       "\n"
      ],
      "text/plain": [
       " [1] \"\" \"\" \"\" \"\" \"\" \"\" \"\" \"\" \"\" \"\""
      ]
     },
     "metadata": {},
     "output_type": "display_data"
    },
    {
     "data": {
      "text/html": [
       "<ol class=list-inline>\n",
       "\t<li>1</li>\n",
       "\t<li>2</li>\n",
       "\t<li>3</li>\n",
       "\t<li>4</li>\n",
       "\t<li>5</li>\n",
       "\t<li>6</li>\n",
       "\t<li>7</li>\n",
       "\t<li>8</li>\n",
       "\t<li>9</li>\n",
       "\t<li>10</li>\n",
       "</ol>\n"
      ],
      "text/latex": [
       "\\begin{enumerate*}\n",
       "\\item 1\n",
       "\\item 2\n",
       "\\item 3\n",
       "\\item 4\n",
       "\\item 5\n",
       "\\item 6\n",
       "\\item 7\n",
       "\\item 8\n",
       "\\item 9\n",
       "\\item 10\n",
       "\\end{enumerate*}\n"
      ],
      "text/markdown": [
       "1. 1\n",
       "2. 2\n",
       "3. 3\n",
       "4. 4\n",
       "5. 5\n",
       "6. 6\n",
       "7. 7\n",
       "8. 8\n",
       "9. 9\n",
       "10. 10\n",
       "\n",
       "\n"
      ],
      "text/plain": [
       " [1]  1  2  3  4  5  6  7  8  9 10"
      ]
     },
     "metadata": {},
     "output_type": "display_data"
    },
    {
     "data": {
      "text/html": [
       "'integer'"
      ],
      "text/latex": [
       "'integer'"
      ],
      "text/markdown": [
       "'integer'"
      ],
      "text/plain": [
       "[1] \"integer\""
      ]
     },
     "metadata": {},
     "output_type": "display_data"
    },
    {
     "data": {
      "text/html": [
       "'numeric'"
      ],
      "text/latex": [
       "'numeric'"
      ],
      "text/markdown": [
       "'numeric'"
      ],
      "text/plain": [
       "[1] \"numeric\""
      ]
     },
     "metadata": {},
     "output_type": "display_data"
    },
    {
     "data": {
      "text/html": [
       "'complex'"
      ],
      "text/latex": [
       "'complex'"
      ],
      "text/markdown": [
       "'complex'"
      ],
      "text/plain": [
       "[1] \"complex\""
      ]
     },
     "metadata": {},
     "output_type": "display_data"
    },
    {
     "data": {
      "text/html": [
       "'character'"
      ],
      "text/latex": [
       "'character'"
      ],
      "text/markdown": [
       "'character'"
      ],
      "text/plain": [
       "[1] \"character\""
      ]
     },
     "metadata": {},
     "output_type": "display_data"
    },
    {
     "data": {
      "text/html": [
       "'complex'"
      ],
      "text/latex": [
       "'complex'"
      ],
      "text/markdown": [
       "'complex'"
      ],
      "text/plain": [
       "[1] \"complex\""
      ]
     },
     "metadata": {},
     "output_type": "display_data"
    },
    {
     "data": {
      "text/html": [
       "<ol class=list-inline>\n",
       "\t<li>2+0i</li>\n",
       "\t<li>1+0i</li>\n",
       "\t<li>4-6i</li>\n",
       "</ol>\n"
      ],
      "text/latex": [
       "\\begin{enumerate*}\n",
       "\\item 2+0i\n",
       "\\item 1+0i\n",
       "\\item 4-6i\n",
       "\\end{enumerate*}\n"
      ],
      "text/markdown": [
       "1. 2+0i\n",
       "2. 1+0i\n",
       "3. 4-6i\n",
       "\n",
       "\n"
      ],
      "text/plain": [
       "[1] 2+0i 1+0i 4-6i"
      ]
     },
     "metadata": {},
     "output_type": "display_data"
    },
    {
     "data": {
      "text/html": [
       "TRUE"
      ],
      "text/latex": [
       "TRUE"
      ],
      "text/markdown": [
       "TRUE"
      ],
      "text/plain": [
       "[1] TRUE"
      ]
     },
     "metadata": {},
     "output_type": "display_data"
    },
    {
     "data": {
      "text/html": [
       "21"
      ],
      "text/latex": [
       "21"
      ],
      "text/markdown": [
       "21"
      ],
      "text/plain": [
       "[1] 21"
      ]
     },
     "metadata": {},
     "output_type": "display_data"
    },
    {
     "data": {
      "text/html": [
       "-1"
      ],
      "text/latex": [
       "-1"
      ],
      "text/markdown": [
       "-1"
      ],
      "text/plain": [
       "[1] -1"
      ]
     },
     "metadata": {},
     "output_type": "display_data"
    },
    {
     "data": {
      "text/html": [
       "167"
      ],
      "text/latex": [
       "167"
      ],
      "text/markdown": [
       "167"
      ],
      "text/plain": [
       "[1] 167"
      ]
     },
     "metadata": {},
     "output_type": "display_data"
    },
    {
     "data": {
      "text/html": [
       "0"
      ],
      "text/latex": [
       "0"
      ],
      "text/markdown": [
       "0"
      ],
      "text/plain": [
       "[1] 0"
      ]
     },
     "metadata": {},
     "output_type": "display_data"
    },
    {
     "data": {
      "text/html": [
       "FALSE"
      ],
      "text/latex": [
       "FALSE"
      ],
      "text/markdown": [
       "FALSE"
      ],
      "text/plain": [
       "[1] FALSE"
      ]
     },
     "metadata": {},
     "output_type": "display_data"
    },
    {
     "data": {
      "text/html": [
       "FALSE"
      ],
      "text/latex": [
       "FALSE"
      ],
      "text/markdown": [
       "FALSE"
      ],
      "text/plain": [
       "[1] FALSE"
      ]
     },
     "metadata": {},
     "output_type": "display_data"
    },
    {
     "data": {
      "text/html": [
       "-42"
      ],
      "text/latex": [
       "-42"
      ],
      "text/markdown": [
       "-42"
      ],
      "text/plain": [
       "[1] -42"
      ]
     },
     "metadata": {},
     "output_type": "display_data"
    },
    {
     "data": {
      "text/html": [
       "<ol class=list-inline>\n",
       "\t<li>3</li>\n",
       "\t<li>5</li>\n",
       "\t<li>7</li>\n",
       "\t<li>9</li>\n",
       "\t<li>11</li>\n",
       "\t<li>13</li>\n",
       "\t<li>15</li>\n",
       "\t<li>17</li>\n",
       "\t<li>19</li>\n",
       "\t<li>21</li>\n",
       "\t<li>23</li>\n",
       "</ol>\n"
      ],
      "text/latex": [
       "\\begin{enumerate*}\n",
       "\\item 3\n",
       "\\item 5\n",
       "\\item 7\n",
       "\\item 9\n",
       "\\item 11\n",
       "\\item 13\n",
       "\\item 15\n",
       "\\item 17\n",
       "\\item 19\n",
       "\\item 21\n",
       "\\item 23\n",
       "\\end{enumerate*}\n"
      ],
      "text/markdown": [
       "1. 3\n",
       "2. 5\n",
       "3. 7\n",
       "4. 9\n",
       "5. 11\n",
       "6. 13\n",
       "7. 15\n",
       "8. 17\n",
       "9. 19\n",
       "10. 21\n",
       "11. 23\n",
       "\n",
       "\n"
      ],
      "text/plain": [
       " [1]  3  5  7  9 11 13 15 17 19 21 23"
      ]
     },
     "metadata": {},
     "output_type": "display_data"
    },
    {
     "data": {
      "text/html": [
       "3"
      ],
      "text/latex": [
       "3"
      ],
      "text/markdown": [
       "3"
      ],
      "text/plain": [
       "[1] 3"
      ]
     },
     "metadata": {},
     "output_type": "display_data"
    },
    {
     "data": {
      "text/html": [
       "23"
      ],
      "text/latex": [
       "23"
      ],
      "text/markdown": [
       "23"
      ],
      "text/plain": [
       "[1] 23"
      ]
     },
     "metadata": {},
     "output_type": "display_data"
    },
    {
     "data": {
      "text/html": [
       "11"
      ],
      "text/latex": [
       "11"
      ],
      "text/markdown": [
       "11"
      ],
      "text/plain": [
       "[1] 11"
      ]
     },
     "metadata": {},
     "output_type": "display_data"
    },
    {
     "data": {
      "text/html": [
       "1"
      ],
      "text/latex": [
       "1"
      ],
      "text/markdown": [
       "1"
      ],
      "text/plain": [
       "[1] 1"
      ]
     },
     "metadata": {},
     "output_type": "display_data"
    },
    {
     "data": {
      "text/html": [
       "<ol class=list-inline>\n",
       "\t<li>21</li>\n",
       "\t<li>15</li>\n",
       "\t<li>23</li>\n",
       "\t<li>3</li>\n",
       "\t<li>17</li>\n",
       "\t<li>7</li>\n",
       "\t<li>9</li>\n",
       "\t<li>5</li>\n",
       "\t<li>13</li>\n",
       "\t<li>19</li>\n",
       "\t<li>11</li>\n",
       "</ol>\n"
      ],
      "text/latex": [
       "\\begin{enumerate*}\n",
       "\\item 21\n",
       "\\item 15\n",
       "\\item 23\n",
       "\\item 3\n",
       "\\item 17\n",
       "\\item 7\n",
       "\\item 9\n",
       "\\item 5\n",
       "\\item 13\n",
       "\\item 19\n",
       "\\item 11\n",
       "\\end{enumerate*}\n"
      ],
      "text/markdown": [
       "1. 21\n",
       "2. 15\n",
       "3. 23\n",
       "4. 3\n",
       "5. 17\n",
       "6. 7\n",
       "7. 9\n",
       "8. 5\n",
       "9. 13\n",
       "10. 19\n",
       "11. 11\n",
       "\n",
       "\n"
      ],
      "text/plain": [
       " [1] 21 15 23  3 17  7  9  5 13 19 11"
      ]
     },
     "metadata": {},
     "output_type": "display_data"
    },
    {
     "data": {
      "text/html": [
       "3"
      ],
      "text/latex": [
       "3"
      ],
      "text/markdown": [
       "3"
      ],
      "text/plain": [
       "[1] 3"
      ]
     },
     "metadata": {},
     "output_type": "display_data"
    },
    {
     "data": {
      "text/html": [
       "4"
      ],
      "text/latex": [
       "4"
      ],
      "text/markdown": [
       "4"
      ],
      "text/plain": [
       "[1] 4"
      ]
     },
     "metadata": {},
     "output_type": "display_data"
    },
    {
     "data": {
      "text/html": [
       "143"
      ],
      "text/latex": [
       "143"
      ],
      "text/markdown": [
       "143"
      ],
      "text/plain": [
       "[1] 143"
      ]
     },
     "metadata": {},
     "output_type": "display_data"
    },
    {
     "data": {
      "text/html": [
       "<ol class=list-inline>\n",
       "\t<li>3</li>\n",
       "\t<li>5</li>\n",
       "\t<li>7</li>\n",
       "\t<li>9</li>\n",
       "\t<li>11</li>\n",
       "\t<li>13</li>\n",
       "\t<li>15</li>\n",
       "\t<li>17</li>\n",
       "\t<li>19</li>\n",
       "\t<li>21</li>\n",
       "\t<li>23</li>\n",
       "</ol>\n"
      ],
      "text/latex": [
       "\\begin{enumerate*}\n",
       "\\item 3\n",
       "\\item 5\n",
       "\\item 7\n",
       "\\item 9\n",
       "\\item 11\n",
       "\\item 13\n",
       "\\item 15\n",
       "\\item 17\n",
       "\\item 19\n",
       "\\item 21\n",
       "\\item 23\n",
       "\\end{enumerate*}\n"
      ],
      "text/markdown": [
       "1. 3\n",
       "2. 5\n",
       "3. 7\n",
       "4. 9\n",
       "5. 11\n",
       "6. 13\n",
       "7. 15\n",
       "8. 17\n",
       "9. 19\n",
       "10. 21\n",
       "11. 23\n",
       "\n",
       "\n"
      ],
      "text/plain": [
       " [1]  3  5  7  9 11 13 15 17 19 21 23"
      ]
     },
     "metadata": {},
     "output_type": "display_data"
    },
    {
     "data": {
      "text/html": [
       "<ol class=list-inline>\n",
       "\t<li>23</li>\n",
       "\t<li>21</li>\n",
       "\t<li>19</li>\n",
       "\t<li>17</li>\n",
       "\t<li>15</li>\n",
       "\t<li>13</li>\n",
       "\t<li>11</li>\n",
       "\t<li>9</li>\n",
       "\t<li>7</li>\n",
       "\t<li>5</li>\n",
       "\t<li>3</li>\n",
       "</ol>\n"
      ],
      "text/latex": [
       "\\begin{enumerate*}\n",
       "\\item 23\n",
       "\\item 21\n",
       "\\item 19\n",
       "\\item 17\n",
       "\\item 15\n",
       "\\item 13\n",
       "\\item 11\n",
       "\\item 9\n",
       "\\item 7\n",
       "\\item 5\n",
       "\\item 3\n",
       "\\end{enumerate*}\n"
      ],
      "text/markdown": [
       "1. 23\n",
       "2. 21\n",
       "3. 19\n",
       "4. 17\n",
       "5. 15\n",
       "6. 13\n",
       "7. 11\n",
       "8. 9\n",
       "9. 7\n",
       "10. 5\n",
       "11. 3\n",
       "\n",
       "\n"
      ],
      "text/plain": [
       " [1] 23 21 19 17 15 13 11  9  7  5  3"
      ]
     },
     "metadata": {},
     "output_type": "display_data"
    },
    {
     "data": {
      "text/html": [
       "<ol class=list-inline>\n",
       "\t<li>21</li>\n",
       "\t<li>15</li>\n",
       "\t<li>23</li>\n",
       "\t<li>3</li>\n",
       "\t<li>17</li>\n",
       "\t<li>7</li>\n",
       "\t<li>9</li>\n",
       "\t<li>5</li>\n",
       "\t<li>13</li>\n",
       "\t<li>19</li>\n",
       "\t<li>11</li>\n",
       "</ol>\n"
      ],
      "text/latex": [
       "\\begin{enumerate*}\n",
       "\\item 21\n",
       "\\item 15\n",
       "\\item 23\n",
       "\\item 3\n",
       "\\item 17\n",
       "\\item 7\n",
       "\\item 9\n",
       "\\item 5\n",
       "\\item 13\n",
       "\\item 19\n",
       "\\item 11\n",
       "\\end{enumerate*}\n"
      ],
      "text/markdown": [
       "1. 21\n",
       "2. 15\n",
       "3. 23\n",
       "4. 3\n",
       "5. 17\n",
       "6. 7\n",
       "7. 9\n",
       "8. 5\n",
       "9. 13\n",
       "10. 19\n",
       "11. 11\n",
       "\n",
       "\n"
      ],
      "text/plain": [
       " [1] 21 15 23  3 17  7  9  5 13 19 11"
      ]
     },
     "metadata": {},
     "output_type": "display_data"
    },
    {
     "data": {
      "text/html": [
       "13"
      ],
      "text/latex": [
       "13"
      ],
      "text/markdown": [
       "13"
      ],
      "text/plain": [
       "[1] 13"
      ]
     },
     "metadata": {},
     "output_type": "display_data"
    },
    {
     "data": {
      "text/html": [
       "<ol class=list-inline>\n",
       "\t<li>21</li>\n",
       "\t<li>15</li>\n",
       "\t<li>23</li>\n",
       "\t<li>3</li>\n",
       "\t<li>17</li>\n",
       "\t<li>7</li>\n",
       "\t<li>9</li>\n",
       "\t<li>5</li>\n",
       "\t<li>13</li>\n",
       "\t<li>19</li>\n",
       "\t<li>11</li>\n",
       "\t<li>78</li>\n",
       "</ol>\n"
      ],
      "text/latex": [
       "\\begin{enumerate*}\n",
       "\\item 21\n",
       "\\item 15\n",
       "\\item 23\n",
       "\\item 3\n",
       "\\item 17\n",
       "\\item 7\n",
       "\\item 9\n",
       "\\item 5\n",
       "\\item 13\n",
       "\\item 19\n",
       "\\item 11\n",
       "\\item 78\n",
       "\\end{enumerate*}\n"
      ],
      "text/markdown": [
       "1. 21\n",
       "2. 15\n",
       "3. 23\n",
       "4. 3\n",
       "5. 17\n",
       "6. 7\n",
       "7. 9\n",
       "8. 5\n",
       "9. 13\n",
       "10. 19\n",
       "11. 11\n",
       "12. 78\n",
       "\n",
       "\n"
      ],
      "text/plain": [
       " [1] 21 15 23  3 17  7  9  5 13 19 11 78"
      ]
     },
     "metadata": {},
     "output_type": "display_data"
    },
    {
     "data": {
      "text/html": [
       "<ol class=list-inline>\n",
       "\t<li>21</li>\n",
       "\t<li>15</li>\n",
       "\t<li>23</li>\n",
       "\t<li>3</li>\n",
       "\t<li>17</li>\n",
       "\t<li>7</li>\n",
       "\t<li>9</li>\n",
       "\t<li>5</li>\n",
       "\t<li>13</li>\n",
       "\t<li>19</li>\n",
       "\t<li>11</li>\n",
       "\t<li>78</li>\n",
       "\t<li>40</li>\n",
       "</ol>\n"
      ],
      "text/latex": [
       "\\begin{enumerate*}\n",
       "\\item 21\n",
       "\\item 15\n",
       "\\item 23\n",
       "\\item 3\n",
       "\\item 17\n",
       "\\item 7\n",
       "\\item 9\n",
       "\\item 5\n",
       "\\item 13\n",
       "\\item 19\n",
       "\\item 11\n",
       "\\item 78\n",
       "\\item 40\n",
       "\\end{enumerate*}\n"
      ],
      "text/markdown": [
       "1. 21\n",
       "2. 15\n",
       "3. 23\n",
       "4. 3\n",
       "5. 17\n",
       "6. 7\n",
       "7. 9\n",
       "8. 5\n",
       "9. 13\n",
       "10. 19\n",
       "11. 11\n",
       "12. 78\n",
       "13. 40\n",
       "\n",
       "\n"
      ],
      "text/plain": [
       " [1] 21 15 23  3 17  7  9  5 13 19 11 78 40"
      ]
     },
     "metadata": {},
     "output_type": "display_data"
    },
    {
     "data": {
      "text/html": [
       "<ol class=list-inline>\n",
       "\t<li>21</li>\n",
       "\t<li>15</li>\n",
       "\t<li>23</li>\n",
       "\t<li>3</li>\n",
       "\t<li>17</li>\n",
       "\t<li>7</li>\n",
       "\t<li>9</li>\n",
       "\t<li>5</li>\n",
       "\t<li>13</li>\n",
       "\t<li>19</li>\n",
       "\t<li>11</li>\n",
       "</ol>\n"
      ],
      "text/latex": [
       "\\begin{enumerate*}\n",
       "\\item 21\n",
       "\\item 15\n",
       "\\item 23\n",
       "\\item 3\n",
       "\\item 17\n",
       "\\item 7\n",
       "\\item 9\n",
       "\\item 5\n",
       "\\item 13\n",
       "\\item 19\n",
       "\\item 11\n",
       "\\end{enumerate*}\n"
      ],
      "text/markdown": [
       "1. 21\n",
       "2. 15\n",
       "3. 23\n",
       "4. 3\n",
       "5. 17\n",
       "6. 7\n",
       "7. 9\n",
       "8. 5\n",
       "9. 13\n",
       "10. 19\n",
       "11. 11\n",
       "\n",
       "\n"
      ],
      "text/plain": [
       " [1] 21 15 23  3 17  7  9  5 13 19 11"
      ]
     },
     "metadata": {},
     "output_type": "display_data"
    },
    {
     "data": {
      "text/html": [
       "<ol class=list-inline>\n",
       "\t<li>11</li>\n",
       "\t<li>19</li>\n",
       "\t<li>13</li>\n",
       "\t<li>5</li>\n",
       "\t<li>9</li>\n",
       "\t<li>7</li>\n",
       "\t<li>17</li>\n",
       "\t<li>3</li>\n",
       "\t<li>23</li>\n",
       "\t<li>15</li>\n",
       "\t<li>21</li>\n",
       "</ol>\n"
      ],
      "text/latex": [
       "\\begin{enumerate*}\n",
       "\\item 11\n",
       "\\item 19\n",
       "\\item 13\n",
       "\\item 5\n",
       "\\item 9\n",
       "\\item 7\n",
       "\\item 17\n",
       "\\item 3\n",
       "\\item 23\n",
       "\\item 15\n",
       "\\item 21\n",
       "\\end{enumerate*}\n"
      ],
      "text/markdown": [
       "1. 11\n",
       "2. 19\n",
       "3. 13\n",
       "4. 5\n",
       "5. 9\n",
       "6. 7\n",
       "7. 17\n",
       "8. 3\n",
       "9. 23\n",
       "10. 15\n",
       "11. 21\n",
       "\n",
       "\n"
      ],
      "text/plain": [
       " [1] 11 19 13  5  9  7 17  3 23 15 21"
      ]
     },
     "metadata": {},
     "output_type": "display_data"
    },
    {
     "data": {
      "text/html": [
       "<ol class=list-inline>\n",
       "\t<li>21</li>\n",
       "\t<li>15</li>\n",
       "\t<li>3</li>\n",
       "\t<li>17</li>\n",
       "\t<li>7</li>\n",
       "\t<li>9</li>\n",
       "\t<li>5</li>\n",
       "\t<li>13</li>\n",
       "\t<li>19</li>\n",
       "\t<li>11</li>\n",
       "</ol>\n"
      ],
      "text/latex": [
       "\\begin{enumerate*}\n",
       "\\item 21\n",
       "\\item 15\n",
       "\\item 3\n",
       "\\item 17\n",
       "\\item 7\n",
       "\\item 9\n",
       "\\item 5\n",
       "\\item 13\n",
       "\\item 19\n",
       "\\item 11\n",
       "\\end{enumerate*}\n"
      ],
      "text/markdown": [
       "1. 21\n",
       "2. 15\n",
       "3. 3\n",
       "4. 17\n",
       "5. 7\n",
       "6. 9\n",
       "7. 5\n",
       "8. 13\n",
       "9. 19\n",
       "10. 11\n",
       "\n",
       "\n"
      ],
      "text/plain": [
       " [1] 21 15  3 17  7  9  5 13 19 11"
      ]
     },
     "metadata": {},
     "output_type": "display_data"
    },
    {
     "data": {
      "text/html": [
       "<ol class=list-inline>\n",
       "\t<li>21</li>\n",
       "\t<li>15</li>\n",
       "\t<li>23</li>\n",
       "\t<li>3</li>\n",
       "\t<li>17</li>\n",
       "\t<li>7</li>\n",
       "\t<li>9</li>\n",
       "\t<li>5</li>\n",
       "\t<li>13</li>\n",
       "\t<li>19</li>\n",
       "\t<li>11</li>\n",
       "</ol>\n"
      ],
      "text/latex": [
       "\\begin{enumerate*}\n",
       "\\item 21\n",
       "\\item 15\n",
       "\\item 23\n",
       "\\item 3\n",
       "\\item 17\n",
       "\\item 7\n",
       "\\item 9\n",
       "\\item 5\n",
       "\\item 13\n",
       "\\item 19\n",
       "\\item 11\n",
       "\\end{enumerate*}\n"
      ],
      "text/markdown": [
       "1. 21\n",
       "2. 15\n",
       "3. 23\n",
       "4. 3\n",
       "5. 17\n",
       "6. 7\n",
       "7. 9\n",
       "8. 5\n",
       "9. 13\n",
       "10. 19\n",
       "11. 11\n",
       "\n",
       "\n"
      ],
      "text/plain": [
       " [1] 21 15 23  3 17  7  9  5 13 19 11"
      ]
     },
     "metadata": {},
     "output_type": "display_data"
    },
    {
     "data": {
      "text/html": [
       "<ol class=list-inline>\n",
       "\t<li>23</li>\n",
       "\t<li>45</li>\n",
       "\t<li>23</li>\n",
       "\t<li>45</li>\n",
       "\t<li>23</li>\n",
       "\t<li>45</li>\n",
       "\t<li>23</li>\n",
       "\t<li>45</li>\n",
       "</ol>\n"
      ],
      "text/latex": [
       "\\begin{enumerate*}\n",
       "\\item 23\n",
       "\\item 45\n",
       "\\item 23\n",
       "\\item 45\n",
       "\\item 23\n",
       "\\item 45\n",
       "\\item 23\n",
       "\\item 45\n",
       "\\end{enumerate*}\n"
      ],
      "text/markdown": [
       "1. 23\n",
       "2. 45\n",
       "3. 23\n",
       "4. 45\n",
       "5. 23\n",
       "6. 45\n",
       "7. 23\n",
       "8. 45\n",
       "\n",
       "\n"
      ],
      "text/plain": [
       "[1] 23 45 23 45 23 45 23 45"
      ]
     },
     "metadata": {},
     "output_type": "display_data"
    }
   ],
   "source": [
    "rm(list = ls()) # to remove all the objects from current session\n",
    "\n",
    "##### vector ########\n",
    "vNumeric <- c(2,7,9,38,-56,7,12)\n",
    "mode(vNumeric)\n",
    "vChar <- c(\"lucid\", \"IT\", \"solutions\")\n",
    "mode(vChar)\n",
    "vComp <- c(2+3i, 8-7i, 12-90i,-3-42i)\n",
    "mode(vComp)\n",
    "\n",
    "?sum\n",
    "sum(1, 2, 3, 4, 5) # to sum/total the values present in the function\n",
    "v <- 4:90 # storing the values from 4 to 90 sequentially\n",
    "v[81] # to get 81st position value\n",
    "\n",
    "vLogical <- c(TRUE,FALSE,TRUE,FALSE)\n",
    "vInteger <- c(34,56,76,12)\n",
    "vInteger <- c(34L,56L,76L,12L)\n",
    "mode(vInteger)\n",
    "class(vInteger)\n",
    "is.double(23.56)\n",
    "is.double(23)\n",
    "############### vector indexing ############\n",
    "vChar[2] # print 2nd element\n",
    "vChar[c(2,3)] # print 2nd and 3rd\n",
    "vChar[-c(2,3)] # print excepot 2nd and 3rd\n",
    "rVect <- 5:30\n",
    "rVect\n",
    "rVect[4:8] # sequential data\n",
    "############### matrix  ##############\n",
    "mat <- matrix(1:12, nro = 3, ncol = 4)\n",
    "print(mat)\n",
    "mat\n",
    "dim(mat)\n",
    "############ indexing of matrix ##############\n",
    "mat[,] # total matrix :blank means all (no restriction) \n",
    "mat\n",
    "mat[2,] # total matrix : only print 2nd row\n",
    "mat[,2] # total matrix : only print 2nd column as vector format\n",
    "mat[,2,drop=FALSE] # total matrix : only print 2nd column as matrix format\n",
    "mat[1,2] # single value at 1st row and 2nd column\n",
    "mat[,c(2,3)] # 2nd column and 3rd column at a time\n",
    "mat[,-c(2,3)] # except 2nd column and 3rd column at a time\n",
    "diag(mat)\n",
    "x <- vector()\n",
    "x\n",
    "x <- vector(length = 10)\n",
    "x\n",
    "vector(\"character\", length = 10)\n",
    "x <- 1:10\n",
    "x\n",
    "############# vector coersion (internal) #################\n",
    "# logical -> integer -> numeric -> complex -> character.\n",
    "vect <- c(2L,TRUE)\n",
    "class(vect)\n",
    "vect <- c(2L,TRUE, 34)\n",
    "class(vect)\n",
    "vect <- c(2L,TRUE, 34, 4-6i)\n",
    "class(vect)\n",
    "vect <- c(2L,TRUE, 34, 4-6i, \"lucid\")\n",
    "class(vect)\n",
    "vect <- c(2L,TRUE, 4-6i)\n",
    "class(vect)\n",
    "\n",
    "########### external coersion #########\n",
    "\n",
    "vect\n",
    "TRUE == 1\n",
    "TRUE + 20 # true always one\n",
    "FALSE -1 # false always zero\n",
    "\n",
    "TRUE*167\n",
    "FALSE*89\n",
    "!FALSE - 43\n",
    "!-43\n",
    "(!FALSE) - 43\n",
    "\n",
    "########## vector operations\n",
    "vect <- seq(from = 3,to = 23,by=2)\n",
    "vect\n",
    "min(vect) # minimum value\n",
    "max(vect) # max value\n",
    "which.max(vect)\n",
    "which.min(vect)\n",
    "vect <- sample(vect) # to get any random sample value\n",
    "vect\n",
    "which.max(vect)  # location of maximum value presented\n",
    "which.min(vect) # location of the minimum value presented\n",
    "sum(vect) # total summation\n",
    "sort(vect) # sorting the values from min to max\n",
    "sort(vect,decreasing = TRUE) # sorting the values from max to min\n",
    "vect\n",
    "vect[vect==13]\n",
    "\n",
    "append(vect,78)\n",
    "append(vect,c(78,40))\n",
    "vect\n",
    "rev(vect)\n",
    "vect[-3]\n",
    "unique(vect)\n",
    "rep(c(23,45),4)\n",
    "?rep\n"
   ]
  },
  {
   "cell_type": "code",
   "execution_count": 5,
   "metadata": {
    "run_control": {
     "frozen": false,
     "read_only": false
    }
   },
   "outputs": [
    {
     "data": {
      "text/html": [
       "'integer'"
      ],
      "text/latex": [
       "'integer'"
      ],
      "text/markdown": [
       "'integer'"
      ],
      "text/plain": [
       "[1] \"integer\""
      ]
     },
     "metadata": {},
     "output_type": "display_data"
    },
    {
     "data": {
      "text/html": [
       "'numeric'"
      ],
      "text/latex": [
       "'numeric'"
      ],
      "text/markdown": [
       "'numeric'"
      ],
      "text/plain": [
       "[1] \"numeric\""
      ]
     },
     "metadata": {},
     "output_type": "display_data"
    },
    {
     "data": {
      "text/html": [
       "'character'"
      ],
      "text/latex": [
       "'character'"
      ],
      "text/markdown": [
       "'character'"
      ],
      "text/plain": [
       "[1] \"character\""
      ]
     },
     "metadata": {},
     "output_type": "display_data"
    },
    {
     "data": {
      "text/html": [
       "'logical'"
      ],
      "text/latex": [
       "'logical'"
      ],
      "text/markdown": [
       "'logical'"
      ],
      "text/plain": [
       "[1] \"logical\""
      ]
     },
     "metadata": {},
     "output_type": "display_data"
    },
    {
     "data": {
      "text/html": [
       "'complex'"
      ],
      "text/latex": [
       "'complex'"
      ],
      "text/markdown": [
       "'complex'"
      ],
      "text/plain": [
       "[1] \"complex\""
      ]
     },
     "metadata": {},
     "output_type": "display_data"
    },
    {
     "data": {
      "text/html": [
       "'character'"
      ],
      "text/latex": [
       "'character'"
      ],
      "text/markdown": [
       "'character'"
      ],
      "text/plain": [
       "[1] \"character\""
      ]
     },
     "metadata": {},
     "output_type": "display_data"
    },
    {
     "data": {
      "text/html": [
       "'character'"
      ],
      "text/latex": [
       "'character'"
      ],
      "text/markdown": [
       "'character'"
      ],
      "text/plain": [
       "[1] \"character\""
      ]
     },
     "metadata": {},
     "output_type": "display_data"
    },
    {
     "data": {
      "text/html": [
       "'character'"
      ],
      "text/latex": [
       "'character'"
      ],
      "text/markdown": [
       "'character'"
      ],
      "text/plain": [
       "[1] \"character\""
      ]
     },
     "metadata": {},
     "output_type": "display_data"
    },
    {
     "data": {
      "text/html": [
       "'character'"
      ],
      "text/latex": [
       "'character'"
      ],
      "text/markdown": [
       "'character'"
      ],
      "text/plain": [
       "[1] \"character\""
      ]
     },
     "metadata": {},
     "output_type": "display_data"
    },
    {
     "data": {
      "text/html": [
       "'numeric'"
      ],
      "text/latex": [
       "'numeric'"
      ],
      "text/markdown": [
       "'numeric'"
      ],
      "text/plain": [
       "[1] \"numeric\""
      ]
     },
     "metadata": {},
     "output_type": "display_data"
    },
    {
     "data": {
      "text/html": [
       "7"
      ],
      "text/latex": [
       "7"
      ],
      "text/markdown": [
       "7"
      ],
      "text/plain": [
       "[1] 7"
      ]
     },
     "metadata": {},
     "output_type": "display_data"
    },
    {
     "data": {
      "text/html": [
       "'90'"
      ],
      "text/latex": [
       "'90'"
      ],
      "text/markdown": [
       "'90'"
      ],
      "text/plain": [
       "[1] \"90\""
      ]
     },
     "metadata": {},
     "output_type": "display_data"
    },
    {
     "data": {
      "text/html": [
       "<ol class=list-inline>\n",
       "\t<li>'TRUE'</li>\n",
       "\t<li>'5'</li>\n",
       "\t<li>'65'</li>\n",
       "\t<li>'yes'</li>\n",
       "</ol>\n"
      ],
      "text/latex": [
       "\\begin{enumerate*}\n",
       "\\item 'TRUE'\n",
       "\\item '5'\n",
       "\\item '65'\n",
       "\\item 'yes'\n",
       "\\end{enumerate*}\n"
      ],
      "text/markdown": [
       "1. 'TRUE'\n",
       "2. '5'\n",
       "3. '65'\n",
       "4. 'yes'\n",
       "\n",
       "\n"
      ],
      "text/plain": [
       "[1] \"TRUE\" \"5\"    \"65\"   \"yes\" "
      ]
     },
     "metadata": {},
     "output_type": "display_data"
    },
    {
     "data": {
      "text/html": [
       "<ol class=list-inline>\n",
       "\t<li>'5'</li>\n",
       "\t<li>'65'</li>\n",
       "</ol>\n"
      ],
      "text/latex": [
       "\\begin{enumerate*}\n",
       "\\item '5'\n",
       "\\item '65'\n",
       "\\end{enumerate*}\n"
      ],
      "text/markdown": [
       "1. '5'\n",
       "2. '65'\n",
       "\n",
       "\n"
      ],
      "text/plain": [
       "[1] \"5\"  \"65\""
      ]
     },
     "metadata": {},
     "output_type": "display_data"
    },
    {
     "data": {
      "text/html": [
       "<ol class=list-inline>\n",
       "\t<li>'5'</li>\n",
       "\t<li>'90'</li>\n",
       "\t<li>'65'</li>\n",
       "</ol>\n"
      ],
      "text/latex": [
       "\\begin{enumerate*}\n",
       "\\item '5'\n",
       "\\item '90'\n",
       "\\item '65'\n",
       "\\end{enumerate*}\n"
      ],
      "text/markdown": [
       "1. '5'\n",
       "2. '90'\n",
       "3. '65'\n",
       "\n",
       "\n"
      ],
      "text/plain": [
       "[1] \"5\"  \"90\" \"65\""
      ]
     },
     "metadata": {},
     "output_type": "display_data"
    },
    {
     "data": {
      "text/html": [
       "<ol class=list-inline>\n",
       "\t<li>'TRUE'</li>\n",
       "\t<li>'yes'</li>\n",
       "</ol>\n"
      ],
      "text/latex": [
       "\\begin{enumerate*}\n",
       "\\item 'TRUE'\n",
       "\\item 'yes'\n",
       "\\end{enumerate*}\n"
      ],
      "text/markdown": [
       "1. 'TRUE'\n",
       "2. 'yes'\n",
       "\n",
       "\n"
      ],
      "text/plain": [
       "[1] \"TRUE\" \"yes\" "
      ]
     },
     "metadata": {},
     "output_type": "display_data"
    },
    {
     "data": {
      "text/html": [
       "<ol class=list-inline>\n",
       "\t<li>'TRUE'</li>\n",
       "\t<li>'yes'</li>\n",
       "</ol>\n"
      ],
      "text/latex": [
       "\\begin{enumerate*}\n",
       "\\item 'TRUE'\n",
       "\\item 'yes'\n",
       "\\end{enumerate*}\n"
      ],
      "text/markdown": [
       "1. 'TRUE'\n",
       "2. 'yes'\n",
       "\n",
       "\n"
      ],
      "text/plain": [
       "[1] \"TRUE\" \"yes\" "
      ]
     },
     "metadata": {},
     "output_type": "display_data"
    },
    {
     "data": {
      "text/html": [
       "<ol class=list-inline>\n",
       "\t<li>'TRUE'</li>\n",
       "\t<li>'678'</li>\n",
       "\t<li>'90'</li>\n",
       "\t<li>'45'</li>\n",
       "\t<li>'yes'</li>\n",
       "</ol>\n"
      ],
      "text/latex": [
       "\\begin{enumerate*}\n",
       "\\item 'TRUE'\n",
       "\\item '678'\n",
       "\\item '90'\n",
       "\\item '45'\n",
       "\\item 'yes'\n",
       "\\end{enumerate*}\n"
      ],
      "text/markdown": [
       "1. 'TRUE'\n",
       "2. '678'\n",
       "3. '90'\n",
       "4. '45'\n",
       "5. 'yes'\n",
       "\n",
       "\n"
      ],
      "text/plain": [
       "[1] \"TRUE\" \"678\"  \"90\"   \"45\"   \"yes\" "
      ]
     },
     "metadata": {},
     "output_type": "display_data"
    },
    {
     "data": {
      "text/html": [
       "'integer'"
      ],
      "text/latex": [
       "'integer'"
      ],
      "text/markdown": [
       "'integer'"
      ],
      "text/plain": [
       "[1] \"integer\""
      ]
     },
     "metadata": {},
     "output_type": "display_data"
    },
    {
     "data": {
      "text/html": [
       "<ol class=list-inline>\n",
       "\t<li>1</li>\n",
       "\t<li>2</li>\n",
       "\t<li>3</li>\n",
       "\t<li>4</li>\n",
       "\t<li>5</li>\n",
       "\t<li>6</li>\n",
       "\t<li>7</li>\n",
       "\t<li>8</li>\n",
       "\t<li>9</li>\n",
       "\t<li>10</li>\n",
       "\t<li>11</li>\n",
       "\t<li>12</li>\n",
       "</ol>\n"
      ],
      "text/latex": [
       "\\begin{enumerate*}\n",
       "\\item 1\n",
       "\\item 2\n",
       "\\item 3\n",
       "\\item 4\n",
       "\\item 5\n",
       "\\item 6\n",
       "\\item 7\n",
       "\\item 8\n",
       "\\item 9\n",
       "\\item 10\n",
       "\\item 11\n",
       "\\item 12\n",
       "\\end{enumerate*}\n"
      ],
      "text/markdown": [
       "1. 1\n",
       "2. 2\n",
       "3. 3\n",
       "4. 4\n",
       "5. 5\n",
       "6. 6\n",
       "7. 7\n",
       "8. 8\n",
       "9. 9\n",
       "10. 10\n",
       "11. 11\n",
       "12. 12\n",
       "\n",
       "\n"
      ],
      "text/plain": [
       " [1]  1  2  3  4  5  6  7  8  9 10 11 12"
      ]
     },
     "metadata": {},
     "output_type": "display_data"
    },
    {
     "data": {
      "text/html": [
       "<ol class=list-inline>\n",
       "\t<li>4</li>\n",
       "\t<li>5</li>\n",
       "\t<li>6</li>\n",
       "\t<li>7</li>\n",
       "\t<li>8</li>\n",
       "\t<li>9</li>\n",
       "</ol>\n"
      ],
      "text/latex": [
       "\\begin{enumerate*}\n",
       "\\item 4\n",
       "\\item 5\n",
       "\\item 6\n",
       "\\item 7\n",
       "\\item 8\n",
       "\\item 9\n",
       "\\end{enumerate*}\n"
      ],
      "text/markdown": [
       "1. 4\n",
       "2. 5\n",
       "3. 6\n",
       "4. 7\n",
       "5. 8\n",
       "6. 9\n",
       "\n",
       "\n"
      ],
      "text/plain": [
       "[1] 4 5 6 7 8 9"
      ]
     },
     "metadata": {},
     "output_type": "display_data"
    },
    {
     "data": {
      "text/html": [
       "<ol class=list-inline>\n",
       "\t<li>4</li>\n",
       "\t<li>9</li>\n",
       "</ol>\n"
      ],
      "text/latex": [
       "\\begin{enumerate*}\n",
       "\\item 4\n",
       "\\item 9\n",
       "\\end{enumerate*}\n"
      ],
      "text/markdown": [
       "1. 4\n",
       "2. 9\n",
       "\n",
       "\n"
      ],
      "text/plain": [
       "[1] 4 9"
      ]
     },
     "metadata": {},
     "output_type": "display_data"
    },
    {
     "data": {
      "text/html": [
       "<ol class=list-inline>\n",
       "\t<li>1</li>\n",
       "\t<li>2</li>\n",
       "\t<li>3</li>\n",
       "\t<li>4</li>\n",
       "\t<li>5</li>\n",
       "\t<li>6</li>\n",
       "\t<li>7</li>\n",
       "\t<li>8</li>\n",
       "\t<li>9</li>\n",
       "\t<li>10</li>\n",
       "\t<li>11</li>\n",
       "\t<li>12</li>\n",
       "</ol>\n"
      ],
      "text/latex": [
       "\\begin{enumerate*}\n",
       "\\item 1\n",
       "\\item 2\n",
       "\\item 3\n",
       "\\item 4\n",
       "\\item 5\n",
       "\\item 6\n",
       "\\item 7\n",
       "\\item 8\n",
       "\\item 9\n",
       "\\item 10\n",
       "\\item 11\n",
       "\\item 12\n",
       "\\end{enumerate*}\n"
      ],
      "text/markdown": [
       "1. 1\n",
       "2. 2\n",
       "3. 3\n",
       "4. 4\n",
       "5. 5\n",
       "6. 6\n",
       "7. 7\n",
       "8. 8\n",
       "9. 9\n",
       "10. 10\n",
       "11. 11\n",
       "12. 12\n",
       "\n",
       "\n"
      ],
      "text/plain": [
       " [1]  1  2  3  4  5  6  7  8  9 10 11 12"
      ]
     },
     "metadata": {},
     "output_type": "display_data"
    },
    {
     "data": {
      "text/html": [
       "5"
      ],
      "text/latex": [
       "5"
      ],
      "text/markdown": [
       "5"
      ],
      "text/plain": [
       "[1] 5"
      ]
     },
     "metadata": {},
     "output_type": "display_data"
    },
    {
     "name": "stderr",
     "output_type": "stream",
     "text": [
      "Warning message in myVec == c(12, 56):\n",
      "“longer object length is not a multiple of shorter object length”"
     ]
    },
    {
     "data": {
      "text/html": [
       "12"
      ],
      "text/latex": [
       "12"
      ],
      "text/markdown": [
       "12"
      ],
      "text/plain": [
       "[1] 12"
      ]
     },
     "metadata": {},
     "output_type": "display_data"
    },
    {
     "data": {
      "text/html": [
       "<ol class=list-inline>\n",
       "\t<li>1</li>\n",
       "\t<li>2</li>\n",
       "\t<li>3</li>\n",
       "\t<li>4</li>\n",
       "\t<li>5</li>\n",
       "\t<li>&lt;NA&gt;</li>\n",
       "\t<li>&lt;NA&gt;</li>\n",
       "\t<li>&lt;NA&gt;</li>\n",
       "\t<li>&lt;NA&gt;</li>\n",
       "\t<li>&lt;NA&gt;</li>\n",
       "\t<li>&lt;NA&gt;</li>\n",
       "\t<li>&lt;NA&gt;</li>\n",
       "</ol>\n"
      ],
      "text/latex": [
       "\\begin{enumerate*}\n",
       "\\item 1\n",
       "\\item 2\n",
       "\\item 3\n",
       "\\item 4\n",
       "\\item 5\n",
       "\\item <NA>\n",
       "\\item <NA>\n",
       "\\item <NA>\n",
       "\\item <NA>\n",
       "\\item <NA>\n",
       "\\item <NA>\n",
       "\\item <NA>\n",
       "\\end{enumerate*}\n"
      ],
      "text/markdown": [
       "1. 1\n",
       "2. 2\n",
       "3. 3\n",
       "4. 4\n",
       "5. 5\n",
       "6. &lt;NA&gt;\n",
       "7. &lt;NA&gt;\n",
       "8. &lt;NA&gt;\n",
       "9. &lt;NA&gt;\n",
       "10. &lt;NA&gt;\n",
       "11. &lt;NA&gt;\n",
       "12. &lt;NA&gt;\n",
       "\n",
       "\n"
      ],
      "text/plain": [
       " [1]  1  2  3  4  5 NA NA NA NA NA NA NA"
      ]
     },
     "metadata": {},
     "output_type": "display_data"
    },
    {
     "data": {
      "text/html": [
       "<table>\n",
       "<tbody>\n",
       "\t<tr><td>1 </td><td>4 </td><td>7 </td><td>10</td></tr>\n",
       "\t<tr><td>2 </td><td>5 </td><td>8 </td><td>11</td></tr>\n",
       "\t<tr><td>3 </td><td>6 </td><td>9 </td><td>12</td></tr>\n",
       "</tbody>\n",
       "</table>\n"
      ],
      "text/latex": [
       "\\begin{tabular}{llll}\n",
       "\t 1  & 4  & 7  & 10\\\\\n",
       "\t 2  & 5  & 8  & 11\\\\\n",
       "\t 3  & 6  & 9  & 12\\\\\n",
       "\\end{tabular}\n"
      ],
      "text/markdown": [
       "\n",
       "| 1  | 4  | 7  | 10 | \n",
       "| 2  | 5  | 8  | 11 | \n",
       "| 3  | 6  | 9  | 12 | \n",
       "\n",
       "\n"
      ],
      "text/plain": [
       "     [,1] [,2] [,3] [,4]\n",
       "[1,] 1    4    7    10  \n",
       "[2,] 2    5    8    11  \n",
       "[3,] 3    6    9    12  "
      ]
     },
     "metadata": {},
     "output_type": "display_data"
    },
    {
     "data": {
      "text/html": [
       "<ol class=list-inline>\n",
       "\t<li>3</li>\n",
       "\t<li>4</li>\n",
       "</ol>\n"
      ],
      "text/latex": [
       "\\begin{enumerate*}\n",
       "\\item 3\n",
       "\\item 4\n",
       "\\end{enumerate*}\n"
      ],
      "text/markdown": [
       "1. 3\n",
       "2. 4\n",
       "\n",
       "\n"
      ],
      "text/plain": [
       "[1] 3 4"
      ]
     },
     "metadata": {},
     "output_type": "display_data"
    },
    {
     "name": "stdout",
     "output_type": "stream",
     "text": [
      "     [,1] [,2] [,3] [,4]\n",
      "[1,]    1    4    7   10\n",
      "[2,]    2    5    8   11\n",
      "[3,]    3    6    9   12\n"
     ]
    },
    {
     "data": {
      "text/html": [
       "<ol class=list-inline>\n",
       "\t<li>2</li>\n",
       "\t<li>5</li>\n",
       "\t<li>8</li>\n",
       "\t<li>11</li>\n",
       "</ol>\n"
      ],
      "text/latex": [
       "\\begin{enumerate*}\n",
       "\\item 2\n",
       "\\item 5\n",
       "\\item 8\n",
       "\\item 11\n",
       "\\end{enumerate*}\n"
      ],
      "text/markdown": [
       "1. 2\n",
       "2. 5\n",
       "3. 8\n",
       "4. 11\n",
       "\n",
       "\n"
      ],
      "text/plain": [
       "[1]  2  5  8 11"
      ]
     },
     "metadata": {},
     "output_type": "display_data"
    },
    {
     "data": {
      "text/html": [
       "<table>\n",
       "<tbody>\n",
       "\t<tr><td>4 </td><td>7 </td><td>10</td></tr>\n",
       "\t<tr><td>5 </td><td>8 </td><td>11</td></tr>\n",
       "\t<tr><td>6 </td><td>9 </td><td>12</td></tr>\n",
       "</tbody>\n",
       "</table>\n"
      ],
      "text/latex": [
       "\\begin{tabular}{lll}\n",
       "\t 4  & 7  & 10\\\\\n",
       "\t 5  & 8  & 11\\\\\n",
       "\t 6  & 9  & 12\\\\\n",
       "\\end{tabular}\n"
      ],
      "text/markdown": [
       "\n",
       "| 4  | 7  | 10 | \n",
       "| 5  | 8  | 11 | \n",
       "| 6  | 9  | 12 | \n",
       "\n",
       "\n"
      ],
      "text/plain": [
       "     [,1] [,2] [,3]\n",
       "[1,] 4    7    10  \n",
       "[2,] 5    8    11  \n",
       "[3,] 6    9    12  "
      ]
     },
     "metadata": {},
     "output_type": "display_data"
    },
    {
     "data": {
      "text/html": [
       "<table>\n",
       "<tbody>\n",
       "\t<tr><td>7</td><td>7</td></tr>\n",
       "\t<tr><td>8</td><td>8</td></tr>\n",
       "\t<tr><td>9</td><td>9</td></tr>\n",
       "</tbody>\n",
       "</table>\n"
      ],
      "text/latex": [
       "\\begin{tabular}{ll}\n",
       "\t 7 & 7\\\\\n",
       "\t 8 & 8\\\\\n",
       "\t 9 & 9\\\\\n",
       "\\end{tabular}\n"
      ],
      "text/markdown": [
       "\n",
       "| 7 | 7 | \n",
       "| 8 | 8 | \n",
       "| 9 | 9 | \n",
       "\n",
       "\n"
      ],
      "text/plain": [
       "     [,1] [,2]\n",
       "[1,] 7    7   \n",
       "[2,] 8    8   \n",
       "[3,] 9    9   "
      ]
     },
     "metadata": {},
     "output_type": "display_data"
    },
    {
     "data": {
      "text/html": [
       "<table>\n",
       "<tbody>\n",
       "\t<tr><td>7</td><td>7</td></tr>\n",
       "\t<tr><td>8</td><td>8</td></tr>\n",
       "\t<tr><td>9</td><td>9</td></tr>\n",
       "</tbody>\n",
       "</table>\n"
      ],
      "text/latex": [
       "\\begin{tabular}{ll}\n",
       "\t 7 & 7\\\\\n",
       "\t 8 & 8\\\\\n",
       "\t 9 & 9\\\\\n",
       "\\end{tabular}\n"
      ],
      "text/markdown": [
       "\n",
       "| 7 | 7 | \n",
       "| 8 | 8 | \n",
       "| 9 | 9 | \n",
       "\n",
       "\n"
      ],
      "text/plain": [
       "     [,1] [,2]\n",
       "[1,] 7    7   \n",
       "[2,] 8    8   \n",
       "[3,] 9    9   "
      ]
     },
     "metadata": {},
     "output_type": "display_data"
    },
    {
     "data": {
      "text/html": [
       "5"
      ],
      "text/latex": [
       "5"
      ],
      "text/markdown": [
       "5"
      ],
      "text/plain": [
       "[1] 5"
      ]
     },
     "metadata": {},
     "output_type": "display_data"
    },
    {
     "data": {
      "text/html": [
       "5"
      ],
      "text/latex": [
       "5"
      ],
      "text/markdown": [
       "5"
      ],
      "text/plain": [
       "[1] 5"
      ]
     },
     "metadata": {},
     "output_type": "display_data"
    },
    {
     "data": {
      "text/html": [
       "<table>\n",
       "<tbody>\n",
       "\t<tr><td>3 </td><td>6 </td><td>9 </td><td>12</td></tr>\n",
       "\t<tr><td>3 </td><td>6 </td><td>9 </td><td>12</td></tr>\n",
       "</tbody>\n",
       "</table>\n"
      ],
      "text/latex": [
       "\\begin{tabular}{llll}\n",
       "\t 3  & 6  & 9  & 12\\\\\n",
       "\t 3  & 6  & 9  & 12\\\\\n",
       "\\end{tabular}\n"
      ],
      "text/markdown": [
       "\n",
       "| 3  | 6  | 9  | 12 | \n",
       "| 3  | 6  | 9  | 12 | \n",
       "\n",
       "\n"
      ],
      "text/plain": [
       "     [,1] [,2] [,3] [,4]\n",
       "[1,] 3    6    9    12  \n",
       "[2,] 3    6    9    12  "
      ]
     },
     "metadata": {},
     "output_type": "display_data"
    },
    {
     "data": {
      "text/html": [
       "<ol class=list-inline>\n",
       "\t<li>1</li>\n",
       "\t<li>2</li>\n",
       "\t<li>3</li>\n",
       "\t<li>4</li>\n",
       "\t<li>5</li>\n",
       "\t<li>6</li>\n",
       "\t<li>7</li>\n",
       "\t<li>8</li>\n",
       "\t<li>9</li>\n",
       "\t<li>10</li>\n",
       "\t<li>11</li>\n",
       "\t<li>12</li>\n",
       "</ol>\n"
      ],
      "text/latex": [
       "\\begin{enumerate*}\n",
       "\\item 1\n",
       "\\item 2\n",
       "\\item 3\n",
       "\\item 4\n",
       "\\item 5\n",
       "\\item 6\n",
       "\\item 7\n",
       "\\item 8\n",
       "\\item 9\n",
       "\\item 10\n",
       "\\item 11\n",
       "\\item 12\n",
       "\\end{enumerate*}\n"
      ],
      "text/markdown": [
       "1. 1\n",
       "2. 2\n",
       "3. 3\n",
       "4. 4\n",
       "5. 5\n",
       "6. 6\n",
       "7. 7\n",
       "8. 8\n",
       "9. 9\n",
       "10. 10\n",
       "11. 11\n",
       "12. 12\n",
       "\n",
       "\n"
      ],
      "text/plain": [
       ", , 1\n",
       "\n",
       "     [,1] [,2] [,3]\n",
       "[1,]    1    3    5\n",
       "[2,]    2    4    6\n",
       "\n",
       ", , 2\n",
       "\n",
       "     [,1] [,2] [,3]\n",
       "[1,]    7    9   11\n",
       "[2,]    8   10   12\n"
      ]
     },
     "metadata": {},
     "output_type": "display_data"
    },
    {
     "name": "stdout",
     "output_type": "stream",
     "text": [
      ", , 1\n",
      "\n",
      "     [,1] [,2] [,3]\n",
      "[1,]    1    5    9\n",
      "[2,]    2    6   10\n",
      "[3,]    3    7   11\n",
      "[4,]    4    8   12\n",
      "\n",
      ", , 2\n",
      "\n",
      "     [,1] [,2] [,3]\n",
      "[1,]    1    5    9\n",
      "[2,]    2    6   10\n",
      "[3,]    3    7   11\n",
      "[4,]    4    8   12\n",
      "\n"
     ]
    },
    {
     "data": {
      "text/html": [
       "<table>\n",
       "<tbody>\n",
       "\t<tr><td>1 </td><td>5 </td><td> 9</td></tr>\n",
       "\t<tr><td>2 </td><td>6 </td><td>10</td></tr>\n",
       "\t<tr><td>3 </td><td>7 </td><td>11</td></tr>\n",
       "\t<tr><td>4 </td><td>8 </td><td>12</td></tr>\n",
       "</tbody>\n",
       "</table>\n"
      ],
      "text/latex": [
       "\\begin{tabular}{lll}\n",
       "\t 1  & 5  &  9\\\\\n",
       "\t 2  & 6  & 10\\\\\n",
       "\t 3  & 7  & 11\\\\\n",
       "\t 4  & 8  & 12\\\\\n",
       "\\end{tabular}\n"
      ],
      "text/markdown": [
       "\n",
       "| 1  | 5  |  9 | \n",
       "| 2  | 6  | 10 | \n",
       "| 3  | 7  | 11 | \n",
       "| 4  | 8  | 12 | \n",
       "\n",
       "\n"
      ],
      "text/plain": [
       "     [,1] [,2] [,3]\n",
       "[1,] 1    5     9  \n",
       "[2,] 2    6    10  \n",
       "[3,] 3    7    11  \n",
       "[4,] 4    8    12  "
      ]
     },
     "metadata": {},
     "output_type": "display_data"
    },
    {
     "data": {
      "text/html": [
       "<ol class=list-inline>\n",
       "\t<li>5</li>\n",
       "\t<li>6</li>\n",
       "\t<li>7</li>\n",
       "\t<li>8</li>\n",
       "</ol>\n"
      ],
      "text/latex": [
       "\\begin{enumerate*}\n",
       "\\item 5\n",
       "\\item 6\n",
       "\\item 7\n",
       "\\item 8\n",
       "\\end{enumerate*}\n"
      ],
      "text/markdown": [
       "1. 5\n",
       "2. 6\n",
       "3. 7\n",
       "4. 8\n",
       "\n",
       "\n"
      ],
      "text/plain": [
       "[1] 5 6 7 8"
      ]
     },
     "metadata": {},
     "output_type": "display_data"
    },
    {
     "data": {
      "text/html": [
       "5"
      ],
      "text/latex": [
       "5"
      ],
      "text/markdown": [
       "5"
      ],
      "text/plain": [
       "[1] 5"
      ]
     },
     "metadata": {},
     "output_type": "display_data"
    },
    {
     "data": {
      "text/html": [
       "<ol class=list-inline>\n",
       "\t<li>23</li>\n",
       "\t<li>45</li>\n",
       "</ol>\n"
      ],
      "text/latex": [
       "\\begin{enumerate*}\n",
       "\\item 23\n",
       "\\item 45\n",
       "\\end{enumerate*}\n"
      ],
      "text/markdown": [
       "1. 23\n",
       "2. 45\n",
       "\n",
       "\n"
      ],
      "text/plain": [
       "[1] 23 45"
      ]
     },
     "metadata": {},
     "output_type": "display_data"
    },
    {
     "data": {
      "text/html": [
       "<table>\n",
       "<thead><tr><th scope=col>empno</th><th scope=col>empname</th><th scope=col>empsal</th></tr></thead>\n",
       "<tbody>\n",
       "\t<tr><td> 23   </td><td>ramesh</td><td>23000 </td></tr>\n",
       "\t<tr><td>-92   </td><td>rajesh</td><td>45000 </td></tr>\n",
       "\t<tr><td> 50   </td><td>suresh</td><td>64000 </td></tr>\n",
       "</tbody>\n",
       "</table>\n"
      ],
      "text/latex": [
       "\\begin{tabular}{r|lll}\n",
       " empno & empname & empsal\\\\\n",
       "\\hline\n",
       "\t  23    & ramesh & 23000 \\\\\n",
       "\t -92    & rajesh & 45000 \\\\\n",
       "\t  50    & suresh & 64000 \\\\\n",
       "\\end{tabular}\n"
      ],
      "text/markdown": [
       "\n",
       "empno | empname | empsal | \n",
       "|---|---|---|\n",
       "|  23    | ramesh | 23000  | \n",
       "| -92    | rajesh | 45000  | \n",
       "|  50    | suresh | 64000  | \n",
       "\n",
       "\n"
      ],
      "text/plain": [
       "  empno empname empsal\n",
       "1  23   ramesh  23000 \n",
       "2 -92   rajesh  45000 \n",
       "3  50   suresh  64000 "
      ]
     },
     "metadata": {},
     "output_type": "display_data"
    },
    {
     "data": {
      "text/html": [
       "'data.frame'"
      ],
      "text/latex": [
       "'data.frame'"
      ],
      "text/markdown": [
       "'data.frame'"
      ],
      "text/plain": [
       "[1] \"data.frame\""
      ]
     },
     "metadata": {},
     "output_type": "display_data"
    },
    {
     "name": "stdout",
     "output_type": "stream",
     "text": [
      "'data.frame':\t3 obs. of  3 variables:\n",
      " $ empno  : int  23 -92 50\n",
      " $ empname: Factor w/ 3 levels \"rajesh\",\"ramesh\",..: 2 1 3\n",
      " $ empsal : num  23000 45000 64000\n"
     ]
    },
    {
     "data": {
      "text/html": [
       "<dl>\n",
       "\t<dt>$names</dt>\n",
       "\t\t<dd><ol class=list-inline>\n",
       "\t<li>'empno'</li>\n",
       "\t<li>'empname'</li>\n",
       "\t<li>'empsal'</li>\n",
       "</ol>\n",
       "</dd>\n",
       "\t<dt>$row.names</dt>\n",
       "\t\t<dd><ol class=list-inline>\n",
       "\t<li>1</li>\n",
       "\t<li>2</li>\n",
       "\t<li>3</li>\n",
       "</ol>\n",
       "</dd>\n",
       "\t<dt>$class</dt>\n",
       "\t\t<dd>'data.frame'</dd>\n",
       "</dl>\n"
      ],
      "text/latex": [
       "\\begin{description}\n",
       "\\item[\\$names] \\begin{enumerate*}\n",
       "\\item 'empno'\n",
       "\\item 'empname'\n",
       "\\item 'empsal'\n",
       "\\end{enumerate*}\n",
       "\n",
       "\\item[\\$row.names] \\begin{enumerate*}\n",
       "\\item 1\n",
       "\\item 2\n",
       "\\item 3\n",
       "\\end{enumerate*}\n",
       "\n",
       "\\item[\\$class] 'data.frame'\n",
       "\\end{description}\n"
      ],
      "text/markdown": [
       "$names\n",
       ":   1. 'empno'\n",
       "2. 'empname'\n",
       "3. 'empsal'\n",
       "\n",
       "\n",
       "\n",
       "$row.names\n",
       ":   1. 1\n",
       "2. 2\n",
       "3. 3\n",
       "\n",
       "\n",
       "\n",
       "$class\n",
       ":   'data.frame'\n",
       "\n",
       "\n"
      ],
      "text/plain": [
       "$names\n",
       "[1] \"empno\"   \"empname\" \"empsal\" \n",
       "\n",
       "$row.names\n",
       "[1] 1 2 3\n",
       "\n",
       "$class\n",
       "[1] \"data.frame\"\n"
      ]
     },
     "metadata": {},
     "output_type": "display_data"
    },
    {
     "data": {
      "text/html": [
       "<ol class=list-inline>\n",
       "\t<li>ramesh</li>\n",
       "\t<li>rajesh</li>\n",
       "\t<li>suresh</li>\n",
       "</ol>\n",
       "\n",
       "<details>\n",
       "\t<summary style=display:list-item;cursor:pointer>\n",
       "\t\t<strong>Levels</strong>:\n",
       "\t</summary>\n",
       "\t<ol class=list-inline>\n",
       "\t\t<li>'rajesh'</li>\n",
       "\t\t<li>'ramesh'</li>\n",
       "\t\t<li>'suresh'</li>\n",
       "\t</ol>\n",
       "</details>"
      ],
      "text/latex": [
       "\\begin{enumerate*}\n",
       "\\item ramesh\n",
       "\\item rajesh\n",
       "\\item suresh\n",
       "\\end{enumerate*}\n",
       "\n",
       "\\emph{Levels}: \\begin{enumerate*}\n",
       "\\item 'rajesh'\n",
       "\\item 'ramesh'\n",
       "\\item 'suresh'\n",
       "\\end{enumerate*}\n"
      ],
      "text/markdown": [
       "1. ramesh\n",
       "2. rajesh\n",
       "3. suresh\n",
       "\n",
       "\n",
       "\n",
       "**Levels**: 1. 'rajesh'\n",
       "2. 'ramesh'\n",
       "3. 'suresh'\n",
       "\n",
       "\n"
      ],
      "text/plain": [
       "[1] ramesh rajesh suresh\n",
       "Levels: rajesh ramesh suresh"
      ]
     },
     "metadata": {},
     "output_type": "display_data"
    },
    {
     "data": {
      "text/html": [
       "<table>\n",
       "<thead><tr><th scope=col>empno</th><th scope=col>empname</th><th scope=col>empsal</th></tr></thead>\n",
       "<tbody>\n",
       "\t<tr><td>23    </td><td>ramesh</td><td>23000 </td></tr>\n",
       "</tbody>\n",
       "</table>\n"
      ],
      "text/latex": [
       "\\begin{tabular}{r|lll}\n",
       " empno & empname & empsal\\\\\n",
       "\\hline\n",
       "\t 23     & ramesh & 23000 \\\\\n",
       "\\end{tabular}\n"
      ],
      "text/markdown": [
       "\n",
       "empno | empname | empsal | \n",
       "|---|\n",
       "| 23     | ramesh | 23000  | \n",
       "\n",
       "\n"
      ],
      "text/plain": [
       "  empno empname empsal\n",
       "1 23    ramesh  23000 "
      ]
     },
     "metadata": {},
     "output_type": "display_data"
    },
    {
     "data": {
      "text/html": [
       "<table>\n",
       "<thead><tr><th></th><th scope=col>mpg</th><th scope=col>cyl</th><th scope=col>disp</th><th scope=col>hp</th><th scope=col>drat</th><th scope=col>wt</th><th scope=col>qsec</th><th scope=col>vs</th><th scope=col>am</th><th scope=col>gear</th><th scope=col>carb</th></tr></thead>\n",
       "<tbody>\n",
       "\t<tr><th scope=row>Mazda RX4</th><td>21.0 </td><td>6    </td><td>160  </td><td>110  </td><td>3.90 </td><td>2.620</td><td>16.46</td><td>0    </td><td>1    </td><td>4    </td><td>4    </td></tr>\n",
       "\t<tr><th scope=row>Mazda RX4 Wag</th><td>21.0 </td><td>6    </td><td>160  </td><td>110  </td><td>3.90 </td><td>2.875</td><td>17.02</td><td>0    </td><td>1    </td><td>4    </td><td>4    </td></tr>\n",
       "\t<tr><th scope=row>Datsun 710</th><td>22.8 </td><td>4    </td><td>108  </td><td> 93  </td><td>3.85 </td><td>2.320</td><td>18.61</td><td>1    </td><td>1    </td><td>4    </td><td>1    </td></tr>\n",
       "\t<tr><th scope=row>Hornet 4 Drive</th><td>21.4 </td><td>6    </td><td>258  </td><td>110  </td><td>3.08 </td><td>3.215</td><td>19.44</td><td>1    </td><td>0    </td><td>3    </td><td>1    </td></tr>\n",
       "\t<tr><th scope=row>Hornet Sportabout</th><td>18.7 </td><td>8    </td><td>360  </td><td>175  </td><td>3.15 </td><td>3.440</td><td>17.02</td><td>0    </td><td>0    </td><td>3    </td><td>2    </td></tr>\n",
       "\t<tr><th scope=row>Valiant</th><td>18.1 </td><td>6    </td><td>225  </td><td>105  </td><td>2.76 </td><td>3.460</td><td>20.22</td><td>1    </td><td>0    </td><td>3    </td><td>1    </td></tr>\n",
       "</tbody>\n",
       "</table>\n"
      ],
      "text/latex": [
       "\\begin{tabular}{r|lllllllllll}\n",
       "  & mpg & cyl & disp & hp & drat & wt & qsec & vs & am & gear & carb\\\\\n",
       "\\hline\n",
       "\tMazda RX4 & 21.0  & 6     & 160   & 110   & 3.90  & 2.620 & 16.46 & 0     & 1     & 4     & 4    \\\\\n",
       "\tMazda RX4 Wag & 21.0  & 6     & 160   & 110   & 3.90  & 2.875 & 17.02 & 0     & 1     & 4     & 4    \\\\\n",
       "\tDatsun 710 & 22.8  & 4     & 108   &  93   & 3.85  & 2.320 & 18.61 & 1     & 1     & 4     & 1    \\\\\n",
       "\tHornet 4 Drive & 21.4  & 6     & 258   & 110   & 3.08  & 3.215 & 19.44 & 1     & 0     & 3     & 1    \\\\\n",
       "\tHornet Sportabout & 18.7  & 8     & 360   & 175   & 3.15  & 3.440 & 17.02 & 0     & 0     & 3     & 2    \\\\\n",
       "\tValiant & 18.1  & 6     & 225   & 105   & 2.76  & 3.460 & 20.22 & 1     & 0     & 3     & 1    \\\\\n",
       "\\end{tabular}\n"
      ],
      "text/markdown": [
       "\n",
       "| <!--/--> | mpg | cyl | disp | hp | drat | wt | qsec | vs | am | gear | carb | \n",
       "|---|---|---|---|---|---|\n",
       "| Mazda RX4 | 21.0  | 6     | 160   | 110   | 3.90  | 2.620 | 16.46 | 0     | 1     | 4     | 4     | \n",
       "| Mazda RX4 Wag | 21.0  | 6     | 160   | 110   | 3.90  | 2.875 | 17.02 | 0     | 1     | 4     | 4     | \n",
       "| Datsun 710 | 22.8  | 4     | 108   |  93   | 3.85  | 2.320 | 18.61 | 1     | 1     | 4     | 1     | \n",
       "| Hornet 4 Drive | 21.4  | 6     | 258   | 110   | 3.08  | 3.215 | 19.44 | 1     | 0     | 3     | 1     | \n",
       "| Hornet Sportabout | 18.7  | 8     | 360   | 175   | 3.15  | 3.440 | 17.02 | 0     | 0     | 3     | 2     | \n",
       "| Valiant | 18.1  | 6     | 225   | 105   | 2.76  | 3.460 | 20.22 | 1     | 0     | 3     | 1     | \n",
       "\n",
       "\n"
      ],
      "text/plain": [
       "                  mpg  cyl disp hp  drat wt    qsec  vs am gear carb\n",
       "Mazda RX4         21.0 6   160  110 3.90 2.620 16.46 0  1  4    4   \n",
       "Mazda RX4 Wag     21.0 6   160  110 3.90 2.875 17.02 0  1  4    4   \n",
       "Datsun 710        22.8 4   108   93 3.85 2.320 18.61 1  1  4    1   \n",
       "Hornet 4 Drive    21.4 6   258  110 3.08 3.215 19.44 1  0  3    1   \n",
       "Hornet Sportabout 18.7 8   360  175 3.15 3.440 17.02 0  0  3    2   \n",
       "Valiant           18.1 6   225  105 2.76 3.460 20.22 1  0  3    1   "
      ]
     },
     "metadata": {},
     "output_type": "display_data"
    },
    {
     "data": {
      "text/html": [
       "<table>\n",
       "<thead><tr><th></th><th scope=col>mpg</th><th scope=col>cyl</th><th scope=col>disp</th><th scope=col>hp</th><th scope=col>drat</th><th scope=col>wt</th><th scope=col>qsec</th><th scope=col>vs</th><th scope=col>am</th><th scope=col>gear</th><th scope=col>carb</th></tr></thead>\n",
       "<tbody>\n",
       "\t<tr><th scope=row>Porsche 914-2</th><td>26.0 </td><td>4    </td><td>120.3</td><td> 91  </td><td>4.43 </td><td>2.140</td><td>16.7 </td><td>0    </td><td>1    </td><td>5    </td><td>2    </td></tr>\n",
       "\t<tr><th scope=row>Lotus Europa</th><td>30.4 </td><td>4    </td><td> 95.1</td><td>113  </td><td>3.77 </td><td>1.513</td><td>16.9 </td><td>1    </td><td>1    </td><td>5    </td><td>2    </td></tr>\n",
       "\t<tr><th scope=row>Ford Pantera L</th><td>15.8 </td><td>8    </td><td>351.0</td><td>264  </td><td>4.22 </td><td>3.170</td><td>14.5 </td><td>0    </td><td>1    </td><td>5    </td><td>4    </td></tr>\n",
       "\t<tr><th scope=row>Ferrari Dino</th><td>19.7 </td><td>6    </td><td>145.0</td><td>175  </td><td>3.62 </td><td>2.770</td><td>15.5 </td><td>0    </td><td>1    </td><td>5    </td><td>6    </td></tr>\n",
       "\t<tr><th scope=row>Maserati Bora</th><td>15.0 </td><td>8    </td><td>301.0</td><td>335  </td><td>3.54 </td><td>3.570</td><td>14.6 </td><td>0    </td><td>1    </td><td>5    </td><td>8    </td></tr>\n",
       "\t<tr><th scope=row>Volvo 142E</th><td>21.4 </td><td>4    </td><td>121.0</td><td>109  </td><td>4.11 </td><td>2.780</td><td>18.6 </td><td>1    </td><td>1    </td><td>4    </td><td>2    </td></tr>\n",
       "</tbody>\n",
       "</table>\n"
      ],
      "text/latex": [
       "\\begin{tabular}{r|lllllllllll}\n",
       "  & mpg & cyl & disp & hp & drat & wt & qsec & vs & am & gear & carb\\\\\n",
       "\\hline\n",
       "\tPorsche 914-2 & 26.0  & 4     & 120.3 &  91   & 4.43  & 2.140 & 16.7  & 0     & 1     & 5     & 2    \\\\\n",
       "\tLotus Europa & 30.4  & 4     &  95.1 & 113   & 3.77  & 1.513 & 16.9  & 1     & 1     & 5     & 2    \\\\\n",
       "\tFord Pantera L & 15.8  & 8     & 351.0 & 264   & 4.22  & 3.170 & 14.5  & 0     & 1     & 5     & 4    \\\\\n",
       "\tFerrari Dino & 19.7  & 6     & 145.0 & 175   & 3.62  & 2.770 & 15.5  & 0     & 1     & 5     & 6    \\\\\n",
       "\tMaserati Bora & 15.0  & 8     & 301.0 & 335   & 3.54  & 3.570 & 14.6  & 0     & 1     & 5     & 8    \\\\\n",
       "\tVolvo 142E & 21.4  & 4     & 121.0 & 109   & 4.11  & 2.780 & 18.6  & 1     & 1     & 4     & 2    \\\\\n",
       "\\end{tabular}\n"
      ],
      "text/markdown": [
       "\n",
       "| <!--/--> | mpg | cyl | disp | hp | drat | wt | qsec | vs | am | gear | carb | \n",
       "|---|---|---|---|---|---|\n",
       "| Porsche 914-2 | 26.0  | 4     | 120.3 |  91   | 4.43  | 2.140 | 16.7  | 0     | 1     | 5     | 2     | \n",
       "| Lotus Europa | 30.4  | 4     |  95.1 | 113   | 3.77  | 1.513 | 16.9  | 1     | 1     | 5     | 2     | \n",
       "| Ford Pantera L | 15.8  | 8     | 351.0 | 264   | 4.22  | 3.170 | 14.5  | 0     | 1     | 5     | 4     | \n",
       "| Ferrari Dino | 19.7  | 6     | 145.0 | 175   | 3.62  | 2.770 | 15.5  | 0     | 1     | 5     | 6     | \n",
       "| Maserati Bora | 15.0  | 8     | 301.0 | 335   | 3.54  | 3.570 | 14.6  | 0     | 1     | 5     | 8     | \n",
       "| Volvo 142E | 21.4  | 4     | 121.0 | 109   | 4.11  | 2.780 | 18.6  | 1     | 1     | 4     | 2     | \n",
       "\n",
       "\n"
      ],
      "text/plain": [
       "               mpg  cyl disp  hp  drat wt    qsec vs am gear carb\n",
       "Porsche 914-2  26.0 4   120.3  91 4.43 2.140 16.7 0  1  5    2   \n",
       "Lotus Europa   30.4 4    95.1 113 3.77 1.513 16.9 1  1  5    2   \n",
       "Ford Pantera L 15.8 8   351.0 264 4.22 3.170 14.5 0  1  5    4   \n",
       "Ferrari Dino   19.7 6   145.0 175 3.62 2.770 15.5 0  1  5    6   \n",
       "Maserati Bora  15.0 8   301.0 335 3.54 3.570 14.6 0  1  5    8   \n",
       "Volvo 142E     21.4 4   121.0 109 4.11 2.780 18.6 1  1  4    2   "
      ]
     },
     "metadata": {},
     "output_type": "display_data"
    },
    {
     "data": {
      "text/html": [
       "<ol class=list-inline>\n",
       "\t<li>32</li>\n",
       "\t<li>11</li>\n",
       "</ol>\n"
      ],
      "text/latex": [
       "\\begin{enumerate*}\n",
       "\\item 32\n",
       "\\item 11\n",
       "\\end{enumerate*}\n"
      ],
      "text/markdown": [
       "1. 32\n",
       "2. 11\n",
       "\n",
       "\n"
      ],
      "text/plain": [
       "[1] 32 11"
      ]
     },
     "metadata": {},
     "output_type": "display_data"
    },
    {
     "data": {
      "text/html": [
       "32"
      ],
      "text/latex": [
       "32"
      ],
      "text/markdown": [
       "32"
      ],
      "text/plain": [
       "[1] 32"
      ]
     },
     "metadata": {},
     "output_type": "display_data"
    },
    {
     "data": {
      "text/html": [
       "11"
      ],
      "text/latex": [
       "11"
      ],
      "text/markdown": [
       "11"
      ],
      "text/plain": [
       "[1] 11"
      ]
     },
     "metadata": {},
     "output_type": "display_data"
    }
   ],
   "source": [
    "# to check current working directory\n",
    "# getwd()\n",
    "#setting a working directory\n",
    "#setwd(\"E:/DSwRandP-Apr18/R-basics\")\n",
    "#data types\n",
    "\n",
    "#integers\n",
    "vecI<- c(1+2L)\n",
    "vecI1 <- seq(2,6)\n",
    "class(vecI1)\n",
    "\n",
    "\n",
    "#numeric\n",
    "vecN <- c(2,3,5,6)\n",
    "class(vecN)\n",
    "#character\n",
    "vecC <- c(\"1+2i\", \"TRUE\", \"lucid\", \"23\")\n",
    "class(vecC)\n",
    "#logical\n",
    "vecL<- c(TRUE,FALSE,TRUE,FALSE)\n",
    "class(vecL)\n",
    "#complex\n",
    "vecCom <- c(2+3i, 9-0i, -78-34i)\n",
    "class(vecCom)\n",
    "#data structure\n",
    "\n",
    "#vector (1 dimentional storage of elements)\n",
    "# integer vector\n",
    "intVec <- c(TRUE,5L,90L,65L, \"yes\")\n",
    "class(intVec)\n",
    "numVec <- c(3,5,90,65, \"lucid\")\n",
    "class(numVec)\n",
    "charVec <- c(\"rajesh\", \"ramesh\", \"suresh\", \"90\")\n",
    "class(charVec)\n",
    "compVec <- c(2+4i, \"9+6i\", -2+56i, -4-45i)\n",
    "class(compVec)\n",
    "logiVec <- c(12,FALSE, TRUE, TRUE)\n",
    "class(logiVec)\n",
    "sum(3,4)\n",
    "\n",
    "\n",
    "# subsetting or indexing\n",
    "intVec[3] # accessing 3rd element\n",
    "intVec[-3] #ignoring only 3rd element\n",
    "intVec[c(2,4)]\n",
    "intVec[2:4]\n",
    "intVec[-(2:4)]\n",
    "intVec[-c(2:4)]\n",
    "intVec[c(2,4)] <- c(678,45)\n",
    "intVec\n",
    "\n",
    "myVec <- seq(1,12)\n",
    "class(myVec)\n",
    "myVec\n",
    "myVec[seq(4,9)]\n",
    "myVec[c(4,9)]\n",
    "1:12\n",
    "myVec[myVec==5]\n",
    "myVec <- c(12,34,56,67,83)\n",
    "myVec[myVec==c(12,56)]\n",
    "myVec <- seq(1,5)\n",
    "myVec[1:12]\n",
    "#matrix (2 dimensional storage of elemtns)\n",
    "myMat <- matrix(1:12, 3, 4)\n",
    "#?matrix\n",
    "myMat\n",
    "dim(myMat)\n",
    "# dim(myMat) <- c(1,12)\n",
    "#View(myMat)\n",
    "print(myMat)\n",
    "# view(myMat)\n",
    "# View(myMat)\n",
    "# indexing of matrix\n",
    "#myMat[2,3]\n",
    "myMat[2,]\n",
    "#myMat[,c(1,3)]\n",
    "myMat[,2:4]\n",
    "myMat[,rep(3,2)]\n",
    "myMat[,rep(3,2)]\n",
    "myMat[,seq(1,3)][2,2]\n",
    "myMat[2,2]\n",
    "myMat[rep(3,2),]\n",
    "#arrays\n",
    "myArr <- array(1:12)\n",
    "dim(myArr) <- c(2,3,2)\n",
    "myArr\n",
    "myArr <- array(1:12,dim = c(4,3,2))\n",
    "#View(myArr)\n",
    "print(myArr)\n",
    "# indexing of arrays\n",
    "myArr[,,2]\n",
    "myArr[,2,2]\n",
    "myArr[1,2,2]\n",
    "myArr[1,2,] <- c(23,45)\n",
    "myArr[1,2,] \n",
    "myArr[1,2,] <- rep(23,2)\n",
    "#data frame\n",
    "# creating data frame\n",
    "df <- data.frame(empno=c(23L,-92L,50L),\n",
    "                 empname=c(\"ramesh\", \"rajesh\", \"suresh\"),\n",
    "                 empsal =c(23000,45000,64000), stringsAsFactors = TRUE \n",
    "                           )\n",
    "df\n",
    "#View(df)\n",
    "class(df)\n",
    "str(df)\n",
    "attributes(df)\n",
    "df[,2]\n",
    "df[1,]\n",
    "head(mtcars)\n",
    "tail(mtcars)\n",
    "dim(mtcars)\n",
    "nrow(mtcars)\n",
    "ncol(mtcars)\n",
    "data()\n",
    "# ?mtcars\n",
    "#View(mtcars)"
   ]
  },
  {
   "cell_type": "code",
   "execution_count": 3,
   "metadata": {
    "run_control": {
     "frozen": false,
     "read_only": false
    }
   },
   "outputs": [],
   "source": [
    "#lists\n",
    "mylist <- list (a = 1:5, b = \"Hi There\", c = function(x) x * sin(x))"
   ]
  },
  {
   "cell_type": "code",
   "execution_count": 2,
   "metadata": {
    "run_control": {
     "frozen": false,
     "read_only": false
    }
   },
   "outputs": [
    {
     "data": {
      "text/html": [
       "<strong>$a</strong> = <ol class=list-inline>\n",
       "\t<li>1</li>\n",
       "\t<li>2</li>\n",
       "\t<li>3</li>\n",
       "\t<li>4</li>\n",
       "\t<li>5</li>\n",
       "</ol>\n"
      ],
      "text/latex": [
       "\\textbf{\\$a} = \\begin{enumerate*}\n",
       "\\item 1\n",
       "\\item 2\n",
       "\\item 3\n",
       "\\item 4\n",
       "\\item 5\n",
       "\\end{enumerate*}\n"
      ],
      "text/markdown": [
       "**$a** = 1. 1\n",
       "2. 2\n",
       "3. 3\n",
       "4. 4\n",
       "5. 5\n",
       "\n",
       "\n"
      ],
      "text/plain": [
       "$a\n",
       "[1] 1 2 3 4 5\n"
      ]
     },
     "metadata": {},
     "output_type": "display_data"
    }
   ],
   "source": [
    "mylist[1]"
   ]
  },
  {
   "cell_type": "code",
   "execution_count": 3,
   "metadata": {
    "run_control": {
     "frozen": false,
     "read_only": false
    }
   },
   "outputs": [
    {
     "ename": "ERROR",
     "evalue": "Error in mylist[1] + 1: non-numeric argument to binary operator\n",
     "output_type": "error",
     "traceback": [
      "Error in mylist[1] + 1: non-numeric argument to binary operator\nTraceback:\n"
     ]
    }
   ],
   "source": [
    "#mylist[1] + 1      # Can we do math on that?"
   ]
  },
  {
   "cell_type": "code",
   "execution_count": 4,
   "metadata": {
    "run_control": {
     "frozen": false,
     "read_only": false
    }
   },
   "outputs": [
    {
     "data": {
      "text/html": [
       "<ol class=list-inline>\n",
       "\t<li>1</li>\n",
       "\t<li>2</li>\n",
       "\t<li>3</li>\n",
       "\t<li>4</li>\n",
       "\t<li>5</li>\n",
       "</ol>\n"
      ],
      "text/latex": [
       "\\begin{enumerate*}\n",
       "\\item 1\n",
       "\\item 2\n",
       "\\item 3\n",
       "\\item 4\n",
       "\\item 5\n",
       "\\end{enumerate*}\n"
      ],
      "text/markdown": [
       "1. 1\n",
       "2. 2\n",
       "3. 3\n",
       "4. 4\n",
       "5. 5\n",
       "\n",
       "\n"
      ],
      "text/plain": [
       "[1] 1 2 3 4 5"
      ]
     },
     "metadata": {},
     "output_type": "display_data"
    }
   ],
   "source": [
    "mylist[[1]]"
   ]
  },
  {
   "cell_type": "code",
   "execution_count": 5,
   "metadata": {
    "run_control": {
     "frozen": false,
     "read_only": false
    }
   },
   "outputs": [
    {
     "data": {
      "text/html": [
       "<ol class=list-inline>\n",
       "\t<li>1</li>\n",
       "\t<li>2</li>\n",
       "\t<li>3</li>\n",
       "\t<li>4</li>\n",
       "\t<li>5</li>\n",
       "</ol>\n"
      ],
      "text/latex": [
       "\\begin{enumerate*}\n",
       "\\item 1\n",
       "\\item 2\n",
       "\\item 3\n",
       "\\item 4\n",
       "\\item 5\n",
       "\\end{enumerate*}\n"
      ],
      "text/markdown": [
       "1. 1\n",
       "2. 2\n",
       "3. 3\n",
       "4. 4\n",
       "5. 5\n",
       "\n",
       "\n"
      ],
      "text/plain": [
       "[1] 1 2 3 4 5"
      ]
     },
     "metadata": {},
     "output_type": "display_data"
    }
   ],
   "source": [
    "mylist$a"
   ]
  },
  {
   "cell_type": "code",
   "execution_count": 6,
   "metadata": {
    "run_control": {
     "frozen": false,
     "read_only": false
    }
   },
   "outputs": [
    {
     "data": {
      "text/html": [
       "<ol class=list-inline>\n",
       "\t<li>2</li>\n",
       "\t<li>3</li>\n",
       "\t<li>4</li>\n",
       "\t<li>5</li>\n",
       "\t<li>6</li>\n",
       "</ol>\n"
      ],
      "text/latex": [
       "\\begin{enumerate*}\n",
       "\\item 2\n",
       "\\item 3\n",
       "\\item 4\n",
       "\\item 5\n",
       "\\item 6\n",
       "\\end{enumerate*}\n"
      ],
      "text/markdown": [
       "1. 2\n",
       "2. 3\n",
       "3. 4\n",
       "4. 5\n",
       "5. 6\n",
       "\n",
       "\n"
      ],
      "text/plain": [
       "[1] 2 3 4 5 6"
      ]
     },
     "metadata": {},
     "output_type": "display_data"
    }
   ],
   "source": [
    "mylist$a + 1      # Can we do math on that?\n",
    "# Answer: yes."
   ]
  },
  {
   "cell_type": "code",
   "execution_count": 7,
   "metadata": {
    "run_control": {
     "frozen": false,
     "read_only": false
    }
   },
   "outputs": [
    {
     "data": {
      "text/html": [
       "2"
      ],
      "text/latex": [
       "2"
      ],
      "text/markdown": [
       "2"
      ],
      "text/plain": [
       "[1] 2"
      ]
     },
     "metadata": {},
     "output_type": "display_data"
    }
   ],
   "source": [
    "mylist$a[2]       # What's the second element of the item named \"a\"?\n",
    "# Answer: 2."
   ]
  },
  {
   "cell_type": "code",
   "execution_count": 8,
   "metadata": {
    "run_control": {
     "frozen": false,
     "read_only": false
    }
   },
   "outputs": [
    {
     "data": {
      "text/html": [
       "<ol class=list-inline>\n",
       "\t<li>1</li>\n",
       "\t<li>3</li>\n",
       "\t<li>4</li>\n",
       "\t<li>5</li>\n",
       "</ol>\n"
      ],
      "text/latex": [
       "\\begin{enumerate*}\n",
       "\\item 1\n",
       "\\item 3\n",
       "\\item 4\n",
       "\\item 5\n",
       "\\end{enumerate*}\n"
      ],
      "text/markdown": [
       "1. 1\n",
       "2. 3\n",
       "3. 4\n",
       "4. 5\n",
       "\n",
       "\n"
      ],
      "text/plain": [
       "[1] 1 3 4 5"
      ]
     },
     "metadata": {},
     "output_type": "display_data"
    }
   ],
   "source": [
    "mylist$a[-2]      # Give me everything from \"a\" except the second element\n",
    "# Remember the negative subscript?"
   ]
  },
  {
   "cell_type": "code",
   "execution_count": null,
   "metadata": {
    "run_control": {
     "frozen": false,
     "read_only": false
    }
   },
   "outputs": [],
   "source": [
    "# Adding items to, and deleting items from, a list"
   ]
  },
  {
   "cell_type": "code",
   "execution_count": 9,
   "metadata": {
    "run_control": {
     "frozen": false,
     "read_only": false
    }
   },
   "outputs": [
    {
     "data": {
      "text/html": [
       "<dl>\n",
       "\t<dt>$a</dt>\n",
       "\t\t<dd><ol class=list-inline>\n",
       "\t<li>1</li>\n",
       "\t<li>2</li>\n",
       "\t<li>3</li>\n",
       "\t<li>4</li>\n",
       "\t<li>5</li>\n",
       "</ol>\n",
       "</dd>\n",
       "\t<dt>$b</dt>\n",
       "\t\t<dd>'Hi There'</dd>\n",
       "\t<dt>$c</dt>\n",
       "\t\t<dd><pre class=language-r><code>function (x) \n",
       "x * sin(x)</code></pre></dd>\n",
       "</dl>\n"
      ],
      "text/latex": [
       "\\begin{description}\n",
       "\\item[\\$a] \\begin{enumerate*}\n",
       "\\item 1\n",
       "\\item 2\n",
       "\\item 3\n",
       "\\item 4\n",
       "\\item 5\n",
       "\\end{enumerate*}\n",
       "\n",
       "\\item[\\$b] 'Hi There'\n",
       "\\item[\\$c] \\begin{minted}{r}\n",
       "function (x) \n",
       "x * sin(x)\n",
       "\\end{minted}\n",
       "\\end{description}\n"
      ],
      "text/markdown": [
       "$a\n",
       ":   1. 1\n",
       "2. 2\n",
       "3. 3\n",
       "4. 4\n",
       "5. 5\n",
       "\n",
       "\n",
       "\n",
       "$b\n",
       ":   'Hi There'\n",
       "$c\n",
       ":   ```r\n",
       "function (x) \n",
       "x * sin(x)\n",
       "```\n",
       "\n",
       "\n"
      ],
      "text/plain": [
       "$a\n",
       "[1] 1 2 3 4 5\n",
       "\n",
       "$b\n",
       "[1] \"Hi There\"\n",
       "\n",
       "$c\n",
       "function (x) \n",
       "x * sin(x)\n"
      ]
     },
     "metadata": {},
     "output_type": "display_data"
    }
   ],
   "source": [
    "mylist                     # Here's what mylist looks like right now"
   ]
  },
  {
   "cell_type": "code",
   "execution_count": 10,
   "metadata": {
    "run_control": {
     "frozen": false,
     "read_only": false
    }
   },
   "outputs": [],
   "source": [
    "mylist$d <- \"New item\"     # Add a new item and print out the list"
   ]
  },
  {
   "cell_type": "code",
   "execution_count": 11,
   "metadata": {
    "run_control": {
     "frozen": false,
     "read_only": false
    }
   },
   "outputs": [
    {
     "data": {
      "text/html": [
       "<dl>\n",
       "\t<dt>$a</dt>\n",
       "\t\t<dd><ol class=list-inline>\n",
       "\t<li>1</li>\n",
       "\t<li>2</li>\n",
       "\t<li>3</li>\n",
       "\t<li>4</li>\n",
       "\t<li>5</li>\n",
       "</ol>\n",
       "</dd>\n",
       "\t<dt>$b</dt>\n",
       "\t\t<dd>'Hi There'</dd>\n",
       "\t<dt>$c</dt>\n",
       "\t\t<dd><pre class=language-r><code>function (x) \n",
       "x * sin(x)</code></pre></dd>\n",
       "\t<dt>$d</dt>\n",
       "\t\t<dd>'New item'</dd>\n",
       "</dl>\n"
      ],
      "text/latex": [
       "\\begin{description}\n",
       "\\item[\\$a] \\begin{enumerate*}\n",
       "\\item 1\n",
       "\\item 2\n",
       "\\item 3\n",
       "\\item 4\n",
       "\\item 5\n",
       "\\end{enumerate*}\n",
       "\n",
       "\\item[\\$b] 'Hi There'\n",
       "\\item[\\$c] \\begin{minted}{r}\n",
       "function (x) \n",
       "x * sin(x)\n",
       "\\end{minted}\n",
       "\\item[\\$d] 'New item'\n",
       "\\end{description}\n"
      ],
      "text/markdown": [
       "$a\n",
       ":   1. 1\n",
       "2. 2\n",
       "3. 3\n",
       "4. 4\n",
       "5. 5\n",
       "\n",
       "\n",
       "\n",
       "$b\n",
       ":   'Hi There'\n",
       "$c\n",
       ":   ```r\n",
       "function (x) \n",
       "x * sin(x)\n",
       "```\n",
       "$d\n",
       ":   'New item'\n",
       "\n",
       "\n"
      ],
      "text/plain": [
       "$a\n",
       "[1] 1 2 3 4 5\n",
       "\n",
       "$b\n",
       "[1] \"Hi There\"\n",
       "\n",
       "$c\n",
       "function (x) \n",
       "x * sin(x)\n",
       "\n",
       "$d\n",
       "[1] \"New item\"\n"
      ]
     },
     "metadata": {},
     "output_type": "display_data"
    }
   ],
   "source": [
    "mylist                     # We could have assigned to mylist[[4]]; then that\n",
    "length(mylist)             # The length of a list is the number of elements"
   ]
  },
  {
   "cell_type": "code",
   "execution_count": 13,
   "metadata": {
    "run_control": {
     "frozen": false,
     "read_only": false
    }
   },
   "outputs": [],
   "source": [
    "mylist$b <- NULL           # Delete item b and print out the list"
   ]
  },
  {
   "cell_type": "code",
   "execution_count": 2,
   "metadata": {
    "run_control": {
     "frozen": false,
     "read_only": false
    }
   },
   "outputs": [
    {
     "data": {
      "text/html": [
       "<dl>\n",
       "\t<dt>$a</dt>\n",
       "\t\t<dd><ol class=list-inline>\n",
       "\t<li>1</li>\n",
       "\t<li>2</li>\n",
       "\t<li>3</li>\n",
       "\t<li>4</li>\n",
       "\t<li>5</li>\n",
       "</ol>\n",
       "</dd>\n",
       "\t<dt>$b</dt>\n",
       "\t\t<dd>'Hi There'</dd>\n",
       "\t<dt>$c</dt>\n",
       "\t\t<dd><pre class=language-r><code>function (x) \n",
       "x * sin(x)</code></pre></dd>\n",
       "</dl>\n"
      ],
      "text/latex": [
       "\\begin{description}\n",
       "\\item[\\$a] \\begin{enumerate*}\n",
       "\\item 1\n",
       "\\item 2\n",
       "\\item 3\n",
       "\\item 4\n",
       "\\item 5\n",
       "\\end{enumerate*}\n",
       "\n",
       "\\item[\\$b] 'Hi There'\n",
       "\\item[\\$c] \\begin{minted}{r}\n",
       "function (x) \n",
       "x * sin(x)\n",
       "\\end{minted}\n",
       "\\end{description}\n"
      ],
      "text/markdown": [
       "$a\n",
       ":   1. 1\n",
       "2. 2\n",
       "3. 3\n",
       "4. 4\n",
       "5. 5\n",
       "\n",
       "\n",
       "\n",
       "$b\n",
       ":   'Hi There'\n",
       "$c\n",
       ":   ```r\n",
       "function (x) \n",
       "x * sin(x)\n",
       "```\n",
       "\n",
       "\n"
      ],
      "text/plain": [
       "$a\n",
       "[1] 1 2 3 4 5\n",
       "\n",
       "$b\n",
       "[1] \"Hi There\"\n",
       "\n",
       "$c\n",
       "function (x) \n",
       "x * sin(x)\n"
      ]
     },
     "metadata": {},
     "output_type": "display_data"
    }
   ],
   "source": [
    "mylist"
   ]
  },
  {
   "cell_type": "code",
   "execution_count": 3,
   "metadata": {
    "run_control": {
     "frozen": false,
     "read_only": false
    }
   },
   "outputs": [
    {
     "name": "stdout",
     "output_type": "stream",
     "text": [
      "$a\n",
      "[1] 1 2 3 4 5\n",
      "\n",
      "$b\n",
      "[1] \"Hi There\"\n",
      "\n",
      "$c\n",
      "function (x) \n",
      "x * sin(x)\n",
      "\n"
     ]
    }
   ],
   "source": [
    "print(mylist)"
   ]
  },
  {
   "cell_type": "code",
   "execution_count": 2,
   "metadata": {},
   "outputs": [
    {
     "name": "stdout",
     "output_type": "stream",
     "text": [
      "[1] \"Hi There\"\n"
     ]
    }
   ],
   "source": [
    "print(mylist[[2]])"
   ]
  },
  {
   "cell_type": "code",
   "execution_count": 5,
   "metadata": {},
   "outputs": [
    {
     "name": "stdout",
     "output_type": "stream",
     "text": [
      "function(x) x * sin(x)\n"
     ]
    }
   ],
   "source": [
    "print(mylist[[c(3)]])"
   ]
  },
  {
   "cell_type": "code",
   "execution_count": 7,
   "metadata": {},
   "outputs": [
    {
     "name": "stdout",
     "output_type": "stream",
     "text": [
      "[1] 3\n"
     ]
    }
   ],
   "source": [
    "print(mylist[[c(1,3)]])"
   ]
  },
  {
   "cell_type": "code",
   "execution_count": 8,
   "metadata": {},
   "outputs": [
    {
     "name": "stdout",
     "output_type": "stream",
     "text": [
      "$a\n",
      "[1] 1 2 3 4 5\n",
      "\n",
      "$c\n",
      "function (x) \n",
      "x * sin(x)\n",
      "\n"
     ]
    }
   ],
   "source": [
    "print(mylist[c(1,3)])"
   ]
  },
  {
   "cell_type": "code",
   "execution_count": 1,
   "metadata": {},
   "outputs": [],
   "source": [
    "mtcarsN <- read.csv(\"data/mtcars.csv\")"
   ]
  },
  {
   "cell_type": "code",
   "execution_count": 2,
   "metadata": {
    "scrolled": true
   },
   "outputs": [
    {
     "data": {
      "text/html": [
       "<table>\n",
       "<thead><tr><th scope=col>X</th><th scope=col>mpg</th><th scope=col>cyl</th><th scope=col>disp</th><th scope=col>hp</th><th scope=col>drat</th><th scope=col>wt</th><th scope=col>qsec</th><th scope=col>vs</th><th scope=col>am</th><th scope=col>gear</th><th scope=col>carb</th></tr></thead>\n",
       "<tbody>\n",
       "\t<tr><td>Mazda RX4        </td><td>21.0             </td><td>6                </td><td>160              </td><td>110              </td><td>3.90             </td><td>2.620            </td><td>16.46            </td><td>0                </td><td>1                </td><td>4                </td><td>4                </td></tr>\n",
       "\t<tr><td>Mazda RX4 Wag    </td><td>21.0             </td><td>6                </td><td>160              </td><td>110              </td><td>3.90             </td><td>2.875            </td><td>17.02            </td><td>0                </td><td>1                </td><td>4                </td><td>4                </td></tr>\n",
       "\t<tr><td>Datsun 710       </td><td>22.8             </td><td>4                </td><td>108              </td><td> 93              </td><td>3.85             </td><td>2.320            </td><td>18.61            </td><td>1                </td><td>1                </td><td>4                </td><td>1                </td></tr>\n",
       "\t<tr><td>Hornet 4 Drive   </td><td>21.4             </td><td>6                </td><td>258              </td><td>110              </td><td>3.08             </td><td>3.215            </td><td>19.44            </td><td>1                </td><td>0                </td><td>3                </td><td>1                </td></tr>\n",
       "\t<tr><td>Hornet Sportabout</td><td>18.7             </td><td>8                </td><td>360              </td><td>175              </td><td>3.15             </td><td>3.440            </td><td>17.02            </td><td>0                </td><td>0                </td><td>3                </td><td>2                </td></tr>\n",
       "\t<tr><td>Valiant          </td><td>18.1             </td><td>6                </td><td>225              </td><td>105              </td><td>2.76             </td><td>3.460            </td><td>20.22            </td><td>1                </td><td>0                </td><td>3                </td><td>1                </td></tr>\n",
       "</tbody>\n",
       "</table>\n"
      ],
      "text/latex": [
       "\\begin{tabular}{r|llllllllllll}\n",
       " X & mpg & cyl & disp & hp & drat & wt & qsec & vs & am & gear & carb\\\\\n",
       "\\hline\n",
       "\t Mazda RX4         & 21.0              & 6                 & 160               & 110               & 3.90              & 2.620             & 16.46             & 0                 & 1                 & 4                 & 4                \\\\\n",
       "\t Mazda RX4 Wag     & 21.0              & 6                 & 160               & 110               & 3.90              & 2.875             & 17.02             & 0                 & 1                 & 4                 & 4                \\\\\n",
       "\t Datsun 710        & 22.8              & 4                 & 108               &  93               & 3.85              & 2.320             & 18.61             & 1                 & 1                 & 4                 & 1                \\\\\n",
       "\t Hornet 4 Drive    & 21.4              & 6                 & 258               & 110               & 3.08              & 3.215             & 19.44             & 1                 & 0                 & 3                 & 1                \\\\\n",
       "\t Hornet Sportabout & 18.7              & 8                 & 360               & 175               & 3.15              & 3.440             & 17.02             & 0                 & 0                 & 3                 & 2                \\\\\n",
       "\t Valiant           & 18.1              & 6                 & 225               & 105               & 2.76              & 3.460             & 20.22             & 1                 & 0                 & 3                 & 1                \\\\\n",
       "\\end{tabular}\n"
      ],
      "text/markdown": [
       "\n",
       "X | mpg | cyl | disp | hp | drat | wt | qsec | vs | am | gear | carb | \n",
       "|---|---|---|---|---|---|\n",
       "| Mazda RX4         | 21.0              | 6                 | 160               | 110               | 3.90              | 2.620             | 16.46             | 0                 | 1                 | 4                 | 4                 | \n",
       "| Mazda RX4 Wag     | 21.0              | 6                 | 160               | 110               | 3.90              | 2.875             | 17.02             | 0                 | 1                 | 4                 | 4                 | \n",
       "| Datsun 710        | 22.8              | 4                 | 108               |  93               | 3.85              | 2.320             | 18.61             | 1                 | 1                 | 4                 | 1                 | \n",
       "| Hornet 4 Drive    | 21.4              | 6                 | 258               | 110               | 3.08              | 3.215             | 19.44             | 1                 | 0                 | 3                 | 1                 | \n",
       "| Hornet Sportabout | 18.7              | 8                 | 360               | 175               | 3.15              | 3.440             | 17.02             | 0                 | 0                 | 3                 | 2                 | \n",
       "| Valiant           | 18.1              | 6                 | 225               | 105               | 2.76              | 3.460             | 20.22             | 1                 | 0                 | 3                 | 1                 | \n",
       "\n",
       "\n"
      ],
      "text/plain": [
       "  X                 mpg  cyl disp hp  drat wt    qsec  vs am gear carb\n",
       "1 Mazda RX4         21.0 6   160  110 3.90 2.620 16.46 0  1  4    4   \n",
       "2 Mazda RX4 Wag     21.0 6   160  110 3.90 2.875 17.02 0  1  4    4   \n",
       "3 Datsun 710        22.8 4   108   93 3.85 2.320 18.61 1  1  4    1   \n",
       "4 Hornet 4 Drive    21.4 6   258  110 3.08 3.215 19.44 1  0  3    1   \n",
       "5 Hornet Sportabout 18.7 8   360  175 3.15 3.440 17.02 0  0  3    2   \n",
       "6 Valiant           18.1 6   225  105 2.76 3.460 20.22 1  0  3    1   "
      ]
     },
     "metadata": {},
     "output_type": "display_data"
    }
   ],
   "source": [
    "head(mtcarsN)"
   ]
  },
  {
   "cell_type": "code",
   "execution_count": 6,
   "metadata": {},
   "outputs": [
    {
     "data": {
      "text/html": [
       "'/home/nbuser/library/1-DataTypesAndDataStructures'"
      ],
      "text/latex": [
       "'/home/nbuser/library/1-DataTypesAndDataStructures'"
      ],
      "text/markdown": [
       "'/home/nbuser/library/1-DataTypesAndDataStructures'"
      ],
      "text/plain": [
       "[1] \"/home/nbuser/library/1-DataTypesAndDataStructures\""
      ]
     },
     "metadata": {},
     "output_type": "display_data"
    },
    {
     "name": "stdout",
     "output_type": "stream",
     "text": [
      "[1] \"welcome to data science course\"\n",
      "[1] 123\n"
     ]
    },
    {
     "data": {
      "text/html": [
       "35"
      ],
      "text/latex": [
       "35"
      ],
      "text/markdown": [
       "35"
      ],
      "text/plain": [
       "[1] 35"
      ]
     },
     "metadata": {},
     "output_type": "display_data"
    },
    {
     "data": {
      "text/html": [
       "56"
      ],
      "text/latex": [
       "56"
      ],
      "text/markdown": [
       "56"
      ],
      "text/plain": [
       "[1] 56"
      ]
     },
     "metadata": {},
     "output_type": "display_data"
    },
    {
     "name": "stdout",
     "output_type": "stream",
     "text": [
      " [1]  1  2  3  4  5  6  7  8  9 10 11 12 13 14 15 16 17 18 19 20 21 22 23 24 25\n",
      "[26] 26 27 28 29 30 31 32 33 34 35 36 37 38 39 40 41 42 43 44 45 46 47 48 49 50\n"
     ]
    },
    {
     "data": {
      "text/html": [
       "<ol class=list-inline>\n",
       "\t<li>50</li>\n",
       "\t<li>51</li>\n",
       "\t<li>52</li>\n",
       "\t<li>53</li>\n",
       "\t<li>54</li>\n",
       "\t<li>55</li>\n",
       "\t<li>56</li>\n",
       "\t<li>57</li>\n",
       "\t<li>58</li>\n",
       "\t<li>59</li>\n",
       "\t<li>60</li>\n",
       "\t<li>61</li>\n",
       "\t<li>62</li>\n",
       "\t<li>63</li>\n",
       "\t<li>64</li>\n",
       "\t<li>65</li>\n",
       "\t<li>66</li>\n",
       "\t<li>67</li>\n",
       "\t<li>68</li>\n",
       "\t<li>69</li>\n",
       "\t<li>70</li>\n",
       "\t<li>71</li>\n",
       "\t<li>72</li>\n",
       "\t<li>73</li>\n",
       "\t<li>74</li>\n",
       "\t<li>75</li>\n",
       "\t<li>76</li>\n",
       "\t<li>77</li>\n",
       "\t<li>78</li>\n",
       "\t<li>79</li>\n",
       "\t<li>80</li>\n",
       "\t<li>81</li>\n",
       "\t<li>82</li>\n",
       "\t<li>83</li>\n",
       "\t<li>84</li>\n",
       "\t<li>85</li>\n",
       "\t<li>86</li>\n",
       "\t<li>87</li>\n",
       "\t<li>88</li>\n",
       "\t<li>89</li>\n",
       "\t<li>90</li>\n",
       "\t<li>91</li>\n",
       "\t<li>92</li>\n",
       "\t<li>93</li>\n",
       "\t<li>94</li>\n",
       "\t<li>95</li>\n",
       "\t<li>96</li>\n",
       "\t<li>97</li>\n",
       "\t<li>98</li>\n",
       "\t<li>99</li>\n",
       "\t<li>100</li>\n",
       "</ol>\n"
      ],
      "text/latex": [
       "\\begin{enumerate*}\n",
       "\\item 50\n",
       "\\item 51\n",
       "\\item 52\n",
       "\\item 53\n",
       "\\item 54\n",
       "\\item 55\n",
       "\\item 56\n",
       "\\item 57\n",
       "\\item 58\n",
       "\\item 59\n",
       "\\item 60\n",
       "\\item 61\n",
       "\\item 62\n",
       "\\item 63\n",
       "\\item 64\n",
       "\\item 65\n",
       "\\item 66\n",
       "\\item 67\n",
       "\\item 68\n",
       "\\item 69\n",
       "\\item 70\n",
       "\\item 71\n",
       "\\item 72\n",
       "\\item 73\n",
       "\\item 74\n",
       "\\item 75\n",
       "\\item 76\n",
       "\\item 77\n",
       "\\item 78\n",
       "\\item 79\n",
       "\\item 80\n",
       "\\item 81\n",
       "\\item 82\n",
       "\\item 83\n",
       "\\item 84\n",
       "\\item 85\n",
       "\\item 86\n",
       "\\item 87\n",
       "\\item 88\n",
       "\\item 89\n",
       "\\item 90\n",
       "\\item 91\n",
       "\\item 92\n",
       "\\item 93\n",
       "\\item 94\n",
       "\\item 95\n",
       "\\item 96\n",
       "\\item 97\n",
       "\\item 98\n",
       "\\item 99\n",
       "\\item 100\n",
       "\\end{enumerate*}\n"
      ],
      "text/markdown": [
       "1. 50\n",
       "2. 51\n",
       "3. 52\n",
       "4. 53\n",
       "5. 54\n",
       "6. 55\n",
       "7. 56\n",
       "8. 57\n",
       "9. 58\n",
       "10. 59\n",
       "11. 60\n",
       "12. 61\n",
       "13. 62\n",
       "14. 63\n",
       "15. 64\n",
       "16. 65\n",
       "17. 66\n",
       "18. 67\n",
       "19. 68\n",
       "20. 69\n",
       "21. 70\n",
       "22. 71\n",
       "23. 72\n",
       "24. 73\n",
       "25. 74\n",
       "26. 75\n",
       "27. 76\n",
       "28. 77\n",
       "29. 78\n",
       "30. 79\n",
       "31. 80\n",
       "32. 81\n",
       "33. 82\n",
       "34. 83\n",
       "35. 84\n",
       "36. 85\n",
       "37. 86\n",
       "38. 87\n",
       "39. 88\n",
       "40. 89\n",
       "41. 90\n",
       "42. 91\n",
       "43. 92\n",
       "44. 93\n",
       "45. 94\n",
       "46. 95\n",
       "47. 96\n",
       "48. 97\n",
       "49. 98\n",
       "50. 99\n",
       "51. 100\n",
       "\n",
       "\n"
      ],
      "text/plain": [
       " [1]  50  51  52  53  54  55  56  57  58  59  60  61  62  63  64  65  66  67  68\n",
       "[20]  69  70  71  72  73  74  75  76  77  78  79  80  81  82  83  84  85  86  87\n",
       "[39]  88  89  90  91  92  93  94  95  96  97  98  99 100"
      ]
     },
     "metadata": {},
     "output_type": "display_data"
    },
    {
     "data": {
      "text/html": [
       "76"
      ],
      "text/latex": [
       "76"
      ],
      "text/markdown": [
       "76"
      ],
      "text/plain": [
       "[1] 76"
      ]
     },
     "metadata": {},
     "output_type": "display_data"
    },
    {
     "data": {
      "text/html": [
       "27"
      ],
      "text/latex": [
       "27"
      ],
      "text/markdown": [
       "27"
      ],
      "text/plain": [
       "[1] 27"
      ]
     },
     "metadata": {},
     "output_type": "display_data"
    },
    {
     "data": {
      "text/html": [
       "5"
      ],
      "text/latex": [
       "5"
      ],
      "text/markdown": [
       "5"
      ],
      "text/plain": [
       "[1] 5"
      ]
     },
     "metadata": {},
     "output_type": "display_data"
    },
    {
     "data": {
      "text/html": [
       "'numeric'"
      ],
      "text/latex": [
       "'numeric'"
      ],
      "text/markdown": [
       "'numeric'"
      ],
      "text/plain": [
       "[1] \"numeric\""
      ]
     },
     "metadata": {},
     "output_type": "display_data"
    },
    {
     "data": {
      "text/html": [
       "'character'"
      ],
      "text/latex": [
       "'character'"
      ],
      "text/markdown": [
       "'character'"
      ],
      "text/plain": [
       "[1] \"character\""
      ]
     },
     "metadata": {},
     "output_type": "display_data"
    },
    {
     "name": "stdout",
     "output_type": "stream",
     "text": [
      "[1] \"hello world\"\n"
     ]
    },
    {
     "data": {
      "text/html": [
       "'numeric'"
      ],
      "text/latex": [
       "'numeric'"
      ],
      "text/markdown": [
       "'numeric'"
      ],
      "text/plain": [
       "[1] \"numeric\""
      ]
     },
     "metadata": {},
     "output_type": "display_data"
    },
    {
     "data": {
      "text/html": [
       "'complex'"
      ],
      "text/latex": [
       "'complex'"
      ],
      "text/markdown": [
       "'complex'"
      ],
      "text/plain": [
       "[1] \"complex\""
      ]
     },
     "metadata": {},
     "output_type": "display_data"
    },
    {
     "data": {
      "text/html": [
       "'logical'"
      ],
      "text/latex": [
       "'logical'"
      ],
      "text/markdown": [
       "'logical'"
      ],
      "text/plain": [
       "[1] \"logical\""
      ]
     },
     "metadata": {},
     "output_type": "display_data"
    },
    {
     "data": {
      "text/html": [
       "2"
      ],
      "text/latex": [
       "2"
      ],
      "text/markdown": [
       "2"
      ],
      "text/plain": [
       "[1] 2"
      ]
     },
     "metadata": {},
     "output_type": "display_data"
    },
    {
     "data": {
      "text/html": [
       "'numeric'"
      ],
      "text/latex": [
       "'numeric'"
      ],
      "text/markdown": [
       "'numeric'"
      ],
      "text/plain": [
       "[1] \"numeric\""
      ]
     },
     "metadata": {},
     "output_type": "display_data"
    },
    {
     "data": {
      "text/html": [
       "TRUE"
      ],
      "text/latex": [
       "TRUE"
      ],
      "text/markdown": [
       "TRUE"
      ],
      "text/plain": [
       "[1] TRUE"
      ]
     },
     "metadata": {},
     "output_type": "display_data"
    },
    {
     "data": {
      "text/html": [
       "FALSE"
      ],
      "text/latex": [
       "FALSE"
      ],
      "text/markdown": [
       "FALSE"
      ],
      "text/plain": [
       "[1] FALSE"
      ]
     },
     "metadata": {},
     "output_type": "display_data"
    },
    {
     "data": {
      "text/html": [
       "2"
      ],
      "text/latex": [
       "2"
      ],
      "text/markdown": [
       "2"
      ],
      "text/plain": [
       "[1] 2"
      ]
     },
     "metadata": {},
     "output_type": "display_data"
    },
    {
     "data": {
      "text/html": [
       "'logical'"
      ],
      "text/latex": [
       "'logical'"
      ],
      "text/markdown": [
       "'logical'"
      ],
      "text/plain": [
       "[1] \"logical\""
      ]
     },
     "metadata": {},
     "output_type": "display_data"
    },
    {
     "data": {
      "text/html": [
       "<ol class=list-inline>\n",
       "\t<li>1+2i</li>\n",
       "\t<li>7+8i</li>\n",
       "\t<li>-9-45i</li>\n",
       "\t<li>-3+23i</li>\n",
       "</ol>\n"
      ],
      "text/latex": [
       "\\begin{enumerate*}\n",
       "\\item 1+2i\n",
       "\\item 7+8i\n",
       "\\item -9-45i\n",
       "\\item -3+23i\n",
       "\\end{enumerate*}\n"
      ],
      "text/markdown": [
       "1. 1+2i\n",
       "2. 7+8i\n",
       "3. -9-45i\n",
       "4. -3+23i\n",
       "\n",
       "\n"
      ],
      "text/plain": [
       "[1]  1+ 2i  7+ 8i -9-45i -3+23i"
      ]
     },
     "metadata": {},
     "output_type": "display_data"
    },
    {
     "data": {
      "text/html": [
       "<ol class=list-inline>\n",
       "\t<li>1+2i</li>\n",
       "\t<li>-9-45i</li>\n",
       "\t<li>-3+23i</li>\n",
       "</ol>\n"
      ],
      "text/latex": [
       "\\begin{enumerate*}\n",
       "\\item 1+2i\n",
       "\\item -9-45i\n",
       "\\item -3+23i\n",
       "\\end{enumerate*}\n"
      ],
      "text/markdown": [
       "1. 1+2i\n",
       "2. -9-45i\n",
       "3. -3+23i\n",
       "\n",
       "\n"
      ],
      "text/plain": [
       "[1]  1+ 2i -9-45i -3+23i"
      ]
     },
     "metadata": {},
     "output_type": "display_data"
    },
    {
     "data": {
      "text/html": [
       "<ol class=list-inline>\n",
       "\t<li>1+2i</li>\n",
       "\t<li>-9-45i</li>\n",
       "\t<li>-3+23i</li>\n",
       "</ol>\n"
      ],
      "text/latex": [
       "\\begin{enumerate*}\n",
       "\\item 1+2i\n",
       "\\item -9-45i\n",
       "\\item -3+23i\n",
       "\\end{enumerate*}\n"
      ],
      "text/markdown": [
       "1. 1+2i\n",
       "2. -9-45i\n",
       "3. -3+23i\n",
       "\n",
       "\n"
      ],
      "text/plain": [
       "[1]  1+ 2i -9-45i -3+23i"
      ]
     },
     "metadata": {},
     "output_type": "display_data"
    },
    {
     "data": {
      "text/html": [
       "<ol class=list-inline>\n",
       "\t<li>1+2i</li>\n",
       "\t<li>-9-45i</li>\n",
       "\t<li>-3+23i</li>\n",
       "</ol>\n"
      ],
      "text/latex": [
       "\\begin{enumerate*}\n",
       "\\item 1+2i\n",
       "\\item -9-45i\n",
       "\\item -3+23i\n",
       "\\end{enumerate*}\n"
      ],
      "text/markdown": [
       "1. 1+2i\n",
       "2. -9-45i\n",
       "3. -3+23i\n",
       "\n",
       "\n"
      ],
      "text/plain": [
       "[1]  1+ 2i -9-45i -3+23i"
      ]
     },
     "metadata": {},
     "output_type": "display_data"
    },
    {
     "data": {
      "text/html": [
       "<ol class=list-inline>\n",
       "\t<li>1+2i</li>\n",
       "\t<li>-9-45i</li>\n",
       "</ol>\n"
      ],
      "text/latex": [
       "\\begin{enumerate*}\n",
       "\\item 1+2i\n",
       "\\item -9-45i\n",
       "\\end{enumerate*}\n"
      ],
      "text/markdown": [
       "1. 1+2i\n",
       "2. -9-45i\n",
       "\n",
       "\n"
      ],
      "text/plain": [
       "[1]  1+ 2i -9-45i"
      ]
     },
     "metadata": {},
     "output_type": "display_data"
    },
    {
     "data": {
      "text/html": [
       "<ol class=list-inline>\n",
       "\t<li>69</li>\n",
       "\t<li>70</li>\n",
       "\t<li>71</li>\n",
       "\t<li>72</li>\n",
       "\t<li>73</li>\n",
       "\t<li>74</li>\n",
       "\t<li>75</li>\n",
       "\t<li>76</li>\n",
       "\t<li>77</li>\n",
       "\t<li>78</li>\n",
       "\t<li>79</li>\n",
       "\t<li>80</li>\n",
       "\t<li>81</li>\n",
       "\t<li>82</li>\n",
       "\t<li>83</li>\n",
       "\t<li>84</li>\n",
       "\t<li>85</li>\n",
       "\t<li>86</li>\n",
       "\t<li>87</li>\n",
       "</ol>\n"
      ],
      "text/latex": [
       "\\begin{enumerate*}\n",
       "\\item 69\n",
       "\\item 70\n",
       "\\item 71\n",
       "\\item 72\n",
       "\\item 73\n",
       "\\item 74\n",
       "\\item 75\n",
       "\\item 76\n",
       "\\item 77\n",
       "\\item 78\n",
       "\\item 79\n",
       "\\item 80\n",
       "\\item 81\n",
       "\\item 82\n",
       "\\item 83\n",
       "\\item 84\n",
       "\\item 85\n",
       "\\item 86\n",
       "\\item 87\n",
       "\\end{enumerate*}\n"
      ],
      "text/markdown": [
       "1. 69\n",
       "2. 70\n",
       "3. 71\n",
       "4. 72\n",
       "5. 73\n",
       "6. 74\n",
       "7. 75\n",
       "8. 76\n",
       "9. 77\n",
       "10. 78\n",
       "11. 79\n",
       "12. 80\n",
       "13. 81\n",
       "14. 82\n",
       "15. 83\n",
       "16. 84\n",
       "17. 85\n",
       "18. 86\n",
       "19. 87\n",
       "\n",
       "\n"
      ],
      "text/plain": [
       " [1] 69 70 71 72 73 74 75 76 77 78 79 80 81 82 83 84 85 86 87"
      ]
     },
     "metadata": {},
     "output_type": "display_data"
    },
    {
     "data": {
      "text/html": [
       "<ol class=list-inline>\n",
       "\t<li>50</li>\n",
       "\t<li>51</li>\n",
       "\t<li>52</li>\n",
       "\t<li>53</li>\n",
       "\t<li>54</li>\n",
       "\t<li>55</li>\n",
       "\t<li>56</li>\n",
       "\t<li>57</li>\n",
       "\t<li>58</li>\n",
       "\t<li>59</li>\n",
       "\t<li>60</li>\n",
       "\t<li>61</li>\n",
       "\t<li>62</li>\n",
       "\t<li>63</li>\n",
       "\t<li>64</li>\n",
       "\t<li>65</li>\n",
       "\t<li>66</li>\n",
       "\t<li>67</li>\n",
       "\t<li>68</li>\n",
       "\t<li>88</li>\n",
       "\t<li>89</li>\n",
       "\t<li>90</li>\n",
       "\t<li>91</li>\n",
       "\t<li>92</li>\n",
       "\t<li>93</li>\n",
       "\t<li>94</li>\n",
       "\t<li>95</li>\n",
       "\t<li>96</li>\n",
       "\t<li>97</li>\n",
       "\t<li>98</li>\n",
       "\t<li>99</li>\n",
       "\t<li>100</li>\n",
       "</ol>\n"
      ],
      "text/latex": [
       "\\begin{enumerate*}\n",
       "\\item 50\n",
       "\\item 51\n",
       "\\item 52\n",
       "\\item 53\n",
       "\\item 54\n",
       "\\item 55\n",
       "\\item 56\n",
       "\\item 57\n",
       "\\item 58\n",
       "\\item 59\n",
       "\\item 60\n",
       "\\item 61\n",
       "\\item 62\n",
       "\\item 63\n",
       "\\item 64\n",
       "\\item 65\n",
       "\\item 66\n",
       "\\item 67\n",
       "\\item 68\n",
       "\\item 88\n",
       "\\item 89\n",
       "\\item 90\n",
       "\\item 91\n",
       "\\item 92\n",
       "\\item 93\n",
       "\\item 94\n",
       "\\item 95\n",
       "\\item 96\n",
       "\\item 97\n",
       "\\item 98\n",
       "\\item 99\n",
       "\\item 100\n",
       "\\end{enumerate*}\n"
      ],
      "text/markdown": [
       "1. 50\n",
       "2. 51\n",
       "3. 52\n",
       "4. 53\n",
       "5. 54\n",
       "6. 55\n",
       "7. 56\n",
       "8. 57\n",
       "9. 58\n",
       "10. 59\n",
       "11. 60\n",
       "12. 61\n",
       "13. 62\n",
       "14. 63\n",
       "15. 64\n",
       "16. 65\n",
       "17. 66\n",
       "18. 67\n",
       "19. 68\n",
       "20. 88\n",
       "21. 89\n",
       "22. 90\n",
       "23. 91\n",
       "24. 92\n",
       "25. 93\n",
       "26. 94\n",
       "27. 95\n",
       "28. 96\n",
       "29. 97\n",
       "30. 98\n",
       "31. 99\n",
       "32. 100\n",
       "\n",
       "\n"
      ],
      "text/plain": [
       " [1]  50  51  52  53  54  55  56  57  58  59  60  61  62  63  64  65  66  67  68\n",
       "[20]  88  89  90  91  92  93  94  95  96  97  98  99 100"
      ]
     },
     "metadata": {},
     "output_type": "display_data"
    },
    {
     "data": {
      "text/html": [
       "<ol class=list-inline>\n",
       "\t<li>-9</li>\n",
       "\t<li>-8</li>\n",
       "\t<li>-7</li>\n",
       "\t<li>-6</li>\n",
       "\t<li>-5</li>\n",
       "\t<li>-4</li>\n",
       "\t<li>-3</li>\n",
       "\t<li>-2</li>\n",
       "\t<li>-1</li>\n",
       "</ol>\n"
      ],
      "text/latex": [
       "\\begin{enumerate*}\n",
       "\\item -9\n",
       "\\item -8\n",
       "\\item -7\n",
       "\\item -6\n",
       "\\item -5\n",
       "\\item -4\n",
       "\\item -3\n",
       "\\item -2\n",
       "\\item -1\n",
       "\\end{enumerate*}\n"
      ],
      "text/markdown": [
       "1. -9\n",
       "2. -8\n",
       "3. -7\n",
       "4. -6\n",
       "5. -5\n",
       "6. -4\n",
       "7. -3\n",
       "8. -2\n",
       "9. -1\n",
       "\n",
       "\n"
      ],
      "text/plain": [
       "[1] -9 -8 -7 -6 -5 -4 -3 -2 -1"
      ]
     },
     "metadata": {},
     "output_type": "display_data"
    },
    {
     "data": {
      "text/html": [
       "3.14159265358979"
      ],
      "text/latex": [
       "3.14159265358979"
      ],
      "text/markdown": [
       "3.14159265358979"
      ],
      "text/plain": [
       "[1] 3.141593"
      ]
     },
     "metadata": {},
     "output_type": "display_data"
    },
    {
     "data": {
      "text/html": [
       "'numeric'"
      ],
      "text/latex": [
       "'numeric'"
      ],
      "text/markdown": [
       "'numeric'"
      ],
      "text/plain": [
       "[1] \"numeric\""
      ]
     },
     "metadata": {},
     "output_type": "display_data"
    },
    {
     "data": {
      "text/html": [
       "<ol class=list-inline>\n",
       "\t<li>'a'</li>\n",
       "\t<li>'b'</li>\n",
       "\t<li>'c'</li>\n",
       "\t<li>'d'</li>\n",
       "\t<li>'e'</li>\n",
       "\t<li>'f'</li>\n",
       "\t<li>'g'</li>\n",
       "\t<li>'h'</li>\n",
       "\t<li>'i'</li>\n",
       "\t<li>'j'</li>\n",
       "\t<li>'k'</li>\n",
       "\t<li>'l'</li>\n",
       "\t<li>'m'</li>\n",
       "\t<li>'n'</li>\n",
       "\t<li>'o'</li>\n",
       "\t<li>'p'</li>\n",
       "\t<li>'q'</li>\n",
       "\t<li>'r'</li>\n",
       "\t<li>'s'</li>\n",
       "\t<li>'t'</li>\n",
       "\t<li>'u'</li>\n",
       "\t<li>'v'</li>\n",
       "\t<li>'w'</li>\n",
       "\t<li>'x'</li>\n",
       "\t<li>'y'</li>\n",
       "\t<li>'z'</li>\n",
       "</ol>\n"
      ],
      "text/latex": [
       "\\begin{enumerate*}\n",
       "\\item 'a'\n",
       "\\item 'b'\n",
       "\\item 'c'\n",
       "\\item 'd'\n",
       "\\item 'e'\n",
       "\\item 'f'\n",
       "\\item 'g'\n",
       "\\item 'h'\n",
       "\\item 'i'\n",
       "\\item 'j'\n",
       "\\item 'k'\n",
       "\\item 'l'\n",
       "\\item 'm'\n",
       "\\item 'n'\n",
       "\\item 'o'\n",
       "\\item 'p'\n",
       "\\item 'q'\n",
       "\\item 'r'\n",
       "\\item 's'\n",
       "\\item 't'\n",
       "\\item 'u'\n",
       "\\item 'v'\n",
       "\\item 'w'\n",
       "\\item 'x'\n",
       "\\item 'y'\n",
       "\\item 'z'\n",
       "\\end{enumerate*}\n"
      ],
      "text/markdown": [
       "1. 'a'\n",
       "2. 'b'\n",
       "3. 'c'\n",
       "4. 'd'\n",
       "5. 'e'\n",
       "6. 'f'\n",
       "7. 'g'\n",
       "8. 'h'\n",
       "9. 'i'\n",
       "10. 'j'\n",
       "11. 'k'\n",
       "12. 'l'\n",
       "13. 'm'\n",
       "14. 'n'\n",
       "15. 'o'\n",
       "16. 'p'\n",
       "17. 'q'\n",
       "18. 'r'\n",
       "19. 's'\n",
       "20. 't'\n",
       "21. 'u'\n",
       "22. 'v'\n",
       "23. 'w'\n",
       "24. 'x'\n",
       "25. 'y'\n",
       "26. 'z'\n",
       "\n",
       "\n"
      ],
      "text/plain": [
       " [1] \"a\" \"b\" \"c\" \"d\" \"e\" \"f\" \"g\" \"h\" \"i\" \"j\" \"k\" \"l\" \"m\" \"n\" \"o\" \"p\" \"q\" \"r\" \"s\"\n",
       "[20] \"t\" \"u\" \"v\" \"w\" \"x\" \"y\" \"z\""
      ]
     },
     "metadata": {},
     "output_type": "display_data"
    },
    {
     "data": {
      "text/html": [
       "<ol class=list-inline>\n",
       "\t<li>'A'</li>\n",
       "\t<li>'B'</li>\n",
       "\t<li>'C'</li>\n",
       "\t<li>'D'</li>\n",
       "\t<li>'E'</li>\n",
       "\t<li>'F'</li>\n",
       "\t<li>'G'</li>\n",
       "\t<li>'H'</li>\n",
       "\t<li>'I'</li>\n",
       "\t<li>'J'</li>\n",
       "\t<li>'K'</li>\n",
       "\t<li>'L'</li>\n",
       "\t<li>'M'</li>\n",
       "\t<li>'N'</li>\n",
       "\t<li>'O'</li>\n",
       "\t<li>'P'</li>\n",
       "\t<li>'Q'</li>\n",
       "\t<li>'R'</li>\n",
       "\t<li>'S'</li>\n",
       "\t<li>'T'</li>\n",
       "\t<li>'U'</li>\n",
       "\t<li>'V'</li>\n",
       "\t<li>'W'</li>\n",
       "\t<li>'X'</li>\n",
       "\t<li>'Y'</li>\n",
       "\t<li>'Z'</li>\n",
       "</ol>\n"
      ],
      "text/latex": [
       "\\begin{enumerate*}\n",
       "\\item 'A'\n",
       "\\item 'B'\n",
       "\\item 'C'\n",
       "\\item 'D'\n",
       "\\item 'E'\n",
       "\\item 'F'\n",
       "\\item 'G'\n",
       "\\item 'H'\n",
       "\\item 'I'\n",
       "\\item 'J'\n",
       "\\item 'K'\n",
       "\\item 'L'\n",
       "\\item 'M'\n",
       "\\item 'N'\n",
       "\\item 'O'\n",
       "\\item 'P'\n",
       "\\item 'Q'\n",
       "\\item 'R'\n",
       "\\item 'S'\n",
       "\\item 'T'\n",
       "\\item 'U'\n",
       "\\item 'V'\n",
       "\\item 'W'\n",
       "\\item 'X'\n",
       "\\item 'Y'\n",
       "\\item 'Z'\n",
       "\\end{enumerate*}\n"
      ],
      "text/markdown": [
       "1. 'A'\n",
       "2. 'B'\n",
       "3. 'C'\n",
       "4. 'D'\n",
       "5. 'E'\n",
       "6. 'F'\n",
       "7. 'G'\n",
       "8. 'H'\n",
       "9. 'I'\n",
       "10. 'J'\n",
       "11. 'K'\n",
       "12. 'L'\n",
       "13. 'M'\n",
       "14. 'N'\n",
       "15. 'O'\n",
       "16. 'P'\n",
       "17. 'Q'\n",
       "18. 'R'\n",
       "19. 'S'\n",
       "20. 'T'\n",
       "21. 'U'\n",
       "22. 'V'\n",
       "23. 'W'\n",
       "24. 'X'\n",
       "25. 'Y'\n",
       "26. 'Z'\n",
       "\n",
       "\n"
      ],
      "text/plain": [
       " [1] \"A\" \"B\" \"C\" \"D\" \"E\" \"F\" \"G\" \"H\" \"I\" \"J\" \"K\" \"L\" \"M\" \"N\" \"O\" \"P\" \"Q\" \"R\" \"S\"\n",
       "[20] \"T\" \"U\" \"V\" \"W\" \"X\" \"Y\" \"Z\""
      ]
     },
     "metadata": {},
     "output_type": "display_data"
    },
    {
     "data": {
      "text/html": [
       "'character'"
      ],
      "text/latex": [
       "'character'"
      ],
      "text/markdown": [
       "'character'"
      ],
      "text/plain": [
       "[1] \"character\""
      ]
     },
     "metadata": {},
     "output_type": "display_data"
    },
    {
     "data": {
      "text/html": [
       "<ol class=list-inline>\n",
       "\t<li>'January'</li>\n",
       "\t<li>'February'</li>\n",
       "\t<li>'March'</li>\n",
       "\t<li>'April'</li>\n",
       "\t<li>'May'</li>\n",
       "\t<li>'June'</li>\n",
       "\t<li>'July'</li>\n",
       "\t<li>'August'</li>\n",
       "\t<li>'September'</li>\n",
       "\t<li>'October'</li>\n",
       "\t<li>'November'</li>\n",
       "\t<li>'December'</li>\n",
       "</ol>\n"
      ],
      "text/latex": [
       "\\begin{enumerate*}\n",
       "\\item 'January'\n",
       "\\item 'February'\n",
       "\\item 'March'\n",
       "\\item 'April'\n",
       "\\item 'May'\n",
       "\\item 'June'\n",
       "\\item 'July'\n",
       "\\item 'August'\n",
       "\\item 'September'\n",
       "\\item 'October'\n",
       "\\item 'November'\n",
       "\\item 'December'\n",
       "\\end{enumerate*}\n"
      ],
      "text/markdown": [
       "1. 'January'\n",
       "2. 'February'\n",
       "3. 'March'\n",
       "4. 'April'\n",
       "5. 'May'\n",
       "6. 'June'\n",
       "7. 'July'\n",
       "8. 'August'\n",
       "9. 'September'\n",
       "10. 'October'\n",
       "11. 'November'\n",
       "12. 'December'\n",
       "\n",
       "\n"
      ],
      "text/plain": [
       " [1] \"January\"   \"February\"  \"March\"     \"April\"     \"May\"       \"June\"     \n",
       " [7] \"July\"      \"August\"    \"September\" \"October\"   \"November\"  \"December\" "
      ]
     },
     "metadata": {},
     "output_type": "display_data"
    },
    {
     "data": {
      "text/html": [
       "'sumendar'"
      ],
      "text/latex": [
       "'sumendar'"
      ],
      "text/markdown": [
       "'sumendar'"
      ],
      "text/plain": [
       "[1] \"sumendar\""
      ]
     },
     "metadata": {},
     "output_type": "display_data"
    }
   ],
   "source": [
    "getwd()\n",
    "# setwd(\"C:/Users/lucid it training/Desktop/first\")\n",
    "\n",
    "# ?print # to take help from r documentation\n",
    "print(\"welcome to data science course\") # to print something to console\n",
    "a <- 123\n",
    "print(a)\n",
    "# calculator \n",
    "12 +23\n",
    "90-34\n",
    "print(1:50)\n",
    "ab <- 50:100\n",
    "ab\n",
    "ab[ab == 76]\n",
    "#?which\n",
    "which(ab == 76) # to get the location index of perticular value\n",
    "\n",
    "myObj <- c(23,45,78,98,123)\n",
    "length(myObj)#how many values presented\n",
    "class(myObj)\n",
    "myObj1 <- c(\"hello\", \"world\")\n",
    "class(myObj1)\n",
    "print('hello world')\n",
    "\n",
    "myObjInt <- c(23L,45L,78L,98L,123L)\n",
    "myObjInt <- c(23L,45L,78L,98L,123)\n",
    "class(myObjInt)\n",
    "myObjComp <- c(1+2i, 7+8i, -9-45i,-3+23i)\n",
    "class(myObjComp)\n",
    "myObjLog <- c(TRUE,FALSE,TRUE,FALSE,FALSE,FALSE,TRUE)\n",
    "class(myObjLog)\n",
    "#### indexing/slicing\n",
    "myObjLog[3]+myObjLog[7]\n",
    "myobjUN <- c(1,0,1,1,0)\n",
    "class(myobjUN)\n",
    "T\n",
    "F\n",
    "T+T\n",
    "myobjUN <- c(T,F,T,T,F)\n",
    "class(myobjUN)\n",
    "myObjComp\n",
    "#myObjComp[1,3,4]\n",
    "myObjComp[c(1,3,4)]\n",
    "myObjComp[-2]\n",
    "myObjComp[c(-2)]\n",
    "myObjComp[c(-2,-4)]\n",
    "fh <- 50:100\n",
    "fh[20:38]\n",
    "#fh[(-20:-38)]\n",
    "fh[-c(20:38)]\n",
    "-9:-1\n",
    "\n",
    "# which(fh==c(56,  90, 96, 99)) ####\n",
    "# ?which\n",
    "\n",
    "pi\n",
    "class(pi)\n",
    "letters\n",
    "LETTERS\n",
    "class(letters)\n",
    "month.name\n",
    "month.abb\n",
    "month.abb <- \"sumendar\"\n",
    "# month.abb\n",
    "# rm(month.abb)\n",
    "# month.abb"
   ]
  },
  {
   "cell_type": "code",
   "execution_count": 5,
   "metadata": {},
   "outputs": [
    {
     "data": {
      "text/html": [
       "'integer'"
      ],
      "text/latex": [
       "'integer'"
      ],
      "text/markdown": [
       "'integer'"
      ],
      "text/plain": [
       "[1] \"integer\""
      ]
     },
     "metadata": {},
     "output_type": "display_data"
    },
    {
     "data": {
      "text/html": [
       "<table>\n",
       "<tbody>\n",
       "\t<tr><td>1 </td><td>4 </td><td>7 </td><td>10</td></tr>\n",
       "\t<tr><td>2 </td><td>5 </td><td>8 </td><td>11</td></tr>\n",
       "\t<tr><td>3 </td><td>6 </td><td>9 </td><td>12</td></tr>\n",
       "</tbody>\n",
       "</table>\n"
      ],
      "text/latex": [
       "\\begin{tabular}{llll}\n",
       "\t 1  & 4  & 7  & 10\\\\\n",
       "\t 2  & 5  & 8  & 11\\\\\n",
       "\t 3  & 6  & 9  & 12\\\\\n",
       "\\end{tabular}\n"
      ],
      "text/markdown": [
       "\n",
       "| 1  | 4  | 7  | 10 | \n",
       "| 2  | 5  | 8  | 11 | \n",
       "| 3  | 6  | 9  | 12 | \n",
       "\n",
       "\n"
      ],
      "text/plain": [
       "     [,1] [,2] [,3] [,4]\n",
       "[1,] 1    4    7    10  \n",
       "[2,] 2    5    8    11  \n",
       "[3,] 3    6    9    12  "
      ]
     },
     "metadata": {},
     "output_type": "display_data"
    },
    {
     "data": {
      "text/html": [
       "<table>\n",
       "<tbody>\n",
       "\t<tr><td>1 </td><td> 2</td><td> 3</td><td> 4</td></tr>\n",
       "\t<tr><td>5 </td><td> 6</td><td> 7</td><td> 8</td></tr>\n",
       "\t<tr><td>9 </td><td>10</td><td>11</td><td>12</td></tr>\n",
       "</tbody>\n",
       "</table>\n"
      ],
      "text/latex": [
       "\\begin{tabular}{llll}\n",
       "\t 1  &  2 &  3 &  4\\\\\n",
       "\t 5  &  6 &  7 &  8\\\\\n",
       "\t 9  & 10 & 11 & 12\\\\\n",
       "\\end{tabular}\n"
      ],
      "text/markdown": [
       "\n",
       "| 1  |  2 |  3 |  4 | \n",
       "| 5  |  6 |  7 |  8 | \n",
       "| 9  | 10 | 11 | 12 | \n",
       "\n",
       "\n"
      ],
      "text/plain": [
       "     [,1] [,2] [,3] [,4]\n",
       "[1,] 1     2    3    4  \n",
       "[2,] 5     6    7    8  \n",
       "[3,] 9    10   11   12  "
      ]
     },
     "metadata": {},
     "output_type": "display_data"
    },
    {
     "data": {
      "text/html": [
       "5"
      ],
      "text/latex": [
       "5"
      ],
      "text/markdown": [
       "5"
      ],
      "text/plain": [
       "[1] 5"
      ]
     },
     "metadata": {},
     "output_type": "display_data"
    },
    {
     "data": {
      "text/html": [
       "6"
      ],
      "text/latex": [
       "6"
      ],
      "text/markdown": [
       "6"
      ],
      "text/plain": [
       "[1] 6"
      ]
     },
     "metadata": {},
     "output_type": "display_data"
    },
    {
     "data": {
      "text/html": [
       "<ol class=list-inline>\n",
       "\t<li>4</li>\n",
       "\t<li>5</li>\n",
       "\t<li>6</li>\n",
       "</ol>\n"
      ],
      "text/latex": [
       "\\begin{enumerate*}\n",
       "\\item 4\n",
       "\\item 5\n",
       "\\item 6\n",
       "\\end{enumerate*}\n"
      ],
      "text/markdown": [
       "1. 4\n",
       "2. 5\n",
       "3. 6\n",
       "\n",
       "\n"
      ],
      "text/plain": [
       "[1] 4 5 6"
      ]
     },
     "metadata": {},
     "output_type": "display_data"
    },
    {
     "data": {
      "text/html": [
       "<ol class=list-inline>\n",
       "\t<li>2</li>\n",
       "\t<li>5</li>\n",
       "\t<li>8</li>\n",
       "\t<li>11</li>\n",
       "</ol>\n"
      ],
      "text/latex": [
       "\\begin{enumerate*}\n",
       "\\item 2\n",
       "\\item 5\n",
       "\\item 8\n",
       "\\item 11\n",
       "\\end{enumerate*}\n"
      ],
      "text/markdown": [
       "1. 2\n",
       "2. 5\n",
       "3. 8\n",
       "4. 11\n",
       "\n",
       "\n"
      ],
      "text/plain": [
       "[1]  2  5  8 11"
      ]
     },
     "metadata": {},
     "output_type": "display_data"
    },
    {
     "data": {
      "text/html": [
       "<table>\n",
       "<tbody>\n",
       "\t<tr><td>1</td><td>7</td></tr>\n",
       "\t<tr><td>2</td><td>8</td></tr>\n",
       "\t<tr><td>3</td><td>9</td></tr>\n",
       "</tbody>\n",
       "</table>\n"
      ],
      "text/latex": [
       "\\begin{tabular}{ll}\n",
       "\t 1 & 7\\\\\n",
       "\t 2 & 8\\\\\n",
       "\t 3 & 9\\\\\n",
       "\\end{tabular}\n"
      ],
      "text/markdown": [
       "\n",
       "| 1 | 7 | \n",
       "| 2 | 8 | \n",
       "| 3 | 9 | \n",
       "\n",
       "\n"
      ],
      "text/plain": [
       "     [,1] [,2]\n",
       "[1,] 1    7   \n",
       "[2,] 2    8   \n",
       "[3,] 3    9   "
      ]
     },
     "metadata": {},
     "output_type": "display_data"
    },
    {
     "data": {
      "text/html": [
       "<table>\n",
       "<tbody>\n",
       "\t<tr><td>4 </td><td>10</td></tr>\n",
       "\t<tr><td>5 </td><td>11</td></tr>\n",
       "\t<tr><td>6 </td><td>12</td></tr>\n",
       "</tbody>\n",
       "</table>\n"
      ],
      "text/latex": [
       "\\begin{tabular}{ll}\n",
       "\t 4  & 10\\\\\n",
       "\t 5  & 11\\\\\n",
       "\t 6  & 12\\\\\n",
       "\\end{tabular}\n"
      ],
      "text/markdown": [
       "\n",
       "| 4  | 10 | \n",
       "| 5  | 11 | \n",
       "| 6  | 12 | \n",
       "\n",
       "\n"
      ],
      "text/plain": [
       "     [,1] [,2]\n",
       "[1,] 4    10  \n",
       "[2,] 5    11  \n",
       "[3,] 6    12  "
      ]
     },
     "metadata": {},
     "output_type": "display_data"
    },
    {
     "data": {
      "text/html": [
       "<ol class=list-inline>\n",
       "\t<li>2</li>\n",
       "\t<li>5</li>\n",
       "\t<li>8</li>\n",
       "\t<li>11</li>\n",
       "</ol>\n"
      ],
      "text/latex": [
       "\\begin{enumerate*}\n",
       "\\item 2\n",
       "\\item 5\n",
       "\\item 8\n",
       "\\item 11\n",
       "\\end{enumerate*}\n"
      ],
      "text/markdown": [
       "1. 2\n",
       "2. 5\n",
       "3. 8\n",
       "4. 11\n",
       "\n",
       "\n"
      ],
      "text/plain": [
       "[1]  2  5  8 11"
      ]
     },
     "metadata": {},
     "output_type": "display_data"
    },
    {
     "data": {
      "text/html": [
       "12"
      ],
      "text/latex": [
       "12"
      ],
      "text/markdown": [
       "12"
      ],
      "text/plain": [
       "[1] 12"
      ]
     },
     "metadata": {},
     "output_type": "display_data"
    },
    {
     "data": {
      "text/html": [
       "<ol class=list-inline>\n",
       "\t<li>1</li>\n",
       "\t<li>4</li>\n",
       "</ol>\n"
      ],
      "text/latex": [
       "\\begin{enumerate*}\n",
       "\\item 1\n",
       "\\item 4\n",
       "\\end{enumerate*}\n"
      ],
      "text/markdown": [
       "1. 1\n",
       "2. 4\n",
       "\n",
       "\n"
      ],
      "text/plain": [
       "[1] 1 4"
      ]
     },
     "metadata": {},
     "output_type": "display_data"
    },
    {
     "data": {
      "text/html": [
       "<ol class=list-inline>\n",
       "\t<li>1</li>\n",
       "\t<li>2</li>\n",
       "\t<li>3</li>\n",
       "\t<li>4</li>\n",
       "\t<li>5</li>\n",
       "\t<li>6</li>\n",
       "\t<li>7</li>\n",
       "\t<li>8</li>\n",
       "\t<li>9</li>\n",
       "\t<li>10</li>\n",
       "\t<li>11</li>\n",
       "\t<li>12</li>\n",
       "\t<li>13</li>\n",
       "\t<li>14</li>\n",
       "\t<li>15</li>\n",
       "\t<li>16</li>\n",
       "\t<li>17</li>\n",
       "\t<li>18</li>\n",
       "\t<li>19</li>\n",
       "\t<li>20</li>\n",
       "\t<li>21</li>\n",
       "\t<li>22</li>\n",
       "\t<li>23</li>\n",
       "\t<li>24</li>\n",
       "</ol>\n"
      ],
      "text/latex": [
       "\\begin{enumerate*}\n",
       "\\item 1\n",
       "\\item 2\n",
       "\\item 3\n",
       "\\item 4\n",
       "\\item 5\n",
       "\\item 6\n",
       "\\item 7\n",
       "\\item 8\n",
       "\\item 9\n",
       "\\item 10\n",
       "\\item 11\n",
       "\\item 12\n",
       "\\item 13\n",
       "\\item 14\n",
       "\\item 15\n",
       "\\item 16\n",
       "\\item 17\n",
       "\\item 18\n",
       "\\item 19\n",
       "\\item 20\n",
       "\\item 21\n",
       "\\item 22\n",
       "\\item 23\n",
       "\\item 24\n",
       "\\end{enumerate*}\n"
      ],
      "text/markdown": [
       "1. 1\n",
       "2. 2\n",
       "3. 3\n",
       "4. 4\n",
       "5. 5\n",
       "6. 6\n",
       "7. 7\n",
       "8. 8\n",
       "9. 9\n",
       "10. 10\n",
       "11. 11\n",
       "12. 12\n",
       "13. 13\n",
       "14. 14\n",
       "15. 15\n",
       "16. 16\n",
       "17. 17\n",
       "18. 18\n",
       "19. 19\n",
       "20. 20\n",
       "21. 21\n",
       "22. 22\n",
       "23. 23\n",
       "24. 24\n",
       "\n",
       "\n"
      ],
      "text/plain": [
       ", , 1\n",
       "\n",
       "     [,1] [,2] [,3] [,4]\n",
       "[1,]    1    4    7   10\n",
       "[2,]    2    5    8   11\n",
       "[3,]    3    6    9   12\n",
       "\n",
       ", , 2\n",
       "\n",
       "     [,1] [,2] [,3] [,4]\n",
       "[1,]   13   16   19   22\n",
       "[2,]   14   17   20   23\n",
       "[3,]   15   18   21   24\n"
      ]
     },
     "metadata": {},
     "output_type": "display_data"
    },
    {
     "data": {
      "text/html": [
       "<table>\n",
       "<tbody>\n",
       "\t<tr><td>1 </td><td>4 </td><td>7 </td><td>10</td></tr>\n",
       "\t<tr><td>2 </td><td>5 </td><td>8 </td><td>11</td></tr>\n",
       "\t<tr><td>3 </td><td>6 </td><td>9 </td><td>12</td></tr>\n",
       "</tbody>\n",
       "</table>\n"
      ],
      "text/latex": [
       "\\begin{tabular}{llll}\n",
       "\t 1  & 4  & 7  & 10\\\\\n",
       "\t 2  & 5  & 8  & 11\\\\\n",
       "\t 3  & 6  & 9  & 12\\\\\n",
       "\\end{tabular}\n"
      ],
      "text/markdown": [
       "\n",
       "| 1  | 4  | 7  | 10 | \n",
       "| 2  | 5  | 8  | 11 | \n",
       "| 3  | 6  | 9  | 12 | \n",
       "\n",
       "\n"
      ],
      "text/plain": [
       "     [,1] [,2] [,3] [,4]\n",
       "[1,] 1    4    7    10  \n",
       "[2,] 2    5    8    11  \n",
       "[3,] 3    6    9    12  "
      ]
     },
     "metadata": {},
     "output_type": "display_data"
    },
    {
     "data": {
      "text/html": [
       "<table>\n",
       "<tbody>\n",
       "\t<tr><td>13</td><td>16</td><td>19</td><td>22</td></tr>\n",
       "\t<tr><td>14</td><td>17</td><td>20</td><td>23</td></tr>\n",
       "\t<tr><td>15</td><td>18</td><td>21</td><td>24</td></tr>\n",
       "</tbody>\n",
       "</table>\n"
      ],
      "text/latex": [
       "\\begin{tabular}{llll}\n",
       "\t 13 & 16 & 19 & 22\\\\\n",
       "\t 14 & 17 & 20 & 23\\\\\n",
       "\t 15 & 18 & 21 & 24\\\\\n",
       "\\end{tabular}\n"
      ],
      "text/markdown": [
       "\n",
       "| 13 | 16 | 19 | 22 | \n",
       "| 14 | 17 | 20 | 23 | \n",
       "| 15 | 18 | 21 | 24 | \n",
       "\n",
       "\n"
      ],
      "text/plain": [
       "     [,1] [,2] [,3] [,4]\n",
       "[1,] 13   16   19   22  \n",
       "[2,] 14   17   20   23  \n",
       "[3,] 15   18   21   24  "
      ]
     },
     "metadata": {},
     "output_type": "display_data"
    },
    {
     "data": {
      "text/html": [
       "17"
      ],
      "text/latex": [
       "17"
      ],
      "text/markdown": [
       "17"
      ],
      "text/plain": [
       "[1] 17"
      ]
     },
     "metadata": {},
     "output_type": "display_data"
    },
    {
     "data": {
      "text/html": [
       "<ol class=list-inline>\n",
       "\t<li>17</li>\n",
       "\t<li>18</li>\n",
       "</ol>\n"
      ],
      "text/latex": [
       "\\begin{enumerate*}\n",
       "\\item 17\n",
       "\\item 18\n",
       "\\end{enumerate*}\n"
      ],
      "text/markdown": [
       "1. 17\n",
       "2. 18\n",
       "\n",
       "\n"
      ],
      "text/plain": [
       "[1] 17 18"
      ]
     },
     "metadata": {},
     "output_type": "display_data"
    },
    {
     "data": {
      "text/html": [
       "<table>\n",
       "<tbody>\n",
       "\t<tr><td>17</td><td>20</td></tr>\n",
       "\t<tr><td>18</td><td>21</td></tr>\n",
       "</tbody>\n",
       "</table>\n"
      ],
      "text/latex": [
       "\\begin{tabular}{ll}\n",
       "\t 17 & 20\\\\\n",
       "\t 18 & 21\\\\\n",
       "\\end{tabular}\n"
      ],
      "text/markdown": [
       "\n",
       "| 17 | 20 | \n",
       "| 18 | 21 | \n",
       "\n",
       "\n"
      ],
      "text/plain": [
       "     [,1] [,2]\n",
       "[1,] 17   20  \n",
       "[2,] 18   21  "
      ]
     },
     "metadata": {},
     "output_type": "display_data"
    },
    {
     "data": {
      "text/html": [
       "<table>\n",
       "<thead><tr><th scope=col>Name</th><th scope=col>Value1</th><th scope=col>Value2</th><th scope=col>value3</th></tr></thead>\n",
       "<tbody>\n",
       "\t<tr><td>a1   </td><td>23   </td><td> 1   </td><td> TRUE</td></tr>\n",
       "\t<tr><td>a2   </td><td> 4   </td><td>45   </td><td>FALSE</td></tr>\n",
       "\t<tr><td>b3   </td><td>12   </td><td> 5   </td><td>FALSE</td></tr>\n",
       "</tbody>\n",
       "</table>\n"
      ],
      "text/latex": [
       "\\begin{tabular}{r|llll}\n",
       " Name & Value1 & Value2 & value3\\\\\n",
       "\\hline\n",
       "\t a1    & 23    &  1    &  TRUE\\\\\n",
       "\t a2    &  4    & 45    & FALSE\\\\\n",
       "\t b3    & 12    &  5    & FALSE\\\\\n",
       "\\end{tabular}\n"
      ],
      "text/markdown": [
       "\n",
       "Name | Value1 | Value2 | value3 | \n",
       "|---|---|---|\n",
       "| a1    | 23    |  1    |  TRUE | \n",
       "| a2    |  4    | 45    | FALSE | \n",
       "| b3    | 12    |  5    | FALSE | \n",
       "\n",
       "\n"
      ],
      "text/plain": [
       "  Name Value1 Value2 value3\n",
       "1 a1   23      1      TRUE \n",
       "2 a2    4     45     FALSE \n",
       "3 b3   12      5     FALSE "
      ]
     },
     "metadata": {},
     "output_type": "display_data"
    },
    {
     "data": {
      "text/html": [
       "'matrix'"
      ],
      "text/latex": [
       "'matrix'"
      ],
      "text/markdown": [
       "'matrix'"
      ],
      "text/plain": [
       "[1] \"matrix\""
      ]
     },
     "metadata": {},
     "output_type": "display_data"
    },
    {
     "data": {
      "text/html": [
       "'data.frame'"
      ],
      "text/latex": [
       "'data.frame'"
      ],
      "text/markdown": [
       "'data.frame'"
      ],
      "text/plain": [
       "[1] \"data.frame\""
      ]
     },
     "metadata": {},
     "output_type": "display_data"
    },
    {
     "data": {
      "text/html": [
       "'integer'"
      ],
      "text/latex": [
       "'integer'"
      ],
      "text/markdown": [
       "'integer'"
      ],
      "text/plain": [
       "[1] \"integer\""
      ]
     },
     "metadata": {},
     "output_type": "display_data"
    },
    {
     "data": {
      "text/html": [
       "23"
      ],
      "text/latex": [
       "23"
      ],
      "text/markdown": [
       "23"
      ],
      "text/plain": [
       "[1] 23"
      ]
     },
     "metadata": {},
     "output_type": "display_data"
    },
    {
     "data": {
      "text/html": [
       "<ol class=list-inline>\n",
       "\t<li>23</li>\n",
       "\t<li>4</li>\n",
       "</ol>\n"
      ],
      "text/latex": [
       "\\begin{enumerate*}\n",
       "\\item 23\n",
       "\\item 4\n",
       "\\end{enumerate*}\n"
      ],
      "text/markdown": [
       "1. 23\n",
       "2. 4\n",
       "\n",
       "\n"
      ],
      "text/plain": [
       "[1] 23  4"
      ]
     },
     "metadata": {},
     "output_type": "display_data"
    },
    {
     "data": {
      "text/html": [
       "<ol class=list-inline>\n",
       "\t<li>a1</li>\n",
       "\t<li>a2</li>\n",
       "\t<li>b3</li>\n",
       "</ol>\n",
       "\n",
       "<details>\n",
       "\t<summary style=display:list-item;cursor:pointer>\n",
       "\t\t<strong>Levels</strong>:\n",
       "\t</summary>\n",
       "\t<ol class=list-inline>\n",
       "\t\t<li>'a1'</li>\n",
       "\t\t<li>'a2'</li>\n",
       "\t\t<li>'b3'</li>\n",
       "\t</ol>\n",
       "</details>"
      ],
      "text/latex": [
       "\\begin{enumerate*}\n",
       "\\item a1\n",
       "\\item a2\n",
       "\\item b3\n",
       "\\end{enumerate*}\n",
       "\n",
       "\\emph{Levels}: \\begin{enumerate*}\n",
       "\\item 'a1'\n",
       "\\item 'a2'\n",
       "\\item 'b3'\n",
       "\\end{enumerate*}\n"
      ],
      "text/markdown": [
       "1. a1\n",
       "2. a2\n",
       "3. b3\n",
       "\n",
       "\n",
       "\n",
       "**Levels**: 1. 'a1'\n",
       "2. 'a2'\n",
       "3. 'b3'\n",
       "\n",
       "\n"
      ],
      "text/plain": [
       "[1] a1 a2 b3\n",
       "Levels: a1 a2 b3"
      ]
     },
     "metadata": {},
     "output_type": "display_data"
    },
    {
     "data": {
      "text/html": [
       "<ol class=list-inline>\n",
       "\t<li>23</li>\n",
       "\t<li>4</li>\n",
       "\t<li>12</li>\n",
       "</ol>\n"
      ],
      "text/latex": [
       "\\begin{enumerate*}\n",
       "\\item 23\n",
       "\\item 4\n",
       "\\item 12\n",
       "\\end{enumerate*}\n"
      ],
      "text/markdown": [
       "1. 23\n",
       "2. 4\n",
       "3. 12\n",
       "\n",
       "\n"
      ],
      "text/plain": [
       "[1] 23  4 12"
      ]
     },
     "metadata": {},
     "output_type": "display_data"
    },
    {
     "data": {
      "text/html": [
       "<table>\n",
       "<thead><tr><th scope=col>Value1</th><th scope=col>Value2</th><th scope=col>value3</th></tr></thead>\n",
       "<tbody>\n",
       "\t<tr><td>23   </td><td> 1   </td><td> TRUE</td></tr>\n",
       "\t<tr><td> 4   </td><td>45   </td><td>FALSE</td></tr>\n",
       "\t<tr><td>12   </td><td> 5   </td><td>FALSE</td></tr>\n",
       "</tbody>\n",
       "</table>\n"
      ],
      "text/latex": [
       "\\begin{tabular}{r|lll}\n",
       " Value1 & Value2 & value3\\\\\n",
       "\\hline\n",
       "\t 23    &  1    &  TRUE\\\\\n",
       "\t  4    & 45    & FALSE\\\\\n",
       "\t 12    &  5    & FALSE\\\\\n",
       "\\end{tabular}\n"
      ],
      "text/markdown": [
       "\n",
       "Value1 | Value2 | value3 | \n",
       "|---|---|---|\n",
       "| 23    |  1    |  TRUE | \n",
       "|  4    | 45    | FALSE | \n",
       "| 12    |  5    | FALSE | \n",
       "\n",
       "\n"
      ],
      "text/plain": [
       "  Value1 Value2 value3\n",
       "1 23      1      TRUE \n",
       "2  4     45     FALSE \n",
       "3 12      5     FALSE "
      ]
     },
     "metadata": {},
     "output_type": "display_data"
    },
    {
     "data": {
      "text/html": [
       "<table>\n",
       "<thead><tr><th scope=col>Value1</th><th scope=col>Value2</th><th scope=col>value3</th></tr></thead>\n",
       "<tbody>\n",
       "\t<tr><td>23   </td><td> 1   </td><td> TRUE</td></tr>\n",
       "\t<tr><td> 4   </td><td>45   </td><td>FALSE</td></tr>\n",
       "\t<tr><td>12   </td><td> 5   </td><td>FALSE</td></tr>\n",
       "</tbody>\n",
       "</table>\n"
      ],
      "text/latex": [
       "\\begin{tabular}{r|lll}\n",
       " Value1 & Value2 & value3\\\\\n",
       "\\hline\n",
       "\t 23    &  1    &  TRUE\\\\\n",
       "\t  4    & 45    & FALSE\\\\\n",
       "\t 12    &  5    & FALSE\\\\\n",
       "\\end{tabular}\n"
      ],
      "text/markdown": [
       "\n",
       "Value1 | Value2 | value3 | \n",
       "|---|---|---|\n",
       "| 23    |  1    |  TRUE | \n",
       "|  4    | 45    | FALSE | \n",
       "| 12    |  5    | FALSE | \n",
       "\n",
       "\n"
      ],
      "text/plain": [
       "  Value1 Value2 value3\n",
       "1 23      1      TRUE \n",
       "2  4     45     FALSE \n",
       "3 12      5     FALSE "
      ]
     },
     "metadata": {},
     "output_type": "display_data"
    },
    {
     "data": {
      "text/html": [
       "<ol class=list-inline>\n",
       "\t<li>2</li>\n",
       "\t<li>3</li>\n",
       "\t<li>4</li>\n",
       "\t<li>5</li>\n",
       "\t<li>6</li>\n",
       "\t<li>7</li>\n",
       "\t<li>8</li>\n",
       "\t<li>9</li>\n",
       "\t<li>10</li>\n",
       "\t<li>11</li>\n",
       "\t<li>12</li>\n",
       "</ol>\n"
      ],
      "text/latex": [
       "\\begin{enumerate*}\n",
       "\\item 2\n",
       "\\item 3\n",
       "\\item 4\n",
       "\\item 5\n",
       "\\item 6\n",
       "\\item 7\n",
       "\\item 8\n",
       "\\item 9\n",
       "\\item 10\n",
       "\\item 11\n",
       "\\item 12\n",
       "\\end{enumerate*}\n"
      ],
      "text/markdown": [
       "1. 2\n",
       "2. 3\n",
       "3. 4\n",
       "4. 5\n",
       "5. 6\n",
       "6. 7\n",
       "7. 8\n",
       "8. 9\n",
       "9. 10\n",
       "10. 11\n",
       "11. 12\n",
       "\n",
       "\n"
      ],
      "text/plain": [
       " [1]  2  3  4  5  6  7  8  9 10 11 12"
      ]
     },
     "metadata": {},
     "output_type": "display_data"
    },
    {
     "data": {
      "text/html": [
       "<ol class=list-inline>\n",
       "\t<li>2</li>\n",
       "\t<li>3</li>\n",
       "\t<li>4</li>\n",
       "\t<li>5</li>\n",
       "\t<li>6</li>\n",
       "\t<li>7</li>\n",
       "\t<li>8</li>\n",
       "\t<li>9</li>\n",
       "\t<li>10</li>\n",
       "\t<li>11</li>\n",
       "\t<li>12</li>\n",
       "</ol>\n"
      ],
      "text/latex": [
       "\\begin{enumerate*}\n",
       "\\item 2\n",
       "\\item 3\n",
       "\\item 4\n",
       "\\item 5\n",
       "\\item 6\n",
       "\\item 7\n",
       "\\item 8\n",
       "\\item 9\n",
       "\\item 10\n",
       "\\item 11\n",
       "\\item 12\n",
       "\\end{enumerate*}\n"
      ],
      "text/markdown": [
       "1. 2\n",
       "2. 3\n",
       "3. 4\n",
       "4. 5\n",
       "5. 6\n",
       "6. 7\n",
       "7. 8\n",
       "8. 9\n",
       "9. 10\n",
       "10. 11\n",
       "11. 12\n",
       "\n",
       "\n"
      ],
      "text/plain": [
       " [1]  2  3  4  5  6  7  8  9 10 11 12"
      ]
     },
     "metadata": {},
     "output_type": "display_data"
    },
    {
     "data": {
      "text/html": [
       "4"
      ],
      "text/latex": [
       "4"
      ],
      "text/markdown": [
       "4"
      ],
      "text/plain": [
       "[1] 4"
      ]
     },
     "metadata": {},
     "output_type": "display_data"
    },
    {
     "data": {
      "text/html": [
       "<ol class=list-inline>\n",
       "\t<li>4</li>\n",
       "\t<li>12</li>\n",
       "</ol>\n"
      ],
      "text/latex": [
       "\\begin{enumerate*}\n",
       "\\item 4\n",
       "\\item 12\n",
       "\\end{enumerate*}\n"
      ],
      "text/markdown": [
       "1. 4\n",
       "2. 12\n",
       "\n",
       "\n"
      ],
      "text/plain": [
       "[1]  4 12"
      ]
     },
     "metadata": {},
     "output_type": "display_data"
    },
    {
     "data": {
      "text/html": [
       "23"
      ],
      "text/latex": [
       "23"
      ],
      "text/markdown": [
       "23"
      ],
      "text/plain": [
       "[1] 23"
      ]
     },
     "metadata": {},
     "output_type": "display_data"
    },
    {
     "data": {
      "text/html": [
       "'list'"
      ],
      "text/latex": [
       "'list'"
      ],
      "text/markdown": [
       "'list'"
      ],
      "text/plain": [
       "[1] \"list\""
      ]
     },
     "metadata": {},
     "output_type": "display_data"
    },
    {
     "data": {
      "text/html": [
       "<ol>\n",
       "\t<li><ol class=list-inline>\n",
       "\t<li>2</li>\n",
       "\t<li>4</li>\n",
       "\t<li>5</li>\n",
       "</ol>\n",
       "</li>\n",
       "\t<li><ol class=list-inline>\n",
       "\t<li>1</li>\n",
       "\t<li>2</li>\n",
       "\t<li>3</li>\n",
       "\t<li>4</li>\n",
       "\t<li>5</li>\n",
       "\t<li>6</li>\n",
       "\t<li>7</li>\n",
       "\t<li>8</li>\n",
       "\t<li>9</li>\n",
       "\t<li>10</li>\n",
       "\t<li>11</li>\n",
       "\t<li>12</li>\n",
       "</ol>\n",
       "</li>\n",
       "\t<li><table>\n",
       "<tbody>\n",
       "\t<tr><td>1 </td><td>4 </td><td>7 </td><td>10</td></tr>\n",
       "\t<tr><td>2 </td><td>5 </td><td>8 </td><td>11</td></tr>\n",
       "\t<tr><td>3 </td><td>6 </td><td>9 </td><td>12</td></tr>\n",
       "</tbody>\n",
       "</table>\n",
       "</li>\n",
       "\t<li><table>\n",
       "<thead><tr><th scope=col>Name</th><th scope=col>Value1</th><th scope=col>Value2</th><th scope=col>value3</th></tr></thead>\n",
       "<tbody>\n",
       "\t<tr><td>a1   </td><td>23   </td><td> 1   </td><td> TRUE</td></tr>\n",
       "\t<tr><td>a2   </td><td> 4   </td><td>45   </td><td>FALSE</td></tr>\n",
       "\t<tr><td>b3   </td><td>12   </td><td> 5   </td><td>FALSE</td></tr>\n",
       "</tbody>\n",
       "</table>\n",
       "</li>\n",
       "</ol>\n"
      ],
      "text/latex": [
       "\\begin{enumerate}\n",
       "\\item \\begin{enumerate*}\n",
       "\\item 2\n",
       "\\item 4\n",
       "\\item 5\n",
       "\\end{enumerate*}\n",
       "\n",
       "\\item \\begin{enumerate*}\n",
       "\\item 1\n",
       "\\item 2\n",
       "\\item 3\n",
       "\\item 4\n",
       "\\item 5\n",
       "\\item 6\n",
       "\\item 7\n",
       "\\item 8\n",
       "\\item 9\n",
       "\\item 10\n",
       "\\item 11\n",
       "\\item 12\n",
       "\\end{enumerate*}\n",
       "\n",
       "\\item \\begin{tabular}{llll}\n",
       "\t 1  & 4  & 7  & 10\\\\\n",
       "\t 2  & 5  & 8  & 11\\\\\n",
       "\t 3  & 6  & 9  & 12\\\\\n",
       "\\end{tabular}\n",
       "\n",
       "\\item \\begin{tabular}{r|llll}\n",
       " Name & Value1 & Value2 & value3\\\\\n",
       "\\hline\n",
       "\t a1    & 23    &  1    &  TRUE\\\\\n",
       "\t a2    &  4    & 45    & FALSE\\\\\n",
       "\t b3    & 12    &  5    & FALSE\\\\\n",
       "\\end{tabular}\n",
       "\n",
       "\\end{enumerate}\n"
      ],
      "text/markdown": [
       "1. 1. 2\n",
       "2. 4\n",
       "3. 5\n",
       "\n",
       "\n",
       "\n",
       "2. 1. 1\n",
       "2. 2\n",
       "3. 3\n",
       "4. 4\n",
       "5. 5\n",
       "6. 6\n",
       "7. 7\n",
       "8. 8\n",
       "9. 9\n",
       "10. 10\n",
       "11. 11\n",
       "12. 12\n",
       "\n",
       "\n",
       "\n",
       "3. \n",
       "| 1  | 4  | 7  | 10 | \n",
       "| 2  | 5  | 8  | 11 | \n",
       "| 3  | 6  | 9  | 12 | \n",
       "\n",
       "\n",
       "\n",
       "4. \n",
       "Name | Value1 | Value2 | value3 | \n",
       "|---|---|---|\n",
       "| a1    | 23    |  1    |  TRUE | \n",
       "| a2    |  4    | 45    | FALSE | \n",
       "| b3    | 12    |  5    | FALSE | \n",
       "\n",
       "\n",
       "\n",
       "\n",
       "\n"
      ],
      "text/plain": [
       "[[1]]\n",
       "[1] 2 4 5\n",
       "\n",
       "[[2]]\n",
       " [1]  1  2  3  4  5  6  7  8  9 10 11 12\n",
       "\n",
       "[[3]]\n",
       "     [,1] [,2] [,3] [,4]\n",
       "[1,]    1    4    7   10\n",
       "[2,]    2    5    8   11\n",
       "[3,]    3    6    9   12\n",
       "\n",
       "[[4]]\n",
       "  Name Value1 Value2 value3\n",
       "1   a1     23      1   TRUE\n",
       "2   a2      4     45  FALSE\n",
       "3   b3     12      5  FALSE\n"
      ]
     },
     "metadata": {},
     "output_type": "display_data"
    },
    {
     "data": {
      "text/html": [
       "'list'"
      ],
      "text/latex": [
       "'list'"
      ],
      "text/markdown": [
       "'list'"
      ],
      "text/plain": [
       "[1] \"list\""
      ]
     },
     "metadata": {},
     "output_type": "display_data"
    },
    {
     "data": {
      "text/html": [
       "<ol>\n",
       "\t<li><ol class=list-inline>\n",
       "\t<li>2</li>\n",
       "\t<li>4</li>\n",
       "\t<li>5</li>\n",
       "</ol>\n",
       "</li>\n",
       "\t<li><ol class=list-inline>\n",
       "\t<li>1</li>\n",
       "\t<li>2</li>\n",
       "\t<li>3</li>\n",
       "\t<li>4</li>\n",
       "\t<li>5</li>\n",
       "\t<li>6</li>\n",
       "\t<li>7</li>\n",
       "\t<li>8</li>\n",
       "\t<li>9</li>\n",
       "\t<li>10</li>\n",
       "\t<li>11</li>\n",
       "\t<li>12</li>\n",
       "</ol>\n",
       "</li>\n",
       "\t<li><table>\n",
       "<tbody>\n",
       "\t<tr><td>1 </td><td>4 </td><td>7 </td><td>10</td></tr>\n",
       "\t<tr><td>2 </td><td>5 </td><td>8 </td><td>11</td></tr>\n",
       "\t<tr><td>3 </td><td>6 </td><td>9 </td><td>12</td></tr>\n",
       "</tbody>\n",
       "</table>\n",
       "</li>\n",
       "\t<li><table>\n",
       "<thead><tr><th scope=col>Name</th><th scope=col>Value1</th><th scope=col>Value2</th><th scope=col>value3</th></tr></thead>\n",
       "<tbody>\n",
       "\t<tr><td>a1   </td><td>23   </td><td> 1   </td><td> TRUE</td></tr>\n",
       "\t<tr><td>a2   </td><td> 4   </td><td>45   </td><td>FALSE</td></tr>\n",
       "\t<tr><td>b3   </td><td>12   </td><td> 5   </td><td>FALSE</td></tr>\n",
       "</tbody>\n",
       "</table>\n",
       "</li>\n",
       "</ol>\n"
      ],
      "text/latex": [
       "\\begin{enumerate}\n",
       "\\item \\begin{enumerate*}\n",
       "\\item 2\n",
       "\\item 4\n",
       "\\item 5\n",
       "\\end{enumerate*}\n",
       "\n",
       "\\item \\begin{enumerate*}\n",
       "\\item 1\n",
       "\\item 2\n",
       "\\item 3\n",
       "\\item 4\n",
       "\\item 5\n",
       "\\item 6\n",
       "\\item 7\n",
       "\\item 8\n",
       "\\item 9\n",
       "\\item 10\n",
       "\\item 11\n",
       "\\item 12\n",
       "\\end{enumerate*}\n",
       "\n",
       "\\item \\begin{tabular}{llll}\n",
       "\t 1  & 4  & 7  & 10\\\\\n",
       "\t 2  & 5  & 8  & 11\\\\\n",
       "\t 3  & 6  & 9  & 12\\\\\n",
       "\\end{tabular}\n",
       "\n",
       "\\item \\begin{tabular}{r|llll}\n",
       " Name & Value1 & Value2 & value3\\\\\n",
       "\\hline\n",
       "\t a1    & 23    &  1    &  TRUE\\\\\n",
       "\t a2    &  4    & 45    & FALSE\\\\\n",
       "\t b3    & 12    &  5    & FALSE\\\\\n",
       "\\end{tabular}\n",
       "\n",
       "\\end{enumerate}\n"
      ],
      "text/markdown": [
       "1. 1. 2\n",
       "2. 4\n",
       "3. 5\n",
       "\n",
       "\n",
       "\n",
       "2. 1. 1\n",
       "2. 2\n",
       "3. 3\n",
       "4. 4\n",
       "5. 5\n",
       "6. 6\n",
       "7. 7\n",
       "8. 8\n",
       "9. 9\n",
       "10. 10\n",
       "11. 11\n",
       "12. 12\n",
       "\n",
       "\n",
       "\n",
       "3. \n",
       "| 1  | 4  | 7  | 10 | \n",
       "| 2  | 5  | 8  | 11 | \n",
       "| 3  | 6  | 9  | 12 | \n",
       "\n",
       "\n",
       "\n",
       "4. \n",
       "Name | Value1 | Value2 | value3 | \n",
       "|---|---|---|\n",
       "| a1    | 23    |  1    |  TRUE | \n",
       "| a2    |  4    | 45    | FALSE | \n",
       "| b3    | 12    |  5    | FALSE | \n",
       "\n",
       "\n",
       "\n",
       "\n",
       "\n"
      ],
      "text/plain": [
       "[[1]]\n",
       "[1] 2 4 5\n",
       "\n",
       "[[2]]\n",
       " [1]  1  2  3  4  5  6  7  8  9 10 11 12\n",
       "\n",
       "[[3]]\n",
       "     [,1] [,2] [,3] [,4]\n",
       "[1,]    1    4    7   10\n",
       "[2,]    2    5    8   11\n",
       "[3,]    3    6    9   12\n",
       "\n",
       "[[4]]\n",
       "  Name Value1 Value2 value3\n",
       "1   a1     23      1   TRUE\n",
       "2   a2      4     45  FALSE\n",
       "3   b3     12      5  FALSE\n"
      ]
     },
     "metadata": {},
     "output_type": "display_data"
    },
    {
     "data": {
      "text/html": [
       "<ol>\n",
       "\t<li><ol class=list-inline>\n",
       "\t<li>2</li>\n",
       "\t<li>4</li>\n",
       "\t<li>5</li>\n",
       "</ol>\n",
       "</li>\n",
       "</ol>\n"
      ],
      "text/latex": [
       "\\begin{enumerate}\n",
       "\\item \\begin{enumerate*}\n",
       "\\item 2\n",
       "\\item 4\n",
       "\\item 5\n",
       "\\end{enumerate*}\n",
       "\n",
       "\\end{enumerate}\n"
      ],
      "text/markdown": [
       "1. 1. 2\n",
       "2. 4\n",
       "3. 5\n",
       "\n",
       "\n",
       "\n",
       "\n",
       "\n"
      ],
      "text/plain": [
       "[[1]]\n",
       "[1] 2 4 5\n"
      ]
     },
     "metadata": {},
     "output_type": "display_data"
    },
    {
     "data": {
      "text/html": [
       "<ol class=list-inline>\n",
       "\t<li>2</li>\n",
       "\t<li>4</li>\n",
       "\t<li>5</li>\n",
       "</ol>\n"
      ],
      "text/latex": [
       "\\begin{enumerate*}\n",
       "\\item 2\n",
       "\\item 4\n",
       "\\item 5\n",
       "\\end{enumerate*}\n"
      ],
      "text/markdown": [
       "1. 2\n",
       "2. 4\n",
       "3. 5\n",
       "\n",
       "\n"
      ],
      "text/plain": [
       "[1] 2 4 5"
      ]
     },
     "metadata": {},
     "output_type": "display_data"
    },
    {
     "data": {
      "text/html": [
       "4"
      ],
      "text/latex": [
       "4"
      ],
      "text/markdown": [
       "4"
      ],
      "text/plain": [
       "[1] 4"
      ]
     },
     "metadata": {},
     "output_type": "display_data"
    },
    {
     "data": {
      "text/html": [
       "<ol>\n",
       "\t<li><table>\n",
       "<tbody>\n",
       "\t<tr><td>1 </td><td>4 </td><td>7 </td><td>10</td></tr>\n",
       "\t<tr><td>2 </td><td>5 </td><td>8 </td><td>11</td></tr>\n",
       "\t<tr><td>3 </td><td>6 </td><td>9 </td><td>12</td></tr>\n",
       "</tbody>\n",
       "</table>\n",
       "</li>\n",
       "</ol>\n"
      ],
      "text/latex": [
       "\\begin{enumerate}\n",
       "\\item \\begin{tabular}{llll}\n",
       "\t 1  & 4  & 7  & 10\\\\\n",
       "\t 2  & 5  & 8  & 11\\\\\n",
       "\t 3  & 6  & 9  & 12\\\\\n",
       "\\end{tabular}\n",
       "\n",
       "\\end{enumerate}\n"
      ],
      "text/markdown": [
       "1. \n",
       "| 1  | 4  | 7  | 10 | \n",
       "| 2  | 5  | 8  | 11 | \n",
       "| 3  | 6  | 9  | 12 | \n",
       "\n",
       "\n",
       "\n",
       "\n",
       "\n"
      ],
      "text/plain": [
       "[[1]]\n",
       "     [,1] [,2] [,3] [,4]\n",
       "[1,]    1    4    7   10\n",
       "[2,]    2    5    8   11\n",
       "[3,]    3    6    9   12\n"
      ]
     },
     "metadata": {},
     "output_type": "display_data"
    },
    {
     "data": {
      "text/html": [
       "<table>\n",
       "<tbody>\n",
       "\t<tr><td>1 </td><td>4 </td><td>7 </td><td>10</td></tr>\n",
       "\t<tr><td>2 </td><td>5 </td><td>8 </td><td>11</td></tr>\n",
       "\t<tr><td>3 </td><td>6 </td><td>9 </td><td>12</td></tr>\n",
       "</tbody>\n",
       "</table>\n"
      ],
      "text/latex": [
       "\\begin{tabular}{llll}\n",
       "\t 1  & 4  & 7  & 10\\\\\n",
       "\t 2  & 5  & 8  & 11\\\\\n",
       "\t 3  & 6  & 9  & 12\\\\\n",
       "\\end{tabular}\n"
      ],
      "text/markdown": [
       "\n",
       "| 1  | 4  | 7  | 10 | \n",
       "| 2  | 5  | 8  | 11 | \n",
       "| 3  | 6  | 9  | 12 | \n",
       "\n",
       "\n"
      ],
      "text/plain": [
       "     [,1] [,2] [,3] [,4]\n",
       "[1,] 1    4    7    10  \n",
       "[2,] 2    5    8    11  \n",
       "[3,] 3    6    9    12  "
      ]
     },
     "metadata": {},
     "output_type": "display_data"
    },
    {
     "data": {
      "text/html": [
       "<table>\n",
       "<tbody>\n",
       "\t<tr><td>1 </td><td>4 </td><td>7 </td><td>10</td></tr>\n",
       "\t<tr><td>2 </td><td>5 </td><td>8 </td><td>11</td></tr>\n",
       "\t<tr><td>3 </td><td>6 </td><td>9 </td><td>12</td></tr>\n",
       "</tbody>\n",
       "</table>\n"
      ],
      "text/latex": [
       "\\begin{tabular}{llll}\n",
       "\t 1  & 4  & 7  & 10\\\\\n",
       "\t 2  & 5  & 8  & 11\\\\\n",
       "\t 3  & 6  & 9  & 12\\\\\n",
       "\\end{tabular}\n"
      ],
      "text/markdown": [
       "\n",
       "| 1  | 4  | 7  | 10 | \n",
       "| 2  | 5  | 8  | 11 | \n",
       "| 3  | 6  | 9  | 12 | \n",
       "\n",
       "\n"
      ],
      "text/plain": [
       "     [,1] [,2] [,3] [,4]\n",
       "[1,] 1    4    7    10  \n",
       "[2,] 2    5    8    11  \n",
       "[3,] 3    6    9    12  "
      ]
     },
     "metadata": {},
     "output_type": "display_data"
    },
    {
     "data": {
      "text/html": [
       "'list'"
      ],
      "text/latex": [
       "'list'"
      ],
      "text/markdown": [
       "'list'"
      ],
      "text/plain": [
       "[1] \"list\""
      ]
     },
     "metadata": {},
     "output_type": "display_data"
    },
    {
     "data": {
      "text/html": [
       "'matrix'"
      ],
      "text/latex": [
       "'matrix'"
      ],
      "text/markdown": [
       "'matrix'"
      ],
      "text/plain": [
       "[1] \"matrix\""
      ]
     },
     "metadata": {},
     "output_type": "display_data"
    },
    {
     "data": {
      "text/html": [
       "<ol>\n",
       "\t<li><ol class=list-inline>\n",
       "\t<li>2</li>\n",
       "\t<li>4</li>\n",
       "\t<li>5</li>\n",
       "</ol>\n",
       "</li>\n",
       "\t<li><ol class=list-inline>\n",
       "\t<li>1</li>\n",
       "\t<li>2</li>\n",
       "\t<li>3</li>\n",
       "\t<li>4</li>\n",
       "\t<li>5</li>\n",
       "\t<li>6</li>\n",
       "\t<li>7</li>\n",
       "\t<li>8</li>\n",
       "\t<li>9</li>\n",
       "\t<li>10</li>\n",
       "\t<li>11</li>\n",
       "\t<li>12</li>\n",
       "</ol>\n",
       "</li>\n",
       "\t<li><table>\n",
       "<tbody>\n",
       "\t<tr><td>1 </td><td>4 </td><td>7 </td><td>10</td></tr>\n",
       "\t<tr><td>2 </td><td>5 </td><td>8 </td><td>11</td></tr>\n",
       "\t<tr><td>3 </td><td>6 </td><td>9 </td><td>12</td></tr>\n",
       "</tbody>\n",
       "</table>\n",
       "</li>\n",
       "\t<li><table>\n",
       "<thead><tr><th scope=col>Name</th><th scope=col>Value1</th><th scope=col>Value2</th><th scope=col>value3</th></tr></thead>\n",
       "<tbody>\n",
       "\t<tr><td>a1   </td><td>23   </td><td> 1   </td><td> TRUE</td></tr>\n",
       "\t<tr><td>a2   </td><td> 4   </td><td>45   </td><td>FALSE</td></tr>\n",
       "\t<tr><td>b3   </td><td>12   </td><td> 5   </td><td>FALSE</td></tr>\n",
       "</tbody>\n",
       "</table>\n",
       "</li>\n",
       "</ol>\n"
      ],
      "text/latex": [
       "\\begin{enumerate}\n",
       "\\item \\begin{enumerate*}\n",
       "\\item 2\n",
       "\\item 4\n",
       "\\item 5\n",
       "\\end{enumerate*}\n",
       "\n",
       "\\item \\begin{enumerate*}\n",
       "\\item 1\n",
       "\\item 2\n",
       "\\item 3\n",
       "\\item 4\n",
       "\\item 5\n",
       "\\item 6\n",
       "\\item 7\n",
       "\\item 8\n",
       "\\item 9\n",
       "\\item 10\n",
       "\\item 11\n",
       "\\item 12\n",
       "\\end{enumerate*}\n",
       "\n",
       "\\item \\begin{tabular}{llll}\n",
       "\t 1  & 4  & 7  & 10\\\\\n",
       "\t 2  & 5  & 8  & 11\\\\\n",
       "\t 3  & 6  & 9  & 12\\\\\n",
       "\\end{tabular}\n",
       "\n",
       "\\item \\begin{tabular}{r|llll}\n",
       " Name & Value1 & Value2 & value3\\\\\n",
       "\\hline\n",
       "\t a1    & 23    &  1    &  TRUE\\\\\n",
       "\t a2    &  4    & 45    & FALSE\\\\\n",
       "\t b3    & 12    &  5    & FALSE\\\\\n",
       "\\end{tabular}\n",
       "\n",
       "\\end{enumerate}\n"
      ],
      "text/markdown": [
       "1. 1. 2\n",
       "2. 4\n",
       "3. 5\n",
       "\n",
       "\n",
       "\n",
       "2. 1. 1\n",
       "2. 2\n",
       "3. 3\n",
       "4. 4\n",
       "5. 5\n",
       "6. 6\n",
       "7. 7\n",
       "8. 8\n",
       "9. 9\n",
       "10. 10\n",
       "11. 11\n",
       "12. 12\n",
       "\n",
       "\n",
       "\n",
       "3. \n",
       "| 1  | 4  | 7  | 10 | \n",
       "| 2  | 5  | 8  | 11 | \n",
       "| 3  | 6  | 9  | 12 | \n",
       "\n",
       "\n",
       "\n",
       "4. \n",
       "Name | Value1 | Value2 | value3 | \n",
       "|---|---|---|\n",
       "| a1    | 23    |  1    |  TRUE | \n",
       "| a2    |  4    | 45    | FALSE | \n",
       "| b3    | 12    |  5    | FALSE | \n",
       "\n",
       "\n",
       "\n",
       "\n",
       "\n"
      ],
      "text/plain": [
       "[[1]]\n",
       "[1] 2 4 5\n",
       "\n",
       "[[2]]\n",
       " [1]  1  2  3  4  5  6  7  8  9 10 11 12\n",
       "\n",
       "[[3]]\n",
       "     [,1] [,2] [,3] [,4]\n",
       "[1,]    1    4    7   10\n",
       "[2,]    2    5    8   11\n",
       "[3,]    3    6    9   12\n",
       "\n",
       "[[4]]\n",
       "  Name Value1 Value2 value3\n",
       "1   a1     23      1   TRUE\n",
       "2   a2      4     45  FALSE\n",
       "3   b3     12      5  FALSE\n"
      ]
     },
     "metadata": {},
     "output_type": "display_data"
    },
    {
     "data": {
      "text/html": [
       "<ol>\n",
       "\t<li><table>\n",
       "<tbody>\n",
       "\t<tr><td>1 </td><td>4 </td><td>7 </td><td>10</td></tr>\n",
       "\t<tr><td>2 </td><td>5 </td><td>8 </td><td>11</td></tr>\n",
       "\t<tr><td>3 </td><td>6 </td><td>9 </td><td>12</td></tr>\n",
       "</tbody>\n",
       "</table>\n",
       "</li>\n",
       "</ol>\n"
      ],
      "text/latex": [
       "\\begin{enumerate}\n",
       "\\item \\begin{tabular}{llll}\n",
       "\t 1  & 4  & 7  & 10\\\\\n",
       "\t 2  & 5  & 8  & 11\\\\\n",
       "\t 3  & 6  & 9  & 12\\\\\n",
       "\\end{tabular}\n",
       "\n",
       "\\end{enumerate}\n"
      ],
      "text/markdown": [
       "1. \n",
       "| 1  | 4  | 7  | 10 | \n",
       "| 2  | 5  | 8  | 11 | \n",
       "| 3  | 6  | 9  | 12 | \n",
       "\n",
       "\n",
       "\n",
       "\n",
       "\n"
      ],
      "text/plain": [
       "[[1]]\n",
       "     [,1] [,2] [,3] [,4]\n",
       "[1,]    1    4    7   10\n",
       "[2,]    2    5    8   11\n",
       "[3,]    3    6    9   12\n"
      ]
     },
     "metadata": {},
     "output_type": "display_data"
    },
    {
     "data": {
      "text/html": [
       "<ol>\n",
       "\t<li><ol class=list-inline>\n",
       "\t<li>2</li>\n",
       "\t<li>4</li>\n",
       "\t<li>5</li>\n",
       "</ol>\n",
       "</li>\n",
       "\t<li><ol class=list-inline>\n",
       "\t<li>1</li>\n",
       "\t<li>2</li>\n",
       "\t<li>3</li>\n",
       "\t<li>4</li>\n",
       "\t<li>5</li>\n",
       "\t<li>6</li>\n",
       "\t<li>7</li>\n",
       "\t<li>8</li>\n",
       "\t<li>9</li>\n",
       "\t<li>10</li>\n",
       "\t<li>11</li>\n",
       "\t<li>12</li>\n",
       "</ol>\n",
       "</li>\n",
       "\t<li><table>\n",
       "<tbody>\n",
       "\t<tr><td>1 </td><td>4 </td><td>7 </td><td>10</td></tr>\n",
       "\t<tr><td>2 </td><td>5 </td><td>8 </td><td>11</td></tr>\n",
       "\t<tr><td>3 </td><td>6 </td><td>9 </td><td>12</td></tr>\n",
       "</tbody>\n",
       "</table>\n",
       "</li>\n",
       "\t<li><table>\n",
       "<thead><tr><th scope=col>Name</th><th scope=col>Value1</th><th scope=col>Value2</th><th scope=col>value3</th></tr></thead>\n",
       "<tbody>\n",
       "\t<tr><td>a1   </td><td>23   </td><td> 1   </td><td> TRUE</td></tr>\n",
       "\t<tr><td>a2   </td><td> 4   </td><td>45   </td><td>FALSE</td></tr>\n",
       "\t<tr><td>b3   </td><td>12   </td><td> 5   </td><td>FALSE</td></tr>\n",
       "</tbody>\n",
       "</table>\n",
       "</li>\n",
       "</ol>\n"
      ],
      "text/latex": [
       "\\begin{enumerate}\n",
       "\\item \\begin{enumerate*}\n",
       "\\item 2\n",
       "\\item 4\n",
       "\\item 5\n",
       "\\end{enumerate*}\n",
       "\n",
       "\\item \\begin{enumerate*}\n",
       "\\item 1\n",
       "\\item 2\n",
       "\\item 3\n",
       "\\item 4\n",
       "\\item 5\n",
       "\\item 6\n",
       "\\item 7\n",
       "\\item 8\n",
       "\\item 9\n",
       "\\item 10\n",
       "\\item 11\n",
       "\\item 12\n",
       "\\end{enumerate*}\n",
       "\n",
       "\\item \\begin{tabular}{llll}\n",
       "\t 1  & 4  & 7  & 10\\\\\n",
       "\t 2  & 5  & 8  & 11\\\\\n",
       "\t 3  & 6  & 9  & 12\\\\\n",
       "\\end{tabular}\n",
       "\n",
       "\\item \\begin{tabular}{r|llll}\n",
       " Name & Value1 & Value2 & value3\\\\\n",
       "\\hline\n",
       "\t a1    & 23    &  1    &  TRUE\\\\\n",
       "\t a2    &  4    & 45    & FALSE\\\\\n",
       "\t b3    & 12    &  5    & FALSE\\\\\n",
       "\\end{tabular}\n",
       "\n",
       "\\end{enumerate}\n"
      ],
      "text/markdown": [
       "1. 1. 2\n",
       "2. 4\n",
       "3. 5\n",
       "\n",
       "\n",
       "\n",
       "2. 1. 1\n",
       "2. 2\n",
       "3. 3\n",
       "4. 4\n",
       "5. 5\n",
       "6. 6\n",
       "7. 7\n",
       "8. 8\n",
       "9. 9\n",
       "10. 10\n",
       "11. 11\n",
       "12. 12\n",
       "\n",
       "\n",
       "\n",
       "3. \n",
       "| 1  | 4  | 7  | 10 | \n",
       "| 2  | 5  | 8  | 11 | \n",
       "| 3  | 6  | 9  | 12 | \n",
       "\n",
       "\n",
       "\n",
       "4. \n",
       "Name | Value1 | Value2 | value3 | \n",
       "|---|---|---|\n",
       "| a1    | 23    |  1    |  TRUE | \n",
       "| a2    |  4    | 45    | FALSE | \n",
       "| b3    | 12    |  5    | FALSE | \n",
       "\n",
       "\n",
       "\n",
       "\n",
       "\n"
      ],
      "text/plain": [
       "[[1]]\n",
       "[1] 2 4 5\n",
       "\n",
       "[[2]]\n",
       " [1]  1  2  3  4  5  6  7  8  9 10 11 12\n",
       "\n",
       "[[3]]\n",
       "     [,1] [,2] [,3] [,4]\n",
       "[1,]    1    4    7   10\n",
       "[2,]    2    5    8   11\n",
       "[3,]    3    6    9   12\n",
       "\n",
       "[[4]]\n",
       "  Name Value1 Value2 value3\n",
       "1   a1     23      1   TRUE\n",
       "2   a2      4     45  FALSE\n",
       "3   b3     12      5  FALSE\n"
      ]
     },
     "metadata": {},
     "output_type": "display_data"
    },
    {
     "data": {
      "text/html": [
       "<ol>\n",
       "\t<li><ol>\n",
       "\t<li><ol class=list-inline>\n",
       "\t<li>2</li>\n",
       "\t<li>4</li>\n",
       "\t<li>5</li>\n",
       "</ol>\n",
       "</li>\n",
       "\t<li><ol class=list-inline>\n",
       "\t<li>1</li>\n",
       "\t<li>2</li>\n",
       "\t<li>3</li>\n",
       "\t<li>4</li>\n",
       "\t<li>5</li>\n",
       "\t<li>6</li>\n",
       "\t<li>7</li>\n",
       "\t<li>8</li>\n",
       "\t<li>9</li>\n",
       "\t<li>10</li>\n",
       "\t<li>11</li>\n",
       "\t<li>12</li>\n",
       "</ol>\n",
       "</li>\n",
       "\t<li><table>\n",
       "<tbody>\n",
       "\t<tr><td>1 </td><td>4 </td><td>7 </td><td>10</td></tr>\n",
       "\t<tr><td>2 </td><td>5 </td><td>8 </td><td>11</td></tr>\n",
       "\t<tr><td>3 </td><td>6 </td><td>9 </td><td>12</td></tr>\n",
       "</tbody>\n",
       "</table>\n",
       "</li>\n",
       "\t<li><table>\n",
       "<thead><tr><th scope=col>Name</th><th scope=col>Value1</th><th scope=col>Value2</th><th scope=col>value3</th></tr></thead>\n",
       "<tbody>\n",
       "\t<tr><td>a1   </td><td>23   </td><td> 1   </td><td> TRUE</td></tr>\n",
       "\t<tr><td>a2   </td><td> 4   </td><td>45   </td><td>FALSE</td></tr>\n",
       "\t<tr><td>b3   </td><td>12   </td><td> 5   </td><td>FALSE</td></tr>\n",
       "</tbody>\n",
       "</table>\n",
       "</li>\n",
       "</ol>\n",
       "</li>\n",
       "</ol>\n"
      ],
      "text/latex": [
       "\\begin{enumerate}\n",
       "\\item \\begin{enumerate}\n",
       "\\item \\begin{enumerate*}\n",
       "\\item 2\n",
       "\\item 4\n",
       "\\item 5\n",
       "\\end{enumerate*}\n",
       "\n",
       "\\item \\begin{enumerate*}\n",
       "\\item 1\n",
       "\\item 2\n",
       "\\item 3\n",
       "\\item 4\n",
       "\\item 5\n",
       "\\item 6\n",
       "\\item 7\n",
       "\\item 8\n",
       "\\item 9\n",
       "\\item 10\n",
       "\\item 11\n",
       "\\item 12\n",
       "\\end{enumerate*}\n",
       "\n",
       "\\item \\begin{tabular}{llll}\n",
       "\t 1  & 4  & 7  & 10\\\\\n",
       "\t 2  & 5  & 8  & 11\\\\\n",
       "\t 3  & 6  & 9  & 12\\\\\n",
       "\\end{tabular}\n",
       "\n",
       "\\item \\begin{tabular}{r|llll}\n",
       " Name & Value1 & Value2 & value3\\\\\n",
       "\\hline\n",
       "\t a1    & 23    &  1    &  TRUE\\\\\n",
       "\t a2    &  4    & 45    & FALSE\\\\\n",
       "\t b3    & 12    &  5    & FALSE\\\\\n",
       "\\end{tabular}\n",
       "\n",
       "\\end{enumerate}\n",
       "\n",
       "\\end{enumerate}\n"
      ],
      "text/markdown": [
       "1. 1. 1. 2\n",
       "2. 4\n",
       "3. 5\n",
       "\n",
       "\n",
       "\n",
       "2. 1. 1\n",
       "2. 2\n",
       "3. 3\n",
       "4. 4\n",
       "5. 5\n",
       "6. 6\n",
       "7. 7\n",
       "8. 8\n",
       "9. 9\n",
       "10. 10\n",
       "11. 11\n",
       "12. 12\n",
       "\n",
       "\n",
       "\n",
       "3. \n",
       "| 1  | 4  | 7  | 10 | \n",
       "| 2  | 5  | 8  | 11 | \n",
       "| 3  | 6  | 9  | 12 | \n",
       "\n",
       "\n",
       "\n",
       "4. \n",
       "Name | Value1 | Value2 | value3 | \n",
       "|---|---|---|\n",
       "| a1    | 23    |  1    |  TRUE | \n",
       "| a2    |  4    | 45    | FALSE | \n",
       "| b3    | 12    |  5    | FALSE | \n",
       "\n",
       "\n",
       "\n",
       "\n",
       "\n",
       "\n",
       "\n",
       "\n"
      ],
      "text/plain": [
       "[[1]]\n",
       "[[1]][[1]]\n",
       "[1] 2 4 5\n",
       "\n",
       "[[1]][[2]]\n",
       " [1]  1  2  3  4  5  6  7  8  9 10 11 12\n",
       "\n",
       "[[1]][[3]]\n",
       "     [,1] [,2] [,3] [,4]\n",
       "[1,]    1    4    7   10\n",
       "[2,]    2    5    8   11\n",
       "[3,]    3    6    9   12\n",
       "\n",
       "[[1]][[4]]\n",
       "  Name Value1 Value2 value3\n",
       "1   a1     23      1   TRUE\n",
       "2   a2      4     45  FALSE\n",
       "3   b3     12      5  FALSE\n",
       "\n"
      ]
     },
     "metadata": {},
     "output_type": "display_data"
    },
    {
     "data": {
      "text/html": [
       "<ol>\n",
       "\t<li><ol class=list-inline>\n",
       "\t<li>2</li>\n",
       "\t<li>3</li>\n",
       "\t<li>4</li>\n",
       "</ol>\n",
       "</li>\n",
       "\t<li><ol class=list-inline>\n",
       "\t<li>'hello'</li>\n",
       "\t<li>'hai'</li>\n",
       "</ol>\n",
       "</li>\n",
       "</ol>\n"
      ],
      "text/latex": [
       "\\begin{enumerate}\n",
       "\\item \\begin{enumerate*}\n",
       "\\item 2\n",
       "\\item 3\n",
       "\\item 4\n",
       "\\end{enumerate*}\n",
       "\n",
       "\\item \\begin{enumerate*}\n",
       "\\item 'hello'\n",
       "\\item 'hai'\n",
       "\\end{enumerate*}\n",
       "\n",
       "\\end{enumerate}\n"
      ],
      "text/markdown": [
       "1. 1. 2\n",
       "2. 3\n",
       "3. 4\n",
       "\n",
       "\n",
       "\n",
       "2. 1. 'hello'\n",
       "2. 'hai'\n",
       "\n",
       "\n",
       "\n",
       "\n",
       "\n"
      ],
      "text/plain": [
       "[[1]]\n",
       "[1] 2 3 4\n",
       "\n",
       "[[2]]\n",
       "[1] \"hello\" \"hai\"  \n"
      ]
     },
     "metadata": {},
     "output_type": "display_data"
    },
    {
     "data": {
      "text/html": [
       "<ol>\n",
       "\t<li><ol class=list-inline>\n",
       "\t<li>2</li>\n",
       "\t<li>3</li>\n",
       "\t<li>4</li>\n",
       "</ol>\n",
       "</li>\n",
       "</ol>\n"
      ],
      "text/latex": [
       "\\begin{enumerate}\n",
       "\\item \\begin{enumerate*}\n",
       "\\item 2\n",
       "\\item 3\n",
       "\\item 4\n",
       "\\end{enumerate*}\n",
       "\n",
       "\\end{enumerate}\n"
      ],
      "text/markdown": [
       "1. 1. 2\n",
       "2. 3\n",
       "3. 4\n",
       "\n",
       "\n",
       "\n",
       "\n",
       "\n"
      ],
      "text/plain": [
       "[[1]]\n",
       "[1] 2 3 4\n"
      ]
     },
     "metadata": {},
     "output_type": "display_data"
    },
    {
     "data": {
      "text/html": [
       "<ol class=list-inline>\n",
       "\t<li>2</li>\n",
       "\t<li>3</li>\n",
       "\t<li>4</li>\n",
       "</ol>\n"
      ],
      "text/latex": [
       "\\begin{enumerate*}\n",
       "\\item 2\n",
       "\\item 3\n",
       "\\item 4\n",
       "\\end{enumerate*}\n"
      ],
      "text/markdown": [
       "1. 2\n",
       "2. 3\n",
       "3. 4\n",
       "\n",
       "\n"
      ],
      "text/plain": [
       "[1] 2 3 4"
      ]
     },
     "metadata": {},
     "output_type": "display_data"
    },
    {
     "data": {
      "text/html": [
       "<ol class=list-inline>\n",
       "\t<li>'hello'</li>\n",
       "\t<li>'hai'</li>\n",
       "</ol>\n"
      ],
      "text/latex": [
       "\\begin{enumerate*}\n",
       "\\item 'hello'\n",
       "\\item 'hai'\n",
       "\\end{enumerate*}\n"
      ],
      "text/markdown": [
       "1. 'hello'\n",
       "2. 'hai'\n",
       "\n",
       "\n"
      ],
      "text/plain": [
       "[1] \"hello\" \"hai\"  "
      ]
     },
     "metadata": {},
     "output_type": "display_data"
    },
    {
     "data": {
      "text/html": [
       "<ol>\n",
       "\t<li><ol class=list-inline>\n",
       "\t<li>'hello'</li>\n",
       "\t<li>'hai'</li>\n",
       "</ol>\n",
       "</li>\n",
       "</ol>\n"
      ],
      "text/latex": [
       "\\begin{enumerate}\n",
       "\\item \\begin{enumerate*}\n",
       "\\item 'hello'\n",
       "\\item 'hai'\n",
       "\\end{enumerate*}\n",
       "\n",
       "\\end{enumerate}\n"
      ],
      "text/markdown": [
       "1. 1. 'hello'\n",
       "2. 'hai'\n",
       "\n",
       "\n",
       "\n",
       "\n",
       "\n"
      ],
      "text/plain": [
       "[[1]]\n",
       "[1] \"hello\" \"hai\"  \n"
      ]
     },
     "metadata": {},
     "output_type": "display_data"
    },
    {
     "data": {
      "text/html": [
       "<ol>\n",
       "\t<li><ol class=list-inline>\n",
       "\t<li>'hello'</li>\n",
       "\t<li>'hai'</li>\n",
       "</ol>\n",
       "</li>\n",
       "</ol>\n"
      ],
      "text/latex": [
       "\\begin{enumerate}\n",
       "\\item \\begin{enumerate*}\n",
       "\\item 'hello'\n",
       "\\item 'hai'\n",
       "\\end{enumerate*}\n",
       "\n",
       "\\end{enumerate}\n"
      ],
      "text/markdown": [
       "1. 1. 'hello'\n",
       "2. 'hai'\n",
       "\n",
       "\n",
       "\n",
       "\n",
       "\n"
      ],
      "text/plain": [
       "[[1]]\n",
       "[1] \"hello\" \"hai\"  \n"
      ]
     },
     "metadata": {},
     "output_type": "display_data"
    },
    {
     "data": {
      "text/html": [
       "<ol>\n",
       "\t<li><ol class=list-inline>\n",
       "\t<li>2</li>\n",
       "\t<li>3</li>\n",
       "\t<li>4</li>\n",
       "</ol>\n",
       "</li>\n",
       "\t<li><ol class=list-inline>\n",
       "\t<li>'hello'</li>\n",
       "\t<li>'hai'</li>\n",
       "</ol>\n",
       "</li>\n",
       "</ol>\n"
      ],
      "text/latex": [
       "\\begin{enumerate}\n",
       "\\item \\begin{enumerate*}\n",
       "\\item 2\n",
       "\\item 3\n",
       "\\item 4\n",
       "\\end{enumerate*}\n",
       "\n",
       "\\item \\begin{enumerate*}\n",
       "\\item 'hello'\n",
       "\\item 'hai'\n",
       "\\end{enumerate*}\n",
       "\n",
       "\\end{enumerate}\n"
      ],
      "text/markdown": [
       "1. 1. 2\n",
       "2. 3\n",
       "3. 4\n",
       "\n",
       "\n",
       "\n",
       "2. 1. 'hello'\n",
       "2. 'hai'\n",
       "\n",
       "\n",
       "\n",
       "\n",
       "\n"
      ],
      "text/plain": [
       "[[1]]\n",
       "[1] 2 3 4\n",
       "\n",
       "[[2]]\n",
       "[1] \"hello\" \"hai\"  \n"
      ]
     },
     "metadata": {},
     "output_type": "display_data"
    },
    {
     "data": {
      "text/html": [
       "<ol class=list-inline>\n",
       "\t<li>'hello'</li>\n",
       "\t<li>'hai'</li>\n",
       "</ol>\n"
      ],
      "text/latex": [
       "\\begin{enumerate*}\n",
       "\\item 'hello'\n",
       "\\item 'hai'\n",
       "\\end{enumerate*}\n"
      ],
      "text/markdown": [
       "1. 'hello'\n",
       "2. 'hai'\n",
       "\n",
       "\n"
      ],
      "text/plain": [
       "[1] \"hello\" \"hai\"  "
      ]
     },
     "metadata": {},
     "output_type": "display_data"
    },
    {
     "data": {
      "text/html": [
       "<ol>\n",
       "\t<li><ol class=list-inline>\n",
       "\t<li>'hello'</li>\n",
       "\t<li>'hai'</li>\n",
       "</ol>\n",
       "</li>\n",
       "</ol>\n"
      ],
      "text/latex": [
       "\\begin{enumerate}\n",
       "\\item \\begin{enumerate*}\n",
       "\\item 'hello'\n",
       "\\item 'hai'\n",
       "\\end{enumerate*}\n",
       "\n",
       "\\end{enumerate}\n"
      ],
      "text/markdown": [
       "1. 1. 'hello'\n",
       "2. 'hai'\n",
       "\n",
       "\n",
       "\n",
       "\n",
       "\n"
      ],
      "text/plain": [
       "[[1]]\n",
       "[1] \"hello\" \"hai\"  \n"
      ]
     },
     "metadata": {},
     "output_type": "display_data"
    },
    {
     "data": {
      "text/html": [
       "<ol>\n",
       "\t<li><ol class=list-inline>\n",
       "\t<li>'hello'</li>\n",
       "\t<li>'hai'</li>\n",
       "</ol>\n",
       "</li>\n",
       "</ol>\n"
      ],
      "text/latex": [
       "\\begin{enumerate}\n",
       "\\item \\begin{enumerate*}\n",
       "\\item 'hello'\n",
       "\\item 'hai'\n",
       "\\end{enumerate*}\n",
       "\n",
       "\\end{enumerate}\n"
      ],
      "text/markdown": [
       "1. 1. 'hello'\n",
       "2. 'hai'\n",
       "\n",
       "\n",
       "\n",
       "\n",
       "\n"
      ],
      "text/plain": [
       "[[1]]\n",
       "[1] \"hello\" \"hai\"  \n"
      ]
     },
     "metadata": {},
     "output_type": "display_data"
    },
    {
     "data": {
      "text/html": [
       "<ol>\n",
       "\t<li><ol class=list-inline>\n",
       "\t<li>'hello'</li>\n",
       "\t<li>'hai'</li>\n",
       "</ol>\n",
       "</li>\n",
       "</ol>\n"
      ],
      "text/latex": [
       "\\begin{enumerate}\n",
       "\\item \\begin{enumerate*}\n",
       "\\item 'hello'\n",
       "\\item 'hai'\n",
       "\\end{enumerate*}\n",
       "\n",
       "\\end{enumerate}\n"
      ],
      "text/markdown": [
       "1. 1. 'hello'\n",
       "2. 'hai'\n",
       "\n",
       "\n",
       "\n",
       "\n",
       "\n"
      ],
      "text/plain": [
       "[[1]]\n",
       "[1] \"hello\" \"hai\"  \n"
      ]
     },
     "metadata": {},
     "output_type": "display_data"
    },
    {
     "data": {
      "text/html": [
       "<ol class=list-inline>\n",
       "\t<li>'hello'</li>\n",
       "\t<li>'hai'</li>\n",
       "</ol>\n"
      ],
      "text/latex": [
       "\\begin{enumerate*}\n",
       "\\item 'hello'\n",
       "\\item 'hai'\n",
       "\\end{enumerate*}\n"
      ],
      "text/markdown": [
       "1. 'hello'\n",
       "2. 'hai'\n",
       "\n",
       "\n"
      ],
      "text/plain": [
       "[1] \"hello\" \"hai\"  "
      ]
     },
     "metadata": {},
     "output_type": "display_data"
    },
    {
     "data": {
      "text/html": [
       "<ol class=list-inline>\n",
       "\t<li>1</li>\n",
       "\t<li>2</li>\n",
       "\t<li>3</li>\n",
       "\t<li>4</li>\n",
       "\t<li>5</li>\n",
       "\t<li>6</li>\n",
       "\t<li>7</li>\n",
       "\t<li>8</li>\n",
       "\t<li>9</li>\n",
       "\t<li>10</li>\n",
       "\t<li>11</li>\n",
       "\t<li>12</li>\n",
       "</ol>\n"
      ],
      "text/latex": [
       "\\begin{enumerate*}\n",
       "\\item 1\n",
       "\\item 2\n",
       "\\item 3\n",
       "\\item 4\n",
       "\\item 5\n",
       "\\item 6\n",
       "\\item 7\n",
       "\\item 8\n",
       "\\item 9\n",
       "\\item 10\n",
       "\\item 11\n",
       "\\item 12\n",
       "\\end{enumerate*}\n"
      ],
      "text/markdown": [
       "1. 1\n",
       "2. 2\n",
       "3. 3\n",
       "4. 4\n",
       "5. 5\n",
       "6. 6\n",
       "7. 7\n",
       "8. 8\n",
       "9. 9\n",
       "10. 10\n",
       "11. 11\n",
       "12. 12\n",
       "\n",
       "\n"
      ],
      "text/plain": [
       " [1]  1  2  3  4  5  6  7  8  9 10 11 12"
      ]
     },
     "metadata": {},
     "output_type": "display_data"
    },
    {
     "data": {
      "text/html": [
       "<dl class=dl-horizontal>\n",
       "\t<dt>Jan</dt>\n",
       "\t\t<dd>1</dd>\n",
       "\t<dt>Feb</dt>\n",
       "\t\t<dd>2</dd>\n",
       "\t<dt>Mar</dt>\n",
       "\t\t<dd>3</dd>\n",
       "\t<dt>Apr</dt>\n",
       "\t\t<dd>4</dd>\n",
       "\t<dt>May</dt>\n",
       "\t\t<dd>5</dd>\n",
       "\t<dt>Jun</dt>\n",
       "\t\t<dd>6</dd>\n",
       "\t<dt>Jul</dt>\n",
       "\t\t<dd>7</dd>\n",
       "\t<dt>Aug</dt>\n",
       "\t\t<dd>8</dd>\n",
       "\t<dt>Sep</dt>\n",
       "\t\t<dd>9</dd>\n",
       "\t<dt>Oct</dt>\n",
       "\t\t<dd>10</dd>\n",
       "\t<dt>Nov</dt>\n",
       "\t\t<dd>11</dd>\n",
       "\t<dt>Dec</dt>\n",
       "\t\t<dd>12</dd>\n",
       "</dl>\n"
      ],
      "text/latex": [
       "\\begin{description*}\n",
       "\\item[Jan] 1\n",
       "\\item[Feb] 2\n",
       "\\item[Mar] 3\n",
       "\\item[Apr] 4\n",
       "\\item[May] 5\n",
       "\\item[Jun] 6\n",
       "\\item[Jul] 7\n",
       "\\item[Aug] 8\n",
       "\\item[Sep] 9\n",
       "\\item[Oct] 10\n",
       "\\item[Nov] 11\n",
       "\\item[Dec] 12\n",
       "\\end{description*}\n"
      ],
      "text/markdown": [
       "Jan\n",
       ":   1Feb\n",
       ":   2Mar\n",
       ":   3Apr\n",
       ":   4May\n",
       ":   5Jun\n",
       ":   6Jul\n",
       ":   7Aug\n",
       ":   8Sep\n",
       ":   9Oct\n",
       ":   10Nov\n",
       ":   11Dec\n",
       ":   12\n",
       "\n"
      ],
      "text/plain": [
       "Jan Feb Mar Apr May Jun Jul Aug Sep Oct Nov Dec \n",
       "  1   2   3   4   5   6   7   8   9  10  11  12 "
      ]
     },
     "metadata": {},
     "output_type": "display_data"
    },
    {
     "data": {
      "text/html": [
       "<dl class=dl-horizontal>\n",
       "\t<dt>one</dt>\n",
       "\t\t<dd>1</dd>\n",
       "\t<dt>two</dt>\n",
       "\t\t<dd>2</dd>\n",
       "\t<dt>three</dt>\n",
       "\t\t<dd>3</dd>\n",
       "</dl>\n"
      ],
      "text/latex": [
       "\\begin{description*}\n",
       "\\item[one] 1\n",
       "\\item[two] 2\n",
       "\\item[three] 3\n",
       "\\end{description*}\n"
      ],
      "text/markdown": [
       "one\n",
       ":   1two\n",
       ":   2three\n",
       ":   3\n",
       "\n"
      ],
      "text/plain": [
       "  one   two three \n",
       "    1     2     3 "
      ]
     },
     "metadata": {},
     "output_type": "display_data"
    },
    {
     "data": {
      "text/html": [
       "<strong>NA:</strong> &lt;NA&gt;"
      ],
      "text/latex": [
       "\\textbf{NA:} <NA>"
      ],
      "text/markdown": [
       "**NA:** &lt;NA&gt;"
      ],
      "text/plain": [
       "<NA> \n",
       "  NA "
      ]
     },
     "metadata": {},
     "output_type": "display_data"
    },
    {
     "data": {
      "text/html": [
       "<strong>Jan:</strong> 1"
      ],
      "text/latex": [
       "\\textbf{Jan:} 1"
      ],
      "text/markdown": [
       "**Jan:** 1"
      ],
      "text/plain": [
       "Jan \n",
       "  1 "
      ]
     },
     "metadata": {},
     "output_type": "display_data"
    },
    {
     "data": {
      "text/html": [
       "<strong>Feb:</strong> 2"
      ],
      "text/latex": [
       "\\textbf{Feb:} 2"
      ],
      "text/markdown": [
       "**Feb:** 2"
      ],
      "text/plain": [
       "Feb \n",
       "  2 "
      ]
     },
     "metadata": {},
     "output_type": "display_data"
    },
    {
     "data": {
      "text/html": [
       "<dl class=dl-horizontal>\n",
       "\t<dt>Feb</dt>\n",
       "\t\t<dd>2</dd>\n",
       "\t<dt>Aug</dt>\n",
       "\t\t<dd>8</dd>\n",
       "\t<dt>May</dt>\n",
       "\t\t<dd>5</dd>\n",
       "</dl>\n"
      ],
      "text/latex": [
       "\\begin{description*}\n",
       "\\item[Feb] 2\n",
       "\\item[Aug] 8\n",
       "\\item[May] 5\n",
       "\\end{description*}\n"
      ],
      "text/markdown": [
       "Feb\n",
       ":   2Aug\n",
       ":   8May\n",
       ":   5\n",
       "\n"
      ],
      "text/plain": [
       "Feb Aug May \n",
       "  2   8   5 "
      ]
     },
     "metadata": {},
     "output_type": "display_data"
    },
    {
     "data": {
      "text/html": [
       "<dl class=dl-horizontal>\n",
       "\t<dt>Jan</dt>\n",
       "\t\t<dd>1</dd>\n",
       "\t<dt>Mar</dt>\n",
       "\t\t<dd>3</dd>\n",
       "\t<dt>Apr</dt>\n",
       "\t\t<dd>4</dd>\n",
       "\t<dt>Jun</dt>\n",
       "\t\t<dd>6</dd>\n",
       "\t<dt>Jul</dt>\n",
       "\t\t<dd>7</dd>\n",
       "\t<dt>Sep</dt>\n",
       "\t\t<dd>9</dd>\n",
       "\t<dt>Oct</dt>\n",
       "\t\t<dd>10</dd>\n",
       "\t<dt>Dec</dt>\n",
       "\t\t<dd>12</dd>\n",
       "</dl>\n"
      ],
      "text/latex": [
       "\\begin{description*}\n",
       "\\item[Jan] 1\n",
       "\\item[Mar] 3\n",
       "\\item[Apr] 4\n",
       "\\item[Jun] 6\n",
       "\\item[Jul] 7\n",
       "\\item[Sep] 9\n",
       "\\item[Oct] 10\n",
       "\\item[Dec] 12\n",
       "\\end{description*}\n"
      ],
      "text/markdown": [
       "Jan\n",
       ":   1Mar\n",
       ":   3Apr\n",
       ":   4Jun\n",
       ":   6Jul\n",
       ":   7Sep\n",
       ":   9Oct\n",
       ":   10Dec\n",
       ":   12\n",
       "\n"
      ],
      "text/plain": [
       "Jan Mar Apr Jun Jul Sep Oct Dec \n",
       "  1   3   4   6   7   9  10  12 "
      ]
     },
     "metadata": {},
     "output_type": "display_data"
    },
    {
     "data": {
      "text/html": [
       "<dl class=dl-horizontal>\n",
       "\t<dt>Jan</dt>\n",
       "\t\t<dd>2</dd>\n",
       "\t<dt>Feb</dt>\n",
       "\t\t<dd>4</dd>\n",
       "\t<dt>Mar</dt>\n",
       "\t\t<dd>6</dd>\n",
       "\t<dt>Apr</dt>\n",
       "\t\t<dd>8</dd>\n",
       "\t<dt>May</dt>\n",
       "\t\t<dd>10</dd>\n",
       "\t<dt>Jun</dt>\n",
       "\t\t<dd>12</dd>\n",
       "\t<dt>Jul</dt>\n",
       "\t\t<dd>14</dd>\n",
       "\t<dt>Aug</dt>\n",
       "\t\t<dd>16</dd>\n",
       "\t<dt>Sep</dt>\n",
       "\t\t<dd>18</dd>\n",
       "\t<dt>Oct</dt>\n",
       "\t\t<dd>20</dd>\n",
       "\t<dt>Nov</dt>\n",
       "\t\t<dd>22</dd>\n",
       "\t<dt>Dec</dt>\n",
       "\t\t<dd>24</dd>\n",
       "</dl>\n"
      ],
      "text/latex": [
       "\\begin{description*}\n",
       "\\item[Jan] 2\n",
       "\\item[Feb] 4\n",
       "\\item[Mar] 6\n",
       "\\item[Apr] 8\n",
       "\\item[May] 10\n",
       "\\item[Jun] 12\n",
       "\\item[Jul] 14\n",
       "\\item[Aug] 16\n",
       "\\item[Sep] 18\n",
       "\\item[Oct] 20\n",
       "\\item[Nov] 22\n",
       "\\item[Dec] 24\n",
       "\\end{description*}\n"
      ],
      "text/markdown": [
       "Jan\n",
       ":   2Feb\n",
       ":   4Mar\n",
       ":   6Apr\n",
       ":   8May\n",
       ":   10Jun\n",
       ":   12Jul\n",
       ":   14Aug\n",
       ":   16Sep\n",
       ":   18Oct\n",
       ":   20Nov\n",
       ":   22Dec\n",
       ":   24\n",
       "\n"
      ],
      "text/plain": [
       "Jan Feb Mar Apr May Jun Jul Aug Sep Oct Nov Dec \n",
       "  2   4   6   8  10  12  14  16  18  20  22  24 "
      ]
     },
     "metadata": {},
     "output_type": "display_data"
    },
    {
     "data": {
      "text/html": [
       "<dl class=dl-horizontal>\n",
       "\t<dt>Jan</dt>\n",
       "\t\t<dd>3</dd>\n",
       "\t<dt>Feb</dt>\n",
       "\t\t<dd>6</dd>\n",
       "\t<dt>Mar</dt>\n",
       "\t\t<dd>9</dd>\n",
       "\t<dt>Apr</dt>\n",
       "\t\t<dd>12</dd>\n",
       "\t<dt>May</dt>\n",
       "\t\t<dd>15</dd>\n",
       "\t<dt>Jun</dt>\n",
       "\t\t<dd>18</dd>\n",
       "\t<dt>Jul</dt>\n",
       "\t\t<dd>21</dd>\n",
       "\t<dt>Aug</dt>\n",
       "\t\t<dd>24</dd>\n",
       "\t<dt>Sep</dt>\n",
       "\t\t<dd>27</dd>\n",
       "\t<dt>Oct</dt>\n",
       "\t\t<dd>30</dd>\n",
       "\t<dt>Nov</dt>\n",
       "\t\t<dd>33</dd>\n",
       "\t<dt>Dec</dt>\n",
       "\t\t<dd>36</dd>\n",
       "</dl>\n"
      ],
      "text/latex": [
       "\\begin{description*}\n",
       "\\item[Jan] 3\n",
       "\\item[Feb] 6\n",
       "\\item[Mar] 9\n",
       "\\item[Apr] 12\n",
       "\\item[May] 15\n",
       "\\item[Jun] 18\n",
       "\\item[Jul] 21\n",
       "\\item[Aug] 24\n",
       "\\item[Sep] 27\n",
       "\\item[Oct] 30\n",
       "\\item[Nov] 33\n",
       "\\item[Dec] 36\n",
       "\\end{description*}\n"
      ],
      "text/markdown": [
       "Jan\n",
       ":   3Feb\n",
       ":   6Mar\n",
       ":   9Apr\n",
       ":   12May\n",
       ":   15Jun\n",
       ":   18Jul\n",
       ":   21Aug\n",
       ":   24Sep\n",
       ":   27Oct\n",
       ":   30Nov\n",
       ":   33Dec\n",
       ":   36\n",
       "\n"
      ],
      "text/plain": [
       "Jan Feb Mar Apr May Jun Jul Aug Sep Oct Nov Dec \n",
       "  3   6   9  12  15  18  21  24  27  30  33  36 "
      ]
     },
     "metadata": {},
     "output_type": "display_data"
    },
    {
     "data": {
      "text/html": [],
      "text/latex": [],
      "text/markdown": [],
      "text/plain": [
       "named integer(0)"
      ]
     },
     "metadata": {},
     "output_type": "display_data"
    },
    {
     "data": {
      "text/html": [
       "<dl class=dl-horizontal>\n",
       "\t<dt>Jan</dt>\n",
       "\t\t<dd>FALSE</dd>\n",
       "\t<dt>Feb</dt>\n",
       "\t\t<dd>FALSE</dd>\n",
       "\t<dt>Mar</dt>\n",
       "\t\t<dd>FALSE</dd>\n",
       "\t<dt>Apr</dt>\n",
       "\t\t<dd>FALSE</dd>\n",
       "\t<dt>May</dt>\n",
       "\t\t<dd>FALSE</dd>\n",
       "\t<dt>Jun</dt>\n",
       "\t\t<dd>FALSE</dd>\n",
       "\t<dt>Jul</dt>\n",
       "\t\t<dd>FALSE</dd>\n",
       "\t<dt>Aug</dt>\n",
       "\t\t<dd>FALSE</dd>\n",
       "\t<dt>Sep</dt>\n",
       "\t\t<dd>FALSE</dd>\n",
       "\t<dt>Oct</dt>\n",
       "\t\t<dd>FALSE</dd>\n",
       "\t<dt>Nov</dt>\n",
       "\t\t<dd>FALSE</dd>\n",
       "\t<dt>Dec</dt>\n",
       "\t\t<dd>FALSE</dd>\n",
       "</dl>\n"
      ],
      "text/latex": [
       "\\begin{description*}\n",
       "\\item[Jan] FALSE\n",
       "\\item[Feb] FALSE\n",
       "\\item[Mar] FALSE\n",
       "\\item[Apr] FALSE\n",
       "\\item[May] FALSE\n",
       "\\item[Jun] FALSE\n",
       "\\item[Jul] FALSE\n",
       "\\item[Aug] FALSE\n",
       "\\item[Sep] FALSE\n",
       "\\item[Oct] FALSE\n",
       "\\item[Nov] FALSE\n",
       "\\item[Dec] FALSE\n",
       "\\end{description*}\n"
      ],
      "text/markdown": [
       "Jan\n",
       ":   FALSEFeb\n",
       ":   FALSEMar\n",
       ":   FALSEApr\n",
       ":   FALSEMay\n",
       ":   FALSEJun\n",
       ":   FALSEJul\n",
       ":   FALSEAug\n",
       ":   FALSESep\n",
       ":   FALSEOct\n",
       ":   FALSENov\n",
       ":   FALSEDec\n",
       ":   FALSE\n",
       "\n"
      ],
      "text/plain": [
       "  Jan   Feb   Mar   Apr   May   Jun   Jul   Aug   Sep   Oct   Nov   Dec \n",
       "FALSE FALSE FALSE FALSE FALSE FALSE FALSE FALSE FALSE FALSE FALSE FALSE "
      ]
     },
     "metadata": {},
     "output_type": "display_data"
    },
    {
     "data": {
      "text/html": [
       "<dl class=dl-horizontal>\n",
       "\t<dt>Jan</dt>\n",
       "\t\t<dd>1</dd>\n",
       "\t<dt>Feb</dt>\n",
       "\t\t<dd>2</dd>\n",
       "\t<dt>Mar</dt>\n",
       "\t\t<dd>3</dd>\n",
       "\t<dt>Apr</dt>\n",
       "\t\t<dd>4</dd>\n",
       "\t<dt>May</dt>\n",
       "\t\t<dd>5</dd>\n",
       "\t<dt>Jun</dt>\n",
       "\t\t<dd>6</dd>\n",
       "\t<dt>Jul</dt>\n",
       "\t\t<dd>7</dd>\n",
       "\t<dt>Aug</dt>\n",
       "\t\t<dd>8</dd>\n",
       "\t<dt>Sep</dt>\n",
       "\t\t<dd>9</dd>\n",
       "\t<dt>Oct</dt>\n",
       "\t\t<dd>10</dd>\n",
       "\t<dt>Nov</dt>\n",
       "\t\t<dd>11</dd>\n",
       "\t<dt>Dec</dt>\n",
       "\t\t<dd>12</dd>\n",
       "</dl>\n"
      ],
      "text/latex": [
       "\\begin{description*}\n",
       "\\item[Jan] 1\n",
       "\\item[Feb] 2\n",
       "\\item[Mar] 3\n",
       "\\item[Apr] 4\n",
       "\\item[May] 5\n",
       "\\item[Jun] 6\n",
       "\\item[Jul] 7\n",
       "\\item[Aug] 8\n",
       "\\item[Sep] 9\n",
       "\\item[Oct] 10\n",
       "\\item[Nov] 11\n",
       "\\item[Dec] 12\n",
       "\\end{description*}\n"
      ],
      "text/markdown": [
       "Jan\n",
       ":   1Feb\n",
       ":   2Mar\n",
       ":   3Apr\n",
       ":   4May\n",
       ":   5Jun\n",
       ":   6Jul\n",
       ":   7Aug\n",
       ":   8Sep\n",
       ":   9Oct\n",
       ":   10Nov\n",
       ":   11Dec\n",
       ":   12\n",
       "\n"
      ],
      "text/plain": [
       "Jan Feb Mar Apr May Jun Jul Aug Sep Oct Nov Dec \n",
       "  1   2   3   4   5   6   7   8   9  10  11  12 "
      ]
     },
     "metadata": {},
     "output_type": "display_data"
    },
    {
     "data": {
      "text/html": [
       "<ol class=list-inline>\n",
       "\t<li>FALSE</li>\n",
       "\t<li>FALSE</li>\n",
       "\t<li>FALSE</li>\n",
       "\t<li>FALSE</li>\n",
       "\t<li>FALSE</li>\n",
       "\t<li>FALSE</li>\n",
       "\t<li>TRUE</li>\n",
       "\t<li>FALSE</li>\n",
       "\t<li>FALSE</li>\n",
       "\t<li>FALSE</li>\n",
       "\t<li>FALSE</li>\n",
       "\t<li>FALSE</li>\n",
       "</ol>\n"
      ],
      "text/latex": [
       "\\begin{enumerate*}\n",
       "\\item FALSE\n",
       "\\item FALSE\n",
       "\\item FALSE\n",
       "\\item FALSE\n",
       "\\item FALSE\n",
       "\\item FALSE\n",
       "\\item TRUE\n",
       "\\item FALSE\n",
       "\\item FALSE\n",
       "\\item FALSE\n",
       "\\item FALSE\n",
       "\\item FALSE\n",
       "\\end{enumerate*}\n"
      ],
      "text/markdown": [
       "1. FALSE\n",
       "2. FALSE\n",
       "3. FALSE\n",
       "4. FALSE\n",
       "5. FALSE\n",
       "6. FALSE\n",
       "7. TRUE\n",
       "8. FALSE\n",
       "9. FALSE\n",
       "10. FALSE\n",
       "11. FALSE\n",
       "12. FALSE\n",
       "\n",
       "\n"
      ],
      "text/plain": [
       " [1] FALSE FALSE FALSE FALSE FALSE FALSE  TRUE FALSE FALSE FALSE FALSE FALSE"
      ]
     },
     "metadata": {},
     "output_type": "display_data"
    },
    {
     "data": {
      "text/html": [
       "<strong>Jul:</strong> 7"
      ],
      "text/latex": [
       "\\textbf{Jul:} 7"
      ],
      "text/markdown": [
       "**Jul:** 7"
      ],
      "text/plain": [
       "Jul \n",
       "  7 "
      ]
     },
     "metadata": {},
     "output_type": "display_data"
    },
    {
     "data": {
      "text/html": [
       "<dl class=dl-horizontal>\n",
       "\t<dt>Feb</dt>\n",
       "\t\t<dd>2</dd>\n",
       "\t<dt>Mar</dt>\n",
       "\t\t<dd>3</dd>\n",
       "\t<dt>Apr</dt>\n",
       "\t\t<dd>4</dd>\n",
       "\t<dt>May</dt>\n",
       "\t\t<dd>5</dd>\n",
       "\t<dt>Jun</dt>\n",
       "\t\t<dd>6</dd>\n",
       "\t<dt>Jul</dt>\n",
       "\t\t<dd>7</dd>\n",
       "\t<dt>Aug</dt>\n",
       "\t\t<dd>8</dd>\n",
       "\t<dt>Sep</dt>\n",
       "\t\t<dd>9</dd>\n",
       "\t<dt>Oct</dt>\n",
       "\t\t<dd>10</dd>\n",
       "\t<dt>Nov</dt>\n",
       "\t\t<dd>11</dd>\n",
       "\t<dt>Dec</dt>\n",
       "\t\t<dd>12</dd>\n",
       "</dl>\n"
      ],
      "text/latex": [
       "\\begin{description*}\n",
       "\\item[Feb] 2\n",
       "\\item[Mar] 3\n",
       "\\item[Apr] 4\n",
       "\\item[May] 5\n",
       "\\item[Jun] 6\n",
       "\\item[Jul] 7\n",
       "\\item[Aug] 8\n",
       "\\item[Sep] 9\n",
       "\\item[Oct] 10\n",
       "\\item[Nov] 11\n",
       "\\item[Dec] 12\n",
       "\\end{description*}\n"
      ],
      "text/markdown": [
       "Feb\n",
       ":   2Mar\n",
       ":   3Apr\n",
       ":   4May\n",
       ":   5Jun\n",
       ":   6Jul\n",
       ":   7Aug\n",
       ":   8Sep\n",
       ":   9Oct\n",
       ":   10Nov\n",
       ":   11Dec\n",
       ":   12\n",
       "\n"
      ],
      "text/plain": [
       "Feb Mar Apr May Jun Jul Aug Sep Oct Nov Dec \n",
       "  2   3   4   5   6   7   8   9  10  11  12 "
      ]
     },
     "metadata": {},
     "output_type": "display_data"
    },
    {
     "data": {
      "text/html": [
       "<ol class=list-inline>\n",
       "\t<li>0</li>\n",
       "\t<li>0</li>\n",
       "\t<li>0</li>\n",
       "\t<li>0</li>\n",
       "\t<li>0</li>\n",
       "\t<li>0</li>\n",
       "\t<li>-1</li>\n",
       "\t<li>0</li>\n",
       "\t<li>0</li>\n",
       "\t<li>0</li>\n",
       "\t<li>0</li>\n",
       "\t<li>0</li>\n",
       "</ol>\n"
      ],
      "text/latex": [
       "\\begin{enumerate*}\n",
       "\\item 0\n",
       "\\item 0\n",
       "\\item 0\n",
       "\\item 0\n",
       "\\item 0\n",
       "\\item 0\n",
       "\\item -1\n",
       "\\item 0\n",
       "\\item 0\n",
       "\\item 0\n",
       "\\item 0\n",
       "\\item 0\n",
       "\\end{enumerate*}\n"
      ],
      "text/markdown": [
       "1. 0\n",
       "2. 0\n",
       "3. 0\n",
       "4. 0\n",
       "5. 0\n",
       "6. 0\n",
       "7. -1\n",
       "8. 0\n",
       "9. 0\n",
       "10. 0\n",
       "11. 0\n",
       "12. 0\n",
       "\n",
       "\n"
      ],
      "text/plain": [
       " [1]  0  0  0  0  0  0 -1  0  0  0  0  0"
      ]
     },
     "metadata": {},
     "output_type": "display_data"
    }
   ],
   "source": [
    "vect <- 1:12\n",
    "class(vect)\n",
    "vectChar <- rep(\"hello\", 10)\n",
    "vectComp <- c(2+34i,-9-7i,6+6i)\n",
    "vectNum <- c(2,34,67,78)\n",
    "vectLog <- c(TRUE,FALSE,TRUE)\n",
    "\n",
    "# 2 dimentional storage -matrix\n",
    "\n",
    "myMat <- matrix(1:12,nrow = 3,ncol = 4)\n",
    "myMat\n",
    "myMatR <- matrix(1:12,nrow = 3,ncol = 4,byrow = TRUE)\n",
    "myMatR\n",
    "#indexing\n",
    "# mat[r,c]\n",
    "myMat[2,2]\n",
    "myMat[3,2]\n",
    "myMat[,2]#to get second column\n",
    "myMat[2,] #to get second row\n",
    "myMat[,c(1,3)] #to get both first and 3rd column\n",
    "myMat[,-c(1,3)] #to get except first and 3rd column\n",
    "myMat[-c(1,3),] #to get except first and 3rd rows\n",
    "length(vect)\n",
    "vect[1:5][c(TRUE,FALSE,FALSE,TRUE,FALSE)] #logical indexing\n",
    "###### arrays - multi dimentional\n",
    "\n",
    "myArr <- array(1:24,dim = c(3,4,2))\n",
    "myArr\n",
    "myArr[,,1]\n",
    "myArr[,,2]\n",
    "myArr[2,2,2]\n",
    "myArr[c(2,3),2,2]\n",
    "myArr[c(2,3),c(2,3),2]\n",
    "###### dataframe\n",
    "Name <- c(\"a1\", \"a2\", \"b3\") # char vector\n",
    "Value1 <- c(23L, 4L, 12L) # int vector\n",
    "Value2 <- c(1,45,5)       # Numeric vector\n",
    "value3 <- c(TRUE,FALSE,FALSE) # logical vector\n",
    "## create a dataframe\n",
    "dat <- data.frame(Name, Value1, Value2,value3)\n",
    "dat\n",
    "#View(dat)\n",
    "class(myMat)\n",
    "class(dat)\n",
    "class(vect)\n",
    "##indexing data frame\n",
    "dat[1,2]\n",
    "dat[c(1,2),2]\n",
    "#View(dat)\n",
    "dat$Name #accessing a column using name\n",
    "dat$Value1 #accessing a column using name\n",
    "dat[-1]\n",
    "dat[,-1]\n",
    "myMat[-1]\n",
    "vect[-1]\n",
    "dat$Value1[2]\n",
    "dat$Value1[2:3]\n",
    "dat$Value1[-(2:3)]\n",
    "##### list  ######\n",
    "lst <- list(c(2,4,5),vect,myMat,dat)\n",
    "class(lst)\n",
    "lst\n",
    "class(lst)\n",
    "lst\n",
    "lst[1]\n",
    "lst[[1]]\n",
    "lst[[1]][2]\n",
    "lst[3]\n",
    "lst[3][[1]]\n",
    "lst[[3]]\n",
    "class(lst[3])\n",
    "class(lst[[3]])\n",
    "lst\n",
    "lst[3]\n",
    "lst\n",
    "#lst2 <- list(lst2)\n",
    "lst2 <- list(lst)\n",
    "lst2\n",
    "lst <- list(c(2,3,4),c(\"hello\",\"hai\"))\n",
    "lst\n",
    "lst[1]\n",
    "lst[[1]]\n",
    "lst[[2]]\n",
    "lst[2][1]\n",
    "lst[2][1][1]\n",
    "lst\n",
    "lst[[2]]\n",
    "lst[2][1]\n",
    "lst[2][1][1]\n",
    "lst[2][1][1][1]\n",
    "lst[2][[1]]\n",
    "vect\n",
    "names(vect) <- month.abb\n",
    "vect\n",
    "newVec <- c(one=1,two=2,three=3)\n",
    "newVec\n",
    "vect[\"one\"]\n",
    "vect[\"Jan\"]\n",
    "vect[\"Feb\"]\n",
    "vect[c(\"Feb\",\"Aug\",\"May\")]\n",
    "#vect[-c(\"Feb\",\"Aug\",\"May\")]\n",
    "vect[c(TRUE,FALSE,TRUE)]\n",
    "vect*2\n",
    "vect*3\n",
    "which(vect==\"Jul\")\n",
    "vect==\"Jul\"\n",
    "vect\n",
    "names(vect)==\"Jul\"\n",
    "vect[names(vect)==\"Jul\"]\n",
    "vect[-(names(vect)==\"Jul\")]"
   ]
  },
  {
   "cell_type": "code",
   "execution_count": null,
   "metadata": {},
   "outputs": [],
   "source": []
  }
 ],
 "metadata": {
  "hide_input": false,
  "kernelspec": {
   "display_name": "R",
   "language": "R",
   "name": "r"
  },
  "language_info": {
   "codemirror_mode": "r",
   "file_extension": ".r",
   "mimetype": "text/x-r-source",
   "name": "R",
   "pygments_lexer": "r",
   "version": "3.4.1"
  },
  "nav_menu": {},
  "toc": {
   "navigate_menu": true,
   "number_sections": true,
   "sideBar": true,
   "threshold": 6,
   "toc_cell": false,
   "toc_section_display": true,
   "toc_window_display": false
  }
 },
 "nbformat": 4,
 "nbformat_minor": 2
}
