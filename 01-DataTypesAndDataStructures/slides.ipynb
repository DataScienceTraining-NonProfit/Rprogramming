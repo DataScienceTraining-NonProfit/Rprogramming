{
 "cells": [
  {
   "cell_type": "markdown",
   "metadata": {
    "slideshow": {
     "slide_type": "slide"
    },
    "toc": "true"
   },
   "source": [
    "# Table of Contents\n",
    " <p><div class=\"lev1 toc-item\"><a href=\"#Data-types-&amp;-Data-structures\" data-toc-modified-id=\"Data-types-&amp;-Data-structures-1\"><span class=\"toc-item-num\">1&nbsp;&nbsp;</span>Data types &amp; Data structures</a></div><div class=\"lev2 toc-item\"><a href=\"#Primary-data-structures\" data-toc-modified-id=\"Primary-data-structures-1.1\"><span class=\"toc-item-num\">1.1&nbsp;&nbsp;</span>Primary data structures</a></div><div class=\"lev3 toc-item\"><a href=\"#Vectors-(atomic-vectors)\" data-toc-modified-id=\"Vectors-(atomic-vectors)-1.1.1\"><span class=\"toc-item-num\">1.1.1&nbsp;&nbsp;</span>Vectors (atomic vectors)</a></div><div class=\"lev2 toc-item\"><a href=\"#Types-of-atomic-Vectors\" data-toc-modified-id=\"Types-of-atomic-Vectors-1.2\"><span class=\"toc-item-num\">1.2&nbsp;&nbsp;</span>Types of atomic Vectors</a></div><div class=\"lev3 toc-item\"><a href=\"#Lists-(recursive-vectors)\" data-toc-modified-id=\"Lists-(recursive-vectors)-1.2.1\"><span class=\"toc-item-num\">1.2.1&nbsp;&nbsp;</span>Lists (recursive vectors)</a></div><div class=\"lev2 toc-item\"><a href=\"#Other-data-structures\" data-toc-modified-id=\"Other-data-structures-1.3\"><span class=\"toc-item-num\">1.3&nbsp;&nbsp;</span>Other data structures</a></div><div class=\"lev3 toc-item\"><a href=\"#matrix-and-arrays\" data-toc-modified-id=\"matrix-and-arrays-1.3.1\"><span class=\"toc-item-num\">1.3.1&nbsp;&nbsp;</span>matrix and arrays</a></div><div class=\"lev3 toc-item\"><a href=\"#Vector-and-Matrix-Operations\" data-toc-modified-id=\"Vector-and-Matrix-Operations-1.3.2\"><span class=\"toc-item-num\">1.3.2&nbsp;&nbsp;</span>Vector and Matrix Operations</a></div><div class=\"lev3 toc-item\"><a href=\"#data-frame\" data-toc-modified-id=\"data-frame-1.3.3\"><span class=\"toc-item-num\">1.3.3&nbsp;&nbsp;</span>data frame</a></div><div class=\"lev4 toc-item\"><a href=\"#expand.grid()\" data-toc-modified-id=\"expand.grid()-1.3.3.1\"><span class=\"toc-item-num\">1.3.3.1&nbsp;&nbsp;</span>expand.grid()</a></div><div class=\"lev4 toc-item\"><a href=\"#cbind-and-rbind\" data-toc-modified-id=\"cbind-and-rbind-1.3.3.2\"><span class=\"toc-item-num\">1.3.3.2&nbsp;&nbsp;</span>cbind and rbind</a></div>"
   ]
  },
  {
   "cell_type": "markdown",
   "metadata": {
    "slideshow": {
     "slide_type": "slide"
    }
   },
   "source": [
    "# Data types & Data structures"
   ]
  },
  {
   "cell_type": "markdown",
   "metadata": {
    "slideshow": {
     "slide_type": "subslide"
    }
   },
   "source": [
    "**Data structures:**  A perticular way of organizing data in a computer.  "
   ]
  },
  {
   "cell_type": "markdown",
   "metadata": {
    "slideshow": {
     "slide_type": "slide"
    }
   },
   "source": [
    "![Imgur](https://i.imgur.com/4qUkpp6.jpg)"
   ]
  },
  {
   "cell_type": "markdown",
   "metadata": {
    "slideshow": {
     "slide_type": "slide"
    }
   },
   "source": [
    "## Primary data structures"
   ]
  },
  {
   "cell_type": "markdown",
   "metadata": {
    "slideshow": {
     "slide_type": "subslide"
    }
   },
   "source": [
    "Vectors can be of two types:\n",
    "\t* Atomic vectors (basic data types in R and is pretty much the workhorse of R)\n",
    "\t* Recursive Vectors or lists (List is a special vector. Each element can be a different class)"
   ]
  },
  {
   "cell_type": "markdown",
   "metadata": {
    "slideshow": {
     "slide_type": "slide"
    }
   },
   "source": [
    "### Vectors (atomic vectors)"
   ]
  },
  {
   "cell_type": "markdown",
   "metadata": {
    "slideshow": {
     "slide_type": "slide"
    }
   },
   "source": [
    "* A vector can be a vector of characters, logical, integers or numeric.  \n",
    "You can create vectors by concatenating them using the `c()` function.  \n",
    "Various examples:  \n",
    "`x <- c(1, 2, 3)`  \n",
    "x is a numeric vector. These are the most common kind. They are numeric objects and are treated as double precision real numbers. To explicitly create integers, add a L at the end.   \n",
    "`x1 <- c(1L, 2L, 3L)` \n",
    "You can also have logical vectors.  \n",
    "`y <- c(TRUE, TRUE, FALSE, FALSE)`  \n",
    "Finally you can have character vectors:  \n",
    "`z <- c(\"Alec\", \"Dan\", \"Rob\", \"Rich\")`  "
   ]
  },
  {
   "cell_type": "markdown",
   "metadata": {
    "run_control": {
     "marked": false
    },
    "slideshow": {
     "slide_type": "subslide"
    }
   },
   "source": [
    "```{r}\n",
    "#The general pattern is vector(class of object, length). \n",
    "Create an empty vector with vector()\n",
    "x <- vector()\n",
    "# with a pre-defined length\n",
    "x <- vector(length = 10)\n",
    "# with a length and type\n",
    "vector(\"character\", length = 10)\n",
    "vector(\"numeric\", length = 10)\n",
    "vector(\"integer\", length = 10)\n",
    "vector(\"logical\", length = 10)\n",
    "```"
   ]
  },
  {
   "cell_type": "markdown",
   "metadata": {
    "slideshow": {
     "slide_type": "slide"
    }
   },
   "source": [
    "## Types of atomic Vectors"
   ]
  },
  {
   "cell_type": "markdown",
   "metadata": {
    "run_control": {
     "frozen": false,
     "read_only": false
    },
    "slideshow": {
     "slide_type": "subslide"
    }
   },
   "source": [
    "R has 5 common types of atomic vectors\n",
    "\t* logical (e.g., TRUE, FALSE)\n",
    "\t* integer (e.g,, 2L, as.integer(3))\n",
    "\t* numeric (real or decimal) (e.g, 2, 2.0, pi)\n",
    "\t* complex (e.g, 1 + 0i, 1 + 4i)\n",
    "\t* character (e.g, \"a\", \"swc\")"
   ]
  },
  {
   "cell_type": "markdown",
   "metadata": {
    "slideshow": {
     "slide_type": "subslide"
    }
   },
   "source": [
    "**Vectors may only have one type**   \n",
    "* atomic vectors are homogeneous. This means that every element within a single atomic vector has to be of the same type\n",
    "* R will create a resulting vector that is the least common denominator. The coercion will move towards the one that's easiest to coerce to.\n",
    "Guess what the following do without running them first    \n",
    "```{r}\n",
    "xx <- c(1.7, \"a\")\n",
    "xx <- c(TRUE, 2)\n",
    "xx <- c(\"a\", TRUE)\n",
    "This is called implicit coercion.\n",
    "```\n",
    "The coersion rule goes   \n",
    "*logical -> integer -> numeric -> complex -> character.*  "
   ]
  },
  {
   "cell_type": "markdown",
   "metadata": {
    "slideshow": {
     "slide_type": "slide"
    }
   },
   "source": [
    "![Imgur](https://i.imgur.com/k9Ubya2.png)\n",
    "   \n",
    "  \n",
    "```{r}\n",
    "(x <- c(sort(sample(1:20, 9)), NA))\n",
    "(y <- c(sort(sample(3:23, 7)), NA))\n",
    "union(x, y)\n",
    "intersect(x, y)\n",
    "setdiff(x, y)\n",
    "setdiff(y, x)\n",
    "setequal(x, y)\n",
    "which.min(x)\n",
    "which.max(x)\n",
    "match(x,y)\n",
    "```\n",
    "  \n",
    "   \n",
    "   \n",
    "![Imgur](https://i.imgur.com/OhSERrh.png)"
   ]
  },
  {
   "cell_type": "markdown",
   "metadata": {
    "slideshow": {
     "slide_type": "slide"
    }
   },
   "source": [
    "### Lists (recursive vectors)"
   ]
  },
  {
   "cell_type": "markdown",
   "metadata": {
    "slideshow": {
     "slide_type": "subslide"
    }
   },
   "source": [
    "* List is a special vector. Each element can be a different class.\n",
    "* lists act as containers\n",
    "* Unlike atomic vectors, its contents are not restricted to a single type\n",
    "* a list can be anything, and two elements within a list can be of different types!\n",
    "* Lists are sometimes called recursive vectors, because a list can contain other lists"
   ]
  },
  {
   "cell_type": "markdown",
   "metadata": {
    "slideshow": {
     "slide_type": "subslide"
    }
   },
   "source": [
    "** Create a ists using list function**      \n",
    "'x <- list(1, \"a\", TRUE, 1+4i)'\n",
    "    "
   ]
  },
  {
   "cell_type": "markdown",
   "metadata": {
    "slideshow": {
     "slide_type": "slide"
    }
   },
   "source": [
    "## Other data structures"
   ]
  },
  {
   "cell_type": "markdown",
   "metadata": {
    "slideshow": {
     "slide_type": "subslide"
    }
   },
   "source": [
    "R also has many data structures. These include\n",
    "\t* matrix and arrays\n",
    "    * data frame\t"
   ]
  },
  {
   "cell_type": "markdown",
   "metadata": {
    "run_control": {
     "frozen": false,
     "read_only": false
    },
    "slideshow": {
     "slide_type": "slide"
    }
   },
   "source": [
    "![Imgur](https://i.imgur.com/VgHl6y2.png?1)"
   ]
  },
  {
   "cell_type": "markdown",
   "metadata": {
    "run_control": {
     "frozen": false,
     "read_only": false
    },
    "slideshow": {
     "slide_type": "slide"
    }
   },
   "source": [
    "![Imgur](https://i.imgur.com/c73sZAd.png?1)"
   ]
  },
  {
   "cell_type": "markdown",
   "metadata": {
    "slideshow": {
     "slide_type": "slide"
    }
   },
   "source": [
    "### matrix and arrays"
   ]
  },
  {
   "cell_type": "markdown",
   "metadata": {
    "slideshow": {
     "slide_type": "subslide"
    }
   },
   "source": [
    "* Stacking multiple matrices\n",
    "* Matrices in R can be thought of as vectors indexed using two indices instead of one"
   ]
  },
  {
   "cell_type": "code",
   "execution_count": 1,
   "metadata": {
    "run_control": {
     "frozen": false,
     "read_only": false
    },
    "slideshow": {
     "slide_type": "subslide"
    }
   },
   "outputs": [
    {
     "data": {
      "text/html": [
       "<table>\n",
       "<tbody>\n",
       "\t<tr><td>47 </td><td>36 </td><td>  1</td></tr>\n",
       "\t<tr><td>48 </td><td>89 </td><td>  2</td></tr>\n",
       "\t<tr><td>52 </td><td>45 </td><td>-25</td></tr>\n",
       "</tbody>\n",
       "</table>\n"
      ],
      "text/latex": [
       "\\begin{tabular}{lll}\n",
       "\t 47  & 36  &   1\\\\\n",
       "\t 48  & 89  &   2\\\\\n",
       "\t 52  & 45  & -25\\\\\n",
       "\\end{tabular}\n"
      ],
      "text/markdown": [
       "\n",
       "| 47  | 36  |   1 | \n",
       "| 48  | 89  |   2 | \n",
       "| 52  | 45  | -25 | \n",
       "\n",
       "\n"
      ],
      "text/plain": [
       "     [,1] [,2] [,3]\n",
       "[1,] 47   36     1 \n",
       "[2,] 48   89     2 \n",
       "[3,] 52   45   -25 "
      ]
     },
     "metadata": {},
     "output_type": "display_data"
    }
   ],
   "source": [
    "m <- matrix(c(47,48,52,36,89,45,1,2,-25), nrow = 3, ncol = 3)\n",
    "m\n",
    "# this code creates a 3 by 3 matrix"
   ]
  },
  {
   "cell_type": "markdown",
   "metadata": {
    "slideshow": {
     "slide_type": "slide"
    }
   },
   "source": [
    "* If a higher dimension vector is desired, then use the array() function to generate the n-dimensional object. A 3x3x3 array can be created as follows:"
   ]
  },
  {
   "cell_type": "code",
   "execution_count": 2,
   "metadata": {
    "run_control": {
     "frozen": false,
     "read_only": false
    },
    "scrolled": true,
    "slideshow": {
     "slide_type": "subslide"
    }
   },
   "outputs": [
    {
     "name": "stdout",
     "output_type": "stream",
     "text": [
      ", , 1\n",
      "\n",
      "     [,1] [,2] [,3]\n",
      "[1,]    1    4    7\n",
      "[2,]    2    5    8\n",
      "[3,]    3    6    9\n",
      "\n",
      ", , 2\n",
      "\n",
      "     [,1] [,2] [,3]\n",
      "[1,]   10   13   16\n",
      "[2,]   11   14   17\n",
      "[3,]   12   15   18\n",
      "\n",
      ", , 3\n",
      "\n",
      "     [,1] [,2] [,3]\n",
      "[1,]   19   22   25\n",
      "[2,]   20   23   26\n",
      "[3,]   21   24   27\n",
      "\n"
     ]
    }
   ],
   "source": [
    "m <- array(1:27, dim=c(3,3,3))\n",
    "print(m)"
   ]
  },
  {
   "cell_type": "markdown",
   "metadata": {
    "run_control": {
     "marked": false
    },
    "slideshow": {
     "slide_type": "slide"
    }
   },
   "source": [
    "### Vector and Matrix Operations"
   ]
  },
  {
   "cell_type": "markdown",
   "metadata": {
    "slideshow": {
     "slide_type": "slide"
    }
   },
   "source": [
    "![Imgur](https://i.imgur.com/HmnOp1F.png)\n",
    "![Imgur](https://i.imgur.com/xe79KhH.png)"
   ]
  },
  {
   "cell_type": "markdown",
   "metadata": {
    "slideshow": {
     "slide_type": "slide"
    }
   },
   "source": [
    "### data frame    "
   ]
  },
  {
   "cell_type": "markdown",
   "metadata": {
    "slideshow": {
     "slide_type": "subslide"
    }
   },
   "source": [
    "* unlike a matrix, a data frame can mix data types across columns"
   ]
  },
  {
   "cell_type": "code",
   "execution_count": 3,
   "metadata": {
    "run_control": {
     "frozen": false,
     "read_only": false
    },
    "scrolled": true,
    "slideshow": {
     "slide_type": "subslide"
    }
   },
   "outputs": [
    {
     "data": {
      "text/html": [
       "<table>\n",
       "<thead><tr><th scope=col>Name</th><th scope=col>Value1</th><th scope=col>Value2</th></tr></thead>\n",
       "<tbody>\n",
       "\t<tr><td>a1</td><td>23</td><td> 1</td></tr>\n",
       "\t<tr><td>a2</td><td> 4</td><td>45</td></tr>\n",
       "\t<tr><td>b3</td><td>12</td><td> 5</td></tr>\n",
       "</tbody>\n",
       "</table>\n"
      ],
      "text/latex": [
       "\\begin{tabular}{r|lll}\n",
       " Name & Value1 & Value2\\\\\n",
       "\\hline\n",
       "\t a1 & 23 &  1\\\\\n",
       "\t a2 &  4 & 45\\\\\n",
       "\t b3 & 12 &  5\\\\\n",
       "\\end{tabular}\n"
      ],
      "text/markdown": [
       "\n",
       "Name | Value1 | Value2 | \n",
       "|---|---|---|\n",
       "| a1 | 23 |  1 | \n",
       "| a2 |  4 | 45 | \n",
       "| b3 | 12 |  5 | \n",
       "\n",
       "\n"
      ],
      "text/plain": [
       "  Name Value1 Value2\n",
       "1 a1   23      1    \n",
       "2 a2    4     45    \n",
       "3 b3   12      5    "
      ]
     },
     "metadata": {},
     "output_type": "display_data"
    }
   ],
   "source": [
    "Name <- c(\"a1\", \"a2\", \"b3\")\n",
    "Value1 <- c(23, 4, 12)\n",
    "Value2 <- c(1,45,5)\n",
    "dat <- data.frame(Name, Value1, Value2)\n",
    "dat"
   ]
  },
  {
   "cell_type": "markdown",
   "metadata": {
    "run_control": {
     "marked": false
    },
    "slideshow": {
     "slide_type": "slide"
    }
   },
   "source": [
    "#### expand.grid()  \n",
    "(to create a data frame)\n",
    "* The function `expand.grid` gives us all the combinations of entries of two vectors."
   ]
  },
  {
   "cell_type": "markdown",
   "metadata": {
    "slideshow": {
     "slide_type": "subslide"
    }
   },
   "source": [
    "For example:  \n",
    "all combinations of `blue and black pants` and  `white, grey and plaid shirts`"
   ]
  },
  {
   "cell_type": "code",
   "execution_count": 6,
   "metadata": {
    "run_control": {
     "frozen": false,
     "read_only": false
    },
    "scrolled": true,
    "slideshow": {
     "slide_type": "subslide"
    }
   },
   "outputs": [
    {
     "data": {
      "text/html": [
       "'data.frame'"
      ],
      "text/latex": [
       "'data.frame'"
      ],
      "text/markdown": [
       "'data.frame'"
      ],
      "text/plain": [
       "[1] \"data.frame\""
      ]
     },
     "metadata": {},
     "output_type": "display_data"
    }
   ],
   "source": [
    "eg <- expand.grid(pants = c(\"blue\", \"black\"), shirt = c(\"white\", \"grey\", \"plaid\"))\n",
    "class(eg)"
   ]
  },
  {
   "cell_type": "code",
   "execution_count": 8,
   "metadata": {
    "run_control": {
     "frozen": false,
     "read_only": false
    },
    "slideshow": {
     "slide_type": "subslide"
    }
   },
   "outputs": [
    {
     "data": {
      "text/html": [
       "'data.frame'"
      ],
      "text/latex": [
       "'data.frame'"
      ],
      "text/markdown": [
       "'data.frame'"
      ],
      "text/plain": [
       "[1] \"data.frame\""
      ]
     },
     "metadata": {},
     "output_type": "display_data"
    },
    {
     "name": "stdout",
     "output_type": "stream",
     "text": [
      "   number     suit\n",
      "1     Ace Diamonds\n",
      "2   Deuce Diamonds\n",
      "3   Three Diamonds\n",
      "4    Four Diamonds\n",
      "5    Five Diamonds\n",
      "6     Six Diamonds\n",
      "7   Seven Diamonds\n",
      "8   Eight Diamonds\n",
      "9    Nine Diamonds\n",
      "10    Ten Diamonds\n",
      "11   Jack Diamonds\n",
      "12  Queen Diamonds\n",
      "13   King Diamonds\n",
      "14    Ace    Clubs\n",
      "15  Deuce    Clubs\n",
      "16  Three    Clubs\n",
      "17   Four    Clubs\n",
      "18   Five    Clubs\n",
      "19    Six    Clubs\n",
      "20  Seven    Clubs\n",
      "21  Eight    Clubs\n",
      "22   Nine    Clubs\n",
      "23    Ten    Clubs\n",
      "24   Jack    Clubs\n",
      "25  Queen    Clubs\n",
      "26   King    Clubs\n",
      "27    Ace   Hearts\n",
      "28  Deuce   Hearts\n",
      "29  Three   Hearts\n",
      "30   Four   Hearts\n",
      "31   Five   Hearts\n",
      "32    Six   Hearts\n",
      "33  Seven   Hearts\n",
      "34  Eight   Hearts\n",
      "35   Nine   Hearts\n",
      "36    Ten   Hearts\n",
      "37   Jack   Hearts\n",
      "38  Queen   Hearts\n",
      "39   King   Hearts\n",
      "40    Ace   Spades\n",
      "41  Deuce   Spades\n",
      "42  Three   Spades\n",
      "43   Four   Spades\n",
      "44   Five   Spades\n",
      "45    Six   Spades\n",
      "46  Seven   Spades\n",
      "47  Eight   Spades\n",
      "48   Nine   Spades\n",
      "49    Ten   Spades\n",
      "50   Jack   Spades\n",
      "51  Queen   Spades\n",
      "52   King   Spades\n"
     ]
    },
    {
     "data": {
      "text/html": [
       "'character'"
      ],
      "text/latex": [
       "'character'"
      ],
      "text/markdown": [
       "'character'"
      ],
      "text/plain": [
       "[1] \"character\""
      ]
     },
     "metadata": {},
     "output_type": "display_data"
    },
    {
     "name": "stdout",
     "output_type": "stream",
     "text": [
      " [1] \"Ace Diamonds\"   \"Deuce Diamonds\" \"Three Diamonds\" \"Four Diamonds\" \n",
      " [5] \"Five Diamonds\"  \"Six Diamonds\"   \"Seven Diamonds\" \"Eight Diamonds\"\n",
      " [9] \"Nine Diamonds\"  \"Ten Diamonds\"   \"Jack Diamonds\"  \"Queen Diamonds\"\n",
      "[13] \"King Diamonds\"  \"Ace Clubs\"      \"Deuce Clubs\"    \"Three Clubs\"   \n",
      "[17] \"Four Clubs\"     \"Five Clubs\"     \"Six Clubs\"      \"Seven Clubs\"   \n",
      "[21] \"Eight Clubs\"    \"Nine Clubs\"     \"Ten Clubs\"      \"Jack Clubs\"    \n",
      "[25] \"Queen Clubs\"    \"King Clubs\"     \"Ace Hearts\"     \"Deuce Hearts\"  \n",
      "[29] \"Three Hearts\"   \"Four Hearts\"    \"Five Hearts\"    \"Six Hearts\"    \n",
      "[33] \"Seven Hearts\"   \"Eight Hearts\"   \"Nine Hearts\"    \"Ten Hearts\"    \n",
      "[37] \"Jack Hearts\"    \"Queen Hearts\"   \"King Hearts\"    \"Ace Spades\"    \n",
      "[41] \"Deuce Spades\"   \"Three Spades\"   \"Four Spades\"    \"Five Spades\"   \n",
      "[45] \"Six Spades\"     \"Seven Spades\"   \"Eight Spades\"   \"Nine Spades\"   \n",
      "[49] \"Ten Spades\"     \"Jack Spades\"    \"Queen Spades\"   \"King Spades\"   \n"
     ]
    }
   ],
   "source": [
    "#generate a deck of cards\n",
    "suits <- c(\"Diamonds\", \"Clubs\", \"Hearts\", \"Spades\")\n",
    "numbers <- c(\"Ace\", \"Deuce\", \"Three\", \"Four\", \"Five\", \"Six\", \"Seven\", \"Eight\", \"Nine\", \"Ten\", \"Jack\", \"Queen\", \"King\")\n",
    "deck <- expand.grid(number=numbers, suit=suits)\n",
    "class(deck)\n",
    "print(deck)\n",
    "deck <- paste(deck$number, deck$suit)\n",
    "class(deck)\n",
    "print(deck)"
   ]
  },
  {
   "cell_type": "markdown",
   "metadata": {
    "slideshow": {
     "slide_type": "slide"
    }
   },
   "source": [
    "#### cbind and rbind\n",
    "(to create a data frame)\n",
    "`cbind`\tBuilding a Matrix from Columns or Rows  \n"
   ]
  },
  {
   "cell_type": "code",
   "execution_count": 11,
   "metadata": {
    "run_control": {
     "frozen": false,
     "read_only": false
    },
    "slideshow": {
     "slide_type": "slide"
    }
   },
   "outputs": [
    {
     "data": {
      "text/html": [
       "<table>\n",
       "<thead><tr><th scope=col>x</th><th scope=col>y</th></tr></thead>\n",
       "<tbody>\n",
       "\t<tr><td>1</td><td>a</td></tr>\n",
       "\t<tr><td>2</td><td>b</td></tr>\n",
       "\t<tr><td>3</td><td>c</td></tr>\n",
       "</tbody>\n",
       "</table>\n"
      ],
      "text/latex": [
       "\\begin{tabular}{r|ll}\n",
       " x & y\\\\\n",
       "\\hline\n",
       "\t 1 & a\\\\\n",
       "\t 2 & b\\\\\n",
       "\t 3 & c\\\\\n",
       "\\end{tabular}\n"
      ],
      "text/markdown": [
       "\n",
       "x | y | \n",
       "|---|---|---|\n",
       "| 1 | a | \n",
       "| 2 | b | \n",
       "| 3 | c | \n",
       "\n",
       "\n"
      ],
      "text/plain": [
       "  x y\n",
       "1 1 a\n",
       "2 2 b\n",
       "3 3 c"
      ]
     },
     "metadata": {},
     "output_type": "display_data"
    },
    {
     "data": {
      "text/html": [
       "<table>\n",
       "<thead><tr><th scope=col>1</th><th scope=col>x</th><th scope=col>y</th></tr></thead>\n",
       "<tbody>\n",
       "\t<tr><td>1</td><td>1</td><td>a</td></tr>\n",
       "\t<tr><td>1</td><td>2</td><td>b</td></tr>\n",
       "\t<tr><td>1</td><td>3</td><td>c</td></tr>\n",
       "</tbody>\n",
       "</table>\n"
      ],
      "text/latex": [
       "\\begin{tabular}{r|lll}\n",
       " 1 & x & y\\\\\n",
       "\\hline\n",
       "\t 1 & 1 & a\\\\\n",
       "\t 1 & 2 & b\\\\\n",
       "\t 1 & 3 & c\\\\\n",
       "\\end{tabular}\n"
      ],
      "text/markdown": [
       "\n",
       "1 | x | y | \n",
       "|---|---|---|\n",
       "| 1 | 1 | a | \n",
       "| 1 | 2 | b | \n",
       "| 1 | 3 | c | \n",
       "\n",
       "\n"
      ],
      "text/plain": [
       "  1 x y\n",
       "1 1 1 a\n",
       "2 1 2 b\n",
       "3 1 3 c"
      ]
     },
     "metadata": {},
     "output_type": "display_data"
    }
   ],
   "source": [
    "df <- data.frame(x = 1:3, y = c(\"a\", \"b\", \"c\"))\n",
    "df\n",
    "cbind(1,  df) "
   ]
  },
  {
   "cell_type": "code",
   "execution_count": 13,
   "metadata": {
    "run_control": {
     "frozen": false,
     "read_only": false
    },
    "slideshow": {
     "slide_type": "slide"
    }
   },
   "outputs": [
    {
     "data": {
      "text/html": [
       "<table>\n",
       "<thead><tr><th scope=col>Index</th><th scope=col>Age</th><th scope=col>Salary</th></tr></thead>\n",
       "<tbody>\n",
       "\t<tr><td>1  </td><td>30 </td><td>500</td></tr>\n",
       "\t<tr><td>2  </td><td>45 </td><td>600</td></tr>\n",
       "\t<tr><td>3  </td><td>34 </td><td>550</td></tr>\n",
       "</tbody>\n",
       "</table>\n"
      ],
      "text/latex": [
       "\\begin{tabular}{lll}\n",
       " Index & Age & Salary\\\\\n",
       "\\hline\n",
       "\t 1   & 30  & 500\\\\\n",
       "\t 2   & 45  & 600\\\\\n",
       "\t 3   & 34  & 550\\\\\n",
       "\\end{tabular}\n"
      ],
      "text/markdown": [
       "\n",
       "Index | Age | Salary | \n",
       "|---|---|---|\n",
       "| 1   | 30  | 500 | \n",
       "| 2   | 45  | 600 | \n",
       "| 3   | 34  | 550 | \n",
       "\n",
       "\n"
      ],
      "text/plain": [
       "     Index Age Salary\n",
       "[1,] 1     30  500   \n",
       "[2,] 2     45  600   \n",
       "[3,] 3     34  550   "
      ]
     },
     "metadata": {},
     "output_type": "display_data"
    }
   ],
   "source": [
    "# 3 column matrix with column dimnames\n",
    "cbind(Index = c(1:3), Age = c(30, 45, 34), Salary = c(500, 600, 550)) "
   ]
  },
  {
   "cell_type": "code",
   "execution_count": 18,
   "metadata": {
    "run_control": {
     "frozen": false,
     "read_only": false
    },
    "slideshow": {
     "slide_type": "slide"
    }
   },
   "outputs": [
    {
     "data": {
      "text/html": [
       "<table>\n",
       "<thead><tr><th scope=col>a</th><th scope=col>b</th></tr></thead>\n",
       "<tbody>\n",
       "\t<tr><td>1 </td><td> 1</td></tr>\n",
       "\t<tr><td>2 </td><td> 4</td></tr>\n",
       "\t<tr><td>3 </td><td> 9</td></tr>\n",
       "\t<tr><td>4 </td><td>16</td></tr>\n",
       "\t<tr><td>5 </td><td>25</td></tr>\n",
       "</tbody>\n",
       "</table>\n"
      ],
      "text/latex": [
       "\\begin{tabular}{r|ll}\n",
       " a & b\\\\\n",
       "\\hline\n",
       "\t 1  &  1\\\\\n",
       "\t 2  &  4\\\\\n",
       "\t 3  &  9\\\\\n",
       "\t 4  & 16\\\\\n",
       "\t 5  & 25\\\\\n",
       "\\end{tabular}\n"
      ],
      "text/markdown": [
       "\n",
       "a | b | \n",
       "|---|---|---|---|---|\n",
       "| 1  |  1 | \n",
       "| 2  |  4 | \n",
       "| 3  |  9 | \n",
       "| 4  | 16 | \n",
       "| 5  | 25 | \n",
       "\n",
       "\n"
      ],
      "text/plain": [
       "  a b \n",
       "1 1  1\n",
       "2 2  4\n",
       "3 3  9\n",
       "4 4 16\n",
       "5 5 25"
      ]
     },
     "metadata": {},
     "output_type": "display_data"
    },
    {
     "data": {
      "text/html": [
       "<table>\n",
       "<thead><tr><th scope=col>a</th><th scope=col>b</th></tr></thead>\n",
       "<tbody>\n",
       "\t<tr><td>1 </td><td> 1</td></tr>\n",
       "\t<tr><td>2 </td><td> 4</td></tr>\n",
       "\t<tr><td>3 </td><td> 9</td></tr>\n",
       "\t<tr><td>4 </td><td>16</td></tr>\n",
       "\t<tr><td>5 </td><td>25</td></tr>\n",
       "\t<tr><td>2 </td><td> 3</td></tr>\n",
       "\t<tr><td>5 </td><td> 6</td></tr>\n",
       "</tbody>\n",
       "</table>\n"
      ],
      "text/latex": [
       "\\begin{tabular}{r|ll}\n",
       " a & b\\\\\n",
       "\\hline\n",
       "\t 1  &  1\\\\\n",
       "\t 2  &  4\\\\\n",
       "\t 3  &  9\\\\\n",
       "\t 4  & 16\\\\\n",
       "\t 5  & 25\\\\\n",
       "\t 2  &  3\\\\\n",
       "\t 5  &  6\\\\\n",
       "\\end{tabular}\n"
      ],
      "text/markdown": [
       "\n",
       "a | b | \n",
       "|---|---|---|---|---|---|---|\n",
       "| 1  |  1 | \n",
       "| 2  |  4 | \n",
       "| 3  |  9 | \n",
       "| 4  | 16 | \n",
       "| 5  | 25 | \n",
       "| 2  |  3 | \n",
       "| 5  |  6 | \n",
       "\n",
       "\n"
      ],
      "text/plain": [
       "  a b \n",
       "1 1  1\n",
       "2 2  4\n",
       "3 3  9\n",
       "4 4 16\n",
       "5 5 25\n",
       "6 2  3\n",
       "7 5  6"
      ]
     },
     "metadata": {},
     "output_type": "display_data"
    }
   ],
   "source": [
    "df <- data.frame(a = c(1:5), b = (1:5)^2)\n",
    "df\n",
    "rbind(df, c(2, 3), c(5, 6))"
   ]
  }
 ],
 "metadata": {
  "celltoolbar": "Slideshow",
  "hide_input": false,
  "kernelspec": {
   "display_name": "R",
   "language": "R",
   "name": "ir"
  },
  "language_info": {
   "codemirror_mode": "r",
   "file_extension": ".r",
   "mimetype": "text/x-r-source",
   "name": "R",
   "pygments_lexer": "r",
   "version": "3.3.2"
  },
  "nav_menu": {},
  "toc": {
   "navigate_menu": true,
   "number_sections": false,
   "sideBar": true,
   "threshold": 6,
   "toc_cell": true,
   "toc_section_display": "block",
   "toc_window_display": false
  }
 },
 "nbformat": 4,
 "nbformat_minor": 2
}
