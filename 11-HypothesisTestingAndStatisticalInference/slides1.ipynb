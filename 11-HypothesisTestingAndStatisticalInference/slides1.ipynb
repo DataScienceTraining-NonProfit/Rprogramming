{
 "cells": [
  {
   "cell_type": "markdown",
   "metadata": {
    "toc": "true"
   },
   "source": [
    "# Table of Contents\n",
    " <p><div class=\"lev2 toc-item\"><a href=\"#One-Sample\" data-toc-modified-id=\"One-Sample-0.1\"><span class=\"toc-item-num\">0.1&nbsp;&nbsp;</span>One Sample</a></div><div class=\"lev3 toc-item\"><a href=\"#Mean-(Z--and-t-tests,-Type-I-and-II-Error,-Power-&amp;-Sample-Size)\" data-toc-modified-id=\"Mean-(Z--and-t-tests,-Type-I-and-II-Error,-Power-&amp;-Sample-Size)-0.1.1\"><span class=\"toc-item-num\">0.1.1&nbsp;&nbsp;</span>Mean (Z- and t-tests, Type I and II Error, Power &amp; Sample Size)</a></div><div class=\"lev3 toc-item\"><a href=\"#Variance-(Chi-squared-Test)\" data-toc-modified-id=\"Variance-(Chi-squared-Test)-0.1.2\"><span class=\"toc-item-num\">0.1.2&nbsp;&nbsp;</span>Variance (Chi-squared Test)</a></div><div class=\"lev3 toc-item\"><a href=\"#Proportion-(Z-test)\" data-toc-modified-id=\"Proportion-(Z-test)-0.1.3\"><span class=\"toc-item-num\">0.1.3&nbsp;&nbsp;</span>Proportion (Z-test)</a></div><div class=\"lev2 toc-item\"><a href=\"#Two-Samples\" data-toc-modified-id=\"Two-Samples-0.2\"><span class=\"toc-item-num\">0.2&nbsp;&nbsp;</span>Two Samples</a></div><div class=\"lev3 toc-item\"><a href=\"#Means-(Independent-vs.-Paired-Samples,-Nonparametric-tests)\" data-toc-modified-id=\"Means-(Independent-vs.-Paired-Samples,-Nonparametric-tests)-0.2.1\"><span class=\"toc-item-num\">0.2.1&nbsp;&nbsp;</span>Means (Independent vs. Paired Samples, Nonparametric tests)</a></div><div class=\"lev3 toc-item\"><a href=\"#Variances-(F-test,-Levene-Test)\" data-toc-modified-id=\"Variances-(F-test,-Levene-Test)-0.2.2\"><span class=\"toc-item-num\">0.2.2&nbsp;&nbsp;</span>Variances (F-test, Levene Test)</a></div><div class=\"lev3 toc-item\"><a href=\"#Proportions-(Z-test,-Chi-squared-Test,-McNemar-Test)\" data-toc-modified-id=\"Proportions-(Z-test,-Chi-squared-Test,-McNemar-Test)-0.2.3\"><span class=\"toc-item-num\">0.2.3&nbsp;&nbsp;</span>Proportions (Z-test, Chi-squared Test, McNemar Test)</a></div><div class=\"lev2 toc-item\"><a href=\"#Several-Samples\" data-toc-modified-id=\"Several-Samples-0.3\"><span class=\"toc-item-num\">0.3&nbsp;&nbsp;</span>Several Samples</a></div><div class=\"lev3 toc-item\"><a href=\"#Proportions-(Chi-squared-Test)\" data-toc-modified-id=\"Proportions-(Chi-squared-Test)-0.3.1\"><span class=\"toc-item-num\">0.3.1&nbsp;&nbsp;</span>Proportions (Chi-squared Test)</a></div><div class=\"lev3 toc-item\"><a href=\"#Variances-(Bartlett’s-Test,-etc.)\" data-toc-modified-id=\"Variances-(Bartlett’s-Test,-etc.)-0.3.2\"><span class=\"toc-item-num\">0.3.2&nbsp;&nbsp;</span>Variances (Bartlett’s Test, etc.)</a></div><div class=\"lev3 toc-item\"><a href=\"#Means-(ANOVA,-F-test,-Multiple-Comparisons)\" data-toc-modified-id=\"Means-(ANOVA,-F-test,-Multiple-Comparisons)-0.3.3\"><span class=\"toc-item-num\">0.3.3&nbsp;&nbsp;</span>Means (ANOVA, F-test, Multiple Comparisons)</a></div>"
   ]
  },
  {
   "cell_type": "markdown",
   "metadata": {},
   "source": [
    "![Imgur](https://i.imgur.com/40gt1GH.png)"
   ]
  },
  {
   "cell_type": "markdown",
   "metadata": {
    "run_control": {
     "frozen": false,
     "read_only": false
    }
   },
   "source": [
    "## One Sample\n",
    "### Mean (Z- and t-tests, Type I and II Error, Power & Sample Size)"
   ]
  },
  {
   "cell_type": "markdown",
   "metadata": {},
   "source": [
    "* z test is used when there is any statistical significance difference between a sample mean and a population mean with a known population standard deviation\n",
    "* It uses z-scores and a normal distribution to determine the probability the sample mean is drawn randomly from a known population."
   ]
  },
  {
   "cell_type": "markdown",
   "metadata": {},
   "source": [
    "http://stats.seandolinar.com/one-mean-z-test-with-r-code/  \n",
    "http://stats.seandolinar.com/one-sample-t-test-with-r-code/  \n",
    "http://www.artofstat.com/webapps.html#Distributions  "
   ]
  },
  {
   "cell_type": "markdown",
   "metadata": {
    "run_control": {
     "frozen": false,
     "read_only": false
    }
   },
   "source": [
    "### Variance (Chi-squared Test)\n",
    "### Proportion (Z-test)\n",
    "## Two Samples\n",
    "### Means (Independent vs. Paired Samples, Nonparametric tests)\n",
    "### Variances (F-test, Levene Test)\n",
    "### Proportions (Z-test, Chi-squared Test, McNemar Test)\n",
    "* Applications: Case-Control Studies, Test of Association and Test of Homogeneity of Odds Ratios, Mantel-Haenszel Estimate of Summary Odds Ratio\n",
    "## Several Samples\n",
    "### Proportions (Chi-squared Test)\n",
    "### Variances (Bartlett’s Test, etc.)\n",
    "### Means (ANOVA, F-test, Multiple Comparisons)"
   ]
  },
  {
   "cell_type": "code",
   "execution_count": null,
   "metadata": {
    "run_control": {
     "frozen": false,
     "read_only": false
    }
   },
   "outputs": [],
   "source": []
  }
 ],
 "metadata": {
  "hide_input": false,
  "kernelspec": {
   "display_name": "R",
   "language": "R",
   "name": "ir"
  },
  "language_info": {
   "codemirror_mode": "r",
   "file_extension": ".r",
   "mimetype": "text/x-r-source",
   "name": "R",
   "pygments_lexer": "r",
   "version": "3.3.2"
  },
  "nav_menu": {},
  "toc": {
   "navigate_menu": true,
   "number_sections": true,
   "sideBar": true,
   "threshold": 6,
   "toc_cell": true,
   "toc_section_display": "block",
   "toc_window_display": false
  }
 },
 "nbformat": 4,
 "nbformat_minor": 2
}
