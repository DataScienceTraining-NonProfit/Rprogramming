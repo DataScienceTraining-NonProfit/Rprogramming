{
 "cells": [
  {
   "cell_type": "markdown",
   "metadata": {
    "slideshow": {
     "slide_type": "slide"
    },
    "toc": "true"
   },
   "source": [
    "# Table of Contents\n",
    " <p><div class=\"lev1 toc-item\"><a href=\"#Data-Importing\" data-toc-modified-id=\"Data-Importing-1\"><span class=\"toc-item-num\">1&nbsp;&nbsp;</span>Data Importing</a></div><div class=\"lev2 toc-item\"><a href=\"#Using-command-line,-text-editor-and-point-and-click-features\" data-toc-modified-id=\"Using-command-line,-text-editor-and-point-and-click-features-1.1\"><span class=\"toc-item-num\">1.1&nbsp;&nbsp;</span>Using command line, text editor and point and click features</a></div><div class=\"lev3 toc-item\"><a href=\"#Using-command-line\" data-toc-modified-id=\"Using-command-line-1.1.1\"><span class=\"toc-item-num\">1.1.1&nbsp;&nbsp;</span>Using command line</a></div><div class=\"lev3 toc-item\"><a href=\"#Using-text-editor/graphical-interface\" data-toc-modified-id=\"Using-text-editor/graphical-interface-1.1.2\"><span class=\"toc-item-num\">1.1.2&nbsp;&nbsp;</span>Using text editor/graphical interface</a></div><div class=\"lev3 toc-item\"><a href=\"#Using-point-and-click\" data-toc-modified-id=\"Using-point-and-click-1.1.3\"><span class=\"toc-item-num\">1.1.3&nbsp;&nbsp;</span>Using point and click</a></div><div class=\"lev2 toc-item\"><a href=\"#Reading-Tabular-like-Data-From-TXT|CSV-Files:-R-Base-Functions\" data-toc-modified-id=\"Reading-Tabular-like-Data-From-TXT|CSV-Files:-R-Base-Functions-1.2\"><span class=\"toc-item-num\">1.2&nbsp;&nbsp;</span>Reading Tabular like Data From TXT|CSV Files: R Base Functions</a></div><div class=\"lev3 toc-item\"><a href=\"#using-clipboard\" data-toc-modified-id=\"using-clipboard-1.2.1\"><span class=\"toc-item-num\">1.2.1&nbsp;&nbsp;</span>using clipboard</a></div><div class=\"lev3 toc-item\"><a href=\"#using-file.choose()\" data-toc-modified-id=\"using-file.choose()-1.2.2\"><span class=\"toc-item-num\">1.2.2&nbsp;&nbsp;</span>using file.choose()</a></div><div class=\"lev3 toc-item\"><a href=\"#Using-read.table\" data-toc-modified-id=\"Using-read.table-1.2.3\"><span class=\"toc-item-num\">1.2.3&nbsp;&nbsp;</span>Using read.table</a></div><div class=\"lev3 toc-item\"><a href=\"#Using-read.csv()\" data-toc-modified-id=\"Using-read.csv()-1.2.4\"><span class=\"toc-item-num\">1.2.4&nbsp;&nbsp;</span>Using read.csv()</a></div><div class=\"lev3 toc-item\"><a href=\"#Using-read.csv2()\" data-toc-modified-id=\"Using-read.csv2()-1.2.5\"><span class=\"toc-item-num\">1.2.5&nbsp;&nbsp;</span>Using read.csv2()</a></div><div class=\"lev3 toc-item\"><a href=\"#Using-read.delim()\" data-toc-modified-id=\"Using-read.delim()-1.2.6\"><span class=\"toc-item-num\">1.2.6&nbsp;&nbsp;</span>Using read.delim()</a></div><div class=\"lev3 toc-item\"><a href=\"#Using-read.delim2()\" data-toc-modified-id=\"Using-read.delim2()-1.2.7\"><span class=\"toc-item-num\">1.2.7&nbsp;&nbsp;</span>Using read.delim2()</a></div><div class=\"lev3 toc-item\"><a href=\"#Using-read.fwf()-for-Fixed-width-files\" data-toc-modified-id=\"Using-read.fwf()-for-Fixed-width-files-1.2.8\"><span class=\"toc-item-num\">1.2.8&nbsp;&nbsp;</span>Using read.fwf() for Fixed-width files</a></div><div class=\"lev1 toc-item\"><a href=\"#readr-package\" data-toc-modified-id=\"readr-package-2\"><span class=\"toc-item-num\">2&nbsp;&nbsp;</span>readr package</a></div><div class=\"lev1 toc-item\"><a href=\"#Data-Exporting\" data-toc-modified-id=\"Data-Exporting-3\"><span class=\"toc-item-num\">3&nbsp;&nbsp;</span>Data Exporting</a></div>"
   ]
  },
  {
   "cell_type": "markdown",
   "metadata": {
    "slideshow": {
     "slide_type": "slide"
    }
   },
   "source": [
    "# Data Importing"
   ]
  },
  {
   "cell_type": "markdown",
   "metadata": {
    "slideshow": {
     "slide_type": "fragment"
    }
   },
   "source": [
    "* **Using command line, text editor and point and click features**"
   ]
  },
  {
   "cell_type": "markdown",
   "metadata": {
    "slideshow": {
     "slide_type": "fragment"
    }
   },
   "source": [
    "* **Reading Data From TXT|CSV Files: R Base Functions**"
   ]
  },
  {
   "cell_type": "markdown",
   "metadata": {
    "slideshow": {
     "slide_type": "slide"
    }
   },
   "source": [
    "## Using command line, text editor and point and click features"
   ]
  },
  {
   "cell_type": "markdown",
   "metadata": {
    "slideshow": {
     "slide_type": "slide"
    }
   },
   "source": [
    "### Using command line\n",
    "* reading keyboard input from the command line \n",
    "* reading data from a file\n",
    "* using `scan` and `data.entry` commands\n"
   ]
  },
  {
   "cell_type": "code",
   "execution_count": 63,
   "metadata": {
    "run_control": {
     "frozen": false,
     "read_only": false
    },
    "slideshow": {
     "slide_type": "fragment"
    }
   },
   "outputs": [
    {
     "data": {
      "text/html": [],
      "text/latex": [],
      "text/markdown": [],
      "text/plain": [
       "numeric(0)"
      ]
     },
     "metadata": {},
     "output_type": "display_data"
    }
   ],
   "source": [
    "# simmply assign a variable using the scan command with no arguments If you enter\n",
    "# a blank line (just hit the Enter key)\n",
    "x <- scan()\n",
    "# 1: 28.8 2: 27.3 3: 45.8 4: 34.8 5: 23.5 6: Read 5 items\n",
    "\n",
    "x\n",
    "# [1] 28.8 27.3 45.8 34.8 23.5"
   ]
  },
  {
   "cell_type": "code",
   "execution_count": 64,
   "metadata": {
    "run_control": {
     "frozen": false,
     "read_only": false
    },
    "slideshow": {
     "slide_type": "subslide"
    }
   },
   "outputs": [
    {
     "data": {
      "text/html": [
       "<ol class=list-inline>\n",
       "\t<li>28.8</li>\n",
       "\t<li>27.3</li>\n",
       "\t<li>45.8</li>\n",
       "\t<li>34.8</li>\n",
       "\t<li>25.3</li>\n",
       "</ol>\n"
      ],
      "text/latex": [
       "\\begin{enumerate*}\n",
       "\\item 28.8\n",
       "\\item 27.3\n",
       "\\item 45.8\n",
       "\\item 34.8\n",
       "\\item 25.3\n",
       "\\end{enumerate*}\n"
      ],
      "text/markdown": [
       "1. 28.8\n",
       "2. 27.3\n",
       "3. 45.8\n",
       "4. 34.8\n",
       "5. 25.3\n",
       "\n",
       "\n"
      ],
      "text/plain": [
       "[1] 28.8 27.3 45.8 34.8 25.3"
      ]
     },
     "metadata": {},
     "output_type": "display_data"
    }
   ],
   "source": [
    "# If you provide a filename, then the scan command will read the values from the\n",
    "# file Suppose that we have a file called diameters.csv\n",
    "y <- scan(\"data/diameters.csv\")\n",
    "y"
   ]
  },
  {
   "cell_type": "code",
   "execution_count": 65,
   "metadata": {
    "run_control": {
     "frozen": false,
     "marked": false,
     "read_only": false
    },
    "scrolled": false,
    "slideshow": {
     "slide_type": "fragment"
    }
   },
   "outputs": [
    {
     "name": "stdout",
     "output_type": "stream",
     "text": [
      "[[1]]\n",
      "[1] \"pine\" \"pine\" \"oak\"  \"pine\" \"oak\" \n",
      "\n",
      "[[2]]\n",
      "[1] \"28.8\" \"27.3\" \"45.8\" \"34.8\" \"25.3\"\n",
      "\n"
     ]
    }
   ],
   "source": [
    "# You can read more complex data from a file using the scan command, but you must\n",
    "# specify the structure of the file. This means that you have to specify the data\n",
    "# types. Here, assume that we have a data file called trees.csv:\n",
    "\n",
    "x <- scan(\"data/trees.csv\", what = list(\"character\", \"double\"), sep = \",\")\n",
    "# The first column is the character data, and the second column is the numeric\n",
    "# data.\n",
    "print(x)\n",
    "# [[1]] [1] 'pine' 'pine' 'oak' 'pine' 'oak'\n",
    "\n",
    "# [[2]] [1] '28.8' '27.3' '45.8' '34.8' '25.3'"
   ]
  },
  {
   "cell_type": "markdown",
   "metadata": {
    "slideshow": {
     "slide_type": "slide"
    }
   },
   "source": [
    "### Using interacive text editor/graphical interface"
   ]
  },
  {
   "cell_type": "code",
   "execution_count": 66,
   "metadata": {
    "collapsed": true,
    "run_control": {
     "frozen": false,
     "read_only": false
    },
    "slideshow": {
     "slide_type": "fragment"
    }
   },
   "outputs": [],
   "source": [
    "# Another method for entering data is to use the data.entry command. The command\n",
    "# will open up a graphical interface x<- data.entry(1, 8, 4, 8, 9, 15,16)"
   ]
  },
  {
   "cell_type": "markdown",
   "metadata": {
    "slideshow": {
     "slide_type": "fragment"
    }
   },
   "source": [
    "**using edit() or fix() function to edit the dataframe dynamically using interactive spreadsheet model **\n",
    "\n",
    "```\n",
    "# not work in jupyter R-kernel\n",
    "elements <- data.frame()\n",
    "elements <- edit(elements) # Jupyter R kernel not supported this feature\n",
    "elements <- fix(elements) \n",
    "# edit() function displays the output result after edited but fix() function only saves results but not printed to the console \n",
    "```"
   ]
  },
  {
   "cell_type": "markdown",
   "metadata": {
    "slideshow": {
     "slide_type": "slide"
    }
   },
   "source": [
    "### Using point and click"
   ]
  },
  {
   "cell_type": "markdown",
   "metadata": {
    "slideshow": {
     "slide_type": "subslide"
    }
   },
   "source": [
    "<a href=\"https://imgur.com/qjxNKC5\"><img src=\"https://i.imgur.com/qjxNKC5.gif\" title=\"source: imgur.com\" /></a>"
   ]
  },
  {
   "cell_type": "markdown",
   "metadata": {
    "collapsed": true,
    "run_control": {
     "frozen": false,
     "read_only": false
    },
    "slideshow": {
     "slide_type": "subslide"
    }
   },
   "source": [
    "**Load csv, xls, xlsx, sav, dta, por, sas and stata files by point and click features**  \n",
    "**Other similar features included:** https://support.rstudio.com/hc/en-us/articles/218611977-Importing-Data-with-RStudio?mobile_site=true"
   ]
  },
  {
   "cell_type": "markdown",
   "metadata": {
    "slideshow": {
     "slide_type": "slide"
    }
   },
   "source": [
    "## Reading Tabular like Data From TXT|CSV Files: R Base Functions\n",
    "\n",
    "```\n",
    "* header\n",
    "* sep\n",
    "* stringsAsFactors\n",
    "* row.names\n",
    "* na.strings\n",
    "* nrows\n",
    "* skip\n",
    "```"
   ]
  },
  {
   "cell_type": "markdown",
   "metadata": {
    "slideshow": {
     "slide_type": "slide"
    }
   },
   "source": [
    "**Comparison**  \n",
    "![Imgur](https://i.imgur.com/0zwa4YI.jpg)"
   ]
  },
  {
   "cell_type": "markdown",
   "metadata": {
    "slideshow": {
     "slide_type": "subslide"
    }
   },
   "source": [
    "![Imgur](https://i.imgur.com/d84tL2e.png)"
   ]
  },
  {
   "cell_type": "markdown",
   "metadata": {
    "slideshow": {
     "slide_type": "subslide"
    }
   },
   "source": [
    "### using clipboard "
   ]
  },
  {
   "cell_type": "code",
   "execution_count": 1,
   "metadata": {
    "run_control": {
     "frozen": false,
     "read_only": false
    },
    "scrolled": true,
    "slideshow": {
     "slide_type": "fragment"
    }
   },
   "outputs": [],
   "source": [
    "# read.table(“clipboard”): It allows to copy data from Excel and read it directly\n",
    "# in R. useful in some cases.  myDf <- read.table('clipboard') myDf"
   ]
  },
  {
   "cell_type": "markdown",
   "metadata": {
    "slideshow": {
     "slide_type": "subslide"
    }
   },
   "source": [
    "### using file.choose() "
   ]
  },
  {
   "cell_type": "code",
   "execution_count": 2,
   "metadata": {
    "run_control": {
     "frozen": false,
     "read_only": false
    },
    "slideshow": {
     "slide_type": "fragment"
    }
   },
   "outputs": [],
   "source": [
    "#Using file.choose() argument (select yearly_sales.txt file)\n",
    "# my_data <- read.table(file.choose(), sep=\",\")\n",
    "# head(my_data)"
   ]
  },
  {
   "cell_type": "markdown",
   "metadata": {
    "slideshow": {
     "slide_type": "subslide"
    }
   },
   "source": [
    "### Using read.table\n",
    "* If you have a .txt or a tab-delimited text file, you can easily import it with the basic R function read.table()\n",
    "* read data from a file as a table\n",
    "* if the file is nicely formatted and arranged in convenient rows and columns"
   ]
  },
  {
   "cell_type": "code",
   "execution_count": 67,
   "metadata": {
    "collapsed": true,
    "run_control": {
     "frozen": false,
     "read_only": false
    },
    "slideshow": {
     "slide_type": "fragment"
    }
   },
   "outputs": [],
   "source": [
    "# take R documentation help\n",
    "# ?read.table or help(read.table)\n",
    "# ??read.table or help.search(\"read.table\")"
   ]
  },
  {
   "cell_type": "code",
   "execution_count": 70,
   "metadata": {
    "run_control": {
     "frozen": false,
     "read_only": false
    },
    "slideshow": {
     "slide_type": "fragment"
    }
   },
   "outputs": [
    {
     "data": {
      "text/html": [
       "<table>\n",
       "<thead><tr><th scope=col>cust_id</th><th scope=col>sales_total</th><th scope=col>num_of_orders</th><th scope=col>gender</th></tr></thead>\n",
       "<tbody>\n",
       "\t<tr><td>100001</td><td>800.64</td><td>3     </td><td>F     </td></tr>\n",
       "\t<tr><td>100002</td><td>217.53</td><td>3     </td><td>F     </td></tr>\n",
       "\t<tr><td>100003</td><td> 74.58</td><td>2     </td><td>M     </td></tr>\n",
       "\t<tr><td>100004</td><td>498.60</td><td>3     </td><td>M     </td></tr>\n",
       "\t<tr><td>100005</td><td>723.11</td><td>4     </td><td>F     </td></tr>\n",
       "\t<tr><td>100006</td><td> 69.43</td><td>2     </td><td>F     </td></tr>\n",
       "</tbody>\n",
       "</table>\n"
      ],
      "text/latex": [
       "\\begin{tabular}{r|llll}\n",
       " cust\\_id & sales\\_total & num\\_of\\_orders & gender\\\\\n",
       "\\hline\n",
       "\t 100001 & 800.64 & 3      & F     \\\\\n",
       "\t 100002 & 217.53 & 3      & F     \\\\\n",
       "\t 100003 &  74.58 & 2      & M     \\\\\n",
       "\t 100004 & 498.60 & 3      & M     \\\\\n",
       "\t 100005 & 723.11 & 4      & F     \\\\\n",
       "\t 100006 &  69.43 & 2      & F     \\\\\n",
       "\\end{tabular}\n"
      ],
      "text/markdown": [
       "\n",
       "cust_id | sales_total | num_of_orders | gender | \n",
       "|---|---|---|---|---|---|\n",
       "| 100001 | 800.64 | 3      | F      | \n",
       "| 100002 | 217.53 | 3      | F      | \n",
       "| 100003 |  74.58 | 2      | M      | \n",
       "| 100004 | 498.60 | 3      | M      | \n",
       "| 100005 | 723.11 | 4      | F      | \n",
       "| 100006 |  69.43 | 2      | F      | \n",
       "\n",
       "\n"
      ],
      "text/plain": [
       "  cust_id sales_total num_of_orders gender\n",
       "1 100001  800.64      3             F     \n",
       "2 100002  217.53      3             F     \n",
       "3 100003   74.58      2             M     \n",
       "4 100004  498.60      3             M     \n",
       "5 100005  723.11      4             F     \n",
       "6 100006   69.43      2             F     "
      ]
     },
     "metadata": {},
     "output_type": "display_data"
    }
   ],
   "source": [
    "# read.table and read.delim are intended to import other common file types such\n",
    "# as .TXT\n",
    "sales_table_txt <- read.table(\"data/yearly_sales.txt\", header = TRUE, sep = \",\")\n",
    "head(sales_table_txt)"
   ]
  },
  {
   "cell_type": "code",
   "execution_count": 71,
   "metadata": {
    "run_control": {
     "frozen": false,
     "read_only": false
    },
    "scrolled": false,
    "slideshow": {
     "slide_type": "subslide"
    }
   },
   "outputs": [
    {
     "data": {
      "text/html": [
       "<table>\n",
       "<thead><tr><th scope=col>V1</th><th scope=col>V2</th><th scope=col>V3</th></tr></thead>\n",
       "<tbody>\n",
       "\t<tr><td>1</td><td>2</td><td>3</td></tr>\n",
       "\t<tr><td>3</td><td>5</td><td>6</td></tr>\n",
       "</tbody>\n",
       "</table>\n"
      ],
      "text/latex": [
       "\\begin{tabular}{r|lll}\n",
       " V1 & V2 & V3\\\\\n",
       "\\hline\n",
       "\t 1 & 2 & 3\\\\\n",
       "\t 3 & 5 & 6\\\\\n",
       "\\end{tabular}\n"
      ],
      "text/markdown": [
       "\n",
       "V1 | V2 | V3 | \n",
       "|---|---|\n",
       "| 1 | 2 | 3 | \n",
       "| 3 | 5 | 6 | \n",
       "\n",
       "\n"
      ],
      "text/plain": [
       "  V1 V2 V3\n",
       "1 1  2  3 \n",
       "2 3  5  6 "
      ]
     },
     "metadata": {},
     "output_type": "display_data"
    },
    {
     "data": {
      "text/html": [
       "<ol class=list-inline>\n",
       "\t<li>'V1'</li>\n",
       "\t<li>'V2'</li>\n",
       "\t<li>'V3'</li>\n",
       "</ol>\n"
      ],
      "text/latex": [
       "\\begin{enumerate*}\n",
       "\\item 'V1'\n",
       "\\item 'V2'\n",
       "\\item 'V3'\n",
       "\\end{enumerate*}\n"
      ],
      "text/markdown": [
       "1. 'V1'\n",
       "2. 'V2'\n",
       "3. 'V3'\n",
       "\n",
       "\n"
      ],
      "text/plain": [
       "[1] \"V1\" \"V2\" \"V3\""
      ]
     },
     "metadata": {},
     "output_type": "display_data"
    },
    {
     "data": {
      "text/html": [
       "<table>\n",
       "<thead><tr><th scope=col>one</th><th scope=col>two</th><th scope=col>three</th></tr></thead>\n",
       "<tbody>\n",
       "\t<tr><td>1</td><td>2</td><td>3</td></tr>\n",
       "\t<tr><td>3</td><td>5</td><td>6</td></tr>\n",
       "</tbody>\n",
       "</table>\n"
      ],
      "text/latex": [
       "\\begin{tabular}{r|lll}\n",
       " one & two & three\\\\\n",
       "\\hline\n",
       "\t 1 & 2 & 3\\\\\n",
       "\t 3 & 5 & 6\\\\\n",
       "\\end{tabular}\n"
      ],
      "text/markdown": [
       "\n",
       "one | two | three | \n",
       "|---|---|\n",
       "| 1 | 2 | 3 | \n",
       "| 3 | 5 | 6 | \n",
       "\n",
       "\n"
      ],
      "text/plain": [
       "  one two three\n",
       "1 1   2   3    \n",
       "2 3   5   6    "
      ]
     },
     "metadata": {},
     "output_type": "display_data"
    }
   ],
   "source": [
    "# Reading .dat files in R\n",
    "trial <- read.table(\"data/trialTable.dat\")\n",
    "trial\n",
    "names(trial)\n",
    "names(trial)[names(trial)==names(trial)] <- c(\"one\", \"two\", \"three\")\n",
    "trial"
   ]
  },
  {
   "cell_type": "code",
   "execution_count": 72,
   "metadata": {
    "run_control": {
     "frozen": false,
     "read_only": false
    },
    "scrolled": true,
    "slideshow": {
     "slide_type": "fragment"
    }
   },
   "outputs": [
    {
     "data": {
      "text/html": [
       "<table>\n",
       "<thead><tr><th scope=col>V1</th><th scope=col>V2</th><th scope=col>V3</th><th scope=col>V4</th><th scope=col>V5</th></tr></thead>\n",
       "<tbody>\n",
       "\t<tr><td>5.1        </td><td>3.5        </td><td>1.4        </td><td>0.2        </td><td>Iris-setosa</td></tr>\n",
       "\t<tr><td>4.9        </td><td>3.0        </td><td>1.4        </td><td>0.2        </td><td>Iris-setosa</td></tr>\n",
       "\t<tr><td>4.7        </td><td>3.2        </td><td>1.3        </td><td>0.2        </td><td>Iris-setosa</td></tr>\n",
       "\t<tr><td>4.6        </td><td>3.1        </td><td>1.5        </td><td>0.2        </td><td>Iris-setosa</td></tr>\n",
       "\t<tr><td>5.0        </td><td>3.6        </td><td>1.4        </td><td>0.2        </td><td>Iris-setosa</td></tr>\n",
       "\t<tr><td>5.4        </td><td>3.9        </td><td>1.7        </td><td>0.4        </td><td>Iris-setosa</td></tr>\n",
       "</tbody>\n",
       "</table>\n"
      ],
      "text/latex": [
       "\\begin{tabular}{r|lllll}\n",
       " V1 & V2 & V3 & V4 & V5\\\\\n",
       "\\hline\n",
       "\t 5.1         & 3.5         & 1.4         & 0.2         & Iris-setosa\\\\\n",
       "\t 4.9         & 3.0         & 1.4         & 0.2         & Iris-setosa\\\\\n",
       "\t 4.7         & 3.2         & 1.3         & 0.2         & Iris-setosa\\\\\n",
       "\t 4.6         & 3.1         & 1.5         & 0.2         & Iris-setosa\\\\\n",
       "\t 5.0         & 3.6         & 1.4         & 0.2         & Iris-setosa\\\\\n",
       "\t 5.4         & 3.9         & 1.7         & 0.4         & Iris-setosa\\\\\n",
       "\\end{tabular}\n"
      ],
      "text/markdown": [
       "\n",
       "V1 | V2 | V3 | V4 | V5 | \n",
       "|---|---|---|---|---|---|\n",
       "| 5.1         | 3.5         | 1.4         | 0.2         | Iris-setosa | \n",
       "| 4.9         | 3.0         | 1.4         | 0.2         | Iris-setosa | \n",
       "| 4.7         | 3.2         | 1.3         | 0.2         | Iris-setosa | \n",
       "| 4.6         | 3.1         | 1.5         | 0.2         | Iris-setosa | \n",
       "| 5.0         | 3.6         | 1.4         | 0.2         | Iris-setosa | \n",
       "| 5.4         | 3.9         | 1.7         | 0.4         | Iris-setosa | \n",
       "\n",
       "\n"
      ],
      "text/plain": [
       "  V1  V2  V3  V4  V5         \n",
       "1 5.1 3.5 1.4 0.2 Iris-setosa\n",
       "2 4.9 3.0 1.4 0.2 Iris-setosa\n",
       "3 4.7 3.2 1.3 0.2 Iris-setosa\n",
       "4 4.6 3.1 1.5 0.2 Iris-setosa\n",
       "5 5.0 3.6 1.4 0.2 Iris-setosa\n",
       "6 5.4 3.9 1.7 0.4 Iris-setosa"
      ]
     },
     "metadata": {},
     "output_type": "display_data"
    }
   ],
   "source": [
    "iris <- read.table(url(\"http://archive.ics.uci.edu/ml/machine-learning-databases/iris/iris.data\"), \n",
    "    header = FALSE, sep = \",\")\n",
    "# external sep argument is needed to import this file using read.table\n",
    "head(iris)\n"
   ]
  },
  {
   "cell_type": "code",
   "execution_count": 73,
   "metadata": {
    "run_control": {
     "frozen": false,
     "read_only": false
    },
    "scrolled": false,
    "slideshow": {
     "slide_type": "subslide"
    }
   },
   "outputs": [
    {
     "data": {
      "text/html": [
       "<ol class=list-inline>\n",
       "\t<li>100</li>\n",
       "\t<li>6</li>\n",
       "</ol>\n"
      ],
      "text/latex": [
       "\\begin{enumerate*}\n",
       "\\item 100\n",
       "\\item 6\n",
       "\\end{enumerate*}\n"
      ],
      "text/markdown": [
       "1. 100\n",
       "2. 6\n",
       "\n",
       "\n"
      ],
      "text/plain": [
       "[1] 100   6"
      ]
     },
     "metadata": {},
     "output_type": "display_data"
    },
    {
     "data": {
      "text/html": [
       "<table>\n",
       "<thead><tr><th scope=col>group</th><th scope=col>treatment</th><th scope=col>mass0</th><th scope=col>mass10</th><th scope=col>mass25</th><th scope=col>mass50</th></tr></thead>\n",
       "<tbody>\n",
       "\t<tr><td>green    </td><td>control  </td><td>150.04841</td><td>188.1930 </td><td>264.33913</td><td> 465.6842</td></tr>\n",
       "\t<tr><td>green    </td><td>control  </td><td>128.94804</td><td>168.4952 </td><td>251.67897</td><td> 491.2235</td></tr>\n",
       "\t<tr><td>green    </td><td>pixies   </td><td>161.00249</td><td>267.2797 </td><td>571.69731</td><td>2030.0171</td></tr>\n",
       "\t<tr><td>green    </td><td>pixies   </td><td>193.44995</td><td>267.8308 </td><td>436.31328</td><td> 984.0751</td></tr>\n",
       "\t<tr><td>green    </td><td>control  </td><td>101.88225</td><td>124.7450 </td><td>169.00897</td><td> 280.3632</td></tr>\n",
       "\t<tr><td>green    </td><td>control  </td><td> 41.92258</td><td> 51.2602 </td><td> 69.30728</td><td> 114.5803</td></tr>\n",
       "</tbody>\n",
       "</table>\n"
      ],
      "text/latex": [
       "\\begin{tabular}{r|llllll}\n",
       " group & treatment & mass0 & mass10 & mass25 & mass50\\\\\n",
       "\\hline\n",
       "\t green     & control   & 150.04841 & 188.1930  & 264.33913 &  465.6842\\\\\n",
       "\t green     & control   & 128.94804 & 168.4952  & 251.67897 &  491.2235\\\\\n",
       "\t green     & pixies    & 161.00249 & 267.2797  & 571.69731 & 2030.0171\\\\\n",
       "\t green     & pixies    & 193.44995 & 267.8308  & 436.31328 &  984.0751\\\\\n",
       "\t green     & control   & 101.88225 & 124.7450  & 169.00897 &  280.3632\\\\\n",
       "\t green     & control   &  41.92258 &  51.2602  &  69.30728 &  114.5803\\\\\n",
       "\\end{tabular}\n"
      ],
      "text/markdown": [
       "\n",
       "group | treatment | mass0 | mass10 | mass25 | mass50 | \n",
       "|---|---|---|---|---|---|\n",
       "| green     | control   | 150.04841 | 188.1930  | 264.33913 |  465.6842 | \n",
       "| green     | control   | 128.94804 | 168.4952  | 251.67897 |  491.2235 | \n",
       "| green     | pixies    | 161.00249 | 267.2797  | 571.69731 | 2030.0171 | \n",
       "| green     | pixies    | 193.44995 | 267.8308  | 436.31328 |  984.0751 | \n",
       "| green     | control   | 101.88225 | 124.7450  | 169.00897 |  280.3632 | \n",
       "| green     | control   |  41.92258 |  51.2602  |  69.30728 |  114.5803 | \n",
       "\n",
       "\n"
      ],
      "text/plain": [
       "  group treatment mass0     mass10   mass25    mass50   \n",
       "1 green control   150.04841 188.1930 264.33913  465.6842\n",
       "2 green control   128.94804 168.4952 251.67897  491.2235\n",
       "3 green pixies    161.00249 267.2797 571.69731 2030.0171\n",
       "4 green pixies    193.44995 267.8308 436.31328  984.0751\n",
       "5 green control   101.88225 124.7450 169.00897  280.3632\n",
       "6 green control    41.92258  51.2602  69.30728  114.5803"
      ]
     },
     "metadata": {},
     "output_type": "display_data"
    }
   ],
   "source": [
    "data <- read.table(url(\"https://raw.githubusercontent.com/mrtnj/rstuff/master/comb_gnome_data.csv\"), \n",
    "    header = TRUE, sep = \",\")\n",
    "dim(data)\n",
    "head(data)"
   ]
  },
  {
   "cell_type": "code",
   "execution_count": 74,
   "metadata": {
    "run_control": {
     "frozen": false,
     "read_only": false
    },
    "scrolled": true,
    "slideshow": {
     "slide_type": "fragment"
    }
   },
   "outputs": [
    {
     "name": "stdout",
     "output_type": "stream",
     "text": [
      "  V1 V2       V3   V4           V5\n",
      "1  1  6 12:01:03 0.50        WORST\n",
      "2  2 16 07:42:51 0.32         BEST\n",
      "3  3 19 12:01:29 0.50         <NA>\n",
      "4  4 13 03:22:50 0.14 INTERMEDIATE\n",
      "5  5  8 09:30:03 0.40        WORST\n"
     ]
    }
   ],
   "source": [
    "# Read in the data\n",
    "df <- read.table(\"https://s3.amazonaws.com/assets.datacamp.com/blog_assets/scores_timed.txt\", \n",
    "                 header = FALSE, \n",
    "                 sep=\"/\", \n",
    "                 strip.white = TRUE,  \n",
    "                 na.strings = \"EMPTY\") # na.strings indicates which strings should be interpreted as NA values. In this case, the string “EMPTY” is to be interpreted as an NA value.\n",
    "\n",
    "# Print out `df`\n",
    "print(df)"
   ]
  },
  {
   "cell_type": "code",
   "execution_count": 75,
   "metadata": {
    "run_control": {
     "frozen": false,
     "read_only": false
    },
    "slideshow": {
     "slide_type": "subslide"
    }
   },
   "outputs": [
    {
     "data": {
      "text/html": [
       "<ol class=list-inline>\n",
       "\t<li>'Blue'</li>\n",
       "\t<li>' Red'</li>\n",
       "\t<li>'White'</li>\n",
       "\t<li>'Red'</li>\n",
       "\t<li>'Black'</li>\n",
       "</ol>\n"
      ],
      "text/latex": [
       "\\begin{enumerate*}\n",
       "\\item 'Blue'\n",
       "\\item ' Red'\n",
       "\\item 'White'\n",
       "\\item 'Red'\n",
       "\\item 'Black'\n",
       "\\end{enumerate*}\n"
      ],
      "text/markdown": [
       "1. 'Blue'\n",
       "2. ' Red'\n",
       "3. 'White'\n",
       "4. 'Red'\n",
       "5. 'Black'\n",
       "\n",
       "\n"
      ],
      "text/plain": [
       "[1] \"Blue\"  \" Red\"  \"White\" \"Red\"   \"Black\""
      ]
     },
     "metadata": {},
     "output_type": "display_data"
    }
   ],
   "source": [
    "# strip.white = TRUE feature\n",
    "carSpeeds <- read.csv(file = \"data/car-speeds.csv\", stringsAsFactors = FALSE)\n",
    "unique(carSpeeds$Color)\n"
   ]
  },
  {
   "cell_type": "code",
   "execution_count": 76,
   "metadata": {
    "run_control": {
     "frozen": false,
     "read_only": false
    },
    "slideshow": {
     "slide_type": "subslide"
    }
   },
   "outputs": [
    {
     "data": {
      "text/html": [
       "<ol class=list-inline>\n",
       "\t<li>'Blue'</li>\n",
       "\t<li>'Red'</li>\n",
       "\t<li>'White'</li>\n",
       "\t<li>'Black'</li>\n",
       "</ol>\n"
      ],
      "text/latex": [
       "\\begin{enumerate*}\n",
       "\\item 'Blue'\n",
       "\\item 'Red'\n",
       "\\item 'White'\n",
       "\\item 'Black'\n",
       "\\end{enumerate*}\n"
      ],
      "text/markdown": [
       "1. 'Blue'\n",
       "2. 'Red'\n",
       "3. 'White'\n",
       "4. 'Black'\n",
       "\n",
       "\n"
      ],
      "text/plain": [
       "[1] \"Blue\"  \"Red\"   \"White\" \"Black\""
      ]
     },
     "metadata": {},
     "output_type": "display_data"
    }
   ],
   "source": [
    "# we see two values for red cars.# Let’s try again, this time importing the data\n",
    "# using the strip.white argument. NOTE - this argument must be accompanied by the\n",
    "# sep argument, by which we indicate the type of delimiter in the file (the comma\n",
    "# for most .csv files)\n",
    "carSpeeds <- read.csv(file = \"data/car-speeds.csv\", stringsAsFactors = FALSE, strip.white = TRUE, \n",
    "    sep = \",\")\n",
    "\n",
    "unique(carSpeeds$Color)"
   ]
  },
  {
   "cell_type": "markdown",
   "metadata": {
    "slideshow": {
     "slide_type": "slide"
    }
   },
   "source": [
    "### Using read.csv()\n",
    "* Column seperated values\n",
    "* Each line contains a row of values which can be numbers or letters, and each value is separated by a comma. "
   ]
  },
  {
   "cell_type": "code",
   "execution_count": 77,
   "metadata": {
    "run_control": {
     "frozen": false,
     "read_only": false
    },
    "slideshow": {
     "slide_type": "fragment"
    }
   },
   "outputs": [
    {
     "data": {
      "text/html": [
       "<table>\n",
       "<thead><tr><th scope=col>V1</th><th scope=col>V2</th><th scope=col>V3</th></tr></thead>\n",
       "<tbody>\n",
       "\t<tr><td>1</td><td>2</td><td>3</td></tr>\n",
       "\t<tr><td>3</td><td>5</td><td>6</td></tr>\n",
       "</tbody>\n",
       "</table>\n"
      ],
      "text/latex": [
       "\\begin{tabular}{r|lll}\n",
       " V1 & V2 & V3\\\\\n",
       "\\hline\n",
       "\t 1 & 2 & 3\\\\\n",
       "\t 3 & 5 & 6\\\\\n",
       "\\end{tabular}\n"
      ],
      "text/markdown": [
       "\n",
       "V1 | V2 | V3 | \n",
       "|---|---|\n",
       "| 1 | 2 | 3 | \n",
       "| 3 | 5 | 6 | \n",
       "\n",
       "\n"
      ],
      "text/plain": [
       "  V1 V2 V3\n",
       "1 1  2  3 \n",
       "2 3  5  6 "
      ]
     },
     "metadata": {},
     "output_type": "display_data"
    }
   ],
   "source": [
    "trial <- read.csv(\"data/trialTable.csv\", header = FALSE)\n",
    "trial"
   ]
  },
  {
   "cell_type": "code",
   "execution_count": 78,
   "metadata": {
    "run_control": {
     "frozen": false,
     "read_only": false
    },
    "scrolled": true,
    "slideshow": {
     "slide_type": "subslide"
    }
   },
   "outputs": [
    {
     "name": "stdout",
     "output_type": "stream",
     "text": [
      "'data.frame':\t3 obs. of  4 variables:\n",
      " $ First : Factor w/ 3 levels \"\",\"Currer\",\"Dr.\": 2 3 1\n",
      " $ Last  : Factor w/ 3 levels \"Bell\",\"Seuss\",..: 1 2 3\n",
      " $ Sex   : Factor w/ 2 levels \"F\",\"M\": 1 2 NA\n",
      " $ Number: int  2 49 21\n",
      "'data.frame':\t3 obs. of  4 variables:\n",
      " $ First : chr  \"Currer\" \"Dr.\" \"\"\n",
      " $ Last  : chr  \"Bell\" \"Seuss\" \"Student\"\n",
      " $ Sex   : chr  \"F\" \"M\" NA\n",
      " $ Number: int  2 49 21\n",
      "'data.frame':\t3 obs. of  4 variables:\n",
      " $ First : chr  \"Currer\" \"Dr.\" \"\"\n",
      " $ Last  : chr  \"Bell\" \"Seuss\" \"Student\"\n",
      " $ Sex   : Factor w/ 2 levels \"F\",\"M\": 1 2 NA\n",
      " $ Number: int  2 49 21\n"
     ]
    }
   ],
   "source": [
    "# By default, strings in the data are converted to factors. If you load the data\n",
    "# below with read.csv, then all the text columns will be treated as factors, even\n",
    "# though it might make more sense to treat some of them as strings. To do this,\n",
    "# use stringsAsFactors=FALSE:\n",
    "data <- read.csv(\"data/datafile.csv\")\n",
    "str(data)\n",
    "data <- read.csv(\"data/datafile.csv\", stringsAsFactors = FALSE)\n",
    "str(data)\n",
    "# You might have to convert some columns to factors\n",
    "data$Sex <- factor(data$Sex)\n",
    "str(data)"
   ]
  },
  {
   "cell_type": "code",
   "execution_count": 79,
   "metadata": {
    "run_control": {
     "frozen": false,
     "read_only": false
    },
    "slideshow": {
     "slide_type": "subslide"
    }
   },
   "outputs": [
    {
     "name": "stdout",
     "output_type": "stream",
     "text": [
      "'data.frame':\t3 obs. of  4 variables:\n",
      " $ First : Factor w/ 3 levels \"\",\"Currer\",\"Dr.\": 2 3 1\n",
      " $ Last  : Factor w/ 3 levels \"Bell\",\"Seuss\",..: 1 2 3\n",
      " $ Sex   : Factor w/ 2 levels \"F\",\"M\": 1 2 NA\n",
      " $ Number: int  2 49 21\n",
      "'data.frame':\t3 obs. of  4 variables:\n",
      " $ First : chr  \"Currer\" \"Dr.\" \"\"\n",
      " $ Last  : chr  \"Bell\" \"Seuss\" \"Student\"\n",
      " $ Sex   : Factor w/ 2 levels \"F\",\"M\": 1 2 NA\n",
      " $ Number: int  2 49 21\n",
      "'data.frame':\t3 obs. of  4 variables:\n",
      " $ First : chr  \"Currer\" \"Dr.\" \"\"\n",
      " $ Last  : chr  \"Bell\" \"Seuss\" \"Student\"\n",
      " $ Sex   : Factor w/ 2 levels \"F\",\"M\": 1 2 NA\n",
      " $ Number: int  2 49 21\n"
     ]
    }
   ],
   "source": [
    "# Another alternative is to load them as factors and convert some columns to characters:\n",
    "\n",
    "data <- read.csv(\"data/datafile.csv\")\n",
    "str(data)\n",
    "data$First <- as.character(data$First)\n",
    "data$Last  <- as.character(data$Last)\n",
    "str(data)\n",
    "# Another method: convert columns named \"First\" and \"Last\"\n",
    "stringcols <- c(\"First\",\"Last\")\n",
    "data[stringcols] <- lapply(data[stringcols], as.character)\n",
    "str(data)"
   ]
  },
  {
   "cell_type": "code",
   "execution_count": 80,
   "metadata": {
    "run_control": {
     "frozen": false,
     "read_only": false
    },
    "scrolled": true,
    "slideshow": {
     "slide_type": "fragment"
    }
   },
   "outputs": [
    {
     "data": {
      "text/html": [
       "<table>\n",
       "<thead><tr><th scope=col>Line</th><th scope=col>X</th><th scope=col>X1994.1</th><th scope=col>X1994.2</th><th scope=col>X1994.3</th><th scope=col>X1994.4</th><th scope=col>X1995.1</th><th scope=col>X1995.2</th><th scope=col>X1995.3</th><th scope=col>X1995.4</th><th scope=col>X1996.1</th><th scope=col>X1996.2</th><th scope=col>X1996.3</th><th scope=col>X1996.4</th></tr></thead>\n",
       "<tbody>\n",
       "\t<tr><td>1                              </td><td>Manufacturing and trade        </td><td>918077                         </td><td>933394                         </td><td>943934                         </td><td>959179                         </td><td>974505                         </td><td>985513                         </td><td>992770                         </td><td>996357                         </td><td>997100                         </td><td>1001734                        </td><td>1009316                        </td><td>1016359                        </td></tr>\n",
       "\t<tr><td>2                              </td><td>Manufacturing                  </td><td>396374                         </td><td>399508                         </td><td>402100                         </td><td>405833                         </td><td>411143                         </td><td>414963                         </td><td>418103                         </td><td>419897                         </td><td>424195                         </td><td> 423339                        </td><td> 426845                        </td><td> 429994                        </td></tr>\n",
       "\t<tr><td>3                              </td><td>Durable goods                  </td><td>237975                         </td><td>240652                         </td><td>242222                         </td><td>244930                         </td><td>248020                         </td><td>250316                         </td><td>253164                         </td><td>255633                         </td><td>259538                         </td><td> 260090                        </td><td> 263286                        </td><td> 265147                        </td></tr>\n",
       "\t<tr><td>4                              </td><td>Lumber and wood products       </td><td> 10264                         </td><td> 10380                         </td><td> 10159                         </td><td> 10104                         </td><td>  9967                         </td><td>  9857                         </td><td> 10303                         </td><td> 10543                         </td><td> 10559                         </td><td>  10693                        </td><td>  10696                        </td><td>  10479                        </td></tr>\n",
       "\t<tr><td>5                              </td><td>Furniture and fixtures         </td><td>  6695                         </td><td>  6599                         </td><td>  6647                         </td><td>  6735                         </td><td>  6810                         </td><td>  6839                         </td><td>  6753                         </td><td>  6737                         </td><td>  6501                         </td><td>   6572                        </td><td>   6650                        </td><td>   6698                        </td></tr>\n",
       "\t<tr><td>6                              </td><td>Stone, clay, and glass products</td><td>  8313                         </td><td>  8041                         </td><td>  8114                         </td><td>  8315                         </td><td>  8475                         </td><td>  8854                         </td><td>  9023                         </td><td>  8784                         </td><td>  8844                         </td><td>   8780                        </td><td>   8844                        </td><td>   9047                        </td></tr>\n",
       "</tbody>\n",
       "</table>\n"
      ],
      "text/latex": [
       "\\begin{tabular}{r|llllllllllllll}\n",
       " Line & X & X1994.1 & X1994.2 & X1994.3 & X1994.4 & X1995.1 & X1995.2 & X1995.3 & X1995.4 & X1996.1 & X1996.2 & X1996.3 & X1996.4\\\\\n",
       "\\hline\n",
       "\t 1                               & Manufacturing and trade         & 918077                          & 933394                          & 943934                          & 959179                          & 974505                          & 985513                          & 992770                          & 996357                          & 997100                          & 1001734                         & 1009316                         & 1016359                        \\\\\n",
       "\t 2                               & Manufacturing                   & 396374                          & 399508                          & 402100                          & 405833                          & 411143                          & 414963                          & 418103                          & 419897                          & 424195                          &  423339                         &  426845                         &  429994                        \\\\\n",
       "\t 3                               & Durable goods                   & 237975                          & 240652                          & 242222                          & 244930                          & 248020                          & 250316                          & 253164                          & 255633                          & 259538                          &  260090                         &  263286                         &  265147                        \\\\\n",
       "\t 4                               & Lumber and wood products        &  10264                          &  10380                          &  10159                          &  10104                          &   9967                          &   9857                          &  10303                          &  10543                          &  10559                          &   10693                         &   10696                         &   10479                        \\\\\n",
       "\t 5                               & Furniture and fixtures          &   6695                          &   6599                          &   6647                          &   6735                          &   6810                          &   6839                          &   6753                          &   6737                          &   6501                          &    6572                         &    6650                         &    6698                        \\\\\n",
       "\t 6                               & Stone, clay, and glass products &   8313                          &   8041                          &   8114                          &   8315                          &   8475                          &   8854                          &   9023                          &   8784                          &   8844                          &    8780                         &    8844                         &    9047                        \\\\\n",
       "\\end{tabular}\n"
      ],
      "text/markdown": [
       "\n",
       "Line | X | X1994.1 | X1994.2 | X1994.3 | X1994.4 | X1995.1 | X1995.2 | X1995.3 | X1995.4 | X1996.1 | X1996.2 | X1996.3 | X1996.4 | \n",
       "|---|---|---|---|---|---|\n",
       "| 1                               | Manufacturing and trade         | 918077                          | 933394                          | 943934                          | 959179                          | 974505                          | 985513                          | 992770                          | 996357                          | 997100                          | 1001734                         | 1009316                         | 1016359                         | \n",
       "| 2                               | Manufacturing                   | 396374                          | 399508                          | 402100                          | 405833                          | 411143                          | 414963                          | 418103                          | 419897                          | 424195                          |  423339                         |  426845                         |  429994                         | \n",
       "| 3                               | Durable goods                   | 237975                          | 240652                          | 242222                          | 244930                          | 248020                          | 250316                          | 253164                          | 255633                          | 259538                          |  260090                         |  263286                         |  265147                         | \n",
       "| 4                               | Lumber and wood products        |  10264                          |  10380                          |  10159                          |  10104                          |   9967                          |   9857                          |  10303                          |  10543                          |  10559                          |   10693                         |   10696                         |   10479                         | \n",
       "| 5                               | Furniture and fixtures          |   6695                          |   6599                          |   6647                          |   6735                          |   6810                          |   6839                          |   6753                          |   6737                          |   6501                          |    6572                         |    6650                         |    6698                         | \n",
       "| 6                               | Stone, clay, and glass products |   8313                          |   8041                          |   8114                          |   8315                          |   8475                          |   8854                          |   9023                          |   8784                          |   8844                          |    8780                         |    8844                         |    9047                         | \n",
       "\n",
       "\n"
      ],
      "text/plain": [
       "  Line X                               X1994.1 X1994.2 X1994.3 X1994.4 X1995.1\n",
       "1 1    Manufacturing and trade         918077  933394  943934  959179  974505 \n",
       "2 2    Manufacturing                   396374  399508  402100  405833  411143 \n",
       "3 3    Durable goods                   237975  240652  242222  244930  248020 \n",
       "4 4    Lumber and wood products         10264   10380   10159   10104    9967 \n",
       "5 5    Furniture and fixtures            6695    6599    6647    6735    6810 \n",
       "6 6    Stone, clay, and glass products   8313    8041    8114    8315    8475 \n",
       "  X1995.2 X1995.3 X1995.4 X1996.1 X1996.2 X1996.3 X1996.4\n",
       "1 985513  992770  996357  997100  1001734 1009316 1016359\n",
       "2 414963  418103  419897  424195   423339  426845  429994\n",
       "3 250316  253164  255633  259538   260090  263286  265147\n",
       "4   9857   10303   10543   10559    10693   10696   10479\n",
       "5   6839    6753    6737    6501     6572    6650    6698\n",
       "6   8854    9023    8784    8844     8780    8844    9047"
      ]
     },
     "metadata": {},
     "output_type": "display_data"
    }
   ],
   "source": [
    "# skipping unwanted rows\n",
    "inventories <- read.csv(\"data/inventories.csv\", skip = 6, header = TRUE, sep = \",\")\n",
    "head(inventories)"
   ]
  },
  {
   "cell_type": "markdown",
   "metadata": {
    "slideshow": {
     "slide_type": "slide"
    }
   },
   "source": [
    "### Using read.csv2()\n",
    "* `read.csv2()` variant used in countries that use a comma “,” as decimal point and a semicolon “;” as field separators.\n",
    "*  If you export a comma separated value file on a Swedish computer, you are likely to get a numbers with decimal commas and semicolons as field separators. Then what you want is read.csv2( ), which is a read.csv made for semicolon separated files with decimal commas."
   ]
  },
  {
   "cell_type": "code",
   "execution_count": 81,
   "metadata": {
    "run_control": {
     "frozen": false,
     "read_only": false
    },
    "slideshow": {
     "slide_type": "subslide"
    }
   },
   "outputs": [
    {
     "data": {
      "text/html": [
       "<table>\n",
       "<thead><tr><th scope=col>state</th><th scope=col>capital</th><th scope=col>pop_mill</th><th scope=col>area_sqm</th><th scope=col>X</th></tr></thead>\n",
       "<tbody>\n",
       "\t<tr><td>South Dakota</td><td>Pierre      </td><td>0,853       </td><td>77116       </td><td>NA          </td></tr>\n",
       "\t<tr><td>New York    </td><td>Albany      </td><td>19,746      </td><td>54555       </td><td>NA          </td></tr>\n",
       "\t<tr><td>Oregon      </td><td>Salem       </td><td>3,97        </td><td>98381       </td><td>NA          </td></tr>\n",
       "\t<tr><td>Vermont     </td><td>Montpelier  </td><td>0,627       </td><td> 9616       </td><td>NA          </td></tr>\n",
       "\t<tr><td>Hawaii      </td><td>Honolulu    </td><td>1,42        </td><td>10931       </td><td>NA          </td></tr>\n",
       "</tbody>\n",
       "</table>\n"
      ],
      "text/latex": [
       "\\begin{tabular}{r|lllll}\n",
       " state & capital & pop\\_mill & area\\_sqm & X\\\\\n",
       "\\hline\n",
       "\t South Dakota & Pierre       & 0,853        & 77116        & NA          \\\\\n",
       "\t New York     & Albany       & 19,746       & 54555        & NA          \\\\\n",
       "\t Oregon       & Salem        & 3,97         & 98381        & NA          \\\\\n",
       "\t Vermont      & Montpelier   & 0,627        &  9616        & NA          \\\\\n",
       "\t Hawaii       & Honolulu     & 1,42         & 10931        & NA          \\\\\n",
       "\\end{tabular}\n"
      ],
      "text/markdown": [
       "\n",
       "state | capital | pop_mill | area_sqm | X | \n",
       "|---|---|---|---|---|\n",
       "| South Dakota | Pierre       | 0,853        | 77116        | NA           | \n",
       "| New York     | Albany       | 19,746       | 54555        | NA           | \n",
       "| Oregon       | Salem        | 3,97         | 98381        | NA           | \n",
       "| Vermont      | Montpelier   | 0,627        |  9616        | NA           | \n",
       "| Hawaii       | Honolulu     | 1,42         | 10931        | NA           | \n",
       "\n",
       "\n"
      ],
      "text/plain": [
       "  state        capital    pop_mill area_sqm X \n",
       "1 South Dakota Pierre     0,853    77116    NA\n",
       "2 New York     Albany     19,746   54555    NA\n",
       "3 Oregon       Salem      3,97     98381    NA\n",
       "4 Vermont      Montpelier 0,627     9616    NA\n",
       "5 Hawaii       Honolulu   1,42     10931    NA"
      ]
     },
     "metadata": {},
     "output_type": "display_data"
    },
    {
     "name": "stdout",
     "output_type": "stream",
     "text": [
      "'data.frame':\t5 obs. of  5 variables:\n",
      " $ state   : Factor w/ 5 levels \"Hawaii\",\"New York\",..: 4 2 3 5 1\n",
      " $ capital : Factor w/ 5 levels \"Albany\",\"Honolulu\",..: 4 1 5 3 2\n",
      " $ pop_mill: Factor w/ 5 levels \"0,627\",\"0,853\",..: 2 4 5 1 3\n",
      " $ area_sqm: int  77116 54555 98381 9616 10931\n",
      " $ X       : logi  NA NA NA NA NA\n"
     ]
    },
    {
     "data": {
      "text/html": [
       "<table>\n",
       "<thead><tr><th scope=col>state.capital.pop_mill.area_sqm.</th></tr></thead>\n",
       "<tbody>\n",
       "\t<tr><td>South Dakota,Pierre,0,853,77116,</td></tr>\n",
       "\t<tr><td>New York,Albany,19,746,54555,   </td></tr>\n",
       "\t<tr><td>Oregon,Salem,3,97,98381,        </td></tr>\n",
       "\t<tr><td>Vermont,Montpelier,0,627,9616,  </td></tr>\n",
       "\t<tr><td>Hawaii,Honolulu,1,42,10931,     </td></tr>\n",
       "</tbody>\n",
       "</table>\n"
      ],
      "text/latex": [
       "\\begin{tabular}{r|l}\n",
       " state.capital.pop\\_mill.area\\_sqm.\\\\\n",
       "\\hline\n",
       "\t South Dakota,Pierre,0,853,77116,\\\\\n",
       "\t New York,Albany,19,746,54555,   \\\\\n",
       "\t Oregon,Salem,3,97,98381,        \\\\\n",
       "\t Vermont,Montpelier,0,627,9616,  \\\\\n",
       "\t Hawaii,Honolulu,1,42,10931,     \\\\\n",
       "\\end{tabular}\n"
      ],
      "text/markdown": [
       "\n",
       "state.capital.pop_mill.area_sqm. | \n",
       "|---|---|---|---|---|\n",
       "| South Dakota,Pierre,0,853,77116, | \n",
       "| New York,Albany,19,746,54555,    | \n",
       "| Oregon,Salem,3,97,98381,         | \n",
       "| Vermont,Montpelier,0,627,9616,   | \n",
       "| Hawaii,Honolulu,1,42,10931,      | \n",
       "\n",
       "\n"
      ],
      "text/plain": [
       "  state.capital.pop_mill.area_sqm.\n",
       "1 South Dakota,Pierre,0,853,77116,\n",
       "2 New York,Albany,19,746,54555,   \n",
       "3 Oregon,Salem,3,97,98381,        \n",
       "4 Vermont,Montpelier,0,627,9616,  \n",
       "5 Hawaii,Honolulu,1,42,10931,     "
      ]
     },
     "metadata": {},
     "output_type": "display_data"
    }
   ],
   "source": [
    "states_eu <- read.csv(\"data/states_eu.csv\")\n",
    "states_eu\n",
    "str(states_eu)\n",
    "states_eu <- read.csv2(\"data/states_eu.csv\", stringsAsFactors=FALSE)\n",
    "states_eu"
   ]
  },
  {
   "cell_type": "code",
   "execution_count": 82,
   "metadata": {
    "run_control": {
     "frozen": false,
     "read_only": false
    },
    "scrolled": false,
    "slideshow": {
     "slide_type": "fragment"
    }
   },
   "outputs": [
    {
     "data": {
      "text/html": [
       "<table>\n",
       "<thead><tr><th scope=col>V1</th><th scope=col>V2</th><th scope=col>V3</th></tr></thead>\n",
       "<tbody>\n",
       "\t<tr><td>Col1</td><td>Col2</td><td>Col3</td></tr>\n",
       "\t<tr><td>1   </td><td>2   </td><td>3   </td></tr>\n",
       "\t<tr><td>4   </td><td>5   </td><td>6   </td></tr>\n",
       "\t<tr><td>7   </td><td>8   </td><td>9   </td></tr>\n",
       "\t<tr><td>a   </td><td>b   </td><td>c   </td></tr>\n",
       "</tbody>\n",
       "</table>\n"
      ],
      "text/latex": [
       "\\begin{tabular}{r|lll}\n",
       " V1 & V2 & V3\\\\\n",
       "\\hline\n",
       "\t Col1 & Col2 & Col3\\\\\n",
       "\t 1    & 2    & 3   \\\\\n",
       "\t 4    & 5    & 6   \\\\\n",
       "\t 7    & 8    & 9   \\\\\n",
       "\t a    & b    & c   \\\\\n",
       "\\end{tabular}\n"
      ],
      "text/markdown": [
       "\n",
       "V1 | V2 | V3 | \n",
       "|---|---|---|---|---|\n",
       "| Col1 | Col2 | Col3 | \n",
       "| 1    | 2    | 3    | \n",
       "| 4    | 5    | 6    | \n",
       "| 7    | 8    | 9    | \n",
       "| a    | b    | c    | \n",
       "\n",
       "\n"
      ],
      "text/plain": [
       "  V1   V2   V3  \n",
       "1 Col1 Col2 Col3\n",
       "2 1    2    3   \n",
       "3 4    5    6   \n",
       "4 7    8    9   \n",
       "5 a    b    c   "
      ]
     },
     "metadata": {},
     "output_type": "display_data"
    }
   ],
   "source": [
    "df <- read.csv2(\"data/testSemCol.csv\", header = FALSE)\n",
    "df"
   ]
  },
  {
   "cell_type": "code",
   "execution_count": 83,
   "metadata": {
    "run_control": {
     "frozen": false,
     "read_only": false
    },
    "scrolled": true,
    "slideshow": {
     "slide_type": "subslide"
    }
   },
   "outputs": [
    {
     "data": {
      "text/html": [
       "<table>\n",
       "<thead><tr><th scope=col>V1</th><th scope=col>V2</th><th scope=col>V3</th></tr></thead>\n",
       "<tbody>\n",
       "\t<tr><td>Col1</td><td>Col2</td><td>Col3</td></tr>\n",
       "\t<tr><td>1   </td><td>2   </td><td>3   </td></tr>\n",
       "\t<tr><td>4   </td><td>5   </td><td>6   </td></tr>\n",
       "\t<tr><td>7   </td><td>8   </td><td>9   </td></tr>\n",
       "\t<tr><td>a   </td><td>b   </td><td>c   </td></tr>\n",
       "</tbody>\n",
       "</table>\n"
      ],
      "text/latex": [
       "\\begin{tabular}{r|lll}\n",
       " V1 & V2 & V3\\\\\n",
       "\\hline\n",
       "\t Col1 & Col2 & Col3\\\\\n",
       "\t 1    & 2    & 3   \\\\\n",
       "\t 4    & 5    & 6   \\\\\n",
       "\t 7    & 8    & 9   \\\\\n",
       "\t a    & b    & c   \\\\\n",
       "\\end{tabular}\n"
      ],
      "text/markdown": [
       "\n",
       "V1 | V2 | V3 | \n",
       "|---|---|---|---|---|\n",
       "| Col1 | Col2 | Col3 | \n",
       "| 1    | 2    | 3    | \n",
       "| 4    | 5    | 6    | \n",
       "| 7    | 8    | 9    | \n",
       "| a    | b    | c    | \n",
       "\n",
       "\n"
      ],
      "text/plain": [
       "  V1   V2   V3  \n",
       "1 Col1 Col2 Col3\n",
       "2 1    2    3   \n",
       "3 4    5    6   \n",
       "4 7    8    9   \n",
       "5 a    b    c   "
      ]
     },
     "metadata": {},
     "output_type": "display_data"
    }
   ],
   "source": [
    "df <- read.csv2(\"https://s3.amazonaws.com/assets.datacamp.com/blog_assets/test.csv\", \n",
    "    header = FALSE, sep=\",\")\n",
    "df"
   ]
  },
  {
   "cell_type": "markdown",
   "metadata": {
    "slideshow": {
     "slide_type": "slide"
    }
   },
   "source": [
    "### Using read.delim()\n",
    "* `read.delim()` is almost the same as read.table(), except the field separator is tab by default. It is convenient for open tab delimited file. \n",
    "* `read.delim()` for reading “tab-separated value” files (“.txt”). By default, point (“.”) is used as decimal points.\n",
    "* `read.delim()` is related to other functions for reading data files into R, such as `read.csv()` or `read.table()`\n",
    "* `read.delim()` has arguments (or options) that are similar to the arguments of `read.csv()` or `read.table()`"
   ]
  },
  {
   "cell_type": "code",
   "execution_count": 84,
   "metadata": {
    "run_control": {
     "frozen": false,
     "read_only": false
    },
    "slideshow": {
     "slide_type": "subslide"
    }
   },
   "outputs": [
    {
     "data": {
      "text/html": [
       "<table>\n",
       "<thead><tr><th scope=col>state</th><th scope=col>capital</th><th scope=col>pop_mill</th><th scope=col>area_sqm</th></tr></thead>\n",
       "<tbody>\n",
       "\t<tr><td>South Dakota</td><td>Pierre      </td><td> 0.853      </td><td>77116       </td></tr>\n",
       "\t<tr><td>New York    </td><td>Albany      </td><td>19.746      </td><td>54555       </td></tr>\n",
       "\t<tr><td>Oregon      </td><td>Salem       </td><td> 3.970      </td><td>98381       </td></tr>\n",
       "\t<tr><td>Vermont     </td><td>Montpelier  </td><td> 0.627      </td><td> 9616       </td></tr>\n",
       "\t<tr><td>Hawaii      </td><td>Honolulu    </td><td> 1.420      </td><td>10931       </td></tr>\n",
       "</tbody>\n",
       "</table>\n"
      ],
      "text/latex": [
       "\\begin{tabular}{r|llll}\n",
       " state & capital & pop\\_mill & area\\_sqm\\\\\n",
       "\\hline\n",
       "\t South Dakota & Pierre       &  0.853       & 77116       \\\\\n",
       "\t New York     & Albany       & 19.746       & 54555       \\\\\n",
       "\t Oregon       & Salem        &  3.970       & 98381       \\\\\n",
       "\t Vermont      & Montpelier   &  0.627       &  9616       \\\\\n",
       "\t Hawaii       & Honolulu     &  1.420       & 10931       \\\\\n",
       "\\end{tabular}\n"
      ],
      "text/markdown": [
       "\n",
       "state | capital | pop_mill | area_sqm | \n",
       "|---|---|---|---|---|\n",
       "| South Dakota | Pierre       |  0.853       | 77116        | \n",
       "| New York     | Albany       | 19.746       | 54555        | \n",
       "| Oregon       | Salem        |  3.970       | 98381        | \n",
       "| Vermont      | Montpelier   |  0.627       |  9616        | \n",
       "| Hawaii       | Honolulu     |  1.420       | 10931        | \n",
       "\n",
       "\n"
      ],
      "text/plain": [
       "  state        capital    pop_mill area_sqm\n",
       "1 South Dakota Pierre      0.853   77116   \n",
       "2 New York     Albany     19.746   54555   \n",
       "3 Oregon       Salem       3.970   98381   \n",
       "4 Vermont      Montpelier  0.627    9616   \n",
       "5 Hawaii       Honolulu    1.420   10931   "
      ]
     },
     "metadata": {},
     "output_type": "display_data"
    }
   ],
   "source": [
    "states<- read.delim(\"data/states.txt\")\n",
    "states<- read.delim(\"data/states.txt\",stringsAsFactors=FALSE) # proper \n",
    "states"
   ]
  },
  {
   "cell_type": "code",
   "execution_count": 85,
   "metadata": {
    "run_control": {
     "frozen": false,
     "read_only": false
    },
    "scrolled": false,
    "slideshow": {
     "slide_type": "subslide"
    }
   },
   "outputs": [
    {
     "data": {
      "text/html": [
       "<table>\n",
       "<thead><tr><th scope=col>Date</th><th scope=col>Hour</th><th scope=col>Value</th></tr></thead>\n",
       "<tbody>\n",
       "\t<tr><td>01.01.2009</td><td>00:00     </td><td>34.3      </td></tr>\n",
       "\t<tr><td>01.01.2009</td><td>01:00     </td><td>31.9      </td></tr>\n",
       "\t<tr><td>01.01.2009</td><td>02:00     </td><td>29.9      </td></tr>\n",
       "\t<tr><td>01.01.2009</td><td>03:00     </td><td>28.5      </td></tr>\n",
       "\t<tr><td>01.01.2009</td><td>04:00     </td><td>32.9      </td></tr>\n",
       "\t<tr><td>01.01.2009</td><td>05:00     </td><td>20.5      </td></tr>\n",
       "</tbody>\n",
       "</table>\n"
      ],
      "text/latex": [
       "\\begin{tabular}{r|lll}\n",
       " Date & Hour & Value\\\\\n",
       "\\hline\n",
       "\t 01.01.2009 & 00:00      & 34.3      \\\\\n",
       "\t 01.01.2009 & 01:00      & 31.9      \\\\\n",
       "\t 01.01.2009 & 02:00      & 29.9      \\\\\n",
       "\t 01.01.2009 & 03:00      & 28.5      \\\\\n",
       "\t 01.01.2009 & 04:00      & 32.9      \\\\\n",
       "\t 01.01.2009 & 05:00      & 20.5      \\\\\n",
       "\\end{tabular}\n"
      ],
      "text/markdown": [
       "\n",
       "Date | Hour | Value | \n",
       "|---|---|---|---|---|---|\n",
       "| 01.01.2009 | 00:00      | 34.3       | \n",
       "| 01.01.2009 | 01:00      | 31.9       | \n",
       "| 01.01.2009 | 02:00      | 29.9       | \n",
       "| 01.01.2009 | 03:00      | 28.5       | \n",
       "| 01.01.2009 | 04:00      | 32.9       | \n",
       "| 01.01.2009 | 05:00      | 20.5       | \n",
       "\n",
       "\n"
      ],
      "text/plain": [
       "  Date       Hour  Value\n",
       "1 01.01.2009 00:00 34.3 \n",
       "2 01.01.2009 01:00 31.9 \n",
       "3 01.01.2009 02:00 29.9 \n",
       "4 01.01.2009 03:00 28.5 \n",
       "5 01.01.2009 04:00 32.9 \n",
       "6 01.01.2009 05:00 20.5 "
      ]
     },
     "metadata": {},
     "output_type": "display_data"
    }
   ],
   "source": [
    "# filename <- 'http://www.nilu.no/projects/ccc/onlinedata/ozone/CZ03_2009.dat'\n",
    "\n",
    "data <- read.delim(\"data/CZ03_2009.dat\", header = TRUE, sep = \"\", skip = 2, as.is = TRUE)\n",
    "\n",
    "head(data)\n"
   ]
  },
  {
   "cell_type": "markdown",
   "metadata": {
    "slideshow": {
     "slide_type": "slide"
    }
   },
   "source": [
    "### Using read.delim2()\n",
    "* `read.delim2()` for reading “tab-separated value” files (“.txt”). By default, comma (“,”) is used as decimal points."
   ]
  },
  {
   "cell_type": "code",
   "execution_count": 86,
   "metadata": {
    "run_control": {
     "frozen": false,
     "read_only": false
    },
    "scrolled": true,
    "slideshow": {
     "slide_type": "fragment"
    }
   },
   "outputs": [
    {
     "data": {
      "text/html": [
       "<table>\n",
       "<thead><tr><th scope=col>cust_id</th><th scope=col>sales_total</th><th scope=col>num_of_orders</th><th scope=col>gender</th></tr></thead>\n",
       "<tbody>\n",
       "\t<tr><td>100001</td><td>800.64</td><td>3     </td><td>F     </td></tr>\n",
       "\t<tr><td>100002</td><td>217.53</td><td>3     </td><td>F     </td></tr>\n",
       "\t<tr><td>100003</td><td>74.58 </td><td>2     </td><td>M     </td></tr>\n",
       "\t<tr><td>100004</td><td>498.6 </td><td>3     </td><td>M     </td></tr>\n",
       "\t<tr><td>100005</td><td>723.11</td><td>4     </td><td>F     </td></tr>\n",
       "\t<tr><td>100006</td><td>69.43 </td><td>2     </td><td>F     </td></tr>\n",
       "</tbody>\n",
       "</table>\n"
      ],
      "text/latex": [
       "\\begin{tabular}{r|llll}\n",
       " cust\\_id & sales\\_total & num\\_of\\_orders & gender\\\\\n",
       "\\hline\n",
       "\t 100001 & 800.64 & 3      & F     \\\\\n",
       "\t 100002 & 217.53 & 3      & F     \\\\\n",
       "\t 100003 & 74.58  & 2      & M     \\\\\n",
       "\t 100004 & 498.6  & 3      & M     \\\\\n",
       "\t 100005 & 723.11 & 4      & F     \\\\\n",
       "\t 100006 & 69.43  & 2      & F     \\\\\n",
       "\\end{tabular}\n"
      ],
      "text/markdown": [
       "\n",
       "cust_id | sales_total | num_of_orders | gender | \n",
       "|---|---|---|---|---|---|\n",
       "| 100001 | 800.64 | 3      | F      | \n",
       "| 100002 | 217.53 | 3      | F      | \n",
       "| 100003 | 74.58  | 2      | M      | \n",
       "| 100004 | 498.6  | 3      | M      | \n",
       "| 100005 | 723.11 | 4      | F      | \n",
       "| 100006 | 69.43  | 2      | F      | \n",
       "\n",
       "\n"
      ],
      "text/plain": [
       "  cust_id sales_total num_of_orders gender\n",
       "1 100001  800.64      3             F     \n",
       "2 100002  217.53      3             F     \n",
       "3 100003  74.58       2             M     \n",
       "4 100004  498.6       3             M     \n",
       "5 100005  723.11      4             F     \n",
       "6 100006  69.43       2             F     "
      ]
     },
     "metadata": {},
     "output_type": "display_data"
    }
   ],
   "source": [
    "sales_delim2_txt <- read.delim2(\"data/yearly_sales.txt\",sep = \",\")\n",
    "head(sales_delim2_txt)"
   ]
  },
  {
   "cell_type": "markdown",
   "metadata": {
    "slideshow": {
     "slide_type": "slide"
    }
   },
   "source": [
    "### Using read.fwf() for Fixed-width files\n",
    "* In a fixed width file, every line has the same format and the information within a given line is strictly organized by columns.\n",
    "* A negative number in the list indicates that the column should be skipped. "
   ]
  },
  {
   "cell_type": "code",
   "execution_count": 87,
   "metadata": {
    "run_control": {
     "frozen": false,
     "read_only": false
    },
    "slideshow": {
     "slide_type": "fragment"
    }
   },
   "outputs": [
    {
     "data": {
      "text/html": [
       "<table>\n",
       "<thead><tr><th scope=col>V1</th><th scope=col>V2</th><th scope=col>V3</th><th scope=col>V4</th></tr></thead>\n",
       "<tbody>\n",
       "\t<tr><td>B  </td><td>100</td><td>ZZ </td><td>18 </td></tr>\n",
       "\t<tr><td>C  </td><td>200</td><td>YY </td><td>20 </td></tr>\n",
       "\t<tr><td>D  </td><td>300</td><td>XX </td><td>22 </td></tr>\n",
       "</tbody>\n",
       "</table>\n"
      ],
      "text/latex": [
       "\\begin{tabular}{r|llll}\n",
       " V1 & V2 & V3 & V4\\\\\n",
       "\\hline\n",
       "\t B   & 100 & ZZ  & 18 \\\\\n",
       "\t C   & 200 & YY  & 20 \\\\\n",
       "\t D   & 300 & XX  & 22 \\\\\n",
       "\\end{tabular}\n"
      ],
      "text/markdown": [
       "\n",
       "V1 | V2 | V3 | V4 | \n",
       "|---|---|---|\n",
       "| B   | 100 | ZZ  | 18  | \n",
       "| C   | 200 | YY  | 20  | \n",
       "| D   | 300 | XX  | 22  | \n",
       "\n",
       "\n"
      ],
      "text/plain": [
       "  V1  V2  V3 V4\n",
       "1 B   100 ZZ 18\n",
       "2 C   200 YY 20\n",
       "3 D   300 XX 22"
      ]
     },
     "metadata": {},
     "output_type": "display_data"
    },
    {
     "data": {
      "text/html": [
       "<ol class=list-inline>\n",
       "\t<li><span style=white-space:pre-wrap>B  </span></li>\n",
       "\t<li><span style=white-space:pre-wrap>C  </span></li>\n",
       "\t<li><span style=white-space:pre-wrap>D  </span></li>\n",
       "</ol>\n"
      ],
      "text/latex": [
       "\\begin{enumerate*}\n",
       "\\item B  \n",
       "\\item C  \n",
       "\\item D  \n",
       "\\end{enumerate*}\n"
      ],
      "text/markdown": [
       "1. <span style=white-space:pre-wrap>B  </span>\n",
       "2. <span style=white-space:pre-wrap>C  </span>\n",
       "3. <span style=white-space:pre-wrap>D  </span>\n",
       "\n",
       "\n"
      ],
      "text/plain": [
       "[1] B   C   D  \n",
       "Levels: B   C   D  "
      ]
     },
     "metadata": {},
     "output_type": "display_data"
    }
   ],
   "source": [
    "# The first three columns are assumed to contain letters, the next five columns\n",
    "# contain numbers, the next two columns have letters, and the last four columns\n",
    "# are numbers\n",
    "trial <- read.fwf(\"data/trialFWF.dat\", c(3, 5, 2, 4), skip = 1)\n",
    "trial\n",
    "trial$V1"
   ]
  },
  {
   "cell_type": "code",
   "execution_count": 88,
   "metadata": {
    "run_control": {
     "frozen": false,
     "read_only": false
    },
    "scrolled": true,
    "slideshow": {
     "slide_type": "fragment"
    }
   },
   "outputs": [
    {
     "data": {
      "text/html": [
       "<table>\n",
       "<thead><tr><th scope=col>V1</th><th scope=col>V2</th><th scope=col>V3</th></tr></thead>\n",
       "<tbody>\n",
       "\t<tr><td>B  </td><td>ZZ </td><td>18 </td></tr>\n",
       "\t<tr><td>C  </td><td>YY </td><td>20 </td></tr>\n",
       "\t<tr><td>D  </td><td>XX </td><td>22 </td></tr>\n",
       "</tbody>\n",
       "</table>\n"
      ],
      "text/latex": [
       "\\begin{tabular}{r|lll}\n",
       " V1 & V2 & V3\\\\\n",
       "\\hline\n",
       "\t B   & ZZ  & 18 \\\\\n",
       "\t C   & YY  & 20 \\\\\n",
       "\t D   & XX  & 22 \\\\\n",
       "\\end{tabular}\n"
      ],
      "text/markdown": [
       "\n",
       "V1 | V2 | V3 | \n",
       "|---|---|---|\n",
       "| B   | ZZ  | 18  | \n",
       "| C   | YY  | 20  | \n",
       "| D   | XX  | 22  | \n",
       "\n",
       "\n"
      ],
      "text/plain": [
       "  V1  V2 V3\n",
       "1 B   ZZ 18\n",
       "2 C   YY 20\n",
       "3 D   XX 22"
      ]
     },
     "metadata": {},
     "output_type": "display_data"
    }
   ],
   "source": [
    "# column can be ignored by giving a negative number\n",
    "trial <- read.fwf(\"data/trialFWF.dat\", c(3, -5, 2, 4), skip = 1)\n",
    "trial"
   ]
  },
  {
   "cell_type": "markdown",
   "metadata": {
    "slideshow": {
     "slide_type": "slide"
    }
   },
   "source": [
    "# readr package\n",
    "* faster\n",
    "* helpful progress bar\n",
    "* read_csv(): to read a comma (“,”) separated values\n",
    "* read_csv2(): to read a semicolon (“;”) separated values\n",
    "* read_tsv(): to read a tab separated (“\\t”) values"
   ]
  },
  {
   "cell_type": "code",
   "execution_count": 89,
   "metadata": {
    "run_control": {
     "frozen": false,
     "read_only": false
    },
    "slideshow": {
     "slide_type": "subslide"
    }
   },
   "outputs": [
    {
     "name": "stderr",
     "output_type": "stream",
     "text": [
      "Parsed with column specification:\n",
      "cols(\n",
      "  area = col_integer(),\n",
      "  temp = col_integer(),\n",
      "  size = col_integer(),\n",
      "  storage = col_integer(),\n",
      "  method = col_integer(),\n",
      "  texture = col_double(),\n",
      "  flavor = col_double(),\n",
      "  moistness = col_double()\n",
      ")\n"
     ]
    },
    {
     "data": {
      "text/html": [
       "<table>\n",
       "<thead><tr><th scope=col>area</th><th scope=col>temp</th><th scope=col>size</th><th scope=col>storage</th><th scope=col>method</th><th scope=col>texture</th><th scope=col>flavor</th><th scope=col>moistness</th></tr></thead>\n",
       "<tbody>\n",
       "\t<tr><td>1  </td><td>1  </td><td>1  </td><td>1  </td><td>1  </td><td>2.9</td><td>3.2</td><td>3.0</td></tr>\n",
       "\t<tr><td>1  </td><td>1  </td><td>1  </td><td>1  </td><td>2  </td><td>2.3</td><td>2.5</td><td>2.6</td></tr>\n",
       "\t<tr><td>1  </td><td>1  </td><td>1  </td><td>1  </td><td>3  </td><td>2.5</td><td>2.8</td><td>2.8</td></tr>\n",
       "\t<tr><td>1  </td><td>1  </td><td>1  </td><td>1  </td><td>4  </td><td>2.1</td><td>2.9</td><td>2.4</td></tr>\n",
       "\t<tr><td>1  </td><td>1  </td><td>1  </td><td>1  </td><td>5  </td><td>1.9</td><td>2.8</td><td>2.2</td></tr>\n",
       "\t<tr><td>1  </td><td>1  </td><td>1  </td><td>2  </td><td>1  </td><td>1.8</td><td>3.0</td><td>1.7</td></tr>\n",
       "\t<tr><td>1  </td><td>1  </td><td>1  </td><td>2  </td><td>2  </td><td>2.6</td><td>3.1</td><td>2.4</td></tr>\n",
       "\t<tr><td>1  </td><td>1  </td><td>1  </td><td>2  </td><td>3  </td><td>3.0</td><td>3.0</td><td>2.9</td></tr>\n",
       "\t<tr><td>1  </td><td>1  </td><td>1  </td><td>2  </td><td>4  </td><td>2.2</td><td>3.2</td><td>2.5</td></tr>\n",
       "\t<tr><td>1  </td><td>1  </td><td>1  </td><td>2  </td><td>5  </td><td>2.0</td><td>2.8</td><td>1.9</td></tr>\n",
       "\t<tr><td>1  </td><td>1  </td><td>1  </td><td>3  </td><td>1  </td><td>1.8</td><td>2.6</td><td>1.5</td></tr>\n",
       "\t<tr><td>1  </td><td>1  </td><td>1  </td><td>3  </td><td>2  </td><td>2.0</td><td>2.8</td><td>1.9</td></tr>\n",
       "\t<tr><td>1  </td><td>1  </td><td>1  </td><td>3  </td><td>3  </td><td>2.6</td><td>2.6</td><td>2.6</td></tr>\n",
       "\t<tr><td>1  </td><td>1  </td><td>1  </td><td>3  </td><td>4  </td><td>2.1</td><td>3.2</td><td>2.1</td></tr>\n",
       "\t<tr><td>1  </td><td>1  </td><td>1  </td><td>3  </td><td>5  </td><td>2.5</td><td>3.0</td><td>2.1</td></tr>\n",
       "\t<tr><td>1  </td><td>1  </td><td>1  </td><td>4  </td><td>1  </td><td>2.6</td><td>3.1</td><td>2.4</td></tr>\n",
       "\t<tr><td>1  </td><td>1  </td><td>1  </td><td>4  </td><td>2  </td><td>2.7</td><td>2.9</td><td>2.4</td></tr>\n",
       "\t<tr><td>1  </td><td>1  </td><td>1  </td><td>4  </td><td>3  </td><td>2.2</td><td>3.1</td><td>2.3</td></tr>\n",
       "\t<tr><td>1  </td><td>1  </td><td>1  </td><td>4  </td><td>4  </td><td>3.1</td><td>3.4</td><td>2.7</td></tr>\n",
       "\t<tr><td>1  </td><td>1  </td><td>1  </td><td>4  </td><td>5  </td><td>3.0</td><td>2.6</td><td>2.7</td></tr>\n",
       "\t<tr><td>1  </td><td>1  </td><td>2  </td><td>1  </td><td>1  </td><td>3.1</td><td>3.0</td><td>2.8</td></tr>\n",
       "\t<tr><td>1  </td><td>1  </td><td>2  </td><td>1  </td><td>2  </td><td>2.7</td><td>2.8</td><td>2.7</td></tr>\n",
       "\t<tr><td>1  </td><td>1  </td><td>2  </td><td>1  </td><td>3  </td><td>2.4</td><td>3.0</td><td>2.9</td></tr>\n",
       "\t<tr><td>1  </td><td>1  </td><td>2  </td><td>1  </td><td>4  </td><td>2.2</td><td>2.9</td><td>2.3</td></tr>\n",
       "\t<tr><td>1  </td><td>1  </td><td>2  </td><td>1  </td><td>5  </td><td>1.9</td><td>2.9</td><td>2.0</td></tr>\n",
       "\t<tr><td>1  </td><td>1  </td><td>2  </td><td>2  </td><td>1  </td><td>1.8</td><td>2.6</td><td>1.8</td></tr>\n",
       "\t<tr><td>1  </td><td>1  </td><td>2  </td><td>2  </td><td>2  </td><td>2.2</td><td>2.9</td><td>2.1</td></tr>\n",
       "\t<tr><td>1  </td><td>1  </td><td>2  </td><td>2  </td><td>3  </td><td>2.8</td><td>3.2</td><td>2.8</td></tr>\n",
       "\t<tr><td>1  </td><td>1  </td><td>2  </td><td>2  </td><td>4  </td><td>2.3</td><td>3.2</td><td>2.4</td></tr>\n",
       "\t<tr><td>1  </td><td>1  </td><td>2  </td><td>2  </td><td>5  </td><td>2.0</td><td>3.0</td><td>2.0</td></tr>\n",
       "\t<tr><td>...</td><td>...</td><td>...</td><td>...</td><td>...</td><td>...</td><td>...</td><td>...</td></tr>\n",
       "\t<tr><td>2  </td><td>2  </td><td>1  </td><td>3  </td><td>1  </td><td>2.8</td><td>2.8</td><td>2.6</td></tr>\n",
       "\t<tr><td>2  </td><td>2  </td><td>1  </td><td>3  </td><td>2  </td><td>3.5</td><td>2.8</td><td>3.0</td></tr>\n",
       "\t<tr><td>2  </td><td>2  </td><td>1  </td><td>3  </td><td>3  </td><td>2.5</td><td>3.2</td><td>2.3</td></tr>\n",
       "\t<tr><td>2  </td><td>2  </td><td>1  </td><td>3  </td><td>4  </td><td>3.3</td><td>3.0</td><td>2.7</td></tr>\n",
       "\t<tr><td>2  </td><td>2  </td><td>1  </td><td>3  </td><td>5  </td><td>3.5</td><td>2.9</td><td>2.9</td></tr>\n",
       "\t<tr><td>2  </td><td>2  </td><td>1  </td><td>4  </td><td>1  </td><td>3.2</td><td>3.4</td><td>2.5</td></tr>\n",
       "\t<tr><td>2  </td><td>2  </td><td>1  </td><td>4  </td><td>2  </td><td>3.3</td><td>2.8</td><td>2.8</td></tr>\n",
       "\t<tr><td>2  </td><td>2  </td><td>1  </td><td>4  </td><td>3  </td><td>3.0</td><td>3.0</td><td>2.8</td></tr>\n",
       "\t<tr><td>2  </td><td>2  </td><td>1  </td><td>4  </td><td>4  </td><td>3.5</td><td>3.2</td><td>3.1</td></tr>\n",
       "\t<tr><td>2  </td><td>2  </td><td>1  </td><td>4  </td><td>5  </td><td>3.4</td><td>3.0</td><td>2.8</td></tr>\n",
       "\t<tr><td>2  </td><td>2  </td><td>2  </td><td>1  </td><td>1  </td><td>2.7</td><td>2.5</td><td>2.5</td></tr>\n",
       "\t<tr><td>2  </td><td>2  </td><td>2  </td><td>1  </td><td>2  </td><td>2.5</td><td>2.7</td><td>2.3</td></tr>\n",
       "\t<tr><td>2  </td><td>2  </td><td>2  </td><td>1  </td><td>3  </td><td>3.2</td><td>2.7</td><td>3.0</td></tr>\n",
       "\t<tr><td>2  </td><td>2  </td><td>2  </td><td>1  </td><td>4  </td><td>2.4</td><td>2.7</td><td>2.5</td></tr>\n",
       "\t<tr><td>2  </td><td>2  </td><td>2  </td><td>1  </td><td>5  </td><td>2.7</td><td>2.1</td><td>2.3</td></tr>\n",
       "\t<tr><td>2  </td><td>2  </td><td>2  </td><td>2  </td><td>1  </td><td>2.2</td><td>2.7</td><td>2.3</td></tr>\n",
       "\t<tr><td>2  </td><td>2  </td><td>2  </td><td>2  </td><td>2  </td><td>3.1</td><td>2.9</td><td>2.6</td></tr>\n",
       "\t<tr><td>2  </td><td>2  </td><td>2  </td><td>2  </td><td>3  </td><td>2.2</td><td>2.8</td><td>3.1</td></tr>\n",
       "\t<tr><td>2  </td><td>2  </td><td>2  </td><td>2  </td><td>4  </td><td>2.9</td><td>3.0</td><td>2.7</td></tr>\n",
       "\t<tr><td>2  </td><td>2  </td><td>2  </td><td>2  </td><td>5  </td><td>2.8</td><td>2.7</td><td>2.6</td></tr>\n",
       "\t<tr><td>2  </td><td>2  </td><td>2  </td><td>3  </td><td>1  </td><td>2.5</td><td>3.2</td><td>2.3</td></tr>\n",
       "\t<tr><td>2  </td><td>2  </td><td>2  </td><td>3  </td><td>2  </td><td>2.9</td><td>3.3</td><td>2.7</td></tr>\n",
       "\t<tr><td>2  </td><td>2  </td><td>2  </td><td>3  </td><td>3  </td><td>2.5</td><td>3.1</td><td>2.5</td></tr>\n",
       "\t<tr><td>2  </td><td>2  </td><td>2  </td><td>3  </td><td>4  </td><td>3.0</td><td>2.9</td><td>2.5</td></tr>\n",
       "\t<tr><td>2  </td><td>2  </td><td>2  </td><td>3  </td><td>5  </td><td>2.9</td><td>3.1</td><td>3.1</td></tr>\n",
       "\t<tr><td>2  </td><td>2  </td><td>2  </td><td>4  </td><td>1  </td><td>2.7</td><td>3.3</td><td>2.6</td></tr>\n",
       "\t<tr><td>2  </td><td>2  </td><td>2  </td><td>4  </td><td>2  </td><td>2.6</td><td>2.8</td><td>2.3</td></tr>\n",
       "\t<tr><td>2  </td><td>2  </td><td>2  </td><td>4  </td><td>3  </td><td>2.5</td><td>3.1</td><td>2.6</td></tr>\n",
       "\t<tr><td>2  </td><td>2  </td><td>2  </td><td>4  </td><td>4  </td><td>3.4</td><td>3.3</td><td>3.0</td></tr>\n",
       "\t<tr><td>2  </td><td>2  </td><td>2  </td><td>4  </td><td>5  </td><td>2.5</td><td>2.8</td><td>2.3</td></tr>\n",
       "</tbody>\n",
       "</table>\n"
      ],
      "text/latex": [
       "\\begin{tabular}{r|llllllll}\n",
       " area & temp & size & storage & method & texture & flavor & moistness\\\\\n",
       "\\hline\n",
       "\t 1   & 1   & 1   & 1   & 1   & 2.9 & 3.2 & 3.0\\\\\n",
       "\t 1   & 1   & 1   & 1   & 2   & 2.3 & 2.5 & 2.6\\\\\n",
       "\t 1   & 1   & 1   & 1   & 3   & 2.5 & 2.8 & 2.8\\\\\n",
       "\t 1   & 1   & 1   & 1   & 4   & 2.1 & 2.9 & 2.4\\\\\n",
       "\t 1   & 1   & 1   & 1   & 5   & 1.9 & 2.8 & 2.2\\\\\n",
       "\t 1   & 1   & 1   & 2   & 1   & 1.8 & 3.0 & 1.7\\\\\n",
       "\t 1   & 1   & 1   & 2   & 2   & 2.6 & 3.1 & 2.4\\\\\n",
       "\t 1   & 1   & 1   & 2   & 3   & 3.0 & 3.0 & 2.9\\\\\n",
       "\t 1   & 1   & 1   & 2   & 4   & 2.2 & 3.2 & 2.5\\\\\n",
       "\t 1   & 1   & 1   & 2   & 5   & 2.0 & 2.8 & 1.9\\\\\n",
       "\t 1   & 1   & 1   & 3   & 1   & 1.8 & 2.6 & 1.5\\\\\n",
       "\t 1   & 1   & 1   & 3   & 2   & 2.0 & 2.8 & 1.9\\\\\n",
       "\t 1   & 1   & 1   & 3   & 3   & 2.6 & 2.6 & 2.6\\\\\n",
       "\t 1   & 1   & 1   & 3   & 4   & 2.1 & 3.2 & 2.1\\\\\n",
       "\t 1   & 1   & 1   & 3   & 5   & 2.5 & 3.0 & 2.1\\\\\n",
       "\t 1   & 1   & 1   & 4   & 1   & 2.6 & 3.1 & 2.4\\\\\n",
       "\t 1   & 1   & 1   & 4   & 2   & 2.7 & 2.9 & 2.4\\\\\n",
       "\t 1   & 1   & 1   & 4   & 3   & 2.2 & 3.1 & 2.3\\\\\n",
       "\t 1   & 1   & 1   & 4   & 4   & 3.1 & 3.4 & 2.7\\\\\n",
       "\t 1   & 1   & 1   & 4   & 5   & 3.0 & 2.6 & 2.7\\\\\n",
       "\t 1   & 1   & 2   & 1   & 1   & 3.1 & 3.0 & 2.8\\\\\n",
       "\t 1   & 1   & 2   & 1   & 2   & 2.7 & 2.8 & 2.7\\\\\n",
       "\t 1   & 1   & 2   & 1   & 3   & 2.4 & 3.0 & 2.9\\\\\n",
       "\t 1   & 1   & 2   & 1   & 4   & 2.2 & 2.9 & 2.3\\\\\n",
       "\t 1   & 1   & 2   & 1   & 5   & 1.9 & 2.9 & 2.0\\\\\n",
       "\t 1   & 1   & 2   & 2   & 1   & 1.8 & 2.6 & 1.8\\\\\n",
       "\t 1   & 1   & 2   & 2   & 2   & 2.2 & 2.9 & 2.1\\\\\n",
       "\t 1   & 1   & 2   & 2   & 3   & 2.8 & 3.2 & 2.8\\\\\n",
       "\t 1   & 1   & 2   & 2   & 4   & 2.3 & 3.2 & 2.4\\\\\n",
       "\t 1   & 1   & 2   & 2   & 5   & 2.0 & 3.0 & 2.0\\\\\n",
       "\t ... & ... & ... & ... & ... & ... & ... & ...\\\\\n",
       "\t 2   & 2   & 1   & 3   & 1   & 2.8 & 2.8 & 2.6\\\\\n",
       "\t 2   & 2   & 1   & 3   & 2   & 3.5 & 2.8 & 3.0\\\\\n",
       "\t 2   & 2   & 1   & 3   & 3   & 2.5 & 3.2 & 2.3\\\\\n",
       "\t 2   & 2   & 1   & 3   & 4   & 3.3 & 3.0 & 2.7\\\\\n",
       "\t 2   & 2   & 1   & 3   & 5   & 3.5 & 2.9 & 2.9\\\\\n",
       "\t 2   & 2   & 1   & 4   & 1   & 3.2 & 3.4 & 2.5\\\\\n",
       "\t 2   & 2   & 1   & 4   & 2   & 3.3 & 2.8 & 2.8\\\\\n",
       "\t 2   & 2   & 1   & 4   & 3   & 3.0 & 3.0 & 2.8\\\\\n",
       "\t 2   & 2   & 1   & 4   & 4   & 3.5 & 3.2 & 3.1\\\\\n",
       "\t 2   & 2   & 1   & 4   & 5   & 3.4 & 3.0 & 2.8\\\\\n",
       "\t 2   & 2   & 2   & 1   & 1   & 2.7 & 2.5 & 2.5\\\\\n",
       "\t 2   & 2   & 2   & 1   & 2   & 2.5 & 2.7 & 2.3\\\\\n",
       "\t 2   & 2   & 2   & 1   & 3   & 3.2 & 2.7 & 3.0\\\\\n",
       "\t 2   & 2   & 2   & 1   & 4   & 2.4 & 2.7 & 2.5\\\\\n",
       "\t 2   & 2   & 2   & 1   & 5   & 2.7 & 2.1 & 2.3\\\\\n",
       "\t 2   & 2   & 2   & 2   & 1   & 2.2 & 2.7 & 2.3\\\\\n",
       "\t 2   & 2   & 2   & 2   & 2   & 3.1 & 2.9 & 2.6\\\\\n",
       "\t 2   & 2   & 2   & 2   & 3   & 2.2 & 2.8 & 3.1\\\\\n",
       "\t 2   & 2   & 2   & 2   & 4   & 2.9 & 3.0 & 2.7\\\\\n",
       "\t 2   & 2   & 2   & 2   & 5   & 2.8 & 2.7 & 2.6\\\\\n",
       "\t 2   & 2   & 2   & 3   & 1   & 2.5 & 3.2 & 2.3\\\\\n",
       "\t 2   & 2   & 2   & 3   & 2   & 2.9 & 3.3 & 2.7\\\\\n",
       "\t 2   & 2   & 2   & 3   & 3   & 2.5 & 3.1 & 2.5\\\\\n",
       "\t 2   & 2   & 2   & 3   & 4   & 3.0 & 2.9 & 2.5\\\\\n",
       "\t 2   & 2   & 2   & 3   & 5   & 2.9 & 3.1 & 3.1\\\\\n",
       "\t 2   & 2   & 2   & 4   & 1   & 2.7 & 3.3 & 2.6\\\\\n",
       "\t 2   & 2   & 2   & 4   & 2   & 2.6 & 2.8 & 2.3\\\\\n",
       "\t 2   & 2   & 2   & 4   & 3   & 2.5 & 3.1 & 2.6\\\\\n",
       "\t 2   & 2   & 2   & 4   & 4   & 3.4 & 3.3 & 3.0\\\\\n",
       "\t 2   & 2   & 2   & 4   & 5   & 2.5 & 2.8 & 2.3\\\\\n",
       "\\end{tabular}\n"
      ],
      "text/markdown": [
       "\n",
       "area | temp | size | storage | method | texture | flavor | moistness | \n",
       "|---|---|---|---|---|---|---|---|---|---|---|---|---|---|---|---|---|---|---|---|---|---|---|---|---|---|---|---|---|---|---|---|---|---|---|---|---|---|---|---|---|---|---|---|---|---|---|---|---|---|---|---|---|---|---|---|---|---|---|---|---|\n",
       "| 1   | 1   | 1   | 1   | 1   | 2.9 | 3.2 | 3.0 | \n",
       "| 1   | 1   | 1   | 1   | 2   | 2.3 | 2.5 | 2.6 | \n",
       "| 1   | 1   | 1   | 1   | 3   | 2.5 | 2.8 | 2.8 | \n",
       "| 1   | 1   | 1   | 1   | 4   | 2.1 | 2.9 | 2.4 | \n",
       "| 1   | 1   | 1   | 1   | 5   | 1.9 | 2.8 | 2.2 | \n",
       "| 1   | 1   | 1   | 2   | 1   | 1.8 | 3.0 | 1.7 | \n",
       "| 1   | 1   | 1   | 2   | 2   | 2.6 | 3.1 | 2.4 | \n",
       "| 1   | 1   | 1   | 2   | 3   | 3.0 | 3.0 | 2.9 | \n",
       "| 1   | 1   | 1   | 2   | 4   | 2.2 | 3.2 | 2.5 | \n",
       "| 1   | 1   | 1   | 2   | 5   | 2.0 | 2.8 | 1.9 | \n",
       "| 1   | 1   | 1   | 3   | 1   | 1.8 | 2.6 | 1.5 | \n",
       "| 1   | 1   | 1   | 3   | 2   | 2.0 | 2.8 | 1.9 | \n",
       "| 1   | 1   | 1   | 3   | 3   | 2.6 | 2.6 | 2.6 | \n",
       "| 1   | 1   | 1   | 3   | 4   | 2.1 | 3.2 | 2.1 | \n",
       "| 1   | 1   | 1   | 3   | 5   | 2.5 | 3.0 | 2.1 | \n",
       "| 1   | 1   | 1   | 4   | 1   | 2.6 | 3.1 | 2.4 | \n",
       "| 1   | 1   | 1   | 4   | 2   | 2.7 | 2.9 | 2.4 | \n",
       "| 1   | 1   | 1   | 4   | 3   | 2.2 | 3.1 | 2.3 | \n",
       "| 1   | 1   | 1   | 4   | 4   | 3.1 | 3.4 | 2.7 | \n",
       "| 1   | 1   | 1   | 4   | 5   | 3.0 | 2.6 | 2.7 | \n",
       "| 1   | 1   | 2   | 1   | 1   | 3.1 | 3.0 | 2.8 | \n",
       "| 1   | 1   | 2   | 1   | 2   | 2.7 | 2.8 | 2.7 | \n",
       "| 1   | 1   | 2   | 1   | 3   | 2.4 | 3.0 | 2.9 | \n",
       "| 1   | 1   | 2   | 1   | 4   | 2.2 | 2.9 | 2.3 | \n",
       "| 1   | 1   | 2   | 1   | 5   | 1.9 | 2.9 | 2.0 | \n",
       "| 1   | 1   | 2   | 2   | 1   | 1.8 | 2.6 | 1.8 | \n",
       "| 1   | 1   | 2   | 2   | 2   | 2.2 | 2.9 | 2.1 | \n",
       "| 1   | 1   | 2   | 2   | 3   | 2.8 | 3.2 | 2.8 | \n",
       "| 1   | 1   | 2   | 2   | 4   | 2.3 | 3.2 | 2.4 | \n",
       "| 1   | 1   | 2   | 2   | 5   | 2.0 | 3.0 | 2.0 | \n",
       "| ... | ... | ... | ... | ... | ... | ... | ... | \n",
       "| 2   | 2   | 1   | 3   | 1   | 2.8 | 2.8 | 2.6 | \n",
       "| 2   | 2   | 1   | 3   | 2   | 3.5 | 2.8 | 3.0 | \n",
       "| 2   | 2   | 1   | 3   | 3   | 2.5 | 3.2 | 2.3 | \n",
       "| 2   | 2   | 1   | 3   | 4   | 3.3 | 3.0 | 2.7 | \n",
       "| 2   | 2   | 1   | 3   | 5   | 3.5 | 2.9 | 2.9 | \n",
       "| 2   | 2   | 1   | 4   | 1   | 3.2 | 3.4 | 2.5 | \n",
       "| 2   | 2   | 1   | 4   | 2   | 3.3 | 2.8 | 2.8 | \n",
       "| 2   | 2   | 1   | 4   | 3   | 3.0 | 3.0 | 2.8 | \n",
       "| 2   | 2   | 1   | 4   | 4   | 3.5 | 3.2 | 3.1 | \n",
       "| 2   | 2   | 1   | 4   | 5   | 3.4 | 3.0 | 2.8 | \n",
       "| 2   | 2   | 2   | 1   | 1   | 2.7 | 2.5 | 2.5 | \n",
       "| 2   | 2   | 2   | 1   | 2   | 2.5 | 2.7 | 2.3 | \n",
       "| 2   | 2   | 2   | 1   | 3   | 3.2 | 2.7 | 3.0 | \n",
       "| 2   | 2   | 2   | 1   | 4   | 2.4 | 2.7 | 2.5 | \n",
       "| 2   | 2   | 2   | 1   | 5   | 2.7 | 2.1 | 2.3 | \n",
       "| 2   | 2   | 2   | 2   | 1   | 2.2 | 2.7 | 2.3 | \n",
       "| 2   | 2   | 2   | 2   | 2   | 3.1 | 2.9 | 2.6 | \n",
       "| 2   | 2   | 2   | 2   | 3   | 2.2 | 2.8 | 3.1 | \n",
       "| 2   | 2   | 2   | 2   | 4   | 2.9 | 3.0 | 2.7 | \n",
       "| 2   | 2   | 2   | 2   | 5   | 2.8 | 2.7 | 2.6 | \n",
       "| 2   | 2   | 2   | 3   | 1   | 2.5 | 3.2 | 2.3 | \n",
       "| 2   | 2   | 2   | 3   | 2   | 2.9 | 3.3 | 2.7 | \n",
       "| 2   | 2   | 2   | 3   | 3   | 2.5 | 3.1 | 2.5 | \n",
       "| 2   | 2   | 2   | 3   | 4   | 3.0 | 2.9 | 2.5 | \n",
       "| 2   | 2   | 2   | 3   | 5   | 2.9 | 3.1 | 3.1 | \n",
       "| 2   | 2   | 2   | 4   | 1   | 2.7 | 3.3 | 2.6 | \n",
       "| 2   | 2   | 2   | 4   | 2   | 2.6 | 2.8 | 2.3 | \n",
       "| 2   | 2   | 2   | 4   | 3   | 2.5 | 3.1 | 2.6 | \n",
       "| 2   | 2   | 2   | 4   | 4   | 3.4 | 3.3 | 3.0 | \n",
       "| 2   | 2   | 2   | 4   | 5   | 2.5 | 2.8 | 2.3 | \n",
       "\n",
       "\n"
      ],
      "text/plain": [
       "    area temp size storage method texture flavor moistness\n",
       "1   1    1    1    1       1      2.9     3.2    3.0      \n",
       "2   1    1    1    1       2      2.3     2.5    2.6      \n",
       "3   1    1    1    1       3      2.5     2.8    2.8      \n",
       "4   1    1    1    1       4      2.1     2.9    2.4      \n",
       "5   1    1    1    1       5      1.9     2.8    2.2      \n",
       "6   1    1    1    2       1      1.8     3.0    1.7      \n",
       "7   1    1    1    2       2      2.6     3.1    2.4      \n",
       "8   1    1    1    2       3      3.0     3.0    2.9      \n",
       "9   1    1    1    2       4      2.2     3.2    2.5      \n",
       "10  1    1    1    2       5      2.0     2.8    1.9      \n",
       "11  1    1    1    3       1      1.8     2.6    1.5      \n",
       "12  1    1    1    3       2      2.0     2.8    1.9      \n",
       "13  1    1    1    3       3      2.6     2.6    2.6      \n",
       "14  1    1    1    3       4      2.1     3.2    2.1      \n",
       "15  1    1    1    3       5      2.5     3.0    2.1      \n",
       "16  1    1    1    4       1      2.6     3.1    2.4      \n",
       "17  1    1    1    4       2      2.7     2.9    2.4      \n",
       "18  1    1    1    4       3      2.2     3.1    2.3      \n",
       "19  1    1    1    4       4      3.1     3.4    2.7      \n",
       "20  1    1    1    4       5      3.0     2.6    2.7      \n",
       "21  1    1    2    1       1      3.1     3.0    2.8      \n",
       "22  1    1    2    1       2      2.7     2.8    2.7      \n",
       "23  1    1    2    1       3      2.4     3.0    2.9      \n",
       "24  1    1    2    1       4      2.2     2.9    2.3      \n",
       "25  1    1    2    1       5      1.9     2.9    2.0      \n",
       "26  1    1    2    2       1      1.8     2.6    1.8      \n",
       "27  1    1    2    2       2      2.2     2.9    2.1      \n",
       "28  1    1    2    2       3      2.8     3.2    2.8      \n",
       "29  1    1    2    2       4      2.3     3.2    2.4      \n",
       "30  1    1    2    2       5      2.0     3.0    2.0      \n",
       "... ...  ...  ...  ...     ...    ...     ...    ...      \n",
       "131 2    2    1    3       1      2.8     2.8    2.6      \n",
       "132 2    2    1    3       2      3.5     2.8    3.0      \n",
       "133 2    2    1    3       3      2.5     3.2    2.3      \n",
       "134 2    2    1    3       4      3.3     3.0    2.7      \n",
       "135 2    2    1    3       5      3.5     2.9    2.9      \n",
       "136 2    2    1    4       1      3.2     3.4    2.5      \n",
       "137 2    2    1    4       2      3.3     2.8    2.8      \n",
       "138 2    2    1    4       3      3.0     3.0    2.8      \n",
       "139 2    2    1    4       4      3.5     3.2    3.1      \n",
       "140 2    2    1    4       5      3.4     3.0    2.8      \n",
       "141 2    2    2    1       1      2.7     2.5    2.5      \n",
       "142 2    2    2    1       2      2.5     2.7    2.3      \n",
       "143 2    2    2    1       3      3.2     2.7    3.0      \n",
       "144 2    2    2    1       4      2.4     2.7    2.5      \n",
       "145 2    2    2    1       5      2.7     2.1    2.3      \n",
       "146 2    2    2    2       1      2.2     2.7    2.3      \n",
       "147 2    2    2    2       2      3.1     2.9    2.6      \n",
       "148 2    2    2    2       3      2.2     2.8    3.1      \n",
       "149 2    2    2    2       4      2.9     3.0    2.7      \n",
       "150 2    2    2    2       5      2.8     2.7    2.6      \n",
       "151 2    2    2    3       1      2.5     3.2    2.3      \n",
       "152 2    2    2    3       2      2.9     3.3    2.7      \n",
       "153 2    2    2    3       3      2.5     3.1    2.5      \n",
       "154 2    2    2    3       4      3.0     2.9    2.5      \n",
       "155 2    2    2    3       5      2.9     3.1    3.1      \n",
       "156 2    2    2    4       1      2.7     3.3    2.6      \n",
       "157 2    2    2    4       2      2.6     2.8    2.3      \n",
       "158 2    2    2    4       3      2.5     3.1    2.6      \n",
       "159 2    2    2    4       4      3.4     3.3    3.0      \n",
       "160 2    2    2    4       5      2.5     2.8    2.3      "
      ]
     },
     "metadata": {},
     "output_type": "display_data"
    },
    {
     "name": "stderr",
     "output_type": "stream",
     "text": [
      "Parsed with column specification:\n",
      "cols(\n",
      "  area = col_integer(),\n",
      "  temp = col_integer(),\n",
      "  size = col_integer(),\n",
      "  storage = col_integer(),\n",
      "  method = col_integer(),\n",
      "  texture = col_double(),\n",
      "  flavor = col_double(),\n",
      "  moistness = col_double()\n",
      ")\n"
     ]
    },
    {
     "data": {
      "text/html": [
       "<table>\n",
       "<thead><tr><th scope=col>area</th><th scope=col>temp</th><th scope=col>size</th><th scope=col>storage</th><th scope=col>method</th><th scope=col>texture</th><th scope=col>flavor</th><th scope=col>moistness</th></tr></thead>\n",
       "<tbody>\n",
       "\t<tr><td>1  </td><td>1  </td><td>1  </td><td>1  </td><td>1  </td><td>2.9</td><td>3.2</td><td>3.0</td></tr>\n",
       "\t<tr><td>1  </td><td>1  </td><td>1  </td><td>1  </td><td>2  </td><td>2.3</td><td>2.5</td><td>2.6</td></tr>\n",
       "\t<tr><td>1  </td><td>1  </td><td>1  </td><td>1  </td><td>3  </td><td>2.5</td><td>2.8</td><td>2.8</td></tr>\n",
       "\t<tr><td>1  </td><td>1  </td><td>1  </td><td>1  </td><td>4  </td><td>2.1</td><td>2.9</td><td>2.4</td></tr>\n",
       "\t<tr><td>1  </td><td>1  </td><td>1  </td><td>1  </td><td>5  </td><td>1.9</td><td>2.8</td><td>2.2</td></tr>\n",
       "\t<tr><td>1  </td><td>1  </td><td>1  </td><td>2  </td><td>1  </td><td>1.8</td><td>3.0</td><td>1.7</td></tr>\n",
       "\t<tr><td>1  </td><td>1  </td><td>1  </td><td>2  </td><td>2  </td><td>2.6</td><td>3.1</td><td>2.4</td></tr>\n",
       "\t<tr><td>1  </td><td>1  </td><td>1  </td><td>2  </td><td>3  </td><td>3.0</td><td>3.0</td><td>2.9</td></tr>\n",
       "\t<tr><td>1  </td><td>1  </td><td>1  </td><td>2  </td><td>4  </td><td>2.2</td><td>3.2</td><td>2.5</td></tr>\n",
       "\t<tr><td>1  </td><td>1  </td><td>1  </td><td>2  </td><td>5  </td><td>2.0</td><td>2.8</td><td>1.9</td></tr>\n",
       "\t<tr><td>1  </td><td>1  </td><td>1  </td><td>3  </td><td>1  </td><td>1.8</td><td>2.6</td><td>1.5</td></tr>\n",
       "\t<tr><td>1  </td><td>1  </td><td>1  </td><td>3  </td><td>2  </td><td>2.0</td><td>2.8</td><td>1.9</td></tr>\n",
       "\t<tr><td>1  </td><td>1  </td><td>1  </td><td>3  </td><td>3  </td><td>2.6</td><td>2.6</td><td>2.6</td></tr>\n",
       "\t<tr><td>1  </td><td>1  </td><td>1  </td><td>3  </td><td>4  </td><td>2.1</td><td>3.2</td><td>2.1</td></tr>\n",
       "\t<tr><td>1  </td><td>1  </td><td>1  </td><td>3  </td><td>5  </td><td>2.5</td><td>3.0</td><td>2.1</td></tr>\n",
       "\t<tr><td>1  </td><td>1  </td><td>1  </td><td>4  </td><td>1  </td><td>2.6</td><td>3.1</td><td>2.4</td></tr>\n",
       "\t<tr><td>1  </td><td>1  </td><td>1  </td><td>4  </td><td>2  </td><td>2.7</td><td>2.9</td><td>2.4</td></tr>\n",
       "\t<tr><td>1  </td><td>1  </td><td>1  </td><td>4  </td><td>3  </td><td>2.2</td><td>3.1</td><td>2.3</td></tr>\n",
       "\t<tr><td>1  </td><td>1  </td><td>1  </td><td>4  </td><td>4  </td><td>3.1</td><td>3.4</td><td>2.7</td></tr>\n",
       "\t<tr><td>1  </td><td>1  </td><td>1  </td><td>4  </td><td>5  </td><td>3.0</td><td>2.6</td><td>2.7</td></tr>\n",
       "\t<tr><td>1  </td><td>1  </td><td>2  </td><td>1  </td><td>1  </td><td>3.1</td><td>3.0</td><td>2.8</td></tr>\n",
       "\t<tr><td>1  </td><td>1  </td><td>2  </td><td>1  </td><td>2  </td><td>2.7</td><td>2.8</td><td>2.7</td></tr>\n",
       "\t<tr><td>1  </td><td>1  </td><td>2  </td><td>1  </td><td>3  </td><td>2.4</td><td>3.0</td><td>2.9</td></tr>\n",
       "\t<tr><td>1  </td><td>1  </td><td>2  </td><td>1  </td><td>4  </td><td>2.2</td><td>2.9</td><td>2.3</td></tr>\n",
       "\t<tr><td>1  </td><td>1  </td><td>2  </td><td>1  </td><td>5  </td><td>1.9</td><td>2.9</td><td>2.0</td></tr>\n",
       "\t<tr><td>1  </td><td>1  </td><td>2  </td><td>2  </td><td>1  </td><td>1.8</td><td>2.6</td><td>1.8</td></tr>\n",
       "\t<tr><td>1  </td><td>1  </td><td>2  </td><td>2  </td><td>2  </td><td>2.2</td><td>2.9</td><td>2.1</td></tr>\n",
       "\t<tr><td>1  </td><td>1  </td><td>2  </td><td>2  </td><td>3  </td><td>2.8</td><td>3.2</td><td>2.8</td></tr>\n",
       "\t<tr><td>1  </td><td>1  </td><td>2  </td><td>2  </td><td>4  </td><td>2.3</td><td>3.2</td><td>2.4</td></tr>\n",
       "\t<tr><td>1  </td><td>1  </td><td>2  </td><td>2  </td><td>5  </td><td>2.0</td><td>3.0</td><td>2.0</td></tr>\n",
       "\t<tr><td>...</td><td>...</td><td>...</td><td>...</td><td>...</td><td>...</td><td>...</td><td>...</td></tr>\n",
       "\t<tr><td> 2 </td><td> 2 </td><td> 1 </td><td> 3 </td><td>2  </td><td>3.5</td><td>2.8</td><td>3.0</td></tr>\n",
       "\t<tr><td> 2 </td><td> 2 </td><td> 1 </td><td> 3 </td><td>3  </td><td>2.5</td><td>3.2</td><td>2.3</td></tr>\n",
       "\t<tr><td> 2 </td><td> 2 </td><td> 1 </td><td> 3 </td><td>4  </td><td>3.3</td><td>3.0</td><td>2.7</td></tr>\n",
       "\t<tr><td> 2 </td><td> 2 </td><td> 1 </td><td> 3 </td><td>5  </td><td>3.5</td><td>2.9</td><td>2.9</td></tr>\n",
       "\t<tr><td> 2 </td><td> 2 </td><td> 1 </td><td> 4 </td><td>1  </td><td>3.2</td><td>3.4</td><td>2.5</td></tr>\n",
       "\t<tr><td> 2 </td><td> 2 </td><td> 1 </td><td> 4 </td><td>2  </td><td>3.3</td><td>2.8</td><td>2.8</td></tr>\n",
       "\t<tr><td> 2 </td><td> 2 </td><td> 1 </td><td> 4 </td><td>3  </td><td>3.0</td><td>3.0</td><td>2.8</td></tr>\n",
       "\t<tr><td> 2 </td><td> 2 </td><td> 1 </td><td> 4 </td><td>4  </td><td>3.5</td><td>3.2</td><td>3.1</td></tr>\n",
       "\t<tr><td> 2 </td><td> 2 </td><td> 1 </td><td> 4 </td><td>5  </td><td>3.4</td><td>3.0</td><td>2.8</td></tr>\n",
       "\t<tr><td> 2 </td><td> 2 </td><td> 2 </td><td> 1 </td><td>1  </td><td>2.7</td><td>2.5</td><td>2.5</td></tr>\n",
       "\t<tr><td> 2 </td><td> 2 </td><td> 2 </td><td> 1 </td><td>2  </td><td>2.5</td><td>2.7</td><td>2.3</td></tr>\n",
       "\t<tr><td> 2 </td><td> 2 </td><td> 2 </td><td> 1 </td><td>3  </td><td>3.2</td><td>2.7</td><td>3.0</td></tr>\n",
       "\t<tr><td> 2 </td><td> 2 </td><td> 2 </td><td> 1 </td><td>4  </td><td>2.4</td><td>2.7</td><td>2.5</td></tr>\n",
       "\t<tr><td> 2 </td><td> 2 </td><td> 2 </td><td> 1 </td><td>5  </td><td>2.7</td><td>2.1</td><td>2.3</td></tr>\n",
       "\t<tr><td> 2 </td><td> 2 </td><td> 2 </td><td> 2 </td><td>1  </td><td>2.2</td><td>2.7</td><td>2.3</td></tr>\n",
       "\t<tr><td> 2 </td><td> 2 </td><td> 2 </td><td> 2 </td><td>2  </td><td>3.1</td><td>2.9</td><td>2.6</td></tr>\n",
       "\t<tr><td> 2 </td><td> 2 </td><td> 2 </td><td> 2 </td><td>3  </td><td>2.2</td><td>2.8</td><td>3.1</td></tr>\n",
       "\t<tr><td> 2 </td><td> 2 </td><td> 2 </td><td> 2 </td><td>4  </td><td>2.9</td><td>3.0</td><td>2.7</td></tr>\n",
       "\t<tr><td> 2 </td><td> 2 </td><td> 2 </td><td> 2 </td><td>5  </td><td>2.8</td><td>2.7</td><td>2.6</td></tr>\n",
       "\t<tr><td> 2 </td><td> 2 </td><td> 2 </td><td> 3 </td><td>1  </td><td>2.5</td><td>3.2</td><td>2.3</td></tr>\n",
       "\t<tr><td> 2 </td><td> 2 </td><td> 2 </td><td> 3 </td><td>2  </td><td>2.9</td><td>3.3</td><td>2.7</td></tr>\n",
       "\t<tr><td> 2 </td><td> 2 </td><td> 2 </td><td> 3 </td><td>3  </td><td>2.5</td><td>3.1</td><td>2.5</td></tr>\n",
       "\t<tr><td> 2 </td><td> 2 </td><td> 2 </td><td> 3 </td><td>4  </td><td>3.0</td><td>2.9</td><td>2.5</td></tr>\n",
       "\t<tr><td> 2 </td><td> 2 </td><td> 2 </td><td> 3 </td><td>5  </td><td>2.9</td><td>3.1</td><td>3.1</td></tr>\n",
       "\t<tr><td> 2 </td><td> 2 </td><td> 2 </td><td> 4 </td><td>1  </td><td>2.7</td><td>3.3</td><td>2.6</td></tr>\n",
       "\t<tr><td> 2 </td><td> 2 </td><td> 2 </td><td> 4 </td><td>2  </td><td>2.6</td><td>2.8</td><td>2.3</td></tr>\n",
       "\t<tr><td> 2 </td><td> 2 </td><td> 2 </td><td> 4 </td><td>3  </td><td>2.5</td><td>3.1</td><td>2.6</td></tr>\n",
       "\t<tr><td> 2 </td><td> 2 </td><td> 2 </td><td> 4 </td><td>4  </td><td>3.4</td><td>3.3</td><td>3.0</td></tr>\n",
       "\t<tr><td> 2 </td><td> 2 </td><td> 2 </td><td> 4 </td><td>5  </td><td>2.5</td><td>2.8</td><td>2.3</td></tr>\n",
       "\t<tr><td>15 </td><td>16 </td><td>25 </td><td>87 </td><td>5  </td><td>6.5</td><td>8.7</td><td>4.5</td></tr>\n",
       "</tbody>\n",
       "</table>\n"
      ],
      "text/latex": [
       "\\begin{tabular}{r|llllllll}\n",
       " area & temp & size & storage & method & texture & flavor & moistness\\\\\n",
       "\\hline\n",
       "\t 1   & 1   & 1   & 1   & 1   & 2.9 & 3.2 & 3.0\\\\\n",
       "\t 1   & 1   & 1   & 1   & 2   & 2.3 & 2.5 & 2.6\\\\\n",
       "\t 1   & 1   & 1   & 1   & 3   & 2.5 & 2.8 & 2.8\\\\\n",
       "\t 1   & 1   & 1   & 1   & 4   & 2.1 & 2.9 & 2.4\\\\\n",
       "\t 1   & 1   & 1   & 1   & 5   & 1.9 & 2.8 & 2.2\\\\\n",
       "\t 1   & 1   & 1   & 2   & 1   & 1.8 & 3.0 & 1.7\\\\\n",
       "\t 1   & 1   & 1   & 2   & 2   & 2.6 & 3.1 & 2.4\\\\\n",
       "\t 1   & 1   & 1   & 2   & 3   & 3.0 & 3.0 & 2.9\\\\\n",
       "\t 1   & 1   & 1   & 2   & 4   & 2.2 & 3.2 & 2.5\\\\\n",
       "\t 1   & 1   & 1   & 2   & 5   & 2.0 & 2.8 & 1.9\\\\\n",
       "\t 1   & 1   & 1   & 3   & 1   & 1.8 & 2.6 & 1.5\\\\\n",
       "\t 1   & 1   & 1   & 3   & 2   & 2.0 & 2.8 & 1.9\\\\\n",
       "\t 1   & 1   & 1   & 3   & 3   & 2.6 & 2.6 & 2.6\\\\\n",
       "\t 1   & 1   & 1   & 3   & 4   & 2.1 & 3.2 & 2.1\\\\\n",
       "\t 1   & 1   & 1   & 3   & 5   & 2.5 & 3.0 & 2.1\\\\\n",
       "\t 1   & 1   & 1   & 4   & 1   & 2.6 & 3.1 & 2.4\\\\\n",
       "\t 1   & 1   & 1   & 4   & 2   & 2.7 & 2.9 & 2.4\\\\\n",
       "\t 1   & 1   & 1   & 4   & 3   & 2.2 & 3.1 & 2.3\\\\\n",
       "\t 1   & 1   & 1   & 4   & 4   & 3.1 & 3.4 & 2.7\\\\\n",
       "\t 1   & 1   & 1   & 4   & 5   & 3.0 & 2.6 & 2.7\\\\\n",
       "\t 1   & 1   & 2   & 1   & 1   & 3.1 & 3.0 & 2.8\\\\\n",
       "\t 1   & 1   & 2   & 1   & 2   & 2.7 & 2.8 & 2.7\\\\\n",
       "\t 1   & 1   & 2   & 1   & 3   & 2.4 & 3.0 & 2.9\\\\\n",
       "\t 1   & 1   & 2   & 1   & 4   & 2.2 & 2.9 & 2.3\\\\\n",
       "\t 1   & 1   & 2   & 1   & 5   & 1.9 & 2.9 & 2.0\\\\\n",
       "\t 1   & 1   & 2   & 2   & 1   & 1.8 & 2.6 & 1.8\\\\\n",
       "\t 1   & 1   & 2   & 2   & 2   & 2.2 & 2.9 & 2.1\\\\\n",
       "\t 1   & 1   & 2   & 2   & 3   & 2.8 & 3.2 & 2.8\\\\\n",
       "\t 1   & 1   & 2   & 2   & 4   & 2.3 & 3.2 & 2.4\\\\\n",
       "\t 1   & 1   & 2   & 2   & 5   & 2.0 & 3.0 & 2.0\\\\\n",
       "\t ... & ... & ... & ... & ... & ... & ... & ...\\\\\n",
       "\t  2  &  2  &  1  &  3  & 2   & 3.5 & 2.8 & 3.0\\\\\n",
       "\t  2  &  2  &  1  &  3  & 3   & 2.5 & 3.2 & 2.3\\\\\n",
       "\t  2  &  2  &  1  &  3  & 4   & 3.3 & 3.0 & 2.7\\\\\n",
       "\t  2  &  2  &  1  &  3  & 5   & 3.5 & 2.9 & 2.9\\\\\n",
       "\t  2  &  2  &  1  &  4  & 1   & 3.2 & 3.4 & 2.5\\\\\n",
       "\t  2  &  2  &  1  &  4  & 2   & 3.3 & 2.8 & 2.8\\\\\n",
       "\t  2  &  2  &  1  &  4  & 3   & 3.0 & 3.0 & 2.8\\\\\n",
       "\t  2  &  2  &  1  &  4  & 4   & 3.5 & 3.2 & 3.1\\\\\n",
       "\t  2  &  2  &  1  &  4  & 5   & 3.4 & 3.0 & 2.8\\\\\n",
       "\t  2  &  2  &  2  &  1  & 1   & 2.7 & 2.5 & 2.5\\\\\n",
       "\t  2  &  2  &  2  &  1  & 2   & 2.5 & 2.7 & 2.3\\\\\n",
       "\t  2  &  2  &  2  &  1  & 3   & 3.2 & 2.7 & 3.0\\\\\n",
       "\t  2  &  2  &  2  &  1  & 4   & 2.4 & 2.7 & 2.5\\\\\n",
       "\t  2  &  2  &  2  &  1  & 5   & 2.7 & 2.1 & 2.3\\\\\n",
       "\t  2  &  2  &  2  &  2  & 1   & 2.2 & 2.7 & 2.3\\\\\n",
       "\t  2  &  2  &  2  &  2  & 2   & 3.1 & 2.9 & 2.6\\\\\n",
       "\t  2  &  2  &  2  &  2  & 3   & 2.2 & 2.8 & 3.1\\\\\n",
       "\t  2  &  2  &  2  &  2  & 4   & 2.9 & 3.0 & 2.7\\\\\n",
       "\t  2  &  2  &  2  &  2  & 5   & 2.8 & 2.7 & 2.6\\\\\n",
       "\t  2  &  2  &  2  &  3  & 1   & 2.5 & 3.2 & 2.3\\\\\n",
       "\t  2  &  2  &  2  &  3  & 2   & 2.9 & 3.3 & 2.7\\\\\n",
       "\t  2  &  2  &  2  &  3  & 3   & 2.5 & 3.1 & 2.5\\\\\n",
       "\t  2  &  2  &  2  &  3  & 4   & 3.0 & 2.9 & 2.5\\\\\n",
       "\t  2  &  2  &  2  &  3  & 5   & 2.9 & 3.1 & 3.1\\\\\n",
       "\t  2  &  2  &  2  &  4  & 1   & 2.7 & 3.3 & 2.6\\\\\n",
       "\t  2  &  2  &  2  &  4  & 2   & 2.6 & 2.8 & 2.3\\\\\n",
       "\t  2  &  2  &  2  &  4  & 3   & 2.5 & 3.1 & 2.6\\\\\n",
       "\t  2  &  2  &  2  &  4  & 4   & 3.4 & 3.3 & 3.0\\\\\n",
       "\t  2  &  2  &  2  &  4  & 5   & 2.5 & 2.8 & 2.3\\\\\n",
       "\t 15  & 16  & 25  & 87  & 5   & 6.5 & 8.7 & 4.5\\\\\n",
       "\\end{tabular}\n"
      ],
      "text/markdown": [
       "\n",
       "area | temp | size | storage | method | texture | flavor | moistness | \n",
       "|---|---|---|---|---|---|---|---|---|---|---|---|---|---|---|---|---|---|---|---|---|---|---|---|---|---|---|---|---|---|---|---|---|---|---|---|---|---|---|---|---|---|---|---|---|---|---|---|---|---|---|---|---|---|---|---|---|---|---|---|---|\n",
       "| 1   | 1   | 1   | 1   | 1   | 2.9 | 3.2 | 3.0 | \n",
       "| 1   | 1   | 1   | 1   | 2   | 2.3 | 2.5 | 2.6 | \n",
       "| 1   | 1   | 1   | 1   | 3   | 2.5 | 2.8 | 2.8 | \n",
       "| 1   | 1   | 1   | 1   | 4   | 2.1 | 2.9 | 2.4 | \n",
       "| 1   | 1   | 1   | 1   | 5   | 1.9 | 2.8 | 2.2 | \n",
       "| 1   | 1   | 1   | 2   | 1   | 1.8 | 3.0 | 1.7 | \n",
       "| 1   | 1   | 1   | 2   | 2   | 2.6 | 3.1 | 2.4 | \n",
       "| 1   | 1   | 1   | 2   | 3   | 3.0 | 3.0 | 2.9 | \n",
       "| 1   | 1   | 1   | 2   | 4   | 2.2 | 3.2 | 2.5 | \n",
       "| 1   | 1   | 1   | 2   | 5   | 2.0 | 2.8 | 1.9 | \n",
       "| 1   | 1   | 1   | 3   | 1   | 1.8 | 2.6 | 1.5 | \n",
       "| 1   | 1   | 1   | 3   | 2   | 2.0 | 2.8 | 1.9 | \n",
       "| 1   | 1   | 1   | 3   | 3   | 2.6 | 2.6 | 2.6 | \n",
       "| 1   | 1   | 1   | 3   | 4   | 2.1 | 3.2 | 2.1 | \n",
       "| 1   | 1   | 1   | 3   | 5   | 2.5 | 3.0 | 2.1 | \n",
       "| 1   | 1   | 1   | 4   | 1   | 2.6 | 3.1 | 2.4 | \n",
       "| 1   | 1   | 1   | 4   | 2   | 2.7 | 2.9 | 2.4 | \n",
       "| 1   | 1   | 1   | 4   | 3   | 2.2 | 3.1 | 2.3 | \n",
       "| 1   | 1   | 1   | 4   | 4   | 3.1 | 3.4 | 2.7 | \n",
       "| 1   | 1   | 1   | 4   | 5   | 3.0 | 2.6 | 2.7 | \n",
       "| 1   | 1   | 2   | 1   | 1   | 3.1 | 3.0 | 2.8 | \n",
       "| 1   | 1   | 2   | 1   | 2   | 2.7 | 2.8 | 2.7 | \n",
       "| 1   | 1   | 2   | 1   | 3   | 2.4 | 3.0 | 2.9 | \n",
       "| 1   | 1   | 2   | 1   | 4   | 2.2 | 2.9 | 2.3 | \n",
       "| 1   | 1   | 2   | 1   | 5   | 1.9 | 2.9 | 2.0 | \n",
       "| 1   | 1   | 2   | 2   | 1   | 1.8 | 2.6 | 1.8 | \n",
       "| 1   | 1   | 2   | 2   | 2   | 2.2 | 2.9 | 2.1 | \n",
       "| 1   | 1   | 2   | 2   | 3   | 2.8 | 3.2 | 2.8 | \n",
       "| 1   | 1   | 2   | 2   | 4   | 2.3 | 3.2 | 2.4 | \n",
       "| 1   | 1   | 2   | 2   | 5   | 2.0 | 3.0 | 2.0 | \n",
       "| ... | ... | ... | ... | ... | ... | ... | ... | \n",
       "|  2  |  2  |  1  |  3  | 2   | 3.5 | 2.8 | 3.0 | \n",
       "|  2  |  2  |  1  |  3  | 3   | 2.5 | 3.2 | 2.3 | \n",
       "|  2  |  2  |  1  |  3  | 4   | 3.3 | 3.0 | 2.7 | \n",
       "|  2  |  2  |  1  |  3  | 5   | 3.5 | 2.9 | 2.9 | \n",
       "|  2  |  2  |  1  |  4  | 1   | 3.2 | 3.4 | 2.5 | \n",
       "|  2  |  2  |  1  |  4  | 2   | 3.3 | 2.8 | 2.8 | \n",
       "|  2  |  2  |  1  |  4  | 3   | 3.0 | 3.0 | 2.8 | \n",
       "|  2  |  2  |  1  |  4  | 4   | 3.5 | 3.2 | 3.1 | \n",
       "|  2  |  2  |  1  |  4  | 5   | 3.4 | 3.0 | 2.8 | \n",
       "|  2  |  2  |  2  |  1  | 1   | 2.7 | 2.5 | 2.5 | \n",
       "|  2  |  2  |  2  |  1  | 2   | 2.5 | 2.7 | 2.3 | \n",
       "|  2  |  2  |  2  |  1  | 3   | 3.2 | 2.7 | 3.0 | \n",
       "|  2  |  2  |  2  |  1  | 4   | 2.4 | 2.7 | 2.5 | \n",
       "|  2  |  2  |  2  |  1  | 5   | 2.7 | 2.1 | 2.3 | \n",
       "|  2  |  2  |  2  |  2  | 1   | 2.2 | 2.7 | 2.3 | \n",
       "|  2  |  2  |  2  |  2  | 2   | 3.1 | 2.9 | 2.6 | \n",
       "|  2  |  2  |  2  |  2  | 3   | 2.2 | 2.8 | 3.1 | \n",
       "|  2  |  2  |  2  |  2  | 4   | 2.9 | 3.0 | 2.7 | \n",
       "|  2  |  2  |  2  |  2  | 5   | 2.8 | 2.7 | 2.6 | \n",
       "|  2  |  2  |  2  |  3  | 1   | 2.5 | 3.2 | 2.3 | \n",
       "|  2  |  2  |  2  |  3  | 2   | 2.9 | 3.3 | 2.7 | \n",
       "|  2  |  2  |  2  |  3  | 3   | 2.5 | 3.1 | 2.5 | \n",
       "|  2  |  2  |  2  |  3  | 4   | 3.0 | 2.9 | 2.5 | \n",
       "|  2  |  2  |  2  |  3  | 5   | 2.9 | 3.1 | 3.1 | \n",
       "|  2  |  2  |  2  |  4  | 1   | 2.7 | 3.3 | 2.6 | \n",
       "|  2  |  2  |  2  |  4  | 2   | 2.6 | 2.8 | 2.3 | \n",
       "|  2  |  2  |  2  |  4  | 3   | 2.5 | 3.1 | 2.6 | \n",
       "|  2  |  2  |  2  |  4  | 4   | 3.4 | 3.3 | 3.0 | \n",
       "|  2  |  2  |  2  |  4  | 5   | 2.5 | 2.8 | 2.3 | \n",
       "| 15  | 16  | 25  | 87  | 5   | 6.5 | 8.7 | 4.5 | \n",
       "\n",
       "\n"
      ],
      "text/plain": [
       "    area temp size storage method texture flavor moistness\n",
       "1   1    1    1    1       1      2.9     3.2    3.0      \n",
       "2   1    1    1    1       2      2.3     2.5    2.6      \n",
       "3   1    1    1    1       3      2.5     2.8    2.8      \n",
       "4   1    1    1    1       4      2.1     2.9    2.4      \n",
       "5   1    1    1    1       5      1.9     2.8    2.2      \n",
       "6   1    1    1    2       1      1.8     3.0    1.7      \n",
       "7   1    1    1    2       2      2.6     3.1    2.4      \n",
       "8   1    1    1    2       3      3.0     3.0    2.9      \n",
       "9   1    1    1    2       4      2.2     3.2    2.5      \n",
       "10  1    1    1    2       5      2.0     2.8    1.9      \n",
       "11  1    1    1    3       1      1.8     2.6    1.5      \n",
       "12  1    1    1    3       2      2.0     2.8    1.9      \n",
       "13  1    1    1    3       3      2.6     2.6    2.6      \n",
       "14  1    1    1    3       4      2.1     3.2    2.1      \n",
       "15  1    1    1    3       5      2.5     3.0    2.1      \n",
       "16  1    1    1    4       1      2.6     3.1    2.4      \n",
       "17  1    1    1    4       2      2.7     2.9    2.4      \n",
       "18  1    1    1    4       3      2.2     3.1    2.3      \n",
       "19  1    1    1    4       4      3.1     3.4    2.7      \n",
       "20  1    1    1    4       5      3.0     2.6    2.7      \n",
       "21  1    1    2    1       1      3.1     3.0    2.8      \n",
       "22  1    1    2    1       2      2.7     2.8    2.7      \n",
       "23  1    1    2    1       3      2.4     3.0    2.9      \n",
       "24  1    1    2    1       4      2.2     2.9    2.3      \n",
       "25  1    1    2    1       5      1.9     2.9    2.0      \n",
       "26  1    1    2    2       1      1.8     2.6    1.8      \n",
       "27  1    1    2    2       2      2.2     2.9    2.1      \n",
       "28  1    1    2    2       3      2.8     3.2    2.8      \n",
       "29  1    1    2    2       4      2.3     3.2    2.4      \n",
       "30  1    1    2    2       5      2.0     3.0    2.0      \n",
       "... ...  ...  ...  ...     ...    ...     ...    ...      \n",
       "132  2    2    1    3      2      3.5     2.8    3.0      \n",
       "133  2    2    1    3      3      2.5     3.2    2.3      \n",
       "134  2    2    1    3      4      3.3     3.0    2.7      \n",
       "135  2    2    1    3      5      3.5     2.9    2.9      \n",
       "136  2    2    1    4      1      3.2     3.4    2.5      \n",
       "137  2    2    1    4      2      3.3     2.8    2.8      \n",
       "138  2    2    1    4      3      3.0     3.0    2.8      \n",
       "139  2    2    1    4      4      3.5     3.2    3.1      \n",
       "140  2    2    1    4      5      3.4     3.0    2.8      \n",
       "141  2    2    2    1      1      2.7     2.5    2.5      \n",
       "142  2    2    2    1      2      2.5     2.7    2.3      \n",
       "143  2    2    2    1      3      3.2     2.7    3.0      \n",
       "144  2    2    2    1      4      2.4     2.7    2.5      \n",
       "145  2    2    2    1      5      2.7     2.1    2.3      \n",
       "146  2    2    2    2      1      2.2     2.7    2.3      \n",
       "147  2    2    2    2      2      3.1     2.9    2.6      \n",
       "148  2    2    2    2      3      2.2     2.8    3.1      \n",
       "149  2    2    2    2      4      2.9     3.0    2.7      \n",
       "150  2    2    2    2      5      2.8     2.7    2.6      \n",
       "151  2    2    2    3      1      2.5     3.2    2.3      \n",
       "152  2    2    2    3      2      2.9     3.3    2.7      \n",
       "153  2    2    2    3      3      2.5     3.1    2.5      \n",
       "154  2    2    2    3      4      3.0     2.9    2.5      \n",
       "155  2    2    2    3      5      2.9     3.1    3.1      \n",
       "156  2    2    2    4      1      2.7     3.3    2.6      \n",
       "157  2    2    2    4      2      2.6     2.8    2.3      \n",
       "158  2    2    2    4      3      2.5     3.1    2.6      \n",
       "159  2    2    2    4      4      3.4     3.3    3.0      \n",
       "160  2    2    2    4      5      2.5     2.8    2.3      \n",
       "161 15   16   25   87      5      6.5     8.7    4.5      "
      ]
     },
     "metadata": {},
     "output_type": "display_data"
    }
   ],
   "source": [
    "library(readr)\n",
    "# Import potatoes.txt using read_delim(): potatoes\n",
    "potatoesTXT <- read_delim(\"data/potatoes.txt\", delim = \"\\t\")\n",
    "# Print out potatoes\n",
    "potatoesTXT\n",
    "#read_csv function (readr package)\n",
    "# readr is already loaded\n",
    "# Column names\n",
    "properties <- c(\"area\", \"temp\", \"size\", \"storage\", \"method\", \n",
    "                \"texture\", \"flavor\", \"moistness\")\n",
    "# Import potatoes.csv with read_csv(): potatoes\n",
    "potatoesCSV <- read_csv(\"data/potatoes.csv\", col_names = properties)\n",
    "potatoesCSV"
   ]
  },
  {
   "cell_type": "markdown",
   "metadata": {
    "slideshow": {
     "slide_type": "subslide"
    }
   },
   "source": [
    "**Further References:** https://blog.rstudio.com/2016/08/05/readr-1-0-0/"
   ]
  },
  {
   "cell_type": "markdown",
   "metadata": {
    "slideshow": {
     "slide_type": "slide"
    }
   },
   "source": [
    "# Data Exporting"
   ]
  },
  {
   "cell_type": "markdown",
   "metadata": {
    "run_control": {
     "marked": false
    },
    "slideshow": {
     "slide_type": "slide"
    }
   },
   "source": [
    "**Modifying changes in imported file and write/export those changes to the disk**"
   ]
  },
  {
   "cell_type": "code",
   "execution_count": 90,
   "metadata": {
    "collapsed": true,
    "run_control": {
     "frozen": false,
     "read_only": false
    },
    "slideshow": {
     "slide_type": "subslide"
    }
   },
   "outputs": [],
   "source": [
    "sales <- read.csv(\"data/yearly_sales.csv\")\n",
    "sales$per_order <- sales$sales_total/sales$num_of_orders \n",
    "write.table(sales, \"data/sales_modified.txt\", sep = \"\\t\", row.names = FALSE)  # row.names argument option"
   ]
  },
  {
   "cell_type": "code",
   "execution_count": 91,
   "metadata": {
    "run_control": {
     "frozen": false,
     "read_only": false
    },
    "slideshow": {
     "slide_type": "subslide"
    }
   },
   "outputs": [
    {
     "data": {
      "text/html": [
       "'E:/Projects/LIT-01/Data-Importing'"
      ],
      "text/latex": [
       "'E:/Projects/LIT-01/Data-Importing'"
      ],
      "text/markdown": [
       "'E:/Projects/LIT-01/Data-Importing'"
      ],
      "text/plain": [
       "[1] \"E:/Projects/LIT-01/Data-Importing\""
      ]
     },
     "metadata": {},
     "output_type": "display_data"
    },
    {
     "data": {
      "text/html": [
       "<table>\n",
       "<thead><tr><th scope=col>month</th><th scope=col>avgHigh</th><th scope=col>season</th><th scope=col>schoolIn</th></tr></thead>\n",
       "<tbody>\n",
       "\t<tr><td>Jan   </td><td>38    </td><td>Winter</td><td>yes   </td></tr>\n",
       "\t<tr><td>Feb   </td><td>41    </td><td>Winter</td><td>yes   </td></tr>\n",
       "\t<tr><td>Mar   </td><td>47    </td><td>Spring</td><td>yes   </td></tr>\n",
       "\t<tr><td>Apr   </td><td>56    </td><td>Spring</td><td>yes   </td></tr>\n",
       "\t<tr><td>May   </td><td>69    </td><td>Spring</td><td>yes   </td></tr>\n",
       "\t<tr><td>Jun   </td><td>81    </td><td>Summer</td><td>no    </td></tr>\n",
       "\t<tr><td>Jul   </td><td>83    </td><td>Summer</td><td>no    </td></tr>\n",
       "\t<tr><td>Aug   </td><td>82    </td><td>Summer</td><td>no    </td></tr>\n",
       "\t<tr><td>Sep   </td><td>71    </td><td>Fall  </td><td>yes   </td></tr>\n",
       "\t<tr><td>Oct   </td><td>55    </td><td>Fall  </td><td>yes   </td></tr>\n",
       "\t<tr><td>Nov   </td><td>48    </td><td>Fall  </td><td>yes   </td></tr>\n",
       "\t<tr><td>Dec   </td><td>43    </td><td>Winter</td><td>yes   </td></tr>\n",
       "</tbody>\n",
       "</table>\n"
      ],
      "text/latex": [
       "\\begin{tabular}{r|llll}\n",
       " month & avgHigh & season & schoolIn\\\\\n",
       "\\hline\n",
       "\t Jan    & 38     & Winter & yes   \\\\\n",
       "\t Feb    & 41     & Winter & yes   \\\\\n",
       "\t Mar    & 47     & Spring & yes   \\\\\n",
       "\t Apr    & 56     & Spring & yes   \\\\\n",
       "\t May    & 69     & Spring & yes   \\\\\n",
       "\t Jun    & 81     & Summer & no    \\\\\n",
       "\t Jul    & 83     & Summer & no    \\\\\n",
       "\t Aug    & 82     & Summer & no    \\\\\n",
       "\t Sep    & 71     & Fall   & yes   \\\\\n",
       "\t Oct    & 55     & Fall   & yes   \\\\\n",
       "\t Nov    & 48     & Fall   & yes   \\\\\n",
       "\t Dec    & 43     & Winter & yes   \\\\\n",
       "\\end{tabular}\n"
      ],
      "text/markdown": [
       "\n",
       "month | avgHigh | season | schoolIn | \n",
       "|---|---|---|---|---|---|---|---|---|---|---|---|\n",
       "| Jan    | 38     | Winter | yes    | \n",
       "| Feb    | 41     | Winter | yes    | \n",
       "| Mar    | 47     | Spring | yes    | \n",
       "| Apr    | 56     | Spring | yes    | \n",
       "| May    | 69     | Spring | yes    | \n",
       "| Jun    | 81     | Summer | no     | \n",
       "| Jul    | 83     | Summer | no     | \n",
       "| Aug    | 82     | Summer | no     | \n",
       "| Sep    | 71     | Fall   | yes    | \n",
       "| Oct    | 55     | Fall   | yes    | \n",
       "| Nov    | 48     | Fall   | yes    | \n",
       "| Dec    | 43     | Winter | yes    | \n",
       "\n",
       "\n"
      ],
      "text/plain": [
       "   month avgHigh season schoolIn\n",
       "1  Jan   38      Winter yes     \n",
       "2  Feb   41      Winter yes     \n",
       "3  Mar   47      Spring yes     \n",
       "4  Apr   56      Spring yes     \n",
       "5  May   69      Spring yes     \n",
       "6  Jun   81      Summer no      \n",
       "7  Jul   83      Summer no      \n",
       "8  Aug   82      Summer no      \n",
       "9  Sep   71      Fall   yes     \n",
       "10 Oct   55      Fall   yes     \n",
       "11 Nov   48      Fall   yes     \n",
       "12 Dec   43      Winter yes     "
      ]
     },
     "metadata": {},
     "output_type": "display_data"
    }
   ],
   "source": [
    "month    <- month.abb\n",
    "avgHigh  <- c(38, 41, 47, 56, 69, 81, 83, 82, 71, 55, 48, 43)\n",
    "seasons  <- c(\"Winter\", \"Spring\", \"Summer\", \"Fall\")\n",
    "season   <- rep(seasons[c(1:4,1)], c(2,3,3,3,1))\n",
    "schoolIn <- rep(c(\"yes\", \"no\", \"yes\"), c(5, 3, 4))\n",
    "\n",
    "getwd()\n",
    "d        <- data.frame(month, avgHigh, season, schoolIn)\n",
    "write.table(d, \"data/annual.txt\", quote=TRUE,\n",
    "            sep=\"\\t\", row.names=FALSE)\n",
    "\n",
    "d <- read.delim(\"data/annual.txt\", header=TRUE, sep=\"\\t\")\n",
    "d"
   ]
  },
  {
   "cell_type": "code",
   "execution_count": 92,
   "metadata": {
    "run_control": {
     "frozen": false,
     "read_only": false
    },
    "scrolled": false,
    "slideshow": {
     "slide_type": "subslide"
    }
   },
   "outputs": [
    {
     "data": {
      "text/html": [
       "<table>\n",
       "<thead><tr><th scope=col>rep..a...5.</th><th scope=col>rep..b...5.</th></tr></thead>\n",
       "<tbody>\n",
       "\t<tr><td>a</td><td>b</td></tr>\n",
       "\t<tr><td>a</td><td>b</td></tr>\n",
       "\t<tr><td>a</td><td>b</td></tr>\n",
       "\t<tr><td>a</td><td>b</td></tr>\n",
       "\t<tr><td>a</td><td>b</td></tr>\n",
       "</tbody>\n",
       "</table>\n"
      ],
      "text/latex": [
       "\\begin{tabular}{r|ll}\n",
       " rep..a...5. & rep..b...5.\\\\\n",
       "\\hline\n",
       "\t a & b\\\\\n",
       "\t a & b\\\\\n",
       "\t a & b\\\\\n",
       "\t a & b\\\\\n",
       "\t a & b\\\\\n",
       "\\end{tabular}\n"
      ],
      "text/markdown": [
       "\n",
       "rep..a...5. | rep..b...5. | \n",
       "|---|---|---|---|---|\n",
       "| a | b | \n",
       "| a | b | \n",
       "| a | b | \n",
       "| a | b | \n",
       "| a | b | \n",
       "\n",
       "\n"
      ],
      "text/plain": [
       "  rep..a...5. rep..b...5.\n",
       "1 a           b          \n",
       "2 a           b          \n",
       "3 a           b          \n",
       "4 a           b          \n",
       "5 a           b          "
      ]
     },
     "metadata": {},
     "output_type": "display_data"
    }
   ],
   "source": [
    "#quote argument option\n",
    "t=data.frame(rep(\"a\",5), rep(\"b\",5)) \n",
    "t\n",
    "write.table(t,\"data/try.txt\",row.names=F,col.names=F,sep=\"\\t\") \n",
    "write.table(t,\"data/tryN.txt\",row.names=F,col.names=F,sep=\"\\t\", quote=FALSE) "
   ]
  }
 ],
 "metadata": {
  "celltoolbar": "Slideshow",
  "hide_input": false,
  "kernelspec": {
   "display_name": "R",
   "language": "R",
   "name": "r"
  },
  "language_info": {
   "codemirror_mode": "r",
   "file_extension": ".r",
   "mimetype": "text/x-r-source",
   "name": "R",
   "pygments_lexer": "r",
   "version": "3.4.1"
  },
  "nav_menu": {
   "height": "323px",
   "width": "319px"
  },
  "toc": {
   "navigate_menu": true,
   "number_sections": false,
   "sideBar": true,
   "threshold": 6,
   "toc_cell": true,
   "toc_section_display": "block",
   "toc_window_display": false
  },
  "toc_position": {
   "height": "811px",
   "left": "0px",
   "right": "1125px",
   "top": "107px",
   "width": "155px"
  }
 },
 "nbformat": 4,
 "nbformat_minor": 2
}
