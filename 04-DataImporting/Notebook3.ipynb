{
  "cells": [
    {
      "metadata": {
        "slideshow": {
          "slide_type": "slide"
        },
        "toc": "true"
      },
      "cell_type": "markdown",
      "source": "<h1>Table of Contents<span class=\"tocSkip\"></span></h1>\n<div class=\"toc\"><ul class=\"toc-item\"><li><ul class=\"toc-item\"><li><span><a href=\"#Getting-Help-&amp;-search\" data-toc-modified-id=\"Getting-Help-&amp;-search-0.1\">Getting Help &amp; search</a></span><ul class=\"toc-item\"><li><span><a href=\"#help()-or-?\" data-toc-modified-id=\"help()-or-?-0.1.1\"><code>help()</code> or <code>?</code></a></span></li><li><span><a href=\"#help.search()-or-??\" data-toc-modified-id=\"help.search()-or-??-0.1.2\"><code>help.search()</code> or <code>??</code></a></span></li><li><span><a href=\"#apropos()\" data-toc-modified-id=\"apropos()-0.1.3\"><code>apropos()</code></a></span></li><li><span><a href=\"#package-?-&lt;pckg-name&gt;\" data-toc-modified-id=\"package-?-<pckg-name>-0.1.4\"><code>package ? &lt;pckg name&gt;</code></a></span></li><li><span><a href=\"#library(help='&lt;pckg-name&gt;')\" data-toc-modified-id=\"library(help='<pckg-name>')-0.1.5\"><code>library(help='&lt;pckg name&gt;')</code></a></span></li><li><span><a href=\"#ls()-or-objects()\" data-toc-modified-id=\"ls()-or-objects()-0.1.6\"><code>ls()</code> or <code>objects()</code></a></span></li><li><span><a href=\"#ls.str()-or-lsf.str()\" data-toc-modified-id=\"ls.str()-or-lsf.str()-0.1.7\"><code>ls.str()</code> or <code>lsf.str()</code></a></span></li><li><span><a href=\"#args()\" data-toc-modified-id=\"args()-0.1.8\"><code>args()</code></a></span></li><li><span><a href=\"#data()--to-list-the-available-data-sets\" data-toc-modified-id=\"data()--to-list-the-available-data-sets-0.1.9\"><code>data()</code>  to list the available data sets</a></span></li><li><span><a href=\"#browseVignettes()-and-vignette()\" data-toc-modified-id=\"browseVignettes()-and-vignette()-0.1.10\"><code>browseVignettes()</code> and <code>vignette()</code></a></span></li></ul></li></ul></li><li><span><a href=\"#The-Search-List\" data-toc-modified-id=\"The-Search-List-1\">The Search List</a></span></li><li><span><a href=\"#RSiteSearch(&quot;ggplot2&quot;)\" data-toc-modified-id=\"RSiteSearch(&quot;ggplot2&quot;)-2\"><code>RSiteSearch(\"ggplot2\")</code></a></span></li><li><span><a href=\"#Rseek---rstats-search-engine\" data-toc-modified-id=\"Rseek---rstats-search-engine-3\">Rseek - rstats search engine</a></span></li></ul></div>"
    },
    {
      "metadata": {},
      "cell_type": "markdown",
      "source": "## Getting Help & search "
    },
    {
      "metadata": {},
      "cell_type": "markdown",
      "source": "### `help()` or `?`"
    },
    {
      "metadata": {
        "run_control": {
          "frozen": false,
          "read_only": false
        },
        "trusted": false
      },
      "cell_type": "code",
      "source": "?print\n# is same as",
      "execution_count": 12,
      "outputs": []
    },
    {
      "metadata": {
        "run_control": {
          "frozen": false,
          "read_only": false
        },
        "trusted": false
      },
      "cell_type": "code",
      "source": "help(print)  # or help(\"plot\")",
      "execution_count": 13,
      "outputs": []
    },
    {
      "metadata": {},
      "cell_type": "markdown",
      "source": "### `help.search()` or `??`"
    },
    {
      "metadata": {
        "run_control": {
          "frozen": false,
          "read_only": false
        },
        "trusted": false
      },
      "cell_type": "code",
      "source": "??plot",
      "execution_count": 14,
      "outputs": [
        {
          "name": "stderr",
          "output_type": "stream",
          "text": "starting httpd help server ... done\n"
        },
        {
          "data": {},
          "metadata": {},
          "output_type": "display_data"
        }
      ]
    },
    {
      "metadata": {
        "run_control": {
          "frozen": false,
          "read_only": false
        },
        "trusted": false
      },
      "cell_type": "code",
      "source": "help.search(\"plot\")",
      "execution_count": 15,
      "outputs": [
        {
          "data": {},
          "metadata": {},
          "output_type": "display_data"
        }
      ]
    },
    {
      "metadata": {},
      "cell_type": "markdown",
      "source": "### `apropos()`\nFind Objects by (Partial) Name  \nreturns a character vector giving the names of objects in the search list matching  "
    },
    {
      "metadata": {
        "run_control": {
          "frozen": false,
          "read_only": false
        },
        "scrolled": true,
        "trusted": false
      },
      "cell_type": "code",
      "source": "apropos(\"wh\")\napropos(\"ls\")",
      "execution_count": 16,
      "outputs": [
        {
          "data": {
            "text/html": "<ol class=list-inline>\n\t<li>'.__C__while'</li>\n\t<li>'argsAnywhere'</li>\n\t<li>'getAnywhere'</li>\n\t<li>'Sys.which'</li>\n\t<li>'which'</li>\n\t<li>'which.max'</li>\n\t<li>'which.min'</li>\n\t<li>'while'</li>\n</ol>\n",
            "text/latex": "\\begin{enumerate*}\n\\item '.\\_\\_C\\_\\_while'\n\\item 'argsAnywhere'\n\\item 'getAnywhere'\n\\item 'Sys.which'\n\\item 'which'\n\\item 'which.max'\n\\item 'which.min'\n\\item 'while'\n\\end{enumerate*}\n",
            "text/markdown": "1. '.__C__while'\n2. 'argsAnywhere'\n3. 'getAnywhere'\n4. 'Sys.which'\n5. 'which'\n6. 'which.max'\n7. 'which.min'\n8. 'while'\n\n\n",
            "text/plain": "[1] \".__C__while\"  \"argsAnywhere\" \"getAnywhere\"  \"Sys.which\"    \"which\"       \n[6] \"which.max\"    \"which.min\"    \"while\"       "
          },
          "metadata": {},
          "output_type": "display_data"
        },
        {
          "data": {
            "text/html": "<ol class=list-inline>\n\t<li>'.__C__data.frameRowLabels'</li>\n\t<li>'.colSums'</li>\n\t<li>'.getXlevels'</li>\n\t<li>'.signalSimpleWarning'</li>\n\t<li>'ar.ols'</li>\n\t<li>'co.intervals'</li>\n\t<li>'colSums'</li>\n\t<li>'de.ncols'</li>\n\t<li>'densCols'</li>\n\t<li>'droplevels'</li>\n\t<li>'droplevels.data.frame'</li>\n\t<li>'droplevels.factor'</li>\n\t<li>'evalSource'</li>\n\t<li>'formals'</li>\n\t<li>'formals&lt;-'</li>\n\t<li>'getAllSuperClasses'</li>\n\t<li>'getLoadedDLLs'</li>\n\t<li>'ifelse'</li>\n\t<li>'labels'</li>\n\t<li>'labels.default'</li>\n\t<li>'levels'</li>\n\t<li>'levels.default'</li>\n\t<li>'levels&lt;-'</li>\n\t<li>'levels&lt;-.factor'</li>\n\t<li>'limitedLabels'</li>\n\t<li>'ls'</li>\n\t<li>'ls.diag'</li>\n\t<li>'ls.print'</li>\n\t<li>'ls.str'</li>\n\t<li>'lsf.str'</li>\n\t<li>'lsfit'</li>\n\t<li>'nlevels'</li>\n\t<li>'nls'</li>\n\t<li>'nls.control'</li>\n\t<li>'NLSstAsymptotic'</li>\n\t<li>'NLSstClosestX'</li>\n\t<li>'NLSstLfAsymptote'</li>\n\t<li>'NLSstRtAsymptote'</li>\n\t<li>'occupationalStatus'</li>\n\t<li>'OlsonNames'</li>\n\t<li>'panel_cols'</li>\n\t<li>'residuals'</li>\n\t<li>'residuals.glm'</li>\n\t<li>'residuals.lm'</li>\n\t<li>'restartFormals'</li>\n\t<li>'seals'</li>\n\t<li>'symbols'</li>\n\t<li>'sys.calls'</li>\n\t<li>'update_labels'</li>\n\t<li>'weighted.residuals'</li>\n</ol>\n",
            "text/latex": "\\begin{enumerate*}\n\\item '.\\_\\_C\\_\\_data.frameRowLabels'\n\\item '.colSums'\n\\item '.getXlevels'\n\\item '.signalSimpleWarning'\n\\item 'ar.ols'\n\\item 'co.intervals'\n\\item 'colSums'\n\\item 'de.ncols'\n\\item 'densCols'\n\\item 'droplevels'\n\\item 'droplevels.data.frame'\n\\item 'droplevels.factor'\n\\item 'evalSource'\n\\item 'formals'\n\\item 'formals<-'\n\\item 'getAllSuperClasses'\n\\item 'getLoadedDLLs'\n\\item 'ifelse'\n\\item 'labels'\n\\item 'labels.default'\n\\item 'levels'\n\\item 'levels.default'\n\\item 'levels<-'\n\\item 'levels<-.factor'\n\\item 'limitedLabels'\n\\item 'ls'\n\\item 'ls.diag'\n\\item 'ls.print'\n\\item 'ls.str'\n\\item 'lsf.str'\n\\item 'lsfit'\n\\item 'nlevels'\n\\item 'nls'\n\\item 'nls.control'\n\\item 'NLSstAsymptotic'\n\\item 'NLSstClosestX'\n\\item 'NLSstLfAsymptote'\n\\item 'NLSstRtAsymptote'\n\\item 'occupationalStatus'\n\\item 'OlsonNames'\n\\item 'panel\\_cols'\n\\item 'residuals'\n\\item 'residuals.glm'\n\\item 'residuals.lm'\n\\item 'restartFormals'\n\\item 'seals'\n\\item 'symbols'\n\\item 'sys.calls'\n\\item 'update\\_labels'\n\\item 'weighted.residuals'\n\\end{enumerate*}\n",
            "text/markdown": "1. '.__C__data.frameRowLabels'\n2. '.colSums'\n3. '.getXlevels'\n4. '.signalSimpleWarning'\n5. 'ar.ols'\n6. 'co.intervals'\n7. 'colSums'\n8. 'de.ncols'\n9. 'densCols'\n10. 'droplevels'\n11. 'droplevels.data.frame'\n12. 'droplevels.factor'\n13. 'evalSource'\n14. 'formals'\n15. 'formals&lt;-'\n16. 'getAllSuperClasses'\n17. 'getLoadedDLLs'\n18. 'ifelse'\n19. 'labels'\n20. 'labels.default'\n21. 'levels'\n22. 'levels.default'\n23. 'levels&lt;-'\n24. 'levels&lt;-.factor'\n25. 'limitedLabels'\n26. 'ls'\n27. 'ls.diag'\n28. 'ls.print'\n29. 'ls.str'\n30. 'lsf.str'\n31. 'lsfit'\n32. 'nlevels'\n33. 'nls'\n34. 'nls.control'\n35. 'NLSstAsymptotic'\n36. 'NLSstClosestX'\n37. 'NLSstLfAsymptote'\n38. 'NLSstRtAsymptote'\n39. 'occupationalStatus'\n40. 'OlsonNames'\n41. 'panel_cols'\n42. 'residuals'\n43. 'residuals.glm'\n44. 'residuals.lm'\n45. 'restartFormals'\n46. 'seals'\n47. 'symbols'\n48. 'sys.calls'\n49. 'update_labels'\n50. 'weighted.residuals'\n\n\n",
            "text/plain": " [1] \".__C__data.frameRowLabels\" \".colSums\"                 \n [3] \".getXlevels\"               \".signalSimpleWarning\"     \n [5] \"ar.ols\"                    \"co.intervals\"             \n [7] \"colSums\"                   \"de.ncols\"                 \n [9] \"densCols\"                  \"droplevels\"               \n[11] \"droplevels.data.frame\"     \"droplevels.factor\"        \n[13] \"evalSource\"                \"formals\"                  \n[15] \"formals<-\"                 \"getAllSuperClasses\"       \n[17] \"getLoadedDLLs\"             \"ifelse\"                   \n[19] \"labels\"                    \"labels.default\"           \n[21] \"levels\"                    \"levels.default\"           \n[23] \"levels<-\"                  \"levels<-.factor\"          \n[25] \"limitedLabels\"             \"ls\"                       \n[27] \"ls.diag\"                   \"ls.print\"                 \n[29] \"ls.str\"                    \"lsf.str\"                  \n[31] \"lsfit\"                     \"nlevels\"                  \n[33] \"nls\"                       \"nls.control\"              \n[35] \"NLSstAsymptotic\"           \"NLSstClosestX\"            \n[37] \"NLSstLfAsymptote\"          \"NLSstRtAsymptote\"         \n[39] \"occupationalStatus\"        \"OlsonNames\"               \n[41] \"panel_cols\"                \"residuals\"                \n[43] \"residuals.glm\"             \"residuals.lm\"             \n[45] \"restartFormals\"            \"seals\"                    \n[47] \"symbols\"                   \"sys.calls\"                \n[49] \"update_labels\"             \"weighted.residuals\"       "
          },
          "metadata": {},
          "output_type": "display_data"
        }
      ]
    },
    {
      "metadata": {
        "run_control": {
          "frozen": false,
          "read_only": false
        },
        "trusted": false
      },
      "cell_type": "code",
      "source": "apropos(\"qp\")\n?qplot\n?qqplot",
      "execution_count": 17,
      "outputs": [
        {
          "data": {
            "text/html": "<ol class=list-inline>\n\t<li>'geom_freqpoly'</li>\n\t<li>'qplot'</li>\n\t<li>'qpois'</li>\n\t<li>'qqplot'</li>\n</ol>\n",
            "text/latex": "\\begin{enumerate*}\n\\item 'geom\\_freqpoly'\n\\item 'qplot'\n\\item 'qpois'\n\\item 'qqplot'\n\\end{enumerate*}\n",
            "text/markdown": "1. 'geom_freqpoly'\n2. 'qplot'\n3. 'qpois'\n4. 'qqplot'\n\n\n",
            "text/plain": "[1] \"geom_freqpoly\" \"qplot\"         \"qpois\"         \"qqplot\"       "
          },
          "metadata": {},
          "output_type": "display_data"
        }
      ]
    },
    {
      "metadata": {},
      "cell_type": "markdown",
      "source": "### `package ? <pckg name>`  \nDetails about package  "
    },
    {
      "metadata": {
        "trusted": true
      },
      "cell_type": "code",
      "source": "package ? ggplot2 # details about the package without using library but the package should be installed into our system  ",
      "execution_count": null,
      "outputs": []
    },
    {
      "metadata": {},
      "cell_type": "markdown",
      "source": "`package ? stringr `\n```{r} \nError in `?`(package, stringr): no documentation of type ‘package’ and topic ‘stringr’ (or error in processing help)\nTraceback:\n\n1. `?`(package, stringr)\n2. stop(gettextf(\"no documentation of type %s and topic %s (or error in processing help)\", \n .     sQuote(type), sQuote(topicExpr)), domain = NA)\n```"
    },
    {
      "metadata": {
        "trusted": true
      },
      "cell_type": "code",
      "source": "install.packages('stringr')",
      "execution_count": 7,
      "outputs": [
        {
          "output_type": "stream",
          "text": "Installing package into ‘/home/nbuser/R’\n(as ‘lib’ is unspecified)\n",
          "name": "stderr"
        }
      ]
    },
    {
      "metadata": {
        "trusted": true
      },
      "cell_type": "code",
      "source": "package ? stringr",
      "execution_count": 8,
      "outputs": []
    },
    {
      "metadata": {},
      "cell_type": "markdown",
      "source": "### `library(help='<pckg name>')`"
    },
    {
      "metadata": {
        "trusted": true
      },
      "cell_type": "code",
      "source": "library(help='ggplot2')",
      "execution_count": 9,
      "outputs": []
    },
    {
      "metadata": {
        "trusted": true
      },
      "cell_type": "code",
      "source": "library(help='stringr')",
      "execution_count": 11,
      "outputs": []
    },
    {
      "metadata": {},
      "cell_type": "markdown",
      "source": "### `ls()` or `objects() `  \nls and objects return a vector of character strings giving the names of the objects in the specified environment.  "
    },
    {
      "metadata": {},
      "cell_type": "markdown",
      "source": "```{r}\n#without loading ggplot2 package into current session (gives an error)  \n```\n`ls(\"package:ggplot2\")`\n```{r}\nError in as.environment(pos): no item called \"package:ggplot2\" on the search list\nTraceback:\n\n1. ls(\"package:ggplot2\")\n```"
    },
    {
      "metadata": {
        "run_control": {
          "frozen": false,
          "read_only": false
        },
        "trusted": false
      },
      "cell_type": "code",
      "source": "library(ggplot2) # loading package into current session\n\nls(\"package:ggplot2\") # list out the objects present in ggplot2\n# or\nhead(objects(\"package:ggplot2\"))",
      "execution_count": 18,
      "outputs": [
        {
          "data": {
            "text/html": "<ol class=list-inline>\n\t<li>'%+%'</li>\n\t<li>'%+replace%'</li>\n\t<li>'aes'</li>\n\t<li>'aes_'</li>\n\t<li>'aes_all'</li>\n\t<li>'aes_auto'</li>\n\t<li>'aes_q'</li>\n\t<li>'aes_string'</li>\n\t<li>'alpha'</li>\n\t<li>'annotate'</li>\n\t<li>'annotation_custom'</li>\n\t<li>'annotation_logticks'</li>\n\t<li>'annotation_map'</li>\n\t<li>'annotation_raster'</li>\n\t<li>'arrow'</li>\n\t<li>'as_labeller'</li>\n\t<li>'autoplot'</li>\n\t<li>'AxisSecondary'</li>\n\t<li>'benchplot'</li>\n\t<li>'borders'</li>\n\t<li>'calc_element'</li>\n\t<li>'combine_vars'</li>\n\t<li>'continuous_scale'</li>\n\t<li>'Coord'</li>\n\t<li>'coord_cartesian'</li>\n\t<li>'coord_equal'</li>\n\t<li>'coord_fixed'</li>\n\t<li>'coord_flip'</li>\n\t<li>'coord_map'</li>\n\t<li>'coord_munch'</li>\n\t<li>'coord_polar'</li>\n\t<li>'coord_quickmap'</li>\n\t<li>'coord_trans'</li>\n\t<li>'CoordCartesian'</li>\n\t<li>'CoordFixed'</li>\n\t<li>'CoordFlip'</li>\n\t<li>'CoordMap'</li>\n\t<li>'CoordPolar'</li>\n\t<li>'CoordQuickmap'</li>\n\t<li>'CoordTrans'</li>\n\t<li>'cut_interval'</li>\n\t<li>'cut_number'</li>\n\t<li>'cut_width'</li>\n\t<li>'derive'</li>\n\t<li>'diamonds'</li>\n\t<li>'discrete_scale'</li>\n\t<li>'draw_key_abline'</li>\n\t<li>'draw_key_blank'</li>\n\t<li>'draw_key_boxplot'</li>\n\t<li>'draw_key_crossbar'</li>\n\t<li>'draw_key_dotplot'</li>\n\t<li>'draw_key_label'</li>\n\t<li>'draw_key_path'</li>\n\t<li>'draw_key_point'</li>\n\t<li>'draw_key_pointrange'</li>\n\t<li>'draw_key_polygon'</li>\n\t<li>'draw_key_rect'</li>\n\t<li>'draw_key_smooth'</li>\n\t<li>'draw_key_text'</li>\n\t<li>'draw_key_vline'</li>\n\t<li>'draw_key_vpath'</li>\n\t<li>'dup_axis'</li>\n\t<li>'economics'</li>\n\t<li>'economics_long'</li>\n\t<li>'element_blank'</li>\n\t<li>'element_grob'</li>\n\t<li>'element_line'</li>\n\t<li>'element_rect'</li>\n\t<li>'element_text'</li>\n\t<li>'expand_limits'</li>\n\t<li>'Facet'</li>\n\t<li>'facet_grid'</li>\n\t<li>'facet_null'</li>\n\t<li>'facet_wrap'</li>\n\t<li>'FacetGrid'</li>\n\t<li>'FacetNull'</li>\n\t<li>'FacetWrap'</li>\n\t<li>'faithfuld'</li>\n\t<li>'find_panel'</li>\n\t<li>'fortify'</li>\n\t<li>'Geom'</li>\n\t<li>'geom_abline'</li>\n\t<li>'geom_area'</li>\n\t<li>'geom_bar'</li>\n\t<li>'geom_bin2d'</li>\n\t<li>'geom_blank'</li>\n\t<li>'geom_boxplot'</li>\n\t<li>'geom_col'</li>\n\t<li>'geom_contour'</li>\n\t<li>'geom_count'</li>\n\t<li>'geom_crossbar'</li>\n\t<li>'geom_curve'</li>\n\t<li>'geom_density'</li>\n\t<li>'geom_density_2d'</li>\n\t<li>'geom_density2d'</li>\n\t<li>'geom_dotplot'</li>\n\t<li>'geom_errorbar'</li>\n\t<li>'geom_errorbarh'</li>\n\t<li>'geom_freqpoly'</li>\n\t<li>'geom_hex'</li>\n\t<li>'geom_histogram'</li>\n\t<li>'geom_hline'</li>\n\t<li>'geom_jitter'</li>\n\t<li>'geom_label'</li>\n\t<li>'geom_line'</li>\n\t<li>'geom_linerange'</li>\n\t<li>'geom_map'</li>\n\t<li>'geom_path'</li>\n\t<li>'geom_point'</li>\n\t<li>'geom_pointrange'</li>\n\t<li>'geom_polygon'</li>\n\t<li>'geom_qq'</li>\n\t<li>'geom_quantile'</li>\n\t<li>'geom_raster'</li>\n\t<li>'geom_rect'</li>\n\t<li>'geom_ribbon'</li>\n\t<li>'geom_rug'</li>\n\t<li>'geom_segment'</li>\n\t<li>'geom_smooth'</li>\n\t<li>'geom_spoke'</li>\n\t<li>'geom_step'</li>\n\t<li>'geom_text'</li>\n\t<li>'geom_tile'</li>\n\t<li>'geom_violin'</li>\n\t<li>'geom_vline'</li>\n\t<li>'GeomAbline'</li>\n\t<li>'GeomAnnotationMap'</li>\n\t<li>'GeomArea'</li>\n\t<li>'GeomBar'</li>\n\t<li>'GeomBlank'</li>\n\t<li>'GeomBoxplot'</li>\n\t<li>'GeomCol'</li>\n\t<li>'GeomContour'</li>\n\t<li>'GeomCrossbar'</li>\n\t<li>'GeomCurve'</li>\n\t<li>'GeomCustomAnn'</li>\n\t<li>'GeomDensity'</li>\n\t<li>'GeomDensity2d'</li>\n\t<li>'GeomDotplot'</li>\n\t<li>'GeomErrorbar'</li>\n\t<li>'GeomErrorbarh'</li>\n\t<li>'GeomHex'</li>\n\t<li>'GeomHline'</li>\n\t<li>'GeomLabel'</li>\n\t<li>'GeomLine'</li>\n\t<li>'GeomLinerange'</li>\n\t<li>'GeomLogticks'</li>\n\t<li>'GeomMap'</li>\n\t<li>'GeomPath'</li>\n\t<li>'GeomPoint'</li>\n\t<li>'GeomPointrange'</li>\n\t<li>'GeomPolygon'</li>\n\t<li>'GeomQuantile'</li>\n\t<li>'GeomRaster'</li>\n\t<li>'GeomRasterAnn'</li>\n\t<li>'GeomRect'</li>\n\t<li>'GeomRibbon'</li>\n\t<li>'GeomRug'</li>\n\t<li>'GeomSegment'</li>\n\t<li>'GeomSmooth'</li>\n\t<li>'GeomSpoke'</li>\n\t<li>'GeomStep'</li>\n\t<li>'GeomText'</li>\n\t<li>'GeomTile'</li>\n\t<li>'GeomViolin'</li>\n\t<li>'GeomVline'</li>\n\t<li>'gg_dep'</li>\n\t<li>'ggplot'</li>\n\t<li>'ggplot_build'</li>\n\t<li>'ggplot_gtable'</li>\n\t<li>'ggplotGrob'</li>\n\t<li>'ggproto'</li>\n\t<li>'ggproto_parent'</li>\n\t<li>'ggsave'</li>\n\t<li>'ggtitle'</li>\n\t<li>'guide_colorbar'</li>\n\t<li>'guide_colourbar'</li>\n\t<li>'guide_legend'</li>\n\t<li>'guides'</li>\n\t<li>'is.Coord'</li>\n\t<li>'is.facet'</li>\n\t<li>'is.ggplot'</li>\n\t<li>'is.ggproto'</li>\n\t<li>'is.theme'</li>\n\t<li>'label_both'</li>\n\t<li>'label_bquote'</li>\n\t<li>'label_context'</li>\n\t<li>'label_parsed'</li>\n\t<li>'label_value'</li>\n\t<li>'label_wrap_gen'</li>\n\t<li>'labeller'</li>\n\t<li>'labs'</li>\n\t<li>'last_plot'</li>\n\t<li>'layer'</li>\n\t<li>'layer_data'</li>\n\t<li>'layer_grob'</li>\n\t<li>'layer_scales'</li>\n\t<li>'lims'</li>\n\t<li>'luv_colours'</li>\n\t<li>'map_data'</li>\n\t<li>'margin'</li>\n\t<li>'max_height'</li>\n\t<li>'max_width'</li>\n\t<li>'mean_cl_boot'</li>\n\t<li>'mean_cl_normal'</li>\n\t<li>'mean_sdl'</li>\n\t<li>'mean_se'</li>\n\t<li>'median_hilow'</li>\n\t<li>'midwest'</li>\n\t<li>'mpg'</li>\n\t<li>'msleep'</li>\n\t<li>'panel_cols'</li>\n\t<li>'panel_rows'</li>\n\t<li>'Position'</li>\n\t<li>'position_dodge'</li>\n\t<li>'position_fill'</li>\n\t<li>'position_identity'</li>\n\t<li>'position_jitter'</li>\n\t<li>'position_jitterdodge'</li>\n\t<li>'position_nudge'</li>\n\t<li>'position_stack'</li>\n\t<li>'PositionDodge'</li>\n\t<li>'PositionFill'</li>\n\t<li>'PositionIdentity'</li>\n\t<li>'PositionJitter'</li>\n\t<li>'PositionJitterdodge'</li>\n\t<li>'PositionNudge'</li>\n\t<li>'PositionStack'</li>\n\t<li>'presidential'</li>\n\t<li>'qplot'</li>\n\t<li>'quickplot'</li>\n\t<li>'rel'</li>\n\t<li>'remove_missing'</li>\n\t<li>'render_axes'</li>\n\t<li>'render_strips'</li>\n\t<li>'resolution'</li>\n\t<li>'Scale'</li>\n\t<li>'scale_alpha'</li>\n\t<li>'scale_alpha_continuous'</li>\n\t<li>'scale_alpha_discrete'</li>\n\t<li>'scale_alpha_identity'</li>\n\t<li>'scale_alpha_manual'</li>\n\t<li>'scale_color_brewer'</li>\n\t<li>'scale_color_continuous'</li>\n\t<li>'scale_color_discrete'</li>\n\t<li>'scale_color_distiller'</li>\n\t<li>'scale_color_gradient'</li>\n\t<li>'scale_color_gradient2'</li>\n\t<li>'scale_color_gradientn'</li>\n\t<li>'scale_color_grey'</li>\n\t<li>'scale_color_hue'</li>\n\t<li>'scale_color_identity'</li>\n\t<li>'scale_color_manual'</li>\n\t<li>'scale_colour_brewer'</li>\n\t<li>'scale_colour_continuous'</li>\n\t<li>'scale_colour_date'</li>\n\t<li>'scale_colour_datetime'</li>\n\t<li>'scale_colour_discrete'</li>\n\t<li>'scale_colour_distiller'</li>\n\t<li>'scale_colour_gradient'</li>\n\t<li>'scale_colour_gradient2'</li>\n\t<li>'scale_colour_gradientn'</li>\n\t<li>'scale_colour_grey'</li>\n\t<li>'scale_colour_hue'</li>\n\t<li>'scale_colour_identity'</li>\n\t<li>'scale_colour_manual'</li>\n\t<li>'scale_fill_brewer'</li>\n\t<li>'scale_fill_continuous'</li>\n\t<li>'scale_fill_date'</li>\n\t<li>'scale_fill_datetime'</li>\n\t<li>'scale_fill_discrete'</li>\n\t<li>'scale_fill_distiller'</li>\n\t<li>'scale_fill_gradient'</li>\n\t<li>'scale_fill_gradient2'</li>\n\t<li>'scale_fill_gradientn'</li>\n\t<li>'scale_fill_grey'</li>\n\t<li>'scale_fill_hue'</li>\n\t<li>'scale_fill_identity'</li>\n\t<li>'scale_fill_manual'</li>\n\t<li>'scale_linetype'</li>\n\t<li>'scale_linetype_continuous'</li>\n\t<li>'scale_linetype_discrete'</li>\n\t<li>'scale_linetype_identity'</li>\n\t<li>'scale_linetype_manual'</li>\n\t<li>'scale_radius'</li>\n\t<li>'scale_shape'</li>\n\t<li>'scale_shape_continuous'</li>\n\t<li>'scale_shape_discrete'</li>\n\t<li>'scale_shape_identity'</li>\n\t<li>'scale_shape_manual'</li>\n\t<li>'scale_size'</li>\n\t<li>'scale_size_area'</li>\n\t<li>'scale_size_continuous'</li>\n\t<li>'scale_size_date'</li>\n\t<li>'scale_size_datetime'</li>\n\t<li>'scale_size_discrete'</li>\n\t<li>'scale_size_identity'</li>\n\t<li>'scale_size_manual'</li>\n\t<li>'scale_x_continuous'</li>\n\t<li>'scale_x_date'</li>\n\t<li>'scale_x_datetime'</li>\n\t<li>'scale_x_discrete'</li>\n\t<li>'scale_x_log10'</li>\n\t<li>'scale_x_reverse'</li>\n\t<li>'scale_x_sqrt'</li>\n\t<li>'scale_x_time'</li>\n\t<li>'scale_y_continuous'</li>\n\t<li>'scale_y_date'</li>\n\t<li>'scale_y_datetime'</li>\n\t<li>'scale_y_discrete'</li>\n\t<li>'scale_y_log10'</li>\n\t<li>'scale_y_reverse'</li>\n\t<li>'scale_y_sqrt'</li>\n\t<li>'scale_y_time'</li>\n\t<li>'ScaleContinuous'</li>\n\t<li>'ScaleContinuousDate'</li>\n\t<li>'ScaleContinuousDatetime'</li>\n\t<li>'ScaleContinuousIdentity'</li>\n\t<li>'ScaleContinuousPosition'</li>\n\t<li>'ScaleDiscrete'</li>\n\t<li>'ScaleDiscreteIdentity'</li>\n\t<li>'ScaleDiscretePosition'</li>\n\t<li>'seals'</li>\n\t<li>'sec_axis'</li>\n\t<li>'should_stop'</li>\n\t<li>'Stat'</li>\n\t<li>'stat_bin'</li>\n\t<li>'stat_bin_2d'</li>\n\t<li>'stat_bin_hex'</li>\n\t<li>'stat_bin2d'</li>\n\t<li>'stat_binhex'</li>\n\t<li>'stat_boxplot'</li>\n\t<li>'stat_contour'</li>\n\t<li>'stat_count'</li>\n\t<li>'stat_density'</li>\n\t<li>'stat_density_2d'</li>\n\t<li>'stat_density2d'</li>\n\t<li>'stat_ecdf'</li>\n\t<li>'stat_ellipse'</li>\n\t<li>'stat_function'</li>\n\t<li>'stat_identity'</li>\n\t<li>'stat_qq'</li>\n\t<li>'stat_quantile'</li>\n\t<li>'stat_smooth'</li>\n\t<li>'stat_spoke'</li>\n\t<li>'stat_sum'</li>\n\t<li>'stat_summary'</li>\n\t<li>'stat_summary_2d'</li>\n\t<li>'stat_summary_bin'</li>\n\t<li>'stat_summary_hex'</li>\n\t<li>'stat_summary2d'</li>\n\t<li>'stat_unique'</li>\n\t<li>'stat_ydensity'</li>\n\t<li>'StatBin'</li>\n\t<li>'StatBin2d'</li>\n\t<li>'StatBindot'</li>\n\t<li>'StatBinhex'</li>\n\t<li>'StatBoxplot'</li>\n\t<li>'StatContour'</li>\n\t<li>'StatCount'</li>\n\t<li>'StatDensity'</li>\n\t<li>'StatDensity2d'</li>\n\t<li>'StatEcdf'</li>\n\t<li>'StatEllipse'</li>\n\t<li>'StatFunction'</li>\n\t<li>'StatIdentity'</li>\n\t<li>'StatQq'</li>\n\t<li>'StatQuantile'</li>\n\t<li>'StatSmooth'</li>\n\t<li>'StatSum'</li>\n\t<li>'StatSummary'</li>\n\t<li>'StatSummary2d'</li>\n\t<li>'StatSummaryBin'</li>\n\t<li>'StatSummaryHex'</li>\n\t<li>'StatUnique'</li>\n\t<li>'StatYdensity'</li>\n\t<li>'theme'</li>\n\t<li>'theme_bw'</li>\n\t<li>'theme_classic'</li>\n\t<li>'theme_dark'</li>\n\t<li>'theme_get'</li>\n\t<li>'theme_gray'</li>\n\t<li>'theme_grey'</li>\n\t<li>'theme_light'</li>\n\t<li>'theme_linedraw'</li>\n\t<li>'theme_minimal'</li>\n\t<li>'theme_replace'</li>\n\t<li>'theme_set'</li>\n\t<li>'theme_update'</li>\n\t<li>'theme_void'</li>\n\t<li>'transform_position'</li>\n\t<li>'txhousing'</li>\n\t<li>'unit'</li>\n\t<li>'update_geom_defaults'</li>\n\t<li>'update_labels'</li>\n\t<li>'update_stat_defaults'</li>\n\t<li>'waiver'</li>\n\t<li>'wrap_dims'</li>\n\t<li>'xlab'</li>\n\t<li>'xlim'</li>\n\t<li>'ylab'</li>\n\t<li>'ylim'</li>\n\t<li>'zeroGrob'</li>\n</ol>\n",
            "text/latex": "\\begin{enumerate*}\n\\item '\\%+\\%'\n\\item '\\%+replace\\%'\n\\item 'aes'\n\\item 'aes\\_'\n\\item 'aes\\_all'\n\\item 'aes\\_auto'\n\\item 'aes\\_q'\n\\item 'aes\\_string'\n\\item 'alpha'\n\\item 'annotate'\n\\item 'annotation\\_custom'\n\\item 'annotation\\_logticks'\n\\item 'annotation\\_map'\n\\item 'annotation\\_raster'\n\\item 'arrow'\n\\item 'as\\_labeller'\n\\item 'autoplot'\n\\item 'AxisSecondary'\n\\item 'benchplot'\n\\item 'borders'\n\\item 'calc\\_element'\n\\item 'combine\\_vars'\n\\item 'continuous\\_scale'\n\\item 'Coord'\n\\item 'coord\\_cartesian'\n\\item 'coord\\_equal'\n\\item 'coord\\_fixed'\n\\item 'coord\\_flip'\n\\item 'coord\\_map'\n\\item 'coord\\_munch'\n\\item 'coord\\_polar'\n\\item 'coord\\_quickmap'\n\\item 'coord\\_trans'\n\\item 'CoordCartesian'\n\\item 'CoordFixed'\n\\item 'CoordFlip'\n\\item 'CoordMap'\n\\item 'CoordPolar'\n\\item 'CoordQuickmap'\n\\item 'CoordTrans'\n\\item 'cut\\_interval'\n\\item 'cut\\_number'\n\\item 'cut\\_width'\n\\item 'derive'\n\\item 'diamonds'\n\\item 'discrete\\_scale'\n\\item 'draw\\_key\\_abline'\n\\item 'draw\\_key\\_blank'\n\\item 'draw\\_key\\_boxplot'\n\\item 'draw\\_key\\_crossbar'\n\\item 'draw\\_key\\_dotplot'\n\\item 'draw\\_key\\_label'\n\\item 'draw\\_key\\_path'\n\\item 'draw\\_key\\_point'\n\\item 'draw\\_key\\_pointrange'\n\\item 'draw\\_key\\_polygon'\n\\item 'draw\\_key\\_rect'\n\\item 'draw\\_key\\_smooth'\n\\item 'draw\\_key\\_text'\n\\item 'draw\\_key\\_vline'\n\\item 'draw\\_key\\_vpath'\n\\item 'dup\\_axis'\n\\item 'economics'\n\\item 'economics\\_long'\n\\item 'element\\_blank'\n\\item 'element\\_grob'\n\\item 'element\\_line'\n\\item 'element\\_rect'\n\\item 'element\\_text'\n\\item 'expand\\_limits'\n\\item 'Facet'\n\\item 'facet\\_grid'\n\\item 'facet\\_null'\n\\item 'facet\\_wrap'\n\\item 'FacetGrid'\n\\item 'FacetNull'\n\\item 'FacetWrap'\n\\item 'faithfuld'\n\\item 'find\\_panel'\n\\item 'fortify'\n\\item 'Geom'\n\\item 'geom\\_abline'\n\\item 'geom\\_area'\n\\item 'geom\\_bar'\n\\item 'geom\\_bin2d'\n\\item 'geom\\_blank'\n\\item 'geom\\_boxplot'\n\\item 'geom\\_col'\n\\item 'geom\\_contour'\n\\item 'geom\\_count'\n\\item 'geom\\_crossbar'\n\\item 'geom\\_curve'\n\\item 'geom\\_density'\n\\item 'geom\\_density\\_2d'\n\\item 'geom\\_density2d'\n\\item 'geom\\_dotplot'\n\\item 'geom\\_errorbar'\n\\item 'geom\\_errorbarh'\n\\item 'geom\\_freqpoly'\n\\item 'geom\\_hex'\n\\item 'geom\\_histogram'\n\\item 'geom\\_hline'\n\\item 'geom\\_jitter'\n\\item 'geom\\_label'\n\\item 'geom\\_line'\n\\item 'geom\\_linerange'\n\\item 'geom\\_map'\n\\item 'geom\\_path'\n\\item 'geom\\_point'\n\\item 'geom\\_pointrange'\n\\item 'geom\\_polygon'\n\\item 'geom\\_qq'\n\\item 'geom\\_quantile'\n\\item 'geom\\_raster'\n\\item 'geom\\_rect'\n\\item 'geom\\_ribbon'\n\\item 'geom\\_rug'\n\\item 'geom\\_segment'\n\\item 'geom\\_smooth'\n\\item 'geom\\_spoke'\n\\item 'geom\\_step'\n\\item 'geom\\_text'\n\\item 'geom\\_tile'\n\\item 'geom\\_violin'\n\\item 'geom\\_vline'\n\\item 'GeomAbline'\n\\item 'GeomAnnotationMap'\n\\item 'GeomArea'\n\\item 'GeomBar'\n\\item 'GeomBlank'\n\\item 'GeomBoxplot'\n\\item 'GeomCol'\n\\item 'GeomContour'\n\\item 'GeomCrossbar'\n\\item 'GeomCurve'\n\\item 'GeomCustomAnn'\n\\item 'GeomDensity'\n\\item 'GeomDensity2d'\n\\item 'GeomDotplot'\n\\item 'GeomErrorbar'\n\\item 'GeomErrorbarh'\n\\item 'GeomHex'\n\\item 'GeomHline'\n\\item 'GeomLabel'\n\\item 'GeomLine'\n\\item 'GeomLinerange'\n\\item 'GeomLogticks'\n\\item 'GeomMap'\n\\item 'GeomPath'\n\\item 'GeomPoint'\n\\item 'GeomPointrange'\n\\item 'GeomPolygon'\n\\item 'GeomQuantile'\n\\item 'GeomRaster'\n\\item 'GeomRasterAnn'\n\\item 'GeomRect'\n\\item 'GeomRibbon'\n\\item 'GeomRug'\n\\item 'GeomSegment'\n\\item 'GeomSmooth'\n\\item 'GeomSpoke'\n\\item 'GeomStep'\n\\item 'GeomText'\n\\item 'GeomTile'\n\\item 'GeomViolin'\n\\item 'GeomVline'\n\\item 'gg\\_dep'\n\\item 'ggplot'\n\\item 'ggplot\\_build'\n\\item 'ggplot\\_gtable'\n\\item 'ggplotGrob'\n\\item 'ggproto'\n\\item 'ggproto\\_parent'\n\\item 'ggsave'\n\\item 'ggtitle'\n\\item 'guide\\_colorbar'\n\\item 'guide\\_colourbar'\n\\item 'guide\\_legend'\n\\item 'guides'\n\\item 'is.Coord'\n\\item 'is.facet'\n\\item 'is.ggplot'\n\\item 'is.ggproto'\n\\item 'is.theme'\n\\item 'label\\_both'\n\\item 'label\\_bquote'\n\\item 'label\\_context'\n\\item 'label\\_parsed'\n\\item 'label\\_value'\n\\item 'label\\_wrap\\_gen'\n\\item 'labeller'\n\\item 'labs'\n\\item 'last\\_plot'\n\\item 'layer'\n\\item 'layer\\_data'\n\\item 'layer\\_grob'\n\\item 'layer\\_scales'\n\\item 'lims'\n\\item 'luv\\_colours'\n\\item 'map\\_data'\n\\item 'margin'\n\\item 'max\\_height'\n\\item 'max\\_width'\n\\item 'mean\\_cl\\_boot'\n\\item 'mean\\_cl\\_normal'\n\\item 'mean\\_sdl'\n\\item 'mean\\_se'\n\\item 'median\\_hilow'\n\\item 'midwest'\n\\item 'mpg'\n\\item 'msleep'\n\\item 'panel\\_cols'\n\\item 'panel\\_rows'\n\\item 'Position'\n\\item 'position\\_dodge'\n\\item 'position\\_fill'\n\\item 'position\\_identity'\n\\item 'position\\_jitter'\n\\item 'position\\_jitterdodge'\n\\item 'position\\_nudge'\n\\item 'position\\_stack'\n\\item 'PositionDodge'\n\\item 'PositionFill'\n\\item 'PositionIdentity'\n\\item 'PositionJitter'\n\\item 'PositionJitterdodge'\n\\item 'PositionNudge'\n\\item 'PositionStack'\n\\item 'presidential'\n\\item 'qplot'\n\\item 'quickplot'\n\\item 'rel'\n\\item 'remove\\_missing'\n\\item 'render\\_axes'\n\\item 'render\\_strips'\n\\item 'resolution'\n\\item 'Scale'\n\\item 'scale\\_alpha'\n\\item 'scale\\_alpha\\_continuous'\n\\item 'scale\\_alpha\\_discrete'\n\\item 'scale\\_alpha\\_identity'\n\\item 'scale\\_alpha\\_manual'\n\\item 'scale\\_color\\_brewer'\n\\item 'scale\\_color\\_continuous'\n\\item 'scale\\_color\\_discrete'\n\\item 'scale\\_color\\_distiller'\n\\item 'scale\\_color\\_gradient'\n\\item 'scale\\_color\\_gradient2'\n\\item 'scale\\_color\\_gradientn'\n\\item 'scale\\_color\\_grey'\n\\item 'scale\\_color\\_hue'\n\\item 'scale\\_color\\_identity'\n\\item 'scale\\_color\\_manual'\n\\item 'scale\\_colour\\_brewer'\n\\item 'scale\\_colour\\_continuous'\n\\item 'scale\\_colour\\_date'\n\\item 'scale\\_colour\\_datetime'\n\\item 'scale\\_colour\\_discrete'\n\\item 'scale\\_colour\\_distiller'\n\\item 'scale\\_colour\\_gradient'\n\\item 'scale\\_colour\\_gradient2'\n\\item 'scale\\_colour\\_gradientn'\n\\item 'scale\\_colour\\_grey'\n\\item 'scale\\_colour\\_hue'\n\\item 'scale\\_colour\\_identity'\n\\item 'scale\\_colour\\_manual'\n\\item 'scale\\_fill\\_brewer'\n\\item 'scale\\_fill\\_continuous'\n\\item 'scale\\_fill\\_date'\n\\item 'scale\\_fill\\_datetime'\n\\item 'scale\\_fill\\_discrete'\n\\item 'scale\\_fill\\_distiller'\n\\item 'scale\\_fill\\_gradient'\n\\item 'scale\\_fill\\_gradient2'\n\\item 'scale\\_fill\\_gradientn'\n\\item 'scale\\_fill\\_grey'\n\\item 'scale\\_fill\\_hue'\n\\item 'scale\\_fill\\_identity'\n\\item 'scale\\_fill\\_manual'\n\\item 'scale\\_linetype'\n\\item 'scale\\_linetype\\_continuous'\n\\item 'scale\\_linetype\\_discrete'\n\\item 'scale\\_linetype\\_identity'\n\\item 'scale\\_linetype\\_manual'\n\\item 'scale\\_radius'\n\\item 'scale\\_shape'\n\\item 'scale\\_shape\\_continuous'\n\\item 'scale\\_shape\\_discrete'\n\\item 'scale\\_shape\\_identity'\n\\item 'scale\\_shape\\_manual'\n\\item 'scale\\_size'\n\\item 'scale\\_size\\_area'\n\\item 'scale\\_size\\_continuous'\n\\item 'scale\\_size\\_date'\n\\item 'scale\\_size\\_datetime'\n\\item 'scale\\_size\\_discrete'\n\\item 'scale\\_size\\_identity'\n\\item 'scale\\_size\\_manual'\n\\item 'scale\\_x\\_continuous'\n\\item 'scale\\_x\\_date'\n\\item 'scale\\_x\\_datetime'\n\\item 'scale\\_x\\_discrete'\n\\item 'scale\\_x\\_log10'\n\\item 'scale\\_x\\_reverse'\n\\item 'scale\\_x\\_sqrt'\n\\item 'scale\\_x\\_time'\n\\item 'scale\\_y\\_continuous'\n\\item 'scale\\_y\\_date'\n\\item 'scale\\_y\\_datetime'\n\\item 'scale\\_y\\_discrete'\n\\item 'scale\\_y\\_log10'\n\\item 'scale\\_y\\_reverse'\n\\item 'scale\\_y\\_sqrt'\n\\item 'scale\\_y\\_time'\n\\item 'ScaleContinuous'\n\\item 'ScaleContinuousDate'\n\\item 'ScaleContinuousDatetime'\n\\item 'ScaleContinuousIdentity'\n\\item 'ScaleContinuousPosition'\n\\item 'ScaleDiscrete'\n\\item 'ScaleDiscreteIdentity'\n\\item 'ScaleDiscretePosition'\n\\item 'seals'\n\\item 'sec\\_axis'\n\\item 'should\\_stop'\n\\item 'Stat'\n\\item 'stat\\_bin'\n\\item 'stat\\_bin\\_2d'\n\\item 'stat\\_bin\\_hex'\n\\item 'stat\\_bin2d'\n\\item 'stat\\_binhex'\n\\item 'stat\\_boxplot'\n\\item 'stat\\_contour'\n\\item 'stat\\_count'\n\\item 'stat\\_density'\n\\item 'stat\\_density\\_2d'\n\\item 'stat\\_density2d'\n\\item 'stat\\_ecdf'\n\\item 'stat\\_ellipse'\n\\item 'stat\\_function'\n\\item 'stat\\_identity'\n\\item 'stat\\_qq'\n\\item 'stat\\_quantile'\n\\item 'stat\\_smooth'\n\\item 'stat\\_spoke'\n\\item 'stat\\_sum'\n\\item 'stat\\_summary'\n\\item 'stat\\_summary\\_2d'\n\\item 'stat\\_summary\\_bin'\n\\item 'stat\\_summary\\_hex'\n\\item 'stat\\_summary2d'\n\\item 'stat\\_unique'\n\\item 'stat\\_ydensity'\n\\item 'StatBin'\n\\item 'StatBin2d'\n\\item 'StatBindot'\n\\item 'StatBinhex'\n\\item 'StatBoxplot'\n\\item 'StatContour'\n\\item 'StatCount'\n\\item 'StatDensity'\n\\item 'StatDensity2d'\n\\item 'StatEcdf'\n\\item 'StatEllipse'\n\\item 'StatFunction'\n\\item 'StatIdentity'\n\\item 'StatQq'\n\\item 'StatQuantile'\n\\item 'StatSmooth'\n\\item 'StatSum'\n\\item 'StatSummary'\n\\item 'StatSummary2d'\n\\item 'StatSummaryBin'\n\\item 'StatSummaryHex'\n\\item 'StatUnique'\n\\item 'StatYdensity'\n\\item 'theme'\n\\item 'theme\\_bw'\n\\item 'theme\\_classic'\n\\item 'theme\\_dark'\n\\item 'theme\\_get'\n\\item 'theme\\_gray'\n\\item 'theme\\_grey'\n\\item 'theme\\_light'\n\\item 'theme\\_linedraw'\n\\item 'theme\\_minimal'\n\\item 'theme\\_replace'\n\\item 'theme\\_set'\n\\item 'theme\\_update'\n\\item 'theme\\_void'\n\\item 'transform\\_position'\n\\item 'txhousing'\n\\item 'unit'\n\\item 'update\\_geom\\_defaults'\n\\item 'update\\_labels'\n\\item 'update\\_stat\\_defaults'\n\\item 'waiver'\n\\item 'wrap\\_dims'\n\\item 'xlab'\n\\item 'xlim'\n\\item 'ylab'\n\\item 'ylim'\n\\item 'zeroGrob'\n\\end{enumerate*}\n",
            "text/markdown": "1. '%+%'\n2. '%+replace%'\n3. 'aes'\n4. 'aes_'\n5. 'aes_all'\n6. 'aes_auto'\n7. 'aes_q'\n8. 'aes_string'\n9. 'alpha'\n10. 'annotate'\n11. 'annotation_custom'\n12. 'annotation_logticks'\n13. 'annotation_map'\n14. 'annotation_raster'\n15. 'arrow'\n16. 'as_labeller'\n17. 'autoplot'\n18. 'AxisSecondary'\n19. 'benchplot'\n20. 'borders'\n21. 'calc_element'\n22. 'combine_vars'\n23. 'continuous_scale'\n24. 'Coord'\n25. 'coord_cartesian'\n26. 'coord_equal'\n27. 'coord_fixed'\n28. 'coord_flip'\n29. 'coord_map'\n30. 'coord_munch'\n31. 'coord_polar'\n32. 'coord_quickmap'\n33. 'coord_trans'\n34. 'CoordCartesian'\n35. 'CoordFixed'\n36. 'CoordFlip'\n37. 'CoordMap'\n38. 'CoordPolar'\n39. 'CoordQuickmap'\n40. 'CoordTrans'\n41. 'cut_interval'\n42. 'cut_number'\n43. 'cut_width'\n44. 'derive'\n45. 'diamonds'\n46. 'discrete_scale'\n47. 'draw_key_abline'\n48. 'draw_key_blank'\n49. 'draw_key_boxplot'\n50. 'draw_key_crossbar'\n51. 'draw_key_dotplot'\n52. 'draw_key_label'\n53. 'draw_key_path'\n54. 'draw_key_point'\n55. 'draw_key_pointrange'\n56. 'draw_key_polygon'\n57. 'draw_key_rect'\n58. 'draw_key_smooth'\n59. 'draw_key_text'\n60. 'draw_key_vline'\n61. 'draw_key_vpath'\n62. 'dup_axis'\n63. 'economics'\n64. 'economics_long'\n65. 'element_blank'\n66. 'element_grob'\n67. 'element_line'\n68. 'element_rect'\n69. 'element_text'\n70. 'expand_limits'\n71. 'Facet'\n72. 'facet_grid'\n73. 'facet_null'\n74. 'facet_wrap'\n75. 'FacetGrid'\n76. 'FacetNull'\n77. 'FacetWrap'\n78. 'faithfuld'\n79. 'find_panel'\n80. 'fortify'\n81. 'Geom'\n82. 'geom_abline'\n83. 'geom_area'\n84. 'geom_bar'\n85. 'geom_bin2d'\n86. 'geom_blank'\n87. 'geom_boxplot'\n88. 'geom_col'\n89. 'geom_contour'\n90. 'geom_count'\n91. 'geom_crossbar'\n92. 'geom_curve'\n93. 'geom_density'\n94. 'geom_density_2d'\n95. 'geom_density2d'\n96. 'geom_dotplot'\n97. 'geom_errorbar'\n98. 'geom_errorbarh'\n99. 'geom_freqpoly'\n100. 'geom_hex'\n101. 'geom_histogram'\n102. 'geom_hline'\n103. 'geom_jitter'\n104. 'geom_label'\n105. 'geom_line'\n106. 'geom_linerange'\n107. 'geom_map'\n108. 'geom_path'\n109. 'geom_point'\n110. 'geom_pointrange'\n111. 'geom_polygon'\n112. 'geom_qq'\n113. 'geom_quantile'\n114. 'geom_raster'\n115. 'geom_rect'\n116. 'geom_ribbon'\n117. 'geom_rug'\n118. 'geom_segment'\n119. 'geom_smooth'\n120. 'geom_spoke'\n121. 'geom_step'\n122. 'geom_text'\n123. 'geom_tile'\n124. 'geom_violin'\n125. 'geom_vline'\n126. 'GeomAbline'\n127. 'GeomAnnotationMap'\n128. 'GeomArea'\n129. 'GeomBar'\n130. 'GeomBlank'\n131. 'GeomBoxplot'\n132. 'GeomCol'\n133. 'GeomContour'\n134. 'GeomCrossbar'\n135. 'GeomCurve'\n136. 'GeomCustomAnn'\n137. 'GeomDensity'\n138. 'GeomDensity2d'\n139. 'GeomDotplot'\n140. 'GeomErrorbar'\n141. 'GeomErrorbarh'\n142. 'GeomHex'\n143. 'GeomHline'\n144. 'GeomLabel'\n145. 'GeomLine'\n146. 'GeomLinerange'\n147. 'GeomLogticks'\n148. 'GeomMap'\n149. 'GeomPath'\n150. 'GeomPoint'\n151. 'GeomPointrange'\n152. 'GeomPolygon'\n153. 'GeomQuantile'\n154. 'GeomRaster'\n155. 'GeomRasterAnn'\n156. 'GeomRect'\n157. 'GeomRibbon'\n158. 'GeomRug'\n159. 'GeomSegment'\n160. 'GeomSmooth'\n161. 'GeomSpoke'\n162. 'GeomStep'\n163. 'GeomText'\n164. 'GeomTile'\n165. 'GeomViolin'\n166. 'GeomVline'\n167. 'gg_dep'\n168. 'ggplot'\n169. 'ggplot_build'\n170. 'ggplot_gtable'\n171. 'ggplotGrob'\n172. 'ggproto'\n173. 'ggproto_parent'\n174. 'ggsave'\n175. 'ggtitle'\n176. 'guide_colorbar'\n177. 'guide_colourbar'\n178. 'guide_legend'\n179. 'guides'\n180. 'is.Coord'\n181. 'is.facet'\n182. 'is.ggplot'\n183. 'is.ggproto'\n184. 'is.theme'\n185. 'label_both'\n186. 'label_bquote'\n187. 'label_context'\n188. 'label_parsed'\n189. 'label_value'\n190. 'label_wrap_gen'\n191. 'labeller'\n192. 'labs'\n193. 'last_plot'\n194. 'layer'\n195. 'layer_data'\n196. 'layer_grob'\n197. 'layer_scales'\n198. 'lims'\n199. 'luv_colours'\n200. 'map_data'\n201. 'margin'\n202. 'max_height'\n203. 'max_width'\n204. 'mean_cl_boot'\n205. 'mean_cl_normal'\n206. 'mean_sdl'\n207. 'mean_se'\n208. 'median_hilow'\n209. 'midwest'\n210. 'mpg'\n211. 'msleep'\n212. 'panel_cols'\n213. 'panel_rows'\n214. 'Position'\n215. 'position_dodge'\n216. 'position_fill'\n217. 'position_identity'\n218. 'position_jitter'\n219. 'position_jitterdodge'\n220. 'position_nudge'\n221. 'position_stack'\n222. 'PositionDodge'\n223. 'PositionFill'\n224. 'PositionIdentity'\n225. 'PositionJitter'\n226. 'PositionJitterdodge'\n227. 'PositionNudge'\n228. 'PositionStack'\n229. 'presidential'\n230. 'qplot'\n231. 'quickplot'\n232. 'rel'\n233. 'remove_missing'\n234. 'render_axes'\n235. 'render_strips'\n236. 'resolution'\n237. 'Scale'\n238. 'scale_alpha'\n239. 'scale_alpha_continuous'\n240. 'scale_alpha_discrete'\n241. 'scale_alpha_identity'\n242. 'scale_alpha_manual'\n243. 'scale_color_brewer'\n244. 'scale_color_continuous'\n245. 'scale_color_discrete'\n246. 'scale_color_distiller'\n247. 'scale_color_gradient'\n248. 'scale_color_gradient2'\n249. 'scale_color_gradientn'\n250. 'scale_color_grey'\n251. 'scale_color_hue'\n252. 'scale_color_identity'\n253. 'scale_color_manual'\n254. 'scale_colour_brewer'\n255. 'scale_colour_continuous'\n256. 'scale_colour_date'\n257. 'scale_colour_datetime'\n258. 'scale_colour_discrete'\n259. 'scale_colour_distiller'\n260. 'scale_colour_gradient'\n261. 'scale_colour_gradient2'\n262. 'scale_colour_gradientn'\n263. 'scale_colour_grey'\n264. 'scale_colour_hue'\n265. 'scale_colour_identity'\n266. 'scale_colour_manual'\n267. 'scale_fill_brewer'\n268. 'scale_fill_continuous'\n269. 'scale_fill_date'\n270. 'scale_fill_datetime'\n271. 'scale_fill_discrete'\n272. 'scale_fill_distiller'\n273. 'scale_fill_gradient'\n274. 'scale_fill_gradient2'\n275. 'scale_fill_gradientn'\n276. 'scale_fill_grey'\n277. 'scale_fill_hue'\n278. 'scale_fill_identity'\n279. 'scale_fill_manual'\n280. 'scale_linetype'\n281. 'scale_linetype_continuous'\n282. 'scale_linetype_discrete'\n283. 'scale_linetype_identity'\n284. 'scale_linetype_manual'\n285. 'scale_radius'\n286. 'scale_shape'\n287. 'scale_shape_continuous'\n288. 'scale_shape_discrete'\n289. 'scale_shape_identity'\n290. 'scale_shape_manual'\n291. 'scale_size'\n292. 'scale_size_area'\n293. 'scale_size_continuous'\n294. 'scale_size_date'\n295. 'scale_size_datetime'\n296. 'scale_size_discrete'\n297. 'scale_size_identity'\n298. 'scale_size_manual'\n299. 'scale_x_continuous'\n300. 'scale_x_date'\n301. 'scale_x_datetime'\n302. 'scale_x_discrete'\n303. 'scale_x_log10'\n304. 'scale_x_reverse'\n305. 'scale_x_sqrt'\n306. 'scale_x_time'\n307. 'scale_y_continuous'\n308. 'scale_y_date'\n309. 'scale_y_datetime'\n310. 'scale_y_discrete'\n311. 'scale_y_log10'\n312. 'scale_y_reverse'\n313. 'scale_y_sqrt'\n314. 'scale_y_time'\n315. 'ScaleContinuous'\n316. 'ScaleContinuousDate'\n317. 'ScaleContinuousDatetime'\n318. 'ScaleContinuousIdentity'\n319. 'ScaleContinuousPosition'\n320. 'ScaleDiscrete'\n321. 'ScaleDiscreteIdentity'\n322. 'ScaleDiscretePosition'\n323. 'seals'\n324. 'sec_axis'\n325. 'should_stop'\n326. 'Stat'\n327. 'stat_bin'\n328. 'stat_bin_2d'\n329. 'stat_bin_hex'\n330. 'stat_bin2d'\n331. 'stat_binhex'\n332. 'stat_boxplot'\n333. 'stat_contour'\n334. 'stat_count'\n335. 'stat_density'\n336. 'stat_density_2d'\n337. 'stat_density2d'\n338. 'stat_ecdf'\n339. 'stat_ellipse'\n340. 'stat_function'\n341. 'stat_identity'\n342. 'stat_qq'\n343. 'stat_quantile'\n344. 'stat_smooth'\n345. 'stat_spoke'\n346. 'stat_sum'\n347. 'stat_summary'\n348. 'stat_summary_2d'\n349. 'stat_summary_bin'\n350. 'stat_summary_hex'\n351. 'stat_summary2d'\n352. 'stat_unique'\n353. 'stat_ydensity'\n354. 'StatBin'\n355. 'StatBin2d'\n356. 'StatBindot'\n357. 'StatBinhex'\n358. 'StatBoxplot'\n359. 'StatContour'\n360. 'StatCount'\n361. 'StatDensity'\n362. 'StatDensity2d'\n363. 'StatEcdf'\n364. 'StatEllipse'\n365. 'StatFunction'\n366. 'StatIdentity'\n367. 'StatQq'\n368. 'StatQuantile'\n369. 'StatSmooth'\n370. 'StatSum'\n371. 'StatSummary'\n372. 'StatSummary2d'\n373. 'StatSummaryBin'\n374. 'StatSummaryHex'\n375. 'StatUnique'\n376. 'StatYdensity'\n377. 'theme'\n378. 'theme_bw'\n379. 'theme_classic'\n380. 'theme_dark'\n381. 'theme_get'\n382. 'theme_gray'\n383. 'theme_grey'\n384. 'theme_light'\n385. 'theme_linedraw'\n386. 'theme_minimal'\n387. 'theme_replace'\n388. 'theme_set'\n389. 'theme_update'\n390. 'theme_void'\n391. 'transform_position'\n392. 'txhousing'\n393. 'unit'\n394. 'update_geom_defaults'\n395. 'update_labels'\n396. 'update_stat_defaults'\n397. 'waiver'\n398. 'wrap_dims'\n399. 'xlab'\n400. 'xlim'\n401. 'ylab'\n402. 'ylim'\n403. 'zeroGrob'\n\n\n",
            "text/plain": "  [1] \"%+%\"                       \"%+replace%\"               \n  [3] \"aes\"                       \"aes_\"                     \n  [5] \"aes_all\"                   \"aes_auto\"                 \n  [7] \"aes_q\"                     \"aes_string\"               \n  [9] \"alpha\"                     \"annotate\"                 \n [11] \"annotation_custom\"         \"annotation_logticks\"      \n [13] \"annotation_map\"            \"annotation_raster\"        \n [15] \"arrow\"                     \"as_labeller\"              \n [17] \"autoplot\"                  \"AxisSecondary\"            \n [19] \"benchplot\"                 \"borders\"                  \n [21] \"calc_element\"              \"combine_vars\"             \n [23] \"continuous_scale\"          \"Coord\"                    \n [25] \"coord_cartesian\"           \"coord_equal\"              \n [27] \"coord_fixed\"               \"coord_flip\"               \n [29] \"coord_map\"                 \"coord_munch\"              \n [31] \"coord_polar\"               \"coord_quickmap\"           \n [33] \"coord_trans\"               \"CoordCartesian\"           \n [35] \"CoordFixed\"                \"CoordFlip\"                \n [37] \"CoordMap\"                  \"CoordPolar\"               \n [39] \"CoordQuickmap\"             \"CoordTrans\"               \n [41] \"cut_interval\"              \"cut_number\"               \n [43] \"cut_width\"                 \"derive\"                   \n [45] \"diamonds\"                  \"discrete_scale\"           \n [47] \"draw_key_abline\"           \"draw_key_blank\"           \n [49] \"draw_key_boxplot\"          \"draw_key_crossbar\"        \n [51] \"draw_key_dotplot\"          \"draw_key_label\"           \n [53] \"draw_key_path\"             \"draw_key_point\"           \n [55] \"draw_key_pointrange\"       \"draw_key_polygon\"         \n [57] \"draw_key_rect\"             \"draw_key_smooth\"          \n [59] \"draw_key_text\"             \"draw_key_vline\"           \n [61] \"draw_key_vpath\"            \"dup_axis\"                 \n [63] \"economics\"                 \"economics_long\"           \n [65] \"element_blank\"             \"element_grob\"             \n [67] \"element_line\"              \"element_rect\"             \n [69] \"element_text\"              \"expand_limits\"            \n [71] \"Facet\"                     \"facet_grid\"               \n [73] \"facet_null\"                \"facet_wrap\"               \n [75] \"FacetGrid\"                 \"FacetNull\"                \n [77] \"FacetWrap\"                 \"faithfuld\"                \n [79] \"find_panel\"                \"fortify\"                  \n [81] \"Geom\"                      \"geom_abline\"              \n [83] \"geom_area\"                 \"geom_bar\"                 \n [85] \"geom_bin2d\"                \"geom_blank\"               \n [87] \"geom_boxplot\"              \"geom_col\"                 \n [89] \"geom_contour\"              \"geom_count\"               \n [91] \"geom_crossbar\"             \"geom_curve\"               \n [93] \"geom_density\"              \"geom_density_2d\"          \n [95] \"geom_density2d\"            \"geom_dotplot\"             \n [97] \"geom_errorbar\"             \"geom_errorbarh\"           \n [99] \"geom_freqpoly\"             \"geom_hex\"                 \n[101] \"geom_histogram\"            \"geom_hline\"               \n[103] \"geom_jitter\"               \"geom_label\"               \n[105] \"geom_line\"                 \"geom_linerange\"           \n[107] \"geom_map\"                  \"geom_path\"                \n[109] \"geom_point\"                \"geom_pointrange\"          \n[111] \"geom_polygon\"              \"geom_qq\"                  \n[113] \"geom_quantile\"             \"geom_raster\"              \n[115] \"geom_rect\"                 \"geom_ribbon\"              \n[117] \"geom_rug\"                  \"geom_segment\"             \n[119] \"geom_smooth\"               \"geom_spoke\"               \n[121] \"geom_step\"                 \"geom_text\"                \n[123] \"geom_tile\"                 \"geom_violin\"              \n[125] \"geom_vline\"                \"GeomAbline\"               \n[127] \"GeomAnnotationMap\"         \"GeomArea\"                 \n[129] \"GeomBar\"                   \"GeomBlank\"                \n[131] \"GeomBoxplot\"               \"GeomCol\"                  \n[133] \"GeomContour\"               \"GeomCrossbar\"             \n[135] \"GeomCurve\"                 \"GeomCustomAnn\"            \n[137] \"GeomDensity\"               \"GeomDensity2d\"            \n[139] \"GeomDotplot\"               \"GeomErrorbar\"             \n[141] \"GeomErrorbarh\"             \"GeomHex\"                  \n[143] \"GeomHline\"                 \"GeomLabel\"                \n[145] \"GeomLine\"                  \"GeomLinerange\"            \n[147] \"GeomLogticks\"              \"GeomMap\"                  \n[149] \"GeomPath\"                  \"GeomPoint\"                \n[151] \"GeomPointrange\"            \"GeomPolygon\"              \n[153] \"GeomQuantile\"              \"GeomRaster\"               \n[155] \"GeomRasterAnn\"             \"GeomRect\"                 \n[157] \"GeomRibbon\"                \"GeomRug\"                  \n[159] \"GeomSegment\"               \"GeomSmooth\"               \n[161] \"GeomSpoke\"                 \"GeomStep\"                 \n[163] \"GeomText\"                  \"GeomTile\"                 \n[165] \"GeomViolin\"                \"GeomVline\"                \n[167] \"gg_dep\"                    \"ggplot\"                   \n[169] \"ggplot_build\"              \"ggplot_gtable\"            \n[171] \"ggplotGrob\"                \"ggproto\"                  \n[173] \"ggproto_parent\"            \"ggsave\"                   \n[175] \"ggtitle\"                   \"guide_colorbar\"           \n[177] \"guide_colourbar\"           \"guide_legend\"             \n[179] \"guides\"                    \"is.Coord\"                 \n[181] \"is.facet\"                  \"is.ggplot\"                \n[183] \"is.ggproto\"                \"is.theme\"                 \n[185] \"label_both\"                \"label_bquote\"             \n[187] \"label_context\"             \"label_parsed\"             \n[189] \"label_value\"               \"label_wrap_gen\"           \n[191] \"labeller\"                  \"labs\"                     \n[193] \"last_plot\"                 \"layer\"                    \n[195] \"layer_data\"                \"layer_grob\"               \n[197] \"layer_scales\"              \"lims\"                     \n[199] \"luv_colours\"               \"map_data\"                 \n[201] \"margin\"                    \"max_height\"               \n[203] \"max_width\"                 \"mean_cl_boot\"             \n[205] \"mean_cl_normal\"            \"mean_sdl\"                 \n[207] \"mean_se\"                   \"median_hilow\"             \n[209] \"midwest\"                   \"mpg\"                      \n[211] \"msleep\"                    \"panel_cols\"               \n[213] \"panel_rows\"                \"Position\"                 \n[215] \"position_dodge\"            \"position_fill\"            \n[217] \"position_identity\"         \"position_jitter\"          \n[219] \"position_jitterdodge\"      \"position_nudge\"           \n[221] \"position_stack\"            \"PositionDodge\"            \n[223] \"PositionFill\"              \"PositionIdentity\"         \n[225] \"PositionJitter\"            \"PositionJitterdodge\"      \n[227] \"PositionNudge\"             \"PositionStack\"            \n[229] \"presidential\"              \"qplot\"                    \n[231] \"quickplot\"                 \"rel\"                      \n[233] \"remove_missing\"            \"render_axes\"              \n[235] \"render_strips\"             \"resolution\"               \n[237] \"Scale\"                     \"scale_alpha\"              \n[239] \"scale_alpha_continuous\"    \"scale_alpha_discrete\"     \n[241] \"scale_alpha_identity\"      \"scale_alpha_manual\"       \n[243] \"scale_color_brewer\"        \"scale_color_continuous\"   \n[245] \"scale_color_discrete\"      \"scale_color_distiller\"    \n[247] \"scale_color_gradient\"      \"scale_color_gradient2\"    \n[249] \"scale_color_gradientn\"     \"scale_color_grey\"         \n[251] \"scale_color_hue\"           \"scale_color_identity\"     \n[253] \"scale_color_manual\"        \"scale_colour_brewer\"      \n[255] \"scale_colour_continuous\"   \"scale_colour_date\"        \n[257] \"scale_colour_datetime\"     \"scale_colour_discrete\"    \n[259] \"scale_colour_distiller\"    \"scale_colour_gradient\"    \n[261] \"scale_colour_gradient2\"    \"scale_colour_gradientn\"   \n[263] \"scale_colour_grey\"         \"scale_colour_hue\"         \n[265] \"scale_colour_identity\"     \"scale_colour_manual\"      \n[267] \"scale_fill_brewer\"         \"scale_fill_continuous\"    \n[269] \"scale_fill_date\"           \"scale_fill_datetime\"      \n[271] \"scale_fill_discrete\"       \"scale_fill_distiller\"     \n[273] \"scale_fill_gradient\"       \"scale_fill_gradient2\"     \n[275] \"scale_fill_gradientn\"      \"scale_fill_grey\"          \n[277] \"scale_fill_hue\"            \"scale_fill_identity\"      \n[279] \"scale_fill_manual\"         \"scale_linetype\"           \n[281] \"scale_linetype_continuous\" \"scale_linetype_discrete\"  \n[283] \"scale_linetype_identity\"   \"scale_linetype_manual\"    \n[285] \"scale_radius\"              \"scale_shape\"              \n[287] \"scale_shape_continuous\"    \"scale_shape_discrete\"     \n[289] \"scale_shape_identity\"      \"scale_shape_manual\"       \n[291] \"scale_size\"                \"scale_size_area\"          \n[293] \"scale_size_continuous\"     \"scale_size_date\"          \n[295] \"scale_size_datetime\"       \"scale_size_discrete\"      \n[297] \"scale_size_identity\"       \"scale_size_manual\"        \n[299] \"scale_x_continuous\"        \"scale_x_date\"             \n[301] \"scale_x_datetime\"          \"scale_x_discrete\"         \n[303] \"scale_x_log10\"             \"scale_x_reverse\"          \n[305] \"scale_x_sqrt\"              \"scale_x_time\"             \n[307] \"scale_y_continuous\"        \"scale_y_date\"             \n[309] \"scale_y_datetime\"          \"scale_y_discrete\"         \n[311] \"scale_y_log10\"             \"scale_y_reverse\"          \n[313] \"scale_y_sqrt\"              \"scale_y_time\"             \n[315] \"ScaleContinuous\"           \"ScaleContinuousDate\"      \n[317] \"ScaleContinuousDatetime\"   \"ScaleContinuousIdentity\"  \n[319] \"ScaleContinuousPosition\"   \"ScaleDiscrete\"            \n[321] \"ScaleDiscreteIdentity\"     \"ScaleDiscretePosition\"    \n[323] \"seals\"                     \"sec_axis\"                 \n[325] \"should_stop\"               \"Stat\"                     \n[327] \"stat_bin\"                  \"stat_bin_2d\"              \n[329] \"stat_bin_hex\"              \"stat_bin2d\"               \n[331] \"stat_binhex\"               \"stat_boxplot\"             \n[333] \"stat_contour\"              \"stat_count\"               \n[335] \"stat_density\"              \"stat_density_2d\"          \n[337] \"stat_density2d\"            \"stat_ecdf\"                \n[339] \"stat_ellipse\"              \"stat_function\"            \n[341] \"stat_identity\"             \"stat_qq\"                  \n[343] \"stat_quantile\"             \"stat_smooth\"              \n[345] \"stat_spoke\"                \"stat_sum\"                 \n[347] \"stat_summary\"              \"stat_summary_2d\"          \n[349] \"stat_summary_bin\"          \"stat_summary_hex\"         \n[351] \"stat_summary2d\"            \"stat_unique\"              \n[353] \"stat_ydensity\"             \"StatBin\"                  \n[355] \"StatBin2d\"                 \"StatBindot\"               \n[357] \"StatBinhex\"                \"StatBoxplot\"              \n[359] \"StatContour\"               \"StatCount\"                \n[361] \"StatDensity\"               \"StatDensity2d\"            \n[363] \"StatEcdf\"                  \"StatEllipse\"              \n[365] \"StatFunction\"              \"StatIdentity\"             \n[367] \"StatQq\"                    \"StatQuantile\"             \n[369] \"StatSmooth\"                \"StatSum\"                  \n[371] \"StatSummary\"               \"StatSummary2d\"            \n[373] \"StatSummaryBin\"            \"StatSummaryHex\"           \n[375] \"StatUnique\"                \"StatYdensity\"             \n[377] \"theme\"                     \"theme_bw\"                 \n[379] \"theme_classic\"             \"theme_dark\"               \n[381] \"theme_get\"                 \"theme_gray\"               \n[383] \"theme_grey\"                \"theme_light\"              \n[385] \"theme_linedraw\"            \"theme_minimal\"            \n[387] \"theme_replace\"             \"theme_set\"                \n[389] \"theme_update\"              \"theme_void\"               \n[391] \"transform_position\"        \"txhousing\"                \n[393] \"unit\"                      \"update_geom_defaults\"     \n[395] \"update_labels\"             \"update_stat_defaults\"     \n[397] \"waiver\"                    \"wrap_dims\"                \n[399] \"xlab\"                      \"xlim\"                     \n[401] \"ylab\"                      \"ylim\"                     \n[403] \"zeroGrob\"                 "
          },
          "metadata": {},
          "output_type": "display_data"
        },
        {
          "data": {
            "text/html": "<ol class=list-inline>\n\t<li>'%+%'</li>\n\t<li>'%+replace%'</li>\n\t<li>'aes'</li>\n\t<li>'aes_'</li>\n\t<li>'aes_all'</li>\n\t<li>'aes_auto'</li>\n</ol>\n",
            "text/latex": "\\begin{enumerate*}\n\\item '\\%+\\%'\n\\item '\\%+replace\\%'\n\\item 'aes'\n\\item 'aes\\_'\n\\item 'aes\\_all'\n\\item 'aes\\_auto'\n\\end{enumerate*}\n",
            "text/markdown": "1. '%+%'\n2. '%+replace%'\n3. 'aes'\n4. 'aes_'\n5. 'aes_all'\n6. 'aes_auto'\n\n\n",
            "text/plain": "[1] \"%+%\"        \"%+replace%\" \"aes\"        \"aes_\"       \"aes_all\"   \n[6] \"aes_auto\"  "
          },
          "metadata": {},
          "output_type": "display_data"
        }
      ]
    },
    {
      "metadata": {},
      "cell_type": "markdown",
      "source": "### `ls.str()` or `lsf.str()`"
    },
    {
      "metadata": {
        "run_control": {
          "frozen": false,
          "read_only": false
        },
        "trusted": false
      },
      "cell_type": "code",
      "source": "library(ggplot2)",
      "execution_count": 19,
      "outputs": []
    },
    {
      "metadata": {
        "run_control": {
          "frozen": false,
          "read_only": false
        },
        "trusted": false
      },
      "cell_type": "code",
      "source": "head(lsf.str(\"package:ggplot2\"),50)",
      "execution_count": 20,
      "outputs": [
        {
          "data": {
            "text/html": "<ol class=list-inline>\n\t<li>'%+%'</li>\n\t<li>'%+replace%'</li>\n\t<li>'aes'</li>\n\t<li>'aes_'</li>\n\t<li>'aes_all'</li>\n\t<li>'aes_auto'</li>\n\t<li>'aes_q'</li>\n\t<li>'aes_string'</li>\n\t<li>'alpha'</li>\n\t<li>'annotate'</li>\n\t<li>'annotation_custom'</li>\n\t<li>'annotation_logticks'</li>\n\t<li>'annotation_map'</li>\n\t<li>'annotation_raster'</li>\n\t<li>'arrow'</li>\n\t<li>'as_labeller'</li>\n\t<li>'autoplot'</li>\n\t<li>'benchplot'</li>\n\t<li>'borders'</li>\n\t<li>'calc_element'</li>\n\t<li>'combine_vars'</li>\n\t<li>'continuous_scale'</li>\n\t<li>'coord_cartesian'</li>\n\t<li>'coord_equal'</li>\n\t<li>'coord_fixed'</li>\n\t<li>'coord_flip'</li>\n\t<li>'coord_map'</li>\n\t<li>'coord_munch'</li>\n\t<li>'coord_polar'</li>\n\t<li>'coord_quickmap'</li>\n\t<li>'coord_trans'</li>\n\t<li>'cut_interval'</li>\n\t<li>'cut_number'</li>\n\t<li>'cut_width'</li>\n\t<li>'derive'</li>\n\t<li>'discrete_scale'</li>\n\t<li>'draw_key_abline'</li>\n\t<li>'draw_key_blank'</li>\n\t<li>'draw_key_boxplot'</li>\n\t<li>'draw_key_crossbar'</li>\n\t<li>'draw_key_dotplot'</li>\n\t<li>'draw_key_label'</li>\n\t<li>'draw_key_path'</li>\n\t<li>'draw_key_point'</li>\n\t<li>'draw_key_pointrange'</li>\n\t<li>'draw_key_polygon'</li>\n\t<li>'draw_key_rect'</li>\n\t<li>'draw_key_smooth'</li>\n\t<li>'draw_key_text'</li>\n\t<li>'draw_key_vline'</li>\n</ol>\n",
            "text/latex": "\\begin{enumerate*}\n\\item '\\%+\\%'\n\\item '\\%+replace\\%'\n\\item 'aes'\n\\item 'aes\\_'\n\\item 'aes\\_all'\n\\item 'aes\\_auto'\n\\item 'aes\\_q'\n\\item 'aes\\_string'\n\\item 'alpha'\n\\item 'annotate'\n\\item 'annotation\\_custom'\n\\item 'annotation\\_logticks'\n\\item 'annotation\\_map'\n\\item 'annotation\\_raster'\n\\item 'arrow'\n\\item 'as\\_labeller'\n\\item 'autoplot'\n\\item 'benchplot'\n\\item 'borders'\n\\item 'calc\\_element'\n\\item 'combine\\_vars'\n\\item 'continuous\\_scale'\n\\item 'coord\\_cartesian'\n\\item 'coord\\_equal'\n\\item 'coord\\_fixed'\n\\item 'coord\\_flip'\n\\item 'coord\\_map'\n\\item 'coord\\_munch'\n\\item 'coord\\_polar'\n\\item 'coord\\_quickmap'\n\\item 'coord\\_trans'\n\\item 'cut\\_interval'\n\\item 'cut\\_number'\n\\item 'cut\\_width'\n\\item 'derive'\n\\item 'discrete\\_scale'\n\\item 'draw\\_key\\_abline'\n\\item 'draw\\_key\\_blank'\n\\item 'draw\\_key\\_boxplot'\n\\item 'draw\\_key\\_crossbar'\n\\item 'draw\\_key\\_dotplot'\n\\item 'draw\\_key\\_label'\n\\item 'draw\\_key\\_path'\n\\item 'draw\\_key\\_point'\n\\item 'draw\\_key\\_pointrange'\n\\item 'draw\\_key\\_polygon'\n\\item 'draw\\_key\\_rect'\n\\item 'draw\\_key\\_smooth'\n\\item 'draw\\_key\\_text'\n\\item 'draw\\_key\\_vline'\n\\end{enumerate*}\n",
            "text/markdown": "1. '%+%'\n2. '%+replace%'\n3. 'aes'\n4. 'aes_'\n5. 'aes_all'\n6. 'aes_auto'\n7. 'aes_q'\n8. 'aes_string'\n9. 'alpha'\n10. 'annotate'\n11. 'annotation_custom'\n12. 'annotation_logticks'\n13. 'annotation_map'\n14. 'annotation_raster'\n15. 'arrow'\n16. 'as_labeller'\n17. 'autoplot'\n18. 'benchplot'\n19. 'borders'\n20. 'calc_element'\n21. 'combine_vars'\n22. 'continuous_scale'\n23. 'coord_cartesian'\n24. 'coord_equal'\n25. 'coord_fixed'\n26. 'coord_flip'\n27. 'coord_map'\n28. 'coord_munch'\n29. 'coord_polar'\n30. 'coord_quickmap'\n31. 'coord_trans'\n32. 'cut_interval'\n33. 'cut_number'\n34. 'cut_width'\n35. 'derive'\n36. 'discrete_scale'\n37. 'draw_key_abline'\n38. 'draw_key_blank'\n39. 'draw_key_boxplot'\n40. 'draw_key_crossbar'\n41. 'draw_key_dotplot'\n42. 'draw_key_label'\n43. 'draw_key_path'\n44. 'draw_key_point'\n45. 'draw_key_pointrange'\n46. 'draw_key_polygon'\n47. 'draw_key_rect'\n48. 'draw_key_smooth'\n49. 'draw_key_text'\n50. 'draw_key_vline'\n\n\n",
            "text/plain": " [1] \"%+%\"                 \"%+replace%\"          \"aes\"                \n [4] \"aes_\"                \"aes_all\"             \"aes_auto\"           \n [7] \"aes_q\"               \"aes_string\"          \"alpha\"              \n[10] \"annotate\"            \"annotation_custom\"   \"annotation_logticks\"\n[13] \"annotation_map\"      \"annotation_raster\"   \"arrow\"              \n[16] \"as_labeller\"         \"autoplot\"            \"benchplot\"          \n[19] \"borders\"             \"calc_element\"        \"combine_vars\"       \n[22] \"continuous_scale\"    \"coord_cartesian\"     \"coord_equal\"        \n[25] \"coord_fixed\"         \"coord_flip\"          \"coord_map\"          \n[28] \"coord_munch\"         \"coord_polar\"         \"coord_quickmap\"     \n[31] \"coord_trans\"         \"cut_interval\"        \"cut_number\"         \n[34] \"cut_width\"           \"derive\"              \"discrete_scale\"     \n[37] \"draw_key_abline\"     \"draw_key_blank\"      \"draw_key_boxplot\"   \n[40] \"draw_key_crossbar\"   \"draw_key_dotplot\"    \"draw_key_label\"     \n[43] \"draw_key_path\"       \"draw_key_point\"      \"draw_key_pointrange\"\n[46] \"draw_key_polygon\"    \"draw_key_rect\"       \"draw_key_smooth\"    \n[49] \"draw_key_text\"       \"draw_key_vline\"     "
          },
          "metadata": {},
          "output_type": "display_data"
        }
      ]
    },
    {
      "metadata": {
        "run_control": {
          "frozen": false,
          "read_only": false
        },
        "scrolled": false,
        "trusted": false
      },
      "cell_type": "code",
      "source": "head(ls.str(\"package:ggplot2\"))",
      "execution_count": 21,
      "outputs": [
        {
          "data": {
            "text/html": "<ol class=list-inline>\n\t<li>'%+%'</li>\n\t<li>'%+replace%'</li>\n\t<li>'aes'</li>\n\t<li>'aes_'</li>\n\t<li>'aes_all'</li>\n\t<li>'aes_auto'</li>\n</ol>\n",
            "text/latex": "\\begin{enumerate*}\n\\item '\\%+\\%'\n\\item '\\%+replace\\%'\n\\item 'aes'\n\\item 'aes\\_'\n\\item 'aes\\_all'\n\\item 'aes\\_auto'\n\\end{enumerate*}\n",
            "text/markdown": "1. '%+%'\n2. '%+replace%'\n3. 'aes'\n4. 'aes_'\n5. 'aes_all'\n6. 'aes_auto'\n\n\n",
            "text/plain": "[1] \"%+%\"        \"%+replace%\" \"aes\"        \"aes_\"       \"aes_all\"   \n[6] \"aes_auto\"  "
          },
          "metadata": {},
          "output_type": "display_data"
        }
      ]
    },
    {
      "metadata": {
        "trusted": true
      },
      "cell_type": "code",
      "source": "library(ggplot2)\nls(\"package:stringr\")",
      "execution_count": 18,
      "outputs": [
        {
          "output_type": "display_data",
          "data": {
            "text/plain": " [1] \"%>%\"             \"boundary\"        \"coll\"            \"fixed\"          \n [5] \"fruit\"           \"invert_match\"    \"regex\"           \"sentences\"      \n [9] \"str_c\"           \"str_conv\"        \"str_count\"       \"str_detect\"     \n[13] \"str_dup\"         \"str_ends\"        \"str_extract\"     \"str_extract_all\"\n[17] \"str_flatten\"     \"str_glue\"        \"str_glue_data\"   \"str_interp\"     \n[21] \"str_length\"      \"str_locate\"      \"str_locate_all\"  \"str_match\"      \n[25] \"str_match_all\"   \"str_order\"       \"str_pad\"         \"str_remove\"     \n[29] \"str_remove_all\"  \"str_replace\"     \"str_replace_all\" \"str_replace_na\" \n[33] \"str_sort\"        \"str_split\"       \"str_split_fixed\" \"str_squish\"     \n[37] \"str_starts\"      \"str_sub\"         \"str_sub<-\"       \"str_subset\"     \n[41] \"str_to_lower\"    \"str_to_sentence\" \"str_to_title\"    \"str_to_upper\"   \n[45] \"str_trim\"        \"str_trunc\"       \"str_view\"        \"str_view_all\"   \n[49] \"str_which\"       \"str_wrap\"        \"word\"            \"words\"          ",
            "text/latex": "\\begin{enumerate*}\n\\item '\\%>\\%'\n\\item 'boundary'\n\\item 'coll'\n\\item 'fixed'\n\\item 'fruit'\n\\item 'invert\\_match'\n\\item 'regex'\n\\item 'sentences'\n\\item 'str\\_c'\n\\item 'str\\_conv'\n\\item 'str\\_count'\n\\item 'str\\_detect'\n\\item 'str\\_dup'\n\\item 'str\\_ends'\n\\item 'str\\_extract'\n\\item 'str\\_extract\\_all'\n\\item 'str\\_flatten'\n\\item 'str\\_glue'\n\\item 'str\\_glue\\_data'\n\\item 'str\\_interp'\n\\item 'str\\_length'\n\\item 'str\\_locate'\n\\item 'str\\_locate\\_all'\n\\item 'str\\_match'\n\\item 'str\\_match\\_all'\n\\item 'str\\_order'\n\\item 'str\\_pad'\n\\item 'str\\_remove'\n\\item 'str\\_remove\\_all'\n\\item 'str\\_replace'\n\\item 'str\\_replace\\_all'\n\\item 'str\\_replace\\_na'\n\\item 'str\\_sort'\n\\item 'str\\_split'\n\\item 'str\\_split\\_fixed'\n\\item 'str\\_squish'\n\\item 'str\\_starts'\n\\item 'str\\_sub'\n\\item 'str\\_sub<-'\n\\item 'str\\_subset'\n\\item 'str\\_to\\_lower'\n\\item 'str\\_to\\_sentence'\n\\item 'str\\_to\\_title'\n\\item 'str\\_to\\_upper'\n\\item 'str\\_trim'\n\\item 'str\\_trunc'\n\\item 'str\\_view'\n\\item 'str\\_view\\_all'\n\\item 'str\\_which'\n\\item 'str\\_wrap'\n\\item 'word'\n\\item 'words'\n\\end{enumerate*}\n",
            "text/markdown": "1. '%&gt;%'\n2. 'boundary'\n3. 'coll'\n4. 'fixed'\n5. 'fruit'\n6. 'invert_match'\n7. 'regex'\n8. 'sentences'\n9. 'str_c'\n10. 'str_conv'\n11. 'str_count'\n12. 'str_detect'\n13. 'str_dup'\n14. 'str_ends'\n15. 'str_extract'\n16. 'str_extract_all'\n17. 'str_flatten'\n18. 'str_glue'\n19. 'str_glue_data'\n20. 'str_interp'\n21. 'str_length'\n22. 'str_locate'\n23. 'str_locate_all'\n24. 'str_match'\n25. 'str_match_all'\n26. 'str_order'\n27. 'str_pad'\n28. 'str_remove'\n29. 'str_remove_all'\n30. 'str_replace'\n31. 'str_replace_all'\n32. 'str_replace_na'\n33. 'str_sort'\n34. 'str_split'\n35. 'str_split_fixed'\n36. 'str_squish'\n37. 'str_starts'\n38. 'str_sub'\n39. 'str_sub&lt;-'\n40. 'str_subset'\n41. 'str_to_lower'\n42. 'str_to_sentence'\n43. 'str_to_title'\n44. 'str_to_upper'\n45. 'str_trim'\n46. 'str_trunc'\n47. 'str_view'\n48. 'str_view_all'\n49. 'str_which'\n50. 'str_wrap'\n51. 'word'\n52. 'words'\n\n\n",
            "text/html": "<ol class=list-inline>\n\t<li>'%&gt;%'</li>\n\t<li>'boundary'</li>\n\t<li>'coll'</li>\n\t<li>'fixed'</li>\n\t<li>'fruit'</li>\n\t<li>'invert_match'</li>\n\t<li>'regex'</li>\n\t<li>'sentences'</li>\n\t<li>'str_c'</li>\n\t<li>'str_conv'</li>\n\t<li>'str_count'</li>\n\t<li>'str_detect'</li>\n\t<li>'str_dup'</li>\n\t<li>'str_ends'</li>\n\t<li>'str_extract'</li>\n\t<li>'str_extract_all'</li>\n\t<li>'str_flatten'</li>\n\t<li>'str_glue'</li>\n\t<li>'str_glue_data'</li>\n\t<li>'str_interp'</li>\n\t<li>'str_length'</li>\n\t<li>'str_locate'</li>\n\t<li>'str_locate_all'</li>\n\t<li>'str_match'</li>\n\t<li>'str_match_all'</li>\n\t<li>'str_order'</li>\n\t<li>'str_pad'</li>\n\t<li>'str_remove'</li>\n\t<li>'str_remove_all'</li>\n\t<li>'str_replace'</li>\n\t<li>'str_replace_all'</li>\n\t<li>'str_replace_na'</li>\n\t<li>'str_sort'</li>\n\t<li>'str_split'</li>\n\t<li>'str_split_fixed'</li>\n\t<li>'str_squish'</li>\n\t<li>'str_starts'</li>\n\t<li>'str_sub'</li>\n\t<li>'str_sub&lt;-'</li>\n\t<li>'str_subset'</li>\n\t<li>'str_to_lower'</li>\n\t<li>'str_to_sentence'</li>\n\t<li>'str_to_title'</li>\n\t<li>'str_to_upper'</li>\n\t<li>'str_trim'</li>\n\t<li>'str_trunc'</li>\n\t<li>'str_view'</li>\n\t<li>'str_view_all'</li>\n\t<li>'str_which'</li>\n\t<li>'str_wrap'</li>\n\t<li>'word'</li>\n\t<li>'words'</li>\n</ol>\n"
          },
          "metadata": {}
        }
      ]
    },
    {
      "metadata": {},
      "cell_type": "markdown",
      "source": "### `args()`"
    },
    {
      "metadata": {
        "trusted": false
      },
      "cell_type": "code",
      "source": "args(annotate)",
      "execution_count": 36,
      "outputs": [
        {
          "data": {
            "text/html": "<pre class=language-r><code>function (geom, x = NULL, y = NULL, xmin = NULL, xmax = NULL, \n<span style=white-space:pre-wrap>    ymin = NULL, ymax = NULL, xend = NULL, yend = NULL, ..., </span>\n<span style=white-space:pre-wrap>    na.rm = FALSE) </span>\nNULL</code></pre>",
            "text/latex": "\\begin{minted}{r}\nfunction (geom, x = NULL, y = NULL, xmin = NULL, xmax = NULL, \n    ymin = NULL, ymax = NULL, xend = NULL, yend = NULL, ..., \n    na.rm = FALSE) \nNULL\n\\end{minted}",
            "text/markdown": "```r\nfunction (geom, x = NULL, y = NULL, xmin = NULL, xmax = NULL, \n    ymin = NULL, ymax = NULL, xend = NULL, yend = NULL, ..., \n    na.rm = FALSE) \nNULL\n```",
            "text/plain": "function (geom, x = NULL, y = NULL, xmin = NULL, xmax = NULL, \n    ymin = NULL, ymax = NULL, xend = NULL, yend = NULL, ..., \n    na.rm = FALSE) \nNULL"
          },
          "metadata": {},
          "output_type": "display_data"
        }
      ]
    },
    {
      "metadata": {},
      "cell_type": "markdown",
      "source": "### `data()`  to list the available data sets"
    },
    {
      "metadata": {
        "run_control": {
          "frozen": false,
          "read_only": false
        },
        "trusted": false
      },
      "cell_type": "code",
      "source": "data() #list out all the databases on the search list",
      "execution_count": 37,
      "outputs": []
    },
    {
      "metadata": {
        "run_control": {
          "frozen": false,
          "read_only": false
        },
        "trusted": false
      },
      "cell_type": "code",
      "source": "data(package=\"ggplot2\") #list out the databases present in ggplot2 package",
      "execution_count": 38,
      "outputs": []
    },
    {
      "metadata": {
        "trusted": false
      },
      "cell_type": "code",
      "source": "try(data(package = \"survival\")) # list 'survival' data sets",
      "execution_count": 39,
      "outputs": []
    },
    {
      "metadata": {
        "trusted": false
      },
      "cell_type": "code",
      "source": "help(pbc, package = \"survival\") # display pbc data help page",
      "execution_count": 40,
      "outputs": []
    },
    {
      "metadata": {},
      "cell_type": "markdown",
      "source": "### `browseVignettes()` and `vignette()`"
    },
    {
      "metadata": {},
      "cell_type": "markdown",
      "source": "* detailed information or important features of any topic in the form of pdf/html"
    },
    {
      "metadata": {
        "run_control": {
          "frozen": false,
          "read_only": false
        },
        "trusted": false
      },
      "cell_type": "code",
      "source": "browseVignettes()",
      "execution_count": 41,
      "outputs": [
        {
          "data": {},
          "metadata": {},
          "output_type": "display_data"
        }
      ]
    },
    {
      "metadata": {
        "run_control": {
          "frozen": false,
          "read_only": false
        },
        "trusted": false
      },
      "cell_type": "code",
      "source": "library(grid)",
      "execution_count": 42,
      "outputs": []
    },
    {
      "metadata": {
        "run_control": {
          "frozen": false,
          "read_only": false
        },
        "trusted": false
      },
      "cell_type": "code",
      "source": "vignette()",
      "execution_count": 43,
      "outputs": []
    },
    {
      "metadata": {
        "run_control": {
          "frozen": false,
          "read_only": false
        },
        "trusted": false
      },
      "cell_type": "code",
      "source": "vignette(\"abcvignette\")",
      "execution_count": 44,
      "outputs": [
        {
          "name": "stderr",
          "output_type": "stream",
          "text": "Warning message:\n\"vignette 'abcvignette' not found\""
        }
      ]
    },
    {
      "metadata": {
        "run_control": {
          "frozen": false,
          "read_only": false
        },
        "trusted": false
      },
      "cell_type": "code",
      "source": "vignette(package = \"ggplot2\")",
      "execution_count": 45,
      "outputs": []
    },
    {
      "metadata": {
        "run_control": {
          "frozen": false,
          "read_only": false
        },
        "trusted": false
      },
      "cell_type": "code",
      "source": "vignette(\"ggplot2-specs\")\nvignette(\"extending-ggplot2\")",
      "execution_count": 46,
      "outputs": [
        {
          "data": {},
          "metadata": {},
          "output_type": "display_data"
        },
        {
          "data": {},
          "metadata": {},
          "output_type": "display_data"
        }
      ]
    },
    {
      "metadata": {},
      "cell_type": "markdown",
      "source": "# The Search List"
    },
    {
      "metadata": {},
      "cell_type": "markdown",
      "source": "* R has a search list where it looks for objects. This can be changed in the course of a session"
    },
    {
      "metadata": {
        "run_control": {
          "frozen": false,
          "read_only": false
        },
        "trusted": false
      },
      "cell_type": "code",
      "source": "search()",
      "execution_count": 47,
      "outputs": [
        {
          "data": {
            "text/html": "<ol class=list-inline>\n\t<li>'.GlobalEnv'</li>\n\t<li>'package:grid'</li>\n\t<li>'package:ggplot2'</li>\n\t<li>'package:formatR'</li>\n\t<li>'jupyter:irkernel'</li>\n\t<li>'package:stats'</li>\n\t<li>'package:graphics'</li>\n\t<li>'package:grDevices'</li>\n\t<li>'package:utils'</li>\n\t<li>'package:datasets'</li>\n\t<li>'package:methods'</li>\n\t<li>'Autoloads'</li>\n\t<li>'package:base'</li>\n</ol>\n",
            "text/latex": "\\begin{enumerate*}\n\\item '.GlobalEnv'\n\\item 'package:grid'\n\\item 'package:ggplot2'\n\\item 'package:formatR'\n\\item 'jupyter:irkernel'\n\\item 'package:stats'\n\\item 'package:graphics'\n\\item 'package:grDevices'\n\\item 'package:utils'\n\\item 'package:datasets'\n\\item 'package:methods'\n\\item 'Autoloads'\n\\item 'package:base'\n\\end{enumerate*}\n",
            "text/markdown": "1. '.GlobalEnv'\n2. 'package:grid'\n3. 'package:ggplot2'\n4. 'package:formatR'\n5. 'jupyter:irkernel'\n6. 'package:stats'\n7. 'package:graphics'\n8. 'package:grDevices'\n9. 'package:utils'\n10. 'package:datasets'\n11. 'package:methods'\n12. 'Autoloads'\n13. 'package:base'\n\n\n",
            "text/plain": " [1] \".GlobalEnv\"        \"package:grid\"      \"package:ggplot2\"  \n [4] \"package:formatR\"   \"jupyter:irkernel\"  \"package:stats\"    \n [7] \"package:graphics\"  \"package:grDevices\" \"package:utils\"    \n[10] \"package:datasets\"  \"package:methods\"   \"Autoloads\"        \n[13] \"package:base\"     "
          },
          "metadata": {},
          "output_type": "display_data"
        }
      ]
    },
    {
      "metadata": {
        "run_control": {
          "frozen": false,
          "read_only": false
        },
        "scrolled": true,
        "trusted": false
      },
      "cell_type": "code",
      "source": "# Notice that the loading of a new package extends the search list.\nlibrary(ggplot2)\nsearch()",
      "execution_count": 48,
      "outputs": [
        {
          "data": {
            "text/html": "<ol class=list-inline>\n\t<li>'.GlobalEnv'</li>\n\t<li>'package:grid'</li>\n\t<li>'package:ggplot2'</li>\n\t<li>'package:formatR'</li>\n\t<li>'jupyter:irkernel'</li>\n\t<li>'package:stats'</li>\n\t<li>'package:graphics'</li>\n\t<li>'package:grDevices'</li>\n\t<li>'package:utils'</li>\n\t<li>'package:datasets'</li>\n\t<li>'package:methods'</li>\n\t<li>'Autoloads'</li>\n\t<li>'package:base'</li>\n</ol>\n",
            "text/latex": "\\begin{enumerate*}\n\\item '.GlobalEnv'\n\\item 'package:grid'\n\\item 'package:ggplot2'\n\\item 'package:formatR'\n\\item 'jupyter:irkernel'\n\\item 'package:stats'\n\\item 'package:graphics'\n\\item 'package:grDevices'\n\\item 'package:utils'\n\\item 'package:datasets'\n\\item 'package:methods'\n\\item 'Autoloads'\n\\item 'package:base'\n\\end{enumerate*}\n",
            "text/markdown": "1. '.GlobalEnv'\n2. 'package:grid'\n3. 'package:ggplot2'\n4. 'package:formatR'\n5. 'jupyter:irkernel'\n6. 'package:stats'\n7. 'package:graphics'\n8. 'package:grDevices'\n9. 'package:utils'\n10. 'package:datasets'\n11. 'package:methods'\n12. 'Autoloads'\n13. 'package:base'\n\n\n",
            "text/plain": " [1] \".GlobalEnv\"        \"package:grid\"      \"package:ggplot2\"  \n [4] \"package:formatR\"   \"jupyter:irkernel\"  \"package:stats\"    \n [7] \"package:graphics\"  \"package:grDevices\" \"package:utils\"    \n[10] \"package:datasets\"  \"package:methods\"   \"Autoloads\"        \n[13] \"package:base\"     "
          },
          "metadata": {},
          "output_type": "display_data"
        }
      ]
    },
    {
      "metadata": {},
      "cell_type": "markdown",
      "source": "# `RSiteSearch(\"ggplot2\")`\n* navigate to special R Site Search (http://search.r-project.org) with this package name(ggplot2)  "
    },
    {
      "metadata": {
        "run_control": {
          "frozen": false,
          "read_only": false
        },
        "trusted": false
      },
      "cell_type": "code",
      "source": "RSiteSearch(\"ggplot2\")",
      "execution_count": 49,
      "outputs": [
        {
          "name": "stdout",
          "output_type": "stream",
          "text": "A search query has been submitted to http://search.r-project.org\nThe results page should open in your browser shortly\n"
        }
      ]
    },
    {
      "metadata": {},
      "cell_type": "markdown",
      "source": "# Rseek - rstats search engine"
    },
    {
      "metadata": {},
      "cell_type": "markdown",
      "source": "* google search like feature for specifically R users\n\nhttps://rseek.org/ "
    }
  ],
  "metadata": {
    "celltoolbar": "Slideshow",
    "hide_input": false,
    "kernelspec": {
      "name": "r",
      "display_name": "R",
      "language": "R"
    },
    "language_info": {
      "mimetype": "text/x-r-source",
      "name": "R",
      "pygments_lexer": "r",
      "version": "3.4.1",
      "file_extension": ".r",
      "codemirror_mode": "r"
    },
    "nav_menu": {},
    "toc": {
      "nav_menu": {},
      "number_sections": false,
      "sideBar": true,
      "skip_h1_title": false,
      "base_numbering": 1,
      "title_cell": "Table of Contents",
      "title_sidebar": "Contents",
      "toc_cell": true,
      "toc_position": {},
      "toc_section_display": "block",
      "toc_window_display": false
    }
  },
  "nbformat": 4,
  "nbformat_minor": 2
}