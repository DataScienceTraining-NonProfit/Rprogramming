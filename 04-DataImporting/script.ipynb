{
 "cells": [
  {
   "cell_type": "code",
   "execution_count": 5,
   "metadata": {},
   "outputs": [
    {
     "name": "stdout",
     "output_type": "stream",
     "text": [
      "numeric(0)\n"
     ]
    },
    {
     "data": {
      "text/html": [
       "<table>\n",
       "<thead><tr><th scope=col>V1</th><th scope=col>V2</th><th scope=col>V3</th><th scope=col>V4</th><th scope=col>V5</th></tr></thead>\n",
       "<tbody>\n",
       "\t<tr><td>5.1        </td><td>3.5        </td><td>1.4        </td><td>0.2        </td><td>Iris-setosa</td></tr>\n",
       "\t<tr><td>4.9        </td><td>3.0        </td><td>1.4        </td><td>0.2        </td><td>Iris-setosa</td></tr>\n",
       "\t<tr><td>4.7        </td><td>3.2        </td><td>1.3        </td><td>0.2        </td><td>Iris-setosa</td></tr>\n",
       "\t<tr><td>4.6        </td><td>3.1        </td><td>1.5        </td><td>0.2        </td><td>Iris-setosa</td></tr>\n",
       "\t<tr><td>5.0        </td><td>3.6        </td><td>1.4        </td><td>0.2        </td><td>Iris-setosa</td></tr>\n",
       "\t<tr><td>5.4        </td><td>3.9        </td><td>1.7        </td><td>0.4        </td><td>Iris-setosa</td></tr>\n",
       "</tbody>\n",
       "</table>\n"
      ],
      "text/latex": [
       "\\begin{tabular}{r|lllll}\n",
       " V1 & V2 & V3 & V4 & V5\\\\\n",
       "\\hline\n",
       "\t 5.1         & 3.5         & 1.4         & 0.2         & Iris-setosa\\\\\n",
       "\t 4.9         & 3.0         & 1.4         & 0.2         & Iris-setosa\\\\\n",
       "\t 4.7         & 3.2         & 1.3         & 0.2         & Iris-setosa\\\\\n",
       "\t 4.6         & 3.1         & 1.5         & 0.2         & Iris-setosa\\\\\n",
       "\t 5.0         & 3.6         & 1.4         & 0.2         & Iris-setosa\\\\\n",
       "\t 5.4         & 3.9         & 1.7         & 0.4         & Iris-setosa\\\\\n",
       "\\end{tabular}\n"
      ],
      "text/markdown": [
       "\n",
       "V1 | V2 | V3 | V4 | V5 | \n",
       "|---|---|---|---|---|---|\n",
       "| 5.1         | 3.5         | 1.4         | 0.2         | Iris-setosa | \n",
       "| 4.9         | 3.0         | 1.4         | 0.2         | Iris-setosa | \n",
       "| 4.7         | 3.2         | 1.3         | 0.2         | Iris-setosa | \n",
       "| 4.6         | 3.1         | 1.5         | 0.2         | Iris-setosa | \n",
       "| 5.0         | 3.6         | 1.4         | 0.2         | Iris-setosa | \n",
       "| 5.4         | 3.9         | 1.7         | 0.4         | Iris-setosa | \n",
       "\n",
       "\n"
      ],
      "text/plain": [
       "  V1  V2  V3  V4  V5         \n",
       "1 5.1 3.5 1.4 0.2 Iris-setosa\n",
       "2 4.9 3.0 1.4 0.2 Iris-setosa\n",
       "3 4.7 3.2 1.3 0.2 Iris-setosa\n",
       "4 4.6 3.1 1.5 0.2 Iris-setosa\n",
       "5 5.0 3.6 1.4 0.2 Iris-setosa\n",
       "6 5.4 3.9 1.7 0.4 Iris-setosa"
      ]
     },
     "metadata": {},
     "output_type": "display_data"
    },
    {
     "name": "stdout",
     "output_type": "stream",
     "text": [
      "  V1 V2       V3   V4           V5\n",
      "1  1  6 12:01:03 0.50        WORST\n",
      "2  2 16 07:42:51 0.32         BEST\n",
      "3  3 19 12:01:29 0.50         <NA>\n",
      "4  4 13 03:22:50 0.14 INTERMEDIATE\n",
      "5  5  8 09:30:03 0.40        WORST\n"
     ]
    }
   ],
   "source": [
    "############ data entry ##############\n",
    "############# using scan()\n",
    "?scan\n",
    "x <- scan() #scan function can read data from console\n",
    "print(x) \n",
    "xc <- scan() #it only expects real no, others must be specified in the what argument\n",
    "xcomp <- scan(what = \"complex\")#it takes now comnplex\n",
    "xchar <- scan(what = \"character\")#it takes now character\n",
    "xdata <- scan(\"data/diameters.csv\")  # to take the input from file\n",
    "xMultyType <- scan(\"data/trees.csv\", what = list(\"character\", \"double\"), sep = \",\")\n",
    "# The first column is the character data, and the second column is the numerical data\n",
    " \n",
    "################## using edit() and fix() functions (commented bcz these won't work in jupyter notebooks, but works in R studio)\n",
    "# elements <- data.frame() # creating empty dataframe\n",
    "# elements <- edit(elements) #to edit/entry data interactively using GUI\n",
    "# edit(elements) # when you are not storing into object then it can print to the console automatically after you enter the data\n",
    "# elements <- fix(elements)\n",
    "# fix(elements) # cannot give output to the console\n",
    "\n",
    "############ import data using read.table() function ########################\n",
    "?read.table\n",
    "sales_table_txt <- read.table(\"data/yearly_sales.txt\")\n",
    "sales_table_txt <- read.table(\"data/yearly_sales.txt\", sep = \",\") #by defalut sep = \"\"\n",
    "sales_table_txt <- read.table(\"data/yearly_sales.txt\", sep = \",\", header = TRUE) #by default read.table header is false\n",
    "iris <- read.table(url(\"http://archive.ics.uci.edu/ml/machine-learning-databases/iris/iris.data\"), sep = \",\") # data reading from online using url feature\n",
    "head(iris)\n",
    "df <- read.table(\"https://s3.amazonaws.com/assets.datacamp.com/blog_assets/scores_timed.txt\",sep = \"/\") # na.strings indicates which strings should be interpreted as NA values. In this case, the string “EMPTY” is to be interpreted as an NA value.\n",
    "\n",
    "df <- read.table(\"https://s3.amazonaws.com/assets.datacamp.com/blog_assets/scores_timed.txt\",sep = \"/\")\n",
    "df <- read.table(\"https://s3.amazonaws.com/assets.datacamp.com/blog_assets/scores_timed.txt\",sep = \"/\", na.strings = \"EMPTY\")\n",
    "print(df)\n"
   ]
  },
  {
   "cell_type": "code",
   "execution_count": 4,
   "metadata": {},
   "outputs": [
    {
     "data": {
      "text/html": [
       "<ol class=list-inline>\n",
       "\t<li>28.8</li>\n",
       "\t<li>27.3</li>\n",
       "\t<li>45.8</li>\n",
       "\t<li>34.8</li>\n",
       "\t<li>25.3</li>\n",
       "</ol>\n"
      ],
      "text/latex": [
       "\\begin{enumerate*}\n",
       "\\item 28.8\n",
       "\\item 27.3\n",
       "\\item 45.8\n",
       "\\item 34.8\n",
       "\\item 25.3\n",
       "\\end{enumerate*}\n"
      ],
      "text/markdown": [
       "1. 28.8\n",
       "2. 27.3\n",
       "3. 45.8\n",
       "4. 34.8\n",
       "5. 25.3\n",
       "\n",
       "\n"
      ],
      "text/plain": [
       "[1] 28.8 27.3 45.8 34.8 25.3"
      ]
     },
     "metadata": {},
     "output_type": "display_data"
    },
    {
     "data": {
      "text/html": [
       "<ol>\n",
       "\t<li><ol class=list-inline>\n",
       "\t<li>'pine'</li>\n",
       "\t<li>'pine'</li>\n",
       "\t<li>'oak'</li>\n",
       "\t<li>'pine'</li>\n",
       "\t<li>'oak'</li>\n",
       "</ol>\n",
       "</li>\n",
       "\t<li><ol class=list-inline>\n",
       "\t<li>'28.8'</li>\n",
       "\t<li>'27.3'</li>\n",
       "\t<li>'45.8'</li>\n",
       "\t<li>'34.8'</li>\n",
       "\t<li>'25.3'</li>\n",
       "</ol>\n",
       "</li>\n",
       "</ol>\n"
      ],
      "text/latex": [
       "\\begin{enumerate}\n",
       "\\item \\begin{enumerate*}\n",
       "\\item 'pine'\n",
       "\\item 'pine'\n",
       "\\item 'oak'\n",
       "\\item 'pine'\n",
       "\\item 'oak'\n",
       "\\end{enumerate*}\n",
       "\n",
       "\\item \\begin{enumerate*}\n",
       "\\item '28.8'\n",
       "\\item '27.3'\n",
       "\\item '45.8'\n",
       "\\item '34.8'\n",
       "\\item '25.3'\n",
       "\\end{enumerate*}\n",
       "\n",
       "\\end{enumerate}\n"
      ],
      "text/markdown": [
       "1. 1. 'pine'\n",
       "2. 'pine'\n",
       "3. 'oak'\n",
       "4. 'pine'\n",
       "5. 'oak'\n",
       "\n",
       "\n",
       "\n",
       "2. 1. '28.8'\n",
       "2. '27.3'\n",
       "3. '45.8'\n",
       "4. '34.8'\n",
       "5. '25.3'\n",
       "\n",
       "\n",
       "\n",
       "\n",
       "\n"
      ],
      "text/plain": [
       "[[1]]\n",
       "[1] \"pine\" \"pine\" \"oak\"  \"pine\" \"oak\" \n",
       "\n",
       "[[2]]\n",
       "[1] \"28.8\" \"27.3\" \"45.8\" \"34.8\" \"25.3\"\n"
      ]
     },
     "metadata": {},
     "output_type": "display_data"
    },
    {
     "data": {
      "text/html": [
       "<ol>\n",
       "\t<li><ol class=list-inline>\n",
       "\t<li>'pine'</li>\n",
       "\t<li>'pine'</li>\n",
       "\t<li>'oak'</li>\n",
       "\t<li>'pine'</li>\n",
       "\t<li>'oak'</li>\n",
       "</ol>\n",
       "</li>\n",
       "\t<li><ol class=list-inline>\n",
       "\t<li>'28.8'</li>\n",
       "\t<li>'27.3'</li>\n",
       "\t<li>'45.8'</li>\n",
       "\t<li>'34.8'</li>\n",
       "\t<li>'25.3'</li>\n",
       "</ol>\n",
       "</li>\n",
       "</ol>\n"
      ],
      "text/latex": [
       "\\begin{enumerate}\n",
       "\\item \\begin{enumerate*}\n",
       "\\item 'pine'\n",
       "\\item 'pine'\n",
       "\\item 'oak'\n",
       "\\item 'pine'\n",
       "\\item 'oak'\n",
       "\\end{enumerate*}\n",
       "\n",
       "\\item \\begin{enumerate*}\n",
       "\\item '28.8'\n",
       "\\item '27.3'\n",
       "\\item '45.8'\n",
       "\\item '34.8'\n",
       "\\item '25.3'\n",
       "\\end{enumerate*}\n",
       "\n",
       "\\end{enumerate}\n"
      ],
      "text/markdown": [
       "1. 1. 'pine'\n",
       "2. 'pine'\n",
       "3. 'oak'\n",
       "4. 'pine'\n",
       "5. 'oak'\n",
       "\n",
       "\n",
       "\n",
       "2. 1. '28.8'\n",
       "2. '27.3'\n",
       "3. '45.8'\n",
       "4. '34.8'\n",
       "5. '25.3'\n",
       "\n",
       "\n",
       "\n",
       "\n",
       "\n"
      ],
      "text/plain": [
       "[[1]]\n",
       "[1] \"pine\" \"pine\" \"oak\"  \"pine\" \"oak\" \n",
       "\n",
       "[[2]]\n",
       "[1] \"28.8\" \"27.3\" \"45.8\" \"34.8\" \"25.3\"\n"
      ]
     },
     "metadata": {},
     "output_type": "display_data"
    },
    {
     "data": {
      "text/html": [],
      "text/latex": [],
      "text/markdown": [],
      "text/plain": [
       "<0 x 0 matrix>"
      ]
     },
     "metadata": {},
     "output_type": "display_data"
    },
    {
     "data": {
      "text/html": [
       "<table>\n",
       "<thead><tr><th scope=col>V1</th><th scope=col>V2</th><th scope=col>V3</th></tr></thead>\n",
       "<tbody>\n",
       "\t<tr><td>1</td><td>2</td><td>3</td></tr>\n",
       "\t<tr><td>3</td><td>5</td><td>6</td></tr>\n",
       "</tbody>\n",
       "</table>\n"
      ],
      "text/latex": [
       "\\begin{tabular}{r|lll}\n",
       " V1 & V2 & V3\\\\\n",
       "\\hline\n",
       "\t 1 & 2 & 3\\\\\n",
       "\t 3 & 5 & 6\\\\\n",
       "\\end{tabular}\n"
      ],
      "text/markdown": [
       "\n",
       "V1 | V2 | V3 | \n",
       "|---|---|\n",
       "| 1 | 2 | 3 | \n",
       "| 3 | 5 | 6 | \n",
       "\n",
       "\n"
      ],
      "text/plain": [
       "  V1 V2 V3\n",
       "1 1  2  3 \n",
       "2 3  5  6 "
      ]
     },
     "metadata": {},
     "output_type": "display_data"
    },
    {
     "data": {
      "text/html": [
       "<table>\n",
       "<thead><tr><th scope=col>V1</th><th scope=col>V2</th><th scope=col>V3</th><th scope=col>V4</th><th scope=col>V5</th></tr></thead>\n",
       "<tbody>\n",
       "\t<tr><td>5.1        </td><td>3.5        </td><td>1.4        </td><td>0.2        </td><td>Iris-setosa</td></tr>\n",
       "\t<tr><td>4.9        </td><td>3.0        </td><td>1.4        </td><td>0.2        </td><td>Iris-setosa</td></tr>\n",
       "\t<tr><td>4.7        </td><td>3.2        </td><td>1.3        </td><td>0.2        </td><td>Iris-setosa</td></tr>\n",
       "\t<tr><td>4.6        </td><td>3.1        </td><td>1.5        </td><td>0.2        </td><td>Iris-setosa</td></tr>\n",
       "\t<tr><td>5.0        </td><td>3.6        </td><td>1.4        </td><td>0.2        </td><td>Iris-setosa</td></tr>\n",
       "\t<tr><td>5.4        </td><td>3.9        </td><td>1.7        </td><td>0.4        </td><td>Iris-setosa</td></tr>\n",
       "</tbody>\n",
       "</table>\n"
      ],
      "text/latex": [
       "\\begin{tabular}{r|lllll}\n",
       " V1 & V2 & V3 & V4 & V5\\\\\n",
       "\\hline\n",
       "\t 5.1         & 3.5         & 1.4         & 0.2         & Iris-setosa\\\\\n",
       "\t 4.9         & 3.0         & 1.4         & 0.2         & Iris-setosa\\\\\n",
       "\t 4.7         & 3.2         & 1.3         & 0.2         & Iris-setosa\\\\\n",
       "\t 4.6         & 3.1         & 1.5         & 0.2         & Iris-setosa\\\\\n",
       "\t 5.0         & 3.6         & 1.4         & 0.2         & Iris-setosa\\\\\n",
       "\t 5.4         & 3.9         & 1.7         & 0.4         & Iris-setosa\\\\\n",
       "\\end{tabular}\n"
      ],
      "text/markdown": [
       "\n",
       "V1 | V2 | V3 | V4 | V5 | \n",
       "|---|---|---|---|---|---|\n",
       "| 5.1         | 3.5         | 1.4         | 0.2         | Iris-setosa | \n",
       "| 4.9         | 3.0         | 1.4         | 0.2         | Iris-setosa | \n",
       "| 4.7         | 3.2         | 1.3         | 0.2         | Iris-setosa | \n",
       "| 4.6         | 3.1         | 1.5         | 0.2         | Iris-setosa | \n",
       "| 5.0         | 3.6         | 1.4         | 0.2         | Iris-setosa | \n",
       "| 5.4         | 3.9         | 1.7         | 0.4         | Iris-setosa | \n",
       "\n",
       "\n"
      ],
      "text/plain": [
       "  V1  V2  V3  V4  V5         \n",
       "1 5.1 3.5 1.4 0.2 Iris-setosa\n",
       "2 4.9 3.0 1.4 0.2 Iris-setosa\n",
       "3 4.7 3.2 1.3 0.2 Iris-setosa\n",
       "4 4.6 3.1 1.5 0.2 Iris-setosa\n",
       "5 5.0 3.6 1.4 0.2 Iris-setosa\n",
       "6 5.4 3.9 1.7 0.4 Iris-setosa"
      ]
     },
     "metadata": {},
     "output_type": "display_data"
    },
    {
     "data": {
      "text/html": [
       "<ol class=list-inline>\n",
       "\t<li>100</li>\n",
       "\t<li>6</li>\n",
       "</ol>\n"
      ],
      "text/latex": [
       "\\begin{enumerate*}\n",
       "\\item 100\n",
       "\\item 6\n",
       "\\end{enumerate*}\n"
      ],
      "text/markdown": [
       "1. 100\n",
       "2. 6\n",
       "\n",
       "\n"
      ],
      "text/plain": [
       "[1] 100   6"
      ]
     },
     "metadata": {},
     "output_type": "display_data"
    },
    {
     "data": {
      "text/html": [
       "<table>\n",
       "<thead><tr><th scope=col>group</th><th scope=col>treatment</th><th scope=col>mass0</th><th scope=col>mass10</th><th scope=col>mass25</th><th scope=col>mass50</th></tr></thead>\n",
       "<tbody>\n",
       "\t<tr><td>green    </td><td>control  </td><td>150.04841</td><td>188.1930 </td><td>264.33913</td><td> 465.6842</td></tr>\n",
       "\t<tr><td>green    </td><td>control  </td><td>128.94804</td><td>168.4952 </td><td>251.67897</td><td> 491.2235</td></tr>\n",
       "\t<tr><td>green    </td><td>pixies   </td><td>161.00249</td><td>267.2797 </td><td>571.69731</td><td>2030.0171</td></tr>\n",
       "\t<tr><td>green    </td><td>pixies   </td><td>193.44995</td><td>267.8308 </td><td>436.31328</td><td> 984.0751</td></tr>\n",
       "\t<tr><td>green    </td><td>control  </td><td>101.88225</td><td>124.7450 </td><td>169.00897</td><td> 280.3632</td></tr>\n",
       "\t<tr><td>green    </td><td>control  </td><td> 41.92258</td><td> 51.2602 </td><td> 69.30728</td><td> 114.5803</td></tr>\n",
       "</tbody>\n",
       "</table>\n"
      ],
      "text/latex": [
       "\\begin{tabular}{r|llllll}\n",
       " group & treatment & mass0 & mass10 & mass25 & mass50\\\\\n",
       "\\hline\n",
       "\t green     & control   & 150.04841 & 188.1930  & 264.33913 &  465.6842\\\\\n",
       "\t green     & control   & 128.94804 & 168.4952  & 251.67897 &  491.2235\\\\\n",
       "\t green     & pixies    & 161.00249 & 267.2797  & 571.69731 & 2030.0171\\\\\n",
       "\t green     & pixies    & 193.44995 & 267.8308  & 436.31328 &  984.0751\\\\\n",
       "\t green     & control   & 101.88225 & 124.7450  & 169.00897 &  280.3632\\\\\n",
       "\t green     & control   &  41.92258 &  51.2602  &  69.30728 &  114.5803\\\\\n",
       "\\end{tabular}\n"
      ],
      "text/markdown": [
       "\n",
       "group | treatment | mass0 | mass10 | mass25 | mass50 | \n",
       "|---|---|---|---|---|---|\n",
       "| green     | control   | 150.04841 | 188.1930  | 264.33913 |  465.6842 | \n",
       "| green     | control   | 128.94804 | 168.4952  | 251.67897 |  491.2235 | \n",
       "| green     | pixies    | 161.00249 | 267.2797  | 571.69731 | 2030.0171 | \n",
       "| green     | pixies    | 193.44995 | 267.8308  | 436.31328 |  984.0751 | \n",
       "| green     | control   | 101.88225 | 124.7450  | 169.00897 |  280.3632 | \n",
       "| green     | control   |  41.92258 |  51.2602  |  69.30728 |  114.5803 | \n",
       "\n",
       "\n"
      ],
      "text/plain": [
       "  group treatment mass0     mass10   mass25    mass50   \n",
       "1 green control   150.04841 188.1930 264.33913  465.6842\n",
       "2 green control   128.94804 168.4952 251.67897  491.2235\n",
       "3 green pixies    161.00249 267.2797 571.69731 2030.0171\n",
       "4 green pixies    193.44995 267.8308 436.31328  984.0751\n",
       "5 green control   101.88225 124.7450 169.00897  280.3632\n",
       "6 green control    41.92258  51.2602  69.30728  114.5803"
      ]
     },
     "metadata": {},
     "output_type": "display_data"
    },
    {
     "name": "stdout",
     "output_type": "stream",
     "text": [
      "  V1 V2       V3   V4           V5\n",
      "1  1  6 12:01:03 0.50        WORST\n",
      "2  2 16 07:42:51 0.32         BEST\n",
      "3  3 19 12:01:29 0.50         <NA>\n",
      "4  4 13 03:22:50 0.14 INTERMEDIATE\n",
      "5  5  8 09:30:03 0.40        WORST\n"
     ]
    }
   ],
   "source": [
    "#setwd(\"C:/Users/dell/Downloads/4-DataImporting/4-DataImporting\")\n",
    "# data entry using scan function\n",
    "#?scan\n",
    "x <-scan()\n",
    "x <-scan()\n",
    "x <-scan(what = \"character\") # for character entry\n",
    "y <- scan(\"data/diameters.csv\")\n",
    "y\n",
    "x <- scan(\"data/trees.csv\", what = list(\"character\", \"double\"),sep = \",\")\n",
    "x          \n",
    "x        \n",
    "#using the edit() function: runtime edit the values\n",
    "elements <- data.frame()\n",
    "elements\n",
    "#elements <- edit(elements) #edit not supported in jupyter r kernel\n",
    "\n",
    "sales_table_txt <- read.table(\"data/yearly_sales.txt\", header=TRUE, sep = \",\")\n",
    "trial <- read.table(\"data/trialTable.dat\")\n",
    "head(trial)\n",
    "iris <- read.table(url(\"http://archive.ics.uci.edu/ml/machine-learning-databases/iris/iris.data\"), sep = \",\")\n",
    "\n",
    "head(iris)    \n",
    "data <- read.table(url(\"https://raw.githubusercontent.com/mrtnj/rstuff/master/comb_gnome_data.csv\"), \n",
    "    header = TRUE, sep = \",\")\n",
    "dim(data)\n",
    "head(data)\n",
    "\n",
    "df <- read.table(\"https://s3.amazonaws.com/assets.datacamp.com/blog_assets/scores_timed.txt\", \n",
    "                 header = FALSE, \n",
    "                 sep=\"/\", \n",
    "                 strip.white = TRUE,  \n",
    "                 na.strings = \"EMPTY\") # na.strings indicates which strings should be interpreted as NA values. In this case, the string “EMPTY” is to be interpreted as an NA value.\n",
    "\n",
    "# Print out `df`\n",
    "print(df)"
   ]
  },
  {
   "cell_type": "code",
   "execution_count": null,
   "metadata": {},
   "outputs": [],
   "source": []
  }
 ],
 "metadata": {
  "kernelspec": {
   "display_name": "R",
   "language": "R",
   "name": "r"
  },
  "language_info": {
   "codemirror_mode": "r",
   "file_extension": ".r",
   "mimetype": "text/x-r-source",
   "name": "R",
   "pygments_lexer": "r",
   "version": "3.4.1"
  }
 },
 "nbformat": 4,
 "nbformat_minor": 2
}
