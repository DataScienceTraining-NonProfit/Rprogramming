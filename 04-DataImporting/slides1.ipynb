{
 "cells": [
  {
   "cell_type": "markdown",
   "metadata": {
    "toc": true
   },
   "source": [
    "<h1>Table of Contents<span class=\"tocSkip\"></span></h1>\n",
    "<div class=\"toc\" style=\"margin-top: 1em;\"><ul class=\"toc-item\"><li><ul class=\"toc-item\"><li><span><a href=\"#Import-data-from-excel-files\" data-toc-modified-id=\"Import-data-from-excel-files-0.1\">Import data from excel files</a></span><ul class=\"toc-item\"><li><span><a href=\"#Using-XLConnect-package\" data-toc-modified-id=\"Using-XLConnect-package-0.1.1\">Using XLConnect package</a></span></li><li><span><a href=\"#Using-xlsx-Package\" data-toc-modified-id=\"Using-xlsx-Package-0.1.2\">Using xlsx Package</a></span></li><li><span><a href=\"#Using-Readxl-Package\" data-toc-modified-id=\"Using-Readxl-Package-0.1.3\">Using Readxl Package</a></span></li></ul></li><li><span><a href=\"#Importing-XML-data-into-R\" data-toc-modified-id=\"Importing-XML-data-into-R-0.2\">Importing XML data into R</a></span></li><li><span><a href=\"#Import-JSON-data-into-R\" data-toc-modified-id=\"Import-JSON-data-into-R-0.3\">Import JSON data into R</a></span></li><li><span><a href=\"#Importing-Data-From-HTML-Tables-Into-R\" data-toc-modified-id=\"Importing-Data-From-HTML-Tables-Into-R-0.4\">Importing Data From HTML Tables Into R</a></span><ul class=\"toc-item\"><li><span><a href=\"#Using-httr-packages\" data-toc-modified-id=\"Using-httr-packages-0.4.1\">Using httr packages</a></span></li><li><span><a href=\"#Using-rvest-package-(web-scrapping)\" data-toc-modified-id=\"Using-rvest-package-(web-scrapping)-0.4.2\">Using rvest package (web scrapping)</a></span><ul class=\"toc-item\"><li><span><a href=\"#Import-data-from-wikipedia-(Scrape-an-HTML-Table)\" data-toc-modified-id=\"Import-data-from-wikipedia-(Scrape-an-HTML-Table)-0.4.2.1\">Import data from wikipedia (Scrape an HTML Table)</a></span></li><li><span><a href=\"#Import-data-from-wikipedia-(Using-xpath)\" data-toc-modified-id=\"Import-data-from-wikipedia-(Using-xpath)-0.4.2.2\">Import data from wikipedia (Using xpath)</a></span></li></ul></li></ul></li><li><span><a href=\"#Importing-Data-From-Other-Statistical-softwares\" data-toc-modified-id=\"Importing-Data-From-Other-Statistical-softwares-0.5\">Importing Data From Other Statistical softwares</a></span><ul class=\"toc-item\"><li><span><a href=\"#haven-package\" data-toc-modified-id=\"haven-package-0.5.1\">haven package</a></span><ul class=\"toc-item\"><li><span><a href=\"#From-SAS\" data-toc-modified-id=\"From-SAS-0.5.1.1\">From SAS</a></span></li><li><span><a href=\"#From-Stata\" data-toc-modified-id=\"From-Stata-0.5.1.2\">From Stata</a></span></li><li><span><a href=\"#From-SPSS\" data-toc-modified-id=\"From-SPSS-0.5.1.3\">From SPSS</a></span></li></ul></li><li><span><a href=\"#foreign-package\" data-toc-modified-id=\"foreign-package-0.5.2\">foreign package</a></span></li><li><span><a href=\"#Hmisc-package\" data-toc-modified-id=\"Hmisc-package-0.5.3\">Hmisc package</a></span></li></ul></li><li><span><a href=\"#One-package-for-basic-import/export-(rio-package)\" data-toc-modified-id=\"One-package-for-basic-import/export-(rio-package)-0.6\">One package for basic import/export (<code>rio</code> <strong>package</strong>)</a></span></li></ul></li></ul></div>"
   ]
  },
  {
   "cell_type": "markdown",
   "metadata": {
    "hide_input": false,
    "run_control": {
     "marked": false
    },
    "slideshow": {
     "slide_type": "subslide"
    }
   },
   "source": [
    "## Import data from excel files"
   ]
  },
  {
   "cell_type": "markdown",
   "metadata": {
    "hide_input": false,
    "run_control": {
     "marked": false
    },
    "slideshow": {
     "slide_type": "subslide"
    }
   },
   "source": [
    "### Using XLConnect package"
   ]
  },
  {
   "cell_type": "code",
   "execution_count": 19,
   "metadata": {
    "hide_input": false,
    "run_control": {
     "frozen": false,
     "marked": false,
     "read_only": false
    },
    "slideshow": {
     "slide_type": "fragment"
    }
   },
   "outputs": [
    {
     "name": "stdout",
     "output_type": "stream",
     "text": [
      "      Antigua.and.Barbuda   X17.072\n",
      "1               Argentina -36.67600\n",
      "2                 Armenia  40.25400\n",
      "3                   Aruba  12.51300\n",
      "4               Australia -32.21900\n",
      "5                 Austria  48.23100\n",
      "6              Azerbaijan  40.35200\n",
      "7                 Bahamas  24.70000\n",
      "8                 Bahrain  26.02400\n",
      "9              Bangladesh  23.88000\n",
      "10               Barbados  13.17900\n",
      "11                Belarus  53.54709\n",
      "12                Belgium  50.83700\n",
      "13                 Belize  17.84300\n",
      "14                  Benin   6.36400\n",
      "15                Bermuda  32.21700\n",
      "16                 Bhutan  27.47900\n",
      "17                Bolivia -15.19000\n",
      "18 Bosnia and Herzegovina  44.17501\n",
      "19               Botswana -21.53600\n",
      "20                 Brazil -19.55700\n",
      "21 British Virgin Islands  18.50000\n",
      "22                 Brunei   4.50100\n",
      "23               Bulgaria  42.07300\n",
      "24           Burkina Faso  12.04900\n",
      "25                Burundi  -3.36500\n",
      "26               Cambodia  12.02600\n",
      "27               Cameroon  10.73000\n",
      "28                 Canada  43.72700\n",
      "29             Cape Verde  15.09100\n",
      "30         Cayman Islands  19.31900\n",
      "31   Central African Rep.   4.33100\n",
      "32                   Chad  10.37700\n"
     ]
    }
   ],
   "source": [
    "#install.packages(\"XLConnect\", repos = \"http://cran.us.r-project.org\")\n",
    "library(XLConnect) #lib.loc=\"C:/Users/Suman/Documents/R/win-library/3.4\")\n",
    "\n",
    " \n",
    "# Download an Excel file from the internet\n",
    "# url <- \"http://miraisolutions.files.wordpress.com/\"\n",
    "# path <- \"2013/01/\"\n",
    "# file.name <- \"example.xlsx\"\n",
    "# download.file(paste(url, path, file.name, sep = \"\"), file.name)\n",
    " \n",
    "# Load the workbook\n",
    "wb <- XLConnect::loadWorkbook(\"data/latitude.xlsx\")\n",
    " \n",
    "# Read data from a target section of the worksheet and print\n",
    "my.data <- readWorksheet(wb, sheet = \"1700\", startRow = 10, startCol = 1, \n",
    "                         endRow = 42, endCol = 2)\n",
    "print(my.data)"
   ]
  },
  {
   "cell_type": "markdown",
   "metadata": {
    "hide_input": false,
    "run_control": {
     "marked": false
    },
    "slideshow": {
     "slide_type": "subslide"
    }
   },
   "source": [
    "### Using xlsx Package"
   ]
  },
  {
   "cell_type": "code",
   "execution_count": 20,
   "metadata": {
    "hide_input": false,
    "run_control": {
     "frozen": false,
     "marked": false,
     "read_only": false
    },
    "scrolled": true,
    "slideshow": {
     "slide_type": "fragment"
    }
   },
   "outputs": [
    {
     "data": {
      "text/html": [
       "<table>\n",
       "<thead><tr><th scope=col>Capital</th><th scope=col>Population</th></tr></thead>\n",
       "<tbody>\n",
       "\t<tr><td>New York </td><td>17800000 </td></tr>\n",
       "\t<tr><td>Berlin   </td><td> 3382169 </td></tr>\n",
       "\t<tr><td>Madrid   </td><td> 2938723 </td></tr>\n",
       "\t<tr><td>Stockholm</td><td> 1942362 </td></tr>\n",
       "\t<tr><td>NA       </td><td>      NA </td></tr>\n",
       "\t<tr><td>NA       </td><td>      NA </td></tr>\n",
       "\t<tr><td>NA       </td><td>      NA </td></tr>\n",
       "\t<tr><td>NA       </td><td>      NA </td></tr>\n",
       "\t<tr><td>NA       </td><td>      NA </td></tr>\n",
       "</tbody>\n",
       "</table>\n"
      ],
      "text/latex": [
       "\\begin{tabular}{r|ll}\n",
       " Capital & Population\\\\\n",
       "\\hline\n",
       "\t New York  & 17800000 \\\\\n",
       "\t Berlin    &  3382169 \\\\\n",
       "\t Madrid    &  2938723 \\\\\n",
       "\t Stockholm &  1942362 \\\\\n",
       "\t NA        &       NA \\\\\n",
       "\t NA        &       NA \\\\\n",
       "\t NA        &       NA \\\\\n",
       "\t NA        &       NA \\\\\n",
       "\t NA        &       NA \\\\\n",
       "\\end{tabular}\n"
      ],
      "text/markdown": [
       "\n",
       "Capital | Population | \n",
       "|---|---|---|---|---|---|---|---|---|\n",
       "| New York  | 17800000  | \n",
       "| Berlin    |  3382169  | \n",
       "| Madrid    |  2938723  | \n",
       "| Stockholm |  1942362  | \n",
       "| NA        |       NA  | \n",
       "| NA        |       NA  | \n",
       "| NA        |       NA  | \n",
       "| NA        |       NA  | \n",
       "| NA        |       NA  | \n",
       "\n",
       "\n"
      ],
      "text/plain": [
       "  Capital   Population\n",
       "1 New York  17800000  \n",
       "2 Berlin     3382169  \n",
       "3 Madrid     2938723  \n",
       "4 Stockholm  1942362  \n",
       "5 NA              NA  \n",
       "6 NA              NA  \n",
       "7 NA              NA  \n",
       "8 NA              NA  \n",
       "9 NA              NA  "
      ]
     },
     "metadata": {},
     "output_type": "display_data"
    },
    {
     "data": {
      "text/html": [
       "<table>\n",
       "<thead><tr><th scope=col>Capital</th><th scope=col>Population</th></tr></thead>\n",
       "<tbody>\n",
       "\t<tr><td>New York </td><td>16044000 </td></tr>\n",
       "\t<tr><td>Berlin   </td><td>3433695  </td></tr>\n",
       "\t<tr><td>Madrid   </td><td>3010492  </td></tr>\n",
       "\t<tr><td>Stockholm</td><td>1683713  </td></tr>\n",
       "</tbody>\n",
       "</table>\n"
      ],
      "text/latex": [
       "\\begin{tabular}{r|ll}\n",
       " Capital & Population\\\\\n",
       "\\hline\n",
       "\t New York  & 16044000 \\\\\n",
       "\t Berlin    & 3433695  \\\\\n",
       "\t Madrid    & 3010492  \\\\\n",
       "\t Stockholm & 1683713  \\\\\n",
       "\\end{tabular}\n"
      ],
      "text/markdown": [
       "\n",
       "Capital | Population | \n",
       "|---|---|---|---|\n",
       "| New York  | 16044000  | \n",
       "| Berlin    | 3433695   | \n",
       "| Madrid    | 3010492   | \n",
       "| Stockholm | 1683713   | \n",
       "\n",
       "\n"
      ],
      "text/plain": [
       "  Capital   Population\n",
       "1 New York  16044000  \n",
       "2 Berlin    3433695   \n",
       "3 Madrid    3010492   \n",
       "4 Stockholm 1683713   "
      ]
     },
     "metadata": {},
     "output_type": "display_data"
    }
   ],
   "source": [
    "#install.packages(\"xlsx\", repos = \"http://cran.us.r-project.org\")\n",
    "# Use xlsx package\n",
    "library(\"xlsx\")\n",
    "my_data <- read.xlsx(\"data/cities.xlsx\", sheetName = \"year_2000\")\n",
    "my_data\n",
    "my_data <- read.xlsx2(\"data/cities.xlsx\", sheetName = \"year_1990\")  # Prefer the read.xlsx2() over read.xlsx(), it’s significantly faster for large dataset.\n",
    "my_data"
   ]
  },
  {
   "cell_type": "markdown",
   "metadata": {
    "hide_input": false,
    "run_control": {
     "marked": false
    },
    "slideshow": {
     "slide_type": "subslide"
    }
   },
   "source": [
    "### Using Readxl Package"
   ]
  },
  {
   "cell_type": "code",
   "execution_count": 21,
   "metadata": {
    "hide_input": false,
    "run_control": {
     "frozen": false,
     "marked": false,
     "read_only": false
    },
    "scrolled": false,
    "slideshow": {
     "slide_type": "fragment"
    }
   },
   "outputs": [
    {
     "data": {
      "text/html": [
       "<ol class=list-inline>\n",
       "\t<li>'year_1990'</li>\n",
       "\t<li>'year_2000'</li>\n",
       "</ol>\n"
      ],
      "text/latex": [
       "\\begin{enumerate*}\n",
       "\\item 'year\\_1990'\n",
       "\\item 'year\\_2000'\n",
       "\\end{enumerate*}\n"
      ],
      "text/markdown": [
       "1. 'year_1990'\n",
       "2. 'year_2000'\n",
       "\n",
       "\n"
      ],
      "text/plain": [
       "[1] \"year_1990\" \"year_2000\""
      ]
     },
     "metadata": {},
     "output_type": "display_data"
    },
    {
     "data": {
      "text/html": [
       "<table>\n",
       "<thead><tr><th scope=col>Capital</th><th scope=col>Population</th></tr></thead>\n",
       "<tbody>\n",
       "\t<tr><td>New York </td><td>16044000 </td></tr>\n",
       "\t<tr><td>Berlin   </td><td> 3433695 </td></tr>\n",
       "\t<tr><td>Madrid   </td><td> 3010492 </td></tr>\n",
       "\t<tr><td>Stockholm</td><td> 1683713 </td></tr>\n",
       "</tbody>\n",
       "</table>\n"
      ],
      "text/latex": [
       "\\begin{tabular}{r|ll}\n",
       " Capital & Population\\\\\n",
       "\\hline\n",
       "\t New York  & 16044000 \\\\\n",
       "\t Berlin    &  3433695 \\\\\n",
       "\t Madrid    &  3010492 \\\\\n",
       "\t Stockholm &  1683713 \\\\\n",
       "\\end{tabular}\n"
      ],
      "text/markdown": [
       "\n",
       "Capital | Population | \n",
       "|---|---|---|---|\n",
       "| New York  | 16044000  | \n",
       "| Berlin    |  3433695  | \n",
       "| Madrid    |  3010492  | \n",
       "| Stockholm |  1683713  | \n",
       "\n",
       "\n"
      ],
      "text/plain": [
       "  Capital   Population\n",
       "1 New York  16044000  \n",
       "2 Berlin     3433695  \n",
       "3 Madrid     3010492  \n",
       "4 Stockholm  1683713  "
      ]
     },
     "metadata": {},
     "output_type": "display_data"
    },
    {
     "data": {
      "text/html": [
       "<table>\n",
       "<thead><tr><th scope=col>Capital</th><th scope=col>Population</th></tr></thead>\n",
       "<tbody>\n",
       "\t<tr><td>New York </td><td>17800000 </td></tr>\n",
       "\t<tr><td>Berlin   </td><td> 3382169 </td></tr>\n",
       "\t<tr><td>Madrid   </td><td> 2938723 </td></tr>\n",
       "\t<tr><td>Stockholm</td><td> 1942362 </td></tr>\n",
       "</tbody>\n",
       "</table>\n"
      ],
      "text/latex": [
       "\\begin{tabular}{r|ll}\n",
       " Capital & Population\\\\\n",
       "\\hline\n",
       "\t New York  & 17800000 \\\\\n",
       "\t Berlin    &  3382169 \\\\\n",
       "\t Madrid    &  2938723 \\\\\n",
       "\t Stockholm &  1942362 \\\\\n",
       "\\end{tabular}\n"
      ],
      "text/markdown": [
       "\n",
       "Capital | Population | \n",
       "|---|---|---|---|\n",
       "| New York  | 17800000  | \n",
       "| Berlin    |  3382169  | \n",
       "| Madrid    |  2938723  | \n",
       "| Stockholm |  1942362  | \n",
       "\n",
       "\n"
      ],
      "text/plain": [
       "  Capital   Population\n",
       "1 New York  17800000  \n",
       "2 Berlin     3382169  \n",
       "3 Madrid     2938723  \n",
       "4 Stockholm  1942362  "
      ]
     },
     "metadata": {},
     "output_type": "display_data"
    },
    {
     "data": {
      "text/html": [
       "<table>\n",
       "<thead><tr><th scope=col>Capital</th><th scope=col>Population</th></tr></thead>\n",
       "<tbody>\n",
       "\t<tr><td>New York </td><td>17800000 </td></tr>\n",
       "\t<tr><td>Berlin   </td><td> 3382169 </td></tr>\n",
       "\t<tr><td>Madrid   </td><td> 2938723 </td></tr>\n",
       "\t<tr><td>Stockholm</td><td> 1942362 </td></tr>\n",
       "</tbody>\n",
       "</table>\n"
      ],
      "text/latex": [
       "\\begin{tabular}{r|ll}\n",
       " Capital & Population\\\\\n",
       "\\hline\n",
       "\t New York  & 17800000 \\\\\n",
       "\t Berlin    &  3382169 \\\\\n",
       "\t Madrid    &  2938723 \\\\\n",
       "\t Stockholm &  1942362 \\\\\n",
       "\\end{tabular}\n"
      ],
      "text/markdown": [
       "\n",
       "Capital | Population | \n",
       "|---|---|---|---|\n",
       "| New York  | 17800000  | \n",
       "| Berlin    |  3382169  | \n",
       "| Madrid    |  2938723  | \n",
       "| Stockholm |  1942362  | \n",
       "\n",
       "\n"
      ],
      "text/plain": [
       "  Capital   Population\n",
       "1 New York  17800000  \n",
       "2 Berlin     3382169  \n",
       "3 Madrid     2938723  \n",
       "4 Stockholm  1942362  "
      ]
     },
     "metadata": {},
     "output_type": "display_data"
    }
   ],
   "source": [
    "# Use readxl package to read xls|xlsxl\n",
    "#install.packages(\"readxl\") \n",
    "library(readxl)\n",
    "excel_sheets(\"data/cities.xlsx\") \n",
    "my_data<-read_excel(\"data/cities.xlsx\")\n",
    "my_data\n",
    "read_excel(\"data/cities.xlsx\", sheet = 2) \n",
    "read_excel(\"data/cities.xlsx\", sheet = \"year_2000\")\n",
    "# col_names = FALSE: R assigns names itself \n",
    "# col_names = character vector: manually specify \n"
   ]
  },
  {
   "cell_type": "markdown",
   "metadata": {
    "slideshow": {
     "slide_type": "slide"
    }
   },
   "source": [
    "## Importing XML data into R  "
   ]
  },
  {
   "cell_type": "code",
   "execution_count": 22,
   "metadata": {
    "run_control": {
     "frozen": false,
     "read_only": false
    },
    "scrolled": false,
    "slideshow": {
     "slide_type": "subslide"
    }
   },
   "outputs": [
    {
     "data": {
      "text/html": [
       "<table>\n",
       "<thead><tr><th scope=col>name</th><th scope=col>price</th><th scope=col>description</th><th scope=col>calories</th></tr></thead>\n",
       "<tbody>\n",
       "\t<tr><td>Belgian Waffles                                                                    </td><td>$5.95                                                                              </td><td>Two of our famous Belgian Waffles with plenty of real maple syrup                  </td><td>650                                                                                </td></tr>\n",
       "\t<tr><td>Strawberry Belgian Waffles                                                         </td><td>$7.95                                                                              </td><td>Light Belgian waffles covered with strawberries and whipped cream                  </td><td>900                                                                                </td></tr>\n",
       "\t<tr><td>Berry-Berry Belgian Waffles                                                        </td><td>$8.95                                                                              </td><td>Light Belgian waffles covered with an assortment of fresh berries and whipped cream</td><td>900                                                                                </td></tr>\n",
       "\t<tr><td>French Toast                                                                       </td><td>$4.50                                                                              </td><td>Thick slices made from our homemade sourdough bread                                </td><td>600                                                                                </td></tr>\n",
       "\t<tr><td>Homestyle Breakfast                                                                </td><td>$6.95                                                                              </td><td>Two eggs, bacon or sausage, toast, and our ever-popular hash browns                </td><td>950                                                                                </td></tr>\n",
       "</tbody>\n",
       "</table>\n"
      ],
      "text/latex": [
       "\\begin{tabular}{r|llll}\n",
       " name & price & description & calories\\\\\n",
       "\\hline\n",
       "\t Belgian Waffles                                                                     & \\$5.95                                                                             & Two of our famous Belgian Waffles with plenty of real maple syrup                   & 650                                                                                \\\\\n",
       "\t Strawberry Belgian Waffles                                                          & \\$7.95                                                                             & Light Belgian waffles covered with strawberries and whipped cream                   & 900                                                                                \\\\\n",
       "\t Berry-Berry Belgian Waffles                                                         & \\$8.95                                                                             & Light Belgian waffles covered with an assortment of fresh berries and whipped cream & 900                                                                                \\\\\n",
       "\t French Toast                                                                        & \\$4.50                                                                             & Thick slices made from our homemade sourdough bread                                 & 600                                                                                \\\\\n",
       "\t Homestyle Breakfast                                                                 & \\$6.95                                                                             & Two eggs, bacon or sausage, toast, and our ever-popular hash browns                 & 950                                                                                \\\\\n",
       "\\end{tabular}\n"
      ],
      "text/markdown": [
       "\n",
       "name | price | description | calories | \n",
       "|---|---|---|---|---|\n",
       "| Belgian Waffles                                                                     | $5.95                                                                               | Two of our famous Belgian Waffles with plenty of real maple syrup                   | 650                                                                                 | \n",
       "| Strawberry Belgian Waffles                                                          | $7.95                                                                               | Light Belgian waffles covered with strawberries and whipped cream                   | 900                                                                                 | \n",
       "| Berry-Berry Belgian Waffles                                                         | $8.95                                                                               | Light Belgian waffles covered with an assortment of fresh berries and whipped cream | 900                                                                                 | \n",
       "| French Toast                                                                        | $4.50                                                                               | Thick slices made from our homemade sourdough bread                                 | 600                                                                                 | \n",
       "| Homestyle Breakfast                                                                 | $6.95                                                                               | Two eggs, bacon or sausage, toast, and our ever-popular hash browns                 | 950                                                                                 | \n",
       "\n",
       "\n"
      ],
      "text/plain": [
       "  name                        price\n",
       "1 Belgian Waffles             $5.95\n",
       "2 Strawberry Belgian Waffles  $7.95\n",
       "3 Berry-Berry Belgian Waffles $8.95\n",
       "4 French Toast                $4.50\n",
       "5 Homestyle Breakfast         $6.95\n",
       "  description                                                                        \n",
       "1 Two of our famous Belgian Waffles with plenty of real maple syrup                  \n",
       "2 Light Belgian waffles covered with strawberries and whipped cream                  \n",
       "3 Light Belgian waffles covered with an assortment of fresh berries and whipped cream\n",
       "4 Thick slices made from our homemade sourdough bread                                \n",
       "5 Two eggs, bacon or sausage, toast, and our ever-popular hash browns                \n",
       "  calories\n",
       "1 650     \n",
       "2 900     \n",
       "3 900     \n",
       "4 600     \n",
       "5 950     "
      ]
     },
     "metadata": {},
     "output_type": "display_data"
    },
    {
     "name": "stdout",
     "output_type": "stream",
     "text": [
      "<?xml version=\"1.0\"?>\n",
      "<RECORDS>\n",
      "  <EMPLOYEE>\n",
      "    <ID>1</ID>\n",
      "    <NAME>Rick</NAME>\n",
      "    <SALARY>623.3</SALARY>\n",
      "    <STARTDATE>1/1/2012</STARTDATE>\n",
      "    <DEPT>IT</DEPT>\n",
      "  </EMPLOYEE>\n",
      "  <EMPLOYEE>\n",
      "    <ID>2</ID>\n",
      "    <NAME>Dan</NAME>\n",
      "    <SALARY>515.2</SALARY>\n",
      "    <STARTDATE>9/23/2013</STARTDATE>\n",
      "    <DEPT>Operations</DEPT>\n",
      "  </EMPLOYEE>\n",
      "  <EMPLOYEE>\n",
      "    <ID>3</ID>\n",
      "    <NAME>Michelle</NAME>\n",
      "    <SALARY>611</SALARY>\n",
      "    <STARTDATE>11/15/2014</STARTDATE>\n",
      "    <DEPT>IT</DEPT>\n",
      "  </EMPLOYEE>\n",
      "  <EMPLOYEE>\n",
      "    <ID>4</ID>\n",
      "    <NAME>Ryan</NAME>\n",
      "    <SALARY>729</SALARY>\n",
      "    <STARTDATE>5/11/2014</STARTDATE>\n",
      "    <DEPT>HR</DEPT>\n",
      "  </EMPLOYEE>\n",
      "  <EMPLOYEE>\n",
      "    <ID>5</ID>\n",
      "    <NAME>Gary</NAME>\n",
      "    <SALARY>843.25</SALARY>\n",
      "    <STARTDATE>3/27/2015</STARTDATE>\n",
      "    <DEPT>Finance</DEPT>\n",
      "  </EMPLOYEE>\n",
      "  <EMPLOYEE>\n",
      "    <ID>6</ID>\n",
      "    <NAME>Nina</NAME>\n",
      "    <SALARY>578</SALARY>\n",
      "    <STARTDATE>5/21/2013</STARTDATE>\n",
      "    <DEPT>IT</DEPT>\n",
      "  </EMPLOYEE>\n",
      "  <EMPLOYEE>\n",
      "    <ID>7</ID>\n",
      "    <NAME>Simon</NAME>\n",
      "    <SALARY>632.8</SALARY>\n",
      "    <STARTDATE>7/30/2013</STARTDATE>\n",
      "    <DEPT>Operations</DEPT>\n",
      "  </EMPLOYEE>\n",
      "  <EMPLOYEE>\n",
      "    <ID>8</ID>\n",
      "    <NAME>Guru</NAME>\n",
      "    <SALARY>722.5</SALARY>\n",
      "    <STARTDATE>6/17/2014</STARTDATE>\n",
      "    <DEPT>Finance</DEPT>\n",
      "  </EMPLOYEE>\n",
      "</RECORDS>\n",
      " \n",
      "[1] 8\n",
      "$EMPLOYEE\n",
      "<EMPLOYEE>\n",
      "  <ID>1</ID>\n",
      "  <NAME>Rick</NAME>\n",
      "  <SALARY>623.3</SALARY>\n",
      "  <STARTDATE>1/1/2012</STARTDATE>\n",
      "  <DEPT>IT</DEPT>\n",
      "</EMPLOYEE> \n",
      "\n",
      "attr(,\"class\")\n",
      "[1] \"XMLInternalNodeList\" \"XMLNodeList\"        \n",
      "  ID     NAME SALARY  STARTDATE       DEPT\n",
      "1  1     Rick  623.3   1/1/2012         IT\n",
      "2  2      Dan  515.2  9/23/2013 Operations\n",
      "3  3 Michelle    611 11/15/2014         IT\n",
      "4  4     Ryan    729  5/11/2014         HR\n",
      "5  5     Gary 843.25  3/27/2015    Finance\n",
      "6  6     Nina    578  5/21/2013         IT\n",
      "7  7    Simon  632.8  7/30/2013 Operations\n",
      "8  8     Guru  722.5  6/17/2014    Finance\n"
     ]
    },
    {
     "data": {
      "text/html": [
       "<table>\n",
       "<thead><tr><th scope=col>ID</th><th scope=col>NAME</th><th scope=col>SALARY</th><th scope=col>STARTDATE</th><th scope=col>DEPT</th></tr></thead>\n",
       "<tbody>\n",
       "\t<tr><td>1         </td><td>Rick      </td><td>623.3     </td><td>1/1/2012  </td><td>IT        </td></tr>\n",
       "\t<tr><td>2         </td><td>Dan       </td><td>515.2     </td><td>9/23/2013 </td><td>Operations</td></tr>\n",
       "\t<tr><td>3         </td><td>Michelle  </td><td>611       </td><td>11/15/2014</td><td>IT        </td></tr>\n",
       "\t<tr><td>4         </td><td>Ryan      </td><td>729       </td><td>5/11/2014 </td><td>HR        </td></tr>\n",
       "\t<tr><td>5         </td><td>Gary      </td><td>843.25    </td><td>3/27/2015 </td><td>Finance   </td></tr>\n",
       "\t<tr><td>6         </td><td>Nina      </td><td>578       </td><td>5/21/2013 </td><td>IT        </td></tr>\n",
       "</tbody>\n",
       "</table>\n"
      ],
      "text/latex": [
       "\\begin{tabular}{r|lllll}\n",
       " ID & NAME & SALARY & STARTDATE & DEPT\\\\\n",
       "\\hline\n",
       "\t 1          & Rick       & 623.3      & 1/1/2012   & IT        \\\\\n",
       "\t 2          & Dan        & 515.2      & 9/23/2013  & Operations\\\\\n",
       "\t 3          & Michelle   & 611        & 11/15/2014 & IT        \\\\\n",
       "\t 4          & Ryan       & 729        & 5/11/2014  & HR        \\\\\n",
       "\t 5          & Gary       & 843.25     & 3/27/2015  & Finance   \\\\\n",
       "\t 6          & Nina       & 578        & 5/21/2013  & IT        \\\\\n",
       "\\end{tabular}\n"
      ],
      "text/markdown": [
       "\n",
       "ID | NAME | SALARY | STARTDATE | DEPT | \n",
       "|---|---|---|---|---|---|\n",
       "| 1          | Rick       | 623.3      | 1/1/2012   | IT         | \n",
       "| 2          | Dan        | 515.2      | 9/23/2013  | Operations | \n",
       "| 3          | Michelle   | 611        | 11/15/2014 | IT         | \n",
       "| 4          | Ryan       | 729        | 5/11/2014  | HR         | \n",
       "| 5          | Gary       | 843.25     | 3/27/2015  | Finance    | \n",
       "| 6          | Nina       | 578        | 5/21/2013  | IT         | \n",
       "\n",
       "\n"
      ],
      "text/plain": [
       "  ID NAME     SALARY STARTDATE  DEPT      \n",
       "1 1  Rick     623.3  1/1/2012   IT        \n",
       "2 2  Dan      515.2  9/23/2013  Operations\n",
       "3 3  Michelle 611    11/15/2014 IT        \n",
       "4 4  Ryan     729    5/11/2014  HR        \n",
       "5 5  Gary     843.25 3/27/2015  Finance   \n",
       "6 6  Nina     578    5/21/2013  IT        "
      ]
     },
     "metadata": {},
     "output_type": "display_data"
    }
   ],
   "source": [
    "# working with xml file from url link\n",
    "library(RCurl)\n",
    "library(XML, lib.loc=\"~/R/win-library/3.4\")\n",
    "# library(RCurl, lib.loc=\"~/R/win-library/3.4\")\n",
    "fileURL <- \"https://www.w3schools.com/xml/simple.xml\"\n",
    "xData <- getURL(fileURL)\n",
    "doc <- xmlParse(xData)\n",
    "rootNode <- xmlRoot(doc)\n",
    "xmldataframe1 <- xmlToDataFrame(xData)\n",
    "xmldataframe1\n",
    "# working with local file\n",
    "result <- xmlParse(\"data/books.xml\")\n",
    "print(result)\n",
    "rootNode <- xmlRoot(result)\n",
    "rootSize <- xmlSize(rootNode)\n",
    "print(rootSize)\n",
    "print(rootNode[1])\n",
    "xmldataframe <- xmlToDataFrame(\"data/books.xml\")\n",
    "print(xmldataframe)\n",
    "head(xmldataframe)\n"
   ]
  },
  {
   "cell_type": "markdown",
   "metadata": {
    "slideshow": {
     "slide_type": "slide"
    }
   },
   "source": [
    "## Import JSON data into R"
   ]
  },
  {
   "cell_type": "code",
   "execution_count": 23,
   "metadata": {
    "run_control": {
     "frozen": false,
     "read_only": false
    },
    "slideshow": {
     "slide_type": "subslide"
    }
   },
   "outputs": [
    {
     "name": "stdout",
     "output_type": "stream",
     "text": [
      "$ID\n",
      "[1] \"1\" \"2\" \"3\" \"4\" \"5\" \"6\" \"7\" \"8\"\n",
      "\n",
      "$Name\n",
      "[1] \"Rick\"     \"Dan\"      \"Michelle\" \"Ryan\"     \"Gary\"     \"Nina\"     \"Simon\"   \n",
      "[8] \"Guru\"    \n",
      "\n",
      "$Salary\n",
      "[1] \"623.3\"  \"515.2\"  \"611\"    \"729\"    \"843.25\" \"578\"    \"632.8\"  \"722.5\" \n",
      "\n",
      "$StartDate\n",
      "[1] \"1/1/2012\"   \"9/23/2013\"  \"11/15/2014\" \"5/11/2014\"  \"3/27/2015\" \n",
      "[6] \"5/21/2013\"  \"7/30/2013\"  \"6/17/2014\" \n",
      "\n",
      "$Dept\n",
      "[1] \"IT\"         \"Operations\" \"IT\"         \"HR\"         \"Finance\"   \n",
      "[6] \"IT\"         \"Operations\" \"Finance\"   \n",
      "\n"
     ]
    },
    {
     "data": {
      "text/html": [
       "<table>\n",
       "<thead><tr><th scope=col>ID</th><th scope=col>Name</th><th scope=col>Salary</th><th scope=col>StartDate</th><th scope=col>Dept</th></tr></thead>\n",
       "<tbody>\n",
       "\t<tr><td>1         </td><td>Rick      </td><td>623.3     </td><td>1/1/2012  </td><td>IT        </td></tr>\n",
       "\t<tr><td>2         </td><td>Dan       </td><td>515.2     </td><td>9/23/2013 </td><td>Operations</td></tr>\n",
       "\t<tr><td>3         </td><td>Michelle  </td><td>611       </td><td>11/15/2014</td><td>IT        </td></tr>\n",
       "\t<tr><td>4         </td><td>Ryan      </td><td>729       </td><td>5/11/2014 </td><td>HR        </td></tr>\n",
       "\t<tr><td>5         </td><td>Gary      </td><td>843.25    </td><td>3/27/2015 </td><td>Finance   </td></tr>\n",
       "\t<tr><td>6         </td><td>Nina      </td><td>578       </td><td>5/21/2013 </td><td>IT        </td></tr>\n",
       "\t<tr><td>7         </td><td>Simon     </td><td>632.8     </td><td>7/30/2013 </td><td>Operations</td></tr>\n",
       "\t<tr><td>8         </td><td>Guru      </td><td>722.5     </td><td>6/17/2014 </td><td>Finance   </td></tr>\n",
       "</tbody>\n",
       "</table>\n"
      ],
      "text/latex": [
       "\\begin{tabular}{r|lllll}\n",
       " ID & Name & Salary & StartDate & Dept\\\\\n",
       "\\hline\n",
       "\t 1          & Rick       & 623.3      & 1/1/2012   & IT        \\\\\n",
       "\t 2          & Dan        & 515.2      & 9/23/2013  & Operations\\\\\n",
       "\t 3          & Michelle   & 611        & 11/15/2014 & IT        \\\\\n",
       "\t 4          & Ryan       & 729        & 5/11/2014  & HR        \\\\\n",
       "\t 5          & Gary       & 843.25     & 3/27/2015  & Finance   \\\\\n",
       "\t 6          & Nina       & 578        & 5/21/2013  & IT        \\\\\n",
       "\t 7          & Simon      & 632.8      & 7/30/2013  & Operations\\\\\n",
       "\t 8          & Guru       & 722.5      & 6/17/2014  & Finance   \\\\\n",
       "\\end{tabular}\n"
      ],
      "text/markdown": [
       "\n",
       "ID | Name | Salary | StartDate | Dept | \n",
       "|---|---|---|---|---|---|---|---|\n",
       "| 1          | Rick       | 623.3      | 1/1/2012   | IT         | \n",
       "| 2          | Dan        | 515.2      | 9/23/2013  | Operations | \n",
       "| 3          | Michelle   | 611        | 11/15/2014 | IT         | \n",
       "| 4          | Ryan       | 729        | 5/11/2014  | HR         | \n",
       "| 5          | Gary       | 843.25     | 3/27/2015  | Finance    | \n",
       "| 6          | Nina       | 578        | 5/21/2013  | IT         | \n",
       "| 7          | Simon      | 632.8      | 7/30/2013  | Operations | \n",
       "| 8          | Guru       | 722.5      | 6/17/2014  | Finance    | \n",
       "\n",
       "\n"
      ],
      "text/plain": [
       "  ID Name     Salary StartDate  Dept      \n",
       "1 1  Rick     623.3  1/1/2012   IT        \n",
       "2 2  Dan      515.2  9/23/2013  Operations\n",
       "3 3  Michelle 611    11/15/2014 IT        \n",
       "4 4  Ryan     729    5/11/2014  HR        \n",
       "5 5  Gary     843.25 3/27/2015  Finance   \n",
       "6 6  Nina     578    5/21/2013  IT        \n",
       "7 7  Simon    632.8  7/30/2013  Operations\n",
       "8 8  Guru     722.5  6/17/2014  Finance   "
      ]
     },
     "metadata": {},
     "output_type": "display_data"
    }
   ],
   "source": [
    "#install.packages(\"rjson\", repos = \"http://cran.us.r-project.org\")\n",
    "# Load the package required to read JSON files.\n",
    "library(\"rjson\", lib.loc=\"~/R/win-library/3.4\")\n",
    "\n",
    "# Give the input file name to the function.\n",
    "result <- fromJSON(file = \"data/JSN.json\")\n",
    "\n",
    "# Print the result.\n",
    "print(result)\n",
    "as.data.frame(result)"
   ]
  },
  {
   "cell_type": "markdown",
   "metadata": {
    "hide_input": false,
    "run_control": {
     "marked": false
    },
    "slideshow": {
     "slide_type": "slide"
    }
   },
   "source": [
    "## Importing Data From HTML Tables Into R "
   ]
  },
  {
   "cell_type": "markdown",
   "metadata": {
    "slideshow": {
     "slide_type": "slide"
    }
   },
   "source": [
    "### Using httr packages"
   ]
  },
  {
   "cell_type": "code",
   "execution_count": 13,
   "metadata": {
    "run_control": {
     "frozen": false,
     "marked": false,
     "read_only": false
    },
    "slideshow": {
     "slide_type": "subslide"
    }
   },
   "outputs": [
    {
     "data": {
      "text/html": [
       "<strong>$`NULL`</strong> = <table>\n",
       "<thead><tr><th scope=col>V1</th><th scope=col>V2</th><th scope=col>V3</th><th scope=col>V4</th></tr></thead>\n",
       "<tbody>\n",
       "\t<tr><td>2016                                   </td><td>Ritu Varma                             </td><td>Pelli Choopulu                         </td><td>NA                                     </td></tr>\n",
       "\t<tr><td>2015                                   </td><td>Anushka Shetty                         </td><td>Size Zero                              </td><td>NA                                     </td></tr>\n",
       "\t<tr><td>2014                                   </td><td>Anjali                                 </td><td>Geethanjali                            </td><td>NA                                     </td></tr>\n",
       "\t<tr><td>2013                                   </td><td>Anjali Patil                           </td><td>Naa Bangaaru Talli                     </td><td>NA                                     </td></tr>\n",
       "\t<tr><td>2012                                   </td><td>Samantha Ruth Prabhu                   </td><td>Yeto Vellipoyindhi Manasu              </td><td>NA                                     </td></tr>\n",
       "\t<tr><td>2011                                   </td><td>Nayantara                              </td><td>Sri Rama Rajyam                        </td><td>NA                                     </td></tr>\n",
       "\t<tr><td>2010                                   </td><td>Nithya Menen[5]                        </td><td>Ala Modalaindi                         </td><td>NA                                     </td></tr>\n",
       "\t<tr><td>2009                                   </td><td>Thirtha[6]                             </td><td>Sontha Ooru                            </td><td>NA                                     </td></tr>\n",
       "\t<tr><td>2008                                   </td><td>Swathi                                 </td><td>Ashta Chamma                           </td><td>NA                                     </td></tr>\n",
       "\t<tr><td>2007                                   </td><td>Charmy Kaur                            </td><td>Mantra                                 </td><td>NA                                     </td></tr>\n",
       "\t<tr><td>2006                                   </td><td>Nandita Das                            </td><td>Kamli                                  </td><td>NA                                     </td></tr>\n",
       "\t<tr><td>2005                                   </td><td>Trisha                                 </td><td>Nuvvostanante Nenoddantana             </td><td>NA                                     </td></tr>\n",
       "\t<tr><td>2004                                   </td><td>Kamalinee Mukherjee                    </td><td>Anand                                  </td><td>NA                                     </td></tr>\n",
       "\t<tr><td>2003                                   </td><td>Bhoomika Chawla                        </td><td>Missamma                               </td><td>NA                                     </td></tr>\n",
       "\t<tr><td>2002                                   </td><td>Kalyani                                </td><td>Avunu Valliddaru Ista Paddaru          </td><td>NA                                     </td></tr>\n",
       "\t<tr><td>2001                                   </td><td>Laya[7]                                </td><td>Preminchu                              </td><td>NA                                     </td></tr>\n",
       "\t<tr><td>2000                                   </td><td>Laya[8]                                </td><td>Manoharam                              </td><td>NA                                     </td></tr>\n",
       "\t<tr><td>1999                                   </td><td>Maheswari                              </td><td>Nee Kosam                              </td><td>NA                                     </td></tr>\n",
       "\t<tr><td>1998                                   </td><td>Ramya Krishnan                         </td><td>Kante Koothurne Kanu                   </td><td>NA                                     </td></tr>\n",
       "\t<tr><td>1998                                   </td><td>Soundarya                              </td><td>Antahpuram                             </td><td>NA                                     </td></tr>\n",
       "\t<tr><td>1997                                   </td><td>Vijayashanti                           </td><td>Osey Ramulamma                         </td><td>NA                                     </td></tr>\n",
       "\t<tr><td>1996                                   </td><td>Soundarya                              </td><td>Pavithra Bandham                       </td><td>NA                                     </td></tr>\n",
       "\t<tr><td>1995                                   </td><td>Aamani                                 </td><td>Subha Sankalpam                        </td><td>NA                                     </td></tr>\n",
       "\t<tr><td>1994                                   </td><td>Soundarya                              </td><td>Ammoru                                 </td><td>NA                                     </td></tr>\n",
       "\t<tr><td>1993                                   </td><td>Aamani                                 </td><td>Mr. Pellam                             </td><td>NA                                     </td></tr>\n",
       "\t<tr><td>1992                                   </td><td>Meena                                  </td><td>Rajeshwari Kalyanam                    </td><td>NA                                     </td></tr>\n",
       "\t<tr><td>1991                                   </td><td>Sridevi                                </td><td>Kshana Kshanam                         </td><td>NA                                     </td></tr>\n",
       "\t<tr><td>1990                                   </td><td>VijayashantiMeena                      </td><td>KarthavyamSeetharamaiah Gari Manavaralu</td><td>                                       </td></tr>\n",
       "\t<tr><td>1989                                   </td><td>Vijayashanti                           </td><td>Bharatha Naari                         </td><td>NA                                     </td></tr>\n",
       "\t<tr><td>1988                                   </td><td>Bhanupriya                             </td><td>Swarna Kamalam                         </td><td>NA                                     </td></tr>\n",
       "\t<tr><td>1987                                   </td><td>Sumalatha                              </td><td>Sruthilayalu                           </td><td>NA                                     </td></tr>\n",
       "\t<tr><td>1986                                   </td><td>Lakshmi                                </td><td>Sravana Megalu                         </td><td>NA                                     </td></tr>\n",
       "\t<tr><td>1985                                   </td><td>Vijayashanti                           </td><td>Pratighatana                           </td><td>NA                                     </td></tr>\n",
       "\t<tr><td>1984                                   </td><td>Suhasini                               </td><td>Swathi                                 </td><td>NA                                     </td></tr>\n",
       "\t<tr><td>1983                                   </td><td>Jayasudha                              </td><td>Dharmaatmudu                           </td><td>NA                                     </td></tr>\n",
       "\t<tr><td>1982                                   </td><td>Jayasudha                              </td><td>Meghasandesam                          </td><td>NA                                     </td></tr>\n",
       "\t<tr><td>1981                                   </td><td>Jayasudha                              </td><td>Premabhishekam                         </td><td>NA                                     </td></tr>\n",
       "\t<tr><td>1980                                   </td><td>Sakuntala                              </td><td>Kukka                                  </td><td>NA                                     </td></tr>\n",
       "\t<tr><td>1979                                   </td><td>Jayasudha                              </td><td>Idi Katha Kaadu                        </td><td>NA                                     </td></tr>\n",
       "\t<tr><td>1978                                   </td><td>Roopa                                  </td><td>Naalaaga Endaro                        </td><td>NA                                     </td></tr>\n",
       "\t<tr><td>1977                                   </td><td>Lakshmi[1]                             </td><td>Pantulamma                             </td><td>NA                                     </td></tr>\n",
       "\t<tr><td>1976                                   </td><td>Jayaprada[1]                           </td><td>Anthuleni Kadha                        </td><td>NA                                     </td></tr>\n",
       "\t<tr><td>1975                                   </td><td>Jayasudha[1]                           </td><td>Jyothi                                 </td><td>NA                                     </td></tr>\n",
       "</tbody>\n",
       "</table>\n"
      ],
      "text/latex": [
       "\\textbf{\\$`NULL`} = \\begin{tabular}{r|llll}\n",
       " V1 & V2 & V3 & V4\\\\\n",
       "\\hline\n",
       "\t 2016                                    & Ritu Varma                              & Pelli Choopulu                          & NA                                     \\\\\n",
       "\t 2015                                    & Anushka Shetty                          & Size Zero                               & NA                                     \\\\\n",
       "\t 2014                                    & Anjali                                  & Geethanjali                             & NA                                     \\\\\n",
       "\t 2013                                    & Anjali Patil                            & Naa Bangaaru Talli                      & NA                                     \\\\\n",
       "\t 2012                                    & Samantha Ruth Prabhu                    & Yeto Vellipoyindhi Manasu               & NA                                     \\\\\n",
       "\t 2011                                    & Nayantara                               & Sri Rama Rajyam                         & NA                                     \\\\\n",
       "\t 2010                                    & Nithya Menen{[}5{]}                     & Ala Modalaindi                          & NA                                     \\\\\n",
       "\t 2009                                    & Thirtha{[}6{]}                          & Sontha Ooru                             & NA                                     \\\\\n",
       "\t 2008                                    & Swathi                                  & Ashta Chamma                            & NA                                     \\\\\n",
       "\t 2007                                    & Charmy Kaur                             & Mantra                                  & NA                                     \\\\\n",
       "\t 2006                                    & Nandita Das                             & Kamli                                   & NA                                     \\\\\n",
       "\t 2005                                    & Trisha                                  & Nuvvostanante Nenoddantana              & NA                                     \\\\\n",
       "\t 2004                                    & Kamalinee Mukherjee                     & Anand                                   & NA                                     \\\\\n",
       "\t 2003                                    & Bhoomika Chawla                         & Missamma                                & NA                                     \\\\\n",
       "\t 2002                                    & Kalyani                                 & Avunu Valliddaru Ista Paddaru           & NA                                     \\\\\n",
       "\t 2001                                    & Laya{[}7{]}                             & Preminchu                               & NA                                     \\\\\n",
       "\t 2000                                    & Laya{[}8{]}                             & Manoharam                               & NA                                     \\\\\n",
       "\t 1999                                    & Maheswari                               & Nee Kosam                               & NA                                     \\\\\n",
       "\t 1998                                    & Ramya Krishnan                          & Kante Koothurne Kanu                    & NA                                     \\\\\n",
       "\t 1998                                    & Soundarya                               & Antahpuram                              & NA                                     \\\\\n",
       "\t 1997                                    & Vijayashanti                            & Osey Ramulamma                          & NA                                     \\\\\n",
       "\t 1996                                    & Soundarya                               & Pavithra Bandham                        & NA                                     \\\\\n",
       "\t 1995                                    & Aamani                                  & Subha Sankalpam                         & NA                                     \\\\\n",
       "\t 1994                                    & Soundarya                               & Ammoru                                  & NA                                     \\\\\n",
       "\t 1993                                    & Aamani                                  & Mr. Pellam                              & NA                                     \\\\\n",
       "\t 1992                                    & Meena                                   & Rajeshwari Kalyanam                     & NA                                     \\\\\n",
       "\t 1991                                    & Sridevi                                 & Kshana Kshanam                          & NA                                     \\\\\n",
       "\t 1990                                    & VijayashantiMeena                       & KarthavyamSeetharamaiah Gari Manavaralu &                                        \\\\\n",
       "\t 1989                                    & Vijayashanti                            & Bharatha Naari                          & NA                                     \\\\\n",
       "\t 1988                                    & Bhanupriya                              & Swarna Kamalam                          & NA                                     \\\\\n",
       "\t 1987                                    & Sumalatha                               & Sruthilayalu                            & NA                                     \\\\\n",
       "\t 1986                                    & Lakshmi                                 & Sravana Megalu                          & NA                                     \\\\\n",
       "\t 1985                                    & Vijayashanti                            & Pratighatana                            & NA                                     \\\\\n",
       "\t 1984                                    & Suhasini                                & Swathi                                  & NA                                     \\\\\n",
       "\t 1983                                    & Jayasudha                               & Dharmaatmudu                            & NA                                     \\\\\n",
       "\t 1982                                    & Jayasudha                               & Meghasandesam                           & NA                                     \\\\\n",
       "\t 1981                                    & Jayasudha                               & Premabhishekam                          & NA                                     \\\\\n",
       "\t 1980                                    & Sakuntala                               & Kukka                                   & NA                                     \\\\\n",
       "\t 1979                                    & Jayasudha                               & Idi Katha Kaadu                         & NA                                     \\\\\n",
       "\t 1978                                    & Roopa                                   & Naalaaga Endaro                         & NA                                     \\\\\n",
       "\t 1977                                    & Lakshmi{[}1{]}                          & Pantulamma                              & NA                                     \\\\\n",
       "\t 1976                                    & Jayaprada{[}1{]}                        & Anthuleni Kadha                         & NA                                     \\\\\n",
       "\t 1975                                    & Jayasudha{[}1{]}                        & Jyothi                                  & NA                                     \\\\\n",
       "\\end{tabular}\n"
      ],
      "text/markdown": [
       "**$`NULL`** = \n",
       "V1 | V2 | V3 | V4 | \n",
       "|---|---|---|---|---|---|---|---|---|---|---|---|---|---|---|---|---|---|---|---|---|---|---|---|---|---|---|---|---|---|---|---|---|---|---|---|---|---|---|---|---|---|---|\n",
       "| 2016                                    | Ritu Varma                              | Pelli Choopulu                          | NA                                      | \n",
       "| 2015                                    | Anushka Shetty                          | Size Zero                               | NA                                      | \n",
       "| 2014                                    | Anjali                                  | Geethanjali                             | NA                                      | \n",
       "| 2013                                    | Anjali Patil                            | Naa Bangaaru Talli                      | NA                                      | \n",
       "| 2012                                    | Samantha Ruth Prabhu                    | Yeto Vellipoyindhi Manasu               | NA                                      | \n",
       "| 2011                                    | Nayantara                               | Sri Rama Rajyam                         | NA                                      | \n",
       "| 2010                                    | Nithya Menen[5]                         | Ala Modalaindi                          | NA                                      | \n",
       "| 2009                                    | Thirtha[6]                              | Sontha Ooru                             | NA                                      | \n",
       "| 2008                                    | Swathi                                  | Ashta Chamma                            | NA                                      | \n",
       "| 2007                                    | Charmy Kaur                             | Mantra                                  | NA                                      | \n",
       "| 2006                                    | Nandita Das                             | Kamli                                   | NA                                      | \n",
       "| 2005                                    | Trisha                                  | Nuvvostanante Nenoddantana              | NA                                      | \n",
       "| 2004                                    | Kamalinee Mukherjee                     | Anand                                   | NA                                      | \n",
       "| 2003                                    | Bhoomika Chawla                         | Missamma                                | NA                                      | \n",
       "| 2002                                    | Kalyani                                 | Avunu Valliddaru Ista Paddaru           | NA                                      | \n",
       "| 2001                                    | Laya[7]                                 | Preminchu                               | NA                                      | \n",
       "| 2000                                    | Laya[8]                                 | Manoharam                               | NA                                      | \n",
       "| 1999                                    | Maheswari                               | Nee Kosam                               | NA                                      | \n",
       "| 1998                                    | Ramya Krishnan                          | Kante Koothurne Kanu                    | NA                                      | \n",
       "| 1998                                    | Soundarya                               | Antahpuram                              | NA                                      | \n",
       "| 1997                                    | Vijayashanti                            | Osey Ramulamma                          | NA                                      | \n",
       "| 1996                                    | Soundarya                               | Pavithra Bandham                        | NA                                      | \n",
       "| 1995                                    | Aamani                                  | Subha Sankalpam                         | NA                                      | \n",
       "| 1994                                    | Soundarya                               | Ammoru                                  | NA                                      | \n",
       "| 1993                                    | Aamani                                  | Mr. Pellam                              | NA                                      | \n",
       "| 1992                                    | Meena                                   | Rajeshwari Kalyanam                     | NA                                      | \n",
       "| 1991                                    | Sridevi                                 | Kshana Kshanam                          | NA                                      | \n",
       "| 1990                                    | VijayashantiMeena                       | KarthavyamSeetharamaiah Gari Manavaralu |                                         | \n",
       "| 1989                                    | Vijayashanti                            | Bharatha Naari                          | NA                                      | \n",
       "| 1988                                    | Bhanupriya                              | Swarna Kamalam                          | NA                                      | \n",
       "| 1987                                    | Sumalatha                               | Sruthilayalu                            | NA                                      | \n",
       "| 1986                                    | Lakshmi                                 | Sravana Megalu                          | NA                                      | \n",
       "| 1985                                    | Vijayashanti                            | Pratighatana                            | NA                                      | \n",
       "| 1984                                    | Suhasini                                | Swathi                                  | NA                                      | \n",
       "| 1983                                    | Jayasudha                               | Dharmaatmudu                            | NA                                      | \n",
       "| 1982                                    | Jayasudha                               | Meghasandesam                           | NA                                      | \n",
       "| 1981                                    | Jayasudha                               | Premabhishekam                          | NA                                      | \n",
       "| 1980                                    | Sakuntala                               | Kukka                                   | NA                                      | \n",
       "| 1979                                    | Jayasudha                               | Idi Katha Kaadu                         | NA                                      | \n",
       "| 1978                                    | Roopa                                   | Naalaaga Endaro                         | NA                                      | \n",
       "| 1977                                    | Lakshmi[1]                              | Pantulamma                              | NA                                      | \n",
       "| 1976                                    | Jayaprada[1]                            | Anthuleni Kadha                         | NA                                      | \n",
       "| 1975                                    | Jayasudha[1]                            | Jyothi                                  | NA                                      | \n",
       "\n",
       "\n"
      ],
      "text/plain": [
       "$`NULL`\n",
       "     V1                   V2                                      V3   V4\n",
       "1  2016           Ritu Varma                          Pelli Choopulu <NA>\n",
       "2  2015       Anushka Shetty                               Size Zero <NA>\n",
       "3  2014               Anjali                             Geethanjali <NA>\n",
       "4  2013         Anjali Patil                      Naa Bangaaru Talli <NA>\n",
       "5  2012 Samantha Ruth Prabhu               Yeto Vellipoyindhi Manasu <NA>\n",
       "6  2011            Nayantara                         Sri Rama Rajyam <NA>\n",
       "7  2010      Nithya Menen[5]                          Ala Modalaindi <NA>\n",
       "8  2009           Thirtha[6]                             Sontha Ooru <NA>\n",
       "9  2008               Swathi                            Ashta Chamma <NA>\n",
       "10 2007          Charmy Kaur                                  Mantra <NA>\n",
       "11 2006          Nandita Das                                   Kamli <NA>\n",
       "12 2005               Trisha              Nuvvostanante Nenoddantana <NA>\n",
       "13 2004  Kamalinee Mukherjee                                   Anand <NA>\n",
       "14 2003      Bhoomika Chawla                                Missamma <NA>\n",
       "15 2002              Kalyani           Avunu Valliddaru Ista Paddaru <NA>\n",
       "16 2001              Laya[7]                               Preminchu <NA>\n",
       "17 2000              Laya[8]                               Manoharam <NA>\n",
       "18 1999            Maheswari                               Nee Kosam <NA>\n",
       "19 1998       Ramya Krishnan                    Kante Koothurne Kanu <NA>\n",
       "20 1998            Soundarya                              Antahpuram <NA>\n",
       "21 1997         Vijayashanti                          Osey Ramulamma <NA>\n",
       "22 1996            Soundarya                        Pavithra Bandham <NA>\n",
       "23 1995               Aamani                         Subha Sankalpam <NA>\n",
       "24 1994            Soundarya                                  Ammoru <NA>\n",
       "25 1993               Aamani                              Mr. Pellam <NA>\n",
       "26 1992                Meena                     Rajeshwari Kalyanam <NA>\n",
       "27 1991              Sridevi                          Kshana Kshanam <NA>\n",
       "28 1990    VijayashantiMeena KarthavyamSeetharamaiah Gari Manavaralu     \n",
       "29 1989         Vijayashanti                          Bharatha Naari <NA>\n",
       "30 1988           Bhanupriya                          Swarna Kamalam <NA>\n",
       "31 1987            Sumalatha                            Sruthilayalu <NA>\n",
       "32 1986              Lakshmi                          Sravana Megalu <NA>\n",
       "33 1985         Vijayashanti                            Pratighatana <NA>\n",
       "34 1984             Suhasini                                  Swathi <NA>\n",
       "35 1983            Jayasudha                            Dharmaatmudu <NA>\n",
       "36 1982            Jayasudha                           Meghasandesam <NA>\n",
       "37 1981            Jayasudha                          Premabhishekam <NA>\n",
       "38 1980            Sakuntala                                   Kukka <NA>\n",
       "39 1979            Jayasudha                         Idi Katha Kaadu <NA>\n",
       "40 1978                Roopa                         Naalaaga Endaro <NA>\n",
       "41 1977           Lakshmi[1]                              Pantulamma <NA>\n",
       "42 1976         Jayaprada[1]                         Anthuleni Kadha <NA>\n",
       "43 1975         Jayasudha[1]                                  Jyothi <NA>\n"
      ]
     },
     "metadata": {},
     "output_type": "display_data"
    }
   ],
   "source": [
    "url  <- \"https://en.wikipedia.org/wiki/Nandi_Award_for_Best_Actress\"\n",
    "# install.packages(\"httr\", repos = \"http://cran.us.r-project.org\")\n",
    "library(httr)\n",
    "library(XML) # for readHTMLTable \n",
    "urldata <- GET(url)\n",
    "data <- readHTMLTable(rawToChar(urldata$content),stringsAsFactors = FALSE, as.data.frame = TRUE)\n",
    "head(data)"
   ]
  },
  {
   "cell_type": "code",
   "execution_count": null,
   "metadata": {
    "run_control": {
     "frozen": false,
     "marked": false,
     "read_only": false
    },
    "slideshow": {
     "slide_type": "subslide"
    }
   },
   "outputs": [],
   "source": [
    "dataDF<-as.data.frame(data)\n",
    "head(dataDF)"
   ]
  },
  {
   "cell_type": "code",
   "execution_count": 11,
   "metadata": {
    "run_control": {
     "frozen": false,
     "marked": false,
     "read_only": false
    },
    "scrolled": true,
    "slideshow": {
     "slide_type": "subslide"
    }
   },
   "outputs": [
    {
     "data": {
      "text/html": [
       "<ol class=list-inline>\n",
       "\t<li>43</li>\n",
       "\t<li>3</li>\n",
       "</ol>\n"
      ],
      "text/latex": [
       "\\begin{enumerate*}\n",
       "\\item 43\n",
       "\\item 3\n",
       "\\end{enumerate*}\n"
      ],
      "text/markdown": [
       "1. 43\n",
       "2. 3\n",
       "\n",
       "\n"
      ],
      "text/plain": [
       "[1] 43  3"
      ]
     },
     "metadata": {},
     "output_type": "display_data"
    },
    {
     "name": "stdout",
     "output_type": "stream",
     "text": [
      "   Year              Actress                                    Film\n",
      "1  2016           Ritu Varma                          Pelli Choopulu\n",
      "2  2015       Anushka Shetty                               Size Zero\n",
      "3  2014               Anjali                             Geethanjali\n",
      "4  2013         Anjali Patil                      Naa Bangaaru Talli\n",
      "5  2012 Samantha Ruth Prabhu               Yeto Vellipoyindhi Manasu\n",
      "6  2011            Nayantara                         Sri Rama Rajyam\n",
      "7  2010      Nithya Menen[5]                          Ala Modalaindi\n",
      "8  2009           Thirtha[6]                             Sontha Ooru\n",
      "9  2008               Swathi                            Ashta Chamma\n",
      "10 2007          Charmy Kaur                                  Mantra\n",
      "11 2006          Nandita Das                                   Kamli\n",
      "12 2005               Trisha              Nuvvostanante Nenoddantana\n",
      "13 2004  Kamalinee Mukherjee                                   Anand\n",
      "14 2003      Bhoomika Chawla                                Missamma\n",
      "15 2002              Kalyani           Avunu Valliddaru Ista Paddaru\n",
      "16 2001              Laya[7]                               Preminchu\n",
      "17 2000              Laya[8]                               Manoharam\n",
      "18 1999            Maheswari                               Nee Kosam\n",
      "19 1998       Ramya Krishnan                    Kante Koothurne Kanu\n",
      "20 1998            Soundarya                              Antahpuram\n",
      "21 1997         Vijayashanti                          Osey Ramulamma\n",
      "22 1996            Soundarya                        Pavithra Bandham\n",
      "23 1995               Aamani                         Subha Sankalpam\n",
      "24 1994            Soundarya                                  Ammoru\n",
      "25 1993               Aamani                              Mr. Pellam\n",
      "26 1992                Meena                     Rajeshwari Kalyanam\n",
      "27 1991              Sridevi                          Kshana Kshanam\n",
      "28 1990    VijayashantiMeena KarthavyamSeetharamaiah Gari Manavaralu\n",
      "29 1989         Vijayashanti                          Bharatha Naari\n",
      "30 1988           Bhanupriya                          Swarna Kamalam\n",
      "31 1987            Sumalatha                            Sruthilayalu\n",
      "32 1986              Lakshmi                          Sravana Megalu\n",
      "33 1985         Vijayashanti                            Pratighatana\n",
      "34 1984             Suhasini                                  Swathi\n",
      "35 1983            Jayasudha                            Dharmaatmudu\n",
      "36 1982            Jayasudha                           Meghasandesam\n",
      "37 1981            Jayasudha                          Premabhishekam\n",
      "38 1980            Sakuntala                                   Kukka\n",
      "39 1979            Jayasudha                         Idi Katha Kaadu\n",
      "40 1978                Roopa                         Naalaaga Endaro\n",
      "41 1977           Lakshmi[1]                              Pantulamma\n",
      "42 1976         Jayaprada[1]                         Anthuleni Kadha\n",
      "43 1975         Jayasudha[1]                                  Jyothi\n"
     ]
    }
   ],
   "source": [
    "dataDF$NULL.V4 <- NULL\n",
    "names(dataDF) <- c(\"Year\", \"Actress\", \"Film\")\n",
    "dim(dataDF)\n",
    "print(dataDF)"
   ]
  },
  {
   "cell_type": "code",
   "execution_count": 12,
   "metadata": {
    "run_control": {
     "frozen": false,
     "read_only": false
    },
    "scrolled": true,
    "slideshow": {
     "slide_type": "skip"
    }
   },
   "outputs": [],
   "source": [
    "# library (plyr)\n",
    "# df <- ldply (data, data.frame)\n",
    "# dim(df)\n",
    "# head(df)"
   ]
  },
  {
   "cell_type": "markdown",
   "metadata": {
    "slideshow": {
     "slide_type": "slide"
    }
   },
   "source": [
    "**further reference:** https://www.apress.com/in/book/9781461478997 "
   ]
  },
  {
   "cell_type": "markdown",
   "metadata": {},
   "source": [
    "### Using rvest package (web scrapping)\n",
    "\n",
    "**rvest in action**   "
   ]
  },
  {
   "cell_type": "code",
   "execution_count": 26,
   "metadata": {
    "collapsed": true,
    "run_control": {
     "frozen": false,
     "marked": false,
     "read_only": false
    },
    "slideshow": {
     "slide_type": "subslide"
    }
   },
   "outputs": [],
   "source": [
    "library(rvest)\n",
    "# install.packages(\"xml2\", repos = \"http://cran.us.r-project.org\")\n",
    "library(xml2,lib.loc=\"~/R/win-library/3.4\")\n",
    "lego_movie <- read_html(\"http://www.imdb.com/title/tt1490017/\")\n",
    "#print(lego_movie)"
   ]
  },
  {
   "cell_type": "code",
   "execution_count": 27,
   "metadata": {
    "run_control": {
     "frozen": false,
     "read_only": false
    },
    "slideshow": {
     "slide_type": "subslide"
    }
   },
   "outputs": [
    {
     "name": "stderr",
     "output_type": "stream",
     "text": [
      "Your code contains a unicode char which cannot be displayed in your\n",
      "current locale and R will silently convert it to an escaped form when the\n",
      "R kernel executes this code. This can lead to subtle errors if you use\n",
      "such chars to do comparisons. For more information, please see\n",
      "https://github.com/IRkernel/repr/wiki/Problems-with-unicode-on-windows"
     ]
    },
    {
     "data": {
      "text/html": [
       "7.8"
      ],
      "text/latex": [
       "7.8"
      ],
      "text/markdown": [
       "7.8"
      ],
      "text/plain": [
       "[1] 7.8"
      ]
     },
     "metadata": {},
     "output_type": "display_data"
    },
    {
     "data": {
      "text/html": [
       "<ol class=list-inline>\n",
       "\t<li>'Will Arnett'</li>\n",
       "\t<li>'Elizabeth Banks'</li>\n",
       "\t<li>'Craig Berry'</li>\n",
       "\t<li>'Alison Brie'</li>\n",
       "\t<li>'David Burrows'</li>\n",
       "\t<li>'Anthony Daniels'</li>\n",
       "\t<li>'Charlie Day'</li>\n",
       "\t<li>'Amanda Farinos'</li>\n",
       "\t<li>'Keith Ferguson'</li>\n",
       "\t<li>'Will Ferrell'</li>\n",
       "\t<li>'Will Forte'</li>\n",
       "\t<li>'Dave Franco'</li>\n",
       "\t<li>'Morgan Freeman'</li>\n",
       "\t<li>'Todd Hansen'</li>\n",
       "\t<li>'Jonah Hill'</li>\n",
       "</ol>\n"
      ],
      "text/latex": [
       "\\begin{enumerate*}\n",
       "\\item 'Will Arnett'\n",
       "\\item 'Elizabeth Banks'\n",
       "\\item 'Craig Berry'\n",
       "\\item 'Alison Brie'\n",
       "\\item 'David Burrows'\n",
       "\\item 'Anthony Daniels'\n",
       "\\item 'Charlie Day'\n",
       "\\item 'Amanda Farinos'\n",
       "\\item 'Keith Ferguson'\n",
       "\\item 'Will Ferrell'\n",
       "\\item 'Will Forte'\n",
       "\\item 'Dave Franco'\n",
       "\\item 'Morgan Freeman'\n",
       "\\item 'Todd Hansen'\n",
       "\\item 'Jonah Hill'\n",
       "\\end{enumerate*}\n"
      ],
      "text/markdown": [
       "1. 'Will Arnett'\n",
       "2. 'Elizabeth Banks'\n",
       "3. 'Craig Berry'\n",
       "4. 'Alison Brie'\n",
       "5. 'David Burrows'\n",
       "6. 'Anthony Daniels'\n",
       "7. 'Charlie Day'\n",
       "8. 'Amanda Farinos'\n",
       "9. 'Keith Ferguson'\n",
       "10. 'Will Ferrell'\n",
       "11. 'Will Forte'\n",
       "12. 'Dave Franco'\n",
       "13. 'Morgan Freeman'\n",
       "14. 'Todd Hansen'\n",
       "15. 'Jonah Hill'\n",
       "\n",
       "\n"
      ],
      "text/plain": [
       " [1] \"Will Arnett\"     \"Elizabeth Banks\" \"Craig Berry\"     \"Alison Brie\"    \n",
       " [5] \"David Burrows\"   \"Anthony Daniels\" \"Charlie Day\"     \"Amanda Farinos\" \n",
       " [9] \"Keith Ferguson\"  \"Will Ferrell\"    \"Will Forte\"      \"Dave Franco\"    \n",
       "[13] \"Morgan Freeman\"  \"Todd Hansen\"     \"Jonah Hill\"     "
      ]
     },
     "metadata": {},
     "output_type": "display_data"
    }
   ],
   "source": [
    "lego_movie %>%\n",
    "html_node(\"strong span\") %>%\n",
    "html_text() %>%\n",
    "as.numeric()\n",
    "# selector:\n",
    "lego_movie %>%\n",
    "html_nodes(\"#titleCast .itemprop span\") %>%\n",
    "html_text()\n",
    "# The titles and authors of recent message board postings are stored in a the third table on the"
   ]
  },
  {
   "cell_type": "markdown",
   "metadata": {
    "slideshow": {
     "slide_type": "fragment"
    }
   },
   "source": [
    "#### Import data from wikipedia (Scrape an HTML Table)\n",
    "* html_nodes: Select parts of an html document using css selectors\n",
    "* html_table: Parse tables into data frames with html_table().\n",
    "* read_html: Read in the content from a .html file (For xml2 and rvest packages.)\n",
    "* `browseVignettes()` to check the any sample codes of the concepts"
   ]
  },
  {
   "cell_type": "code",
   "execution_count": 28,
   "metadata": {
    "collapsed": true,
    "run_control": {
     "frozen": false,
     "read_only": false
    },
    "slideshow": {
     "slide_type": "subslide"
    }
   },
   "outputs": [],
   "source": [
    "obesity = read_html(\"https://en.wikipedia.org/wiki/Obesity_in_the_United_States\")\n",
    "#Using rvest to Scrape an HTML Table by taking table number\n",
    "obesity = obesity %>%\n",
    "     html_nodes(\"table\") %>%\n",
    "     .[[2]]%>%\n",
    "     html_table(fill=T)"
   ]
  },
  {
   "cell_type": "code",
   "execution_count": 29,
   "metadata": {
    "run_control": {
     "frozen": false,
     "read_only": false
    },
    "scrolled": true,
    "slideshow": {
     "slide_type": "subslide"
    }
   },
   "outputs": [
    {
     "data": {
      "text/html": [
       "<ol class=list-inline>\n",
       "\t<li>56</li>\n",
       "\t<li>6</li>\n",
       "</ol>\n"
      ],
      "text/latex": [
       "\\begin{enumerate*}\n",
       "\\item 56\n",
       "\\item 6\n",
       "\\end{enumerate*}\n"
      ],
      "text/markdown": [
       "1. 56\n",
       "2. 6\n",
       "\n",
       "\n"
      ],
      "text/plain": [
       "[1] 56  6"
      ]
     },
     "metadata": {},
     "output_type": "display_data"
    },
    {
     "data": {
      "text/html": [
       "<table>\n",
       "<thead><tr><th scope=col>States, District,\n",
       "&amp; Territories</th><th scope=col>Obese adults (mid-2000s)</th><th scope=col>Obese adults (2016)[52][57]</th><th scope=col>Overweight (incl. obese) adults\n",
       "(mid-2000s)</th><th scope=col>Obese children and adolescents\n",
       "(mid-2000s)[58]</th><th scope=col>Obesity rank</th></tr></thead>\n",
       "<tbody>\n",
       "\t<tr><td>Alabama       </td><td>30.1%         </td><td>35.7%         </td><td>65.4%         </td><td>16.7%         </td><td>3             </td></tr>\n",
       "\t<tr><td>Alaska        </td><td>27.3%         </td><td>31.4%         </td><td>64.5%         </td><td>11.1%         </td><td>14            </td></tr>\n",
       "\t<tr><td>American Samoa</td><td>—             </td><td>75%[56]       </td><td>95%[59]       </td><td>35%[56][60]   </td><td>—             </td></tr>\n",
       "\t<tr><td>Arizona       </td><td>23.3%         </td><td>29.0%         </td><td>59.5%         </td><td>12.2%         </td><td>40            </td></tr>\n",
       "\t<tr><td>Arkansas      </td><td>28.1%         </td><td>35.7%         </td><td>64.7%         </td><td>16.4%         </td><td>9             </td></tr>\n",
       "\t<tr><td>California    </td><td>23.1%         </td><td>25.0%         </td><td>59.4%         </td><td>13.2%         </td><td>41            </td></tr>\n",
       "</tbody>\n",
       "</table>\n"
      ],
      "text/latex": [
       "\\begin{tabular}{r|llllll}\n",
       " States, District,\n",
       "\\& Territories & Obese adults (mid-2000s) & Obese adults (2016){[}52{]}{[}57{]} & Overweight (incl. obese) adults\n",
       "(mid-2000s) & Obese children and adolescents\n",
       "(mid-2000s){[}58{]} & Obesity rank\\\\\n",
       "\\hline\n",
       "\t Alabama        & 30.1\\%        & 35.7\\%        & 65.4\\%        & 16.7\\%        & 3             \\\\\n",
       "\t Alaska         & 27.3\\%        & 31.4\\%        & 64.5\\%        & 11.1\\%        & 14            \\\\\n",
       "\t American Samoa        & —                     & 75\\%{[}56{]}         & 95\\%{[}59{]}         & 35\\%{[}56{]}{[}60{]} & —                    \\\\\n",
       "\t Arizona        & 23.3\\%        & 29.0\\%        & 59.5\\%        & 12.2\\%        & 40            \\\\\n",
       "\t Arkansas       & 28.1\\%        & 35.7\\%        & 64.7\\%        & 16.4\\%        & 9             \\\\\n",
       "\t California     & 23.1\\%        & 25.0\\%        & 59.4\\%        & 13.2\\%        & 41            \\\\\n",
       "\\end{tabular}\n"
      ],
      "text/markdown": [
       "\n",
       "States, District,\n",
       "& Territories | Obese adults (mid-2000s) | Obese adults (2016)[52][57] | Overweight (incl. obese) adults\n",
       "(mid-2000s) | Obese children and adolescents\n",
       "(mid-2000s)[58] | Obesity rank | \n",
       "|---|---|---|---|---|---|\n",
       "| Alabama        | 30.1%          | 35.7%          | 65.4%          | 16.7%          | 3              | \n",
       "| Alaska         | 27.3%          | 31.4%          | 64.5%          | 11.1%          | 14             | \n",
       "| American Samoa | —              | 75%[56]        | 95%[59]        | 35%[56][60]    | —              | \n",
       "| Arizona        | 23.3%          | 29.0%          | 59.5%          | 12.2%          | 40             | \n",
       "| Arkansas       | 28.1%          | 35.7%          | 64.7%          | 16.4%          | 9              | \n",
       "| California     | 23.1%          | 25.0%          | 59.4%          | 13.2%          | 41             | \n",
       "\n",
       "\n"
      ],
      "text/plain": [
       "  States, District,\\n& Territories Obese adults (mid-2000s)\n",
       "1 Alabama                          30.1%                   \n",
       "2 Alaska                           27.3%                   \n",
       "3 American Samoa                                          \n",
       "4 Arizona                          23.3%                   \n",
       "5 Arkansas                         28.1%                   \n",
       "6 California                       23.1%                   \n",
       "  Obese adults (2016)[52][57] Overweight (incl. obese) adults\\n(mid-2000s)\n",
       "1 35.7%                       65.4%                                       \n",
       "2 31.4%                       64.5%                                       \n",
       "3 75%[56]                     95%[59]                                     \n",
       "4 29.0%                       59.5%                                       \n",
       "5 35.7%                       64.7%                                       \n",
       "6 25.0%                       59.4%                                       \n",
       "  Obese children and adolescents\\n(mid-2000s)[58] Obesity rank\n",
       "1 16.7%                                           3           \n",
       "2 11.1%                                           14          \n",
       "3 35%[56][60]                                                \n",
       "4 12.2%                                           40          \n",
       "5 16.4%                                           9           \n",
       "6 13.2%                                           41          "
      ]
     },
     "metadata": {},
     "output_type": "display_data"
    },
    {
     "data": {
      "text/html": [
       "<table>\n",
       "<thead><tr><th></th><th scope=col>States, District,\n",
       "&amp; Territories</th><th scope=col>Obese adults (mid-2000s)</th><th scope=col>Obese adults (2016)[52][57]</th><th scope=col>Overweight (incl. obese) adults\n",
       "(mid-2000s)</th><th scope=col>Obese children and adolescents\n",
       "(mid-2000s)[58]</th><th scope=col>Obesity rank</th></tr></thead>\n",
       "<tbody>\n",
       "\t<tr><th scope=row>51</th><td>Virgin Islands (U.S.)</td><td>—                    </td><td>32.5%                </td><td>—                    </td><td>—                    </td><td>—                    </td></tr>\n",
       "\t<tr><th scope=row>52</th><td>Virginia             </td><td>25.2%                </td><td>29.0%                </td><td>61.6%                </td><td>13.8%                </td><td>27                   </td></tr>\n",
       "\t<tr><th scope=row>53</th><td>Washington           </td><td>24.5%                </td><td>28.6%                </td><td>60.7%                </td><td>10.8%                </td><td>32                   </td></tr>\n",
       "\t<tr><th scope=row>54</th><td>West Virginia        </td><td>30.6%                </td><td>37.7%                </td><td>66.8%                </td><td>20.9%                </td><td>2                    </td></tr>\n",
       "\t<tr><th scope=row>55</th><td>Wisconsin            </td><td>25.5%                </td><td>30.7%                </td><td>62.4%                </td><td>13.5%                </td><td>25                   </td></tr>\n",
       "\t<tr><th scope=row>56</th><td>Wyoming              </td><td>24.0%                </td><td>27.7%                </td><td>61.7%                </td><td>8.7%                 </td><td>33                   </td></tr>\n",
       "</tbody>\n",
       "</table>\n"
      ],
      "text/latex": [
       "\\begin{tabular}{r|llllll}\n",
       "  & States, District,\n",
       "\\& Territories & Obese adults (mid-2000s) & Obese adults (2016){[}52{]}{[}57{]} & Overweight (incl. obese) adults\n",
       "(mid-2000s) & Obese children and adolescents\n",
       "(mid-2000s){[}58{]} & Obesity rank\\\\\n",
       "\\hline\n",
       "\t51 & Virgin Islands (U.S.) & —                     & 32.5\\%               & —                     & —                     & —                    \\\\\n",
       "\t52 & Virginia              & 25.2\\%               & 29.0\\%               & 61.6\\%               & 13.8\\%               & 27                   \\\\\n",
       "\t53 & Washington            & 24.5\\%               & 28.6\\%               & 60.7\\%               & 10.8\\%               & 32                   \\\\\n",
       "\t54 & West Virginia         & 30.6\\%               & 37.7\\%               & 66.8\\%               & 20.9\\%               & 2                    \\\\\n",
       "\t55 & Wisconsin             & 25.5\\%               & 30.7\\%               & 62.4\\%               & 13.5\\%               & 25                   \\\\\n",
       "\t56 & Wyoming               & 24.0\\%               & 27.7\\%               & 61.7\\%               & 8.7\\%                & 33                   \\\\\n",
       "\\end{tabular}\n"
      ],
      "text/markdown": [
       "\n",
       "| <!--/--> | States, District,\n",
       "& Territories | Obese adults (mid-2000s) | Obese adults (2016)[52][57] | Overweight (incl. obese) adults\n",
       "(mid-2000s) | Obese children and adolescents\n",
       "(mid-2000s)[58] | Obesity rank | \n",
       "|---|---|---|---|---|---|\n",
       "| 51 | Virgin Islands (U.S.) | —                     | 32.5%                 | —                     | —                     | —                     | \n",
       "| 52 | Virginia              | 25.2%                 | 29.0%                 | 61.6%                 | 13.8%                 | 27                    | \n",
       "| 53 | Washington            | 24.5%                 | 28.6%                 | 60.7%                 | 10.8%                 | 32                    | \n",
       "| 54 | West Virginia         | 30.6%                 | 37.7%                 | 66.8%                 | 20.9%                 | 2                     | \n",
       "| 55 | Wisconsin             | 25.5%                 | 30.7%                 | 62.4%                 | 13.5%                 | 25                    | \n",
       "| 56 | Wyoming               | 24.0%                 | 27.7%                 | 61.7%                 | 8.7%                  | 33                    | \n",
       "\n",
       "\n"
      ],
      "text/plain": [
       "   States, District,\\n& Territories Obese adults (mid-2000s)\n",
       "51 Virgin Islands (U.S.)                                   \n",
       "52 Virginia                         25.2%                   \n",
       "53 Washington                       24.5%                   \n",
       "54 West Virginia                    30.6%                   \n",
       "55 Wisconsin                        25.5%                   \n",
       "56 Wyoming                          24.0%                   \n",
       "   Obese adults (2016)[52][57] Overweight (incl. obese) adults\\n(mid-2000s)\n",
       "51 32.5%                                                                  \n",
       "52 29.0%                       61.6%                                       \n",
       "53 28.6%                       60.7%                                       \n",
       "54 37.7%                       66.8%                                       \n",
       "55 30.7%                       62.4%                                       \n",
       "56 27.7%                       61.7%                                       \n",
       "   Obese children and adolescents\\n(mid-2000s)[58] Obesity rank\n",
       "51                                                           \n",
       "52 13.8%                                           27          \n",
       "53 10.8%                                           32          \n",
       "54 20.9%                                           2           \n",
       "55 13.5%                                           25          \n",
       "56 8.7%                                            33          "
      ]
     },
     "metadata": {},
     "output_type": "display_data"
    }
   ],
   "source": [
    "dim(obesity)\n",
    "head(obesity)\n",
    "tail(obesity)"
   ]
  },
  {
   "cell_type": "markdown",
   "metadata": {
    "slideshow": {
     "slide_type": "slide"
    }
   },
   "source": [
    "#### Import data from wikipedia (Using xpath)"
   ]
  },
  {
   "cell_type": "markdown",
   "metadata": {
    "slideshow": {
     "slide_type": "subslide"
    }
   },
   "source": [
    "**Steps**  \n",
    "1. *browse to the desired page and locate the table*\n",
    "2. *right clicked on the table you want and chose “inspect element”*\n",
    "2. *choose “copy XPath”*\n",
    "4. *Paste that XPath into the appropriate spot as shown in the code below*"
   ]
  },
  {
   "cell_type": "code",
   "execution_count": 3,
   "metadata": {
    "slideshow": {
     "slide_type": "slide"
    }
   },
   "outputs": [],
   "source": [
    "library(magrittr) # for the pipe operator\n",
    "library(xml2) # for read_html() function\n",
    "library(rvest) # for html_nodes() and html_table()"
   ]
  },
  {
   "cell_type": "code",
   "execution_count": 4,
   "metadata": {
    "run_control": {
     "frozen": false,
     "read_only": false
    },
    "scrolled": false,
    "slideshow": {
     "slide_type": "subslide"
    }
   },
   "outputs": [
    {
     "data": {
      "text/html": [
       "<table>\n",
       "<thead><tr><th scope=col>S.No.</th><th scope=col>Name</th><th scope=col>Headquarters</th><th scope=col>Area (km2)</th><th scope=col>Population\n",
       "(2011 census)</th><th scope=col>No.of mandals</th><th scope=col>Density\n",
       "(per km2)</th><th scope=col>Urban (%)</th><th scope=col>Literacy (%)</th><th scope=col>Sex Ratio</th></tr></thead>\n",
       "<tbody>\n",
       "\t<tr><td>1                       </td><td>Adilabad                </td><td>Adilabad                </td><td>4,153                   </td><td>708,972                 </td><td>18                      </td><td>  171                   </td><td> 23.66                  </td><td>63.46                   </td><td> 989                    </td></tr>\n",
       "\t<tr><td>2                       </td><td>Bhadradri Kothagudem    </td><td>Kothagudem              </td><td>7,483                   </td><td>1,069,261               </td><td>23                      </td><td>  143                   </td><td> 31.71                  </td><td>66.40                   </td><td>1008                    </td></tr>\n",
       "\t<tr><td>3                       </td><td>Hyderabad               </td><td>Hyderabad               </td><td>217                     </td><td>3,943,323               </td><td>16                      </td><td>18172                   </td><td>100.00                  </td><td>83.25                   </td><td> 954                    </td></tr>\n",
       "\t<tr><td>4                       </td><td>Jagtial                 </td><td>Jagtial                 </td><td>2,419                   </td><td>985,417                 </td><td>18                      </td><td>  407                   </td><td> 22.46                  </td><td>60.26                   </td><td>1036                    </td></tr>\n",
       "\t<tr><td>5                       </td><td>Jangaon                 </td><td>Jangaon                 </td><td>2,188                   </td><td>566,376                 </td><td>13                      </td><td>  259                   </td><td> 12.60                  </td><td>61.44                   </td><td> 997                    </td></tr>\n",
       "\t<tr><td>6                       </td><td>Jayashankar Bhupalapally</td><td>Bhupalpalle             </td><td>6,175                   </td><td>711,434                 </td><td>20                      </td><td>  115                   </td><td>  7.57                  </td><td>60.33                   </td><td>1009                    </td></tr>\n",
       "</tbody>\n",
       "</table>\n"
      ],
      "text/latex": [
       "\\begin{tabular}{r|llllllllll}\n",
       " S.No. & Name & Headquarters & Area (km2) & Population\n",
       "(2011 census) & No.of mandals & Density\n",
       "(per km2) & Urban (\\%) & Literacy (\\%) & Sex Ratio\\\\\n",
       "\\hline\n",
       "\t 1                        & Adilabad                 & Adilabad                 & 4,153                    & 708,972                  & 18                       &   171                    &  23.66                   & 63.46                    &  989                    \\\\\n",
       "\t 2                        & Bhadradri Kothagudem     & Kothagudem               & 7,483                    & 1,069,261                & 23                       &   143                    &  31.71                   & 66.40                    & 1008                    \\\\\n",
       "\t 3                        & Hyderabad                & Hyderabad                & 217                      & 3,943,323                & 16                       & 18172                    & 100.00                   & 83.25                    &  954                    \\\\\n",
       "\t 4                        & Jagtial                  & Jagtial                  & 2,419                    & 985,417                  & 18                       &   407                    &  22.46                   & 60.26                    & 1036                    \\\\\n",
       "\t 5                        & Jangaon                  & Jangaon                  & 2,188                    & 566,376                  & 13                       &   259                    &  12.60                   & 61.44                    &  997                    \\\\\n",
       "\t 6                        & Jayashankar Bhupalapally & Bhupalpalle              & 6,175                    & 711,434                  & 20                       &   115                    &   7.57                   & 60.33                    & 1009                    \\\\\n",
       "\\end{tabular}\n"
      ],
      "text/markdown": [
       "\n",
       "S.No. | Name | Headquarters | Area (km2) | Population\n",
       "(2011 census) | No.of mandals | Density\n",
       "(per km2) | Urban (%) | Literacy (%) | Sex Ratio | \n",
       "|---|---|---|---|---|---|\n",
       "| 1                        | Adilabad                 | Adilabad                 | 4,153                    | 708,972                  | 18                       |   171                    |  23.66                   | 63.46                    |  989                     | \n",
       "| 2                        | Bhadradri Kothagudem     | Kothagudem               | 7,483                    | 1,069,261                | 23                       |   143                    |  31.71                   | 66.40                    | 1008                     | \n",
       "| 3                        | Hyderabad                | Hyderabad                | 217                      | 3,943,323                | 16                       | 18172                    | 100.00                   | 83.25                    |  954                     | \n",
       "| 4                        | Jagtial                  | Jagtial                  | 2,419                    | 985,417                  | 18                       |   407                    |  22.46                   | 60.26                    | 1036                     | \n",
       "| 5                        | Jangaon                  | Jangaon                  | 2,188                    | 566,376                  | 13                       |   259                    |  12.60                   | 61.44                    |  997                     | \n",
       "| 6                        | Jayashankar Bhupalapally | Bhupalpalle              | 6,175                    | 711,434                  | 20                       |   115                    |   7.57                   | 60.33                    | 1009                     | \n",
       "\n",
       "\n"
      ],
      "text/plain": [
       "  S.No. Name                     Headquarters Area (km2)\n",
       "1 1     Adilabad                 Adilabad     4,153     \n",
       "2 2     Bhadradri Kothagudem     Kothagudem   7,483     \n",
       "3 3     Hyderabad                Hyderabad    217       \n",
       "4 4     Jagtial                  Jagtial      2,419     \n",
       "5 5     Jangaon                  Jangaon      2,188     \n",
       "6 6     Jayashankar Bhupalapally Bhupalpalle  6,175     \n",
       "  Population\\n(2011 census) No.of mandals Density\\n(per km2) Urban (%)\n",
       "1 708,972                   18              171               23.66   \n",
       "2 1,069,261                 23              143               31.71   \n",
       "3 3,943,323                 16            18172              100.00   \n",
       "4 985,417                   18              407               22.46   \n",
       "5 566,376                   13              259               12.60   \n",
       "6 711,434                   20              115                7.57   \n",
       "  Literacy (%) Sex Ratio\n",
       "1 63.46         989     \n",
       "2 66.40        1008     \n",
       "3 83.25         954     \n",
       "4 60.26        1036     \n",
       "5 61.44         997     \n",
       "6 60.33        1009     "
      ]
     },
     "metadata": {},
     "output_type": "display_data"
    },
    {
     "data": {
      "text/html": [
       "<table>\n",
       "<thead><tr><th></th><th scope=col>S.No.</th><th scope=col>Name</th><th scope=col>Headquarters</th><th scope=col>Area (km2)</th><th scope=col>Population\n",
       "(2011 census)</th><th scope=col>No.of mandals</th><th scope=col>Density\n",
       "(per km2)</th><th scope=col>Urban (%)</th><th scope=col>Literacy (%)</th><th scope=col>Sex Ratio</th></tr></thead>\n",
       "<tbody>\n",
       "\t<tr><th scope=row>27</th><td>27                 </td><td>Vikarabad[9]       </td><td>Vikarabad          </td><td>3,386              </td><td>927,140            </td><td> 18                </td><td>274                </td><td>13.48              </td><td>57.91              </td><td>1001               </td></tr>\n",
       "\t<tr><th scope=row>28</th><td>28                 </td><td>Wanaparthy         </td><td>Wanaparthy         </td><td>2,152              </td><td>577,758            </td><td> 14                </td><td>268                </td><td>15.97              </td><td>55.67              </td><td> 960               </td></tr>\n",
       "\t<tr><th scope=row>29</th><td>29                 </td><td>Warangal Rural     </td><td>Warangal           </td><td>2,175              </td><td>718,537            </td><td> 15                </td><td>330                </td><td> 6.99              </td><td>61.26              </td><td> 994               </td></tr>\n",
       "\t<tr><th scope=row>30</th><td>30                 </td><td>Warangal Urban     </td><td>Warangal           </td><td>1,309              </td><td>1,080,858          </td><td> 11                </td><td>826                </td><td>68.51              </td><td>76.17              </td><td> 997               </td></tr>\n",
       "\t<tr><th scope=row>31</th><td>31                 </td><td>Yadadri Bhuvanagiri</td><td>Bhongir            </td><td>3,092              </td><td>739,448            </td><td> 16                </td><td>239                </td><td>16.66              </td><td>65.53              </td><td> 973               </td></tr>\n",
       "\t<tr><th scope=row>32</th><td>Telangana          </td><td>-                  </td><td>-                  </td><td>112,077            </td><td>35,003,674         </td><td>584                </td><td>312                </td><td>38.88              </td><td>66.54              </td><td> 988               </td></tr>\n",
       "</tbody>\n",
       "</table>\n"
      ],
      "text/latex": [
       "\\begin{tabular}{r|llllllllll}\n",
       "  & S.No. & Name & Headquarters & Area (km2) & Population\n",
       "(2011 census) & No.of mandals & Density\n",
       "(per km2) & Urban (\\%) & Literacy (\\%) & Sex Ratio\\\\\n",
       "\\hline\n",
       "\t27 & 27                      & Vikarabad{[}9{]}        & Vikarabad               & 3,386                   & 927,140                 &  18                     & 274                     & 13.48                   & 57.91                   & 1001                   \\\\\n",
       "\t28 & 28                  & Wanaparthy          & Wanaparthy          & 2,152               & 577,758             &  14                 & 268                 & 15.97               & 55.67               &  960               \\\\\n",
       "\t29 & 29                  & Warangal Rural      & Warangal            & 2,175               & 718,537             &  15                 & 330                 &  6.99               & 61.26               &  994               \\\\\n",
       "\t30 & 30                  & Warangal Urban      & Warangal            & 1,309               & 1,080,858           &  11                 & 826                 & 68.51               & 76.17               &  997               \\\\\n",
       "\t31 & 31                  & Yadadri Bhuvanagiri & Bhongir             & 3,092               & 739,448             &  16                 & 239                 & 16.66               & 65.53               &  973               \\\\\n",
       "\t32 & Telangana           & -                   & -                   & 112,077             & 35,003,674          & 584                 & 312                 & 38.88               & 66.54               &  988               \\\\\n",
       "\\end{tabular}\n"
      ],
      "text/markdown": [
       "\n",
       "| <!--/--> | S.No. | Name | Headquarters | Area (km2) | Population\n",
       "(2011 census) | No.of mandals | Density\n",
       "(per km2) | Urban (%) | Literacy (%) | Sex Ratio | \n",
       "|---|---|---|---|---|---|\n",
       "| 27 | 27                  | Vikarabad[9]        | Vikarabad           | 3,386               | 927,140             |  18                 | 274                 | 13.48               | 57.91               | 1001                | \n",
       "| 28 | 28                  | Wanaparthy          | Wanaparthy          | 2,152               | 577,758             |  14                 | 268                 | 15.97               | 55.67               |  960                | \n",
       "| 29 | 29                  | Warangal Rural      | Warangal            | 2,175               | 718,537             |  15                 | 330                 |  6.99               | 61.26               |  994                | \n",
       "| 30 | 30                  | Warangal Urban      | Warangal            | 1,309               | 1,080,858           |  11                 | 826                 | 68.51               | 76.17               |  997                | \n",
       "| 31 | 31                  | Yadadri Bhuvanagiri | Bhongir             | 3,092               | 739,448             |  16                 | 239                 | 16.66               | 65.53               |  973                | \n",
       "| 32 | Telangana           | -                   | -                   | 112,077             | 35,003,674          | 584                 | 312                 | 38.88               | 66.54               |  988                | \n",
       "\n",
       "\n"
      ],
      "text/plain": [
       "   S.No.     Name                Headquarters Area (km2)\n",
       "27 27        Vikarabad[9]        Vikarabad    3,386     \n",
       "28 28        Wanaparthy          Wanaparthy   2,152     \n",
       "29 29        Warangal Rural      Warangal     2,175     \n",
       "30 30        Warangal Urban      Warangal     1,309     \n",
       "31 31        Yadadri Bhuvanagiri Bhongir      3,092     \n",
       "32 Telangana -                   -            112,077   \n",
       "   Population\\n(2011 census) No.of mandals Density\\n(per km2) Urban (%)\n",
       "27 927,140                    18           274                13.48    \n",
       "28 577,758                    14           268                15.97    \n",
       "29 718,537                    15           330                 6.99    \n",
       "30 1,080,858                  11           826                68.51    \n",
       "31 739,448                    16           239                16.66    \n",
       "32 35,003,674                584           312                38.88    \n",
       "   Literacy (%) Sex Ratio\n",
       "27 57.91        1001     \n",
       "28 55.67         960     \n",
       "29 61.26         994     \n",
       "30 76.17         997     \n",
       "31 65.53         973     \n",
       "32 66.54         988     "
      ]
     },
     "metadata": {},
     "output_type": "display_data"
    }
   ],
   "source": [
    "url <- \"https://en.wikipedia.org/wiki/List_of_districts_in_Telangana\"\n",
    "districts <- url %>%\n",
    "  read_html() %>%\n",
    "  html_nodes(xpath='//*[@id=\"mw-content-text\"]/div/table') %>%\n",
    "  html_table()\n",
    "districts <- districts[[1]]\n",
    "\n",
    "head(districts)\n",
    "tail(districts)\n",
    "# //*[@id=\"mw-content-text\"]/div/table[1]/tbody/tr[7]/td[3]"
   ]
  },
  {
   "cell_type": "markdown",
   "metadata": {
    "slideshow": {
     "slide_type": "slide"
    }
   },
   "source": [
    "**Further References:**  https://stat4701.github.io/edav/2015/04/02/rvest_tutorial/"
   ]
  },
  {
   "cell_type": "markdown",
   "metadata": {
    "hide_input": false,
    "run_control": {
     "marked": false
    },
    "slideshow": {
     "slide_type": "slide"
    }
   },
   "source": [
    "## Importing Data From Other Statistical softwares\n",
    "* Packages\n",
    "    * haven\n",
    "    * foreign\n",
    "    * Hmisc    \n",
    "* From SAS\n",
    "* From Stata\n",
    "* From SPSS"
   ]
  },
  {
   "cell_type": "markdown",
   "metadata": {
    "slideshow": {
     "slide_type": "slide"
    }
   },
   "source": [
    "![Imgur](https://i.imgur.com/hRvafeg.png)"
   ]
  },
  {
   "cell_type": "markdown",
   "metadata": {
    "slideshow": {
     "slide_type": "subslide"
    }
   },
   "source": [
    "### haven package"
   ]
  },
  {
   "cell_type": "markdown",
   "metadata": {
    "slideshow": {
     "slide_type": "slide"
    }
   },
   "source": [
    "#### From SAS"
   ]
  },
  {
   "cell_type": "code",
   "execution_count": 31,
   "metadata": {
    "run_control": {
     "frozen": false,
     "read_only": false
    },
    "slideshow": {
     "slide_type": "fragment"
    }
   },
   "outputs": [
    {
     "name": "stderr",
     "output_type": "stream",
     "text": [
      "Warning message:\n",
      "\"package 'haven' was built under R version 3.4.3\""
     ]
    },
    {
     "data": {
      "text/html": [
       "<table>\n",
       "<thead><tr><th scope=col>purchase</th><th scope=col>age</th><th scope=col>gender</th><th scope=col>income</th></tr></thead>\n",
       "<tbody>\n",
       "\t<tr><td>0     </td><td>41    </td><td>Female</td><td>Low   </td></tr>\n",
       "\t<tr><td>0     </td><td>47    </td><td>Female</td><td>Low   </td></tr>\n",
       "\t<tr><td>1     </td><td>41    </td><td>Female</td><td>Low   </td></tr>\n",
       "\t<tr><td>1     </td><td>39    </td><td>Female</td><td>Low   </td></tr>\n",
       "\t<tr><td>0     </td><td>32    </td><td>Female</td><td>Low   </td></tr>\n",
       "\t<tr><td>0     </td><td>32    </td><td>Female</td><td>Low   </td></tr>\n",
       "</tbody>\n",
       "</table>\n"
      ],
      "text/latex": [
       "\\begin{tabular}{r|llll}\n",
       " purchase & age & gender & income\\\\\n",
       "\\hline\n",
       "\t 0      & 41     & Female & Low   \\\\\n",
       "\t 0      & 47     & Female & Low   \\\\\n",
       "\t 1      & 41     & Female & Low   \\\\\n",
       "\t 1      & 39     & Female & Low   \\\\\n",
       "\t 0      & 32     & Female & Low   \\\\\n",
       "\t 0      & 32     & Female & Low   \\\\\n",
       "\\end{tabular}\n"
      ],
      "text/markdown": [
       "\n",
       "purchase | age | gender | income | \n",
       "|---|---|---|---|---|---|\n",
       "| 0      | 41     | Female | Low    | \n",
       "| 0      | 47     | Female | Low    | \n",
       "| 1      | 41     | Female | Low    | \n",
       "| 1      | 39     | Female | Low    | \n",
       "| 0      | 32     | Female | Low    | \n",
       "| 0      | 32     | Female | Low    | \n",
       "\n",
       "\n"
      ],
      "text/plain": [
       "  purchase age gender income\n",
       "1 0        41  Female Low   \n",
       "2 0        47  Female Low   \n",
       "3 1        41  Female Low   \n",
       "4 1        39  Female Low   \n",
       "5 0        32  Female Low   \n",
       "6 0        32  Female Low   "
      ]
     },
     "metadata": {},
     "output_type": "display_data"
    }
   ],
   "source": [
    "# install.packages(\"haven\", repos = \"http://cran.us.r-project.org\")\n",
    "library(haven)\n",
    "ontime <- read_sas(\"data/sales.sas7bdat\")\n",
    "head(ontime)"
   ]
  },
  {
   "cell_type": "markdown",
   "metadata": {
    "slideshow": {
     "slide_type": "slide"
    }
   },
   "source": [
    "#### From Stata"
   ]
  },
  {
   "cell_type": "code",
   "execution_count": 32,
   "metadata": {
    "run_control": {
     "frozen": false,
     "read_only": false
    },
    "slideshow": {
     "slide_type": "fragment"
    }
   },
   "outputs": [
    {
     "data": {
      "text/html": [
       "<table>\n",
       "<thead><tr><th scope=col>Date</th><th scope=col>Import</th><th scope=col>Weight_I</th><th scope=col>Export</th><th scope=col>Weight_E</th></tr></thead>\n",
       "<tbody>\n",
       "\t<tr><td>10       </td><td>37664782 </td><td>54029106 </td><td> 54505513</td><td> 93350013</td></tr>\n",
       "\t<tr><td> 9       </td><td>16316512 </td><td>21584365 </td><td>102700010</td><td>158000010</td></tr>\n",
       "\t<tr><td> 8       </td><td>11082246 </td><td>14526089 </td><td> 37935000</td><td> 88000000</td></tr>\n",
       "\t<tr><td> 7       </td><td>35677943 </td><td>55034932 </td><td> 48515008</td><td>112000005</td></tr>\n",
       "\t<tr><td> 6       </td><td> 9879878 </td><td>14806865 </td><td> 71486545</td><td>131800000</td></tr>\n",
       "\t<tr><td> 5       </td><td> 1539992 </td><td> 1749318 </td><td> 12311696</td><td> 18500014</td></tr>\n",
       "</tbody>\n",
       "</table>\n"
      ],
      "text/latex": [
       "\\begin{tabular}{r|lllll}\n",
       " Date & Import & Weight\\_I & Export & Weight\\_E\\\\\n",
       "\\hline\n",
       "\t 10        & 37664782  & 54029106  &  54505513 &  93350013\\\\\n",
       "\t  9        & 16316512  & 21584365  & 102700010 & 158000010\\\\\n",
       "\t  8        & 11082246  & 14526089  &  37935000 &  88000000\\\\\n",
       "\t  7        & 35677943  & 55034932  &  48515008 & 112000005\\\\\n",
       "\t  6        &  9879878  & 14806865  &  71486545 & 131800000\\\\\n",
       "\t  5        &  1539992  &  1749318  &  12311696 &  18500014\\\\\n",
       "\\end{tabular}\n"
      ],
      "text/markdown": [
       "\n",
       "Date | Import | Weight_I | Export | Weight_E | \n",
       "|---|---|---|---|---|---|\n",
       "| 10        | 37664782  | 54029106  |  54505513 |  93350013 | \n",
       "|  9        | 16316512  | 21584365  | 102700010 | 158000010 | \n",
       "|  8        | 11082246  | 14526089  |  37935000 |  88000000 | \n",
       "|  7        | 35677943  | 55034932  |  48515008 | 112000005 | \n",
       "|  6        |  9879878  | 14806865  |  71486545 | 131800000 | \n",
       "|  5        |  1539992  |  1749318  |  12311696 |  18500014 | \n",
       "\n",
       "\n"
      ],
      "text/plain": [
       "  Date Import   Weight_I Export    Weight_E \n",
       "1 10   37664782 54029106  54505513  93350013\n",
       "2  9   16316512 21584365 102700010 158000010\n",
       "3  8   11082246 14526089  37935000  88000000\n",
       "4  7   35677943 55034932  48515008 112000005\n",
       "5  6    9879878 14806865  71486545 131800000\n",
       "6  5    1539992  1749318  12311696  18500014"
      ]
     },
     "metadata": {},
     "output_type": "display_data"
    },
    {
     "data": {
      "text/html": [
       "<table>\n",
       "<thead><tr><th scope=col>Date</th><th scope=col>Import</th><th scope=col>Weight_I</th><th scope=col>Export</th><th scope=col>Weight_E</th></tr></thead>\n",
       "<tbody>\n",
       "\t<tr><td>10       </td><td>37664782 </td><td>54029106 </td><td> 54505513</td><td> 93350013</td></tr>\n",
       "\t<tr><td> 9       </td><td>16316512 </td><td>21584365 </td><td>102700010</td><td>158000010</td></tr>\n",
       "\t<tr><td> 8       </td><td>11082246 </td><td>14526089 </td><td> 37935000</td><td> 88000000</td></tr>\n",
       "\t<tr><td> 7       </td><td>35677943 </td><td>55034932 </td><td> 48515008</td><td>112000005</td></tr>\n",
       "\t<tr><td> 6       </td><td> 9879878 </td><td>14806865 </td><td> 71486545</td><td>131800000</td></tr>\n",
       "\t<tr><td> 5       </td><td> 1539992 </td><td> 1749318 </td><td> 12311696</td><td> 18500014</td></tr>\n",
       "</tbody>\n",
       "</table>\n"
      ],
      "text/latex": [
       "\\begin{tabular}{r|lllll}\n",
       " Date & Import & Weight\\_I & Export & Weight\\_E\\\\\n",
       "\\hline\n",
       "\t 10        & 37664782  & 54029106  &  54505513 &  93350013\\\\\n",
       "\t  9        & 16316512  & 21584365  & 102700010 & 158000010\\\\\n",
       "\t  8        & 11082246  & 14526089  &  37935000 &  88000000\\\\\n",
       "\t  7        & 35677943  & 55034932  &  48515008 & 112000005\\\\\n",
       "\t  6        &  9879878  & 14806865  &  71486545 & 131800000\\\\\n",
       "\t  5        &  1539992  &  1749318  &  12311696 &  18500014\\\\\n",
       "\\end{tabular}\n"
      ],
      "text/markdown": [
       "\n",
       "Date | Import | Weight_I | Export | Weight_E | \n",
       "|---|---|---|---|---|---|\n",
       "| 10        | 37664782  | 54029106  |  54505513 |  93350013 | \n",
       "|  9        | 16316512  | 21584365  | 102700010 | 158000010 | \n",
       "|  8        | 11082246  | 14526089  |  37935000 |  88000000 | \n",
       "|  7        | 35677943  | 55034932  |  48515008 | 112000005 | \n",
       "|  6        |  9879878  | 14806865  |  71486545 | 131800000 | \n",
       "|  5        |  1539992  |  1749318  |  12311696 |  18500014 | \n",
       "\n",
       "\n"
      ],
      "text/plain": [
       "  Date Import   Weight_I Export    Weight_E \n",
       "1 10   37664782 54029106  54505513  93350013\n",
       "2  9   16316512 21584365 102700010 158000010\n",
       "3  8   11082246 14526089  37935000  88000000\n",
       "4  7   35677943 55034932  48515008 112000005\n",
       "5  6    9879878 14806865  71486545 131800000\n",
       "6  5    1539992  1749318  12311696  18500014"
      ]
     },
     "metadata": {},
     "output_type": "display_data"
    }
   ],
   "source": [
    "trade <- read_stata(\"data/trade.dta\")\n",
    "head(trade)\n",
    "trade <- read_dta(\"data/trade.dta\")\n",
    "head(trade)"
   ]
  },
  {
   "cell_type": "markdown",
   "metadata": {
    "slideshow": {
     "slide_type": "slide"
    }
   },
   "source": [
    "#### From SPSS"
   ]
  },
  {
   "cell_type": "code",
   "execution_count": 33,
   "metadata": {
    "run_control": {
     "frozen": false,
     "read_only": false
    },
    "slideshow": {
     "slide_type": "fragment"
    }
   },
   "outputs": [
    {
     "data": {
      "text/html": [
       "<table>\n",
       "<thead><tr><th scope=col>subject</th><th scope=col>anxiety</th><th scope=col>tension</th><th scope=col>trial1</th><th scope=col>trial2</th><th scope=col>trial3</th><th scope=col>trial4</th></tr></thead>\n",
       "<tbody>\n",
       "\t<tr><td> 1</td><td>1 </td><td>1 </td><td>18</td><td>14</td><td>12</td><td>6 </td></tr>\n",
       "\t<tr><td> 2</td><td>1 </td><td>1 </td><td>19</td><td>12</td><td> 8</td><td>4 </td></tr>\n",
       "\t<tr><td> 3</td><td>1 </td><td>1 </td><td>14</td><td>10</td><td> 6</td><td>2 </td></tr>\n",
       "\t<tr><td> 4</td><td>1 </td><td>2 </td><td>16</td><td>12</td><td>10</td><td>4 </td></tr>\n",
       "\t<tr><td> 5</td><td>1 </td><td>2 </td><td>12</td><td> 8</td><td> 6</td><td>2 </td></tr>\n",
       "\t<tr><td> 6</td><td>1 </td><td>2 </td><td>18</td><td>10</td><td> 5</td><td>1 </td></tr>\n",
       "\t<tr><td> 7</td><td>2 </td><td>1 </td><td>16</td><td>10</td><td> 8</td><td>4 </td></tr>\n",
       "\t<tr><td> 8</td><td>2 </td><td>1 </td><td>18</td><td> 8</td><td> 4</td><td>1 </td></tr>\n",
       "\t<tr><td> 9</td><td>2 </td><td>1 </td><td>16</td><td>12</td><td> 6</td><td>2 </td></tr>\n",
       "\t<tr><td>10</td><td>2 </td><td>2 </td><td>19</td><td>16</td><td>10</td><td>8 </td></tr>\n",
       "\t<tr><td>11</td><td>2 </td><td>2 </td><td>16</td><td>14</td><td>10</td><td>9 </td></tr>\n",
       "\t<tr><td>12</td><td>2 </td><td>2 </td><td>16</td><td>12</td><td> 8</td><td>8 </td></tr>\n",
       "</tbody>\n",
       "</table>\n"
      ],
      "text/latex": [
       "\\begin{tabular}{r|lllllll}\n",
       " subject & anxiety & tension & trial1 & trial2 & trial3 & trial4\\\\\n",
       "\\hline\n",
       "\t  1 & 1  & 1  & 18 & 14 & 12 & 6 \\\\\n",
       "\t  2 & 1  & 1  & 19 & 12 &  8 & 4 \\\\\n",
       "\t  3 & 1  & 1  & 14 & 10 &  6 & 2 \\\\\n",
       "\t  4 & 1  & 2  & 16 & 12 & 10 & 4 \\\\\n",
       "\t  5 & 1  & 2  & 12 &  8 &  6 & 2 \\\\\n",
       "\t  6 & 1  & 2  & 18 & 10 &  5 & 1 \\\\\n",
       "\t  7 & 2  & 1  & 16 & 10 &  8 & 4 \\\\\n",
       "\t  8 & 2  & 1  & 18 &  8 &  4 & 1 \\\\\n",
       "\t  9 & 2  & 1  & 16 & 12 &  6 & 2 \\\\\n",
       "\t 10 & 2  & 2  & 19 & 16 & 10 & 8 \\\\\n",
       "\t 11 & 2  & 2  & 16 & 14 & 10 & 9 \\\\\n",
       "\t 12 & 2  & 2  & 16 & 12 &  8 & 8 \\\\\n",
       "\\end{tabular}\n"
      ],
      "text/markdown": [
       "\n",
       "subject | anxiety | tension | trial1 | trial2 | trial3 | trial4 | \n",
       "|---|---|---|---|---|---|---|---|---|---|---|---|\n",
       "|  1 | 1  | 1  | 18 | 14 | 12 | 6  | \n",
       "|  2 | 1  | 1  | 19 | 12 |  8 | 4  | \n",
       "|  3 | 1  | 1  | 14 | 10 |  6 | 2  | \n",
       "|  4 | 1  | 2  | 16 | 12 | 10 | 4  | \n",
       "|  5 | 1  | 2  | 12 |  8 |  6 | 2  | \n",
       "|  6 | 1  | 2  | 18 | 10 |  5 | 1  | \n",
       "|  7 | 2  | 1  | 16 | 10 |  8 | 4  | \n",
       "|  8 | 2  | 1  | 18 |  8 |  4 | 1  | \n",
       "|  9 | 2  | 1  | 16 | 12 |  6 | 2  | \n",
       "| 10 | 2  | 2  | 19 | 16 | 10 | 8  | \n",
       "| 11 | 2  | 2  | 16 | 14 | 10 | 9  | \n",
       "| 12 | 2  | 2  | 16 | 12 |  8 | 8  | \n",
       "\n",
       "\n"
      ],
      "text/plain": [
       "   subject anxiety tension trial1 trial2 trial3 trial4\n",
       "1   1      1       1       18     14     12     6     \n",
       "2   2      1       1       19     12      8     4     \n",
       "3   3      1       1       14     10      6     2     \n",
       "4   4      1       2       16     12     10     4     \n",
       "5   5      1       2       12      8      6     2     \n",
       "6   6      1       2       18     10      5     1     \n",
       "7   7      2       1       16     10      8     4     \n",
       "8   8      2       1       18      8      4     1     \n",
       "9   9      2       1       16     12      6     2     \n",
       "10 10      2       2       19     16     10     8     \n",
       "11 11      2       2       16     14     10     9     \n",
       "12 12      2       2       16     12      8     8     "
      ]
     },
     "metadata": {},
     "output_type": "display_data"
    }
   ],
   "source": [
    "Anxiety <- read_spss(\"data/Anxiety 2.sav\")\n",
    "Anxiety"
   ]
  },
  {
   "cell_type": "markdown",
   "metadata": {
    "slideshow": {
     "slide_type": "slide"
    }
   },
   "source": [
    "### foreign package"
   ]
  },
  {
   "cell_type": "code",
   "execution_count": 34,
   "metadata": {
    "run_control": {
     "frozen": false,
     "read_only": false
    },
    "slideshow": {
     "slide_type": "subslide"
    }
   },
   "outputs": [
    {
     "data": {
      "text/html": [
       "<table>\n",
       "<thead><tr><th scope=col>purchase</th><th scope=col>age</th><th scope=col>gender</th><th scope=col>income</th></tr></thead>\n",
       "<tbody>\n",
       "\t<tr><td>0     </td><td>41    </td><td>Female</td><td>Low   </td></tr>\n",
       "\t<tr><td>0     </td><td>47    </td><td>Female</td><td>Low   </td></tr>\n",
       "\t<tr><td>1     </td><td>41    </td><td>Female</td><td>Low   </td></tr>\n",
       "\t<tr><td>1     </td><td>39    </td><td>Female</td><td>Low   </td></tr>\n",
       "\t<tr><td>0     </td><td>32    </td><td>Female</td><td>Low   </td></tr>\n",
       "\t<tr><td>0     </td><td>32    </td><td>Female</td><td>Low   </td></tr>\n",
       "</tbody>\n",
       "</table>\n"
      ],
      "text/latex": [
       "\\begin{tabular}{r|llll}\n",
       " purchase & age & gender & income\\\\\n",
       "\\hline\n",
       "\t 0      & 41     & Female & Low   \\\\\n",
       "\t 0      & 47     & Female & Low   \\\\\n",
       "\t 1      & 41     & Female & Low   \\\\\n",
       "\t 1      & 39     & Female & Low   \\\\\n",
       "\t 0      & 32     & Female & Low   \\\\\n",
       "\t 0      & 32     & Female & Low   \\\\\n",
       "\\end{tabular}\n"
      ],
      "text/markdown": [
       "\n",
       "purchase | age | gender | income | \n",
       "|---|---|---|---|---|---|\n",
       "| 0      | 41     | Female | Low    | \n",
       "| 0      | 47     | Female | Low    | \n",
       "| 1      | 41     | Female | Low    | \n",
       "| 1      | 39     | Female | Low    | \n",
       "| 0      | 32     | Female | Low    | \n",
       "| 0      | 32     | Female | Low    | \n",
       "\n",
       "\n"
      ],
      "text/plain": [
       "  purchase age gender income\n",
       "1 0        41  Female Low   \n",
       "2 0        47  Female Low   \n",
       "3 1        41  Female Low   \n",
       "4 1        39  Female Low   \n",
       "5 0        32  Female Low   \n",
       "6 0        32  Female Low   "
      ]
     },
     "metadata": {},
     "output_type": "display_data"
    },
    {
     "data": {
      "text/html": [
       "<table>\n",
       "<thead><tr><th scope=col>Date</th><th scope=col>Import</th><th scope=col>Weight_I</th><th scope=col>Export</th><th scope=col>Weight_E</th></tr></thead>\n",
       "<tbody>\n",
       "\t<tr><td>2013-12-31</td><td>37664782  </td><td>54029106  </td><td> 54505513 </td><td> 93350013 </td></tr>\n",
       "\t<tr><td>2012-12-31</td><td>16316512  </td><td>21584365  </td><td>102700010 </td><td>158000010 </td></tr>\n",
       "\t<tr><td>2011-12-31</td><td>11082246  </td><td>14526089  </td><td> 37935000 </td><td> 88000000 </td></tr>\n",
       "\t<tr><td>2010-12-31</td><td>35677943  </td><td>55034932  </td><td> 48515008 </td><td>112000005 </td></tr>\n",
       "\t<tr><td>2009-12-31</td><td> 9879878  </td><td>14806865  </td><td> 71486545 </td><td>131800000 </td></tr>\n",
       "\t<tr><td>2008-12-31</td><td> 1539992  </td><td> 1749318  </td><td> 12311696 </td><td> 18500014 </td></tr>\n",
       "</tbody>\n",
       "</table>\n"
      ],
      "text/latex": [
       "\\begin{tabular}{r|lllll}\n",
       " Date & Import & Weight\\_I & Export & Weight\\_E\\\\\n",
       "\\hline\n",
       "\t 2013-12-31 & 37664782   & 54029106   &  54505513  &  93350013 \\\\\n",
       "\t 2012-12-31 & 16316512   & 21584365   & 102700010  & 158000010 \\\\\n",
       "\t 2011-12-31 & 11082246   & 14526089   &  37935000  &  88000000 \\\\\n",
       "\t 2010-12-31 & 35677943   & 55034932   &  48515008  & 112000005 \\\\\n",
       "\t 2009-12-31 &  9879878   & 14806865   &  71486545  & 131800000 \\\\\n",
       "\t 2008-12-31 &  1539992   &  1749318   &  12311696  &  18500014 \\\\\n",
       "\\end{tabular}\n"
      ],
      "text/markdown": [
       "\n",
       "Date | Import | Weight_I | Export | Weight_E | \n",
       "|---|---|---|---|---|---|\n",
       "| 2013-12-31 | 37664782   | 54029106   |  54505513  |  93350013  | \n",
       "| 2012-12-31 | 16316512   | 21584365   | 102700010  | 158000010  | \n",
       "| 2011-12-31 | 11082246   | 14526089   |  37935000  |  88000000  | \n",
       "| 2010-12-31 | 35677943   | 55034932   |  48515008  | 112000005  | \n",
       "| 2009-12-31 |  9879878   | 14806865   |  71486545  | 131800000  | \n",
       "| 2008-12-31 |  1539992   |  1749318   |  12311696  |  18500014  | \n",
       "\n",
       "\n"
      ],
      "text/plain": [
       "  Date       Import   Weight_I Export    Weight_E \n",
       "1 2013-12-31 37664782 54029106  54505513  93350013\n",
       "2 2012-12-31 16316512 21584365 102700010 158000010\n",
       "3 2011-12-31 11082246 14526089  37935000  88000000\n",
       "4 2010-12-31 35677943 55034932  48515008 112000005\n",
       "5 2009-12-31  9879878 14806865  71486545 131800000\n",
       "6 2008-12-31  1539992  1749318  12311696  18500014"
      ]
     },
     "metadata": {},
     "output_type": "display_data"
    },
    {
     "name": "stderr",
     "output_type": "stream",
     "text": [
      "re-encoding from CP1252\n"
     ]
    },
    {
     "data": {
      "text/html": [
       "<table>\n",
       "<thead><tr><th scope=col>subject</th><th scope=col>anxiety</th><th scope=col>tension</th><th scope=col>trial1</th><th scope=col>trial2</th><th scope=col>trial3</th><th scope=col>trial4</th></tr></thead>\n",
       "<tbody>\n",
       "\t<tr><td>1 </td><td>1 </td><td>1 </td><td>18</td><td>14</td><td>12</td><td>6 </td></tr>\n",
       "\t<tr><td>2 </td><td>1 </td><td>1 </td><td>19</td><td>12</td><td> 8</td><td>4 </td></tr>\n",
       "\t<tr><td>3 </td><td>1 </td><td>1 </td><td>14</td><td>10</td><td> 6</td><td>2 </td></tr>\n",
       "\t<tr><td>4 </td><td>1 </td><td>2 </td><td>16</td><td>12</td><td>10</td><td>4 </td></tr>\n",
       "\t<tr><td>5 </td><td>1 </td><td>2 </td><td>12</td><td> 8</td><td> 6</td><td>2 </td></tr>\n",
       "\t<tr><td>6 </td><td>1 </td><td>2 </td><td>18</td><td>10</td><td> 5</td><td>1 </td></tr>\n",
       "</tbody>\n",
       "</table>\n"
      ],
      "text/latex": [
       "\\begin{tabular}{r|lllllll}\n",
       " subject & anxiety & tension & trial1 & trial2 & trial3 & trial4\\\\\n",
       "\\hline\n",
       "\t 1  & 1  & 1  & 18 & 14 & 12 & 6 \\\\\n",
       "\t 2  & 1  & 1  & 19 & 12 &  8 & 4 \\\\\n",
       "\t 3  & 1  & 1  & 14 & 10 &  6 & 2 \\\\\n",
       "\t 4  & 1  & 2  & 16 & 12 & 10 & 4 \\\\\n",
       "\t 5  & 1  & 2  & 12 &  8 &  6 & 2 \\\\\n",
       "\t 6  & 1  & 2  & 18 & 10 &  5 & 1 \\\\\n",
       "\\end{tabular}\n"
      ],
      "text/markdown": [
       "\n",
       "subject | anxiety | tension | trial1 | trial2 | trial3 | trial4 | \n",
       "|---|---|---|---|---|---|\n",
       "| 1  | 1  | 1  | 18 | 14 | 12 | 6  | \n",
       "| 2  | 1  | 1  | 19 | 12 |  8 | 4  | \n",
       "| 3  | 1  | 1  | 14 | 10 |  6 | 2  | \n",
       "| 4  | 1  | 2  | 16 | 12 | 10 | 4  | \n",
       "| 5  | 1  | 2  | 12 |  8 |  6 | 2  | \n",
       "| 6  | 1  | 2  | 18 | 10 |  5 | 1  | \n",
       "\n",
       "\n"
      ],
      "text/plain": [
       "  subject anxiety tension trial1 trial2 trial3 trial4\n",
       "1 1       1       1       18     14     12     6     \n",
       "2 2       1       1       19     12      8     4     \n",
       "3 3       1       1       14     10      6     2     \n",
       "4 4       1       2       16     12     10     4     \n",
       "5 5       1       2       12      8      6     2     \n",
       "6 6       1       2       18     10      5     1     "
      ]
     },
     "metadata": {},
     "output_type": "display_data"
    }
   ],
   "source": [
    "library(foreign)\n",
    "# from SAS\n",
    "#nstall.packages(\"sas7bdat\", repos = \"http://cran.us.r-project.org\")\n",
    "library(sas7bdat)\n",
    "mydata <- read.sas7bdat(\"data/sales.sas7bdat\") \n",
    "head(mydata)\n",
    "# from stata\n",
    "mydata <- read.dta(\"data/trade.dta\")\n",
    "head(mydata)\n",
    "# from SPSS\n",
    "mySPSSData <- read.spss(\"data/Anxiety 2.sav\",\n",
    "                       to.data.frame=TRUE,\n",
    "                       use.value.labels=FALSE)\n",
    "head(mySPSSData)"
   ]
  },
  {
   "cell_type": "markdown",
   "metadata": {
    "slideshow": {
     "slide_type": "slide"
    }
   },
   "source": [
    "### Hmisc package"
   ]
  },
  {
   "cell_type": "code",
   "execution_count": 35,
   "metadata": {
    "collapsed": true,
    "run_control": {
     "frozen": false,
     "read_only": false
    },
    "slideshow": {
     "slide_type": "subslide"
    }
   },
   "outputs": [],
   "source": [
    "# from SAS\n",
    "# from stata\n",
    "# from SPSS"
   ]
  },
  {
   "cell_type": "markdown",
   "metadata": {
    "slideshow": {
     "slide_type": "slide"
    }
   },
   "source": [
    "## One package for basic import/export (`rio` **package**)"
   ]
  },
  {
   "cell_type": "markdown",
   "metadata": {
    "slideshow": {
     "slide_type": "subslide"
    }
   },
   "source": [
    "```{r}library(\"rio\")\n",
    "# Importing data is handled with one function, import():\n",
    "x <- import(\"mtcars.csv\")\n",
    "y <- import(\"mtcars.rds\")\n",
    "z <- import(\"mtcars.sav\")\n",
    "\n",
    "# Exporting data is handled with one function, export():\n",
    "\n",
    "export(mtcars, \"mtcars.csv\") # comma-separated values\n",
    "export(mtcars, \"mtcars.rds\") # R serialized\n",
    "export(mtcars, \"mtcars.sav\") # SPSS```"
   ]
  },
  {
   "cell_type": "markdown",
   "metadata": {
    "slideshow": {
     "slide_type": "subslide"
    }
   },
   "source": [
    "**further references:**    \n",
    "https://github.com/leeper/rio  \n",
    "https://cran.r-project.org/web/packages/rio/vignettes/rio.html  "
   ]
  }
 ],
 "metadata": {
  "celltoolbar": "Slideshow",
  "hide_input": false,
  "kernelspec": {
   "display_name": "R",
   "language": "R",
   "name": "r"
  },
  "language_info": {
   "codemirror_mode": "r",
   "file_extension": ".r",
   "mimetype": "text/x-r-source",
   "name": "R",
   "pygments_lexer": "r",
   "version": "3.4.1"
  },
  "nav_menu": {},
  "toc": {
   "nav_menu": {},
   "number_sections": false,
   "sideBar": true,
   "skip_h1_title": false,
   "toc_cell": true,
   "toc_position": {
    "height": "475px",
    "left": "0px",
    "right": "1154px",
    "top": "111px",
    "width": "212px"
   },
   "toc_section_display": "block",
   "toc_window_display": false
  }
 },
 "nbformat": 4,
 "nbformat_minor": 2
}
