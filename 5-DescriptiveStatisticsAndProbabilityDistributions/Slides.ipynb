{
 "cells": [
  {
   "cell_type": "markdown",
   "metadata": {
    "slideshow": {
     "slide_type": "slide"
    },
    "toc": true
   },
   "source": [
    "<h1>Table of Contents<span class=\"tocSkip\"></span></h1>\n",
    "<div class=\"toc\" style=\"margin-top: 1em;\"><ul class=\"toc-item\"><li><ul class=\"toc-item\"><li><span><a href=\"#Terminology\" data-toc-modified-id=\"Terminology-0.1\">Terminology</a></span></li><li><span><a href=\"#Probability\" data-toc-modified-id=\"Probability-0.2\">Probability</a></span></li><li><span><a href=\"#Random-Variable\" data-toc-modified-id=\"Random-Variable-0.3\">Random Variable</a></span></li><li><span><a href=\"#Discrete-and-Continuous-Random-Variables\" data-toc-modified-id=\"Discrete-and-Continuous-Random-Variables-0.4\">Discrete and Continuous Random Variables</a></span></li><li><span><a href=\"#Probability-Distribution:\" data-toc-modified-id=\"Probability-Distribution:-0.5\">Probability Distribution:</a></span><ul class=\"toc-item\"><li><span><a href=\"#Discrete-Probability-Distribution\" data-toc-modified-id=\"Discrete-Probability-Distribution-0.5.1\">Discrete Probability Distribution</a></span></li><li><span><a href=\"#Continuous-Probability-Distribution\" data-toc-modified-id=\"Continuous-Probability-Distribution-0.5.2\">Continuous Probability Distribution</a></span></li></ul></li><li><span><a href=\"#Probability-mass-function-vs-Probability-density-function-Vs-Cumulative-distribution-function\" data-toc-modified-id=\"Probability-mass-function-vs-Probability-density-function-Vs-Cumulative-distribution-function-0.6\">Probability mass function vs Probability density function Vs Cumulative distribution function</a></span></li><li><span><a href=\"#Working-with-Distributions-in-R\" data-toc-modified-id=\"Working-with-Distributions-in-R-0.7\">Working with Distributions in R</a></span><ul class=\"toc-item\"><li><span><a href=\"#The-Normal-Distribtion\" data-toc-modified-id=\"The-Normal-Distribtion-0.7.1\">The Normal Distribtion</a></span></li></ul></li><li><span><a href=\"#Frequency-Distribution\" data-toc-modified-id=\"Frequency-Distribution-0.8\">Frequency Distribution</a></span><ul class=\"toc-item\"><li><span><a href=\"#Grouped-Frequency\" data-toc-modified-id=\"Grouped-Frequency-0.8.1\">Grouped Frequency</a></span></li></ul></li><li><span><a href=\"#Construct-frequency-table-and-Relative-frequency-tables\" data-toc-modified-id=\"Construct-frequency-table-and-Relative-frequency-tables-0.9\">Construct frequency table and Relative frequency tables</a></span></li><li><span><a href=\"#Further-References\" data-toc-modified-id=\"Further-References-0.10\">Further References</a></span></li></ul></li></ul></div>"
   ]
  },
  {
   "cell_type": "markdown",
   "metadata": {
    "slideshow": {
     "slide_type": "slide"
    }
   },
   "source": [
    "## Terminology"
   ]
  },
  {
   "cell_type": "markdown",
   "metadata": {
    "slideshow": {
     "slide_type": "slide"
    }
   },
   "source": [
    "**Random Experiment:**  \n",
    "There are lots of phenomena in nature, like tossing a coin or tossing a die, whose outcomes cannot be predicted with certainty in advance, but the set of all the possible outcomes is known.These are what we call random phenomena or random experiments.\n",
    "Ex:  \n",
    "- tossing a coin.\n",
    "- rolling a die\n",
    "- Tossing a coin twice\n",
    "\n",
    "**Outcome:**  \n",
    "An outcome is the result of an experiment or sequence of observations.  \n",
    "Ex:     \n",
    "- Getting a head or tail is an outcome \n",
    "- Getting 1 or 2 or 3 ...or 6 on die is an outcome\n",
    "- Getting head on first coin or Getting tail on both coins ...etc are outcomes\n",
    "\n",
    "**Sample space:**  \n",
    "A sample space is a collection of possible outcomes, and is usually denoted by S.  \n",
    "Ex:  \n",
    "-  sample space is S = {H, T}\n",
    "-  sample space is S = {1, 2, 3, 4, 5, 6}\n",
    "-  sample space is S = {HH, HT, TH, T T}\n",
    "\n",
    "**Event:**  \n",
    "An event is a set of possible outcomes, denoted by E which is a subset of the sample space S  \n",
    "Ex:     \n",
    "- E = {H} is an event.\n",
    "- E = {2, 4, 6} is an event\n",
    "- E = {HH, HT} is an event (the first toss results in a Heads) \n",
    "\n",
    "\n",
    "**Distribution:**  \n",
    "A distribution describes the frequency or probability of possible events. When a distribution of categorical data is organized, you see the number or percentage of individuals in each group. When a distribution of numerical data is organized, they’re often ordered from smallest to largest, broken into reasonably sized groups (if appropriate), and then put into graphs and charts to examine the shape, center, and amount of variability in the data  "
   ]
  },
  {
   "cell_type": "markdown",
   "metadata": {
    "slideshow": {
     "slide_type": "slide"
    }
   },
   "source": [
    "## Probability"
   ]
  },
  {
   "cell_type": "markdown",
   "metadata": {
    "slideshow": {
     "slide_type": "fragment"
    }
   },
   "source": [
    "Probability is the likelihood that a **random variable** will take on a certain value."
   ]
  },
  {
   "cell_type": "markdown",
   "metadata": {
    "slideshow": {
     "slide_type": "fragment"
    }
   },
   "source": [
    "EX: There is an 85% chance of snow tomorrow. Variable: Weather, Possible values: Snow, No snow."
   ]
  },
  {
   "cell_type": "markdown",
   "metadata": {
    "slideshow": {
     "slide_type": "slide"
    }
   },
   "source": [
    "## Random Variable"
   ]
  },
  {
   "cell_type": "markdown",
   "metadata": {
    "slideshow": {
     "slide_type": "fragment"
    }
   },
   "source": [
    "A **random variable** is a rule that assigns a numerical value to each possible outcome of a probabilistic experiment\n",
    "\n",
    "We denote a random variable by a capital letter (such as “X”)  \n",
    "\n",
    "**Examples of random variables:**  \n",
    "r.v. X: the age of a randomly selected student here today.  \n",
    "\n",
    "r.v. Y: the number of planes completed in the past week.  \n",
    "\n",
    "**Expected Value (Weighted Mean/Average):**  \n",
    "*Sum of each outcome multiplied by its probability*"
   ]
  },
  {
   "cell_type": "markdown",
   "metadata": {
    "slideshow": {
     "slide_type": "slide"
    }
   },
   "source": [
    "## Discrete and Continuous Random Variables "
   ]
  },
  {
   "cell_type": "raw",
   "metadata": {
    "slideshow": {
     "slide_type": "subslide"
    }
   },
   "source": [
    "A discrete variable is a variable whose value is obtained by counting. \n",
    "\n",
    "Examples:   number of students present\n",
    "\n",
    "            number of red marbles in a jar\n",
    "\n",
    "            number of heads when flipping three coins\n",
    "\n",
    "            students’ grade level "
   ]
  },
  {
   "cell_type": "raw",
   "metadata": {
    "slideshow": {
     "slide_type": "subslide"
    }
   },
   "source": [
    "A continuous variable is a variable whose value is obtained by measuring. \n",
    "\n",
    "Examples:   height of students in class\n",
    "\n",
    "                weight of students in class\n",
    "\n",
    "                time it takes to get to school\n",
    "\n",
    "                distance traveled between classes"
   ]
  },
  {
   "cell_type": "markdown",
   "metadata": {
    "slideshow": {
     "slide_type": "subslide"
    }
   },
   "source": [
    "A **continuous random variable** X takes all values in a given interval of numbers.  \n",
    " \n",
    "▪        The probability distribution of a continuous random variable is shown by a density curve.  \n",
    "▪        The probability that X is between an interval of numbers is the area under the density curve between the interval endpoints  \n",
    "▪        The probability that a continuous random variable X is exactly equal to a number is zero  \n",
    "\n",
    "\n",
    "A **discrete random variable**     \n",
    "* a random variable X can assume only a particular finite or countably infinite set of values \n"
   ]
  },
  {
   "cell_type": "markdown",
   "metadata": {
    "cell_style": "split",
    "slideshow": {
     "slide_type": "subslide"
    }
   },
   "source": [
    "![Imgur](https://i.imgur.com/KIwYqqd.png?1)"
   ]
  },
  {
   "cell_type": "markdown",
   "metadata": {
    "cell_style": "split",
    "slideshow": {
     "slide_type": "fragment"
    }
   },
   "source": [
    "![Imgur](https://i.imgur.com/dZkju0p.png?1)\n",
    "    "
   ]
  },
  {
   "cell_type": "markdown",
   "metadata": {
    "cell_style": "center",
    "slideshow": {
     "slide_type": "slide"
    }
   },
   "source": [
    "## Probability Distribution: \n",
    "\n",
    "* How the probabilities are distributed over the values of a random variable \n",
    "* The set of all possible values of a random variable with the associated probabilities of each.  \n",
    "* is a specification in the form of a graph, a table or a function.    "
   ]
  },
  {
   "cell_type": "markdown",
   "metadata": {
    "slideshow": {
     "slide_type": "subslide"
    }
   },
   "source": [
    "### Discrete Probability Distribution\n",
    "* Random variable is discrete (usually frequency or counts)\n",
    "* Probability distribution is a table (each possible values is a probability of the occurence of a random variable)\n",
    "* A probability of discrete random variable have a perticular value between 0 and 1\n",
    "* Example: binomial, poisson"
   ]
  },
  {
   "cell_type": "markdown",
   "metadata": {
    "slideshow": {
     "slide_type": "subslide"
    }
   },
   "source": [
    "![Imgur](https://i.imgur.com/w3Mo2PM.png?1)"
   ]
  },
  {
   "cell_type": "markdown",
   "metadata": {
    "slideshow": {
     "slide_type": "subslide"
    }
   },
   "source": [
    "![Imgur](https://i.imgur.com/nWcXHUN.png?1)"
   ]
  },
  {
   "cell_type": "markdown",
   "metadata": {
    "slideshow": {
     "slide_type": "subslide"
    }
   },
   "source": [
    "![Imgur](https://i.imgur.com/tHF3QEr.png?1)"
   ]
  },
  {
   "cell_type": "markdown",
   "metadata": {
    "slideshow": {
     "slide_type": "slide"
    }
   },
   "source": [
    "### Continuous Probability Distribution\n",
    "\n",
    "* Infinite number of values in between any two points\n",
    "* The probability that a continuous random variable will assume a particular value is zero.\n",
    "* As a result, a continuous probability distribution cannot be expressed in tabular form.\n",
    "* Instead, an equation or formula is used to describe a continuous probability distribution.\n",
    "* Area under curve is matter\n",
    "* Example: Uniform, Normal, Student's t, Chi-Square and F-distributions  "
   ]
  },
  {
   "cell_type": "markdown",
   "metadata": {
    "slideshow": {
     "slide_type": "subslide"
    }
   },
   "source": [
    "![Imgur](https://i.imgur.com/s3rryVZ.png?1)"
   ]
  },
  {
   "cell_type": "markdown",
   "metadata": {
    "slideshow": {
     "slide_type": "slide"
    }
   },
   "source": [
    "![Imgur](https://i.imgur.com/eUf8UHE.png?1)"
   ]
  },
  {
   "cell_type": "markdown",
   "metadata": {
    "slideshow": {
     "slide_type": "slide"
    }
   },
   "source": [
    "## Probability mass function vs Probability density function Vs Cumulative distribution function"
   ]
  },
  {
   "cell_type": "markdown",
   "metadata": {
    "slideshow": {
     "slide_type": "fragment"
    }
   },
   "source": [
    "![Imgur](https://i.imgur.com/yEKvA7X.png)"
   ]
  },
  {
   "cell_type": "markdown",
   "metadata": {
    "cell_style": "split",
    "slideshow": {
     "slide_type": "slide"
    }
   },
   "source": [
    "![Imgura](https://i.imgur.com/6tESJ02.png?1)"
   ]
  },
  {
   "cell_type": "markdown",
   "metadata": {
    "cell_style": "split",
    "slideshow": {
     "slide_type": "fragment"
    }
   },
   "source": [
    "![Imgurb](https://i.imgur.com/e87OmdI.png?1)"
   ]
  },
  {
   "cell_type": "markdown",
   "metadata": {
    "slideshow": {
     "slide_type": "slide"
    }
   },
   "source": [
    "![Imgur](https://i.imgur.com/plFlXc7.png?1)"
   ]
  },
  {
   "cell_type": "markdown",
   "metadata": {
    "cell_style": "split",
    "slideshow": {
     "slide_type": "slide"
    }
   },
   "source": [
    "![Imgur](https://i.imgur.com/OJtvfAO.png?1)"
   ]
  },
  {
   "cell_type": "markdown",
   "metadata": {
    "cell_style": "split",
    "slideshow": {
     "slide_type": "fragment"
    }
   },
   "source": [
    "![Imgur](https://i.imgur.com/MLebJZI.png?1)"
   ]
  },
  {
   "cell_type": "markdown",
   "metadata": {
    "slideshow": {
     "slide_type": "slide"
    }
   },
   "source": [
    "![Imgur](https://i.imgur.com/1dOa9pZ.png?1)"
   ]
  },
  {
   "cell_type": "markdown",
   "metadata": {
    "slideshow": {
     "slide_type": "slide"
    }
   },
   "source": [
    "![Imgur](https://i.imgur.com/wflJD2c.png?1)"
   ]
  },
  {
   "cell_type": "markdown",
   "metadata": {
    "slideshow": {
     "slide_type": "slide"
    }
   },
   "source": [
    "![Imgur](https://i.imgur.com/v2Wh3Np.png?1)"
   ]
  },
  {
   "cell_type": "markdown",
   "metadata": {
    "slideshow": {
     "slide_type": "slide"
    }
   },
   "source": [
    "## Working with Distributions in R"
   ]
  },
  {
   "cell_type": "code",
   "execution_count": 67,
   "metadata": {
    "run_control": {
     "frozen": false,
     "read_only": false
    },
    "slideshow": {
     "slide_type": "slide"
    }
   },
   "outputs": [],
   "source": [
    "# help(\"distributions\")\n"
   ]
  },
  {
   "cell_type": "markdown",
   "metadata": {
    "slideshow": {
     "slide_type": "fragment"
    }
   },
   "source": [
    "Common Distribution-Type Arguments  \n",
    "Almost all the R functions that generate values of probability distributions work the  \n",
    "same way. They follow a similar naming convention:    \n",
    "\n",
    "• p cumulative **probability** distribution function (Direct Look-Up-c. d. f.)  \n",
    "• d probability **density** function ((p. f. or p. d. f.))  \n",
    "• q **quantile** function (inverse cumulative distribution-inverse c. d. f))  \n",
    "• r **random** sample (for simulation/random number generation)  "
   ]
  },
  {
   "cell_type": "markdown",
   "metadata": {
    "slideshow": {
     "slide_type": "slide"
    }
   },
   "source": [
    "### The Normal Distribtion"
   ]
  },
  {
   "cell_type": "markdown",
   "metadata": {
    "slideshow": {
     "slide_type": "subslide"
    }
   },
   "source": [
    "![Imgur](https://i.imgur.com/pzErpD0.png?1)"
   ]
  },
  {
   "cell_type": "markdown",
   "metadata": {
    "slideshow": {
     "slide_type": "subslide"
    }
   },
   "source": [
    "**Direct Look-Up**  \n",
    "pnorm is the R function that calculates the c. d. f.  \n",
    "  \n",
    "F(x) = P(X <= x)  \n",
    "where X is normal. Optional arguments described on the on-line documentation specify the parameters of the particular normal distribution.\n",
    "Both of the R commands in the box below do exactly the same thing.  "
   ]
  },
  {
   "cell_type": "code",
   "execution_count": 68,
   "metadata": {
    "run_control": {
     "frozen": false,
     "read_only": false
    },
    "slideshow": {
     "slide_type": "fragment"
    }
   },
   "outputs": [
    {
     "data": {
      "text/html": [
       "0.129238112240018"
      ],
      "text/latex": [
       "0.129238112240018"
      ],
      "text/markdown": [
       "0.129238112240018"
      ],
      "text/plain": [
       "[1] 0.1292381"
      ]
     },
     "metadata": {},
     "output_type": "display_data"
    },
    {
     "data": {
      "text/html": [
       "0.129238112240018"
      ],
      "text/latex": [
       "0.129238112240018"
      ],
      "text/markdown": [
       "0.129238112240018"
      ],
      "text/plain": [
       "[1] 0.1292381"
      ]
     },
     "metadata": {},
     "output_type": "display_data"
    }
   ],
   "source": [
    "pnorm(27.4, mean=50, sd=20)\n",
    "pnorm(27.4, 50, 20)\n",
    "\n",
    "# zThey look up P(X < 27.4) when X is normal with mean 50 and standard deviation 20.\n",
    "# Example"
   ]
  },
  {
   "cell_type": "raw",
   "metadata": {
    "slideshow": {
     "slide_type": "slide"
    }
   },
   "source": [
    "Question: Suppose widgit weights produced at Acme Widgit Works have weights that are normally distributed with mean 17.46 grams and variance 375.67 grams. What is the probability that a randomly chosen widgit weighs more then 19 grams?\n",
    "\n",
    "Question Rephrased: What is P(X > 19) when X has the N(17.46, 375.67) distribution?"
   ]
  },
  {
   "cell_type": "code",
   "execution_count": 69,
   "metadata": {
    "run_control": {
     "frozen": false,
     "read_only": false
    },
    "slideshow": {
     "slide_type": "fragment"
    }
   },
   "outputs": [
    {
     "data": {
      "text/html": [
       "0.468335635789911"
      ],
      "text/latex": [
       "0.468335635789911"
      ],
      "text/markdown": [
       "0.468335635789911"
      ],
      "text/plain": [
       "[1] 0.4683356"
      ]
     },
     "metadata": {},
     "output_type": "display_data"
    }
   ],
   "source": [
    "1 - pnorm(19, mean = 17.46, sd = sqrt(375.67))"
   ]
  },
  {
   "cell_type": "markdown",
   "metadata": {
    "slideshow": {
     "slide_type": "slide"
    }
   },
   "source": [
    "**Inverse Look-Up**  \n",
    "qnorm is the R function that calculates the inverse c. d. f. F-1 of the normal distribution The c. d. f. and the inverse c. d. f. are related by  \n",
    "   \n",
    "p = F(x)  \n",
    "x = F-1(p)  \n",
    "So given a number p between zero and one, qnorm looks up the p-th quantile of the normal distribution. As with pnorm, optional arguments specify the mean and standard deviation of the distribution.  \n"
   ]
  },
  {
   "cell_type": "raw",
   "metadata": {
    "slideshow": {
     "slide_type": "subslide"
    }
   },
   "source": [
    "Question: Suppose IQ scores are normally distributed with mean 100 and standard deviation 15. What is the 95th percentile of the distribution of IQ scores?\n",
    "\n",
    "Question Rephrased: What is F-1(0.95) when X has the N(100, 152) distribution?"
   ]
  },
  {
   "cell_type": "code",
   "execution_count": 70,
   "metadata": {
    "run_control": {
     "frozen": false,
     "read_only": false
    },
    "slideshow": {
     "slide_type": "fragment"
    }
   },
   "outputs": [
    {
     "data": {
      "text/html": [
       "124.672804404272"
      ],
      "text/latex": [
       "124.672804404272"
      ],
      "text/markdown": [
       "124.672804404272"
      ],
      "text/plain": [
       "[1] 124.6728"
      ]
     },
     "metadata": {},
     "output_type": "display_data"
    }
   ],
   "source": [
    "qnorm(0.95, mean = 100, sd = 15)"
   ]
  },
  {
   "cell_type": "markdown",
   "metadata": {
    "slideshow": {
     "slide_type": "slide"
    }
   },
   "source": [
    "**Density**  \n",
    "dnorm is the R function that calculates the p. d. f. f of the normal distribution. As with pnorm and qnorm, optional arguments specify the mean and standard deviation of the distribution.\n",
    "\n",
    "There's not much need for this function in doing calculations, because you need to do integrals to use any p. d. f., and R doesn't do integrals. In fact, there's not much use for the \"d\" function for any continuous distribution (discrete distributions are entirely another matter, for them the \"d\" functions are very useful, see the section about dbinom).\n"
   ]
  },
  {
   "cell_type": "markdown",
   "metadata": {
    "slideshow": {
     "slide_type": "slide"
    }
   },
   "source": [
    "**Random Variates**  \n",
    "rnorm is the R function that simulates random variates having a specified normal distribution. As with pnorm, qnorm, and dnorm, optional arguments specify the mean and standard deviation of the distribution."
   ]
  },
  {
   "cell_type": "code",
   "execution_count": 71,
   "metadata": {
    "run_control": {
     "frozen": false,
     "read_only": false
    },
    "slideshow": {
     "slide_type": "subslide"
    }
   },
   "outputs": [
    {
     "data": {
      "image/jpeg": "[encoded data removed]",
      "image/png": "",
      "image/svg+xml": [
       "<?xml version=\"1.0\" encoding=\"UTF-8\"?>\n",
       "<svg xmlns=\"http://www.w3.org/2000/svg\" xmlns:xlink=\"http://www.w3.org/1999/xlink\" width=\"288pt\" height=\"216pt\" viewBox=\"0 0 288 216\" version=\"1.1\">\n",
       "<defs>\n",
       "<g>\n",
       "<symbol overflow=\"visible\" id=\"glyph0-0\">\n",
       "<path style=\"stroke:none;\" d=\"\"/>\n",
       "</symbol>\n",
       "<symbol overflow=\"visible\" id=\"glyph0-1\">\n",
       "<path style=\"stroke:none;\" d=\"M 9.84375 -0.140625 L 9.84375 -11.140625 L 7.5 -11.140625 L 7.5 -7.0625 L 3.296875 -7.0625 L 3.296875 -11.140625 L 0.953125 -11.140625 L 0.953125 0 L 3.296875 0 L 3.296875 -4.9375 L 7.5 -4.9375 L 7.5 0 L 9.84375 0 Z M 9.84375 -0.140625 \"/>\n",
       "</symbol>\n",
       "<symbol overflow=\"visible\" id=\"glyph0-2\">\n",
       "<path style=\"stroke:none;\" d=\"M 3.125 -0.140625 L 3.125 -8.3125 L 0.9375 -8.3125 L 0.9375 0 L 3.125 0 Z M 3.15625 -9.15625 L 3.15625 -11.375 L 0.96875 -11.375 L 0.96875 -9.015625 L 3.15625 -9.015625 Z M 3.15625 -9.15625 \"/>\n",
       "</symbol>\n",
       "<symbol overflow=\"visible\" id=\"glyph0-3\">\n",
       "<path style=\"stroke:none;\" d=\"M 7.796875 -2.515625 L 7.796875 -2.625 C 7.796875 -3.546875 7.234375 -4.375 6.171875 -4.6875 L 3.53125 -5.4375 C 2.953125 -5.609375 2.84375 -5.609375 2.84375 -5.9375 C 2.84375 -6.375 3.28125 -6.546875 4.015625 -6.546875 C 5.015625 -6.546875 5.4375 -6.3125 5.453125 -5.453125 L 7.578125 -5.453125 C 7.546875 -7.296875 6.1875 -8.453125 4.03125 -8.453125 C 1.984375 -8.453125 0.65625 -7.296875 0.65625 -5.640625 C 0.65625 -4.65625 0.984375 -3.984375 2.46875 -3.515625 L 4.96875 -2.75 C 5.484375 -2.578125 5.609375 -2.546875 5.609375 -2.328125 C 5.609375 -1.828125 5.078125 -1.78125 4.109375 -1.78125 C 3.15625 -1.78125 2.703125 -1.8125 2.484375 -2.8125 L 0.375 -2.8125 C 0.4375 -0.921875 1.78125 0.140625 4.234375 0.140625 C 6.5 0.140625 7.796875 -0.890625 7.796875 -2.515625 Z M 7.796875 -2.515625 \"/>\n",
       "</symbol>\n",
       "<symbol overflow=\"visible\" id=\"glyph0-4\">\n",
       "<path style=\"stroke:none;\" d=\"M 4.53125 -0.140625 L 4.53125 -1.734375 C 4.28125 -1.703125 4.15625 -1.6875 4.015625 -1.6875 C 3.453125 -1.6875 3.375 -1.71875 3.375 -2.4375 L 3.375 -6.5 L 4.53125 -6.5 L 4.53125 -8.15625 L 3.375 -8.15625 L 3.375 -10.3125 L 1.171875 -10.3125 L 1.171875 -8.15625 L 0.15625 -8.15625 L 0.15625 -6.5 L 1.171875 -6.5 L 1.171875 -1.859375 C 1.171875 -0.59375 1.90625 0.0625 3.28125 0.0625 C 3.734375 0.0625 4.109375 0.015625 4.53125 0 Z M 4.53125 -0.140625 \"/>\n",
       "</symbol>\n",
       "<symbol overflow=\"visible\" id=\"glyph0-5\">\n",
       "<path style=\"stroke:none;\" d=\"M 8.53125 -4.09375 C 8.53125 -6.828125 7 -8.453125 4.484375 -8.453125 C 2.03125 -8.453125 0.46875 -6.796875 0.46875 -4.15625 C 0.46875 -1.5 2.03125 0.140625 4.5 0.140625 C 6.953125 0.140625 8.53125 -1.515625 8.53125 -4.09375 Z M 6.328125 -4.125 C 6.328125 -2.625 5.625 -1.8125 4.5 -1.8125 C 3.375 -1.8125 2.65625 -2.625 2.65625 -4.15625 C 2.65625 -5.6875 3.375 -6.5 4.5 -6.5 C 5.65625 -6.5 6.328125 -5.703125 6.328125 -4.125 Z M 6.328125 -4.125 \"/>\n",
       "</symbol>\n",
       "<symbol overflow=\"visible\" id=\"glyph0-6\">\n",
       "<path style=\"stroke:none;\" d=\"M 8.109375 0.140625 L 8.109375 -8.3125 L 6.015625 -8.3125 L 6.015625 -7.15625 C 5.484375 -7.984375 4.765625 -8.453125 3.84375 -8.453125 C 1.9375 -8.453125 0.453125 -6.5625 0.453125 -4.0625 C 0.453125 -1.5625 1.8125 0.140625 3.796875 0.140625 C 4.734375 0.140625 5.34375 -0.171875 6.015625 -0.875 L 6.015625 0.140625 C 6.015625 1.109375 5.34375 1.640625 4.3125 1.640625 C 3.515625 1.640625 3.046875 1.453125 2.828125 0.703125 L 0.609375 0.703125 C 0.640625 2.140625 2.03125 3.25 4.234375 3.25 C 6.65625 3.25 8.109375 2.03125 8.109375 0.140625 Z M 6.046875 -4.09375 C 6.046875 -2.640625 5.34375 -1.875 4.265625 -1.875 C 3.28125 -1.875 2.640625 -2.640625 2.640625 -4.09375 C 2.640625 -5.625 3.28125 -6.4375 4.296875 -6.4375 C 5.34375 -6.4375 6.046875 -5.59375 6.046875 -4.09375 Z M 6.046875 -4.09375 \"/>\n",
       "</symbol>\n",
       "<symbol overflow=\"visible\" id=\"glyph0-7\">\n",
       "<path style=\"stroke:none;\" d=\"M 5.5625 -6.1875 L 5.5625 -8.421875 C 5.390625 -8.453125 5.328125 -8.453125 5.265625 -8.453125 C 4.3125 -8.453125 3.40625 -7.6875 3.078125 -6.828125 L 3.078125 -8.3125 L 0.875 -8.3125 L 0.875 0 L 3.078125 0 L 3.078125 -4.40625 C 3.078125 -5.640625 3.640625 -6.109375 4.859375 -6.109375 C 5.078125 -6.109375 5.234375 -6.09375 5.5625 -6.03125 Z M 5.5625 -6.1875 \"/>\n",
       "</symbol>\n",
       "<symbol overflow=\"visible\" id=\"glyph0-8\">\n",
       "<path style=\"stroke:none;\" d=\"M 7.859375 -0.140625 L 7.859375 -0.46875 C 7.46875 -0.8125 7.375 -0.953125 7.375 -1.375 L 7.375 -5.84375 C 7.375 -7.484375 6.21875 -8.453125 4.046875 -8.453125 C 1.859375 -8.453125 0.671875 -7.390625 0.53125 -5.390625 L 2.640625 -5.390625 C 2.75 -6.359375 3.0625 -6.5 4.078125 -6.5 C 4.890625 -6.5 5.234375 -6.359375 5.234375 -5.828125 C 5.234375 -4.984375 4.671875 -5.203125 3.625 -5.015625 L 2.78125 -4.875 C 1.1875 -4.59375 0.359375 -3.765625 0.359375 -2.3125 C 0.359375 -0.75 1.515625 0.140625 2.859375 0.140625 C 3.75 0.140625 4.609375 -0.28125 5.25 -0.96875 C 5.25 -0.734375 5.3125 -0.265625 5.53125 0 L 7.859375 0 Z M 5.234375 -3.578125 C 5.234375 -2.375 4.703125 -1.8125 3.640625 -1.8125 C 2.9375 -1.8125 2.546875 -1.953125 2.546875 -2.546875 C 2.546875 -3.15625 2.828125 -3.25 3.703125 -3.40625 L 4.40625 -3.546875 C 4.96875 -3.65625 5.078125 -3.71875 5.234375 -3.796875 Z M 5.234375 -3.578125 \"/>\n",
       "</symbol>\n",
       "<symbol overflow=\"visible\" id=\"glyph0-9\">\n",
       "<path style=\"stroke:none;\" d=\"M 12.328125 -0.140625 L 12.328125 -5.828125 C 12.328125 -7.390625 11.328125 -8.453125 9.71875 -8.453125 C 8.703125 -8.453125 7.9375 -8.046875 7.359375 -7.28125 C 7 -7.96875 6.171875 -8.453125 5.171875 -8.453125 C 4.25 -8.453125 3.609375 -8.09375 3.015625 -7.375 L 3.015625 -8.3125 L 0.828125 -8.3125 L 0.828125 0 L 3.03125 0 L 3.03125 -4.96875 C 3.03125 -5.953125 3.515625 -6.40625 4.40625 -6.40625 C 5.109375 -6.40625 5.484375 -6.140625 5.484375 -5.5 L 5.484375 0 L 7.671875 0 L 7.671875 -4.96875 C 7.671875 -5.953125 8.171875 -6.40625 9.0625 -6.40625 C 9.765625 -6.40625 10.140625 -6.140625 10.140625 -5.5 L 10.140625 0 L 12.328125 0 Z M 12.328125 -0.140625 \"/>\n",
       "</symbol>\n",
       "<symbol overflow=\"visible\" id=\"glyph0-10\">\n",
       "<path style=\"stroke:none;\" d=\"\"/>\n",
       "</symbol>\n",
       "<symbol overflow=\"visible\" id=\"glyph0-11\">\n",
       "<path style=\"stroke:none;\" d=\"M 4.703125 -6.640625 L 4.703125 -8.15625 L 3.46875 -8.15625 L 3.46875 -8.8125 C 3.46875 -9.234375 3.609375 -9.296875 4 -9.296875 C 4.171875 -9.296875 4.40625 -9.28125 4.640625 -9.234375 L 4.640625 -11.09375 C 4.203125 -11.125 3.6875 -11.140625 3.40625 -11.140625 C 2.015625 -11.140625 1.28125 -10.34375 1.28125 -8.984375 L 1.28125 -8.15625 L 0.15625 -8.15625 L 0.15625 -6.5 L 1.28125 -6.5 L 1.28125 0 L 3.46875 0 L 3.46875 -6.5 L 4.703125 -6.5 Z M 4.703125 -6.640625 \"/>\n",
       "</symbol>\n",
       "<symbol overflow=\"visible\" id=\"glyph0-12\">\n",
       "<path style=\"stroke:none;\" d=\"M 8 -0.21875 L 5.375 -4.1875 L 8.09375 -8.3125 L 5.390625 -8.3125 L 4.09375 -5.90625 L 2.796875 -8.3125 L 0.109375 -8.3125 L 2.8125 -4.1875 L 0.046875 0 L 2.75 0 L 4.09375 -2.46875 L 5.453125 0 L 8.15625 0 Z M 8 -0.21875 \"/>\n",
       "</symbol>\n",
       "<symbol overflow=\"visible\" id=\"glyph1-0\">\n",
       "<path style=\"stroke:none;\" d=\"\"/>\n",
       "</symbol>\n",
       "<symbol overflow=\"visible\" id=\"glyph1-1\">\n",
       "<path style=\"stroke:none;\" d=\"M 6 -0.21875 L 3.796875 -3.515625 L 6.09375 -6.8125 L 4.59375 -6.8125 L 3.09375 -4.53125 L 1.59375 -6.8125 L 0.09375 -6.8125 L 2.359375 -3.46875 L -0.03125 0 L 1.46875 0 L 3.046875 -2.40625 L 4.625 0 L 6.15625 0 Z M 6 -0.21875 \"/>\n",
       "</symbol>\n",
       "<symbol overflow=\"visible\" id=\"glyph1-2\">\n",
       "<path style=\"stroke:none;\" d=\"M 6.53125 -2.875 C 6.53125 -4.53125 5.28125 -5.78125 3.703125 -5.78125 C 2.828125 -5.78125 2.03125 -5.390625 1.5625 -4.734375 L 1.78125 -4.65625 C 1.796875 -6.8125 2.375 -7.890625 3.640625 -7.890625 C 4.40625 -7.890625 4.8125 -7.53125 5.015625 -6.546875 L 6.375 -6.546875 C 6.140625 -8.125 5.0625 -9.125 3.71875 -9.125 C 1.65625 -9.125 0.40625 -7.25 0.40625 -4.15625 C 0.40625 -1.40625 1.484375 0.1875 3.515625 0.1875 C 5.203125 0.1875 6.53125 -1.140625 6.53125 -2.875 Z M 5.15625 -2.78125 C 5.15625 -1.671875 4.53125 -1.046875 3.53125 -1.046875 C 2.5 -1.046875 1.84375 -1.71875 1.84375 -2.84375 C 1.84375 -3.953125 2.46875 -4.53125 3.5625 -4.53125 C 4.625 -4.53125 5.15625 -3.96875 5.15625 -2.78125 Z M 5.15625 -2.78125 \"/>\n",
       "</symbol>\n",
       "<symbol overflow=\"visible\" id=\"glyph1-3\">\n",
       "<path style=\"stroke:none;\" d=\"M 6.46875 -4.390625 C 6.46875 -7.46875 5.359375 -9.125 3.4375 -9.125 C 1.53125 -9.125 0.40625 -7.4375 0.40625 -4.46875 C 0.40625 -1.46875 1.53125 0.1875 3.4375 0.1875 C 5.3125 0.1875 6.46875 -1.46875 6.46875 -4.390625 Z M 5.078125 -4.484375 C 5.078125 -1.96875 4.640625 -0.984375 3.40625 -0.984375 C 2.25 -0.984375 1.78125 -2.03125 1.78125 -4.453125 C 1.78125 -6.875 2.25 -7.890625 3.4375 -7.890625 C 4.625 -7.890625 5.078125 -6.859375 5.078125 -4.484375 Z M 5.078125 -4.484375 \"/>\n",
       "</symbol>\n",
       "<symbol overflow=\"visible\" id=\"glyph1-4\">\n",
       "<path style=\"stroke:none;\" d=\"M 6.53125 -2.625 C 6.53125 -3.609375 5.90625 -4.4375 5.140625 -4.796875 C 5.890625 -5.25 6.21875 -5.78125 6.21875 -6.625 C 6.21875 -8.015625 5.015625 -9.125 3.4375 -9.125 C 1.875 -9.125 0.640625 -8.015625 0.640625 -6.625 C 0.640625 -5.796875 0.96875 -5.265625 1.71875 -4.796875 C 0.96875 -4.4375 0.328125 -3.609375 0.328125 -2.640625 C 0.328125 -1.015625 1.6875 0.1875 3.4375 0.1875 C 5.1875 0.1875 6.53125 -1.015625 6.53125 -2.625 Z M 4.84375 -6.59375 C 4.84375 -5.78125 4.359375 -5.359375 3.4375 -5.359375 C 2.515625 -5.359375 2.03125 -5.78125 2.03125 -6.609375 C 2.03125 -7.46875 2.515625 -7.890625 3.4375 -7.890625 C 4.375 -7.890625 4.84375 -7.46875 4.84375 -6.59375 Z M 5.15625 -2.609375 C 5.15625 -1.5625 4.53125 -1.046875 3.40625 -1.046875 C 2.34375 -1.046875 1.71875 -1.578125 1.71875 -2.609375 C 1.71875 -3.65625 2.34375 -4.171875 3.4375 -4.171875 C 4.53125 -4.171875 5.15625 -3.65625 5.15625 -2.609375 Z M 5.15625 -2.609375 \"/>\n",
       "</symbol>\n",
       "<symbol overflow=\"visible\" id=\"glyph1-5\">\n",
       "<path style=\"stroke:none;\" d=\"M 4.46875 -0.125 L 4.46875 -9.125 L 3.515625 -9.125 C 3.09375 -7.625 2.96875 -7.578125 1.140625 -7.34375 L 1.140625 -6.3125 L 3.09375 -6.3125 L 3.09375 0 L 4.46875 0 Z M 4.46875 -0.125 \"/>\n",
       "</symbol>\n",
       "<symbol overflow=\"visible\" id=\"glyph1-6\">\n",
       "<path style=\"stroke:none;\" d=\"M 6.515625 -6.390625 C 6.515625 -7.890625 5.21875 -9.125 3.546875 -9.125 C 1.734375 -9.125 0.546875 -8.0625 0.484375 -5.78125 L 1.84375 -5.78125 C 1.9375 -7.40625 2.421875 -7.90625 3.515625 -7.90625 C 4.515625 -7.90625 5.125 -7.3125 5.125 -6.359375 C 5.125 -5.65625 4.75 -5.15625 3.96875 -4.703125 L 2.8125 -4.046875 C 0.96875 -3 0.390625 -2.078125 0.28125 0 L 6.453125 0 L 6.453125 -1.34375 L 1.8125 -1.34375 C 1.90625 -1.9375 2.265625 -2.3125 3.34375 -2.953125 L 4.59375 -3.625 C 5.84375 -4.28125 6.515625 -5.296875 6.515625 -6.390625 Z M 6.515625 -6.390625 \"/>\n",
       "</symbol>\n",
       "<symbol overflow=\"visible\" id=\"glyph1-7\">\n",
       "<path style=\"stroke:none;\" d=\"M 6.625 -2.25 L 6.625 -3.375 L 5.3125 -3.375 L 5.3125 -9.125 L 4.296875 -9.125 L 0.21875 -3.453125 L 0.21875 -2.125 L 3.953125 -2.125 L 3.953125 0 L 5.3125 0 L 5.3125 -2.125 L 6.625 -2.125 Z M 4.09375 -3.375 L 1.5625 -3.375 L 4.171875 -7.03125 L 3.953125 -7.109375 L 3.953125 -3.375 Z M 4.09375 -3.375 \"/>\n",
       "</symbol>\n",
       "<symbol overflow=\"visible\" id=\"glyph2-0\">\n",
       "<path style=\"stroke:none;\" d=\"\"/>\n",
       "</symbol>\n",
       "<symbol overflow=\"visible\" id=\"glyph2-1\">\n",
       "<path style=\"stroke:none;\" d=\"M -4.6875 -8.46875 C -7.515625 -8.46875 -9.375 -6.9375 -9.375 -4.625 L -9.375 -0.96875 L 0 -0.96875 L 0 -4.625 C 0 -6.921875 -1.84375 -8.46875 -4.6875 -8.46875 Z M -4.671875 -7.03125 C -2.375 -7.03125 -1.28125 -6.21875 -1.28125 -4.421875 L -1.28125 -2.40625 L -8.09375 -2.40625 L -8.09375 -4.421875 C -8.09375 -6.21875 -7 -7.03125 -4.671875 -7.03125 Z M -4.671875 -7.03125 \"/>\n",
       "</symbol>\n",
       "<symbol overflow=\"visible\" id=\"glyph2-2\">\n",
       "<path style=\"stroke:none;\" d=\"M -3.09375 -6.53125 C -4.046875 -6.53125 -4.65625 -6.46875 -5.140625 -6.28125 C -6.21875 -5.84375 -7 -4.71875 -7 -3.5 C -7 -1.671875 -5.515625 -0.359375 -3.359375 -0.359375 C -1.21875 -0.359375 0.1875 -1.640625 0.1875 -3.46875 C 0.1875 -4.96875 -0.78125 -6.140625 -2.25 -6.421875 L -2.25 -5.125 C -1.25 -4.796875 -1.03125 -4.34375 -1.03125 -3.515625 C -1.03125 -2.421875 -1.59375 -1.734375 -2.96875 -1.71875 L -2.96875 -6.53125 Z M -3.9375 -5.390625 C -3.9375 -5.390625 -4.0625 -5.203125 -4.09375 -5.21875 L -4.09375 -1.75 C -5.109375 -1.828125 -5.78125 -2.4375 -5.78125 -3.484375 C -5.78125 -4.515625 -5.046875 -5.15625 -4.03125 -5.15625 Z M -3.9375 -5.390625 \"/>\n",
       "</symbol>\n",
       "<symbol overflow=\"visible\" id=\"glyph2-3\">\n",
       "<path style=\"stroke:none;\" d=\"M -0.125 -6.21875 L -5.078125 -6.21875 C -6.15625 -6.21875 -7 -5.28125 -7 -4.015625 C -7 -3.03125 -6.578125 -2.3125 -5.65625 -1.734375 L -5.578125 -1.96875 L -6.8125 -1.96875 L -6.8125 -0.734375 L 0 -0.734375 L 0 -2.03125 L -3.734375 -2.03125 C -5.078125 -2.03125 -5.828125 -2.640625 -5.828125 -3.703125 C -5.828125 -4.53125 -5.453125 -4.90625 -4.65625 -4.90625 L 0 -4.90625 L 0 -6.21875 Z M -0.125 -6.21875 \"/>\n",
       "</symbol>\n",
       "<symbol overflow=\"visible\" id=\"glyph2-4\">\n",
       "<path style=\"stroke:none;\" d=\"M -1.96875 -5.859375 C -2.9375 -5.859375 -3.5625 -5.1875 -3.875 -3.890625 L -4.109375 -2.890625 C -4.3125 -2.03125 -4.453125 -1.796875 -4.90625 -1.796875 C -5.515625 -1.796875 -5.78125 -2.21875 -5.78125 -3.0625 C -5.78125 -3.90625 -5.53125 -4.21875 -4.71875 -4.234375 L -4.71875 -5.59375 C -6.140625 -5.59375 -7 -4.609375 -7 -3.09375 C -7 -1.578125 -6.078125 -0.453125 -4.859375 -0.453125 C -3.84375 -0.453125 -3.21875 -1.109375 -2.84375 -2.65625 L -2.609375 -3.640625 C -2.4375 -4.359375 -2.34375 -4.515625 -1.875 -4.515625 C -1.265625 -4.515625 -1.03125 -4.03125 -1.03125 -3.125 C -1.03125 -2.1875 -1.125 -1.78125 -2.265625 -1.640625 L -2.265625 -0.28125 C -0.609375 -0.34375 0.1875 -1.328125 0.1875 -3.03125 C 0.1875 -4.6875 -0.703125 -5.859375 -1.96875 -5.859375 Z M -1.96875 -5.859375 \"/>\n",
       "</symbol>\n",
       "<symbol overflow=\"visible\" id=\"glyph2-5\">\n",
       "<path style=\"stroke:none;\" d=\"M -0.125 -2.03125 L -6.8125 -2.03125 L -6.8125 -0.734375 L 0 -0.734375 L 0 -2.03125 Z M -7.65625 -2.171875 L -9.09375 -2.171875 L -9.09375 -0.609375 L -7.53125 -0.609375 L -7.53125 -2.171875 Z M -7.65625 -2.171875 \"/>\n",
       "</symbol>\n",
       "<symbol overflow=\"visible\" id=\"glyph2-6\">\n",
       "<path style=\"stroke:none;\" d=\"M -0.125 -3.296875 L -1.171875 -3.296875 C -1.09375 -3.03125 -1.09375 -2.875 -1.09375 -2.671875 C -1.09375 -2.21875 -1.078125 -2.21875 -1.53125 -2.21875 L -5.703125 -2.21875 L -5.703125 -3.296875 L -6.8125 -3.296875 L -6.8125 -2.21875 L -8.609375 -2.21875 L -8.609375 -0.921875 L -6.8125 -0.921875 L -6.8125 -0.03125 L -5.703125 -0.03125 L -5.703125 -0.921875 L -1.078125 -0.921875 C -0.40625 -0.921875 0.09375 -1.515625 0.09375 -2.328125 C 0.09375 -2.578125 0.0625 -2.828125 -0.015625 -3.296875 Z M -0.125 -3.296875 \"/>\n",
       "</symbol>\n",
       "<symbol overflow=\"visible\" id=\"glyph2-7\">\n",
       "<path style=\"stroke:none;\" d=\"M -6.8125 -5.96875 L -6.8125 -4.765625 L -1.578125 -2.90625 L -1.578125 -3.15625 L -6.8125 -1.453125 L -6.8125 -0.0625 L -0.09375 -2.328125 L 0.9375 -1.921875 C 1.40625 -1.75 1.4375 -1.671875 1.4375 -1.21875 C 1.4375 -1.078125 1.40625 -0.90625 1.34375 -0.53125 L 2.515625 -0.53125 C 2.640625 -0.78125 2.71875 -1.09375 2.71875 -1.375 C 2.71875 -2.109375 2.1875 -2.84375 1.25 -3.1875 L -6.8125 -6.15625 Z M -6.8125 -5.96875 \"/>\n",
       "</symbol>\n",
       "<symbol overflow=\"visible\" id=\"glyph2-8\">\n",
       "<path style=\"stroke:none;\" d=\"M -4.390625 -6.46875 C -7.46875 -6.46875 -9.125 -5.359375 -9.125 -3.4375 C -9.125 -1.53125 -7.4375 -0.40625 -4.46875 -0.40625 C -1.46875 -0.40625 0.1875 -1.53125 0.1875 -3.4375 C 0.1875 -5.3125 -1.46875 -6.46875 -4.390625 -6.46875 Z M -4.484375 -5.078125 C -1.96875 -5.078125 -0.984375 -4.640625 -0.984375 -3.40625 C -0.984375 -2.25 -2.03125 -1.78125 -4.453125 -1.78125 C -6.875 -1.78125 -7.890625 -2.25 -7.890625 -3.4375 C -7.890625 -4.625 -6.859375 -5.078125 -4.484375 -5.078125 Z M -4.484375 -5.078125 \"/>\n",
       "</symbol>\n",
       "<symbol overflow=\"visible\" id=\"glyph2-9\">\n",
       "<path style=\"stroke:none;\" d=\"M -0.125 -2.515625 L -1.5625 -2.515625 L -1.5625 -0.953125 L 0 -0.953125 L 0 -2.515625 Z M -0.125 -2.515625 \"/>\n",
       "</symbol>\n",
       "<symbol overflow=\"visible\" id=\"glyph2-10\">\n",
       "<path style=\"stroke:none;\" d=\"M -0.125 -4.46875 L -9.125 -4.46875 L -9.125 -3.515625 C -7.625 -3.09375 -7.578125 -2.96875 -7.34375 -1.140625 L -6.3125 -1.140625 L -6.3125 -3.09375 L 0 -3.09375 L 0 -4.46875 Z M -0.125 -4.46875 \"/>\n",
       "</symbol>\n",
       "<symbol overflow=\"visible\" id=\"glyph2-11\">\n",
       "<path style=\"stroke:none;\" d=\"M -3.0625 -6.53125 C -4.8125 -6.53125 -6.09375 -5.25 -6.09375 -3.546875 C -6.09375 -2.921875 -5.890625 -2.328125 -5.71875 -2.09375 L -7.59375 -2.359375 L -7.59375 -6.078125 L -8.9375 -6.078125 L -8.9375 -1.25 L -4.03125 -0.546875 L -4.03125 -1.78125 C -4.6875 -2.328125 -4.859375 -2.65625 -4.859375 -3.34375 C -4.859375 -4.53125 -4.21875 -5.15625 -2.90625 -5.15625 C -1.640625 -5.15625 -1.046875 -4.546875 -1.046875 -3.34375 C -1.046875 -2.390625 -1.40625 -1.921875 -2.53125 -1.625 L -2.53125 -0.28125 C -0.640625 -0.65625 0.1875 -1.796875 0.1875 -3.375 C 0.1875 -5.15625 -1.1875 -6.53125 -3.0625 -6.53125 Z M -3.0625 -6.53125 \"/>\n",
       "</symbol>\n",
       "</g>\n",
       "</defs>\n",
       "<g id=\"surface1013\">\n",
       "<rect x=\"0\" y=\"0\" width=\"288\" height=\"216\" style=\"fill:rgb(100%,100%,100%);fill-opacity:1;stroke:none;\"/>\n",
       "<g style=\"fill:rgb(0%,0%,0%);fill-opacity:1;\">\n",
       "  <use xlink:href=\"#glyph0-1\" x=\"106.21875\" y=\"35.089844\"/>\n",
       "  <use xlink:href=\"#glyph0-2\" x=\"116.981003\" y=\"35.089844\"/>\n",
       "  <use xlink:href=\"#glyph0-3\" x=\"121.124924\" y=\"35.089844\"/>\n",
       "  <use xlink:href=\"#glyph0-4\" x=\"129.41275\" y=\"35.089844\"/>\n",
       "  <use xlink:href=\"#glyph0-5\" x=\"134.376511\" y=\"35.089844\"/>\n",
       "  <use xlink:href=\"#glyph0-6\" x=\"143.484177\" y=\"35.089844\"/>\n",
       "  <use xlink:href=\"#glyph0-7\" x=\"152.591843\" y=\"35.089844\"/>\n",
       "  <use xlink:href=\"#glyph0-8\" x=\"158.390335\" y=\"35.089844\"/>\n",
       "  <use xlink:href=\"#glyph0-9\" x=\"166.678162\" y=\"35.089844\"/>\n",
       "  <use xlink:href=\"#glyph0-10\" x=\"179.929749\" y=\"35.089844\"/>\n",
       "  <use xlink:href=\"#glyph0-5\" x=\"184.073669\" y=\"35.089844\"/>\n",
       "  <use xlink:href=\"#glyph0-11\" x=\"193.181335\" y=\"35.089844\"/>\n",
       "  <use xlink:href=\"#glyph0-10\" x=\"198.145096\" y=\"35.089844\"/>\n",
       "  <use xlink:href=\"#glyph0-12\" x=\"202.289017\" y=\"35.089844\"/>\n",
       "</g>\n",
       "<g style=\"fill:rgb(0%,0%,0%);fill-opacity:1;\">\n",
       "  <use xlink:href=\"#glyph1-1\" x=\"155.273438\" y=\"198.71875\"/>\n",
       "</g>\n",
       "<g style=\"fill:rgb(0%,0%,0%);fill-opacity:1;\">\n",
       "  <use xlink:href=\"#glyph2-1\" x=\"14.398438\" y=\"121.636719\"/>\n",
       "  <use xlink:href=\"#glyph2-2\" x=\"14.398438\" y=\"112.611679\"/>\n",
       "  <use xlink:href=\"#glyph2-3\" x=\"14.398438\" y=\"105.661652\"/>\n",
       "  <use xlink:href=\"#glyph2-4\" x=\"14.398438\" y=\"98.711624\"/>\n",
       "  <use xlink:href=\"#glyph2-5\" x=\"14.398438\" y=\"92.461594\"/>\n",
       "  <use xlink:href=\"#glyph2-6\" x=\"14.398438\" y=\"89.686584\"/>\n",
       "  <use xlink:href=\"#glyph2-7\" x=\"14.398438\" y=\"86.211578\"/>\n",
       "</g>\n",
       "<path style=\"fill:none;stroke-width:1;stroke-linecap:round;stroke-linejoin:round;stroke:rgb(0%,0%,0%);stroke-opacity:1;stroke-miterlimit:10;\" d=\"M 83.128906 142.558594 L 250.398438 142.558594 \"/>\n",
       "<path style=\"fill:none;stroke-width:1;stroke-linecap:round;stroke-linejoin:round;stroke:rgb(0%,0%,0%);stroke-opacity:1;stroke-miterlimit:10;\" d=\"M 83.128906 142.558594 L 83.128906 149.761719 \"/>\n",
       "<path style=\"fill:none;stroke-width:1;stroke-linecap:round;stroke-linejoin:round;stroke:rgb(0%,0%,0%);stroke-opacity:1;stroke-miterlimit:10;\" d=\"M 116.582031 142.558594 L 116.582031 149.761719 \"/>\n",
       "<path style=\"fill:none;stroke-width:1;stroke-linecap:round;stroke-linejoin:round;stroke:rgb(0%,0%,0%);stroke-opacity:1;stroke-miterlimit:10;\" d=\"M 150.035156 142.558594 L 150.035156 149.761719 \"/>\n",
       "<path style=\"fill:none;stroke-width:1;stroke-linecap:round;stroke-linejoin:round;stroke:rgb(0%,0%,0%);stroke-opacity:1;stroke-miterlimit:10;\" d=\"M 183.492188 142.558594 L 183.492188 149.761719 \"/>\n",
       "<path style=\"fill:none;stroke-width:1;stroke-linecap:round;stroke-linejoin:round;stroke:rgb(0%,0%,0%);stroke-opacity:1;stroke-miterlimit:10;\" d=\"M 216.945312 142.558594 L 216.945312 149.761719 \"/>\n",
       "<path style=\"fill:none;stroke-width:1;stroke-linecap:round;stroke-linejoin:round;stroke:rgb(0%,0%,0%);stroke-opacity:1;stroke-miterlimit:10;\" d=\"M 250.398438 142.558594 L 250.398438 149.761719 \"/>\n",
       "<g style=\"fill:rgb(0%,0%,0%);fill-opacity:1;\">\n",
       "  <use xlink:href=\"#glyph1-2\" x=\"76.179688\" y=\"169.921875\"/>\n",
       "  <use xlink:href=\"#glyph1-3\" x=\"83.129715\" y=\"169.921875\"/>\n",
       "</g>\n",
       "<g style=\"fill:rgb(0%,0%,0%);fill-opacity:1;\">\n",
       "  <use xlink:href=\"#glyph1-4\" x=\"109.632812\" y=\"169.921875\"/>\n",
       "  <use xlink:href=\"#glyph1-3\" x=\"116.58284\" y=\"169.921875\"/>\n",
       "</g>\n",
       "<g style=\"fill:rgb(0%,0%,0%);fill-opacity:1;\">\n",
       "  <use xlink:href=\"#glyph1-5\" x=\"139.609375\" y=\"169.921875\"/>\n",
       "  <use xlink:href=\"#glyph1-3\" x=\"146.559402\" y=\"169.921875\"/>\n",
       "  <use xlink:href=\"#glyph1-3\" x=\"153.50943\" y=\"169.921875\"/>\n",
       "</g>\n",
       "<g style=\"fill:rgb(0%,0%,0%);fill-opacity:1;\">\n",
       "  <use xlink:href=\"#glyph1-5\" x=\"173.066406\" y=\"169.921875\"/>\n",
       "  <use xlink:href=\"#glyph1-6\" x=\"180.016434\" y=\"169.921875\"/>\n",
       "  <use xlink:href=\"#glyph1-3\" x=\"186.966461\" y=\"169.921875\"/>\n",
       "</g>\n",
       "<g style=\"fill:rgb(0%,0%,0%);fill-opacity:1;\">\n",
       "  <use xlink:href=\"#glyph1-5\" x=\"206.519531\" y=\"169.921875\"/>\n",
       "  <use xlink:href=\"#glyph1-7\" x=\"213.469559\" y=\"169.921875\"/>\n",
       "  <use xlink:href=\"#glyph1-3\" x=\"220.419586\" y=\"169.921875\"/>\n",
       "</g>\n",
       "<g style=\"fill:rgb(0%,0%,0%);fill-opacity:1;\">\n",
       "  <use xlink:href=\"#glyph1-5\" x=\"239.972656\" y=\"169.921875\"/>\n",
       "  <use xlink:href=\"#glyph1-2\" x=\"246.922684\" y=\"169.921875\"/>\n",
       "  <use xlink:href=\"#glyph1-3\" x=\"253.872711\" y=\"169.921875\"/>\n",
       "</g>\n",
       "<path style=\"fill:none;stroke-width:1;stroke-linecap:round;stroke-linejoin:round;stroke:rgb(0%,0%,0%);stroke-opacity:1;stroke-miterlimit:10;\" d=\"M 59.039062 139.464844 L 59.039062 65.394531 \"/>\n",
       "<path style=\"fill:none;stroke-width:1;stroke-linecap:round;stroke-linejoin:round;stroke:rgb(0%,0%,0%);stroke-opacity:1;stroke-miterlimit:10;\" d=\"M 59.039062 139.464844 L 51.839844 139.464844 \"/>\n",
       "<path style=\"fill:none;stroke-width:1;stroke-linecap:round;stroke-linejoin:round;stroke:rgb(0%,0%,0%);stroke-opacity:1;stroke-miterlimit:10;\" d=\"M 59.039062 124.652344 L 51.839844 124.652344 \"/>\n",
       "<path style=\"fill:none;stroke-width:1;stroke-linecap:round;stroke-linejoin:round;stroke:rgb(0%,0%,0%);stroke-opacity:1;stroke-miterlimit:10;\" d=\"M 59.039062 109.835938 L 51.839844 109.835938 \"/>\n",
       "<path style=\"fill:none;stroke-width:1;stroke-linecap:round;stroke-linejoin:round;stroke:rgb(0%,0%,0%);stroke-opacity:1;stroke-miterlimit:10;\" d=\"M 59.039062 95.023438 L 51.839844 95.023438 \"/>\n",
       "<path style=\"fill:none;stroke-width:1;stroke-linecap:round;stroke-linejoin:round;stroke:rgb(0%,0%,0%);stroke-opacity:1;stroke-miterlimit:10;\" d=\"M 59.039062 80.207031 L 51.839844 80.207031 \"/>\n",
       "<path style=\"fill:none;stroke-width:1;stroke-linecap:round;stroke-linejoin:round;stroke:rgb(0%,0%,0%);stroke-opacity:1;stroke-miterlimit:10;\" d=\"M 59.039062 65.394531 L 51.839844 65.394531 \"/>\n",
       "<g style=\"fill:rgb(0%,0%,0%);fill-opacity:1;\">\n",
       "  <use xlink:href=\"#glyph2-8\" x=\"43.199219\" y=\"155.101562\"/>\n",
       "  <use xlink:href=\"#glyph2-9\" x=\"43.199219\" y=\"148.151535\"/>\n",
       "  <use xlink:href=\"#glyph2-8\" x=\"43.199219\" y=\"144.676529\"/>\n",
       "  <use xlink:href=\"#glyph2-8\" x=\"43.199219\" y=\"137.726501\"/>\n",
       "  <use xlink:href=\"#glyph2-8\" x=\"43.199219\" y=\"130.776474\"/>\n",
       "</g>\n",
       "<g style=\"fill:rgb(0%,0%,0%);fill-opacity:1;\">\n",
       "  <use xlink:href=\"#glyph2-8\" x=\"43.199219\" y=\"110.660156\"/>\n",
       "  <use xlink:href=\"#glyph2-9\" x=\"43.199219\" y=\"103.710129\"/>\n",
       "  <use xlink:href=\"#glyph2-8\" x=\"43.199219\" y=\"100.235123\"/>\n",
       "  <use xlink:href=\"#glyph2-10\" x=\"43.199219\" y=\"93.285095\"/>\n",
       "  <use xlink:href=\"#glyph2-11\" x=\"43.199219\" y=\"86.335068\"/>\n",
       "</g>\n",
       "<path style=\"fill:none;stroke-width:1;stroke-linecap:round;stroke-linejoin:round;stroke:rgb(0%,0%,0%);stroke-opacity:1;stroke-miterlimit:10;\" d=\"M 66.398438 137.984375 L 83.125 137.984375 L 83.125 139.464844 L 66.398438 139.464844 Z M 66.398438 137.984375 \"/>\n",
       "<path style=\"fill:none;stroke-width:1;stroke-linecap:round;stroke-linejoin:round;stroke:rgb(0%,0%,0%);stroke-opacity:1;stroke-miterlimit:10;\" d=\"M 83.128906 132.652344 L 99.855469 132.652344 L 99.855469 139.46875 L 83.128906 139.46875 Z M 83.128906 132.652344 \"/>\n",
       "<path style=\"fill:none;stroke-width:1;stroke-linecap:round;stroke-linejoin:round;stroke:rgb(0%,0%,0%);stroke-opacity:1;stroke-miterlimit:10;\" d=\"M 99.855469 117.246094 L 116.582031 117.246094 L 116.582031 139.46875 L 99.855469 139.46875 Z M 99.855469 117.246094 \"/>\n",
       "<path style=\"fill:none;stroke-width:1;stroke-linecap:round;stroke-linejoin:round;stroke:rgb(0%,0%,0%);stroke-opacity:1;stroke-miterlimit:10;\" d=\"M 116.582031 96.503906 L 133.308594 96.503906 L 133.308594 139.46875 L 116.582031 139.46875 Z M 116.582031 96.503906 \"/>\n",
       "<path style=\"fill:none;stroke-width:1;stroke-linecap:round;stroke-linejoin:round;stroke:rgb(0%,0%,0%);stroke-opacity:1;stroke-miterlimit:10;\" d=\"M 133.308594 62.132812 L 150.035156 62.132812 L 150.035156 139.464844 L 133.308594 139.464844 Z M 133.308594 62.132812 \"/>\n",
       "<path style=\"fill:none;stroke-width:1;stroke-linecap:round;stroke-linejoin:round;stroke:rgb(0%,0%,0%);stroke-opacity:1;stroke-miterlimit:10;\" d=\"M 150.035156 63.613281 L 166.761719 63.613281 L 166.761719 139.464844 L 150.035156 139.464844 Z M 150.035156 63.613281 \"/>\n",
       "<path style=\"fill:none;stroke-width:1;stroke-linecap:round;stroke-linejoin:round;stroke:rgb(0%,0%,0%);stroke-opacity:1;stroke-miterlimit:10;\" d=\"M 166.761719 95.613281 L 183.488281 95.613281 L 183.488281 139.464844 L 166.761719 139.464844 Z M 166.761719 95.613281 \"/>\n",
       "<path style=\"fill:none;stroke-width:1;stroke-linecap:round;stroke-linejoin:round;stroke:rgb(0%,0%,0%);stroke-opacity:1;stroke-miterlimit:10;\" d=\"M 183.492188 121.6875 L 200.21875 121.6875 L 200.21875 139.464844 L 183.492188 139.464844 Z M 183.492188 121.6875 \"/>\n",
       "<path style=\"fill:none;stroke-width:1;stroke-linecap:round;stroke-linejoin:round;stroke:rgb(0%,0%,0%);stroke-opacity:1;stroke-miterlimit:10;\" d=\"M 200.21875 132.355469 L 216.945312 132.355469 L 216.945312 139.464844 L 200.21875 139.464844 Z M 200.21875 132.355469 \"/>\n",
       "<path style=\"fill:none;stroke-width:1;stroke-linecap:round;stroke-linejoin:round;stroke:rgb(0%,0%,0%);stroke-opacity:1;stroke-miterlimit:10;\" d=\"M 216.945312 138.875 L 233.671875 138.875 L 233.671875 139.46875 L 216.945312 139.46875 Z M 216.945312 138.875 \"/>\n",
       "<path style=\"fill:none;stroke-width:1;stroke-linecap:round;stroke-linejoin:round;stroke:rgb(0%,0%,0%);stroke-opacity:1;stroke-miterlimit:10;\" d=\"M 233.671875 139.171875 L 250.398438 139.171875 L 250.398438 139.46875 L 233.671875 139.46875 Z M 233.671875 139.171875 \"/>\n",
       "<path style=\"fill:none;stroke-width:1;stroke-linecap:round;stroke-linejoin:round;stroke:rgb(0%,0%,0%);stroke-opacity:1;stroke-miterlimit:10;\" d=\"M 73.589844 138.707031 L 75.230469 138.542969 L 76.867188 138.34375 L 78.507812 138.113281 L 80.148438 137.839844 L 81.785156 137.515625 L 83.425781 137.144531 L 85.0625 136.710938 L 86.703125 136.207031 L 88.34375 135.632812 L 89.980469 134.972656 L 91.621094 134.222656 L 93.257812 133.375 L 94.898438 132.421875 L 96.539062 131.351562 L 98.175781 130.15625 L 99.816406 128.835938 L 101.457031 127.375 L 103.09375 125.773438 L 104.734375 124.027344 L 106.371094 122.128906 L 108.011719 120.085938 L 109.652344 117.890625 L 111.289062 115.546875 L 112.929688 113.066406 L 114.570312 110.449219 L 116.207031 107.710938 L 117.847656 104.859375 L 119.484375 101.917969 L 121.125 98.894531 L 122.765625 95.816406 L 124.402344 92.703125 L 126.042969 89.582031 L 127.679688 86.480469 L 129.320312 83.421875 L 130.960938 80.445312 L 132.597656 77.570312 L 134.238281 74.832031 L 135.878906 72.261719 L 137.515625 69.886719 L 139.15625 67.734375 L 140.792969 65.832031 L 142.433594 64.199219 L 144.074219 62.859375 L 145.710938 61.824219 L 147.351562 61.113281 L 148.992188 60.730469 L 150.628906 60.683594 L 152.269531 60.972656 L 153.90625 61.597656 L 155.546875 62.539062 L 157.1875 63.796875 L 158.824219 65.351562 L 160.464844 67.183594 L 162.101562 69.269531 L 163.742188 71.585938 L 165.382812 74.105469 L 167.019531 76.800781 L 168.660156 79.636719 L 170.300781 82.589844 L 171.9375 85.628906 L 173.578125 88.722656 L 175.214844 91.839844 L 176.855469 94.957031 L 178.496094 98.046875 L 180.132812 101.085938 L 181.773438 104.054688 L 183.414062 106.933594 L 185.050781 109.707031 L 186.691406 112.355469 L 188.328125 114.875 L 189.96875 117.257812 L 191.609375 119.492188 L 193.246094 121.582031 L 194.886719 123.519531 L 196.523438 125.304688 L 198.164062 126.945312 L 199.804688 128.445312 L 201.441406 129.804688 L 203.082031 131.035156 L 204.722656 132.136719 L 206.359375 133.125 L 208 134 L 209.636719 134.777344 L 211.277344 135.457031 L 212.917969 136.058594 L 214.554688 136.578125 L 216.195312 137.03125 L 217.835938 137.417969 L 219.472656 137.753906 L 221.113281 138.039062 L 222.75 138.285156 L 224.390625 138.492188 L 226.03125 138.664062 L 227.667969 138.808594 L 229.308594 138.929688 L 230.945312 139.03125 L 232.585938 139.113281 L 234.226562 139.183594 L 235.863281 139.238281 \"/>\n",
       "</g>\n",
       "</svg>\n"
      ]
     },
     "metadata": {
      "image/svg+xml": {
       "isolated": true
      }
     },
     "output_type": "display_data"
    }
   ],
   "source": [
    "x <- rnorm(1000, mean = 100, sd = 15)\n",
    "hist(x, probability = TRUE)\n",
    "xx <- seq(min(x), max(x), length = 100)\n",
    "lines(xx, dnorm(xx, mean = 100, sd = 15))\n",
    "\n",
    "# This generates 1000 i. i. d. normal random numbers (first line), plots their\n",
    "# histogram (second line), and graphs the p. d. f. of the same normal\n",
    "# distribution (third and forth lines)."
   ]
  },
  {
   "cell_type": "markdown",
   "metadata": {
    "slideshow": {
     "slide_type": "slide"
    }
   },
   "source": [
    "**he Binomial Distribtion**  \n",
    "**Direct Look-Up, Points**  \n",
    "dbinom is the R function that calculates the p. f. of the binomial distribution. Optional arguments described on the on-line documentation specify the parameters of the particular binomial distribution.\n",
    "\n",
    "Both of the R commands in the box below do exactly the same thing."
   ]
  },
  {
   "cell_type": "code",
   "execution_count": 72,
   "metadata": {
    "run_control": {
     "frozen": false,
     "read_only": false
    },
    "slideshow": {
     "slide_type": "subslide"
    }
   },
   "outputs": [
    {
     "data": {
      "text/html": [
       "0.0806407548759012"
      ],
      "text/latex": [
       "0.0806407548759012"
      ],
      "text/markdown": [
       "0.0806407548759012"
      ],
      "text/plain": [
       "[1] 0.08064075"
      ]
     },
     "metadata": {},
     "output_type": "display_data"
    },
    {
     "data": {
      "text/html": [
       "0.0806407548759012"
      ],
      "text/latex": [
       "0.0806407548759012"
      ],
      "text/markdown": [
       "0.0806407548759012"
      ],
      "text/plain": [
       "[1] 0.08064075"
      ]
     },
     "metadata": {},
     "output_type": "display_data"
    }
   ],
   "source": [
    "dbinom(27, size=100, prob=0.25)\n",
    "dbinom(27, 100, 0.25)\n",
    "\n",
    "# They look up P(X = 27) when X is has the Bin(100, 0.25) distribution."
   ]
  },
  {
   "cell_type": "raw",
   "metadata": {
    "slideshow": {
     "slide_type": "subslide"
    }
   },
   "source": [
    "Example\n",
    "Question: Suppose widgits produced at Acme Widgit Works have probability 0.005 of being defective. Suppose widgits are shipped in cartons containing 25 widgits. What is the probability that a randomly chosen carton contains exactly one defective widgit?\n",
    "\n",
    "Question Rephrased: What is P(X = 1) when X has the Bin(25, 0.005) distribution?"
   ]
  },
  {
   "cell_type": "code",
   "execution_count": 73,
   "metadata": {
    "run_control": {
     "frozen": false,
     "read_only": false
    },
    "slideshow": {
     "slide_type": "fragment"
    }
   },
   "outputs": [
    {
     "data": {
      "text/html": [
       "0.110831688812663"
      ],
      "text/latex": [
       "0.110831688812663"
      ],
      "text/markdown": [
       "0.110831688812663"
      ],
      "text/plain": [
       "[1] 0.1108317"
      ]
     },
     "metadata": {},
     "output_type": "display_data"
    }
   ],
   "source": [
    "dbinom(1, 25, 0.005)"
   ]
  },
  {
   "cell_type": "markdown",
   "metadata": {
    "slideshow": {
     "slide_type": "slide"
    }
   },
   "source": [
    "**Direct Look-Up, Intervals**  \n",
    "pbinom is the R function that calculates the c. d. f. of the binomial distribution. Optional arguments described on the on-line documentation specify the parameters of the particular binomial distribution.\n",
    "\n",
    "Both of the R commands in the box below do exactly the same thing."
   ]
  },
  {
   "cell_type": "code",
   "execution_count": 74,
   "metadata": {
    "run_control": {
     "frozen": false,
     "read_only": false
    },
    "slideshow": {
     "slide_type": "subslide"
    }
   },
   "outputs": [
    {
     "data": {
      "text/html": [
       "0.722380513115339"
      ],
      "text/latex": [
       "0.722380513115339"
      ],
      "text/markdown": [
       "0.722380513115339"
      ],
      "text/plain": [
       "[1] 0.7223805"
      ]
     },
     "metadata": {},
     "output_type": "display_data"
    },
    {
     "data": {
      "text/html": [
       "0.722380513115339"
      ],
      "text/latex": [
       "0.722380513115339"
      ],
      "text/markdown": [
       "0.722380513115339"
      ],
      "text/plain": [
       "[1] 0.7223805"
      ]
     },
     "metadata": {},
     "output_type": "display_data"
    }
   ],
   "source": [
    "pbinom(27, size = 100, prob = 0.25)\n",
    "pbinom(27, 100, 0.25)\n",
    "# They look up P(X <= 27) when X is has the Bin(100, 0.25) distribution. (Note\n",
    "# the less than or equal to sign. It's important when working with a discrete\n",
    "# distribution!)"
   ]
  },
  {
   "cell_type": "raw",
   "metadata": {
    "slideshow": {
     "slide_type": "slide"
    }
   },
   "source": [
    "Example\n",
    "Question: Suppose widgits produced at Acme Widgit Works have probability 0.005 of being defective. Suppose widgits are shipped in cartons containing 25 widgits. What is the probability that a randomly chosen carton contains no more than one defective widgit?\n",
    "\n",
    "Question Rephrased: What is P(X <= 1) when X has the Bin(25, 0.005) distribution?"
   ]
  },
  {
   "cell_type": "code",
   "execution_count": 75,
   "metadata": {
    "run_control": {
     "frozen": false,
     "read_only": false
    },
    "slideshow": {
     "slide_type": "fragment"
    }
   },
   "outputs": [
    {
     "data": {
      "text/html": [
       "0.993051931761465"
      ],
      "text/latex": [
       "0.993051931761465"
      ],
      "text/markdown": [
       "0.993051931761465"
      ],
      "text/plain": [
       "[1] 0.9930519"
      ]
     },
     "metadata": {},
     "output_type": "display_data"
    }
   ],
   "source": [
    "pbinom(1, 25, 0.005)"
   ]
  },
  {
   "cell_type": "markdown",
   "metadata": {
    "slideshow": {
     "slide_type": "slide"
    }
   },
   "source": [
    "**Inverse Look-Up**  \n",
    "qbinom is the R function that calculates the \"inverse c. d. f.\" of the binomial distribution. How does it do that when the c. d. f. is a step function and hence not invertible? The on-line documentation for the binomial probability functions explains.\n",
    "  \n",
    "The quantile is defined as the smallest value x such that F(x) >= p, where F is the distribution function.\n",
    "When the p-th quantile is nonunique, there is a whole interval of values each of which is a p-th quantile. The documentation says that qbinom (and other \"q\" functions, for that matter) returns the smallest of these values. That is one sensible definition of an \"inverse c. d. f.\" In the terminology of Section  of the course notes, the function defined by qbinom is a right inverse of the function defined by pbinom, that is,\n",
    "q == pbinom(qbinom(q, n, p)),       0 < q < 1,   0 < p < 1,   n a positive integer\n",
    "is always true, but the analogous formula with pnorm and qnorm reversed does not necessarily hold."
   ]
  },
  {
   "cell_type": "raw",
   "metadata": {
    "slideshow": {
     "slide_type": "subslide"
    }
   },
   "source": [
    "Example\n",
    "Question: What are the 10th, 20th, and so forth quantiles of the Bin(10, 1/3) distribution?"
   ]
  },
  {
   "cell_type": "code",
   "execution_count": 76,
   "metadata": {
    "run_control": {
     "frozen": false,
     "read_only": false
    },
    "scrolled": true,
    "slideshow": {
     "slide_type": "fragment"
    }
   },
   "outputs": [
    {
     "data": {
      "text/html": [
       "1"
      ],
      "text/latex": [
       "1"
      ],
      "text/markdown": [
       "1"
      ],
      "text/plain": [
       "[1] 1"
      ]
     },
     "metadata": {},
     "output_type": "display_data"
    },
    {
     "data": {
      "text/html": [
       "2"
      ],
      "text/latex": [
       "2"
      ],
      "text/markdown": [
       "2"
      ],
      "text/plain": [
       "[1] 2"
      ]
     },
     "metadata": {},
     "output_type": "display_data"
    },
    {
     "data": {
      "text/html": [
       "<ol class=list-inline>\n",
       "\t<li>1</li>\n",
       "\t<li>2</li>\n",
       "\t<li>3</li>\n",
       "\t<li>3</li>\n",
       "\t<li>3</li>\n",
       "\t<li>4</li>\n",
       "\t<li>4</li>\n",
       "\t<li>5</li>\n",
       "\t<li>5</li>\n",
       "</ol>\n"
      ],
      "text/latex": [
       "\\begin{enumerate*}\n",
       "\\item 1\n",
       "\\item 2\n",
       "\\item 3\n",
       "\\item 3\n",
       "\\item 3\n",
       "\\item 4\n",
       "\\item 4\n",
       "\\item 5\n",
       "\\item 5\n",
       "\\end{enumerate*}\n"
      ],
      "text/markdown": [
       "1. 1\n",
       "2. 2\n",
       "3. 3\n",
       "4. 3\n",
       "5. 3\n",
       "6. 4\n",
       "7. 4\n",
       "8. 5\n",
       "9. 5\n",
       "\n",
       "\n"
      ],
      "text/plain": [
       "[1] 1 2 3 3 3 4 4 5 5"
      ]
     },
     "metadata": {},
     "output_type": "display_data"
    }
   ],
   "source": [
    "qbinom(0.1, 10, 1/3)\n",
    "qbinom(0.2, 10, 1/3)\n",
    "# and so forth, or all at once with\n",
    "qbinom(seq(0.1, 0.9, 0.1), 10, 1/3)\n",
    "\n",
    "# They look up P(X <= 27) when X is has the Bin(100, 0.25) distribution. (Note\n",
    "# the less than or equal to sign. It's important when working with a discrete\n",
    "# distribution!)"
   ]
  },
  {
   "cell_type": "markdown",
   "metadata": {
    "slideshow": {
     "slide_type": "slide"
    }
   },
   "source": [
    "## Frequency Distribution"
   ]
  },
  {
   "cell_type": "raw",
   "metadata": {
    "collapsed": true,
    "run_control": {
     "frozen": false,
     "read_only": false
    },
    "slideshow": {
     "slide_type": "subslide"
    }
   },
   "source": [
    "Frequency Distribution is nothing but the values and their frequency (how often each value occurs)."
   ]
  },
  {
   "cell_type": "raw",
   "metadata": {
    "slideshow": {
     "slide_type": "subslide"
    }
   },
   "source": [
    "These are the numbers of newspapers sold at a local shop over the last 10 days:\n",
    "\n",
    "22, 20, 18, 23, 20, 25, 22, 20, 18, 20\n",
    "\n",
    "Let us count how many of each number there is:\n",
    "\n",
    "Papers Sold\tFrequency\n",
    "18\t2\n",
    "19\t0\n",
    "20\t4\n",
    "21\t0\n",
    "22\t2\n",
    "23\t1\n",
    "24\t0\n",
    "25\t1"
   ]
  },
  {
   "cell_type": "markdown",
   "metadata": {
    "slideshow": {
     "slide_type": "slide"
    }
   },
   "source": [
    "### Grouped Frequency"
   ]
  },
  {
   "cell_type": "raw",
   "metadata": {
    "slideshow": {
     "slide_type": "subslide"
    }
   },
   "source": [
    "It is also possible to group the values. Here they are grouped in 5s:\n",
    "\n",
    "Papers Sold\tFrequency\n",
    "15-19\t2\n",
    "20-24\t7\n",
    "25-29\t1"
   ]
  },
  {
   "cell_type": "markdown",
   "metadata": {
    "slideshow": {
     "slide_type": "slide"
    }
   },
   "source": [
    "## Construct frequency table and Relative frequency tables"
   ]
  },
  {
   "cell_type": "raw",
   "metadata": {
    "run_control": {
     "frozen": false,
     "read_only": false
    },
    "slideshow": {
     "slide_type": "subslide"
    }
   },
   "source": [
    "#  How to calculate a frequency distribution from a given vector of values\n",
    "# list of the ages of the U.S. presidents when they became \n",
    "# president. (The ages are in years, rounded down.)  \n",
    " "
   ]
  },
  {
   "cell_type": "code",
   "execution_count": 77,
   "metadata": {
    "run_control": {
     "frozen": false,
     "marked": false,
     "read_only": false
    },
    "slideshow": {
     "slide_type": "fragment"
    }
   },
   "outputs": [],
   "source": [
    "ages<-c(57,61,57,57,58,57,61,54,68,51,49,64,50,48,65,52,56,46,54,49,51,47,55,55,\n",
    "54,42,51,56,55,51,54,51,60,62,43,55,56,61,52,69,64,46,54)"
   ]
  },
  {
   "cell_type": "raw",
   "metadata": {
    "slideshow": {
     "slide_type": "subslide"
    }
   },
   "source": [
    "Copy and paste the 43 numbers in the PRESIDENTS’ AGES DATA SET above. \n",
    "• Notice that, unlike for the ‘c’ command, commas (,) are NOT used with \n",
    "‘scan’. \n",
    "• Copying can be done by using CTRL-C. \n",
    "• Pasting can be done by using CTRL-V. "
   ]
  },
  {
   "cell_type": "raw",
   "metadata": {
    "slideshow": {
     "slide_type": "subslide"
    }
   },
   "source": [
    "> Press RETURN or ENTER on your computer. \n",
    "* You should see ‘44:’ in your console window. This means that, if you \n",
    "were to enter another value, it would be the 44th data value.   \n",
    " \n",
    "> Press RETURN or ENTER again, since we are not entering in any more values. \n",
    "• You should see ‘Read 43 items’ in your console window. "
   ]
  },
  {
   "cell_type": "code",
   "execution_count": 78,
   "metadata": {
    "run_control": {
     "frozen": false,
     "marked": false,
     "read_only": false
    },
    "slideshow": {
     "slide_type": "slide"
    }
   },
   "outputs": [
    {
     "data": {
      "text/plain": [
       "ages\n",
       "42 43 46 47 48 49 50 51 52 54 55 56 57 58 60 61 62 64 65 68 69 \n",
       " 1  1  2  1  1  2  1  5  2  5  4  3  4  1  1  3  1  2  1  1  1 "
      ]
     },
     "metadata": {},
     "output_type": "display_data"
    }
   ],
   "source": [
    "table(ages) "
   ]
  },
  {
   "cell_type": "code",
   "execution_count": 79,
   "metadata": {
    "run_control": {
     "frozen": false,
     "marked": false,
     "read_only": false
    },
    "slideshow": {
     "slide_type": "subslide"
    }
   },
   "outputs": [],
   "source": [
    "boundaries  <-  seq(34.5, 69.5, by=5) \n",
    "# The sequence of numbers we will use to separate our classes will be the \n",
    "# numbers from 34.5 through 69.5, jumping by 5s. These numbers are called \n",
    "# “class boundaries.”"
   ]
  },
  {
   "cell_type": "code",
   "execution_count": 80,
   "metadata": {
    "run_control": {
     "frozen": false,
     "marked": false,
     "read_only": false
    },
    "slideshow": {
     "slide_type": "fragment"
    }
   },
   "outputs": [
    {
     "data": {
      "text/plain": [
       "\n",
       "(34.5,39.5] (39.5,44.5] (44.5,49.5] (49.5,54.5] (54.5,59.5] (59.5,64.5] \n",
       "          0           2           6          13          12           7 \n",
       "(64.5,69.5] \n",
       "          3 "
      ]
     },
     "metadata": {},
     "output_type": "display_data"
    }
   ],
   "source": [
    "table(cut(ages, boundaries)) \n",
    "# You will see a frequency table for the ages. "
   ]
  },
  {
   "cell_type": "code",
   "execution_count": 81,
   "metadata": {
    "run_control": {
     "frozen": false,
     "marked": false,
     "read_only": false
    },
    "slideshow": {
     "slide_type": "fragment"
    }
   },
   "outputs": [
    {
     "data": {
      "text/plain": [
       "\n",
       "(34.5,39.5] (39.5,44.5] (44.5,49.5] (49.5,54.5] (54.5,59.5] (59.5,64.5] \n",
       "          0           2           6          13          12           7 \n",
       "(64.5,69.5]  (69.5,Inf] \n",
       "          3           0 "
      ]
     },
     "metadata": {},
     "output_type": "display_data"
    }
   ],
   "source": [
    "table(cut(ages, c(boundaries, Inf))) \n",
    "# This includes the last class of “70+” years. The “Inf” indicates that the last \n",
    "# class goes off to infinity. "
   ]
  },
  {
   "cell_type": "markdown",
   "metadata": {
    "slideshow": {
     "slide_type": "slide"
    }
   },
   "source": [
    "**RELATIVE FREQUENCY TABLES** "
   ]
  },
  {
   "cell_type": "code",
   "execution_count": 82,
   "metadata": {
    "run_control": {
     "frozen": false,
     "marked": false,
     "read_only": false
    },
    "slideshow": {
     "slide_type": "subslide"
    }
   },
   "outputs": [
    {
     "data": {
      "text/html": [
       "43"
      ],
      "text/latex": [
       "43"
      ],
      "text/markdown": [
       "43"
      ],
      "text/plain": [
       "[1] 43"
      ]
     },
     "metadata": {},
     "output_type": "display_data"
    },
    {
     "data": {
      "text/plain": [
       "\n",
       "(34.5,39.5] (39.5,44.5] (44.5,49.5] (49.5,54.5] (54.5,59.5] (59.5,64.5] \n",
       " 0.00000000  0.04651163  0.13953488  0.30232558  0.27906977  0.16279070 \n",
       "(64.5,69.5] \n",
       " 0.06976744 "
      ]
     },
     "metadata": {},
     "output_type": "display_data"
    }
   ],
   "source": [
    "length(ages) \n",
    "# This tells you that there are 43 ages in our data set. \n",
    "table(cut(ages, boundaries))/43 \n",
    "# You will see a relative frequency table for the ages"
   ]
  },
  {
   "cell_type": "markdown",
   "metadata": {
    "slideshow": {
     "slide_type": "slide"
    }
   },
   "source": [
    "**MAKING BARPLOT AND HISTOGRAMS**"
   ]
  },
  {
   "cell_type": "code",
   "execution_count": 83,
   "metadata": {
    "run_control": {
     "frozen": false,
     "marked": false,
     "read_only": false
    },
    "slideshow": {
     "slide_type": "subslide"
    }
   },
   "outputs": [
    {
     "data": {
      "image/jpeg": "[encoded data removed]",
      "image/png": "",
      "image/svg+xml": [
       "<?xml version=\"1.0\" encoding=\"UTF-8\"?>\n",
       "<svg xmlns=\"http://www.w3.org/2000/svg\" xmlns:xlink=\"http://www.w3.org/1999/xlink\" width=\"288pt\" height=\"216pt\" viewBox=\"0 0 288 216\" version=\"1.1\">\n",
       "<defs>\n",
       "<g>\n",
       "<symbol overflow=\"visible\" id=\"glyph0-0\">\n",
       "<path style=\"stroke:none;\" d=\"\"/>\n",
       "</symbol>\n",
       "<symbol overflow=\"visible\" id=\"glyph0-1\">\n",
       "<path style=\"stroke:none;\" d=\"M -4.390625 -6.46875 C -7.46875 -6.46875 -9.125 -5.359375 -9.125 -3.4375 C -9.125 -1.53125 -7.4375 -0.40625 -4.46875 -0.40625 C -1.46875 -0.40625 0.1875 -1.53125 0.1875 -3.4375 C 0.1875 -5.3125 -1.46875 -6.46875 -4.390625 -6.46875 Z M -4.484375 -5.078125 C -1.96875 -5.078125 -0.984375 -4.640625 -0.984375 -3.40625 C -0.984375 -2.25 -2.03125 -1.78125 -4.453125 -1.78125 C -6.875 -1.78125 -7.890625 -2.25 -7.890625 -3.4375 C -7.890625 -4.625 -6.859375 -5.078125 -4.484375 -5.078125 Z M -4.484375 -5.078125 \"/>\n",
       "</symbol>\n",
       "<symbol overflow=\"visible\" id=\"glyph0-2\">\n",
       "<path style=\"stroke:none;\" d=\"M -6.390625 -6.515625 C -7.890625 -6.515625 -9.125 -5.21875 -9.125 -3.546875 C -9.125 -1.734375 -8.0625 -0.546875 -5.78125 -0.484375 L -5.78125 -1.84375 C -7.40625 -1.9375 -7.90625 -2.421875 -7.90625 -3.515625 C -7.90625 -4.515625 -7.3125 -5.125 -6.359375 -5.125 C -5.65625 -5.125 -5.15625 -4.75 -4.703125 -3.96875 L -4.046875 -2.8125 C -3 -0.96875 -2.078125 -0.390625 0 -0.28125 L 0 -6.453125 L -1.34375 -6.453125 L -1.34375 -1.8125 C -1.9375 -1.90625 -2.3125 -2.265625 -2.953125 -3.34375 L -3.625 -4.59375 C -4.28125 -5.84375 -5.296875 -6.515625 -6.390625 -6.515625 Z M -6.390625 -6.515625 \"/>\n",
       "</symbol>\n",
       "<symbol overflow=\"visible\" id=\"glyph0-3\">\n",
       "<path style=\"stroke:none;\" d=\"M -3.0625 -6.53125 C -4.8125 -6.53125 -6.09375 -5.25 -6.09375 -3.546875 C -6.09375 -2.921875 -5.890625 -2.328125 -5.71875 -2.09375 L -7.59375 -2.359375 L -7.59375 -6.078125 L -8.9375 -6.078125 L -8.9375 -1.25 L -4.03125 -0.546875 L -4.03125 -1.78125 C -4.6875 -2.328125 -4.859375 -2.65625 -4.859375 -3.34375 C -4.859375 -4.53125 -4.21875 -5.15625 -2.90625 -5.15625 C -1.640625 -5.15625 -1.046875 -4.546875 -1.046875 -3.34375 C -1.046875 -2.390625 -1.40625 -1.921875 -2.53125 -1.625 L -2.53125 -0.28125 C -0.640625 -0.65625 0.1875 -1.796875 0.1875 -3.375 C 0.1875 -5.15625 -1.1875 -6.53125 -3.0625 -6.53125 Z M -3.0625 -6.53125 \"/>\n",
       "</symbol>\n",
       "</g>\n",
       "</defs>\n",
       "<g id=\"surface1073\">\n",
       "<rect x=\"0\" y=\"0\" width=\"288\" height=\"216\" style=\"fill:rgb(100%,100%,100%);fill-opacity:1;stroke:none;\"/>\n",
       "<path style=\"fill-rule:nonzero;fill:rgb(74.509804%,74.509804%,74.509804%);fill-opacity:1;stroke-width:1;stroke-linecap:round;stroke-linejoin:round;stroke:rgb(0%,0%,0%);stroke-opacity:1;stroke-miterlimit:10;\" d=\"M 66.398438 73.421875 L 69.976562 73.421875 L 69.976562 141.734375 L 66.398438 141.734375 Z M 66.398438 73.421875 \"/>\n",
       "<path style=\"fill-rule:nonzero;fill:rgb(74.509804%,74.509804%,74.509804%);fill-opacity:1;stroke-width:1;stroke-linecap:round;stroke-linejoin:round;stroke:rgb(0%,0%,0%);stroke-opacity:1;stroke-miterlimit:10;\" d=\"M 70.695312 68.628906 L 74.273438 68.628906 L 74.273438 141.734375 L 70.695312 141.734375 Z M 70.695312 68.628906 \"/>\n",
       "<path style=\"fill-rule:nonzero;fill:rgb(74.509804%,74.509804%,74.509804%);fill-opacity:1;stroke-width:1;stroke-linecap:round;stroke-linejoin:round;stroke:rgb(0%,0%,0%);stroke-opacity:1;stroke-miterlimit:10;\" d=\"M 74.992188 73.421875 L 78.570312 73.421875 L 78.570312 141.734375 L 74.992188 141.734375 Z M 74.992188 73.421875 \"/>\n",
       "<path style=\"fill-rule:nonzero;fill:rgb(74.509804%,74.509804%,74.509804%);fill-opacity:1;stroke-width:1;stroke-linecap:round;stroke-linejoin:round;stroke:rgb(0%,0%,0%);stroke-opacity:1;stroke-miterlimit:10;\" d=\"M 79.289062 73.421875 L 82.867188 73.421875 L 82.867188 141.734375 L 79.289062 141.734375 Z M 79.289062 73.421875 \"/>\n",
       "<path style=\"fill-rule:nonzero;fill:rgb(74.509804%,74.509804%,74.509804%);fill-opacity:1;stroke-width:1;stroke-linecap:round;stroke-linejoin:round;stroke:rgb(0%,0%,0%);stroke-opacity:1;stroke-miterlimit:10;\" d=\"M 83.582031 72.222656 L 87.160156 72.222656 L 87.160156 141.734375 L 83.582031 141.734375 Z M 83.582031 72.222656 \"/>\n",
       "<path style=\"fill-rule:nonzero;fill:rgb(74.509804%,74.509804%,74.509804%);fill-opacity:1;stroke-width:1;stroke-linecap:round;stroke-linejoin:round;stroke:rgb(0%,0%,0%);stroke-opacity:1;stroke-miterlimit:10;\" d=\"M 87.878906 73.421875 L 91.457031 73.421875 L 91.457031 141.734375 L 87.878906 141.734375 Z M 87.878906 73.421875 \"/>\n",
       "<path style=\"fill-rule:nonzero;fill:rgb(74.509804%,74.509804%,74.509804%);fill-opacity:1;stroke-width:1;stroke-linecap:round;stroke-linejoin:round;stroke:rgb(0%,0%,0%);stroke-opacity:1;stroke-miterlimit:10;\" d=\"M 92.175781 68.628906 L 95.753906 68.628906 L 95.753906 141.734375 L 92.175781 141.734375 Z M 92.175781 68.628906 \"/>\n",
       "<path style=\"fill-rule:nonzero;fill:rgb(74.509804%,74.509804%,74.509804%);fill-opacity:1;stroke-width:1;stroke-linecap:round;stroke-linejoin:round;stroke:rgb(0%,0%,0%);stroke-opacity:1;stroke-miterlimit:10;\" d=\"M 96.46875 77.015625 L 100.046875 77.015625 L 100.046875 141.730469 L 96.46875 141.730469 Z M 96.46875 77.015625 \"/>\n",
       "<path style=\"fill-rule:nonzero;fill:rgb(74.509804%,74.509804%,74.509804%);fill-opacity:1;stroke-width:1;stroke-linecap:round;stroke-linejoin:round;stroke:rgb(0%,0%,0%);stroke-opacity:1;stroke-miterlimit:10;\" d=\"M 100.765625 60.238281 L 104.34375 60.238281 L 104.34375 141.734375 L 100.765625 141.734375 Z M 100.765625 60.238281 \"/>\n",
       "<path style=\"fill-rule:nonzero;fill:rgb(74.509804%,74.509804%,74.509804%);fill-opacity:1;stroke-width:1;stroke-linecap:round;stroke-linejoin:round;stroke:rgb(0%,0%,0%);stroke-opacity:1;stroke-miterlimit:10;\" d=\"M 105.0625 80.613281 L 108.640625 80.613281 L 108.640625 141.734375 L 105.0625 141.734375 Z M 105.0625 80.613281 \"/>\n",
       "<path style=\"fill-rule:nonzero;fill:rgb(74.509804%,74.509804%,74.509804%);fill-opacity:1;stroke-width:1;stroke-linecap:round;stroke-linejoin:round;stroke:rgb(0%,0%,0%);stroke-opacity:1;stroke-miterlimit:10;\" d=\"M 109.355469 83.007812 L 112.933594 83.007812 L 112.933594 141.730469 L 109.355469 141.730469 Z M 109.355469 83.007812 \"/>\n",
       "<path style=\"fill-rule:nonzero;fill:rgb(74.509804%,74.509804%,74.509804%);fill-opacity:1;stroke-width:1;stroke-linecap:round;stroke-linejoin:round;stroke:rgb(0%,0%,0%);stroke-opacity:1;stroke-miterlimit:10;\" d=\"M 113.652344 65.03125 L 117.230469 65.03125 L 117.230469 141.730469 L 113.652344 141.730469 Z M 113.652344 65.03125 \"/>\n",
       "<path style=\"fill-rule:nonzero;fill:rgb(74.509804%,74.509804%,74.509804%);fill-opacity:1;stroke-width:1;stroke-linecap:round;stroke-linejoin:round;stroke:rgb(0%,0%,0%);stroke-opacity:1;stroke-miterlimit:10;\" d=\"M 117.949219 81.8125 L 121.527344 81.8125 L 121.527344 141.734375 L 117.949219 141.734375 Z M 117.949219 81.8125 \"/>\n",
       "<path style=\"fill-rule:nonzero;fill:rgb(74.509804%,74.509804%,74.509804%);fill-opacity:1;stroke-width:1;stroke-linecap:round;stroke-linejoin:round;stroke:rgb(0%,0%,0%);stroke-opacity:1;stroke-miterlimit:10;\" d=\"M 122.246094 84.207031 L 125.824219 84.207031 L 125.824219 141.734375 L 122.246094 141.734375 Z M 122.246094 84.207031 \"/>\n",
       "<path style=\"fill-rule:nonzero;fill:rgb(74.509804%,74.509804%,74.509804%);fill-opacity:1;stroke-width:1;stroke-linecap:round;stroke-linejoin:round;stroke:rgb(0%,0%,0%);stroke-opacity:1;stroke-miterlimit:10;\" d=\"M 126.539062 63.832031 L 130.117188 63.832031 L 130.117188 141.730469 L 126.539062 141.730469 Z M 126.539062 63.832031 \"/>\n",
       "<path style=\"fill-rule:nonzero;fill:rgb(74.509804%,74.509804%,74.509804%);fill-opacity:1;stroke-width:1;stroke-linecap:round;stroke-linejoin:round;stroke:rgb(0%,0%,0%);stroke-opacity:1;stroke-miterlimit:10;\" d=\"M 130.835938 79.414062 L 134.414062 79.414062 L 134.414062 141.734375 L 130.835938 141.734375 Z M 130.835938 79.414062 \"/>\n",
       "<path style=\"fill-rule:nonzero;fill:rgb(74.509804%,74.509804%,74.509804%);fill-opacity:1;stroke-width:1;stroke-linecap:round;stroke-linejoin:round;stroke:rgb(0%,0%,0%);stroke-opacity:1;stroke-miterlimit:10;\" d=\"M 135.132812 74.621094 L 138.710938 74.621094 L 138.710938 141.734375 L 135.132812 141.734375 Z M 135.132812 74.621094 \"/>\n",
       "<path style=\"fill-rule:nonzero;fill:rgb(74.509804%,74.509804%,74.509804%);fill-opacity:1;stroke-width:1;stroke-linecap:round;stroke-linejoin:round;stroke:rgb(0%,0%,0%);stroke-opacity:1;stroke-miterlimit:10;\" d=\"M 139.425781 86.605469 L 143.003906 86.605469 L 143.003906 141.734375 L 139.425781 141.734375 Z M 139.425781 86.605469 \"/>\n",
       "<path style=\"fill-rule:nonzero;fill:rgb(74.509804%,74.509804%,74.509804%);fill-opacity:1;stroke-width:1;stroke-linecap:round;stroke-linejoin:round;stroke:rgb(0%,0%,0%);stroke-opacity:1;stroke-miterlimit:10;\" d=\"M 143.722656 77.015625 L 147.300781 77.015625 L 147.300781 141.730469 L 143.722656 141.730469 Z M 143.722656 77.015625 \"/>\n",
       "<path style=\"fill-rule:nonzero;fill:rgb(74.509804%,74.509804%,74.509804%);fill-opacity:1;stroke-width:1;stroke-linecap:round;stroke-linejoin:round;stroke:rgb(0%,0%,0%);stroke-opacity:1;stroke-miterlimit:10;\" d=\"M 148.019531 83.007812 L 151.597656 83.007812 L 151.597656 141.730469 L 148.019531 141.730469 Z M 148.019531 83.007812 \"/>\n",
       "<path style=\"fill-rule:nonzero;fill:rgb(74.509804%,74.509804%,74.509804%);fill-opacity:1;stroke-width:1;stroke-linecap:round;stroke-linejoin:round;stroke:rgb(0%,0%,0%);stroke-opacity:1;stroke-miterlimit:10;\" d=\"M 152.3125 80.613281 L 155.890625 80.613281 L 155.890625 141.734375 L 152.3125 141.734375 Z M 152.3125 80.613281 \"/>\n",
       "<path style=\"fill-rule:nonzero;fill:rgb(74.509804%,74.509804%,74.509804%);fill-opacity:1;stroke-width:1;stroke-linecap:round;stroke-linejoin:round;stroke:rgb(0%,0%,0%);stroke-opacity:1;stroke-miterlimit:10;\" d=\"M 156.609375 85.40625 L 160.1875 85.40625 L 160.1875 141.734375 L 156.609375 141.734375 Z M 156.609375 85.40625 \"/>\n",
       "<path style=\"fill-rule:nonzero;fill:rgb(74.509804%,74.509804%,74.509804%);fill-opacity:1;stroke-width:1;stroke-linecap:round;stroke-linejoin:round;stroke:rgb(0%,0%,0%);stroke-opacity:1;stroke-miterlimit:10;\" d=\"M 160.90625 75.816406 L 164.484375 75.816406 L 164.484375 141.730469 L 160.90625 141.730469 Z M 160.90625 75.816406 \"/>\n",
       "<path style=\"fill-rule:nonzero;fill:rgb(74.509804%,74.509804%,74.509804%);fill-opacity:1;stroke-width:1;stroke-linecap:round;stroke-linejoin:round;stroke:rgb(0%,0%,0%);stroke-opacity:1;stroke-miterlimit:10;\" d=\"M 165.203125 75.816406 L 168.78125 75.816406 L 168.78125 141.730469 L 165.203125 141.730469 Z M 165.203125 75.816406 \"/>\n",
       "<path style=\"fill-rule:nonzero;fill:rgb(74.509804%,74.509804%,74.509804%);fill-opacity:1;stroke-width:1;stroke-linecap:round;stroke-linejoin:round;stroke:rgb(0%,0%,0%);stroke-opacity:1;stroke-miterlimit:10;\" d=\"M 169.496094 77.015625 L 173.074219 77.015625 L 173.074219 141.730469 L 169.496094 141.730469 Z M 169.496094 77.015625 \"/>\n",
       "<path style=\"fill-rule:nonzero;fill:rgb(74.509804%,74.509804%,74.509804%);fill-opacity:1;stroke-width:1;stroke-linecap:round;stroke-linejoin:round;stroke:rgb(0%,0%,0%);stroke-opacity:1;stroke-miterlimit:10;\" d=\"M 173.792969 91.398438 L 177.371094 91.398438 L 177.371094 141.734375 L 173.792969 141.734375 Z M 173.792969 91.398438 \"/>\n",
       "<path style=\"fill-rule:nonzero;fill:rgb(74.509804%,74.509804%,74.509804%);fill-opacity:1;stroke-width:1;stroke-linecap:round;stroke-linejoin:round;stroke:rgb(0%,0%,0%);stroke-opacity:1;stroke-miterlimit:10;\" d=\"M 178.089844 80.613281 L 181.667969 80.613281 L 181.667969 141.734375 L 178.089844 141.734375 Z M 178.089844 80.613281 \"/>\n",
       "<path style=\"fill-rule:nonzero;fill:rgb(74.509804%,74.509804%,74.509804%);fill-opacity:1;stroke-width:1;stroke-linecap:round;stroke-linejoin:round;stroke:rgb(0%,0%,0%);stroke-opacity:1;stroke-miterlimit:10;\" d=\"M 182.382812 74.621094 L 185.960938 74.621094 L 185.960938 141.734375 L 182.382812 141.734375 Z M 182.382812 74.621094 \"/>\n",
       "<path style=\"fill-rule:nonzero;fill:rgb(74.509804%,74.509804%,74.509804%);fill-opacity:1;stroke-width:1;stroke-linecap:round;stroke-linejoin:round;stroke:rgb(0%,0%,0%);stroke-opacity:1;stroke-miterlimit:10;\" d=\"M 186.679688 75.816406 L 190.257812 75.816406 L 190.257812 141.730469 L 186.679688 141.730469 Z M 186.679688 75.816406 \"/>\n",
       "<path style=\"fill-rule:nonzero;fill:rgb(74.509804%,74.509804%,74.509804%);fill-opacity:1;stroke-width:1;stroke-linecap:round;stroke-linejoin:round;stroke:rgb(0%,0%,0%);stroke-opacity:1;stroke-miterlimit:10;\" d=\"M 190.976562 80.613281 L 194.554688 80.613281 L 194.554688 141.734375 L 190.976562 141.734375 Z M 190.976562 80.613281 \"/>\n",
       "<path style=\"fill-rule:nonzero;fill:rgb(74.509804%,74.509804%,74.509804%);fill-opacity:1;stroke-width:1;stroke-linecap:round;stroke-linejoin:round;stroke:rgb(0%,0%,0%);stroke-opacity:1;stroke-miterlimit:10;\" d=\"M 195.273438 77.015625 L 198.851562 77.015625 L 198.851562 141.730469 L 195.273438 141.730469 Z M 195.273438 77.015625 \"/>\n",
       "<path style=\"fill-rule:nonzero;fill:rgb(74.509804%,74.509804%,74.509804%);fill-opacity:1;stroke-width:1;stroke-linecap:round;stroke-linejoin:round;stroke:rgb(0%,0%,0%);stroke-opacity:1;stroke-miterlimit:10;\" d=\"M 199.566406 80.613281 L 203.144531 80.613281 L 203.144531 141.734375 L 199.566406 141.734375 Z M 199.566406 80.613281 \"/>\n",
       "<path style=\"fill-rule:nonzero;fill:rgb(74.509804%,74.509804%,74.509804%);fill-opacity:1;stroke-width:1;stroke-linecap:round;stroke-linejoin:round;stroke:rgb(0%,0%,0%);stroke-opacity:1;stroke-miterlimit:10;\" d=\"M 203.863281 69.824219 L 207.441406 69.824219 L 207.441406 141.730469 L 203.863281 141.730469 Z M 203.863281 69.824219 \"/>\n",
       "<path style=\"fill-rule:nonzero;fill:rgb(74.509804%,74.509804%,74.509804%);fill-opacity:1;stroke-width:1;stroke-linecap:round;stroke-linejoin:round;stroke:rgb(0%,0%,0%);stroke-opacity:1;stroke-miterlimit:10;\" d=\"M 208.160156 67.429688 L 211.738281 67.429688 L 211.738281 141.734375 L 208.160156 141.734375 Z M 208.160156 67.429688 \"/>\n",
       "<path style=\"fill-rule:nonzero;fill:rgb(74.509804%,74.509804%,74.509804%);fill-opacity:1;stroke-width:1;stroke-linecap:round;stroke-linejoin:round;stroke:rgb(0%,0%,0%);stroke-opacity:1;stroke-miterlimit:10;\" d=\"M 212.453125 90.199219 L 216.03125 90.199219 L 216.03125 141.734375 L 212.453125 141.734375 Z M 212.453125 90.199219 \"/>\n",
       "<path style=\"fill-rule:nonzero;fill:rgb(74.509804%,74.509804%,74.509804%);fill-opacity:1;stroke-width:1;stroke-linecap:round;stroke-linejoin:round;stroke:rgb(0%,0%,0%);stroke-opacity:1;stroke-miterlimit:10;\" d=\"M 216.75 75.816406 L 220.328125 75.816406 L 220.328125 141.730469 L 216.75 141.730469 Z M 216.75 75.816406 \"/>\n",
       "<path style=\"fill-rule:nonzero;fill:rgb(74.509804%,74.509804%,74.509804%);fill-opacity:1;stroke-width:1;stroke-linecap:round;stroke-linejoin:round;stroke:rgb(0%,0%,0%);stroke-opacity:1;stroke-miterlimit:10;\" d=\"M 221.046875 74.621094 L 224.625 74.621094 L 224.625 141.734375 L 221.046875 141.734375 Z M 221.046875 74.621094 \"/>\n",
       "<path style=\"fill-rule:nonzero;fill:rgb(74.509804%,74.509804%,74.509804%);fill-opacity:1;stroke-width:1;stroke-linecap:round;stroke-linejoin:round;stroke:rgb(0%,0%,0%);stroke-opacity:1;stroke-miterlimit:10;\" d=\"M 225.339844 68.628906 L 228.917969 68.628906 L 228.917969 141.734375 L 225.339844 141.734375 Z M 225.339844 68.628906 \"/>\n",
       "<path style=\"fill-rule:nonzero;fill:rgb(74.509804%,74.509804%,74.509804%);fill-opacity:1;stroke-width:1;stroke-linecap:round;stroke-linejoin:round;stroke:rgb(0%,0%,0%);stroke-opacity:1;stroke-miterlimit:10;\" d=\"M 229.636719 79.414062 L 233.214844 79.414062 L 233.214844 141.734375 L 229.636719 141.734375 Z M 229.636719 79.414062 \"/>\n",
       "<path style=\"fill-rule:nonzero;fill:rgb(74.509804%,74.509804%,74.509804%);fill-opacity:1;stroke-width:1;stroke-linecap:round;stroke-linejoin:round;stroke:rgb(0%,0%,0%);stroke-opacity:1;stroke-miterlimit:10;\" d=\"M 233.933594 59.039062 L 237.511719 59.039062 L 237.511719 141.730469 L 233.933594 141.730469 Z M 233.933594 59.039062 \"/>\n",
       "<path style=\"fill-rule:nonzero;fill:rgb(74.509804%,74.509804%,74.509804%);fill-opacity:1;stroke-width:1;stroke-linecap:round;stroke-linejoin:round;stroke:rgb(0%,0%,0%);stroke-opacity:1;stroke-miterlimit:10;\" d=\"M 238.230469 65.03125 L 241.808594 65.03125 L 241.808594 141.730469 L 238.230469 141.730469 Z M 238.230469 65.03125 \"/>\n",
       "<path style=\"fill-rule:nonzero;fill:rgb(74.509804%,74.509804%,74.509804%);fill-opacity:1;stroke-width:1;stroke-linecap:round;stroke-linejoin:round;stroke:rgb(0%,0%,0%);stroke-opacity:1;stroke-miterlimit:10;\" d=\"M 242.523438 86.605469 L 246.101562 86.605469 L 246.101562 141.734375 L 242.523438 141.734375 Z M 242.523438 86.605469 \"/>\n",
       "<path style=\"fill-rule:nonzero;fill:rgb(74.509804%,74.509804%,74.509804%);fill-opacity:1;stroke-width:1;stroke-linecap:round;stroke-linejoin:round;stroke:rgb(0%,0%,0%);stroke-opacity:1;stroke-miterlimit:10;\" d=\"M 246.820312 77.015625 L 250.398438 77.015625 L 250.398438 141.730469 L 246.820312 141.730469 Z M 246.820312 77.015625 \"/>\n",
       "<path style=\"fill:none;stroke-width:1;stroke-linecap:round;stroke-linejoin:round;stroke:rgb(0%,0%,0%);stroke-opacity:1;stroke-miterlimit:10;\" d=\"M 59.039062 141.734375 L 59.039062 69.824219 \"/>\n",
       "<path style=\"fill:none;stroke-width:1;stroke-linecap:round;stroke-linejoin:round;stroke:rgb(0%,0%,0%);stroke-opacity:1;stroke-miterlimit:10;\" d=\"M 59.039062 141.734375 L 51.839844 141.734375 \"/>\n",
       "<path style=\"fill:none;stroke-width:1;stroke-linecap:round;stroke-linejoin:round;stroke:rgb(0%,0%,0%);stroke-opacity:1;stroke-miterlimit:10;\" d=\"M 59.039062 129.75 L 51.839844 129.75 \"/>\n",
       "<path style=\"fill:none;stroke-width:1;stroke-linecap:round;stroke-linejoin:round;stroke:rgb(0%,0%,0%);stroke-opacity:1;stroke-miterlimit:10;\" d=\"M 59.039062 117.765625 L 51.839844 117.765625 \"/>\n",
       "<path style=\"fill:none;stroke-width:1;stroke-linecap:round;stroke-linejoin:round;stroke:rgb(0%,0%,0%);stroke-opacity:1;stroke-miterlimit:10;\" d=\"M 59.039062 105.78125 L 51.839844 105.78125 \"/>\n",
       "<path style=\"fill:none;stroke-width:1;stroke-linecap:round;stroke-linejoin:round;stroke:rgb(0%,0%,0%);stroke-opacity:1;stroke-miterlimit:10;\" d=\"M 59.039062 93.796875 L 51.839844 93.796875 \"/>\n",
       "<path style=\"fill:none;stroke-width:1;stroke-linecap:round;stroke-linejoin:round;stroke:rgb(0%,0%,0%);stroke-opacity:1;stroke-miterlimit:10;\" d=\"M 59.039062 81.8125 L 51.839844 81.8125 \"/>\n",
       "<path style=\"fill:none;stroke-width:1;stroke-linecap:round;stroke-linejoin:round;stroke:rgb(0%,0%,0%);stroke-opacity:1;stroke-miterlimit:10;\" d=\"M 59.039062 69.824219 L 51.839844 69.824219 \"/>\n",
       "<g style=\"fill:rgb(0%,0%,0%);fill-opacity:1;\">\n",
       "  <use xlink:href=\"#glyph0-1\" x=\"43.199219\" y=\"145.210938\"/>\n",
       "</g>\n",
       "<g style=\"fill:rgb(0%,0%,0%);fill-opacity:1;\">\n",
       "  <use xlink:href=\"#glyph0-2\" x=\"43.199219\" y=\"124.714844\"/>\n",
       "  <use xlink:href=\"#glyph0-1\" x=\"43.199219\" y=\"117.764816\"/>\n",
       "</g>\n",
       "<g style=\"fill:rgb(0%,0%,0%);fill-opacity:1;\">\n",
       "  <use xlink:href=\"#glyph0-3\" x=\"43.199219\" y=\"88.761719\"/>\n",
       "  <use xlink:href=\"#glyph0-1\" x=\"43.199219\" y=\"81.811691\"/>\n",
       "</g>\n",
       "</g>\n",
       "</svg>\n"
      ]
     },
     "metadata": {
      "image/svg+xml": {
       "isolated": true
      }
     },
     "output_type": "display_data"
    },
    {
     "data": {
      "image/jpeg": "[encoded data removed]",
      "image/png": "",
      "image/svg+xml": [
       "<?xml version=\"1.0\" encoding=\"UTF-8\"?>\n",
       "<svg xmlns=\"http://www.w3.org/2000/svg\" xmlns:xlink=\"http://www.w3.org/1999/xlink\" width=\"288pt\" height=\"216pt\" viewBox=\"0 0 288 216\" version=\"1.1\">\n",
       "<defs>\n",
       "<g>\n",
       "<symbol overflow=\"visible\" id=\"glyph0-0\">\n",
       "<path style=\"stroke:none;\" d=\"\"/>\n",
       "</symbol>\n",
       "<symbol overflow=\"visible\" id=\"glyph0-1\">\n",
       "<path style=\"stroke:none;\" d=\"M 9.84375 -0.140625 L 9.84375 -11.140625 L 7.5 -11.140625 L 7.5 -7.0625 L 3.296875 -7.0625 L 3.296875 -11.140625 L 0.953125 -11.140625 L 0.953125 0 L 3.296875 0 L 3.296875 -4.9375 L 7.5 -4.9375 L 7.5 0 L 9.84375 0 Z M 9.84375 -0.140625 \"/>\n",
       "</symbol>\n",
       "<symbol overflow=\"visible\" id=\"glyph0-2\">\n",
       "<path style=\"stroke:none;\" d=\"M 3.125 -0.140625 L 3.125 -8.3125 L 0.9375 -8.3125 L 0.9375 0 L 3.125 0 Z M 3.15625 -9.15625 L 3.15625 -11.375 L 0.96875 -11.375 L 0.96875 -9.015625 L 3.15625 -9.015625 Z M 3.15625 -9.15625 \"/>\n",
       "</symbol>\n",
       "<symbol overflow=\"visible\" id=\"glyph0-3\">\n",
       "<path style=\"stroke:none;\" d=\"M 7.796875 -2.515625 L 7.796875 -2.625 C 7.796875 -3.546875 7.234375 -4.375 6.171875 -4.6875 L 3.53125 -5.4375 C 2.953125 -5.609375 2.84375 -5.609375 2.84375 -5.9375 C 2.84375 -6.375 3.28125 -6.546875 4.015625 -6.546875 C 5.015625 -6.546875 5.4375 -6.3125 5.453125 -5.453125 L 7.578125 -5.453125 C 7.546875 -7.296875 6.1875 -8.453125 4.03125 -8.453125 C 1.984375 -8.453125 0.65625 -7.296875 0.65625 -5.640625 C 0.65625 -4.65625 0.984375 -3.984375 2.46875 -3.515625 L 4.96875 -2.75 C 5.484375 -2.578125 5.609375 -2.546875 5.609375 -2.328125 C 5.609375 -1.828125 5.078125 -1.78125 4.109375 -1.78125 C 3.15625 -1.78125 2.703125 -1.8125 2.484375 -2.8125 L 0.375 -2.8125 C 0.4375 -0.921875 1.78125 0.140625 4.234375 0.140625 C 6.5 0.140625 7.796875 -0.890625 7.796875 -2.515625 Z M 7.796875 -2.515625 \"/>\n",
       "</symbol>\n",
       "<symbol overflow=\"visible\" id=\"glyph0-4\">\n",
       "<path style=\"stroke:none;\" d=\"M 4.53125 -0.140625 L 4.53125 -1.734375 C 4.28125 -1.703125 4.15625 -1.6875 4.015625 -1.6875 C 3.453125 -1.6875 3.375 -1.71875 3.375 -2.4375 L 3.375 -6.5 L 4.53125 -6.5 L 4.53125 -8.15625 L 3.375 -8.15625 L 3.375 -10.3125 L 1.171875 -10.3125 L 1.171875 -8.15625 L 0.15625 -8.15625 L 0.15625 -6.5 L 1.171875 -6.5 L 1.171875 -1.859375 C 1.171875 -0.59375 1.90625 0.0625 3.28125 0.0625 C 3.734375 0.0625 4.109375 0.015625 4.53125 0 Z M 4.53125 -0.140625 \"/>\n",
       "</symbol>\n",
       "<symbol overflow=\"visible\" id=\"glyph0-5\">\n",
       "<path style=\"stroke:none;\" d=\"M 8.53125 -4.09375 C 8.53125 -6.828125 7 -8.453125 4.484375 -8.453125 C 2.03125 -8.453125 0.46875 -6.796875 0.46875 -4.15625 C 0.46875 -1.5 2.03125 0.140625 4.5 0.140625 C 6.953125 0.140625 8.53125 -1.515625 8.53125 -4.09375 Z M 6.328125 -4.125 C 6.328125 -2.625 5.625 -1.8125 4.5 -1.8125 C 3.375 -1.8125 2.65625 -2.625 2.65625 -4.15625 C 2.65625 -5.6875 3.375 -6.5 4.5 -6.5 C 5.65625 -6.5 6.328125 -5.703125 6.328125 -4.125 Z M 6.328125 -4.125 \"/>\n",
       "</symbol>\n",
       "<symbol overflow=\"visible\" id=\"glyph0-6\">\n",
       "<path style=\"stroke:none;\" d=\"M 8.109375 0.140625 L 8.109375 -8.3125 L 6.015625 -8.3125 L 6.015625 -7.15625 C 5.484375 -7.984375 4.765625 -8.453125 3.84375 -8.453125 C 1.9375 -8.453125 0.453125 -6.5625 0.453125 -4.0625 C 0.453125 -1.5625 1.8125 0.140625 3.796875 0.140625 C 4.734375 0.140625 5.34375 -0.171875 6.015625 -0.875 L 6.015625 0.140625 C 6.015625 1.109375 5.34375 1.640625 4.3125 1.640625 C 3.515625 1.640625 3.046875 1.453125 2.828125 0.703125 L 0.609375 0.703125 C 0.640625 2.140625 2.03125 3.25 4.234375 3.25 C 6.65625 3.25 8.109375 2.03125 8.109375 0.140625 Z M 6.046875 -4.09375 C 6.046875 -2.640625 5.34375 -1.875 4.265625 -1.875 C 3.28125 -1.875 2.640625 -2.640625 2.640625 -4.09375 C 2.640625 -5.625 3.28125 -6.4375 4.296875 -6.4375 C 5.34375 -6.4375 6.046875 -5.59375 6.046875 -4.09375 Z M 6.046875 -4.09375 \"/>\n",
       "</symbol>\n",
       "<symbol overflow=\"visible\" id=\"glyph0-7\">\n",
       "<path style=\"stroke:none;\" d=\"M 5.5625 -6.1875 L 5.5625 -8.421875 C 5.390625 -8.453125 5.328125 -8.453125 5.265625 -8.453125 C 4.3125 -8.453125 3.40625 -7.6875 3.078125 -6.828125 L 3.078125 -8.3125 L 0.875 -8.3125 L 0.875 0 L 3.078125 0 L 3.078125 -4.40625 C 3.078125 -5.640625 3.640625 -6.109375 4.859375 -6.109375 C 5.078125 -6.109375 5.234375 -6.09375 5.5625 -6.03125 Z M 5.5625 -6.1875 \"/>\n",
       "</symbol>\n",
       "<symbol overflow=\"visible\" id=\"glyph0-8\">\n",
       "<path style=\"stroke:none;\" d=\"M 7.859375 -0.140625 L 7.859375 -0.46875 C 7.46875 -0.8125 7.375 -0.953125 7.375 -1.375 L 7.375 -5.84375 C 7.375 -7.484375 6.21875 -8.453125 4.046875 -8.453125 C 1.859375 -8.453125 0.671875 -7.390625 0.53125 -5.390625 L 2.640625 -5.390625 C 2.75 -6.359375 3.0625 -6.5 4.078125 -6.5 C 4.890625 -6.5 5.234375 -6.359375 5.234375 -5.828125 C 5.234375 -4.984375 4.671875 -5.203125 3.625 -5.015625 L 2.78125 -4.875 C 1.1875 -4.59375 0.359375 -3.765625 0.359375 -2.3125 C 0.359375 -0.75 1.515625 0.140625 2.859375 0.140625 C 3.75 0.140625 4.609375 -0.28125 5.25 -0.96875 C 5.25 -0.734375 5.3125 -0.265625 5.53125 0 L 7.859375 0 Z M 5.234375 -3.578125 C 5.234375 -2.375 4.703125 -1.8125 3.640625 -1.8125 C 2.9375 -1.8125 2.546875 -1.953125 2.546875 -2.546875 C 2.546875 -3.15625 2.828125 -3.25 3.703125 -3.40625 L 4.40625 -3.546875 C 4.96875 -3.65625 5.078125 -3.71875 5.234375 -3.796875 Z M 5.234375 -3.578125 \"/>\n",
       "</symbol>\n",
       "<symbol overflow=\"visible\" id=\"glyph0-9\">\n",
       "<path style=\"stroke:none;\" d=\"M 12.328125 -0.140625 L 12.328125 -5.828125 C 12.328125 -7.390625 11.328125 -8.453125 9.71875 -8.453125 C 8.703125 -8.453125 7.9375 -8.046875 7.359375 -7.28125 C 7 -7.96875 6.171875 -8.453125 5.171875 -8.453125 C 4.25 -8.453125 3.609375 -8.09375 3.015625 -7.375 L 3.015625 -8.3125 L 0.828125 -8.3125 L 0.828125 0 L 3.03125 0 L 3.03125 -4.96875 C 3.03125 -5.953125 3.515625 -6.40625 4.40625 -6.40625 C 5.109375 -6.40625 5.484375 -6.140625 5.484375 -5.5 L 5.484375 0 L 7.671875 0 L 7.671875 -4.96875 C 7.671875 -5.953125 8.171875 -6.40625 9.0625 -6.40625 C 9.765625 -6.40625 10.140625 -6.140625 10.140625 -5.5 L 10.140625 0 L 12.328125 0 Z M 12.328125 -0.140625 \"/>\n",
       "</symbol>\n",
       "<symbol overflow=\"visible\" id=\"glyph0-10\">\n",
       "<path style=\"stroke:none;\" d=\"\"/>\n",
       "</symbol>\n",
       "<symbol overflow=\"visible\" id=\"glyph0-11\">\n",
       "<path style=\"stroke:none;\" d=\"M 4.703125 -6.640625 L 4.703125 -8.15625 L 3.46875 -8.15625 L 3.46875 -8.8125 C 3.46875 -9.234375 3.609375 -9.296875 4 -9.296875 C 4.171875 -9.296875 4.40625 -9.28125 4.640625 -9.234375 L 4.640625 -11.09375 C 4.203125 -11.125 3.6875 -11.140625 3.40625 -11.140625 C 2.015625 -11.140625 1.28125 -10.34375 1.28125 -8.984375 L 1.28125 -8.15625 L 0.15625 -8.15625 L 0.15625 -6.5 L 1.28125 -6.5 L 1.28125 0 L 3.46875 0 L 3.46875 -6.5 L 4.703125 -6.5 Z M 4.703125 -6.640625 \"/>\n",
       "</symbol>\n",
       "<symbol overflow=\"visible\" id=\"glyph0-12\">\n",
       "<path style=\"stroke:none;\" d=\"M 7.875 -3.859375 C 7.875 -6.640625 6.421875 -8.453125 4.046875 -8.453125 C 1.75 -8.453125 0.265625 -6.75 0.265625 -4.046875 C 0.265625 -1.46875 1.734375 0.140625 4.015625 0.140625 C 5.8125 0.140625 7.3125 -0.8125 7.8125 -2.53125 L 5.671875 -2.53125 C 5.4375 -1.8125 4.84375 -1.734375 4.078125 -1.734375 C 3.09375 -1.734375 2.515625 -2.046875 2.453125 -3.46875 L 7.84375 -3.46875 Z M 5.65625 -5.125 L 2.5 -5.125 C 2.625 -6.109375 3.09375 -6.59375 4.03125 -6.59375 C 4.921875 -6.59375 5.484375 -6.140625 5.578125 -5.125 Z M 5.65625 -5.125 \"/>\n",
       "</symbol>\n",
       "<symbol overflow=\"visible\" id=\"glyph1-0\">\n",
       "<path style=\"stroke:none;\" d=\"\"/>\n",
       "</symbol>\n",
       "<symbol overflow=\"visible\" id=\"glyph1-1\">\n",
       "<path style=\"stroke:none;\" d=\"M 6.8125 -0.15625 L 6.8125 -1.09375 C 6.578125 -1.046875 6.53125 -1.046875 6.46875 -1.046875 C 6.09375 -1.046875 6.03125 -1.09375 6.03125 -1.421875 L 6.03125 -5.078125 C 6.03125 -6.234375 5.046875 -7 3.4375 -7 C 1.84375 -7 0.734375 -6.25 0.65625 -4.609375 L 1.96875 -4.609375 C 2.078125 -5.53125 2.421875 -5.78125 3.40625 -5.78125 C 4.34375 -5.78125 4.71875 -5.546875 4.71875 -4.921875 L 4.71875 -4.65625 C 4.71875 -4.21875 4.59375 -4.15625 3.78125 -4.0625 C 2.296875 -3.875 2.078125 -3.828125 1.671875 -3.65625 C 0.90625 -3.34375 0.390625 -2.625 0.390625 -1.828125 C 0.390625 -0.640625 1.34375 0.1875 2.671875 0.1875 C 3.515625 0.1875 4.40625 -0.203125 4.828125 -0.640625 C 4.875 -0.40625 5.46875 0.09375 5.96875 0.09375 C 6.1875 0.09375 6.34375 0.0625 6.8125 -0.046875 Z M 4.71875 -2.390625 C 4.71875 -1.453125 3.90625 -0.984375 2.90625 -0.984375 C 2.09375 -0.984375 1.734375 -1.140625 1.734375 -1.84375 C 1.734375 -2.53125 2.078125 -2.71875 3.1875 -2.875 C 4.28125 -3.03125 4.515625 -3.078125 4.71875 -3.171875 Z M 4.71875 -2.390625 \"/>\n",
       "</symbol>\n",
       "<symbol overflow=\"visible\" id=\"glyph1-2\">\n",
       "<path style=\"stroke:none;\" d=\"M 6.234375 -1.203125 L 6.234375 -6.8125 L 5.015625 -6.8125 L 5.015625 -5.71875 L 5.234375 -5.8125 C 4.71875 -6.59375 3.984375 -7 3.15625 -7 C 1.484375 -7 0.21875 -5.46875 0.21875 -3.34375 C 0.21875 -1.28125 1.53125 0.1875 3.0625 0.1875 C 3.890625 0.1875 4.546875 -0.203125 5.234375 -1.03125 L 5.015625 -1.109375 L 5.015625 -0.671875 C 5.015625 1.0625 4.4375 1.59375 3.21875 1.59375 C 2.40625 1.59375 1.890625 1.421875 1.734375 0.484375 L 0.421875 0.484375 C 0.546875 1.859375 1.65625 2.71875 3.1875 2.71875 C 5.234375 2.71875 6.234375 1.6875 6.234375 -1.203125 Z M 4.90625 -3.359375 C 4.90625 -1.796875 4.375 -1.03125 3.28125 -1.03125 C 2.140625 -1.03125 1.578125 -1.8125 1.578125 -3.40625 C 1.578125 -4.96875 2.15625 -5.78125 3.265625 -5.78125 C 4.390625 -5.78125 4.90625 -4.953125 4.90625 -3.359375 Z M 4.90625 -3.359375 \"/>\n",
       "</symbol>\n",
       "<symbol overflow=\"visible\" id=\"glyph1-3\">\n",
       "<path style=\"stroke:none;\" d=\"M 6.53125 -3.09375 C 6.53125 -4.046875 6.46875 -4.65625 6.28125 -5.140625 C 5.84375 -6.21875 4.71875 -7 3.5 -7 C 1.671875 -7 0.359375 -5.515625 0.359375 -3.359375 C 0.359375 -1.21875 1.640625 0.1875 3.46875 0.1875 C 4.96875 0.1875 6.140625 -0.78125 6.421875 -2.25 L 5.125 -2.25 C 4.796875 -1.25 4.34375 -1.03125 3.515625 -1.03125 C 2.421875 -1.03125 1.734375 -1.59375 1.71875 -2.96875 L 6.53125 -2.96875 Z M 5.390625 -3.9375 C 5.390625 -3.9375 5.203125 -4.0625 5.21875 -4.09375 L 1.75 -4.09375 C 1.828125 -5.109375 2.4375 -5.78125 3.484375 -5.78125 C 4.515625 -5.78125 5.15625 -5.046875 5.15625 -4.03125 Z M 5.390625 -3.9375 \"/>\n",
       "</symbol>\n",
       "<symbol overflow=\"visible\" id=\"glyph1-4\">\n",
       "<path style=\"stroke:none;\" d=\"M 5.859375 -1.96875 C 5.859375 -2.9375 5.1875 -3.5625 3.890625 -3.875 L 2.890625 -4.109375 C 2.03125 -4.3125 1.796875 -4.453125 1.796875 -4.90625 C 1.796875 -5.515625 2.21875 -5.78125 3.0625 -5.78125 C 3.90625 -5.78125 4.21875 -5.53125 4.234375 -4.71875 L 5.59375 -4.71875 C 5.59375 -6.140625 4.609375 -7 3.09375 -7 C 1.578125 -7 0.453125 -6.078125 0.453125 -4.859375 C 0.453125 -3.84375 1.109375 -3.21875 2.65625 -2.84375 L 3.640625 -2.609375 C 4.359375 -2.4375 4.515625 -2.34375 4.515625 -1.875 C 4.515625 -1.265625 4.03125 -1.03125 3.125 -1.03125 C 2.1875 -1.03125 1.78125 -1.125 1.640625 -2.265625 L 0.28125 -2.265625 C 0.34375 -0.609375 1.328125 0.1875 3.03125 0.1875 C 4.6875 0.1875 5.859375 -0.703125 5.859375 -1.96875 Z M 5.859375 -1.96875 \"/>\n",
       "</symbol>\n",
       "<symbol overflow=\"visible\" id=\"glyph1-5\">\n",
       "<path style=\"stroke:none;\" d=\"M 6.625 -2.25 L 6.625 -3.375 L 5.3125 -3.375 L 5.3125 -9.125 L 4.296875 -9.125 L 0.21875 -3.453125 L 0.21875 -2.125 L 3.953125 -2.125 L 3.953125 0 L 5.3125 0 L 5.3125 -2.125 L 6.625 -2.125 Z M 4.09375 -3.375 L 1.5625 -3.375 L 4.171875 -7.03125 L 3.953125 -7.109375 L 3.953125 -3.375 Z M 4.09375 -3.375 \"/>\n",
       "</symbol>\n",
       "<symbol overflow=\"visible\" id=\"glyph1-6\">\n",
       "<path style=\"stroke:none;\" d=\"M 6.46875 -4.390625 C 6.46875 -7.46875 5.359375 -9.125 3.4375 -9.125 C 1.53125 -9.125 0.40625 -7.4375 0.40625 -4.46875 C 0.40625 -1.46875 1.53125 0.1875 3.4375 0.1875 C 5.3125 0.1875 6.46875 -1.46875 6.46875 -4.390625 Z M 5.078125 -4.484375 C 5.078125 -1.96875 4.640625 -0.984375 3.40625 -0.984375 C 2.25 -0.984375 1.78125 -2.03125 1.78125 -4.453125 C 1.78125 -6.875 2.25 -7.890625 3.4375 -7.890625 C 4.625 -7.890625 5.078125 -6.859375 5.078125 -4.484375 Z M 5.078125 -4.484375 \"/>\n",
       "</symbol>\n",
       "<symbol overflow=\"visible\" id=\"glyph1-7\">\n",
       "<path style=\"stroke:none;\" d=\"M 6.53125 -3.0625 C 6.53125 -4.8125 5.25 -6.09375 3.546875 -6.09375 C 2.921875 -6.09375 2.328125 -5.890625 2.09375 -5.71875 L 2.359375 -7.59375 L 6.078125 -7.59375 L 6.078125 -8.9375 L 1.25 -8.9375 L 0.546875 -4.03125 L 1.78125 -4.03125 C 2.328125 -4.6875 2.65625 -4.859375 3.34375 -4.859375 C 4.53125 -4.859375 5.15625 -4.21875 5.15625 -2.90625 C 5.15625 -1.640625 4.546875 -1.046875 3.34375 -1.046875 C 2.390625 -1.046875 1.921875 -1.40625 1.625 -2.53125 L 0.28125 -2.53125 C 0.65625 -0.640625 1.796875 0.1875 3.375 0.1875 C 5.15625 0.1875 6.53125 -1.1875 6.53125 -3.0625 Z M 6.53125 -3.0625 \"/>\n",
       "</symbol>\n",
       "<symbol overflow=\"visible\" id=\"glyph1-8\">\n",
       "<path style=\"stroke:none;\" d=\"M 6.53125 -2.875 C 6.53125 -4.53125 5.28125 -5.78125 3.703125 -5.78125 C 2.828125 -5.78125 2.03125 -5.390625 1.5625 -4.734375 L 1.78125 -4.65625 C 1.796875 -6.8125 2.375 -7.890625 3.640625 -7.890625 C 4.40625 -7.890625 4.8125 -7.53125 5.015625 -6.546875 L 6.375 -6.546875 C 6.140625 -8.125 5.0625 -9.125 3.71875 -9.125 C 1.65625 -9.125 0.40625 -7.25 0.40625 -4.15625 C 0.40625 -1.40625 1.484375 0.1875 3.515625 0.1875 C 5.203125 0.1875 6.53125 -1.140625 6.53125 -2.875 Z M 5.15625 -2.78125 C 5.15625 -1.671875 4.53125 -1.046875 3.53125 -1.046875 C 2.5 -1.046875 1.84375 -1.71875 1.84375 -2.84375 C 1.84375 -3.953125 2.46875 -4.53125 3.5625 -4.53125 C 4.625 -4.53125 5.15625 -3.96875 5.15625 -2.78125 Z M 5.15625 -2.78125 \"/>\n",
       "</symbol>\n",
       "<symbol overflow=\"visible\" id=\"glyph1-9\">\n",
       "<path style=\"stroke:none;\" d=\"M 6.625 -7.875 L 6.625 -8.9375 L 0.4375 -8.9375 L 0.4375 -7.59375 L 5.09375 -7.59375 C 3.5 -5.578125 2.21875 -2.90625 1.5625 0 L 3 0 C 3.515625 -2.984375 4.71875 -5.578125 6.625 -7.828125 Z M 6.625 -7.875 \"/>\n",
       "</symbol>\n",
       "<symbol overflow=\"visible\" id=\"glyph2-0\">\n",
       "<path style=\"stroke:none;\" d=\"\"/>\n",
       "</symbol>\n",
       "<symbol overflow=\"visible\" id=\"glyph2-1\">\n",
       "<path style=\"stroke:none;\" d=\"M -8.21875 -7.359375 L -9.375 -7.359375 L -9.375 -0.984375 L 0 -0.984375 L 0 -2.40625 L -4.15625 -2.40625 L -4.15625 -6.765625 L -5.4375 -6.765625 L -5.4375 -2.40625 L -8.09375 -2.40625 L -8.09375 -7.359375 Z M -8.21875 -7.359375 \"/>\n",
       "</symbol>\n",
       "<symbol overflow=\"visible\" id=\"glyph2-2\">\n",
       "<path style=\"stroke:none;\" d=\"M -5.765625 -4.140625 L -6.9375 -4.140625 C -6.984375 -3.84375 -7 -3.75 -7 -3.609375 C -7 -2.9375 -6.546875 -2.328125 -5.578125 -1.71875 L -5.484375 -1.953125 L -6.8125 -1.953125 L -6.8125 -0.734375 L 0 -0.734375 L 0 -2.03125 L -3.53125 -2.03125 C -5 -2.03125 -5.609375 -2.40625 -5.640625 -4.140625 Z M -5.765625 -4.140625 \"/>\n",
       "</symbol>\n",
       "<symbol overflow=\"visible\" id=\"glyph2-3\">\n",
       "<path style=\"stroke:none;\" d=\"M -3.09375 -6.53125 C -4.046875 -6.53125 -4.65625 -6.46875 -5.140625 -6.28125 C -6.21875 -5.84375 -7 -4.71875 -7 -3.5 C -7 -1.671875 -5.515625 -0.359375 -3.359375 -0.359375 C -1.21875 -0.359375 0.1875 -1.640625 0.1875 -3.46875 C 0.1875 -4.96875 -0.78125 -6.140625 -2.25 -6.421875 L -2.25 -5.125 C -1.25 -4.796875 -1.03125 -4.34375 -1.03125 -3.515625 C -1.03125 -2.421875 -1.59375 -1.734375 -2.96875 -1.71875 L -2.96875 -6.53125 Z M -3.9375 -5.390625 C -3.9375 -5.390625 -4.0625 -5.203125 -4.09375 -5.21875 L -4.09375 -1.75 C -5.109375 -1.828125 -5.78125 -2.4375 -5.78125 -3.484375 C -5.78125 -4.515625 -5.046875 -5.15625 -4.03125 -5.15625 Z M -3.9375 -5.390625 \"/>\n",
       "</symbol>\n",
       "<symbol overflow=\"visible\" id=\"glyph2-4\">\n",
       "<path style=\"stroke:none;\" d=\"M 2.59375 -6.3125 L -6.8125 -6.3125 L -6.8125 -5.125 L -5.796875 -5.125 L -5.890625 -5.34375 C -6.578125 -4.859375 -7 -4.03125 -7 -3.171875 C -7 -1.453125 -5.5 -0.1875 -3.328125 -0.1875 C -1.203125 -0.1875 0.1875 -1.40625 0.1875 -3.125 C 0.1875 -4.03125 -0.171875 -4.75 -0.890625 -5.234375 L -0.96875 -5.015625 L 2.71875 -5.015625 L 2.71875 -6.3125 Z M -3.359375 -5.015625 C -1.859375 -5.015625 -1.046875 -4.421875 -1.046875 -3.328125 C -1.046875 -2.171875 -1.875 -1.53125 -3.40625 -1.53125 C -4.90625 -1.53125 -5.765625 -2.171875 -5.765625 -3.328125 C -5.765625 -4.4375 -4.890625 -5.015625 -3.359375 -5.015625 Z M -3.359375 -5.015625 \"/>\n",
       "</symbol>\n",
       "<symbol overflow=\"visible\" id=\"glyph2-5\">\n",
       "<path style=\"stroke:none;\" d=\"M -0.125 -6.15625 L -6.8125 -6.15625 L -6.8125 -4.84375 L -3.0625 -4.84375 C -1.71875 -4.84375 -0.984375 -4.28125 -0.984375 -3.203125 C -0.984375 -2.375 -1.34375 -1.96875 -2.140625 -1.96875 L -6.8125 -1.96875 L -6.8125 -0.671875 L -1.71875 -0.671875 C -0.640625 -0.671875 0.1875 -1.625 0.1875 -2.90625 C 0.1875 -3.859375 -0.1875 -4.5625 -1.046875 -5.171875 L -1.140625 -4.953125 L 0 -4.953125 L 0 -6.15625 Z M -0.125 -6.15625 \"/>\n",
       "</symbol>\n",
       "<symbol overflow=\"visible\" id=\"glyph2-6\">\n",
       "<path style=\"stroke:none;\" d=\"M -0.125 -6.21875 L -5.078125 -6.21875 C -6.15625 -6.21875 -7 -5.28125 -7 -4.015625 C -7 -3.03125 -6.578125 -2.3125 -5.65625 -1.734375 L -5.578125 -1.96875 L -6.8125 -1.96875 L -6.8125 -0.734375 L 0 -0.734375 L 0 -2.03125 L -3.734375 -2.03125 C -5.078125 -2.03125 -5.828125 -2.640625 -5.828125 -3.703125 C -5.828125 -4.53125 -5.453125 -4.90625 -4.65625 -4.90625 L 0 -4.90625 L 0 -6.21875 Z M -0.125 -6.21875 \"/>\n",
       "</symbol>\n",
       "<symbol overflow=\"visible\" id=\"glyph2-7\">\n",
       "<path style=\"stroke:none;\" d=\"M -2.515625 -5.96875 L -2.515625 -4.796875 C -1.328125 -4.59375 -1.03125 -4.203125 -1.03125 -3.3125 C -1.03125 -2.15625 -1.78125 -1.59375 -3.34375 -1.59375 C -4.96875 -1.59375 -5.78125 -2.15625 -5.78125 -3.28125 C -5.78125 -4.15625 -5.390625 -4.578125 -4.34375 -4.71875 L -4.34375 -6.03125 C -6.078125 -5.890625 -7 -4.765625 -7 -3.296875 C -7 -1.53125 -5.515625 -0.25 -3.34375 -0.25 C -1.21875 -0.25 0.1875 -1.515625 0.1875 -3.28125 C 0.1875 -4.84375 -0.875 -5.96875 -2.515625 -6.09375 Z M -2.515625 -5.96875 \"/>\n",
       "</symbol>\n",
       "<symbol overflow=\"visible\" id=\"glyph2-8\">\n",
       "<path style=\"stroke:none;\" d=\"M -6.8125 -5.96875 L -6.8125 -4.765625 L -1.578125 -2.90625 L -1.578125 -3.15625 L -6.8125 -1.453125 L -6.8125 -0.0625 L -0.09375 -2.328125 L 0.9375 -1.921875 C 1.40625 -1.75 1.4375 -1.671875 1.4375 -1.21875 C 1.4375 -1.078125 1.40625 -0.90625 1.34375 -0.53125 L 2.515625 -0.53125 C 2.640625 -0.78125 2.71875 -1.09375 2.71875 -1.375 C 2.71875 -2.109375 2.1875 -2.84375 1.25 -3.1875 L -6.8125 -6.15625 Z M -6.8125 -5.96875 \"/>\n",
       "</symbol>\n",
       "<symbol overflow=\"visible\" id=\"glyph2-9\">\n",
       "<path style=\"stroke:none;\" d=\"M -4.390625 -6.46875 C -7.46875 -6.46875 -9.125 -5.359375 -9.125 -3.4375 C -9.125 -1.53125 -7.4375 -0.40625 -4.46875 -0.40625 C -1.46875 -0.40625 0.1875 -1.53125 0.1875 -3.4375 C 0.1875 -5.3125 -1.46875 -6.46875 -4.390625 -6.46875 Z M -4.484375 -5.078125 C -1.96875 -5.078125 -0.984375 -4.640625 -0.984375 -3.40625 C -0.984375 -2.25 -2.03125 -1.78125 -4.453125 -1.78125 C -6.875 -1.78125 -7.890625 -2.25 -7.890625 -3.4375 C -7.890625 -4.625 -6.859375 -5.078125 -4.484375 -5.078125 Z M -4.484375 -5.078125 \"/>\n",
       "</symbol>\n",
       "<symbol overflow=\"visible\" id=\"glyph2-10\">\n",
       "<path style=\"stroke:none;\" d=\"M -3.0625 -6.53125 C -4.8125 -6.53125 -6.09375 -5.25 -6.09375 -3.546875 C -6.09375 -2.921875 -5.890625 -2.328125 -5.71875 -2.09375 L -7.59375 -2.359375 L -7.59375 -6.078125 L -8.9375 -6.078125 L -8.9375 -1.25 L -4.03125 -0.546875 L -4.03125 -1.78125 C -4.6875 -2.328125 -4.859375 -2.65625 -4.859375 -3.34375 C -4.859375 -4.53125 -4.21875 -5.15625 -2.90625 -5.15625 C -1.640625 -5.15625 -1.046875 -4.546875 -1.046875 -3.34375 C -1.046875 -2.390625 -1.40625 -1.921875 -2.53125 -1.625 L -2.53125 -0.28125 C -0.640625 -0.65625 0.1875 -1.796875 0.1875 -3.375 C 0.1875 -5.15625 -1.1875 -6.53125 -3.0625 -6.53125 Z M -3.0625 -6.53125 \"/>\n",
       "</symbol>\n",
       "<symbol overflow=\"visible\" id=\"glyph2-11\">\n",
       "<path style=\"stroke:none;\" d=\"M -0.125 -4.46875 L -9.125 -4.46875 L -9.125 -3.515625 C -7.625 -3.09375 -7.578125 -2.96875 -7.34375 -1.140625 L -6.3125 -1.140625 L -6.3125 -3.09375 L 0 -3.09375 L 0 -4.46875 Z M -0.125 -4.46875 \"/>\n",
       "</symbol>\n",
       "</g>\n",
       "</defs>\n",
       "<g id=\"surface1126\">\n",
       "<rect x=\"0\" y=\"0\" width=\"288\" height=\"216\" style=\"fill:rgb(100%,100%,100%);fill-opacity:1;stroke:none;\"/>\n",
       "<g style=\"fill:rgb(0%,0%,0%);fill-opacity:1;\">\n",
       "  <use xlink:href=\"#glyph0-1\" x=\"93.378906\" y=\"35.089844\"/>\n",
       "  <use xlink:href=\"#glyph0-2\" x=\"104.141159\" y=\"35.089844\"/>\n",
       "  <use xlink:href=\"#glyph0-3\" x=\"108.28508\" y=\"35.089844\"/>\n",
       "  <use xlink:href=\"#glyph0-4\" x=\"116.572906\" y=\"35.089844\"/>\n",
       "  <use xlink:href=\"#glyph0-5\" x=\"121.536667\" y=\"35.089844\"/>\n",
       "  <use xlink:href=\"#glyph0-6\" x=\"130.644333\" y=\"35.089844\"/>\n",
       "  <use xlink:href=\"#glyph0-7\" x=\"139.751999\" y=\"35.089844\"/>\n",
       "  <use xlink:href=\"#glyph0-8\" x=\"145.550491\" y=\"35.089844\"/>\n",
       "  <use xlink:href=\"#glyph0-9\" x=\"153.838318\" y=\"35.089844\"/>\n",
       "  <use xlink:href=\"#glyph0-10\" x=\"167.089905\" y=\"35.089844\"/>\n",
       "  <use xlink:href=\"#glyph0-5\" x=\"171.233826\" y=\"35.089844\"/>\n",
       "  <use xlink:href=\"#glyph0-11\" x=\"180.341492\" y=\"35.089844\"/>\n",
       "  <use xlink:href=\"#glyph0-10\" x=\"185.305252\" y=\"35.089844\"/>\n",
       "  <use xlink:href=\"#glyph0-8\" x=\"189.449173\" y=\"35.089844\"/>\n",
       "  <use xlink:href=\"#glyph0-6\" x=\"197.737\" y=\"35.089844\"/>\n",
       "  <use xlink:href=\"#glyph0-12\" x=\"206.844666\" y=\"35.089844\"/>\n",
       "  <use xlink:href=\"#glyph0-3\" x=\"215.132492\" y=\"35.089844\"/>\n",
       "</g>\n",
       "<g style=\"fill:rgb(0%,0%,0%);fill-opacity:1;\">\n",
       "  <use xlink:href=\"#glyph1-1\" x=\"144.847656\" y=\"198.71875\"/>\n",
       "  <use xlink:href=\"#glyph1-2\" x=\"151.797684\" y=\"198.71875\"/>\n",
       "  <use xlink:href=\"#glyph1-3\" x=\"158.747711\" y=\"198.71875\"/>\n",
       "  <use xlink:href=\"#glyph1-4\" x=\"165.697739\" y=\"198.71875\"/>\n",
       "</g>\n",
       "<g style=\"fill:rgb(0%,0%,0%);fill-opacity:1;\">\n",
       "  <use xlink:href=\"#glyph2-1\" x=\"14.398438\" y=\"130.324219\"/>\n",
       "  <use xlink:href=\"#glyph2-2\" x=\"14.398438\" y=\"122.686691\"/>\n",
       "  <use xlink:href=\"#glyph2-3\" x=\"14.398438\" y=\"118.52417\"/>\n",
       "  <use xlink:href=\"#glyph2-4\" x=\"14.398438\" y=\"111.574142\"/>\n",
       "  <use xlink:href=\"#glyph2-5\" x=\"14.398438\" y=\"104.624115\"/>\n",
       "  <use xlink:href=\"#glyph2-3\" x=\"14.398438\" y=\"97.674088\"/>\n",
       "  <use xlink:href=\"#glyph2-6\" x=\"14.398438\" y=\"90.72406\"/>\n",
       "  <use xlink:href=\"#glyph2-7\" x=\"14.398438\" y=\"83.774033\"/>\n",
       "  <use xlink:href=\"#glyph2-8\" x=\"14.398438\" y=\"77.524002\"/>\n",
       "</g>\n",
       "<path style=\"fill:none;stroke-width:1;stroke-linecap:round;stroke-linejoin:round;stroke:rgb(0%,0%,0%);stroke-opacity:1;stroke-miterlimit:10;\" d=\"M 66.398438 142.558594 L 250.398438 142.558594 \"/>\n",
       "<path style=\"fill:none;stroke-width:1;stroke-linecap:round;stroke-linejoin:round;stroke:rgb(0%,0%,0%);stroke-opacity:1;stroke-miterlimit:10;\" d=\"M 66.398438 142.558594 L 66.398438 149.761719 \"/>\n",
       "<path style=\"fill:none;stroke-width:1;stroke-linecap:round;stroke-linejoin:round;stroke:rgb(0%,0%,0%);stroke-opacity:1;stroke-miterlimit:10;\" d=\"M 97.066406 142.558594 L 97.066406 149.761719 \"/>\n",
       "<path style=\"fill:none;stroke-width:1;stroke-linecap:round;stroke-linejoin:round;stroke:rgb(0%,0%,0%);stroke-opacity:1;stroke-miterlimit:10;\" d=\"M 127.734375 142.558594 L 127.734375 149.761719 \"/>\n",
       "<path style=\"fill:none;stroke-width:1;stroke-linecap:round;stroke-linejoin:round;stroke:rgb(0%,0%,0%);stroke-opacity:1;stroke-miterlimit:10;\" d=\"M 158.398438 142.558594 L 158.398438 149.761719 \"/>\n",
       "<path style=\"fill:none;stroke-width:1;stroke-linecap:round;stroke-linejoin:round;stroke:rgb(0%,0%,0%);stroke-opacity:1;stroke-miterlimit:10;\" d=\"M 189.066406 142.558594 L 189.066406 149.761719 \"/>\n",
       "<path style=\"fill:none;stroke-width:1;stroke-linecap:round;stroke-linejoin:round;stroke:rgb(0%,0%,0%);stroke-opacity:1;stroke-miterlimit:10;\" d=\"M 219.734375 142.558594 L 219.734375 149.761719 \"/>\n",
       "<path style=\"fill:none;stroke-width:1;stroke-linecap:round;stroke-linejoin:round;stroke:rgb(0%,0%,0%);stroke-opacity:1;stroke-miterlimit:10;\" d=\"M 250.398438 142.558594 L 250.398438 149.761719 \"/>\n",
       "<g style=\"fill:rgb(0%,0%,0%);fill-opacity:1;\">\n",
       "  <use xlink:href=\"#glyph1-5\" x=\"59.449219\" y=\"169.921875\"/>\n",
       "  <use xlink:href=\"#glyph1-6\" x=\"66.399246\" y=\"169.921875\"/>\n",
       "</g>\n",
       "<g style=\"fill:rgb(0%,0%,0%);fill-opacity:1;\">\n",
       "  <use xlink:href=\"#glyph1-5\" x=\"90.117188\" y=\"169.921875\"/>\n",
       "  <use xlink:href=\"#glyph1-7\" x=\"97.067215\" y=\"169.921875\"/>\n",
       "</g>\n",
       "<g style=\"fill:rgb(0%,0%,0%);fill-opacity:1;\">\n",
       "  <use xlink:href=\"#glyph1-7\" x=\"120.785156\" y=\"169.921875\"/>\n",
       "  <use xlink:href=\"#glyph1-6\" x=\"127.735184\" y=\"169.921875\"/>\n",
       "</g>\n",
       "<g style=\"fill:rgb(0%,0%,0%);fill-opacity:1;\">\n",
       "  <use xlink:href=\"#glyph1-7\" x=\"151.449219\" y=\"169.921875\"/>\n",
       "  <use xlink:href=\"#glyph1-7\" x=\"158.399246\" y=\"169.921875\"/>\n",
       "</g>\n",
       "<g style=\"fill:rgb(0%,0%,0%);fill-opacity:1;\">\n",
       "  <use xlink:href=\"#glyph1-8\" x=\"182.117188\" y=\"169.921875\"/>\n",
       "  <use xlink:href=\"#glyph1-6\" x=\"189.067215\" y=\"169.921875\"/>\n",
       "</g>\n",
       "<g style=\"fill:rgb(0%,0%,0%);fill-opacity:1;\">\n",
       "  <use xlink:href=\"#glyph1-8\" x=\"212.785156\" y=\"169.921875\"/>\n",
       "  <use xlink:href=\"#glyph1-7\" x=\"219.735184\" y=\"169.921875\"/>\n",
       "</g>\n",
       "<g style=\"fill:rgb(0%,0%,0%);fill-opacity:1;\">\n",
       "  <use xlink:href=\"#glyph1-9\" x=\"243.449219\" y=\"169.921875\"/>\n",
       "  <use xlink:href=\"#glyph1-6\" x=\"250.399246\" y=\"169.921875\"/>\n",
       "</g>\n",
       "<path style=\"fill:none;stroke-width:1;stroke-linecap:round;stroke-linejoin:round;stroke:rgb(0%,0%,0%);stroke-opacity:1;stroke-miterlimit:10;\" d=\"M 59.039062 139.464844 L 59.039062 66.964844 \"/>\n",
       "<path style=\"fill:none;stroke-width:1;stroke-linecap:round;stroke-linejoin:round;stroke:rgb(0%,0%,0%);stroke-opacity:1;stroke-miterlimit:10;\" d=\"M 59.039062 139.464844 L 51.839844 139.464844 \"/>\n",
       "<path style=\"fill:none;stroke-width:1;stroke-linecap:round;stroke-linejoin:round;stroke:rgb(0%,0%,0%);stroke-opacity:1;stroke-miterlimit:10;\" d=\"M 59.039062 115.300781 L 51.839844 115.300781 \"/>\n",
       "<path style=\"fill:none;stroke-width:1;stroke-linecap:round;stroke-linejoin:round;stroke:rgb(0%,0%,0%);stroke-opacity:1;stroke-miterlimit:10;\" d=\"M 59.039062 91.132812 L 51.839844 91.132812 \"/>\n",
       "<path style=\"fill:none;stroke-width:1;stroke-linecap:round;stroke-linejoin:round;stroke:rgb(0%,0%,0%);stroke-opacity:1;stroke-miterlimit:10;\" d=\"M 59.039062 66.964844 L 51.839844 66.964844 \"/>\n",
       "<g style=\"fill:rgb(0%,0%,0%);fill-opacity:1;\">\n",
       "  <use xlink:href=\"#glyph2-9\" x=\"43.199219\" y=\"142.941406\"/>\n",
       "</g>\n",
       "<g style=\"fill:rgb(0%,0%,0%);fill-opacity:1;\">\n",
       "  <use xlink:href=\"#glyph2-10\" x=\"43.199219\" y=\"118.777344\"/>\n",
       "</g>\n",
       "<g style=\"fill:rgb(0%,0%,0%);fill-opacity:1;\">\n",
       "  <use xlink:href=\"#glyph2-11\" x=\"43.199219\" y=\"98.082031\"/>\n",
       "  <use xlink:href=\"#glyph2-9\" x=\"43.199219\" y=\"91.132004\"/>\n",
       "</g>\n",
       "<path style=\"fill:none;stroke-width:1;stroke-linecap:round;stroke-linejoin:round;stroke:rgb(0%,0%,0%);stroke-opacity:1;stroke-miterlimit:10;\" d=\"M 66.398438 129.800781 L 97.066406 129.800781 L 97.066406 139.46875 L 66.398438 139.46875 Z M 66.398438 129.800781 \"/>\n",
       "<path style=\"fill:none;stroke-width:1;stroke-linecap:round;stroke-linejoin:round;stroke:rgb(0%,0%,0%);stroke-opacity:1;stroke-miterlimit:10;\" d=\"M 97.066406 105.632812 L 127.734375 105.632812 L 127.734375 139.464844 L 97.066406 139.464844 Z M 97.066406 105.632812 \"/>\n",
       "<path style=\"fill:none;stroke-width:1;stroke-linecap:round;stroke-linejoin:round;stroke:rgb(0%,0%,0%);stroke-opacity:1;stroke-miterlimit:10;\" d=\"M 127.734375 62.132812 L 158.402344 62.132812 L 158.402344 139.464844 L 127.734375 139.464844 Z M 127.734375 62.132812 \"/>\n",
       "<path style=\"fill:none;stroke-width:1;stroke-linecap:round;stroke-linejoin:round;stroke:rgb(0%,0%,0%);stroke-opacity:1;stroke-miterlimit:10;\" d=\"M 158.398438 95.964844 L 189.066406 95.964844 L 189.066406 139.464844 L 158.398438 139.464844 Z M 158.398438 95.964844 \"/>\n",
       "<path style=\"fill:none;stroke-width:1;stroke-linecap:round;stroke-linejoin:round;stroke:rgb(0%,0%,0%);stroke-opacity:1;stroke-miterlimit:10;\" d=\"M 189.066406 105.632812 L 219.734375 105.632812 L 219.734375 139.464844 L 189.066406 139.464844 Z M 189.066406 105.632812 \"/>\n",
       "<path style=\"fill:none;stroke-width:1;stroke-linecap:round;stroke-linejoin:round;stroke:rgb(0%,0%,0%);stroke-opacity:1;stroke-miterlimit:10;\" d=\"M 219.734375 129.800781 L 250.402344 129.800781 L 250.402344 139.46875 L 219.734375 139.46875 Z M 219.734375 129.800781 \"/>\n",
       "</g>\n",
       "</svg>\n"
      ]
     },
     "metadata": {
      "image/svg+xml": {
       "isolated": true
      }
     },
     "output_type": "display_data"
    },
    {
     "data": {
      "image/jpeg": "[encoded data removed]",
      "image/png": "",
      "image/svg+xml": [
       "<?xml version=\"1.0\" encoding=\"UTF-8\"?>\n",
       "<svg xmlns=\"http://www.w3.org/2000/svg\" xmlns:xlink=\"http://www.w3.org/1999/xlink\" width=\"288pt\" height=\"216pt\" viewBox=\"0 0 288 216\" version=\"1.1\">\n",
       "<defs>\n",
       "<g>\n",
       "<symbol overflow=\"visible\" id=\"glyph0-0\">\n",
       "<path style=\"stroke:none;\" d=\"\"/>\n",
       "</symbol>\n",
       "<symbol overflow=\"visible\" id=\"glyph0-1\">\n",
       "<path style=\"stroke:none;\" d=\"M 9.84375 -0.140625 L 9.84375 -11.140625 L 7.5 -11.140625 L 7.5 -7.0625 L 3.296875 -7.0625 L 3.296875 -11.140625 L 0.953125 -11.140625 L 0.953125 0 L 3.296875 0 L 3.296875 -4.9375 L 7.5 -4.9375 L 7.5 0 L 9.84375 0 Z M 9.84375 -0.140625 \"/>\n",
       "</symbol>\n",
       "<symbol overflow=\"visible\" id=\"glyph0-2\">\n",
       "<path style=\"stroke:none;\" d=\"M 3.125 -0.140625 L 3.125 -8.3125 L 0.9375 -8.3125 L 0.9375 0 L 3.125 0 Z M 3.15625 -9.15625 L 3.15625 -11.375 L 0.96875 -11.375 L 0.96875 -9.015625 L 3.15625 -9.015625 Z M 3.15625 -9.15625 \"/>\n",
       "</symbol>\n",
       "<symbol overflow=\"visible\" id=\"glyph0-3\">\n",
       "<path style=\"stroke:none;\" d=\"M 7.796875 -2.515625 L 7.796875 -2.625 C 7.796875 -3.546875 7.234375 -4.375 6.171875 -4.6875 L 3.53125 -5.4375 C 2.953125 -5.609375 2.84375 -5.609375 2.84375 -5.9375 C 2.84375 -6.375 3.28125 -6.546875 4.015625 -6.546875 C 5.015625 -6.546875 5.4375 -6.3125 5.453125 -5.453125 L 7.578125 -5.453125 C 7.546875 -7.296875 6.1875 -8.453125 4.03125 -8.453125 C 1.984375 -8.453125 0.65625 -7.296875 0.65625 -5.640625 C 0.65625 -4.65625 0.984375 -3.984375 2.46875 -3.515625 L 4.96875 -2.75 C 5.484375 -2.578125 5.609375 -2.546875 5.609375 -2.328125 C 5.609375 -1.828125 5.078125 -1.78125 4.109375 -1.78125 C 3.15625 -1.78125 2.703125 -1.8125 2.484375 -2.8125 L 0.375 -2.8125 C 0.4375 -0.921875 1.78125 0.140625 4.234375 0.140625 C 6.5 0.140625 7.796875 -0.890625 7.796875 -2.515625 Z M 7.796875 -2.515625 \"/>\n",
       "</symbol>\n",
       "<symbol overflow=\"visible\" id=\"glyph0-4\">\n",
       "<path style=\"stroke:none;\" d=\"M 4.53125 -0.140625 L 4.53125 -1.734375 C 4.28125 -1.703125 4.15625 -1.6875 4.015625 -1.6875 C 3.453125 -1.6875 3.375 -1.71875 3.375 -2.4375 L 3.375 -6.5 L 4.53125 -6.5 L 4.53125 -8.15625 L 3.375 -8.15625 L 3.375 -10.3125 L 1.171875 -10.3125 L 1.171875 -8.15625 L 0.15625 -8.15625 L 0.15625 -6.5 L 1.171875 -6.5 L 1.171875 -1.859375 C 1.171875 -0.59375 1.90625 0.0625 3.28125 0.0625 C 3.734375 0.0625 4.109375 0.015625 4.53125 0 Z M 4.53125 -0.140625 \"/>\n",
       "</symbol>\n",
       "<symbol overflow=\"visible\" id=\"glyph0-5\">\n",
       "<path style=\"stroke:none;\" d=\"M 8.53125 -4.09375 C 8.53125 -6.828125 7 -8.453125 4.484375 -8.453125 C 2.03125 -8.453125 0.46875 -6.796875 0.46875 -4.15625 C 0.46875 -1.5 2.03125 0.140625 4.5 0.140625 C 6.953125 0.140625 8.53125 -1.515625 8.53125 -4.09375 Z M 6.328125 -4.125 C 6.328125 -2.625 5.625 -1.8125 4.5 -1.8125 C 3.375 -1.8125 2.65625 -2.625 2.65625 -4.15625 C 2.65625 -5.6875 3.375 -6.5 4.5 -6.5 C 5.65625 -6.5 6.328125 -5.703125 6.328125 -4.125 Z M 6.328125 -4.125 \"/>\n",
       "</symbol>\n",
       "<symbol overflow=\"visible\" id=\"glyph0-6\">\n",
       "<path style=\"stroke:none;\" d=\"M 8.109375 0.140625 L 8.109375 -8.3125 L 6.015625 -8.3125 L 6.015625 -7.15625 C 5.484375 -7.984375 4.765625 -8.453125 3.84375 -8.453125 C 1.9375 -8.453125 0.453125 -6.5625 0.453125 -4.0625 C 0.453125 -1.5625 1.8125 0.140625 3.796875 0.140625 C 4.734375 0.140625 5.34375 -0.171875 6.015625 -0.875 L 6.015625 0.140625 C 6.015625 1.109375 5.34375 1.640625 4.3125 1.640625 C 3.515625 1.640625 3.046875 1.453125 2.828125 0.703125 L 0.609375 0.703125 C 0.640625 2.140625 2.03125 3.25 4.234375 3.25 C 6.65625 3.25 8.109375 2.03125 8.109375 0.140625 Z M 6.046875 -4.09375 C 6.046875 -2.640625 5.34375 -1.875 4.265625 -1.875 C 3.28125 -1.875 2.640625 -2.640625 2.640625 -4.09375 C 2.640625 -5.625 3.28125 -6.4375 4.296875 -6.4375 C 5.34375 -6.4375 6.046875 -5.59375 6.046875 -4.09375 Z M 6.046875 -4.09375 \"/>\n",
       "</symbol>\n",
       "<symbol overflow=\"visible\" id=\"glyph0-7\">\n",
       "<path style=\"stroke:none;\" d=\"M 5.5625 -6.1875 L 5.5625 -8.421875 C 5.390625 -8.453125 5.328125 -8.453125 5.265625 -8.453125 C 4.3125 -8.453125 3.40625 -7.6875 3.078125 -6.828125 L 3.078125 -8.3125 L 0.875 -8.3125 L 0.875 0 L 3.078125 0 L 3.078125 -4.40625 C 3.078125 -5.640625 3.640625 -6.109375 4.859375 -6.109375 C 5.078125 -6.109375 5.234375 -6.09375 5.5625 -6.03125 Z M 5.5625 -6.1875 \"/>\n",
       "</symbol>\n",
       "<symbol overflow=\"visible\" id=\"glyph0-8\">\n",
       "<path style=\"stroke:none;\" d=\"M 7.859375 -0.140625 L 7.859375 -0.46875 C 7.46875 -0.8125 7.375 -0.953125 7.375 -1.375 L 7.375 -5.84375 C 7.375 -7.484375 6.21875 -8.453125 4.046875 -8.453125 C 1.859375 -8.453125 0.671875 -7.390625 0.53125 -5.390625 L 2.640625 -5.390625 C 2.75 -6.359375 3.0625 -6.5 4.078125 -6.5 C 4.890625 -6.5 5.234375 -6.359375 5.234375 -5.828125 C 5.234375 -4.984375 4.671875 -5.203125 3.625 -5.015625 L 2.78125 -4.875 C 1.1875 -4.59375 0.359375 -3.765625 0.359375 -2.3125 C 0.359375 -0.75 1.515625 0.140625 2.859375 0.140625 C 3.75 0.140625 4.609375 -0.28125 5.25 -0.96875 C 5.25 -0.734375 5.3125 -0.265625 5.53125 0 L 7.859375 0 Z M 5.234375 -3.578125 C 5.234375 -2.375 4.703125 -1.8125 3.640625 -1.8125 C 2.9375 -1.8125 2.546875 -1.953125 2.546875 -2.546875 C 2.546875 -3.15625 2.828125 -3.25 3.703125 -3.40625 L 4.40625 -3.546875 C 4.96875 -3.65625 5.078125 -3.71875 5.234375 -3.796875 Z M 5.234375 -3.578125 \"/>\n",
       "</symbol>\n",
       "<symbol overflow=\"visible\" id=\"glyph0-9\">\n",
       "<path style=\"stroke:none;\" d=\"M 12.328125 -0.140625 L 12.328125 -5.828125 C 12.328125 -7.390625 11.328125 -8.453125 9.71875 -8.453125 C 8.703125 -8.453125 7.9375 -8.046875 7.359375 -7.28125 C 7 -7.96875 6.171875 -8.453125 5.171875 -8.453125 C 4.25 -8.453125 3.609375 -8.09375 3.015625 -7.375 L 3.015625 -8.3125 L 0.828125 -8.3125 L 0.828125 0 L 3.03125 0 L 3.03125 -4.96875 C 3.03125 -5.953125 3.515625 -6.40625 4.40625 -6.40625 C 5.109375 -6.40625 5.484375 -6.140625 5.484375 -5.5 L 5.484375 0 L 7.671875 0 L 7.671875 -4.96875 C 7.671875 -5.953125 8.171875 -6.40625 9.0625 -6.40625 C 9.765625 -6.40625 10.140625 -6.140625 10.140625 -5.5 L 10.140625 0 L 12.328125 0 Z M 12.328125 -0.140625 \"/>\n",
       "</symbol>\n",
       "<symbol overflow=\"visible\" id=\"glyph0-10\">\n",
       "<path style=\"stroke:none;\" d=\"\"/>\n",
       "</symbol>\n",
       "<symbol overflow=\"visible\" id=\"glyph0-11\">\n",
       "<path style=\"stroke:none;\" d=\"M 4.703125 -6.640625 L 4.703125 -8.15625 L 3.46875 -8.15625 L 3.46875 -8.8125 C 3.46875 -9.234375 3.609375 -9.296875 4 -9.296875 C 4.171875 -9.296875 4.40625 -9.28125 4.640625 -9.234375 L 4.640625 -11.09375 C 4.203125 -11.125 3.6875 -11.140625 3.40625 -11.140625 C 2.015625 -11.140625 1.28125 -10.34375 1.28125 -8.984375 L 1.28125 -8.15625 L 0.15625 -8.15625 L 0.15625 -6.5 L 1.28125 -6.5 L 1.28125 0 L 3.46875 0 L 3.46875 -6.5 L 4.703125 -6.5 Z M 4.703125 -6.640625 \"/>\n",
       "</symbol>\n",
       "<symbol overflow=\"visible\" id=\"glyph0-12\">\n",
       "<path style=\"stroke:none;\" d=\"M 7.875 -3.859375 C 7.875 -6.640625 6.421875 -8.453125 4.046875 -8.453125 C 1.75 -8.453125 0.265625 -6.75 0.265625 -4.046875 C 0.265625 -1.46875 1.734375 0.140625 4.015625 0.140625 C 5.8125 0.140625 7.3125 -0.8125 7.8125 -2.53125 L 5.671875 -2.53125 C 5.4375 -1.8125 4.84375 -1.734375 4.078125 -1.734375 C 3.09375 -1.734375 2.515625 -2.046875 2.453125 -3.46875 L 7.84375 -3.46875 Z M 5.65625 -5.125 L 2.5 -5.125 C 2.625 -6.109375 3.09375 -6.59375 4.03125 -6.59375 C 4.921875 -6.59375 5.484375 -6.140625 5.578125 -5.125 Z M 5.65625 -5.125 \"/>\n",
       "</symbol>\n",
       "<symbol overflow=\"visible\" id=\"glyph1-0\">\n",
       "<path style=\"stroke:none;\" d=\"\"/>\n",
       "</symbol>\n",
       "<symbol overflow=\"visible\" id=\"glyph1-1\">\n",
       "<path style=\"stroke:none;\" d=\"M 6.8125 -0.15625 L 6.8125 -1.09375 C 6.578125 -1.046875 6.53125 -1.046875 6.46875 -1.046875 C 6.09375 -1.046875 6.03125 -1.09375 6.03125 -1.421875 L 6.03125 -5.078125 C 6.03125 -6.234375 5.046875 -7 3.4375 -7 C 1.84375 -7 0.734375 -6.25 0.65625 -4.609375 L 1.96875 -4.609375 C 2.078125 -5.53125 2.421875 -5.78125 3.40625 -5.78125 C 4.34375 -5.78125 4.71875 -5.546875 4.71875 -4.921875 L 4.71875 -4.65625 C 4.71875 -4.21875 4.59375 -4.15625 3.78125 -4.0625 C 2.296875 -3.875 2.078125 -3.828125 1.671875 -3.65625 C 0.90625 -3.34375 0.390625 -2.625 0.390625 -1.828125 C 0.390625 -0.640625 1.34375 0.1875 2.671875 0.1875 C 3.515625 0.1875 4.40625 -0.203125 4.828125 -0.640625 C 4.875 -0.40625 5.46875 0.09375 5.96875 0.09375 C 6.1875 0.09375 6.34375 0.0625 6.8125 -0.046875 Z M 4.71875 -2.390625 C 4.71875 -1.453125 3.90625 -0.984375 2.90625 -0.984375 C 2.09375 -0.984375 1.734375 -1.140625 1.734375 -1.84375 C 1.734375 -2.53125 2.078125 -2.71875 3.1875 -2.875 C 4.28125 -3.03125 4.515625 -3.078125 4.71875 -3.171875 Z M 4.71875 -2.390625 \"/>\n",
       "</symbol>\n",
       "<symbol overflow=\"visible\" id=\"glyph1-2\">\n",
       "<path style=\"stroke:none;\" d=\"M 6.234375 -1.203125 L 6.234375 -6.8125 L 5.015625 -6.8125 L 5.015625 -5.71875 L 5.234375 -5.8125 C 4.71875 -6.59375 3.984375 -7 3.15625 -7 C 1.484375 -7 0.21875 -5.46875 0.21875 -3.34375 C 0.21875 -1.28125 1.53125 0.1875 3.0625 0.1875 C 3.890625 0.1875 4.546875 -0.203125 5.234375 -1.03125 L 5.015625 -1.109375 L 5.015625 -0.671875 C 5.015625 1.0625 4.4375 1.59375 3.21875 1.59375 C 2.40625 1.59375 1.890625 1.421875 1.734375 0.484375 L 0.421875 0.484375 C 0.546875 1.859375 1.65625 2.71875 3.1875 2.71875 C 5.234375 2.71875 6.234375 1.6875 6.234375 -1.203125 Z M 4.90625 -3.359375 C 4.90625 -1.796875 4.375 -1.03125 3.28125 -1.03125 C 2.140625 -1.03125 1.578125 -1.8125 1.578125 -3.40625 C 1.578125 -4.96875 2.15625 -5.78125 3.265625 -5.78125 C 4.390625 -5.78125 4.90625 -4.953125 4.90625 -3.359375 Z M 4.90625 -3.359375 \"/>\n",
       "</symbol>\n",
       "<symbol overflow=\"visible\" id=\"glyph1-3\">\n",
       "<path style=\"stroke:none;\" d=\"M 6.53125 -3.09375 C 6.53125 -4.046875 6.46875 -4.65625 6.28125 -5.140625 C 5.84375 -6.21875 4.71875 -7 3.5 -7 C 1.671875 -7 0.359375 -5.515625 0.359375 -3.359375 C 0.359375 -1.21875 1.640625 0.1875 3.46875 0.1875 C 4.96875 0.1875 6.140625 -0.78125 6.421875 -2.25 L 5.125 -2.25 C 4.796875 -1.25 4.34375 -1.03125 3.515625 -1.03125 C 2.421875 -1.03125 1.734375 -1.59375 1.71875 -2.96875 L 6.53125 -2.96875 Z M 5.390625 -3.9375 C 5.390625 -3.9375 5.203125 -4.0625 5.21875 -4.09375 L 1.75 -4.09375 C 1.828125 -5.109375 2.4375 -5.78125 3.484375 -5.78125 C 4.515625 -5.78125 5.15625 -5.046875 5.15625 -4.03125 Z M 5.390625 -3.9375 \"/>\n",
       "</symbol>\n",
       "<symbol overflow=\"visible\" id=\"glyph1-4\">\n",
       "<path style=\"stroke:none;\" d=\"M 5.859375 -1.96875 C 5.859375 -2.9375 5.1875 -3.5625 3.890625 -3.875 L 2.890625 -4.109375 C 2.03125 -4.3125 1.796875 -4.453125 1.796875 -4.90625 C 1.796875 -5.515625 2.21875 -5.78125 3.0625 -5.78125 C 3.90625 -5.78125 4.21875 -5.53125 4.234375 -4.71875 L 5.59375 -4.71875 C 5.59375 -6.140625 4.609375 -7 3.09375 -7 C 1.578125 -7 0.453125 -6.078125 0.453125 -4.859375 C 0.453125 -3.84375 1.109375 -3.21875 2.65625 -2.84375 L 3.640625 -2.609375 C 4.359375 -2.4375 4.515625 -2.34375 4.515625 -1.875 C 4.515625 -1.265625 4.03125 -1.03125 3.125 -1.03125 C 2.1875 -1.03125 1.78125 -1.125 1.640625 -2.265625 L 0.28125 -2.265625 C 0.34375 -0.609375 1.328125 0.1875 3.03125 0.1875 C 4.6875 0.1875 5.859375 -0.703125 5.859375 -1.96875 Z M 5.859375 -1.96875 \"/>\n",
       "</symbol>\n",
       "<symbol overflow=\"visible\" id=\"glyph1-5\">\n",
       "<path style=\"stroke:none;\" d=\"M 6.453125 -2.703125 C 6.453125 -3.78125 5.890625 -4.53125 4.828125 -4.90625 L 4.828125 -4.640625 C 5.65625 -4.96875 6.1875 -5.65625 6.1875 -6.546875 C 6.1875 -8.078125 5.046875 -9.125 3.359375 -9.125 C 1.578125 -9.125 0.484375 -8.015625 0.453125 -6 L 1.8125 -6 C 1.84375 -7.4375 2.25 -7.90625 3.375 -7.90625 C 4.34375 -7.90625 4.796875 -7.453125 4.796875 -6.515625 C 4.796875 -5.5625 4.53125 -5.3125 2.625 -5.3125 L 2.625 -4.125 L 3.359375 -4.125 C 4.578125 -4.125 5.0625 -3.671875 5.0625 -2.6875 C 5.0625 -1.578125 4.515625 -1.046875 3.359375 -1.046875 C 2.15625 -1.046875 1.703125 -1.515625 1.609375 -2.9375 L 0.25 -2.9375 C 0.40625 -0.828125 1.515625 0.1875 3.328125 0.1875 C 5.15625 0.1875 6.453125 -1.03125 6.453125 -2.703125 Z M 6.453125 -2.703125 \"/>\n",
       "</symbol>\n",
       "<symbol overflow=\"visible\" id=\"glyph1-6\">\n",
       "<path style=\"stroke:none;\" d=\"M 6.53125 -3.0625 C 6.53125 -4.8125 5.25 -6.09375 3.546875 -6.09375 C 2.921875 -6.09375 2.328125 -5.890625 2.09375 -5.71875 L 2.359375 -7.59375 L 6.078125 -7.59375 L 6.078125 -8.9375 L 1.25 -8.9375 L 0.546875 -4.03125 L 1.78125 -4.03125 C 2.328125 -4.6875 2.65625 -4.859375 3.34375 -4.859375 C 4.53125 -4.859375 5.15625 -4.21875 5.15625 -2.90625 C 5.15625 -1.640625 4.546875 -1.046875 3.34375 -1.046875 C 2.390625 -1.046875 1.921875 -1.40625 1.625 -2.53125 L 0.28125 -2.53125 C 0.65625 -0.640625 1.796875 0.1875 3.375 0.1875 C 5.15625 0.1875 6.53125 -1.1875 6.53125 -3.0625 Z M 6.53125 -3.0625 \"/>\n",
       "</symbol>\n",
       "<symbol overflow=\"visible\" id=\"glyph1-7\">\n",
       "<path style=\"stroke:none;\" d=\"M 6.625 -2.25 L 6.625 -3.375 L 5.3125 -3.375 L 5.3125 -9.125 L 4.296875 -9.125 L 0.21875 -3.453125 L 0.21875 -2.125 L 3.953125 -2.125 L 3.953125 0 L 5.3125 0 L 5.3125 -2.125 L 6.625 -2.125 Z M 4.09375 -3.375 L 1.5625 -3.375 L 4.171875 -7.03125 L 3.953125 -7.109375 L 3.953125 -3.375 Z M 4.09375 -3.375 \"/>\n",
       "</symbol>\n",
       "<symbol overflow=\"visible\" id=\"glyph1-8\">\n",
       "<path style=\"stroke:none;\" d=\"M 6.46875 -4.390625 C 6.46875 -7.46875 5.359375 -9.125 3.4375 -9.125 C 1.53125 -9.125 0.40625 -7.4375 0.40625 -4.46875 C 0.40625 -1.46875 1.53125 0.1875 3.4375 0.1875 C 5.3125 0.1875 6.46875 -1.46875 6.46875 -4.390625 Z M 5.078125 -4.484375 C 5.078125 -1.96875 4.640625 -0.984375 3.40625 -0.984375 C 2.25 -0.984375 1.78125 -2.03125 1.78125 -4.453125 C 1.78125 -6.875 2.25 -7.890625 3.4375 -7.890625 C 4.625 -7.890625 5.078125 -6.859375 5.078125 -4.484375 Z M 5.078125 -4.484375 \"/>\n",
       "</symbol>\n",
       "<symbol overflow=\"visible\" id=\"glyph1-9\">\n",
       "<path style=\"stroke:none;\" d=\"M 6.53125 -2.875 C 6.53125 -4.53125 5.28125 -5.78125 3.703125 -5.78125 C 2.828125 -5.78125 2.03125 -5.390625 1.5625 -4.734375 L 1.78125 -4.65625 C 1.796875 -6.8125 2.375 -7.890625 3.640625 -7.890625 C 4.40625 -7.890625 4.8125 -7.53125 5.015625 -6.546875 L 6.375 -6.546875 C 6.140625 -8.125 5.0625 -9.125 3.71875 -9.125 C 1.65625 -9.125 0.40625 -7.25 0.40625 -4.15625 C 0.40625 -1.40625 1.484375 0.1875 3.515625 0.1875 C 5.203125 0.1875 6.53125 -1.140625 6.53125 -2.875 Z M 5.15625 -2.78125 C 5.15625 -1.671875 4.53125 -1.046875 3.53125 -1.046875 C 2.5 -1.046875 1.84375 -1.71875 1.84375 -2.84375 C 1.84375 -3.953125 2.46875 -4.53125 3.5625 -4.53125 C 4.625 -4.53125 5.15625 -3.96875 5.15625 -2.78125 Z M 5.15625 -2.78125 \"/>\n",
       "</symbol>\n",
       "<symbol overflow=\"visible\" id=\"glyph1-10\">\n",
       "<path style=\"stroke:none;\" d=\"M 6.625 -7.875 L 6.625 -8.9375 L 0.4375 -8.9375 L 0.4375 -7.59375 L 5.09375 -7.59375 C 3.5 -5.578125 2.21875 -2.90625 1.5625 0 L 3 0 C 3.515625 -2.984375 4.71875 -5.578125 6.625 -7.828125 Z M 6.625 -7.875 \"/>\n",
       "</symbol>\n",
       "<symbol overflow=\"visible\" id=\"glyph2-0\">\n",
       "<path style=\"stroke:none;\" d=\"\"/>\n",
       "</symbol>\n",
       "<symbol overflow=\"visible\" id=\"glyph2-1\">\n",
       "<path style=\"stroke:none;\" d=\"M -8.21875 -7.359375 L -9.375 -7.359375 L -9.375 -0.984375 L 0 -0.984375 L 0 -2.40625 L -4.15625 -2.40625 L -4.15625 -6.765625 L -5.4375 -6.765625 L -5.4375 -2.40625 L -8.09375 -2.40625 L -8.09375 -7.359375 Z M -8.21875 -7.359375 \"/>\n",
       "</symbol>\n",
       "<symbol overflow=\"visible\" id=\"glyph2-2\">\n",
       "<path style=\"stroke:none;\" d=\"M -5.765625 -4.140625 L -6.9375 -4.140625 C -6.984375 -3.84375 -7 -3.75 -7 -3.609375 C -7 -2.9375 -6.546875 -2.328125 -5.578125 -1.71875 L -5.484375 -1.953125 L -6.8125 -1.953125 L -6.8125 -0.734375 L 0 -0.734375 L 0 -2.03125 L -3.53125 -2.03125 C -5 -2.03125 -5.609375 -2.40625 -5.640625 -4.140625 Z M -5.765625 -4.140625 \"/>\n",
       "</symbol>\n",
       "<symbol overflow=\"visible\" id=\"glyph2-3\">\n",
       "<path style=\"stroke:none;\" d=\"M -3.09375 -6.53125 C -4.046875 -6.53125 -4.65625 -6.46875 -5.140625 -6.28125 C -6.21875 -5.84375 -7 -4.71875 -7 -3.5 C -7 -1.671875 -5.515625 -0.359375 -3.359375 -0.359375 C -1.21875 -0.359375 0.1875 -1.640625 0.1875 -3.46875 C 0.1875 -4.96875 -0.78125 -6.140625 -2.25 -6.421875 L -2.25 -5.125 C -1.25 -4.796875 -1.03125 -4.34375 -1.03125 -3.515625 C -1.03125 -2.421875 -1.59375 -1.734375 -2.96875 -1.71875 L -2.96875 -6.53125 Z M -3.9375 -5.390625 C -3.9375 -5.390625 -4.0625 -5.203125 -4.09375 -5.21875 L -4.09375 -1.75 C -5.109375 -1.828125 -5.78125 -2.4375 -5.78125 -3.484375 C -5.78125 -4.515625 -5.046875 -5.15625 -4.03125 -5.15625 Z M -3.9375 -5.390625 \"/>\n",
       "</symbol>\n",
       "<symbol overflow=\"visible\" id=\"glyph2-4\">\n",
       "<path style=\"stroke:none;\" d=\"M 2.59375 -6.3125 L -6.8125 -6.3125 L -6.8125 -5.125 L -5.796875 -5.125 L -5.890625 -5.34375 C -6.578125 -4.859375 -7 -4.03125 -7 -3.171875 C -7 -1.453125 -5.5 -0.1875 -3.328125 -0.1875 C -1.203125 -0.1875 0.1875 -1.40625 0.1875 -3.125 C 0.1875 -4.03125 -0.171875 -4.75 -0.890625 -5.234375 L -0.96875 -5.015625 L 2.71875 -5.015625 L 2.71875 -6.3125 Z M -3.359375 -5.015625 C -1.859375 -5.015625 -1.046875 -4.421875 -1.046875 -3.328125 C -1.046875 -2.171875 -1.875 -1.53125 -3.40625 -1.53125 C -4.90625 -1.53125 -5.765625 -2.171875 -5.765625 -3.328125 C -5.765625 -4.4375 -4.890625 -5.015625 -3.359375 -5.015625 Z M -3.359375 -5.015625 \"/>\n",
       "</symbol>\n",
       "<symbol overflow=\"visible\" id=\"glyph2-5\">\n",
       "<path style=\"stroke:none;\" d=\"M -0.125 -6.15625 L -6.8125 -6.15625 L -6.8125 -4.84375 L -3.0625 -4.84375 C -1.71875 -4.84375 -0.984375 -4.28125 -0.984375 -3.203125 C -0.984375 -2.375 -1.34375 -1.96875 -2.140625 -1.96875 L -6.8125 -1.96875 L -6.8125 -0.671875 L -1.71875 -0.671875 C -0.640625 -0.671875 0.1875 -1.625 0.1875 -2.90625 C 0.1875 -3.859375 -0.1875 -4.5625 -1.046875 -5.171875 L -1.140625 -4.953125 L 0 -4.953125 L 0 -6.15625 Z M -0.125 -6.15625 \"/>\n",
       "</symbol>\n",
       "<symbol overflow=\"visible\" id=\"glyph2-6\">\n",
       "<path style=\"stroke:none;\" d=\"M -0.125 -6.21875 L -5.078125 -6.21875 C -6.15625 -6.21875 -7 -5.28125 -7 -4.015625 C -7 -3.03125 -6.578125 -2.3125 -5.65625 -1.734375 L -5.578125 -1.96875 L -6.8125 -1.96875 L -6.8125 -0.734375 L 0 -0.734375 L 0 -2.03125 L -3.734375 -2.03125 C -5.078125 -2.03125 -5.828125 -2.640625 -5.828125 -3.703125 C -5.828125 -4.53125 -5.453125 -4.90625 -4.65625 -4.90625 L 0 -4.90625 L 0 -6.21875 Z M -0.125 -6.21875 \"/>\n",
       "</symbol>\n",
       "<symbol overflow=\"visible\" id=\"glyph2-7\">\n",
       "<path style=\"stroke:none;\" d=\"M -2.515625 -5.96875 L -2.515625 -4.796875 C -1.328125 -4.59375 -1.03125 -4.203125 -1.03125 -3.3125 C -1.03125 -2.15625 -1.78125 -1.59375 -3.34375 -1.59375 C -4.96875 -1.59375 -5.78125 -2.15625 -5.78125 -3.28125 C -5.78125 -4.15625 -5.390625 -4.578125 -4.34375 -4.71875 L -4.34375 -6.03125 C -6.078125 -5.890625 -7 -4.765625 -7 -3.296875 C -7 -1.53125 -5.515625 -0.25 -3.34375 -0.25 C -1.21875 -0.25 0.1875 -1.515625 0.1875 -3.28125 C 0.1875 -4.84375 -0.875 -5.96875 -2.515625 -6.09375 Z M -2.515625 -5.96875 \"/>\n",
       "</symbol>\n",
       "<symbol overflow=\"visible\" id=\"glyph2-8\">\n",
       "<path style=\"stroke:none;\" d=\"M -6.8125 -5.96875 L -6.8125 -4.765625 L -1.578125 -2.90625 L -1.578125 -3.15625 L -6.8125 -1.453125 L -6.8125 -0.0625 L -0.09375 -2.328125 L 0.9375 -1.921875 C 1.40625 -1.75 1.4375 -1.671875 1.4375 -1.21875 C 1.4375 -1.078125 1.40625 -0.90625 1.34375 -0.53125 L 2.515625 -0.53125 C 2.640625 -0.78125 2.71875 -1.09375 2.71875 -1.375 C 2.71875 -2.109375 2.1875 -2.84375 1.25 -3.1875 L -6.8125 -6.15625 Z M -6.8125 -5.96875 \"/>\n",
       "</symbol>\n",
       "<symbol overflow=\"visible\" id=\"glyph2-9\">\n",
       "<path style=\"stroke:none;\" d=\"M -4.390625 -6.46875 C -7.46875 -6.46875 -9.125 -5.359375 -9.125 -3.4375 C -9.125 -1.53125 -7.4375 -0.40625 -4.46875 -0.40625 C -1.46875 -0.40625 0.1875 -1.53125 0.1875 -3.4375 C 0.1875 -5.3125 -1.46875 -6.46875 -4.390625 -6.46875 Z M -4.484375 -5.078125 C -1.96875 -5.078125 -0.984375 -4.640625 -0.984375 -3.40625 C -0.984375 -2.25 -2.03125 -1.78125 -4.453125 -1.78125 C -6.875 -1.78125 -7.890625 -2.25 -7.890625 -3.4375 C -7.890625 -4.625 -6.859375 -5.078125 -4.484375 -5.078125 Z M -4.484375 -5.078125 \"/>\n",
       "</symbol>\n",
       "<symbol overflow=\"visible\" id=\"glyph2-10\">\n",
       "<path style=\"stroke:none;\" d=\"M -2.25 -6.625 L -3.375 -6.625 L -3.375 -5.3125 L -9.125 -5.3125 L -9.125 -4.296875 L -3.453125 -0.21875 L -2.125 -0.21875 L -2.125 -3.953125 L 0 -3.953125 L 0 -5.3125 L -2.125 -5.3125 L -2.125 -6.625 Z M -3.375 -4.09375 L -3.375 -1.5625 L -7.03125 -4.171875 L -7.109375 -3.953125 L -3.375 -3.953125 Z M -3.375 -4.09375 \"/>\n",
       "</symbol>\n",
       "<symbol overflow=\"visible\" id=\"glyph2-11\">\n",
       "<path style=\"stroke:none;\" d=\"M -2.625 -6.53125 C -3.609375 -6.53125 -4.4375 -5.90625 -4.796875 -5.140625 C -5.25 -5.890625 -5.78125 -6.21875 -6.625 -6.21875 C -8.015625 -6.21875 -9.125 -5.015625 -9.125 -3.4375 C -9.125 -1.875 -8.015625 -0.640625 -6.625 -0.640625 C -5.796875 -0.640625 -5.265625 -0.96875 -4.796875 -1.71875 C -4.4375 -0.96875 -3.609375 -0.328125 -2.640625 -0.328125 C -1.015625 -0.328125 0.1875 -1.6875 0.1875 -3.4375 C 0.1875 -5.1875 -1.015625 -6.53125 -2.625 -6.53125 Z M -6.59375 -4.84375 C -5.78125 -4.84375 -5.359375 -4.359375 -5.359375 -3.4375 C -5.359375 -2.515625 -5.78125 -2.03125 -6.609375 -2.03125 C -7.46875 -2.03125 -7.890625 -2.515625 -7.890625 -3.4375 C -7.890625 -4.375 -7.46875 -4.84375 -6.59375 -4.84375 Z M -2.609375 -5.15625 C -1.5625 -5.15625 -1.046875 -4.53125 -1.046875 -3.40625 C -1.046875 -2.34375 -1.578125 -1.71875 -2.609375 -1.71875 C -3.65625 -1.71875 -4.171875 -2.34375 -4.171875 -3.4375 C -4.171875 -4.53125 -3.65625 -5.15625 -2.609375 -5.15625 Z M -2.609375 -5.15625 \"/>\n",
       "</symbol>\n",
       "<symbol overflow=\"visible\" id=\"glyph2-12\">\n",
       "<path style=\"stroke:none;\" d=\"M -0.125 -4.46875 L -9.125 -4.46875 L -9.125 -3.515625 C -7.625 -3.09375 -7.578125 -2.96875 -7.34375 -1.140625 L -6.3125 -1.140625 L -6.3125 -3.09375 L 0 -3.09375 L 0 -4.46875 Z M -0.125 -4.46875 \"/>\n",
       "</symbol>\n",
       "<symbol overflow=\"visible\" id=\"glyph2-13\">\n",
       "<path style=\"stroke:none;\" d=\"M -6.390625 -6.515625 C -7.890625 -6.515625 -9.125 -5.21875 -9.125 -3.546875 C -9.125 -1.734375 -8.0625 -0.546875 -5.78125 -0.484375 L -5.78125 -1.84375 C -7.40625 -1.9375 -7.90625 -2.421875 -7.90625 -3.515625 C -7.90625 -4.515625 -7.3125 -5.125 -6.359375 -5.125 C -5.65625 -5.125 -5.15625 -4.75 -4.703125 -3.96875 L -4.046875 -2.8125 C -3 -0.96875 -2.078125 -0.390625 0 -0.28125 L 0 -6.453125 L -1.34375 -6.453125 L -1.34375 -1.8125 C -1.9375 -1.90625 -2.3125 -2.265625 -2.953125 -3.34375 L -3.625 -4.59375 C -4.28125 -5.84375 -5.296875 -6.515625 -6.390625 -6.515625 Z M -6.390625 -6.515625 \"/>\n",
       "</symbol>\n",
       "</g>\n",
       "</defs>\n",
       "<g id=\"surface1163\">\n",
       "<rect x=\"0\" y=\"0\" width=\"288\" height=\"216\" style=\"fill:rgb(100%,100%,100%);fill-opacity:1;stroke:none;\"/>\n",
       "<g style=\"fill:rgb(0%,0%,0%);fill-opacity:1;\">\n",
       "  <use xlink:href=\"#glyph0-1\" x=\"93.378906\" y=\"35.089844\"/>\n",
       "  <use xlink:href=\"#glyph0-2\" x=\"104.141159\" y=\"35.089844\"/>\n",
       "  <use xlink:href=\"#glyph0-3\" x=\"108.28508\" y=\"35.089844\"/>\n",
       "  <use xlink:href=\"#glyph0-4\" x=\"116.572906\" y=\"35.089844\"/>\n",
       "  <use xlink:href=\"#glyph0-5\" x=\"121.536667\" y=\"35.089844\"/>\n",
       "  <use xlink:href=\"#glyph0-6\" x=\"130.644333\" y=\"35.089844\"/>\n",
       "  <use xlink:href=\"#glyph0-7\" x=\"139.751999\" y=\"35.089844\"/>\n",
       "  <use xlink:href=\"#glyph0-8\" x=\"145.550491\" y=\"35.089844\"/>\n",
       "  <use xlink:href=\"#glyph0-9\" x=\"153.838318\" y=\"35.089844\"/>\n",
       "  <use xlink:href=\"#glyph0-10\" x=\"167.089905\" y=\"35.089844\"/>\n",
       "  <use xlink:href=\"#glyph0-5\" x=\"171.233826\" y=\"35.089844\"/>\n",
       "  <use xlink:href=\"#glyph0-11\" x=\"180.341492\" y=\"35.089844\"/>\n",
       "  <use xlink:href=\"#glyph0-10\" x=\"185.305252\" y=\"35.089844\"/>\n",
       "  <use xlink:href=\"#glyph0-8\" x=\"189.449173\" y=\"35.089844\"/>\n",
       "  <use xlink:href=\"#glyph0-6\" x=\"197.737\" y=\"35.089844\"/>\n",
       "  <use xlink:href=\"#glyph0-12\" x=\"206.844666\" y=\"35.089844\"/>\n",
       "  <use xlink:href=\"#glyph0-3\" x=\"215.132492\" y=\"35.089844\"/>\n",
       "</g>\n",
       "<g style=\"fill:rgb(0%,0%,0%);fill-opacity:1;\">\n",
       "  <use xlink:href=\"#glyph1-1\" x=\"144.847656\" y=\"198.71875\"/>\n",
       "  <use xlink:href=\"#glyph1-2\" x=\"151.797684\" y=\"198.71875\"/>\n",
       "  <use xlink:href=\"#glyph1-3\" x=\"158.747711\" y=\"198.71875\"/>\n",
       "  <use xlink:href=\"#glyph1-4\" x=\"165.697739\" y=\"198.71875\"/>\n",
       "</g>\n",
       "<g style=\"fill:rgb(0%,0%,0%);fill-opacity:1;\">\n",
       "  <use xlink:href=\"#glyph2-1\" x=\"14.398438\" y=\"130.324219\"/>\n",
       "  <use xlink:href=\"#glyph2-2\" x=\"14.398438\" y=\"122.686691\"/>\n",
       "  <use xlink:href=\"#glyph2-3\" x=\"14.398438\" y=\"118.52417\"/>\n",
       "  <use xlink:href=\"#glyph2-4\" x=\"14.398438\" y=\"111.574142\"/>\n",
       "  <use xlink:href=\"#glyph2-5\" x=\"14.398438\" y=\"104.624115\"/>\n",
       "  <use xlink:href=\"#glyph2-3\" x=\"14.398438\" y=\"97.674088\"/>\n",
       "  <use xlink:href=\"#glyph2-6\" x=\"14.398438\" y=\"90.72406\"/>\n",
       "  <use xlink:href=\"#glyph2-7\" x=\"14.398438\" y=\"83.774033\"/>\n",
       "  <use xlink:href=\"#glyph2-8\" x=\"14.398438\" y=\"77.524002\"/>\n",
       "</g>\n",
       "<path style=\"fill:none;stroke-width:1;stroke-linecap:round;stroke-linejoin:round;stroke:rgb(0%,0%,0%);stroke-opacity:1;stroke-miterlimit:10;\" d=\"M 69.027344 142.558594 L 253.027344 142.558594 \"/>\n",
       "<path style=\"fill:none;stroke-width:1;stroke-linecap:round;stroke-linejoin:round;stroke:rgb(0%,0%,0%);stroke-opacity:1;stroke-miterlimit:10;\" d=\"M 69.027344 142.558594 L 69.027344 149.761719 \"/>\n",
       "<path style=\"fill:none;stroke-width:1;stroke-linecap:round;stroke-linejoin:round;stroke:rgb(0%,0%,0%);stroke-opacity:1;stroke-miterlimit:10;\" d=\"M 95.3125 142.558594 L 95.3125 149.761719 \"/>\n",
       "<path style=\"fill:none;stroke-width:1;stroke-linecap:round;stroke-linejoin:round;stroke:rgb(0%,0%,0%);stroke-opacity:1;stroke-miterlimit:10;\" d=\"M 121.601562 142.558594 L 121.601562 149.761719 \"/>\n",
       "<path style=\"fill:none;stroke-width:1;stroke-linecap:round;stroke-linejoin:round;stroke:rgb(0%,0%,0%);stroke-opacity:1;stroke-miterlimit:10;\" d=\"M 147.886719 142.558594 L 147.886719 149.761719 \"/>\n",
       "<path style=\"fill:none;stroke-width:1;stroke-linecap:round;stroke-linejoin:round;stroke:rgb(0%,0%,0%);stroke-opacity:1;stroke-miterlimit:10;\" d=\"M 174.171875 142.558594 L 174.171875 149.761719 \"/>\n",
       "<path style=\"fill:none;stroke-width:1;stroke-linecap:round;stroke-linejoin:round;stroke:rgb(0%,0%,0%);stroke-opacity:1;stroke-miterlimit:10;\" d=\"M 200.457031 142.558594 L 200.457031 149.761719 \"/>\n",
       "<path style=\"fill:none;stroke-width:1;stroke-linecap:round;stroke-linejoin:round;stroke:rgb(0%,0%,0%);stroke-opacity:1;stroke-miterlimit:10;\" d=\"M 226.742188 142.558594 L 226.742188 149.761719 \"/>\n",
       "<path style=\"fill:none;stroke-width:1;stroke-linecap:round;stroke-linejoin:round;stroke:rgb(0%,0%,0%);stroke-opacity:1;stroke-miterlimit:10;\" d=\"M 253.027344 142.558594 L 253.027344 149.761719 \"/>\n",
       "<g style=\"fill:rgb(0%,0%,0%);fill-opacity:1;\">\n",
       "  <use xlink:href=\"#glyph1-5\" x=\"62.078125\" y=\"169.921875\"/>\n",
       "  <use xlink:href=\"#glyph1-6\" x=\"69.028152\" y=\"169.921875\"/>\n",
       "</g>\n",
       "<g style=\"fill:rgb(0%,0%,0%);fill-opacity:1;\">\n",
       "  <use xlink:href=\"#glyph1-7\" x=\"88.363281\" y=\"169.921875\"/>\n",
       "  <use xlink:href=\"#glyph1-8\" x=\"95.313309\" y=\"169.921875\"/>\n",
       "</g>\n",
       "<g style=\"fill:rgb(0%,0%,0%);fill-opacity:1;\">\n",
       "  <use xlink:href=\"#glyph1-7\" x=\"114.652344\" y=\"169.921875\"/>\n",
       "  <use xlink:href=\"#glyph1-6\" x=\"121.602371\" y=\"169.921875\"/>\n",
       "</g>\n",
       "<g style=\"fill:rgb(0%,0%,0%);fill-opacity:1;\">\n",
       "  <use xlink:href=\"#glyph1-6\" x=\"140.9375\" y=\"169.921875\"/>\n",
       "  <use xlink:href=\"#glyph1-8\" x=\"147.887527\" y=\"169.921875\"/>\n",
       "</g>\n",
       "<g style=\"fill:rgb(0%,0%,0%);fill-opacity:1;\">\n",
       "  <use xlink:href=\"#glyph1-6\" x=\"167.222656\" y=\"169.921875\"/>\n",
       "  <use xlink:href=\"#glyph1-6\" x=\"174.172684\" y=\"169.921875\"/>\n",
       "</g>\n",
       "<g style=\"fill:rgb(0%,0%,0%);fill-opacity:1;\">\n",
       "  <use xlink:href=\"#glyph1-9\" x=\"193.507812\" y=\"169.921875\"/>\n",
       "  <use xlink:href=\"#glyph1-8\" x=\"200.45784\" y=\"169.921875\"/>\n",
       "</g>\n",
       "<g style=\"fill:rgb(0%,0%,0%);fill-opacity:1;\">\n",
       "  <use xlink:href=\"#glyph1-9\" x=\"219.792969\" y=\"169.921875\"/>\n",
       "  <use xlink:href=\"#glyph1-6\" x=\"226.742996\" y=\"169.921875\"/>\n",
       "</g>\n",
       "<g style=\"fill:rgb(0%,0%,0%);fill-opacity:1;\">\n",
       "  <use xlink:href=\"#glyph1-10\" x=\"246.078125\" y=\"169.921875\"/>\n",
       "  <use xlink:href=\"#glyph1-8\" x=\"253.028152\" y=\"169.921875\"/>\n",
       "</g>\n",
       "<path style=\"fill:none;stroke-width:1;stroke-linecap:round;stroke-linejoin:round;stroke:rgb(0%,0%,0%);stroke-opacity:1;stroke-miterlimit:10;\" d=\"M 59.039062 139.464844 L 59.039062 68.082031 \"/>\n",
       "<path style=\"fill:none;stroke-width:1;stroke-linecap:round;stroke-linejoin:round;stroke:rgb(0%,0%,0%);stroke-opacity:1;stroke-miterlimit:10;\" d=\"M 59.039062 139.464844 L 51.839844 139.464844 \"/>\n",
       "<path style=\"fill:none;stroke-width:1;stroke-linecap:round;stroke-linejoin:round;stroke:rgb(0%,0%,0%);stroke-opacity:1;stroke-miterlimit:10;\" d=\"M 59.039062 127.570312 L 51.839844 127.570312 \"/>\n",
       "<path style=\"fill:none;stroke-width:1;stroke-linecap:round;stroke-linejoin:round;stroke:rgb(0%,0%,0%);stroke-opacity:1;stroke-miterlimit:10;\" d=\"M 59.039062 115.671875 L 51.839844 115.671875 \"/>\n",
       "<path style=\"fill:none;stroke-width:1;stroke-linecap:round;stroke-linejoin:round;stroke:rgb(0%,0%,0%);stroke-opacity:1;stroke-miterlimit:10;\" d=\"M 59.039062 103.773438 L 51.839844 103.773438 \"/>\n",
       "<path style=\"fill:none;stroke-width:1;stroke-linecap:round;stroke-linejoin:round;stroke:rgb(0%,0%,0%);stroke-opacity:1;stroke-miterlimit:10;\" d=\"M 59.039062 91.875 L 51.839844 91.875 \"/>\n",
       "<path style=\"fill:none;stroke-width:1;stroke-linecap:round;stroke-linejoin:round;stroke:rgb(0%,0%,0%);stroke-opacity:1;stroke-miterlimit:10;\" d=\"M 59.039062 79.980469 L 51.839844 79.980469 \"/>\n",
       "<path style=\"fill:none;stroke-width:1;stroke-linecap:round;stroke-linejoin:round;stroke:rgb(0%,0%,0%);stroke-opacity:1;stroke-miterlimit:10;\" d=\"M 59.039062 68.082031 L 51.839844 68.082031 \"/>\n",
       "<g style=\"fill:rgb(0%,0%,0%);fill-opacity:1;\">\n",
       "  <use xlink:href=\"#glyph2-9\" x=\"43.199219\" y=\"142.941406\"/>\n",
       "</g>\n",
       "<g style=\"fill:rgb(0%,0%,0%);fill-opacity:1;\">\n",
       "  <use xlink:href=\"#glyph2-10\" x=\"43.199219\" y=\"119.148438\"/>\n",
       "</g>\n",
       "<g style=\"fill:rgb(0%,0%,0%);fill-opacity:1;\">\n",
       "  <use xlink:href=\"#glyph2-11\" x=\"43.199219\" y=\"95.351562\"/>\n",
       "</g>\n",
       "<g style=\"fill:rgb(0%,0%,0%);fill-opacity:1;\">\n",
       "  <use xlink:href=\"#glyph2-12\" x=\"43.199219\" y=\"75.03125\"/>\n",
       "  <use xlink:href=\"#glyph2-13\" x=\"43.199219\" y=\"68.081223\"/>\n",
       "</g>\n",
       "<path style=\"fill:none;stroke-width:1;stroke-linecap:round;stroke-linejoin:round;stroke:rgb(0%,0%,0%);stroke-opacity:1;stroke-miterlimit:10;\" d=\"M 66.398438 139.464844 L 92.683594 139.464844 Z M 66.398438 139.464844 \"/>\n",
       "<path style=\"fill:none;stroke-width:1;stroke-linecap:round;stroke-linejoin:round;stroke:rgb(0%,0%,0%);stroke-opacity:1;stroke-miterlimit:10;\" d=\"M 92.6875 127.570312 L 118.972656 127.570312 L 118.972656 139.46875 L 92.6875 139.46875 Z M 92.6875 127.570312 \"/>\n",
       "<path style=\"fill:none;stroke-width:1;stroke-linecap:round;stroke-linejoin:round;stroke:rgb(0%,0%,0%);stroke-opacity:1;stroke-miterlimit:10;\" d=\"M 118.972656 103.773438 L 145.257812 103.773438 L 145.257812 139.464844 L 118.972656 139.464844 Z M 118.972656 103.773438 \"/>\n",
       "<path style=\"fill:none;stroke-width:1;stroke-linecap:round;stroke-linejoin:round;stroke:rgb(0%,0%,0%);stroke-opacity:1;stroke-miterlimit:10;\" d=\"M 145.257812 62.132812 L 171.542969 62.132812 L 171.542969 139.464844 L 145.257812 139.464844 Z M 145.257812 62.132812 \"/>\n",
       "<path style=\"fill:none;stroke-width:1;stroke-linecap:round;stroke-linejoin:round;stroke:rgb(0%,0%,0%);stroke-opacity:1;stroke-miterlimit:10;\" d=\"M 171.542969 68.082031 L 197.828125 68.082031 L 197.828125 139.464844 L 171.542969 139.464844 Z M 171.542969 68.082031 \"/>\n",
       "<path style=\"fill:none;stroke-width:1;stroke-linecap:round;stroke-linejoin:round;stroke:rgb(0%,0%,0%);stroke-opacity:1;stroke-miterlimit:10;\" d=\"M 197.828125 97.824219 L 224.113281 97.824219 L 224.113281 139.464844 L 197.828125 139.464844 Z M 197.828125 97.824219 \"/>\n",
       "<path style=\"fill:none;stroke-width:1;stroke-linecap:round;stroke-linejoin:round;stroke:rgb(0%,0%,0%);stroke-opacity:1;stroke-miterlimit:10;\" d=\"M 224.113281 121.621094 L 250.398438 121.621094 L 250.398438 139.46875 L 224.113281 139.46875 Z M 224.113281 121.621094 \"/>\n",
       "</g>\n",
       "</svg>\n"
      ]
     },
     "metadata": {
      "image/svg+xml": {
       "isolated": true
      }
     },
     "output_type": "display_data"
    }
   ],
   "source": [
    "# BARPLOTS \n",
    "barplot(ages) \n",
    "# • You will see (in a separate window) bars corresponding to the ages in the \n",
    "# order we entered them in, but this is NOT a correct histogram. \n",
    "\n",
    "#HISTOGRAMS \n",
    " \n",
    "hist(ages) \n",
    "# • You will see a histogram of the ages.  \n",
    "hist(ages, breaks=boundaries) \n",
    "# • You will see a histogram similar to what we have in our notes."
   ]
  },
  {
   "cell_type": "markdown",
   "metadata": {
    "slideshow": {
     "slide_type": "slide"
    }
   },
   "source": [
    "**RELATIVE FREQUENCY HISTOGRAMS and LABELS **"
   ]
  },
  {
   "cell_type": "code",
   "execution_count": 84,
   "metadata": {
    "run_control": {
     "frozen": false,
     "marked": false,
     "read_only": false
    },
    "slideshow": {
     "slide_type": "subslide"
    }
   },
   "outputs": [
    {
     "data": {
      "image/jpeg": "[encoded data removed]",
      "image/png": "",
      "image/svg+xml": [
       "<?xml version=\"1.0\" encoding=\"UTF-8\"?>\n",
       "<svg xmlns=\"http://www.w3.org/2000/svg\" xmlns:xlink=\"http://www.w3.org/1999/xlink\" width=\"288pt\" height=\"216pt\" viewBox=\"0 0 288 216\" version=\"1.1\">\n",
       "<defs>\n",
       "<g>\n",
       "<symbol overflow=\"visible\" id=\"glyph0-0\">\n",
       "<path style=\"stroke:none;\" d=\"\"/>\n",
       "</symbol>\n",
       "<symbol overflow=\"visible\" id=\"glyph0-1\">\n",
       "<path style=\"stroke:none;\" d=\"M 9.84375 -0.140625 L 9.84375 -11.140625 L 7.5 -11.140625 L 7.5 -7.0625 L 3.296875 -7.0625 L 3.296875 -11.140625 L 0.953125 -11.140625 L 0.953125 0 L 3.296875 0 L 3.296875 -4.9375 L 7.5 -4.9375 L 7.5 0 L 9.84375 0 Z M 9.84375 -0.140625 \"/>\n",
       "</symbol>\n",
       "<symbol overflow=\"visible\" id=\"glyph0-2\">\n",
       "<path style=\"stroke:none;\" d=\"M 3.125 -0.140625 L 3.125 -8.3125 L 0.9375 -8.3125 L 0.9375 0 L 3.125 0 Z M 3.15625 -9.15625 L 3.15625 -11.375 L 0.96875 -11.375 L 0.96875 -9.015625 L 3.15625 -9.015625 Z M 3.15625 -9.15625 \"/>\n",
       "</symbol>\n",
       "<symbol overflow=\"visible\" id=\"glyph0-3\">\n",
       "<path style=\"stroke:none;\" d=\"M 7.796875 -2.515625 L 7.796875 -2.625 C 7.796875 -3.546875 7.234375 -4.375 6.171875 -4.6875 L 3.53125 -5.4375 C 2.953125 -5.609375 2.84375 -5.609375 2.84375 -5.9375 C 2.84375 -6.375 3.28125 -6.546875 4.015625 -6.546875 C 5.015625 -6.546875 5.4375 -6.3125 5.453125 -5.453125 L 7.578125 -5.453125 C 7.546875 -7.296875 6.1875 -8.453125 4.03125 -8.453125 C 1.984375 -8.453125 0.65625 -7.296875 0.65625 -5.640625 C 0.65625 -4.65625 0.984375 -3.984375 2.46875 -3.515625 L 4.96875 -2.75 C 5.484375 -2.578125 5.609375 -2.546875 5.609375 -2.328125 C 5.609375 -1.828125 5.078125 -1.78125 4.109375 -1.78125 C 3.15625 -1.78125 2.703125 -1.8125 2.484375 -2.8125 L 0.375 -2.8125 C 0.4375 -0.921875 1.78125 0.140625 4.234375 0.140625 C 6.5 0.140625 7.796875 -0.890625 7.796875 -2.515625 Z M 7.796875 -2.515625 \"/>\n",
       "</symbol>\n",
       "<symbol overflow=\"visible\" id=\"glyph0-4\">\n",
       "<path style=\"stroke:none;\" d=\"M 4.53125 -0.140625 L 4.53125 -1.734375 C 4.28125 -1.703125 4.15625 -1.6875 4.015625 -1.6875 C 3.453125 -1.6875 3.375 -1.71875 3.375 -2.4375 L 3.375 -6.5 L 4.53125 -6.5 L 4.53125 -8.15625 L 3.375 -8.15625 L 3.375 -10.3125 L 1.171875 -10.3125 L 1.171875 -8.15625 L 0.15625 -8.15625 L 0.15625 -6.5 L 1.171875 -6.5 L 1.171875 -1.859375 C 1.171875 -0.59375 1.90625 0.0625 3.28125 0.0625 C 3.734375 0.0625 4.109375 0.015625 4.53125 0 Z M 4.53125 -0.140625 \"/>\n",
       "</symbol>\n",
       "<symbol overflow=\"visible\" id=\"glyph0-5\">\n",
       "<path style=\"stroke:none;\" d=\"M 8.53125 -4.09375 C 8.53125 -6.828125 7 -8.453125 4.484375 -8.453125 C 2.03125 -8.453125 0.46875 -6.796875 0.46875 -4.15625 C 0.46875 -1.5 2.03125 0.140625 4.5 0.140625 C 6.953125 0.140625 8.53125 -1.515625 8.53125 -4.09375 Z M 6.328125 -4.125 C 6.328125 -2.625 5.625 -1.8125 4.5 -1.8125 C 3.375 -1.8125 2.65625 -2.625 2.65625 -4.15625 C 2.65625 -5.6875 3.375 -6.5 4.5 -6.5 C 5.65625 -6.5 6.328125 -5.703125 6.328125 -4.125 Z M 6.328125 -4.125 \"/>\n",
       "</symbol>\n",
       "<symbol overflow=\"visible\" id=\"glyph0-6\">\n",
       "<path style=\"stroke:none;\" d=\"M 8.109375 0.140625 L 8.109375 -8.3125 L 6.015625 -8.3125 L 6.015625 -7.15625 C 5.484375 -7.984375 4.765625 -8.453125 3.84375 -8.453125 C 1.9375 -8.453125 0.453125 -6.5625 0.453125 -4.0625 C 0.453125 -1.5625 1.8125 0.140625 3.796875 0.140625 C 4.734375 0.140625 5.34375 -0.171875 6.015625 -0.875 L 6.015625 0.140625 C 6.015625 1.109375 5.34375 1.640625 4.3125 1.640625 C 3.515625 1.640625 3.046875 1.453125 2.828125 0.703125 L 0.609375 0.703125 C 0.640625 2.140625 2.03125 3.25 4.234375 3.25 C 6.65625 3.25 8.109375 2.03125 8.109375 0.140625 Z M 6.046875 -4.09375 C 6.046875 -2.640625 5.34375 -1.875 4.265625 -1.875 C 3.28125 -1.875 2.640625 -2.640625 2.640625 -4.09375 C 2.640625 -5.625 3.28125 -6.4375 4.296875 -6.4375 C 5.34375 -6.4375 6.046875 -5.59375 6.046875 -4.09375 Z M 6.046875 -4.09375 \"/>\n",
       "</symbol>\n",
       "<symbol overflow=\"visible\" id=\"glyph0-7\">\n",
       "<path style=\"stroke:none;\" d=\"M 5.5625 -6.1875 L 5.5625 -8.421875 C 5.390625 -8.453125 5.328125 -8.453125 5.265625 -8.453125 C 4.3125 -8.453125 3.40625 -7.6875 3.078125 -6.828125 L 3.078125 -8.3125 L 0.875 -8.3125 L 0.875 0 L 3.078125 0 L 3.078125 -4.40625 C 3.078125 -5.640625 3.640625 -6.109375 4.859375 -6.109375 C 5.078125 -6.109375 5.234375 -6.09375 5.5625 -6.03125 Z M 5.5625 -6.1875 \"/>\n",
       "</symbol>\n",
       "<symbol overflow=\"visible\" id=\"glyph0-8\">\n",
       "<path style=\"stroke:none;\" d=\"M 7.859375 -0.140625 L 7.859375 -0.46875 C 7.46875 -0.8125 7.375 -0.953125 7.375 -1.375 L 7.375 -5.84375 C 7.375 -7.484375 6.21875 -8.453125 4.046875 -8.453125 C 1.859375 -8.453125 0.671875 -7.390625 0.53125 -5.390625 L 2.640625 -5.390625 C 2.75 -6.359375 3.0625 -6.5 4.078125 -6.5 C 4.890625 -6.5 5.234375 -6.359375 5.234375 -5.828125 C 5.234375 -4.984375 4.671875 -5.203125 3.625 -5.015625 L 2.78125 -4.875 C 1.1875 -4.59375 0.359375 -3.765625 0.359375 -2.3125 C 0.359375 -0.75 1.515625 0.140625 2.859375 0.140625 C 3.75 0.140625 4.609375 -0.28125 5.25 -0.96875 C 5.25 -0.734375 5.3125 -0.265625 5.53125 0 L 7.859375 0 Z M 5.234375 -3.578125 C 5.234375 -2.375 4.703125 -1.8125 3.640625 -1.8125 C 2.9375 -1.8125 2.546875 -1.953125 2.546875 -2.546875 C 2.546875 -3.15625 2.828125 -3.25 3.703125 -3.40625 L 4.40625 -3.546875 C 4.96875 -3.65625 5.078125 -3.71875 5.234375 -3.796875 Z M 5.234375 -3.578125 \"/>\n",
       "</symbol>\n",
       "<symbol overflow=\"visible\" id=\"glyph0-9\">\n",
       "<path style=\"stroke:none;\" d=\"M 12.328125 -0.140625 L 12.328125 -5.828125 C 12.328125 -7.390625 11.328125 -8.453125 9.71875 -8.453125 C 8.703125 -8.453125 7.9375 -8.046875 7.359375 -7.28125 C 7 -7.96875 6.171875 -8.453125 5.171875 -8.453125 C 4.25 -8.453125 3.609375 -8.09375 3.015625 -7.375 L 3.015625 -8.3125 L 0.828125 -8.3125 L 0.828125 0 L 3.03125 0 L 3.03125 -4.96875 C 3.03125 -5.953125 3.515625 -6.40625 4.40625 -6.40625 C 5.109375 -6.40625 5.484375 -6.140625 5.484375 -5.5 L 5.484375 0 L 7.671875 0 L 7.671875 -4.96875 C 7.671875 -5.953125 8.171875 -6.40625 9.0625 -6.40625 C 9.765625 -6.40625 10.140625 -6.140625 10.140625 -5.5 L 10.140625 0 L 12.328125 0 Z M 12.328125 -0.140625 \"/>\n",
       "</symbol>\n",
       "<symbol overflow=\"visible\" id=\"glyph0-10\">\n",
       "<path style=\"stroke:none;\" d=\"\"/>\n",
       "</symbol>\n",
       "<symbol overflow=\"visible\" id=\"glyph0-11\">\n",
       "<path style=\"stroke:none;\" d=\"M 4.703125 -6.640625 L 4.703125 -8.15625 L 3.46875 -8.15625 L 3.46875 -8.8125 C 3.46875 -9.234375 3.609375 -9.296875 4 -9.296875 C 4.171875 -9.296875 4.40625 -9.28125 4.640625 -9.234375 L 4.640625 -11.09375 C 4.203125 -11.125 3.6875 -11.140625 3.40625 -11.140625 C 2.015625 -11.140625 1.28125 -10.34375 1.28125 -8.984375 L 1.28125 -8.15625 L 0.15625 -8.15625 L 0.15625 -6.5 L 1.28125 -6.5 L 1.28125 0 L 3.46875 0 L 3.46875 -6.5 L 4.703125 -6.5 Z M 4.703125 -6.640625 \"/>\n",
       "</symbol>\n",
       "<symbol overflow=\"visible\" id=\"glyph0-12\">\n",
       "<path style=\"stroke:none;\" d=\"M 7.875 -3.859375 C 7.875 -6.640625 6.421875 -8.453125 4.046875 -8.453125 C 1.75 -8.453125 0.265625 -6.75 0.265625 -4.046875 C 0.265625 -1.46875 1.734375 0.140625 4.015625 0.140625 C 5.8125 0.140625 7.3125 -0.8125 7.8125 -2.53125 L 5.671875 -2.53125 C 5.4375 -1.8125 4.84375 -1.734375 4.078125 -1.734375 C 3.09375 -1.734375 2.515625 -2.046875 2.453125 -3.46875 L 7.84375 -3.46875 Z M 5.65625 -5.125 L 2.5 -5.125 C 2.625 -6.109375 3.09375 -6.59375 4.03125 -6.59375 C 4.921875 -6.59375 5.484375 -6.140625 5.578125 -5.125 Z M 5.65625 -5.125 \"/>\n",
       "</symbol>\n",
       "<symbol overflow=\"visible\" id=\"glyph1-0\">\n",
       "<path style=\"stroke:none;\" d=\"\"/>\n",
       "</symbol>\n",
       "<symbol overflow=\"visible\" id=\"glyph1-1\">\n",
       "<path style=\"stroke:none;\" d=\"M 6.8125 -0.15625 L 6.8125 -1.09375 C 6.578125 -1.046875 6.53125 -1.046875 6.46875 -1.046875 C 6.09375 -1.046875 6.03125 -1.09375 6.03125 -1.421875 L 6.03125 -5.078125 C 6.03125 -6.234375 5.046875 -7 3.4375 -7 C 1.84375 -7 0.734375 -6.25 0.65625 -4.609375 L 1.96875 -4.609375 C 2.078125 -5.53125 2.421875 -5.78125 3.40625 -5.78125 C 4.34375 -5.78125 4.71875 -5.546875 4.71875 -4.921875 L 4.71875 -4.65625 C 4.71875 -4.21875 4.59375 -4.15625 3.78125 -4.0625 C 2.296875 -3.875 2.078125 -3.828125 1.671875 -3.65625 C 0.90625 -3.34375 0.390625 -2.625 0.390625 -1.828125 C 0.390625 -0.640625 1.34375 0.1875 2.671875 0.1875 C 3.515625 0.1875 4.40625 -0.203125 4.828125 -0.640625 C 4.875 -0.40625 5.46875 0.09375 5.96875 0.09375 C 6.1875 0.09375 6.34375 0.0625 6.8125 -0.046875 Z M 4.71875 -2.390625 C 4.71875 -1.453125 3.90625 -0.984375 2.90625 -0.984375 C 2.09375 -0.984375 1.734375 -1.140625 1.734375 -1.84375 C 1.734375 -2.53125 2.078125 -2.71875 3.1875 -2.875 C 4.28125 -3.03125 4.515625 -3.078125 4.71875 -3.171875 Z M 4.71875 -2.390625 \"/>\n",
       "</symbol>\n",
       "<symbol overflow=\"visible\" id=\"glyph1-2\">\n",
       "<path style=\"stroke:none;\" d=\"M 6.234375 -1.203125 L 6.234375 -6.8125 L 5.015625 -6.8125 L 5.015625 -5.71875 L 5.234375 -5.8125 C 4.71875 -6.59375 3.984375 -7 3.15625 -7 C 1.484375 -7 0.21875 -5.46875 0.21875 -3.34375 C 0.21875 -1.28125 1.53125 0.1875 3.0625 0.1875 C 3.890625 0.1875 4.546875 -0.203125 5.234375 -1.03125 L 5.015625 -1.109375 L 5.015625 -0.671875 C 5.015625 1.0625 4.4375 1.59375 3.21875 1.59375 C 2.40625 1.59375 1.890625 1.421875 1.734375 0.484375 L 0.421875 0.484375 C 0.546875 1.859375 1.65625 2.71875 3.1875 2.71875 C 5.234375 2.71875 6.234375 1.6875 6.234375 -1.203125 Z M 4.90625 -3.359375 C 4.90625 -1.796875 4.375 -1.03125 3.28125 -1.03125 C 2.140625 -1.03125 1.578125 -1.8125 1.578125 -3.40625 C 1.578125 -4.96875 2.15625 -5.78125 3.265625 -5.78125 C 4.390625 -5.78125 4.90625 -4.953125 4.90625 -3.359375 Z M 4.90625 -3.359375 \"/>\n",
       "</symbol>\n",
       "<symbol overflow=\"visible\" id=\"glyph1-3\">\n",
       "<path style=\"stroke:none;\" d=\"M 6.53125 -3.09375 C 6.53125 -4.046875 6.46875 -4.65625 6.28125 -5.140625 C 5.84375 -6.21875 4.71875 -7 3.5 -7 C 1.671875 -7 0.359375 -5.515625 0.359375 -3.359375 C 0.359375 -1.21875 1.640625 0.1875 3.46875 0.1875 C 4.96875 0.1875 6.140625 -0.78125 6.421875 -2.25 L 5.125 -2.25 C 4.796875 -1.25 4.34375 -1.03125 3.515625 -1.03125 C 2.421875 -1.03125 1.734375 -1.59375 1.71875 -2.96875 L 6.53125 -2.96875 Z M 5.390625 -3.9375 C 5.390625 -3.9375 5.203125 -4.0625 5.21875 -4.09375 L 1.75 -4.09375 C 1.828125 -5.109375 2.4375 -5.78125 3.484375 -5.78125 C 4.515625 -5.78125 5.15625 -5.046875 5.15625 -4.03125 Z M 5.390625 -3.9375 \"/>\n",
       "</symbol>\n",
       "<symbol overflow=\"visible\" id=\"glyph1-4\">\n",
       "<path style=\"stroke:none;\" d=\"M 5.859375 -1.96875 C 5.859375 -2.9375 5.1875 -3.5625 3.890625 -3.875 L 2.890625 -4.109375 C 2.03125 -4.3125 1.796875 -4.453125 1.796875 -4.90625 C 1.796875 -5.515625 2.21875 -5.78125 3.0625 -5.78125 C 3.90625 -5.78125 4.21875 -5.53125 4.234375 -4.71875 L 5.59375 -4.71875 C 5.59375 -6.140625 4.609375 -7 3.09375 -7 C 1.578125 -7 0.453125 -6.078125 0.453125 -4.859375 C 0.453125 -3.84375 1.109375 -3.21875 2.65625 -2.84375 L 3.640625 -2.609375 C 4.359375 -2.4375 4.515625 -2.34375 4.515625 -1.875 C 4.515625 -1.265625 4.03125 -1.03125 3.125 -1.03125 C 2.1875 -1.03125 1.78125 -1.125 1.640625 -2.265625 L 0.28125 -2.265625 C 0.34375 -0.609375 1.328125 0.1875 3.03125 0.1875 C 4.6875 0.1875 5.859375 -0.703125 5.859375 -1.96875 Z M 5.859375 -1.96875 \"/>\n",
       "</symbol>\n",
       "<symbol overflow=\"visible\" id=\"glyph1-5\">\n",
       "<path style=\"stroke:none;\" d=\"M 6.625 -2.25 L 6.625 -3.375 L 5.3125 -3.375 L 5.3125 -9.125 L 4.296875 -9.125 L 0.21875 -3.453125 L 0.21875 -2.125 L 3.953125 -2.125 L 3.953125 0 L 5.3125 0 L 5.3125 -2.125 L 6.625 -2.125 Z M 4.09375 -3.375 L 1.5625 -3.375 L 4.171875 -7.03125 L 3.953125 -7.109375 L 3.953125 -3.375 Z M 4.09375 -3.375 \"/>\n",
       "</symbol>\n",
       "<symbol overflow=\"visible\" id=\"glyph1-6\">\n",
       "<path style=\"stroke:none;\" d=\"M 6.46875 -4.390625 C 6.46875 -7.46875 5.359375 -9.125 3.4375 -9.125 C 1.53125 -9.125 0.40625 -7.4375 0.40625 -4.46875 C 0.40625 -1.46875 1.53125 0.1875 3.4375 0.1875 C 5.3125 0.1875 6.46875 -1.46875 6.46875 -4.390625 Z M 5.078125 -4.484375 C 5.078125 -1.96875 4.640625 -0.984375 3.40625 -0.984375 C 2.25 -0.984375 1.78125 -2.03125 1.78125 -4.453125 C 1.78125 -6.875 2.25 -7.890625 3.4375 -7.890625 C 4.625 -7.890625 5.078125 -6.859375 5.078125 -4.484375 Z M 5.078125 -4.484375 \"/>\n",
       "</symbol>\n",
       "<symbol overflow=\"visible\" id=\"glyph1-7\">\n",
       "<path style=\"stroke:none;\" d=\"M 6.53125 -3.0625 C 6.53125 -4.8125 5.25 -6.09375 3.546875 -6.09375 C 2.921875 -6.09375 2.328125 -5.890625 2.09375 -5.71875 L 2.359375 -7.59375 L 6.078125 -7.59375 L 6.078125 -8.9375 L 1.25 -8.9375 L 0.546875 -4.03125 L 1.78125 -4.03125 C 2.328125 -4.6875 2.65625 -4.859375 3.34375 -4.859375 C 4.53125 -4.859375 5.15625 -4.21875 5.15625 -2.90625 C 5.15625 -1.640625 4.546875 -1.046875 3.34375 -1.046875 C 2.390625 -1.046875 1.921875 -1.40625 1.625 -2.53125 L 0.28125 -2.53125 C 0.65625 -0.640625 1.796875 0.1875 3.375 0.1875 C 5.15625 0.1875 6.53125 -1.1875 6.53125 -3.0625 Z M 6.53125 -3.0625 \"/>\n",
       "</symbol>\n",
       "<symbol overflow=\"visible\" id=\"glyph1-8\">\n",
       "<path style=\"stroke:none;\" d=\"M 6.53125 -2.875 C 6.53125 -4.53125 5.28125 -5.78125 3.703125 -5.78125 C 2.828125 -5.78125 2.03125 -5.390625 1.5625 -4.734375 L 1.78125 -4.65625 C 1.796875 -6.8125 2.375 -7.890625 3.640625 -7.890625 C 4.40625 -7.890625 4.8125 -7.53125 5.015625 -6.546875 L 6.375 -6.546875 C 6.140625 -8.125 5.0625 -9.125 3.71875 -9.125 C 1.65625 -9.125 0.40625 -7.25 0.40625 -4.15625 C 0.40625 -1.40625 1.484375 0.1875 3.515625 0.1875 C 5.203125 0.1875 6.53125 -1.140625 6.53125 -2.875 Z M 5.15625 -2.78125 C 5.15625 -1.671875 4.53125 -1.046875 3.53125 -1.046875 C 2.5 -1.046875 1.84375 -1.71875 1.84375 -2.84375 C 1.84375 -3.953125 2.46875 -4.53125 3.5625 -4.53125 C 4.625 -4.53125 5.15625 -3.96875 5.15625 -2.78125 Z M 5.15625 -2.78125 \"/>\n",
       "</symbol>\n",
       "<symbol overflow=\"visible\" id=\"glyph1-9\">\n",
       "<path style=\"stroke:none;\" d=\"M 6.625 -7.875 L 6.625 -8.9375 L 0.4375 -8.9375 L 0.4375 -7.59375 L 5.09375 -7.59375 C 3.5 -5.578125 2.21875 -2.90625 1.5625 0 L 3 0 C 3.515625 -2.984375 4.71875 -5.578125 6.625 -7.828125 Z M 6.625 -7.875 \"/>\n",
       "</symbol>\n",
       "<symbol overflow=\"visible\" id=\"glyph2-0\">\n",
       "<path style=\"stroke:none;\" d=\"\"/>\n",
       "</symbol>\n",
       "<symbol overflow=\"visible\" id=\"glyph2-1\">\n",
       "<path style=\"stroke:none;\" d=\"M -4.6875 -8.46875 C -7.515625 -8.46875 -9.375 -6.9375 -9.375 -4.625 L -9.375 -0.96875 L 0 -0.96875 L 0 -4.625 C 0 -6.921875 -1.84375 -8.46875 -4.6875 -8.46875 Z M -4.671875 -7.03125 C -2.375 -7.03125 -1.28125 -6.21875 -1.28125 -4.421875 L -1.28125 -2.40625 L -8.09375 -2.40625 L -8.09375 -4.421875 C -8.09375 -6.21875 -7 -7.03125 -4.671875 -7.03125 Z M -4.671875 -7.03125 \"/>\n",
       "</symbol>\n",
       "<symbol overflow=\"visible\" id=\"glyph2-2\">\n",
       "<path style=\"stroke:none;\" d=\"M -3.09375 -6.53125 C -4.046875 -6.53125 -4.65625 -6.46875 -5.140625 -6.28125 C -6.21875 -5.84375 -7 -4.71875 -7 -3.5 C -7 -1.671875 -5.515625 -0.359375 -3.359375 -0.359375 C -1.21875 -0.359375 0.1875 -1.640625 0.1875 -3.46875 C 0.1875 -4.96875 -0.78125 -6.140625 -2.25 -6.421875 L -2.25 -5.125 C -1.25 -4.796875 -1.03125 -4.34375 -1.03125 -3.515625 C -1.03125 -2.421875 -1.59375 -1.734375 -2.96875 -1.71875 L -2.96875 -6.53125 Z M -3.9375 -5.390625 C -3.9375 -5.390625 -4.0625 -5.203125 -4.09375 -5.21875 L -4.09375 -1.75 C -5.109375 -1.828125 -5.78125 -2.4375 -5.78125 -3.484375 C -5.78125 -4.515625 -5.046875 -5.15625 -4.03125 -5.15625 Z M -3.9375 -5.390625 \"/>\n",
       "</symbol>\n",
       "<symbol overflow=\"visible\" id=\"glyph2-3\">\n",
       "<path style=\"stroke:none;\" d=\"M -0.125 -6.21875 L -5.078125 -6.21875 C -6.15625 -6.21875 -7 -5.28125 -7 -4.015625 C -7 -3.03125 -6.578125 -2.3125 -5.65625 -1.734375 L -5.578125 -1.96875 L -6.8125 -1.96875 L -6.8125 -0.734375 L 0 -0.734375 L 0 -2.03125 L -3.734375 -2.03125 C -5.078125 -2.03125 -5.828125 -2.640625 -5.828125 -3.703125 C -5.828125 -4.53125 -5.453125 -4.90625 -4.65625 -4.90625 L 0 -4.90625 L 0 -6.21875 Z M -0.125 -6.21875 \"/>\n",
       "</symbol>\n",
       "<symbol overflow=\"visible\" id=\"glyph2-4\">\n",
       "<path style=\"stroke:none;\" d=\"M -1.96875 -5.859375 C -2.9375 -5.859375 -3.5625 -5.1875 -3.875 -3.890625 L -4.109375 -2.890625 C -4.3125 -2.03125 -4.453125 -1.796875 -4.90625 -1.796875 C -5.515625 -1.796875 -5.78125 -2.21875 -5.78125 -3.0625 C -5.78125 -3.90625 -5.53125 -4.21875 -4.71875 -4.234375 L -4.71875 -5.59375 C -6.140625 -5.59375 -7 -4.609375 -7 -3.09375 C -7 -1.578125 -6.078125 -0.453125 -4.859375 -0.453125 C -3.84375 -0.453125 -3.21875 -1.109375 -2.84375 -2.65625 L -2.609375 -3.640625 C -2.4375 -4.359375 -2.34375 -4.515625 -1.875 -4.515625 C -1.265625 -4.515625 -1.03125 -4.03125 -1.03125 -3.125 C -1.03125 -2.1875 -1.125 -1.78125 -2.265625 -1.640625 L -2.265625 -0.28125 C -0.609375 -0.34375 0.1875 -1.328125 0.1875 -3.03125 C 0.1875 -4.6875 -0.703125 -5.859375 -1.96875 -5.859375 Z M -1.96875 -5.859375 \"/>\n",
       "</symbol>\n",
       "<symbol overflow=\"visible\" id=\"glyph2-5\">\n",
       "<path style=\"stroke:none;\" d=\"M -0.125 -2.03125 L -6.8125 -2.03125 L -6.8125 -0.734375 L 0 -0.734375 L 0 -2.03125 Z M -7.65625 -2.171875 L -9.09375 -2.171875 L -9.09375 -0.609375 L -7.53125 -0.609375 L -7.53125 -2.171875 Z M -7.65625 -2.171875 \"/>\n",
       "</symbol>\n",
       "<symbol overflow=\"visible\" id=\"glyph2-6\">\n",
       "<path style=\"stroke:none;\" d=\"M -0.125 -3.296875 L -1.171875 -3.296875 C -1.09375 -3.03125 -1.09375 -2.875 -1.09375 -2.671875 C -1.09375 -2.21875 -1.078125 -2.21875 -1.53125 -2.21875 L -5.703125 -2.21875 L -5.703125 -3.296875 L -6.8125 -3.296875 L -6.8125 -2.21875 L -8.609375 -2.21875 L -8.609375 -0.921875 L -6.8125 -0.921875 L -6.8125 -0.03125 L -5.703125 -0.03125 L -5.703125 -0.921875 L -1.078125 -0.921875 C -0.40625 -0.921875 0.09375 -1.515625 0.09375 -2.328125 C 0.09375 -2.578125 0.0625 -2.828125 -0.015625 -3.296875 Z M -0.125 -3.296875 \"/>\n",
       "</symbol>\n",
       "<symbol overflow=\"visible\" id=\"glyph2-7\">\n",
       "<path style=\"stroke:none;\" d=\"M -6.8125 -5.96875 L -6.8125 -4.765625 L -1.578125 -2.90625 L -1.578125 -3.15625 L -6.8125 -1.453125 L -6.8125 -0.0625 L -0.09375 -2.328125 L 0.9375 -1.921875 C 1.40625 -1.75 1.4375 -1.671875 1.4375 -1.21875 C 1.4375 -1.078125 1.40625 -0.90625 1.34375 -0.53125 L 2.515625 -0.53125 C 2.640625 -0.78125 2.71875 -1.09375 2.71875 -1.375 C 2.71875 -2.109375 2.1875 -2.84375 1.25 -3.1875 L -6.8125 -6.15625 Z M -6.8125 -5.96875 \"/>\n",
       "</symbol>\n",
       "<symbol overflow=\"visible\" id=\"glyph2-8\">\n",
       "<path style=\"stroke:none;\" d=\"M -4.390625 -6.46875 C -7.46875 -6.46875 -9.125 -5.359375 -9.125 -3.4375 C -9.125 -1.53125 -7.4375 -0.40625 -4.46875 -0.40625 C -1.46875 -0.40625 0.1875 -1.53125 0.1875 -3.4375 C 0.1875 -5.3125 -1.46875 -6.46875 -4.390625 -6.46875 Z M -4.484375 -5.078125 C -1.96875 -5.078125 -0.984375 -4.640625 -0.984375 -3.40625 C -0.984375 -2.25 -2.03125 -1.78125 -4.453125 -1.78125 C -6.875 -1.78125 -7.890625 -2.25 -7.890625 -3.4375 C -7.890625 -4.625 -6.859375 -5.078125 -4.484375 -5.078125 Z M -4.484375 -5.078125 \"/>\n",
       "</symbol>\n",
       "<symbol overflow=\"visible\" id=\"glyph2-9\">\n",
       "<path style=\"stroke:none;\" d=\"M -0.125 -2.515625 L -1.5625 -2.515625 L -1.5625 -0.953125 L 0 -0.953125 L 0 -2.515625 Z M -0.125 -2.515625 \"/>\n",
       "</symbol>\n",
       "<symbol overflow=\"visible\" id=\"glyph2-10\">\n",
       "<path style=\"stroke:none;\" d=\"M -2.25 -6.625 L -3.375 -6.625 L -3.375 -5.3125 L -9.125 -5.3125 L -9.125 -4.296875 L -3.453125 -0.21875 L -2.125 -0.21875 L -2.125 -3.953125 L 0 -3.953125 L 0 -5.3125 L -2.125 -5.3125 L -2.125 -6.625 Z M -3.375 -4.09375 L -3.375 -1.5625 L -7.03125 -4.171875 L -7.109375 -3.953125 L -3.375 -3.953125 Z M -3.375 -4.09375 \"/>\n",
       "</symbol>\n",
       "</g>\n",
       "</defs>\n",
       "<g id=\"surface1210\">\n",
       "<rect x=\"0\" y=\"0\" width=\"288\" height=\"216\" style=\"fill:rgb(100%,100%,100%);fill-opacity:1;stroke:none;\"/>\n",
       "<g style=\"fill:rgb(0%,0%,0%);fill-opacity:1;\">\n",
       "  <use xlink:href=\"#glyph0-1\" x=\"93.378906\" y=\"35.089844\"/>\n",
       "  <use xlink:href=\"#glyph0-2\" x=\"104.141159\" y=\"35.089844\"/>\n",
       "  <use xlink:href=\"#glyph0-3\" x=\"108.28508\" y=\"35.089844\"/>\n",
       "  <use xlink:href=\"#glyph0-4\" x=\"116.572906\" y=\"35.089844\"/>\n",
       "  <use xlink:href=\"#glyph0-5\" x=\"121.536667\" y=\"35.089844\"/>\n",
       "  <use xlink:href=\"#glyph0-6\" x=\"130.644333\" y=\"35.089844\"/>\n",
       "  <use xlink:href=\"#glyph0-7\" x=\"139.751999\" y=\"35.089844\"/>\n",
       "  <use xlink:href=\"#glyph0-8\" x=\"145.550491\" y=\"35.089844\"/>\n",
       "  <use xlink:href=\"#glyph0-9\" x=\"153.838318\" y=\"35.089844\"/>\n",
       "  <use xlink:href=\"#glyph0-10\" x=\"167.089905\" y=\"35.089844\"/>\n",
       "  <use xlink:href=\"#glyph0-5\" x=\"171.233826\" y=\"35.089844\"/>\n",
       "  <use xlink:href=\"#glyph0-11\" x=\"180.341492\" y=\"35.089844\"/>\n",
       "  <use xlink:href=\"#glyph0-10\" x=\"185.305252\" y=\"35.089844\"/>\n",
       "  <use xlink:href=\"#glyph0-8\" x=\"189.449173\" y=\"35.089844\"/>\n",
       "  <use xlink:href=\"#glyph0-6\" x=\"197.737\" y=\"35.089844\"/>\n",
       "  <use xlink:href=\"#glyph0-12\" x=\"206.844666\" y=\"35.089844\"/>\n",
       "  <use xlink:href=\"#glyph0-3\" x=\"215.132492\" y=\"35.089844\"/>\n",
       "</g>\n",
       "<g style=\"fill:rgb(0%,0%,0%);fill-opacity:1;\">\n",
       "  <use xlink:href=\"#glyph1-1\" x=\"144.847656\" y=\"198.71875\"/>\n",
       "  <use xlink:href=\"#glyph1-2\" x=\"151.797684\" y=\"198.71875\"/>\n",
       "  <use xlink:href=\"#glyph1-3\" x=\"158.747711\" y=\"198.71875\"/>\n",
       "  <use xlink:href=\"#glyph1-4\" x=\"165.697739\" y=\"198.71875\"/>\n",
       "</g>\n",
       "<g style=\"fill:rgb(0%,0%,0%);fill-opacity:1;\">\n",
       "  <use xlink:href=\"#glyph2-1\" x=\"14.398438\" y=\"121.636719\"/>\n",
       "  <use xlink:href=\"#glyph2-2\" x=\"14.398438\" y=\"112.611679\"/>\n",
       "  <use xlink:href=\"#glyph2-3\" x=\"14.398438\" y=\"105.661652\"/>\n",
       "  <use xlink:href=\"#glyph2-4\" x=\"14.398438\" y=\"98.711624\"/>\n",
       "  <use xlink:href=\"#glyph2-5\" x=\"14.398438\" y=\"92.461594\"/>\n",
       "  <use xlink:href=\"#glyph2-6\" x=\"14.398438\" y=\"89.686584\"/>\n",
       "  <use xlink:href=\"#glyph2-7\" x=\"14.398438\" y=\"86.211578\"/>\n",
       "</g>\n",
       "<path style=\"fill:none;stroke-width:1;stroke-linecap:round;stroke-linejoin:round;stroke:rgb(0%,0%,0%);stroke-opacity:1;stroke-miterlimit:10;\" d=\"M 66.398438 142.558594 L 250.398438 142.558594 \"/>\n",
       "<path style=\"fill:none;stroke-width:1;stroke-linecap:round;stroke-linejoin:round;stroke:rgb(0%,0%,0%);stroke-opacity:1;stroke-miterlimit:10;\" d=\"M 66.398438 142.558594 L 66.398438 149.761719 \"/>\n",
       "<path style=\"fill:none;stroke-width:1;stroke-linecap:round;stroke-linejoin:round;stroke:rgb(0%,0%,0%);stroke-opacity:1;stroke-miterlimit:10;\" d=\"M 97.066406 142.558594 L 97.066406 149.761719 \"/>\n",
       "<path style=\"fill:none;stroke-width:1;stroke-linecap:round;stroke-linejoin:round;stroke:rgb(0%,0%,0%);stroke-opacity:1;stroke-miterlimit:10;\" d=\"M 127.734375 142.558594 L 127.734375 149.761719 \"/>\n",
       "<path style=\"fill:none;stroke-width:1;stroke-linecap:round;stroke-linejoin:round;stroke:rgb(0%,0%,0%);stroke-opacity:1;stroke-miterlimit:10;\" d=\"M 158.398438 142.558594 L 158.398438 149.761719 \"/>\n",
       "<path style=\"fill:none;stroke-width:1;stroke-linecap:round;stroke-linejoin:round;stroke:rgb(0%,0%,0%);stroke-opacity:1;stroke-miterlimit:10;\" d=\"M 189.066406 142.558594 L 189.066406 149.761719 \"/>\n",
       "<path style=\"fill:none;stroke-width:1;stroke-linecap:round;stroke-linejoin:round;stroke:rgb(0%,0%,0%);stroke-opacity:1;stroke-miterlimit:10;\" d=\"M 219.734375 142.558594 L 219.734375 149.761719 \"/>\n",
       "<path style=\"fill:none;stroke-width:1;stroke-linecap:round;stroke-linejoin:round;stroke:rgb(0%,0%,0%);stroke-opacity:1;stroke-miterlimit:10;\" d=\"M 250.398438 142.558594 L 250.398438 149.761719 \"/>\n",
       "<g style=\"fill:rgb(0%,0%,0%);fill-opacity:1;\">\n",
       "  <use xlink:href=\"#glyph1-5\" x=\"59.449219\" y=\"169.921875\"/>\n",
       "  <use xlink:href=\"#glyph1-6\" x=\"66.399246\" y=\"169.921875\"/>\n",
       "</g>\n",
       "<g style=\"fill:rgb(0%,0%,0%);fill-opacity:1;\">\n",
       "  <use xlink:href=\"#glyph1-5\" x=\"90.117188\" y=\"169.921875\"/>\n",
       "  <use xlink:href=\"#glyph1-7\" x=\"97.067215\" y=\"169.921875\"/>\n",
       "</g>\n",
       "<g style=\"fill:rgb(0%,0%,0%);fill-opacity:1;\">\n",
       "  <use xlink:href=\"#glyph1-7\" x=\"120.785156\" y=\"169.921875\"/>\n",
       "  <use xlink:href=\"#glyph1-6\" x=\"127.735184\" y=\"169.921875\"/>\n",
       "</g>\n",
       "<g style=\"fill:rgb(0%,0%,0%);fill-opacity:1;\">\n",
       "  <use xlink:href=\"#glyph1-7\" x=\"151.449219\" y=\"169.921875\"/>\n",
       "  <use xlink:href=\"#glyph1-7\" x=\"158.399246\" y=\"169.921875\"/>\n",
       "</g>\n",
       "<g style=\"fill:rgb(0%,0%,0%);fill-opacity:1;\">\n",
       "  <use xlink:href=\"#glyph1-8\" x=\"182.117188\" y=\"169.921875\"/>\n",
       "  <use xlink:href=\"#glyph1-6\" x=\"189.067215\" y=\"169.921875\"/>\n",
       "</g>\n",
       "<g style=\"fill:rgb(0%,0%,0%);fill-opacity:1;\">\n",
       "  <use xlink:href=\"#glyph1-8\" x=\"212.785156\" y=\"169.921875\"/>\n",
       "  <use xlink:href=\"#glyph1-7\" x=\"219.735184\" y=\"169.921875\"/>\n",
       "</g>\n",
       "<g style=\"fill:rgb(0%,0%,0%);fill-opacity:1;\">\n",
       "  <use xlink:href=\"#glyph1-9\" x=\"243.449219\" y=\"169.921875\"/>\n",
       "  <use xlink:href=\"#glyph1-6\" x=\"250.399246\" y=\"169.921875\"/>\n",
       "</g>\n",
       "<path style=\"fill:none;stroke-width:1;stroke-linecap:round;stroke-linejoin:round;stroke:rgb(0%,0%,0%);stroke-opacity:1;stroke-miterlimit:10;\" d=\"M 59.039062 139.464844 L 59.039062 77.117188 \"/>\n",
       "<path style=\"fill:none;stroke-width:1;stroke-linecap:round;stroke-linejoin:round;stroke:rgb(0%,0%,0%);stroke-opacity:1;stroke-miterlimit:10;\" d=\"M 59.039062 139.464844 L 51.839844 139.464844 \"/>\n",
       "<path style=\"fill:none;stroke-width:1;stroke-linecap:round;stroke-linejoin:round;stroke:rgb(0%,0%,0%);stroke-opacity:1;stroke-miterlimit:10;\" d=\"M 59.039062 118.683594 L 51.839844 118.683594 \"/>\n",
       "<path style=\"fill:none;stroke-width:1;stroke-linecap:round;stroke-linejoin:round;stroke:rgb(0%,0%,0%);stroke-opacity:1;stroke-miterlimit:10;\" d=\"M 59.039062 97.898438 L 51.839844 97.898438 \"/>\n",
       "<path style=\"fill:none;stroke-width:1;stroke-linecap:round;stroke-linejoin:round;stroke:rgb(0%,0%,0%);stroke-opacity:1;stroke-miterlimit:10;\" d=\"M 59.039062 77.117188 L 51.839844 77.117188 \"/>\n",
       "<g style=\"fill:rgb(0%,0%,0%);fill-opacity:1;\">\n",
       "  <use xlink:href=\"#glyph2-8\" x=\"43.199219\" y=\"151.628906\"/>\n",
       "  <use xlink:href=\"#glyph2-9\" x=\"43.199219\" y=\"144.678879\"/>\n",
       "  <use xlink:href=\"#glyph2-8\" x=\"43.199219\" y=\"141.203873\"/>\n",
       "  <use xlink:href=\"#glyph2-8\" x=\"43.199219\" y=\"134.253845\"/>\n",
       "</g>\n",
       "<g style=\"fill:rgb(0%,0%,0%);fill-opacity:1;\">\n",
       "  <use xlink:href=\"#glyph2-8\" x=\"43.199219\" y=\"110.0625\"/>\n",
       "  <use xlink:href=\"#glyph2-9\" x=\"43.199219\" y=\"103.112473\"/>\n",
       "  <use xlink:href=\"#glyph2-8\" x=\"43.199219\" y=\"99.637466\"/>\n",
       "  <use xlink:href=\"#glyph2-10\" x=\"43.199219\" y=\"92.687439\"/>\n",
       "</g>\n",
       "<path style=\"fill:none;stroke-width:1;stroke-linecap:round;stroke-linejoin:round;stroke:rgb(0%,0%,0%);stroke-opacity:1;stroke-miterlimit:10;\" d=\"M 66.398438 129.800781 L 97.066406 129.800781 L 97.066406 139.46875 L 66.398438 139.46875 Z M 66.398438 129.800781 \"/>\n",
       "<path style=\"fill:none;stroke-width:1;stroke-linecap:round;stroke-linejoin:round;stroke:rgb(0%,0%,0%);stroke-opacity:1;stroke-miterlimit:10;\" d=\"M 97.066406 105.632812 L 127.734375 105.632812 L 127.734375 139.464844 L 97.066406 139.464844 Z M 97.066406 105.632812 \"/>\n",
       "<path style=\"fill:none;stroke-width:1;stroke-linecap:round;stroke-linejoin:round;stroke:rgb(0%,0%,0%);stroke-opacity:1;stroke-miterlimit:10;\" d=\"M 127.734375 62.132812 L 158.402344 62.132812 L 158.402344 139.464844 L 127.734375 139.464844 Z M 127.734375 62.132812 \"/>\n",
       "<path style=\"fill:none;stroke-width:1;stroke-linecap:round;stroke-linejoin:round;stroke:rgb(0%,0%,0%);stroke-opacity:1;stroke-miterlimit:10;\" d=\"M 158.398438 95.964844 L 189.066406 95.964844 L 189.066406 139.464844 L 158.398438 139.464844 Z M 158.398438 95.964844 \"/>\n",
       "<path style=\"fill:none;stroke-width:1;stroke-linecap:round;stroke-linejoin:round;stroke:rgb(0%,0%,0%);stroke-opacity:1;stroke-miterlimit:10;\" d=\"M 189.066406 105.632812 L 219.734375 105.632812 L 219.734375 139.464844 L 189.066406 139.464844 Z M 189.066406 105.632812 \"/>\n",
       "<path style=\"fill:none;stroke-width:1;stroke-linecap:round;stroke-linejoin:round;stroke:rgb(0%,0%,0%);stroke-opacity:1;stroke-miterlimit:10;\" d=\"M 219.734375 129.800781 L 250.402344 129.800781 L 250.402344 139.46875 L 219.734375 139.46875 Z M 219.734375 129.800781 \"/>\n",
       "</g>\n",
       "</svg>\n"
      ]
     },
     "metadata": {
      "image/svg+xml": {
       "isolated": true
      }
     },
     "output_type": "display_data"
    }
   ],
   "source": [
    "hist(ages, prob=TRUE) \n",
    "# • You will see a relative frequency histogram of the ages.  \n",
    "# • The histogram you see is different from the one we have in our notes, \n",
    "# because relative frequencies correspond to areas here, not heights. Different \n",
    "# sources do the histograms differently. \n",
    "# • Here, “prob” means “probability that a randomly selected data value lies in \n",
    "# the class.” Probabilities are often related to relative frequencies. \n",
    "# • ‘TRUE’ can be abbreviated as ‘T’."
   ]
  },
  {
   "cell_type": "code",
   "execution_count": 85,
   "metadata": {
    "run_control": {
     "frozen": false,
     "marked": false,
     "read_only": false
    },
    "slideshow": {
     "slide_type": "subslide"
    }
   },
   "outputs": [
    {
     "data": {
      "image/jpeg": "[encoded data removed]",
      "image/png": "",
      "image/svg+xml": [
       "<?xml version=\"1.0\" encoding=\"UTF-8\"?>\n",
       "<svg xmlns=\"http://www.w3.org/2000/svg\" xmlns:xlink=\"http://www.w3.org/1999/xlink\" width=\"288pt\" height=\"216pt\" viewBox=\"0 0 288 216\" version=\"1.1\">\n",
       "<defs>\n",
       "<g>\n",
       "<symbol overflow=\"visible\" id=\"glyph0-0\">\n",
       "<path style=\"stroke:none;\" d=\"\"/>\n",
       "</symbol>\n",
       "<symbol overflow=\"visible\" id=\"glyph0-1\">\n",
       "<path style=\"stroke:none;\" d=\"M 10.140625 -0.140625 L 10.140625 -0.625 C 9.78125 -0.8125 9.65625 -0.953125 9.65625 -1.4375 C 9.59375 -4.640625 9.5 -4.921875 8.109375 -5.515625 L 8.109375 -5.25 C 9.328125 -5.71875 9.984375 -6.734375 9.984375 -8.0625 C 9.984375 -9.75 8.9375 -11.140625 7.015625 -11.140625 L 1.140625 -11.140625 L 1.140625 0 L 3.46875 0 L 3.46875 -4.3125 L 6 -4.3125 C 6.96875 -4.3125 7.3125 -4.046875 7.3125 -3.140625 L 7.296875 -2 C 7.296875 -0.984375 7.359375 -0.546875 7.671875 0 L 10.140625 0 Z M 7.640625 -7.75 C 7.640625 -6.78125 7.390625 -6.4375 6.125 -6.4375 L 3.46875 -6.4375 L 3.46875 -9 L 6.125 -9 C 7.34375 -9 7.640625 -8.6875 7.640625 -7.75 Z M 7.640625 -7.75 \"/>\n",
       "</symbol>\n",
       "<symbol overflow=\"visible\" id=\"glyph0-2\">\n",
       "<path style=\"stroke:none;\" d=\"M 7.875 -3.859375 C 7.875 -6.640625 6.421875 -8.453125 4.046875 -8.453125 C 1.75 -8.453125 0.265625 -6.75 0.265625 -4.046875 C 0.265625 -1.46875 1.734375 0.140625 4.015625 0.140625 C 5.8125 0.140625 7.3125 -0.8125 7.8125 -2.53125 L 5.671875 -2.53125 C 5.4375 -1.8125 4.84375 -1.734375 4.078125 -1.734375 C 3.09375 -1.734375 2.515625 -2.046875 2.453125 -3.46875 L 7.84375 -3.46875 Z M 5.65625 -5.125 L 2.5 -5.125 C 2.625 -6.109375 3.09375 -6.59375 4.03125 -6.59375 C 4.921875 -6.59375 5.484375 -6.140625 5.578125 -5.125 Z M 5.65625 -5.125 \"/>\n",
       "</symbol>\n",
       "<symbol overflow=\"visible\" id=\"glyph0-3\">\n",
       "<path style=\"stroke:none;\" d=\"M 3.125 -0.140625 L 3.125 -11.140625 L 0.9375 -11.140625 L 0.9375 0 L 3.125 0 Z M 3.125 -0.140625 \"/>\n",
       "</symbol>\n",
       "<symbol overflow=\"visible\" id=\"glyph0-4\">\n",
       "<path style=\"stroke:none;\" d=\"M 7.859375 -0.140625 L 7.859375 -0.46875 C 7.46875 -0.8125 7.375 -0.953125 7.375 -1.375 L 7.375 -5.84375 C 7.375 -7.484375 6.21875 -8.453125 4.046875 -8.453125 C 1.859375 -8.453125 0.671875 -7.390625 0.53125 -5.390625 L 2.640625 -5.390625 C 2.75 -6.359375 3.0625 -6.5 4.078125 -6.5 C 4.890625 -6.5 5.234375 -6.359375 5.234375 -5.828125 C 5.234375 -4.984375 4.671875 -5.203125 3.625 -5.015625 L 2.78125 -4.875 C 1.1875 -4.59375 0.359375 -3.765625 0.359375 -2.3125 C 0.359375 -0.75 1.515625 0.140625 2.859375 0.140625 C 3.75 0.140625 4.609375 -0.28125 5.25 -0.96875 C 5.25 -0.734375 5.3125 -0.265625 5.53125 0 L 7.859375 0 Z M 5.234375 -3.578125 C 5.234375 -2.375 4.703125 -1.8125 3.640625 -1.8125 C 2.9375 -1.8125 2.546875 -1.953125 2.546875 -2.546875 C 2.546875 -3.15625 2.828125 -3.25 3.703125 -3.40625 L 4.40625 -3.546875 C 4.96875 -3.65625 5.078125 -3.71875 5.234375 -3.796875 Z M 5.234375 -3.578125 \"/>\n",
       "</symbol>\n",
       "<symbol overflow=\"visible\" id=\"glyph0-5\">\n",
       "<path style=\"stroke:none;\" d=\"M 4.53125 -0.140625 L 4.53125 -1.734375 C 4.28125 -1.703125 4.15625 -1.6875 4.015625 -1.6875 C 3.453125 -1.6875 3.375 -1.71875 3.375 -2.4375 L 3.375 -6.5 L 4.53125 -6.5 L 4.53125 -8.15625 L 3.375 -8.15625 L 3.375 -10.3125 L 1.171875 -10.3125 L 1.171875 -8.15625 L 0.15625 -8.15625 L 0.15625 -6.5 L 1.171875 -6.5 L 1.171875 -1.859375 C 1.171875 -0.59375 1.90625 0.0625 3.28125 0.0625 C 3.734375 0.0625 4.109375 0.015625 4.53125 0 Z M 4.53125 -0.140625 \"/>\n",
       "</symbol>\n",
       "<symbol overflow=\"visible\" id=\"glyph0-6\">\n",
       "<path style=\"stroke:none;\" d=\"M 3.125 -0.140625 L 3.125 -8.3125 L 0.9375 -8.3125 L 0.9375 0 L 3.125 0 Z M 3.15625 -9.15625 L 3.15625 -11.375 L 0.96875 -11.375 L 0.96875 -9.015625 L 3.15625 -9.015625 Z M 3.15625 -9.15625 \"/>\n",
       "</symbol>\n",
       "<symbol overflow=\"visible\" id=\"glyph0-7\">\n",
       "<path style=\"stroke:none;\" d=\"M 7.984375 -8.3125 L 5.765625 -8.3125 L 4.140625 -2.453125 L 2.421875 -8.3125 L 0.109375 -8.3125 L 3.03125 0 L 5.21875 0 L 8.078125 -8.3125 Z M 7.984375 -8.3125 \"/>\n",
       "</symbol>\n",
       "<symbol overflow=\"visible\" id=\"glyph0-8\">\n",
       "<path style=\"stroke:none;\" d=\"\"/>\n",
       "</symbol>\n",
       "<symbol overflow=\"visible\" id=\"glyph0-9\">\n",
       "<path style=\"stroke:none;\" d=\"M 4.703125 -6.640625 L 4.703125 -8.15625 L 3.46875 -8.15625 L 3.46875 -8.8125 C 3.46875 -9.234375 3.609375 -9.296875 4 -9.296875 C 4.171875 -9.296875 4.40625 -9.28125 4.640625 -9.234375 L 4.640625 -11.09375 C 4.203125 -11.125 3.6875 -11.140625 3.40625 -11.140625 C 2.015625 -11.140625 1.28125 -10.34375 1.28125 -8.984375 L 1.28125 -8.15625 L 0.15625 -8.15625 L 0.15625 -6.5 L 1.28125 -6.5 L 1.28125 0 L 3.46875 0 L 3.46875 -6.5 L 4.703125 -6.5 Z M 4.703125 -6.640625 \"/>\n",
       "</symbol>\n",
       "<symbol overflow=\"visible\" id=\"glyph0-10\">\n",
       "<path style=\"stroke:none;\" d=\"M 5.5625 -6.1875 L 5.5625 -8.421875 C 5.390625 -8.453125 5.328125 -8.453125 5.265625 -8.453125 C 4.3125 -8.453125 3.40625 -7.6875 3.078125 -6.828125 L 3.078125 -8.3125 L 0.875 -8.3125 L 0.875 0 L 3.078125 0 L 3.078125 -4.40625 C 3.078125 -5.640625 3.640625 -6.109375 4.859375 -6.109375 C 5.078125 -6.109375 5.234375 -6.09375 5.5625 -6.03125 Z M 5.5625 -6.1875 \"/>\n",
       "</symbol>\n",
       "<symbol overflow=\"visible\" id=\"glyph0-11\">\n",
       "<path style=\"stroke:none;\" d=\"M 8.15625 3.109375 L 8.15625 -8.3125 L 5.96875 -8.3125 L 5.96875 -7.234375 C 5.5625 -7.953125 4.78125 -8.453125 3.78125 -8.453125 C 1.84375 -8.453125 0.359375 -6.625 0.359375 -4.15625 C 0.359375 -1.75 1.71875 0.140625 3.765625 0.140625 C 4.78125 0.140625 5.5625 -0.21875 5.96875 -0.96875 L 5.96875 3.25 L 8.15625 3.25 Z M 5.96875 -4.109375 C 5.96875 -2.65625 5.3125 -1.875 4.265625 -1.875 C 3.21875 -1.875 2.546875 -2.65625 2.546875 -4.15625 C 2.546875 -5.671875 3.21875 -6.4375 4.265625 -6.4375 C 5.328125 -6.4375 5.96875 -5.671875 5.96875 -4.109375 Z M 5.96875 -4.109375 \"/>\n",
       "</symbol>\n",
       "<symbol overflow=\"visible\" id=\"glyph0-12\">\n",
       "<path style=\"stroke:none;\" d=\"M 8.109375 -0.140625 L 8.109375 -8.3125 L 5.921875 -8.3125 L 5.921875 -3.359375 C 5.921875 -2.40625 5.3125 -1.90625 4.296875 -1.90625 C 3.40625 -1.90625 3 -2.25 3 -3.21875 L 3 -8.3125 L 0.8125 -8.3125 L 0.8125 -2.78125 C 0.8125 -1.015625 1.84375 0.140625 3.5625 0.140625 C 4.65625 0.140625 5.40625 -0.296875 5.921875 -0.984375 L 5.921875 0 L 8.109375 0 Z M 8.109375 -0.140625 \"/>\n",
       "</symbol>\n",
       "<symbol overflow=\"visible\" id=\"glyph0-13\">\n",
       "<path style=\"stroke:none;\" d=\"M 8.1875 -0.140625 L 8.1875 -5.53125 C 8.1875 -7.296875 7.15625 -8.453125 5.4375 -8.453125 C 4.359375 -8.453125 3.578125 -8 3.078125 -7.234375 L 3.078125 -8.3125 L 0.875 -8.3125 L 0.875 0 L 3.078125 0 L 3.078125 -4.96875 C 3.078125 -5.921875 3.703125 -6.40625 4.703125 -6.40625 C 5.609375 -6.40625 6 -6.046875 6 -5.09375 L 6 0 L 8.1875 0 Z M 8.1875 -0.140625 \"/>\n",
       "</symbol>\n",
       "<symbol overflow=\"visible\" id=\"glyph0-14\">\n",
       "<path style=\"stroke:none;\" d=\"M 7.78125 -3.0625 L 5.765625 -3.0625 C 5.453125 -2.09375 5.09375 -1.8125 4.296875 -1.8125 C 3.234375 -1.8125 2.640625 -2.53125 2.640625 -4.09375 C 2.640625 -5.578125 2.984375 -6.5 4.296875 -6.5 C 5.140625 -6.5 5.484375 -6.234375 5.75 -5.03125 L 7.828125 -5.03125 C 7.671875 -7.140625 6.3125 -8.453125 4.3125 -8.453125 C 1.90625 -8.453125 0.453125 -6.84375 0.453125 -4.09375 C 0.453125 -1.453125 1.890625 0.140625 4.28125 0.140625 C 6.234375 0.140625 7.625 -1.203125 7.84375 -3.0625 Z M 7.78125 -3.0625 \"/>\n",
       "</symbol>\n",
       "<symbol overflow=\"visible\" id=\"glyph0-15\">\n",
       "<path style=\"stroke:none;\" d=\"M 8.015625 -8.3125 L 5.859375 -8.3125 L 4.1875 -2.484375 L 2.4375 -8.3125 L 0.03125 -8.3125 L 3.078125 0.203125 L 3.078125 0.25 C 3.078125 1.015625 2.5625 1.453125 1.828125 1.453125 C 1.671875 1.453125 1.546875 1.453125 1.21875 1.359375 L 1.21875 3.203125 C 1.59375 3.25 1.78125 3.265625 2.03125 3.265625 C 3.421875 3.265625 4.203125 2.875 4.75 1.34375 L 8.109375 -8.3125 Z M 8.015625 -8.3125 \"/>\n",
       "</symbol>\n",
       "<symbol overflow=\"visible\" id=\"glyph0-16\">\n",
       "<path style=\"stroke:none;\" d=\"M 8.109375 -0.140625 L 8.109375 -5.53125 C 8.109375 -7.40625 6.96875 -8.453125 5.4375 -8.453125 C 4.40625 -8.453125 3.625 -7.984375 3.125 -7.234375 L 3.125 -11.140625 L 0.9375 -11.140625 L 0.9375 0 L 3.125 0 L 3.125 -4.96875 C 3.125 -5.890625 3.75 -6.40625 4.703125 -6.40625 C 5.4375 -6.40625 5.921875 -6.140625 5.921875 -5.046875 L 5.921875 0 L 8.109375 0 Z M 8.109375 -0.140625 \"/>\n",
       "</symbol>\n",
       "<symbol overflow=\"visible\" id=\"glyph0-17\">\n",
       "<path style=\"stroke:none;\" d=\"M 7.796875 -2.515625 L 7.796875 -2.625 C 7.796875 -3.546875 7.234375 -4.375 6.171875 -4.6875 L 3.53125 -5.4375 C 2.953125 -5.609375 2.84375 -5.609375 2.84375 -5.9375 C 2.84375 -6.375 3.28125 -6.546875 4.015625 -6.546875 C 5.015625 -6.546875 5.4375 -6.3125 5.453125 -5.453125 L 7.578125 -5.453125 C 7.546875 -7.296875 6.1875 -8.453125 4.03125 -8.453125 C 1.984375 -8.453125 0.65625 -7.296875 0.65625 -5.640625 C 0.65625 -4.65625 0.984375 -3.984375 2.46875 -3.515625 L 4.96875 -2.75 C 5.484375 -2.578125 5.609375 -2.546875 5.609375 -2.328125 C 5.609375 -1.828125 5.078125 -1.78125 4.109375 -1.78125 C 3.15625 -1.78125 2.703125 -1.8125 2.484375 -2.8125 L 0.375 -2.8125 C 0.4375 -0.921875 1.78125 0.140625 4.234375 0.140625 C 6.5 0.140625 7.796875 -0.890625 7.796875 -2.515625 Z M 7.796875 -2.515625 \"/>\n",
       "</symbol>\n",
       "<symbol overflow=\"visible\" id=\"glyph0-18\">\n",
       "<path style=\"stroke:none;\" d=\"M 8.53125 -4.09375 C 8.53125 -6.828125 7 -8.453125 4.484375 -8.453125 C 2.03125 -8.453125 0.46875 -6.796875 0.46875 -4.15625 C 0.46875 -1.5 2.03125 0.140625 4.5 0.140625 C 6.953125 0.140625 8.53125 -1.515625 8.53125 -4.09375 Z M 6.328125 -4.125 C 6.328125 -2.625 5.625 -1.8125 4.5 -1.8125 C 3.375 -1.8125 2.65625 -2.625 2.65625 -4.15625 C 2.65625 -5.6875 3.375 -6.5 4.5 -6.5 C 5.65625 -6.5 6.328125 -5.703125 6.328125 -4.125 Z M 6.328125 -4.125 \"/>\n",
       "</symbol>\n",
       "<symbol overflow=\"visible\" id=\"glyph0-19\">\n",
       "<path style=\"stroke:none;\" d=\"M 8.109375 0.140625 L 8.109375 -8.3125 L 6.015625 -8.3125 L 6.015625 -7.15625 C 5.484375 -7.984375 4.765625 -8.453125 3.84375 -8.453125 C 1.9375 -8.453125 0.453125 -6.5625 0.453125 -4.0625 C 0.453125 -1.5625 1.8125 0.140625 3.796875 0.140625 C 4.734375 0.140625 5.34375 -0.171875 6.015625 -0.875 L 6.015625 0.140625 C 6.015625 1.109375 5.34375 1.640625 4.3125 1.640625 C 3.515625 1.640625 3.046875 1.453125 2.828125 0.703125 L 0.609375 0.703125 C 0.640625 2.140625 2.03125 3.25 4.234375 3.25 C 6.65625 3.25 8.109375 2.03125 8.109375 0.140625 Z M 6.046875 -4.09375 C 6.046875 -2.640625 5.34375 -1.875 4.265625 -1.875 C 3.28125 -1.875 2.640625 -2.640625 2.640625 -4.09375 C 2.640625 -5.625 3.28125 -6.4375 4.296875 -6.4375 C 5.34375 -6.4375 6.046875 -5.59375 6.046875 -4.09375 Z M 6.046875 -4.09375 \"/>\n",
       "</symbol>\n",
       "<symbol overflow=\"visible\" id=\"glyph0-20\">\n",
       "<path style=\"stroke:none;\" d=\"M 12.328125 -0.140625 L 12.328125 -5.828125 C 12.328125 -7.390625 11.328125 -8.453125 9.71875 -8.453125 C 8.703125 -8.453125 7.9375 -8.046875 7.359375 -7.28125 C 7 -7.96875 6.171875 -8.453125 5.171875 -8.453125 C 4.25 -8.453125 3.609375 -8.09375 3.015625 -7.375 L 3.015625 -8.3125 L 0.828125 -8.3125 L 0.828125 0 L 3.03125 0 L 3.03125 -4.96875 C 3.03125 -5.953125 3.515625 -6.40625 4.40625 -6.40625 C 5.109375 -6.40625 5.484375 -6.140625 5.484375 -5.5 L 5.484375 0 L 7.671875 0 L 7.671875 -4.96875 C 7.671875 -5.953125 8.171875 -6.40625 9.0625 -6.40625 C 9.765625 -6.40625 10.140625 -6.140625 10.140625 -5.5 L 10.140625 0 L 12.328125 0 Z M 12.328125 -0.140625 \"/>\n",
       "</symbol>\n",
       "<symbol overflow=\"visible\" id=\"glyph1-0\">\n",
       "<path style=\"stroke:none;\" d=\"\"/>\n",
       "</symbol>\n",
       "<symbol overflow=\"visible\" id=\"glyph1-1\">\n",
       "<path style=\"stroke:none;\" d=\"M 6.8125 -0.15625 L 6.8125 -1.09375 C 6.578125 -1.046875 6.53125 -1.046875 6.46875 -1.046875 C 6.09375 -1.046875 6.03125 -1.09375 6.03125 -1.421875 L 6.03125 -5.078125 C 6.03125 -6.234375 5.046875 -7 3.4375 -7 C 1.84375 -7 0.734375 -6.25 0.65625 -4.609375 L 1.96875 -4.609375 C 2.078125 -5.53125 2.421875 -5.78125 3.40625 -5.78125 C 4.34375 -5.78125 4.71875 -5.546875 4.71875 -4.921875 L 4.71875 -4.65625 C 4.71875 -4.21875 4.59375 -4.15625 3.78125 -4.0625 C 2.296875 -3.875 2.078125 -3.828125 1.671875 -3.65625 C 0.90625 -3.34375 0.390625 -2.625 0.390625 -1.828125 C 0.390625 -0.640625 1.34375 0.1875 2.671875 0.1875 C 3.515625 0.1875 4.40625 -0.203125 4.828125 -0.640625 C 4.875 -0.40625 5.46875 0.09375 5.96875 0.09375 C 6.1875 0.09375 6.34375 0.0625 6.8125 -0.046875 Z M 4.71875 -2.390625 C 4.71875 -1.453125 3.90625 -0.984375 2.90625 -0.984375 C 2.09375 -0.984375 1.734375 -1.140625 1.734375 -1.84375 C 1.734375 -2.53125 2.078125 -2.71875 3.1875 -2.875 C 4.28125 -3.03125 4.515625 -3.078125 4.71875 -3.171875 Z M 4.71875 -2.390625 \"/>\n",
       "</symbol>\n",
       "<symbol overflow=\"visible\" id=\"glyph1-2\">\n",
       "<path style=\"stroke:none;\" d=\"M 6.234375 -1.203125 L 6.234375 -6.8125 L 5.015625 -6.8125 L 5.015625 -5.71875 L 5.234375 -5.8125 C 4.71875 -6.59375 3.984375 -7 3.15625 -7 C 1.484375 -7 0.21875 -5.46875 0.21875 -3.34375 C 0.21875 -1.28125 1.53125 0.1875 3.0625 0.1875 C 3.890625 0.1875 4.546875 -0.203125 5.234375 -1.03125 L 5.015625 -1.109375 L 5.015625 -0.671875 C 5.015625 1.0625 4.4375 1.59375 3.21875 1.59375 C 2.40625 1.59375 1.890625 1.421875 1.734375 0.484375 L 0.421875 0.484375 C 0.546875 1.859375 1.65625 2.71875 3.1875 2.71875 C 5.234375 2.71875 6.234375 1.6875 6.234375 -1.203125 Z M 4.90625 -3.359375 C 4.90625 -1.796875 4.375 -1.03125 3.28125 -1.03125 C 2.140625 -1.03125 1.578125 -1.8125 1.578125 -3.40625 C 1.578125 -4.96875 2.15625 -5.78125 3.265625 -5.78125 C 4.390625 -5.78125 4.90625 -4.953125 4.90625 -3.359375 Z M 4.90625 -3.359375 \"/>\n",
       "</symbol>\n",
       "<symbol overflow=\"visible\" id=\"glyph1-3\">\n",
       "<path style=\"stroke:none;\" d=\"M 6.53125 -3.09375 C 6.53125 -4.046875 6.46875 -4.65625 6.28125 -5.140625 C 5.84375 -6.21875 4.71875 -7 3.5 -7 C 1.671875 -7 0.359375 -5.515625 0.359375 -3.359375 C 0.359375 -1.21875 1.640625 0.1875 3.46875 0.1875 C 4.96875 0.1875 6.140625 -0.78125 6.421875 -2.25 L 5.125 -2.25 C 4.796875 -1.25 4.34375 -1.03125 3.515625 -1.03125 C 2.421875 -1.03125 1.734375 -1.59375 1.71875 -2.96875 L 6.53125 -2.96875 Z M 5.390625 -3.9375 C 5.390625 -3.9375 5.203125 -4.0625 5.21875 -4.09375 L 1.75 -4.09375 C 1.828125 -5.109375 2.4375 -5.78125 3.484375 -5.78125 C 4.515625 -5.78125 5.15625 -5.046875 5.15625 -4.03125 Z M 5.390625 -3.9375 \"/>\n",
       "</symbol>\n",
       "<symbol overflow=\"visible\" id=\"glyph1-4\">\n",
       "<path style=\"stroke:none;\" d=\"M 5.859375 -1.96875 C 5.859375 -2.9375 5.1875 -3.5625 3.890625 -3.875 L 2.890625 -4.109375 C 2.03125 -4.3125 1.796875 -4.453125 1.796875 -4.90625 C 1.796875 -5.515625 2.21875 -5.78125 3.0625 -5.78125 C 3.90625 -5.78125 4.21875 -5.53125 4.234375 -4.71875 L 5.59375 -4.71875 C 5.59375 -6.140625 4.609375 -7 3.09375 -7 C 1.578125 -7 0.453125 -6.078125 0.453125 -4.859375 C 0.453125 -3.84375 1.109375 -3.21875 2.65625 -2.84375 L 3.640625 -2.609375 C 4.359375 -2.4375 4.515625 -2.34375 4.515625 -1.875 C 4.515625 -1.265625 4.03125 -1.03125 3.125 -1.03125 C 2.1875 -1.03125 1.78125 -1.125 1.640625 -2.265625 L 0.28125 -2.265625 C 0.34375 -0.609375 1.328125 0.1875 3.03125 0.1875 C 4.6875 0.1875 5.859375 -0.703125 5.859375 -1.96875 Z M 5.859375 -1.96875 \"/>\n",
       "</symbol>\n",
       "<symbol overflow=\"visible\" id=\"glyph1-5\">\n",
       "<path style=\"stroke:none;\" d=\"M 6.453125 -2.703125 C 6.453125 -3.78125 5.890625 -4.53125 4.828125 -4.90625 L 4.828125 -4.640625 C 5.65625 -4.96875 6.1875 -5.65625 6.1875 -6.546875 C 6.1875 -8.078125 5.046875 -9.125 3.359375 -9.125 C 1.578125 -9.125 0.484375 -8.015625 0.453125 -6 L 1.8125 -6 C 1.84375 -7.4375 2.25 -7.90625 3.375 -7.90625 C 4.34375 -7.90625 4.796875 -7.453125 4.796875 -6.515625 C 4.796875 -5.5625 4.53125 -5.3125 2.625 -5.3125 L 2.625 -4.125 L 3.359375 -4.125 C 4.578125 -4.125 5.0625 -3.671875 5.0625 -2.6875 C 5.0625 -1.578125 4.515625 -1.046875 3.359375 -1.046875 C 2.15625 -1.046875 1.703125 -1.515625 1.609375 -2.9375 L 0.25 -2.9375 C 0.40625 -0.828125 1.515625 0.1875 3.328125 0.1875 C 5.15625 0.1875 6.453125 -1.03125 6.453125 -2.703125 Z M 6.453125 -2.703125 \"/>\n",
       "</symbol>\n",
       "<symbol overflow=\"visible\" id=\"glyph1-6\">\n",
       "<path style=\"stroke:none;\" d=\"M 6.53125 -3.0625 C 6.53125 -4.8125 5.25 -6.09375 3.546875 -6.09375 C 2.921875 -6.09375 2.328125 -5.890625 2.09375 -5.71875 L 2.359375 -7.59375 L 6.078125 -7.59375 L 6.078125 -8.9375 L 1.25 -8.9375 L 0.546875 -4.03125 L 1.78125 -4.03125 C 2.328125 -4.6875 2.65625 -4.859375 3.34375 -4.859375 C 4.53125 -4.859375 5.15625 -4.21875 5.15625 -2.90625 C 5.15625 -1.640625 4.546875 -1.046875 3.34375 -1.046875 C 2.390625 -1.046875 1.921875 -1.40625 1.625 -2.53125 L 0.28125 -2.53125 C 0.65625 -0.640625 1.796875 0.1875 3.375 0.1875 C 5.15625 0.1875 6.53125 -1.1875 6.53125 -3.0625 Z M 6.53125 -3.0625 \"/>\n",
       "</symbol>\n",
       "<symbol overflow=\"visible\" id=\"glyph1-7\">\n",
       "<path style=\"stroke:none;\" d=\"M 6.625 -2.25 L 6.625 -3.375 L 5.3125 -3.375 L 5.3125 -9.125 L 4.296875 -9.125 L 0.21875 -3.453125 L 0.21875 -2.125 L 3.953125 -2.125 L 3.953125 0 L 5.3125 0 L 5.3125 -2.125 L 6.625 -2.125 Z M 4.09375 -3.375 L 1.5625 -3.375 L 4.171875 -7.03125 L 3.953125 -7.109375 L 3.953125 -3.375 Z M 4.09375 -3.375 \"/>\n",
       "</symbol>\n",
       "<symbol overflow=\"visible\" id=\"glyph1-8\">\n",
       "<path style=\"stroke:none;\" d=\"M 6.46875 -4.390625 C 6.46875 -7.46875 5.359375 -9.125 3.4375 -9.125 C 1.53125 -9.125 0.40625 -7.4375 0.40625 -4.46875 C 0.40625 -1.46875 1.53125 0.1875 3.4375 0.1875 C 5.3125 0.1875 6.46875 -1.46875 6.46875 -4.390625 Z M 5.078125 -4.484375 C 5.078125 -1.96875 4.640625 -0.984375 3.40625 -0.984375 C 2.25 -0.984375 1.78125 -2.03125 1.78125 -4.453125 C 1.78125 -6.875 2.25 -7.890625 3.4375 -7.890625 C 4.625 -7.890625 5.078125 -6.859375 5.078125 -4.484375 Z M 5.078125 -4.484375 \"/>\n",
       "</symbol>\n",
       "<symbol overflow=\"visible\" id=\"glyph1-9\">\n",
       "<path style=\"stroke:none;\" d=\"M 6.53125 -2.875 C 6.53125 -4.53125 5.28125 -5.78125 3.703125 -5.78125 C 2.828125 -5.78125 2.03125 -5.390625 1.5625 -4.734375 L 1.78125 -4.65625 C 1.796875 -6.8125 2.375 -7.890625 3.640625 -7.890625 C 4.40625 -7.890625 4.8125 -7.53125 5.015625 -6.546875 L 6.375 -6.546875 C 6.140625 -8.125 5.0625 -9.125 3.71875 -9.125 C 1.65625 -9.125 0.40625 -7.25 0.40625 -4.15625 C 0.40625 -1.40625 1.484375 0.1875 3.515625 0.1875 C 5.203125 0.1875 6.53125 -1.140625 6.53125 -2.875 Z M 5.15625 -2.78125 C 5.15625 -1.671875 4.53125 -1.046875 3.53125 -1.046875 C 2.5 -1.046875 1.84375 -1.71875 1.84375 -2.84375 C 1.84375 -3.953125 2.46875 -4.53125 3.5625 -4.53125 C 4.625 -4.53125 5.15625 -3.96875 5.15625 -2.78125 Z M 5.15625 -2.78125 \"/>\n",
       "</symbol>\n",
       "<symbol overflow=\"visible\" id=\"glyph1-10\">\n",
       "<path style=\"stroke:none;\" d=\"M 6.625 -7.875 L 6.625 -8.9375 L 0.4375 -8.9375 L 0.4375 -7.59375 L 5.09375 -7.59375 C 3.5 -5.578125 2.21875 -2.90625 1.5625 0 L 3 0 C 3.515625 -2.984375 4.71875 -5.578125 6.625 -7.828125 Z M 6.625 -7.875 \"/>\n",
       "</symbol>\n",
       "<symbol overflow=\"visible\" id=\"glyph2-0\">\n",
       "<path style=\"stroke:none;\" d=\"\"/>\n",
       "</symbol>\n",
       "<symbol overflow=\"visible\" id=\"glyph2-1\">\n",
       "<path style=\"stroke:none;\" d=\"M -0.125 -8.609375 L -0.46875 -8.609375 C -0.796875 -8.140625 -1.03125 -8.078125 -2.25 -8.0625 C -3.75 -8.03125 -4.34375 -7.6875 -4.765625 -6.703125 L -4.5 -6.703125 C -5 -7.71875 -5.765625 -8.265625 -6.796875 -8.265625 C -8.375 -8.265625 -9.375 -7.15625 -9.375 -5.359375 L -9.375 -1.03125 L 0 -1.03125 L 0 -2.453125 L -3.921875 -2.453125 L -3.921875 -5.328125 C -3.921875 -6.34375 -3.546875 -6.703125 -2.421875 -6.6875 L -1.609375 -6.671875 C -1.046875 -6.65625 -0.5 -6.78125 0 -7 L 0 -8.609375 Z M -6.640625 -6.78125 C -5.5625 -6.78125 -5.21875 -6.375 -5.21875 -5.140625 L -5.21875 -2.453125 L -8.09375 -2.453125 L -8.09375 -5.140625 C -8.09375 -6.4375 -7.65625 -6.78125 -6.640625 -6.78125 Z M -6.640625 -6.78125 \"/>\n",
       "</symbol>\n",
       "<symbol overflow=\"visible\" id=\"glyph2-2\">\n",
       "<path style=\"stroke:none;\" d=\"M -3.09375 -6.53125 C -4.046875 -6.53125 -4.65625 -6.46875 -5.140625 -6.28125 C -6.21875 -5.84375 -7 -4.71875 -7 -3.5 C -7 -1.671875 -5.515625 -0.359375 -3.359375 -0.359375 C -1.21875 -0.359375 0.1875 -1.640625 0.1875 -3.46875 C 0.1875 -4.96875 -0.78125 -6.140625 -2.25 -6.421875 L -2.25 -5.125 C -1.25 -4.796875 -1.03125 -4.34375 -1.03125 -3.515625 C -1.03125 -2.421875 -1.59375 -1.734375 -2.96875 -1.71875 L -2.96875 -6.53125 Z M -3.9375 -5.390625 C -3.9375 -5.390625 -4.0625 -5.203125 -4.09375 -5.21875 L -4.09375 -1.75 C -5.109375 -1.828125 -5.78125 -2.4375 -5.78125 -3.484375 C -5.78125 -4.515625 -5.046875 -5.15625 -4.03125 -5.15625 Z M -3.9375 -5.390625 \"/>\n",
       "</symbol>\n",
       "<symbol overflow=\"visible\" id=\"glyph2-3\">\n",
       "<path style=\"stroke:none;\" d=\"M -0.125 -2.015625 L -9.375 -2.015625 L -9.375 -0.71875 L 0 -0.71875 L 0 -2.015625 Z M -0.125 -2.015625 \"/>\n",
       "</symbol>\n",
       "<symbol overflow=\"visible\" id=\"glyph2-4\">\n",
       "<path style=\"stroke:none;\" d=\"M -0.15625 -6.8125 L -1.09375 -6.8125 C -1.046875 -6.578125 -1.046875 -6.53125 -1.046875 -6.46875 C -1.046875 -6.09375 -1.09375 -6.03125 -1.421875 -6.03125 L -5.078125 -6.03125 C -6.234375 -6.03125 -7 -5.046875 -7 -3.4375 C -7 -1.84375 -6.25 -0.734375 -4.609375 -0.65625 L -4.609375 -1.96875 C -5.53125 -2.078125 -5.78125 -2.421875 -5.78125 -3.40625 C -5.78125 -4.34375 -5.546875 -4.71875 -4.921875 -4.71875 L -4.65625 -4.71875 C -4.21875 -4.71875 -4.15625 -4.59375 -4.0625 -3.78125 C -3.875 -2.296875 -3.828125 -2.078125 -3.65625 -1.671875 C -3.34375 -0.90625 -2.625 -0.390625 -1.828125 -0.390625 C -0.640625 -0.390625 0.1875 -1.34375 0.1875 -2.671875 C 0.1875 -3.515625 -0.203125 -4.40625 -0.640625 -4.828125 C -0.40625 -4.875 0.09375 -5.46875 0.09375 -5.96875 C 0.09375 -6.1875 0.0625 -6.34375 -0.046875 -6.8125 Z M -2.390625 -4.71875 C -1.453125 -4.71875 -0.984375 -3.90625 -0.984375 -2.90625 C -0.984375 -2.09375 -1.140625 -1.734375 -1.84375 -1.734375 C -2.53125 -1.734375 -2.71875 -2.078125 -2.875 -3.1875 C -3.03125 -4.28125 -3.078125 -4.515625 -3.171875 -4.71875 Z M -2.390625 -4.71875 \"/>\n",
       "</symbol>\n",
       "<symbol overflow=\"visible\" id=\"glyph2-5\">\n",
       "<path style=\"stroke:none;\" d=\"M -0.125 -3.296875 L -1.171875 -3.296875 C -1.09375 -3.03125 -1.09375 -2.875 -1.09375 -2.671875 C -1.09375 -2.21875 -1.078125 -2.21875 -1.53125 -2.21875 L -5.703125 -2.21875 L -5.703125 -3.296875 L -6.8125 -3.296875 L -6.8125 -2.21875 L -8.609375 -2.21875 L -8.609375 -0.921875 L -6.8125 -0.921875 L -6.8125 -0.03125 L -5.703125 -0.03125 L -5.703125 -0.921875 L -1.078125 -0.921875 C -0.40625 -0.921875 0.09375 -1.515625 0.09375 -2.328125 C 0.09375 -2.578125 0.0625 -2.828125 -0.015625 -3.296875 Z M -0.125 -3.296875 \"/>\n",
       "</symbol>\n",
       "<symbol overflow=\"visible\" id=\"glyph2-6\">\n",
       "<path style=\"stroke:none;\" d=\"M -0.125 -2.03125 L -6.8125 -2.03125 L -6.8125 -0.734375 L 0 -0.734375 L 0 -2.03125 Z M -7.65625 -2.171875 L -9.09375 -2.171875 L -9.09375 -0.609375 L -7.53125 -0.609375 L -7.53125 -2.171875 Z M -7.65625 -2.171875 \"/>\n",
       "</symbol>\n",
       "<symbol overflow=\"visible\" id=\"glyph2-7\">\n",
       "<path style=\"stroke:none;\" d=\"M -6.8125 -6.078125 L -6.8125 -4.8125 L -1.359375 -2.90625 L -1.359375 -3.171875 L -6.8125 -1.390625 L -6.8125 0.0625 L 0 -2.34375 L 0 -3.640625 L -6.8125 -6.25 Z M -6.8125 -6.078125 \"/>\n",
       "</symbol>\n",
       "<symbol overflow=\"visible\" id=\"glyph2-8\">\n",
       "<path style=\"stroke:none;\" d=\"\"/>\n",
       "</symbol>\n",
       "<symbol overflow=\"visible\" id=\"glyph2-9\">\n",
       "<path style=\"stroke:none;\" d=\"M -5.828125 -3.34375 L -6.8125 -3.34375 L -6.8125 -2.265625 L -7.703125 -2.265625 C -8.140625 -2.265625 -8.234375 -2.390625 -8.234375 -2.859375 C -8.234375 -2.953125 -8.234375 -2.984375 -8.21875 -3.34375 L -9.3125 -3.34375 C -9.40625 -2.984375 -9.40625 -2.84375 -9.40625 -2.640625 C -9.40625 -1.671875 -8.71875 -0.96875 -7.78125 -0.96875 L -6.8125 -0.96875 L -6.8125 -0.09375 L -5.703125 -0.09375 L -5.703125 -0.96875 L 0 -0.96875 L 0 -2.265625 L -5.703125 -2.265625 L -5.703125 -3.34375 Z M -5.828125 -3.34375 \"/>\n",
       "</symbol>\n",
       "<symbol overflow=\"visible\" id=\"glyph2-10\">\n",
       "<path style=\"stroke:none;\" d=\"M -5.765625 -4.140625 L -6.9375 -4.140625 C -6.984375 -3.84375 -7 -3.75 -7 -3.609375 C -7 -2.9375 -6.546875 -2.328125 -5.578125 -1.71875 L -5.484375 -1.953125 L -6.8125 -1.953125 L -6.8125 -0.734375 L 0 -0.734375 L 0 -2.03125 L -3.53125 -2.03125 C -5 -2.03125 -5.609375 -2.40625 -5.640625 -4.140625 Z M -5.765625 -4.140625 \"/>\n",
       "</symbol>\n",
       "<symbol overflow=\"visible\" id=\"glyph2-11\">\n",
       "<path style=\"stroke:none;\" d=\"M 2.59375 -6.3125 L -6.8125 -6.3125 L -6.8125 -5.125 L -5.796875 -5.125 L -5.890625 -5.34375 C -6.578125 -4.859375 -7 -4.03125 -7 -3.171875 C -7 -1.453125 -5.5 -0.1875 -3.328125 -0.1875 C -1.203125 -0.1875 0.1875 -1.40625 0.1875 -3.125 C 0.1875 -4.03125 -0.171875 -4.75 -0.890625 -5.234375 L -0.96875 -5.015625 L 2.71875 -5.015625 L 2.71875 -6.3125 Z M -3.359375 -5.015625 C -1.859375 -5.015625 -1.046875 -4.421875 -1.046875 -3.328125 C -1.046875 -2.171875 -1.875 -1.53125 -3.40625 -1.53125 C -4.90625 -1.53125 -5.765625 -2.171875 -5.765625 -3.328125 C -5.765625 -4.4375 -4.890625 -5.015625 -3.359375 -5.015625 Z M -3.359375 -5.015625 \"/>\n",
       "</symbol>\n",
       "<symbol overflow=\"visible\" id=\"glyph2-12\">\n",
       "<path style=\"stroke:none;\" d=\"M -0.125 -6.15625 L -6.8125 -6.15625 L -6.8125 -4.84375 L -3.0625 -4.84375 C -1.71875 -4.84375 -0.984375 -4.28125 -0.984375 -3.203125 C -0.984375 -2.375 -1.34375 -1.96875 -2.140625 -1.96875 L -6.8125 -1.96875 L -6.8125 -0.671875 L -1.71875 -0.671875 C -0.640625 -0.671875 0.1875 -1.625 0.1875 -2.90625 C 0.1875 -3.859375 -0.1875 -4.5625 -1.046875 -5.171875 L -1.140625 -4.953125 L 0 -4.953125 L 0 -6.15625 Z M -0.125 -6.15625 \"/>\n",
       "</symbol>\n",
       "<symbol overflow=\"visible\" id=\"glyph2-13\">\n",
       "<path style=\"stroke:none;\" d=\"M -0.125 -6.21875 L -5.078125 -6.21875 C -6.15625 -6.21875 -7 -5.28125 -7 -4.015625 C -7 -3.03125 -6.578125 -2.3125 -5.65625 -1.734375 L -5.578125 -1.96875 L -6.8125 -1.96875 L -6.8125 -0.734375 L 0 -0.734375 L 0 -2.03125 L -3.734375 -2.03125 C -5.078125 -2.03125 -5.828125 -2.640625 -5.828125 -3.703125 C -5.828125 -4.53125 -5.453125 -4.90625 -4.65625 -4.90625 L 0 -4.90625 L 0 -6.21875 Z M -0.125 -6.21875 \"/>\n",
       "</symbol>\n",
       "<symbol overflow=\"visible\" id=\"glyph2-14\">\n",
       "<path style=\"stroke:none;\" d=\"M -2.515625 -5.96875 L -2.515625 -4.796875 C -1.328125 -4.59375 -1.03125 -4.203125 -1.03125 -3.3125 C -1.03125 -2.15625 -1.78125 -1.59375 -3.34375 -1.59375 C -4.96875 -1.59375 -5.78125 -2.15625 -5.78125 -3.28125 C -5.78125 -4.15625 -5.390625 -4.578125 -4.34375 -4.71875 L -4.34375 -6.03125 C -6.078125 -5.890625 -7 -4.765625 -7 -3.296875 C -7 -1.53125 -5.515625 -0.25 -3.34375 -0.25 C -1.21875 -0.25 0.1875 -1.515625 0.1875 -3.28125 C 0.1875 -4.84375 -0.875 -5.96875 -2.515625 -6.09375 Z M -2.515625 -5.96875 \"/>\n",
       "</symbol>\n",
       "<symbol overflow=\"visible\" id=\"glyph2-15\">\n",
       "<path style=\"stroke:none;\" d=\"M -1.96875 -5.859375 C -2.9375 -5.859375 -3.5625 -5.1875 -3.875 -3.890625 L -4.109375 -2.890625 C -4.3125 -2.03125 -4.453125 -1.796875 -4.90625 -1.796875 C -5.515625 -1.796875 -5.78125 -2.21875 -5.78125 -3.0625 C -5.78125 -3.90625 -5.53125 -4.21875 -4.71875 -4.234375 L -4.71875 -5.59375 C -6.140625 -5.59375 -7 -4.609375 -7 -3.09375 C -7 -1.578125 -6.078125 -0.453125 -4.859375 -0.453125 C -3.84375 -0.453125 -3.21875 -1.109375 -2.84375 -2.65625 L -2.609375 -3.640625 C -2.4375 -4.359375 -2.34375 -4.515625 -1.875 -4.515625 C -1.265625 -4.515625 -1.03125 -4.03125 -1.03125 -3.125 C -1.03125 -2.1875 -1.125 -1.78125 -2.265625 -1.640625 L -2.265625 -0.28125 C -0.609375 -0.34375 0.1875 -1.328125 0.1875 -3.03125 C 0.1875 -4.6875 -0.703125 -5.859375 -1.96875 -5.859375 Z M -1.96875 -5.859375 \"/>\n",
       "</symbol>\n",
       "<symbol overflow=\"visible\" id=\"glyph2-16\">\n",
       "<path style=\"stroke:none;\" d=\"M -4.390625 -6.46875 C -7.46875 -6.46875 -9.125 -5.359375 -9.125 -3.4375 C -9.125 -1.53125 -7.4375 -0.40625 -4.46875 -0.40625 C -1.46875 -0.40625 0.1875 -1.53125 0.1875 -3.4375 C 0.1875 -5.3125 -1.46875 -6.46875 -4.390625 -6.46875 Z M -4.484375 -5.078125 C -1.96875 -5.078125 -0.984375 -4.640625 -0.984375 -3.40625 C -0.984375 -2.25 -2.03125 -1.78125 -4.453125 -1.78125 C -6.875 -1.78125 -7.890625 -2.25 -7.890625 -3.4375 C -7.890625 -4.625 -6.859375 -5.078125 -4.484375 -5.078125 Z M -4.484375 -5.078125 \"/>\n",
       "</symbol>\n",
       "<symbol overflow=\"visible\" id=\"glyph2-17\">\n",
       "<path style=\"stroke:none;\" d=\"M -0.125 -2.515625 L -1.5625 -2.515625 L -1.5625 -0.953125 L 0 -0.953125 L 0 -2.515625 Z M -0.125 -2.515625 \"/>\n",
       "</symbol>\n",
       "<symbol overflow=\"visible\" id=\"glyph2-18\">\n",
       "<path style=\"stroke:none;\" d=\"M -2.703125 -6.453125 C -3.78125 -6.453125 -4.53125 -5.890625 -4.90625 -4.828125 L -4.640625 -4.828125 C -4.96875 -5.65625 -5.65625 -6.1875 -6.546875 -6.1875 C -8.078125 -6.1875 -9.125 -5.046875 -9.125 -3.359375 C -9.125 -1.578125 -8.015625 -0.484375 -6 -0.453125 L -6 -1.8125 C -7.4375 -1.84375 -7.90625 -2.25 -7.90625 -3.375 C -7.90625 -4.34375 -7.453125 -4.796875 -6.515625 -4.796875 C -5.5625 -4.796875 -5.3125 -4.53125 -5.3125 -2.625 L -4.125 -2.625 L -4.125 -3.359375 C -4.125 -4.578125 -3.671875 -5.0625 -2.6875 -5.0625 C -1.578125 -5.0625 -1.046875 -4.515625 -1.046875 -3.359375 C -1.046875 -2.15625 -1.515625 -1.703125 -2.9375 -1.609375 L -2.9375 -0.25 C -0.828125 -0.40625 0.1875 -1.515625 0.1875 -3.328125 C 0.1875 -5.15625 -1.03125 -6.453125 -2.703125 -6.453125 Z M -2.703125 -6.453125 \"/>\n",
       "</symbol>\n",
       "<symbol overflow=\"visible\" id=\"glyph2-19\">\n",
       "<path style=\"stroke:none;\" d=\"M -2.875 -6.53125 C -4.53125 -6.53125 -5.78125 -5.28125 -5.78125 -3.703125 C -5.78125 -2.828125 -5.390625 -2.03125 -4.734375 -1.5625 L -4.65625 -1.78125 C -6.8125 -1.796875 -7.890625 -2.375 -7.890625 -3.640625 C -7.890625 -4.40625 -7.53125 -4.8125 -6.546875 -5.015625 L -6.546875 -6.375 C -8.125 -6.140625 -9.125 -5.0625 -9.125 -3.71875 C -9.125 -1.65625 -7.25 -0.40625 -4.15625 -0.40625 C -1.40625 -0.40625 0.1875 -1.484375 0.1875 -3.515625 C 0.1875 -5.203125 -1.140625 -6.53125 -2.875 -6.53125 Z M -2.78125 -5.15625 C -1.671875 -5.15625 -1.046875 -4.53125 -1.046875 -3.53125 C -1.046875 -2.5 -1.71875 -1.84375 -2.84375 -1.84375 C -3.953125 -1.84375 -4.53125 -2.46875 -4.53125 -3.5625 C -4.53125 -4.625 -3.96875 -5.15625 -2.78125 -5.15625 Z M -2.78125 -5.15625 \"/>\n",
       "</symbol>\n",
       "</g>\n",
       "</defs>\n",
       "<g id=\"surface1268\">\n",
       "<rect x=\"0\" y=\"0\" width=\"288\" height=\"216\" style=\"fill:rgb(100%,100%,100%);fill-opacity:1;stroke:none;\"/>\n",
       "<g style=\"fill:rgb(0%,0%,0%);fill-opacity:1;\">\n",
       "  <use xlink:href=\"#glyph0-1\" x=\"90.054688\" y=\"26.449219\"/>\n",
       "  <use xlink:href=\"#glyph0-2\" x=\"100.81694\" y=\"26.449219\"/>\n",
       "  <use xlink:href=\"#glyph0-3\" x=\"109.104767\" y=\"26.449219\"/>\n",
       "  <use xlink:href=\"#glyph0-4\" x=\"113.248688\" y=\"26.449219\"/>\n",
       "  <use xlink:href=\"#glyph0-5\" x=\"121.536514\" y=\"26.449219\"/>\n",
       "  <use xlink:href=\"#glyph0-6\" x=\"126.500275\" y=\"26.449219\"/>\n",
       "  <use xlink:href=\"#glyph0-7\" x=\"130.644196\" y=\"26.449219\"/>\n",
       "  <use xlink:href=\"#glyph0-2\" x=\"138.932022\" y=\"26.449219\"/>\n",
       "  <use xlink:href=\"#glyph0-8\" x=\"147.219849\" y=\"26.449219\"/>\n",
       "  <use xlink:href=\"#glyph0-9\" x=\"151.36377\" y=\"26.449219\"/>\n",
       "  <use xlink:href=\"#glyph0-10\" x=\"156.32753\" y=\"26.449219\"/>\n",
       "  <use xlink:href=\"#glyph0-2\" x=\"162.126022\" y=\"26.449219\"/>\n",
       "  <use xlink:href=\"#glyph0-11\" x=\"170.413849\" y=\"26.449219\"/>\n",
       "  <use xlink:href=\"#glyph0-12\" x=\"179.521515\" y=\"26.449219\"/>\n",
       "  <use xlink:href=\"#glyph0-2\" x=\"188.629181\" y=\"26.449219\"/>\n",
       "  <use xlink:href=\"#glyph0-13\" x=\"196.917007\" y=\"26.449219\"/>\n",
       "  <use xlink:href=\"#glyph0-14\" x=\"206.024673\" y=\"26.449219\"/>\n",
       "  <use xlink:href=\"#glyph0-15\" x=\"214.3125\" y=\"26.449219\"/>\n",
       "  <use xlink:href=\"#glyph0-8\" x=\"222.600327\" y=\"26.449219\"/>\n",
       "</g>\n",
       "<g style=\"fill:rgb(0%,0%,0%);fill-opacity:1;\">\n",
       "  <use xlink:href=\"#glyph0-16\" x=\"122.371094\" y=\"43.730469\"/>\n",
       "  <use xlink:href=\"#glyph0-6\" x=\"131.47876\" y=\"43.730469\"/>\n",
       "  <use xlink:href=\"#glyph0-17\" x=\"135.622681\" y=\"43.730469\"/>\n",
       "  <use xlink:href=\"#glyph0-5\" x=\"143.910507\" y=\"43.730469\"/>\n",
       "  <use xlink:href=\"#glyph0-18\" x=\"148.874268\" y=\"43.730469\"/>\n",
       "  <use xlink:href=\"#glyph0-19\" x=\"157.981934\" y=\"43.730469\"/>\n",
       "  <use xlink:href=\"#glyph0-10\" x=\"167.0896\" y=\"43.730469\"/>\n",
       "  <use xlink:href=\"#glyph0-4\" x=\"172.888092\" y=\"43.730469\"/>\n",
       "  <use xlink:href=\"#glyph0-20\" x=\"181.175919\" y=\"43.730469\"/>\n",
       "</g>\n",
       "<g style=\"fill:rgb(0%,0%,0%);fill-opacity:1;\">\n",
       "  <use xlink:href=\"#glyph1-1\" x=\"144.847656\" y=\"198.71875\"/>\n",
       "  <use xlink:href=\"#glyph1-2\" x=\"151.797684\" y=\"198.71875\"/>\n",
       "  <use xlink:href=\"#glyph1-3\" x=\"158.747711\" y=\"198.71875\"/>\n",
       "  <use xlink:href=\"#glyph1-4\" x=\"165.697739\" y=\"198.71875\"/>\n",
       "</g>\n",
       "<g style=\"fill:rgb(0%,0%,0%);fill-opacity:1;\">\n",
       "  <use xlink:href=\"#glyph2-1\" x=\"14.398438\" y=\"157.417969\"/>\n",
       "  <use xlink:href=\"#glyph2-2\" x=\"14.398438\" y=\"148.392929\"/>\n",
       "  <use xlink:href=\"#glyph2-3\" x=\"14.398438\" y=\"141.442902\"/>\n",
       "  <use xlink:href=\"#glyph2-4\" x=\"14.398438\" y=\"138.667892\"/>\n",
       "  <use xlink:href=\"#glyph2-5\" x=\"14.398438\" y=\"131.717865\"/>\n",
       "  <use xlink:href=\"#glyph2-6\" x=\"14.398438\" y=\"128.242859\"/>\n",
       "  <use xlink:href=\"#glyph2-7\" x=\"14.398438\" y=\"125.46785\"/>\n",
       "  <use xlink:href=\"#glyph2-2\" x=\"14.398438\" y=\"119.217819\"/>\n",
       "  <use xlink:href=\"#glyph2-8\" x=\"14.398438\" y=\"112.267792\"/>\n",
       "  <use xlink:href=\"#glyph2-9\" x=\"14.398438\" y=\"108.792786\"/>\n",
       "  <use xlink:href=\"#glyph2-10\" x=\"14.398438\" y=\"105.31778\"/>\n",
       "  <use xlink:href=\"#glyph2-2\" x=\"14.398438\" y=\"101.155258\"/>\n",
       "  <use xlink:href=\"#glyph2-11\" x=\"14.398438\" y=\"94.205231\"/>\n",
       "  <use xlink:href=\"#glyph2-12\" x=\"14.398438\" y=\"87.255203\"/>\n",
       "  <use xlink:href=\"#glyph2-2\" x=\"14.398438\" y=\"80.305176\"/>\n",
       "  <use xlink:href=\"#glyph2-13\" x=\"14.398438\" y=\"73.355148\"/>\n",
       "  <use xlink:href=\"#glyph2-14\" x=\"14.398438\" y=\"66.405121\"/>\n",
       "  <use xlink:href=\"#glyph2-6\" x=\"14.398438\" y=\"60.15509\"/>\n",
       "  <use xlink:href=\"#glyph2-2\" x=\"14.398438\" y=\"57.380081\"/>\n",
       "  <use xlink:href=\"#glyph2-15\" x=\"14.398438\" y=\"50.430054\"/>\n",
       "</g>\n",
       "<path style=\"fill:none;stroke-width:1;stroke-linecap:round;stroke-linejoin:round;stroke:rgb(0%,0%,0%);stroke-opacity:1;stroke-miterlimit:10;\" d=\"M 69.027344 142.558594 L 253.027344 142.558594 \"/>\n",
       "<path style=\"fill:none;stroke-width:1;stroke-linecap:round;stroke-linejoin:round;stroke:rgb(0%,0%,0%);stroke-opacity:1;stroke-miterlimit:10;\" d=\"M 69.027344 142.558594 L 69.027344 149.761719 \"/>\n",
       "<path style=\"fill:none;stroke-width:1;stroke-linecap:round;stroke-linejoin:round;stroke:rgb(0%,0%,0%);stroke-opacity:1;stroke-miterlimit:10;\" d=\"M 95.3125 142.558594 L 95.3125 149.761719 \"/>\n",
       "<path style=\"fill:none;stroke-width:1;stroke-linecap:round;stroke-linejoin:round;stroke:rgb(0%,0%,0%);stroke-opacity:1;stroke-miterlimit:10;\" d=\"M 121.601562 142.558594 L 121.601562 149.761719 \"/>\n",
       "<path style=\"fill:none;stroke-width:1;stroke-linecap:round;stroke-linejoin:round;stroke:rgb(0%,0%,0%);stroke-opacity:1;stroke-miterlimit:10;\" d=\"M 147.886719 142.558594 L 147.886719 149.761719 \"/>\n",
       "<path style=\"fill:none;stroke-width:1;stroke-linecap:round;stroke-linejoin:round;stroke:rgb(0%,0%,0%);stroke-opacity:1;stroke-miterlimit:10;\" d=\"M 174.171875 142.558594 L 174.171875 149.761719 \"/>\n",
       "<path style=\"fill:none;stroke-width:1;stroke-linecap:round;stroke-linejoin:round;stroke:rgb(0%,0%,0%);stroke-opacity:1;stroke-miterlimit:10;\" d=\"M 200.457031 142.558594 L 200.457031 149.761719 \"/>\n",
       "<path style=\"fill:none;stroke-width:1;stroke-linecap:round;stroke-linejoin:round;stroke:rgb(0%,0%,0%);stroke-opacity:1;stroke-miterlimit:10;\" d=\"M 226.742188 142.558594 L 226.742188 149.761719 \"/>\n",
       "<path style=\"fill:none;stroke-width:1;stroke-linecap:round;stroke-linejoin:round;stroke:rgb(0%,0%,0%);stroke-opacity:1;stroke-miterlimit:10;\" d=\"M 253.027344 142.558594 L 253.027344 149.761719 \"/>\n",
       "<g style=\"fill:rgb(0%,0%,0%);fill-opacity:1;\">\n",
       "  <use xlink:href=\"#glyph1-5\" x=\"62.078125\" y=\"169.921875\"/>\n",
       "  <use xlink:href=\"#glyph1-6\" x=\"69.028152\" y=\"169.921875\"/>\n",
       "</g>\n",
       "<g style=\"fill:rgb(0%,0%,0%);fill-opacity:1;\">\n",
       "  <use xlink:href=\"#glyph1-7\" x=\"88.363281\" y=\"169.921875\"/>\n",
       "  <use xlink:href=\"#glyph1-8\" x=\"95.313309\" y=\"169.921875\"/>\n",
       "</g>\n",
       "<g style=\"fill:rgb(0%,0%,0%);fill-opacity:1;\">\n",
       "  <use xlink:href=\"#glyph1-7\" x=\"114.652344\" y=\"169.921875\"/>\n",
       "  <use xlink:href=\"#glyph1-6\" x=\"121.602371\" y=\"169.921875\"/>\n",
       "</g>\n",
       "<g style=\"fill:rgb(0%,0%,0%);fill-opacity:1;\">\n",
       "  <use xlink:href=\"#glyph1-6\" x=\"140.9375\" y=\"169.921875\"/>\n",
       "  <use xlink:href=\"#glyph1-8\" x=\"147.887527\" y=\"169.921875\"/>\n",
       "</g>\n",
       "<g style=\"fill:rgb(0%,0%,0%);fill-opacity:1;\">\n",
       "  <use xlink:href=\"#glyph1-6\" x=\"167.222656\" y=\"169.921875\"/>\n",
       "  <use xlink:href=\"#glyph1-6\" x=\"174.172684\" y=\"169.921875\"/>\n",
       "</g>\n",
       "<g style=\"fill:rgb(0%,0%,0%);fill-opacity:1;\">\n",
       "  <use xlink:href=\"#glyph1-9\" x=\"193.507812\" y=\"169.921875\"/>\n",
       "  <use xlink:href=\"#glyph1-8\" x=\"200.45784\" y=\"169.921875\"/>\n",
       "</g>\n",
       "<g style=\"fill:rgb(0%,0%,0%);fill-opacity:1;\">\n",
       "  <use xlink:href=\"#glyph1-9\" x=\"219.792969\" y=\"169.921875\"/>\n",
       "  <use xlink:href=\"#glyph1-6\" x=\"226.742996\" y=\"169.921875\"/>\n",
       "</g>\n",
       "<g style=\"fill:rgb(0%,0%,0%);fill-opacity:1;\">\n",
       "  <use xlink:href=\"#glyph1-10\" x=\"246.078125\" y=\"169.921875\"/>\n",
       "  <use xlink:href=\"#glyph1-8\" x=\"253.028152\" y=\"169.921875\"/>\n",
       "</g>\n",
       "<path style=\"fill:none;stroke-width:1;stroke-linecap:round;stroke-linejoin:round;stroke:rgb(0%,0%,0%);stroke-opacity:1;stroke-miterlimit:10;\" d=\"M 59.039062 139.464844 L 59.039062 62.726562 \"/>\n",
       "<path style=\"fill:none;stroke-width:1;stroke-linecap:round;stroke-linejoin:round;stroke:rgb(0%,0%,0%);stroke-opacity:1;stroke-miterlimit:10;\" d=\"M 59.039062 139.464844 L 51.839844 139.464844 \"/>\n",
       "<path style=\"fill:none;stroke-width:1;stroke-linecap:round;stroke-linejoin:round;stroke:rgb(0%,0%,0%);stroke-opacity:1;stroke-miterlimit:10;\" d=\"M 59.039062 126.675781 L 51.839844 126.675781 \"/>\n",
       "<path style=\"fill:none;stroke-width:1;stroke-linecap:round;stroke-linejoin:round;stroke:rgb(0%,0%,0%);stroke-opacity:1;stroke-miterlimit:10;\" d=\"M 59.039062 113.886719 L 51.839844 113.886719 \"/>\n",
       "<path style=\"fill:none;stroke-width:1;stroke-linecap:round;stroke-linejoin:round;stroke:rgb(0%,0%,0%);stroke-opacity:1;stroke-miterlimit:10;\" d=\"M 59.039062 101.097656 L 51.839844 101.097656 \"/>\n",
       "<path style=\"fill:none;stroke-width:1;stroke-linecap:round;stroke-linejoin:round;stroke:rgb(0%,0%,0%);stroke-opacity:1;stroke-miterlimit:10;\" d=\"M 59.039062 88.308594 L 51.839844 88.308594 \"/>\n",
       "<path style=\"fill:none;stroke-width:1;stroke-linecap:round;stroke-linejoin:round;stroke:rgb(0%,0%,0%);stroke-opacity:1;stroke-miterlimit:10;\" d=\"M 59.039062 75.519531 L 51.839844 75.519531 \"/>\n",
       "<path style=\"fill:none;stroke-width:1;stroke-linecap:round;stroke-linejoin:round;stroke:rgb(0%,0%,0%);stroke-opacity:1;stroke-miterlimit:10;\" d=\"M 59.039062 62.726562 L 51.839844 62.726562 \"/>\n",
       "<g style=\"fill:rgb(0%,0%,0%);fill-opacity:1;\">\n",
       "  <use xlink:href=\"#glyph2-16\" x=\"43.199219\" y=\"151.628906\"/>\n",
       "  <use xlink:href=\"#glyph2-17\" x=\"43.199219\" y=\"144.678879\"/>\n",
       "  <use xlink:href=\"#glyph2-16\" x=\"43.199219\" y=\"141.203873\"/>\n",
       "  <use xlink:href=\"#glyph2-16\" x=\"43.199219\" y=\"134.253845\"/>\n",
       "</g>\n",
       "<g style=\"fill:rgb(0%,0%,0%);fill-opacity:1;\">\n",
       "  <use xlink:href=\"#glyph2-16\" x=\"43.199219\" y=\"113.261719\"/>\n",
       "  <use xlink:href=\"#glyph2-17\" x=\"43.199219\" y=\"106.311691\"/>\n",
       "  <use xlink:href=\"#glyph2-16\" x=\"43.199219\" y=\"102.836685\"/>\n",
       "  <use xlink:href=\"#glyph2-18\" x=\"43.199219\" y=\"95.886658\"/>\n",
       "</g>\n",
       "<g style=\"fill:rgb(0%,0%,0%);fill-opacity:1;\">\n",
       "  <use xlink:href=\"#glyph2-16\" x=\"43.199219\" y=\"74.890625\"/>\n",
       "  <use xlink:href=\"#glyph2-17\" x=\"43.199219\" y=\"67.940598\"/>\n",
       "  <use xlink:href=\"#glyph2-16\" x=\"43.199219\" y=\"64.465591\"/>\n",
       "  <use xlink:href=\"#glyph2-19\" x=\"43.199219\" y=\"57.515564\"/>\n",
       "</g>\n",
       "<path style=\"fill:none;stroke-width:1;stroke-linecap:round;stroke-linejoin:round;stroke:rgb(0%,0%,0%);stroke-opacity:1;stroke-miterlimit:10;\" d=\"M 66.398438 139.464844 L 92.683594 139.464844 Z M 66.398438 139.464844 \"/>\n",
       "<path style=\"fill:none;stroke-width:1;stroke-linecap:round;stroke-linejoin:round;stroke:rgb(0%,0%,0%);stroke-opacity:1;stroke-miterlimit:10;\" d=\"M 92.6875 127.570312 L 118.972656 127.570312 L 118.972656 139.46875 L 92.6875 139.46875 Z M 92.6875 127.570312 \"/>\n",
       "<path style=\"fill:none;stroke-width:1;stroke-linecap:round;stroke-linejoin:round;stroke:rgb(0%,0%,0%);stroke-opacity:1;stroke-miterlimit:10;\" d=\"M 118.972656 103.773438 L 145.257812 103.773438 L 145.257812 139.464844 L 118.972656 139.464844 Z M 118.972656 103.773438 \"/>\n",
       "<path style=\"fill:none;stroke-width:1;stroke-linecap:round;stroke-linejoin:round;stroke:rgb(0%,0%,0%);stroke-opacity:1;stroke-miterlimit:10;\" d=\"M 145.257812 62.132812 L 171.542969 62.132812 L 171.542969 139.464844 L 145.257812 139.464844 Z M 145.257812 62.132812 \"/>\n",
       "<path style=\"fill:none;stroke-width:1;stroke-linecap:round;stroke-linejoin:round;stroke:rgb(0%,0%,0%);stroke-opacity:1;stroke-miterlimit:10;\" d=\"M 171.542969 68.082031 L 197.828125 68.082031 L 197.828125 139.464844 L 171.542969 139.464844 Z M 171.542969 68.082031 \"/>\n",
       "<path style=\"fill:none;stroke-width:1;stroke-linecap:round;stroke-linejoin:round;stroke:rgb(0%,0%,0%);stroke-opacity:1;stroke-miterlimit:10;\" d=\"M 197.828125 97.824219 L 224.113281 97.824219 L 224.113281 139.464844 L 197.828125 139.464844 Z M 197.828125 97.824219 \"/>\n",
       "<path style=\"fill:none;stroke-width:1;stroke-linecap:round;stroke-linejoin:round;stroke:rgb(0%,0%,0%);stroke-opacity:1;stroke-miterlimit:10;\" d=\"M 224.113281 121.621094 L 250.398438 121.621094 L 250.398438 139.46875 L 224.113281 139.46875 Z M 224.113281 121.621094 \"/>\n",
       "</g>\n",
       "</svg>\n"
      ]
     },
     "metadata": {
      "image/svg+xml": {
       "isolated": true
      }
     },
     "output_type": "display_data"
    }
   ],
   "source": [
    "hist(ages, breaks = boundaries, prob = T, main = \"Relative frequency \n",
    "histogram\", \n",
    "    ylab = \"Relative frequencies\")\n",
    "# • You will see a relative frequency histogram of the ages similar to what we \n",
    "# have in our notes, except that relative frequencies correspond to areas, not \n",
    "# heights. \n",
    "# • ‘main’ means “main title” here. \n",
    "# • ‘ylab’ means “label for y-axis.” \n",
    "# • ‘xlab’ means “label for x-axis.” We didn’t use that here. "
   ]
  },
  {
   "cell_type": "code",
   "execution_count": 86,
   "metadata": {
    "run_control": {
     "frozen": false,
     "read_only": false
    },
    "slideshow": {
     "slide_type": "slide"
    }
   },
   "outputs": [
    {
     "data": {
      "text/html": [
       "0.999999999965132"
      ],
      "text/latex": [
       "0.999999999965132"
      ],
      "text/markdown": [
       "0.999999999965132"
      ],
      "text/plain": [
       "[1] 1"
      ]
     },
     "metadata": {},
     "output_type": "display_data"
    },
    {
     "data": {
      "image/jpeg": "[encoded data removed]",
      "image/png": "",
      "image/svg+xml": [
       "<?xml version=\"1.0\" encoding=\"UTF-8\"?>\n",
       "<svg xmlns=\"http://www.w3.org/2000/svg\" xmlns:xlink=\"http://www.w3.org/1999/xlink\" width=\"288pt\" height=\"216pt\" viewBox=\"0 0 288 216\" version=\"1.1\">\n",
       "<defs>\n",
       "<g>\n",
       "<symbol overflow=\"visible\" id=\"glyph0-0\">\n",
       "<path style=\"stroke:none;\" d=\"\"/>\n",
       "</symbol>\n",
       "<symbol overflow=\"visible\" id=\"glyph0-1\">\n",
       "<path style=\"stroke:none;\" d=\"M 6.53125 -3.0625 C 6.53125 -4.8125 5.25 -6.09375 3.546875 -6.09375 C 2.921875 -6.09375 2.328125 -5.890625 2.09375 -5.71875 L 2.359375 -7.59375 L 6.078125 -7.59375 L 6.078125 -8.9375 L 1.25 -8.9375 L 0.546875 -4.03125 L 1.78125 -4.03125 C 2.328125 -4.6875 2.65625 -4.859375 3.34375 -4.859375 C 4.53125 -4.859375 5.15625 -4.21875 5.15625 -2.90625 C 5.15625 -1.640625 4.546875 -1.046875 3.34375 -1.046875 C 2.390625 -1.046875 1.921875 -1.40625 1.625 -2.53125 L 0.28125 -2.53125 C 0.65625 -0.640625 1.796875 0.1875 3.375 0.1875 C 5.15625 0.1875 6.53125 -1.1875 6.53125 -3.0625 Z M 6.53125 -3.0625 \"/>\n",
       "</symbol>\n",
       "<symbol overflow=\"visible\" id=\"glyph0-2\">\n",
       "<path style=\"stroke:none;\" d=\"M 4.46875 -0.125 L 4.46875 -9.125 L 3.515625 -9.125 C 3.09375 -7.625 2.96875 -7.578125 1.140625 -7.34375 L 1.140625 -6.3125 L 3.09375 -6.3125 L 3.09375 0 L 4.46875 0 Z M 4.46875 -0.125 \"/>\n",
       "</symbol>\n",
       "<symbol overflow=\"visible\" id=\"glyph0-3\">\n",
       "<path style=\"stroke:none;\" d=\"M 6.46875 -4.390625 C 6.46875 -7.46875 5.359375 -9.125 3.4375 -9.125 C 1.53125 -9.125 0.40625 -7.4375 0.40625 -4.46875 C 0.40625 -1.46875 1.53125 0.1875 3.4375 0.1875 C 5.3125 0.1875 6.46875 -1.46875 6.46875 -4.390625 Z M 5.078125 -4.484375 C 5.078125 -1.96875 4.640625 -0.984375 3.40625 -0.984375 C 2.25 -0.984375 1.78125 -2.03125 1.78125 -4.453125 C 1.78125 -6.875 2.25 -7.890625 3.4375 -7.890625 C 4.625 -7.890625 5.078125 -6.859375 5.078125 -4.484375 Z M 5.078125 -4.484375 \"/>\n",
       "</symbol>\n",
       "<symbol overflow=\"visible\" id=\"glyph0-4\">\n",
       "<path style=\"stroke:none;\" d=\"M 6.515625 -6.390625 C 6.515625 -7.890625 5.21875 -9.125 3.546875 -9.125 C 1.734375 -9.125 0.546875 -8.0625 0.484375 -5.78125 L 1.84375 -5.78125 C 1.9375 -7.40625 2.421875 -7.90625 3.515625 -7.90625 C 4.515625 -7.90625 5.125 -7.3125 5.125 -6.359375 C 5.125 -5.65625 4.75 -5.15625 3.96875 -4.703125 L 2.8125 -4.046875 C 0.96875 -3 0.390625 -2.078125 0.28125 0 L 6.453125 0 L 6.453125 -1.34375 L 1.8125 -1.34375 C 1.90625 -1.9375 2.265625 -2.3125 3.34375 -2.953125 L 4.59375 -3.625 C 5.84375 -4.28125 6.515625 -5.296875 6.515625 -6.390625 Z M 6.515625 -6.390625 \"/>\n",
       "</symbol>\n",
       "<symbol overflow=\"visible\" id=\"glyph0-5\">\n",
       "<path style=\"stroke:none;\" d=\"M 8.203125 -0.125 L 8.203125 -9.375 L 6.84375 -9.375 L 6.84375 -1.78125 L 7.0625 -1.875 L 2.28125 -9.375 L 0.8125 -9.375 L 0.8125 0 L 2.171875 0 L 2.171875 -7.515625 L 1.953125 -7.421875 L 6.6875 0 L 8.203125 0 Z M 8.203125 -0.125 \"/>\n",
       "</symbol>\n",
       "<symbol overflow=\"visible\" id=\"glyph0-6\">\n",
       "<path style=\"stroke:none;\" d=\"M 6.15625 -0.125 L 6.15625 -6.8125 L 4.84375 -6.8125 L 4.84375 -3.0625 C 4.84375 -1.71875 4.28125 -0.984375 3.203125 -0.984375 C 2.375 -0.984375 1.96875 -1.34375 1.96875 -2.140625 L 1.96875 -6.8125 L 0.671875 -6.8125 L 0.671875 -1.71875 C 0.671875 -0.640625 1.625 0.1875 2.90625 0.1875 C 3.859375 0.1875 4.5625 -0.1875 5.171875 -1.046875 L 4.953125 -1.140625 L 4.953125 0 L 6.15625 0 Z M 6.15625 -0.125 \"/>\n",
       "</symbol>\n",
       "<symbol overflow=\"visible\" id=\"glyph0-7\">\n",
       "<path style=\"stroke:none;\" d=\"M 9.625 -0.125 L 9.625 -5.03125 C 9.625 -6.21875 8.84375 -7 7.625 -7 C 6.75 -7 6.125 -6.6875 5.625 -6.09375 C 5.3125 -6.65625 4.703125 -7 3.84375 -7 C 2.96875 -7 2.296875 -6.625 1.734375 -5.84375 L 1.96875 -5.75 L 1.96875 -6.8125 L 0.75 -6.8125 L 0.75 0 L 2.046875 0 L 2.046875 -4.234375 C 2.046875 -5.1875 2.609375 -5.828125 3.46875 -5.828125 C 4.234375 -5.828125 4.53125 -5.46875 4.53125 -4.640625 L 4.53125 0 L 5.84375 0 L 5.84375 -4.234375 C 5.84375 -5.1875 6.40625 -5.828125 7.265625 -5.828125 C 8.03125 -5.828125 8.328125 -5.46875 8.328125 -4.640625 L 8.328125 0 L 9.625 0 Z M 9.625 -0.125 \"/>\n",
       "</symbol>\n",
       "<symbol overflow=\"visible\" id=\"glyph0-8\">\n",
       "<path style=\"stroke:none;\" d=\"M 6.65625 -3.46875 C 6.65625 -5.59375 5.46875 -7 3.734375 -7 C 2.84375 -7 2.09375 -6.609375 1.609375 -5.875 L 1.84375 -5.78125 L 1.84375 -9.375 L 0.53125 -9.375 L 0.53125 0 L 1.734375 0 L 1.734375 -1.0625 L 1.515625 -0.96875 C 2.015625 -0.21875 2.78125 0.1875 3.6875 0.1875 C 5.40625 0.1875 6.65625 -1.34375 6.65625 -3.46875 Z M 5.3125 -3.40625 C 5.3125 -1.921875 4.671875 -1.046875 3.53125 -1.046875 C 2.4375 -1.046875 1.84375 -1.90625 1.84375 -3.40625 C 1.84375 -4.9375 2.4375 -5.8125 3.53125 -5.765625 C 4.703125 -5.765625 5.3125 -4.875 5.3125 -3.40625 Z M 5.3125 -3.40625 \"/>\n",
       "</symbol>\n",
       "<symbol overflow=\"visible\" id=\"glyph0-9\">\n",
       "<path style=\"stroke:none;\" d=\"M 6.53125 -3.09375 C 6.53125 -4.046875 6.46875 -4.65625 6.28125 -5.140625 C 5.84375 -6.21875 4.71875 -7 3.5 -7 C 1.671875 -7 0.359375 -5.515625 0.359375 -3.359375 C 0.359375 -1.21875 1.640625 0.1875 3.46875 0.1875 C 4.96875 0.1875 6.140625 -0.78125 6.421875 -2.25 L 5.125 -2.25 C 4.796875 -1.25 4.34375 -1.03125 3.515625 -1.03125 C 2.421875 -1.03125 1.734375 -1.59375 1.71875 -2.96875 L 6.53125 -2.96875 Z M 5.390625 -3.9375 C 5.390625 -3.9375 5.203125 -4.0625 5.21875 -4.09375 L 1.75 -4.09375 C 1.828125 -5.109375 2.4375 -5.78125 3.484375 -5.78125 C 4.515625 -5.78125 5.15625 -5.046875 5.15625 -4.03125 Z M 5.390625 -3.9375 \"/>\n",
       "</symbol>\n",
       "<symbol overflow=\"visible\" id=\"glyph0-10\">\n",
       "<path style=\"stroke:none;\" d=\"M 4.140625 -5.765625 L 4.140625 -6.9375 C 3.84375 -6.984375 3.75 -7 3.609375 -7 C 2.9375 -7 2.328125 -6.546875 1.71875 -5.578125 L 1.953125 -5.484375 L 1.953125 -6.8125 L 0.734375 -6.8125 L 0.734375 0 L 2.03125 0 L 2.03125 -3.53125 C 2.03125 -5 2.40625 -5.609375 4.140625 -5.640625 Z M 4.140625 -5.765625 \"/>\n",
       "</symbol>\n",
       "<symbol overflow=\"visible\" id=\"glyph0-11\">\n",
       "<path style=\"stroke:none;\" d=\"\"/>\n",
       "</symbol>\n",
       "<symbol overflow=\"visible\" id=\"glyph0-12\">\n",
       "<path style=\"stroke:none;\" d=\"M 6.5 -3.34375 C 6.5 -5.609375 5.28125 -7 3.40625 -7 C 1.5625 -7 0.3125 -5.59375 0.3125 -3.40625 C 0.3125 -1.203125 1.546875 0.1875 3.40625 0.1875 C 5.25 0.1875 6.5 -1.203125 6.5 -3.34375 Z M 5.15625 -3.359375 C 5.15625 -1.828125 4.5625 -1.03125 3.40625 -1.03125 C 2.25 -1.03125 1.65625 -1.8125 1.65625 -3.40625 C 1.65625 -4.96875 2.25 -5.78125 3.40625 -5.78125 C 4.59375 -5.78125 5.15625 -4.984375 5.15625 -3.359375 Z M 5.15625 -3.359375 \"/>\n",
       "</symbol>\n",
       "<symbol overflow=\"visible\" id=\"glyph0-13\">\n",
       "<path style=\"stroke:none;\" d=\"M 3.34375 -5.828125 L 3.34375 -6.8125 L 2.265625 -6.8125 L 2.265625 -7.703125 C 2.265625 -8.140625 2.390625 -8.234375 2.859375 -8.234375 C 2.953125 -8.234375 2.984375 -8.234375 3.34375 -8.21875 L 3.34375 -9.3125 C 2.984375 -9.40625 2.84375 -9.40625 2.640625 -9.40625 C 1.671875 -9.40625 0.96875 -8.71875 0.96875 -7.78125 L 0.96875 -6.8125 L 0.09375 -6.8125 L 0.09375 -5.703125 L 0.96875 -5.703125 L 0.96875 0 L 2.265625 0 L 2.265625 -5.703125 L 3.34375 -5.703125 Z M 3.34375 -5.828125 \"/>\n",
       "</symbol>\n",
       "<symbol overflow=\"visible\" id=\"glyph0-14\">\n",
       "<path style=\"stroke:none;\" d=\"M 5.859375 -1.96875 C 5.859375 -2.9375 5.1875 -3.5625 3.890625 -3.875 L 2.890625 -4.109375 C 2.03125 -4.3125 1.796875 -4.453125 1.796875 -4.90625 C 1.796875 -5.515625 2.21875 -5.78125 3.0625 -5.78125 C 3.90625 -5.78125 4.21875 -5.53125 4.234375 -4.71875 L 5.59375 -4.71875 C 5.59375 -6.140625 4.609375 -7 3.09375 -7 C 1.578125 -7 0.453125 -6.078125 0.453125 -4.859375 C 0.453125 -3.84375 1.109375 -3.21875 2.65625 -2.84375 L 3.640625 -2.609375 C 4.359375 -2.4375 4.515625 -2.34375 4.515625 -1.875 C 4.515625 -1.265625 4.03125 -1.03125 3.125 -1.03125 C 2.1875 -1.03125 1.78125 -1.125 1.640625 -2.265625 L 0.28125 -2.265625 C 0.34375 -0.609375 1.328125 0.1875 3.03125 0.1875 C 4.6875 0.1875 5.859375 -0.703125 5.859375 -1.96875 Z M 5.859375 -1.96875 \"/>\n",
       "</symbol>\n",
       "<symbol overflow=\"visible\" id=\"glyph0-15\">\n",
       "<path style=\"stroke:none;\" d=\"M 5.96875 -2.515625 L 4.796875 -2.515625 C 4.59375 -1.328125 4.203125 -1.03125 3.3125 -1.03125 C 2.15625 -1.03125 1.59375 -1.78125 1.59375 -3.34375 C 1.59375 -4.96875 2.15625 -5.78125 3.28125 -5.78125 C 4.15625 -5.78125 4.578125 -5.390625 4.71875 -4.34375 L 6.03125 -4.34375 C 5.890625 -6.078125 4.765625 -7 3.296875 -7 C 1.53125 -7 0.25 -5.515625 0.25 -3.34375 C 0.25 -1.21875 1.515625 0.1875 3.28125 0.1875 C 4.84375 0.1875 5.96875 -0.875 6.09375 -2.515625 Z M 5.96875 -2.515625 \"/>\n",
       "</symbol>\n",
       "<symbol overflow=\"visible\" id=\"glyph1-0\">\n",
       "<path style=\"stroke:none;\" d=\"\"/>\n",
       "</symbol>\n",
       "<symbol overflow=\"visible\" id=\"glyph1-1\">\n",
       "<path style=\"stroke:none;\" d=\"M -4.390625 -6.46875 C -7.46875 -6.46875 -9.125 -5.359375 -9.125 -3.4375 C -9.125 -1.53125 -7.4375 -0.40625 -4.46875 -0.40625 C -1.46875 -0.40625 0.1875 -1.53125 0.1875 -3.4375 C 0.1875 -5.3125 -1.46875 -6.46875 -4.390625 -6.46875 Z M -4.484375 -5.078125 C -1.96875 -5.078125 -0.984375 -4.640625 -0.984375 -3.40625 C -0.984375 -2.25 -2.03125 -1.78125 -4.453125 -1.78125 C -6.875 -1.78125 -7.890625 -2.25 -7.890625 -3.4375 C -7.890625 -4.625 -6.859375 -5.078125 -4.484375 -5.078125 Z M -4.484375 -5.078125 \"/>\n",
       "</symbol>\n",
       "<symbol overflow=\"visible\" id=\"glyph1-2\">\n",
       "<path style=\"stroke:none;\" d=\"M -0.125 -2.515625 L -1.5625 -2.515625 L -1.5625 -0.953125 L 0 -0.953125 L 0 -2.515625 Z M -0.125 -2.515625 \"/>\n",
       "</symbol>\n",
       "<symbol overflow=\"visible\" id=\"glyph1-3\">\n",
       "<path style=\"stroke:none;\" d=\"M -0.125 -4.46875 L -9.125 -4.46875 L -9.125 -3.515625 C -7.625 -3.09375 -7.578125 -2.96875 -7.34375 -1.140625 L -6.3125 -1.140625 L -6.3125 -3.09375 L 0 -3.09375 L 0 -4.46875 Z M -0.125 -4.46875 \"/>\n",
       "</symbol>\n",
       "<symbol overflow=\"visible\" id=\"glyph1-4\">\n",
       "<path style=\"stroke:none;\" d=\"M -4.6875 -8.46875 C -7.515625 -8.46875 -9.375 -6.9375 -9.375 -4.625 L -9.375 -0.96875 L 0 -0.96875 L 0 -4.625 C 0 -6.921875 -1.84375 -8.46875 -4.6875 -8.46875 Z M -4.671875 -7.03125 C -2.375 -7.03125 -1.28125 -6.21875 -1.28125 -4.421875 L -1.28125 -2.40625 L -8.09375 -2.40625 L -8.09375 -4.421875 C -8.09375 -6.21875 -7 -7.03125 -4.671875 -7.03125 Z M -4.671875 -7.03125 \"/>\n",
       "</symbol>\n",
       "<symbol overflow=\"visible\" id=\"glyph1-5\">\n",
       "<path style=\"stroke:none;\" d=\"M -3.09375 -6.53125 C -4.046875 -6.53125 -4.65625 -6.46875 -5.140625 -6.28125 C -6.21875 -5.84375 -7 -4.71875 -7 -3.5 C -7 -1.671875 -5.515625 -0.359375 -3.359375 -0.359375 C -1.21875 -0.359375 0.1875 -1.640625 0.1875 -3.46875 C 0.1875 -4.96875 -0.78125 -6.140625 -2.25 -6.421875 L -2.25 -5.125 C -1.25 -4.796875 -1.03125 -4.34375 -1.03125 -3.515625 C -1.03125 -2.421875 -1.59375 -1.734375 -2.96875 -1.71875 L -2.96875 -6.53125 Z M -3.9375 -5.390625 C -3.9375 -5.390625 -4.0625 -5.203125 -4.09375 -5.21875 L -4.09375 -1.75 C -5.109375 -1.828125 -5.78125 -2.4375 -5.78125 -3.484375 C -5.78125 -4.515625 -5.046875 -5.15625 -4.03125 -5.15625 Z M -3.9375 -5.390625 \"/>\n",
       "</symbol>\n",
       "<symbol overflow=\"visible\" id=\"glyph1-6\">\n",
       "<path style=\"stroke:none;\" d=\"M -0.125 -6.21875 L -5.078125 -6.21875 C -6.15625 -6.21875 -7 -5.28125 -7 -4.015625 C -7 -3.03125 -6.578125 -2.3125 -5.65625 -1.734375 L -5.578125 -1.96875 L -6.8125 -1.96875 L -6.8125 -0.734375 L 0 -0.734375 L 0 -2.03125 L -3.734375 -2.03125 C -5.078125 -2.03125 -5.828125 -2.640625 -5.828125 -3.703125 C -5.828125 -4.53125 -5.453125 -4.90625 -4.65625 -4.90625 L 0 -4.90625 L 0 -6.21875 Z M -0.125 -6.21875 \"/>\n",
       "</symbol>\n",
       "<symbol overflow=\"visible\" id=\"glyph1-7\">\n",
       "<path style=\"stroke:none;\" d=\"M -1.96875 -5.859375 C -2.9375 -5.859375 -3.5625 -5.1875 -3.875 -3.890625 L -4.109375 -2.890625 C -4.3125 -2.03125 -4.453125 -1.796875 -4.90625 -1.796875 C -5.515625 -1.796875 -5.78125 -2.21875 -5.78125 -3.0625 C -5.78125 -3.90625 -5.53125 -4.21875 -4.71875 -4.234375 L -4.71875 -5.59375 C -6.140625 -5.59375 -7 -4.609375 -7 -3.09375 C -7 -1.578125 -6.078125 -0.453125 -4.859375 -0.453125 C -3.84375 -0.453125 -3.21875 -1.109375 -2.84375 -2.65625 L -2.609375 -3.640625 C -2.4375 -4.359375 -2.34375 -4.515625 -1.875 -4.515625 C -1.265625 -4.515625 -1.03125 -4.03125 -1.03125 -3.125 C -1.03125 -2.1875 -1.125 -1.78125 -2.265625 -1.640625 L -2.265625 -0.28125 C -0.609375 -0.34375 0.1875 -1.328125 0.1875 -3.03125 C 0.1875 -4.6875 -0.703125 -5.859375 -1.96875 -5.859375 Z M -1.96875 -5.859375 \"/>\n",
       "</symbol>\n",
       "<symbol overflow=\"visible\" id=\"glyph1-8\">\n",
       "<path style=\"stroke:none;\" d=\"M -0.125 -2.03125 L -6.8125 -2.03125 L -6.8125 -0.734375 L 0 -0.734375 L 0 -2.03125 Z M -7.65625 -2.171875 L -9.09375 -2.171875 L -9.09375 -0.609375 L -7.53125 -0.609375 L -7.53125 -2.171875 Z M -7.65625 -2.171875 \"/>\n",
       "</symbol>\n",
       "<symbol overflow=\"visible\" id=\"glyph1-9\">\n",
       "<path style=\"stroke:none;\" d=\"M -0.125 -3.296875 L -1.171875 -3.296875 C -1.09375 -3.03125 -1.09375 -2.875 -1.09375 -2.671875 C -1.09375 -2.21875 -1.078125 -2.21875 -1.53125 -2.21875 L -5.703125 -2.21875 L -5.703125 -3.296875 L -6.8125 -3.296875 L -6.8125 -2.21875 L -8.609375 -2.21875 L -8.609375 -0.921875 L -6.8125 -0.921875 L -6.8125 -0.03125 L -5.703125 -0.03125 L -5.703125 -0.921875 L -1.078125 -0.921875 C -0.40625 -0.921875 0.09375 -1.515625 0.09375 -2.328125 C 0.09375 -2.578125 0.0625 -2.828125 -0.015625 -3.296875 Z M -0.125 -3.296875 \"/>\n",
       "</symbol>\n",
       "<symbol overflow=\"visible\" id=\"glyph1-10\">\n",
       "<path style=\"stroke:none;\" d=\"M -6.8125 -5.96875 L -6.8125 -4.765625 L -1.578125 -2.90625 L -1.578125 -3.15625 L -6.8125 -1.453125 L -6.8125 -0.0625 L -0.09375 -2.328125 L 0.9375 -1.921875 C 1.40625 -1.75 1.4375 -1.671875 1.4375 -1.21875 C 1.4375 -1.078125 1.40625 -0.90625 1.34375 -0.53125 L 2.515625 -0.53125 C 2.640625 -0.78125 2.71875 -1.09375 2.71875 -1.375 C 2.71875 -2.109375 2.1875 -2.84375 1.25 -3.1875 L -6.8125 -6.15625 Z M -6.8125 -5.96875 \"/>\n",
       "</symbol>\n",
       "</g>\n",
       "<clipPath id=\"clip1\">\n",
       "  <path d=\"M 62 135 L 71 135 L 71 143.558594 L 62 143.558594 Z M 62 135 \"/>\n",
       "</clipPath>\n",
       "<clipPath id=\"clip2\">\n",
       "  <path d=\"M 72 135 L 80 135 L 80 143.558594 L 72 143.558594 Z M 72 135 \"/>\n",
       "</clipPath>\n",
       "<clipPath id=\"clip3\">\n",
       "  <path d=\"M 82 135 L 90 135 L 90 143.558594 L 82 143.558594 Z M 82 135 \"/>\n",
       "</clipPath>\n",
       "<clipPath id=\"clip4\">\n",
       "  <path d=\"M 91 135 L 100 135 L 100 143.558594 L 91 143.558594 Z M 91 135 \"/>\n",
       "</clipPath>\n",
       "<clipPath id=\"clip5\">\n",
       "  <path d=\"M 101 135 L 109 135 L 109 143.558594 L 101 143.558594 Z M 101 135 \"/>\n",
       "</clipPath>\n",
       "<clipPath id=\"clip6\">\n",
       "  <path d=\"M 111 135 L 119 135 L 119 143.558594 L 111 143.558594 Z M 111 135 \"/>\n",
       "</clipPath>\n",
       "<clipPath id=\"clip7\">\n",
       "  <path d=\"M 188 59.039062 L 196 59.039062 L 196 66 L 188 66 Z M 188 59.039062 \"/>\n",
       "</clipPath>\n",
       "</defs>\n",
       "<g id=\"surface1303\">\n",
       "<rect x=\"0\" y=\"0\" width=\"288\" height=\"216\" style=\"fill:rgb(100%,100%,100%);fill-opacity:1;stroke:none;\"/>\n",
       "<g clip-path=\"url(#clip1)\" clip-rule=\"nonzero\">\n",
       "<path style=\"fill:none;stroke-width:1;stroke-linecap:round;stroke-linejoin:round;stroke:rgb(0%,0%,0%);stroke-opacity:1;stroke-miterlimit:10;\" d=\"M 69.601562 139.464844 C 69.601562 143.734375 63.199219 143.734375 63.199219 139.464844 C 63.199219 135.199219 69.601562 135.199219 69.601562 139.464844 \"/>\n",
       "</g>\n",
       "<g clip-path=\"url(#clip2)\" clip-rule=\"nonzero\">\n",
       "<path style=\"fill:none;stroke-width:1;stroke-linecap:round;stroke-linejoin:round;stroke:rgb(0%,0%,0%);stroke-opacity:1;stroke-miterlimit:10;\" d=\"M 79.285156 139.464844 C 79.285156 143.734375 72.882812 143.734375 72.882812 139.464844 C 72.882812 135.199219 79.285156 135.199219 79.285156 139.464844 \"/>\n",
       "</g>\n",
       "<g clip-path=\"url(#clip3)\" clip-rule=\"nonzero\">\n",
       "<path style=\"fill:none;stroke-width:1;stroke-linecap:round;stroke-linejoin:round;stroke:rgb(0%,0%,0%);stroke-opacity:1;stroke-miterlimit:10;\" d=\"M 88.96875 139.464844 C 88.96875 143.734375 82.570312 143.734375 82.570312 139.464844 C 82.570312 135.199219 88.96875 135.199219 88.96875 139.464844 \"/>\n",
       "</g>\n",
       "<g clip-path=\"url(#clip4)\" clip-rule=\"nonzero\">\n",
       "<path style=\"fill:none;stroke-width:1;stroke-linecap:round;stroke-linejoin:round;stroke:rgb(0%,0%,0%);stroke-opacity:1;stroke-miterlimit:10;\" d=\"M 98.652344 139.464844 C 98.652344 143.730469 92.253906 143.730469 92.253906 139.464844 C 92.253906 135.199219 98.652344 135.199219 98.652344 139.464844 \"/>\n",
       "</g>\n",
       "<g clip-path=\"url(#clip5)\" clip-rule=\"nonzero\">\n",
       "<path style=\"fill:none;stroke-width:1;stroke-linecap:round;stroke-linejoin:round;stroke:rgb(0%,0%,0%);stroke-opacity:1;stroke-miterlimit:10;\" d=\"M 108.335938 139.453125 C 108.335938 143.71875 101.9375 143.71875 101.9375 139.453125 C 101.9375 135.183594 108.335938 135.183594 108.335938 139.453125 \"/>\n",
       "</g>\n",
       "<g clip-path=\"url(#clip6)\" clip-rule=\"nonzero\">\n",
       "<path style=\"fill:none;stroke-width:1;stroke-linecap:round;stroke-linejoin:round;stroke:rgb(0%,0%,0%);stroke-opacity:1;stroke-miterlimit:10;\" d=\"M 118.019531 139.378906 C 118.019531 143.644531 111.621094 143.644531 111.621094 139.378906 C 111.621094 135.113281 118.019531 135.113281 118.019531 139.378906 \"/>\n",
       "</g>\n",
       "<path style=\"fill:none;stroke-width:1;stroke-linecap:round;stroke-linejoin:round;stroke:rgb(0%,0%,0%);stroke-opacity:1;stroke-miterlimit:10;\" d=\"M 127.707031 139.054688 C 127.707031 143.324219 121.304688 143.324219 121.304688 139.054688 C 121.304688 134.789062 127.707031 134.789062 127.707031 139.054688 \"/>\n",
       "<path style=\"fill:none;stroke-width:1;stroke-linecap:round;stroke-linejoin:round;stroke:rgb(0%,0%,0%);stroke-opacity:1;stroke-miterlimit:10;\" d=\"M 137.390625 137.910156 C 137.390625 142.175781 130.988281 142.175781 130.988281 137.910156 C 130.988281 133.644531 137.390625 133.644531 137.390625 137.910156 \"/>\n",
       "<path style=\"fill:none;stroke-width:1;stroke-linecap:round;stroke-linejoin:round;stroke:rgb(0%,0%,0%);stroke-opacity:1;stroke-miterlimit:10;\" d=\"M 147.074219 134.621094 C 147.074219 138.886719 140.671875 138.886719 140.671875 134.621094 C 140.671875 130.355469 147.074219 130.355469 147.074219 134.621094 \"/>\n",
       "<path style=\"fill:none;stroke-width:1;stroke-linecap:round;stroke-linejoin:round;stroke:rgb(0%,0%,0%);stroke-opacity:1;stroke-miterlimit:10;\" d=\"M 156.757812 127.03125 C 156.757812 131.296875 150.359375 131.296875 150.359375 127.03125 C 150.359375 122.765625 156.757812 122.765625 156.757812 127.03125 \"/>\n",
       "<path style=\"fill:none;stroke-width:1;stroke-linecap:round;stroke-linejoin:round;stroke:rgb(0%,0%,0%);stroke-opacity:1;stroke-miterlimit:10;\" d=\"M 166.441406 113.085938 C 166.441406 117.355469 160.042969 117.355469 160.042969 113.085938 C 160.042969 108.820312 166.441406 108.820312 166.441406 113.085938 \"/>\n",
       "<path style=\"fill:none;stroke-width:1;stroke-linecap:round;stroke-linejoin:round;stroke:rgb(0%,0%,0%);stroke-opacity:1;stroke-miterlimit:10;\" d=\"M 176.125 93.304688 C 176.125 97.570312 169.726562 97.570312 169.726562 93.304688 C 169.726562 89.035156 176.125 89.035156 176.125 93.304688 \"/>\n",
       "<path style=\"fill:none;stroke-width:1;stroke-linecap:round;stroke-linejoin:round;stroke:rgb(0%,0%,0%);stroke-opacity:1;stroke-miterlimit:10;\" d=\"M 185.808594 73.179688 C 185.808594 77.449219 179.410156 77.449219 179.410156 73.179688 C 179.410156 68.914062 185.808594 68.914062 185.808594 73.179688 \"/>\n",
       "<g clip-path=\"url(#clip7)\" clip-rule=\"nonzero\">\n",
       "<path style=\"fill:none;stroke-width:1;stroke-linecap:round;stroke-linejoin:round;stroke:rgb(0%,0%,0%);stroke-opacity:1;stroke-miterlimit:10;\" d=\"M 195.496094 62.132812 C 195.496094 66.398438 189.09375 66.398438 189.09375 62.132812 C 189.09375 57.867188 195.496094 57.867188 195.496094 62.132812 \"/>\n",
       "</g>\n",
       "<path style=\"fill:none;stroke-width:1;stroke-linecap:round;stroke-linejoin:round;stroke:rgb(0%,0%,0%);stroke-opacity:1;stroke-miterlimit:10;\" d=\"M 205.179688 67.289062 C 205.179688 71.554688 198.777344 71.554688 198.777344 67.289062 C 198.777344 63.023438 205.179688 63.023438 205.179688 67.289062 \"/>\n",
       "<path style=\"fill:none;stroke-width:1;stroke-linecap:round;stroke-linejoin:round;stroke:rgb(0%,0%,0%);stroke-opacity:1;stroke-miterlimit:10;\" d=\"M 214.863281 86.835938 C 214.863281 91.105469 208.464844 91.105469 208.464844 86.835938 C 208.464844 82.570312 214.863281 82.570312 214.863281 86.835938 \"/>\n",
       "<path style=\"fill:none;stroke-width:1;stroke-linecap:round;stroke-linejoin:round;stroke:rgb(0%,0%,0%);stroke-opacity:1;stroke-miterlimit:10;\" d=\"M 224.546875 110.570312 C 224.546875 114.839844 218.148438 114.839844 218.148438 110.570312 C 218.148438 106.304688 224.546875 106.304688 224.546875 110.570312 \"/>\n",
       "<path style=\"fill:none;stroke-width:1;stroke-linecap:round;stroke-linejoin:round;stroke:rgb(0%,0%,0%);stroke-opacity:1;stroke-miterlimit:10;\" d=\"M 234.230469 128.230469 C 234.230469 132.496094 227.832031 132.496094 227.832031 128.230469 C 227.832031 123.964844 234.230469 123.964844 234.230469 128.230469 \"/>\n",
       "<path style=\"fill:none;stroke-width:1;stroke-linecap:round;stroke-linejoin:round;stroke:rgb(0%,0%,0%);stroke-opacity:1;stroke-miterlimit:10;\" d=\"M 243.914062 136.707031 C 243.914062 140.972656 237.515625 140.972656 237.515625 136.707031 C 237.515625 132.441406 243.914062 132.441406 243.914062 136.707031 \"/>\n",
       "<path style=\"fill:none;stroke-width:1;stroke-linecap:round;stroke-linejoin:round;stroke:rgb(0%,0%,0%);stroke-opacity:1;stroke-miterlimit:10;\" d=\"M 253.601562 139.144531 C 253.601562 143.410156 247.199219 143.410156 247.199219 139.144531 C 247.199219 134.878906 253.601562 134.878906 253.601562 139.144531 \"/>\n",
       "<path style=\"fill:none;stroke-width:1;stroke-linecap:round;stroke-linejoin:round;stroke:rgb(0%,0%,0%);stroke-opacity:1;stroke-miterlimit:10;\" d=\"M 105.136719 142.558594 L 250.398438 142.558594 \"/>\n",
       "<path style=\"fill:none;stroke-width:1;stroke-linecap:round;stroke-linejoin:round;stroke:rgb(0%,0%,0%);stroke-opacity:1;stroke-miterlimit:10;\" d=\"M 105.136719 142.558594 L 105.136719 149.761719 \"/>\n",
       "<path style=\"fill:none;stroke-width:1;stroke-linecap:round;stroke-linejoin:round;stroke:rgb(0%,0%,0%);stroke-opacity:1;stroke-miterlimit:10;\" d=\"M 153.558594 142.558594 L 153.558594 149.761719 \"/>\n",
       "<path style=\"fill:none;stroke-width:1;stroke-linecap:round;stroke-linejoin:round;stroke:rgb(0%,0%,0%);stroke-opacity:1;stroke-miterlimit:10;\" d=\"M 201.980469 142.558594 L 201.980469 149.761719 \"/>\n",
       "<path style=\"fill:none;stroke-width:1;stroke-linecap:round;stroke-linejoin:round;stroke:rgb(0%,0%,0%);stroke-opacity:1;stroke-miterlimit:10;\" d=\"M 250.398438 142.558594 L 250.398438 149.761719 \"/>\n",
       "<g style=\"fill:rgb(0%,0%,0%);fill-opacity:1;\">\n",
       "  <use xlink:href=\"#glyph0-1\" x=\"101.660156\" y=\"169.921875\"/>\n",
       "</g>\n",
       "<g style=\"fill:rgb(0%,0%,0%);fill-opacity:1;\">\n",
       "  <use xlink:href=\"#glyph0-2\" x=\"146.609375\" y=\"169.921875\"/>\n",
       "  <use xlink:href=\"#glyph0-3\" x=\"153.559402\" y=\"169.921875\"/>\n",
       "</g>\n",
       "<g style=\"fill:rgb(0%,0%,0%);fill-opacity:1;\">\n",
       "  <use xlink:href=\"#glyph0-2\" x=\"195.03125\" y=\"169.921875\"/>\n",
       "  <use xlink:href=\"#glyph0-1\" x=\"201.981277\" y=\"169.921875\"/>\n",
       "</g>\n",
       "<g style=\"fill:rgb(0%,0%,0%);fill-opacity:1;\">\n",
       "  <use xlink:href=\"#glyph0-4\" x=\"243.449219\" y=\"169.921875\"/>\n",
       "  <use xlink:href=\"#glyph0-3\" x=\"250.399246\" y=\"169.921875\"/>\n",
       "</g>\n",
       "<path style=\"fill:none;stroke-width:1;stroke-linecap:round;stroke-linejoin:round;stroke:rgb(0%,0%,0%);stroke-opacity:1;stroke-miterlimit:10;\" d=\"M 59.039062 139.464844 L 59.039062 78.9375 \"/>\n",
       "<path style=\"fill:none;stroke-width:1;stroke-linecap:round;stroke-linejoin:round;stroke:rgb(0%,0%,0%);stroke-opacity:1;stroke-miterlimit:10;\" d=\"M 59.039062 139.464844 L 51.839844 139.464844 \"/>\n",
       "<path style=\"fill:none;stroke-width:1;stroke-linecap:round;stroke-linejoin:round;stroke:rgb(0%,0%,0%);stroke-opacity:1;stroke-miterlimit:10;\" d=\"M 59.039062 119.289062 L 51.839844 119.289062 \"/>\n",
       "<path style=\"fill:none;stroke-width:1;stroke-linecap:round;stroke-linejoin:round;stroke:rgb(0%,0%,0%);stroke-opacity:1;stroke-miterlimit:10;\" d=\"M 59.039062 99.113281 L 51.839844 99.113281 \"/>\n",
       "<path style=\"fill:none;stroke-width:1;stroke-linecap:round;stroke-linejoin:round;stroke:rgb(0%,0%,0%);stroke-opacity:1;stroke-miterlimit:10;\" d=\"M 59.039062 78.9375 L 51.839844 78.9375 \"/>\n",
       "<g style=\"fill:rgb(0%,0%,0%);fill-opacity:1;\">\n",
       "  <use xlink:href=\"#glyph1-1\" x=\"43.199219\" y=\"151.628906\"/>\n",
       "  <use xlink:href=\"#glyph1-2\" x=\"43.199219\" y=\"144.678879\"/>\n",
       "  <use xlink:href=\"#glyph1-1\" x=\"43.199219\" y=\"141.203873\"/>\n",
       "  <use xlink:href=\"#glyph1-1\" x=\"43.199219\" y=\"134.253845\"/>\n",
       "</g>\n",
       "<g style=\"fill:rgb(0%,0%,0%);fill-opacity:1;\">\n",
       "  <use xlink:href=\"#glyph1-1\" x=\"43.199219\" y=\"111.277344\"/>\n",
       "  <use xlink:href=\"#glyph1-2\" x=\"43.199219\" y=\"104.327316\"/>\n",
       "  <use xlink:href=\"#glyph1-3\" x=\"43.199219\" y=\"100.85231\"/>\n",
       "  <use xlink:href=\"#glyph1-1\" x=\"43.199219\" y=\"93.902283\"/>\n",
       "</g>\n",
       "<path style=\"fill:none;stroke-width:1;stroke-linecap:round;stroke-linejoin:round;stroke:rgb(0%,0%,0%);stroke-opacity:1;stroke-miterlimit:10;\" d=\"M 59.039062 142.558594 L 257.761719 142.558594 L 257.761719 59.039062 L 59.039062 59.039062 L 59.039062 142.558594 \"/>\n",
       "<g style=\"fill:rgb(0%,0%,0%);fill-opacity:1;\">\n",
       "  <use xlink:href=\"#glyph0-5\" x=\"98.3125\" y=\"198.71875\"/>\n",
       "  <use xlink:href=\"#glyph0-6\" x=\"107.33754\" y=\"198.71875\"/>\n",
       "  <use xlink:href=\"#glyph0-7\" x=\"114.287567\" y=\"198.71875\"/>\n",
       "  <use xlink:href=\"#glyph0-8\" x=\"124.700104\" y=\"198.71875\"/>\n",
       "  <use xlink:href=\"#glyph0-9\" x=\"131.650131\" y=\"198.71875\"/>\n",
       "  <use xlink:href=\"#glyph0-10\" x=\"138.600159\" y=\"198.71875\"/>\n",
       "  <use xlink:href=\"#glyph0-11\" x=\"142.76268\" y=\"198.71875\"/>\n",
       "  <use xlink:href=\"#glyph0-12\" x=\"146.237686\" y=\"198.71875\"/>\n",
       "  <use xlink:href=\"#glyph0-13\" x=\"153.187714\" y=\"198.71875\"/>\n",
       "  <use xlink:href=\"#glyph0-11\" x=\"156.66272\" y=\"198.71875\"/>\n",
       "  <use xlink:href=\"#glyph0-14\" x=\"160.137726\" y=\"198.71875\"/>\n",
       "  <use xlink:href=\"#glyph0-6\" x=\"166.387756\" y=\"198.71875\"/>\n",
       "  <use xlink:href=\"#glyph0-15\" x=\"173.337784\" y=\"198.71875\"/>\n",
       "  <use xlink:href=\"#glyph0-15\" x=\"179.587814\" y=\"198.71875\"/>\n",
       "  <use xlink:href=\"#glyph0-9\" x=\"185.837845\" y=\"198.71875\"/>\n",
       "  <use xlink:href=\"#glyph0-14\" x=\"192.787872\" y=\"198.71875\"/>\n",
       "  <use xlink:href=\"#glyph0-14\" x=\"199.037903\" y=\"198.71875\"/>\n",
       "  <use xlink:href=\"#glyph0-9\" x=\"205.287933\" y=\"198.71875\"/>\n",
       "  <use xlink:href=\"#glyph0-14\" x=\"212.237961\" y=\"198.71875\"/>\n",
       "</g>\n",
       "<g style=\"fill:rgb(0%,0%,0%);fill-opacity:1;\">\n",
       "  <use xlink:href=\"#glyph1-4\" x=\"14.398438\" y=\"121.636719\"/>\n",
       "  <use xlink:href=\"#glyph1-5\" x=\"14.398438\" y=\"112.611679\"/>\n",
       "  <use xlink:href=\"#glyph1-6\" x=\"14.398438\" y=\"105.661652\"/>\n",
       "  <use xlink:href=\"#glyph1-7\" x=\"14.398438\" y=\"98.711624\"/>\n",
       "  <use xlink:href=\"#glyph1-8\" x=\"14.398438\" y=\"92.461594\"/>\n",
       "  <use xlink:href=\"#glyph1-9\" x=\"14.398438\" y=\"89.686584\"/>\n",
       "  <use xlink:href=\"#glyph1-10\" x=\"14.398438\" y=\"86.211578\"/>\n",
       "</g>\n",
       "</g>\n",
       "</svg>\n"
      ]
     },
     "metadata": {
      "image/svg+xml": {
       "isolated": true
      }
     },
     "output_type": "display_data"
    }
   ],
   "source": [
    "n <- 1:20\n",
    "den <- dbinom(n, 20, 0.7)\n",
    "plot(den, ylab = \"Density\", xlab = \"Number of successes\")\n",
    "sum(den) "
   ]
  },
  {
   "cell_type": "markdown",
   "metadata": {
    "slideshow": {
     "slide_type": "slide"
    }
   },
   "source": [
    "## Further References"
   ]
  },
  {
   "cell_type": "markdown",
   "metadata": {
    "slideshow": {
     "slide_type": "fragment"
    }
   },
   "source": [
    "\n",
    "https://bit.ly/2HpksJ8  \n",
    "https://bit.ly/2JrxBxV  \n",
    "https://bit.ly/2vLLMMn  \n",
    "https://bit.ly/2qVuCWW  \n",
    "https://bit.ly/2xGhTZp  "
   ]
  }
 ],
 "metadata": {
  "celltoolbar": "Slideshow",
  "hide_input": false,
  "kernelspec": {
   "display_name": "R",
   "language": "R",
   "name": "r"
  },
  "language_info": {
   "codemirror_mode": "r",
   "file_extension": ".r",
   "mimetype": "text/x-r-source",
   "name": "R",
   "pygments_lexer": "r",
   "version": "3.4.1"
  },
  "nav_menu": {},
  "toc": {
   "nav_menu": {},
   "number_sections": false,
   "sideBar": true,
   "skip_h1_title": false,
   "toc_cell": true,
   "toc_position": {},
   "toc_section_display": "block",
   "toc_window_display": false
  }
 },
 "nbformat": 4,
 "nbformat_minor": 2
}
