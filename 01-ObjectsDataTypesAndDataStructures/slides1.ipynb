{
 "cells": [
  {
   "cell_type": "markdown",
   "metadata": {},
   "source": [
    "# Factors in R"
   ]
  },
  {
   "cell_type": "markdown",
   "metadata": {},
   "source": [
    "* Limited number of different values\n",
    "* Stored as a vector of integer values \n",
    "* factor's levels will always be character values\n",
    "* `factor()` function is used to create a factor\n",
    "* `levels()` function can be useful to check the levels of factor variable "
   ]
  },
  {
   "cell_type": "markdown",
   "metadata": {},
   "source": [
    "## Creating "
   ]
  },
  {
   "cell_type": "markdown",
   "metadata": {},
   "source": [
    "## Converting"
   ]
  },
  {
   "cell_type": "markdown",
   "metadata": {},
   "source": [
    "## levels, nlevels  and labels"
   ]
  },
  {
   "cell_type": "markdown",
   "metadata": {},
   "source": [
    "## adding levels "
   ]
  },
  {
   "cell_type": "markdown",
   "metadata": {},
   "source": [
    "##  Generating Factor Levels"
   ]
  },
  {
   "cell_type": "markdown",
   "metadata": {},
   "source": [
    "## `droplevels()`"
   ]
  },
  {
   "cell_type": "markdown",
   "metadata": {},
   "source": [
    "## Ordered factor\n",
    "* An \"ordered\" factor is a factor whose levels have a particular order\n",
    "* Create ordered factors with the `ordered()` command, or by using `factor()` with the `ordered=TRUE` argument"
   ]
  },
  {
   "cell_type": "markdown",
   "metadata": {},
   "source": [
    "## `stringsAsFactors =`"
   ]
  },
  {
   "cell_type": "markdown",
   "metadata": {},
   "source": [
    "## modifying or updating factors"
   ]
  },
  {
   "cell_type": "markdown",
   "metadata": {},
   "source": [
    "## working with `is.factor()`, `is.ordered()`, `as.factor()` and `as.ordered()` "
   ]
  },
  {
   "cell_type": "markdown",
   "metadata": {},
   "source": [
    "# Date and Time"
   ]
  },
  {
   "cell_type": "markdown",
   "metadata": {},
   "source": [
    "![Imgur](https://i.imgur.com/2RMPVpT.png)\n",
    "<sub>source: <a href=\"https://tbrieder.org/epidata/course_reading/e_aragon.pdf\" target=\"_blank\">https://tbrieder.org/epidata/course_reading/e_aragon.pdf</a></sub>  \n",
    "<sub>source: <a href=\"http://www.columbia.edu/~cjd11/charles_dimaggio/DIRE/resources/R/vars.pdf\" target=\"_blank\">http://www.columbia.edu/~cjd11/charles_dimaggio/DIRE/resources/R/vars.pdf</a></sub>  "
   ]
  },
  {
   "cell_type": "markdown",
   "metadata": {},
   "source": [
    "* `strptime()`\n",
    "*  `POSIXct()` and `POSIXlt()`\n",
    "* `as.Date()`"
   ]
  },
  {
   "cell_type": "code",
   "execution_count": 5,
   "metadata": {},
   "outputs": [],
   "source": [
    "help(strptime) #- to get conversion formats see ."
   ]
  },
  {
   "cell_type": "code",
   "execution_count": 4,
   "metadata": {},
   "outputs": [
    {
     "data": {
      "text/html": [
       "<ol class=list-inline>\n",
       "\t<li><time datetime=\"1945-10-11\">1945-10-11</time></li>\n",
       "\t<li><time datetime=\"2003-08-19\">2003-08-19</time></li>\n",
       "\t<li><time datetime=\"1964-05-15\">1964-05-15</time></li>\n",
       "</ol>\n"
      ],
      "text/latex": [
       "\\begin{enumerate*}\n",
       "\\item 1945-10-11\n",
       "\\item 2003-08-19\n",
       "\\item 1964-05-15\n",
       "\\end{enumerate*}\n"
      ],
      "text/markdown": [
       "1. 1945-10-11\n",
       "2. 2003-08-19\n",
       "3. 1964-05-15\n",
       "\n",
       "\n"
      ],
      "text/plain": [
       "[1] \"1945-10-11\" \"2003-08-19\" \"1964-05-15\""
      ]
     },
     "metadata": {},
     "output_type": "display_data"
    }
   ],
   "source": [
    "myDays <- c(\"10/11/1945\", \"8/19/2003\", \"5/15/1964\")\n",
    "myDates<- as.Date(myDays, format = \"%m/%d/%Y\")\n",
    "myDates"
   ]
  },
  {
   "cell_type": "code",
   "execution_count": null,
   "metadata": {},
   "outputs": [],
   "source": []
  }
 ],
 "metadata": {
  "kernelspec": {
   "display_name": "R",
   "language": "R",
   "name": "ir"
  },
  "language_info": {
   "codemirror_mode": "r",
   "file_extension": ".r",
   "mimetype": "text/x-r-source",
   "name": "R",
   "pygments_lexer": "r",
   "version": "3.4.3"
  },
  "toc": {
   "base_numbering": 1,
   "nav_menu": {},
   "number_sections": true,
   "sideBar": true,
   "skip_h1_title": false,
   "title_cell": "Table of Contents",
   "title_sidebar": "Contents",
   "toc_cell": false,
   "toc_position": {},
   "toc_section_display": true,
   "toc_window_display": false
  }
 },
 "nbformat": 4,
 "nbformat_minor": 2
}
