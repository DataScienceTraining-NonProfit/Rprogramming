{
 "cells": [
  {
   "cell_type": "markdown",
   "metadata": {},
   "source": [
    "## Principal Component Analysis"
   ]
  },
  {
   "cell_type": "markdown",
   "metadata": {},
   "source": [
    "**Pros:**    \n",
    "* Useful for dimension reduction for high dimensional data \n",
    "* Helps to reduce the number of predctors\n",
    "* Helps to make predictor items independent & avoid multicollinearity problem\n",
    "* Allow interpretation of many variables using two dimensional biplot\n",
    "* Also it can used for developing prediction problems \n",
    "\n",
    "**Cons:**  \n",
    "* Only Numerical variables can be allowed\n",
    "* Prediction models are less interpretable"
   ]
  },
  {
   "cell_type": "code",
   "execution_count": null,
   "metadata": {},
   "outputs": [],
   "source": [
    "# Data\n",
    "data(\"iris\")\n",
    "str(iris)\n",
    "summary(iris)\n",
    "\n",
    "# Partition Data\n",
    "set.seed(111)\n",
    "ind <- sample(2, nrow(iris),\n",
    "              replace = TRUE,\n",
    "              prob = c(0.8, 0.2))\n",
    "training <- iris[ind==1,]\n",
    "testing <- iris[ind==2,]\n",
    "\n",
    "# Scatter Plot & Correlations\n",
    "library(psych)\n",
    "pairs.panels(training[,-5],\n",
    "             gap = 0,\n",
    "             bg = c(\"red\", \"yellow\", \"blue\")[training$Species],\n",
    "             pch=21)\n",
    "\n",
    "# Principal Component Analysis\n",
    "pc <- prcomp(training[,-5],\n",
    "             center = TRUE,\n",
    "             scale. = TRUE)\n",
    "           \n",
    "attributes(pc)\n",
    "pc$center\n",
    "pc$scale\n",
    "print(pc)\n",
    "summary(pc)\n",
    "\n",
    "# Orthogonality of PCs\n",
    "pairs.panels(pc$x,\n",
    "             gap=0,\n",
    "             bg = c(\"red\", \"yellow\", \"blue\")[training$Species],\n",
    "             pch=21)\n",
    "\n",
    "# Bi-Plot\n",
    "library(devtools)\n",
    "# install_github(\"ggbiplot\", \"vqv\")\n",
    "library(ggbiplot)\n",
    "g <- ggbiplot(pc,\n",
    "              obs.scale = 1,\n",
    "              var.scale = 1,\n",
    "              groups = training$Species,\n",
    "              ellipse = TRUE,\n",
    "              circle = TRUE,\n",
    "              ellipse.prob = 0.68)\n",
    "g <- g + scale_color_discrete(name = '')\n",
    "g <- g + theme(legend.direction = 'horizontal',\n",
    "               legend.position = 'top')\n",
    "print(g)\n",
    "\n",
    "# Prediction with Principal Components\n",
    "trg <- predict(pc, training)\n",
    "trg <- data.frame(trg, training[5])\n",
    "tst <- predict(pc, testing)\n",
    "tst <- data.frame(tst, testing[5])\n",
    "\n",
    "# Multinomial Logistic regression with First Two PCs\n",
    "library(nnet)\n",
    "trg$Species <- relevel(trg$Species, ref = \"setosa\")\n",
    "mymodel <- multinom(Species~PC1+PC2, data = trg)\n",
    "summary(mymodel)\n",
    "\n",
    "# Confusion Matrix & Misclassification Error - training\n",
    "p <- predict(mymodel, trg)\n",
    "tab <- table(p, trg$Species)\n",
    "tab\n",
    "1 - sum(diag(tab))/sum(tab)\n",
    "\n",
    "# Confusion Matrix & Misclassification Error - testing\n",
    "p1 <- predict(mymodel, tst)\n",
    "tab1 <- table(p1, tst$Species)\n",
    "tab1\n",
    "1 - sum(diag(tab1))/sum(tab1)"
   ]
  },
  {
   "cell_type": "markdown",
   "metadata": {},
   "source": [
    "https://blog.learningtree.com/dimensionality-reduction-in-r/  \n",
    "https://www.listendata.com/2015/06/simplest-dimensionality-reduction-with-r.html  "
   ]
  }
 ],
 "metadata": {
  "kernelspec": {
   "display_name": "R",
   "language": "R",
   "name": "ir"
  },
  "language_info": {
   "codemirror_mode": "r",
   "file_extension": ".r",
   "mimetype": "text/x-r-source",
   "name": "R",
   "pygments_lexer": "r",
   "version": "3.4.3"
  },
  "toc": {
   "base_numbering": 1,
   "nav_menu": {},
   "number_sections": true,
   "sideBar": true,
   "skip_h1_title": false,
   "title_cell": "Table of Contents",
   "title_sidebar": "Contents",
   "toc_cell": false,
   "toc_position": {},
   "toc_section_display": true,
   "toc_window_display": false
  }
 },
 "nbformat": 4,
 "nbformat_minor": 2
}
