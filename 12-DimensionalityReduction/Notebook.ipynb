{
  "cells": [
    {
      "metadata": {},
      "cell_type": "markdown",
      "source": "## Principal Component Analysis"
    },
    {
      "metadata": {},
      "cell_type": "markdown",
      "source": "**Pros:**    \n* Useful for dimension reduction for high dimensional data \n* Helps to reduce the number of predctors\n* Helps to make predictor items independent & avoid multicollinearity problem\n* Allow interpretation of many variables using two dimensional biplot\n* Also it can used for developing prediction problems \n\n**Cons:**  \n* Only Numerical variables can be allowed\n* Prediction models are less interpretable"
    },
    {
      "metadata": {
        "trusted": false
      },
      "cell_type": "code",
      "source": "# Data\ndata(\"iris\")\nstr(iris)\nsummary(iris)\n\n# Partition Data\nset.seed(111)\nind <- sample(2, nrow(iris),\n              replace = TRUE,\n              prob = c(0.8, 0.2))\ntraining <- iris[ind==1,]\ntesting <- iris[ind==2,]\n\n# Scatter Plot & Correlations\nlibrary(psych)\npairs.panels(training[,-5],\n             gap = 0,\n             bg = c(\"red\", \"yellow\", \"blue\")[training$Species],\n             pch=21)\n\n# Principal Component Analysis\npc <- prcomp(training[,-5],\n             center = TRUE,\n             scale. = TRUE)\n           \nattributes(pc)\npc$center\npc$scale\nprint(pc)\nsummary(pc)\n\n# Orthogonality of PCs\npairs.panels(pc$x,\n             gap=0,\n             bg = c(\"red\", \"yellow\", \"blue\")[training$Species],\n             pch=21)\n\n# Bi-Plot\nlibrary(devtools)\n# install_github(\"ggbiplot\", \"vqv\")\nlibrary(ggbiplot)\ng <- ggbiplot(pc,\n              obs.scale = 1,\n              var.scale = 1,\n              groups = training$Species,\n              ellipse = TRUE,\n              circle = TRUE,\n              ellipse.prob = 0.68)\ng <- g + scale_color_discrete(name = '')\ng <- g + theme(legend.direction = 'horizontal',\n               legend.position = 'top')\nprint(g)\n\n# Prediction with Principal Components\ntrg <- predict(pc, training)\ntrg <- data.frame(trg, training[5])\ntst <- predict(pc, testing)\ntst <- data.frame(tst, testing[5])\n\n# Multinomial Logistic regression with First Two PCs\nlibrary(nnet)\ntrg$Species <- relevel(trg$Species, ref = \"setosa\")\nmymodel <- multinom(Species~PC1+PC2, data = trg)\nsummary(mymodel)\n\n# Confusion Matrix & Misclassification Error - training\np <- predict(mymodel, trg)\ntab <- table(p, trg$Species)\ntab\n1 - sum(diag(tab))/sum(tab)\n\n# Confusion Matrix & Misclassification Error - testing\np1 <- predict(mymodel, tst)\ntab1 <- table(p1, tst$Species)\ntab1\n1 - sum(diag(tab1))/sum(tab1)",
      "execution_count": null,
      "outputs": []
    },
    {
      "metadata": {},
      "cell_type": "markdown",
      "source": "https://blog.learningtree.com/dimensionality-reduction-in-r/  \nhttps://www.listendata.com/2015/06/simplest-dimensionality-reduction-with-r.html  "
    }
  ],
  "metadata": {
    "kernelspec": {
      "name": "r",
      "display_name": "R",
      "language": "R"
    },
    "language_info": {
      "mimetype": "text/x-r-source",
      "name": "R",
      "pygments_lexer": "r",
      "version": "3.5.3",
      "file_extension": ".r",
      "codemirror_mode": "r"
    },
    "toc": {
      "nav_menu": {},
      "number_sections": true,
      "sideBar": true,
      "skip_h1_title": false,
      "base_numbering": 1,
      "title_cell": "Table of Contents",
      "title_sidebar": "Contents",
      "toc_cell": false,
      "toc_position": {},
      "toc_section_display": true,
      "toc_window_display": false
    }
  },
  "nbformat": 4,
  "nbformat_minor": 2
}