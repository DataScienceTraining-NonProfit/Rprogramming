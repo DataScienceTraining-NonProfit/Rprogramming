{
 "cells": [
  {
   "cell_type": "code",
   "execution_count": null,
   "metadata": {},
   "outputs": [],
   "source": []
  },
  {
   "cell_type": "code",
   "execution_count": 2,
   "metadata": {},
   "outputs": [
    {
     "name": "stdout",
     "output_type": "stream",
     "text": [
      "package 'arules' successfully unpacked and MD5 sums checked\n",
      "\n",
      "The downloaded binary packages are in\n",
      "\tC:\\Users\\User\\AppData\\Local\\Temp\\RtmpEXWcKI\\downloaded_packages\n"
     ]
    },
    {
     "name": "stderr",
     "output_type": "stream",
     "text": [
      "also installing the dependencies 'mclust', 'flexmix', 'prabclus', 'diptest', 'trimcluster', 'gridExtra', 'fpc', 'viridis', 'TSP', 'qap', 'gclus', 'dendextend', 'registry', 'irlba', 'crosstalk', 'scatterplot3d', 'seriation', 'igraph', 'DT', 'plotly'\n",
      "\n"
     ]
    },
    {
     "name": "stdout",
     "output_type": "stream",
     "text": [
      "package 'mclust' successfully unpacked and MD5 sums checked\n",
      "package 'flexmix' successfully unpacked and MD5 sums checked\n",
      "package 'prabclus' successfully unpacked and MD5 sums checked\n",
      "package 'diptest' successfully unpacked and MD5 sums checked\n",
      "package 'trimcluster' successfully unpacked and MD5 sums checked\n",
      "package 'gridExtra' successfully unpacked and MD5 sums checked\n",
      "package 'fpc' successfully unpacked and MD5 sums checked\n",
      "package 'viridis' successfully unpacked and MD5 sums checked\n",
      "package 'TSP' successfully unpacked and MD5 sums checked\n",
      "package 'qap' successfully unpacked and MD5 sums checked\n",
      "package 'gclus' successfully unpacked and MD5 sums checked\n",
      "package 'dendextend' successfully unpacked and MD5 sums checked\n",
      "package 'registry' successfully unpacked and MD5 sums checked\n",
      "package 'irlba' successfully unpacked and MD5 sums checked\n",
      "package 'crosstalk' successfully unpacked and MD5 sums checked\n",
      "package 'scatterplot3d' successfully unpacked and MD5 sums checked\n",
      "package 'seriation' successfully unpacked and MD5 sums checked\n",
      "package 'igraph' successfully unpacked and MD5 sums checked\n",
      "package 'DT' successfully unpacked and MD5 sums checked\n",
      "package 'plotly' successfully unpacked and MD5 sums checked\n",
      "package 'arulesViz' successfully unpacked and MD5 sums checked\n",
      "\n",
      "The downloaded binary packages are in\n",
      "\tC:\\Users\\User\\AppData\\Local\\Temp\\RtmpEXWcKI\\downloaded_packages\n"
     ]
    }
   ],
   "source": [
    "# install.packages(\"arules\")\n",
    "# install.packages(\"arulesViz\")"
   ]
  },
  {
   "cell_type": "code",
   "execution_count": 2,
   "metadata": {},
   "outputs": [
    {
     "name": "stderr",
     "output_type": "stream",
     "text": [
      "Loading required package: Matrix\n",
      "\n",
      "Attaching package: 'arules'\n",
      "\n",
      "The following objects are masked from 'package:base':\n",
      "\n",
      "    abbreviate, write\n",
      "\n",
      "Loading required package: grid\n"
     ]
    }
   ],
   "source": [
    "library(arules)\n",
    "library(arulesViz)\n",
    "# library(datasets)"
   ]
  },
  {
   "cell_type": "code",
   "execution_count": 3,
   "metadata": {},
   "outputs": [
    {
     "name": "stdout",
     "output_type": "stream",
     "text": [
      "     lhs                      rhs      support confidence lift     \n",
      "[1]  {laptop}              => {mobile} 0.125   1.0000000  1.6000000\n",
      "[2]  {headset,laptop}      => {mobile} 0.125   1.0000000  1.6000000\n",
      "[3]  {charger,pad}         => {mobile} 0.125   1.0000000  1.6000000\n",
      "[4]  {charger,headset,pad} => {mobile} 0.125   1.0000000  1.6000000\n",
      "[5]  {charger}             => {mobile} 0.250   0.6666667  1.0666667\n",
      "[6]  {pad}                 => {mobile} 0.250   0.6666667  1.0666667\n",
      "[7]  {headset,pad}         => {mobile} 0.250   0.6666667  1.0666667\n",
      "[8]  {}                    => {mobile} 0.625   0.6250000  1.0000000\n",
      "[9]  {headset}             => {mobile} 0.500   0.5714286  0.9142857\n",
      "[10] {charger,headset}     => {mobile} 0.125   0.5000000  0.8000000\n"
     ]
    },
    {
     "data": {
      "image/png": "[encoded data removed]",
      "text/plain": [
       "plot without title"
      ]
     },
     "metadata": {},
     "output_type": "display_data"
    }
   ],
   "source": [
    "# w1 = read.table(\"C:/Users/sbgowtham/Desktop/comm.csv\")\n",
    "w1 = read.table(\"data//retail.csv\")\n",
    "\n",
    "# trans = read.transactions(\"C:/Users/sbgowtham/Desktop/comm.csv\", format = \"basket\", sep=\",\");\n",
    "trans = read.transactions(\"data//retail.csv\", format = \"basket\", sep=\",\");\n",
    "\n",
    "itemFrequencyPlot(trans,topN=20,type=\"absolute\")\n",
    "\n",
    "\n",
    "rules<-apriori(data=trans, parameter=list(supp=0.001,conf = 0.08), \n",
    "appearance = list(default=\"lhs\",rhs=\"mobile\"),control = list(verbose=F))\n",
    "\n",
    "rules<-sort(rules, decreasing=TRUE,by=\"confidence\")\n",
    "\n",
    "\n",
    "inspect(rules[1:10])\n",
    "\n",
    "\n",
    "plot(rules,method=\"graph\",interactive=TRUE,shading=NA)"
   ]
  },
  {
   "cell_type": "markdown",
   "metadata": {},
   "source": [
    "* Market Basket Analysis is for the retailers to identify relationships between the items that people buy.\n",
    "\n",
    "* Association Rules is widely used to analyze retail basket or transaction data\n",
    "\n",
    "An Example of Association Rules Assume there are 100 customers 10 out of them bought milk, 8 bought butter and 6 bought both of them.\n",
    ">bought milk => bought butter  \n",
    "Support = P(Milk & Butter) = 6/100 = 0.06  \n",
    "confidence = support/P(Butter) = 0.06/0.08 = 0.75  \n",
    "lift = confidence/P(Milk) = 0.75/0.10 = 7.5  "
   ]
  },
  {
   "cell_type": "markdown",
   "metadata": {},
   "source": [
    "Online Retail dataset from UCI Machine Learning repository's   \n",
    "http://archive.ics.uci.edu/ml/datasets/online+retail  "
   ]
  },
  {
   "cell_type": "code",
   "execution_count": 1,
   "metadata": {},
   "outputs": [
    {
     "name": "stdout",
     "output_type": "stream",
     "text": [
      "package 'tidyverse' successfully unpacked and MD5 sums checked\n",
      "\n",
      "The downloaded binary packages are in\n",
      "\tC:\\Users\\User\\AppData\\Local\\Temp\\RtmpK8ia4z\\downloaded_packages\n",
      "package 'plyr' successfully unpacked and MD5 sums checked\n",
      "\n",
      "The downloaded binary packages are in\n",
      "\tC:\\Users\\User\\AppData\\Local\\Temp\\RtmpK8ia4z\\downloaded_packages\n"
     ]
    }
   ],
   "source": [
    "install.packages(\"tidyverse\")\n",
    "install.packages(\"plyr\")"
   ]
  },
  {
   "cell_type": "code",
   "execution_count": 2,
   "metadata": {},
   "outputs": [
    {
     "name": "stderr",
     "output_type": "stream",
     "text": [
      "Loading tidyverse: ggplot2\n",
      "Loading tidyverse: tibble\n",
      "Loading tidyverse: tidyr\n",
      "Loading tidyverse: readr\n",
      "Loading tidyverse: purrr\n",
      "Loading tidyverse: dplyr\n",
      "Conflicts with tidy packages ---------------------------------------------------\n",
      "filter(): dplyr, stats\n",
      "lag():    dplyr, stats\n",
      "\n",
      "Attaching package: 'lubridate'\n",
      "\n",
      "The following object is masked from 'package:base':\n",
      "\n",
      "    date\n",
      "\n",
      "Loading required package: Matrix\n",
      "\n",
      "Attaching package: 'Matrix'\n",
      "\n",
      "The following object is masked from 'package:tidyr':\n",
      "\n",
      "    expand\n",
      "\n",
      "\n",
      "Attaching package: 'arules'\n",
      "\n",
      "The following object is masked from 'package:dplyr':\n",
      "\n",
      "    recode\n",
      "\n",
      "The following objects are masked from 'package:base':\n",
      "\n",
      "    abbreviate, write\n",
      "\n",
      "Loading required package: grid\n",
      "------------------------------------------------------------------------------\n",
      "You have loaded plyr after dplyr - this is likely to cause problems.\n",
      "If you need functions from both plyr and dplyr, please load plyr first, then dplyr:\n",
      "library(plyr); library(dplyr)\n",
      "------------------------------------------------------------------------------\n",
      "\n",
      "Attaching package: 'plyr'\n",
      "\n",
      "The following object is masked from 'package:lubridate':\n",
      "\n",
      "    here\n",
      "\n",
      "The following objects are masked from 'package:dplyr':\n",
      "\n",
      "    arrange, count, desc, failwith, id, mutate, rename, summarise,\n",
      "    summarize\n",
      "\n",
      "The following object is masked from 'package:purrr':\n",
      "\n",
      "    compact\n",
      "\n"
     ]
    }
   ],
   "source": [
    "# Load the packages\n",
    "library(tidyverse)\n",
    "library(readxl)\n",
    "library(ggplot2)\n",
    "library(lubridate)\n",
    "library(arules)\n",
    "library(arulesViz)\n",
    "library(plyr)"
   ]
  },
  {
   "cell_type": "markdown",
   "metadata": {},
   "source": [
    "### Data preprocessing and exploring"
   ]
  },
  {
   "cell_type": "code",
   "execution_count": 4,
   "metadata": {},
   "outputs": [
    {
     "name": "stderr",
     "output_type": "stream",
     "text": [
      "Warning message in eval(expr, envir, enclos):\n",
      "\"NAs introduced by coercion\""
     ]
    },
    {
     "name": "stdout",
     "output_type": "stream",
     "text": [
      "Observations: 406,829\n",
      "Variables: 10\n",
      "$ InvoiceNo   <dbl> 536365, 536365, 536365, 536365, 536365, 536365, 536365,...\n",
      "$ StockCode   <chr> \"85123A\", \"71053\", \"84406B\", \"84029G\", \"84029E\", \"22752...\n",
      "$ Description <fctr> WHITE HANGING HEART T-LIGHT HOLDER, WHITE METAL LANTER...\n",
      "$ Quantity    <dbl> 6, 6, 8, 6, 6, 2, 6, 6, 6, 32, 6, 6, 8, 6, 6, 3, 2, 3, ...\n",
      "$ InvoiceDate <dttm> 2010-12-01 08:26:00, 2010-12-01 08:26:00, 2010-12-01 0...\n",
      "$ UnitPrice   <dbl> 2.55, 3.39, 2.75, 3.39, 3.39, 7.65, 4.25, 1.85, 1.85, 1...\n",
      "$ CustomerID  <dbl> 17850, 17850, 17850, 17850, 17850, 17850, 17850, 17850,...\n",
      "$ Country     <fctr> United Kingdom, United Kingdom, United Kingdom, United...\n",
      "$ Date        <date> 2010-12-01, 2010-12-01, 2010-12-01, 2010-12-01, 2010-1...\n",
      "$ Time        <chr> \"08:26:00\", \"08:26:00\", \"08:26:00\", \"08:26:00\", \"08:26:...\n",
      "Classes 'tbl_df', 'tbl' and 'data.frame':\t406829 obs. of  10 variables:\n",
      " $ InvoiceNo  : num  536365 536365 536365 536365 536365 ...\n",
      " $ StockCode  : chr  \"85123A\" \"71053\" \"84406B\" \"84029G\" ...\n",
      " $ Description: Factor w/ 3885 levels \"10 COLOUR SPACEBOY PEN\",..: 3706 3714 850 1803 2766 2966 1433 1551 1548 208 ...\n",
      " $ Quantity   : num  6 6 8 6 6 2 6 6 6 32 ...\n",
      " $ InvoiceDate: POSIXct, format: \"2010-12-01 08:26:00\" \"2010-12-01 08:26:00\" ...\n",
      " $ UnitPrice  : num  2.55 3.39 2.75 3.39 3.39 7.65 4.25 1.85 1.85 1.69 ...\n",
      " $ CustomerID : num  17850 17850 17850 17850 17850 ...\n",
      " $ Country    : Factor w/ 37 levels \"Australia\",\"Austria\",..: 35 35 35 35 35 35 35 35 35 35 ...\n",
      " $ Date       : Date, format: \"2010-12-01\" \"2010-12-01\" ...\n",
      " $ Time       : chr  \"08:26:00\" \"08:26:00\" \"08:26:00\" \"08:26:00\" ...\n"
     ]
    }
   ],
   "source": [
    "retail <- read_excel('data/Online Retail.xlsx')\n",
    "retail <- retail[complete.cases(retail), ]\n",
    "retail <- retail %>% mutate(Description = as.factor(Description))\n",
    "retail <- retail %>% mutate(Country = as.factor(Country))\n",
    "retail$Date <- as.Date(retail$InvoiceDate)\n",
    "retail$Time <- format(retail$InvoiceDate,\"%H:%M:%S\")\n",
    "retail$InvoiceNo <- as.numeric(as.character(retail$InvoiceNo))\n",
    "glimpse(retail)\n",
    "str(retail)"
   ]
  },
  {
   "cell_type": "raw",
   "metadata": {},
   "source": [
    "The dataset includes 406,829 records and 10 fields: InvoiceNo, StockCode, Description, Quantity, InvoiceDate, UnitPrice, CustomerID, Country, Date, Time."
   ]
  },
  {
   "cell_type": "markdown",
   "metadata": {},
   "source": [
    "### What time do people often purchase online?"
   ]
  },
  {
   "cell_type": "code",
   "execution_count": null,
   "metadata": {},
   "outputs": [],
   "source": [
    "retail$Time <- as.factor(retail$Time)\n",
    "a <- hms(as.character(retail$Time))\n",
    "retail$Time = hour(a)"
   ]
  },
  {
   "cell_type": "code",
   "execution_count": 7,
   "metadata": {},
   "outputs": [
    {
     "name": "stderr",
     "output_type": "stream",
     "text": [
      "Warning message:\n",
      "\"Ignoring unknown parameters: binwidth, bins, pad\""
     ]
    },
    {
     "data": {},
     "metadata": {},
     "output_type": "display_data"
    },
    {
     "data": {
      "image/png": "[encoded data removed]",
      "text/plain": [
       "plot without title"
      ]
     },
     "metadata": {},
     "output_type": "display_data"
    }
   ],
   "source": [
    "retail %>% \n",
    "  ggplot(aes(x=Time)) + \n",
    "  geom_histogram(stat=\"count\",fill=\"indianred\")\n",
    "# There is a clear effect of hour of day on order volume. Most orders happened between 11:00-15:00."
   ]
  },
  {
   "cell_type": "markdown",
   "metadata": {},
   "source": [
    "https://bit.ly/2xFRaS3  "
   ]
  }
 ],
 "metadata": {
  "kernelspec": {
   "display_name": "R",
   "language": "R",
   "name": "ir"
  },
  "language_info": {
   "codemirror_mode": "r",
   "file_extension": ".r",
   "mimetype": "text/x-r-source",
   "name": "R",
   "pygments_lexer": "r",
   "version": "3.4.3"
  },
  "toc": {
   "base_numbering": 1,
   "nav_menu": {},
   "number_sections": true,
   "sideBar": true,
   "skip_h1_title": false,
   "title_cell": "Table of Contents",
   "title_sidebar": "Contents",
   "toc_cell": false,
   "toc_position": {},
   "toc_section_display": true,
   "toc_window_display": false
  }
 },
 "nbformat": 4,
 "nbformat_minor": 2
}
