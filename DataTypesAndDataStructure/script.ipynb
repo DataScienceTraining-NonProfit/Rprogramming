{
 "cells": [
  {
   "cell_type": "code",
   "execution_count": null,
   "metadata": {
    "run_control": {
     "frozen": false,
     "read_only": false
    }
   },
   "outputs": [],
   "source": [
    "# to check current working directory\n",
    "# getwd()\n",
    "#setting a working directory\n",
    "setwd(\"E:/DSwRandP-Apr18/R-basics\")\n",
    "#data types\n",
    "\n",
    "#integers\n",
    "vecI<- c(1+2L)\n",
    "vecI1 <- seq(2,6)\n",
    "class(vecI1)\n",
    "\n",
    "\n",
    "#numeric\n",
    "vecN <- c(2,3,5,6)\n",
    "class(vecN)\n",
    "#character\n",
    "vecC <- c(\"1+2i\", \"TRUE\", \"lucid\", \"23\")\n",
    "class(vecC)\n",
    "#logical\n",
    "vecL<- c(TRUE,FALSE,TRUE,FALSE)\n",
    "class(vecL)\n",
    "#complex\n",
    "vecCom <- c(2+3i, 9-0i, -78-34i)\n",
    "class(vecCom)\n",
    "#data structure\n",
    "\n",
    "#vector (1 dimentional storage of elements)\n",
    "# integer vector\n",
    "intVec <- c(TRUE,5L,90L,65L, \"yes\")\n",
    "class(intVec)\n",
    "numVec <- c(3,5,90,65, \"lucid\")\n",
    "class(numVec)\n",
    "charVec <- c(\"rajesh\", \"ramesh\", \"suresh\", \"90\")\n",
    "class(charVec)\n",
    "compVec <- c(2+4i, \"9+6i\", -2+56i, -4-45i)\n",
    "class(compVec)\n",
    "logiVec <- c(12,FALSE, TRUE, TRUE)\n",
    "class(logiVec)\n",
    "sum(3,4)\n",
    "\n",
    "\n",
    "# subsetting or indexing\n",
    "intVec[3] # accessing 3rd element\n",
    "intVec[-3] #ignoring only 3rd element\n",
    "intVec[c(2,4)]\n",
    "intVec[2:4]\n",
    "intVec[-(2:4)]\n",
    "intVec[-c(2:4)]\n",
    "intVec[c(2,4)] <- c(678,45)\n",
    "intVec\n",
    "\n",
    "myVec <- seq(1,12)\n",
    "class(myVec)\n",
    "myVec\n",
    "myVec[seq(4,9)]\n",
    "myVec[c(4,9)]\n",
    "1:12\n",
    "myVec[myVec==5]\n",
    "myVec <- c(12,34,56,67,83)\n",
    "myVec[myVec==c(12,56)]\n",
    "myVec <- seq(1,5)\n",
    "myVec[1:12]\n",
    "#matrix (2 dimensional storage of elemtns)\n",
    "myMat <- matrix(1:12)\n",
    "?matrix\n",
    "myMat\n",
    "dim(myMat)\n",
    "# dim(myMat) <- c(1,12)\n",
    "View(myMat)\n",
    "print(myMat)\n",
    "view(myMat)\n",
    "View(myMat)\n",
    "# indexing of matrix\n",
    "myMat[2,3]\n",
    "myMat[2,]\n",
    "myMat[,c(1,3)]\n",
    "myMat[,2:4]\n",
    "myMat[,rep(3,2)]\n",
    "myMat[,rep(3,2)]\n",
    "myMat[,seq(1,3)][2,2]\n",
    "myMat[2,2]\n",
    "myMat[rep(3,2),]\n",
    "#arrays\n",
    "myArr <- array(1:12)\n",
    "dim(myArr) <- c(2,3,2)\n",
    "myArr\n",
    "myArr <- array(1:12,dim = c(4,3,2))\n",
    "View(myArr)\n",
    "print(myArr)\n",
    "# indexing of arrays\n",
    "myArr[,,2]\n",
    "myArr[,2,2]\n",
    "myArr[1,2,2]\n",
    "myArr[1,2,] <- c(23,45)\n",
    "myArr[1,2,] \n",
    "myArr[1,2,] <- rep(23,2)\n",
    "#data frame\n",
    "# creating data frame\n",
    "df <- data.frame(empno=c(23L,-92L,50L),\n",
    "                 empname=c(\"ramesh\", \"rajesh\", \"suresh\"),\n",
    "                 empsal =c(23000,45000,64000), stringsAsFactors = TRUE \n",
    "                           )\n",
    "df\n",
    "View(df)\n",
    "class(df)\n",
    "str(df)\n",
    "attributes(df)\n",
    "df[,2]\n",
    "df[1,]\n",
    "head(mtcars)\n",
    "tail(mtcars)\n",
    "dim(mtcars)\n",
    "nrow(mtcars)\n",
    "ncol(mtcars)\n",
    "data()\n",
    "# ?mtcars\n",
    "View(mtcars)"
   ]
  },
  {
   "cell_type": "code",
   "execution_count": 1,
   "metadata": {
    "run_control": {
     "frozen": false,
     "read_only": false
    }
   },
   "outputs": [],
   "source": [
    "#lists\n",
    "mylist <- list (a = 1:5, b = \"Hi There\", c = function(x) x * sin(x))"
   ]
  },
  {
   "cell_type": "code",
   "execution_count": 2,
   "metadata": {
    "run_control": {
     "frozen": false,
     "read_only": false
    }
   },
   "outputs": [
    {
     "data": {
      "text/html": [
       "<strong>$a</strong> = <ol class=list-inline>\n",
       "\t<li>1</li>\n",
       "\t<li>2</li>\n",
       "\t<li>3</li>\n",
       "\t<li>4</li>\n",
       "\t<li>5</li>\n",
       "</ol>\n"
      ],
      "text/latex": [
       "\\textbf{\\$a} = \\begin{enumerate*}\n",
       "\\item 1\n",
       "\\item 2\n",
       "\\item 3\n",
       "\\item 4\n",
       "\\item 5\n",
       "\\end{enumerate*}\n"
      ],
      "text/markdown": [
       "**$a** = 1. 1\n",
       "2. 2\n",
       "3. 3\n",
       "4. 4\n",
       "5. 5\n",
       "\n",
       "\n"
      ],
      "text/plain": [
       "$a\n",
       "[1] 1 2 3 4 5\n"
      ]
     },
     "metadata": {},
     "output_type": "display_data"
    }
   ],
   "source": [
    "mylist[1]"
   ]
  },
  {
   "cell_type": "code",
   "execution_count": 3,
   "metadata": {
    "run_control": {
     "frozen": false,
     "read_only": false
    }
   },
   "outputs": [
    {
     "ename": "ERROR",
     "evalue": "Error in mylist[1] + 1: non-numeric argument to binary operator\n",
     "output_type": "error",
     "traceback": [
      "Error in mylist[1] + 1: non-numeric argument to binary operator\nTraceback:\n"
     ]
    }
   ],
   "source": [
    "mylist[1] + 1      # Can we do math on that?"
   ]
  },
  {
   "cell_type": "code",
   "execution_count": 4,
   "metadata": {
    "run_control": {
     "frozen": false,
     "read_only": false
    }
   },
   "outputs": [
    {
     "data": {
      "text/html": [
       "<ol class=list-inline>\n",
       "\t<li>1</li>\n",
       "\t<li>2</li>\n",
       "\t<li>3</li>\n",
       "\t<li>4</li>\n",
       "\t<li>5</li>\n",
       "</ol>\n"
      ],
      "text/latex": [
       "\\begin{enumerate*}\n",
       "\\item 1\n",
       "\\item 2\n",
       "\\item 3\n",
       "\\item 4\n",
       "\\item 5\n",
       "\\end{enumerate*}\n"
      ],
      "text/markdown": [
       "1. 1\n",
       "2. 2\n",
       "3. 3\n",
       "4. 4\n",
       "5. 5\n",
       "\n",
       "\n"
      ],
      "text/plain": [
       "[1] 1 2 3 4 5"
      ]
     },
     "metadata": {},
     "output_type": "display_data"
    }
   ],
   "source": [
    "mylist[[1]]"
   ]
  },
  {
   "cell_type": "code",
   "execution_count": 5,
   "metadata": {
    "run_control": {
     "frozen": false,
     "read_only": false
    }
   },
   "outputs": [
    {
     "data": {
      "text/html": [
       "<ol class=list-inline>\n",
       "\t<li>1</li>\n",
       "\t<li>2</li>\n",
       "\t<li>3</li>\n",
       "\t<li>4</li>\n",
       "\t<li>5</li>\n",
       "</ol>\n"
      ],
      "text/latex": [
       "\\begin{enumerate*}\n",
       "\\item 1\n",
       "\\item 2\n",
       "\\item 3\n",
       "\\item 4\n",
       "\\item 5\n",
       "\\end{enumerate*}\n"
      ],
      "text/markdown": [
       "1. 1\n",
       "2. 2\n",
       "3. 3\n",
       "4. 4\n",
       "5. 5\n",
       "\n",
       "\n"
      ],
      "text/plain": [
       "[1] 1 2 3 4 5"
      ]
     },
     "metadata": {},
     "output_type": "display_data"
    }
   ],
   "source": [
    "mylist$a"
   ]
  },
  {
   "cell_type": "code",
   "execution_count": 6,
   "metadata": {
    "run_control": {
     "frozen": false,
     "read_only": false
    }
   },
   "outputs": [
    {
     "data": {
      "text/html": [
       "<ol class=list-inline>\n",
       "\t<li>2</li>\n",
       "\t<li>3</li>\n",
       "\t<li>4</li>\n",
       "\t<li>5</li>\n",
       "\t<li>6</li>\n",
       "</ol>\n"
      ],
      "text/latex": [
       "\\begin{enumerate*}\n",
       "\\item 2\n",
       "\\item 3\n",
       "\\item 4\n",
       "\\item 5\n",
       "\\item 6\n",
       "\\end{enumerate*}\n"
      ],
      "text/markdown": [
       "1. 2\n",
       "2. 3\n",
       "3. 4\n",
       "4. 5\n",
       "5. 6\n",
       "\n",
       "\n"
      ],
      "text/plain": [
       "[1] 2 3 4 5 6"
      ]
     },
     "metadata": {},
     "output_type": "display_data"
    }
   ],
   "source": [
    "mylist$a + 1      # Can we do math on that?\n",
    "# Answer: yes."
   ]
  },
  {
   "cell_type": "code",
   "execution_count": 7,
   "metadata": {
    "run_control": {
     "frozen": false,
     "read_only": false
    }
   },
   "outputs": [
    {
     "data": {
      "text/html": [
       "2"
      ],
      "text/latex": [
       "2"
      ],
      "text/markdown": [
       "2"
      ],
      "text/plain": [
       "[1] 2"
      ]
     },
     "metadata": {},
     "output_type": "display_data"
    }
   ],
   "source": [
    "mylist$a[2]       # What's the second element of the item named \"a\"?\n",
    "# Answer: 2."
   ]
  },
  {
   "cell_type": "code",
   "execution_count": 8,
   "metadata": {
    "run_control": {
     "frozen": false,
     "read_only": false
    }
   },
   "outputs": [
    {
     "data": {
      "text/html": [
       "<ol class=list-inline>\n",
       "\t<li>1</li>\n",
       "\t<li>3</li>\n",
       "\t<li>4</li>\n",
       "\t<li>5</li>\n",
       "</ol>\n"
      ],
      "text/latex": [
       "\\begin{enumerate*}\n",
       "\\item 1\n",
       "\\item 3\n",
       "\\item 4\n",
       "\\item 5\n",
       "\\end{enumerate*}\n"
      ],
      "text/markdown": [
       "1. 1\n",
       "2. 3\n",
       "3. 4\n",
       "4. 5\n",
       "\n",
       "\n"
      ],
      "text/plain": [
       "[1] 1 3 4 5"
      ]
     },
     "metadata": {},
     "output_type": "display_data"
    }
   ],
   "source": [
    "mylist$a[-2]      # Give me everything from \"a\" except the second element\n",
    "# Remember the negative subscript?"
   ]
  },
  {
   "cell_type": "code",
   "execution_count": null,
   "metadata": {
    "run_control": {
     "frozen": false,
     "read_only": false
    }
   },
   "outputs": [],
   "source": [
    "# Adding items to, and deleting items from, a list"
   ]
  },
  {
   "cell_type": "code",
   "execution_count": 9,
   "metadata": {
    "run_control": {
     "frozen": false,
     "read_only": false
    }
   },
   "outputs": [
    {
     "data": {
      "text/html": [
       "<dl>\n",
       "\t<dt>$a</dt>\n",
       "\t\t<dd><ol class=list-inline>\n",
       "\t<li>1</li>\n",
       "\t<li>2</li>\n",
       "\t<li>3</li>\n",
       "\t<li>4</li>\n",
       "\t<li>5</li>\n",
       "</ol>\n",
       "</dd>\n",
       "\t<dt>$b</dt>\n",
       "\t\t<dd>'Hi There'</dd>\n",
       "\t<dt>$c</dt>\n",
       "\t\t<dd><pre class=language-r><code>function (x) \n",
       "x * sin(x)</code></pre></dd>\n",
       "</dl>\n"
      ],
      "text/latex": [
       "\\begin{description}\n",
       "\\item[\\$a] \\begin{enumerate*}\n",
       "\\item 1\n",
       "\\item 2\n",
       "\\item 3\n",
       "\\item 4\n",
       "\\item 5\n",
       "\\end{enumerate*}\n",
       "\n",
       "\\item[\\$b] 'Hi There'\n",
       "\\item[\\$c] \\begin{minted}{r}\n",
       "function (x) \n",
       "x * sin(x)\n",
       "\\end{minted}\n",
       "\\end{description}\n"
      ],
      "text/markdown": [
       "$a\n",
       ":   1. 1\n",
       "2. 2\n",
       "3. 3\n",
       "4. 4\n",
       "5. 5\n",
       "\n",
       "\n",
       "\n",
       "$b\n",
       ":   'Hi There'\n",
       "$c\n",
       ":   ```r\n",
       "function (x) \n",
       "x * sin(x)\n",
       "```\n",
       "\n",
       "\n"
      ],
      "text/plain": [
       "$a\n",
       "[1] 1 2 3 4 5\n",
       "\n",
       "$b\n",
       "[1] \"Hi There\"\n",
       "\n",
       "$c\n",
       "function (x) \n",
       "x * sin(x)\n"
      ]
     },
     "metadata": {},
     "output_type": "display_data"
    }
   ],
   "source": [
    "mylist                     # Here's what mylist looks like right now"
   ]
  },
  {
   "cell_type": "code",
   "execution_count": 10,
   "metadata": {
    "run_control": {
     "frozen": false,
     "read_only": false
    }
   },
   "outputs": [],
   "source": [
    "mylist$d <- \"New item\"     # Add a new item and print out the list"
   ]
  },
  {
   "cell_type": "code",
   "execution_count": 11,
   "metadata": {
    "run_control": {
     "frozen": false,
     "read_only": false
    }
   },
   "outputs": [
    {
     "data": {
      "text/html": [
       "<dl>\n",
       "\t<dt>$a</dt>\n",
       "\t\t<dd><ol class=list-inline>\n",
       "\t<li>1</li>\n",
       "\t<li>2</li>\n",
       "\t<li>3</li>\n",
       "\t<li>4</li>\n",
       "\t<li>5</li>\n",
       "</ol>\n",
       "</dd>\n",
       "\t<dt>$b</dt>\n",
       "\t\t<dd>'Hi There'</dd>\n",
       "\t<dt>$c</dt>\n",
       "\t\t<dd><pre class=language-r><code>function (x) \n",
       "x * sin(x)</code></pre></dd>\n",
       "\t<dt>$d</dt>\n",
       "\t\t<dd>'New item'</dd>\n",
       "</dl>\n"
      ],
      "text/latex": [
       "\\begin{description}\n",
       "\\item[\\$a] \\begin{enumerate*}\n",
       "\\item 1\n",
       "\\item 2\n",
       "\\item 3\n",
       "\\item 4\n",
       "\\item 5\n",
       "\\end{enumerate*}\n",
       "\n",
       "\\item[\\$b] 'Hi There'\n",
       "\\item[\\$c] \\begin{minted}{r}\n",
       "function (x) \n",
       "x * sin(x)\n",
       "\\end{minted}\n",
       "\\item[\\$d] 'New item'\n",
       "\\end{description}\n"
      ],
      "text/markdown": [
       "$a\n",
       ":   1. 1\n",
       "2. 2\n",
       "3. 3\n",
       "4. 4\n",
       "5. 5\n",
       "\n",
       "\n",
       "\n",
       "$b\n",
       ":   'Hi There'\n",
       "$c\n",
       ":   ```r\n",
       "function (x) \n",
       "x * sin(x)\n",
       "```\n",
       "$d\n",
       ":   'New item'\n",
       "\n",
       "\n"
      ],
      "text/plain": [
       "$a\n",
       "[1] 1 2 3 4 5\n",
       "\n",
       "$b\n",
       "[1] \"Hi There\"\n",
       "\n",
       "$c\n",
       "function (x) \n",
       "x * sin(x)\n",
       "\n",
       "$d\n",
       "[1] \"New item\"\n"
      ]
     },
     "metadata": {},
     "output_type": "display_data"
    }
   ],
   "source": [
    "mylist                     # We could have assigned to mylist[[4]]; then that\n",
    "length(mylist)             # The length of a list is the number of elements"
   ]
  },
  {
   "cell_type": "code",
   "execution_count": 13,
   "metadata": {
    "run_control": {
     "frozen": false,
     "read_only": false
    }
   },
   "outputs": [],
   "source": [
    "mylist$b <- NULL           # Delete item b and print out the list"
   ]
  },
  {
   "cell_type": "code",
   "execution_count": 2,
   "metadata": {
    "run_control": {
     "frozen": false,
     "read_only": false
    }
   },
   "outputs": [
    {
     "data": {
      "text/html": [
       "<dl>\n",
       "\t<dt>$a</dt>\n",
       "\t\t<dd><ol class=list-inline>\n",
       "\t<li>1</li>\n",
       "\t<li>2</li>\n",
       "\t<li>3</li>\n",
       "\t<li>4</li>\n",
       "\t<li>5</li>\n",
       "</ol>\n",
       "</dd>\n",
       "\t<dt>$b</dt>\n",
       "\t\t<dd>'Hi There'</dd>\n",
       "\t<dt>$c</dt>\n",
       "\t\t<dd><pre class=language-r><code>function (x) \n",
       "x * sin(x)</code></pre></dd>\n",
       "</dl>\n"
      ],
      "text/latex": [
       "\\begin{description}\n",
       "\\item[\\$a] \\begin{enumerate*}\n",
       "\\item 1\n",
       "\\item 2\n",
       "\\item 3\n",
       "\\item 4\n",
       "\\item 5\n",
       "\\end{enumerate*}\n",
       "\n",
       "\\item[\\$b] 'Hi There'\n",
       "\\item[\\$c] \\begin{minted}{r}\n",
       "function (x) \n",
       "x * sin(x)\n",
       "\\end{minted}\n",
       "\\end{description}\n"
      ],
      "text/markdown": [
       "$a\n",
       ":   1. 1\n",
       "2. 2\n",
       "3. 3\n",
       "4. 4\n",
       "5. 5\n",
       "\n",
       "\n",
       "\n",
       "$b\n",
       ":   'Hi There'\n",
       "$c\n",
       ":   ```r\n",
       "function (x) \n",
       "x * sin(x)\n",
       "```\n",
       "\n",
       "\n"
      ],
      "text/plain": [
       "$a\n",
       "[1] 1 2 3 4 5\n",
       "\n",
       "$b\n",
       "[1] \"Hi There\"\n",
       "\n",
       "$c\n",
       "function (x) \n",
       "x * sin(x)\n"
      ]
     },
     "metadata": {},
     "output_type": "display_data"
    }
   ],
   "source": [
    "mylist"
   ]
  },
  {
   "cell_type": "code",
   "execution_count": 3,
   "metadata": {
    "run_control": {
     "frozen": false,
     "read_only": false
    }
   },
   "outputs": [
    {
     "name": "stdout",
     "output_type": "stream",
     "text": [
      "$a\n",
      "[1] 1 2 3 4 5\n",
      "\n",
      "$b\n",
      "[1] \"Hi There\"\n",
      "\n",
      "$c\n",
      "function (x) \n",
      "x * sin(x)\n",
      "\n"
     ]
    }
   ],
   "source": [
    "print(mylist)"
   ]
  },
  {
   "cell_type": "code",
   "execution_count": null,
   "metadata": {},
   "outputs": [],
   "source": []
  }
 ],
 "metadata": {
  "hide_input": false,
  "kernelspec": {
   "display_name": "R",
   "language": "R",
   "name": "ir"
  },
  "language_info": {
   "codemirror_mode": "r",
   "file_extension": ".r",
   "mimetype": "text/x-r-source",
   "name": "R",
   "pygments_lexer": "r",
   "version": "3.3.2"
  },
  "nav_menu": {},
  "toc": {
   "navigate_menu": true,
   "number_sections": true,
   "sideBar": true,
   "threshold": 6,
   "toc_cell": false,
   "toc_section_display": true,
   "toc_window_display": false
  }
 },
 "nbformat": 4,
 "nbformat_minor": 2
}
