{
  "cells": [
    {
      "metadata": {},
      "cell_type": "markdown",
      "source": "# *Projects using* Real-World dataset"
    },
    {
      "metadata": {},
      "cell_type": "markdown",
      "source": "![Imgur](https://i.imgur.com/ZJypn6y.jpg)"
    },
    {
      "metadata": {},
      "cell_type": "markdown",
      "source": "## Data Exploration Using Baby Names"
    },
    {
      "metadata": {},
      "cell_type": "markdown",
      "source": "https://github.com/sumendar/babynames  "
    },
    {
      "metadata": {},
      "cell_type": "markdown",
      "source": "## *machine learning using* Regression"
    },
    {
      "metadata": {},
      "cell_type": "markdown",
      "source": "https://trainings.analyticsvidhya.com/courses/course-v1:AnalyticsVidhya+BigMS01+2018_1/about  \nhttps://rpubs.com/rpadebet/269829  "
    },
    {
      "metadata": {},
      "cell_type": "markdown",
      "source": "## *machine learning using* Classification"
    },
    {
      "metadata": {},
      "cell_type": "markdown",
      "source": "**Predicting Earning Potential using the Adult Dataset**  \nhttps://www.kaggle.com/flyingwombat/logistic-regression-with-uci-adult-income  \nhttps://rstudio-pubs-static.s3.amazonaws.com/235617_51e06fa6c43b47d1b6daca2523b2f9e4.html  \n  \n**End to End Application**  \nhttp://www.md2c.nl/predict-annual-income/  \nhttps://studio.azureml.net/ "
    }
  ],
  "metadata": {
    "kernelspec": {
      "name": "r",
      "display_name": "R",
      "language": "R"
    },
    "language_info": {
      "mimetype": "text/x-r-source",
      "name": "R",
      "pygments_lexer": "r",
      "version": "3.4.1",
      "file_extension": ".r",
      "codemirror_mode": "r"
    },
    "toc": {
      "nav_menu": {},
      "number_sections": true,
      "sideBar": true,
      "skip_h1_title": false,
      "base_numbering": 1,
      "title_cell": "Table of Contents",
      "title_sidebar": "Contents",
      "toc_cell": false,
      "toc_position": {},
      "toc_section_display": true,
      "toc_window_display": false
    }
  },
  "nbformat": 4,
  "nbformat_minor": 2
}