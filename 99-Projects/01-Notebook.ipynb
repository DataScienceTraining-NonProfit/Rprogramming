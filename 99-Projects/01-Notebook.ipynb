{
  "cells": [
    {
      "metadata": {},
      "cell_type": "markdown",
      "source": "# *Project using* Real-World dataset"
    },
    {
      "metadata": {},
      "cell_type": "markdown",
      "source": "![Imgur](https://i.imgur.com/ZJypn6y.jpg)"
    },
    {
      "metadata": {},
      "cell_type": "markdown",
      "source": "## *machine learning using* Classification"
    },
    {
      "metadata": {},
      "cell_type": "markdown",
      "source": "**Predicting Earning Potential using the Adult Dataset**  \nhttps://www.kaggle.com/flyingwombat/logistic-regression-with-uci-adult-income  "
    }
  ],
  "metadata": {
    "kernelspec": {
      "name": "r",
      "display_name": "R",
      "language": "R"
    },
    "language_info": {
      "mimetype": "text/x-r-source",
      "name": "R",
      "pygments_lexer": "r",
      "version": "3.5.3",
      "file_extension": ".r",
      "codemirror_mode": "r"
    },
    "toc": {
      "nav_menu": {},
      "number_sections": true,
      "sideBar": true,
      "skip_h1_title": false,
      "base_numbering": 1,
      "title_cell": "Table of Contents",
      "title_sidebar": "Contents",
      "toc_cell": false,
      "toc_position": {},
      "toc_section_display": true,
      "toc_window_display": false
    }
  },
  "nbformat": 4,
  "nbformat_minor": 2
}