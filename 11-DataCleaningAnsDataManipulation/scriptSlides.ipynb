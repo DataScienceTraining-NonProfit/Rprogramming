{
 "cells": [
  {
   "cell_type": "markdown",
   "metadata": {
    "slideshow": {
     "slide_type": "slide"
    }
   },
   "source": [
    "## Working with dates: lubridate"
   ]
  },
  {
   "cell_type": "markdown",
   "metadata": {},
   "source": [
    "https://rpubs.com/davoodastaraky/lubridate"
   ]
  },
  {
   "cell_type": "markdown",
   "metadata": {},
   "source": [
    "## Working with Strings: stringr"
   ]
  },
  {
   "cell_type": "markdown",
   "metadata": {},
   "source": [
    "http://edrub.in/CheatSheets/cheatSheetStringr.pdf"
   ]
  },
  {
   "cell_type": "markdown",
   "metadata": {},
   "source": [
    "## Working with categorical data: gmodels"
   ]
  },
  {
   "cell_type": "code",
   "execution_count": 1,
   "metadata": {},
   "outputs": [],
   "source": [
    "data <- data.frame(Smoker=c(72L,34L),Non_Smoker=c(44L,53L),row.names = c(\"Male\",\"Female\"))\n",
    "dataM <- as.matrix(data)"
   ]
  },
  {
   "cell_type": "code",
   "execution_count": 2,
   "metadata": {
    "scrolled": true
   },
   "outputs": [
    {
     "name": "stdout",
     "output_type": "stream",
     "text": [
      "       Smoker Non_Smoker\n",
      "Male       72         44\n",
      "Female     34         53\n"
     ]
    }
   ],
   "source": [
    "print(dataM)"
   ]
  },
  {
   "cell_type": "code",
   "execution_count": 3,
   "metadata": {},
   "outputs": [],
   "source": [
    "### calculate sum of table entries Using base functions"
   ]
  },
  {
   "cell_type": "code",
   "execution_count": 3,
   "metadata": {},
   "outputs": [
    {
     "data": {
      "text/html": [
       "203"
      ],
      "text/latex": [
       "203"
      ],
      "text/markdown": [
       "203"
      ],
      "text/plain": [
       "[1] 203"
      ]
     },
     "metadata": {},
     "output_type": "display_data"
    }
   ],
   "source": [
    "margin.table(dataM) # total members (marginal distribution)"
   ]
  },
  {
   "cell_type": "code",
   "execution_count": 8,
   "metadata": {
    "scrolled": true
   },
   "outputs": [
    {
     "name": "stdout",
     "output_type": "stream",
     "text": [
      "  Male Female \n",
      "   116     87 \n",
      "    Smoker Non_Smoker \n",
      "       106         97 \n"
     ]
    }
   ],
   "source": [
    "print(margin.table(dataM, 1)) # row-wise summary total male and total females\n",
    "print(margin.table(dataM, 2)) # column-wise summary total Smokers and total Non-Smokers"
   ]
  },
  {
   "cell_type": "code",
   "execution_count": 16,
   "metadata": {},
   "outputs": [
    {
     "data": {
      "text/html": [
       "<table>\n",
       "<thead><tr><th></th><th scope=col>Smoker</th><th scope=col>Non_Smoker</th><th scope=col>Sum</th></tr></thead>\n",
       "<tbody>\n",
       "\t<tr><th scope=row>Male</th><td> 72</td><td>44 </td><td>116</td></tr>\n",
       "\t<tr><th scope=row>Female</th><td> 34</td><td>53 </td><td> 87</td></tr>\n",
       "\t<tr><th scope=row>Sum</th><td>106</td><td>97 </td><td>203</td></tr>\n",
       "</tbody>\n",
       "</table>\n"
      ],
      "text/latex": [
       "\\begin{tabular}{r|lll}\n",
       "  & Smoker & Non\\_Smoker & Sum\\\\\n",
       "\\hline\n",
       "\tMale &  72 & 44  & 116\\\\\n",
       "\tFemale &  34 & 53  &  87\\\\\n",
       "\tSum & 106 & 97  & 203\\\\\n",
       "\\end{tabular}\n"
      ],
      "text/markdown": [
       "\n",
       "| <!--/--> | Smoker | Non_Smoker | Sum | \n",
       "|---|---|---|\n",
       "| Male |  72 | 44  | 116 | \n",
       "| Female |  34 | 53  |  87 | \n",
       "| Sum | 106 | 97  | 203 | \n",
       "\n",
       "\n"
      ],
      "text/plain": [
       "       Smoker Non_Smoker Sum\n",
       "Male    72    44         116\n",
       "Female  34    53          87\n",
       "Sum    106    97         203"
      ]
     },
     "metadata": {},
     "output_type": "display_data"
    }
   ],
   "source": [
    "addmargins(dataM) #adding marginal distribution summaries "
   ]
  },
  {
   "cell_type": "code",
   "execution_count": 20,
   "metadata": {
    "scrolled": false
   },
   "outputs": [
    {
     "data": {
      "text/plain": [
       "        Smoker Non_Smoker\n",
       "                         \n",
       "Male        72         44\n",
       "Female      34         53"
      ]
     },
     "metadata": {},
     "output_type": "display_data"
    }
   ],
   "source": [
    "ftable(dataM)"
   ]
  },
  {
   "cell_type": "code",
   "execution_count": 19,
   "metadata": {
    "scrolled": false
   },
   "outputs": [
    {
     "data": {
      "text/plain": [
       "        Smoker Non_Smoker Sum\n",
       "                             \n",
       "Male        72         44 116\n",
       "Female      34         53  87\n",
       "Sum        106         97 203"
      ]
     },
     "metadata": {},
     "output_type": "display_data"
    }
   ],
   "source": [
    "ftable(addmargins(dataM))"
   ]
  },
  {
   "cell_type": "code",
   "execution_count": 25,
   "metadata": {},
   "outputs": [
    {
     "data": {
      "text/plain": [
       "dataM\n",
       "  34   44   53   72 \n",
       "0.25 0.25 0.25 0.25 "
      ]
     },
     "metadata": {},
     "output_type": "display_data"
    }
   ],
   "source": [
    "prop.table(table(dataM)) # this is better for single variable rather than two-way tables"
   ]
  },
  {
   "cell_type": "code",
   "execution_count": 21,
   "metadata": {
    "scrolled": false
   },
   "outputs": [
    {
     "data": {
      "text/html": [
       "<table>\n",
       "<thead><tr><th></th><th scope=col>Smoker</th><th scope=col>Non_Smoker</th></tr></thead>\n",
       "<tbody>\n",
       "\t<tr><th scope=row>Male</th><td>0.6206897</td><td>0.3793103</td></tr>\n",
       "\t<tr><th scope=row>Female</th><td>0.3908046</td><td>0.6091954</td></tr>\n",
       "</tbody>\n",
       "</table>\n"
      ],
      "text/latex": [
       "\\begin{tabular}{r|ll}\n",
       "  & Smoker & Non\\_Smoker\\\\\n",
       "\\hline\n",
       "\tMale & 0.6206897 & 0.3793103\\\\\n",
       "\tFemale & 0.3908046 & 0.6091954\\\\\n",
       "\\end{tabular}\n"
      ],
      "text/markdown": [
       "\n",
       "| <!--/--> | Smoker | Non_Smoker | \n",
       "|---|---|\n",
       "| Male | 0.6206897 | 0.3793103 | \n",
       "| Female | 0.3908046 | 0.6091954 | \n",
       "\n",
       "\n"
      ],
      "text/plain": [
       "       Smoker    Non_Smoker\n",
       "Male   0.6206897 0.3793103 \n",
       "Female 0.3908046 0.6091954 "
      ]
     },
     "metadata": {},
     "output_type": "display_data"
    }
   ],
   "source": [
    "prop.table(dataM, 1)"
   ]
  },
  {
   "cell_type": "code",
   "execution_count": 23,
   "metadata": {},
   "outputs": [
    {
     "data": {
      "text/html": [
       "<table>\n",
       "<thead><tr><th></th><th scope=col>Smoker</th><th scope=col>Non_Smoker</th></tr></thead>\n",
       "<tbody>\n",
       "\t<tr><th scope=row>Male</th><td>0.6792453</td><td>0.4536082</td></tr>\n",
       "\t<tr><th scope=row>Female</th><td>0.3207547</td><td>0.5463918</td></tr>\n",
       "</tbody>\n",
       "</table>\n"
      ],
      "text/latex": [
       "\\begin{tabular}{r|ll}\n",
       "  & Smoker & Non\\_Smoker\\\\\n",
       "\\hline\n",
       "\tMale & 0.6792453 & 0.4536082\\\\\n",
       "\tFemale & 0.3207547 & 0.5463918\\\\\n",
       "\\end{tabular}\n"
      ],
      "text/markdown": [
       "\n",
       "| <!--/--> | Smoker | Non_Smoker | \n",
       "|---|---|\n",
       "| Male | 0.6792453 | 0.4536082 | \n",
       "| Female | 0.3207547 | 0.5463918 | \n",
       "\n",
       "\n"
      ],
      "text/plain": [
       "       Smoker    Non_Smoker\n",
       "Male   0.6792453 0.4536082 \n",
       "Female 0.3207547 0.5463918 "
      ]
     },
     "metadata": {},
     "output_type": "display_data"
    }
   ],
   "source": [
    "prop.table(dataM, 2)"
   ]
  },
  {
   "cell_type": "code",
   "execution_count": 22,
   "metadata": {},
   "outputs": [
    {
     "data": {
      "text/html": [
       "<table>\n",
       "<thead><tr><th></th><th scope=col>Smoker</th><th scope=col>Non_Smoker</th></tr></thead>\n",
       "<tbody>\n",
       "\t<tr><th scope=row>Male</th><td>0.3546798</td><td>0.2167488</td></tr>\n",
       "\t<tr><th scope=row>Female</th><td>0.1674877</td><td>0.2610837</td></tr>\n",
       "</tbody>\n",
       "</table>\n"
      ],
      "text/latex": [
       "\\begin{tabular}{r|ll}\n",
       "  & Smoker & Non\\_Smoker\\\\\n",
       "\\hline\n",
       "\tMale & 0.3546798 & 0.2167488\\\\\n",
       "\tFemale & 0.1674877 & 0.2610837\\\\\n",
       "\\end{tabular}\n"
      ],
      "text/markdown": [
       "\n",
       "| <!--/--> | Smoker | Non_Smoker | \n",
       "|---|---|\n",
       "| Male | 0.3546798 | 0.2167488 | \n",
       "| Female | 0.1674877 | 0.2610837 | \n",
       "\n",
       "\n"
      ],
      "text/plain": [
       "       Smoker    Non_Smoker\n",
       "Male   0.3546798 0.2167488 \n",
       "Female 0.1674877 0.2610837 "
      ]
     },
     "metadata": {},
     "output_type": "display_data"
    }
   ],
   "source": [
    "prop.table(dataM)"
   ]
  },
  {
   "cell_type": "code",
   "execution_count": 14,
   "metadata": {},
   "outputs": [],
   "source": [
    "#install.packages(\"gmodels\")\n",
    "library(gmodels)"
   ]
  },
  {
   "cell_type": "code",
   "execution_count": 15,
   "metadata": {},
   "outputs": [
    {
     "name": "stdout",
     "output_type": "stream",
     "text": [
      "\n",
      " \n",
      "   Cell Contents\n",
      "|-------------------------|\n",
      "|                       N |\n",
      "| Chi-square contribution |\n",
      "|           N / Row Total |\n",
      "|           N / Col Total |\n",
      "|         N / Table Total |\n",
      "|-------------------------|\n",
      "\n",
      " \n",
      "Total Observations in Table:  203 \n",
      "\n",
      " \n",
      "             |  \n",
      "             |     Smoker | Non_Smoker |  Row Total | \n",
      "-------------|------------|------------|------------|\n",
      "        Male |         72 |         44 |        116 | \n",
      "             |      2.156 |      2.356 |            | \n",
      "             |      0.621 |      0.379 |      0.571 | \n",
      "             |      0.679 |      0.454 |            | \n",
      "             |      0.355 |      0.217 |            | \n",
      "-------------|------------|------------|------------|\n",
      "      Female |         34 |         53 |         87 | \n",
      "             |      2.875 |      3.142 |            | \n",
      "             |      0.391 |      0.609 |      0.429 | \n",
      "             |      0.321 |      0.546 |            | \n",
      "             |      0.167 |      0.261 |            | \n",
      "-------------|------------|------------|------------|\n",
      "Column Total |        106 |         97 |        203 | \n",
      "             |      0.522 |      0.478 |            | \n",
      "-------------|------------|------------|------------|\n",
      "\n",
      " \n"
     ]
    }
   ],
   "source": [
    "CrossTable(dataM) # total contingency table using CrossTable function from gmodels package"
   ]
  },
  {
   "cell_type": "markdown",
   "metadata": {},
   "source": [
    "## data.table"
   ]
  },
  {
   "cell_type": "markdown",
   "metadata": {},
   "source": [
    "https://s3.amazonaws.com/assets.datacamp.com/img/blog/data+table+cheat+sheet.pdf"
   ]
  },
  {
   "cell_type": "markdown",
   "metadata": {},
   "source": [
    "## Piping with `%>%` from `magrittr` package"
   ]
  },
  {
   "cell_type": "markdown",
   "metadata": {},
   "source": [
    "## dplyr"
   ]
  },
  {
   "cell_type": "markdown",
   "metadata": {},
   "source": [
    "![Imgur](https://i.imgur.com/DNMxDWh.png?1)"
   ]
  },
  {
   "cell_type": "markdown",
   "metadata": {},
   "source": [
    "## working with fivethirtyeight data"
   ]
  },
  {
   "cell_type": "markdown",
   "metadata": {},
   "source": [
    "http://www.storybench.org/getting-started-with-tidyverse-in-r/  \n",
    "http://www.storybench.org/how-to-explore-a-dataset-from-the-fivethirtyeight-package-in-r/  "
   ]
  },
  {
   "cell_type": "markdown",
   "metadata": {},
   "source": [
    "<span style=\"color:red; font-family:Comic Sans MS\">References</span>  \n",
    "<a href=\"https://tbrieder.org/epidata/course_reading/e_aragon.pdf\" target=\"_blank\">https://tbrieder.org/epidata/course_reading/e_aragon.pdf</a>"
   ]
  },
  {
   "cell_type": "markdown",
   "metadata": {},
   "source": [
    "<span style=\"color:red; font-family:brandon\">Further  Resources</span>  \n",
    "<a href=\"https://www.rstudio.com/wp-content/uploads/2015/02/data-wrangling-cheatsheet.pdf\"   target=\"_blank\">https://www.rstudio.com/wp-content/uploads/2015/02/data-wrangling-cheatsheet.pdf</a>    \n",
    "<a href=\"https://ugoproto.github.io/ugo_r_doc/dplyr.pdf\" target=\"_blank\">https://ugoproto.github.io/ugo_r_doc/dplyr.pdf</a>  \n",
    "<a href=\"https://rpubs.com/bradleyboehmke/data_wrangling\" target=\"_blank\">https://rpubs.com/bradleyboehmke/data_wrangling</a>  "
   ]
  },
  {
   "cell_type": "code",
   "execution_count": null,
   "metadata": {},
   "outputs": [],
   "source": []
  }
 ],
 "metadata": {
  "celltoolbar": "Slideshow",
  "hide_input": false,
  "kernelspec": {
   "display_name": "R",
   "language": "R",
   "name": "ir"
  },
  "language_info": {
   "codemirror_mode": "r",
   "file_extension": ".r",
   "mimetype": "text/x-r-source",
   "name": "R",
   "pygments_lexer": "r",
   "version": "3.4.3"
  },
  "toc": {
   "base_numbering": 1,
   "nav_menu": {},
   "number_sections": true,
   "sideBar": true,
   "skip_h1_title": false,
   "title_cell": "Table of Contents",
   "title_sidebar": "Contents",
   "toc_cell": false,
   "toc_position": {},
   "toc_section_display": true,
   "toc_window_display": false
  }
 },
 "nbformat": 4,
 "nbformat_minor": 2
}
