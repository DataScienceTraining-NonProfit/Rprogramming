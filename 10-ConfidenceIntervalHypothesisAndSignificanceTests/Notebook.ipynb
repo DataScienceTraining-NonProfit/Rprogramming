{
  "cells": [
    {
      "metadata": {
        "slideshow": {
          "slide_type": "slide"
        }
      },
      "cell_type": "markdown",
      "source": "## Confidence Interval"
    },
    {
      "metadata": {
        "slideshow": {
          "slide_type": "subslide"
        }
      },
      "cell_type": "markdown",
      "source": "> A confidence interval is a range of values, derived from sample statistics, that is likely to contain the value of an unknown population paramete"
    },
    {
      "metadata": {
        "slideshow": {
          "slide_type": "fragment"
        }
      },
      "cell_type": "markdown",
      "source": "![Imgur](https://i.imgur.com/YQeWqES.gif)"
    },
    {
      "metadata": {
        "run_control": {
          "frozen": false,
          "read_only": false
        }
      },
      "cell_type": "markdown",
      "source": "**Example:**  \nLet's take a light bulb manufacturing factory  \nuses simple random sampling to select each week 50 light bulbs  \nto measure how many hours they burn  \n  \neach week a sample mean is obtained and used as a point estimate for     \ntrue mean (mu) or the number of hours the light bulb burns  \n  \nLet's assume based on historical data light bulbs assumed to have   \na normal distribution with known standard deviation(sigma) of 65 hours  \n  \nlast week let's say 50 bulbs (n=50) are measured and sample mean that was  \nobtained was (x-bar = 1045 hours). so this is the point estimator for  \ntrue population mean (mu)\n\n"
    },
    {
      "metadata": {},
      "cell_type": "markdown",
      "source": "![Imgur](https://i.imgur.com/4h2BRos.png)"
    },
    {
      "metadata": {},
      "cell_type": "markdown",
      "source": "![Imgur](https://i.imgur.com/W7fpIWS.png)"
    },
    {
      "metadata": {},
      "cell_type": "markdown",
      "source": "![Imgur](https://i.imgur.com/Gn0x82e.png)"
    },
    {
      "metadata": {},
      "cell_type": "markdown",
      "source": "![Imgur](https://i.imgur.com/ijyyMPS.png)"
    },
    {
      "metadata": {},
      "cell_type": "markdown",
      "source": "![Imgur](https://i.imgur.com/MmLzTfQ.png)"
    },
    {
      "metadata": {
        "slideshow": {
          "slide_type": "slide"
        }
      },
      "cell_type": "markdown",
      "source": "![Imgur](https://i.imgur.com/8tRsrev.png)"
    },
    {
      "metadata": {
        "slideshow": {
          "slide_type": "slide"
        }
      },
      "cell_type": "markdown",
      "source": "![Imgur](https://i.imgur.com/iy3BRip.png)"
    },
    {
      "metadata": {
        "slideshow": {
          "slide_type": "slide"
        }
      },
      "cell_type": "markdown",
      "source": "![Imgur](https://i.imgur.com/PZKZ6VE.png)"
    },
    {
      "metadata": {
        "slideshow": {
          "slide_type": "slide"
        }
      },
      "cell_type": "markdown",
      "source": "![Imgur](https://i.imgur.com/5sFposH.png)"
    },
    {
      "metadata": {
        "slideshow": {
          "slide_type": "slide"
        }
      },
      "cell_type": "markdown",
      "source": "![Imgur](https://i.imgur.com/Dsf3LiW.png)"
    },
    {
      "metadata": {
        "slideshow": {
          "slide_type": "slide"
        }
      },
      "cell_type": "markdown",
      "source": "## Simplified Expression for a 95% Confidence Interval"
    },
    {
      "metadata": {
        "slideshow": {
          "slide_type": "slide"
        }
      },
      "cell_type": "markdown",
      "source": "![Imgur](https://i.imgur.com/hq0l9AE.gif)"
    },
    {
      "metadata": {
        "slideshow": {
          "slide_type": "slide"
        }
      },
      "cell_type": "markdown",
      "source": "**Interpreting Confidence Intervals(interactive visualization):**  \nhttp://rpsychologist.com/d3/CI/  \n\n**Confidence Interval Online Calculator:**  \nhttp://www.socscistatistics.com/confidenceinterval/Default3.aspx "
    }
  ],
  "metadata": {
    "hide_input": false,
    "kernelspec": {
      "name": "r",
      "display_name": "R",
      "language": "R"
    },
    "language_info": {
      "codemirror_mode": "r",
      "file_extension": ".r",
      "mimetype": "text/x-r-source",
      "name": "R",
      "pygments_lexer": "r",
      "version": "3.4.3"
    },
    "nav_menu": {},
    "toc": {
      "nav_menu": {},
      "number_sections": true,
      "sideBar": true,
      "skip_h1_title": false,
      "base_numbering": 1,
      "title_cell": "Table of Contents",
      "title_sidebar": "Contents",
      "toc_cell": false,
      "toc_position": {},
      "toc_section_display": "block",
      "toc_window_display": false
    }
  },
  "nbformat": 4,
  "nbformat_minor": 2
}