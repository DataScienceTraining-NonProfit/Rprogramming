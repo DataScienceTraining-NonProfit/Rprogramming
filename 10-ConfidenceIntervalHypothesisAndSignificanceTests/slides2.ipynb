{
 "cells": [
  {
   "cell_type": "markdown",
   "metadata": {
    "toc": true
   },
   "source": [
    "<h1>Table of Contents<span class=\"tocSkip\"></span></h1>\n",
    "<div class=\"toc\"><ul class=\"toc-item\"><li><ul class=\"toc-item\"><li><span><a href=\"#Introduction-(Various-Statistical-Tests)\" data-toc-modified-id=\"Introduction-(Various-Statistical-Tests)-0.1\"><span class=\"toc-item-num\">0.1&nbsp;&nbsp;</span>Introduction (Various Statistical Tests)</a></span></li><li><span><a href=\"#One-Sample\" data-toc-modified-id=\"One-Sample-0.2\"><span class=\"toc-item-num\">0.2&nbsp;&nbsp;</span>One Sample</a></span><ul class=\"toc-item\"><li><span><a href=\"#Mean-(Z--and-t-tests,-Type-I-and-II-Error,-Power-&amp;-Sample-Size)\" data-toc-modified-id=\"Mean-(Z--and-t-tests,-Type-I-and-II-Error,-Power-&amp;-Sample-Size)-0.2.1\"><span class=\"toc-item-num\">0.2.1&nbsp;&nbsp;</span>Mean (Z- and t-tests, Type I and II Error, Power &amp; Sample Size)</a></span></li><li><span><a href=\"#Proportion-(Z-test)\" data-toc-modified-id=\"Proportion-(Z-test)-0.2.2\"><span class=\"toc-item-num\">0.2.2&nbsp;&nbsp;</span>Proportion (Z-test)</a></span></li><li><span><a href=\"#Variance-(Chi-squared-Test)\" data-toc-modified-id=\"Variance-(Chi-squared-Test)-0.2.3\"><span class=\"toc-item-num\">0.2.3&nbsp;&nbsp;</span>Variance (Chi-squared Test)</a></span></li></ul></li><li><span><a href=\"#Two-Samples\" data-toc-modified-id=\"Two-Samples-0.3\"><span class=\"toc-item-num\">0.3&nbsp;&nbsp;</span>Two Samples</a></span><ul class=\"toc-item\"><li><span><a href=\"#Means-(Independent-vs.-Paired-Samples,-Nonparametric-tests)\" data-toc-modified-id=\"Means-(Independent-vs.-Paired-Samples,-Nonparametric-tests)-0.3.1\"><span class=\"toc-item-num\">0.3.1&nbsp;&nbsp;</span>Means (Independent vs. Paired Samples, Nonparametric tests)</a></span></li><li><span><a href=\"#Proportions-(Z-test,-Chi-squared-Test,-McNemar-Test)\" data-toc-modified-id=\"Proportions-(Z-test,-Chi-squared-Test,-McNemar-Test)-0.3.2\"><span class=\"toc-item-num\">0.3.2&nbsp;&nbsp;</span>Proportions (Z-test, Chi-squared Test, McNemar Test)</a></span></li><li><span><a href=\"#Variances-(F-test,-Levene-Test)\" data-toc-modified-id=\"Variances-(F-test,-Levene-Test)-0.3.3\"><span class=\"toc-item-num\">0.3.3&nbsp;&nbsp;</span>Variances (F-test, Levene Test)</a></span></li></ul></li><li><span><a href=\"#Several-Samples\" data-toc-modified-id=\"Several-Samples-0.4\"><span class=\"toc-item-num\">0.4&nbsp;&nbsp;</span>Several Samples</a></span><ul class=\"toc-item\"><li><span><a href=\"#Means-(ANOVA,-F-test,-Multiple-Comparisons)\" data-toc-modified-id=\"Means-(ANOVA,-F-test,-Multiple-Comparisons)-0.4.1\"><span class=\"toc-item-num\">0.4.1&nbsp;&nbsp;</span>Means (ANOVA, F-test, Multiple Comparisons)</a></span></li><li><span><a href=\"#Proportions-(Chi-squared-Test)\" data-toc-modified-id=\"Proportions-(Chi-squared-Test)-0.4.2\"><span class=\"toc-item-num\">0.4.2&nbsp;&nbsp;</span>Proportions (Chi-squared Test)</a></span></li><li><span><a href=\"#Variances-(Bartlett’s-Test,-etc.)\" data-toc-modified-id=\"Variances-(Bartlett’s-Test,-etc.)-0.4.3\"><span class=\"toc-item-num\">0.4.3&nbsp;&nbsp;</span>Variances (Bartlett’s Test, etc.)</a></span></li></ul></li></ul></li><li><span><a href=\"#Which-Statistics-Test-Should-I-Use?\" data-toc-modified-id=\"Which-Statistics-Test-Should-I-Use?-1\"><span class=\"toc-item-num\">1&nbsp;&nbsp;</span>Which Statistics Test Should I Use?</a></span></li></ul></div>"
   ]
  },
  {
   "cell_type": "markdown",
   "metadata": {},
   "source": [
    "## Introduction (Various Statistical Tests)"
   ]
  },
  {
   "cell_type": "markdown",
   "metadata": {},
   "source": [
    "**Choosing test?**   \n",
    "* what level of measurement of our **data**  \n",
    "* How many **samples**  \n",
    "* what is the **purpose** of our analysis)  "
   ]
  },
  {
   "cell_type": "markdown",
   "metadata": {
    "run_control": {
     "frozen": false,
     "read_only": false
    }
   },
   "source": [
    "## One Sample\n",
    "### Mean (Z- and t-tests, Type I and II Error, Power & Sample Size)"
   ]
  },
  {
   "cell_type": "markdown",
   "metadata": {},
   "source": [
    "* z test is used when there is any statistical significance difference between a sample mean and a population mean with a known population standard deviation\n",
    "* It uses z-scores and a normal distribution to determine the probability the sample mean is drawn randomly from a known population."
   ]
  },
  {
   "cell_type": "markdown",
   "metadata": {},
   "source": [
    "http://stats.seandolinar.com/one-mean-z-test-with-r-code/  \n",
    "http://stats.seandolinar.com/one-sample-t-test-with-r-code/  \n",
    "http://www.artofstat.com/webapps.html#Distributions  "
   ]
  },
  {
   "cell_type": "markdown",
   "metadata": {
    "run_control": {
     "frozen": false,
     "read_only": false
    }
   },
   "source": [
    "### Proportion (Z-test)\n",
    "### Variance (Chi-squared Test)"
   ]
  },
  {
   "cell_type": "markdown",
   "metadata": {
    "run_control": {
     "frozen": false,
     "read_only": false
    }
   },
   "source": [
    "## Two Samples"
   ]
  },
  {
   "cell_type": "markdown",
   "metadata": {
    "run_control": {
     "frozen": false,
     "read_only": false
    }
   },
   "source": [
    "### Means (Independent vs. Paired Samples, Nonparametric tests)\n",
    "### Proportions (Z-test, Chi-squared Test, McNemar Test)\n",
    "* Applications: Case-Control Studies, Test of Association and Test of Homogeneity of Odds Ratios, Mantel-Haenszel Estimate of Summary Odds Ratio\n",
    "### Variances (F-test, Levene Test)"
   ]
  },
  {
   "cell_type": "markdown",
   "metadata": {
    "run_control": {
     "frozen": false,
     "read_only": false
    }
   },
   "source": [
    "## Several Samples"
   ]
  },
  {
   "cell_type": "markdown",
   "metadata": {
    "run_control": {
     "frozen": false,
     "read_only": false
    }
   },
   "source": [
    "### Means (ANOVA, F-test, Multiple Comparisons)"
   ]
  },
  {
   "cell_type": "code",
   "execution_count": 1,
   "metadata": {},
   "outputs": [
    {
     "data": {
      "text/html": [
       "<table>\n",
       "<thead><tr><th scope=col>Group1</th><th scope=col>Group2</th><th scope=col>Group3</th></tr></thead>\n",
       "<tbody>\n",
       "\t<tr><td>2 </td><td>10</td><td>10</td></tr>\n",
       "\t<tr><td>3 </td><td> 8</td><td>13</td></tr>\n",
       "\t<tr><td>7 </td><td> 7</td><td>14</td></tr>\n",
       "\t<tr><td>2 </td><td> 5</td><td>13</td></tr>\n",
       "\t<tr><td>6 </td><td>10</td><td>15</td></tr>\n",
       "</tbody>\n",
       "</table>\n"
      ],
      "text/latex": [
       "\\begin{tabular}{r|lll}\n",
       " Group1 & Group2 & Group3\\\\\n",
       "\\hline\n",
       "\t 2  & 10 & 10\\\\\n",
       "\t 3  &  8 & 13\\\\\n",
       "\t 7  &  7 & 14\\\\\n",
       "\t 2  &  5 & 13\\\\\n",
       "\t 6  & 10 & 15\\\\\n",
       "\\end{tabular}\n"
      ],
      "text/markdown": [
       "\n",
       "Group1 | Group2 | Group3 | \n",
       "|---|---|---|---|---|\n",
       "| 2  | 10 | 10 | \n",
       "| 3  |  8 | 13 | \n",
       "| 7  |  7 | 14 | \n",
       "| 2  |  5 | 13 | \n",
       "| 6  | 10 | 15 | \n",
       "\n",
       "\n"
      ],
      "text/plain": [
       "  Group1 Group2 Group3\n",
       "1 2      10     10    \n",
       "2 3       8     13    \n",
       "3 7       7     14    \n",
       "4 2       5     13    \n",
       "5 6      10     15    "
      ]
     },
     "metadata": {},
     "output_type": "display_data"
    },
    {
     "data": {
      "text/plain": [
       "     Group1      Group2       Group3  \n",
       " Min.   :2   Min.   : 5   Min.   :10  \n",
       " 1st Qu.:2   1st Qu.: 7   1st Qu.:13  \n",
       " Median :3   Median : 8   Median :13  \n",
       " Mean   :4   Mean   : 8   Mean   :13  \n",
       " 3rd Qu.:6   3rd Qu.:10   3rd Qu.:14  \n",
       " Max.   :7   Max.   :10   Max.   :15  "
      ]
     },
     "metadata": {},
     "output_type": "display_data"
    },
    {
     "data": {
      "text/html": [
       "<table>\n",
       "<thead><tr><th scope=col>values</th><th scope=col>ind</th></tr></thead>\n",
       "<tbody>\n",
       "\t<tr><td> 2    </td><td>Group1</td></tr>\n",
       "\t<tr><td> 3    </td><td>Group1</td></tr>\n",
       "\t<tr><td> 7    </td><td>Group1</td></tr>\n",
       "\t<tr><td> 2    </td><td>Group1</td></tr>\n",
       "\t<tr><td> 6    </td><td>Group1</td></tr>\n",
       "\t<tr><td>10    </td><td>Group2</td></tr>\n",
       "\t<tr><td> 8    </td><td>Group2</td></tr>\n",
       "\t<tr><td> 7    </td><td>Group2</td></tr>\n",
       "\t<tr><td> 5    </td><td>Group2</td></tr>\n",
       "\t<tr><td>10    </td><td>Group2</td></tr>\n",
       "\t<tr><td>10    </td><td>Group3</td></tr>\n",
       "\t<tr><td>13    </td><td>Group3</td></tr>\n",
       "\t<tr><td>14    </td><td>Group3</td></tr>\n",
       "\t<tr><td>13    </td><td>Group3</td></tr>\n",
       "\t<tr><td>15    </td><td>Group3</td></tr>\n",
       "</tbody>\n",
       "</table>\n"
      ],
      "text/latex": [
       "\\begin{tabular}{r|ll}\n",
       " values & ind\\\\\n",
       "\\hline\n",
       "\t  2     & Group1\\\\\n",
       "\t  3     & Group1\\\\\n",
       "\t  7     & Group1\\\\\n",
       "\t  2     & Group1\\\\\n",
       "\t  6     & Group1\\\\\n",
       "\t 10     & Group2\\\\\n",
       "\t  8     & Group2\\\\\n",
       "\t  7     & Group2\\\\\n",
       "\t  5     & Group2\\\\\n",
       "\t 10     & Group2\\\\\n",
       "\t 10     & Group3\\\\\n",
       "\t 13     & Group3\\\\\n",
       "\t 14     & Group3\\\\\n",
       "\t 13     & Group3\\\\\n",
       "\t 15     & Group3\\\\\n",
       "\\end{tabular}\n"
      ],
      "text/markdown": [
       "\n",
       "values | ind | \n",
       "|---|---|---|---|---|---|---|---|---|---|---|---|---|---|---|\n",
       "|  2     | Group1 | \n",
       "|  3     | Group1 | \n",
       "|  7     | Group1 | \n",
       "|  2     | Group1 | \n",
       "|  6     | Group1 | \n",
       "| 10     | Group2 | \n",
       "|  8     | Group2 | \n",
       "|  7     | Group2 | \n",
       "|  5     | Group2 | \n",
       "| 10     | Group2 | \n",
       "| 10     | Group3 | \n",
       "| 13     | Group3 | \n",
       "| 14     | Group3 | \n",
       "| 13     | Group3 | \n",
       "| 15     | Group3 | \n",
       "\n",
       "\n"
      ],
      "text/plain": [
       "   values ind   \n",
       "1   2     Group1\n",
       "2   3     Group1\n",
       "3   7     Group1\n",
       "4   2     Group1\n",
       "5   6     Group1\n",
       "6  10     Group2\n",
       "7   8     Group2\n",
       "8   7     Group2\n",
       "9   5     Group2\n",
       "10 10     Group2\n",
       "11 10     Group3\n",
       "12 13     Group3\n",
       "13 14     Group3\n",
       "14 13     Group3\n",
       "15 15     Group3"
      ]
     },
     "metadata": {},
     "output_type": "display_data"
    },
    {
     "data": {
      "text/plain": [
       "            Df Sum Sq Mean Sq F value   Pr(>F)    \n",
       "ind          2  203.3   101.7   22.59 8.54e-05 ***\n",
       "Residuals   12   54.0     4.5                     \n",
       "---\n",
       "Signif. codes:  0 '***' 0.001 '**' 0.01 '*' 0.05 '.' 0.1 ' ' 1"
      ]
     },
     "metadata": {},
     "output_type": "display_data"
    }
   ],
   "source": [
    "# Analysis of Variance Example (ANOVA)\n",
    "# MyBookSucks.Com \"PartyMoreStudyLess\n",
    "\n",
    "Group1 <- c(2,3,7,2,6)\n",
    "Group2 <- c(10,8,7,5,10)\n",
    "Group3 <- c(10,13,14,13,15)\n",
    "\n",
    "Combined_Groups <- data.frame(cbind(Group1, Group2, Group3)) # combines the data into a single data set.\n",
    "Combined_Groups # shows spreadsheet like results\n",
    "summary(Combined_Groups)  # min, median, mean, max\n",
    "\n",
    "Stacked_Groups <- stack(Combined_Groups)\n",
    "Stacked_Groups #shows the table Stacked_Groups\n",
    "\n",
    "Anova_Results <- aov(values ~ ind, data = Stacked_Groups) \n",
    "summary(Anova_Results) # shows Anova_Results"
   ]
  },
  {
   "cell_type": "markdown",
   "metadata": {
    "run_control": {
     "frozen": false,
     "read_only": false
    }
   },
   "source": [
    "https://help.plot.ly/anova-test/      \n",
    "https://www.youtube.com/watch?v=-yQb_ZJnFXw&t=323s&list=PL3A0F3CC5D48431B3&index=2  \n",
    "https://www.youtube.com/watch?v=FPqeVhtOXEo"
   ]
  },
  {
   "cell_type": "markdown",
   "metadata": {
    "run_control": {
     "frozen": false,
     "read_only": false
    }
   },
   "source": [
    "### Proportions (Chi-squared Test)"
   ]
  },
  {
   "cell_type": "markdown",
   "metadata": {},
   "source": [
    "https://help.plot.ly/chi-square/  "
   ]
  },
  {
   "cell_type": "markdown",
   "metadata": {
    "run_control": {
     "frozen": false,
     "read_only": false
    }
   },
   "source": [
    "### Variances (Bartlett’s Test, etc.)"
   ]
  },
  {
   "cell_type": "code",
   "execution_count": 3,
   "metadata": {},
   "outputs": [
    {
     "data": {
      "text/html": [
       "<table>\n",
       "<thead><tr><th scope=col>weight</th><th scope=col>group</th></tr></thead>\n",
       "<tbody>\n",
       "\t<tr><td>4.17</td><td>ctrl</td></tr>\n",
       "\t<tr><td>5.58</td><td>ctrl</td></tr>\n",
       "\t<tr><td>5.18</td><td>ctrl</td></tr>\n",
       "\t<tr><td>6.11</td><td>ctrl</td></tr>\n",
       "\t<tr><td>4.50</td><td>ctrl</td></tr>\n",
       "\t<tr><td>4.61</td><td>ctrl</td></tr>\n",
       "\t<tr><td>5.17</td><td>ctrl</td></tr>\n",
       "\t<tr><td>4.53</td><td>ctrl</td></tr>\n",
       "\t<tr><td>5.33</td><td>ctrl</td></tr>\n",
       "\t<tr><td>5.14</td><td>ctrl</td></tr>\n",
       "\t<tr><td>4.81</td><td>trt1</td></tr>\n",
       "\t<tr><td>4.17</td><td>trt1</td></tr>\n",
       "\t<tr><td>4.41</td><td>trt1</td></tr>\n",
       "\t<tr><td>3.59</td><td>trt1</td></tr>\n",
       "\t<tr><td>5.87</td><td>trt1</td></tr>\n",
       "\t<tr><td>3.83</td><td>trt1</td></tr>\n",
       "\t<tr><td>6.03</td><td>trt1</td></tr>\n",
       "\t<tr><td>4.89</td><td>trt1</td></tr>\n",
       "\t<tr><td>4.32</td><td>trt1</td></tr>\n",
       "\t<tr><td>4.69</td><td>trt1</td></tr>\n",
       "\t<tr><td>6.31</td><td>trt2</td></tr>\n",
       "\t<tr><td>5.12</td><td>trt2</td></tr>\n",
       "\t<tr><td>5.54</td><td>trt2</td></tr>\n",
       "\t<tr><td>5.50</td><td>trt2</td></tr>\n",
       "\t<tr><td>5.37</td><td>trt2</td></tr>\n",
       "\t<tr><td>5.29</td><td>trt2</td></tr>\n",
       "\t<tr><td>4.92</td><td>trt2</td></tr>\n",
       "\t<tr><td>6.15</td><td>trt2</td></tr>\n",
       "\t<tr><td>5.80</td><td>trt2</td></tr>\n",
       "\t<tr><td>5.26</td><td>trt2</td></tr>\n",
       "</tbody>\n",
       "</table>\n"
      ],
      "text/latex": [
       "\\begin{tabular}{r|ll}\n",
       " weight & group\\\\\n",
       "\\hline\n",
       "\t 4.17 & ctrl\\\\\n",
       "\t 5.58 & ctrl\\\\\n",
       "\t 5.18 & ctrl\\\\\n",
       "\t 6.11 & ctrl\\\\\n",
       "\t 4.50 & ctrl\\\\\n",
       "\t 4.61 & ctrl\\\\\n",
       "\t 5.17 & ctrl\\\\\n",
       "\t 4.53 & ctrl\\\\\n",
       "\t 5.33 & ctrl\\\\\n",
       "\t 5.14 & ctrl\\\\\n",
       "\t 4.81 & trt1\\\\\n",
       "\t 4.17 & trt1\\\\\n",
       "\t 4.41 & trt1\\\\\n",
       "\t 3.59 & trt1\\\\\n",
       "\t 5.87 & trt1\\\\\n",
       "\t 3.83 & trt1\\\\\n",
       "\t 6.03 & trt1\\\\\n",
       "\t 4.89 & trt1\\\\\n",
       "\t 4.32 & trt1\\\\\n",
       "\t 4.69 & trt1\\\\\n",
       "\t 6.31 & trt2\\\\\n",
       "\t 5.12 & trt2\\\\\n",
       "\t 5.54 & trt2\\\\\n",
       "\t 5.50 & trt2\\\\\n",
       "\t 5.37 & trt2\\\\\n",
       "\t 5.29 & trt2\\\\\n",
       "\t 4.92 & trt2\\\\\n",
       "\t 6.15 & trt2\\\\\n",
       "\t 5.80 & trt2\\\\\n",
       "\t 5.26 & trt2\\\\\n",
       "\\end{tabular}\n"
      ],
      "text/markdown": [
       "\n",
       "weight | group | \n",
       "|---|---|---|---|---|---|---|---|---|---|---|---|---|---|---|---|---|---|---|---|---|---|---|---|---|---|---|---|---|---|\n",
       "| 4.17 | ctrl | \n",
       "| 5.58 | ctrl | \n",
       "| 5.18 | ctrl | \n",
       "| 6.11 | ctrl | \n",
       "| 4.50 | ctrl | \n",
       "| 4.61 | ctrl | \n",
       "| 5.17 | ctrl | \n",
       "| 4.53 | ctrl | \n",
       "| 5.33 | ctrl | \n",
       "| 5.14 | ctrl | \n",
       "| 4.81 | trt1 | \n",
       "| 4.17 | trt1 | \n",
       "| 4.41 | trt1 | \n",
       "| 3.59 | trt1 | \n",
       "| 5.87 | trt1 | \n",
       "| 3.83 | trt1 | \n",
       "| 6.03 | trt1 | \n",
       "| 4.89 | trt1 | \n",
       "| 4.32 | trt1 | \n",
       "| 4.69 | trt1 | \n",
       "| 6.31 | trt2 | \n",
       "| 5.12 | trt2 | \n",
       "| 5.54 | trt2 | \n",
       "| 5.50 | trt2 | \n",
       "| 5.37 | trt2 | \n",
       "| 5.29 | trt2 | \n",
       "| 4.92 | trt2 | \n",
       "| 6.15 | trt2 | \n",
       "| 5.80 | trt2 | \n",
       "| 5.26 | trt2 | \n",
       "\n",
       "\n"
      ],
      "text/plain": [
       "   weight group\n",
       "1  4.17   ctrl \n",
       "2  5.58   ctrl \n",
       "3  5.18   ctrl \n",
       "4  6.11   ctrl \n",
       "5  4.50   ctrl \n",
       "6  4.61   ctrl \n",
       "7  5.17   ctrl \n",
       "8  4.53   ctrl \n",
       "9  5.33   ctrl \n",
       "10 5.14   ctrl \n",
       "11 4.81   trt1 \n",
       "12 4.17   trt1 \n",
       "13 4.41   trt1 \n",
       "14 3.59   trt1 \n",
       "15 5.87   trt1 \n",
       "16 3.83   trt1 \n",
       "17 6.03   trt1 \n",
       "18 4.89   trt1 \n",
       "19 4.32   trt1 \n",
       "20 4.69   trt1 \n",
       "21 6.31   trt2 \n",
       "22 5.12   trt2 \n",
       "23 5.54   trt2 \n",
       "24 5.50   trt2 \n",
       "25 5.37   trt2 \n",
       "26 5.29   trt2 \n",
       "27 4.92   trt2 \n",
       "28 6.15   trt2 \n",
       "29 5.80   trt2 \n",
       "30 5.26   trt2 "
      ]
     },
     "metadata": {},
     "output_type": "display_data"
    },
    {
     "data": {
      "text/plain": [
       "\n",
       "\tBartlett test of homogeneity of variances\n",
       "\n",
       "data:  weight by group\n",
       "Bartlett's K-squared = 2.8786, df = 2, p-value = 0.2371\n"
      ]
     },
     "metadata": {},
     "output_type": "display_data"
    }
   ],
   "source": [
    "# bartlett.test(values~groups, dataset)\n",
    "# bartlett.test(list(dataset$sample1, dataset$sample2, dataset$sample3))\n",
    "PlantGrowth\n",
    "bartlett.test(weight~group, PlantGrowth)"
   ]
  },
  {
   "cell_type": "markdown",
   "metadata": {},
   "source": [
    "http://www.statisticshowto.com/bartletts-test/  \n",
    "http://www.instantr.com/2012/12/12/performing-bartletts-test-in-r/  "
   ]
  },
  {
   "cell_type": "markdown",
   "metadata": {},
   "source": [
    "# Which Statistics Test Should I Use?      \n",
    "http://www.socscistatistics.com/tests/what_stats_test_wizard.aspx    \n"
   ]
  }
 ],
 "metadata": {
  "hide_input": false,
  "kernelspec": {
   "display_name": "R",
   "language": "R",
   "name": "ir"
  },
  "language_info": {
   "codemirror_mode": "r",
   "file_extension": ".r",
   "mimetype": "text/x-r-source",
   "name": "R",
   "pygments_lexer": "r",
   "version": "3.4.3"
  },
  "nav_menu": {},
  "toc": {
   "base_numbering": 1,
   "nav_menu": {},
   "number_sections": true,
   "sideBar": true,
   "skip_h1_title": false,
   "title_cell": "Table of Contents",
   "title_sidebar": "Contents",
   "toc_cell": true,
   "toc_position": {
    "height": "552px",
    "left": "0px",
    "right": "1154px",
    "top": "110px",
    "width": "212px"
   },
   "toc_section_display": "block",
   "toc_window_display": false
  }
 },
 "nbformat": 4,
 "nbformat_minor": 2
}
