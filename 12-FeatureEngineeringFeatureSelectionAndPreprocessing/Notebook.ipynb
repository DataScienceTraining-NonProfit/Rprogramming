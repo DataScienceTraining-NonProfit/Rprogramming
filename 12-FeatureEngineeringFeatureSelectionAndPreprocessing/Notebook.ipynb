{
  "cells": [
    {
      "metadata": {},
      "cell_type": "markdown",
      "source": "## Tidy Data"
    },
    {
      "metadata": {},
      "cell_type": "markdown",
      "source": "* Each variable in the data set is placed in its own column  \n* Each observation is placed in its own row  \n* Each value is placed in its own cell  \n  \nHadley Wickham's journal of statistical software paper:  \nhttps://vita.had.co.nz/papers/tidy-data.pdf  "
    },
    {
      "metadata": {},
      "cell_type": "markdown",
      "source": "![Imgur](https://i.imgur.com/gqMIs85.jpg?2)"
    },
    {
      "metadata": {
        "run_control": {
          "marked": false
        }
      },
      "cell_type": "markdown",
      "source": "## Tidyverse\n**Tools that work together to transform, analyze and visualize tidy data**   \nhttps://www.tidyverse.org  "
    },
    {
      "metadata": {},
      "cell_type": "markdown",
      "source": "## tidyr"
    },
    {
      "metadata": {},
      "cell_type": "markdown",
      "source": "**Reshaping data using tidyr package**  \nThe tidyr package, provides 4 functions to help you change the layout of your data set:  \n  \n`separate()`: separate one column into multiple  \n`unite()`: unite multiple columns into one    \n`gather()`: gather (collapse) columns into rows  \n`spread()`: spread rows into columns  \n "
    },
    {
      "metadata": {
        "trusted": false
      },
      "cell_type": "code",
      "source": "data <- read.csv(\"data//players.csv\")",
      "execution_count": 1,
      "outputs": [
        {
          "name": "stderr",
          "output_type": "stream",
          "text": "Warning message in file(file, \"rt\"):\n\"cannot open file 'data//players.csv': No such file or directory\""
        },
        {
          "ename": "ERROR",
          "evalue": "Error in file(file, \"rt\"): cannot open the connection\n",
          "output_type": "error",
          "traceback": [
            "Error in file(file, \"rt\"): cannot open the connection\nTraceback:\n",
            "1. read.csv(\"data//players.csv\")",
            "2. read.table(file = file, header = header, sep = sep, quote = quote, \n .     dec = dec, fill = fill, comment.char = comment.char, ...)",
            "3. file(file, \"rt\")"
          ]
        }
      ]
    },
    {
      "metadata": {
        "trusted": false
      },
      "cell_type": "code",
      "source": "library(tidyr)",
      "execution_count": null,
      "outputs": []
    },
    {
      "metadata": {
        "trusted": false
      },
      "cell_type": "code",
      "source": "head(data)",
      "execution_count": null,
      "outputs": []
    },
    {
      "metadata": {
        "scrolled": false,
        "trusted": false
      },
      "cell_type": "code",
      "source": "separate(data, Home_Town, c(\"city\", \"state\"), sep=\",\")",
      "execution_count": null,
      "outputs": []
    },
    {
      "metadata": {
        "scrolled": true,
        "trusted": false
      },
      "cell_type": "code",
      "source": "unite(data, \"Name\", c(First_Name, Last_Name), sep=\" \")",
      "execution_count": null,
      "outputs": []
    },
    {
      "metadata": {
        "trusted": false
      },
      "cell_type": "code",
      "source": "data1 <- read.csv(\"data//homeruns.csv\")",
      "execution_count": null,
      "outputs": []
    },
    {
      "metadata": {
        "trusted": false
      },
      "cell_type": "code",
      "source": "head(data1)",
      "execution_count": null,
      "outputs": []
    },
    {
      "metadata": {
        "trusted": false
      },
      "cell_type": "code",
      "source": "data3 <- gather(data1, year, home_runs,  x2015:x2013)",
      "execution_count": null,
      "outputs": []
    },
    {
      "metadata": {
        "trusted": false
      },
      "cell_type": "code",
      "source": "data3",
      "execution_count": null,
      "outputs": []
    },
    {
      "metadata": {
        "scrolled": true,
        "trusted": false
      },
      "cell_type": "code",
      "source": "spread(data3, year, home_runs)",
      "execution_count": null,
      "outputs": []
    },
    {
      "metadata": {},
      "cell_type": "markdown",
      "source": "## reshape2"
    },
    {
      "metadata": {},
      "cell_type": "markdown",
      "source": "![Imgur](https://i.imgur.com/AjpEZ8z.png?1)"
    },
    {
      "metadata": {},
      "cell_type": "markdown",
      "source": "https://rpubs.com/aaronsaunders/14391  \nhttps://www.listendata.com/2016/01/transpose-data-in-r.html  "
    }
  ],
  "metadata": {
    "kernelspec": {
      "name": "r",
      "display_name": "R",
      "language": "R"
    },
    "language_info": {
      "mimetype": "text/x-r-source",
      "name": "R",
      "pygments_lexer": "r",
      "version": "3.4.1",
      "file_extension": ".r",
      "codemirror_mode": "r"
    },
    "toc": {
      "nav_menu": {},
      "number_sections": true,
      "sideBar": true,
      "skip_h1_title": false,
      "base_numbering": 1,
      "title_cell": "Table of Contents",
      "title_sidebar": "Contents",
      "toc_cell": false,
      "toc_position": {},
      "toc_section_display": true,
      "toc_window_display": false
    }
  },
  "nbformat": 4,
  "nbformat_minor": 2
}