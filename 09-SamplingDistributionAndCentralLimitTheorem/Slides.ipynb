{
 "cells": [
  {
   "cell_type": "markdown",
   "metadata": {
    "slideshow": {
     "slide_type": "slide"
    },
    "toc": "true"
   },
   "source": [
    "# Table of Contents\n",
    " <p><div class=\"lev2 toc-item\"><a href=\"#Terminology\" data-toc-modified-id=\"Terminology-0.1\"><span class=\"toc-item-num\">0.1&nbsp;&nbsp;</span>Terminology</a></div><div class=\"lev2 toc-item\"><a href=\"#Sampling-Distribution\" data-toc-modified-id=\"Sampling-Distribution-0.2\"><span class=\"toc-item-num\">0.2&nbsp;&nbsp;</span>Sampling Distribution</a></div><div class=\"lev2 toc-item\"><a href=\"#Central-Limit-Theorem\" data-toc-modified-id=\"Central-Limit-Theorem-0.3\"><span class=\"toc-item-num\">0.3&nbsp;&nbsp;</span>Central Limit Theorem</a></div><div class=\"lev2 toc-item\"><a href=\"#z-Score-and-t-Values\" data-toc-modified-id=\"z-Score-and-t-Values-0.4\"><span class=\"toc-item-num\">0.4&nbsp;&nbsp;</span>z Score and t Values</a></div>"
   ]
  },
  {
   "cell_type": "markdown",
   "metadata": {
    "slideshow": {
     "slide_type": "slide"
    }
   },
   "source": [
    "## Terminology"
   ]
  },
  {
   "cell_type": "markdown",
   "metadata": {
    "slideshow": {
     "slide_type": "slide"
    }
   },
   "source": [
    "**Population:**  population is the broader group of people to whom you intend to generalize the results of your study.\n",
    "  \n",
    "**Sample:**   sample is the group of individuals who participate in your study, always be a subset of your population.     \n",
    "  \n",
    "**Statistic:**  A statistic is a characteristic of a sample  \n",
    "  \n",
    "**Parameter:**  A parameter is a characteristic of a population  "
   ]
  },
  {
   "cell_type": "markdown",
   "metadata": {
    "run_control": {
     "frozen": false,
     "read_only": false
    },
    "slideshow": {
     "slide_type": "slide"
    }
   },
   "source": [
    "![Imgur](https://i.imgur.com/ewSO3nQ.png?1)"
   ]
  },
  {
   "cell_type": "markdown",
   "metadata": {
    "slideshow": {
     "slide_type": "slide"
    }
   },
   "source": [
    "## Sampling Distribution"
   ]
  },
  {
   "cell_type": "markdown",
   "metadata": {
    "slideshow": {
     "slide_type": "slide"
    }
   },
   "source": [
    "> A sampling distribution is a probability distribution of a statistic obtained through a large number of samples drawn from a specific population."
   ]
  },
  {
   "cell_type": "markdown",
   "metadata": {
    "slideshow": {
     "slide_type": "slide"
    }
   },
   "source": [
    "![Imgur](https://i.imgur.com/herhDH0.jpg)"
   ]
  },
  {
   "cell_type": "markdown",
   "metadata": {
    "slideshow": {
     "slide_type": "slide"
    }
   },
   "source": [
    "## Central Limit Theorem"
   ]
  },
  {
   "cell_type": "markdown",
   "metadata": {
    "slideshow": {
     "slide_type": "slide"
    }
   },
   "source": [
    "> The CLT says that if you take many repeated samples from a population, and calculate the averages or sum of each one, the collection of those averages will be normally distributed… and it doesn’t matter what the shape of the source distribution is!\n",
    "\n",
    "* CLT applies for reasonably large sample size (e.g., n = 30)\n",
    "\n"
   ]
  },
  {
   "cell_type": "markdown",
   "metadata": {
    "slideshow": {
     "slide_type": "slide"
    }
   },
   "source": [
    "![Imgur](https://i.imgur.com/QlZvCwT.png)"
   ]
  },
  {
   "cell_type": "code",
   "execution_count": 16,
   "metadata": {
    "run_control": {
     "frozen": false,
     "read_only": false
    },
    "scrolled": false,
    "slideshow": {
     "slide_type": "slide"
    }
   },
   "outputs": [
    {
     "data": {
      "image/png": "[encoded data removed]",
      "text/plain": [
       "Plot with title \"Histogram of out\""
      ]
     },
     "metadata": {},
     "output_type": "display_data"
    }
   ],
   "source": [
    " y = runif(1000)\n",
    "     par(mfrow = c(2,1))\n",
    "     hist(y)\n",
    "     out = vector()\n",
    "     for (i in 1:1000){\n",
    "     out_i = mean(sample(y, size = 3))\n",
    "     out = c(out, out_i)\n",
    "     }\n",
    "     hist(out)    "
   ]
  },
  {
   "cell_type": "markdown",
   "metadata": {
    "slideshow": {
     "slide_type": "slide"
    }
   },
   "source": [
    "![Imgur](https://i.imgur.com/MWhdTgh.png?1)"
   ]
  },
  {
   "cell_type": "markdown",
   "metadata": {
    "slideshow": {
     "slide_type": "slide"
    }
   },
   "source": [
    "**Sampling Distributions Applet:**  \n",
    "http://onlinestatbook.com/stat_sim/sampling_dist/index.html"
   ]
  },
  {
   "cell_type": "markdown",
   "metadata": {
    "slideshow": {
     "slide_type": "slide"
    }
   },
   "source": [
    "![Imgur](https://i.imgur.com/ZyTw7rQ.png)"
   ]
  },
  {
   "cell_type": "code",
   "execution_count": 17,
   "metadata": {
    "collapsed": true,
    "run_control": {
     "frozen": false,
     "read_only": false
    },
    "slideshow": {
     "slide_type": "slide"
    }
   },
   "outputs": [],
   "source": [
    "sdm.sim <- function(n,src.dist=NULL,param1=NULL,param2=NULL) {\n",
    "   r <- 10000  # Number of replications/samples - DO NOT ADJUST\n",
    "   # This produces a matrix of observations with  \n",
    "   # n columns and r rows. Each row is one sample:\n",
    "   my.samples <- switch(src.dist,\n",
    "\"E\" = matrix(rexp(n*r,param1),r),\n",
    "\"N\" = matrix(rnorm(n*r,param1,param2),r),\n",
    "\"U\" = matrix(runif(n*r,param1,param2),r),\n",
    "\"P\" = matrix(rpois(n*r,param1),r),\n",
    "\"B\" = matrix(rbinom(n*r,param1,param2),r),\n",
    "\"G\" = matrix(rgamma(n*r,param1,param2),r),\n",
    "\"X\" = matrix(rchisq(n*r,param1),r),\n",
    "\"T\" = matrix(rt(n*r,param1),r))\n",
    "   all.sample.sums <- apply(my.samples,1,sum)\n",
    "   all.sample.means <- apply(my.samples,1,mean)   \n",
    "   all.sample.vars <- apply(my.samples,1,var) \n",
    "   par(mfrow=c(2,2))\n",
    "   hist(my.samples[1,],col=\"gray\",main=\"Distribution of One Sample\")\n",
    "   hist(all.sample.sums,col=\"gray\",main=\"Sampling Distribution\\nof\n",
    "the Sum\")\n",
    "   hist(all.sample.means,col=\"gray\",main=\"Sampling Distribution\\nof the Mean\")\n",
    "   hist(all.sample.vars,col=\"gray\",main=\"Sampling Distribution\\nof\n",
    "the Variance\")\n",
    "}"
   ]
  },
  {
   "cell_type": "code",
   "execution_count": 18,
   "metadata": {
    "run_control": {
     "frozen": false,
     "read_only": false
    },
    "slideshow": {
     "slide_type": "slide"
    }
   },
   "outputs": [
    {
     "data": {
      "image/png": "[encoded data removed]",
      "text/plain": [
       "Plot with title \"Sampling Distribution\n",
       "of\n",
       "the Variance\""
      ]
     },
     "metadata": {},
     "output_type": "display_data"
    }
   ],
   "source": [
    "sdm.sim(50,src.dist=\"E\",param1=1)\n",
    "#source: https://qualityandinnovation.com/2015/03/30/sampling-distributions-and-central-limit-theorem-in-r/"
   ]
  },
  {
   "cell_type": "markdown",
   "metadata": {
    "slideshow": {
     "slide_type": "slide"
    }
   },
   "source": [
    "![Imgur](https://i.imgur.com/4shGH5I.png)"
   ]
  },
  {
   "cell_type": "markdown",
   "metadata": {
    "slideshow": {
     "slide_type": "slide"
    }
   },
   "source": [
    "## z Score and t Values"
   ]
  },
  {
   "cell_type": "markdown",
   "metadata": {
    "slideshow": {
     "slide_type": "slide"
    }
   },
   "source": [
    "![Imgur](https://i.imgur.com/kqfCUH6.png)"
   ]
  },
  {
   "cell_type": "markdown",
   "metadata": {
    "slideshow": {
     "slide_type": "slide"
    }
   },
   "source": [
    "![Imgur](https://i.imgur.com/Hy8jXsc.png)"
   ]
  }
 ],
 "metadata": {
  "celltoolbar": "Slideshow",
  "hide_input": false,
  "kernelspec": {
   "display_name": "R",
   "language": "R",
   "name": "ir"
  },
  "language_info": {
   "codemirror_mode": "r",
   "file_extension": ".r",
   "mimetype": "text/x-r-source",
   "name": "R",
   "pygments_lexer": "r",
   "version": "3.3.2"
  },
  "nav_menu": {},
  "toc": {
   "navigate_menu": true,
   "number_sections": true,
   "sideBar": true,
   "threshold": 6,
   "toc_cell": true,
   "toc_section_display": "block",
   "toc_window_display": false
  }
 },
 "nbformat": 4,
 "nbformat_minor": 2
}
