{
 "cells": [
  {
   "cell_type": "markdown",
   "metadata": {},
   "source": [
    "# Regression analysis"
   ]
  },
  {
   "cell_type": "markdown",
   "metadata": {},
   "source": [
    "**Regression analysis** is a statistical tool that attempts to identify correlation between independent variables (one variable or more) and a single dependent variable.   \n",
    "\n",
    "**Correlation** is the degree to which two things change together.   \n",
    "* Any two things are correlated, somewhere between -1 and 1, \n",
    "* 0 meaning there is no correlation at all\n",
    "* positively correlated - a positive change in one (advertising) leads to a positive change in something else (sales).  "
   ]
  },
  {
   "cell_type": "markdown",
   "metadata": {},
   "source": [
    "**Simple linear Regression**     \n",
    "a single independent variable is used to predict the value of a dependent variable  \n",
    "\n",
    "**Multiple linear Regression**  \n",
    "two or more independent variables are used to predict the value of a dependent variable  "
   ]
  },
  {
   "cell_type": "markdown",
   "metadata": {},
   "source": [
    "## Linear Functions and Models  \n",
    "**linear equation** is any pattern of numbers that is increasing or decreasing by the same amount every step of the way.  \n",
    "**slope-intercept form** of the linear equation, `y = mx + b`, where the m value is the slope, and the b value is the y-intercept.  \n",
    "\n",
    "<sub>https://www.zweigmedia.com/RealWorld/tutorialsf0/framesLA.html</sub>  \n",
    "<sub>https://study.com/academy/lesson/what-is-a-linear-equation.html</sub>  "
   ]
  },
  {
   "cell_type": "markdown",
   "metadata": {},
   "source": [
    "## Sum of squares error (SSE)\n",
    "\n",
    "<sub>https://www.zweigmedia.com/tuts/tutRegression.html</sub>"
   ]
  },
  {
   "cell_type": "markdown",
   "metadata": {},
   "source": [
    "## The regression line or The best fit line  \n",
    "<sub>https://www.zweigmedia.com/tuts/tutRegressionb.html</sub>"
   ]
  },
  {
   "cell_type": "markdown",
   "metadata": {},
   "source": [
    "## Coefficient of Determination(R-squared)  &  Adjusted R-squared"
   ]
  },
  {
   "cell_type": "markdown",
   "metadata": {},
   "source": [
    "<sub>https://towardsdatascience.com/coefficient-of-determination-r-squared-explained-db32700d924e</sub>"
   ]
  },
  {
   "cell_type": "markdown",
   "metadata": {},
   "source": [
    "## Regression assumptions & Residual analysis"
   ]
  },
  {
   "cell_type": "markdown",
   "metadata": {},
   "source": [
    "<sub>https://www.datacamp.com/community/tutorials/linear-regression-R#coefficients</sub>"
   ]
  }
 ],
 "metadata": {
  "kernelspec": {
   "display_name": "R",
   "language": "R",
   "name": "r"
  },
  "language_info": {
   "codemirror_mode": "r",
   "file_extension": ".r",
   "mimetype": "text/x-r-source",
   "name": "R",
   "pygments_lexer": "r",
   "version": "3.4.1"
  }
 },
 "nbformat": 4,
 "nbformat_minor": 2
}
