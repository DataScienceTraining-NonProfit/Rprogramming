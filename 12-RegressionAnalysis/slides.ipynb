{
 "cells": [
  {
   "cell_type": "markdown",
   "metadata": {},
   "source": [
    "# Regression analysis"
   ]
  },
  {
   "cell_type": "markdown",
   "metadata": {},
   "source": [
    "**Regression analysis** is a statistical tool that attempts to identify correlation between independent variables (one variable or more) and a single dependent variable.   \n",
    "\n",
    "**Correlation** is the degree to which two things change together.   \n",
    "* Any two things are correlated, somewhere between -1 and 1, \n",
    "* 0 meaning there is no correlation at all\n",
    "* positively correlated - a positive change in one (advertising) leads to a positive change in something else (sales).  "
   ]
  },
  {
   "cell_type": "markdown",
   "metadata": {},
   "source": [
    "**Linear Functions and Models  **  \n",
    "**linear equation** is any pattern of numbers that is increasing or decreasing by the same amount every step of the way.  \n",
    "**slope-intercept form** of the linear equation, `y = mx + b`, where the m value is the slope, and the b value is the y-intercept.  \n",
    "\n",
    "<sub>https://www.zweigmedia.com/RealWorld/tutorialsf0/framesLA.html</sub>  \n",
    "<sub>https://study.com/academy/lesson/what-is-a-linear-equation.html</sub>  "
   ]
  },
  {
   "cell_type": "markdown",
   "metadata": {},
   "source": [
    "**Sum of squares error (SSE)**  \n",
    " \n",
    "<sub>https://www.zweigmedia.com/tuts/tutRegression.html</sub>"
   ]
  },
  {
   "cell_type": "markdown",
   "metadata": {},
   "source": [
    "**The regression line or The best fit line  **  \n",
    "<sub>https://www.zweigmedia.com/tuts/tutRegressionb.html</sub>"
   ]
  },
  {
   "cell_type": "markdown",
   "metadata": {},
   "source": [
    "**Coefficient of Determination(R-squared)  &  Adjusted R-squared**  "
   ]
  },
  {
   "cell_type": "markdown",
   "metadata": {},
   "source": [
    "<sub>https://towardsdatascience.com/coefficient-of-determination-r-squared-explained-db32700d924e</sub>"
   ]
  },
  {
   "cell_type": "markdown",
   "metadata": {},
   "source": [
    "**Regression assumptions & Residual analysis**  "
   ]
  },
  {
   "cell_type": "markdown",
   "metadata": {},
   "source": [
    "<sub>https://www.datacamp.com/community/tutorials/linear-regression-R#coefficients</sub>"
   ]
  },
  {
   "cell_type": "markdown",
   "metadata": {},
   "source": [
    "## Simple linear Regression  \n",
    "a single independent variable is used to predict the value of a dependent variable  "
   ]
  },
  {
   "cell_type": "code",
   "execution_count": null,
   "metadata": {
    "scrolled": true
   },
   "outputs": [],
   "source": [
    "# Importing the dataset\n",
    "dataset = read.csv('data/income.csv')\n",
    "\n",
    "# Splitting the dataset into the Training set and Test set\n",
    "install.packages('caTools')\n",
    "library(caTools)\n",
    "set.seed(123)\n",
    "split = sample.split(dataset$income, SplitRatio = 2/3)\n",
    "training_set = subset(dataset, split == TRUE)\n",
    "test_set = subset(dataset, split == FALSE)\n",
    "\n",
    "# Feature Scaling\n",
    "# training_set = scale(training_set)\n",
    "# test_set = scale(test_set)\n",
    "\n",
    "# Fitting Simple Linear Regression to the Training set\n",
    "regressor = lm(formula = income ~ Exp,\n",
    "               data = training_set)\n",
    "\n",
    "# Predicting the Test set results\n",
    "y_pred = predict(regressor, newdata = test_set)\n",
    "\n",
    "# Visualising the Training set results\n",
    "library(ggplot2)\n",
    "ggplot() +\n",
    "  geom_point(aes(x = training_set$Exp, y = training_set$income),\n",
    "             colour = 'red') +\n",
    "  geom_line(aes(x = training_set$Exp, y = predict(regressor, newdata = training_set)),\n",
    "            colour = 'blue') +\n",
    "  ggtitle('income vs Experience (Training set)') +\n",
    "  xlab('Years of experience') +\n",
    "  ylab('income')\n",
    "\n",
    "# Visualising the Test set results\n",
    "library(ggplot2)\n",
    "ggplot() +\n",
    "  geom_point(aes(x = test_set$Exp, y = test_set$income),\n",
    "             colour = 'red') +\n",
    "  geom_line(aes(x = training_set$Exp, y = predict(regressor, newdata = training_set)),\n",
    "            colour = 'blue') +\n",
    "  ggtitle('income vs Experience (Test set)') +\n",
    "  xlab('Years of experience') +\n",
    "  ylab('income')"
   ]
  },
  {
   "cell_type": "markdown",
   "metadata": {},
   "source": [
    "## Multiple linear Regression\n",
    "two or more independent variables are used to predict the value of a dependent variable  "
   ]
  },
  {
   "cell_type": "code",
   "execution_count": null,
   "metadata": {},
   "outputs": [],
   "source": [
    "# Importing the dataset\n",
    "dataset = read.csv('data/companies.csv')\n",
    "\n",
    "# Encoding categorical data\n",
    "dataset$State = factor(dataset$State,\n",
    "                       levels = c('New York', 'California', 'Florida'),\n",
    "                       labels = c(1, 2, 3))\n",
    "\n",
    "# Splitting the dataset into the Training set and Test set\n",
    "# install.packages('caTools')\n",
    "library(caTools)\n",
    "set.seed(123)\n",
    "split = sample.split(dataset$Profit, SplitRatio = 0.8)\n",
    "training_set = subset(dataset, split == TRUE)\n",
    "test_set = subset(dataset, split == FALSE)\n",
    "\n",
    "# Feature Scaling\n",
    "# training_set = scale(training_set)\n",
    "# test_set = scale(test_set)\n",
    "\n",
    "# Fitting Multiple Linear Regression to the Training set\n",
    "regressor = lm(formula = Profit ~ .,\n",
    "               data = training_set)\n",
    "\n",
    "# Predicting the Test set results\n",
    "y_pred = predict(regressor, newdata = test_set)"
   ]
  },
  {
   "cell_type": "markdown",
   "metadata": {},
   "source": [
    "# Artificial Neural Networks"
   ]
  },
  {
   "cell_type": "code",
   "execution_count": null,
   "metadata": {},
   "outputs": [],
   "source": [
    "install.packages('neuralnet')\n",
    "library(\"neuralnet\")\n",
    " \n",
    "#Going to create a neural network to perform sqare rooting\n",
    "#Type ?neuralnet for more information on the neuralnet library\n",
    " \n",
    "#Generate 50 random numbers uniformly distributed between 0 and 100\n",
    "#And store them as a dataframe\n",
    "traininginput <-  as.data.frame(runif(50, min=0, max=100))\n",
    "trainingoutput <- sqrt(traininginput)\n",
    " \n",
    "#Column bind the data into one variable\n",
    "trainingdata <- cbind(traininginput,trainingoutput)\n",
    "colnames(trainingdata) <- c(\"Input\",\"Output\")\n",
    " \n",
    "#Train the neural network\n",
    "#Going to have 10 hidden layers\n",
    "#Threshold is a numeric value specifying the threshold for the partial\n",
    "#derivatives of the error function as stopping criteria.\n",
    "net.sqrt <- neuralnet(Output~Input,trainingdata, hidden=10, threshold=0.01)\n",
    "print(net.sqrt)\n",
    " \n",
    "#Plot the neural network\n",
    "plot(net.sqrt)\n",
    " \n",
    "#Test the neural network on some training data\n",
    "testdata <- as.data.frame((1:10)^2) #Generate some squared numbers\n",
    "net.results <- compute(net.sqrt, testdata) #Run them through the neural network\n",
    " \n",
    "#Lets see what properties net.sqrt has\n",
    "ls(net.results)\n",
    " \n",
    "#Lets see the results\n",
    "print(net.results$net.result)\n",
    " \n",
    "#Lets display a better version of the results\n",
    "cleanoutput <- cbind(testdata,sqrt(testdata),\n",
    "                         as.data.frame(net.results$net.result))\n",
    "colnames(cleanoutput) <- c(\"Input\",\"Expected Output\",\"Neural Net Output\")\n",
    "print(cleanoutput)"
   ]
  },
  {
   "cell_type": "markdown",
   "metadata": {},
   "source": [
    "<span style=\"color:red; font-family:Comic Sans MS\">**R Code pulled from:** </span>  \n",
    "<a href=\"http://gekkoquant.com/2012/05/26/neural-networks-with-r-simple-example/\" target=\"_blank\">http://gekkoquant.com/2012/05/26/neural-networks-with-r-simple-example/</a>  \n",
    "<span style=\"color:red; font-family:Comic Sans MS\">**Sources & References** </span>     \n",
    "<a href=\"https://gl4l.greatlearning.in/building-artificial-neural-networks-using-r/\" target=\"_blank\">https://gl4l.greatlearning.in/building-artificial-neural-networks-using-r/</a>  \n",
    "<span style=\"color:red; font-family:Comic Sans MS\">Further Resources: </span>     \n",
    "<a href=\"http://www.michaeljgrogan.com/neural-network-modelling-neuralnet-r/\" target=\"_blank\">http://www.michaeljgrogan.com/neural-network-modelling-neuralnet-r/</a>  \n",
    "\n"
   ]
  }
 ],
 "metadata": {
  "kernelspec": {
   "display_name": "R",
   "language": "R",
   "name": "ir"
  },
  "language_info": {
   "codemirror_mode": "r",
   "file_extension": ".r",
   "mimetype": "text/x-r-source",
   "name": "R",
   "pygments_lexer": "r",
   "version": "3.4.3"
  },
  "toc": {
   "base_numbering": 1,
   "nav_menu": {},
   "number_sections": true,
   "sideBar": true,
   "skip_h1_title": false,
   "title_cell": "Table of Contents",
   "title_sidebar": "Contents",
   "toc_cell": false,
   "toc_position": {},
   "toc_section_display": true,
   "toc_window_display": false
  }
 },
 "nbformat": 4,
 "nbformat_minor": 2
}
