{
 "cells": [
  {
   "cell_type": "markdown",
   "metadata": {
    "collapsed": true
   },
   "source": [
    "## lubridate"
   ]
  },
  {
   "cell_type": "markdown",
   "metadata": {
    "collapsed": true
   },
   "source": [
    "## stringr"
   ]
  },
  {
   "cell_type": "markdown",
   "metadata": {
    "collapsed": true
   },
   "source": [
    "## sqldf"
   ]
  },
  {
   "cell_type": "markdown",
   "metadata": {
    "collapsed": true
   },
   "source": [
    "## gmodels"
   ]
  },
  {
   "cell_type": "markdown",
   "metadata": {
    "collapsed": true
   },
   "source": [
    "## data.table"
   ]
  },
  {
   "cell_type": "markdown",
   "metadata": {
    "collapsed": true
   },
   "source": [
    "## tidyr"
   ]
  },
  {
   "cell_type": "markdown",
   "metadata": {},
   "source": [
    "### tidy data"
   ]
  },
  {
   "cell_type": "markdown",
   "metadata": {},
   "source": [
    "* Each variable in the data set is placed in its own column  \n",
    "* Each observation is placed in its own row  \n",
    "* Each value is placed in its own cell  \n",
    "  \n",
    "Hadley Wickham's journal of statistical software paper:  \n",
    "https://vita.had.co.nz/papers/tidy-data.pdf  "
   ]
  },
  {
   "cell_type": "markdown",
   "metadata": {},
   "source": [
    "![Imgur](https://i.imgur.com/gqMIs85.jpg?2)"
   ]
  },
  {
   "cell_type": "markdown",
   "metadata": {
    "run_control": {
     "marked": false
    }
   },
   "source": [
    "### Tidyverse\n",
    "**Tools that work together to transform, analyze and visualize tidy data** "
   ]
  },
  {
   "cell_type": "markdown",
   "metadata": {},
   "source": [
    "**Reshaping data using tidyr package**  \n",
    "The tidyr package, provides 4 functions to help you change the layout of your data set:  \n",
    "  \n",
    "`separate()`: separate one column into multiple  \n",
    "`unite()`: unite multiple columns into one    \n",
    "`gather()`: gather (collapse) columns into rows  \n",
    "`spread()`: spread rows into columns  \n",
    " "
   ]
  },
  {
   "cell_type": "code",
   "execution_count": 3,
   "metadata": {},
   "outputs": [],
   "source": [
    "data <- read.csv(\"data//players.csv\")"
   ]
  },
  {
   "cell_type": "code",
   "execution_count": 7,
   "metadata": {},
   "outputs": [
    {
     "name": "stderr",
     "output_type": "stream",
     "text": [
      "\n",
      "Attaching package: 'tidyr'\n",
      "\n",
      "The following object is masked from 'package:reshape2':\n",
      "\n",
      "    smiths\n",
      "\n"
     ]
    }
   ],
   "source": [
    "library(tidyr)"
   ]
  },
  {
   "cell_type": "code",
   "execution_count": 8,
   "metadata": {},
   "outputs": [
    {
     "data": {
      "text/html": [
       "<table>\n",
       "<thead><tr><th scope=col>First_Name</th><th scope=col>Last_Name</th><th scope=col>Age</th><th scope=col>Home_Town</th></tr></thead>\n",
       "<tbody>\n",
       "\t<tr><td>Ramesh                </td><td>padala                </td><td>28                    </td><td>Vidhyanagar,Hyderabad </td></tr>\n",
       "\t<tr><td>Suresh                </td><td>meruka                </td><td>25                    </td><td>Kazipet, Warangal     </td></tr>\n",
       "\t<tr><td>Shankar               </td><td>kedari                </td><td>32                    </td><td>LIC Colony, Vijayawada</td></tr>\n",
       "</tbody>\n",
       "</table>\n"
      ],
      "text/latex": [
       "\\begin{tabular}{r|llll}\n",
       " First\\_Name & Last\\_Name & Age & Home\\_Town\\\\\n",
       "\\hline\n",
       "\t Ramesh                 & padala                 & 28                     & Vidhyanagar,Hyderabad \\\\\n",
       "\t Suresh                 & meruka                 & 25                     & Kazipet, Warangal     \\\\\n",
       "\t Shankar                & kedari                 & 32                     & LIC Colony, Vijayawada\\\\\n",
       "\\end{tabular}\n"
      ],
      "text/markdown": [
       "\n",
       "First_Name | Last_Name | Age | Home_Town | \n",
       "|---|---|---|\n",
       "| Ramesh                 | padala                 | 28                     | Vidhyanagar,Hyderabad  | \n",
       "| Suresh                 | meruka                 | 25                     | Kazipet, Warangal      | \n",
       "| Shankar                | kedari                 | 32                     | LIC Colony, Vijayawada | \n",
       "\n",
       "\n"
      ],
      "text/plain": [
       "  First_Name Last_Name Age Home_Town             \n",
       "1 Ramesh     padala    28  Vidhyanagar,Hyderabad \n",
       "2 Suresh     meruka    25  Kazipet, Warangal     \n",
       "3 Shankar    kedari    32  LIC Colony, Vijayawada"
      ]
     },
     "metadata": {},
     "output_type": "display_data"
    }
   ],
   "source": [
    "head(data)"
   ]
  },
  {
   "cell_type": "code",
   "execution_count": 9,
   "metadata": {
    "scrolled": false
   },
   "outputs": [
    {
     "data": {
      "text/html": [
       "<table>\n",
       "<thead><tr><th scope=col>First_Name</th><th scope=col>Last_Name</th><th scope=col>Age</th><th scope=col>city</th><th scope=col>state</th></tr></thead>\n",
       "<tbody>\n",
       "\t<tr><td>Ramesh     </td><td>padala     </td><td>28         </td><td>Vidhyanagar</td><td>Hyderabad  </td></tr>\n",
       "\t<tr><td>Suresh     </td><td>meruka     </td><td>25         </td><td>Kazipet    </td><td> Warangal  </td></tr>\n",
       "\t<tr><td>Shankar    </td><td>kedari     </td><td>32         </td><td>LIC Colony </td><td> Vijayawada</td></tr>\n",
       "</tbody>\n",
       "</table>\n"
      ],
      "text/latex": [
       "\\begin{tabular}{r|lllll}\n",
       " First\\_Name & Last\\_Name & Age & city & state\\\\\n",
       "\\hline\n",
       "\t Ramesh      & padala      & 28          & Vidhyanagar & Hyderabad  \\\\\n",
       "\t Suresh      & meruka      & 25          & Kazipet     &  Warangal  \\\\\n",
       "\t Shankar     & kedari      & 32          & LIC Colony  &  Vijayawada\\\\\n",
       "\\end{tabular}\n"
      ],
      "text/markdown": [
       "\n",
       "First_Name | Last_Name | Age | city | state | \n",
       "|---|---|---|\n",
       "| Ramesh      | padala      | 28          | Vidhyanagar | Hyderabad   | \n",
       "| Suresh      | meruka      | 25          | Kazipet     |  Warangal   | \n",
       "| Shankar     | kedari      | 32          | LIC Colony  |  Vijayawada | \n",
       "\n",
       "\n"
      ],
      "text/plain": [
       "  First_Name Last_Name Age city        state      \n",
       "1 Ramesh     padala    28  Vidhyanagar Hyderabad  \n",
       "2 Suresh     meruka    25  Kazipet      Warangal  \n",
       "3 Shankar    kedari    32  LIC Colony   Vijayawada"
      ]
     },
     "metadata": {},
     "output_type": "display_data"
    }
   ],
   "source": [
    "separate(data, Home_Town, c(\"city\", \"state\"), sep=\",\")"
   ]
  },
  {
   "cell_type": "code",
   "execution_count": 10,
   "metadata": {
    "scrolled": true
   },
   "outputs": [
    {
     "data": {
      "text/html": [
       "<table>\n",
       "<thead><tr><th scope=col>Name</th><th scope=col>Age</th><th scope=col>Home_Town</th></tr></thead>\n",
       "<tbody>\n",
       "\t<tr><td>Ramesh padala         </td><td>28                    </td><td>Vidhyanagar,Hyderabad </td></tr>\n",
       "\t<tr><td>Suresh meruka         </td><td>25                    </td><td>Kazipet, Warangal     </td></tr>\n",
       "\t<tr><td>Shankar kedari        </td><td>32                    </td><td>LIC Colony, Vijayawada</td></tr>\n",
       "</tbody>\n",
       "</table>\n"
      ],
      "text/latex": [
       "\\begin{tabular}{r|lll}\n",
       " Name & Age & Home\\_Town\\\\\n",
       "\\hline\n",
       "\t Ramesh padala          & 28                     & Vidhyanagar,Hyderabad \\\\\n",
       "\t Suresh meruka          & 25                     & Kazipet, Warangal     \\\\\n",
       "\t Shankar kedari         & 32                     & LIC Colony, Vijayawada\\\\\n",
       "\\end{tabular}\n"
      ],
      "text/markdown": [
       "\n",
       "Name | Age | Home_Town | \n",
       "|---|---|---|\n",
       "| Ramesh padala          | 28                     | Vidhyanagar,Hyderabad  | \n",
       "| Suresh meruka          | 25                     | Kazipet, Warangal      | \n",
       "| Shankar kedari         | 32                     | LIC Colony, Vijayawada | \n",
       "\n",
       "\n"
      ],
      "text/plain": [
       "  Name           Age Home_Town             \n",
       "1 Ramesh padala  28  Vidhyanagar,Hyderabad \n",
       "2 Suresh meruka  25  Kazipet, Warangal     \n",
       "3 Shankar kedari 32  LIC Colony, Vijayawada"
      ]
     },
     "metadata": {},
     "output_type": "display_data"
    }
   ],
   "source": [
    "unite(data, \"Name\", c(First_Name, Last_Name), sep=\" \")"
   ]
  },
  {
   "cell_type": "code",
   "execution_count": 11,
   "metadata": {},
   "outputs": [],
   "source": [
    "data1 <- read.csv(\"data//homeruns.csv\")"
   ]
  },
  {
   "cell_type": "code",
   "execution_count": 12,
   "metadata": {},
   "outputs": [
    {
     "data": {
      "text/html": [
       "<table>\n",
       "<thead><tr><th scope=col>Player</th><th scope=col>x2015</th><th scope=col>x2014</th><th scope=col>x2013</th></tr></thead>\n",
       "<tbody>\n",
       "\t<tr><td>Mike Trout   </td><td>41           </td><td>36           </td><td>27           </td></tr>\n",
       "\t<tr><td>Bryce Harper </td><td>42           </td><td>13           </td><td>20           </td></tr>\n",
       "\t<tr><td>Jose Bautista</td><td>40           </td><td>35           </td><td>28           </td></tr>\n",
       "</tbody>\n",
       "</table>\n"
      ],
      "text/latex": [
       "\\begin{tabular}{r|llll}\n",
       " Player & x2015 & x2014 & x2013\\\\\n",
       "\\hline\n",
       "\t Mike Trout    & 41            & 36            & 27           \\\\\n",
       "\t Bryce Harper  & 42            & 13            & 20           \\\\\n",
       "\t Jose Bautista & 40            & 35            & 28           \\\\\n",
       "\\end{tabular}\n"
      ],
      "text/markdown": [
       "\n",
       "Player | x2015 | x2014 | x2013 | \n",
       "|---|---|---|\n",
       "| Mike Trout    | 41            | 36            | 27            | \n",
       "| Bryce Harper  | 42            | 13            | 20            | \n",
       "| Jose Bautista | 40            | 35            | 28            | \n",
       "\n",
       "\n"
      ],
      "text/plain": [
       "  Player        x2015 x2014 x2013\n",
       "1 Mike Trout    41    36    27   \n",
       "2 Bryce Harper  42    13    20   \n",
       "3 Jose Bautista 40    35    28   "
      ]
     },
     "metadata": {},
     "output_type": "display_data"
    }
   ],
   "source": [
    "head(data1)"
   ]
  },
  {
   "cell_type": "code",
   "execution_count": 14,
   "metadata": {},
   "outputs": [],
   "source": [
    "data3 <- gather(data1, year, home_runs,  x2015:x2013)"
   ]
  },
  {
   "cell_type": "code",
   "execution_count": 15,
   "metadata": {},
   "outputs": [
    {
     "data": {
      "text/html": [
       "<table>\n",
       "<thead><tr><th scope=col>Player</th><th scope=col>year</th><th scope=col>home_runs</th></tr></thead>\n",
       "<tbody>\n",
       "\t<tr><td>Mike Trout   </td><td>x2015        </td><td>41           </td></tr>\n",
       "\t<tr><td>Bryce Harper </td><td>x2015        </td><td>42           </td></tr>\n",
       "\t<tr><td>Jose Bautista</td><td>x2015        </td><td>40           </td></tr>\n",
       "\t<tr><td>Mike Trout   </td><td>x2014        </td><td>36           </td></tr>\n",
       "\t<tr><td>Bryce Harper </td><td>x2014        </td><td>13           </td></tr>\n",
       "\t<tr><td>Jose Bautista</td><td>x2014        </td><td>35           </td></tr>\n",
       "\t<tr><td>Mike Trout   </td><td>x2013        </td><td>27           </td></tr>\n",
       "\t<tr><td>Bryce Harper </td><td>x2013        </td><td>20           </td></tr>\n",
       "\t<tr><td>Jose Bautista</td><td>x2013        </td><td>28           </td></tr>\n",
       "</tbody>\n",
       "</table>\n"
      ],
      "text/latex": [
       "\\begin{tabular}{r|lll}\n",
       " Player & year & home\\_runs\\\\\n",
       "\\hline\n",
       "\t Mike Trout    & x2015         & 41           \\\\\n",
       "\t Bryce Harper  & x2015         & 42           \\\\\n",
       "\t Jose Bautista & x2015         & 40           \\\\\n",
       "\t Mike Trout    & x2014         & 36           \\\\\n",
       "\t Bryce Harper  & x2014         & 13           \\\\\n",
       "\t Jose Bautista & x2014         & 35           \\\\\n",
       "\t Mike Trout    & x2013         & 27           \\\\\n",
       "\t Bryce Harper  & x2013         & 20           \\\\\n",
       "\t Jose Bautista & x2013         & 28           \\\\\n",
       "\\end{tabular}\n"
      ],
      "text/markdown": [
       "\n",
       "Player | year | home_runs | \n",
       "|---|---|---|---|---|---|---|---|---|\n",
       "| Mike Trout    | x2015         | 41            | \n",
       "| Bryce Harper  | x2015         | 42            | \n",
       "| Jose Bautista | x2015         | 40            | \n",
       "| Mike Trout    | x2014         | 36            | \n",
       "| Bryce Harper  | x2014         | 13            | \n",
       "| Jose Bautista | x2014         | 35            | \n",
       "| Mike Trout    | x2013         | 27            | \n",
       "| Bryce Harper  | x2013         | 20            | \n",
       "| Jose Bautista | x2013         | 28            | \n",
       "\n",
       "\n"
      ],
      "text/plain": [
       "  Player        year  home_runs\n",
       "1 Mike Trout    x2015 41       \n",
       "2 Bryce Harper  x2015 42       \n",
       "3 Jose Bautista x2015 40       \n",
       "4 Mike Trout    x2014 36       \n",
       "5 Bryce Harper  x2014 13       \n",
       "6 Jose Bautista x2014 35       \n",
       "7 Mike Trout    x2013 27       \n",
       "8 Bryce Harper  x2013 20       \n",
       "9 Jose Bautista x2013 28       "
      ]
     },
     "metadata": {},
     "output_type": "display_data"
    }
   ],
   "source": [
    "data3"
   ]
  },
  {
   "cell_type": "code",
   "execution_count": 16,
   "metadata": {
    "scrolled": true
   },
   "outputs": [
    {
     "data": {
      "text/html": [
       "<table>\n",
       "<thead><tr><th scope=col>Player</th><th scope=col>x2013</th><th scope=col>x2014</th><th scope=col>x2015</th></tr></thead>\n",
       "<tbody>\n",
       "\t<tr><td>Bryce Harper </td><td>20           </td><td>13           </td><td>42           </td></tr>\n",
       "\t<tr><td>Jose Bautista</td><td>28           </td><td>35           </td><td>40           </td></tr>\n",
       "\t<tr><td>Mike Trout   </td><td>27           </td><td>36           </td><td>41           </td></tr>\n",
       "</tbody>\n",
       "</table>\n"
      ],
      "text/latex": [
       "\\begin{tabular}{r|llll}\n",
       " Player & x2013 & x2014 & x2015\\\\\n",
       "\\hline\n",
       "\t Bryce Harper  & 20            & 13            & 42           \\\\\n",
       "\t Jose Bautista & 28            & 35            & 40           \\\\\n",
       "\t Mike Trout    & 27            & 36            & 41           \\\\\n",
       "\\end{tabular}\n"
      ],
      "text/markdown": [
       "\n",
       "Player | x2013 | x2014 | x2015 | \n",
       "|---|---|---|\n",
       "| Bryce Harper  | 20            | 13            | 42            | \n",
       "| Jose Bautista | 28            | 35            | 40            | \n",
       "| Mike Trout    | 27            | 36            | 41            | \n",
       "\n",
       "\n"
      ],
      "text/plain": [
       "  Player        x2013 x2014 x2015\n",
       "1 Bryce Harper  20    13    42   \n",
       "2 Jose Bautista 28    35    40   \n",
       "3 Mike Trout    27    36    41   "
      ]
     },
     "metadata": {},
     "output_type": "display_data"
    }
   ],
   "source": [
    "spread(data3, year, home_runs)"
   ]
  },
  {
   "cell_type": "markdown",
   "metadata": {
    "collapsed": true
   },
   "source": [
    "## reshape2"
   ]
  },
  {
   "cell_type": "markdown",
   "metadata": {},
   "source": [
    "![Imgur](https://i.imgur.com/AjpEZ8z.png?1)"
   ]
  },
  {
   "cell_type": "markdown",
   "metadata": {},
   "source": [
    "https://rpubs.com/aaronsaunders/14391  \n",
    "https://www.listendata.com/2016/01/transpose-data-in-r.html  "
   ]
  },
  {
   "cell_type": "markdown",
   "metadata": {
    "collapsed": true
   },
   "source": [
    "## magrittr"
   ]
  },
  {
   "cell_type": "markdown",
   "metadata": {},
   "source": [
    "**piping with %>%**"
   ]
  },
  {
   "cell_type": "markdown",
   "metadata": {
    "collapsed": true
   },
   "source": [
    "## dplyr"
   ]
  },
  {
   "cell_type": "markdown",
   "metadata": {},
   "source": [
    "![Imgur](https://i.imgur.com/DNMxDWh.png?1)"
   ]
  },
  {
   "cell_type": "markdown",
   "metadata": {},
   "source": [
    "https://www.rstudio.com/wp-content/uploads/2015/02/data-wrangling-cheatsheet.pdf  \n",
    "https://ugoproto.github.io/ugo_r_doc/dplyr.pdf  \n",
    "https://rpubs.com/bradleyboehmke/data_wrangling  "
   ]
  }
 ],
 "metadata": {
  "hide_input": false,
  "kernelspec": {
   "display_name": "R",
   "language": "R",
   "name": "ir"
  },
  "language_info": {
   "codemirror_mode": "r",
   "file_extension": ".r",
   "mimetype": "text/x-r-source",
   "name": "R",
   "pygments_lexer": "r",
   "version": "3.4.3"
  },
  "toc": {
   "base_numbering": 1,
   "nav_menu": {},
   "number_sections": true,
   "sideBar": true,
   "skip_h1_title": false,
   "title_cell": "Table of Contents",
   "title_sidebar": "Contents",
   "toc_cell": false,
   "toc_position": {},
   "toc_section_display": true,
   "toc_window_display": false
  }
 },
 "nbformat": 4,
 "nbformat_minor": 2
}
